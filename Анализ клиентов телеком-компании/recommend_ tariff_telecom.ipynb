{
 "cells": [
  {
   "cell_type": "markdown",
   "metadata": {},
   "source": [
    "# Рекомендация тарифов"
   ]
  },
  {
   "cell_type": "markdown",
   "metadata": {},
   "source": [
    "В вашем распоряжении данные о поведении клиентов, которые уже перешли на эти тарифы (из проекта курса «Статистический анализ данных»). Нужно построить модель для задачи классификации, которая выберет подходящий тариф. Предобработка данных не понадобится — вы её уже сделали.\n",
    "\n",
    "Постройте модель с максимально большим значением *accuracy*. Чтобы сдать проект успешно, нужно довести долю правильных ответов по крайней мере до 0.75. Проверьте *accuracy* на тестовой выборке самостоятельно."
   ]
  },
  {
   "cell_type": "markdown",
   "metadata": {},
   "source": [
    "## Изучение файла"
   ]
  },
  {
   "cell_type": "code",
   "execution_count": 1,
   "metadata": {},
   "outputs": [],
   "source": [
    "# импортируем необходимые библиотеки\n",
    "import pandas as pd\n",
    "import numpy as np \n",
    "from sklearn.tree import DecisionTreeClassifier \n",
    "from sklearn.metrics import accuracy_score\n",
    "from sklearn.model_selection import train_test_split \n",
    "from sklearn.ensemble import RandomForestClassifier\n",
    "from sklearn.linear_model import LogisticRegression \n",
    "from sklearn.dummy import DummyClassifier"
   ]
  },
  {
   "cell_type": "code",
   "execution_count": 2,
   "metadata": {},
   "outputs": [
    {
     "name": "stdout",
     "output_type": "stream",
     "text": [
      "(3214, 5)\n",
      "   calls  minutes  messages   mb_used  is_ultra\n",
      "0   40.0   311.90      83.0  19915.42         0\n",
      "1   85.0   516.75      56.0  22696.96         0\n",
      "2   77.0   467.66      86.0  21060.45         0\n",
      "3  106.0   745.53      81.0   8437.39         1\n",
      "4   66.0   418.74       1.0  14502.75         0\n"
     ]
    }
   ],
   "source": [
    "# откроем и изучим файл\n",
    "df = pd.read_csv('/datasets/users_behavior.csv')\n",
    "\n",
    "print(df.shape)\n",
    "print(df.head(5))"
   ]
  },
  {
   "cell_type": "markdown",
   "metadata": {},
   "source": [
    "Данные загружены и изучены. В нашем распоряжении обучающий набор данных и целевой признак, который нужно предсказать по остальным признакам, \n",
    "— `is_ultra` подходящий тариф. Такие задачи относятся к классу «обучение с учителем» (от англ. supervised learning). «Учитель» \n",
    "ставит вопросы (признаки) и указывает ответы (целевой признак). Если целевой признак категориальный, то решается задача классификации."
   ]
  },
  {
   "cell_type": "markdown",
   "metadata": {},
   "source": [
    "## Разбивка данных на выборки"
   ]
  },
  {
   "cell_type": "markdown",
   "metadata": {},
   "source": [
    "Данные нужно разбить на три части: обучающую, валидационную и тестовую. \n",
    "Размеры тестового и валидационного наборов обычно равны. Исходные данные разбивают в соотношении 3:1:1 (60,20,20).\n",
    "Тестовая выборка нужна, чтобы правильно оценить готовую модель."
   ]
  },
  {
   "cell_type": "code",
   "execution_count": 3,
   "metadata": {},
   "outputs": [
    {
     "name": "stdout",
     "output_type": "stream",
     "text": [
      "Размер обучающей выборки: (1928, 5)\n",
      "Размер валидационной выборки: (643, 5)\n",
      "Размер тестовой выборки: (643, 5)\n"
     ]
    }
   ],
   "source": [
    "# разделим исходные данные на обучающую, валидационную и тестовую выборки\n",
    "\n",
    "df_train, df_valid = train_test_split(df, test_size=0.4, random_state=12345)\n",
    "df_valid, df_test = train_test_split(df_valid, test_size=0.5, random_state=12345)\n",
    "\n",
    "print(\"Размер обучающей выборки:\", df_train.shape)\n",
    "print(\"Размер валидационной выборки:\", df_valid.shape)\n",
    "print(\"Размер тестовой выборки:\", df_test.shape)"
   ]
  },
  {
   "cell_type": "markdown",
   "metadata": {},
   "source": [
    "Данные разбиты на три выборки."
   ]
  },
  {
   "cell_type": "markdown",
   "metadata": {},
   "source": [
    "## Исследование модели"
   ]
  },
  {
   "cell_type": "markdown",
   "metadata": {},
   "source": [
    "Объявим четыре переменные и запишим в них:\n",
    "признаки: features_train, features_valid;\n",
    "целевой признак: target_train, target_valid."
   ]
  },
  {
   "cell_type": "code",
   "execution_count": 4,
   "metadata": {},
   "outputs": [
    {
     "name": "stdout",
     "output_type": "stream",
     "text": [
      "(1928, 4)\n",
      "(643, 4)\n"
     ]
    }
   ],
   "source": [
    "features_train = df_train.drop('is_ultra', axis=1)\n",
    "target_train = df_train['is_ultra']\n",
    "features_valid = df_valid.drop('is_ultra', axis=1)\n",
    "target_valid = df_valid['is_ultra']\n",
    "\n",
    "print(features_train.shape)\n",
    "print(features_valid.shape)"
   ]
  },
  {
   "cell_type": "code",
   "execution_count": 5,
   "metadata": {},
   "outputs": [
    {
     "name": "stdout",
     "output_type": "stream",
     "text": [
      "Accuracy лучшей модели решающее дерево на валидационной выборке: 0.7853810264385692\n"
     ]
    }
   ],
   "source": [
    "# модель решающее дерево\n",
    "\n",
    "best_model = None\n",
    "best_result = 0\n",
    "for depth in range(1, 6):\n",
    "\tmodel = DecisionTreeClassifier(random_state=12345, max_depth=depth) # обучите модель с заданной глубиной дерева\n",
    "\tmodel.fit(features_train, target_train) # обучим модель\n",
    "\tresult = model.score(features_valid, target_valid) # посчитаем качество модели\n",
    "\tif result > best_result:\n",
    "\t\tbest_model = model\n",
    "\t\tbest_result = result\n",
    "        \n",
    "print(\"Accuracy лучшей модели решающее дерево на валидационной выборке:\", best_result)"
   ]
  },
  {
   "cell_type": "code",
   "execution_count": 6,
   "metadata": {},
   "outputs": [
    {
     "name": "stdout",
     "output_type": "stream",
     "text": [
      "Accuracy наилучшей модели случайный лес на валидационной выборке: 0.7916018662519441\n"
     ]
    }
   ],
   "source": [
    "# модель случайный лес\n",
    "\n",
    "best_model = None\n",
    "best_result = 0\n",
    "for est in range(10, 51, 10):\n",
    "    model = RandomForestClassifier(random_state=12345, n_estimators=est) # обучим модель с заданным количеством деревьев\n",
    "    model.fit(features_train, target_train) # обучим модель на тренировочной выборке\n",
    "    result = model.score(features_valid, target_valid) # посчитаем качество модели на валидационной выборке\n",
    "    if result > best_result:\n",
    "        best_model = model # сохраним наилучшую модель\n",
    "        best_result = result #  сохраним наилучшее значение метрики accuracy на валидационных данных\n",
    "\n",
    "print(\"Accuracy наилучшей модели случайный лес на валидационной выборке:\", best_result)"
   ]
  },
  {
   "cell_type": "code",
   "execution_count": 7,
   "metadata": {},
   "outputs": [
    {
     "name": "stdout",
     "output_type": "stream",
     "text": [
      "Accuracy модели логистической регрессии на валидационной выборке: 0.7107309486780715\n"
     ]
    }
   ],
   "source": [
    "# логистическая регрессия\n",
    "\n",
    "model = LogisticRegression(random_state=12345) # инициализируйте модель логистической регрессии с параметром random_state=12345\n",
    "model.fit(features_train, target_train) # обучите модель на тренировочной выборке\n",
    "result = model.score(features_valid, target_valid) # получите метрику качества модели на валидационной выборке\n",
    "\n",
    "print(\"Accuracy модели логистической регрессии на валидационной выборке:\", result)"
   ]
  },
  {
   "cell_type": "code",
   "execution_count": 8,
   "metadata": {},
   "outputs": [
    {
     "name": "stdout",
     "output_type": "stream",
     "text": [
      "Accuracy наилучшей модели на валидационной выборке: 0.8087091757387247 Количество деревьев: 40 Максимальная глубина: 10\n"
     ]
    }
   ],
   "source": [
    "# улучшим модель случайного леса, поменяем гипепараметры\n",
    "\n",
    "best_model = None\n",
    "best_result = 0\n",
    "best_est = 0\n",
    "best_depth = 0\n",
    "for est in range(10, 51, 10):\n",
    "    for depth in range (1, 11):\n",
    "        model = RandomForestClassifier(random_state=12345, n_estimators=est, max_depth=depth)\n",
    "        model.fit(features_train, target_train) # обучим модель на тренировочной выборке\n",
    "        predictions_valid = model.predict(features_valid) # получим предсказания модели на валидационной выборке\n",
    "        result = model.score(features_valid, target_valid) \n",
    "        if result > best_result:\n",
    "            best_model = model\n",
    "            best_result = result\n",
    "            best_est = est\n",
    "            best_depth = depth\n",
    "print(\"Accuracy наилучшей модели на валидационной выборке:\", best_result, \"Количество деревьев:\", best_est, \"Максимальная глубина:\", depth)   "
   ]
  },
  {
   "cell_type": "code",
   "execution_count": 9,
   "metadata": {},
   "outputs": [
    {
     "name": "stdout",
     "output_type": "stream",
     "text": [
      "Accuracy наилучшей модели на валидационной выборке: 0.807153965785381 Количество деревьев: 45 Максимальная глубина: 14\n"
     ]
    }
   ],
   "source": [
    "best_model = None\n",
    "best_result = 0\n",
    "best_est = 0\n",
    "best_depth = 0\n",
    "for est in range(5, 100, 10):\n",
    "    for depth in range (1, 15):\n",
    "        model = RandomForestClassifier(random_state=12345, n_estimators=est, max_depth=depth)\n",
    "        model.fit(features_train, target_train) \n",
    "        predictions_valid = model.predict(features_valid) \n",
    "        result = model.score(features_valid, target_valid) \n",
    "        if result > best_result:\n",
    "            best_model = model\n",
    "            best_result = result\n",
    "            best_est = est\n",
    "            best_depth = depth\n",
    "print(\"Accuracy наилучшей модели на валидационной выборке:\", best_result, \"Количество деревьев:\", best_est, \"Максимальная глубина:\", depth)  "
   ]
  },
  {
   "cell_type": "code",
   "execution_count": 10,
   "metadata": {},
   "outputs": [
    {
     "name": "stdout",
     "output_type": "stream",
     "text": [
      "Accuracy наилучшей модели на валидационной выборке: 0.8087091757387247 Количество деревьев: 40 Максимальная глубина: 15\n"
     ]
    }
   ],
   "source": [
    "best_model = None\n",
    "best_result = 0\n",
    "best_est = 0\n",
    "best_depth = 0\n",
    "for est in range(10, 200, 10):\n",
    "    for depth in range (1, 16):\n",
    "        model = RandomForestClassifier(random_state=12345, n_estimators=est, max_depth=depth)\n",
    "        model.fit(features_train, target_train) \n",
    "        predictions_valid = model.predict(features_valid) \n",
    "        result = model.score(features_valid, target_valid) \n",
    "        if result > best_result:\n",
    "            best_model = model\n",
    "            best_result = result\n",
    "            best_est = est\n",
    "            best_depth = depth\n",
    "print(\"Accuracy наилучшей модели на валидационной выборке:\", best_result, \"Количество деревьев:\", best_est, \"Максимальная глубина:\", depth)  "
   ]
  },
  {
   "cell_type": "markdown",
   "metadata": {},
   "source": [
    "Метрики качества оценивают качество работы и выражаются в числовой форме. Метрики качества тесно связаны с исходной задачей классификации. Accuracy не может быть меньше нуля (все ответы неправильные) и больше единицы (все ответы правильные).\n",
    "\n",
    "Проведено исследование моделей: решающее дерево, случайный лес и логистическая регрессия. Самое высокое качество у случайного леса. Accuracy модели случайного леса показала лучший результат. Провели улучшение качества модели случайного леса с помощью изменений гипепараметров."
   ]
  },
  {
   "cell_type": "markdown",
   "metadata": {},
   "source": [
    "## Проверка модели на тестовой выборке"
   ]
  },
  {
   "cell_type": "code",
   "execution_count": 11,
   "metadata": {},
   "outputs": [
    {
     "name": "stdout",
     "output_type": "stream",
     "text": [
      "Accuracy наилучшей модели на валидационной выборке: 0.7962674961119751\n"
     ]
    }
   ],
   "source": [
    "# проведем тестирование модели\n",
    "\n",
    "model = RandomForestClassifier(n_estimators=40, max_depth=10, random_state=12345) #  инициализируем модель с наилучшим значением Accuracy\n",
    "model.fit(features_train, target_train) # обучим модель на тренировочной выборке\n",
    "predictions_valid = model.predict(features_valid) # получим предсказания модели на валидационной выборке\n",
    "\n",
    "result = model.score(features_valid, target_valid) # посчитаем значение Accuracy на валидационной выборке\n",
    "print(\"Accuracy наилучшей модели на валидационной выборке:\", result)"
   ]
  },
  {
   "cell_type": "markdown",
   "metadata": {},
   "source": [
    "Получено значение Accuracy более 0.75. "
   ]
  },
  {
   "cell_type": "markdown",
   "metadata": {},
   "source": [
    "## Проверка модели на адекватность"
   ]
  },
  {
   "cell_type": "code",
   "execution_count": 12,
   "metadata": {},
   "outputs": [
    {
     "name": "stdout",
     "output_type": "stream",
     "text": [
      "0.7060653188180405\n"
     ]
    }
   ],
   "source": [
    "model = DummyClassifier(strategy = \"most_frequent\", random_state = 0)\n",
    "model.fit(features_train, target_train)\n",
    "predictions_valid = model.predict(features_valid)\n",
    "print(accuracy_score(target_valid, predictions_valid))"
   ]
  }
 ],
 "metadata": {
  "ExecuteTimeLog": [
   {
    "duration": 247,
    "start_time": "2022-03-01T19:13:19.851Z"
   },
   {
    "duration": 1293,
    "start_time": "2022-03-01T19:15:00.889Z"
   },
   {
    "duration": 1627,
    "start_time": "2022-03-01T19:15:03.320Z"
   },
   {
    "duration": 2879,
    "start_time": "2022-03-01T19:15:50.030Z"
   },
   {
    "duration": 24,
    "start_time": "2022-03-01T19:17:07.040Z"
   },
   {
    "duration": 216,
    "start_time": "2022-03-01T19:37:14.886Z"
   },
   {
    "duration": 6,
    "start_time": "2022-03-01T19:45:25.677Z"
   },
   {
    "duration": 7,
    "start_time": "2022-03-01T19:47:57.695Z"
   },
   {
    "duration": 8,
    "start_time": "2022-03-01T19:48:32.577Z"
   },
   {
    "duration": 10,
    "start_time": "2022-03-01T19:50:40.064Z"
   },
   {
    "duration": 8,
    "start_time": "2022-03-01T19:51:04.563Z"
   },
   {
    "duration": 10,
    "start_time": "2022-03-01T19:51:34.057Z"
   },
   {
    "duration": 8,
    "start_time": "2022-03-01T19:54:23.782Z"
   },
   {
    "duration": 8,
    "start_time": "2022-03-01T19:55:03.938Z"
   },
   {
    "duration": 9,
    "start_time": "2022-03-01T19:55:43.617Z"
   },
   {
    "duration": 9,
    "start_time": "2022-03-01T19:57:33.301Z"
   },
   {
    "duration": 252,
    "start_time": "2022-03-01T20:21:57.616Z"
   },
   {
    "duration": 5,
    "start_time": "2022-03-01T20:22:25.810Z"
   },
   {
    "duration": 6,
    "start_time": "2022-03-01T20:24:23.265Z"
   },
   {
    "duration": 232,
    "start_time": "2022-03-02T08:47:55.526Z"
   },
   {
    "duration": 1092,
    "start_time": "2022-03-02T09:56:45.514Z"
   },
   {
    "duration": 8,
    "start_time": "2022-03-02T09:56:46.608Z"
   },
   {
    "duration": 6,
    "start_time": "2022-03-02T09:56:46.621Z"
   },
   {
    "duration": 232,
    "start_time": "2022-03-02T09:56:46.628Z"
   },
   {
    "duration": 16,
    "start_time": "2022-03-02T09:59:52.095Z"
   },
   {
    "duration": 3423,
    "start_time": "2022-03-02T10:09:44.542Z"
   },
   {
    "duration": 3435,
    "start_time": "2022-03-02T10:11:16.153Z"
   },
   {
    "duration": 16193,
    "start_time": "2022-03-02T10:12:29.343Z"
   },
   {
    "duration": 33686,
    "start_time": "2022-03-02T10:13:05.528Z"
   },
   {
    "duration": 3565,
    "start_time": "2022-03-02T10:15:01.531Z"
   },
   {
    "duration": 32,
    "start_time": "2022-03-02T10:26:02.004Z"
   },
   {
    "duration": 162175,
    "start_time": "2022-03-02T10:49:30.404Z"
   },
   {
    "duration": 21,
    "start_time": "2022-03-02T11:08:49.191Z"
   },
   {
    "duration": 17121,
    "start_time": "2022-03-02T11:14:44.364Z"
   },
   {
    "duration": 549,
    "start_time": "2022-03-02T11:15:13.705Z"
   },
   {
    "duration": 16958,
    "start_time": "2022-03-02T11:15:44.604Z"
   },
   {
    "duration": 534,
    "start_time": "2022-03-02T11:18:02.576Z"
   },
   {
    "duration": 1016,
    "start_time": "2022-03-02T11:33:32.284Z"
   },
   {
    "duration": 7,
    "start_time": "2022-03-02T11:33:33.302Z"
   },
   {
    "duration": 14,
    "start_time": "2022-03-02T11:33:33.311Z"
   },
   {
    "duration": 543,
    "start_time": "2022-03-02T11:33:33.327Z"
   },
   {
    "duration": 14,
    "start_time": "2022-03-02T11:33:33.871Z"
   },
   {
    "duration": 36,
    "start_time": "2022-03-02T11:33:33.886Z"
   },
   {
    "duration": 18,
    "start_time": "2022-03-02T11:33:33.924Z"
   },
   {
    "duration": 3391,
    "start_time": "2022-03-02T11:33:33.943Z"
   },
   {
    "duration": 395,
    "start_time": "2022-03-02T11:33:37.336Z"
   },
   {
    "duration": 313,
    "start_time": "2022-03-02T11:34:19.381Z"
   },
   {
    "duration": 325,
    "start_time": "2022-03-02T11:35:30.810Z"
   },
   {
    "duration": 128,
    "start_time": "2022-03-02T11:40:05.925Z"
   },
   {
    "duration": 132,
    "start_time": "2022-03-02T11:40:36.835Z"
   },
   {
    "duration": 16330,
    "start_time": "2022-03-02T11:41:08.752Z"
   },
   {
    "duration": 10251,
    "start_time": "2022-03-02T11:41:33.943Z"
   },
   {
    "duration": 9824,
    "start_time": "2022-03-02T11:41:52.818Z"
   },
   {
    "duration": 197,
    "start_time": "2022-03-02T11:47:28.714Z"
   },
   {
    "duration": 215,
    "start_time": "2022-03-02T11:49:29.174Z"
   },
   {
    "duration": 23,
    "start_time": "2022-03-02T11:50:53.060Z"
   },
   {
    "duration": 23,
    "start_time": "2022-03-02T11:51:34.984Z"
   },
   {
    "duration": 531,
    "start_time": "2022-03-02T11:52:00.846Z"
   },
   {
    "duration": 9886,
    "start_time": "2022-03-02T11:54:04.923Z"
   },
   {
    "duration": 3461,
    "start_time": "2022-03-02T11:54:30.532Z"
   },
   {
    "duration": 65,
    "start_time": "2022-03-02T12:15:24.058Z"
   },
   {
    "duration": 178,
    "start_time": "2022-03-02T12:15:32.812Z"
   },
   {
    "duration": 1080,
    "start_time": "2022-03-02T12:15:52.287Z"
   },
   {
    "duration": 9,
    "start_time": "2022-03-02T12:15:53.369Z"
   },
   {
    "duration": 8,
    "start_time": "2022-03-02T12:15:53.380Z"
   },
   {
    "duration": 23,
    "start_time": "2022-03-02T12:15:53.390Z"
   },
   {
    "duration": 529,
    "start_time": "2022-03-02T12:15:53.415Z"
   },
   {
    "duration": 13,
    "start_time": "2022-03-02T12:15:53.946Z"
   },
   {
    "duration": 3369,
    "start_time": "2022-03-02T12:15:53.961Z"
   },
   {
    "duration": 128,
    "start_time": "2022-03-02T12:15:57.332Z"
   },
   {
    "duration": 306,
    "start_time": "2022-03-02T12:15:57.462Z"
   },
   {
    "duration": 101,
    "start_time": "2022-03-02T12:16:33.737Z"
   },
   {
    "duration": 195,
    "start_time": "2022-03-02T12:17:01.461Z"
   },
   {
    "duration": 208,
    "start_time": "2022-03-02T12:17:46.082Z"
   },
   {
    "duration": 62,
    "start_time": "2022-03-02T12:17:58.824Z"
   },
   {
    "duration": 18,
    "start_time": "2022-03-02T12:20:06.838Z"
   },
   {
    "duration": 6,
    "start_time": "2022-03-02T12:20:11.941Z"
   },
   {
    "duration": 70,
    "start_time": "2022-03-02T12:24:21.369Z"
   },
   {
    "duration": 19,
    "start_time": "2022-03-02T12:24:59.776Z"
   },
   {
    "duration": 26,
    "start_time": "2022-03-02T12:26:38.948Z"
   },
   {
    "duration": 522,
    "start_time": "2022-03-02T12:26:55.585Z"
   },
   {
    "duration": 14,
    "start_time": "2022-03-02T12:28:56.059Z"
   },
   {
    "duration": 64,
    "start_time": "2022-03-02T12:29:22.641Z"
   },
   {
    "duration": 3393,
    "start_time": "2022-03-02T12:29:41.923Z"
   },
   {
    "duration": 17933,
    "start_time": "2022-03-02T12:41:02.433Z"
   },
   {
    "duration": 2882,
    "start_time": "2022-03-02T12:42:27.346Z"
   },
   {
    "duration": 172674,
    "start_time": "2022-03-02T12:42:53.753Z"
   },
   {
    "duration": 294278,
    "start_time": "2022-03-02T12:47:28.899Z"
   },
   {
    "duration": 143,
    "start_time": "2022-03-02T13:13:42.565Z"
   },
   {
    "duration": 6,
    "start_time": "2022-03-02T13:13:58.016Z"
   },
   {
    "duration": 123,
    "start_time": "2022-03-02T13:14:06.136Z"
   },
   {
    "duration": 71445,
    "start_time": "2022-03-02T13:16:05.937Z"
   },
   {
    "duration": 141,
    "start_time": "2022-03-02T13:17:40.272Z"
   },
   {
    "duration": 118,
    "start_time": "2022-03-02T13:17:47.927Z"
   },
   {
    "duration": 104805,
    "start_time": "2022-03-02T13:18:07.137Z"
   },
   {
    "duration": 168,
    "start_time": "2022-03-02T13:20:12.224Z"
   },
   {
    "duration": 129,
    "start_time": "2022-03-02T13:20:18.888Z"
   },
   {
    "duration": 72323,
    "start_time": "2022-03-02T13:20:42.706Z"
   },
   {
    "duration": 165,
    "start_time": "2022-03-02T13:21:55.031Z"
   },
   {
    "duration": 127,
    "start_time": "2022-03-02T13:22:20.861Z"
   },
   {
    "duration": 16,
    "start_time": "2022-03-02T13:23:08.042Z"
   },
   {
    "duration": 1021,
    "start_time": "2022-03-02T13:23:16.385Z"
   },
   {
    "duration": 268,
    "start_time": "2022-03-02T13:23:17.408Z"
   },
   {
    "duration": 38,
    "start_time": "2022-03-02T13:23:17.640Z"
   },
   {
    "duration": 37,
    "start_time": "2022-03-02T13:23:17.642Z"
   },
   {
    "duration": 35,
    "start_time": "2022-03-02T13:23:17.645Z"
   },
   {
    "duration": 30,
    "start_time": "2022-03-02T13:23:17.651Z"
   },
   {
    "duration": 28,
    "start_time": "2022-03-02T13:23:17.654Z"
   },
   {
    "duration": 26,
    "start_time": "2022-03-02T13:23:17.657Z"
   },
   {
    "duration": 25,
    "start_time": "2022-03-02T13:23:17.659Z"
   },
   {
    "duration": 24,
    "start_time": "2022-03-02T13:23:17.661Z"
   },
   {
    "duration": 24,
    "start_time": "2022-03-02T13:23:17.662Z"
   },
   {
    "duration": 17,
    "start_time": "2022-03-02T13:24:15.840Z"
   },
   {
    "duration": 1038,
    "start_time": "2022-03-02T13:24:23.350Z"
   },
   {
    "duration": 8,
    "start_time": "2022-03-02T13:24:24.390Z"
   },
   {
    "duration": 9,
    "start_time": "2022-03-02T13:24:24.400Z"
   },
   {
    "duration": 31,
    "start_time": "2022-03-02T13:24:24.411Z"
   },
   {
    "duration": 516,
    "start_time": "2022-03-02T13:24:24.444Z"
   },
   {
    "duration": 273,
    "start_time": "2022-03-02T13:24:24.962Z"
   },
   {
    "duration": 25,
    "start_time": "2022-03-02T13:24:25.212Z"
   },
   {
    "duration": 21,
    "start_time": "2022-03-02T13:24:25.217Z"
   },
   {
    "duration": 18,
    "start_time": "2022-03-02T13:24:25.221Z"
   },
   {
    "duration": 16,
    "start_time": "2022-03-02T13:24:25.224Z"
   },
   {
    "duration": 15,
    "start_time": "2022-03-02T13:24:25.226Z"
   },
   {
    "duration": 19,
    "start_time": "2022-03-02T13:25:36.957Z"
   },
   {
    "duration": 1081,
    "start_time": "2022-03-02T13:25:45.504Z"
   },
   {
    "duration": 7,
    "start_time": "2022-03-02T13:25:46.586Z"
   },
   {
    "duration": 11,
    "start_time": "2022-03-02T13:25:46.595Z"
   },
   {
    "duration": 30,
    "start_time": "2022-03-02T13:25:46.608Z"
   },
   {
    "duration": 532,
    "start_time": "2022-03-02T13:25:46.640Z"
   },
   {
    "duration": 13,
    "start_time": "2022-03-02T13:25:47.174Z"
   },
   {
    "duration": 3370,
    "start_time": "2022-03-02T13:25:47.189Z"
   },
   {
    "duration": 17162,
    "start_time": "2022-03-02T13:25:50.561Z"
   },
   {
    "duration": 70553,
    "start_time": "2022-03-02T13:26:07.725Z"
   },
   {
    "duration": 127,
    "start_time": "2022-03-02T13:27:18.280Z"
   },
   {
    "duration": 6,
    "start_time": "2022-03-02T13:27:18.409Z"
   },
   {
    "duration": 336,
    "start_time": "2022-03-02T19:26:12.153Z"
   },
   {
    "duration": 1419,
    "start_time": "2022-03-02T19:26:27.734Z"
   },
   {
    "duration": 1294,
    "start_time": "2022-03-02T19:26:36.647Z"
   },
   {
    "duration": 22,
    "start_time": "2022-03-02T19:26:37.944Z"
   },
   {
    "duration": 23,
    "start_time": "2022-03-02T19:26:37.969Z"
   },
   {
    "duration": 16,
    "start_time": "2022-03-02T19:26:37.995Z"
   },
   {
    "duration": 35,
    "start_time": "2022-03-02T19:26:38.013Z"
   },
   {
    "duration": 859,
    "start_time": "2022-03-02T19:26:38.051Z"
   },
   {
    "duration": 24,
    "start_time": "2022-03-02T19:26:38.912Z"
   },
   {
    "duration": 5909,
    "start_time": "2022-03-02T19:26:38.940Z"
   },
   {
    "duration": 28375,
    "start_time": "2022-03-02T19:26:44.852Z"
   },
   {
    "duration": 117869,
    "start_time": "2022-03-02T19:27:13.230Z"
   },
   {
    "duration": 200,
    "start_time": "2022-03-02T19:29:11.101Z"
   },
   {
    "duration": 6,
    "start_time": "2022-03-02T19:29:11.304Z"
   },
   {
    "duration": 1269,
    "start_time": "2022-03-02T19:39:11.629Z"
   },
   {
    "duration": 22,
    "start_time": "2022-03-02T19:39:12.901Z"
   },
   {
    "duration": 12,
    "start_time": "2022-03-02T19:39:12.926Z"
   },
   {
    "duration": 9,
    "start_time": "2022-03-02T19:39:12.940Z"
   },
   {
    "duration": 62,
    "start_time": "2022-03-02T19:39:12.951Z"
   },
   {
    "duration": 784,
    "start_time": "2022-03-02T19:39:13.015Z"
   },
   {
    "duration": 30,
    "start_time": "2022-03-02T19:39:13.801Z"
   },
   {
    "duration": 5179,
    "start_time": "2022-03-02T19:39:13.838Z"
   },
   {
    "duration": 1106,
    "start_time": "2022-11-10T11:39:08.807Z"
   },
   {
    "duration": 146,
    "start_time": "2022-11-10T11:39:09.915Z"
   },
   {
    "duration": 8,
    "start_time": "2022-11-10T11:39:10.063Z"
   },
   {
    "duration": 9,
    "start_time": "2022-11-10T11:39:10.073Z"
   },
   {
    "duration": 38,
    "start_time": "2022-11-10T11:39:10.083Z"
   },
   {
    "duration": 552,
    "start_time": "2022-11-10T11:39:10.123Z"
   },
   {
    "duration": 24,
    "start_time": "2022-11-10T11:39:10.676Z"
   },
   {
    "duration": 3769,
    "start_time": "2022-11-10T11:39:10.702Z"
   },
   {
    "duration": 19469,
    "start_time": "2022-11-10T11:39:14.472Z"
   },
   {
    "duration": 80308,
    "start_time": "2022-11-10T11:39:33.944Z"
   },
   {
    "duration": 144,
    "start_time": "2022-11-10T11:40:54.254Z"
   },
   {
    "duration": 4,
    "start_time": "2022-11-10T11:40:54.400Z"
   }
  ],
  "kernelspec": {
   "display_name": "Python 3 (ipykernel)",
   "language": "python",
   "name": "python3"
  },
  "language_info": {
   "codemirror_mode": {
    "name": "ipython",
    "version": 3
   },
   "file_extension": ".py",
   "mimetype": "text/x-python",
   "name": "python",
   "nbconvert_exporter": "python",
   "pygments_lexer": "ipython3",
   "version": "3.9.5"
  },
  "toc": {
   "base_numbering": 1,
   "nav_menu": {},
   "number_sections": true,
   "sideBar": true,
   "skip_h1_title": true,
   "title_cell": "Table of Contents",
   "title_sidebar": "Contents",
   "toc_cell": false,
   "toc_position": {},
   "toc_section_display": true,
   "toc_window_display": false
  }
 },
 "nbformat": 4,
 "nbformat_minor": 2
}
