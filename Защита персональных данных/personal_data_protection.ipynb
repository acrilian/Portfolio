{
 "cells": [
  {
   "cell_type": "markdown",
   "metadata": {
    "toc": true
   },
   "source": [
    "<h1>Содержание<span class=\"tocSkip\"></span></h1>\n",
    "<div class=\"toc\"><ul class=\"toc-item\"><li><span><a href=\"#Загрузка-данных\" data-toc-modified-id=\"Загрузка-данных-1\"><span class=\"toc-item-num\">1&nbsp;&nbsp;</span>Загрузка данных</a></span></li><li><span><a href=\"#Умножение-матриц\" data-toc-modified-id=\"Умножение-матриц-2\"><span class=\"toc-item-num\">2&nbsp;&nbsp;</span>Умножение матриц</a></span></li><li><span><a href=\"#Алгоритм-преобразования\" data-toc-modified-id=\"Алгоритм-преобразования-3\"><span class=\"toc-item-num\">3&nbsp;&nbsp;</span>Алгоритм преобразования</a></span></li><li><span><a href=\"#Проверка-алгоритма\" data-toc-modified-id=\"Проверка-алгоритма-4\"><span class=\"toc-item-num\">4&nbsp;&nbsp;</span>Проверка алгоритма</a></span></li><li><span><a href=\"#Общий-вывод\" data-toc-modified-id=\"Общий-вывод-5\"><span class=\"toc-item-num\">5&nbsp;&nbsp;</span>Общий вывод</a></span></li><li><span><a href=\"#Чек-лист-проверки\" data-toc-modified-id=\"Чек-лист-проверки-6\"><span class=\"toc-item-num\">6&nbsp;&nbsp;</span>Чек-лист проверки</a></span></li></ul></div>"
   ]
  },
  {
   "cell_type": "markdown",
   "metadata": {},
   "source": [
    "# Защита персональных данных клиентов"
   ]
  },
  {
   "cell_type": "markdown",
   "metadata": {},
   "source": [
    "**Описание проекта**\n",
    "\n",
    "Нужно защитить данные клиентов страховой компании. Разработать такой метод преобразования данных, чтобы по ним было сложно восстановить персональную информацию. Обосновать корректность его работы.\n",
    "\n",
    "**Цель работы**\n",
    "\n",
    "Защитить данные, чтобы при преобразовании качество моделей машинного обучения не ухудшилось. \n",
    "\n",
    "*Примечание:* Подбирать наилучшую модель не требуется."
   ]
  },
  {
   "cell_type": "markdown",
   "metadata": {},
   "source": [
    "## Загрузка данных"
   ]
  },
  {
   "cell_type": "code",
   "execution_count": 1,
   "metadata": {},
   "outputs": [],
   "source": [
    "# импорт библиотек\n",
    "import numpy as np\n",
    "import pandas as pd\n",
    "from sklearn.linear_model import LinearRegression\n",
    "from sklearn.metrics import r2_score"
   ]
  },
  {
   "cell_type": "code",
   "execution_count": 2,
   "metadata": {},
   "outputs": [
    {
     "name": "stdout",
     "output_type": "stream",
     "text": [
      "(5000, 5)\n",
      "<class 'pandas.core.frame.DataFrame'>\n",
      "RangeIndex: 5000 entries, 0 to 4999\n",
      "Data columns (total 5 columns):\n",
      " #   Column             Non-Null Count  Dtype  \n",
      "---  ------             --------------  -----  \n",
      " 0   Пол                5000 non-null   int64  \n",
      " 1   Возраст            5000 non-null   float64\n",
      " 2   Зарплата           5000 non-null   float64\n",
      " 3   Члены семьи        5000 non-null   int64  \n",
      " 4   Страховые выплаты  5000 non-null   int64  \n",
      "dtypes: float64(2), int64(3)\n",
      "memory usage: 195.4 KB\n"
     ]
    },
    {
     "data": {
      "text/html": [
       "<div>\n",
       "<style scoped>\n",
       "    .dataframe tbody tr th:only-of-type {\n",
       "        vertical-align: middle;\n",
       "    }\n",
       "\n",
       "    .dataframe tbody tr th {\n",
       "        vertical-align: top;\n",
       "    }\n",
       "\n",
       "    .dataframe thead th {\n",
       "        text-align: right;\n",
       "    }\n",
       "</style>\n",
       "<table border=\"1\" class=\"dataframe\">\n",
       "  <thead>\n",
       "    <tr style=\"text-align: right;\">\n",
       "      <th></th>\n",
       "      <th>Пол</th>\n",
       "      <th>Возраст</th>\n",
       "      <th>Зарплата</th>\n",
       "      <th>Члены семьи</th>\n",
       "      <th>Страховые выплаты</th>\n",
       "    </tr>\n",
       "  </thead>\n",
       "  <tbody>\n",
       "    <tr>\n",
       "      <th>0</th>\n",
       "      <td>1</td>\n",
       "      <td>41.0</td>\n",
       "      <td>49600.0</td>\n",
       "      <td>1</td>\n",
       "      <td>0</td>\n",
       "    </tr>\n",
       "    <tr>\n",
       "      <th>1</th>\n",
       "      <td>0</td>\n",
       "      <td>46.0</td>\n",
       "      <td>38000.0</td>\n",
       "      <td>1</td>\n",
       "      <td>1</td>\n",
       "    </tr>\n",
       "    <tr>\n",
       "      <th>2</th>\n",
       "      <td>0</td>\n",
       "      <td>29.0</td>\n",
       "      <td>21000.0</td>\n",
       "      <td>0</td>\n",
       "      <td>0</td>\n",
       "    </tr>\n",
       "    <tr>\n",
       "      <th>3</th>\n",
       "      <td>0</td>\n",
       "      <td>21.0</td>\n",
       "      <td>41700.0</td>\n",
       "      <td>2</td>\n",
       "      <td>0</td>\n",
       "    </tr>\n",
       "    <tr>\n",
       "      <th>4</th>\n",
       "      <td>1</td>\n",
       "      <td>28.0</td>\n",
       "      <td>26100.0</td>\n",
       "      <td>0</td>\n",
       "      <td>0</td>\n",
       "    </tr>\n",
       "    <tr>\n",
       "      <th>...</th>\n",
       "      <td>...</td>\n",
       "      <td>...</td>\n",
       "      <td>...</td>\n",
       "      <td>...</td>\n",
       "      <td>...</td>\n",
       "    </tr>\n",
       "    <tr>\n",
       "      <th>4995</th>\n",
       "      <td>0</td>\n",
       "      <td>28.0</td>\n",
       "      <td>35700.0</td>\n",
       "      <td>2</td>\n",
       "      <td>0</td>\n",
       "    </tr>\n",
       "    <tr>\n",
       "      <th>4996</th>\n",
       "      <td>0</td>\n",
       "      <td>34.0</td>\n",
       "      <td>52400.0</td>\n",
       "      <td>1</td>\n",
       "      <td>0</td>\n",
       "    </tr>\n",
       "    <tr>\n",
       "      <th>4997</th>\n",
       "      <td>0</td>\n",
       "      <td>20.0</td>\n",
       "      <td>33900.0</td>\n",
       "      <td>2</td>\n",
       "      <td>0</td>\n",
       "    </tr>\n",
       "    <tr>\n",
       "      <th>4998</th>\n",
       "      <td>1</td>\n",
       "      <td>22.0</td>\n",
       "      <td>32700.0</td>\n",
       "      <td>3</td>\n",
       "      <td>0</td>\n",
       "    </tr>\n",
       "    <tr>\n",
       "      <th>4999</th>\n",
       "      <td>1</td>\n",
       "      <td>28.0</td>\n",
       "      <td>40600.0</td>\n",
       "      <td>1</td>\n",
       "      <td>0</td>\n",
       "    </tr>\n",
       "  </tbody>\n",
       "</table>\n",
       "<p>5000 rows × 5 columns</p>\n",
       "</div>"
      ],
      "text/plain": [
       "      Пол  Возраст  Зарплата  Члены семьи  Страховые выплаты\n",
       "0       1     41.0   49600.0            1                  0\n",
       "1       0     46.0   38000.0            1                  1\n",
       "2       0     29.0   21000.0            0                  0\n",
       "3       0     21.0   41700.0            2                  0\n",
       "4       1     28.0   26100.0            0                  0\n",
       "...   ...      ...       ...          ...                ...\n",
       "4995    0     28.0   35700.0            2                  0\n",
       "4996    0     34.0   52400.0            1                  0\n",
       "4997    0     20.0   33900.0            2                  0\n",
       "4998    1     22.0   32700.0            3                  0\n",
       "4999    1     28.0   40600.0            1                  0\n",
       "\n",
       "[5000 rows x 5 columns]"
      ]
     },
     "execution_count": 2,
     "metadata": {},
     "output_type": "execute_result"
    }
   ],
   "source": [
    "# загрузим данные\n",
    "data = pd.read_csv('/datasets/insurance.csv')\n",
    "\n",
    "# изучим файл\n",
    "print(data.shape)\n",
    "data.info()\n",
    "\n",
    "data"
   ]
  },
  {
   "cell_type": "code",
   "execution_count": 3,
   "metadata": {},
   "outputs": [
    {
     "data": {
      "text/plain": [
       "153"
      ]
     },
     "execution_count": 3,
     "metadata": {},
     "output_type": "execute_result"
    }
   ],
   "source": [
    "# проверим дубликаты\n",
    "data.duplicated().sum()"
   ]
  },
  {
   "cell_type": "markdown",
   "metadata": {},
   "source": [
    "<div style=\"border:solid green 2px; padding: 20px\">\n",
    "    \n",
    "Данные загружены и изучены.\n",
    "Набор данных находится в файле /datasets/insurance.csv.\n",
    "    \n",
    "- Признаки: пол, возраст и зарплата застрахованного, количество членов его семьи.\n",
    "- Целевой признак: количество страховых выплат клиенту за последние 5 лет.  \n",
    "    \n",
    "Пропусков в данных не обнаружено.\n",
    "Типы данных соответствуют признакам, которые они описывают. Не будем с ними ничего делать.\n",
    "Присутствуют дубликаты, но мы не будем их удалять, у нас нет такой задачи.    \n",
    "</div>     "
   ]
  },
  {
   "cell_type": "markdown",
   "metadata": {},
   "source": [
    "Разделим данные на признаки и целевой признак и преобразуем в векторы NumPy."
   ]
  },
  {
   "cell_type": "code",
   "execution_count": 4,
   "metadata": {},
   "outputs": [
    {
     "data": {
      "text/plain": [
       "(array([[1.00e+00, 4.10e+01, 4.96e+04, 1.00e+00],\n",
       "        [0.00e+00, 4.60e+01, 3.80e+04, 1.00e+00],\n",
       "        [0.00e+00, 2.90e+01, 2.10e+04, 0.00e+00],\n",
       "        ...,\n",
       "        [0.00e+00, 2.00e+01, 3.39e+04, 2.00e+00],\n",
       "        [1.00e+00, 2.20e+01, 3.27e+04, 3.00e+00],\n",
       "        [1.00e+00, 2.80e+01, 4.06e+04, 1.00e+00]]),\n",
       " array([0, 1, 0, ..., 0, 0, 0]))"
      ]
     },
     "execution_count": 4,
     "metadata": {},
     "output_type": "execute_result"
    }
   ],
   "source": [
    "X = data.drop('Страховые выплаты', axis=1).values\n",
    "y = data['Страховые выплаты'].values\n",
    "X, y"
   ]
  },
  {
   "cell_type": "code",
   "execution_count": 5,
   "metadata": {},
   "outputs": [
    {
     "data": {
      "text/plain": [
       "((5000, 4), (5000,))"
      ]
     },
     "execution_count": 5,
     "metadata": {},
     "output_type": "execute_result"
    }
   ],
   "source": [
    "# проверим размер \n",
    "X.shape, y.shape"
   ]
  },
  {
   "cell_type": "markdown",
   "metadata": {},
   "source": [
    "## Умножение матриц"
   ]
  },
  {
   "cell_type": "markdown",
   "metadata": {},
   "source": [
    "В этом задании вы можете записывать формулы в *Jupyter Notebook.*\n",
    "\n",
    "Чтобы записать формулу внутри текста, окружите её символами доллара \\\\$; если снаружи —  двойными символами \\\\$\\\\$. Эти формулы записываются на языке вёрстки *LaTeX.* \n",
    "\n",
    "Для примера мы записали формулы линейной регрессии. Можете их скопировать и отредактировать, чтобы решить задачу.\n",
    "\n",
    "Работать в *LaTeX* необязательно."
   ]
  },
  {
   "cell_type": "markdown",
   "metadata": {},
   "source": [
    "Обозначения:\n",
    "\n",
    "- $X$ — матрица признаков (нулевой столбец состоит из единиц)\n",
    "\n",
    "- $y$ — вектор целевого признака\n",
    "\n",
    "- $P$ — матрица, на которую умножаются признаки\n",
    "\n",
    "- $w$ — вектор весов линейной регрессии (нулевой элемент равен сдвигу)"
   ]
  },
  {
   "cell_type": "markdown",
   "metadata": {},
   "source": [
    "Предсказания:\n",
    "\n",
    "$$\n",
    "a = Xw\n",
    "$$\n",
    "\n",
    "Задача обучения:\n",
    "\n",
    "$$\n",
    "w = \\arg\\min_w MSE(Xw, y)\n",
    "$$\n",
    "\n",
    "Формула обучения:\n",
    "\n",
    "$$\n",
    "w = (X^T X)^{-1} X^T y\n",
    "$$"
   ]
  },
  {
   "cell_type": "markdown",
   "metadata": {},
   "source": [
    "**Ответ:** качество линейной регрессии не изменится.\n",
    "\n",
    "**Обоснование:** Вместо Х подставим XP\n",
    "\n",
    "$$\n",
    "a_1 = XPw_1\n",
    "$$\n",
    "\n",
    "$$\n",
    "w_1 = ((XP)^T XP)^{-1} XP^T y\n",
    "$$\n",
    "\n",
    "подставим $w_1$ в $a_1$ и преобразуем:\n",
    "\n",
    "$$\n",
    "a_1 = XP((XP)^T XP)^{-1} XP^T y = XP(P^T X^T XP)^{-1} P^T X^T y = XP(X^T XP)^{-1} (P^T)^{-1} P^T X^T y = XPP^{-1} (X^T X)^{-1} (P^T)^{-1} P^T X^T y = XE(X^T X)^{-1} EX^T y = X(X^TX)^{-1} X^T y = Xw\n",
    "$$\n",
    "\n",
    "**Пояснение:**\n",
    "\n",
    "- Раскрываем транспонирование по свойству: $(AB)^T = B^T A^T$\n",
    "- $X^T X$ - квадратная обратимая матрица, $P$ - обратимая по определению, далее раскрываем скобки по свойству $(AB)^{-1} = B^{-1} A^{-1}$ 2 раза\n",
    "- Используя ассоциативность умножения матриц и определение обратной матрицы получим ответ.\n",
    "\n",
    "получаем: $a_1 = a$\n"
   ]
  },
  {
   "cell_type": "markdown",
   "metadata": {},
   "source": [
    "## Алгоритм преобразования"
   ]
  },
  {
   "cell_type": "markdown",
   "metadata": {},
   "source": [
    "**Алгоритм**\n",
    "\n",
    "см. пункт 2"
   ]
  },
  {
   "cell_type": "markdown",
   "metadata": {},
   "source": [
    "**Обоснование**"
   ]
  },
  {
   "cell_type": "markdown",
   "metadata": {},
   "source": [
    "Чтобы зашифровать данные нужно выбрать ключ. Создадим рандомную матрицу размером 4x4."
   ]
  },
  {
   "cell_type": "code",
   "execution_count": 6,
   "metadata": {},
   "outputs": [
    {
     "data": {
      "text/plain": [
       "array([[0.04091899, 0.91938707, 0.28632614, 0.6756833 ],\n",
       "       [0.68137518, 0.43547856, 0.44897152, 0.18494155],\n",
       "       [0.31374209, 0.4174525 , 0.70287982, 0.68383666],\n",
       "       [0.42815772, 0.44375688, 0.7440147 , 0.63565332]])"
      ]
     },
     "execution_count": 6,
     "metadata": {},
     "output_type": "execute_result"
    }
   ],
   "source": [
    "# создаём рандомную матрицу\n",
    "P = np.random.rand(4, 4)\n",
    "P"
   ]
  },
  {
   "cell_type": "code",
   "execution_count": 7,
   "metadata": {},
   "outputs": [
    {
     "data": {
      "text/plain": [
       "array([[ -1.6326885 ,   7.56806958,  26.48722781, -28.96139603],\n",
       "       [  2.0642347 ,  -3.45134048, -18.90596804,  19.14899362],\n",
       "       [  1.18996694,  -9.27537321, -38.51998424,  42.87358783],\n",
       "       [ -1.73415767,   8.16835619,  40.44402227, -42.46974145]])"
      ]
     },
     "execution_count": 7,
     "metadata": {},
     "output_type": "execute_result"
    }
   ],
   "source": [
    "# проверяем ее на обратимость (создаем единичную матрицу)\n",
    "P_inv = np.linalg.inv(P)\n",
    "P_inv"
   ]
  },
  {
   "cell_type": "markdown",
   "metadata": {},
   "source": [
    "Чтобы найти обратную матрицу, вызовим функцию numpy.linalg.inv().\n",
    "Также она поможет проверить матрицу на обратимость: если матрица\n",
    "необратима, будет обнаружена ошибка. Наша матрица обратима.\n",
    "\n",
    "В том числе, чтобы расшифровать данные, ключ – матрица должна иметь обратную матрицу. "
   ]
  },
  {
   "cell_type": "markdown",
   "metadata": {},
   "source": [
    "Шифруем данные, создаем новую матрицу."
   ]
  },
  {
   "cell_type": "code",
   "execution_count": 8,
   "metadata": {},
   "outputs": [
    {
     "data": {
      "text/plain": [
       "(5000, 4)"
      ]
     },
     "execution_count": 8,
     "metadata": {},
     "output_type": "execute_result"
    }
   ],
   "source": [
    "# создаем новую матрицу данных\n",
    "X_transformed = X @ P\n",
    "X_transformed.shape"
   ]
  },
  {
   "cell_type": "code",
   "execution_count": 9,
   "metadata": {},
   "outputs": [
    {
     "data": {
      "text/plain": [
       "array([[15590.01334676, 20724.86184377, 34882.27738494, 33927.19217543],\n",
       "       [11953.97100738, 15883.67083103, 26730.82997174, 25994.93596737],\n",
       "       [ 6608.34386494,  8779.13141161, 14773.49645328, 14365.93312224],\n",
       "       [13098.21053523, 17417.80187984, 29321.00504282, 28521.14371656],\n",
       "       [ 8207.78809074, 10908.62307824, 18358.02090427, 17853.99081966]])"
      ]
     },
     "execution_count": 9,
     "metadata": {},
     "output_type": "execute_result"
    }
   ],
   "source": [
    "X_transformed[:5]"
   ]
  },
  {
   "cell_type": "markdown",
   "metadata": {},
   "source": [
    "## Проверка алгоритма"
   ]
  },
  {
   "cell_type": "code",
   "execution_count": 10,
   "metadata": {},
   "outputs": [],
   "source": [
    "# найдем метрики качества на исходных данных и на преобразованных\n",
    "def predict_and_r2_score(x, y):\n",
    "    lr = LinearRegression()\n",
    "    lr.fit(x, y)\n",
    "    r2 = lr.score(x, y)\n",
    "    return r2"
   ]
  },
  {
   "cell_type": "code",
   "execution_count": 11,
   "metadata": {},
   "outputs": [
    {
     "data": {
      "text/plain": [
       "0.42494550286668"
      ]
     },
     "execution_count": 11,
     "metadata": {},
     "output_type": "execute_result"
    }
   ],
   "source": [
    "# r2 для исходной матрицы признаков\n",
    "r2_1 = predict_and_r2_score(X, y)\n",
    "r2_1"
   ]
  },
  {
   "cell_type": "code",
   "execution_count": 12,
   "metadata": {},
   "outputs": [
    {
     "data": {
      "text/plain": [
       "0.4249455028667841"
      ]
     },
     "execution_count": 12,
     "metadata": {},
     "output_type": "execute_result"
    }
   ],
   "source": [
    "# r2 для преобразованной матрицы \n",
    "r2_2 = predict_and_r2_score(X_transformed, y)\n",
    "r2_2"
   ]
  },
  {
   "cell_type": "code",
   "execution_count": 13,
   "metadata": {},
   "outputs": [
    {
     "data": {
      "text/plain": [
       "True"
      ]
     },
     "execution_count": 13,
     "metadata": {},
     "output_type": "execute_result"
    }
   ],
   "source": [
    "# сравним исходные и преобразованные \n",
    "np.isclose(r2_1, r2_2)"
   ]
  },
  {
   "cell_type": "markdown",
   "metadata": {},
   "source": [
    "<div style=\"border:solid green 2px; padding: 20px\">\n",
    "\n",
    "## Общий вывод\n",
    "    \n",
    "Для достижения цели выполнены следующие действия:\n",
    "    \n",
    "1. Создали рандомную матрицу для шифрования данных.\n",
    "2. Проверили её на обратимость (создали единичную матрицу).\n",
    "3. Создали новую матрицу (зашифровали данные).\n",
    "4. Нашли метрики качества R2 на исходных и преобразованных данных.\n",
    "    \n",
    "После преобразования (шифровании) данных метрика качества R2 осталась без особых изменений. Следовательно, умножение признаков на обратимую матрицу не влияет на качество линейной регрессии, как мы ранее и доказали.\n",
    "    \n",
    "В итоге данные защищены, при преобразовании качество моделей машинного обучения не ухудшилось.    \n",
    "</div> "
   ]
  }
 ],
 "metadata": {
  "ExecuteTimeLog": [
   {
    "duration": 43,
    "start_time": "2022-04-12T08:11:58.631Z"
   },
   {
    "duration": 1404,
    "start_time": "2022-04-12T08:53:46.305Z"
   },
   {
    "duration": 26,
    "start_time": "2022-04-12T08:53:47.712Z"
   },
   {
    "duration": 30,
    "start_time": "2022-04-12T08:54:54.065Z"
   },
   {
    "duration": 6,
    "start_time": "2022-04-12T11:40:49.563Z"
   },
   {
    "duration": 128,
    "start_time": "2022-04-12T11:59:06.199Z"
   },
   {
    "duration": 6,
    "start_time": "2022-04-12T11:59:44.692Z"
   },
   {
    "duration": 6,
    "start_time": "2022-04-12T12:57:10.625Z"
   },
   {
    "duration": 4,
    "start_time": "2022-04-12T12:57:21.686Z"
   },
   {
    "duration": 6,
    "start_time": "2022-04-12T12:57:35.385Z"
   },
   {
    "duration": 3,
    "start_time": "2022-04-12T12:58:15.910Z"
   },
   {
    "duration": 2,
    "start_time": "2022-04-12T13:04:37.659Z"
   },
   {
    "duration": 4,
    "start_time": "2022-04-12T13:04:44.903Z"
   },
   {
    "duration": 4,
    "start_time": "2022-04-12T13:05:54.954Z"
   },
   {
    "duration": 5,
    "start_time": "2022-04-12T13:24:02.204Z"
   },
   {
    "duration": 5,
    "start_time": "2022-04-12T13:30:04.314Z"
   },
   {
    "duration": 4,
    "start_time": "2022-04-12T13:35:20.672Z"
   },
   {
    "duration": 4,
    "start_time": "2022-04-12T13:37:26.384Z"
   },
   {
    "duration": 3,
    "start_time": "2022-04-12T13:41:16.044Z"
   },
   {
    "duration": 88,
    "start_time": "2022-04-12T13:41:32.456Z"
   },
   {
    "duration": 1056,
    "start_time": "2022-04-12T13:41:48.966Z"
   },
   {
    "duration": 34,
    "start_time": "2022-04-12T13:41:50.024Z"
   },
   {
    "duration": 7,
    "start_time": "2022-04-12T13:41:50.060Z"
   },
   {
    "duration": 14,
    "start_time": "2022-04-12T13:41:50.069Z"
   },
   {
    "duration": 35,
    "start_time": "2022-04-12T13:41:50.084Z"
   },
   {
    "duration": 23,
    "start_time": "2022-04-12T13:41:50.120Z"
   },
   {
    "duration": 24,
    "start_time": "2022-04-12T13:41:50.145Z"
   },
   {
    "duration": 18,
    "start_time": "2022-04-12T13:41:50.170Z"
   },
   {
    "duration": 36,
    "start_time": "2022-04-12T13:41:50.190Z"
   },
   {
    "duration": 16,
    "start_time": "2022-04-12T13:41:50.229Z"
   },
   {
    "duration": 177,
    "start_time": "2022-04-12T13:41:50.247Z"
   },
   {
    "duration": 4,
    "start_time": "2022-04-12T13:44:37.510Z"
   },
   {
    "duration": 4,
    "start_time": "2022-04-12T13:44:43.112Z"
   },
   {
    "duration": 3,
    "start_time": "2022-04-12T13:45:00.591Z"
   },
   {
    "duration": 4,
    "start_time": "2022-04-12T13:45:01.194Z"
   },
   {
    "duration": 7,
    "start_time": "2022-04-12T13:45:14.892Z"
   },
   {
    "duration": 94,
    "start_time": "2022-04-12T13:45:35.343Z"
   },
   {
    "duration": 13,
    "start_time": "2022-04-12T13:45:51.872Z"
   },
   {
    "duration": 7,
    "start_time": "2022-04-12T13:57:50.232Z"
   },
   {
    "duration": 50,
    "start_time": "2022-04-12T19:12:27.341Z"
   },
   {
    "duration": 0,
    "start_time": "2022-04-12T19:12:27.393Z"
   },
   {
    "duration": 0,
    "start_time": "2022-04-12T19:12:27.394Z"
   },
   {
    "duration": 0,
    "start_time": "2022-04-12T19:12:27.395Z"
   },
   {
    "duration": 0,
    "start_time": "2022-04-12T19:12:27.397Z"
   },
   {
    "duration": 1197,
    "start_time": "2022-04-12T19:12:47.807Z"
   },
   {
    "duration": 41,
    "start_time": "2022-04-12T19:12:49.006Z"
   },
   {
    "duration": 5,
    "start_time": "2022-04-12T19:12:49.049Z"
   },
   {
    "duration": 8,
    "start_time": "2022-04-12T19:12:49.056Z"
   },
   {
    "duration": 7,
    "start_time": "2022-04-12T19:12:49.065Z"
   },
   {
    "duration": 8,
    "start_time": "2022-04-12T19:12:49.074Z"
   },
   {
    "duration": 9,
    "start_time": "2022-04-12T19:12:49.083Z"
   },
   {
    "duration": 5,
    "start_time": "2022-04-12T19:12:49.135Z"
   },
   {
    "duration": 11,
    "start_time": "2022-04-12T19:12:49.142Z"
   },
   {
    "duration": 81,
    "start_time": "2022-04-12T19:12:49.155Z"
   },
   {
    "duration": 15,
    "start_time": "2022-04-12T19:12:49.237Z"
   },
   {
    "duration": 185,
    "start_time": "2022-04-12T19:12:49.254Z"
   },
   {
    "duration": 97,
    "start_time": "2022-04-12T19:12:49.441Z"
   },
   {
    "duration": 6,
    "start_time": "2022-04-12T20:27:07.865Z"
   },
   {
    "duration": 4,
    "start_time": "2022-04-12T20:27:10.973Z"
   },
   {
    "duration": 4,
    "start_time": "2022-04-12T20:28:21.337Z"
   },
   {
    "duration": 5,
    "start_time": "2022-04-12T20:29:33.934Z"
   },
   {
    "duration": 4,
    "start_time": "2022-04-12T20:30:12.933Z"
   },
   {
    "duration": 14,
    "start_time": "2022-04-12T20:30:36.599Z"
   },
   {
    "duration": 10,
    "start_time": "2022-04-12T20:30:53.487Z"
   },
   {
    "duration": 4,
    "start_time": "2022-04-12T20:31:18.597Z"
   },
   {
    "duration": 4,
    "start_time": "2022-04-12T20:31:50.147Z"
   },
   {
    "duration": 1190,
    "start_time": "2022-04-12T20:53:41.352Z"
   },
   {
    "duration": 44,
    "start_time": "2022-04-12T20:53:42.544Z"
   },
   {
    "duration": 7,
    "start_time": "2022-04-12T20:53:42.589Z"
   },
   {
    "duration": 8,
    "start_time": "2022-04-12T20:53:42.598Z"
   },
   {
    "duration": 7,
    "start_time": "2022-04-12T20:53:42.607Z"
   },
   {
    "duration": 18,
    "start_time": "2022-04-12T20:53:42.616Z"
   },
   {
    "duration": 6,
    "start_time": "2022-04-12T20:53:42.636Z"
   },
   {
    "duration": 8,
    "start_time": "2022-04-12T20:53:42.645Z"
   },
   {
    "duration": 6,
    "start_time": "2022-04-12T20:53:42.735Z"
   },
   {
    "duration": 9,
    "start_time": "2022-04-12T20:53:42.744Z"
   },
   {
    "duration": 100,
    "start_time": "2022-04-12T20:53:42.835Z"
   },
   {
    "duration": 108,
    "start_time": "2022-04-12T20:53:42.937Z"
   },
   {
    "duration": 192,
    "start_time": "2022-04-12T20:53:43.047Z"
   },
   {
    "duration": 176,
    "start_time": "2022-04-13T20:44:20.610Z"
   },
   {
    "duration": 110,
    "start_time": "2022-04-13T20:44:30.384Z"
   },
   {
    "duration": 102,
    "start_time": "2022-04-13T20:44:46.510Z"
   },
   {
    "duration": 65,
    "start_time": "2022-04-13T20:44:52.484Z"
   },
   {
    "duration": 1550,
    "start_time": "2022-04-13T20:45:09.013Z"
   },
   {
    "duration": 52,
    "start_time": "2022-04-13T20:45:10.566Z"
   },
   {
    "duration": 9,
    "start_time": "2022-04-13T20:45:10.624Z"
   },
   {
    "duration": 15,
    "start_time": "2022-04-13T20:45:10.637Z"
   },
   {
    "duration": 16,
    "start_time": "2022-04-13T20:45:10.654Z"
   },
   {
    "duration": 19,
    "start_time": "2022-04-13T20:45:10.673Z"
   },
   {
    "duration": 32,
    "start_time": "2022-04-13T20:45:10.695Z"
   },
   {
    "duration": 92,
    "start_time": "2022-04-13T20:45:10.734Z"
   },
   {
    "duration": 16,
    "start_time": "2022-04-13T20:45:10.829Z"
   },
   {
    "duration": 75,
    "start_time": "2022-04-13T20:45:10.850Z"
   },
   {
    "duration": 19,
    "start_time": "2022-04-13T20:45:10.928Z"
   },
   {
    "duration": 105,
    "start_time": "2022-04-13T20:45:11.027Z"
   },
   {
    "duration": 94,
    "start_time": "2022-04-13T20:45:11.136Z"
   },
   {
    "duration": 2156,
    "start_time": "2022-04-13T20:48:38.067Z"
   },
   {
    "duration": 55,
    "start_time": "2022-04-13T20:48:40.225Z"
   },
   {
    "duration": 9,
    "start_time": "2022-04-13T20:48:40.282Z"
   },
   {
    "duration": 13,
    "start_time": "2022-04-13T20:48:40.294Z"
   },
   {
    "duration": 5,
    "start_time": "2022-04-13T20:48:40.324Z"
   },
   {
    "duration": 12,
    "start_time": "2022-04-13T20:48:40.331Z"
   },
   {
    "duration": 11,
    "start_time": "2022-04-13T20:48:40.345Z"
   },
   {
    "duration": 69,
    "start_time": "2022-04-13T20:48:40.358Z"
   },
   {
    "duration": 97,
    "start_time": "2022-04-13T20:48:40.430Z"
   },
   {
    "duration": 9,
    "start_time": "2022-04-13T20:48:40.530Z"
   },
   {
    "duration": 96,
    "start_time": "2022-04-13T20:48:40.541Z"
   },
   {
    "duration": 92,
    "start_time": "2022-04-13T20:48:40.639Z"
   },
   {
    "duration": 105,
    "start_time": "2022-04-13T20:48:40.733Z"
   },
   {
    "duration": 1436,
    "start_time": "2022-04-14T18:59:35.717Z"
   },
   {
    "duration": 59,
    "start_time": "2022-04-14T18:59:37.156Z"
   },
   {
    "duration": 10,
    "start_time": "2022-04-14T18:59:37.218Z"
   },
   {
    "duration": 20,
    "start_time": "2022-04-14T18:59:37.232Z"
   },
   {
    "duration": 34,
    "start_time": "2022-04-14T18:59:37.255Z"
   },
   {
    "duration": 14,
    "start_time": "2022-04-14T18:59:37.292Z"
   },
   {
    "duration": 12,
    "start_time": "2022-04-14T18:59:37.310Z"
   },
   {
    "duration": 61,
    "start_time": "2022-04-14T18:59:37.326Z"
   },
   {
    "duration": 93,
    "start_time": "2022-04-14T18:59:37.391Z"
   },
   {
    "duration": 10,
    "start_time": "2022-04-14T18:59:37.489Z"
   },
   {
    "duration": 85,
    "start_time": "2022-04-14T18:59:37.502Z"
   },
   {
    "duration": 96,
    "start_time": "2022-04-14T18:59:37.592Z"
   },
   {
    "duration": 192,
    "start_time": "2022-04-14T18:59:37.692Z"
   }
  ],
  "kernelspec": {
   "display_name": "Python 3 (ipykernel)",
   "language": "python",
   "name": "python3"
  },
  "language_info": {
   "codemirror_mode": {
    "name": "ipython",
    "version": 3
   },
   "file_extension": ".py",
   "mimetype": "text/x-python",
   "name": "python",
   "nbconvert_exporter": "python",
   "pygments_lexer": "ipython3",
   "version": "3.9.5"
  },
  "toc": {
   "base_numbering": 1,
   "nav_menu": {},
   "number_sections": true,
   "sideBar": true,
   "skip_h1_title": true,
   "title_cell": "Содержание",
   "title_sidebar": "Contents",
   "toc_cell": true,
   "toc_position": {
    "height": "calc(100% - 180px)",
    "left": "10px",
    "top": "150px",
    "width": "328.352px"
   },
   "toc_section_display": true,
   "toc_window_display": true
  }
 },
 "nbformat": 4,
 "nbformat_minor": 2
}
