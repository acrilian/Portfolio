{
 "cells": [
  {
   "cell_type": "markdown",
   "metadata": {
    "toc": true
   },
   "source": [
    "<h1>Содержание<span class=\"tocSkip\"></span></h1>\n",
    "<div class=\"toc\"><ul class=\"toc-item\"><li><span><a href=\"#Подготовка-данных\" data-toc-modified-id=\"Подготовка-данных-1\"><span class=\"toc-item-num\">1&nbsp;&nbsp;</span>Подготовка данных</a></span><ul class=\"toc-item\"><li><span><a href=\"#Импорт-библиотек\" data-toc-modified-id=\"Импорт-библиотек-1.1\"><span class=\"toc-item-num\">1.1&nbsp;&nbsp;</span>Импорт библиотек</a></span></li><li><span><a href=\"#Данные-обучающей-выборки\" data-toc-modified-id=\"Данные-обучающей-выборки-1.2\"><span class=\"toc-item-num\">1.2&nbsp;&nbsp;</span>Данные обучающей выборки</a></span></li><li><span><a href=\"#Данные-тестовой-выборки\" data-toc-modified-id=\"Данные-тестовой-выборки-1.3\"><span class=\"toc-item-num\">1.3&nbsp;&nbsp;</span>Данные тестовой выборки</a></span></li><li><span><a href=\"#Исходные-данные\" data-toc-modified-id=\"Исходные-данные-1.4\"><span class=\"toc-item-num\">1.4&nbsp;&nbsp;</span>Исходные данные</a></span></li><li><span><a href=\"#Расчет-recovery\" data-toc-modified-id=\"Расчет-recovery-1.5\"><span class=\"toc-item-num\">1.5&nbsp;&nbsp;</span>Расчет recovery</a></span></li><li><span><a href=\"#Предобработка-данных\" data-toc-modified-id=\"Предобработка-данных-1.6\"><span class=\"toc-item-num\">1.6&nbsp;&nbsp;</span>Предобработка данных</a></span></li><li><span><a href=\"#Вывод\" data-toc-modified-id=\"Вывод-1.7\"><span class=\"toc-item-num\">1.7&nbsp;&nbsp;</span>Вывод</a></span></li></ul></li><li><span><a href=\"#Анализ-данных\" data-toc-modified-id=\"Анализ-данных-2\"><span class=\"toc-item-num\">2&nbsp;&nbsp;</span>Анализ данных</a></span><ul class=\"toc-item\"><li><span><a href=\"#Концентрация-металлов-(Au,-Ag,-Pb)-на-различных-этапах-очистки\" data-toc-modified-id=\"Концентрация-металлов-(Au,-Ag,-Pb)-на-различных-этапах-очистки-2.1\"><span class=\"toc-item-num\">2.1&nbsp;&nbsp;</span>Концентрация металлов (Au, Ag, Pb) на различных этапах очистки</a></span></li><li><span><a href=\"#Распределение-размеров-гранул-сырья-на-обучающей-и-тестовой-выборках\" data-toc-modified-id=\"Распределение-размеров-гранул-сырья-на-обучающей-и-тестовой-выборках-2.2\"><span class=\"toc-item-num\">2.2&nbsp;&nbsp;</span>Распределение размеров гранул сырья на обучающей и тестовой выборках</a></span></li><li><span><a href=\"#Вывод\" data-toc-modified-id=\"Вывод-2.3\"><span class=\"toc-item-num\">2.3&nbsp;&nbsp;</span>Вывод</a></span></li></ul></li><li><span><a href=\"#Модель\" data-toc-modified-id=\"Модель-3\"><span class=\"toc-item-num\">3&nbsp;&nbsp;</span>Модель</a></span><ul class=\"toc-item\"><li><span><a href=\"#Вывод\" data-toc-modified-id=\"Вывод-3.1\"><span class=\"toc-item-num\">3.1&nbsp;&nbsp;</span>Вывод</a></span></li></ul></li><li><span><a href=\"#Чек-лист-готовности-проекта\" data-toc-modified-id=\"Чек-лист-готовности-проекта-4\"><span class=\"toc-item-num\">4&nbsp;&nbsp;</span>Чек-лист готовности проекта</a></span></li></ul></div>"
   ]
  },
  {
   "cell_type": "markdown",
   "metadata": {},
   "source": [
    "# Восстановление золота из руды"
   ]
  },
  {
   "cell_type": "markdown",
   "metadata": {},
   "source": [
    "Подготовьте прототип модели машинного обучения для «Цифры». Компания разрабатывает решения для эффективной работы промышленных предприятий.\n",
    "\n",
    "Модель должна предсказать коэффициент восстановления золота из золотосодержащей руды. Используйте данные с параметрами добычи и очистки. \n",
    "\n",
    "Модель поможет оптимизировать производство, чтобы не запускать предприятие с убыточными характеристиками.\n",
    "\n",
    "Вам нужно:\n",
    "\n",
    "1. Подготовить данные;\n",
    "2. Провести исследовательский анализ данных;\n",
    "3. Построить и обучить модель.\n",
    "\n",
    "Чтобы выполнить проект, обращайтесь к библиотекам *pandas*, *matplotlib* и *sklearn.* Вам поможет их документация."
   ]
  },
  {
   "cell_type": "markdown",
   "metadata": {},
   "source": [
    "## Подготовка данных"
   ]
  },
  {
   "cell_type": "markdown",
   "metadata": {},
   "source": [
    "### Импорт библиотек\n"
   ]
  },
  {
   "cell_type": "code",
   "execution_count": 1,
   "metadata": {},
   "outputs": [],
   "source": [
    "# импортируем необходимые библиотеки\n",
    "\n",
    "import os\n",
    "import numpy as np\n",
    "import pandas as pd\n",
    "import seaborn as sns\n",
    "import matplotlib.pyplot as plt\n",
    "from sklearn.metrics import make_scorer, mean_absolute_error\n",
    "from sklearn.metrics import r2_score\n",
    "from sklearn.model_selection import GridSearchCV, cross_val_score, train_test_split, KFold, TimeSeriesSplit\n",
    "from sklearn.linear_model import Ridge, Lasso, LinearRegression\n",
    "from sklearn.preprocessing import PolynomialFeatures\n",
    "from sklearn.ensemble import RandomForestRegressor\n",
    "from sklearn.impute import SimpleImputer\n",
    "from sklearn.preprocessing import StandardScaler\n",
    "from sklearn.pipeline import Pipeline\n",
    "from collections import defaultdict\n",
    "from sklearn.tree import DecisionTreeRegressor\n",
    "from sklearn.dummy import DummyRegressor"
   ]
  },
  {
   "cell_type": "code",
   "execution_count": 2,
   "metadata": {},
   "outputs": [],
   "source": [
    "# загрузим файлы\n",
    "\n",
    "train_df = pd.read_csv(\"/datasets/gold_recovery_train_new.csv\") \n",
    "test_df = pd.read_csv(\"/datasets/gold_recovery_test_new.csv\")\n",
    "full_df = pd.read_csv(\"/datasets/gold_recovery_full_new.csv\")"
   ]
  },
  {
   "cell_type": "markdown",
   "metadata": {},
   "source": [
    "### Данные обучающей выборки"
   ]
  },
  {
   "cell_type": "code",
   "execution_count": 3,
   "metadata": {},
   "outputs": [
    {
     "data": {
      "text/html": [
       "<div>\n",
       "<style scoped>\n",
       "    .dataframe tbody tr th:only-of-type {\n",
       "        vertical-align: middle;\n",
       "    }\n",
       "\n",
       "    .dataframe tbody tr th {\n",
       "        vertical-align: top;\n",
       "    }\n",
       "\n",
       "    .dataframe thead th {\n",
       "        text-align: right;\n",
       "    }\n",
       "</style>\n",
       "<table border=\"1\" class=\"dataframe\">\n",
       "  <thead>\n",
       "    <tr style=\"text-align: right;\">\n",
       "      <th></th>\n",
       "      <th>date</th>\n",
       "      <th>final.output.concentrate_ag</th>\n",
       "      <th>final.output.concentrate_pb</th>\n",
       "      <th>final.output.concentrate_sol</th>\n",
       "      <th>final.output.concentrate_au</th>\n",
       "      <th>final.output.recovery</th>\n",
       "      <th>final.output.tail_ag</th>\n",
       "      <th>final.output.tail_pb</th>\n",
       "      <th>final.output.tail_sol</th>\n",
       "      <th>final.output.tail_au</th>\n",
       "      <th>...</th>\n",
       "      <th>secondary_cleaner.state.floatbank4_a_air</th>\n",
       "      <th>secondary_cleaner.state.floatbank4_a_level</th>\n",
       "      <th>secondary_cleaner.state.floatbank4_b_air</th>\n",
       "      <th>secondary_cleaner.state.floatbank4_b_level</th>\n",
       "      <th>secondary_cleaner.state.floatbank5_a_air</th>\n",
       "      <th>secondary_cleaner.state.floatbank5_a_level</th>\n",
       "      <th>secondary_cleaner.state.floatbank5_b_air</th>\n",
       "      <th>secondary_cleaner.state.floatbank5_b_level</th>\n",
       "      <th>secondary_cleaner.state.floatbank6_a_air</th>\n",
       "      <th>secondary_cleaner.state.floatbank6_a_level</th>\n",
       "    </tr>\n",
       "  </thead>\n",
       "  <tbody>\n",
       "    <tr>\n",
       "      <th>0</th>\n",
       "      <td>2016-01-15 00:00:00</td>\n",
       "      <td>6.055403</td>\n",
       "      <td>9.889648</td>\n",
       "      <td>5.507324</td>\n",
       "      <td>42.192020</td>\n",
       "      <td>70.541216</td>\n",
       "      <td>10.411962</td>\n",
       "      <td>0.895447</td>\n",
       "      <td>16.904297</td>\n",
       "      <td>2.143149</td>\n",
       "      <td>...</td>\n",
       "      <td>14.016835</td>\n",
       "      <td>-502.488007</td>\n",
       "      <td>12.099931</td>\n",
       "      <td>-504.715942</td>\n",
       "      <td>9.925633</td>\n",
       "      <td>-498.310211</td>\n",
       "      <td>8.079666</td>\n",
       "      <td>-500.470978</td>\n",
       "      <td>14.151341</td>\n",
       "      <td>-605.841980</td>\n",
       "    </tr>\n",
       "    <tr>\n",
       "      <th>1</th>\n",
       "      <td>2016-01-15 01:00:00</td>\n",
       "      <td>6.029369</td>\n",
       "      <td>9.968944</td>\n",
       "      <td>5.257781</td>\n",
       "      <td>42.701629</td>\n",
       "      <td>69.266198</td>\n",
       "      <td>10.462676</td>\n",
       "      <td>0.927452</td>\n",
       "      <td>16.634514</td>\n",
       "      <td>2.224930</td>\n",
       "      <td>...</td>\n",
       "      <td>13.992281</td>\n",
       "      <td>-505.503262</td>\n",
       "      <td>11.950531</td>\n",
       "      <td>-501.331529</td>\n",
       "      <td>10.039245</td>\n",
       "      <td>-500.169983</td>\n",
       "      <td>7.984757</td>\n",
       "      <td>-500.582168</td>\n",
       "      <td>13.998353</td>\n",
       "      <td>-599.787184</td>\n",
       "    </tr>\n",
       "    <tr>\n",
       "      <th>2</th>\n",
       "      <td>2016-01-15 02:00:00</td>\n",
       "      <td>6.055926</td>\n",
       "      <td>10.213995</td>\n",
       "      <td>5.383759</td>\n",
       "      <td>42.657501</td>\n",
       "      <td>68.116445</td>\n",
       "      <td>10.507046</td>\n",
       "      <td>0.953716</td>\n",
       "      <td>16.208849</td>\n",
       "      <td>2.257889</td>\n",
       "      <td>...</td>\n",
       "      <td>14.015015</td>\n",
       "      <td>-502.520901</td>\n",
       "      <td>11.912783</td>\n",
       "      <td>-501.133383</td>\n",
       "      <td>10.070913</td>\n",
       "      <td>-500.129135</td>\n",
       "      <td>8.013877</td>\n",
       "      <td>-500.517572</td>\n",
       "      <td>14.028663</td>\n",
       "      <td>-601.427363</td>\n",
       "    </tr>\n",
       "    <tr>\n",
       "      <th>3</th>\n",
       "      <td>2016-01-15 03:00:00</td>\n",
       "      <td>6.047977</td>\n",
       "      <td>9.977019</td>\n",
       "      <td>4.858634</td>\n",
       "      <td>42.689819</td>\n",
       "      <td>68.347543</td>\n",
       "      <td>10.422762</td>\n",
       "      <td>0.883763</td>\n",
       "      <td>16.532835</td>\n",
       "      <td>2.146849</td>\n",
       "      <td>...</td>\n",
       "      <td>14.036510</td>\n",
       "      <td>-500.857308</td>\n",
       "      <td>11.999550</td>\n",
       "      <td>-501.193686</td>\n",
       "      <td>9.970366</td>\n",
       "      <td>-499.201640</td>\n",
       "      <td>7.977324</td>\n",
       "      <td>-500.255908</td>\n",
       "      <td>14.005551</td>\n",
       "      <td>-599.996129</td>\n",
       "    </tr>\n",
       "    <tr>\n",
       "      <th>4</th>\n",
       "      <td>2016-01-15 04:00:00</td>\n",
       "      <td>6.148599</td>\n",
       "      <td>10.142511</td>\n",
       "      <td>4.939416</td>\n",
       "      <td>42.774141</td>\n",
       "      <td>66.927016</td>\n",
       "      <td>10.360302</td>\n",
       "      <td>0.792826</td>\n",
       "      <td>16.525686</td>\n",
       "      <td>2.055292</td>\n",
       "      <td>...</td>\n",
       "      <td>14.027298</td>\n",
       "      <td>-499.838632</td>\n",
       "      <td>11.953070</td>\n",
       "      <td>-501.053894</td>\n",
       "      <td>9.925709</td>\n",
       "      <td>-501.686727</td>\n",
       "      <td>7.894242</td>\n",
       "      <td>-500.356035</td>\n",
       "      <td>13.996647</td>\n",
       "      <td>-601.496691</td>\n",
       "    </tr>\n",
       "    <tr>\n",
       "      <th>...</th>\n",
       "      <td>...</td>\n",
       "      <td>...</td>\n",
       "      <td>...</td>\n",
       "      <td>...</td>\n",
       "      <td>...</td>\n",
       "      <td>...</td>\n",
       "      <td>...</td>\n",
       "      <td>...</td>\n",
       "      <td>...</td>\n",
       "      <td>...</td>\n",
       "      <td>...</td>\n",
       "      <td>...</td>\n",
       "      <td>...</td>\n",
       "      <td>...</td>\n",
       "      <td>...</td>\n",
       "      <td>...</td>\n",
       "      <td>...</td>\n",
       "      <td>...</td>\n",
       "      <td>...</td>\n",
       "      <td>...</td>\n",
       "      <td>...</td>\n",
       "    </tr>\n",
       "    <tr>\n",
       "      <th>14144</th>\n",
       "      <td>2018-08-18 06:59:59</td>\n",
       "      <td>3.224920</td>\n",
       "      <td>11.356233</td>\n",
       "      <td>6.803482</td>\n",
       "      <td>46.713954</td>\n",
       "      <td>73.755150</td>\n",
       "      <td>8.769645</td>\n",
       "      <td>3.141541</td>\n",
       "      <td>10.403181</td>\n",
       "      <td>1.529220</td>\n",
       "      <td>...</td>\n",
       "      <td>23.031497</td>\n",
       "      <td>-501.167942</td>\n",
       "      <td>20.007571</td>\n",
       "      <td>-499.740028</td>\n",
       "      <td>18.006038</td>\n",
       "      <td>-499.834374</td>\n",
       "      <td>13.001114</td>\n",
       "      <td>-500.155694</td>\n",
       "      <td>20.007840</td>\n",
       "      <td>-501.296428</td>\n",
       "    </tr>\n",
       "    <tr>\n",
       "      <th>14145</th>\n",
       "      <td>2018-08-18 07:59:59</td>\n",
       "      <td>3.195978</td>\n",
       "      <td>11.349355</td>\n",
       "      <td>6.862249</td>\n",
       "      <td>46.866780</td>\n",
       "      <td>69.049291</td>\n",
       "      <td>8.897321</td>\n",
       "      <td>3.130493</td>\n",
       "      <td>10.549470</td>\n",
       "      <td>1.612542</td>\n",
       "      <td>...</td>\n",
       "      <td>22.960095</td>\n",
       "      <td>-501.612783</td>\n",
       "      <td>20.035660</td>\n",
       "      <td>-500.251357</td>\n",
       "      <td>17.998535</td>\n",
       "      <td>-500.395178</td>\n",
       "      <td>12.954048</td>\n",
       "      <td>-499.895163</td>\n",
       "      <td>19.968498</td>\n",
       "      <td>-501.041608</td>\n",
       "    </tr>\n",
       "    <tr>\n",
       "      <th>14146</th>\n",
       "      <td>2018-08-18 08:59:59</td>\n",
       "      <td>3.109998</td>\n",
       "      <td>11.434366</td>\n",
       "      <td>6.886013</td>\n",
       "      <td>46.795691</td>\n",
       "      <td>67.002189</td>\n",
       "      <td>8.529606</td>\n",
       "      <td>2.911418</td>\n",
       "      <td>11.115147</td>\n",
       "      <td>1.596616</td>\n",
       "      <td>...</td>\n",
       "      <td>23.015718</td>\n",
       "      <td>-501.711599</td>\n",
       "      <td>19.951231</td>\n",
       "      <td>-499.857027</td>\n",
       "      <td>18.019543</td>\n",
       "      <td>-500.451156</td>\n",
       "      <td>13.023431</td>\n",
       "      <td>-499.914391</td>\n",
       "      <td>19.990885</td>\n",
       "      <td>-501.518452</td>\n",
       "    </tr>\n",
       "    <tr>\n",
       "      <th>14147</th>\n",
       "      <td>2018-08-18 09:59:59</td>\n",
       "      <td>3.367241</td>\n",
       "      <td>11.625587</td>\n",
       "      <td>6.799433</td>\n",
       "      <td>46.408188</td>\n",
       "      <td>65.523246</td>\n",
       "      <td>8.777171</td>\n",
       "      <td>2.819214</td>\n",
       "      <td>10.463847</td>\n",
       "      <td>1.602879</td>\n",
       "      <td>...</td>\n",
       "      <td>23.024963</td>\n",
       "      <td>-501.153409</td>\n",
       "      <td>20.054122</td>\n",
       "      <td>-500.314711</td>\n",
       "      <td>17.979515</td>\n",
       "      <td>-499.272871</td>\n",
       "      <td>12.992404</td>\n",
       "      <td>-499.976268</td>\n",
       "      <td>20.013986</td>\n",
       "      <td>-500.625471</td>\n",
       "    </tr>\n",
       "    <tr>\n",
       "      <th>14148</th>\n",
       "      <td>2018-08-18 10:59:59</td>\n",
       "      <td>3.598375</td>\n",
       "      <td>11.737832</td>\n",
       "      <td>6.717509</td>\n",
       "      <td>46.299438</td>\n",
       "      <td>70.281454</td>\n",
       "      <td>8.406690</td>\n",
       "      <td>2.517518</td>\n",
       "      <td>10.652193</td>\n",
       "      <td>1.389434</td>\n",
       "      <td>...</td>\n",
       "      <td>23.018622</td>\n",
       "      <td>-500.492702</td>\n",
       "      <td>20.020205</td>\n",
       "      <td>-500.220296</td>\n",
       "      <td>17.963512</td>\n",
       "      <td>-499.939490</td>\n",
       "      <td>12.990306</td>\n",
       "      <td>-500.080993</td>\n",
       "      <td>19.990336</td>\n",
       "      <td>-499.191575</td>\n",
       "    </tr>\n",
       "  </tbody>\n",
       "</table>\n",
       "<p>14149 rows × 87 columns</p>\n",
       "</div>"
      ],
      "text/plain": [
       "                      date  final.output.concentrate_ag  \\\n",
       "0      2016-01-15 00:00:00                     6.055403   \n",
       "1      2016-01-15 01:00:00                     6.029369   \n",
       "2      2016-01-15 02:00:00                     6.055926   \n",
       "3      2016-01-15 03:00:00                     6.047977   \n",
       "4      2016-01-15 04:00:00                     6.148599   \n",
       "...                    ...                          ...   \n",
       "14144  2018-08-18 06:59:59                     3.224920   \n",
       "14145  2018-08-18 07:59:59                     3.195978   \n",
       "14146  2018-08-18 08:59:59                     3.109998   \n",
       "14147  2018-08-18 09:59:59                     3.367241   \n",
       "14148  2018-08-18 10:59:59                     3.598375   \n",
       "\n",
       "       final.output.concentrate_pb  final.output.concentrate_sol  \\\n",
       "0                         9.889648                      5.507324   \n",
       "1                         9.968944                      5.257781   \n",
       "2                        10.213995                      5.383759   \n",
       "3                         9.977019                      4.858634   \n",
       "4                        10.142511                      4.939416   \n",
       "...                            ...                           ...   \n",
       "14144                    11.356233                      6.803482   \n",
       "14145                    11.349355                      6.862249   \n",
       "14146                    11.434366                      6.886013   \n",
       "14147                    11.625587                      6.799433   \n",
       "14148                    11.737832                      6.717509   \n",
       "\n",
       "       final.output.concentrate_au  final.output.recovery  \\\n",
       "0                        42.192020              70.541216   \n",
       "1                        42.701629              69.266198   \n",
       "2                        42.657501              68.116445   \n",
       "3                        42.689819              68.347543   \n",
       "4                        42.774141              66.927016   \n",
       "...                            ...                    ...   \n",
       "14144                    46.713954              73.755150   \n",
       "14145                    46.866780              69.049291   \n",
       "14146                    46.795691              67.002189   \n",
       "14147                    46.408188              65.523246   \n",
       "14148                    46.299438              70.281454   \n",
       "\n",
       "       final.output.tail_ag  final.output.tail_pb  final.output.tail_sol  \\\n",
       "0                 10.411962              0.895447              16.904297   \n",
       "1                 10.462676              0.927452              16.634514   \n",
       "2                 10.507046              0.953716              16.208849   \n",
       "3                 10.422762              0.883763              16.532835   \n",
       "4                 10.360302              0.792826              16.525686   \n",
       "...                     ...                   ...                    ...   \n",
       "14144              8.769645              3.141541              10.403181   \n",
       "14145              8.897321              3.130493              10.549470   \n",
       "14146              8.529606              2.911418              11.115147   \n",
       "14147              8.777171              2.819214              10.463847   \n",
       "14148              8.406690              2.517518              10.652193   \n",
       "\n",
       "       final.output.tail_au  ...  secondary_cleaner.state.floatbank4_a_air  \\\n",
       "0                  2.143149  ...                                 14.016835   \n",
       "1                  2.224930  ...                                 13.992281   \n",
       "2                  2.257889  ...                                 14.015015   \n",
       "3                  2.146849  ...                                 14.036510   \n",
       "4                  2.055292  ...                                 14.027298   \n",
       "...                     ...  ...                                       ...   \n",
       "14144              1.529220  ...                                 23.031497   \n",
       "14145              1.612542  ...                                 22.960095   \n",
       "14146              1.596616  ...                                 23.015718   \n",
       "14147              1.602879  ...                                 23.024963   \n",
       "14148              1.389434  ...                                 23.018622   \n",
       "\n",
       "       secondary_cleaner.state.floatbank4_a_level  \\\n",
       "0                                     -502.488007   \n",
       "1                                     -505.503262   \n",
       "2                                     -502.520901   \n",
       "3                                     -500.857308   \n",
       "4                                     -499.838632   \n",
       "...                                           ...   \n",
       "14144                                 -501.167942   \n",
       "14145                                 -501.612783   \n",
       "14146                                 -501.711599   \n",
       "14147                                 -501.153409   \n",
       "14148                                 -500.492702   \n",
       "\n",
       "       secondary_cleaner.state.floatbank4_b_air  \\\n",
       "0                                     12.099931   \n",
       "1                                     11.950531   \n",
       "2                                     11.912783   \n",
       "3                                     11.999550   \n",
       "4                                     11.953070   \n",
       "...                                         ...   \n",
       "14144                                 20.007571   \n",
       "14145                                 20.035660   \n",
       "14146                                 19.951231   \n",
       "14147                                 20.054122   \n",
       "14148                                 20.020205   \n",
       "\n",
       "       secondary_cleaner.state.floatbank4_b_level  \\\n",
       "0                                     -504.715942   \n",
       "1                                     -501.331529   \n",
       "2                                     -501.133383   \n",
       "3                                     -501.193686   \n",
       "4                                     -501.053894   \n",
       "...                                           ...   \n",
       "14144                                 -499.740028   \n",
       "14145                                 -500.251357   \n",
       "14146                                 -499.857027   \n",
       "14147                                 -500.314711   \n",
       "14148                                 -500.220296   \n",
       "\n",
       "       secondary_cleaner.state.floatbank5_a_air  \\\n",
       "0                                      9.925633   \n",
       "1                                     10.039245   \n",
       "2                                     10.070913   \n",
       "3                                      9.970366   \n",
       "4                                      9.925709   \n",
       "...                                         ...   \n",
       "14144                                 18.006038   \n",
       "14145                                 17.998535   \n",
       "14146                                 18.019543   \n",
       "14147                                 17.979515   \n",
       "14148                                 17.963512   \n",
       "\n",
       "       secondary_cleaner.state.floatbank5_a_level  \\\n",
       "0                                     -498.310211   \n",
       "1                                     -500.169983   \n",
       "2                                     -500.129135   \n",
       "3                                     -499.201640   \n",
       "4                                     -501.686727   \n",
       "...                                           ...   \n",
       "14144                                 -499.834374   \n",
       "14145                                 -500.395178   \n",
       "14146                                 -500.451156   \n",
       "14147                                 -499.272871   \n",
       "14148                                 -499.939490   \n",
       "\n",
       "       secondary_cleaner.state.floatbank5_b_air  \\\n",
       "0                                      8.079666   \n",
       "1                                      7.984757   \n",
       "2                                      8.013877   \n",
       "3                                      7.977324   \n",
       "4                                      7.894242   \n",
       "...                                         ...   \n",
       "14144                                 13.001114   \n",
       "14145                                 12.954048   \n",
       "14146                                 13.023431   \n",
       "14147                                 12.992404   \n",
       "14148                                 12.990306   \n",
       "\n",
       "       secondary_cleaner.state.floatbank5_b_level  \\\n",
       "0                                     -500.470978   \n",
       "1                                     -500.582168   \n",
       "2                                     -500.517572   \n",
       "3                                     -500.255908   \n",
       "4                                     -500.356035   \n",
       "...                                           ...   \n",
       "14144                                 -500.155694   \n",
       "14145                                 -499.895163   \n",
       "14146                                 -499.914391   \n",
       "14147                                 -499.976268   \n",
       "14148                                 -500.080993   \n",
       "\n",
       "       secondary_cleaner.state.floatbank6_a_air  \\\n",
       "0                                     14.151341   \n",
       "1                                     13.998353   \n",
       "2                                     14.028663   \n",
       "3                                     14.005551   \n",
       "4                                     13.996647   \n",
       "...                                         ...   \n",
       "14144                                 20.007840   \n",
       "14145                                 19.968498   \n",
       "14146                                 19.990885   \n",
       "14147                                 20.013986   \n",
       "14148                                 19.990336   \n",
       "\n",
       "       secondary_cleaner.state.floatbank6_a_level  \n",
       "0                                     -605.841980  \n",
       "1                                     -599.787184  \n",
       "2                                     -601.427363  \n",
       "3                                     -599.996129  \n",
       "4                                     -601.496691  \n",
       "...                                           ...  \n",
       "14144                                 -501.296428  \n",
       "14145                                 -501.041608  \n",
       "14146                                 -501.518452  \n",
       "14147                                 -500.625471  \n",
       "14148                                 -499.191575  \n",
       "\n",
       "[14149 rows x 87 columns]"
      ]
     },
     "execution_count": 3,
     "metadata": {},
     "output_type": "execute_result"
    }
   ],
   "source": [
    "# посмотрим на данные\n",
    "train_df"
   ]
  },
  {
   "cell_type": "markdown",
   "metadata": {},
   "source": [
    "### Данные тестовой выборки"
   ]
  },
  {
   "cell_type": "code",
   "execution_count": 4,
   "metadata": {},
   "outputs": [
    {
     "data": {
      "text/html": [
       "<div>\n",
       "<style scoped>\n",
       "    .dataframe tbody tr th:only-of-type {\n",
       "        vertical-align: middle;\n",
       "    }\n",
       "\n",
       "    .dataframe tbody tr th {\n",
       "        vertical-align: top;\n",
       "    }\n",
       "\n",
       "    .dataframe thead th {\n",
       "        text-align: right;\n",
       "    }\n",
       "</style>\n",
       "<table border=\"1\" class=\"dataframe\">\n",
       "  <thead>\n",
       "    <tr style=\"text-align: right;\">\n",
       "      <th></th>\n",
       "      <th>date</th>\n",
       "      <th>primary_cleaner.input.sulfate</th>\n",
       "      <th>primary_cleaner.input.depressant</th>\n",
       "      <th>primary_cleaner.input.feed_size</th>\n",
       "      <th>primary_cleaner.input.xanthate</th>\n",
       "      <th>primary_cleaner.state.floatbank8_a_air</th>\n",
       "      <th>primary_cleaner.state.floatbank8_a_level</th>\n",
       "      <th>primary_cleaner.state.floatbank8_b_air</th>\n",
       "      <th>primary_cleaner.state.floatbank8_b_level</th>\n",
       "      <th>primary_cleaner.state.floatbank8_c_air</th>\n",
       "      <th>...</th>\n",
       "      <th>secondary_cleaner.state.floatbank4_a_air</th>\n",
       "      <th>secondary_cleaner.state.floatbank4_a_level</th>\n",
       "      <th>secondary_cleaner.state.floatbank4_b_air</th>\n",
       "      <th>secondary_cleaner.state.floatbank4_b_level</th>\n",
       "      <th>secondary_cleaner.state.floatbank5_a_air</th>\n",
       "      <th>secondary_cleaner.state.floatbank5_a_level</th>\n",
       "      <th>secondary_cleaner.state.floatbank5_b_air</th>\n",
       "      <th>secondary_cleaner.state.floatbank5_b_level</th>\n",
       "      <th>secondary_cleaner.state.floatbank6_a_air</th>\n",
       "      <th>secondary_cleaner.state.floatbank6_a_level</th>\n",
       "    </tr>\n",
       "  </thead>\n",
       "  <tbody>\n",
       "    <tr>\n",
       "      <th>0</th>\n",
       "      <td>2016-09-01 00:59:59</td>\n",
       "      <td>210.800909</td>\n",
       "      <td>14.993118</td>\n",
       "      <td>8.080000</td>\n",
       "      <td>1.005021</td>\n",
       "      <td>1398.981301</td>\n",
       "      <td>-500.225577</td>\n",
       "      <td>1399.144926</td>\n",
       "      <td>-499.919735</td>\n",
       "      <td>1400.102998</td>\n",
       "      <td>...</td>\n",
       "      <td>12.023554</td>\n",
       "      <td>-497.795834</td>\n",
       "      <td>8.016656</td>\n",
       "      <td>-501.289139</td>\n",
       "      <td>7.946562</td>\n",
       "      <td>-432.317850</td>\n",
       "      <td>4.872511</td>\n",
       "      <td>-500.037437</td>\n",
       "      <td>26.705889</td>\n",
       "      <td>-499.709414</td>\n",
       "    </tr>\n",
       "    <tr>\n",
       "      <th>1</th>\n",
       "      <td>2016-09-01 01:59:59</td>\n",
       "      <td>215.392455</td>\n",
       "      <td>14.987471</td>\n",
       "      <td>8.080000</td>\n",
       "      <td>0.990469</td>\n",
       "      <td>1398.777912</td>\n",
       "      <td>-500.057435</td>\n",
       "      <td>1398.055362</td>\n",
       "      <td>-499.778182</td>\n",
       "      <td>1396.151033</td>\n",
       "      <td>...</td>\n",
       "      <td>12.058140</td>\n",
       "      <td>-498.695773</td>\n",
       "      <td>8.130979</td>\n",
       "      <td>-499.634209</td>\n",
       "      <td>7.958270</td>\n",
       "      <td>-525.839648</td>\n",
       "      <td>4.878850</td>\n",
       "      <td>-500.162375</td>\n",
       "      <td>25.019940</td>\n",
       "      <td>-499.819438</td>\n",
       "    </tr>\n",
       "    <tr>\n",
       "      <th>2</th>\n",
       "      <td>2016-09-01 02:59:59</td>\n",
       "      <td>215.259946</td>\n",
       "      <td>12.884934</td>\n",
       "      <td>7.786667</td>\n",
       "      <td>0.996043</td>\n",
       "      <td>1398.493666</td>\n",
       "      <td>-500.868360</td>\n",
       "      <td>1398.860436</td>\n",
       "      <td>-499.764529</td>\n",
       "      <td>1398.075709</td>\n",
       "      <td>...</td>\n",
       "      <td>11.962366</td>\n",
       "      <td>-498.767484</td>\n",
       "      <td>8.096893</td>\n",
       "      <td>-500.827423</td>\n",
       "      <td>8.071056</td>\n",
       "      <td>-500.801673</td>\n",
       "      <td>4.905125</td>\n",
       "      <td>-499.828510</td>\n",
       "      <td>24.994862</td>\n",
       "      <td>-500.622559</td>\n",
       "    </tr>\n",
       "    <tr>\n",
       "      <th>3</th>\n",
       "      <td>2016-09-01 03:59:59</td>\n",
       "      <td>215.336236</td>\n",
       "      <td>12.006805</td>\n",
       "      <td>7.640000</td>\n",
       "      <td>0.863514</td>\n",
       "      <td>1399.618111</td>\n",
       "      <td>-498.863574</td>\n",
       "      <td>1397.440120</td>\n",
       "      <td>-499.211024</td>\n",
       "      <td>1400.129303</td>\n",
       "      <td>...</td>\n",
       "      <td>12.033091</td>\n",
       "      <td>-498.350935</td>\n",
       "      <td>8.074946</td>\n",
       "      <td>-499.474407</td>\n",
       "      <td>7.897085</td>\n",
       "      <td>-500.868509</td>\n",
       "      <td>4.931400</td>\n",
       "      <td>-499.963623</td>\n",
       "      <td>24.948919</td>\n",
       "      <td>-498.709987</td>\n",
       "    </tr>\n",
       "    <tr>\n",
       "      <th>4</th>\n",
       "      <td>2016-09-01 04:59:59</td>\n",
       "      <td>199.099327</td>\n",
       "      <td>10.682530</td>\n",
       "      <td>7.530000</td>\n",
       "      <td>0.805575</td>\n",
       "      <td>1401.268123</td>\n",
       "      <td>-500.808305</td>\n",
       "      <td>1398.128818</td>\n",
       "      <td>-499.504543</td>\n",
       "      <td>1402.172226</td>\n",
       "      <td>...</td>\n",
       "      <td>12.025367</td>\n",
       "      <td>-500.786497</td>\n",
       "      <td>8.054678</td>\n",
       "      <td>-500.397500</td>\n",
       "      <td>8.107890</td>\n",
       "      <td>-509.526725</td>\n",
       "      <td>4.957674</td>\n",
       "      <td>-500.360026</td>\n",
       "      <td>25.003331</td>\n",
       "      <td>-500.856333</td>\n",
       "    </tr>\n",
       "    <tr>\n",
       "      <th>...</th>\n",
       "      <td>...</td>\n",
       "      <td>...</td>\n",
       "      <td>...</td>\n",
       "      <td>...</td>\n",
       "      <td>...</td>\n",
       "      <td>...</td>\n",
       "      <td>...</td>\n",
       "      <td>...</td>\n",
       "      <td>...</td>\n",
       "      <td>...</td>\n",
       "      <td>...</td>\n",
       "      <td>...</td>\n",
       "      <td>...</td>\n",
       "      <td>...</td>\n",
       "      <td>...</td>\n",
       "      <td>...</td>\n",
       "      <td>...</td>\n",
       "      <td>...</td>\n",
       "      <td>...</td>\n",
       "      <td>...</td>\n",
       "      <td>...</td>\n",
       "    </tr>\n",
       "    <tr>\n",
       "      <th>5285</th>\n",
       "      <td>2017-12-31 19:59:59</td>\n",
       "      <td>173.957757</td>\n",
       "      <td>15.963399</td>\n",
       "      <td>8.070000</td>\n",
       "      <td>0.896701</td>\n",
       "      <td>1401.930554</td>\n",
       "      <td>-499.728848</td>\n",
       "      <td>1401.441445</td>\n",
       "      <td>-499.193423</td>\n",
       "      <td>1399.810313</td>\n",
       "      <td>...</td>\n",
       "      <td>13.995957</td>\n",
       "      <td>-500.157454</td>\n",
       "      <td>12.069155</td>\n",
       "      <td>-499.673279</td>\n",
       "      <td>7.977259</td>\n",
       "      <td>-499.516126</td>\n",
       "      <td>5.933319</td>\n",
       "      <td>-499.965973</td>\n",
       "      <td>8.987171</td>\n",
       "      <td>-499.755909</td>\n",
       "    </tr>\n",
       "    <tr>\n",
       "      <th>5286</th>\n",
       "      <td>2017-12-31 20:59:59</td>\n",
       "      <td>172.910270</td>\n",
       "      <td>16.002605</td>\n",
       "      <td>8.070000</td>\n",
       "      <td>0.896519</td>\n",
       "      <td>1447.075722</td>\n",
       "      <td>-494.716823</td>\n",
       "      <td>1448.851892</td>\n",
       "      <td>-465.963026</td>\n",
       "      <td>1443.890424</td>\n",
       "      <td>...</td>\n",
       "      <td>16.749781</td>\n",
       "      <td>-496.031539</td>\n",
       "      <td>13.365371</td>\n",
       "      <td>-499.122723</td>\n",
       "      <td>9.288553</td>\n",
       "      <td>-496.892967</td>\n",
       "      <td>7.372897</td>\n",
       "      <td>-499.942956</td>\n",
       "      <td>8.986832</td>\n",
       "      <td>-499.903761</td>\n",
       "    </tr>\n",
       "    <tr>\n",
       "      <th>5287</th>\n",
       "      <td>2017-12-31 21:59:59</td>\n",
       "      <td>171.135718</td>\n",
       "      <td>15.993669</td>\n",
       "      <td>8.070000</td>\n",
       "      <td>1.165996</td>\n",
       "      <td>1498.836182</td>\n",
       "      <td>-501.770403</td>\n",
       "      <td>1499.572353</td>\n",
       "      <td>-495.516347</td>\n",
       "      <td>1502.749213</td>\n",
       "      <td>...</td>\n",
       "      <td>19.994130</td>\n",
       "      <td>-499.791312</td>\n",
       "      <td>15.101425</td>\n",
       "      <td>-499.936252</td>\n",
       "      <td>10.989181</td>\n",
       "      <td>-498.347898</td>\n",
       "      <td>9.020944</td>\n",
       "      <td>-500.040448</td>\n",
       "      <td>8.982038</td>\n",
       "      <td>-497.789882</td>\n",
       "    </tr>\n",
       "    <tr>\n",
       "      <th>5288</th>\n",
       "      <td>2017-12-31 22:59:59</td>\n",
       "      <td>179.697158</td>\n",
       "      <td>15.438979</td>\n",
       "      <td>8.070000</td>\n",
       "      <td>1.501068</td>\n",
       "      <td>1498.466243</td>\n",
       "      <td>-500.483984</td>\n",
       "      <td>1497.986986</td>\n",
       "      <td>-519.200340</td>\n",
       "      <td>1496.569047</td>\n",
       "      <td>...</td>\n",
       "      <td>19.958760</td>\n",
       "      <td>-499.958750</td>\n",
       "      <td>15.026853</td>\n",
       "      <td>-499.723143</td>\n",
       "      <td>11.011607</td>\n",
       "      <td>-499.985046</td>\n",
       "      <td>9.009783</td>\n",
       "      <td>-499.937902</td>\n",
       "      <td>9.012660</td>\n",
       "      <td>-500.154284</td>\n",
       "    </tr>\n",
       "    <tr>\n",
       "      <th>5289</th>\n",
       "      <td>2017-12-31 23:59:59</td>\n",
       "      <td>181.556856</td>\n",
       "      <td>14.995850</td>\n",
       "      <td>8.070000</td>\n",
       "      <td>1.623454</td>\n",
       "      <td>1498.096303</td>\n",
       "      <td>-499.796922</td>\n",
       "      <td>1501.743791</td>\n",
       "      <td>-505.146931</td>\n",
       "      <td>1499.535978</td>\n",
       "      <td>...</td>\n",
       "      <td>20.034715</td>\n",
       "      <td>-500.728588</td>\n",
       "      <td>14.914199</td>\n",
       "      <td>-499.948518</td>\n",
       "      <td>10.986607</td>\n",
       "      <td>-500.658027</td>\n",
       "      <td>8.989497</td>\n",
       "      <td>-500.337588</td>\n",
       "      <td>8.988632</td>\n",
       "      <td>-500.764937</td>\n",
       "    </tr>\n",
       "  </tbody>\n",
       "</table>\n",
       "<p>5290 rows × 53 columns</p>\n",
       "</div>"
      ],
      "text/plain": [
       "                     date  primary_cleaner.input.sulfate  \\\n",
       "0     2016-09-01 00:59:59                     210.800909   \n",
       "1     2016-09-01 01:59:59                     215.392455   \n",
       "2     2016-09-01 02:59:59                     215.259946   \n",
       "3     2016-09-01 03:59:59                     215.336236   \n",
       "4     2016-09-01 04:59:59                     199.099327   \n",
       "...                   ...                            ...   \n",
       "5285  2017-12-31 19:59:59                     173.957757   \n",
       "5286  2017-12-31 20:59:59                     172.910270   \n",
       "5287  2017-12-31 21:59:59                     171.135718   \n",
       "5288  2017-12-31 22:59:59                     179.697158   \n",
       "5289  2017-12-31 23:59:59                     181.556856   \n",
       "\n",
       "      primary_cleaner.input.depressant  primary_cleaner.input.feed_size  \\\n",
       "0                            14.993118                         8.080000   \n",
       "1                            14.987471                         8.080000   \n",
       "2                            12.884934                         7.786667   \n",
       "3                            12.006805                         7.640000   \n",
       "4                            10.682530                         7.530000   \n",
       "...                                ...                              ...   \n",
       "5285                         15.963399                         8.070000   \n",
       "5286                         16.002605                         8.070000   \n",
       "5287                         15.993669                         8.070000   \n",
       "5288                         15.438979                         8.070000   \n",
       "5289                         14.995850                         8.070000   \n",
       "\n",
       "      primary_cleaner.input.xanthate  primary_cleaner.state.floatbank8_a_air  \\\n",
       "0                           1.005021                             1398.981301   \n",
       "1                           0.990469                             1398.777912   \n",
       "2                           0.996043                             1398.493666   \n",
       "3                           0.863514                             1399.618111   \n",
       "4                           0.805575                             1401.268123   \n",
       "...                              ...                                     ...   \n",
       "5285                        0.896701                             1401.930554   \n",
       "5286                        0.896519                             1447.075722   \n",
       "5287                        1.165996                             1498.836182   \n",
       "5288                        1.501068                             1498.466243   \n",
       "5289                        1.623454                             1498.096303   \n",
       "\n",
       "      primary_cleaner.state.floatbank8_a_level  \\\n",
       "0                                  -500.225577   \n",
       "1                                  -500.057435   \n",
       "2                                  -500.868360   \n",
       "3                                  -498.863574   \n",
       "4                                  -500.808305   \n",
       "...                                        ...   \n",
       "5285                               -499.728848   \n",
       "5286                               -494.716823   \n",
       "5287                               -501.770403   \n",
       "5288                               -500.483984   \n",
       "5289                               -499.796922   \n",
       "\n",
       "      primary_cleaner.state.floatbank8_b_air  \\\n",
       "0                                1399.144926   \n",
       "1                                1398.055362   \n",
       "2                                1398.860436   \n",
       "3                                1397.440120   \n",
       "4                                1398.128818   \n",
       "...                                      ...   \n",
       "5285                             1401.441445   \n",
       "5286                             1448.851892   \n",
       "5287                             1499.572353   \n",
       "5288                             1497.986986   \n",
       "5289                             1501.743791   \n",
       "\n",
       "      primary_cleaner.state.floatbank8_b_level  \\\n",
       "0                                  -499.919735   \n",
       "1                                  -499.778182   \n",
       "2                                  -499.764529   \n",
       "3                                  -499.211024   \n",
       "4                                  -499.504543   \n",
       "...                                        ...   \n",
       "5285                               -499.193423   \n",
       "5286                               -465.963026   \n",
       "5287                               -495.516347   \n",
       "5288                               -519.200340   \n",
       "5289                               -505.146931   \n",
       "\n",
       "      primary_cleaner.state.floatbank8_c_air  ...  \\\n",
       "0                                1400.102998  ...   \n",
       "1                                1396.151033  ...   \n",
       "2                                1398.075709  ...   \n",
       "3                                1400.129303  ...   \n",
       "4                                1402.172226  ...   \n",
       "...                                      ...  ...   \n",
       "5285                             1399.810313  ...   \n",
       "5286                             1443.890424  ...   \n",
       "5287                             1502.749213  ...   \n",
       "5288                             1496.569047  ...   \n",
       "5289                             1499.535978  ...   \n",
       "\n",
       "      secondary_cleaner.state.floatbank4_a_air  \\\n",
       "0                                    12.023554   \n",
       "1                                    12.058140   \n",
       "2                                    11.962366   \n",
       "3                                    12.033091   \n",
       "4                                    12.025367   \n",
       "...                                        ...   \n",
       "5285                                 13.995957   \n",
       "5286                                 16.749781   \n",
       "5287                                 19.994130   \n",
       "5288                                 19.958760   \n",
       "5289                                 20.034715   \n",
       "\n",
       "      secondary_cleaner.state.floatbank4_a_level  \\\n",
       "0                                    -497.795834   \n",
       "1                                    -498.695773   \n",
       "2                                    -498.767484   \n",
       "3                                    -498.350935   \n",
       "4                                    -500.786497   \n",
       "...                                          ...   \n",
       "5285                                 -500.157454   \n",
       "5286                                 -496.031539   \n",
       "5287                                 -499.791312   \n",
       "5288                                 -499.958750   \n",
       "5289                                 -500.728588   \n",
       "\n",
       "      secondary_cleaner.state.floatbank4_b_air  \\\n",
       "0                                     8.016656   \n",
       "1                                     8.130979   \n",
       "2                                     8.096893   \n",
       "3                                     8.074946   \n",
       "4                                     8.054678   \n",
       "...                                        ...   \n",
       "5285                                 12.069155   \n",
       "5286                                 13.365371   \n",
       "5287                                 15.101425   \n",
       "5288                                 15.026853   \n",
       "5289                                 14.914199   \n",
       "\n",
       "      secondary_cleaner.state.floatbank4_b_level  \\\n",
       "0                                    -501.289139   \n",
       "1                                    -499.634209   \n",
       "2                                    -500.827423   \n",
       "3                                    -499.474407   \n",
       "4                                    -500.397500   \n",
       "...                                          ...   \n",
       "5285                                 -499.673279   \n",
       "5286                                 -499.122723   \n",
       "5287                                 -499.936252   \n",
       "5288                                 -499.723143   \n",
       "5289                                 -499.948518   \n",
       "\n",
       "      secondary_cleaner.state.floatbank5_a_air  \\\n",
       "0                                     7.946562   \n",
       "1                                     7.958270   \n",
       "2                                     8.071056   \n",
       "3                                     7.897085   \n",
       "4                                     8.107890   \n",
       "...                                        ...   \n",
       "5285                                  7.977259   \n",
       "5286                                  9.288553   \n",
       "5287                                 10.989181   \n",
       "5288                                 11.011607   \n",
       "5289                                 10.986607   \n",
       "\n",
       "      secondary_cleaner.state.floatbank5_a_level  \\\n",
       "0                                    -432.317850   \n",
       "1                                    -525.839648   \n",
       "2                                    -500.801673   \n",
       "3                                    -500.868509   \n",
       "4                                    -509.526725   \n",
       "...                                          ...   \n",
       "5285                                 -499.516126   \n",
       "5286                                 -496.892967   \n",
       "5287                                 -498.347898   \n",
       "5288                                 -499.985046   \n",
       "5289                                 -500.658027   \n",
       "\n",
       "      secondary_cleaner.state.floatbank5_b_air  \\\n",
       "0                                     4.872511   \n",
       "1                                     4.878850   \n",
       "2                                     4.905125   \n",
       "3                                     4.931400   \n",
       "4                                     4.957674   \n",
       "...                                        ...   \n",
       "5285                                  5.933319   \n",
       "5286                                  7.372897   \n",
       "5287                                  9.020944   \n",
       "5288                                  9.009783   \n",
       "5289                                  8.989497   \n",
       "\n",
       "      secondary_cleaner.state.floatbank5_b_level  \\\n",
       "0                                    -500.037437   \n",
       "1                                    -500.162375   \n",
       "2                                    -499.828510   \n",
       "3                                    -499.963623   \n",
       "4                                    -500.360026   \n",
       "...                                          ...   \n",
       "5285                                 -499.965973   \n",
       "5286                                 -499.942956   \n",
       "5287                                 -500.040448   \n",
       "5288                                 -499.937902   \n",
       "5289                                 -500.337588   \n",
       "\n",
       "      secondary_cleaner.state.floatbank6_a_air  \\\n",
       "0                                    26.705889   \n",
       "1                                    25.019940   \n",
       "2                                    24.994862   \n",
       "3                                    24.948919   \n",
       "4                                    25.003331   \n",
       "...                                        ...   \n",
       "5285                                  8.987171   \n",
       "5286                                  8.986832   \n",
       "5287                                  8.982038   \n",
       "5288                                  9.012660   \n",
       "5289                                  8.988632   \n",
       "\n",
       "      secondary_cleaner.state.floatbank6_a_level  \n",
       "0                                    -499.709414  \n",
       "1                                    -499.819438  \n",
       "2                                    -500.622559  \n",
       "3                                    -498.709987  \n",
       "4                                    -500.856333  \n",
       "...                                          ...  \n",
       "5285                                 -499.755909  \n",
       "5286                                 -499.903761  \n",
       "5287                                 -497.789882  \n",
       "5288                                 -500.154284  \n",
       "5289                                 -500.764937  \n",
       "\n",
       "[5290 rows x 53 columns]"
      ]
     },
     "execution_count": 4,
     "metadata": {},
     "output_type": "execute_result"
    }
   ],
   "source": [
    "# посмотрим на данные\n",
    "test_df"
   ]
  },
  {
   "cell_type": "markdown",
   "metadata": {},
   "source": [
    "### Исходные данные "
   ]
  },
  {
   "cell_type": "code",
   "execution_count": 5,
   "metadata": {},
   "outputs": [
    {
     "data": {
      "text/html": [
       "<div>\n",
       "<style scoped>\n",
       "    .dataframe tbody tr th:only-of-type {\n",
       "        vertical-align: middle;\n",
       "    }\n",
       "\n",
       "    .dataframe tbody tr th {\n",
       "        vertical-align: top;\n",
       "    }\n",
       "\n",
       "    .dataframe thead th {\n",
       "        text-align: right;\n",
       "    }\n",
       "</style>\n",
       "<table border=\"1\" class=\"dataframe\">\n",
       "  <thead>\n",
       "    <tr style=\"text-align: right;\">\n",
       "      <th></th>\n",
       "      <th>date</th>\n",
       "      <th>final.output.concentrate_ag</th>\n",
       "      <th>final.output.concentrate_pb</th>\n",
       "      <th>final.output.concentrate_sol</th>\n",
       "      <th>final.output.concentrate_au</th>\n",
       "      <th>final.output.recovery</th>\n",
       "      <th>final.output.tail_ag</th>\n",
       "      <th>final.output.tail_pb</th>\n",
       "      <th>final.output.tail_sol</th>\n",
       "      <th>final.output.tail_au</th>\n",
       "      <th>...</th>\n",
       "      <th>secondary_cleaner.state.floatbank4_a_air</th>\n",
       "      <th>secondary_cleaner.state.floatbank4_a_level</th>\n",
       "      <th>secondary_cleaner.state.floatbank4_b_air</th>\n",
       "      <th>secondary_cleaner.state.floatbank4_b_level</th>\n",
       "      <th>secondary_cleaner.state.floatbank5_a_air</th>\n",
       "      <th>secondary_cleaner.state.floatbank5_a_level</th>\n",
       "      <th>secondary_cleaner.state.floatbank5_b_air</th>\n",
       "      <th>secondary_cleaner.state.floatbank5_b_level</th>\n",
       "      <th>secondary_cleaner.state.floatbank6_a_air</th>\n",
       "      <th>secondary_cleaner.state.floatbank6_a_level</th>\n",
       "    </tr>\n",
       "  </thead>\n",
       "  <tbody>\n",
       "    <tr>\n",
       "      <th>0</th>\n",
       "      <td>2016-01-15 00:00:00</td>\n",
       "      <td>6.055403</td>\n",
       "      <td>9.889648</td>\n",
       "      <td>5.507324</td>\n",
       "      <td>42.192020</td>\n",
       "      <td>70.541216</td>\n",
       "      <td>10.411962</td>\n",
       "      <td>0.895447</td>\n",
       "      <td>16.904297</td>\n",
       "      <td>2.143149</td>\n",
       "      <td>...</td>\n",
       "      <td>14.016835</td>\n",
       "      <td>-502.488007</td>\n",
       "      <td>12.099931</td>\n",
       "      <td>-504.715942</td>\n",
       "      <td>9.925633</td>\n",
       "      <td>-498.310211</td>\n",
       "      <td>8.079666</td>\n",
       "      <td>-500.470978</td>\n",
       "      <td>14.151341</td>\n",
       "      <td>-605.841980</td>\n",
       "    </tr>\n",
       "    <tr>\n",
       "      <th>1</th>\n",
       "      <td>2016-01-15 01:00:00</td>\n",
       "      <td>6.029369</td>\n",
       "      <td>9.968944</td>\n",
       "      <td>5.257781</td>\n",
       "      <td>42.701629</td>\n",
       "      <td>69.266198</td>\n",
       "      <td>10.462676</td>\n",
       "      <td>0.927452</td>\n",
       "      <td>16.634514</td>\n",
       "      <td>2.224930</td>\n",
       "      <td>...</td>\n",
       "      <td>13.992281</td>\n",
       "      <td>-505.503262</td>\n",
       "      <td>11.950531</td>\n",
       "      <td>-501.331529</td>\n",
       "      <td>10.039245</td>\n",
       "      <td>-500.169983</td>\n",
       "      <td>7.984757</td>\n",
       "      <td>-500.582168</td>\n",
       "      <td>13.998353</td>\n",
       "      <td>-599.787184</td>\n",
       "    </tr>\n",
       "    <tr>\n",
       "      <th>2</th>\n",
       "      <td>2016-01-15 02:00:00</td>\n",
       "      <td>6.055926</td>\n",
       "      <td>10.213995</td>\n",
       "      <td>5.383759</td>\n",
       "      <td>42.657501</td>\n",
       "      <td>68.116445</td>\n",
       "      <td>10.507046</td>\n",
       "      <td>0.953716</td>\n",
       "      <td>16.208849</td>\n",
       "      <td>2.257889</td>\n",
       "      <td>...</td>\n",
       "      <td>14.015015</td>\n",
       "      <td>-502.520901</td>\n",
       "      <td>11.912783</td>\n",
       "      <td>-501.133383</td>\n",
       "      <td>10.070913</td>\n",
       "      <td>-500.129135</td>\n",
       "      <td>8.013877</td>\n",
       "      <td>-500.517572</td>\n",
       "      <td>14.028663</td>\n",
       "      <td>-601.427363</td>\n",
       "    </tr>\n",
       "    <tr>\n",
       "      <th>3</th>\n",
       "      <td>2016-01-15 03:00:00</td>\n",
       "      <td>6.047977</td>\n",
       "      <td>9.977019</td>\n",
       "      <td>4.858634</td>\n",
       "      <td>42.689819</td>\n",
       "      <td>68.347543</td>\n",
       "      <td>10.422762</td>\n",
       "      <td>0.883763</td>\n",
       "      <td>16.532835</td>\n",
       "      <td>2.146849</td>\n",
       "      <td>...</td>\n",
       "      <td>14.036510</td>\n",
       "      <td>-500.857308</td>\n",
       "      <td>11.999550</td>\n",
       "      <td>-501.193686</td>\n",
       "      <td>9.970366</td>\n",
       "      <td>-499.201640</td>\n",
       "      <td>7.977324</td>\n",
       "      <td>-500.255908</td>\n",
       "      <td>14.005551</td>\n",
       "      <td>-599.996129</td>\n",
       "    </tr>\n",
       "    <tr>\n",
       "      <th>4</th>\n",
       "      <td>2016-01-15 04:00:00</td>\n",
       "      <td>6.148599</td>\n",
       "      <td>10.142511</td>\n",
       "      <td>4.939416</td>\n",
       "      <td>42.774141</td>\n",
       "      <td>66.927016</td>\n",
       "      <td>10.360302</td>\n",
       "      <td>0.792826</td>\n",
       "      <td>16.525686</td>\n",
       "      <td>2.055292</td>\n",
       "      <td>...</td>\n",
       "      <td>14.027298</td>\n",
       "      <td>-499.838632</td>\n",
       "      <td>11.953070</td>\n",
       "      <td>-501.053894</td>\n",
       "      <td>9.925709</td>\n",
       "      <td>-501.686727</td>\n",
       "      <td>7.894242</td>\n",
       "      <td>-500.356035</td>\n",
       "      <td>13.996647</td>\n",
       "      <td>-601.496691</td>\n",
       "    </tr>\n",
       "    <tr>\n",
       "      <th>...</th>\n",
       "      <td>...</td>\n",
       "      <td>...</td>\n",
       "      <td>...</td>\n",
       "      <td>...</td>\n",
       "      <td>...</td>\n",
       "      <td>...</td>\n",
       "      <td>...</td>\n",
       "      <td>...</td>\n",
       "      <td>...</td>\n",
       "      <td>...</td>\n",
       "      <td>...</td>\n",
       "      <td>...</td>\n",
       "      <td>...</td>\n",
       "      <td>...</td>\n",
       "      <td>...</td>\n",
       "      <td>...</td>\n",
       "      <td>...</td>\n",
       "      <td>...</td>\n",
       "      <td>...</td>\n",
       "      <td>...</td>\n",
       "      <td>...</td>\n",
       "    </tr>\n",
       "    <tr>\n",
       "      <th>19434</th>\n",
       "      <td>2018-08-18 06:59:59</td>\n",
       "      <td>3.224920</td>\n",
       "      <td>11.356233</td>\n",
       "      <td>6.803482</td>\n",
       "      <td>46.713954</td>\n",
       "      <td>73.755150</td>\n",
       "      <td>8.769645</td>\n",
       "      <td>3.141541</td>\n",
       "      <td>10.403181</td>\n",
       "      <td>1.529220</td>\n",
       "      <td>...</td>\n",
       "      <td>23.031497</td>\n",
       "      <td>-501.167942</td>\n",
       "      <td>20.007571</td>\n",
       "      <td>-499.740028</td>\n",
       "      <td>18.006038</td>\n",
       "      <td>-499.834374</td>\n",
       "      <td>13.001114</td>\n",
       "      <td>-500.155694</td>\n",
       "      <td>20.007840</td>\n",
       "      <td>-501.296428</td>\n",
       "    </tr>\n",
       "    <tr>\n",
       "      <th>19435</th>\n",
       "      <td>2018-08-18 07:59:59</td>\n",
       "      <td>3.195978</td>\n",
       "      <td>11.349355</td>\n",
       "      <td>6.862249</td>\n",
       "      <td>46.866780</td>\n",
       "      <td>69.049291</td>\n",
       "      <td>8.897321</td>\n",
       "      <td>3.130493</td>\n",
       "      <td>10.549470</td>\n",
       "      <td>1.612542</td>\n",
       "      <td>...</td>\n",
       "      <td>22.960095</td>\n",
       "      <td>-501.612783</td>\n",
       "      <td>20.035660</td>\n",
       "      <td>-500.251357</td>\n",
       "      <td>17.998535</td>\n",
       "      <td>-500.395178</td>\n",
       "      <td>12.954048</td>\n",
       "      <td>-499.895163</td>\n",
       "      <td>19.968498</td>\n",
       "      <td>-501.041608</td>\n",
       "    </tr>\n",
       "    <tr>\n",
       "      <th>19436</th>\n",
       "      <td>2018-08-18 08:59:59</td>\n",
       "      <td>3.109998</td>\n",
       "      <td>11.434366</td>\n",
       "      <td>6.886013</td>\n",
       "      <td>46.795691</td>\n",
       "      <td>67.002189</td>\n",
       "      <td>8.529606</td>\n",
       "      <td>2.911418</td>\n",
       "      <td>11.115147</td>\n",
       "      <td>1.596616</td>\n",
       "      <td>...</td>\n",
       "      <td>23.015718</td>\n",
       "      <td>-501.711599</td>\n",
       "      <td>19.951231</td>\n",
       "      <td>-499.857027</td>\n",
       "      <td>18.019543</td>\n",
       "      <td>-500.451156</td>\n",
       "      <td>13.023431</td>\n",
       "      <td>-499.914391</td>\n",
       "      <td>19.990885</td>\n",
       "      <td>-501.518452</td>\n",
       "    </tr>\n",
       "    <tr>\n",
       "      <th>19437</th>\n",
       "      <td>2018-08-18 09:59:59</td>\n",
       "      <td>3.367241</td>\n",
       "      <td>11.625587</td>\n",
       "      <td>6.799433</td>\n",
       "      <td>46.408188</td>\n",
       "      <td>65.523246</td>\n",
       "      <td>8.777171</td>\n",
       "      <td>2.819214</td>\n",
       "      <td>10.463847</td>\n",
       "      <td>1.602879</td>\n",
       "      <td>...</td>\n",
       "      <td>23.024963</td>\n",
       "      <td>-501.153409</td>\n",
       "      <td>20.054122</td>\n",
       "      <td>-500.314711</td>\n",
       "      <td>17.979515</td>\n",
       "      <td>-499.272871</td>\n",
       "      <td>12.992404</td>\n",
       "      <td>-499.976268</td>\n",
       "      <td>20.013986</td>\n",
       "      <td>-500.625471</td>\n",
       "    </tr>\n",
       "    <tr>\n",
       "      <th>19438</th>\n",
       "      <td>2018-08-18 10:59:59</td>\n",
       "      <td>3.598375</td>\n",
       "      <td>11.737832</td>\n",
       "      <td>6.717509</td>\n",
       "      <td>46.299438</td>\n",
       "      <td>70.281454</td>\n",
       "      <td>8.406690</td>\n",
       "      <td>2.517518</td>\n",
       "      <td>10.652193</td>\n",
       "      <td>1.389434</td>\n",
       "      <td>...</td>\n",
       "      <td>23.018622</td>\n",
       "      <td>-500.492702</td>\n",
       "      <td>20.020205</td>\n",
       "      <td>-500.220296</td>\n",
       "      <td>17.963512</td>\n",
       "      <td>-499.939490</td>\n",
       "      <td>12.990306</td>\n",
       "      <td>-500.080993</td>\n",
       "      <td>19.990336</td>\n",
       "      <td>-499.191575</td>\n",
       "    </tr>\n",
       "  </tbody>\n",
       "</table>\n",
       "<p>19439 rows × 87 columns</p>\n",
       "</div>"
      ],
      "text/plain": [
       "                      date  final.output.concentrate_ag  \\\n",
       "0      2016-01-15 00:00:00                     6.055403   \n",
       "1      2016-01-15 01:00:00                     6.029369   \n",
       "2      2016-01-15 02:00:00                     6.055926   \n",
       "3      2016-01-15 03:00:00                     6.047977   \n",
       "4      2016-01-15 04:00:00                     6.148599   \n",
       "...                    ...                          ...   \n",
       "19434  2018-08-18 06:59:59                     3.224920   \n",
       "19435  2018-08-18 07:59:59                     3.195978   \n",
       "19436  2018-08-18 08:59:59                     3.109998   \n",
       "19437  2018-08-18 09:59:59                     3.367241   \n",
       "19438  2018-08-18 10:59:59                     3.598375   \n",
       "\n",
       "       final.output.concentrate_pb  final.output.concentrate_sol  \\\n",
       "0                         9.889648                      5.507324   \n",
       "1                         9.968944                      5.257781   \n",
       "2                        10.213995                      5.383759   \n",
       "3                         9.977019                      4.858634   \n",
       "4                        10.142511                      4.939416   \n",
       "...                            ...                           ...   \n",
       "19434                    11.356233                      6.803482   \n",
       "19435                    11.349355                      6.862249   \n",
       "19436                    11.434366                      6.886013   \n",
       "19437                    11.625587                      6.799433   \n",
       "19438                    11.737832                      6.717509   \n",
       "\n",
       "       final.output.concentrate_au  final.output.recovery  \\\n",
       "0                        42.192020              70.541216   \n",
       "1                        42.701629              69.266198   \n",
       "2                        42.657501              68.116445   \n",
       "3                        42.689819              68.347543   \n",
       "4                        42.774141              66.927016   \n",
       "...                            ...                    ...   \n",
       "19434                    46.713954              73.755150   \n",
       "19435                    46.866780              69.049291   \n",
       "19436                    46.795691              67.002189   \n",
       "19437                    46.408188              65.523246   \n",
       "19438                    46.299438              70.281454   \n",
       "\n",
       "       final.output.tail_ag  final.output.tail_pb  final.output.tail_sol  \\\n",
       "0                 10.411962              0.895447              16.904297   \n",
       "1                 10.462676              0.927452              16.634514   \n",
       "2                 10.507046              0.953716              16.208849   \n",
       "3                 10.422762              0.883763              16.532835   \n",
       "4                 10.360302              0.792826              16.525686   \n",
       "...                     ...                   ...                    ...   \n",
       "19434              8.769645              3.141541              10.403181   \n",
       "19435              8.897321              3.130493              10.549470   \n",
       "19436              8.529606              2.911418              11.115147   \n",
       "19437              8.777171              2.819214              10.463847   \n",
       "19438              8.406690              2.517518              10.652193   \n",
       "\n",
       "       final.output.tail_au  ...  secondary_cleaner.state.floatbank4_a_air  \\\n",
       "0                  2.143149  ...                                 14.016835   \n",
       "1                  2.224930  ...                                 13.992281   \n",
       "2                  2.257889  ...                                 14.015015   \n",
       "3                  2.146849  ...                                 14.036510   \n",
       "4                  2.055292  ...                                 14.027298   \n",
       "...                     ...  ...                                       ...   \n",
       "19434              1.529220  ...                                 23.031497   \n",
       "19435              1.612542  ...                                 22.960095   \n",
       "19436              1.596616  ...                                 23.015718   \n",
       "19437              1.602879  ...                                 23.024963   \n",
       "19438              1.389434  ...                                 23.018622   \n",
       "\n",
       "       secondary_cleaner.state.floatbank4_a_level  \\\n",
       "0                                     -502.488007   \n",
       "1                                     -505.503262   \n",
       "2                                     -502.520901   \n",
       "3                                     -500.857308   \n",
       "4                                     -499.838632   \n",
       "...                                           ...   \n",
       "19434                                 -501.167942   \n",
       "19435                                 -501.612783   \n",
       "19436                                 -501.711599   \n",
       "19437                                 -501.153409   \n",
       "19438                                 -500.492702   \n",
       "\n",
       "       secondary_cleaner.state.floatbank4_b_air  \\\n",
       "0                                     12.099931   \n",
       "1                                     11.950531   \n",
       "2                                     11.912783   \n",
       "3                                     11.999550   \n",
       "4                                     11.953070   \n",
       "...                                         ...   \n",
       "19434                                 20.007571   \n",
       "19435                                 20.035660   \n",
       "19436                                 19.951231   \n",
       "19437                                 20.054122   \n",
       "19438                                 20.020205   \n",
       "\n",
       "       secondary_cleaner.state.floatbank4_b_level  \\\n",
       "0                                     -504.715942   \n",
       "1                                     -501.331529   \n",
       "2                                     -501.133383   \n",
       "3                                     -501.193686   \n",
       "4                                     -501.053894   \n",
       "...                                           ...   \n",
       "19434                                 -499.740028   \n",
       "19435                                 -500.251357   \n",
       "19436                                 -499.857027   \n",
       "19437                                 -500.314711   \n",
       "19438                                 -500.220296   \n",
       "\n",
       "       secondary_cleaner.state.floatbank5_a_air  \\\n",
       "0                                      9.925633   \n",
       "1                                     10.039245   \n",
       "2                                     10.070913   \n",
       "3                                      9.970366   \n",
       "4                                      9.925709   \n",
       "...                                         ...   \n",
       "19434                                 18.006038   \n",
       "19435                                 17.998535   \n",
       "19436                                 18.019543   \n",
       "19437                                 17.979515   \n",
       "19438                                 17.963512   \n",
       "\n",
       "       secondary_cleaner.state.floatbank5_a_level  \\\n",
       "0                                     -498.310211   \n",
       "1                                     -500.169983   \n",
       "2                                     -500.129135   \n",
       "3                                     -499.201640   \n",
       "4                                     -501.686727   \n",
       "...                                           ...   \n",
       "19434                                 -499.834374   \n",
       "19435                                 -500.395178   \n",
       "19436                                 -500.451156   \n",
       "19437                                 -499.272871   \n",
       "19438                                 -499.939490   \n",
       "\n",
       "       secondary_cleaner.state.floatbank5_b_air  \\\n",
       "0                                      8.079666   \n",
       "1                                      7.984757   \n",
       "2                                      8.013877   \n",
       "3                                      7.977324   \n",
       "4                                      7.894242   \n",
       "...                                         ...   \n",
       "19434                                 13.001114   \n",
       "19435                                 12.954048   \n",
       "19436                                 13.023431   \n",
       "19437                                 12.992404   \n",
       "19438                                 12.990306   \n",
       "\n",
       "       secondary_cleaner.state.floatbank5_b_level  \\\n",
       "0                                     -500.470978   \n",
       "1                                     -500.582168   \n",
       "2                                     -500.517572   \n",
       "3                                     -500.255908   \n",
       "4                                     -500.356035   \n",
       "...                                           ...   \n",
       "19434                                 -500.155694   \n",
       "19435                                 -499.895163   \n",
       "19436                                 -499.914391   \n",
       "19437                                 -499.976268   \n",
       "19438                                 -500.080993   \n",
       "\n",
       "       secondary_cleaner.state.floatbank6_a_air  \\\n",
       "0                                     14.151341   \n",
       "1                                     13.998353   \n",
       "2                                     14.028663   \n",
       "3                                     14.005551   \n",
       "4                                     13.996647   \n",
       "...                                         ...   \n",
       "19434                                 20.007840   \n",
       "19435                                 19.968498   \n",
       "19436                                 19.990885   \n",
       "19437                                 20.013986   \n",
       "19438                                 19.990336   \n",
       "\n",
       "       secondary_cleaner.state.floatbank6_a_level  \n",
       "0                                     -605.841980  \n",
       "1                                     -599.787184  \n",
       "2                                     -601.427363  \n",
       "3                                     -599.996129  \n",
       "4                                     -601.496691  \n",
       "...                                           ...  \n",
       "19434                                 -501.296428  \n",
       "19435                                 -501.041608  \n",
       "19436                                 -501.518452  \n",
       "19437                                 -500.625471  \n",
       "19438                                 -499.191575  \n",
       "\n",
       "[19439 rows x 87 columns]"
      ]
     },
     "execution_count": 5,
     "metadata": {},
     "output_type": "execute_result"
    }
   ],
   "source": [
    "# посмотрим на данные\n",
    "full_df "
   ]
  },
  {
   "cell_type": "markdown",
   "metadata": {},
   "source": [
    "### Расчет recovery"
   ]
  },
  {
   "cell_type": "markdown",
   "metadata": {},
   "source": [
    "Предварительно удалим пропуски из столбцов со значением NaN."
   ]
  },
  {
   "cell_type": "code",
   "execution_count": 6,
   "metadata": {},
   "outputs": [],
   "source": [
    "train_df.dropna(subset=['rougher.output.concentrate_au', 'rougher.input.feed_au',\n",
    "                                   'rougher.output.tail_au','rougher.output.recovery'], inplace=True)"
   ]
  },
  {
   "cell_type": "code",
   "execution_count": 7,
   "metadata": {},
   "outputs": [],
   "source": [
    "# псевдослучайность для всех используемых в проекте алгоритмов\n",
    "rnd_state = 12345"
   ]
  },
  {
   "cell_type": "code",
   "execution_count": 8,
   "metadata": {},
   "outputs": [
    {
     "data": {
      "text/plain": [
       "1.1131451184435918e-14"
      ]
     },
     "execution_count": 8,
     "metadata": {},
     "output_type": "execute_result"
    }
   ],
   "source": [
    "\n",
    "C = train_df['rougher.output.concentrate_au']\n",
    "F = train_df['rougher.input.feed_au']\n",
    "T = train_df['rougher.output.tail_au']\n",
    "\n",
    "train_df['rougher.output.recovery_calc'] = C * (F - T) * 100 / (F * (C - T))\n",
    "\n",
    "def mae(target_recovery, calculated_recovery):\n",
    "    return abs(target_recovery - calculated_recovery).sum() / len(target_recovery)\n",
    "\n",
    "target_recovery = train_df['rougher.output.recovery']\n",
    "calculated_recovery = train_df['rougher.output.recovery_calc']\n",
    "\n",
    "mae(target_recovery, calculated_recovery)"
   ]
  },
  {
   "cell_type": "markdown",
   "metadata": {},
   "source": [
    "Средняя абсолютная ошибка (MAE) очень мала - это значит, что расчетное значение rougher.output.recovery совпадает с данными из столбца, считаем что recovery посчитан верно."
   ]
  },
  {
   "cell_type": "code",
   "execution_count": 9,
   "metadata": {},
   "outputs": [],
   "source": [
    "train_df.drop('rougher.output.recovery_calc', axis=1, inplace=True)"
   ]
  },
  {
   "cell_type": "code",
   "execution_count": 10,
   "metadata": {},
   "outputs": [
    {
     "data": {
      "text/plain": [
       "['rougher.output.recovery',\n",
       " 'rougher.output.tail_sol',\n",
       " 'final.output.tail_pb',\n",
       " 'rougher.calculation.floatbank11_sulfate_to_au_feed',\n",
       " 'primary_cleaner.output.tail_pb',\n",
       " 'rougher.calculation.sulfate_to_au_concentrate',\n",
       " 'primary_cleaner.output.concentrate_au',\n",
       " 'final.output.concentrate_ag',\n",
       " 'primary_cleaner.output.concentrate_pb',\n",
       " 'primary_cleaner.output.concentrate_ag',\n",
       " 'primary_cleaner.output.tail_ag',\n",
       " 'rougher.output.tail_au',\n",
       " 'final.output.concentrate_au',\n",
       " 'rougher.output.concentrate_pb',\n",
       " 'primary_cleaner.output.concentrate_sol',\n",
       " 'primary_cleaner.output.tail_sol',\n",
       " 'rougher.calculation.au_pb_ratio',\n",
       " 'rougher.output.concentrate_sol',\n",
       " 'secondary_cleaner.output.tail_au',\n",
       " 'final.output.recovery',\n",
       " 'rougher.output.tail_ag',\n",
       " 'final.output.concentrate_pb',\n",
       " 'final.output.tail_au',\n",
       " 'rougher.output.concentrate_ag',\n",
       " 'secondary_cleaner.output.tail_pb',\n",
       " 'final.output.concentrate_sol',\n",
       " 'rougher.calculation.floatbank10_sulfate_to_au_feed',\n",
       " 'rougher.output.concentrate_au',\n",
       " 'rougher.output.tail_pb',\n",
       " 'final.output.tail_ag',\n",
       " 'secondary_cleaner.output.tail_ag',\n",
       " 'final.output.tail_sol',\n",
       " 'primary_cleaner.output.tail_au',\n",
       " 'secondary_cleaner.output.tail_sol']"
      ]
     },
     "execution_count": 10,
     "metadata": {},
     "output_type": "execute_result"
    }
   ],
   "source": [
    "# отсутствующие столбцы в test_df\n",
    "missing_columns = list(set(train_df.columns) - set(test_df.columns))\n",
    "missing_columns"
   ]
  },
  {
   "cell_type": "markdown",
   "metadata": {},
   "source": [
    "В тестовой выборке пропущено 34 признака. Большинство относятся к параметрам продукта output, это целевые признаки, а также к расчетным характеристикам calculation для этапа rougher. Эти признаки недоступны, так как их невозможно получить/измерить во время выполнения технологического процесса."
   ]
  },
  {
   "cell_type": "markdown",
   "metadata": {},
   "source": [
    "### Предобработка данных"
   ]
  },
  {
   "cell_type": "code",
   "execution_count": 11,
   "metadata": {},
   "outputs": [
    {
     "name": "stdout",
     "output_type": "stream",
     "text": [
      "Shape: (14149, 87)\n",
      "NA's 4100\n",
      "Duplicates: 0\n",
      "--------------------------------------\n",
      "Shape: (5290, 53)\n",
      "NA's 90\n",
      "Duplicates: 0\n",
      "--------------------------------------\n",
      "Shape: (19439, 87)\n",
      "NA's 4481\n",
      "Duplicates: 0\n",
      "--------------------------------------\n"
     ]
    }
   ],
   "source": [
    "# \n",
    "datasets = [train_df, test_df, full_df]\n",
    "for dataset in datasets:\n",
    "    print(\"Shape:\", dataset.shape)\n",
    "    print(\"NA's\", dataset.isna().sum().sum())\n",
    "    print(\"Duplicates:\", dataset.duplicated().sum())\n",
    "    print(\"--------------------------------------\")\n",
    "    dataset[\"date\"] = pd.to_datetime(dataset[\"date\"]) # приведем к нужному формату дату"
   ]
  },
  {
   "cell_type": "code",
   "execution_count": 12,
   "metadata": {},
   "outputs": [
    {
     "data": {
      "text/plain": [
       "date                                          0\n",
       "final.output.concentrate_ag                   0\n",
       "final.output.concentrate_pb                   0\n",
       "final.output.concentrate_sol                  0\n",
       "final.output.concentrate_au                   0\n",
       "                                             ..\n",
       "secondary_cleaner.state.floatbank5_a_level    0\n",
       "secondary_cleaner.state.floatbank5_b_air      0\n",
       "secondary_cleaner.state.floatbank5_b_level    0\n",
       "secondary_cleaner.state.floatbank6_a_air      0\n",
       "secondary_cleaner.state.floatbank6_a_level    0\n",
       "Length: 87, dtype: int64"
      ]
     },
     "execution_count": 12,
     "metadata": {},
     "output_type": "execute_result"
    }
   ],
   "source": [
    "# проведем чистку пропущенных значений обучающей выборке\n",
    "train_df = train_df.dropna().copy()\n",
    "train_df.isna().sum()"
   ]
  },
  {
   "cell_type": "code",
   "execution_count": 13,
   "metadata": {},
   "outputs": [
    {
     "data": {
      "text/plain": [
       "date                                          0\n",
       "primary_cleaner.input.sulfate                 0\n",
       "primary_cleaner.input.depressant              0\n",
       "primary_cleaner.input.feed_size               0\n",
       "primary_cleaner.input.xanthate                0\n",
       "primary_cleaner.state.floatbank8_a_air        0\n",
       "primary_cleaner.state.floatbank8_a_level      0\n",
       "primary_cleaner.state.floatbank8_b_air        0\n",
       "primary_cleaner.state.floatbank8_b_level      0\n",
       "primary_cleaner.state.floatbank8_c_air        0\n",
       "primary_cleaner.state.floatbank8_c_level      0\n",
       "primary_cleaner.state.floatbank8_d_air        0\n",
       "primary_cleaner.state.floatbank8_d_level      0\n",
       "rougher.input.feed_ag                         0\n",
       "rougher.input.feed_pb                         0\n",
       "rougher.input.feed_rate                       0\n",
       "rougher.input.feed_size                       0\n",
       "rougher.input.feed_sol                        0\n",
       "rougher.input.feed_au                         0\n",
       "rougher.input.floatbank10_sulfate             0\n",
       "rougher.input.floatbank10_xanthate            0\n",
       "rougher.input.floatbank11_sulfate             0\n",
       "rougher.input.floatbank11_xanthate            0\n",
       "rougher.state.floatbank10_a_air               0\n",
       "rougher.state.floatbank10_a_level             0\n",
       "rougher.state.floatbank10_b_air               0\n",
       "rougher.state.floatbank10_b_level             0\n",
       "rougher.state.floatbank10_c_air               0\n",
       "rougher.state.floatbank10_c_level             0\n",
       "rougher.state.floatbank10_d_air               0\n",
       "rougher.state.floatbank10_d_level             0\n",
       "rougher.state.floatbank10_e_air               0\n",
       "rougher.state.floatbank10_e_level             0\n",
       "rougher.state.floatbank10_f_air               0\n",
       "rougher.state.floatbank10_f_level             0\n",
       "secondary_cleaner.state.floatbank2_a_air      0\n",
       "secondary_cleaner.state.floatbank2_a_level    0\n",
       "secondary_cleaner.state.floatbank2_b_air      0\n",
       "secondary_cleaner.state.floatbank2_b_level    0\n",
       "secondary_cleaner.state.floatbank3_a_air      0\n",
       "secondary_cleaner.state.floatbank3_a_level    0\n",
       "secondary_cleaner.state.floatbank3_b_air      0\n",
       "secondary_cleaner.state.floatbank3_b_level    0\n",
       "secondary_cleaner.state.floatbank4_a_air      0\n",
       "secondary_cleaner.state.floatbank4_a_level    0\n",
       "secondary_cleaner.state.floatbank4_b_air      0\n",
       "secondary_cleaner.state.floatbank4_b_level    0\n",
       "secondary_cleaner.state.floatbank5_a_air      0\n",
       "secondary_cleaner.state.floatbank5_a_level    0\n",
       "secondary_cleaner.state.floatbank5_b_air      0\n",
       "secondary_cleaner.state.floatbank5_b_level    0\n",
       "secondary_cleaner.state.floatbank6_a_air      0\n",
       "secondary_cleaner.state.floatbank6_a_level    0\n",
       "dtype: int64"
      ]
     },
     "execution_count": 13,
     "metadata": {},
     "output_type": "execute_result"
    }
   ],
   "source": [
    "# проведем чистку пропущенных значений тестовой выборке\n",
    "test_df = test_df.dropna().copy()\n",
    "test_df.isna().sum()"
   ]
  },
  {
   "cell_type": "markdown",
   "metadata": {},
   "source": [
    "Выделим столбцы из тестовой выборки, по которым будет обучаться модель. Столбец data не несет смысла для обучающей модели. Для предсказания rougher.output.recovery будут использоватся данные из стобцов этапа rougher. Для вычисления final.output.recovery будут использованы все столбцы из тестовой выборки."
   ]
  },
  {
   "cell_type": "code",
   "execution_count": 14,
   "metadata": {},
   "outputs": [
    {
     "name": "stdout",
     "output_type": "stream",
     "text": [
      "{'rougher.state.floatbank10_d_level', 'rougher.input.feed_ag', 'rougher.state.floatbank10_e_air', 'rougher.state.floatbank10_b_air', 'rougher.state.floatbank10_d_air', 'rougher.input.feed_size', 'rougher.input.floatbank10_xanthate', 'rougher.state.floatbank10_b_level', 'rougher.input.feed_rate', 'rougher.input.floatbank10_sulfate', 'rougher.state.floatbank10_a_air', 'rougher.state.floatbank10_e_level', 'rougher.state.floatbank10_c_air', 'rougher.input.feed_sol', 'rougher.input.feed_pb', 'rougher.state.floatbank10_f_air', 'rougher.state.floatbank10_c_level', 'rougher.state.floatbank10_f_level', 'rougher.input.floatbank11_xanthate', 'rougher.input.feed_au', 'rougher.state.floatbank10_a_level', 'rougher.input.floatbank11_sulfate'}\n",
      "\n",
      "{'secondary_cleaner.state.floatbank4_b_air', 'primary_cleaner.state.floatbank8_d_air', 'rougher.state.floatbank10_d_level', 'primary_cleaner.state.floatbank8_b_air', 'secondary_cleaner.state.floatbank5_a_air', 'primary_cleaner.input.feed_size', 'rougher.input.feed_ag', 'secondary_cleaner.state.floatbank3_b_level', 'primary_cleaner.state.floatbank8_b_level', 'rougher.state.floatbank10_e_air', 'secondary_cleaner.state.floatbank5_b_air', 'secondary_cleaner.state.floatbank4_a_level', 'secondary_cleaner.state.floatbank4_a_air', 'primary_cleaner.input.xanthate', 'primary_cleaner.input.sulfate', 'secondary_cleaner.state.floatbank2_a_level', 'rougher.state.floatbank10_b_air', 'secondary_cleaner.state.floatbank6_a_air', 'secondary_cleaner.state.floatbank3_a_air', 'rougher.state.floatbank10_d_air', 'secondary_cleaner.state.floatbank2_a_air', 'primary_cleaner.state.floatbank8_a_air', 'rougher.input.feed_size', 'primary_cleaner.state.floatbank8_a_level', 'rougher.input.floatbank10_xanthate', 'rougher.state.floatbank10_b_level', 'rougher.input.feed_rate', 'rougher.input.floatbank10_sulfate', 'secondary_cleaner.state.floatbank2_b_level', 'primary_cleaner.input.depressant', 'secondary_cleaner.state.floatbank4_b_level', 'rougher.state.floatbank10_a_air', 'rougher.state.floatbank10_e_level', 'secondary_cleaner.state.floatbank3_b_air', 'rougher.state.floatbank10_c_air', 'rougher.input.feed_sol', 'primary_cleaner.state.floatbank8_c_level', 'rougher.state.floatbank10_f_air', 'secondary_cleaner.state.floatbank2_b_air', 'secondary_cleaner.state.floatbank3_a_level', 'secondary_cleaner.state.floatbank5_b_level', 'rougher.state.floatbank10_c_level', 'rougher.state.floatbank10_f_level', 'rougher.input.floatbank11_xanthate', 'rougher.input.feed_au', 'rougher.state.floatbank10_a_level', 'secondary_cleaner.state.floatbank5_a_level', 'secondary_cleaner.state.floatbank6_a_level', 'primary_cleaner.state.floatbank8_c_air', 'rougher.input.feed_pb', 'rougher.input.floatbank11_sulfate', 'primary_cleaner.state.floatbank8_d_level'}\n"
     ]
    }
   ],
   "source": [
    "features_columns = test_df.columns[1:]\n",
    "rougher_features_columns = set(features_columns[12:34])\n",
    "final_features_columns = set(features_columns)\n",
    "print(rougher_features_columns)\n",
    "print()\n",
    "print(final_features_columns)"
   ]
  },
  {
   "cell_type": "code",
   "execution_count": 15,
   "metadata": {},
   "outputs": [
    {
     "data": {
      "image/png": "[encoded data removed]",
      "text/plain": [
       "<Figure size 864x648 with 1 Axes>"
      ]
     },
     "metadata": {
      "needs_background": "light"
     },
     "output_type": "display_data"
    }
   ],
   "source": [
    "plt.figure(figsize=[12,9])\n",
    "\n",
    "plt.hist(train_df['rougher.output.recovery'], bins=100)\n",
    "\n",
    "plt.xlim([0, 100])\n",
    "plt.ylim([0, 700])\n",
    "\n",
    "plt.xlabel(\"Эффективность обогащения чернового концентрата \")\n",
    "plt.ylabel(\"Количество результатов\")\n",
    "\n",
    "plt.title(\"Гистограмма распределения по эффективности обогащения\")\n",
    "plt.show()"
   ]
  },
  {
   "cell_type": "code",
   "execution_count": 16,
   "metadata": {},
   "outputs": [
    {
     "data": {
      "text/html": [
       "<div>\n",
       "<style scoped>\n",
       "    .dataframe tbody tr th:only-of-type {\n",
       "        vertical-align: middle;\n",
       "    }\n",
       "\n",
       "    .dataframe tbody tr th {\n",
       "        vertical-align: top;\n",
       "    }\n",
       "\n",
       "    .dataframe thead th {\n",
       "        text-align: right;\n",
       "    }\n",
       "</style>\n",
       "<table border=\"1\" class=\"dataframe\">\n",
       "  <thead>\n",
       "    <tr style=\"text-align: right;\">\n",
       "      <th></th>\n",
       "      <th>date</th>\n",
       "      <th>final.output.concentrate_ag</th>\n",
       "      <th>final.output.concentrate_pb</th>\n",
       "      <th>final.output.concentrate_sol</th>\n",
       "      <th>final.output.concentrate_au</th>\n",
       "      <th>final.output.recovery</th>\n",
       "      <th>final.output.tail_ag</th>\n",
       "      <th>final.output.tail_pb</th>\n",
       "      <th>final.output.tail_sol</th>\n",
       "      <th>final.output.tail_au</th>\n",
       "      <th>...</th>\n",
       "      <th>secondary_cleaner.state.floatbank4_a_air</th>\n",
       "      <th>secondary_cleaner.state.floatbank4_a_level</th>\n",
       "      <th>secondary_cleaner.state.floatbank4_b_air</th>\n",
       "      <th>secondary_cleaner.state.floatbank4_b_level</th>\n",
       "      <th>secondary_cleaner.state.floatbank5_a_air</th>\n",
       "      <th>secondary_cleaner.state.floatbank5_a_level</th>\n",
       "      <th>secondary_cleaner.state.floatbank5_b_air</th>\n",
       "      <th>secondary_cleaner.state.floatbank5_b_level</th>\n",
       "      <th>secondary_cleaner.state.floatbank6_a_air</th>\n",
       "      <th>secondary_cleaner.state.floatbank6_a_level</th>\n",
       "    </tr>\n",
       "  </thead>\n",
       "  <tbody>\n",
       "    <tr>\n",
       "      <th>45</th>\n",
       "      <td>2016-01-16 21:00:00</td>\n",
       "      <td>4.566664</td>\n",
       "      <td>10.406178</td>\n",
       "      <td>4.588698</td>\n",
       "      <td>46.614456</td>\n",
       "      <td>68.403877</td>\n",
       "      <td>10.705777</td>\n",
       "      <td>1.509070</td>\n",
       "      <td>17.875134</td>\n",
       "      <td>2.509776</td>\n",
       "      <td>...</td>\n",
       "      <td>14.025588</td>\n",
       "      <td>-550.404242</td>\n",
       "      <td>12.028925</td>\n",
       "      <td>-550.570104</td>\n",
       "      <td>10.052072</td>\n",
       "      <td>-500.797905</td>\n",
       "      <td>7.984500</td>\n",
       "      <td>-499.581046</td>\n",
       "      <td>11.982025</td>\n",
       "      <td>-599.161228</td>\n",
       "    </tr>\n",
       "    <tr>\n",
       "      <th>46</th>\n",
       "      <td>2016-01-16 22:00:00</td>\n",
       "      <td>4.577832</td>\n",
       "      <td>10.691605</td>\n",
       "      <td>5.274175</td>\n",
       "      <td>46.250638</td>\n",
       "      <td>70.675633</td>\n",
       "      <td>10.728531</td>\n",
       "      <td>1.641216</td>\n",
       "      <td>18.349339</td>\n",
       "      <td>2.540843</td>\n",
       "      <td>...</td>\n",
       "      <td>14.094808</td>\n",
       "      <td>-550.676337</td>\n",
       "      <td>12.004728</td>\n",
       "      <td>-550.496522</td>\n",
       "      <td>9.953139</td>\n",
       "      <td>-500.330920</td>\n",
       "      <td>8.012074</td>\n",
       "      <td>-500.133530</td>\n",
       "      <td>11.975316</td>\n",
       "      <td>-598.839683</td>\n",
       "    </tr>\n",
       "    <tr>\n",
       "      <th>50</th>\n",
       "      <td>2016-01-17 03:00:00</td>\n",
       "      <td>5.759800</td>\n",
       "      <td>9.537415</td>\n",
       "      <td>3.997737</td>\n",
       "      <td>45.267942</td>\n",
       "      <td>68.638723</td>\n",
       "      <td>10.623064</td>\n",
       "      <td>1.217058</td>\n",
       "      <td>16.072705</td>\n",
       "      <td>2.471388</td>\n",
       "      <td>...</td>\n",
       "      <td>14.164342</td>\n",
       "      <td>-552.959690</td>\n",
       "      <td>11.917980</td>\n",
       "      <td>-549.417320</td>\n",
       "      <td>10.016315</td>\n",
       "      <td>-497.644975</td>\n",
       "      <td>7.999080</td>\n",
       "      <td>-500.112143</td>\n",
       "      <td>12.043030</td>\n",
       "      <td>-599.630112</td>\n",
       "    </tr>\n",
       "    <tr>\n",
       "      <th>51</th>\n",
       "      <td>2016-01-17 04:00:00</td>\n",
       "      <td>5.807253</td>\n",
       "      <td>10.439505</td>\n",
       "      <td>6.512951</td>\n",
       "      <td>43.237493</td>\n",
       "      <td>72.136712</td>\n",
       "      <td>10.518407</td>\n",
       "      <td>1.336890</td>\n",
       "      <td>17.750367</td>\n",
       "      <td>2.323883</td>\n",
       "      <td>...</td>\n",
       "      <td>14.097072</td>\n",
       "      <td>-549.292129</td>\n",
       "      <td>12.000525</td>\n",
       "      <td>-550.306171</td>\n",
       "      <td>9.925991</td>\n",
       "      <td>-501.985618</td>\n",
       "      <td>7.948277</td>\n",
       "      <td>-500.060988</td>\n",
       "      <td>12.005620</td>\n",
       "      <td>-601.746110</td>\n",
       "    </tr>\n",
       "    <tr>\n",
       "      <th>759</th>\n",
       "      <td>2016-02-18 20:00:00</td>\n",
       "      <td>8.478624</td>\n",
       "      <td>11.303437</td>\n",
       "      <td>10.547473</td>\n",
       "      <td>35.776254</td>\n",
       "      <td>80.041038</td>\n",
       "      <td>12.958362</td>\n",
       "      <td>2.369492</td>\n",
       "      <td>9.839622</td>\n",
       "      <td>3.066451</td>\n",
       "      <td>...</td>\n",
       "      <td>23.709602</td>\n",
       "      <td>-412.029336</td>\n",
       "      <td>22.639733</td>\n",
       "      <td>-412.896304</td>\n",
       "      <td>25.021629</td>\n",
       "      <td>-428.537556</td>\n",
       "      <td>21.011542</td>\n",
       "      <td>-400.287375</td>\n",
       "      <td>30.004867</td>\n",
       "      <td>-396.683519</td>\n",
       "    </tr>\n",
       "  </tbody>\n",
       "</table>\n",
       "<p>5 rows × 87 columns</p>\n",
       "</div>"
      ],
      "text/plain": [
       "                   date  final.output.concentrate_ag  \\\n",
       "45  2016-01-16 21:00:00                     4.566664   \n",
       "46  2016-01-16 22:00:00                     4.577832   \n",
       "50  2016-01-17 03:00:00                     5.759800   \n",
       "51  2016-01-17 04:00:00                     5.807253   \n",
       "759 2016-02-18 20:00:00                     8.478624   \n",
       "\n",
       "     final.output.concentrate_pb  final.output.concentrate_sol  \\\n",
       "45                     10.406178                      4.588698   \n",
       "46                     10.691605                      5.274175   \n",
       "50                      9.537415                      3.997737   \n",
       "51                     10.439505                      6.512951   \n",
       "759                    11.303437                     10.547473   \n",
       "\n",
       "     final.output.concentrate_au  final.output.recovery  final.output.tail_ag  \\\n",
       "45                     46.614456              68.403877             10.705777   \n",
       "46                     46.250638              70.675633             10.728531   \n",
       "50                     45.267942              68.638723             10.623064   \n",
       "51                     43.237493              72.136712             10.518407   \n",
       "759                    35.776254              80.041038             12.958362   \n",
       "\n",
       "     final.output.tail_pb  final.output.tail_sol  final.output.tail_au  ...  \\\n",
       "45               1.509070              17.875134              2.509776  ...   \n",
       "46               1.641216              18.349339              2.540843  ...   \n",
       "50               1.217058              16.072705              2.471388  ...   \n",
       "51               1.336890              17.750367              2.323883  ...   \n",
       "759              2.369492               9.839622              3.066451  ...   \n",
       "\n",
       "     secondary_cleaner.state.floatbank4_a_air  \\\n",
       "45                                  14.025588   \n",
       "46                                  14.094808   \n",
       "50                                  14.164342   \n",
       "51                                  14.097072   \n",
       "759                                 23.709602   \n",
       "\n",
       "     secondary_cleaner.state.floatbank4_a_level  \\\n",
       "45                                  -550.404242   \n",
       "46                                  -550.676337   \n",
       "50                                  -552.959690   \n",
       "51                                  -549.292129   \n",
       "759                                 -412.029336   \n",
       "\n",
       "     secondary_cleaner.state.floatbank4_b_air  \\\n",
       "45                                  12.028925   \n",
       "46                                  12.004728   \n",
       "50                                  11.917980   \n",
       "51                                  12.000525   \n",
       "759                                 22.639733   \n",
       "\n",
       "     secondary_cleaner.state.floatbank4_b_level  \\\n",
       "45                                  -550.570104   \n",
       "46                                  -550.496522   \n",
       "50                                  -549.417320   \n",
       "51                                  -550.306171   \n",
       "759                                 -412.896304   \n",
       "\n",
       "     secondary_cleaner.state.floatbank5_a_air  \\\n",
       "45                                  10.052072   \n",
       "46                                   9.953139   \n",
       "50                                  10.016315   \n",
       "51                                   9.925991   \n",
       "759                                 25.021629   \n",
       "\n",
       "     secondary_cleaner.state.floatbank5_a_level  \\\n",
       "45                                  -500.797905   \n",
       "46                                  -500.330920   \n",
       "50                                  -497.644975   \n",
       "51                                  -501.985618   \n",
       "759                                 -428.537556   \n",
       "\n",
       "     secondary_cleaner.state.floatbank5_b_air  \\\n",
       "45                                   7.984500   \n",
       "46                                   8.012074   \n",
       "50                                   7.999080   \n",
       "51                                   7.948277   \n",
       "759                                 21.011542   \n",
       "\n",
       "     secondary_cleaner.state.floatbank5_b_level  \\\n",
       "45                                  -499.581046   \n",
       "46                                  -500.133530   \n",
       "50                                  -500.112143   \n",
       "51                                  -500.060988   \n",
       "759                                 -400.287375   \n",
       "\n",
       "     secondary_cleaner.state.floatbank6_a_air  \\\n",
       "45                                  11.982025   \n",
       "46                                  11.975316   \n",
       "50                                  12.043030   \n",
       "51                                  12.005620   \n",
       "759                                 30.004867   \n",
       "\n",
       "     secondary_cleaner.state.floatbank6_a_level  \n",
       "45                                  -599.161228  \n",
       "46                                  -598.839683  \n",
       "50                                  -599.630112  \n",
       "51                                  -601.746110  \n",
       "759                                 -396.683519  \n",
       "\n",
       "[5 rows x 87 columns]"
      ]
     },
     "execution_count": 16,
     "metadata": {},
     "output_type": "execute_result"
    }
   ],
   "source": [
    "# изучим нулевые значения в столбце rougher.output.recovery\n",
    "train_df[train_df['rougher.output.recovery'] < 1].head()"
   ]
  },
  {
   "cell_type": "code",
   "execution_count": 17,
   "metadata": {},
   "outputs": [
    {
     "data": {
      "text/html": [
       "<div>\n",
       "<style scoped>\n",
       "    .dataframe tbody tr th:only-of-type {\n",
       "        vertical-align: middle;\n",
       "    }\n",
       "\n",
       "    .dataframe tbody tr th {\n",
       "        vertical-align: top;\n",
       "    }\n",
       "\n",
       "    .dataframe thead th {\n",
       "        text-align: right;\n",
       "    }\n",
       "</style>\n",
       "<table border=\"1\" class=\"dataframe\">\n",
       "  <thead>\n",
       "    <tr style=\"text-align: right;\">\n",
       "      <th></th>\n",
       "      <th>date</th>\n",
       "      <th>final.output.concentrate_ag</th>\n",
       "      <th>final.output.concentrate_pb</th>\n",
       "      <th>final.output.concentrate_sol</th>\n",
       "      <th>final.output.concentrate_au</th>\n",
       "      <th>final.output.recovery</th>\n",
       "      <th>final.output.tail_ag</th>\n",
       "      <th>final.output.tail_pb</th>\n",
       "      <th>final.output.tail_sol</th>\n",
       "      <th>final.output.tail_au</th>\n",
       "      <th>...</th>\n",
       "      <th>secondary_cleaner.state.floatbank4_a_air</th>\n",
       "      <th>secondary_cleaner.state.floatbank4_a_level</th>\n",
       "      <th>secondary_cleaner.state.floatbank4_b_air</th>\n",
       "      <th>secondary_cleaner.state.floatbank4_b_level</th>\n",
       "      <th>secondary_cleaner.state.floatbank5_a_air</th>\n",
       "      <th>secondary_cleaner.state.floatbank5_a_level</th>\n",
       "      <th>secondary_cleaner.state.floatbank5_b_air</th>\n",
       "      <th>secondary_cleaner.state.floatbank5_b_level</th>\n",
       "      <th>secondary_cleaner.state.floatbank6_a_air</th>\n",
       "      <th>secondary_cleaner.state.floatbank6_a_level</th>\n",
       "    </tr>\n",
       "  </thead>\n",
       "  <tbody>\n",
       "    <tr>\n",
       "      <th>45</th>\n",
       "      <td>2016-01-16 21:00:00</td>\n",
       "      <td>4.566664</td>\n",
       "      <td>10.406178</td>\n",
       "      <td>4.588698</td>\n",
       "      <td>46.614456</td>\n",
       "      <td>68.403877</td>\n",
       "      <td>10.705777</td>\n",
       "      <td>1.509070</td>\n",
       "      <td>17.875134</td>\n",
       "      <td>2.509776</td>\n",
       "      <td>...</td>\n",
       "      <td>14.025588</td>\n",
       "      <td>-550.404242</td>\n",
       "      <td>12.028925</td>\n",
       "      <td>-550.570104</td>\n",
       "      <td>10.052072</td>\n",
       "      <td>-500.797905</td>\n",
       "      <td>7.984500</td>\n",
       "      <td>-499.581046</td>\n",
       "      <td>11.982025</td>\n",
       "      <td>-599.161228</td>\n",
       "    </tr>\n",
       "    <tr>\n",
       "      <th>46</th>\n",
       "      <td>2016-01-16 22:00:00</td>\n",
       "      <td>4.577832</td>\n",
       "      <td>10.691605</td>\n",
       "      <td>5.274175</td>\n",
       "      <td>46.250638</td>\n",
       "      <td>70.675633</td>\n",
       "      <td>10.728531</td>\n",
       "      <td>1.641216</td>\n",
       "      <td>18.349339</td>\n",
       "      <td>2.540843</td>\n",
       "      <td>...</td>\n",
       "      <td>14.094808</td>\n",
       "      <td>-550.676337</td>\n",
       "      <td>12.004728</td>\n",
       "      <td>-550.496522</td>\n",
       "      <td>9.953139</td>\n",
       "      <td>-500.330920</td>\n",
       "      <td>8.012074</td>\n",
       "      <td>-500.133530</td>\n",
       "      <td>11.975316</td>\n",
       "      <td>-598.839683</td>\n",
       "    </tr>\n",
       "    <tr>\n",
       "      <th>50</th>\n",
       "      <td>2016-01-17 03:00:00</td>\n",
       "      <td>5.759800</td>\n",
       "      <td>9.537415</td>\n",
       "      <td>3.997737</td>\n",
       "      <td>45.267942</td>\n",
       "      <td>68.638723</td>\n",
       "      <td>10.623064</td>\n",
       "      <td>1.217058</td>\n",
       "      <td>16.072705</td>\n",
       "      <td>2.471388</td>\n",
       "      <td>...</td>\n",
       "      <td>14.164342</td>\n",
       "      <td>-552.959690</td>\n",
       "      <td>11.917980</td>\n",
       "      <td>-549.417320</td>\n",
       "      <td>10.016315</td>\n",
       "      <td>-497.644975</td>\n",
       "      <td>7.999080</td>\n",
       "      <td>-500.112143</td>\n",
       "      <td>12.043030</td>\n",
       "      <td>-599.630112</td>\n",
       "    </tr>\n",
       "    <tr>\n",
       "      <th>51</th>\n",
       "      <td>2016-01-17 04:00:00</td>\n",
       "      <td>5.807253</td>\n",
       "      <td>10.439505</td>\n",
       "      <td>6.512951</td>\n",
       "      <td>43.237493</td>\n",
       "      <td>72.136712</td>\n",
       "      <td>10.518407</td>\n",
       "      <td>1.336890</td>\n",
       "      <td>17.750367</td>\n",
       "      <td>2.323883</td>\n",
       "      <td>...</td>\n",
       "      <td>14.097072</td>\n",
       "      <td>-549.292129</td>\n",
       "      <td>12.000525</td>\n",
       "      <td>-550.306171</td>\n",
       "      <td>9.925991</td>\n",
       "      <td>-501.985618</td>\n",
       "      <td>7.948277</td>\n",
       "      <td>-500.060988</td>\n",
       "      <td>12.005620</td>\n",
       "      <td>-601.746110</td>\n",
       "    </tr>\n",
       "    <tr>\n",
       "      <th>759</th>\n",
       "      <td>2016-02-18 20:00:00</td>\n",
       "      <td>8.478624</td>\n",
       "      <td>11.303437</td>\n",
       "      <td>10.547473</td>\n",
       "      <td>35.776254</td>\n",
       "      <td>80.041038</td>\n",
       "      <td>12.958362</td>\n",
       "      <td>2.369492</td>\n",
       "      <td>9.839622</td>\n",
       "      <td>3.066451</td>\n",
       "      <td>...</td>\n",
       "      <td>23.709602</td>\n",
       "      <td>-412.029336</td>\n",
       "      <td>22.639733</td>\n",
       "      <td>-412.896304</td>\n",
       "      <td>25.021629</td>\n",
       "      <td>-428.537556</td>\n",
       "      <td>21.011542</td>\n",
       "      <td>-400.287375</td>\n",
       "      <td>30.004867</td>\n",
       "      <td>-396.683519</td>\n",
       "    </tr>\n",
       "  </tbody>\n",
       "</table>\n",
       "<p>5 rows × 87 columns</p>\n",
       "</div>"
      ],
      "text/plain": [
       "                   date  final.output.concentrate_ag  \\\n",
       "45  2016-01-16 21:00:00                     4.566664   \n",
       "46  2016-01-16 22:00:00                     4.577832   \n",
       "50  2016-01-17 03:00:00                     5.759800   \n",
       "51  2016-01-17 04:00:00                     5.807253   \n",
       "759 2016-02-18 20:00:00                     8.478624   \n",
       "\n",
       "     final.output.concentrate_pb  final.output.concentrate_sol  \\\n",
       "45                     10.406178                      4.588698   \n",
       "46                     10.691605                      5.274175   \n",
       "50                      9.537415                      3.997737   \n",
       "51                     10.439505                      6.512951   \n",
       "759                    11.303437                     10.547473   \n",
       "\n",
       "     final.output.concentrate_au  final.output.recovery  final.output.tail_ag  \\\n",
       "45                     46.614456              68.403877             10.705777   \n",
       "46                     46.250638              70.675633             10.728531   \n",
       "50                     45.267942              68.638723             10.623064   \n",
       "51                     43.237493              72.136712             10.518407   \n",
       "759                    35.776254              80.041038             12.958362   \n",
       "\n",
       "     final.output.tail_pb  final.output.tail_sol  final.output.tail_au  ...  \\\n",
       "45               1.509070              17.875134              2.509776  ...   \n",
       "46               1.641216              18.349339              2.540843  ...   \n",
       "50               1.217058              16.072705              2.471388  ...   \n",
       "51               1.336890              17.750367              2.323883  ...   \n",
       "759              2.369492               9.839622              3.066451  ...   \n",
       "\n",
       "     secondary_cleaner.state.floatbank4_a_air  \\\n",
       "45                                  14.025588   \n",
       "46                                  14.094808   \n",
       "50                                  14.164342   \n",
       "51                                  14.097072   \n",
       "759                                 23.709602   \n",
       "\n",
       "     secondary_cleaner.state.floatbank4_a_level  \\\n",
       "45                                  -550.404242   \n",
       "46                                  -550.676337   \n",
       "50                                  -552.959690   \n",
       "51                                  -549.292129   \n",
       "759                                 -412.029336   \n",
       "\n",
       "     secondary_cleaner.state.floatbank4_b_air  \\\n",
       "45                                  12.028925   \n",
       "46                                  12.004728   \n",
       "50                                  11.917980   \n",
       "51                                  12.000525   \n",
       "759                                 22.639733   \n",
       "\n",
       "     secondary_cleaner.state.floatbank4_b_level  \\\n",
       "45                                  -550.570104   \n",
       "46                                  -550.496522   \n",
       "50                                  -549.417320   \n",
       "51                                  -550.306171   \n",
       "759                                 -412.896304   \n",
       "\n",
       "     secondary_cleaner.state.floatbank5_a_air  \\\n",
       "45                                  10.052072   \n",
       "46                                   9.953139   \n",
       "50                                  10.016315   \n",
       "51                                   9.925991   \n",
       "759                                 25.021629   \n",
       "\n",
       "     secondary_cleaner.state.floatbank5_a_level  \\\n",
       "45                                  -500.797905   \n",
       "46                                  -500.330920   \n",
       "50                                  -497.644975   \n",
       "51                                  -501.985618   \n",
       "759                                 -428.537556   \n",
       "\n",
       "     secondary_cleaner.state.floatbank5_b_air  \\\n",
       "45                                   7.984500   \n",
       "46                                   8.012074   \n",
       "50                                   7.999080   \n",
       "51                                   7.948277   \n",
       "759                                 21.011542   \n",
       "\n",
       "     secondary_cleaner.state.floatbank5_b_level  \\\n",
       "45                                  -499.581046   \n",
       "46                                  -500.133530   \n",
       "50                                  -500.112143   \n",
       "51                                  -500.060988   \n",
       "759                                 -400.287375   \n",
       "\n",
       "     secondary_cleaner.state.floatbank6_a_air  \\\n",
       "45                                  11.982025   \n",
       "46                                  11.975316   \n",
       "50                                  12.043030   \n",
       "51                                  12.005620   \n",
       "759                                 30.004867   \n",
       "\n",
       "     secondary_cleaner.state.floatbank6_a_level  \n",
       "45                                  -599.161228  \n",
       "46                                  -598.839683  \n",
       "50                                  -599.630112  \n",
       "51                                  -601.746110  \n",
       "759                                 -396.683519  \n",
       "\n",
       "[5 rows x 87 columns]"
      ]
     },
     "execution_count": 17,
     "metadata": {},
     "output_type": "execute_result"
    }
   ],
   "source": [
    "train_df[train_df['rougher.output.concentrate_au'] < 1].head()"
   ]
  },
  {
   "cell_type": "code",
   "execution_count": 18,
   "metadata": {},
   "outputs": [
    {
     "data": {
      "text/html": [
       "<div>\n",
       "<style scoped>\n",
       "    .dataframe tbody tr th:only-of-type {\n",
       "        vertical-align: middle;\n",
       "    }\n",
       "\n",
       "    .dataframe tbody tr th {\n",
       "        vertical-align: top;\n",
       "    }\n",
       "\n",
       "    .dataframe thead th {\n",
       "        text-align: right;\n",
       "    }\n",
       "</style>\n",
       "<table border=\"1\" class=\"dataframe\">\n",
       "  <thead>\n",
       "    <tr style=\"text-align: right;\">\n",
       "      <th></th>\n",
       "      <th>date</th>\n",
       "      <th>final.output.concentrate_ag</th>\n",
       "      <th>final.output.concentrate_pb</th>\n",
       "      <th>final.output.concentrate_sol</th>\n",
       "      <th>final.output.concentrate_au</th>\n",
       "      <th>final.output.recovery</th>\n",
       "      <th>final.output.tail_ag</th>\n",
       "      <th>final.output.tail_pb</th>\n",
       "      <th>final.output.tail_sol</th>\n",
       "      <th>final.output.tail_au</th>\n",
       "      <th>...</th>\n",
       "      <th>secondary_cleaner.state.floatbank4_a_air</th>\n",
       "      <th>secondary_cleaner.state.floatbank4_a_level</th>\n",
       "      <th>secondary_cleaner.state.floatbank4_b_air</th>\n",
       "      <th>secondary_cleaner.state.floatbank4_b_level</th>\n",
       "      <th>secondary_cleaner.state.floatbank5_a_air</th>\n",
       "      <th>secondary_cleaner.state.floatbank5_a_level</th>\n",
       "      <th>secondary_cleaner.state.floatbank5_b_air</th>\n",
       "      <th>secondary_cleaner.state.floatbank5_b_level</th>\n",
       "      <th>secondary_cleaner.state.floatbank6_a_air</th>\n",
       "      <th>secondary_cleaner.state.floatbank6_a_level</th>\n",
       "    </tr>\n",
       "  </thead>\n",
       "  <tbody>\n",
       "  </tbody>\n",
       "</table>\n",
       "<p>0 rows × 87 columns</p>\n",
       "</div>"
      ],
      "text/plain": [
       "Empty DataFrame\n",
       "Columns: [date, final.output.concentrate_ag, final.output.concentrate_pb, final.output.concentrate_sol, final.output.concentrate_au, final.output.recovery, final.output.tail_ag, final.output.tail_pb, final.output.tail_sol, final.output.tail_au, primary_cleaner.input.sulfate, primary_cleaner.input.depressant, primary_cleaner.input.feed_size, primary_cleaner.input.xanthate, primary_cleaner.output.concentrate_ag, primary_cleaner.output.concentrate_pb, primary_cleaner.output.concentrate_sol, primary_cleaner.output.concentrate_au, primary_cleaner.output.tail_ag, primary_cleaner.output.tail_pb, primary_cleaner.output.tail_sol, primary_cleaner.output.tail_au, primary_cleaner.state.floatbank8_a_air, primary_cleaner.state.floatbank8_a_level, primary_cleaner.state.floatbank8_b_air, primary_cleaner.state.floatbank8_b_level, primary_cleaner.state.floatbank8_c_air, primary_cleaner.state.floatbank8_c_level, primary_cleaner.state.floatbank8_d_air, primary_cleaner.state.floatbank8_d_level, rougher.calculation.sulfate_to_au_concentrate, rougher.calculation.floatbank10_sulfate_to_au_feed, rougher.calculation.floatbank11_sulfate_to_au_feed, rougher.calculation.au_pb_ratio, rougher.input.feed_ag, rougher.input.feed_pb, rougher.input.feed_rate, rougher.input.feed_size, rougher.input.feed_sol, rougher.input.feed_au, rougher.input.floatbank10_sulfate, rougher.input.floatbank10_xanthate, rougher.input.floatbank11_sulfate, rougher.input.floatbank11_xanthate, rougher.output.concentrate_ag, rougher.output.concentrate_pb, rougher.output.concentrate_sol, rougher.output.concentrate_au, rougher.output.recovery, rougher.output.tail_ag, rougher.output.tail_pb, rougher.output.tail_sol, rougher.output.tail_au, rougher.state.floatbank10_a_air, rougher.state.floatbank10_a_level, rougher.state.floatbank10_b_air, rougher.state.floatbank10_b_level, rougher.state.floatbank10_c_air, rougher.state.floatbank10_c_level, rougher.state.floatbank10_d_air, rougher.state.floatbank10_d_level, rougher.state.floatbank10_e_air, rougher.state.floatbank10_e_level, rougher.state.floatbank10_f_air, rougher.state.floatbank10_f_level, secondary_cleaner.output.tail_ag, secondary_cleaner.output.tail_pb, secondary_cleaner.output.tail_sol, secondary_cleaner.output.tail_au, secondary_cleaner.state.floatbank2_a_air, secondary_cleaner.state.floatbank2_a_level, secondary_cleaner.state.floatbank2_b_air, secondary_cleaner.state.floatbank2_b_level, secondary_cleaner.state.floatbank3_a_air, secondary_cleaner.state.floatbank3_a_level, secondary_cleaner.state.floatbank3_b_air, secondary_cleaner.state.floatbank3_b_level, secondary_cleaner.state.floatbank4_a_air, secondary_cleaner.state.floatbank4_a_level, secondary_cleaner.state.floatbank4_b_air, secondary_cleaner.state.floatbank4_b_level, secondary_cleaner.state.floatbank5_a_air, secondary_cleaner.state.floatbank5_a_level, secondary_cleaner.state.floatbank5_b_air, secondary_cleaner.state.floatbank5_b_level, secondary_cleaner.state.floatbank6_a_air, secondary_cleaner.state.floatbank6_a_level]\n",
       "Index: []\n",
       "\n",
       "[0 rows x 87 columns]"
      ]
     },
     "execution_count": 18,
     "metadata": {},
     "output_type": "execute_result"
    }
   ],
   "source": [
    "# в данных нет информации о этапе rougher, удалим эти значения, так как они могут исказить данные\n",
    "train_df = train_df.drop(train_df[train_df['rougher.output.recovery'] == 0].index)\n",
    "train_df[train_df['rougher.output.recovery'] < 1].head()"
   ]
  },
  {
   "cell_type": "code",
   "execution_count": 19,
   "metadata": {},
   "outputs": [
    {
     "data": {
      "image/png": "[encoded data removed]",
      "text/plain": [
       "<Figure size 864x648 with 1 Axes>"
      ]
     },
     "metadata": {
      "needs_background": "light"
     },
     "output_type": "display_data"
    }
   ],
   "source": [
    "plt.figure(figsize=[12,9])\n",
    "\n",
    "plt.hist(train_df['final.output.recovery'], bins=100)\n",
    "\n",
    "plt.xlim([0, 100])\n",
    "plt.ylim([0, 1000])\n",
    "\n",
    "plt.xlabel(\"Эффективность обогащения финального концентрата \")\n",
    "plt.ylabel(\"Количество результатов\")\n",
    "\n",
    "plt.title(\"Гистограмма распределения по эффективности обогащения\")\n",
    "plt.show()"
   ]
  },
  {
   "cell_type": "code",
   "execution_count": 20,
   "metadata": {},
   "outputs": [
    {
     "data": {
      "text/html": [
       "<div>\n",
       "<style scoped>\n",
       "    .dataframe tbody tr th:only-of-type {\n",
       "        vertical-align: middle;\n",
       "    }\n",
       "\n",
       "    .dataframe tbody tr th {\n",
       "        vertical-align: top;\n",
       "    }\n",
       "\n",
       "    .dataframe thead th {\n",
       "        text-align: right;\n",
       "    }\n",
       "</style>\n",
       "<table border=\"1\" class=\"dataframe\">\n",
       "  <thead>\n",
       "    <tr style=\"text-align: right;\">\n",
       "      <th></th>\n",
       "      <th>date</th>\n",
       "      <th>final.output.concentrate_ag</th>\n",
       "      <th>final.output.concentrate_pb</th>\n",
       "      <th>final.output.concentrate_sol</th>\n",
       "      <th>final.output.concentrate_au</th>\n",
       "      <th>final.output.recovery</th>\n",
       "      <th>final.output.tail_ag</th>\n",
       "      <th>final.output.tail_pb</th>\n",
       "      <th>final.output.tail_sol</th>\n",
       "      <th>final.output.tail_au</th>\n",
       "      <th>...</th>\n",
       "      <th>secondary_cleaner.state.floatbank4_a_air</th>\n",
       "      <th>secondary_cleaner.state.floatbank4_a_level</th>\n",
       "      <th>secondary_cleaner.state.floatbank4_b_air</th>\n",
       "      <th>secondary_cleaner.state.floatbank4_b_level</th>\n",
       "      <th>secondary_cleaner.state.floatbank5_a_air</th>\n",
       "      <th>secondary_cleaner.state.floatbank5_a_level</th>\n",
       "      <th>secondary_cleaner.state.floatbank5_b_air</th>\n",
       "      <th>secondary_cleaner.state.floatbank5_b_level</th>\n",
       "      <th>secondary_cleaner.state.floatbank6_a_air</th>\n",
       "      <th>secondary_cleaner.state.floatbank6_a_level</th>\n",
       "    </tr>\n",
       "  </thead>\n",
       "  <tbody>\n",
       "    <tr>\n",
       "      <th>644</th>\n",
       "      <td>2016-02-13 11:00:00</td>\n",
       "      <td>0.0</td>\n",
       "      <td>0.0</td>\n",
       "      <td>0.0</td>\n",
       "      <td>0.0</td>\n",
       "      <td>0.0</td>\n",
       "      <td>8.894029</td>\n",
       "      <td>0.843584</td>\n",
       "      <td>15.417342</td>\n",
       "      <td>1.779052</td>\n",
       "      <td>...</td>\n",
       "      <td>21.991762</td>\n",
       "      <td>-399.587122</td>\n",
       "      <td>21.988937</td>\n",
       "      <td>-401.366408</td>\n",
       "      <td>22.995012</td>\n",
       "      <td>-399.370680</td>\n",
       "      <td>20.966863</td>\n",
       "      <td>-399.308354</td>\n",
       "      <td>24.987274</td>\n",
       "      <td>-399.619808</td>\n",
       "    </tr>\n",
       "    <tr>\n",
       "      <th>1193</th>\n",
       "      <td>2016-03-11 10:00:00</td>\n",
       "      <td>0.0</td>\n",
       "      <td>0.0</td>\n",
       "      <td>0.0</td>\n",
       "      <td>0.0</td>\n",
       "      <td>0.0</td>\n",
       "      <td>10.817313</td>\n",
       "      <td>1.462800</td>\n",
       "      <td>16.407607</td>\n",
       "      <td>2.984504</td>\n",
       "      <td>...</td>\n",
       "      <td>11.979352</td>\n",
       "      <td>-453.431061</td>\n",
       "      <td>12.003445</td>\n",
       "      <td>-450.179844</td>\n",
       "      <td>11.982937</td>\n",
       "      <td>-449.856468</td>\n",
       "      <td>9.927727</td>\n",
       "      <td>-450.521700</td>\n",
       "      <td>19.971682</td>\n",
       "      <td>-500.685521</td>\n",
       "    </tr>\n",
       "    <tr>\n",
       "      <th>1194</th>\n",
       "      <td>2016-03-11 11:00:00</td>\n",
       "      <td>0.0</td>\n",
       "      <td>0.0</td>\n",
       "      <td>0.0</td>\n",
       "      <td>0.0</td>\n",
       "      <td>0.0</td>\n",
       "      <td>10.436792</td>\n",
       "      <td>1.207636</td>\n",
       "      <td>17.800392</td>\n",
       "      <td>2.747294</td>\n",
       "      <td>...</td>\n",
       "      <td>12.034636</td>\n",
       "      <td>-446.590944</td>\n",
       "      <td>12.130405</td>\n",
       "      <td>-449.684812</td>\n",
       "      <td>11.844983</td>\n",
       "      <td>-450.881424</td>\n",
       "      <td>9.916784</td>\n",
       "      <td>-449.542871</td>\n",
       "      <td>20.004767</td>\n",
       "      <td>-500.137068</td>\n",
       "    </tr>\n",
       "    <tr>\n",
       "      <th>1195</th>\n",
       "      <td>2016-03-11 12:00:00</td>\n",
       "      <td>0.0</td>\n",
       "      <td>0.0</td>\n",
       "      <td>0.0</td>\n",
       "      <td>0.0</td>\n",
       "      <td>0.0</td>\n",
       "      <td>10.637073</td>\n",
       "      <td>1.405778</td>\n",
       "      <td>17.195897</td>\n",
       "      <td>2.791440</td>\n",
       "      <td>...</td>\n",
       "      <td>12.016716</td>\n",
       "      <td>-496.613149</td>\n",
       "      <td>12.055535</td>\n",
       "      <td>-496.908551</td>\n",
       "      <td>12.091144</td>\n",
       "      <td>-496.404140</td>\n",
       "      <td>9.976074</td>\n",
       "      <td>-496.783155</td>\n",
       "      <td>19.921634</td>\n",
       "      <td>-500.769011</td>\n",
       "    </tr>\n",
       "    <tr>\n",
       "      <th>1196</th>\n",
       "      <td>2016-03-11 13:00:00</td>\n",
       "      <td>0.0</td>\n",
       "      <td>0.0</td>\n",
       "      <td>0.0</td>\n",
       "      <td>0.0</td>\n",
       "      <td>0.0</td>\n",
       "      <td>10.530320</td>\n",
       "      <td>1.461550</td>\n",
       "      <td>17.556860</td>\n",
       "      <td>2.682127</td>\n",
       "      <td>...</td>\n",
       "      <td>11.993898</td>\n",
       "      <td>-500.427824</td>\n",
       "      <td>12.083824</td>\n",
       "      <td>-500.162537</td>\n",
       "      <td>12.078809</td>\n",
       "      <td>-499.903743</td>\n",
       "      <td>10.075259</td>\n",
       "      <td>-499.540325</td>\n",
       "      <td>20.039788</td>\n",
       "      <td>-499.932405</td>\n",
       "    </tr>\n",
       "  </tbody>\n",
       "</table>\n",
       "<p>5 rows × 87 columns</p>\n",
       "</div>"
      ],
      "text/plain": [
       "                    date  final.output.concentrate_ag  \\\n",
       "644  2016-02-13 11:00:00                          0.0   \n",
       "1193 2016-03-11 10:00:00                          0.0   \n",
       "1194 2016-03-11 11:00:00                          0.0   \n",
       "1195 2016-03-11 12:00:00                          0.0   \n",
       "1196 2016-03-11 13:00:00                          0.0   \n",
       "\n",
       "      final.output.concentrate_pb  final.output.concentrate_sol  \\\n",
       "644                           0.0                           0.0   \n",
       "1193                          0.0                           0.0   \n",
       "1194                          0.0                           0.0   \n",
       "1195                          0.0                           0.0   \n",
       "1196                          0.0                           0.0   \n",
       "\n",
       "      final.output.concentrate_au  final.output.recovery  \\\n",
       "644                           0.0                    0.0   \n",
       "1193                          0.0                    0.0   \n",
       "1194                          0.0                    0.0   \n",
       "1195                          0.0                    0.0   \n",
       "1196                          0.0                    0.0   \n",
       "\n",
       "      final.output.tail_ag  final.output.tail_pb  final.output.tail_sol  \\\n",
       "644               8.894029              0.843584              15.417342   \n",
       "1193             10.817313              1.462800              16.407607   \n",
       "1194             10.436792              1.207636              17.800392   \n",
       "1195             10.637073              1.405778              17.195897   \n",
       "1196             10.530320              1.461550              17.556860   \n",
       "\n",
       "      final.output.tail_au  ...  secondary_cleaner.state.floatbank4_a_air  \\\n",
       "644               1.779052  ...                                 21.991762   \n",
       "1193              2.984504  ...                                 11.979352   \n",
       "1194              2.747294  ...                                 12.034636   \n",
       "1195              2.791440  ...                                 12.016716   \n",
       "1196              2.682127  ...                                 11.993898   \n",
       "\n",
       "      secondary_cleaner.state.floatbank4_a_level  \\\n",
       "644                                  -399.587122   \n",
       "1193                                 -453.431061   \n",
       "1194                                 -446.590944   \n",
       "1195                                 -496.613149   \n",
       "1196                                 -500.427824   \n",
       "\n",
       "      secondary_cleaner.state.floatbank4_b_air  \\\n",
       "644                                  21.988937   \n",
       "1193                                 12.003445   \n",
       "1194                                 12.130405   \n",
       "1195                                 12.055535   \n",
       "1196                                 12.083824   \n",
       "\n",
       "      secondary_cleaner.state.floatbank4_b_level  \\\n",
       "644                                  -401.366408   \n",
       "1193                                 -450.179844   \n",
       "1194                                 -449.684812   \n",
       "1195                                 -496.908551   \n",
       "1196                                 -500.162537   \n",
       "\n",
       "      secondary_cleaner.state.floatbank5_a_air  \\\n",
       "644                                  22.995012   \n",
       "1193                                 11.982937   \n",
       "1194                                 11.844983   \n",
       "1195                                 12.091144   \n",
       "1196                                 12.078809   \n",
       "\n",
       "      secondary_cleaner.state.floatbank5_a_level  \\\n",
       "644                                  -399.370680   \n",
       "1193                                 -449.856468   \n",
       "1194                                 -450.881424   \n",
       "1195                                 -496.404140   \n",
       "1196                                 -499.903743   \n",
       "\n",
       "      secondary_cleaner.state.floatbank5_b_air  \\\n",
       "644                                  20.966863   \n",
       "1193                                  9.927727   \n",
       "1194                                  9.916784   \n",
       "1195                                  9.976074   \n",
       "1196                                 10.075259   \n",
       "\n",
       "      secondary_cleaner.state.floatbank5_b_level  \\\n",
       "644                                  -399.308354   \n",
       "1193                                 -450.521700   \n",
       "1194                                 -449.542871   \n",
       "1195                                 -496.783155   \n",
       "1196                                 -499.540325   \n",
       "\n",
       "      secondary_cleaner.state.floatbank6_a_air  \\\n",
       "644                                  24.987274   \n",
       "1193                                 19.971682   \n",
       "1194                                 20.004767   \n",
       "1195                                 19.921634   \n",
       "1196                                 20.039788   \n",
       "\n",
       "      secondary_cleaner.state.floatbank6_a_level  \n",
       "644                                  -399.619808  \n",
       "1193                                 -500.685521  \n",
       "1194                                 -500.137068  \n",
       "1195                                 -500.769011  \n",
       "1196                                 -499.932405  \n",
       "\n",
       "[5 rows x 87 columns]"
      ]
     },
     "execution_count": 20,
     "metadata": {},
     "output_type": "execute_result"
    }
   ],
   "source": [
    "train_df[train_df['final.output.recovery'] < 1].head()"
   ]
  },
  {
   "cell_type": "code",
   "execution_count": 21,
   "metadata": {},
   "outputs": [
    {
     "data": {
      "text/html": [
       "<div>\n",
       "<style scoped>\n",
       "    .dataframe tbody tr th:only-of-type {\n",
       "        vertical-align: middle;\n",
       "    }\n",
       "\n",
       "    .dataframe tbody tr th {\n",
       "        vertical-align: top;\n",
       "    }\n",
       "\n",
       "    .dataframe thead th {\n",
       "        text-align: right;\n",
       "    }\n",
       "</style>\n",
       "<table border=\"1\" class=\"dataframe\">\n",
       "  <thead>\n",
       "    <tr style=\"text-align: right;\">\n",
       "      <th></th>\n",
       "      <th>date</th>\n",
       "      <th>final.output.concentrate_ag</th>\n",
       "      <th>final.output.concentrate_pb</th>\n",
       "      <th>final.output.concentrate_sol</th>\n",
       "      <th>final.output.concentrate_au</th>\n",
       "      <th>final.output.recovery</th>\n",
       "      <th>final.output.tail_ag</th>\n",
       "      <th>final.output.tail_pb</th>\n",
       "      <th>final.output.tail_sol</th>\n",
       "      <th>final.output.tail_au</th>\n",
       "      <th>...</th>\n",
       "      <th>secondary_cleaner.state.floatbank4_a_air</th>\n",
       "      <th>secondary_cleaner.state.floatbank4_a_level</th>\n",
       "      <th>secondary_cleaner.state.floatbank4_b_air</th>\n",
       "      <th>secondary_cleaner.state.floatbank4_b_level</th>\n",
       "      <th>secondary_cleaner.state.floatbank5_a_air</th>\n",
       "      <th>secondary_cleaner.state.floatbank5_a_level</th>\n",
       "      <th>secondary_cleaner.state.floatbank5_b_air</th>\n",
       "      <th>secondary_cleaner.state.floatbank5_b_level</th>\n",
       "      <th>secondary_cleaner.state.floatbank6_a_air</th>\n",
       "      <th>secondary_cleaner.state.floatbank6_a_level</th>\n",
       "    </tr>\n",
       "  </thead>\n",
       "  <tbody>\n",
       "  </tbody>\n",
       "</table>\n",
       "<p>0 rows × 87 columns</p>\n",
       "</div>"
      ],
      "text/plain": [
       "Empty DataFrame\n",
       "Columns: [date, final.output.concentrate_ag, final.output.concentrate_pb, final.output.concentrate_sol, final.output.concentrate_au, final.output.recovery, final.output.tail_ag, final.output.tail_pb, final.output.tail_sol, final.output.tail_au, primary_cleaner.input.sulfate, primary_cleaner.input.depressant, primary_cleaner.input.feed_size, primary_cleaner.input.xanthate, primary_cleaner.output.concentrate_ag, primary_cleaner.output.concentrate_pb, primary_cleaner.output.concentrate_sol, primary_cleaner.output.concentrate_au, primary_cleaner.output.tail_ag, primary_cleaner.output.tail_pb, primary_cleaner.output.tail_sol, primary_cleaner.output.tail_au, primary_cleaner.state.floatbank8_a_air, primary_cleaner.state.floatbank8_a_level, primary_cleaner.state.floatbank8_b_air, primary_cleaner.state.floatbank8_b_level, primary_cleaner.state.floatbank8_c_air, primary_cleaner.state.floatbank8_c_level, primary_cleaner.state.floatbank8_d_air, primary_cleaner.state.floatbank8_d_level, rougher.calculation.sulfate_to_au_concentrate, rougher.calculation.floatbank10_sulfate_to_au_feed, rougher.calculation.floatbank11_sulfate_to_au_feed, rougher.calculation.au_pb_ratio, rougher.input.feed_ag, rougher.input.feed_pb, rougher.input.feed_rate, rougher.input.feed_size, rougher.input.feed_sol, rougher.input.feed_au, rougher.input.floatbank10_sulfate, rougher.input.floatbank10_xanthate, rougher.input.floatbank11_sulfate, rougher.input.floatbank11_xanthate, rougher.output.concentrate_ag, rougher.output.concentrate_pb, rougher.output.concentrate_sol, rougher.output.concentrate_au, rougher.output.recovery, rougher.output.tail_ag, rougher.output.tail_pb, rougher.output.tail_sol, rougher.output.tail_au, rougher.state.floatbank10_a_air, rougher.state.floatbank10_a_level, rougher.state.floatbank10_b_air, rougher.state.floatbank10_b_level, rougher.state.floatbank10_c_air, rougher.state.floatbank10_c_level, rougher.state.floatbank10_d_air, rougher.state.floatbank10_d_level, rougher.state.floatbank10_e_air, rougher.state.floatbank10_e_level, rougher.state.floatbank10_f_air, rougher.state.floatbank10_f_level, secondary_cleaner.output.tail_ag, secondary_cleaner.output.tail_pb, secondary_cleaner.output.tail_sol, secondary_cleaner.output.tail_au, secondary_cleaner.state.floatbank2_a_air, secondary_cleaner.state.floatbank2_a_level, secondary_cleaner.state.floatbank2_b_air, secondary_cleaner.state.floatbank2_b_level, secondary_cleaner.state.floatbank3_a_air, secondary_cleaner.state.floatbank3_a_level, secondary_cleaner.state.floatbank3_b_air, secondary_cleaner.state.floatbank3_b_level, secondary_cleaner.state.floatbank4_a_air, secondary_cleaner.state.floatbank4_a_level, secondary_cleaner.state.floatbank4_b_air, secondary_cleaner.state.floatbank4_b_level, secondary_cleaner.state.floatbank5_a_air, secondary_cleaner.state.floatbank5_a_level, secondary_cleaner.state.floatbank5_b_air, secondary_cleaner.state.floatbank5_b_level, secondary_cleaner.state.floatbank6_a_air, secondary_cleaner.state.floatbank6_a_level]\n",
       "Index: []\n",
       "\n",
       "[0 rows x 87 columns]"
      ]
     },
     "execution_count": 21,
     "metadata": {},
     "output_type": "execute_result"
    }
   ],
   "source": [
    "train_df = train_df.drop(train_df[train_df['final.output.recovery'] == 0].index)\n",
    "train_df[train_df['final.output.recovery'] < 1].head()"
   ]
  },
  {
   "cell_type": "code",
   "execution_count": 22,
   "metadata": {
    "scrolled": true
   },
   "outputs": [
    {
     "name": "stdout",
     "output_type": "stream",
     "text": [
      "<class 'pandas.core.frame.DataFrame'>\n",
      "Int64Index: 10784 entries, 0 to 14148\n",
      "Data columns (total 87 columns):\n",
      " #   Column                                              Non-Null Count  Dtype         \n",
      "---  ------                                              --------------  -----         \n",
      " 0   date                                                10784 non-null  datetime64[ns]\n",
      " 1   final.output.concentrate_ag                         10784 non-null  float64       \n",
      " 2   final.output.concentrate_pb                         10784 non-null  float64       \n",
      " 3   final.output.concentrate_sol                        10784 non-null  float64       \n",
      " 4   final.output.concentrate_au                         10784 non-null  float64       \n",
      " 5   final.output.recovery                               10784 non-null  float64       \n",
      " 6   final.output.tail_ag                                10784 non-null  float64       \n",
      " 7   final.output.tail_pb                                10784 non-null  float64       \n",
      " 8   final.output.tail_sol                               10784 non-null  float64       \n",
      " 9   final.output.tail_au                                10784 non-null  float64       \n",
      " 10  primary_cleaner.input.sulfate                       10784 non-null  float64       \n",
      " 11  primary_cleaner.input.depressant                    10784 non-null  float64       \n",
      " 12  primary_cleaner.input.feed_size                     10784 non-null  float64       \n",
      " 13  primary_cleaner.input.xanthate                      10784 non-null  float64       \n",
      " 14  primary_cleaner.output.concentrate_ag               10784 non-null  float64       \n",
      " 15  primary_cleaner.output.concentrate_pb               10784 non-null  float64       \n",
      " 16  primary_cleaner.output.concentrate_sol              10784 non-null  float64       \n",
      " 17  primary_cleaner.output.concentrate_au               10784 non-null  float64       \n",
      " 18  primary_cleaner.output.tail_ag                      10784 non-null  float64       \n",
      " 19  primary_cleaner.output.tail_pb                      10784 non-null  float64       \n",
      " 20  primary_cleaner.output.tail_sol                     10784 non-null  float64       \n",
      " 21  primary_cleaner.output.tail_au                      10784 non-null  float64       \n",
      " 22  primary_cleaner.state.floatbank8_a_air              10784 non-null  float64       \n",
      " 23  primary_cleaner.state.floatbank8_a_level            10784 non-null  float64       \n",
      " 24  primary_cleaner.state.floatbank8_b_air              10784 non-null  float64       \n",
      " 25  primary_cleaner.state.floatbank8_b_level            10784 non-null  float64       \n",
      " 26  primary_cleaner.state.floatbank8_c_air              10784 non-null  float64       \n",
      " 27  primary_cleaner.state.floatbank8_c_level            10784 non-null  float64       \n",
      " 28  primary_cleaner.state.floatbank8_d_air              10784 non-null  float64       \n",
      " 29  primary_cleaner.state.floatbank8_d_level            10784 non-null  float64       \n",
      " 30  rougher.calculation.sulfate_to_au_concentrate       10784 non-null  float64       \n",
      " 31  rougher.calculation.floatbank10_sulfate_to_au_feed  10784 non-null  float64       \n",
      " 32  rougher.calculation.floatbank11_sulfate_to_au_feed  10784 non-null  float64       \n",
      " 33  rougher.calculation.au_pb_ratio                     10784 non-null  float64       \n",
      " 34  rougher.input.feed_ag                               10784 non-null  float64       \n",
      " 35  rougher.input.feed_pb                               10784 non-null  float64       \n",
      " 36  rougher.input.feed_rate                             10784 non-null  float64       \n",
      " 37  rougher.input.feed_size                             10784 non-null  float64       \n",
      " 38  rougher.input.feed_sol                              10784 non-null  float64       \n",
      " 39  rougher.input.feed_au                               10784 non-null  float64       \n",
      " 40  rougher.input.floatbank10_sulfate                   10784 non-null  float64       \n",
      " 41  rougher.input.floatbank10_xanthate                  10784 non-null  float64       \n",
      " 42  rougher.input.floatbank11_sulfate                   10784 non-null  float64       \n",
      " 43  rougher.input.floatbank11_xanthate                  10784 non-null  float64       \n",
      " 44  rougher.output.concentrate_ag                       10784 non-null  float64       \n",
      " 45  rougher.output.concentrate_pb                       10784 non-null  float64       \n",
      " 46  rougher.output.concentrate_sol                      10784 non-null  float64       \n",
      " 47  rougher.output.concentrate_au                       10784 non-null  float64       \n",
      " 48  rougher.output.recovery                             10784 non-null  float64       \n",
      " 49  rougher.output.tail_ag                              10784 non-null  float64       \n",
      " 50  rougher.output.tail_pb                              10784 non-null  float64       \n",
      " 51  rougher.output.tail_sol                             10784 non-null  float64       \n",
      " 52  rougher.output.tail_au                              10784 non-null  float64       \n",
      " 53  rougher.state.floatbank10_a_air                     10784 non-null  float64       \n",
      " 54  rougher.state.floatbank10_a_level                   10784 non-null  float64       \n",
      " 55  rougher.state.floatbank10_b_air                     10784 non-null  float64       \n",
      " 56  rougher.state.floatbank10_b_level                   10784 non-null  float64       \n",
      " 57  rougher.state.floatbank10_c_air                     10784 non-null  float64       \n",
      " 58  rougher.state.floatbank10_c_level                   10784 non-null  float64       \n",
      " 59  rougher.state.floatbank10_d_air                     10784 non-null  float64       \n",
      " 60  rougher.state.floatbank10_d_level                   10784 non-null  float64       \n",
      " 61  rougher.state.floatbank10_e_air                     10784 non-null  float64       \n",
      " 62  rougher.state.floatbank10_e_level                   10784 non-null  float64       \n",
      " 63  rougher.state.floatbank10_f_air                     10784 non-null  float64       \n",
      " 64  rougher.state.floatbank10_f_level                   10784 non-null  float64       \n",
      " 65  secondary_cleaner.output.tail_ag                    10784 non-null  float64       \n",
      " 66  secondary_cleaner.output.tail_pb                    10784 non-null  float64       \n",
      " 67  secondary_cleaner.output.tail_sol                   10784 non-null  float64       \n",
      " 68  secondary_cleaner.output.tail_au                    10784 non-null  float64       \n",
      " 69  secondary_cleaner.state.floatbank2_a_air            10784 non-null  float64       \n",
      " 70  secondary_cleaner.state.floatbank2_a_level          10784 non-null  float64       \n",
      " 71  secondary_cleaner.state.floatbank2_b_air            10784 non-null  float64       \n",
      " 72  secondary_cleaner.state.floatbank2_b_level          10784 non-null  float64       \n",
      " 73  secondary_cleaner.state.floatbank3_a_air            10784 non-null  float64       \n",
      " 74  secondary_cleaner.state.floatbank3_a_level          10784 non-null  float64       \n",
      " 75  secondary_cleaner.state.floatbank3_b_air            10784 non-null  float64       \n",
      " 76  secondary_cleaner.state.floatbank3_b_level          10784 non-null  float64       \n",
      " 77  secondary_cleaner.state.floatbank4_a_air            10784 non-null  float64       \n",
      " 78  secondary_cleaner.state.floatbank4_a_level          10784 non-null  float64       \n",
      " 79  secondary_cleaner.state.floatbank4_b_air            10784 non-null  float64       \n",
      " 80  secondary_cleaner.state.floatbank4_b_level          10784 non-null  float64       \n",
      " 81  secondary_cleaner.state.floatbank5_a_air            10784 non-null  float64       \n",
      " 82  secondary_cleaner.state.floatbank5_a_level          10784 non-null  float64       \n",
      " 83  secondary_cleaner.state.floatbank5_b_air            10784 non-null  float64       \n",
      " 84  secondary_cleaner.state.floatbank5_b_level          10784 non-null  float64       \n",
      " 85  secondary_cleaner.state.floatbank6_a_air            10784 non-null  float64       \n",
      " 86  secondary_cleaner.state.floatbank6_a_level          10784 non-null  float64       \n",
      "dtypes: datetime64[ns](1), float64(86)\n",
      "memory usage: 7.2 MB\n"
     ]
    }
   ],
   "source": [
    "train_df.info()"
   ]
  },
  {
   "cell_type": "code",
   "execution_count": 23,
   "metadata": {},
   "outputs": [
    {
     "data": {
      "text/plain": [
       "109"
      ]
     },
     "execution_count": 23,
     "metadata": {},
     "output_type": "execute_result"
    }
   ],
   "source": [
    "# проверим есть ли нулевые значения в primary_cleaner.output и secondary_cleaner.output\n",
    "train_df[train_df['primary_cleaner.output.concentrate_au'] < 1]['primary_cleaner.output.concentrate_au'].count()"
   ]
  },
  {
   "cell_type": "code",
   "execution_count": 24,
   "metadata": {},
   "outputs": [
    {
     "data": {
      "text/plain": [
       "426"
      ]
     },
     "execution_count": 24,
     "metadata": {},
     "output_type": "execute_result"
    }
   ],
   "source": [
    "train_df[train_df['secondary_cleaner.output.tail_au'] < 1]['secondary_cleaner.output.tail_au'].count()"
   ]
  },
  {
   "cell_type": "markdown",
   "metadata": {},
   "source": [
    "<div style=\"border:solid green 2px; padding: 20px\">\n",
    "\n",
    "### Вывод\n",
    "    \n",
    "Данные загружены и изучены.\n",
    "\n",
    "В ашем распоряжении сырые данные: их просто выгрузили из хранилища. Данные находятся в трёх файлах:\n",
    "\n",
    "- gold_recovery_train_new.csv — обучающая выборка;\n",
    "- gold_recovery_test_new.csv — тестовая выборка;\n",
    "- gold_recovery_full_new.csv — исходные данные. \n",
    "\n",
    "Данные индексируются датой и временем получения информации (признак date). Соседние по времени параметры часто похожи.\n",
    "Некоторые параметры недоступны, потому что замеряются и/или рассчитываются значительно позже. Из-за этого в тестовой выборке отсутствуют некоторые признаки, которые могут быть в обучающей. Также в тестовом наборе нет целевых признаков.\n",
    "\n",
    "Исходный датасет содержит обучающую и тестовую выборки со всеми признаками.\n",
    "\n",
    "По данным этапам тоже присутвуют нулевые значения. Но так как они не являются целью модели и не входят в список столбцов обучающей модели, оставим их без изменения. Данные готовы к дальнейшему анализу.\n",
    "    \n",
    "</div>     "
   ]
  },
  {
   "cell_type": "markdown",
   "metadata": {},
   "source": [
    "## Анализ данных"
   ]
  },
  {
   "cell_type": "markdown",
   "metadata": {},
   "source": [
    "### Концентрация металлов (Au, Ag, Pb) на различных этапах очистки"
   ]
  },
  {
   "cell_type": "code",
   "execution_count": 25,
   "metadata": {},
   "outputs": [
    {
     "data": {
      "image/png": "[encoded data removed]",
      "text/plain": [
       "<Figure size 864x648 with 1 Axes>"
      ]
     },
     "metadata": {
      "needs_background": "light"
     },
     "output_type": "display_data"
    }
   ],
   "source": [
    "plt.figure(figsize=[12,9])\n",
    "\n",
    "plt.hist(train_df['final.output.concentrate_au'], bins=100, label = 'final.output', alpha=.5)\n",
    "plt.hist(train_df['primary_cleaner.output.concentrate_au'], bins=100, label = 'primary_cleaner.output', alpha=.5)\n",
    "plt.hist(train_df['rougher.output.concentrate_au'], bins=100, label = 'rougher.output', alpha=.5)\n",
    "\n",
    "plt.xlim([0, 55])\n",
    "plt.ylim([0, 1000])\n",
    "\n",
    "plt.xlabel(\"Концентрация золота на выходе этапов\")\n",
    "plt.ylabel(\"Количество результатов\")\n",
    "\n",
    "plt.legend(loc='upper left', fontsize='x-large')\n",
    "\n",
    "plt.title(\"Гистограмма распределения концентрации золота\")\n",
    "plt.show()"
   ]
  },
  {
   "cell_type": "markdown",
   "metadata": {},
   "source": [
    "Концентрация золота повышается с каждым этапом. Цель флотации и очисток увеличить концентрацию золота."
   ]
  },
  {
   "cell_type": "code",
   "execution_count": 26,
   "metadata": {},
   "outputs": [
    {
     "data": {
      "image/png": "[encoded data removed]",
      "text/plain": [
       "<Figure size 864x648 with 1 Axes>"
      ]
     },
     "metadata": {
      "needs_background": "light"
     },
     "output_type": "display_data"
    }
   ],
   "source": [
    "plt.figure(figsize=[12,9])\n",
    "\n",
    "plt.hist(train_df['final.output.concentrate_ag'], bins=100, label = 'final.output', alpha=.5)\n",
    "plt.hist(train_df['primary_cleaner.output.concentrate_ag'], bins=100, label = 'primary_cleaner.output', alpha=.5)\n",
    "plt.hist(train_df['rougher.output.concentrate_ag'], bins=100, label = 'rougher.output', alpha=.5)\n",
    "\n",
    "plt.xlim([0, 25])\n",
    "plt.ylim([0, 600])\n",
    "\n",
    "plt.xlabel(\"Концентрация серебра на выходе этапов\")\n",
    "plt.ylabel(\"Количество результатов\")\n",
    "\n",
    "plt.legend(loc='upper left', fontsize='x-large')\n",
    "\n",
    "plt.title(\"Гистограмма распределения концентрации серебра\")\n",
    "plt.show()"
   ]
  },
  {
   "cell_type": "markdown",
   "metadata": {},
   "source": [
    "Конецентрация серебра понижается с каждым шагом очистки. Так как основным благородным металом является золото, то остальные металлы и соединения должны быть отфильтрованы."
   ]
  },
  {
   "cell_type": "code",
   "execution_count": 27,
   "metadata": {},
   "outputs": [
    {
     "data": {
      "image/png": "[encoded data removed]",
      "text/plain": [
       "<Figure size 864x648 with 1 Axes>"
      ]
     },
     "metadata": {
      "needs_background": "light"
     },
     "output_type": "display_data"
    }
   ],
   "source": [
    "plt.figure(figsize=[12,9])\n",
    "\n",
    "plt.hist(train_df['final.output.concentrate_pb'], bins=100, label = 'final.output', alpha=.5)\n",
    "plt.hist(train_df['primary_cleaner.output.concentrate_pb'], bins=100, label = 'primary_cleaner.output', alpha=.5)\n",
    "plt.hist(train_df['rougher.output.concentrate_pb'], bins=100, label = 'rougher.output', alpha=.5)\n",
    "\n",
    "plt.xlim([0, 20])\n",
    "plt.ylim([0, 600])\n",
    "\n",
    "plt.xlabel(\"Концентрация свинца на выходе этапов\")\n",
    "plt.ylabel(\"Количество результатов\")\n",
    "\n",
    "plt.legend(loc='upper left', fontsize='x-large')\n",
    "\n",
    "plt.title(\"Гистограмма распределения концентрации свинца\")\n",
    "plt.show()"
   ]
  },
  {
   "cell_type": "markdown",
   "metadata": {},
   "source": [
    "Концентрация свинца повышается с этапа rougher до primary_cleaner. И потом усредняется. Это связано с химическим процесами очищения золота."
   ]
  },
  {
   "cell_type": "markdown",
   "metadata": {},
   "source": [
    "### Распределение размеров гранул сырья на обучающей и тестовой выборках\n",
    "\n",
    "Если распределения сильно отличаются друг от друга, оценка модели будет неправильной."
   ]
  },
  {
   "cell_type": "code",
   "execution_count": 28,
   "metadata": {},
   "outputs": [
    {
     "data": {
      "text/plain": [
       "<AxesSubplot:xlabel='rougher.input.feed_size', ylabel='Density'>"
      ]
     },
     "execution_count": 28,
     "metadata": {},
     "output_type": "execute_result"
    },
    {
     "data": {
      "image/png": "[encoded data removed]",
      "text/plain": [
       "<Figure size 432x288 with 1 Axes>"
      ]
     },
     "metadata": {
      "needs_background": "light"
     },
     "output_type": "display_data"
    }
   ],
   "source": [
    "sns.kdeplot(data=train_df['rougher.input.feed_size'].dropna(), label='data_train')\n",
    "sns.kdeplot(data=test_df['rougher.input.feed_size'].dropna(), label='test_df')"
   ]
  },
  {
   "cell_type": "code",
   "execution_count": 29,
   "metadata": {},
   "outputs": [
    {
     "data": {
      "image/png": "[encoded data removed]",
      "text/plain": [
       "<Figure size 864x648 with 1 Axes>"
      ]
     },
     "metadata": {
      "needs_background": "light"
     },
     "output_type": "display_data"
    }
   ],
   "source": [
    "plt.figure(figsize=[12,9])\n",
    "\n",
    "plt.hist(train_df['rougher.input.feed_size'], bins=200, label = 'Train rougher.input.feed_size', alpha=.5)\n",
    "plt.hist(test_df['rougher.input.feed_size'], bins=200, label = 'Test rougher.input.feed_size', alpha=.5)\n",
    "\n",
    "plt.xlim([0, 500])\n",
    "plt.ylim([0, 1300])\n",
    "\n",
    "plt.xlabel(\"Размер гранул сырья\")\n",
    "plt.ylabel(\"Количество результатов\")\n",
    "\n",
    "plt.legend(loc='upper left', fontsize='x-large')\n",
    "\n",
    "plt.title(\"Гистограмма распределения гранул сырья перед флотацией\")\n",
    "plt.show()"
   ]
  },
  {
   "cell_type": "markdown",
   "metadata": {},
   "source": [
    "Распределение гранул до флотации похоже на нормальное со смещением влево как в обучающей, так и в тестовой выбрке. Существует много выбросов после 100."
   ]
  },
  {
   "cell_type": "code",
   "execution_count": 30,
   "metadata": {},
   "outputs": [
    {
     "data": {
      "image/png": "[encoded data removed]",
      "text/plain": [
       "<Figure size 864x648 with 1 Axes>"
      ]
     },
     "metadata": {
      "needs_background": "light"
     },
     "output_type": "display_data"
    }
   ],
   "source": [
    "plt.figure(figsize=[12,9])\n",
    "\n",
    "plt.hist(train_df['primary_cleaner.input.feed_size'], bins=100, label = 'Train primary_cleaner.input.feed_size', alpha=.5)\n",
    "plt.hist(test_df['primary_cleaner.input.feed_size'], bins=100, label = 'Test primary_cleaner.input.feed_size', alpha=.5)\n",
    "\n",
    "plt.xlim([0, 16])\n",
    "plt.ylim([0, 1000])\n",
    "\n",
    "plt.xlabel(\"Размер гранул сырья\")\n",
    "plt.ylabel(\"Количество результатов\")\n",
    "\n",
    "plt.legend(loc='upper left', fontsize='x-large')\n",
    "\n",
    "plt.title(\"Гистограмма распределения гранул сырья перед первичной очисткой\")\n",
    "plt.show()"
   ]
  },
  {
   "cell_type": "markdown",
   "metadata": {},
   "source": [
    "Размеры гранул перед первичной очисткой обладают нормальным распределением."
   ]
  },
  {
   "cell_type": "code",
   "execution_count": 31,
   "metadata": {},
   "outputs": [],
   "source": [
    "# подготовим столбцы с финальными концентрациями в обучающей выборке\n",
    "final_output_concentrate_sum_train = (train_df['final.output.concentrate_au'] + \n",
    "                                      train_df['final.output.concentrate_ag'] + \n",
    "                                      train_df['final.output.concentrate_pb'] +\n",
    "                                      train_df['final.output.concentrate_sol'])\n",
    "primary_cleaner_output_concentrate_sum_train = (train_df['primary_cleaner.output.concentrate_au'] + \n",
    "                                                train_df['primary_cleaner.output.concentrate_ag'] + \n",
    "                                                train_df['primary_cleaner.output.concentrate_pb'] +\n",
    "                                                train_df['primary_cleaner.output.concentrate_sol'])\n",
    "rougher_output_concentrate_sum_train = (train_df['rougher.output.concentrate_au'] + \n",
    "                                        train_df['rougher.output.concentrate_ag'] + \n",
    "                                        train_df['rougher.output.concentrate_pb'] +\n",
    "                                        train_df['rougher.output.concentrate_sol'])"
   ]
  },
  {
   "cell_type": "code",
   "execution_count": 32,
   "metadata": {},
   "outputs": [
    {
     "data": {
      "image/png": "[encoded data removed]",
      "text/plain": [
       "<Figure size 864x648 with 1 Axes>"
      ]
     },
     "metadata": {
      "needs_background": "light"
     },
     "output_type": "display_data"
    }
   ],
   "source": [
    "plt.figure(figsize=[12,9])\n",
    "\n",
    "plt.hist(final_output_concentrate_sum_train, bins=100, label = 'final_output', alpha=.5)\n",
    "plt.hist(primary_cleaner_output_concentrate_sum_train, bins=100, label = 'primary_cleaner_output', alpha=.5)\n",
    "plt.hist(rougher_output_concentrate_sum_train, bins=100, label = 'rougher_output', alpha=.5)\n",
    "\n",
    "plt.xlim([0, 100])\n",
    "plt.ylim([0, 1500])\n",
    "\n",
    "plt.xlabel(\"Суммарная концентраця\")\n",
    "plt.ylabel(\"Количество результатов\")\n",
    "\n",
    "plt.legend(loc='upper left', fontsize='x-large')\n",
    "\n",
    "plt.title(\"Гистограмма распределения концентраций на разных этапах очистки\")\n",
    "plt.show()"
   ]
  },
  {
   "cell_type": "markdown",
   "metadata": {},
   "source": [
    "По графику видно, что из аномалий много значений в 0. На этапе предобрабоки были найдены строки с нулевыми значениями в primary_cleaner.output. Эти же строки показывают суммарную концентрацию, равную 0. Соответственно они являются аномалией. Удалим их."
   ]
  },
  {
   "cell_type": "code",
   "execution_count": 33,
   "metadata": {},
   "outputs": [
    {
     "data": {
      "text/html": [
       "<div>\n",
       "<style scoped>\n",
       "    .dataframe tbody tr th:only-of-type {\n",
       "        vertical-align: middle;\n",
       "    }\n",
       "\n",
       "    .dataframe tbody tr th {\n",
       "        vertical-align: top;\n",
       "    }\n",
       "\n",
       "    .dataframe thead th {\n",
       "        text-align: right;\n",
       "    }\n",
       "</style>\n",
       "<table border=\"1\" class=\"dataframe\">\n",
       "  <thead>\n",
       "    <tr style=\"text-align: right;\">\n",
       "      <th></th>\n",
       "      <th>date</th>\n",
       "      <th>final.output.concentrate_ag</th>\n",
       "      <th>final.output.concentrate_pb</th>\n",
       "      <th>final.output.concentrate_sol</th>\n",
       "      <th>final.output.concentrate_au</th>\n",
       "      <th>final.output.recovery</th>\n",
       "      <th>final.output.tail_ag</th>\n",
       "      <th>final.output.tail_pb</th>\n",
       "      <th>final.output.tail_sol</th>\n",
       "      <th>final.output.tail_au</th>\n",
       "      <th>...</th>\n",
       "      <th>secondary_cleaner.state.floatbank4_a_air</th>\n",
       "      <th>secondary_cleaner.state.floatbank4_a_level</th>\n",
       "      <th>secondary_cleaner.state.floatbank4_b_air</th>\n",
       "      <th>secondary_cleaner.state.floatbank4_b_level</th>\n",
       "      <th>secondary_cleaner.state.floatbank5_a_air</th>\n",
       "      <th>secondary_cleaner.state.floatbank5_a_level</th>\n",
       "      <th>secondary_cleaner.state.floatbank5_b_air</th>\n",
       "      <th>secondary_cleaner.state.floatbank5_b_level</th>\n",
       "      <th>secondary_cleaner.state.floatbank6_a_air</th>\n",
       "      <th>secondary_cleaner.state.floatbank6_a_level</th>\n",
       "    </tr>\n",
       "  </thead>\n",
       "  <tbody>\n",
       "  </tbody>\n",
       "</table>\n",
       "<p>0 rows × 87 columns</p>\n",
       "</div>"
      ],
      "text/plain": [
       "Empty DataFrame\n",
       "Columns: [date, final.output.concentrate_ag, final.output.concentrate_pb, final.output.concentrate_sol, final.output.concentrate_au, final.output.recovery, final.output.tail_ag, final.output.tail_pb, final.output.tail_sol, final.output.tail_au, primary_cleaner.input.sulfate, primary_cleaner.input.depressant, primary_cleaner.input.feed_size, primary_cleaner.input.xanthate, primary_cleaner.output.concentrate_ag, primary_cleaner.output.concentrate_pb, primary_cleaner.output.concentrate_sol, primary_cleaner.output.concentrate_au, primary_cleaner.output.tail_ag, primary_cleaner.output.tail_pb, primary_cleaner.output.tail_sol, primary_cleaner.output.tail_au, primary_cleaner.state.floatbank8_a_air, primary_cleaner.state.floatbank8_a_level, primary_cleaner.state.floatbank8_b_air, primary_cleaner.state.floatbank8_b_level, primary_cleaner.state.floatbank8_c_air, primary_cleaner.state.floatbank8_c_level, primary_cleaner.state.floatbank8_d_air, primary_cleaner.state.floatbank8_d_level, rougher.calculation.sulfate_to_au_concentrate, rougher.calculation.floatbank10_sulfate_to_au_feed, rougher.calculation.floatbank11_sulfate_to_au_feed, rougher.calculation.au_pb_ratio, rougher.input.feed_ag, rougher.input.feed_pb, rougher.input.feed_rate, rougher.input.feed_size, rougher.input.feed_sol, rougher.input.feed_au, rougher.input.floatbank10_sulfate, rougher.input.floatbank10_xanthate, rougher.input.floatbank11_sulfate, rougher.input.floatbank11_xanthate, rougher.output.concentrate_ag, rougher.output.concentrate_pb, rougher.output.concentrate_sol, rougher.output.concentrate_au, rougher.output.recovery, rougher.output.tail_ag, rougher.output.tail_pb, rougher.output.tail_sol, rougher.output.tail_au, rougher.state.floatbank10_a_air, rougher.state.floatbank10_a_level, rougher.state.floatbank10_b_air, rougher.state.floatbank10_b_level, rougher.state.floatbank10_c_air, rougher.state.floatbank10_c_level, rougher.state.floatbank10_d_air, rougher.state.floatbank10_d_level, rougher.state.floatbank10_e_air, rougher.state.floatbank10_e_level, rougher.state.floatbank10_f_air, rougher.state.floatbank10_f_level, secondary_cleaner.output.tail_ag, secondary_cleaner.output.tail_pb, secondary_cleaner.output.tail_sol, secondary_cleaner.output.tail_au, secondary_cleaner.state.floatbank2_a_air, secondary_cleaner.state.floatbank2_a_level, secondary_cleaner.state.floatbank2_b_air, secondary_cleaner.state.floatbank2_b_level, secondary_cleaner.state.floatbank3_a_air, secondary_cleaner.state.floatbank3_a_level, secondary_cleaner.state.floatbank3_b_air, secondary_cleaner.state.floatbank3_b_level, secondary_cleaner.state.floatbank4_a_air, secondary_cleaner.state.floatbank4_a_level, secondary_cleaner.state.floatbank4_b_air, secondary_cleaner.state.floatbank4_b_level, secondary_cleaner.state.floatbank5_a_air, secondary_cleaner.state.floatbank5_a_level, secondary_cleaner.state.floatbank5_b_air, secondary_cleaner.state.floatbank5_b_level, secondary_cleaner.state.floatbank6_a_air, secondary_cleaner.state.floatbank6_a_level]\n",
       "Index: []\n",
       "\n",
       "[0 rows x 87 columns]"
      ]
     },
     "execution_count": 33,
     "metadata": {},
     "output_type": "execute_result"
    }
   ],
   "source": [
    "train_df = train_df.drop(train_df[train_df['primary_cleaner.output.concentrate_au'] == 0].index)\n",
    "train_df[train_df['primary_cleaner.output.concentrate_au'] == 0].head()"
   ]
  },
  {
   "cell_type": "markdown",
   "metadata": {},
   "source": [
    "<div style=\"border:solid green 2px; padding: 20px\">\n",
    "    \n",
    "### Вывод\n",
    "    \n",
    "В результате анализа были изучены:\n",
    "\n",
    "- Концетрации основных веществ на разных этапах очистки.\n",
    "- Размер гранул тестовой и обучающей выборки.\n",
    "- Суммарная концентрация веществ.\n",
    "\n",
    "Аномалии были удалены. Данные готовы к обучению.\n",
    "    \n",
    "</div>     "
   ]
  },
  {
   "cell_type": "markdown",
   "metadata": {},
   "source": [
    "## Модель"
   ]
  },
  {
   "cell_type": "code",
   "execution_count": 34,
   "metadata": {
    "scrolled": true
   },
   "outputs": [
    {
     "name": "stdout",
     "output_type": "stream",
     "text": [
      "{'rougher.output.recovery', 'rougher.output.tail_sol', 'final.output.tail_pb', 'rougher.calculation.floatbank11_sulfate_to_au_feed', 'primary_cleaner.output.tail_pb', 'rougher.calculation.sulfate_to_au_concentrate', 'primary_cleaner.output.concentrate_au', 'final.output.concentrate_ag', 'primary_cleaner.output.concentrate_pb', 'primary_cleaner.output.concentrate_ag', 'primary_cleaner.output.tail_ag', 'rougher.output.tail_au', 'final.output.concentrate_au', 'rougher.output.concentrate_pb', 'primary_cleaner.output.concentrate_sol', 'primary_cleaner.output.tail_sol', 'rougher.calculation.au_pb_ratio', 'rougher.output.concentrate_sol', 'secondary_cleaner.output.tail_au', 'final.output.recovery', 'rougher.output.tail_ag', 'final.output.concentrate_pb', 'final.output.tail_au', 'rougher.output.concentrate_ag', 'secondary_cleaner.output.tail_pb', 'date', 'final.output.concentrate_sol', 'rougher.calculation.floatbank10_sulfate_to_au_feed', 'rougher.output.concentrate_au', 'rougher.output.tail_pb', 'final.output.tail_ag', 'secondary_cleaner.output.tail_ag', 'final.output.tail_sol', 'primary_cleaner.output.tail_au', 'secondary_cleaner.output.tail_sol'}\n",
      "\n",
      "Index(['primary_cleaner.input.sulfate', 'primary_cleaner.input.depressant',\n",
      "       'primary_cleaner.input.feed_size', 'primary_cleaner.input.xanthate',\n",
      "       'primary_cleaner.state.floatbank8_a_air',\n",
      "       'primary_cleaner.state.floatbank8_a_level',\n",
      "       'primary_cleaner.state.floatbank8_b_air',\n",
      "       'primary_cleaner.state.floatbank8_b_level',\n",
      "       'primary_cleaner.state.floatbank8_c_air',\n",
      "       'primary_cleaner.state.floatbank8_c_level',\n",
      "       'primary_cleaner.state.floatbank8_d_air',\n",
      "       'primary_cleaner.state.floatbank8_d_level', 'rougher.input.feed_ag',\n",
      "       'rougher.input.feed_pb', 'rougher.input.feed_rate',\n",
      "       'rougher.input.feed_size', 'rougher.input.feed_sol',\n",
      "       'rougher.input.feed_au', 'rougher.input.floatbank10_sulfate',\n",
      "       'rougher.input.floatbank10_xanthate',\n",
      "       'rougher.input.floatbank11_sulfate',\n",
      "       'rougher.input.floatbank11_xanthate', 'rougher.state.floatbank10_a_air',\n",
      "       'rougher.state.floatbank10_a_level', 'rougher.state.floatbank10_b_air',\n",
      "       'rougher.state.floatbank10_b_level', 'rougher.state.floatbank10_c_air',\n",
      "       'rougher.state.floatbank10_c_level', 'rougher.state.floatbank10_d_air',\n",
      "       'rougher.state.floatbank10_d_level', 'rougher.state.floatbank10_e_air',\n",
      "       'rougher.state.floatbank10_e_level', 'rougher.state.floatbank10_f_air',\n",
      "       'rougher.state.floatbank10_f_level',\n",
      "       'secondary_cleaner.state.floatbank2_a_air',\n",
      "       'secondary_cleaner.state.floatbank2_a_level',\n",
      "       'secondary_cleaner.state.floatbank2_b_air',\n",
      "       'secondary_cleaner.state.floatbank2_b_level',\n",
      "       'secondary_cleaner.state.floatbank3_a_air',\n",
      "       'secondary_cleaner.state.floatbank3_a_level',\n",
      "       'secondary_cleaner.state.floatbank3_b_air',\n",
      "       'secondary_cleaner.state.floatbank3_b_level',\n",
      "       'secondary_cleaner.state.floatbank4_a_air',\n",
      "       'secondary_cleaner.state.floatbank4_a_level',\n",
      "       'secondary_cleaner.state.floatbank4_b_air',\n",
      "       'secondary_cleaner.state.floatbank4_b_level',\n",
      "       'secondary_cleaner.state.floatbank5_a_air',\n",
      "       'secondary_cleaner.state.floatbank5_a_level',\n",
      "       'secondary_cleaner.state.floatbank5_b_air',\n",
      "       'secondary_cleaner.state.floatbank5_b_level',\n",
      "       'secondary_cleaner.state.floatbank6_a_air',\n",
      "       'secondary_cleaner.state.floatbank6_a_level'],\n",
      "      dtype='object')\n",
      "set()\n",
      "{'secondary_cleaner.state.floatbank4_b_air', 'primary_cleaner.state.floatbank8_d_air', 'primary_cleaner.state.floatbank8_b_air', 'secondary_cleaner.state.floatbank5_a_air', 'primary_cleaner.input.feed_size', 'secondary_cleaner.state.floatbank3_b_level', 'primary_cleaner.state.floatbank8_b_level', 'secondary_cleaner.state.floatbank5_b_air', 'secondary_cleaner.state.floatbank4_a_level', 'secondary_cleaner.state.floatbank4_a_air', 'primary_cleaner.input.xanthate', 'primary_cleaner.input.sulfate', 'secondary_cleaner.state.floatbank2_a_level', 'secondary_cleaner.state.floatbank6_a_air', 'secondary_cleaner.state.floatbank3_a_air', 'secondary_cleaner.state.floatbank2_a_air', 'primary_cleaner.state.floatbank8_a_air', 'primary_cleaner.state.floatbank8_a_level', 'secondary_cleaner.state.floatbank2_b_level', 'primary_cleaner.input.depressant', 'secondary_cleaner.state.floatbank4_b_level', 'secondary_cleaner.state.floatbank3_b_air', 'primary_cleaner.state.floatbank8_c_level', 'secondary_cleaner.state.floatbank2_b_air', 'secondary_cleaner.state.floatbank3_a_level', 'secondary_cleaner.state.floatbank5_b_level', 'secondary_cleaner.state.floatbank5_a_level', 'secondary_cleaner.state.floatbank6_a_level', 'primary_cleaner.state.floatbank8_c_air', 'primary_cleaner.state.floatbank8_d_level'}\n",
      "\n",
      "Index(['rougher.input.feed_ag', 'rougher.input.feed_pb',\n",
      "       'rougher.input.feed_rate', 'rougher.input.feed_size',\n",
      "       'rougher.input.feed_sol', 'rougher.input.feed_au',\n",
      "       'rougher.input.floatbank10_sulfate',\n",
      "       'rougher.input.floatbank10_xanthate',\n",
      "       'rougher.input.floatbank11_sulfate',\n",
      "       'rougher.input.floatbank11_xanthate', 'rougher.state.floatbank10_a_air',\n",
      "       'rougher.state.floatbank10_a_level', 'rougher.state.floatbank10_b_air',\n",
      "       'rougher.state.floatbank10_b_level', 'rougher.state.floatbank10_c_air',\n",
      "       'rougher.state.floatbank10_c_level', 'rougher.state.floatbank10_d_air',\n",
      "       'rougher.state.floatbank10_d_level', 'rougher.state.floatbank10_e_air',\n",
      "       'rougher.state.floatbank10_e_level', 'rougher.state.floatbank10_f_air',\n",
      "       'rougher.state.floatbank10_f_level'],\n",
      "      dtype='object')\n"
     ]
    }
   ],
   "source": [
    "# создадим разделение признаков для предсказания rougher.output.recovery и final.output.recovery\n",
    "\n",
    "# подготовка признаков для final.output.recovery\n",
    "columns_to_delete = set(train_df.columns) - final_features_columns\n",
    "print(columns_to_delete)\n",
    "train_features_final = train_df.drop(columns_to_delete, axis=1)\n",
    "print()\n",
    "print(train_features_final.columns)\n",
    "\n",
    "# проверка вхождения всех столбцов из feateures в столбцах тестовой выборки\n",
    "print(set(train_features_final.columns) - set(test_df.columns))\n",
    "\n",
    "# подготовка признаков для rougher.output.recovery\n",
    "columns_to_delete = set(train_features_final.columns) - rougher_features_columns\n",
    "print(columns_to_delete)\n",
    "train_features_rougher = train_features_final.drop(columns_to_delete, axis=1)\n",
    "print()\n",
    "print(train_features_rougher.columns)"
   ]
  },
  {
   "cell_type": "code",
   "execution_count": 35,
   "metadata": {},
   "outputs": [
    {
     "data": {
      "text/plain": [
       "(10737, 22)"
      ]
     },
     "execution_count": 35,
     "metadata": {},
     "output_type": "execute_result"
    }
   ],
   "source": [
    "train_features_rougher.shape"
   ]
  },
  {
   "cell_type": "code",
   "execution_count": 36,
   "metadata": {},
   "outputs": [],
   "source": [
    "# подготовим целевой признак\n",
    "train_target_final = train_df['final.output.recovery']\n",
    "train_target_rougher = train_df['rougher.output.recovery']"
   ]
  },
  {
   "cell_type": "code",
   "execution_count": 37,
   "metadata": {
    "scrolled": true
   },
   "outputs": [
    {
     "data": {
      "text/plain": [
       "Index(['primary_cleaner.input.sulfate', 'primary_cleaner.input.depressant',\n",
       "       'primary_cleaner.input.feed_size', 'primary_cleaner.input.xanthate',\n",
       "       'primary_cleaner.state.floatbank8_a_air',\n",
       "       'primary_cleaner.state.floatbank8_a_level',\n",
       "       'primary_cleaner.state.floatbank8_b_air',\n",
       "       'primary_cleaner.state.floatbank8_b_level',\n",
       "       'primary_cleaner.state.floatbank8_c_air',\n",
       "       'primary_cleaner.state.floatbank8_c_level',\n",
       "       'primary_cleaner.state.floatbank8_d_air',\n",
       "       'primary_cleaner.state.floatbank8_d_level', 'rougher.input.feed_ag',\n",
       "       'rougher.input.feed_pb', 'rougher.input.feed_rate',\n",
       "       'rougher.input.feed_size', 'rougher.input.feed_sol',\n",
       "       'rougher.input.feed_au', 'rougher.input.floatbank10_sulfate',\n",
       "       'rougher.input.floatbank10_xanthate',\n",
       "       'rougher.input.floatbank11_sulfate',\n",
       "       'rougher.input.floatbank11_xanthate', 'rougher.state.floatbank10_a_air',\n",
       "       'rougher.state.floatbank10_a_level', 'rougher.state.floatbank10_b_air',\n",
       "       'rougher.state.floatbank10_b_level', 'rougher.state.floatbank10_c_air',\n",
       "       'rougher.state.floatbank10_c_level', 'rougher.state.floatbank10_d_air',\n",
       "       'rougher.state.floatbank10_d_level', 'rougher.state.floatbank10_e_air',\n",
       "       'rougher.state.floatbank10_e_level', 'rougher.state.floatbank10_f_air',\n",
       "       'rougher.state.floatbank10_f_level',\n",
       "       'secondary_cleaner.state.floatbank2_a_air',\n",
       "       'secondary_cleaner.state.floatbank2_a_level',\n",
       "       'secondary_cleaner.state.floatbank2_b_air',\n",
       "       'secondary_cleaner.state.floatbank2_b_level',\n",
       "       'secondary_cleaner.state.floatbank3_a_air',\n",
       "       'secondary_cleaner.state.floatbank3_a_level',\n",
       "       'secondary_cleaner.state.floatbank3_b_air',\n",
       "       'secondary_cleaner.state.floatbank3_b_level',\n",
       "       'secondary_cleaner.state.floatbank4_a_air',\n",
       "       'secondary_cleaner.state.floatbank4_a_level',\n",
       "       'secondary_cleaner.state.floatbank4_b_air',\n",
       "       'secondary_cleaner.state.floatbank4_b_level',\n",
       "       'secondary_cleaner.state.floatbank5_a_air',\n",
       "       'secondary_cleaner.state.floatbank5_a_level',\n",
       "       'secondary_cleaner.state.floatbank5_b_air',\n",
       "       'secondary_cleaner.state.floatbank5_b_level',\n",
       "       'secondary_cleaner.state.floatbank6_a_air',\n",
       "       'secondary_cleaner.state.floatbank6_a_level'],\n",
       "      dtype='object')"
      ]
     },
     "execution_count": 37,
     "metadata": {},
     "output_type": "execute_result"
    }
   ],
   "source": [
    "# подготовим признаки тестовой выборки\n",
    "test_features = test_df.drop('date', axis=1)\n",
    "test_features.columns"
   ]
  },
  {
   "cell_type": "code",
   "execution_count": 38,
   "metadata": {},
   "outputs": [
    {
     "data": {
      "text/plain": [
       "(5229, 52)"
      ]
     },
     "execution_count": 38,
     "metadata": {},
     "output_type": "execute_result"
    }
   ],
   "source": [
    "test_features.shape"
   ]
  },
  {
   "cell_type": "code",
   "execution_count": 39,
   "metadata": {},
   "outputs": [
    {
     "name": "stdout",
     "output_type": "stream",
     "text": [
      "{'secondary_cleaner.state.floatbank4_b_air', 'primary_cleaner.state.floatbank8_d_air', 'primary_cleaner.state.floatbank8_b_air', 'secondary_cleaner.state.floatbank5_a_air', 'primary_cleaner.input.feed_size', 'secondary_cleaner.state.floatbank3_b_level', 'primary_cleaner.state.floatbank8_b_level', 'secondary_cleaner.state.floatbank5_b_air', 'secondary_cleaner.state.floatbank4_a_level', 'secondary_cleaner.state.floatbank4_a_air', 'primary_cleaner.input.xanthate', 'primary_cleaner.input.sulfate', 'secondary_cleaner.state.floatbank2_a_level', 'secondary_cleaner.state.floatbank6_a_air', 'secondary_cleaner.state.floatbank3_a_air', 'secondary_cleaner.state.floatbank2_a_air', 'primary_cleaner.state.floatbank8_a_air', 'primary_cleaner.state.floatbank8_a_level', 'secondary_cleaner.state.floatbank2_b_level', 'primary_cleaner.input.depressant', 'secondary_cleaner.state.floatbank4_b_level', 'secondary_cleaner.state.floatbank3_b_air', 'primary_cleaner.state.floatbank8_c_level', 'secondary_cleaner.state.floatbank2_b_air', 'secondary_cleaner.state.floatbank3_a_level', 'secondary_cleaner.state.floatbank5_b_level', 'secondary_cleaner.state.floatbank5_a_level', 'secondary_cleaner.state.floatbank6_a_level', 'primary_cleaner.state.floatbank8_c_air', 'primary_cleaner.state.floatbank8_d_level'}\n"
     ]
    }
   ],
   "source": [
    "test_features_final = test_features\n",
    "columns_to_delete = set(test_features_final.columns) - rougher_features_columns\n",
    "print(columns_to_delete)\n",
    "test_features_rougher = test_features_final.drop(columns_to_delete, axis=1)"
   ]
  },
  {
   "cell_type": "code",
   "execution_count": 40,
   "metadata": {},
   "outputs": [
    {
     "data": {
      "text/plain": [
       "(5229, 22)"
      ]
     },
     "execution_count": 40,
     "metadata": {},
     "output_type": "execute_result"
    }
   ],
   "source": [
    "test_features_rougher.shape"
   ]
  },
  {
   "cell_type": "code",
   "execution_count": 41,
   "metadata": {},
   "outputs": [],
   "source": [
    "# функция вычисления\n",
    "def sMAPE_score(rougher_recovery_real, rougher_recovery_predicted, final_recovery_real, final_recovery_predicted):\n",
    "    n = rougher_recovery_real.shape[0]\n",
    "    rougher_sMAPE = ((2*abs(rougher_recovery_real - rougher_recovery_predicted)/\n",
    "                     (abs(rougher_recovery_real) + abs(rougher_recovery_predicted))).sum() * 100 / n)\n",
    "    final_sMAPE = ((2*abs(final_recovery_real - final_recovery_predicted)/\n",
    "                     (abs(final_recovery_real) + abs(final_recovery_predicted))).sum() * 100 / n)\n",
    "    return rougher_sMAPE * 0.25 + final_sMAPE * 0.75"
   ]
  },
  {
   "cell_type": "markdown",
   "metadata": {},
   "source": [
    "Перед нами стоит задача регресии. Выберем следующие модели для обучения:\n",
    "\n",
    "- Линейная регрессия\n",
    "- Полиноминальная регрессия. Применется на линейной регрессии с подготовленными признаками\n",
    "- Регрессия Ridge\n",
    "- DecisionTreeRegressor\n",
    "\n",
    "Выполним поиск лучшей модели для предсказаний"
   ]
  },
  {
   "cell_type": "code",
   "execution_count": 42,
   "metadata": {},
   "outputs": [
    {
     "name": "stdout",
     "output_type": "stream",
     "text": [
      "Mean R2 from CV of LinearRegression = -0.1945534942868992\n",
      "Mean MAE from CV of LinearRegression = [-6.84099134 -4.98462481 -4.91378925 -5.17288221 -7.60692342]\n",
      "CPU times: user 1.31 s, sys: 1.64 s, total: 2.94 s\n",
      "Wall time: 2.84 s\n"
     ]
    }
   ],
   "source": [
    "%%time\n",
    "\n",
    "regressor = LinearRegression()\n",
    "print('Mean R2 from CV of LinearRegression =', cross_val_score(regressor, train_features_final, train_target_final, cv=5).mean())\n",
    "print('Mean MAE from CV of LinearRegression =', cross_val_score(regressor, train_features_final, train_target_final, cv=5, scoring='neg_mean_absolute_error'))"
   ]
  },
  {
   "cell_type": "markdown",
   "metadata": {},
   "source": [
    "Проверим влияние масштаба признаков на качество модели."
   ]
  },
  {
   "cell_type": "code",
   "execution_count": 43,
   "metadata": {},
   "outputs": [
    {
     "name": "stdout",
     "output_type": "stream",
     "text": [
      "Mean R2 from CV of LinearRegression = -0.19455349428688712\n",
      "Mean MAE from CV of LinearRegression = [-6.84099134 -4.98462481 -4.91378925 -5.17288221 -7.60692342]\n",
      "CPU times: user 1.2 s, sys: 1.23 s, total: 2.43 s\n",
      "Wall time: 2.49 s\n"
     ]
    }
   ],
   "source": [
    "%%time\n",
    "\n",
    "regressor = LinearRegression()\n",
    "scaller = StandardScaler()\n",
    "pipeline = Pipeline([(\"standard_scaller\", scaller),(\"linear_regression\", regressor)])\n",
    "print('Mean R2 from CV of LinearRegression =', cross_val_score(pipeline, train_features_final, train_target_final, cv=5).mean())\n",
    "print('Mean MAE from CV of LinearRegression =', cross_val_score(pipeline, train_features_final, train_target_final, cv=5, scoring='neg_mean_absolute_error'))"
   ]
  },
  {
   "cell_type": "markdown",
   "metadata": {},
   "source": [
    "Масштаб признаков не влияет."
   ]
  },
  {
   "cell_type": "code",
   "execution_count": 44,
   "metadata": {},
   "outputs": [
    {
     "name": "stdout",
     "output_type": "stream",
     "text": [
      "Mean R2 from CV of PolynomialRegression with 2 degree = -53.89653174171724\n",
      "Mean MAE from CV of PolynomialRegression with 2 degree = [-53.14111863 -32.72539989 -33.32419169 -24.15032646 -15.16495041]\n",
      "CPU times: user 2min 4s, sys: 1min 44s, total: 3min 49s\n",
      "Wall time: 3min 50s\n"
     ]
    }
   ],
   "source": [
    "%%time\n",
    "\n",
    "regressor = LinearRegression()\n",
    "polynomial_features = PolynomialFeatures(degree=2, include_bias=False)\n",
    "pipeline = Pipeline([(\"polynomial_features\", polynomial_features),(\"linear_regression\", regressor)])\n",
    "print('Mean R2 from CV of PolynomialRegression with 2 degree =', cross_val_score(pipeline, train_features_final, train_target_final, cv=5).mean())\n",
    "print('Mean MAE from CV of PolynomialRegression with 2 degree =', cross_val_score(pipeline, train_features_final, train_target_final, cv=5, scoring='neg_mean_absolute_error'))"
   ]
  },
  {
   "cell_type": "markdown",
   "metadata": {},
   "source": [
    "Для регрессоров Ridge и DecisionTreeRegressor применим метод GridSearchCV. В нем уже вложена кросс-валидация."
   ]
  },
  {
   "cell_type": "code",
   "execution_count": 45,
   "metadata": {},
   "outputs": [
    {
     "name": "stdout",
     "output_type": "stream",
     "text": [
      "# Tuning hyper-parameters for r2\n",
      "\n",
      "Best parameters set found on development set:\n",
      "\n",
      "{'alpha': 100, 'solver': 'sparse_cg'}\n",
      "\n",
      "Grid scores on development set:\n",
      "\n",
      "-0.195 (+/-0.649) for {'alpha': 0.1, 'solver': 'auto'}\n",
      "-0.194 (+/-0.649) for {'alpha': 1, 'solver': 'auto'}\n",
      "-0.194 (+/-0.647) for {'alpha': 10, 'solver': 'auto'}\n",
      "-0.187 (+/-0.628) for {'alpha': 100, 'solver': 'auto'}\n",
      "-0.195 (+/-0.649) for {'alpha': 0.1, 'solver': 'svd'}\n",
      "-0.194 (+/-0.649) for {'alpha': 1, 'solver': 'svd'}\n",
      "-0.194 (+/-0.647) for {'alpha': 10, 'solver': 'svd'}\n",
      "-0.187 (+/-0.628) for {'alpha': 100, 'solver': 'svd'}\n",
      "-0.195 (+/-0.649) for {'alpha': 0.1, 'solver': 'cholesky'}\n",
      "-0.194 (+/-0.649) for {'alpha': 1, 'solver': 'cholesky'}\n",
      "-0.194 (+/-0.647) for {'alpha': 10, 'solver': 'cholesky'}\n",
      "-0.187 (+/-0.628) for {'alpha': 100, 'solver': 'cholesky'}\n",
      "-0.232 (+/-0.371) for {'alpha': 0.1, 'solver': 'lsqr'}\n",
      "-0.232 (+/-0.371) for {'alpha': 1, 'solver': 'lsqr'}\n",
      "-0.232 (+/-0.371) for {'alpha': 10, 'solver': 'lsqr'}\n",
      "-0.232 (+/-0.371) for {'alpha': 100, 'solver': 'lsqr'}\n",
      "-0.204 (+/-0.518) for {'alpha': 0.1, 'solver': 'sparse_cg'}\n",
      "-0.203 (+/-0.617) for {'alpha': 1, 'solver': 'sparse_cg'}\n",
      "-0.189 (+/-0.518) for {'alpha': 10, 'solver': 'sparse_cg'}\n",
      "-0.180 (+/-0.520) for {'alpha': 100, 'solver': 'sparse_cg'}\n",
      "\n",
      "# Tuning hyper-parameters for neg_mean_absolute_error\n",
      "\n",
      "Best parameters set found on development set:\n",
      "\n",
      "{'alpha': 100, 'solver': 'sparse_cg'}\n",
      "\n",
      "Grid scores on development set:\n",
      "\n",
      "-5.904 (+/-2.216) for {'alpha': 0.1, 'solver': 'auto'}\n",
      "-5.904 (+/-2.215) for {'alpha': 1, 'solver': 'auto'}\n",
      "-5.901 (+/-2.209) for {'alpha': 10, 'solver': 'auto'}\n",
      "-5.881 (+/-2.151) for {'alpha': 100, 'solver': 'auto'}\n",
      "-5.904 (+/-2.216) for {'alpha': 0.1, 'solver': 'svd'}\n",
      "-5.904 (+/-2.215) for {'alpha': 1, 'solver': 'svd'}\n",
      "-5.901 (+/-2.209) for {'alpha': 10, 'solver': 'svd'}\n",
      "-5.881 (+/-2.151) for {'alpha': 100, 'solver': 'svd'}\n",
      "-5.904 (+/-2.216) for {'alpha': 0.1, 'solver': 'cholesky'}\n",
      "-5.904 (+/-2.215) for {'alpha': 1, 'solver': 'cholesky'}\n",
      "-5.901 (+/-2.209) for {'alpha': 10, 'solver': 'cholesky'}\n",
      "-5.881 (+/-2.151) for {'alpha': 100, 'solver': 'cholesky'}\n",
      "-6.078 (+/-1.507) for {'alpha': 0.1, 'solver': 'lsqr'}\n",
      "-6.078 (+/-1.507) for {'alpha': 1, 'solver': 'lsqr'}\n",
      "-6.078 (+/-1.507) for {'alpha': 10, 'solver': 'lsqr'}\n",
      "-6.078 (+/-1.508) for {'alpha': 100, 'solver': 'lsqr'}\n",
      "-5.897 (+/-1.683) for {'alpha': 0.1, 'solver': 'sparse_cg'}\n",
      "-5.902 (+/-2.055) for {'alpha': 1, 'solver': 'sparse_cg'}\n",
      "-5.866 (+/-1.628) for {'alpha': 10, 'solver': 'sparse_cg'}\n",
      "-5.836 (+/-1.748) for {'alpha': 100, 'solver': 'sparse_cg'}\n",
      "\n",
      "CPU times: user 31.2 s, sys: 37.6 s, total: 1min 8s\n",
      "Wall time: 1min 8s\n"
     ]
    }
   ],
   "source": [
    "%%time\n",
    "\n",
    "regressor = Ridge()\n",
    "hyperparams = [{'alpha':[0.1, 1, 10, 100], 'solver':['auto']},\n",
    "                 {'alpha':[0.1, 1, 10, 100], 'solver':['svd']}, \n",
    "                 {'alpha':[0.1, 1, 10, 100], 'solver':['cholesky']},\n",
    "                 {'alpha':[0.1, 1, 10, 100], 'solver':['lsqr']}, \n",
    "                 {'alpha':[0.1, 1, 10, 100], 'solver':['sparse_cg']}]\n",
    "\n",
    "scores = ['r2', 'neg_mean_absolute_error']\n",
    "\n",
    "for score in scores:\n",
    "    print('# Tuning hyper-parameters for %s' % score)\n",
    "    print()\n",
    "    clf = GridSearchCV(regressor, hyperparams, scoring=score)\n",
    "    clf.fit(train_features_final, train_target_final)\n",
    "    print(\"Best parameters set found on development set:\")\n",
    "    print()\n",
    "    print(clf.best_params_)\n",
    "    print()\n",
    "    print(\"Grid scores on development set:\")\n",
    "    print()\n",
    "    means = clf.cv_results_['mean_test_score']\n",
    "    stds = clf.cv_results_['std_test_score']\n",
    "    for mean, std, params in zip(means, stds, clf.cv_results_['params']):\n",
    "        print(\"%0.3f (+/-%0.03f) for %r\"% (mean, std * 2, params))\n",
    "    print()"
   ]
  },
  {
   "cell_type": "code",
   "execution_count": 46,
   "metadata": {},
   "outputs": [
    {
     "name": "stdout",
     "output_type": "stream",
     "text": [
      "# Tuning hyper-parameters\n",
      "\n",
      "Best parameters set found on development set:\n",
      "\n",
      "{'criterion': 'mae', 'max_depth': 2, 'random_state': 15062020}\n",
      "\n",
      "Grid scores on development set:\n",
      "\n",
      "-0.235 (+/-0.384) for {'criterion': 'mse', 'max_depth': 2, 'random_state': 15062020}\n",
      "-0.305 (+/-0.563) for {'criterion': 'mse', 'max_depth': 4, 'random_state': 15062020}\n",
      "-0.386 (+/-0.637) for {'criterion': 'mse', 'max_depth': 6, 'random_state': 15062020}\n",
      "-0.597 (+/-0.738) for {'criterion': 'mse', 'max_depth': 8, 'random_state': 15062020}\n",
      "-1.188 (+/-1.699) for {'criterion': 'mse', 'max_depth': 10, 'random_state': 15062020}\n",
      "-1.249 (+/-1.220) for {'criterion': 'mse', 'max_depth': 12, 'random_state': 15062020}\n",
      "-1.512 (+/-1.531) for {'criterion': 'mse', 'max_depth': 14, 'random_state': 15062020}\n",
      "-1.784 (+/-1.959) for {'criterion': 'mse', 'max_depth': 16, 'random_state': 15062020}\n",
      "-1.359 (+/-1.359) for {'criterion': 'mse', 'max_depth': 18, 'random_state': 15062020}\n",
      "-1.739 (+/-1.597) for {'criterion': 'mse', 'max_depth': 20, 'random_state': 15062020}\n",
      "-0.030 (+/-0.238) for {'criterion': 'mae', 'max_depth': 2, 'random_state': 15062020}\n",
      "-0.295 (+/-0.315) for {'criterion': 'mae', 'max_depth': 4, 'random_state': 15062020}\n",
      "-0.423 (+/-0.483) for {'criterion': 'mae', 'max_depth': 6, 'random_state': 15062020}\n",
      "-1.003 (+/-2.024) for {'criterion': 'mae', 'max_depth': 8, 'random_state': 15062020}\n",
      "-1.644 (+/-2.719) for {'criterion': 'mae', 'max_depth': 10, 'random_state': 15062020}\n",
      "-1.730 (+/-1.889) for {'criterion': 'mae', 'max_depth': 12, 'random_state': 15062020}\n",
      "-1.768 (+/-2.208) for {'criterion': 'mae', 'max_depth': 14, 'random_state': 15062020}\n",
      "-1.835 (+/-2.471) for {'criterion': 'mae', 'max_depth': 16, 'random_state': 15062020}\n",
      "-1.951 (+/-2.316) for {'criterion': 'mae', 'max_depth': 18, 'random_state': 15062020}\n",
      "-1.721 (+/-2.205) for {'criterion': 'mae', 'max_depth': 20, 'random_state': 15062020}\n",
      "\n",
      "CPU times: user 16min 4s, sys: 6.35 s, total: 16min 10s\n",
      "Wall time: 16min 11s\n"
     ]
    }
   ],
   "source": [
    "%%time\n",
    "\n",
    "regressor = DecisionTreeRegressor() \n",
    "max_depth_list = [x for x in range(2, 21, 2)]\n",
    "hyperparams = [{'criterion':['mse'], 'max_depth':max_depth_list, 'random_state':[15062020]},\n",
    "               {'criterion':['mae'], 'max_depth':max_depth_list, 'random_state':[15062020]}]\n",
    "\n",
    "print('# Tuning hyper-parameters')\n",
    "print()\n",
    "clf = GridSearchCV(regressor, hyperparams)\n",
    "clf.fit(train_features_final, train_target_final)\n",
    "print(\"Best parameters set found on development set:\")\n",
    "print()\n",
    "print(clf.best_params_)\n",
    "print()\n",
    "print(\"Grid scores on development set:\")\n",
    "print()\n",
    "means = clf.cv_results_['mean_test_score']\n",
    "stds = clf.cv_results_['std_test_score']\n",
    "for mean, std, params in zip(means, stds, clf.cv_results_['params']):\n",
    "    print(\"%0.3f (+/-%0.03f) for %r\"% (mean, std * 2, params))\n",
    "print()"
   ]
  },
  {
   "cell_type": "code",
   "execution_count": 47,
   "metadata": {},
   "outputs": [
    {
     "name": "stdout",
     "output_type": "stream",
     "text": [
      "Процент пропусков в общей выборке 0.0\n",
      "Процент пропусков в общей выборке 0.0\n"
     ]
    }
   ],
   "source": [
    "# проверим лучшие модели по метрикам на созданной метрике sMAPE, проверим реальные данные\n",
    "rougher_recovery_real = full_df.loc[test_features_rougher.index,'rougher.output.recovery']\n",
    "final_recovery_real = full_df.loc[test_features_final.index,'final.output.recovery']\n",
    "print('Процент пропусков в общей выборке' ,rougher_recovery_real.isna().mean())\n",
    "print('Процент пропусков в общей выборке',final_recovery_real.isna().mean())"
   ]
  },
  {
   "cell_type": "code",
   "execution_count": 48,
   "metadata": {},
   "outputs": [
    {
     "data": {
      "text/plain": [
       "(0       87.107763\n",
       " 1       86.843261\n",
       " 2       86.842308\n",
       " 3       87.226430\n",
       " 4       86.688794\n",
       "           ...    \n",
       " 5285    87.837931\n",
       " 5286    88.164912\n",
       " 5287    86.169553\n",
       " 5288    87.176137\n",
       " 5289    87.908066\n",
       " Name: rougher.output.recovery, Length: 5229, dtype: float64,\n",
       " 0       70.541216\n",
       " 1       69.266198\n",
       " 2       68.116445\n",
       " 3       68.347543\n",
       " 4       66.927016\n",
       "           ...    \n",
       " 5285    64.948104\n",
       " 5286    69.161741\n",
       " 5287    68.821663\n",
       " 5288    65.828202\n",
       " 5289    66.985033\n",
       " Name: final.output.recovery, Length: 5229, dtype: float64)"
      ]
     },
     "execution_count": 48,
     "metadata": {},
     "output_type": "execute_result"
    }
   ],
   "source": [
    "rougher_recovery_real, final_recovery_real"
   ]
  },
  {
   "cell_type": "markdown",
   "metadata": {},
   "source": [
    "В реальной таблице отсутсвуют зачения для выборки. Они будут игнорироваться при расчете sMAPE."
   ]
  },
  {
   "cell_type": "code",
   "execution_count": 49,
   "metadata": {},
   "outputs": [
    {
     "name": "stdout",
     "output_type": "stream",
     "text": [
      "sMAPE для линейной регресии 12.623643558078953\n",
      "sMAPE для полиноминальной регресии 25.956157619975148\n",
      "sMAPE для регресии Ridge 12.495231980680684\n",
      "sMAPE для DecisionTreeRegressor 12.94752083927472\n",
      "CPU times: user 52.8 s, sys: 30.2 s, total: 1min 23s\n",
      "Wall time: 1min 23s\n"
     ]
    }
   ],
   "source": [
    "%%time\n",
    "\n",
    "model = LinearRegression()\n",
    "model.fit(train_features_rougher, train_target_rougher)\n",
    "rougher_recovery_predicted = model.predict(test_features_rougher)\n",
    "model.fit(train_features_final, train_target_final)\n",
    "final_recovery_predicted = model.predict(test_features_final)\n",
    "print('sMAPE для линейной регресии',sMAPE_score(rougher_recovery_real, rougher_recovery_predicted, final_recovery_real, final_recovery_predicted))\n",
    "\n",
    "regressor = LinearRegression()\n",
    "polynomial_features = PolynomialFeatures(degree=2, include_bias=False)\n",
    "model = Pipeline([(\"polynomial_features\", polynomial_features),(\"linear_regression\", regressor)])\n",
    "model.fit(train_features_rougher, train_target_rougher)\n",
    "rougher_recovery_predicted = model.predict(test_features_rougher)\n",
    "model.fit(train_features_final, train_target_final)\n",
    "final_recovery_predicted = model.predict(test_features_final)\n",
    "print('sMAPE для полиноминальной регресии',sMAPE_score(rougher_recovery_real, rougher_recovery_predicted, final_recovery_real, final_recovery_predicted))\n",
    "\n",
    "model = Ridge(alpha=100, solver='sparse_cg')\n",
    "model.fit(train_features_rougher, train_target_rougher)\n",
    "rougher_recovery_predicted = model.predict(test_features_rougher)\n",
    "model.fit(train_features_final, train_target_final)\n",
    "final_recovery_predicted = model.predict(test_features_final)\n",
    "print('sMAPE для регресии Ridge',sMAPE_score(rougher_recovery_real, rougher_recovery_predicted, final_recovery_real, final_recovery_predicted))\n",
    "\n",
    "model = DecisionTreeRegressor(criterion='mae', max_depth=2, random_state=15062020)\n",
    "model.fit(train_features_rougher, train_target_rougher)\n",
    "rougher_recovery_predicted = model.predict(test_features_rougher)\n",
    "model.fit(train_features_final, train_target_final)\n",
    "final_recovery_predicted = model.predict(test_features_final)\n",
    "print('sMAPE для DecisionTreeRegressor',sMAPE_score(rougher_recovery_real, rougher_recovery_predicted, final_recovery_real, final_recovery_predicted))"
   ]
  },
  {
   "cell_type": "code",
   "execution_count": 50,
   "metadata": {},
   "outputs": [
    {
     "name": "stdout",
     "output_type": "stream",
     "text": [
      "sMAPE для медианной константной модели 11.679754848001743\n"
     ]
    }
   ],
   "source": [
    "# создадим константную модель на медианных значений, изменим код функции для подсчета\n",
    "median_rougher_recovery = full_df['rougher.output.recovery'].median()\n",
    "median_final_recovery = full_df['final.output.recovery'].median()\n",
    "\n",
    "n = rougher_recovery_real.shape[0]\n",
    "rougher_sMAPE = ((2*abs(rougher_recovery_real - median_rougher_recovery)/\n",
    "                     (abs(rougher_recovery_real) + abs(median_rougher_recovery))).sum() * 100 / n)\n",
    "final_sMAPE = ((2*abs(final_recovery_real - median_final_recovery)/\n",
    "                     (abs(final_recovery_real) + abs(median_final_recovery))).sum() * 100 / n)\n",
    "print('sMAPE для медианной константной модели', rougher_sMAPE * 0.25 + final_sMAPE * 0.75)"
   ]
  },
  {
   "cell_type": "markdown",
   "metadata": {},
   "source": [
    "Проведем сокращение тестовой выборки из-за пропущенных значений rougher.output.recovery и final.output.recovery в полном датафрейме. Для вычисления sMAPE длина и индексы всех серий должны быть одинаковы."
   ]
  },
  {
   "cell_type": "code",
   "execution_count": 51,
   "metadata": {},
   "outputs": [
    {
     "name": "stdout",
     "output_type": "stream",
     "text": [
      "Количество строк rougher_recovery_real = 5229\n",
      "Количество строк final_recovery_real = 5229\n",
      "Количество строк test_features_rougher = 5229\n",
      "Количество индексов с полными данными= 5229\n"
     ]
    }
   ],
   "source": [
    "rougher_recovery_real.dropna(inplace=True)\n",
    "print('Количество строк rougher_recovery_real =', rougher_recovery_real.shape[0])\n",
    "final_recovery_real.dropna(inplace=True)\n",
    "print('Количество строк final_recovery_real =', final_recovery_real.shape[0])\n",
    "print('Количество строк test_features_rougher =', test_features_rougher.shape[0])\n",
    "\n",
    "not_nan_index = set(test_features_rougher.index)\n",
    "not_nan_index = not_nan_index.intersection(set(final_recovery_real.index), set(rougher_recovery_real.index))\n",
    "print('Количество индексов с полными данными=', len(not_nan_index))"
   ]
  },
  {
   "cell_type": "code",
   "execution_count": 52,
   "metadata": {},
   "outputs": [
    {
     "name": "stdout",
     "output_type": "stream",
     "text": [
      "Количество строк test_features_final = 5229\n"
     ]
    }
   ],
   "source": [
    "# преобразуем количество данных тестовой выбоки и рельных так, чтобы не было NaN\n",
    "rougher_recovery_real = full_df.loc[not_nan_index,'rougher.output.recovery']\n",
    "final_recovery_real = full_df.loc[not_nan_index,'final.output.recovery']\n",
    "test_features_rougher = test_features_rougher.loc[not_nan_index,:]\n",
    "test_features_final = test_features_final.loc[not_nan_index,:]\n",
    "print('Количество строк test_features_final =', test_features_final.shape[0])"
   ]
  },
  {
   "cell_type": "markdown",
   "metadata": {},
   "source": [
    "Повторим получение sMAPE на тех же моделях."
   ]
  },
  {
   "cell_type": "code",
   "execution_count": 53,
   "metadata": {},
   "outputs": [
    {
     "name": "stdout",
     "output_type": "stream",
     "text": [
      "sMAPE для линейной регресии 12.623643558078953\n",
      "sMAPE для полиноминальной регресии 25.956157619975148\n",
      "sMAPE для регресии Ridge 12.495231980680684\n",
      "sMAPE для DecisionTreeRegressor 12.94752083927472\n",
      "sMAPE для медианной константной модели 11.679754848001743\n",
      "CPU times: user 37.8 s, sys: 8.08 s, total: 45.9 s\n",
      "Wall time: 45.9 s\n"
     ]
    }
   ],
   "source": [
    "%%time\n",
    "\n",
    "model = LinearRegression()\n",
    "model.fit(train_features_rougher, train_target_rougher)\n",
    "rougher_recovery_predicted = model.predict(test_features_rougher)\n",
    "model.fit(train_features_final, train_target_final)\n",
    "final_recovery_predicted = model.predict(test_features_final)\n",
    "print('sMAPE для линейной регресии',sMAPE_score(rougher_recovery_real, rougher_recovery_predicted, final_recovery_real, final_recovery_predicted))\n",
    "\n",
    "regressor = LinearRegression()\n",
    "polynomial_features = PolynomialFeatures(degree=2, include_bias=False)\n",
    "model = Pipeline([(\"polynomial_features\", polynomial_features),(\"linear_regression\", regressor)])\n",
    "model.fit(train_features_rougher, train_target_rougher)\n",
    "rougher_recovery_predicted = model.predict(test_features_rougher)\n",
    "model.fit(train_features_final, train_target_final)\n",
    "final_recovery_predicted = model.predict(test_features_final)\n",
    "print('sMAPE для полиноминальной регресии',sMAPE_score(rougher_recovery_real, rougher_recovery_predicted, final_recovery_real, final_recovery_predicted))\n",
    "\n",
    "model = Ridge(alpha=100, solver='sparse_cg')\n",
    "model.fit(train_features_rougher, train_target_rougher)\n",
    "rougher_recovery_predicted = model.predict(test_features_rougher)\n",
    "model.fit(train_features_final, train_target_final)\n",
    "final_recovery_predicted = model.predict(test_features_final)\n",
    "print('sMAPE для регресии Ridge',sMAPE_score(rougher_recovery_real, rougher_recovery_predicted, final_recovery_real, final_recovery_predicted))\n",
    "\n",
    "model = DecisionTreeRegressor(criterion='mae', max_depth=2, random_state=15062020)\n",
    "model.fit(train_features_rougher, train_target_rougher)\n",
    "rougher_recovery_predicted = model.predict(test_features_rougher)\n",
    "model.fit(train_features_final, train_target_final)\n",
    "final_recovery_predicted = model.predict(test_features_final)\n",
    "print('sMAPE для DecisionTreeRegressor',sMAPE_score(rougher_recovery_real, rougher_recovery_predicted, final_recovery_real, final_recovery_predicted)) \n",
    "\n",
    "n = rougher_recovery_real.shape[0]\n",
    "rougher_sMAPE = ((2*abs(rougher_recovery_real - median_rougher_recovery)/\n",
    "                     (abs(rougher_recovery_real) + abs(median_rougher_recovery))).sum() * 100 / n)\n",
    "final_sMAPE = ((2*abs(final_recovery_real - median_final_recovery)/\n",
    "                     (abs(final_recovery_real) + abs(median_final_recovery))).sum() * 100 / n)\n",
    "print('sMAPE для медианной константной модели', rougher_sMAPE * 0.25 + final_sMAPE * 0.75)"
   ]
  },
  {
   "cell_type": "markdown",
   "metadata": {},
   "source": [
    "Сравним модель Ridge c медианной константной по метрикам R2 и MAE. проверим показания на final_recovery_real."
   ]
  },
  {
   "cell_type": "code",
   "execution_count": 54,
   "metadata": {},
   "outputs": [
    {
     "name": "stdout",
     "output_type": "stream",
     "text": [
      "R2 Ridge model = -0.3229599056699739\n",
      "MAE Ridge model = 7.512192786317186\n",
      "\n",
      "R2 constant model = -0.15530194696012067\n",
      "MAE constant model = 6.706628293443592\n"
     ]
    }
   ],
   "source": [
    "model = Ridge(alpha=100, solver='sparse_cg')\n",
    "model.fit(train_features_final, train_target_final)\n",
    "final_recovery_predicted = model.predict(test_features_final)\n",
    "print('R2 Ridge model =', r2_score(final_recovery_real, final_recovery_predicted))\n",
    "print('MAE Ridge model =', mean_absolute_error(final_recovery_real, final_recovery_predicted))\n",
    "print()\n",
    "\n",
    "final_median_predict = pd.Series(median_final_recovery, index=not_nan_index)\n",
    "print('R2 constant model =', r2_score(final_recovery_real, final_median_predict))\n",
    "print('MAE constant model =', mean_absolute_error(final_recovery_real, final_median_predict))"
   ]
  },
  {
   "cell_type": "markdown",
   "metadata": {},
   "source": [
    "Была написана функция для вычисления sMAPE. Каждая модель была изучена на качество с помощью методов кросс-валидации и поиска гипер параметром GridSearchCV. Была отобрана лучшая модель - Ridge. Ее значение sMAPE самое низкое. "
   ]
  },
  {
   "cell_type": "markdown",
   "metadata": {},
   "source": [
    "### Вывод"
   ]
  },
  {
   "cell_type": "markdown",
   "metadata": {},
   "source": [
    "<div style=\"border:solid green 2px; padding: 20px\">\n",
    "В ходе работы было выполнено:\n",
    "\n",
    "1. Подготовлены данные.\n",
    "2. Проведен исследовательский анализ данных.\n",
    "3. Построена и обучена модель.\n",
    "\n",
    "Регрессор Ridge показал себя лучше обычной линейной регресии. sMAPE показал 12.52. Если сравнивать с константной моделью, значение проигрывает на 0.85. Другие метрики тоже говорят о том, что константная модель адекватнее выбранной.    \n",
    "</div>     "
   ]
  }
 ],
 "metadata": {
  "ExecuteTimeLog": [
   {
    "duration": 44,
    "start_time": "2022-03-26T17:44:13.605Z"
   },
   {
    "duration": 1746,
    "start_time": "2022-03-26T17:44:21.534Z"
   },
   {
    "duration": 1820,
    "start_time": "2022-03-26T17:44:23.281Z"
   },
   {
    "duration": 18,
    "start_time": "2022-03-26T17:44:25.102Z"
   },
   {
    "duration": 6,
    "start_time": "2022-03-26T17:52:12.260Z"
   },
   {
    "duration": 27,
    "start_time": "2022-03-26T17:53:06.118Z"
   },
   {
    "duration": 8,
    "start_time": "2022-03-26T17:54:03.546Z"
   },
   {
    "duration": 102,
    "start_time": "2022-03-26T17:55:43.424Z"
   },
   {
    "duration": 3,
    "start_time": "2022-03-26T17:55:47.708Z"
   },
   {
    "duration": 139,
    "start_time": "2022-03-26T17:55:48.330Z"
   },
   {
    "duration": 3,
    "start_time": "2022-03-26T17:58:16.601Z"
   },
   {
    "duration": 151,
    "start_time": "2022-03-26T17:58:17.764Z"
   },
   {
    "duration": 14,
    "start_time": "2022-03-26T17:59:35.694Z"
   },
   {
    "duration": 132,
    "start_time": "2022-03-26T18:00:04.427Z"
   },
   {
    "duration": 154,
    "start_time": "2022-03-26T18:00:09.558Z"
   },
   {
    "duration": 145,
    "start_time": "2022-03-26T18:00:10.034Z"
   },
   {
    "duration": 7,
    "start_time": "2022-03-26T18:00:56.501Z"
   },
   {
    "duration": 358,
    "start_time": "2022-03-26T18:00:59.563Z"
   },
   {
    "duration": 3,
    "start_time": "2022-03-26T18:01:26.981Z"
   },
   {
    "duration": 359,
    "start_time": "2022-03-26T18:01:30.310Z"
   },
   {
    "duration": 131,
    "start_time": "2022-03-26T18:01:40.219Z"
   },
   {
    "duration": 318,
    "start_time": "2022-03-26T18:01:41.610Z"
   },
   {
    "duration": 8,
    "start_time": "2022-03-26T18:02:14.691Z"
   },
   {
    "duration": 187,
    "start_time": "2022-03-26T18:02:41.381Z"
   },
   {
    "duration": 115,
    "start_time": "2022-03-26T18:03:28.519Z"
   },
   {
    "duration": 12,
    "start_time": "2022-03-26T18:05:41.853Z"
   },
   {
    "duration": 8,
    "start_time": "2022-03-26T18:06:33.141Z"
   },
   {
    "duration": 100,
    "start_time": "2022-03-26T18:07:09.703Z"
   },
   {
    "duration": 20,
    "start_time": "2022-03-26T18:07:35.121Z"
   },
   {
    "duration": 1488,
    "start_time": "2022-03-26T18:34:40.394Z"
   },
   {
    "duration": 639,
    "start_time": "2022-03-26T18:34:41.884Z"
   },
   {
    "duration": 22,
    "start_time": "2022-03-26T18:34:42.525Z"
   },
   {
    "duration": 21,
    "start_time": "2022-03-26T18:34:42.549Z"
   },
   {
    "duration": 208,
    "start_time": "2022-03-26T18:34:42.573Z"
   },
   {
    "duration": 121,
    "start_time": "2022-03-26T18:34:42.783Z"
   },
   {
    "duration": 12,
    "start_time": "2022-03-26T18:34:42.905Z"
   },
   {
    "duration": 5,
    "start_time": "2022-03-26T18:34:42.919Z"
   },
   {
    "duration": 123,
    "start_time": "2022-03-26T18:34:42.925Z"
   },
   {
    "duration": 24,
    "start_time": "2022-03-26T18:34:43.050Z"
   },
   {
    "duration": 1478,
    "start_time": "2022-03-26T18:36:00.994Z"
   },
   {
    "duration": 600,
    "start_time": "2022-03-26T18:36:02.474Z"
   },
   {
    "duration": 18,
    "start_time": "2022-03-26T18:36:03.076Z"
   },
   {
    "duration": 11,
    "start_time": "2022-03-26T18:36:03.097Z"
   },
   {
    "duration": 214,
    "start_time": "2022-03-26T18:36:03.110Z"
   },
   {
    "duration": 116,
    "start_time": "2022-03-26T18:36:03.326Z"
   },
   {
    "duration": 21,
    "start_time": "2022-03-26T18:36:03.444Z"
   },
   {
    "duration": 6,
    "start_time": "2022-03-26T18:36:03.466Z"
   },
   {
    "duration": 115,
    "start_time": "2022-03-26T18:36:03.474Z"
   },
   {
    "duration": 19,
    "start_time": "2022-03-26T18:36:03.591Z"
   },
   {
    "duration": 18,
    "start_time": "2022-03-26T18:38:54.799Z"
   },
   {
    "duration": 9,
    "start_time": "2022-03-26T18:39:52.106Z"
   },
   {
    "duration": 7,
    "start_time": "2022-03-26T18:40:19.748Z"
   },
   {
    "duration": 324,
    "start_time": "2022-03-26T18:41:14.964Z"
   },
   {
    "duration": 85,
    "start_time": "2022-03-26T18:42:00.319Z"
   },
   {
    "duration": 11,
    "start_time": "2022-03-26T19:11:36.587Z"
   },
   {
    "duration": 7,
    "start_time": "2022-03-26T19:16:17.786Z"
   },
   {
    "duration": 110,
    "start_time": "2022-03-26T19:16:55.199Z"
   },
   {
    "duration": 9,
    "start_time": "2022-03-26T19:17:17.920Z"
   },
   {
    "duration": 23,
    "start_time": "2022-03-26T19:25:31.143Z"
   },
   {
    "duration": 17,
    "start_time": "2022-03-26T19:25:35.934Z"
   },
   {
    "duration": 19,
    "start_time": "2022-03-26T19:25:55.651Z"
   },
   {
    "duration": 9,
    "start_time": "2022-03-26T19:26:05.892Z"
   },
   {
    "duration": 16,
    "start_time": "2022-03-26T19:26:07.726Z"
   },
   {
    "duration": 1717,
    "start_time": "2022-03-26T19:26:17.133Z"
   },
   {
    "duration": 692,
    "start_time": "2022-03-26T19:26:18.852Z"
   },
   {
    "duration": 37,
    "start_time": "2022-03-26T19:26:19.546Z"
   },
   {
    "duration": 12,
    "start_time": "2022-03-26T19:26:19.585Z"
   },
   {
    "duration": 225,
    "start_time": "2022-03-26T19:26:19.599Z"
   },
   {
    "duration": 129,
    "start_time": "2022-03-26T19:26:19.825Z"
   },
   {
    "duration": 25,
    "start_time": "2022-03-26T19:26:19.956Z"
   },
   {
    "duration": 21,
    "start_time": "2022-03-26T19:26:19.983Z"
   },
   {
    "duration": 121,
    "start_time": "2022-03-26T19:26:20.005Z"
   },
   {
    "duration": 20,
    "start_time": "2022-03-26T19:26:20.129Z"
   },
   {
    "duration": 39,
    "start_time": "2022-03-26T19:26:20.151Z"
   },
   {
    "duration": 18,
    "start_time": "2022-03-26T19:26:20.192Z"
   },
   {
    "duration": 238,
    "start_time": "2022-03-26T19:26:20.212Z"
   },
   {
    "duration": 96,
    "start_time": "2022-03-26T19:26:20.452Z"
   },
   {
    "duration": 16,
    "start_time": "2022-03-26T19:26:20.550Z"
   },
   {
    "duration": 42,
    "start_time": "2022-03-26T19:26:20.567Z"
   },
   {
    "duration": 28,
    "start_time": "2022-03-26T19:26:26.663Z"
   },
   {
    "duration": 131,
    "start_time": "2022-03-26T19:26:48.837Z"
   },
   {
    "duration": 23,
    "start_time": "2022-03-26T19:26:54.343Z"
   },
   {
    "duration": 21,
    "start_time": "2022-03-26T19:28:37.310Z"
   },
   {
    "duration": 18,
    "start_time": "2022-03-26T19:32:13.243Z"
   },
   {
    "duration": 19,
    "start_time": "2022-03-26T19:33:21.211Z"
   },
   {
    "duration": 3,
    "start_time": "2022-03-26T19:34:37.110Z"
   },
   {
    "duration": 6,
    "start_time": "2022-03-26T19:34:51.576Z"
   },
   {
    "duration": 1741,
    "start_time": "2022-03-26T19:35:08.982Z"
   },
   {
    "duration": 894,
    "start_time": "2022-03-26T19:35:10.725Z"
   },
   {
    "duration": 22,
    "start_time": "2022-03-26T19:35:11.621Z"
   },
   {
    "duration": 21,
    "start_time": "2022-03-26T19:35:11.645Z"
   },
   {
    "duration": 277,
    "start_time": "2022-03-26T19:35:11.668Z"
   },
   {
    "duration": 164,
    "start_time": "2022-03-26T19:35:11.947Z"
   },
   {
    "duration": 15,
    "start_time": "2022-03-26T19:35:12.113Z"
   },
   {
    "duration": 7,
    "start_time": "2022-03-26T19:35:12.130Z"
   },
   {
    "duration": 173,
    "start_time": "2022-03-26T19:35:12.139Z"
   },
   {
    "duration": 20,
    "start_time": "2022-03-26T19:35:12.314Z"
   },
   {
    "duration": 31,
    "start_time": "2022-03-26T19:35:12.336Z"
   },
   {
    "duration": 14,
    "start_time": "2022-03-26T19:35:12.375Z"
   },
   {
    "duration": 239,
    "start_time": "2022-03-26T19:35:12.391Z"
   },
   {
    "duration": 103,
    "start_time": "2022-03-26T19:35:12.633Z"
   },
   {
    "duration": 12,
    "start_time": "2022-03-26T19:35:12.738Z"
   },
   {
    "duration": 19,
    "start_time": "2022-03-26T19:35:12.752Z"
   },
   {
    "duration": 49,
    "start_time": "2022-03-26T19:35:12.773Z"
   },
   {
    "duration": 17,
    "start_time": "2022-03-26T19:35:12.823Z"
   },
   {
    "duration": 18,
    "start_time": "2022-03-26T19:35:12.841Z"
   },
   {
    "duration": 116,
    "start_time": "2022-03-26T19:43:28.118Z"
   },
   {
    "duration": 4,
    "start_time": "2022-03-26T19:43:35.223Z"
   },
   {
    "duration": 1719,
    "start_time": "2022-03-26T19:44:08.109Z"
   },
   {
    "duration": 633,
    "start_time": "2022-03-26T19:44:09.830Z"
   },
   {
    "duration": 22,
    "start_time": "2022-03-26T19:44:10.466Z"
   },
   {
    "duration": 13,
    "start_time": "2022-03-26T19:44:10.490Z"
   },
   {
    "duration": 322,
    "start_time": "2022-03-26T19:44:10.504Z"
   },
   {
    "duration": 129,
    "start_time": "2022-03-26T19:44:10.828Z"
   },
   {
    "duration": 19,
    "start_time": "2022-03-26T19:44:10.959Z"
   },
   {
    "duration": 10,
    "start_time": "2022-03-26T19:44:10.981Z"
   },
   {
    "duration": 184,
    "start_time": "2022-03-26T19:44:10.993Z"
   },
   {
    "duration": 28,
    "start_time": "2022-03-26T19:44:11.180Z"
   },
   {
    "duration": 17,
    "start_time": "2022-03-26T19:44:11.210Z"
   },
   {
    "duration": 10,
    "start_time": "2022-03-26T19:44:11.228Z"
   },
   {
    "duration": 258,
    "start_time": "2022-03-26T19:44:11.239Z"
   },
   {
    "duration": 140,
    "start_time": "2022-03-26T19:44:11.499Z"
   },
   {
    "duration": 12,
    "start_time": "2022-03-26T19:44:11.641Z"
   },
   {
    "duration": 5,
    "start_time": "2022-03-26T19:44:11.663Z"
   },
   {
    "duration": 45,
    "start_time": "2022-03-26T19:44:11.669Z"
   },
   {
    "duration": 16,
    "start_time": "2022-03-26T19:44:11.715Z"
   },
   {
    "duration": 32,
    "start_time": "2022-03-26T19:44:11.732Z"
   },
   {
    "duration": 207,
    "start_time": "2022-03-26T19:58:04.235Z"
   },
   {
    "duration": 1475,
    "start_time": "2022-03-26T19:58:43.937Z"
   },
   {
    "duration": 644,
    "start_time": "2022-03-26T19:58:45.414Z"
   },
   {
    "duration": 23,
    "start_time": "2022-03-26T19:58:46.063Z"
   },
   {
    "duration": 10,
    "start_time": "2022-03-26T19:58:46.088Z"
   },
   {
    "duration": 214,
    "start_time": "2022-03-26T19:58:46.099Z"
   },
   {
    "duration": 118,
    "start_time": "2022-03-26T19:58:46.315Z"
   },
   {
    "duration": 30,
    "start_time": "2022-03-26T19:58:46.435Z"
   },
   {
    "duration": 12,
    "start_time": "2022-03-26T19:58:46.470Z"
   },
   {
    "duration": 115,
    "start_time": "2022-03-26T19:58:46.484Z"
   },
   {
    "duration": 22,
    "start_time": "2022-03-26T19:58:46.602Z"
   },
   {
    "duration": 44,
    "start_time": "2022-03-26T19:58:46.626Z"
   },
   {
    "duration": 10,
    "start_time": "2022-03-26T19:58:46.672Z"
   },
   {
    "duration": 223,
    "start_time": "2022-03-26T19:58:46.683Z"
   },
   {
    "duration": 91,
    "start_time": "2022-03-26T19:58:46.907Z"
   },
   {
    "duration": 10,
    "start_time": "2022-03-26T19:58:47.000Z"
   },
   {
    "duration": 5,
    "start_time": "2022-03-26T19:58:47.012Z"
   },
   {
    "duration": 57,
    "start_time": "2022-03-26T19:58:47.018Z"
   },
   {
    "duration": 17,
    "start_time": "2022-03-26T19:58:47.077Z"
   },
   {
    "duration": 18,
    "start_time": "2022-03-26T19:58:47.096Z"
   },
   {
    "duration": 206,
    "start_time": "2022-03-26T19:58:47.115Z"
   },
   {
    "duration": 2,
    "start_time": "2022-03-26T20:00:06.436Z"
   },
   {
    "duration": 273,
    "start_time": "2022-03-26T20:00:09.853Z"
   },
   {
    "duration": 1521,
    "start_time": "2022-03-26T20:00:20.603Z"
   },
   {
    "duration": 752,
    "start_time": "2022-03-26T20:00:22.125Z"
   },
   {
    "duration": 17,
    "start_time": "2022-03-26T20:00:22.879Z"
   },
   {
    "duration": 9,
    "start_time": "2022-03-26T20:00:22.898Z"
   },
   {
    "duration": 223,
    "start_time": "2022-03-26T20:00:22.908Z"
   },
   {
    "duration": 126,
    "start_time": "2022-03-26T20:00:23.132Z"
   },
   {
    "duration": 20,
    "start_time": "2022-03-26T20:00:23.259Z"
   },
   {
    "duration": 9,
    "start_time": "2022-03-26T20:00:23.280Z"
   },
   {
    "duration": 120,
    "start_time": "2022-03-26T20:00:23.290Z"
   },
   {
    "duration": 22,
    "start_time": "2022-03-26T20:00:23.412Z"
   },
   {
    "duration": 36,
    "start_time": "2022-03-26T20:00:23.436Z"
   },
   {
    "duration": 11,
    "start_time": "2022-03-26T20:00:23.473Z"
   },
   {
    "duration": 227,
    "start_time": "2022-03-26T20:00:23.485Z"
   },
   {
    "duration": 99,
    "start_time": "2022-03-26T20:00:23.713Z"
   },
   {
    "duration": 11,
    "start_time": "2022-03-26T20:00:23.814Z"
   },
   {
    "duration": 4,
    "start_time": "2022-03-26T20:00:23.826Z"
   },
   {
    "duration": 8,
    "start_time": "2022-03-26T20:00:23.832Z"
   },
   {
    "duration": 15,
    "start_time": "2022-03-26T20:00:23.842Z"
   },
   {
    "duration": 24,
    "start_time": "2022-03-26T20:00:23.859Z"
   },
   {
    "duration": 244,
    "start_time": "2022-03-26T20:00:23.885Z"
   },
   {
    "duration": 2,
    "start_time": "2022-03-26T20:03:54.100Z"
   },
   {
    "duration": 9,
    "start_time": "2022-03-26T20:03:54.750Z"
   },
   {
    "duration": 11,
    "start_time": "2022-03-26T20:07:48.645Z"
   },
   {
    "duration": 4,
    "start_time": "2022-03-26T20:07:50.821Z"
   },
   {
    "duration": 2,
    "start_time": "2022-03-26T20:07:52.900Z"
   },
   {
    "duration": 3,
    "start_time": "2022-03-26T20:07:53.482Z"
   },
   {
    "duration": 3,
    "start_time": "2022-03-26T20:07:54.072Z"
   },
   {
    "duration": 273,
    "start_time": "2022-03-26T20:07:54.857Z"
   },
   {
    "duration": 5,
    "start_time": "2022-03-26T20:09:22.153Z"
   },
   {
    "duration": 1435,
    "start_time": "2022-03-26T20:09:37.009Z"
   },
   {
    "duration": 676,
    "start_time": "2022-03-26T20:09:38.445Z"
   },
   {
    "duration": 19,
    "start_time": "2022-03-26T20:09:39.122Z"
   },
   {
    "duration": 35,
    "start_time": "2022-03-26T20:09:39.143Z"
   },
   {
    "duration": 201,
    "start_time": "2022-03-26T20:09:39.179Z"
   },
   {
    "duration": 130,
    "start_time": "2022-03-26T20:09:39.382Z"
   },
   {
    "duration": 13,
    "start_time": "2022-03-26T20:09:39.514Z"
   },
   {
    "duration": 6,
    "start_time": "2022-03-26T20:09:39.529Z"
   },
   {
    "duration": 135,
    "start_time": "2022-03-26T20:09:39.537Z"
   },
   {
    "duration": 23,
    "start_time": "2022-03-26T20:09:39.674Z"
   },
   {
    "duration": 16,
    "start_time": "2022-03-26T20:09:39.698Z"
   },
   {
    "duration": 9,
    "start_time": "2022-03-26T20:09:39.716Z"
   },
   {
    "duration": 237,
    "start_time": "2022-03-26T20:09:39.726Z"
   },
   {
    "duration": 91,
    "start_time": "2022-03-26T20:09:39.964Z"
   },
   {
    "duration": 3,
    "start_time": "2022-03-26T20:09:40.068Z"
   },
   {
    "duration": 21,
    "start_time": "2022-03-26T20:09:40.073Z"
   },
   {
    "duration": 11,
    "start_time": "2022-03-26T20:09:40.096Z"
   },
   {
    "duration": 5,
    "start_time": "2022-03-26T20:09:40.108Z"
   },
   {
    "duration": 9,
    "start_time": "2022-03-26T20:09:40.114Z"
   },
   {
    "duration": 11,
    "start_time": "2022-03-26T20:09:40.124Z"
   },
   {
    "duration": 11,
    "start_time": "2022-03-26T20:09:40.137Z"
   },
   {
    "duration": 244,
    "start_time": "2022-03-26T20:09:40.150Z"
   },
   {
    "duration": 5,
    "start_time": "2022-03-26T20:09:40.396Z"
   },
   {
    "duration": 31,
    "start_time": "2022-03-26T20:12:04.152Z"
   },
   {
    "duration": 1588,
    "start_time": "2022-03-28T19:07:49.485Z"
   },
   {
    "duration": 609,
    "start_time": "2022-03-28T19:07:51.076Z"
   },
   {
    "duration": 19,
    "start_time": "2022-03-28T19:07:51.687Z"
   },
   {
    "duration": 10,
    "start_time": "2022-03-28T19:07:51.708Z"
   },
   {
    "duration": 220,
    "start_time": "2022-03-28T19:07:51.720Z"
   },
   {
    "duration": 117,
    "start_time": "2022-03-28T19:07:51.942Z"
   },
   {
    "duration": 14,
    "start_time": "2022-03-28T19:07:52.063Z"
   },
   {
    "duration": 6,
    "start_time": "2022-03-28T19:07:52.079Z"
   },
   {
    "duration": 125,
    "start_time": "2022-03-28T19:07:52.086Z"
   },
   {
    "duration": 19,
    "start_time": "2022-03-28T19:07:52.213Z"
   },
   {
    "duration": 30,
    "start_time": "2022-03-28T19:07:52.233Z"
   },
   {
    "duration": 9,
    "start_time": "2022-03-28T19:07:52.264Z"
   },
   {
    "duration": 213,
    "start_time": "2022-03-28T19:07:52.275Z"
   },
   {
    "duration": 87,
    "start_time": "2022-03-28T19:07:52.490Z"
   },
   {
    "duration": 3,
    "start_time": "2022-03-28T19:07:52.579Z"
   },
   {
    "duration": 15,
    "start_time": "2022-03-28T19:07:52.583Z"
   },
   {
    "duration": 12,
    "start_time": "2022-03-28T19:07:52.599Z"
   },
   {
    "duration": 4,
    "start_time": "2022-03-28T19:07:52.612Z"
   },
   {
    "duration": 7,
    "start_time": "2022-03-28T19:07:52.618Z"
   },
   {
    "duration": 5,
    "start_time": "2022-03-28T19:07:52.627Z"
   },
   {
    "duration": 4,
    "start_time": "2022-03-28T19:07:52.634Z"
   },
   {
    "duration": 253,
    "start_time": "2022-03-28T19:07:52.640Z"
   },
   {
    "duration": 121,
    "start_time": "2022-03-28T19:07:52.895Z"
   },
   {
    "duration": 1488,
    "start_time": "2022-03-28T19:08:23.212Z"
   },
   {
    "duration": 608,
    "start_time": "2022-03-28T19:08:24.702Z"
   },
   {
    "duration": 17,
    "start_time": "2022-03-28T19:08:25.312Z"
   },
   {
    "duration": 9,
    "start_time": "2022-03-28T19:08:25.331Z"
   },
   {
    "duration": 208,
    "start_time": "2022-03-28T19:08:25.341Z"
   },
   {
    "duration": 118,
    "start_time": "2022-03-28T19:08:25.551Z"
   },
   {
    "duration": 12,
    "start_time": "2022-03-28T19:08:25.671Z"
   },
   {
    "duration": 6,
    "start_time": "2022-03-28T19:08:25.684Z"
   },
   {
    "duration": 116,
    "start_time": "2022-03-28T19:08:25.692Z"
   },
   {
    "duration": 18,
    "start_time": "2022-03-28T19:08:25.810Z"
   },
   {
    "duration": 15,
    "start_time": "2022-03-28T19:08:25.830Z"
   },
   {
    "duration": 9,
    "start_time": "2022-03-28T19:08:25.862Z"
   },
   {
    "duration": 215,
    "start_time": "2022-03-28T19:08:25.872Z"
   },
   {
    "duration": 95,
    "start_time": "2022-03-28T19:08:26.089Z"
   },
   {
    "duration": 2,
    "start_time": "2022-03-28T19:08:26.186Z"
   },
   {
    "duration": 15,
    "start_time": "2022-03-28T19:08:26.189Z"
   },
   {
    "duration": 11,
    "start_time": "2022-03-28T19:08:26.205Z"
   },
   {
    "duration": 4,
    "start_time": "2022-03-28T19:08:26.217Z"
   },
   {
    "duration": 8,
    "start_time": "2022-03-28T19:08:26.223Z"
   },
   {
    "duration": 10,
    "start_time": "2022-03-28T19:08:26.233Z"
   },
   {
    "duration": 20,
    "start_time": "2022-03-28T19:08:26.244Z"
   },
   {
    "duration": 263,
    "start_time": "2022-03-28T19:08:26.266Z"
   },
   {
    "duration": 116,
    "start_time": "2022-03-28T19:08:26.530Z"
   },
   {
    "duration": 22,
    "start_time": "2022-03-28T19:16:25.792Z"
   },
   {
    "duration": 14,
    "start_time": "2022-03-28T19:18:04.892Z"
   },
   {
    "duration": 1503,
    "start_time": "2022-03-28T19:18:14.009Z"
   },
   {
    "duration": 599,
    "start_time": "2022-03-28T19:18:15.514Z"
   },
   {
    "duration": 18,
    "start_time": "2022-03-28T19:18:16.115Z"
   },
   {
    "duration": 9,
    "start_time": "2022-03-28T19:18:16.136Z"
   },
   {
    "duration": 210,
    "start_time": "2022-03-28T19:18:16.147Z"
   },
   {
    "duration": 116,
    "start_time": "2022-03-28T19:18:16.362Z"
   },
   {
    "duration": 13,
    "start_time": "2022-03-28T19:18:16.479Z"
   },
   {
    "duration": 6,
    "start_time": "2022-03-28T19:18:16.493Z"
   },
   {
    "duration": 127,
    "start_time": "2022-03-28T19:18:16.500Z"
   },
   {
    "duration": 21,
    "start_time": "2022-03-28T19:18:16.630Z"
   },
   {
    "duration": 18,
    "start_time": "2022-03-28T19:18:16.664Z"
   },
   {
    "duration": 9,
    "start_time": "2022-03-28T19:18:16.684Z"
   },
   {
    "duration": 220,
    "start_time": "2022-03-28T19:18:16.695Z"
   },
   {
    "duration": 86,
    "start_time": "2022-03-28T19:18:16.917Z"
   },
   {
    "duration": 115,
    "start_time": "2022-03-28T19:18:17.005Z"
   },
   {
    "duration": 0,
    "start_time": "2022-03-28T19:18:17.122Z"
   },
   {
    "duration": 0,
    "start_time": "2022-03-28T19:18:17.123Z"
   },
   {
    "duration": 0,
    "start_time": "2022-03-28T19:18:17.124Z"
   },
   {
    "duration": 0,
    "start_time": "2022-03-28T19:18:17.125Z"
   },
   {
    "duration": 0,
    "start_time": "2022-03-28T19:18:17.126Z"
   },
   {
    "duration": 0,
    "start_time": "2022-03-28T19:18:17.127Z"
   },
   {
    "duration": 0,
    "start_time": "2022-03-28T19:18:17.128Z"
   },
   {
    "duration": 0,
    "start_time": "2022-03-28T19:18:17.129Z"
   },
   {
    "duration": 22,
    "start_time": "2022-03-28T19:18:28.692Z"
   },
   {
    "duration": 8,
    "start_time": "2022-03-28T19:18:34.162Z"
   },
   {
    "duration": 2,
    "start_time": "2022-03-28T19:18:35.744Z"
   },
   {
    "duration": 8,
    "start_time": "2022-03-28T19:18:36.528Z"
   },
   {
    "duration": 135,
    "start_time": "2022-03-28T19:18:48.452Z"
   },
   {
    "duration": 3,
    "start_time": "2022-03-28T19:18:48.938Z"
   },
   {
    "duration": 8,
    "start_time": "2022-03-28T19:18:51.557Z"
   },
   {
    "duration": 1449,
    "start_time": "2022-03-28T19:19:01.881Z"
   },
   {
    "duration": 593,
    "start_time": "2022-03-28T19:19:03.332Z"
   },
   {
    "duration": 19,
    "start_time": "2022-03-28T19:19:03.927Z"
   },
   {
    "duration": 21,
    "start_time": "2022-03-28T19:19:03.948Z"
   },
   {
    "duration": 203,
    "start_time": "2022-03-28T19:19:03.971Z"
   },
   {
    "duration": 116,
    "start_time": "2022-03-28T19:19:04.175Z"
   },
   {
    "duration": 13,
    "start_time": "2022-03-28T19:19:04.293Z"
   },
   {
    "duration": 7,
    "start_time": "2022-03-28T19:19:04.308Z"
   },
   {
    "duration": 134,
    "start_time": "2022-03-28T19:19:04.316Z"
   },
   {
    "duration": 24,
    "start_time": "2022-03-28T19:19:04.453Z"
   },
   {
    "duration": 16,
    "start_time": "2022-03-28T19:19:04.479Z"
   },
   {
    "duration": 9,
    "start_time": "2022-03-28T19:19:04.497Z"
   },
   {
    "duration": 228,
    "start_time": "2022-03-28T19:19:04.508Z"
   },
   {
    "duration": 95,
    "start_time": "2022-03-28T19:19:04.738Z"
   },
   {
    "duration": 174,
    "start_time": "2022-03-28T19:19:04.834Z"
   },
   {
    "duration": 0,
    "start_time": "2022-03-28T19:19:05.010Z"
   },
   {
    "duration": 0,
    "start_time": "2022-03-28T19:19:05.011Z"
   },
   {
    "duration": 0,
    "start_time": "2022-03-28T19:19:05.013Z"
   },
   {
    "duration": 0,
    "start_time": "2022-03-28T19:19:05.015Z"
   },
   {
    "duration": 0,
    "start_time": "2022-03-28T19:19:05.017Z"
   },
   {
    "duration": 0,
    "start_time": "2022-03-28T19:19:05.018Z"
   },
   {
    "duration": 0,
    "start_time": "2022-03-28T19:19:05.019Z"
   },
   {
    "duration": 0,
    "start_time": "2022-03-28T19:19:05.021Z"
   },
   {
    "duration": 12,
    "start_time": "2022-03-28T19:19:16.991Z"
   },
   {
    "duration": 2,
    "start_time": "2022-03-28T19:19:18.111Z"
   },
   {
    "duration": 9,
    "start_time": "2022-03-28T19:19:18.719Z"
   },
   {
    "duration": 15,
    "start_time": "2022-03-28T19:20:38.641Z"
   },
   {
    "duration": 4,
    "start_time": "2022-03-28T19:20:39.201Z"
   },
   {
    "duration": 19,
    "start_time": "2022-03-28T19:21:52.529Z"
   },
   {
    "duration": 11,
    "start_time": "2022-03-28T19:23:04.678Z"
   },
   {
    "duration": 178,
    "start_time": "2022-03-28T19:24:01.859Z"
   },
   {
    "duration": 17,
    "start_time": "2022-03-28T19:24:26.609Z"
   },
   {
    "duration": 9,
    "start_time": "2022-03-28T19:24:40.303Z"
   },
   {
    "duration": 3,
    "start_time": "2022-03-28T19:31:09.743Z"
   },
   {
    "duration": 104,
    "start_time": "2022-03-28T19:33:13.456Z"
   },
   {
    "duration": 2341,
    "start_time": "2022-03-28T19:33:35.238Z"
   },
   {
    "duration": 310,
    "start_time": "2022-03-28T19:35:53.532Z"
   },
   {
    "duration": 19,
    "start_time": "2022-03-28T19:37:25.205Z"
   },
   {
    "duration": 21,
    "start_time": "2022-03-28T19:38:15.292Z"
   },
   {
    "duration": 15,
    "start_time": "2022-03-28T19:39:48.521Z"
   },
   {
    "duration": 227,
    "start_time": "2022-03-28T19:40:37.832Z"
   },
   {
    "duration": 20,
    "start_time": "2022-03-28T19:41:18.967Z"
   },
   {
    "duration": 16,
    "start_time": "2022-03-28T19:42:11.347Z"
   },
   {
    "duration": 14,
    "start_time": "2022-03-28T19:42:41.140Z"
   },
   {
    "duration": 6,
    "start_time": "2022-03-28T19:44:34.596Z"
   },
   {
    "duration": 6,
    "start_time": "2022-03-28T19:45:11.865Z"
   },
   {
    "duration": 684,
    "start_time": "2022-03-28T19:52:34.180Z"
   },
   {
    "duration": 641,
    "start_time": "2022-03-28T19:53:00.744Z"
   },
   {
    "duration": 8751,
    "start_time": "2022-03-28T19:53:20.661Z"
   },
   {
    "duration": 456,
    "start_time": "2022-03-28T19:57:55.359Z"
   },
   {
    "duration": 145,
    "start_time": "2022-03-28T19:58:30.545Z"
   },
   {
    "duration": 467,
    "start_time": "2022-03-28T19:59:11.195Z"
   },
   {
    "duration": 692,
    "start_time": "2022-03-28T20:00:25.356Z"
   },
   {
    "duration": 675,
    "start_time": "2022-03-28T20:05:34.293Z"
   },
   {
    "duration": 593,
    "start_time": "2022-03-28T20:05:44.071Z"
   },
   {
    "duration": 439,
    "start_time": "2022-03-28T20:06:41.664Z"
   },
   {
    "duration": 683,
    "start_time": "2022-03-28T20:10:45.410Z"
   },
   {
    "duration": 365,
    "start_time": "2022-03-28T20:12:44.389Z"
   },
   {
    "duration": 11,
    "start_time": "2022-03-28T20:15:16.945Z"
   },
   {
    "duration": 6,
    "start_time": "2022-03-28T20:16:27.391Z"
   },
   {
    "duration": 466,
    "start_time": "2022-03-28T20:16:58.074Z"
   },
   {
    "duration": 149,
    "start_time": "2022-03-28T20:17:21.728Z"
   },
   {
    "duration": 21,
    "start_time": "2022-03-28T20:19:41.211Z"
   },
   {
    "duration": 52,
    "start_time": "2022-03-29T18:31:24.317Z"
   },
   {
    "duration": 1584,
    "start_time": "2022-03-29T18:31:34.828Z"
   },
   {
    "duration": 647,
    "start_time": "2022-03-29T18:31:36.414Z"
   },
   {
    "duration": 19,
    "start_time": "2022-03-29T18:31:37.063Z"
   },
   {
    "duration": 10,
    "start_time": "2022-03-29T18:31:37.084Z"
   },
   {
    "duration": 223,
    "start_time": "2022-03-29T18:31:37.096Z"
   },
   {
    "duration": 125,
    "start_time": "2022-03-29T18:31:37.321Z"
   },
   {
    "duration": 12,
    "start_time": "2022-03-29T18:31:37.448Z"
   },
   {
    "duration": 6,
    "start_time": "2022-03-29T18:31:37.462Z"
   },
   {
    "duration": 126,
    "start_time": "2022-03-29T18:31:37.470Z"
   },
   {
    "duration": 34,
    "start_time": "2022-03-29T18:31:37.600Z"
   },
   {
    "duration": 19,
    "start_time": "2022-03-29T18:31:37.636Z"
   },
   {
    "duration": 11,
    "start_time": "2022-03-29T18:31:37.657Z"
   },
   {
    "duration": 244,
    "start_time": "2022-03-29T18:31:37.670Z"
   },
   {
    "duration": 100,
    "start_time": "2022-03-29T18:31:37.916Z"
   },
   {
    "duration": 19,
    "start_time": "2022-03-29T18:31:38.018Z"
   },
   {
    "duration": 2,
    "start_time": "2022-03-29T18:31:38.039Z"
   },
   {
    "duration": 11,
    "start_time": "2022-03-29T18:31:38.043Z"
   },
   {
    "duration": 14,
    "start_time": "2022-03-29T18:31:38.056Z"
   },
   {
    "duration": 5,
    "start_time": "2022-03-29T18:31:38.072Z"
   },
   {
    "duration": 291,
    "start_time": "2022-03-29T18:31:38.079Z"
   },
   {
    "duration": 17,
    "start_time": "2022-03-29T18:31:38.372Z"
   },
   {
    "duration": 11,
    "start_time": "2022-03-29T18:31:38.391Z"
   },
   {
    "duration": 30,
    "start_time": "2022-03-29T18:31:38.404Z"
   },
   {
    "duration": 261,
    "start_time": "2022-03-29T18:31:38.436Z"
   },
   {
    "duration": 37,
    "start_time": "2022-03-29T18:31:38.699Z"
   },
   {
    "duration": 20,
    "start_time": "2022-03-29T18:31:38.738Z"
   },
   {
    "duration": 19,
    "start_time": "2022-03-29T18:31:38.760Z"
   },
   {
    "duration": 332,
    "start_time": "2022-03-29T18:31:38.782Z"
   },
   {
    "duration": 32,
    "start_time": "2022-03-29T18:31:39.115Z"
   },
   {
    "duration": 15,
    "start_time": "2022-03-29T18:31:39.149Z"
   },
   {
    "duration": 13,
    "start_time": "2022-03-29T18:31:39.166Z"
   },
   {
    "duration": 5,
    "start_time": "2022-03-29T18:31:39.181Z"
   },
   {
    "duration": 6,
    "start_time": "2022-03-29T18:31:39.188Z"
   },
   {
    "duration": 510,
    "start_time": "2022-03-29T18:31:39.195Z"
   },
   {
    "duration": 493,
    "start_time": "2022-03-29T18:31:39.707Z"
   },
   {
    "duration": 605,
    "start_time": "2022-03-29T18:31:40.202Z"
   },
   {
    "duration": 367,
    "start_time": "2022-03-29T18:31:40.809Z"
   },
   {
    "duration": 578,
    "start_time": "2022-03-29T18:31:41.178Z"
   },
   {
    "duration": 390,
    "start_time": "2022-03-29T18:31:41.758Z"
   },
   {
    "duration": 8,
    "start_time": "2022-03-29T18:31:42.151Z"
   },
   {
    "duration": 617,
    "start_time": "2022-03-29T18:31:42.161Z"
   },
   {
    "duration": 16,
    "start_time": "2022-03-29T18:31:42.779Z"
   },
   {
    "duration": 162,
    "start_time": "2022-03-29T18:31:42.797Z"
   },
   {
    "duration": 11,
    "start_time": "2022-03-29T18:37:28.459Z"
   },
   {
    "duration": 9,
    "start_time": "2022-03-29T18:37:44.426Z"
   },
   {
    "duration": 1467,
    "start_time": "2022-03-29T18:37:52.349Z"
   },
   {
    "duration": 648,
    "start_time": "2022-03-29T18:37:53.818Z"
   },
   {
    "duration": 18,
    "start_time": "2022-03-29T18:37:54.468Z"
   },
   {
    "duration": 10,
    "start_time": "2022-03-29T18:37:54.488Z"
   },
   {
    "duration": 230,
    "start_time": "2022-03-29T18:37:54.499Z"
   },
   {
    "duration": 124,
    "start_time": "2022-03-29T18:37:54.733Z"
   },
   {
    "duration": 13,
    "start_time": "2022-03-29T18:37:54.858Z"
   },
   {
    "duration": 7,
    "start_time": "2022-03-29T18:37:54.873Z"
   },
   {
    "duration": 131,
    "start_time": "2022-03-29T18:37:54.882Z"
   },
   {
    "duration": 30,
    "start_time": "2022-03-29T18:37:55.016Z"
   },
   {
    "duration": 18,
    "start_time": "2022-03-29T18:37:55.048Z"
   },
   {
    "duration": 10,
    "start_time": "2022-03-29T18:37:55.067Z"
   },
   {
    "duration": 245,
    "start_time": "2022-03-29T18:37:55.079Z"
   },
   {
    "duration": 89,
    "start_time": "2022-03-29T18:37:55.326Z"
   },
   {
    "duration": 20,
    "start_time": "2022-03-29T18:37:55.417Z"
   },
   {
    "duration": 3,
    "start_time": "2022-03-29T18:37:55.439Z"
   },
   {
    "duration": 14,
    "start_time": "2022-03-29T18:37:55.443Z"
   },
   {
    "duration": 15,
    "start_time": "2022-03-29T18:37:55.459Z"
   },
   {
    "duration": 4,
    "start_time": "2022-03-29T18:37:55.476Z"
   },
   {
    "duration": 269,
    "start_time": "2022-03-29T18:37:55.482Z"
   },
   {
    "duration": 16,
    "start_time": "2022-03-29T18:37:55.753Z"
   },
   {
    "duration": 10,
    "start_time": "2022-03-29T18:37:55.770Z"
   },
   {
    "duration": 13,
    "start_time": "2022-03-29T18:37:55.782Z"
   },
   {
    "duration": 292,
    "start_time": "2022-03-29T18:37:55.797Z"
   },
   {
    "duration": 26,
    "start_time": "2022-03-29T18:37:56.091Z"
   },
   {
    "duration": 38,
    "start_time": "2022-03-29T18:37:56.119Z"
   },
   {
    "duration": 23,
    "start_time": "2022-03-29T18:37:56.159Z"
   },
   {
    "duration": 332,
    "start_time": "2022-03-29T18:37:56.185Z"
   },
   {
    "duration": 32,
    "start_time": "2022-03-29T18:37:56.518Z"
   },
   {
    "duration": 15,
    "start_time": "2022-03-29T18:37:56.551Z"
   },
   {
    "duration": 14,
    "start_time": "2022-03-29T18:37:56.568Z"
   },
   {
    "duration": 5,
    "start_time": "2022-03-29T18:37:56.583Z"
   },
   {
    "duration": 11,
    "start_time": "2022-03-29T18:37:56.589Z"
   },
   {
    "duration": 499,
    "start_time": "2022-03-29T18:37:56.601Z"
   },
   {
    "duration": 502,
    "start_time": "2022-03-29T18:37:57.101Z"
   },
   {
    "duration": 631,
    "start_time": "2022-03-29T18:37:57.605Z"
   },
   {
    "duration": 341,
    "start_time": "2022-03-29T18:37:58.238Z"
   },
   {
    "duration": 590,
    "start_time": "2022-03-29T18:37:58.581Z"
   },
   {
    "duration": 396,
    "start_time": "2022-03-29T18:37:59.173Z"
   },
   {
    "duration": 7,
    "start_time": "2022-03-29T18:37:59.570Z"
   },
   {
    "duration": 622,
    "start_time": "2022-03-29T18:37:59.578Z"
   },
   {
    "duration": 16,
    "start_time": "2022-03-29T18:38:00.201Z"
   },
   {
    "duration": 23,
    "start_time": "2022-03-29T18:38:00.219Z"
   },
   {
    "duration": 4,
    "start_time": "2022-03-29T18:39:21.668Z"
   },
   {
    "duration": 6,
    "start_time": "2022-03-29T18:40:29.354Z"
   },
   {
    "duration": 5,
    "start_time": "2022-03-29T18:41:05.774Z"
   },
   {
    "duration": 4,
    "start_time": "2022-03-29T18:42:14.016Z"
   },
   {
    "duration": 2211,
    "start_time": "2022-03-29T18:47:48.328Z"
   },
   {
    "duration": 2867,
    "start_time": "2022-03-29T18:49:22.368Z"
   },
   {
    "duration": 263,
    "start_time": "2022-03-29T18:50:22.188Z"
   },
   {
    "duration": 4,
    "start_time": "2022-03-29T18:51:13.784Z"
   },
   {
    "duration": 1481,
    "start_time": "2022-03-29T18:51:57.057Z"
   },
   {
    "duration": 648,
    "start_time": "2022-03-29T18:51:58.540Z"
   },
   {
    "duration": 19,
    "start_time": "2022-03-29T18:51:59.190Z"
   },
   {
    "duration": 23,
    "start_time": "2022-03-29T18:51:59.211Z"
   },
   {
    "duration": 216,
    "start_time": "2022-03-29T18:51:59.235Z"
   },
   {
    "duration": 129,
    "start_time": "2022-03-29T18:51:59.453Z"
   },
   {
    "duration": 14,
    "start_time": "2022-03-29T18:51:59.584Z"
   },
   {
    "duration": 10,
    "start_time": "2022-03-29T18:51:59.599Z"
   },
   {
    "duration": 132,
    "start_time": "2022-03-29T18:51:59.611Z"
   },
   {
    "duration": 20,
    "start_time": "2022-03-29T18:51:59.746Z"
   },
   {
    "duration": 17,
    "start_time": "2022-03-29T18:51:59.768Z"
   },
   {
    "duration": 8,
    "start_time": "2022-03-29T18:51:59.787Z"
   },
   {
    "duration": 243,
    "start_time": "2022-03-29T18:51:59.797Z"
   },
   {
    "duration": 103,
    "start_time": "2022-03-29T18:52:00.042Z"
   },
   {
    "duration": 10,
    "start_time": "2022-03-29T18:52:00.146Z"
   },
   {
    "duration": 18,
    "start_time": "2022-03-29T18:52:00.157Z"
   },
   {
    "duration": 44,
    "start_time": "2022-03-29T18:52:00.177Z"
   },
   {
    "duration": 49,
    "start_time": "2022-03-29T18:52:00.223Z"
   },
   {
    "duration": 11,
    "start_time": "2022-03-29T18:52:00.274Z"
   },
   {
    "duration": 256,
    "start_time": "2022-03-29T18:52:00.287Z"
   },
   {
    "duration": 16,
    "start_time": "2022-03-29T18:52:00.544Z"
   },
   {
    "duration": 20,
    "start_time": "2022-03-29T18:52:00.562Z"
   },
   {
    "duration": 31,
    "start_time": "2022-03-29T18:52:00.584Z"
   },
   {
    "duration": 299,
    "start_time": "2022-03-29T18:52:00.617Z"
   },
   {
    "duration": 26,
    "start_time": "2022-03-29T18:52:00.918Z"
   },
   {
    "duration": 41,
    "start_time": "2022-03-29T18:52:00.945Z"
   },
   {
    "duration": 25,
    "start_time": "2022-03-29T18:52:00.988Z"
   },
   {
    "duration": 325,
    "start_time": "2022-03-29T18:52:01.017Z"
   },
   {
    "duration": 24,
    "start_time": "2022-03-29T18:52:01.345Z"
   },
   {
    "duration": 29,
    "start_time": "2022-03-29T18:52:01.371Z"
   },
   {
    "duration": 31,
    "start_time": "2022-03-29T18:52:01.402Z"
   },
   {
    "duration": 6,
    "start_time": "2022-03-29T18:52:01.435Z"
   },
   {
    "duration": 17,
    "start_time": "2022-03-29T18:52:01.442Z"
   },
   {
    "duration": 496,
    "start_time": "2022-03-29T18:52:01.461Z"
   },
   {
    "duration": 529,
    "start_time": "2022-03-29T18:52:01.959Z"
   },
   {
    "duration": 624,
    "start_time": "2022-03-29T18:52:02.490Z"
   },
   {
    "duration": 459,
    "start_time": "2022-03-29T18:52:03.116Z"
   },
   {
    "duration": 580,
    "start_time": "2022-03-29T18:52:03.577Z"
   },
   {
    "duration": 376,
    "start_time": "2022-03-29T18:52:04.159Z"
   },
   {
    "duration": 7,
    "start_time": "2022-03-29T18:52:04.537Z"
   },
   {
    "duration": 624,
    "start_time": "2022-03-29T18:52:04.545Z"
   },
   {
    "duration": 16,
    "start_time": "2022-03-29T18:52:05.170Z"
   },
   {
    "duration": 9,
    "start_time": "2022-03-29T18:52:05.188Z"
   },
   {
    "duration": 4,
    "start_time": "2022-03-29T18:52:05.199Z"
   },
   {
    "duration": 30,
    "start_time": "2022-03-29T18:52:05.204Z"
   },
   {
    "duration": 4,
    "start_time": "2022-03-29T18:52:05.236Z"
   },
   {
    "duration": 20,
    "start_time": "2022-03-29T18:52:05.242Z"
   },
   {
    "duration": 2374,
    "start_time": "2022-03-29T18:52:05.264Z"
   },
   {
    "duration": 2693,
    "start_time": "2022-03-29T18:52:07.641Z"
   },
   {
    "duration": 135413,
    "start_time": "2022-03-29T18:52:10.336Z"
   },
   {
    "duration": 48600,
    "start_time": "2022-03-29T18:55:09.743Z"
   },
   {
    "duration": 1377,
    "start_time": "2022-03-29T18:59:35.166Z"
   },
   {
    "duration": 655,
    "start_time": "2022-03-29T18:59:36.544Z"
   },
   {
    "duration": 19,
    "start_time": "2022-03-29T18:59:37.201Z"
   },
   {
    "duration": 11,
    "start_time": "2022-03-29T18:59:37.232Z"
   },
   {
    "duration": 218,
    "start_time": "2022-03-29T18:59:37.245Z"
   },
   {
    "duration": 131,
    "start_time": "2022-03-29T18:59:37.464Z"
   },
   {
    "duration": 13,
    "start_time": "2022-03-29T18:59:37.597Z"
   },
   {
    "duration": 23,
    "start_time": "2022-03-29T18:59:37.612Z"
   },
   {
    "duration": 118,
    "start_time": "2022-03-29T18:59:37.637Z"
   },
   {
    "duration": 22,
    "start_time": "2022-03-29T18:59:37.758Z"
   },
   {
    "duration": 19,
    "start_time": "2022-03-29T18:59:37.782Z"
   },
   {
    "duration": 35,
    "start_time": "2022-03-29T18:59:37.803Z"
   },
   {
    "duration": 234,
    "start_time": "2022-03-29T18:59:37.839Z"
   },
   {
    "duration": 97,
    "start_time": "2022-03-29T18:59:38.075Z"
   },
   {
    "duration": 10,
    "start_time": "2022-03-29T18:59:38.174Z"
   },
   {
    "duration": 3,
    "start_time": "2022-03-29T18:59:38.185Z"
   },
   {
    "duration": 14,
    "start_time": "2022-03-29T18:59:38.190Z"
   },
   {
    "duration": 33,
    "start_time": "2022-03-29T18:59:38.205Z"
   },
   {
    "duration": 5,
    "start_time": "2022-03-29T18:59:38.240Z"
   },
   {
    "duration": 262,
    "start_time": "2022-03-29T18:59:38.246Z"
   },
   {
    "duration": 30,
    "start_time": "2022-03-29T18:59:38.510Z"
   },
   {
    "duration": 12,
    "start_time": "2022-03-29T18:59:38.542Z"
   },
   {
    "duration": 5,
    "start_time": "2022-03-29T18:59:38.556Z"
   },
   {
    "duration": 284,
    "start_time": "2022-03-29T18:59:38.563Z"
   },
   {
    "duration": 23,
    "start_time": "2022-03-29T18:59:38.849Z"
   },
   {
    "duration": 22,
    "start_time": "2022-03-29T18:59:38.874Z"
   },
   {
    "duration": 45,
    "start_time": "2022-03-29T18:59:38.898Z"
   },
   {
    "duration": 342,
    "start_time": "2022-03-29T18:59:38.948Z"
   },
   {
    "duration": 26,
    "start_time": "2022-03-29T18:59:39.292Z"
   },
   {
    "duration": 27,
    "start_time": "2022-03-29T18:59:39.320Z"
   },
   {
    "duration": 16,
    "start_time": "2022-03-29T18:59:39.349Z"
   },
   {
    "duration": 6,
    "start_time": "2022-03-29T18:59:39.368Z"
   },
   {
    "duration": 10,
    "start_time": "2022-03-29T18:59:39.376Z"
   },
   {
    "duration": 531,
    "start_time": "2022-03-29T18:59:39.388Z"
   },
   {
    "duration": 565,
    "start_time": "2022-03-29T18:59:39.921Z"
   },
   {
    "duration": 626,
    "start_time": "2022-03-29T18:59:40.488Z"
   },
   {
    "duration": 358,
    "start_time": "2022-03-29T18:59:41.116Z"
   },
   {
    "duration": 589,
    "start_time": "2022-03-29T18:59:41.475Z"
   },
   {
    "duration": 394,
    "start_time": "2022-03-29T18:59:42.066Z"
   },
   {
    "duration": 8,
    "start_time": "2022-03-29T18:59:42.461Z"
   },
   {
    "duration": 1011,
    "start_time": "2022-03-29T18:59:42.471Z"
   },
   {
    "duration": 23,
    "start_time": "2022-03-29T18:59:43.484Z"
   },
   {
    "duration": 29,
    "start_time": "2022-03-29T18:59:43.509Z"
   },
   {
    "duration": 5,
    "start_time": "2022-03-29T18:59:43.540Z"
   },
   {
    "duration": 9,
    "start_time": "2022-03-29T18:59:43.547Z"
   },
   {
    "duration": 10,
    "start_time": "2022-03-29T18:59:43.558Z"
   },
   {
    "duration": 7,
    "start_time": "2022-03-29T18:59:43.569Z"
   },
   {
    "duration": 2655,
    "start_time": "2022-03-29T18:59:43.578Z"
   },
   {
    "duration": 2300,
    "start_time": "2022-03-29T18:59:46.235Z"
   },
   {
    "duration": 215297,
    "start_time": "2022-03-29T18:59:48.537Z"
   },
   {
    "duration": 1387,
    "start_time": "2022-03-29T19:16:38.447Z"
   },
   {
    "duration": 651,
    "start_time": "2022-03-29T19:16:39.835Z"
   },
   {
    "duration": 19,
    "start_time": "2022-03-29T19:16:40.487Z"
   },
   {
    "duration": 26,
    "start_time": "2022-03-29T19:16:40.508Z"
   },
   {
    "duration": 221,
    "start_time": "2022-03-29T19:16:40.536Z"
   },
   {
    "duration": 128,
    "start_time": "2022-03-29T19:16:40.759Z"
   },
   {
    "duration": 14,
    "start_time": "2022-03-29T19:16:40.889Z"
   },
   {
    "duration": 8,
    "start_time": "2022-03-29T19:16:40.904Z"
   },
   {
    "duration": 114,
    "start_time": "2022-03-29T19:16:40.932Z"
   },
   {
    "duration": 20,
    "start_time": "2022-03-29T19:16:41.049Z"
   },
   {
    "duration": 18,
    "start_time": "2022-03-29T19:16:41.071Z"
   },
   {
    "duration": 9,
    "start_time": "2022-03-29T19:16:41.090Z"
   },
   {
    "duration": 242,
    "start_time": "2022-03-29T19:16:41.101Z"
   },
   {
    "duration": 94,
    "start_time": "2022-03-29T19:16:41.345Z"
   },
   {
    "duration": 10,
    "start_time": "2022-03-29T19:16:41.441Z"
   },
   {
    "duration": 2,
    "start_time": "2022-03-29T19:16:41.453Z"
   },
   {
    "duration": 12,
    "start_time": "2022-03-29T19:16:41.457Z"
   },
   {
    "duration": 14,
    "start_time": "2022-03-29T19:16:41.471Z"
   },
   {
    "duration": 4,
    "start_time": "2022-03-29T19:16:41.486Z"
   },
   {
    "duration": 279,
    "start_time": "2022-03-29T19:16:41.492Z"
   },
   {
    "duration": 16,
    "start_time": "2022-03-29T19:16:41.773Z"
   },
   {
    "duration": 10,
    "start_time": "2022-03-29T19:16:41.791Z"
   },
   {
    "duration": 4,
    "start_time": "2022-03-29T19:16:41.803Z"
   },
   {
    "duration": 263,
    "start_time": "2022-03-29T19:16:41.833Z"
   },
   {
    "duration": 21,
    "start_time": "2022-03-29T19:16:42.098Z"
   },
   {
    "duration": 30,
    "start_time": "2022-03-29T19:16:42.121Z"
   },
   {
    "duration": 17,
    "start_time": "2022-03-29T19:16:42.153Z"
   },
   {
    "duration": 333,
    "start_time": "2022-03-29T19:16:42.174Z"
   },
   {
    "duration": 31,
    "start_time": "2022-03-29T19:16:42.509Z"
   },
   {
    "duration": 15,
    "start_time": "2022-03-29T19:16:42.542Z"
   },
   {
    "duration": 15,
    "start_time": "2022-03-29T19:16:42.559Z"
   },
   {
    "duration": 5,
    "start_time": "2022-03-29T19:16:42.576Z"
   },
   {
    "duration": 7,
    "start_time": "2022-03-29T19:16:42.582Z"
   },
   {
    "duration": 522,
    "start_time": "2022-03-29T19:16:42.591Z"
   },
   {
    "duration": 501,
    "start_time": "2022-03-29T19:16:43.115Z"
   },
   {
    "duration": 618,
    "start_time": "2022-03-29T19:16:43.618Z"
   },
   {
    "duration": 352,
    "start_time": "2022-03-29T19:16:44.239Z"
   },
   {
    "duration": 601,
    "start_time": "2022-03-29T19:16:44.593Z"
   },
   {
    "duration": 403,
    "start_time": "2022-03-29T19:16:45.195Z"
   },
   {
    "duration": 7,
    "start_time": "2022-03-29T19:16:45.600Z"
   },
   {
    "duration": 655,
    "start_time": "2022-03-29T19:16:45.609Z"
   },
   {
    "duration": 17,
    "start_time": "2022-03-29T19:16:46.266Z"
   },
   {
    "duration": 15,
    "start_time": "2022-03-29T19:16:46.285Z"
   },
   {
    "duration": 7,
    "start_time": "2022-03-29T19:16:46.301Z"
   },
   {
    "duration": 32,
    "start_time": "2022-03-29T19:16:46.310Z"
   },
   {
    "duration": 8,
    "start_time": "2022-03-29T19:16:46.344Z"
   },
   {
    "duration": 8,
    "start_time": "2022-03-29T19:16:46.354Z"
   },
   {
    "duration": 2174,
    "start_time": "2022-03-29T19:16:46.363Z"
   },
   {
    "duration": 2699,
    "start_time": "2022-03-29T19:16:48.539Z"
   },
   {
    "duration": 125610,
    "start_time": "2022-03-29T19:16:51.240Z"
   },
   {
    "duration": 46782,
    "start_time": "2022-03-29T19:18:56.853Z"
   },
   {
    "duration": 1412,
    "start_time": "2022-03-29T19:31:36.610Z"
   },
   {
    "duration": 666,
    "start_time": "2022-03-29T19:31:38.025Z"
   },
   {
    "duration": 41,
    "start_time": "2022-03-29T19:31:38.693Z"
   },
   {
    "duration": 26,
    "start_time": "2022-03-29T19:31:38.737Z"
   },
   {
    "duration": 28,
    "start_time": "2022-03-29T19:31:38.765Z"
   },
   {
    "duration": 42,
    "start_time": "2022-03-29T19:31:38.795Z"
   },
   {
    "duration": 3,
    "start_time": "2022-03-29T19:31:38.839Z"
   },
   {
    "duration": 10,
    "start_time": "2022-03-29T19:31:38.843Z"
   },
   {
    "duration": 17,
    "start_time": "2022-03-29T19:31:38.855Z"
   },
   {
    "duration": 5,
    "start_time": "2022-03-29T19:31:38.874Z"
   },
   {
    "duration": 287,
    "start_time": "2022-03-29T19:31:38.880Z"
   },
   {
    "duration": 16,
    "start_time": "2022-03-29T19:31:39.169Z"
   },
   {
    "duration": 11,
    "start_time": "2022-03-29T19:31:39.186Z"
   },
   {
    "duration": 4,
    "start_time": "2022-03-29T19:31:39.198Z"
   },
   {
    "duration": 280,
    "start_time": "2022-03-29T19:31:39.203Z"
   },
   {
    "duration": 20,
    "start_time": "2022-03-29T19:31:39.485Z"
   },
   {
    "duration": 38,
    "start_time": "2022-03-29T19:31:39.507Z"
   },
   {
    "duration": 17,
    "start_time": "2022-03-29T19:31:39.547Z"
   },
   {
    "duration": 268,
    "start_time": "2022-03-29T19:31:39.565Z"
   },
   {
    "duration": 24,
    "start_time": "2022-03-29T19:31:39.834Z"
   },
   {
    "duration": 17,
    "start_time": "2022-03-29T19:31:39.860Z"
   },
   {
    "duration": 118,
    "start_time": "2022-03-29T19:31:39.879Z"
   },
   {
    "duration": 6,
    "start_time": "2022-03-29T19:31:39.999Z"
   },
   {
    "duration": 10,
    "start_time": "2022-03-29T19:31:40.007Z"
   },
   {
    "duration": 479,
    "start_time": "2022-03-29T19:31:40.032Z"
   },
   {
    "duration": 499,
    "start_time": "2022-03-29T19:31:40.513Z"
   },
   {
    "duration": 618,
    "start_time": "2022-03-29T19:31:41.014Z"
   },
   {
    "duration": 347,
    "start_time": "2022-03-29T19:31:41.636Z"
   },
   {
    "duration": 570,
    "start_time": "2022-03-29T19:31:41.985Z"
   },
   {
    "duration": 392,
    "start_time": "2022-03-29T19:31:42.557Z"
   },
   {
    "duration": 7,
    "start_time": "2022-03-29T19:31:42.951Z"
   },
   {
    "duration": 621,
    "start_time": "2022-03-29T19:31:42.960Z"
   },
   {
    "duration": 16,
    "start_time": "2022-03-29T19:31:43.583Z"
   },
   {
    "duration": 9,
    "start_time": "2022-03-29T19:31:43.601Z"
   },
   {
    "duration": 22,
    "start_time": "2022-03-29T19:31:43.612Z"
   },
   {
    "duration": 8,
    "start_time": "2022-03-29T19:31:43.636Z"
   },
   {
    "duration": 6,
    "start_time": "2022-03-29T19:31:43.646Z"
   },
   {
    "duration": 4,
    "start_time": "2022-03-29T19:31:43.654Z"
   },
   {
    "duration": 2974,
    "start_time": "2022-03-29T19:31:43.660Z"
   },
   {
    "duration": 2498,
    "start_time": "2022-03-29T19:31:46.636Z"
   },
   {
    "duration": 1453,
    "start_time": "2022-03-29T19:33:29.986Z"
   },
   {
    "duration": 663,
    "start_time": "2022-03-29T19:33:31.441Z"
   },
   {
    "duration": 40,
    "start_time": "2022-03-29T19:33:32.106Z"
   },
   {
    "duration": 26,
    "start_time": "2022-03-29T19:33:32.148Z"
   },
   {
    "duration": 28,
    "start_time": "2022-03-29T19:33:32.176Z"
   },
   {
    "duration": 38,
    "start_time": "2022-03-29T19:33:32.206Z"
   },
   {
    "duration": 3,
    "start_time": "2022-03-29T19:33:32.245Z"
   },
   {
    "duration": 14,
    "start_time": "2022-03-29T19:33:32.250Z"
   },
   {
    "duration": 23,
    "start_time": "2022-03-29T19:33:32.266Z"
   },
   {
    "duration": 4,
    "start_time": "2022-03-29T19:33:32.292Z"
   },
   {
    "duration": 278,
    "start_time": "2022-03-29T19:33:32.298Z"
   },
   {
    "duration": 16,
    "start_time": "2022-03-29T19:33:32.577Z"
   },
   {
    "duration": 10,
    "start_time": "2022-03-29T19:33:32.595Z"
   },
   {
    "duration": 26,
    "start_time": "2022-03-29T19:33:32.607Z"
   },
   {
    "duration": 272,
    "start_time": "2022-03-29T19:33:32.635Z"
   },
   {
    "duration": 29,
    "start_time": "2022-03-29T19:33:32.909Z"
   },
   {
    "duration": 21,
    "start_time": "2022-03-29T19:33:32.940Z"
   },
   {
    "duration": 17,
    "start_time": "2022-03-29T19:33:32.963Z"
   },
   {
    "duration": 267,
    "start_time": "2022-03-29T19:33:32.981Z"
   },
   {
    "duration": 22,
    "start_time": "2022-03-29T19:33:33.249Z"
   },
   {
    "duration": 16,
    "start_time": "2022-03-29T19:33:33.272Z"
   },
   {
    "duration": 116,
    "start_time": "2022-03-29T19:33:33.290Z"
   },
   {
    "duration": 5,
    "start_time": "2022-03-29T19:33:33.408Z"
   },
   {
    "duration": 20,
    "start_time": "2022-03-29T19:33:33.414Z"
   },
   {
    "duration": 482,
    "start_time": "2022-03-29T19:33:33.435Z"
   },
   {
    "duration": 492,
    "start_time": "2022-03-29T19:33:33.918Z"
   },
   {
    "duration": 598,
    "start_time": "2022-03-29T19:33:34.412Z"
   },
   {
    "duration": 363,
    "start_time": "2022-03-29T19:33:35.013Z"
   },
   {
    "duration": 572,
    "start_time": "2022-03-29T19:33:35.378Z"
   },
   {
    "duration": 383,
    "start_time": "2022-03-29T19:33:35.952Z"
   },
   {
    "duration": 8,
    "start_time": "2022-03-29T19:33:36.337Z"
   },
   {
    "duration": 606,
    "start_time": "2022-03-29T19:33:36.347Z"
   },
   {
    "duration": 15,
    "start_time": "2022-03-29T19:33:36.955Z"
   },
   {
    "duration": 9,
    "start_time": "2022-03-29T19:33:36.972Z"
   },
   {
    "duration": 8,
    "start_time": "2022-03-29T19:33:36.982Z"
   },
   {
    "duration": 8,
    "start_time": "2022-03-29T19:33:36.992Z"
   },
   {
    "duration": 35,
    "start_time": "2022-03-29T19:33:37.001Z"
   },
   {
    "duration": 5,
    "start_time": "2022-03-29T19:33:37.038Z"
   },
   {
    "duration": 2597,
    "start_time": "2022-03-29T19:33:37.044Z"
   },
   {
    "duration": 2393,
    "start_time": "2022-03-29T19:33:39.643Z"
   },
   {
    "duration": 121406,
    "start_time": "2022-03-29T19:33:42.038Z"
   },
   {
    "duration": 56987,
    "start_time": "2022-03-29T19:35:43.446Z"
   },
   {
    "duration": 1839,
    "start_time": "2022-03-30T12:06:05.968Z"
   },
   {
    "duration": 652,
    "start_time": "2022-03-30T12:06:07.809Z"
   },
   {
    "duration": 40,
    "start_time": "2022-03-30T12:06:08.463Z"
   },
   {
    "duration": 23,
    "start_time": "2022-03-30T12:06:08.506Z"
   },
   {
    "duration": 26,
    "start_time": "2022-03-30T12:06:08.531Z"
   },
   {
    "duration": 33,
    "start_time": "2022-03-30T12:06:08.558Z"
   },
   {
    "duration": 3,
    "start_time": "2022-03-30T12:06:08.593Z"
   },
   {
    "duration": 9,
    "start_time": "2022-03-30T12:06:08.598Z"
   },
   {
    "duration": 15,
    "start_time": "2022-03-30T12:06:08.609Z"
   },
   {
    "duration": 5,
    "start_time": "2022-03-30T12:06:08.627Z"
   },
   {
    "duration": 296,
    "start_time": "2022-03-30T12:06:08.634Z"
   },
   {
    "duration": 14,
    "start_time": "2022-03-30T12:06:08.932Z"
   },
   {
    "duration": 9,
    "start_time": "2022-03-30T12:06:08.948Z"
   },
   {
    "duration": 3,
    "start_time": "2022-03-30T12:06:08.959Z"
   },
   {
    "duration": 260,
    "start_time": "2022-03-30T12:06:08.980Z"
   },
   {
    "duration": 21,
    "start_time": "2022-03-30T12:06:09.241Z"
   },
   {
    "duration": 30,
    "start_time": "2022-03-30T12:06:09.264Z"
   },
   {
    "duration": 16,
    "start_time": "2022-03-30T12:06:09.296Z"
   },
   {
    "duration": 243,
    "start_time": "2022-03-30T12:06:09.314Z"
   },
   {
    "duration": 31,
    "start_time": "2022-03-30T12:06:09.559Z"
   },
   {
    "duration": 15,
    "start_time": "2022-03-30T12:06:09.592Z"
   },
   {
    "duration": 107,
    "start_time": "2022-03-30T12:06:09.609Z"
   },
   {
    "duration": 5,
    "start_time": "2022-03-30T12:06:09.717Z"
   },
   {
    "duration": 11,
    "start_time": "2022-03-30T12:06:09.723Z"
   },
   {
    "duration": 503,
    "start_time": "2022-03-30T12:06:09.735Z"
   },
   {
    "duration": 467,
    "start_time": "2022-03-30T12:06:10.240Z"
   },
   {
    "duration": 598,
    "start_time": "2022-03-30T12:06:10.709Z"
   },
   {
    "duration": 440,
    "start_time": "2022-03-30T12:06:11.310Z"
   },
   {
    "duration": 1029,
    "start_time": "2022-03-30T12:06:11.752Z"
   },
   {
    "duration": 595,
    "start_time": "2022-03-30T12:06:12.783Z"
   },
   {
    "duration": 8,
    "start_time": "2022-03-30T12:06:13.381Z"
   },
   {
    "duration": 641,
    "start_time": "2022-03-30T12:06:13.392Z"
   },
   {
    "duration": 15,
    "start_time": "2022-03-30T12:06:14.034Z"
   },
   {
    "duration": 11,
    "start_time": "2022-03-30T12:06:14.051Z"
   },
   {
    "duration": 4,
    "start_time": "2022-03-30T12:06:14.081Z"
   },
   {
    "duration": 8,
    "start_time": "2022-03-30T12:06:14.086Z"
   },
   {
    "duration": 7,
    "start_time": "2022-03-30T12:06:14.096Z"
   },
   {
    "duration": 5,
    "start_time": "2022-03-30T12:06:14.105Z"
   },
   {
    "duration": 3572,
    "start_time": "2022-03-30T12:06:14.112Z"
   },
   {
    "duration": 3297,
    "start_time": "2022-03-30T12:06:17.686Z"
   },
   {
    "duration": 174711,
    "start_time": "2022-03-30T12:06:20.986Z"
   },
   {
    "duration": 51611,
    "start_time": "2022-03-30T12:09:15.782Z"
   },
   {
    "duration": 905454,
    "start_time": "2022-03-30T12:10:07.395Z"
   },
   {
    "duration": 7,
    "start_time": "2022-03-30T12:25:12.850Z"
   },
   {
    "duration": 48062,
    "start_time": "2022-03-30T12:25:12.859Z"
   },
   {
    "duration": 8,
    "start_time": "2022-03-30T12:26:00.923Z"
   },
   {
    "duration": 18,
    "start_time": "2022-03-30T12:26:00.933Z"
   },
   {
    "duration": 8,
    "start_time": "2022-03-30T12:26:00.952Z"
   },
   {
    "duration": 50164,
    "start_time": "2022-03-30T12:26:00.962Z"
   },
   {
    "duration": 539,
    "start_time": "2022-03-30T12:26:51.128Z"
   },
   {
    "duration": 5,
    "start_time": "2022-03-30T12:31:07.866Z"
   },
   {
    "duration": 123,
    "start_time": "2022-03-30T12:34:09.767Z"
   },
   {
    "duration": 2423,
    "start_time": "2022-03-31T06:26:23.015Z"
   },
   {
    "duration": 647,
    "start_time": "2022-03-31T06:26:25.440Z"
   },
   {
    "duration": 33,
    "start_time": "2022-03-31T06:26:48.212Z"
   },
   {
    "duration": 26,
    "start_time": "2022-03-31T06:26:49.316Z"
   },
   {
    "duration": 30,
    "start_time": "2022-03-31T06:26:50.444Z"
   },
   {
    "duration": 12,
    "start_time": "2022-03-31T06:27:30.975Z"
   },
   {
    "duration": 2,
    "start_time": "2022-03-31T06:27:31.163Z"
   },
   {
    "duration": 9,
    "start_time": "2022-03-31T06:27:31.322Z"
   },
   {
    "duration": 17,
    "start_time": "2022-03-31T06:27:31.669Z"
   },
   {
    "duration": 117,
    "start_time": "2022-03-31T06:27:49.908Z"
   },
   {
    "duration": 5,
    "start_time": "2022-03-31T06:27:50.392Z"
   },
   {
    "duration": 280,
    "start_time": "2022-03-31T06:28:23.774Z"
   },
   {
    "duration": 17,
    "start_time": "2022-03-31T06:28:31.718Z"
   },
   {
    "duration": 10,
    "start_time": "2022-03-31T06:28:32.298Z"
   },
   {
    "duration": 4,
    "start_time": "2022-03-31T06:28:35.498Z"
   },
   {
    "duration": 291,
    "start_time": "2022-03-31T06:28:36.491Z"
   },
   {
    "duration": 23,
    "start_time": "2022-03-31T06:28:37.471Z"
   },
   {
    "duration": 23,
    "start_time": "2022-03-31T06:28:38.094Z"
   },
   {
    "duration": 17,
    "start_time": "2022-03-31T06:28:38.789Z"
   },
   {
    "duration": 279,
    "start_time": "2022-03-31T06:28:39.437Z"
   },
   {
    "duration": 23,
    "start_time": "2022-03-31T06:28:39.935Z"
   },
   {
    "duration": 16,
    "start_time": "2022-03-31T06:28:40.534Z"
   },
   {
    "duration": 85,
    "start_time": "2022-03-31T06:28:41.108Z"
   },
   {
    "duration": 5,
    "start_time": "2022-03-31T06:28:41.784Z"
   },
   {
    "duration": 6,
    "start_time": "2022-03-31T06:28:42.828Z"
   },
   {
    "duration": 5,
    "start_time": "2022-03-31T06:43:16.149Z"
   },
   {
    "duration": 276,
    "start_time": "2022-03-31T06:43:17.061Z"
   },
   {
    "duration": 537,
    "start_time": "2022-03-31T06:45:19.695Z"
   },
   {
    "duration": 547,
    "start_time": "2022-03-31T06:45:21.031Z"
   },
   {
    "duration": 668,
    "start_time": "2022-03-31T06:45:22.051Z"
   },
   {
    "duration": 367,
    "start_time": "2022-03-31T06:46:19.601Z"
   },
   {
    "duration": 694,
    "start_time": "2022-03-31T06:46:20.132Z"
   },
   {
    "duration": 540,
    "start_time": "2022-03-31T06:46:21.149Z"
   },
   {
    "duration": 7,
    "start_time": "2022-03-31T06:46:22.488Z"
   },
   {
    "duration": 530,
    "start_time": "2022-03-31T06:46:22.929Z"
   },
   {
    "duration": 16,
    "start_time": "2022-03-31T06:46:23.461Z"
   },
   {
    "duration": 9,
    "start_time": "2022-03-31T06:47:51.119Z"
   },
   {
    "duration": 2,
    "start_time": "2022-03-31T06:47:59.578Z"
   },
   {
    "duration": 6,
    "start_time": "2022-03-31T06:48:01.366Z"
   },
   {
    "duration": 5,
    "start_time": "2022-03-31T06:48:05.511Z"
   },
   {
    "duration": 4,
    "start_time": "2022-03-31T06:48:06.053Z"
   },
   {
    "duration": 4,
    "start_time": "2022-03-31T06:49:18.937Z"
   },
   {
    "duration": 4,
    "start_time": "2022-03-31T06:50:27.949Z"
   },
   {
    "duration": 3,
    "start_time": "2022-03-31T06:51:37.378Z"
   },
   {
    "duration": 7,
    "start_time": "2022-03-31T06:52:06.232Z"
   },
   {
    "duration": 7,
    "start_time": "2022-03-31T06:52:22.767Z"
   },
   {
    "duration": 2408,
    "start_time": "2022-03-31T06:54:01.402Z"
   },
   {
    "duration": 2937,
    "start_time": "2022-03-31T06:54:16.172Z"
   },
   {
    "duration": 148,
    "start_time": "2022-04-04T14:18:36.760Z"
   },
   {
    "duration": 2656,
    "start_time": "2022-04-04T14:18:48.059Z"
   },
   {
    "duration": 6316,
    "start_time": "2022-04-04T14:18:50.719Z"
   },
   {
    "duration": 63,
    "start_time": "2022-04-04T14:18:57.038Z"
   },
   {
    "duration": 42,
    "start_time": "2022-04-04T14:18:57.104Z"
   },
   {
    "duration": 54,
    "start_time": "2022-04-04T14:18:57.167Z"
   },
   {
    "duration": 55,
    "start_time": "2022-04-04T14:18:57.225Z"
   },
   {
    "duration": 4,
    "start_time": "2022-04-04T14:18:57.283Z"
   },
   {
    "duration": 32,
    "start_time": "2022-04-04T14:18:57.290Z"
   },
   {
    "duration": 25,
    "start_time": "2022-04-04T14:18:57.325Z"
   },
   {
    "duration": 13,
    "start_time": "2022-04-04T14:18:57.372Z"
   },
   {
    "duration": 479,
    "start_time": "2022-04-04T14:18:57.389Z"
   },
   {
    "duration": 28,
    "start_time": "2022-04-04T14:18:57.874Z"
   },
   {
    "duration": 15,
    "start_time": "2022-04-04T14:18:57.905Z"
   },
   {
    "duration": 5,
    "start_time": "2022-04-04T14:18:57.922Z"
   },
   {
    "duration": 786,
    "start_time": "2022-04-04T14:18:57.929Z"
   },
   {
    "duration": 49,
    "start_time": "2022-04-04T14:18:58.718Z"
   },
   {
    "duration": 42,
    "start_time": "2022-04-04T14:18:58.770Z"
   },
   {
    "duration": 56,
    "start_time": "2022-04-04T14:18:58.815Z"
   },
   {
    "duration": 506,
    "start_time": "2022-04-04T14:18:58.874Z"
   },
   {
    "duration": 43,
    "start_time": "2022-04-04T14:18:59.383Z"
   },
   {
    "duration": 61,
    "start_time": "2022-04-04T14:18:59.429Z"
   },
   {
    "duration": 190,
    "start_time": "2022-04-04T14:18:59.493Z"
   },
   {
    "duration": 14,
    "start_time": "2022-04-04T14:18:59.686Z"
   },
   {
    "duration": 21,
    "start_time": "2022-04-04T14:18:59.703Z"
   },
   {
    "duration": 1115,
    "start_time": "2022-04-04T14:18:59.727Z"
   },
   {
    "duration": 1013,
    "start_time": "2022-04-04T14:19:00.846Z"
   },
   {
    "duration": 1154,
    "start_time": "2022-04-04T14:19:01.861Z"
   },
   {
    "duration": 506,
    "start_time": "2022-04-04T14:19:03.021Z"
   },
   {
    "duration": 1246,
    "start_time": "2022-04-04T14:19:03.530Z"
   },
   {
    "duration": 871,
    "start_time": "2022-04-04T14:19:04.778Z"
   },
   {
    "duration": 22,
    "start_time": "2022-04-04T14:19:05.653Z"
   },
   {
    "duration": 1173,
    "start_time": "2022-04-04T14:19:05.679Z"
   },
   {
    "duration": 50,
    "start_time": "2022-04-04T14:19:06.854Z"
   },
   {
    "duration": 15,
    "start_time": "2022-04-04T14:19:06.912Z"
   },
   {
    "duration": 9,
    "start_time": "2022-04-04T14:19:06.930Z"
   },
   {
    "duration": 7,
    "start_time": "2022-04-04T14:19:06.969Z"
   },
   {
    "duration": 27,
    "start_time": "2022-04-04T14:19:06.979Z"
   },
   {
    "duration": 9,
    "start_time": "2022-04-04T14:19:07.009Z"
   },
   {
    "duration": 7,
    "start_time": "2022-04-04T14:19:07.021Z"
   },
   {
    "duration": 23,
    "start_time": "2022-04-04T14:19:07.066Z"
   },
   {
    "duration": 8,
    "start_time": "2022-04-04T14:19:07.093Z"
   },
   {
    "duration": 111,
    "start_time": "2022-04-04T14:19:07.104Z"
   },
   {
    "duration": 0,
    "start_time": "2022-04-04T14:19:07.218Z"
   },
   {
    "duration": 0,
    "start_time": "2022-04-04T14:19:07.220Z"
   },
   {
    "duration": 0,
    "start_time": "2022-04-04T14:19:07.222Z"
   },
   {
    "duration": 0,
    "start_time": "2022-04-04T14:19:07.224Z"
   },
   {
    "duration": 0,
    "start_time": "2022-04-04T14:19:07.226Z"
   },
   {
    "duration": 0,
    "start_time": "2022-04-04T14:19:07.228Z"
   },
   {
    "duration": 0,
    "start_time": "2022-04-04T14:19:07.231Z"
   },
   {
    "duration": 1,
    "start_time": "2022-04-04T14:19:07.233Z"
   },
   {
    "duration": 0,
    "start_time": "2022-04-04T14:19:07.235Z"
   },
   {
    "duration": 0,
    "start_time": "2022-04-04T14:19:07.237Z"
   },
   {
    "duration": 0,
    "start_time": "2022-04-04T14:19:07.239Z"
   },
   {
    "duration": 0,
    "start_time": "2022-04-04T14:19:07.243Z"
   },
   {
    "duration": 0,
    "start_time": "2022-04-04T14:19:07.245Z"
   },
   {
    "duration": 195,
    "start_time": "2022-04-04T19:18:03.282Z"
   },
   {
    "duration": 1892,
    "start_time": "2022-04-04T19:18:32.292Z"
   },
   {
    "duration": 673,
    "start_time": "2022-04-04T19:18:34.186Z"
   },
   {
    "duration": 44,
    "start_time": "2022-04-04T19:18:34.861Z"
   },
   {
    "duration": 31,
    "start_time": "2022-04-04T19:18:34.907Z"
   },
   {
    "duration": 33,
    "start_time": "2022-04-04T19:18:34.939Z"
   },
   {
    "duration": 41,
    "start_time": "2022-04-04T19:18:34.974Z"
   },
   {
    "duration": 2,
    "start_time": "2022-04-04T19:18:35.017Z"
   },
   {
    "duration": 17,
    "start_time": "2022-04-04T19:18:35.021Z"
   },
   {
    "duration": 27,
    "start_time": "2022-04-04T19:18:35.040Z"
   },
   {
    "duration": 6,
    "start_time": "2022-04-04T19:18:35.071Z"
   },
   {
    "duration": 329,
    "start_time": "2022-04-04T19:18:35.079Z"
   },
   {
    "duration": 19,
    "start_time": "2022-04-04T19:18:35.411Z"
   },
   {
    "duration": 12,
    "start_time": "2022-04-04T19:18:35.432Z"
   },
   {
    "duration": 7,
    "start_time": "2022-04-04T19:18:35.445Z"
   },
   {
    "duration": 322,
    "start_time": "2022-04-04T19:18:35.454Z"
   },
   {
    "duration": 29,
    "start_time": "2022-04-04T19:18:35.777Z"
   },
   {
    "duration": 31,
    "start_time": "2022-04-04T19:18:35.808Z"
   },
   {
    "duration": 32,
    "start_time": "2022-04-04T19:18:35.841Z"
   },
   {
    "duration": 275,
    "start_time": "2022-04-04T19:18:35.875Z"
   },
   {
    "duration": 23,
    "start_time": "2022-04-04T19:18:36.152Z"
   },
   {
    "duration": 37,
    "start_time": "2022-04-04T19:18:36.177Z"
   },
   {
    "duration": 103,
    "start_time": "2022-04-04T19:18:36.216Z"
   },
   {
    "duration": 6,
    "start_time": "2022-04-04T19:18:36.321Z"
   },
   {
    "duration": 11,
    "start_time": "2022-04-04T19:18:36.329Z"
   },
   {
    "duration": 539,
    "start_time": "2022-04-04T19:18:36.342Z"
   },
   {
    "duration": 563,
    "start_time": "2022-04-04T19:18:36.883Z"
   },
   {
    "duration": 691,
    "start_time": "2022-04-04T19:18:37.448Z"
   },
   {
    "duration": 425,
    "start_time": "2022-04-04T19:18:38.145Z"
   },
   {
    "duration": 680,
    "start_time": "2022-04-04T19:18:38.572Z"
   },
   {
    "duration": 435,
    "start_time": "2022-04-04T19:18:39.254Z"
   },
   {
    "duration": 10,
    "start_time": "2022-04-04T19:18:39.691Z"
   },
   {
    "duration": 702,
    "start_time": "2022-04-04T19:18:39.703Z"
   },
   {
    "duration": 18,
    "start_time": "2022-04-04T19:18:40.408Z"
   },
   {
    "duration": 12,
    "start_time": "2022-04-04T19:18:40.428Z"
   },
   {
    "duration": 37,
    "start_time": "2022-04-04T19:18:40.442Z"
   },
   {
    "duration": 9,
    "start_time": "2022-04-04T19:18:40.482Z"
   },
   {
    "duration": 13,
    "start_time": "2022-04-04T19:18:40.493Z"
   },
   {
    "duration": 15,
    "start_time": "2022-04-04T19:18:40.508Z"
   },
   {
    "duration": 7,
    "start_time": "2022-04-04T19:18:40.525Z"
   },
   {
    "duration": 5,
    "start_time": "2022-04-04T19:18:40.534Z"
   },
   {
    "duration": 9,
    "start_time": "2022-04-04T19:18:40.541Z"
   },
   {
    "duration": 2554,
    "start_time": "2022-04-04T19:18:40.552Z"
   },
   {
    "duration": 3195,
    "start_time": "2022-04-04T19:18:43.108Z"
   },
   {
    "duration": 128517,
    "start_time": "2022-04-04T19:18:46.306Z"
   },
   {
    "duration": 45405,
    "start_time": "2022-04-04T19:20:54.903Z"
   },
   {
    "duration": 1041120,
    "start_time": "2022-04-04T19:21:40.311Z"
   },
   {
    "duration": 10,
    "start_time": "2022-04-04T19:39:01.433Z"
   },
   {
    "duration": 16,
    "start_time": "2022-04-04T19:39:01.446Z"
   },
   {
    "duration": 56574,
    "start_time": "2022-04-04T19:39:01.465Z"
   },
   {
    "duration": 13,
    "start_time": "2022-04-04T19:39:58.041Z"
   },
   {
    "duration": 13,
    "start_time": "2022-04-04T19:39:58.056Z"
   },
   {
    "duration": 35,
    "start_time": "2022-04-04T19:39:58.071Z"
   },
   {
    "duration": 58561,
    "start_time": "2022-04-04T19:39:58.108Z"
   },
   {
    "duration": 631,
    "start_time": "2022-04-04T19:40:56.671Z"
   },
   {
    "duration": 2338,
    "start_time": "2022-04-05T11:44:31.470Z"
   },
   {
    "duration": 622,
    "start_time": "2022-04-05T11:44:33.810Z"
   },
   {
    "duration": 40,
    "start_time": "2022-04-05T11:44:34.433Z"
   },
   {
    "duration": 23,
    "start_time": "2022-04-05T11:44:34.476Z"
   },
   {
    "duration": 27,
    "start_time": "2022-04-05T11:44:34.500Z"
   },
   {
    "duration": 35,
    "start_time": "2022-04-05T11:44:34.528Z"
   },
   {
    "duration": 3,
    "start_time": "2022-04-05T11:44:34.565Z"
   },
   {
    "duration": 13,
    "start_time": "2022-04-05T11:44:34.569Z"
   },
   {
    "duration": 15,
    "start_time": "2022-04-05T11:44:34.584Z"
   },
   {
    "duration": 5,
    "start_time": "2022-04-05T11:44:34.601Z"
   },
   {
    "duration": 268,
    "start_time": "2022-04-05T11:44:34.607Z"
   },
   {
    "duration": 15,
    "start_time": "2022-04-05T11:44:34.877Z"
   },
   {
    "duration": 10,
    "start_time": "2022-04-05T11:44:34.893Z"
   },
   {
    "duration": 3,
    "start_time": "2022-04-05T11:44:34.904Z"
   },
   {
    "duration": 271,
    "start_time": "2022-04-05T11:44:34.909Z"
   },
   {
    "duration": 20,
    "start_time": "2022-04-05T11:44:35.182Z"
   },
   {
    "duration": 24,
    "start_time": "2022-04-05T11:44:35.203Z"
   },
   {
    "duration": 35,
    "start_time": "2022-04-05T11:44:35.229Z"
   },
   {
    "duration": 234,
    "start_time": "2022-04-05T11:44:35.265Z"
   },
   {
    "duration": 20,
    "start_time": "2022-04-05T11:44:35.500Z"
   },
   {
    "duration": 15,
    "start_time": "2022-04-05T11:44:35.522Z"
   },
   {
    "duration": 111,
    "start_time": "2022-04-05T11:44:35.539Z"
   },
   {
    "duration": 14,
    "start_time": "2022-04-05T11:44:35.651Z"
   },
   {
    "duration": 8,
    "start_time": "2022-04-05T11:44:35.667Z"
   },
   {
    "duration": 468,
    "start_time": "2022-04-05T11:44:35.676Z"
   },
   {
    "duration": 461,
    "start_time": "2022-04-05T11:44:36.145Z"
   },
   {
    "duration": 573,
    "start_time": "2022-04-05T11:44:36.608Z"
   },
   {
    "duration": 325,
    "start_time": "2022-04-05T11:44:37.186Z"
   },
   {
    "duration": 556,
    "start_time": "2022-04-05T11:44:37.513Z"
   },
   {
    "duration": 379,
    "start_time": "2022-04-05T11:44:38.071Z"
   },
   {
    "duration": 14,
    "start_time": "2022-04-05T11:44:38.451Z"
   },
   {
    "duration": 607,
    "start_time": "2022-04-05T11:44:38.467Z"
   },
   {
    "duration": 16,
    "start_time": "2022-04-05T11:44:39.076Z"
   },
   {
    "duration": 9,
    "start_time": "2022-04-05T11:44:39.094Z"
   },
   {
    "duration": 3,
    "start_time": "2022-04-05T11:44:39.104Z"
   },
   {
    "duration": 5,
    "start_time": "2022-04-05T11:44:39.109Z"
   },
   {
    "duration": 7,
    "start_time": "2022-04-05T11:44:39.116Z"
   },
   {
    "duration": 11,
    "start_time": "2022-04-05T11:44:39.125Z"
   },
   {
    "duration": 6,
    "start_time": "2022-04-05T11:44:39.163Z"
   },
   {
    "duration": 5,
    "start_time": "2022-04-05T11:44:39.171Z"
   },
   {
    "duration": 4,
    "start_time": "2022-04-05T11:44:39.177Z"
   },
   {
    "duration": 2586,
    "start_time": "2022-04-05T11:44:39.183Z"
   },
   {
    "duration": 2991,
    "start_time": "2022-04-05T11:44:41.773Z"
   },
   {
    "duration": 56073,
    "start_time": "2022-04-05T13:34:12.542Z"
   },
   {
    "duration": 743,
    "start_time": "2022-04-05T13:35:08.618Z"
   },
   {
    "duration": 46,
    "start_time": "2022-04-05T13:36:04.820Z"
   },
   {
    "duration": 38,
    "start_time": "2022-04-05T13:36:06.004Z"
   },
   {
    "duration": 40,
    "start_time": "2022-04-05T13:36:06.996Z"
   },
   {
    "duration": 20,
    "start_time": "2022-04-05T13:36:08.474Z"
   },
   {
    "duration": 4,
    "start_time": "2022-04-05T13:36:08.701Z"
   },
   {
    "duration": 13,
    "start_time": "2022-04-05T13:36:09.026Z"
   },
   {
    "duration": 18,
    "start_time": "2022-04-05T13:36:10.250Z"
   },
   {
    "duration": 6,
    "start_time": "2022-04-05T13:36:10.469Z"
   },
   {
    "duration": 413,
    "start_time": "2022-04-05T13:36:11.755Z"
   },
   {
    "duration": 21,
    "start_time": "2022-04-05T13:36:12.171Z"
   },
   {
    "duration": 15,
    "start_time": "2022-04-05T13:36:12.435Z"
   },
   {
    "duration": 6,
    "start_time": "2022-04-05T13:36:13.704Z"
   },
   {
    "duration": 445,
    "start_time": "2022-04-05T13:36:14.563Z"
   },
   {
    "duration": 34,
    "start_time": "2022-04-05T13:36:15.011Z"
   },
   {
    "duration": 57,
    "start_time": "2022-04-05T13:36:15.047Z"
   },
   {
    "duration": 27,
    "start_time": "2022-04-05T13:36:15.289Z"
   },
   {
    "duration": 416,
    "start_time": "2022-04-05T13:36:15.502Z"
   },
   {
    "duration": 49,
    "start_time": "2022-04-05T13:36:15.921Z"
   },
   {
    "duration": 24,
    "start_time": "2022-04-05T13:36:16.091Z"
   },
   {
    "duration": 90,
    "start_time": "2022-04-05T13:36:16.362Z"
   },
   {
    "duration": 7,
    "start_time": "2022-04-05T13:36:16.743Z"
   },
   {
    "duration": 8,
    "start_time": "2022-04-05T13:36:17.147Z"
   },
   {
    "duration": 843,
    "start_time": "2022-04-05T13:36:20.592Z"
   },
   {
    "duration": 850,
    "start_time": "2022-04-05T13:36:21.438Z"
   },
   {
    "duration": 1046,
    "start_time": "2022-04-05T13:36:22.291Z"
   },
   {
    "duration": 464,
    "start_time": "2022-04-05T13:36:24.225Z"
   },
   {
    "duration": 1005,
    "start_time": "2022-04-05T13:36:24.692Z"
   },
   {
    "duration": 641,
    "start_time": "2022-04-05T13:36:26.079Z"
   },
   {
    "duration": 9,
    "start_time": "2022-04-05T13:36:27.292Z"
   },
   {
    "duration": 941,
    "start_time": "2022-04-05T13:36:27.661Z"
   },
   {
    "duration": 24,
    "start_time": "2022-04-05T13:36:28.604Z"
   },
   {
    "duration": 12,
    "start_time": "2022-04-05T13:36:30.902Z"
   },
   {
    "duration": 5,
    "start_time": "2022-04-05T13:36:31.663Z"
   },
   {
    "duration": 4,
    "start_time": "2022-04-05T13:36:34.999Z"
   },
   {
    "duration": 7,
    "start_time": "2022-04-05T13:36:35.481Z"
   },
   {
    "duration": 6,
    "start_time": "2022-04-05T13:36:36.025Z"
   },
   {
    "duration": 7,
    "start_time": "2022-04-05T13:36:37.029Z"
   },
   {
    "duration": 5,
    "start_time": "2022-04-05T13:36:37.515Z"
   },
   {
    "duration": 5,
    "start_time": "2022-04-05T13:36:38.742Z"
   },
   {
    "duration": 2686,
    "start_time": "2022-04-05T13:36:41.880Z"
   },
   {
    "duration": 3504,
    "start_time": "2022-04-05T13:36:44.570Z"
   },
   {
    "duration": 157791,
    "start_time": "2022-04-05T13:36:48.077Z"
   },
   {
    "duration": 52800,
    "start_time": "2022-04-05T13:39:25.872Z"
   },
   {
    "duration": 105990,
    "start_time": "2022-04-05T13:40:18.676Z"
   },
   {
    "duration": 9,
    "start_time": "2022-04-05T13:42:04.668Z"
   },
   {
    "duration": 13,
    "start_time": "2022-04-05T13:42:04.679Z"
   },
   {
    "duration": 9,
    "start_time": "2022-04-05T13:42:27.975Z"
   },
   {
    "duration": 9,
    "start_time": "2022-04-05T13:42:29.111Z"
   },
   {
    "duration": 1296,
    "start_time": "2022-11-10T12:21:20.683Z"
   },
   {
    "duration": 3036,
    "start_time": "2022-11-10T12:21:21.981Z"
   },
   {
    "duration": 46,
    "start_time": "2022-11-10T12:21:25.018Z"
   },
   {
    "duration": 40,
    "start_time": "2022-11-10T12:21:25.066Z"
   },
   {
    "duration": 54,
    "start_time": "2022-11-10T12:21:25.109Z"
   },
   {
    "duration": 14,
    "start_time": "2022-11-10T12:21:25.165Z"
   },
   {
    "duration": 2,
    "start_time": "2022-11-10T12:21:25.181Z"
   },
   {
    "duration": 19,
    "start_time": "2022-11-10T12:21:25.185Z"
   },
   {
    "duration": 29,
    "start_time": "2022-11-10T12:21:25.206Z"
   },
   {
    "duration": 5,
    "start_time": "2022-11-10T12:21:25.237Z"
   },
   {
    "duration": 271,
    "start_time": "2022-11-10T12:21:25.244Z"
   },
   {
    "duration": 23,
    "start_time": "2022-11-10T12:21:25.517Z"
   },
   {
    "duration": 9,
    "start_time": "2022-11-10T12:21:25.541Z"
   },
   {
    "duration": 14,
    "start_time": "2022-11-10T12:21:25.553Z"
   },
   {
    "duration": 287,
    "start_time": "2022-11-10T12:21:25.569Z"
   },
   {
    "duration": 22,
    "start_time": "2022-11-10T12:21:25.857Z"
   },
   {
    "duration": 21,
    "start_time": "2022-11-10T12:21:25.881Z"
   },
   {
    "duration": 36,
    "start_time": "2022-11-10T12:21:25.904Z"
   },
   {
    "duration": 268,
    "start_time": "2022-11-10T12:21:25.942Z"
   },
   {
    "duration": 28,
    "start_time": "2022-11-10T12:21:26.211Z"
   },
   {
    "duration": 22,
    "start_time": "2022-11-10T12:21:26.241Z"
   },
   {
    "duration": 101,
    "start_time": "2022-11-10T12:21:26.265Z"
   },
   {
    "duration": 6,
    "start_time": "2022-11-10T12:21:26.367Z"
   },
   {
    "duration": 19,
    "start_time": "2022-11-10T12:21:26.375Z"
   },
   {
    "duration": 534,
    "start_time": "2022-11-10T12:21:26.395Z"
   },
   {
    "duration": 514,
    "start_time": "2022-11-10T12:21:26.931Z"
   },
   {
    "duration": 640,
    "start_time": "2022-11-10T12:21:27.446Z"
   },
   {
    "duration": 376,
    "start_time": "2022-11-10T12:21:28.087Z"
   },
   {
    "duration": 618,
    "start_time": "2022-11-10T12:21:28.464Z"
   },
   {
    "duration": 414,
    "start_time": "2022-11-10T12:21:29.083Z"
   },
   {
    "duration": 8,
    "start_time": "2022-11-10T12:21:29.499Z"
   },
   {
    "duration": 667,
    "start_time": "2022-11-10T12:21:29.509Z"
   },
   {
    "duration": 15,
    "start_time": "2022-11-10T12:21:30.178Z"
   },
   {
    "duration": 42,
    "start_time": "2022-11-10T12:21:30.195Z"
   },
   {
    "duration": 23,
    "start_time": "2022-11-10T12:21:30.239Z"
   },
   {
    "duration": 27,
    "start_time": "2022-11-10T12:21:30.263Z"
   },
   {
    "duration": 46,
    "start_time": "2022-11-10T12:21:30.292Z"
   },
   {
    "duration": 27,
    "start_time": "2022-11-10T12:21:30.340Z"
   },
   {
    "duration": 34,
    "start_time": "2022-11-10T12:21:30.368Z"
   },
   {
    "duration": 28,
    "start_time": "2022-11-10T12:21:30.404Z"
   },
   {
    "duration": 23,
    "start_time": "2022-11-10T12:21:30.437Z"
   },
   {
    "duration": 2972,
    "start_time": "2022-11-10T12:21:30.461Z"
   },
   {
    "duration": 2501,
    "start_time": "2022-11-10T12:21:33.436Z"
   },
   {
    "duration": 230602,
    "start_time": "2022-11-10T12:21:36.029Z"
   },
   {
    "duration": 69005,
    "start_time": "2022-11-10T12:25:26.633Z"
   },
   {
    "duration": 972080,
    "start_time": "2022-11-10T12:26:35.641Z"
   },
   {
    "duration": 11,
    "start_time": "2022-11-10T12:42:47.730Z"
   },
   {
    "duration": 10,
    "start_time": "2022-11-10T12:42:47.743Z"
   },
   {
    "duration": 83420,
    "start_time": "2022-11-10T12:42:47.756Z"
   },
   {
    "duration": 11,
    "start_time": "2022-11-10T12:44:11.179Z"
   },
   {
    "duration": 34,
    "start_time": "2022-11-10T12:44:11.192Z"
   },
   {
    "duration": 28,
    "start_time": "2022-11-10T12:44:11.229Z"
   },
   {
    "duration": 45942,
    "start_time": "2022-11-10T12:44:11.260Z"
   },
   {
    "duration": 240,
    "start_time": "2022-11-10T12:44:57.204Z"
   }
  ],
  "kernelspec": {
   "display_name": "Python 3 (ipykernel)",
   "language": "python",
   "name": "python3"
  },
  "language_info": {
   "codemirror_mode": {
    "name": "ipython",
    "version": 3
   },
   "file_extension": ".py",
   "mimetype": "text/x-python",
   "name": "python",
   "nbconvert_exporter": "python",
   "pygments_lexer": "ipython3",
   "version": "3.9.5"
  },
  "toc": {
   "base_numbering": 1,
   "nav_menu": {},
   "number_sections": true,
   "sideBar": true,
   "skip_h1_title": true,
   "title_cell": "Содержание",
   "title_sidebar": "Contents",
   "toc_cell": true,
   "toc_position": {
    "height": "calc(100% - 180px)",
    "left": "10px",
    "top": "150px",
    "width": "366.387px"
   },
   "toc_section_display": true,
   "toc_window_display": true
  }
 },
 "nbformat": 4,
 "nbformat_minor": 2
}
