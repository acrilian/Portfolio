{
 "cells": [
  {
   "cell_type": "markdown",
   "metadata": {
    "id": "E0vqbgi9ay0H"
   },
   "source": [
    "# Яндекс.Музыка"
   ]
  },
  {
   "cell_type": "markdown",
   "metadata": {
    "id": "VUC88oWjTJw2"
   },
   "source": [
    "Сравнение Москвы и Петербурга окружено мифами. Например:\n",
    " * Москва — мегаполис, подчинённый жёсткому ритму рабочей недели;\n",
    " * Петербург — культурная столица, со своими вкусами.\n",
    "\n",
    "На данных Яндекс.Музыки вы сравните поведение пользователей двух столиц.\n",
    "\n",
    "**Цель исследования** — проверить три гипотезы:\n",
    "1. Активность пользователей зависит от дня недели. Причём в Москве и Петербурге это проявляется по-разному.\n",
    "2. В понедельник утром в Москве преобладают одни жанры, а в Петербурге — другие. Так же и вечером пятницы преобладают разные жанры — в зависимости от города. \n",
    "3. Москва и Петербург предпочитают разные жанры музыки. В Москве чаще слушают поп-музыку, в Петербурге — русский рэп.\n",
    "\n",
    "**Ход исследования**\n",
    "\n",
    "Данные о поведении пользователей вы получите из файла `yandex_music_project.csv`. О качестве данных ничего не известно. Поэтому перед проверкой гипотез понадобится обзор данных. \n",
    "\n",
    "Вы проверите данные на ошибки и оцените их влияние на исследование. Затем, на этапе предобработки вы поищете возможность исправить самые критичные ошибки данных.\n",
    " \n",
    "Таким образом, исследование пройдёт в три этапа:\n",
    " 1. Обзор данных.\n",
    " 2. Предобработка данных.\n",
    " 3. Проверка гипотез.\n",
    "\n"
   ]
  },
  {
   "cell_type": "markdown",
   "metadata": {
    "id": "Ml1hmfXC_Zcs"
   },
   "source": [
    "## Обзор данных\n",
    "\n",
    "Составим первое представление о данных Яндекс.Музыки.\n",
    "\n",
    "\n"
   ]
  },
  {
   "cell_type": "markdown",
   "metadata": {
    "id": "57eAOGIz_Zcs"
   },
   "source": [
    "Импортируем библиотеку `pandas`. "
   ]
  },
  {
   "cell_type": "code",
   "execution_count": 1,
   "metadata": {
    "id": "AXN7PHPN_Zcs"
   },
   "outputs": [],
   "source": [
    "# импорт библиотеки pandas\n",
    "import pandas as pd"
   ]
  },
  {
   "cell_type": "markdown",
   "metadata": {
    "id": "SG23P8tt_Zcs"
   },
   "source": [
    "Прочитаем файл `yandex_music_project.csv` из папки `/datasets` и сохраните его в переменной `df`:"
   ]
  },
  {
   "cell_type": "code",
   "execution_count": 2,
   "metadata": {
    "id": "fFVu7vqh_Zct"
   },
   "outputs": [],
   "source": [
    "# чтение файла с данными и сохранение в df\n",
    "df = pd.read_csv('/datasets/yandex_music_project.csv')"
   ]
  },
  {
   "cell_type": "markdown",
   "metadata": {
    "id": "rDoOMd3uTqnZ"
   },
   "source": [
    "Выведем на экран первые десять строк таблицы:"
   ]
  },
  {
   "cell_type": "code",
   "execution_count": 3,
   "metadata": {
    "id": "oWTVX3gW_Zct"
   },
   "outputs": [
    {
     "data": {
      "text/html": [
       "<div>\n",
       "<style scoped>\n",
       "    .dataframe tbody tr th:only-of-type {\n",
       "        vertical-align: middle;\n",
       "    }\n",
       "\n",
       "    .dataframe tbody tr th {\n",
       "        vertical-align: top;\n",
       "    }\n",
       "\n",
       "    .dataframe thead th {\n",
       "        text-align: right;\n",
       "    }\n",
       "</style>\n",
       "<table border=\"1\" class=\"dataframe\">\n",
       "  <thead>\n",
       "    <tr style=\"text-align: right;\">\n",
       "      <th></th>\n",
       "      <th>userID</th>\n",
       "      <th>Track</th>\n",
       "      <th>artist</th>\n",
       "      <th>genre</th>\n",
       "      <th>City</th>\n",
       "      <th>time</th>\n",
       "      <th>Day</th>\n",
       "    </tr>\n",
       "  </thead>\n",
       "  <tbody>\n",
       "    <tr>\n",
       "      <th>0</th>\n",
       "      <td>FFB692EC</td>\n",
       "      <td>Kamigata To Boots</td>\n",
       "      <td>The Mass Missile</td>\n",
       "      <td>rock</td>\n",
       "      <td>Saint-Petersburg</td>\n",
       "      <td>20:28:33</td>\n",
       "      <td>Wednesday</td>\n",
       "    </tr>\n",
       "    <tr>\n",
       "      <th>1</th>\n",
       "      <td>55204538</td>\n",
       "      <td>Delayed Because of Accident</td>\n",
       "      <td>Andreas Rönnberg</td>\n",
       "      <td>rock</td>\n",
       "      <td>Moscow</td>\n",
       "      <td>14:07:09</td>\n",
       "      <td>Friday</td>\n",
       "    </tr>\n",
       "    <tr>\n",
       "      <th>2</th>\n",
       "      <td>20EC38</td>\n",
       "      <td>Funiculì funiculà</td>\n",
       "      <td>Mario Lanza</td>\n",
       "      <td>pop</td>\n",
       "      <td>Saint-Petersburg</td>\n",
       "      <td>20:58:07</td>\n",
       "      <td>Wednesday</td>\n",
       "    </tr>\n",
       "    <tr>\n",
       "      <th>3</th>\n",
       "      <td>A3DD03C9</td>\n",
       "      <td>Dragons in the Sunset</td>\n",
       "      <td>Fire + Ice</td>\n",
       "      <td>folk</td>\n",
       "      <td>Saint-Petersburg</td>\n",
       "      <td>08:37:09</td>\n",
       "      <td>Monday</td>\n",
       "    </tr>\n",
       "    <tr>\n",
       "      <th>4</th>\n",
       "      <td>E2DC1FAE</td>\n",
       "      <td>Soul People</td>\n",
       "      <td>Space Echo</td>\n",
       "      <td>dance</td>\n",
       "      <td>Moscow</td>\n",
       "      <td>08:34:34</td>\n",
       "      <td>Monday</td>\n",
       "    </tr>\n",
       "    <tr>\n",
       "      <th>5</th>\n",
       "      <td>842029A1</td>\n",
       "      <td>Преданная</td>\n",
       "      <td>IMPERVTOR</td>\n",
       "      <td>rusrap</td>\n",
       "      <td>Saint-Petersburg</td>\n",
       "      <td>13:09:41</td>\n",
       "      <td>Friday</td>\n",
       "    </tr>\n",
       "    <tr>\n",
       "      <th>6</th>\n",
       "      <td>4CB90AA5</td>\n",
       "      <td>True</td>\n",
       "      <td>Roman Messer</td>\n",
       "      <td>dance</td>\n",
       "      <td>Moscow</td>\n",
       "      <td>13:00:07</td>\n",
       "      <td>Wednesday</td>\n",
       "    </tr>\n",
       "    <tr>\n",
       "      <th>7</th>\n",
       "      <td>F03E1C1F</td>\n",
       "      <td>Feeling This Way</td>\n",
       "      <td>Polina Griffith</td>\n",
       "      <td>dance</td>\n",
       "      <td>Moscow</td>\n",
       "      <td>20:47:49</td>\n",
       "      <td>Wednesday</td>\n",
       "    </tr>\n",
       "    <tr>\n",
       "      <th>8</th>\n",
       "      <td>8FA1D3BE</td>\n",
       "      <td>И вновь продолжается бой</td>\n",
       "      <td>NaN</td>\n",
       "      <td>ruspop</td>\n",
       "      <td>Moscow</td>\n",
       "      <td>09:17:40</td>\n",
       "      <td>Friday</td>\n",
       "    </tr>\n",
       "    <tr>\n",
       "      <th>9</th>\n",
       "      <td>E772D5C0</td>\n",
       "      <td>Pessimist</td>\n",
       "      <td>NaN</td>\n",
       "      <td>dance</td>\n",
       "      <td>Saint-Petersburg</td>\n",
       "      <td>21:20:49</td>\n",
       "      <td>Wednesday</td>\n",
       "    </tr>\n",
       "  </tbody>\n",
       "</table>\n",
       "</div>"
      ],
      "text/plain": [
       "     userID                        Track            artist   genre  \\\n",
       "0  FFB692EC            Kamigata To Boots  The Mass Missile    rock   \n",
       "1  55204538  Delayed Because of Accident  Andreas Rönnberg    rock   \n",
       "2    20EC38            Funiculì funiculà       Mario Lanza     pop   \n",
       "3  A3DD03C9        Dragons in the Sunset        Fire + Ice    folk   \n",
       "4  E2DC1FAE                  Soul People        Space Echo   dance   \n",
       "5  842029A1                    Преданная         IMPERVTOR  rusrap   \n",
       "6  4CB90AA5                         True      Roman Messer   dance   \n",
       "7  F03E1C1F             Feeling This Way   Polina Griffith   dance   \n",
       "8  8FA1D3BE     И вновь продолжается бой               NaN  ruspop   \n",
       "9  E772D5C0                    Pessimist               NaN   dance   \n",
       "\n",
       "             City        time        Day  \n",
       "0  Saint-Petersburg  20:28:33  Wednesday  \n",
       "1            Moscow  14:07:09     Friday  \n",
       "2  Saint-Petersburg  20:58:07  Wednesday  \n",
       "3  Saint-Petersburg  08:37:09     Monday  \n",
       "4            Moscow  08:34:34     Monday  \n",
       "5  Saint-Petersburg  13:09:41     Friday  \n",
       "6            Moscow  13:00:07  Wednesday  \n",
       "7            Moscow  20:47:49  Wednesday  \n",
       "8            Moscow  09:17:40     Friday  \n",
       "9  Saint-Petersburg  21:20:49  Wednesday  "
      ]
     },
     "execution_count": 3,
     "metadata": {},
     "output_type": "execute_result"
    }
   ],
   "source": [
    "# получение первых 10 строк таблицы df\n",
    "df.head(10)"
   ]
  },
  {
   "cell_type": "markdown",
   "metadata": {
    "id": "EO73Kwic_Zct"
   },
   "source": [
    "Одной командой получим общую информацию о таблице:"
   ]
  },
  {
   "cell_type": "code",
   "execution_count": 4,
   "metadata": {
    "id": "DSf2kIb-_Zct"
   },
   "outputs": [
    {
     "name": "stdout",
     "output_type": "stream",
     "text": [
      "<class 'pandas.core.frame.DataFrame'>\n",
      "RangeIndex: 65079 entries, 0 to 65078\n",
      "Data columns (total 7 columns):\n",
      " #   Column    Non-Null Count  Dtype \n",
      "---  ------    --------------  ----- \n",
      " 0     userID  65079 non-null  object\n",
      " 1   Track     63848 non-null  object\n",
      " 2   artist    57876 non-null  object\n",
      " 3   genre     63881 non-null  object\n",
      " 4     City    65079 non-null  object\n",
      " 5   time      65079 non-null  object\n",
      " 6   Day       65079 non-null  object\n",
      "dtypes: object(7)\n",
      "memory usage: 3.5+ MB\n"
     ]
    }
   ],
   "source": [
    "# получение общей информации о данных в таблице df\n",
    "df.info()"
   ]
  },
  {
   "cell_type": "markdown",
   "metadata": {
    "id": "TaQ2Iwbr_Zct"
   },
   "source": [
    "Итак, в таблице семь столбцов. Тип данных во всех столбцах — `object`.\n",
    "\n",
    "Согласно документации к данным:\n",
    "* `userID` — идентификатор пользователя;\n",
    "* `Track` — название трека;  \n",
    "* `artist` — имя исполнителя;\n",
    "* `genre` — название жанра;\n",
    "* `City` — город пользователя;\n",
    "* `time` — время начала прослушивания;\n",
    "* `Day` — день недели.\n",
    "\n",
    "В названиях колонок видны три нарушения стиля:\n",
    "1. Строчные буквы сочетаются с прописными.\n",
    "2. Встречаются пробелы.\n",
    "3. Нарушение змеиного регистра.\n",
    "\n",
    "\n",
    "\n",
    "Количество значений в столбцах различается. Значит, в данных есть пропущенные значения.\n"
   ]
  },
  {
   "cell_type": "markdown",
   "metadata": {
    "id": "MCB6-dXG_Zct"
   },
   "source": [
    "**Выводы:**\n",
    "\n",
    "В каждой строке таблицы — данные о прослушанном треке. Часть колонок описывает саму композицию: название, исполнителя и жанр. Остальные данные рассказывают о пользователе: из какого он города, когда он слушал музыку. \n",
    "\n",
    "Предварительно можно утверждать, что, данных достаточно для проверки гипотез. Но встречаются пропуски в данных, а в названиях колонок — расхождения с хорошим стилем.\n",
    "\n",
    "Чтобы двигаться дальше, нужно устранить проблемы в данных."
   ]
  },
  {
   "cell_type": "markdown",
   "metadata": {
    "id": "SjYF6Ub9_Zct"
   },
   "source": [
    "## Предобработка данных\n",
    "Исправим стиль в заголовках столбцов, исключим пропуски. Затем проверим данные на дубликаты."
   ]
  },
  {
   "cell_type": "markdown",
   "metadata": {
    "id": "dIaKXr29_Zct"
   },
   "source": [
    "### Стиль заголовков\n",
    "Выведем на экран названия столбцов:"
   ]
  },
  {
   "cell_type": "code",
   "execution_count": 5,
   "metadata": {
    "id": "oKOTdF_Q_Zct"
   },
   "outputs": [
    {
     "data": {
      "text/plain": [
       "Index(['  userID', 'Track', 'artist', 'genre', '  City  ', 'time', 'Day'], dtype='object')"
      ]
     },
     "execution_count": 5,
     "metadata": {},
     "output_type": "execute_result"
    }
   ],
   "source": [
    "# перечень названий столбцов таблицы df\n",
    "df.columns"
   ]
  },
  {
   "cell_type": "markdown",
   "metadata": {
    "id": "zj5534cv_Zct"
   },
   "source": [
    "Приведем названия в соответствие с хорошим стилем:\n",
    "* несколько слов в названии запишите в «змеином_регистре»,\n",
    "* все символы сделайте строчными,\n",
    "* устраните пробелы.\n",
    "\n",
    "Для этого переименуйте колонки так:\n",
    "* `'  userID'` → `'user_id'`;\n",
    "* `'Track'` → `'track'`;\n",
    "* `'  City  '` → `'city'`;\n",
    "* `'Day'` → `'day'`."
   ]
  },
  {
   "cell_type": "code",
   "execution_count": 6,
   "metadata": {
    "id": "ISlFqs5y_Zct"
   },
   "outputs": [],
   "source": [
    "# переименование столбцов\n",
    "df = df.rename(columns={'  userID': 'user_id', 'Track': 'track', '  City  ': 'city', 'Day': 'day'})"
   ]
  },
  {
   "cell_type": "markdown",
   "metadata": {
    "id": "1dqbh00J_Zct"
   },
   "source": [
    "Проверим результат. Для этого ещё раз выведем на экран названия столбцов:"
   ]
  },
  {
   "cell_type": "code",
   "execution_count": 7,
   "metadata": {
    "id": "d4NOAmTW_Zct"
   },
   "outputs": [
    {
     "data": {
      "text/plain": [
       "Index(['user_id', 'track', 'artist', 'genre', 'city', 'time', 'day'], dtype='object')"
      ]
     },
     "execution_count": 7,
     "metadata": {},
     "output_type": "execute_result"
    }
   ],
   "source": [
    "#проверка результатов - перечень названий столбцов\n",
    "df.columns"
   ]
  },
  {
   "cell_type": "markdown",
   "metadata": {
    "id": "5ISfbcfY_Zct"
   },
   "source": [
    "### Пропуски значений\n",
    "Сначала посчитаем, сколько в таблице пропущенных значений. Для этого достаточно двух методов `pandas`:"
   ]
  },
  {
   "cell_type": "code",
   "execution_count": 8,
   "metadata": {
    "id": "RskX29qr_Zct"
   },
   "outputs": [
    {
     "name": "stdout",
     "output_type": "stream",
     "text": [
      "user_id       0\n",
      "track      1231\n",
      "artist     7203\n",
      "genre      1198\n",
      "city          0\n",
      "time          0\n",
      "day           0\n",
      "dtype: int64\n"
     ]
    }
   ],
   "source": [
    "# подсчёт пропусков\n",
    "print(df.isna().sum())"
   ]
  },
  {
   "cell_type": "markdown",
   "metadata": {
    "id": "qubhgnlO_Zct"
   },
   "source": [
    "Не все пропущенные значения влияют на исследование. Так в `track` и `artist` пропуски не важны для вашей работы. Достаточно заменить их явными обозначениями.\n",
    "\n",
    "Но пропуски в `genre` могут помешать сравнению музыкальных вкусов в Москве и Санкт-Петербурге. На практике было бы правильно установить причину пропусков и восстановить данные. Такой возможности нет в учебном проекте. Придётся:\n",
    "* заполнить и эти пропуски явными обозначениями,\n",
    "* оценить, насколько они повредят расчётам. "
   ]
  },
  {
   "cell_type": "markdown",
   "metadata": {
    "id": "fSv2laPA_Zct"
   },
   "source": [
    "Замените пропущенные значения в столбцах `track`, `artist` и `genre` на строку `'unknown'`. Для этого создадим список `columns_to_replace`, переберем его элементы циклом `for` и для каждого столбца выполним замену пропущенных значений:"
   ]
  },
  {
   "cell_type": "code",
   "execution_count": 9,
   "metadata": {
    "id": "KplB5qWs_Zct"
   },
   "outputs": [],
   "source": [
    "# перебор названий столбцов в цикле и замена пропущенных значений на 'unknown'\n",
    "columns_to_replace = ['track', 'artist', 'genre'] \n",
    "for column in columns_to_replace:\n",
    "    df[column] = df[column].fillna('unknown')"
   ]
  },
  {
   "cell_type": "markdown",
   "metadata": {
    "id": "Ilsm-MZo_Zct"
   },
   "source": [
    "Убедимся, что в таблице не осталось пропусков. Для этого ещё раз посчитаем пропущенные значения."
   ]
  },
  {
   "cell_type": "code",
   "execution_count": 10,
   "metadata": {
    "id": "Tq4nYRX4_Zct"
   },
   "outputs": [
    {
     "data": {
      "text/plain": [
       "user_id    0\n",
       "track      0\n",
       "artist     0\n",
       "genre      0\n",
       "city       0\n",
       "time       0\n",
       "day        0\n",
       "dtype: int64"
      ]
     },
     "execution_count": 10,
     "metadata": {},
     "output_type": "execute_result"
    }
   ],
   "source": [
    "# подсчёт пропусков\n",
    "df.isna().sum()"
   ]
  },
  {
   "cell_type": "markdown",
   "metadata": {
    "id": "BWKRtBJ3_Zct"
   },
   "source": [
    "### Дубликаты\n",
    "Посчитаем явные дубликаты в таблице одной командой:"
   ]
  },
  {
   "cell_type": "code",
   "execution_count": 11,
   "metadata": {
    "id": "36eES_S0_Zct"
   },
   "outputs": [
    {
     "data": {
      "text/plain": [
       "3826"
      ]
     },
     "execution_count": 11,
     "metadata": {},
     "output_type": "execute_result"
    }
   ],
   "source": [
    "# подсчёт явных дубликатов\n",
    "df.duplicated().sum()"
   ]
  },
  {
   "cell_type": "markdown",
   "metadata": {
    "id": "Ot25h6XR_Zct"
   },
   "source": [
    "Вызовем специальный метод `pandas`, чтобы удалить явные дубликаты:"
   ]
  },
  {
   "cell_type": "code",
   "execution_count": 12,
   "metadata": {
    "id": "exFHq6tt_Zct"
   },
   "outputs": [],
   "source": [
    "# удаление явных дубликатов (с удалением старых индексов и формированием новых)\n",
    "df = df.drop_duplicates().reset_index(drop=True)"
   ]
  },
  {
   "cell_type": "markdown",
   "metadata": {
    "id": "Im2YwBEG_Zct"
   },
   "source": [
    "Ещё раз посчитаем явные дубликаты в таблице — убедимся, что полностью от них избавились:"
   ]
  },
  {
   "cell_type": "code",
   "execution_count": 13,
   "metadata": {
    "id": "-8PuNWQ0_Zct"
   },
   "outputs": [
    {
     "data": {
      "text/plain": [
       "0"
      ]
     },
     "execution_count": 13,
     "metadata": {},
     "output_type": "execute_result"
    }
   ],
   "source": [
    "# проверка на отсутствие дубликатов\n",
    "df.duplicated().sum()"
   ]
  },
  {
   "cell_type": "markdown",
   "metadata": {
    "id": "QlFBsxAr_Zct"
   },
   "source": [
    "Теперь избавимся от неявных дубликатов в колонке `genre`. Например, название одного и того же жанра может быть записано немного по-разному. Такие ошибки тоже повлияют на результат исследования."
   ]
  },
  {
   "cell_type": "markdown",
   "metadata": {
    "id": "eSjWwsOh_Zct"
   },
   "source": [
    "Выведем на экран список уникальных названий жанров, отсортированный в алфавитном порядке. Для этого:\n",
    "* извлечем нужный столбец датафрейма, \n",
    "* применим к нему метод сортировки,\n",
    "* для отсортированного столбца вызовем метод, который вернёт уникальные значения из столбца."
   ]
  },
  {
   "cell_type": "code",
   "execution_count": 14,
   "metadata": {
    "id": "JIUcqzZN_Zct"
   },
   "outputs": [
    {
     "data": {
      "text/plain": [
       "array(['acid', 'acoustic', 'action', 'adult', 'africa', 'afrikaans',\n",
       "       'alternative', 'alternativepunk', 'ambient', 'americana',\n",
       "       'animated', 'anime', 'arabesk', 'arabic', 'arena',\n",
       "       'argentinetango', 'art', 'audiobook', 'author', 'avantgarde',\n",
       "       'axé', 'baile', 'balkan', 'beats', 'bigroom', 'black', 'bluegrass',\n",
       "       'blues', 'bollywood', 'bossa', 'brazilian', 'breakbeat', 'breaks',\n",
       "       'broadway', 'cantautori', 'cantopop', 'canzone', 'caribbean',\n",
       "       'caucasian', 'celtic', 'chamber', 'chanson', 'children', 'chill',\n",
       "       'chinese', 'choral', 'christian', 'christmas', 'classical',\n",
       "       'classicmetal', 'club', 'colombian', 'comedy', 'conjazz',\n",
       "       'contemporary', 'country', 'cuban', 'dance', 'dancehall',\n",
       "       'dancepop', 'dark', 'death', 'deep', 'deutschrock', 'deutschspr',\n",
       "       'dirty', 'disco', 'dnb', 'documentary', 'downbeat', 'downtempo',\n",
       "       'drum', 'dub', 'dubstep', 'eastern', 'easy', 'electronic',\n",
       "       'electropop', 'emo', 'entehno', 'epicmetal', 'estrada', 'ethnic',\n",
       "       'eurofolk', 'european', 'experimental', 'extrememetal', 'fado',\n",
       "       'fairytail', 'film', 'fitness', 'flamenco', 'folk', 'folklore',\n",
       "       'folkmetal', 'folkrock', 'folktronica', 'forró', 'frankreich',\n",
       "       'französisch', 'french', 'funk', 'future', 'gangsta', 'garage',\n",
       "       'german', 'ghazal', 'gitarre', 'glitch', 'gospel', 'gothic',\n",
       "       'grime', 'grunge', 'gypsy', 'handsup', \"hard'n'heavy\", 'hardcore',\n",
       "       'hardstyle', 'hardtechno', 'hip', 'hip-hop', 'hiphop',\n",
       "       'historisch', 'holiday', 'hop', 'horror', 'house', 'hymn', 'idm',\n",
       "       'independent', 'indian', 'indie', 'indipop', 'industrial',\n",
       "       'inspirational', 'instrumental', 'international', 'irish', 'jam',\n",
       "       'japanese', 'jazz', 'jewish', 'jpop', 'jungle', 'k-pop',\n",
       "       'karadeniz', 'karaoke', 'kayokyoku', 'korean', 'laiko', 'latin',\n",
       "       'latino', 'leftfield', 'local', 'lounge', 'loungeelectronic',\n",
       "       'lovers', 'malaysian', 'mandopop', 'marschmusik', 'meditative',\n",
       "       'mediterranean', 'melodic', 'metal', 'metalcore', 'mexican',\n",
       "       'middle', 'minimal', 'miscellaneous', 'modern', 'mood', 'mpb',\n",
       "       'muslim', 'native', 'neoklassik', 'neue', 'new', 'newage',\n",
       "       'newwave', 'nu', 'nujazz', 'numetal', 'oceania', 'old', 'opera',\n",
       "       'orchestral', 'other', 'piano', 'podcasts', 'pop', 'popdance',\n",
       "       'popelectronic', 'popeurodance', 'poprussian', 'post',\n",
       "       'posthardcore', 'postrock', 'power', 'progmetal', 'progressive',\n",
       "       'psychedelic', 'punjabi', 'punk', 'quebecois', 'ragga', 'ram',\n",
       "       'rancheras', 'rap', 'rave', 'reggae', 'reggaeton', 'regional',\n",
       "       'relax', 'religious', 'retro', 'rhythm', 'rnb', 'rnr', 'rock',\n",
       "       'rockabilly', 'rockalternative', 'rockindie', 'rockother',\n",
       "       'romance', 'roots', 'ruspop', 'rusrap', 'rusrock', 'russian',\n",
       "       'salsa', 'samba', 'scenic', 'schlager', 'self', 'sertanejo',\n",
       "       'shanson', 'shoegazing', 'showtunes', 'singer', 'ska', 'skarock',\n",
       "       'slow', 'smooth', 'soft', 'soul', 'soulful', 'sound', 'soundtrack',\n",
       "       'southern', 'specialty', 'speech', 'spiritual', 'sport',\n",
       "       'stonerrock', 'surf', 'swing', 'synthpop', 'synthrock',\n",
       "       'sängerportrait', 'tango', 'tanzorchester', 'taraftar', 'tatar',\n",
       "       'tech', 'techno', 'teen', 'thrash', 'top', 'traditional',\n",
       "       'tradjazz', 'trance', 'tribal', 'trip', 'triphop', 'tropical',\n",
       "       'türk', 'türkçe', 'ukrrock', 'unknown', 'urban', 'uzbek',\n",
       "       'variété', 'vi', 'videogame', 'vocal', 'western', 'world',\n",
       "       'worldbeat', 'ïîï', 'электроника'], dtype=object)"
      ]
     },
     "execution_count": 14,
     "metadata": {},
     "output_type": "execute_result"
    }
   ],
   "source": [
    "# просмотр уникальных названий жанров\n",
    "df = df.sort_values(by='genre')\n",
    "df['genre'].unique()"
   ]
  },
  {
   "cell_type": "markdown",
   "metadata": {
    "id": "qej-Qmuo_Zct"
   },
   "source": [
    "Просмотрим список и найдем неявные дубликаты названия `hiphop`. Это могут быть названия с ошибками или альтернативные названия того же жанра.\n",
    "\n",
    "Видим следующие неявные дубликаты:\n",
    "* *hip*,\n",
    "* *hop*,\n",
    "* *hip-hop*.\n",
    "\n",
    "Чтобы очистить от них таблицу, напишем функцию `replace_wrong_genres()` с двумя параметрами: \n",
    "* `wrong_genres` — список дубликатов,\n",
    "* `correct_genre` — строка с правильным значением.\n",
    "\n",
    "Функция должна исправить колонку `genre` в таблице `df`: заменить каждое значение из списка `wrong_genres` на значение из `correct_genre`."
   ]
  },
  {
   "cell_type": "code",
   "execution_count": 15,
   "metadata": {
    "id": "ErNDkmns_Zct"
   },
   "outputs": [],
   "source": [
    "# функция для замены неявных дубликатов\n",
    "# перебираем неправильные имена\n",
    "\n",
    "def replace_wrong_genres(wrong_genres, correct_genre): \n",
    "    for index in wrong_genres:\n",
    "        df['genre'] = df['genre'].replace(index, correct_genre)"
   ]
  },
  {
   "cell_type": "markdown",
   "metadata": {
    "id": "aDoBJxbA_Zct"
   },
   "source": [
    "Вызовим `replace_wrong_genres()` и передадим ей такие аргументы, чтобы она устранила неявные дубликаты: вместо `hip`, `hop` и `hip-hop` в таблице должно быть значение `hiphop`:"
   ]
  },
  {
   "cell_type": "code",
   "execution_count": 16,
   "metadata": {
    "id": "YN5i2hpmSo09"
   },
   "outputs": [],
   "source": [
    "wrong_genres = ['hip', 'hop', 'hip-hop'] # устранение неявных дубликатов\n",
    "correct_genre = 'hiphop' # правильное значение\n",
    "replace_wrong_genres(wrong_genres, correct_genre)"
   ]
  },
  {
   "cell_type": "markdown",
   "metadata": {
    "id": "zQKF16_RG15m"
   },
   "source": [
    "Проверим, что заменили неправильные названия:\n",
    "\n",
    "*   hip\n",
    "*   hop\n",
    "*   hip-hop\n",
    "\n",
    "Выведем отсортированный список уникальных значений столбца `genre`:"
   ]
  },
  {
   "cell_type": "code",
   "execution_count": 17,
   "metadata": {
    "id": "wvixALnFG15m"
   },
   "outputs": [
    {
     "data": {
      "text/plain": [
       "array(['acid', 'acoustic', 'action', 'adult', 'africa', 'afrikaans',\n",
       "       'alternative', 'alternativepunk', 'ambient', 'americana',\n",
       "       'animated', 'anime', 'arabesk', 'arabic', 'arena',\n",
       "       'argentinetango', 'art', 'audiobook', 'author', 'avantgarde',\n",
       "       'axé', 'baile', 'balkan', 'beats', 'bigroom', 'black', 'bluegrass',\n",
       "       'blues', 'bollywood', 'bossa', 'brazilian', 'breakbeat', 'breaks',\n",
       "       'broadway', 'cantautori', 'cantopop', 'canzone', 'caribbean',\n",
       "       'caucasian', 'celtic', 'chamber', 'chanson', 'children', 'chill',\n",
       "       'chinese', 'choral', 'christian', 'christmas', 'classical',\n",
       "       'classicmetal', 'club', 'colombian', 'comedy', 'conjazz',\n",
       "       'contemporary', 'country', 'cuban', 'dance', 'dancehall',\n",
       "       'dancepop', 'dark', 'death', 'deep', 'deutschrock', 'deutschspr',\n",
       "       'dirty', 'disco', 'dnb', 'documentary', 'downbeat', 'downtempo',\n",
       "       'drum', 'dub', 'dubstep', 'eastern', 'easy', 'electronic',\n",
       "       'electropop', 'emo', 'entehno', 'epicmetal', 'estrada', 'ethnic',\n",
       "       'eurofolk', 'european', 'experimental', 'extrememetal', 'fado',\n",
       "       'fairytail', 'film', 'fitness', 'flamenco', 'folk', 'folklore',\n",
       "       'folkmetal', 'folkrock', 'folktronica', 'forró', 'frankreich',\n",
       "       'französisch', 'french', 'funk', 'future', 'gangsta', 'garage',\n",
       "       'german', 'ghazal', 'gitarre', 'glitch', 'gospel', 'gothic',\n",
       "       'grime', 'grunge', 'gypsy', 'handsup', \"hard'n'heavy\", 'hardcore',\n",
       "       'hardstyle', 'hardtechno', 'hiphop', 'historisch', 'holiday',\n",
       "       'horror', 'house', 'hymn', 'idm', 'independent', 'indian', 'indie',\n",
       "       'indipop', 'industrial', 'inspirational', 'instrumental',\n",
       "       'international', 'irish', 'jam', 'japanese', 'jazz', 'jewish',\n",
       "       'jpop', 'jungle', 'k-pop', 'karadeniz', 'karaoke', 'kayokyoku',\n",
       "       'korean', 'laiko', 'latin', 'latino', 'leftfield', 'local',\n",
       "       'lounge', 'loungeelectronic', 'lovers', 'malaysian', 'mandopop',\n",
       "       'marschmusik', 'meditative', 'mediterranean', 'melodic', 'metal',\n",
       "       'metalcore', 'mexican', 'middle', 'minimal', 'miscellaneous',\n",
       "       'modern', 'mood', 'mpb', 'muslim', 'native', 'neoklassik', 'neue',\n",
       "       'new', 'newage', 'newwave', 'nu', 'nujazz', 'numetal', 'oceania',\n",
       "       'old', 'opera', 'orchestral', 'other', 'piano', 'podcasts', 'pop',\n",
       "       'popdance', 'popelectronic', 'popeurodance', 'poprussian', 'post',\n",
       "       'posthardcore', 'postrock', 'power', 'progmetal', 'progressive',\n",
       "       'psychedelic', 'punjabi', 'punk', 'quebecois', 'ragga', 'ram',\n",
       "       'rancheras', 'rap', 'rave', 'reggae', 'reggaeton', 'regional',\n",
       "       'relax', 'religious', 'retro', 'rhythm', 'rnb', 'rnr', 'rock',\n",
       "       'rockabilly', 'rockalternative', 'rockindie', 'rockother',\n",
       "       'romance', 'roots', 'ruspop', 'rusrap', 'rusrock', 'russian',\n",
       "       'salsa', 'samba', 'scenic', 'schlager', 'self', 'sertanejo',\n",
       "       'shanson', 'shoegazing', 'showtunes', 'singer', 'ska', 'skarock',\n",
       "       'slow', 'smooth', 'soft', 'soul', 'soulful', 'sound', 'soundtrack',\n",
       "       'southern', 'specialty', 'speech', 'spiritual', 'sport',\n",
       "       'stonerrock', 'surf', 'swing', 'synthpop', 'synthrock',\n",
       "       'sängerportrait', 'tango', 'tanzorchester', 'taraftar', 'tatar',\n",
       "       'tech', 'techno', 'teen', 'thrash', 'top', 'traditional',\n",
       "       'tradjazz', 'trance', 'tribal', 'trip', 'triphop', 'tropical',\n",
       "       'türk', 'türkçe', 'ukrrock', 'unknown', 'urban', 'uzbek',\n",
       "       'variété', 'vi', 'videogame', 'vocal', 'western', 'world',\n",
       "       'worldbeat', 'ïîï', 'электроника'], dtype=object)"
      ]
     },
     "execution_count": 17,
     "metadata": {},
     "output_type": "execute_result"
    }
   ],
   "source": [
    "# проверка на неявные дубликаты\n",
    "df['genre'].unique()"
   ]
  },
  {
   "cell_type": "markdown",
   "metadata": {
    "id": "jz6a9-7HQUDd"
   },
   "source": [
    "**Выводы:**\n",
    "\n",
    "Предобработка обнаружила три проблемы в данных:\n",
    "\n",
    "- нарушения в стиле заголовков,\n",
    "- пропущенные значения,\n",
    "- дубликаты — явные и неявные.\n",
    "\n",
    "Исправили заголовки, чтобы упростить работу с таблицей. Без дубликатов исследование станет более точным.\n",
    "\n",
    "Пропущенные значения заменили на `'unknown'`. Ещё предстоит увидеть, не повредят ли исследованию пропуски в колонке `genre`.\n",
    "\n",
    "Теперь можно перейти к проверке гипотез. "
   ]
  },
  {
   "cell_type": "markdown",
   "metadata": {
    "id": "WttZHXH0SqKk"
   },
   "source": [
    "## Проверка гипотез"
   ]
  },
  {
   "cell_type": "markdown",
   "metadata": {
    "id": "Im936VVi_Zcu"
   },
   "source": [
    "### Сравнение поведения пользователей двух столиц"
   ]
  },
  {
   "cell_type": "markdown",
   "metadata": {
    "id": "nwt_MuaL_Zcu"
   },
   "source": [
    "Первая гипотеза утверждает, что пользователи по-разному слушают музыку в Москве и Санкт-Петербурге. Проверим это предположение по данным о трёх днях недели — понедельнике, среде и пятнице. Для этого:\n",
    "\n",
    "* Разделим пользователей Москвы и Санкт-Петербурга\n",
    "* Сравним, сколько треков послушала каждая группа пользователей в понедельник, среду и пятницу.\n"
   ]
  },
  {
   "cell_type": "markdown",
   "metadata": {
    "id": "8Dw_YMmT_Zcu"
   },
   "source": [
    "Оценим активность пользователей в каждом городе. Сгруппируем данные по городу и посчитаем прослушивания в каждой группе.\n",
    "\n"
   ]
  },
  {
   "cell_type": "code",
   "execution_count": 18,
   "metadata": {
    "id": "0_Qs96oh_Zcu"
   },
   "outputs": [
    {
     "data": {
      "text/plain": [
       "city\n",
       "Moscow              42741\n",
       "Saint-Petersburg    18512\n",
       "Name: city, dtype: int64"
      ]
     },
     "execution_count": 18,
     "metadata": {},
     "output_type": "execute_result"
    }
   ],
   "source": [
    "# подсчёт прослушиваний в каждом городе\n",
    "df.groupby('city')['city'].count()"
   ]
  },
  {
   "cell_type": "markdown",
   "metadata": {
    "id": "dzli3w8o_Zcu"
   },
   "source": [
    "В Москве прослушиваний больше, чем в Петербурге. Из этого не следует, что московские пользователи чаще слушают музыку. Просто самих пользователей в Москве больше.\n",
    "\n",
    "Теперь сгруппируем данные по дню недели и подсчитаем прослушивания в понедельник, среду и пятницу. Учтем, что в данных есть информация только о прослушиваниях только за эти дни.\n"
   ]
  },
  {
   "cell_type": "code",
   "execution_count": 19,
   "metadata": {
    "id": "uZMKjiJz_Zcu"
   },
   "outputs": [
    {
     "data": {
      "text/plain": [
       "day\n",
       "Friday       21840\n",
       "Monday       21354\n",
       "Wednesday    18059\n",
       "Name: day, dtype: int64"
      ]
     },
     "execution_count": 19,
     "metadata": {},
     "output_type": "execute_result"
    }
   ],
   "source": [
    "df.groupby('day')['day'].count() "
   ]
  },
  {
   "cell_type": "markdown",
   "metadata": {
    "id": "cC2tNrlL_Zcu"
   },
   "source": [
    "В среднем пользователи из двух городов менее активны по средам. Но картина может измениться, если рассмотреть каждый город в отдельности."
   ]
  },
  {
   "cell_type": "markdown",
   "metadata": {
    "id": "POzs8bGa_Zcu"
   },
   "source": [
    "Увидели, как работает группировка по городу и по дням недели. Теперь напишем функцию, которая объединит два эти расчёта.\n",
    "\n",
    "Создадим функцию `number_tracks()`, которая посчитает прослушивания для заданного дня и города. Ей понадобятся два параметра:\n",
    "* день недели,\n",
    "* название города.\n",
    "\n",
    "В функции сохраним в переменную строки исходной таблицы, у которых значение:\n",
    "  * в колонке `day` равно параметру `day`,\n",
    "  * в колонке `city` равно параметру `city`.\n",
    "\n",
    "Для этого применим последовательную фильтрацию с логической индексацией.\n",
    "\n",
    "Затем посчитаем значения в столбце `user_id` получившейся таблицы. Результат сохраним в новую переменную. Верните эту переменную из функции."
   ]
  },
  {
   "cell_type": "code",
   "execution_count": 20,
   "metadata": {
    "id": "Nz3GdQB1_Zcu"
   },
   "outputs": [],
   "source": [
    "# <создание функции number_tracks()>\n",
    "# Объявляется функция с двумя параметрами: day, city.\n",
    "# В переменной track_list сохраняются те строки таблицы df, для которых \n",
    "# значение в столбце 'day' равно параметру day и одновременно значение\n",
    "# в столбце 'city' равно параметру city (используйте последовательную фильтрацию\n",
    "# с помощью логической индексации).\n",
    "  \n",
    "# В переменной track_list_count сохраняется число значений столбца 'user_id',\n",
    "# рассчитанное методом count() для таблицы track_list.\n",
    "# Функция возвращает число - значение track_list_count.\n",
    "\n",
    "# Функция для подсчёта прослушиваний для конкретного города и дня.\n",
    "# С помощью последовательной фильтрации с логической индексацией она \n",
    "# сначала получит из исходной таблицы строки с нужным днём,\n",
    "# затем из результата отфильтрует строки с нужным городом,\n",
    "# методом count() посчитает количество значений в колонке user_id. \n",
    "# Это количество функция вернёт в качестве результата\n",
    "\n",
    "def number_tracks(day, city):\n",
    "    track_list = df[(df['day'] == day) & (df['city'] == city)]\n",
    "    track_list_count = track_list['user_id'].count()\n",
    "    return track_list_count"
   ]
  },
  {
   "cell_type": "markdown",
   "metadata": {
    "id": "ytf7xFrFJQ2r"
   },
   "source": [
    "Вызовим `number_tracks()` шесть раз, меняя значение параметров — так, чтобы получить данные для каждого города в каждый из трёх дней."
   ]
  },
  {
   "cell_type": "code",
   "execution_count": 21,
   "metadata": {
    "id": "rJcRATNQ_Zcu"
   },
   "outputs": [
    {
     "data": {
      "text/plain": [
       "15740"
      ]
     },
     "execution_count": 21,
     "metadata": {},
     "output_type": "execute_result"
    }
   ],
   "source": [
    "number_tracks('Monday', 'Moscow') # количество прослушиваний в Москве по понедельникам"
   ]
  },
  {
   "cell_type": "code",
   "execution_count": 22,
   "metadata": {
    "id": "hq_ncZ5T_Zcu"
   },
   "outputs": [
    {
     "data": {
      "text/plain": [
       "5614"
      ]
     },
     "execution_count": 22,
     "metadata": {},
     "output_type": "execute_result"
    }
   ],
   "source": [
    "number_tracks('Monday', 'Saint-Petersburg') # количество прослушиваний в Санкт-Петербурге по понедельникам"
   ]
  },
  {
   "cell_type": "code",
   "execution_count": 23,
   "metadata": {
    "id": "_NTy2VPU_Zcu"
   },
   "outputs": [
    {
     "data": {
      "text/plain": [
       "11056"
      ]
     },
     "execution_count": 23,
     "metadata": {},
     "output_type": "execute_result"
    }
   ],
   "source": [
    "number_tracks('Wednesday', 'Moscow') # количество прослушиваний в Москве по средам"
   ]
  },
  {
   "cell_type": "code",
   "execution_count": 24,
   "metadata": {
    "id": "j2y3TAwo_Zcu"
   },
   "outputs": [
    {
     "data": {
      "text/plain": [
       "7003"
      ]
     },
     "execution_count": 24,
     "metadata": {},
     "output_type": "execute_result"
    }
   ],
   "source": [
    "number_tracks('Wednesday', 'Saint-Petersburg') # количество прослушиваний в Санкт-Петербурге по средам"
   ]
  },
  {
   "cell_type": "code",
   "execution_count": 25,
   "metadata": {
    "id": "vYDw5u_K_Zcu"
   },
   "outputs": [
    {
     "data": {
      "text/plain": [
       "15945"
      ]
     },
     "execution_count": 25,
     "metadata": {},
     "output_type": "execute_result"
    }
   ],
   "source": [
    "number_tracks('Friday', 'Moscow') # количество прослушиваний в Москве по пятницам"
   ]
  },
  {
   "cell_type": "code",
   "execution_count": 26,
   "metadata": {
    "id": "8_yzFtW3_Zcu"
   },
   "outputs": [
    {
     "data": {
      "text/plain": [
       "5895"
      ]
     },
     "execution_count": 26,
     "metadata": {},
     "output_type": "execute_result"
    }
   ],
   "source": [
    "number_tracks('Friday', 'Saint-Petersburg') # количество прослушиваний в Санкт-Петербурге по пятницам"
   ]
  },
  {
   "cell_type": "markdown",
   "metadata": {
    "id": "7QXffbO-_Zcu"
   },
   "source": [
    "Создадим c помощью конструктора `pd.DataFrame` таблицу, где\n",
    "* названия колонок — `['city', 'monday', 'wednesday', 'friday']`;\n",
    "* данные — результаты, которые вы получили с помощью `number_tracks`."
   ]
  },
  {
   "cell_type": "code",
   "execution_count": 27,
   "metadata": {
    "id": "APAcLpOr_Zcu",
    "scrolled": true
   },
   "outputs": [
    {
     "data": {
      "text/html": [
       "<div>\n",
       "<style scoped>\n",
       "    .dataframe tbody tr th:only-of-type {\n",
       "        vertical-align: middle;\n",
       "    }\n",
       "\n",
       "    .dataframe tbody tr th {\n",
       "        vertical-align: top;\n",
       "    }\n",
       "\n",
       "    .dataframe thead th {\n",
       "        text-align: right;\n",
       "    }\n",
       "</style>\n",
       "<table border=\"1\" class=\"dataframe\">\n",
       "  <thead>\n",
       "    <tr style=\"text-align: right;\">\n",
       "      <th></th>\n",
       "      <th>city</th>\n",
       "      <th>monday</th>\n",
       "      <th>wednesday</th>\n",
       "      <th>friday</th>\n",
       "    </tr>\n",
       "  </thead>\n",
       "  <tbody>\n",
       "    <tr>\n",
       "      <th>0</th>\n",
       "      <td>Moscow</td>\n",
       "      <td>15740</td>\n",
       "      <td>11056</td>\n",
       "      <td>15945</td>\n",
       "    </tr>\n",
       "    <tr>\n",
       "      <th>1</th>\n",
       "      <td>Saint-Petersburg</td>\n",
       "      <td>5614</td>\n",
       "      <td>7003</td>\n",
       "      <td>5895</td>\n",
       "    </tr>\n",
       "  </tbody>\n",
       "</table>\n",
       "</div>"
      ],
      "text/plain": [
       "               city  monday  wednesday  friday\n",
       "0            Moscow   15740      11056   15945\n",
       "1  Saint-Petersburg    5614       7003    5895"
      ]
     },
     "execution_count": 27,
     "metadata": {},
     "output_type": "execute_result"
    }
   ],
   "source": [
    "# таблица c результатами\n",
    "\n",
    "data = [['Moscow', 15740, 11056, 15945],\n",
    "        ['Saint-Petersburg', 5614, 7003, 5895]] \n",
    "\n",
    "columns = ['city','monday','wednesday','friday']\n",
    "\n",
    "pd.DataFrame(data=data, columns=columns) "
   ]
  },
  {
   "cell_type": "markdown",
   "metadata": {
    "id": "-EgPIHYu_Zcu"
   },
   "source": [
    "**Выводы:**\n",
    "\n",
    "Данные показывают разницу поведения пользователей:\n",
    "\n",
    "- В Москве пик прослушиваний приходится на понедельник и пятницу, а в среду заметен спад.\n",
    "- В Петербурге, наоборот, больше слушают музыку по средам. Активность в понедельник и пятницу здесь почти в равной мере уступает среде.\n",
    "\n",
    "Значит, данные говорят в пользу первой гипотезы."
   ]
  },
  {
   "cell_type": "markdown",
   "metadata": {
    "id": "atZAxtq4_Zcu"
   },
   "source": [
    "### Музыка в начале и в конце недели"
   ]
  },
  {
   "cell_type": "markdown",
   "metadata": {
    "id": "eXrQqXFH_Zcu"
   },
   "source": [
    "Согласно второй гипотезе, утром в понедельник в Москве преобладают одни жанры, а в Петербурге — другие. Так же и вечером пятницы преобладают разные жанры — в зависимости от города."
   ]
  },
  {
   "cell_type": "markdown",
   "metadata": {
    "id": "S8UcW6Hw_Zcu"
   },
   "source": [
    "Сохраним таблицы с данными в две переменные:\n",
    "* по Москве — в `moscow_general`;\n",
    "* по Санкт-Петербургу — в `spb_general`."
   ]
  },
  {
   "cell_type": "code",
   "execution_count": 28,
   "metadata": {
    "id": "qeaFfM_P_Zcu"
   },
   "outputs": [],
   "source": [
    "# получение таблицы moscow_general из тех строк таблицы df, \n",
    "# для которых значение в столбце 'city' равно 'Moscow'\n",
    "moscow_general = df[df['city'] == 'Moscow']"
   ]
  },
  {
   "cell_type": "code",
   "execution_count": 29,
   "metadata": {
    "id": "ORaVRKto_Zcu"
   },
   "outputs": [],
   "source": [
    "# получение таблицы spb_general из тех строк таблицы df,\n",
    "# для которых значение в столбце 'city' равно 'Saint-Petersburg'\n",
    "spb_general = df[df['city'] == 'Saint-Petersburg']"
   ]
  },
  {
   "cell_type": "markdown",
   "metadata": {
    "id": "MEJV-CX2_Zcu"
   },
   "source": [
    "Создадим функцию `genre_weekday()` с четырьмя параметрами:\n",
    "* таблица (датафрейм) с данными,\n",
    "* день недели,\n",
    "* начальная временная метка в формате 'hh:mm', \n",
    "* последняя временная метка в формате 'hh:mm'.\n",
    "\n",
    "Функция должна вернуть информацию о топ-10 жанров тех треков, которые прослушивали в указанный день, в промежутке между двумя отметками времени."
   ]
  },
  {
   "cell_type": "code",
   "execution_count": 30,
   "metadata": {
    "id": "laJT9BYl_Zcu"
   },
   "outputs": [],
   "source": [
    "# создаем функцию\n",
    "def genre_weekday(table, day, time1, time2):\n",
    "    genre_df = genre_df = table[(table['day'] == day) & (table['time'] > time1) & (table['time'] < time2)]\n",
    "    genre_df_count = genre_df.groupby('genre')['genre'].count()\n",
    "    genre_df_sorted = genre_df_count.sort_values(ascending=False)\n",
    "    return genre_df_sorted.head(10)"
   ]
  },
  {
   "cell_type": "markdown",
   "metadata": {
    "id": "la2s2_PF_Zcu"
   },
   "source": [
    "Cравним результаты функции `genre_weekday()` для Москвы и Санкт-Петербурга в понедельник утром (с 7:00 до 11:00) и в пятницу вечером (с 17:00 до 23:00):"
   ]
  },
  {
   "cell_type": "code",
   "execution_count": 31,
   "metadata": {
    "id": "yz7itPUQ_Zcu"
   },
   "outputs": [
    {
     "data": {
      "text/plain": [
       "genre\n",
       "pop            781\n",
       "dance          549\n",
       "electronic     480\n",
       "rock           474\n",
       "hiphop         286\n",
       "ruspop         186\n",
       "world          181\n",
       "rusrap         175\n",
       "alternative    164\n",
       "unknown        161\n",
       "Name: genre, dtype: int64"
      ]
     },
     "execution_count": 31,
     "metadata": {},
     "output_type": "execute_result"
    }
   ],
   "source": [
    "# вызов функции для утра понедельника в Москве (вместо df — таблица moscow_general)\n",
    "# объекты, хранящие время, являются строками и сравниваются как строки\n",
    "# пример вызова: genre_weekday(moscow_general, 'Monday', '07:00', '11:00')\n",
    "\n",
    "genre_weekday(moscow_general, 'Monday', '07:00', '11:00')"
   ]
  },
  {
   "cell_type": "code",
   "execution_count": 32,
   "metadata": {
    "id": "kwUcHPdy_Zcu"
   },
   "outputs": [
    {
     "data": {
      "text/plain": [
       "genre\n",
       "pop            218\n",
       "dance          182\n",
       "rock           162\n",
       "electronic     147\n",
       "hiphop          80\n",
       "ruspop          64\n",
       "alternative     58\n",
       "rusrap          55\n",
       "jazz            44\n",
       "classical       40\n",
       "Name: genre, dtype: int64"
      ]
     },
     "execution_count": 32,
     "metadata": {},
     "output_type": "execute_result"
    }
   ],
   "source": [
    "# вызов функции для утра понедельника в Петербурге (вместо df — таблица spb_general)\n",
    "genre_weekday(spb_general, 'Monday', '07:00', '11:00')"
   ]
  },
  {
   "cell_type": "code",
   "execution_count": 33,
   "metadata": {
    "id": "EzXVRE1o_Zcu"
   },
   "outputs": [
    {
     "data": {
      "text/plain": [
       "genre\n",
       "pop            713\n",
       "rock           517\n",
       "dance          495\n",
       "electronic     482\n",
       "hiphop         273\n",
       "world          208\n",
       "ruspop         170\n",
       "alternative    163\n",
       "classical      163\n",
       "rusrap         142\n",
       "Name: genre, dtype: int64"
      ]
     },
     "execution_count": 33,
     "metadata": {},
     "output_type": "execute_result"
    }
   ],
   "source": [
    "# вызов функции для вечера пятницы в Москве\n",
    "genre_weekday(moscow_general, 'Friday', '17:00', '23:00') "
   ]
  },
  {
   "cell_type": "code",
   "execution_count": 34,
   "metadata": {
    "id": "JZaEKu5v_Zcu"
   },
   "outputs": [
    {
     "data": {
      "text/plain": [
       "genre\n",
       "pop            256\n",
       "electronic     216\n",
       "rock           216\n",
       "dance          210\n",
       "hiphop          97\n",
       "alternative     63\n",
       "jazz            61\n",
       "classical       60\n",
       "rusrap          59\n",
       "world           54\n",
       "Name: genre, dtype: int64"
      ]
     },
     "execution_count": 34,
     "metadata": {},
     "output_type": "execute_result"
    }
   ],
   "source": [
    "# вызов функции для вечера пятницы в Петербурге\n",
    "genre_weekday(spb_general, 'Friday', '17:00', '23:00')"
   ]
  },
  {
   "cell_type": "markdown",
   "metadata": {
    "id": "wrCe4MNX_Zcu"
   },
   "source": [
    "**Выводы:**\n",
    "\n",
    "Если сравнить топ-10 жанров в понедельник утром, можно сделать такие выводы:\n",
    "\n",
    "1. В Москве и Петербурге слушают похожую музыку. Единственное отличие — в московский рейтинг вошёл жанр “world”, а в петербургский — джаз и классика.\n",
    "\n",
    "2. В Москве пропущенных значений оказалось так много, что значение `'unknown'` заняло десятое место среди самых популярных жанров. Значит, пропущенные значения занимают существенную долю в данных и угрожают достоверности исследования.\n",
    "\n",
    "Вечер пятницы не меняет эту картину. Некоторые жанры поднимаются немного выше, другие спускаются, но в целом топ-10 остаётся тем же самым.\n",
    "\n",
    "Таким образом, вторая гипотеза подтвердилась лишь частично:\n",
    "* Пользователи слушают похожую музыку в начале недели и в конце.\n",
    "* Разница между Москвой и Петербургом не слишком выражена. В Москве чаще слушают русскую популярную музыку, в Петербурге — джаз.\n",
    "\n",
    "Однако пропуски в данных ставят под сомнение этот результат. В Москве их так много, что рейтинг топ-10 мог бы выглядеть иначе, если бы не утерянные  данные о жанрах."
   ]
  },
  {
   "cell_type": "markdown",
   "metadata": {
    "id": "JolODAqr_Zcu"
   },
   "source": [
    "### Жанровые предпочтения в Москве и Петербурге\n",
    "\n",
    "Гипотеза: *Петербург — столица рэпа, музыку этого жанра там слушают чаще, чем в Москве.  А Москва — город контрастов, в котором, тем не менее, преобладает поп-музыка.*"
   ]
  },
  {
   "cell_type": "markdown",
   "metadata": {
    "id": "DlegSvaT_Zcu"
   },
   "source": [
    "Сгруппируем таблицу `moscow_general` по жанру и посчитаем прослушивания треков каждого жанра методом `count()`. Затем отсортируем результат в порядке убывания и сохраним его в таблице `moscow_genres`."
   ]
  },
  {
   "cell_type": "code",
   "execution_count": 35,
   "metadata": {
    "id": "r19lIPke_Zcu"
   },
   "outputs": [],
   "source": [
    "# одной строкой: группировка таблицы moscow_general по столбцу 'genre', \n",
    "# подсчёт числа значений 'genre' в этой группировке методом count(), \n",
    "# сортировка получившегося Series в порядке убывания и сохранение в moscow_genres\n",
    "\n",
    "moscow_genres = moscow_general.groupby('genre')['genre'].count().sort_values(ascending=False)"
   ]
  },
  {
   "cell_type": "markdown",
   "metadata": {
    "id": "6kMuomxTiIr8"
   },
   "source": [
    "Выведим на экран первые десять строк `moscow_genres`:"
   ]
  },
  {
   "cell_type": "code",
   "execution_count": 36,
   "metadata": {
    "id": "WhCSooF8_Zcv"
   },
   "outputs": [
    {
     "data": {
      "text/plain": [
       "genre\n",
       "pop            5892\n",
       "dance          4435\n",
       "rock           3965\n",
       "electronic     3786\n",
       "hiphop         2096\n",
       "classical      1616\n",
       "world          1432\n",
       "alternative    1379\n",
       "ruspop         1372\n",
       "rusrap         1161\n",
       "Name: genre, dtype: int64"
      ]
     },
     "execution_count": 36,
     "metadata": {},
     "output_type": "execute_result"
    }
   ],
   "source": [
    "# просмотр первых 10 строк moscow_genres\n",
    "moscow_genres.head(10) "
   ]
  },
  {
   "cell_type": "markdown",
   "metadata": {
    "id": "cnPG2vnN_Zcv"
   },
   "source": [
    "Теперь повторим то же и для Петербурга.\n",
    "\n",
    "Сгруппируем таблицу `spb_general` по жанру. Посчитаем прослушивания треков каждого жанра. Результат отсортируем в порядке убывания и сохраним в таблице `spb_genres`:\n"
   ]
  },
  {
   "cell_type": "code",
   "execution_count": 37,
   "metadata": {
    "id": "gluLIpE7_Zcv"
   },
   "outputs": [],
   "source": [
    "# одной строкой: группировка таблицы spb_general по столбцу 'genre', \n",
    "# подсчёт числа значений 'genre' в этой группировке методом count(), \n",
    "# сортировка получившегося Series в порядке убывания и сохранение в spb_genres\n",
    "\n",
    "spb_genres = spb_general.groupby('genre')['genre'].count().sort_values(ascending=False)"
   ]
  },
  {
   "cell_type": "markdown",
   "metadata": {
    "id": "5Doha_ODgyQ8"
   },
   "source": [
    "Выведим на экран первые десять строк `spb_genres`:"
   ]
  },
  {
   "cell_type": "code",
   "execution_count": 38,
   "metadata": {
    "id": "uaGJHjVU_Zcv"
   },
   "outputs": [
    {
     "data": {
      "text/plain": [
       "genre\n",
       "pop            2431\n",
       "dance          1932\n",
       "rock           1879\n",
       "electronic     1736\n",
       "hiphop          960\n",
       "alternative     649\n",
       "classical       646\n",
       "rusrap          564\n",
       "ruspop          538\n",
       "world           515\n",
       "Name: genre, dtype: int64"
      ]
     },
     "execution_count": 38,
     "metadata": {},
     "output_type": "execute_result"
    }
   ],
   "source": [
    "# просмотр первых 10 строк spb_genres\n",
    "spb_genres.head(10)"
   ]
  },
  {
   "cell_type": "markdown",
   "metadata": {
    "id": "RY51YJYu_Zcv"
   },
   "source": [
    "**Выводы:**"
   ]
  },
  {
   "cell_type": "markdown",
   "metadata": {
    "id": "nVhnJEm__Zcv"
   },
   "source": [
    "Гипотеза частично подтвердилась:\n",
    "* Поп-музыка — самый популярный жанр в Москве, как и предполагала гипотеза. Более того, в топ-10 жанров встречается близкий жанр — русская популярная музыка.\n",
    "* Вопреки ожиданиям, рэп одинаково популярен в Москве и Петербурге. \n"
   ]
  },
  {
   "cell_type": "markdown",
   "metadata": {
    "id": "ykKQ0N65_Zcv"
   },
   "source": [
    "## Итоги исследования"
   ]
  },
  {
   "cell_type": "markdown",
   "metadata": {
    "id": "tjUwbHb3_Zcv"
   },
   "source": [
    "<div style=\"border:solid lightseagreen 3px; padding: 20px\">\n",
    "    \n",
    "Проверили три гипотезы и установили:\n",
    "\n",
    "1. День недели по-разному влияет на активность пользователей в Москве и Петербурге. \n",
    "\n",
    "Первая гипотеза полностью подтвердилась.\n",
    "\n",
    "2. Музыкальные предпочтения не сильно меняются в течение недели — будь то Москва или Петербург. Небольшие различия заметны в начале недели, по понедельникам:\n",
    "* в Москве слушают музыку жанра “world”,\n",
    "* в Петербурге — джаз и классику.\n",
    "\n",
    "Таким образом, вторая гипотеза подтвердилась лишь отчасти. Этот результат мог оказаться иным, если бы не пропуски в данных.\n",
    "\n",
    "3. Во вкусах пользователей Москвы и Петербурга больше общего чем различий. Вопреки ожиданиям, предпочтения жанров в Петербурге напоминают московские.\n",
    "\n",
    "Третья гипотеза не подтвердилась. Если различия в предпочтениях и существуют, на основной массе пользователей они незаметны.\n",
    "\n",
    "**На практике исследования содержат проверки статистических гипотез.**\n",
    "Из данных одного сервиса не всегда можно сделать вывод о всех жителях города.\n",
    "Проверки статистических гипотез покажут, насколько они достоверны, исходя из имеющихся данных. \n",
    "С методами проверок гипотез вы ещё познакомитесь в следующих темах.\n",
    "</div>    "
   ]
  }
 ],
 "metadata": {
  "ExecuteTimeLog": [
   {
    "duration": 566,
    "start_time": "2021-12-01T11:16:01.478Z"
   },
   {
    "duration": 4,
    "start_time": "2021-12-01T11:16:41.300Z"
   },
   {
    "duration": 2188,
    "start_time": "2021-12-01T11:18:08.608Z"
   },
   {
    "duration": 144,
    "start_time": "2021-12-01T11:20:11.318Z"
   },
   {
    "duration": 16,
    "start_time": "2021-12-01T11:25:50.214Z"
   },
   {
    "duration": 13,
    "start_time": "2021-12-01T11:26:55.242Z"
   },
   {
    "duration": 24,
    "start_time": "2021-12-01T11:28:50.919Z"
   },
   {
    "duration": 4,
    "start_time": "2021-12-01T12:43:58.551Z"
   },
   {
    "duration": 4,
    "start_time": "2021-12-01T12:51:44.078Z"
   },
   {
    "duration": 22,
    "start_time": "2021-12-01T12:52:22.328Z"
   },
   {
    "duration": 4,
    "start_time": "2021-12-01T12:52:38.428Z"
   },
   {
    "duration": 7,
    "start_time": "2021-12-01T12:52:56.116Z"
   },
   {
    "duration": 3,
    "start_time": "2021-12-01T12:53:17.840Z"
   },
   {
    "duration": 19,
    "start_time": "2021-12-01T12:54:24.609Z"
   },
   {
    "duration": 4,
    "start_time": "2021-12-01T12:54:35.950Z"
   },
   {
    "duration": 26,
    "start_time": "2021-12-01T12:57:02.510Z"
   },
   {
    "duration": 18,
    "start_time": "2021-12-01T13:07:24.350Z"
   },
   {
    "duration": 24,
    "start_time": "2021-12-01T13:07:48.632Z"
   },
   {
    "duration": 56,
    "start_time": "2021-12-01T13:13:47.486Z"
   },
   {
    "duration": 51,
    "start_time": "2021-12-01T13:15:03.290Z"
   },
   {
    "duration": 50,
    "start_time": "2021-12-01T13:15:55.328Z"
   },
   {
    "duration": 59,
    "start_time": "2021-12-01T13:16:13.139Z"
   },
   {
    "duration": 50,
    "start_time": "2021-12-01T13:16:30.740Z"
   },
   {
    "duration": 297,
    "start_time": "2021-12-01T17:30:51.993Z"
   },
   {
    "duration": 278,
    "start_time": "2021-12-01T17:31:29.945Z"
   },
   {
    "duration": 276,
    "start_time": "2021-12-01T17:36:13.276Z"
   },
   {
    "duration": 262,
    "start_time": "2021-12-01T17:36:32.353Z"
   },
   {
    "duration": 242,
    "start_time": "2021-12-01T18:10:31.441Z"
   },
   {
    "duration": 239,
    "start_time": "2021-12-01T18:30:55.693Z"
   },
   {
    "duration": 263,
    "start_time": "2021-12-01T18:31:13.158Z"
   },
   {
    "duration": 234,
    "start_time": "2021-12-01T18:33:11.167Z"
   },
   {
    "duration": 240,
    "start_time": "2021-12-01T18:33:24.271Z"
   },
   {
    "duration": 254,
    "start_time": "2021-12-01T18:34:37.163Z"
   },
   {
    "duration": 236,
    "start_time": "2021-12-01T18:38:13.241Z"
   },
   {
    "duration": 273,
    "start_time": "2021-12-01T18:39:06.605Z"
   },
   {
    "duration": 281,
    "start_time": "2021-12-01T18:45:59.929Z"
   },
   {
    "duration": 238,
    "start_time": "2021-12-01T18:47:17.960Z"
   },
   {
    "duration": 3,
    "start_time": "2021-12-01T18:56:00.405Z"
   },
   {
    "duration": 517,
    "start_time": "2021-12-01T19:01:14.048Z"
   },
   {
    "duration": 698,
    "start_time": "2021-12-01T19:07:45.350Z"
   },
   {
    "duration": 78,
    "start_time": "2021-12-01T19:12:52.093Z"
   },
   {
    "duration": 81,
    "start_time": "2021-12-01T19:14:45.978Z"
   },
   {
    "duration": 85,
    "start_time": "2021-12-01T19:15:14.491Z"
   },
   {
    "duration": 256,
    "start_time": "2021-12-01T19:17:03.557Z"
   },
   {
    "duration": 282,
    "start_time": "2021-12-01T19:21:28.354Z"
   },
   {
    "duration": 237,
    "start_time": "2021-12-01T19:22:50.588Z"
   },
   {
    "duration": 241,
    "start_time": "2021-12-01T19:23:26.940Z"
   },
   {
    "duration": 284,
    "start_time": "2021-12-01T19:25:36.324Z"
   },
   {
    "duration": 243,
    "start_time": "2021-12-01T19:45:13.059Z"
   },
   {
    "duration": 248,
    "start_time": "2021-12-01T19:45:45.246Z"
   },
   {
    "duration": 251,
    "start_time": "2021-12-01T19:46:25.459Z"
   },
   {
    "duration": 268,
    "start_time": "2021-12-01T19:51:38.059Z"
   },
   {
    "duration": 242,
    "start_time": "2021-12-01T19:51:54.041Z"
   },
   {
    "duration": 287,
    "start_time": "2021-12-01T19:57:26.038Z"
   },
   {
    "duration": 77,
    "start_time": "2021-12-01T19:57:51.933Z"
   },
   {
    "duration": 234,
    "start_time": "2021-12-01T19:58:07.875Z"
   },
   {
    "duration": 247,
    "start_time": "2021-12-01T20:13:13.320Z"
   },
   {
    "duration": 583,
    "start_time": "2021-12-01T20:16:19.187Z"
   },
   {
    "duration": 151,
    "start_time": "2021-12-01T20:16:22.054Z"
   },
   {
    "duration": 16,
    "start_time": "2021-12-01T20:16:26.402Z"
   },
   {
    "duration": 25,
    "start_time": "2021-12-01T20:16:29.205Z"
   },
   {
    "duration": 4,
    "start_time": "2021-12-01T20:16:35.266Z"
   },
   {
    "duration": 24,
    "start_time": "2021-12-01T20:16:39.817Z"
   },
   {
    "duration": 4,
    "start_time": "2021-12-01T20:16:46.209Z"
   },
   {
    "duration": 3,
    "start_time": "2021-12-01T20:17:16.860Z"
   },
   {
    "duration": 157,
    "start_time": "2021-12-01T20:17:20.403Z"
   },
   {
    "duration": 11,
    "start_time": "2021-12-01T20:17:23.483Z"
   },
   {
    "duration": 23,
    "start_time": "2021-12-01T20:17:26.773Z"
   },
   {
    "duration": 4,
    "start_time": "2021-12-01T20:17:33.405Z"
   },
   {
    "duration": 24,
    "start_time": "2021-12-01T20:17:36.252Z"
   },
   {
    "duration": 4,
    "start_time": "2021-12-01T20:17:38.728Z"
   },
   {
    "duration": 23,
    "start_time": "2021-12-01T20:17:42.025Z"
   },
   {
    "duration": 17,
    "start_time": "2021-12-01T20:17:47.193Z"
   },
   {
    "duration": 23,
    "start_time": "2021-12-01T20:17:49.867Z"
   },
   {
    "duration": 87,
    "start_time": "2021-12-01T20:17:53.841Z"
   },
   {
    "duration": 63,
    "start_time": "2021-12-01T20:17:56.264Z"
   },
   {
    "duration": 51,
    "start_time": "2021-12-01T20:17:58.782Z"
   },
   {
    "duration": 24,
    "start_time": "2021-12-01T20:18:03.988Z"
   },
   {
    "duration": 295,
    "start_time": "2021-12-01T20:21:27.076Z"
   },
   {
    "duration": 396,
    "start_time": "2021-12-01T20:22:04.718Z"
   },
   {
    "duration": 243,
    "start_time": "2021-12-01T20:30:38.480Z"
   },
   {
    "duration": 7,
    "start_time": "2021-12-01T20:30:53.455Z"
   },
   {
    "duration": 5,
    "start_time": "2021-12-01T20:31:20.609Z"
   },
   {
    "duration": 5,
    "start_time": "2021-12-01T20:31:26.594Z"
   },
   {
    "duration": 480,
    "start_time": "2021-12-01T20:34:22.653Z"
   },
   {
    "duration": 6,
    "start_time": "2021-12-01T20:34:34.809Z"
   },
   {
    "duration": 3,
    "start_time": "2021-12-01T20:34:38.416Z"
   },
   {
    "duration": 10,
    "start_time": "2021-12-01T20:35:22.862Z"
   },
   {
    "duration": 7,
    "start_time": "2021-12-01T20:35:56.075Z"
   },
   {
    "duration": 8,
    "start_time": "2021-12-01T20:36:31.026Z"
   },
   {
    "duration": 296,
    "start_time": "2021-12-01T20:45:20.202Z"
   },
   {
    "duration": 282,
    "start_time": "2021-12-01T20:45:40.076Z"
   },
   {
    "duration": 6,
    "start_time": "2021-12-01T20:45:58.625Z"
   },
   {
    "duration": 450,
    "start_time": "2021-12-02T07:56:32.741Z"
   },
   {
    "duration": 757,
    "start_time": "2021-12-02T07:56:48.488Z"
   },
   {
    "duration": 180,
    "start_time": "2021-12-02T07:56:51.887Z"
   },
   {
    "duration": 25,
    "start_time": "2021-12-02T07:56:54.618Z"
   },
   {
    "duration": 33,
    "start_time": "2021-12-02T07:56:59.771Z"
   },
   {
    "duration": 4,
    "start_time": "2021-12-02T07:57:06.443Z"
   },
   {
    "duration": 26,
    "start_time": "2021-12-02T07:57:10.450Z"
   },
   {
    "duration": 4,
    "start_time": "2021-12-02T07:57:12.103Z"
   },
   {
    "duration": 29,
    "start_time": "2021-12-02T07:57:14.475Z"
   },
   {
    "duration": 23,
    "start_time": "2021-12-02T07:57:19.362Z"
   },
   {
    "duration": 31,
    "start_time": "2021-12-02T07:57:21.391Z"
   },
   {
    "duration": 82,
    "start_time": "2021-12-02T07:57:25.806Z"
   },
   {
    "duration": 97,
    "start_time": "2021-12-02T07:57:28.662Z"
   },
   {
    "duration": 85,
    "start_time": "2021-12-02T07:57:31.014Z"
   },
   {
    "duration": 8,
    "start_time": "2021-12-02T07:57:36.808Z"
   },
   {
    "duration": 5,
    "start_time": "2021-12-02T07:57:38.892Z"
   },
   {
    "duration": 14,
    "start_time": "2021-12-02T07:57:42.625Z"
   },
   {
    "duration": 8,
    "start_time": "2021-12-02T07:57:44.781Z"
   },
   {
    "duration": 17,
    "start_time": "2021-12-02T07:57:52.611Z"
   },
   {
    "duration": 15,
    "start_time": "2021-12-02T08:00:51.782Z"
   },
   {
    "duration": 16,
    "start_time": "2021-12-02T08:05:45.867Z"
   },
   {
    "duration": 58,
    "start_time": "2021-12-02T08:12:26.963Z"
   },
   {
    "duration": 16,
    "start_time": "2021-12-02T08:13:19.001Z"
   },
   {
    "duration": 14,
    "start_time": "2021-12-02T08:27:29.523Z"
   },
   {
    "duration": 39,
    "start_time": "2021-12-02T08:44:11.865Z"
   },
   {
    "duration": 30,
    "start_time": "2021-12-02T08:44:28.717Z"
   },
   {
    "duration": 15,
    "start_time": "2021-12-02T08:44:37.251Z"
   },
   {
    "duration": 15,
    "start_time": "2021-12-02T08:45:24.897Z"
   },
   {
    "duration": 37,
    "start_time": "2021-12-02T08:57:20.983Z"
   },
   {
    "duration": 35,
    "start_time": "2021-12-02T08:59:37.972Z"
   },
   {
    "duration": 35,
    "start_time": "2021-12-02T08:59:56.664Z"
   },
   {
    "duration": 15,
    "start_time": "2021-12-02T09:00:08.126Z"
   },
   {
    "duration": 37,
    "start_time": "2021-12-02T09:01:28.827Z"
   },
   {
    "duration": 1038,
    "start_time": "2021-12-02T09:04:47.809Z"
   },
   {
    "duration": 1643,
    "start_time": "2021-12-02T09:05:39.536Z"
   },
   {
    "duration": 1242,
    "start_time": "2021-12-02T09:06:55.876Z"
   },
   {
    "duration": 1130,
    "start_time": "2021-12-02T09:07:15.204Z"
   },
   {
    "duration": 1279,
    "start_time": "2021-12-02T09:07:49.389Z"
   },
   {
    "duration": 3,
    "start_time": "2021-12-02T09:07:59.931Z"
   },
   {
    "duration": 184,
    "start_time": "2021-12-02T09:08:01.927Z"
   },
   {
    "duration": 17,
    "start_time": "2021-12-02T09:08:04.247Z"
   },
   {
    "duration": 34,
    "start_time": "2021-12-02T09:08:07.069Z"
   },
   {
    "duration": 5,
    "start_time": "2021-12-02T09:08:12.340Z"
   },
   {
    "duration": 19,
    "start_time": "2021-12-02T09:08:14.789Z"
   },
   {
    "duration": 5,
    "start_time": "2021-12-02T09:08:16.686Z"
   },
   {
    "duration": 29,
    "start_time": "2021-12-02T09:08:18.656Z"
   },
   {
    "duration": 22,
    "start_time": "2021-12-02T09:08:22.698Z"
   },
   {
    "duration": 28,
    "start_time": "2021-12-02T09:08:25.528Z"
   },
   {
    "duration": 78,
    "start_time": "2021-12-02T09:08:28.444Z"
   },
   {
    "duration": 103,
    "start_time": "2021-12-02T09:08:30.356Z"
   },
   {
    "duration": 72,
    "start_time": "2021-12-02T09:08:32.481Z"
   },
   {
    "duration": 8,
    "start_time": "2021-12-02T09:08:35.831Z"
   },
   {
    "duration": 4,
    "start_time": "2021-12-02T09:08:38.006Z"
   },
   {
    "duration": 15,
    "start_time": "2021-12-02T09:08:39.864Z"
   },
   {
    "duration": 8,
    "start_time": "2021-12-02T09:08:42.245Z"
   },
   {
    "duration": 1072,
    "start_time": "2021-12-02T09:08:48.895Z"
   },
   {
    "duration": 47,
    "start_time": "2021-12-02T09:10:49.877Z"
   },
   {
    "duration": 36,
    "start_time": "2021-12-02T09:13:29.897Z"
   },
   {
    "duration": 39,
    "start_time": "2021-12-02T09:13:36.944Z"
   },
   {
    "duration": 35,
    "start_time": "2021-12-02T09:13:42.566Z"
   },
   {
    "duration": 37,
    "start_time": "2021-12-02T09:13:52.204Z"
   },
   {
    "duration": 21,
    "start_time": "2021-12-02T09:15:07.521Z"
   },
   {
    "duration": 38,
    "start_time": "2021-12-02T09:16:11.589Z"
   },
   {
    "duration": 20,
    "start_time": "2021-12-02T09:20:17.593Z"
   },
   {
    "duration": 425,
    "start_time": "2021-12-02T11:28:56.259Z"
   },
   {
    "duration": 587,
    "start_time": "2021-12-02T11:30:02.850Z"
   },
   {
    "duration": 4,
    "start_time": "2021-12-02T11:30:12.891Z"
   },
   {
    "duration": 198,
    "start_time": "2021-12-02T11:30:14.585Z"
   },
   {
    "duration": 16,
    "start_time": "2021-12-02T11:30:16.584Z"
   },
   {
    "duration": 32,
    "start_time": "2021-12-02T11:30:18.508Z"
   },
   {
    "duration": 5,
    "start_time": "2021-12-02T11:30:22.547Z"
   },
   {
    "duration": 23,
    "start_time": "2021-12-02T11:30:24.085Z"
   },
   {
    "duration": 4,
    "start_time": "2021-12-02T11:30:25.849Z"
   },
   {
    "duration": 32,
    "start_time": "2021-12-02T11:30:27.313Z"
   },
   {
    "duration": 24,
    "start_time": "2021-12-02T11:30:29.370Z"
   },
   {
    "duration": 31,
    "start_time": "2021-12-02T11:30:30.763Z"
   },
   {
    "duration": 81,
    "start_time": "2021-12-02T11:30:32.195Z"
   },
   {
    "duration": 94,
    "start_time": "2021-12-02T11:30:33.708Z"
   },
   {
    "duration": 77,
    "start_time": "2021-12-02T11:30:35.146Z"
   },
   {
    "duration": 8,
    "start_time": "2021-12-02T11:30:38.530Z"
   },
   {
    "duration": 5,
    "start_time": "2021-12-02T11:30:40.183Z"
   },
   {
    "duration": 14,
    "start_time": "2021-12-02T11:30:41.892Z"
   },
   {
    "duration": 7,
    "start_time": "2021-12-02T11:30:43.554Z"
   },
   {
    "duration": 44,
    "start_time": "2021-12-02T11:30:48.620Z"
   },
   {
    "duration": 17,
    "start_time": "2021-12-02T11:30:50.553Z"
   },
   {
    "duration": 393,
    "start_time": "2021-12-02T11:30:53.945Z"
   },
   {
    "duration": 402,
    "start_time": "2021-12-02T11:52:03.623Z"
   },
   {
    "duration": 5,
    "start_time": "2021-12-02T11:56:53.637Z"
   },
   {
    "duration": 4,
    "start_time": "2021-12-02T11:57:00.476Z"
   },
   {
    "duration": 444,
    "start_time": "2021-12-02T11:57:13.374Z"
   },
   {
    "duration": 5,
    "start_time": "2021-12-02T11:57:59.087Z"
   },
   {
    "duration": 5,
    "start_time": "2021-12-02T11:58:05.840Z"
   },
   {
    "duration": 6,
    "start_time": "2021-12-02T11:58:11.110Z"
   },
   {
    "duration": 5,
    "start_time": "2021-12-02T11:58:36.692Z"
   },
   {
    "duration": 5,
    "start_time": "2021-12-02T11:58:40.554Z"
   },
   {
    "duration": 4,
    "start_time": "2021-12-02T11:58:43.388Z"
   },
   {
    "duration": 520,
    "start_time": "2021-12-02T12:13:34.150Z"
   },
   {
    "duration": 4,
    "start_time": "2021-12-02T12:13:50.556Z"
   },
   {
    "duration": 190,
    "start_time": "2021-12-02T12:13:52.056Z"
   },
   {
    "duration": 17,
    "start_time": "2021-12-02T12:13:53.575Z"
   },
   {
    "duration": 34,
    "start_time": "2021-12-02T12:13:55.315Z"
   },
   {
    "duration": 6,
    "start_time": "2021-12-02T12:13:58.808Z"
   },
   {
    "duration": 26,
    "start_time": "2021-12-02T12:14:00.207Z"
   },
   {
    "duration": 6,
    "start_time": "2021-12-02T12:14:01.487Z"
   },
   {
    "duration": 29,
    "start_time": "2021-12-02T12:14:02.927Z"
   },
   {
    "duration": 22,
    "start_time": "2021-12-02T12:14:05.228Z"
   },
   {
    "duration": 29,
    "start_time": "2021-12-02T12:14:06.519Z"
   },
   {
    "duration": 90,
    "start_time": "2021-12-02T12:14:08.960Z"
   },
   {
    "duration": 99,
    "start_time": "2021-12-02T12:14:12.462Z"
   },
   {
    "duration": 82,
    "start_time": "2021-12-02T12:14:14.212Z"
   },
   {
    "duration": 9,
    "start_time": "2021-12-02T12:14:16.704Z"
   },
   {
    "duration": 4,
    "start_time": "2021-12-02T12:14:18.404Z"
   },
   {
    "duration": 16,
    "start_time": "2021-12-02T12:14:20.073Z"
   },
   {
    "duration": 7,
    "start_time": "2021-12-02T12:14:23.633Z"
   },
   {
    "duration": 45,
    "start_time": "2021-12-02T12:14:27.006Z"
   },
   {
    "duration": 21,
    "start_time": "2021-12-02T12:14:28.987Z"
   },
   {
    "duration": 762,
    "start_time": "2021-12-02T12:14:34.913Z"
   },
   {
    "duration": 475,
    "start_time": "2021-12-02T12:15:13.685Z"
   },
   {
    "duration": 425,
    "start_time": "2021-12-02T12:17:03.325Z"
   },
   {
    "duration": 401,
    "start_time": "2021-12-02T12:17:40.480Z"
   },
   {
    "duration": 407,
    "start_time": "2021-12-02T12:17:55.461Z"
   },
   {
    "duration": 414,
    "start_time": "2021-12-02T12:18:54.828Z"
   },
   {
    "duration": 418,
    "start_time": "2021-12-02T12:19:09.319Z"
   },
   {
    "duration": 519,
    "start_time": "2021-12-02T12:26:28.598Z"
   },
   {
    "duration": 6,
    "start_time": "2021-12-02T12:28:42.037Z"
   },
   {
    "duration": 5,
    "start_time": "2021-12-02T12:28:46.602Z"
   },
   {
    "duration": 5,
    "start_time": "2021-12-02T12:28:50.854Z"
   },
   {
    "duration": 4,
    "start_time": "2021-12-02T12:29:08.028Z"
   },
   {
    "duration": 203,
    "start_time": "2021-12-02T12:29:09.942Z"
   },
   {
    "duration": 16,
    "start_time": "2021-12-02T12:29:11.879Z"
   },
   {
    "duration": 34,
    "start_time": "2021-12-02T12:29:13.689Z"
   },
   {
    "duration": 5,
    "start_time": "2021-12-02T12:29:17.496Z"
   },
   {
    "duration": 31,
    "start_time": "2021-12-02T12:29:19.056Z"
   },
   {
    "duration": 6,
    "start_time": "2021-12-02T12:29:20.549Z"
   },
   {
    "duration": 44,
    "start_time": "2021-12-02T12:29:22.256Z"
   },
   {
    "duration": 24,
    "start_time": "2021-12-02T12:29:25.199Z"
   },
   {
    "duration": 30,
    "start_time": "2021-12-02T12:29:26.925Z"
   },
   {
    "duration": 92,
    "start_time": "2021-12-02T12:29:28.709Z"
   },
   {
    "duration": 103,
    "start_time": "2021-12-02T12:29:30.572Z"
   },
   {
    "duration": 79,
    "start_time": "2021-12-02T12:29:32.203Z"
   },
   {
    "duration": 10,
    "start_time": "2021-12-02T12:29:35.045Z"
   },
   {
    "duration": 4,
    "start_time": "2021-12-02T12:29:37.120Z"
   },
   {
    "duration": 14,
    "start_time": "2021-12-02T12:29:38.816Z"
   },
   {
    "duration": 7,
    "start_time": "2021-12-02T12:29:40.522Z"
   },
   {
    "duration": 49,
    "start_time": "2021-12-02T12:29:47.859Z"
   },
   {
    "duration": 32,
    "start_time": "2021-12-02T12:29:49.660Z"
   },
   {
    "duration": 5,
    "start_time": "2021-12-02T12:29:52.680Z"
   },
   {
    "duration": 5,
    "start_time": "2021-12-02T12:29:57.731Z"
   },
   {
    "duration": 6,
    "start_time": "2021-12-02T12:30:06.352Z"
   },
   {
    "duration": 6,
    "start_time": "2021-12-02T12:31:00.591Z"
   },
   {
    "duration": 6,
    "start_time": "2021-12-02T12:31:40.457Z"
   },
   {
    "duration": 5,
    "start_time": "2021-12-02T12:31:44.732Z"
   },
   {
    "duration": 5,
    "start_time": "2021-12-02T12:34:54.728Z"
   },
   {
    "duration": 4,
    "start_time": "2021-12-02T12:36:23.946Z"
   },
   {
    "duration": 6,
    "start_time": "2021-12-02T12:53:16.489Z"
   },
   {
    "duration": 5,
    "start_time": "2021-12-02T12:53:23.946Z"
   },
   {
    "duration": 5,
    "start_time": "2021-12-02T12:53:28.035Z"
   },
   {
    "duration": 5,
    "start_time": "2021-12-02T12:53:30.408Z"
   },
   {
    "duration": 5,
    "start_time": "2021-12-02T12:53:37.321Z"
   },
   {
    "duration": 6,
    "start_time": "2021-12-02T12:53:43.672Z"
   },
   {
    "duration": 410,
    "start_time": "2021-12-02T13:04:25.273Z"
   },
   {
    "duration": 4,
    "start_time": "2021-12-02T13:17:13.825Z"
   },
   {
    "duration": 6,
    "start_time": "2021-12-02T13:17:16.842Z"
   },
   {
    "duration": 4,
    "start_time": "2021-12-02T13:17:20.286Z"
   },
   {
    "duration": 3,
    "start_time": "2021-12-02T13:17:58.600Z"
   },
   {
    "duration": 204,
    "start_time": "2021-12-02T13:18:00.329Z"
   },
   {
    "duration": 16,
    "start_time": "2021-12-02T13:18:01.928Z"
   },
   {
    "duration": 33,
    "start_time": "2021-12-02T13:18:03.572Z"
   },
   {
    "duration": 4,
    "start_time": "2021-12-02T13:18:07.040Z"
   },
   {
    "duration": 23,
    "start_time": "2021-12-02T13:18:08.495Z"
   },
   {
    "duration": 5,
    "start_time": "2021-12-02T13:18:09.851Z"
   },
   {
    "duration": 30,
    "start_time": "2021-12-02T13:18:11.124Z"
   },
   {
    "duration": 22,
    "start_time": "2021-12-02T13:18:13.704Z"
   },
   {
    "duration": 38,
    "start_time": "2021-12-02T13:18:15.136Z"
   },
   {
    "duration": 98,
    "start_time": "2021-12-02T13:18:16.655Z"
   },
   {
    "duration": 96,
    "start_time": "2021-12-02T13:18:18.390Z"
   },
   {
    "duration": 85,
    "start_time": "2021-12-02T13:18:19.803Z"
   },
   {
    "duration": 7,
    "start_time": "2021-12-02T13:18:22.111Z"
   },
   {
    "duration": 4,
    "start_time": "2021-12-02T13:18:23.646Z"
   },
   {
    "duration": 15,
    "start_time": "2021-12-02T13:18:25.121Z"
   },
   {
    "duration": 8,
    "start_time": "2021-12-02T13:18:26.700Z"
   },
   {
    "duration": 51,
    "start_time": "2021-12-02T13:18:31.655Z"
   },
   {
    "duration": 18,
    "start_time": "2021-12-02T13:18:33.727Z"
   },
   {
    "duration": 5,
    "start_time": "2021-12-02T13:18:57.776Z"
   },
   {
    "duration": 404,
    "start_time": "2021-12-02T13:19:06.511Z"
   },
   {
    "duration": 508,
    "start_time": "2021-12-02T13:19:11.993Z"
   },
   {
    "duration": 412,
    "start_time": "2021-12-02T13:19:18.471Z"
   },
   {
    "duration": 572,
    "start_time": "2021-12-02T13:20:25.289Z"
   },
   {
    "duration": 651,
    "start_time": "2021-12-02T13:20:54.740Z"
   },
   {
    "duration": 429,
    "start_time": "2021-12-02T13:21:48.688Z"
   },
   {
    "duration": 412,
    "start_time": "2021-12-02T13:22:48.519Z"
   },
   {
    "duration": 6,
    "start_time": "2021-12-02T13:42:08.075Z"
   },
   {
    "duration": 5,
    "start_time": "2021-12-02T13:42:12.317Z"
   },
   {
    "duration": 5,
    "start_time": "2021-12-02T13:42:18.118Z"
   },
   {
    "duration": 6,
    "start_time": "2021-12-02T17:26:40.767Z"
   },
   {
    "duration": 326,
    "start_time": "2021-12-02T17:51:56.560Z"
   },
   {
    "duration": 289,
    "start_time": "2021-12-02T18:03:30.644Z"
   },
   {
    "duration": 784,
    "start_time": "2021-12-02T18:04:02.299Z"
   },
   {
    "duration": 202,
    "start_time": "2021-12-02T18:04:04.954Z"
   },
   {
    "duration": 26,
    "start_time": "2021-12-02T18:04:06.902Z"
   },
   {
    "duration": 35,
    "start_time": "2021-12-02T18:04:08.615Z"
   },
   {
    "duration": 5,
    "start_time": "2021-12-02T18:04:12.439Z"
   },
   {
    "duration": 41,
    "start_time": "2021-12-02T18:04:13.825Z"
   },
   {
    "duration": 6,
    "start_time": "2021-12-02T18:04:15.236Z"
   },
   {
    "duration": 29,
    "start_time": "2021-12-02T18:04:16.622Z"
   },
   {
    "duration": 23,
    "start_time": "2021-12-02T18:04:18.919Z"
   },
   {
    "duration": 29,
    "start_time": "2021-12-02T18:04:20.945Z"
   },
   {
    "duration": 88,
    "start_time": "2021-12-02T18:04:21.922Z"
   },
   {
    "duration": 107,
    "start_time": "2021-12-02T18:04:23.340Z"
   },
   {
    "duration": 79,
    "start_time": "2021-12-02T18:04:24.967Z"
   },
   {
    "duration": 7,
    "start_time": "2021-12-02T18:04:27.123Z"
   },
   {
    "duration": 4,
    "start_time": "2021-12-02T18:04:28.747Z"
   },
   {
    "duration": 19,
    "start_time": "2021-12-02T18:04:30.253Z"
   },
   {
    "duration": 12,
    "start_time": "2021-12-02T18:04:31.923Z"
   },
   {
    "duration": 37,
    "start_time": "2021-12-02T18:04:36.757Z"
   },
   {
    "duration": 17,
    "start_time": "2021-12-02T18:04:38.549Z"
   },
   {
    "duration": 5,
    "start_time": "2021-12-02T18:04:41.401Z"
   },
   {
    "duration": 102,
    "start_time": "2021-12-02T18:04:43.280Z"
   },
   {
    "duration": 2,
    "start_time": "2021-12-02T18:04:44.194Z"
   },
   {
    "duration": 3,
    "start_time": "2021-12-02T18:04:45.022Z"
   },
   {
    "duration": 3,
    "start_time": "2021-12-02T18:04:46.005Z"
   },
   {
    "duration": 4,
    "start_time": "2021-12-02T18:04:46.450Z"
   },
   {
    "duration": 3,
    "start_time": "2021-12-02T18:04:47.177Z"
   },
   {
    "duration": 318,
    "start_time": "2021-12-02T18:04:48.825Z"
   },
   {
    "duration": 16,
    "start_time": "2021-12-02T18:04:54.571Z"
   },
   {
    "duration": 12,
    "start_time": "2021-12-02T18:04:55.427Z"
   },
   {
    "duration": 3,
    "start_time": "2021-12-02T18:04:59.245Z"
   },
   {
    "duration": 35,
    "start_time": "2021-12-02T18:06:10.723Z"
   },
   {
    "duration": 17,
    "start_time": "2021-12-02T18:06:44.274Z"
   },
   {
    "duration": 5,
    "start_time": "2021-12-02T18:43:07.482Z"
   },
   {
    "duration": 6,
    "start_time": "2021-12-02T18:43:10.349Z"
   },
   {
    "duration": 5,
    "start_time": "2021-12-02T18:46:40.662Z"
   },
   {
    "duration": 6,
    "start_time": "2021-12-02T18:46:43.840Z"
   },
   {
    "duration": 6,
    "start_time": "2021-12-02T18:47:11.454Z"
   },
   {
    "duration": 5,
    "start_time": "2021-12-02T18:47:14.261Z"
   },
   {
    "duration": 3,
    "start_time": "2021-12-02T18:47:26.216Z"
   },
   {
    "duration": 195,
    "start_time": "2021-12-02T18:47:27.921Z"
   },
   {
    "duration": 16,
    "start_time": "2021-12-02T18:47:29.338Z"
   },
   {
    "duration": 31,
    "start_time": "2021-12-02T18:47:30.767Z"
   },
   {
    "duration": 5,
    "start_time": "2021-12-02T18:47:34.660Z"
   },
   {
    "duration": 28,
    "start_time": "2021-12-02T18:47:36.008Z"
   },
   {
    "duration": 5,
    "start_time": "2021-12-02T18:47:37.310Z"
   },
   {
    "duration": 29,
    "start_time": "2021-12-02T18:47:40.513Z"
   },
   {
    "duration": 22,
    "start_time": "2021-12-02T18:47:43.013Z"
   },
   {
    "duration": 33,
    "start_time": "2021-12-02T18:47:44.440Z"
   },
   {
    "duration": 87,
    "start_time": "2021-12-02T18:47:46.476Z"
   },
   {
    "duration": 112,
    "start_time": "2021-12-02T18:47:48.348Z"
   },
   {
    "duration": 87,
    "start_time": "2021-12-02T18:47:49.838Z"
   },
   {
    "duration": 7,
    "start_time": "2021-12-02T18:47:52.517Z"
   },
   {
    "duration": 4,
    "start_time": "2021-12-02T18:47:54.114Z"
   },
   {
    "duration": 14,
    "start_time": "2021-12-02T18:47:55.664Z"
   },
   {
    "duration": 8,
    "start_time": "2021-12-02T18:47:57.240Z"
   },
   {
    "duration": 41,
    "start_time": "2021-12-02T18:48:01.824Z"
   },
   {
    "duration": 17,
    "start_time": "2021-12-02T18:48:03.978Z"
   },
   {
    "duration": 5,
    "start_time": "2021-12-02T18:48:06.224Z"
   },
   {
    "duration": 104,
    "start_time": "2021-12-02T18:48:07.851Z"
   },
   {
    "duration": 3,
    "start_time": "2021-12-02T18:48:08.878Z"
   },
   {
    "duration": 4,
    "start_time": "2021-12-02T18:48:09.562Z"
   },
   {
    "duration": 3,
    "start_time": "2021-12-02T18:48:10.312Z"
   },
   {
    "duration": 3,
    "start_time": "2021-12-02T18:48:10.960Z"
   },
   {
    "duration": 4,
    "start_time": "2021-12-02T18:48:11.575Z"
   },
   {
    "duration": 268,
    "start_time": "2021-12-02T18:48:13.166Z"
   },
   {
    "duration": 21,
    "start_time": "2021-12-02T18:48:17.532Z"
   },
   {
    "duration": 17,
    "start_time": "2021-12-02T18:48:18.320Z"
   },
   {
    "duration": 5,
    "start_time": "2021-12-02T18:48:22.048Z"
   },
   {
    "duration": 5,
    "start_time": "2021-12-02T18:48:26.820Z"
   },
   {
    "duration": 5,
    "start_time": "2021-12-02T18:48:37.206Z"
   },
   {
    "duration": 5,
    "start_time": "2021-12-02T18:48:52.660Z"
   },
   {
    "duration": 26,
    "start_time": "2021-12-02T18:51:56.328Z"
   },
   {
    "duration": 31,
    "start_time": "2021-12-02T18:53:00.385Z"
   },
   {
    "duration": 23,
    "start_time": "2021-12-02T18:53:05.541Z"
   },
   {
    "duration": 24,
    "start_time": "2021-12-02T18:54:31.880Z"
   },
   {
    "duration": 24,
    "start_time": "2021-12-02T18:55:54.236Z"
   },
   {
    "duration": 25,
    "start_time": "2021-12-02T18:56:08.934Z"
   },
   {
    "duration": 6,
    "start_time": "2021-12-02T18:56:24.723Z"
   },
   {
    "duration": 23,
    "start_time": "2021-12-02T18:56:27.048Z"
   },
   {
    "duration": 26,
    "start_time": "2021-12-02T18:56:30.160Z"
   },
   {
    "duration": 18,
    "start_time": "2021-12-02T18:58:13.095Z"
   },
   {
    "duration": 25,
    "start_time": "2021-12-02T18:59:07.163Z"
   },
   {
    "duration": 17,
    "start_time": "2021-12-02T18:59:43.212Z"
   },
   {
    "duration": 896,
    "start_time": "2021-12-02T19:06:55.072Z"
   },
   {
    "duration": 274,
    "start_time": "2021-12-02T19:09:07.377Z"
   },
   {
    "duration": 281,
    "start_time": "2021-12-02T19:09:59.696Z"
   },
   {
    "duration": 16,
    "start_time": "2021-12-02T19:11:03.259Z"
   },
   {
    "duration": 817,
    "start_time": "2021-12-02T19:13:30.484Z"
   },
   {
    "duration": 278,
    "start_time": "2021-12-02T19:14:51.016Z"
   },
   {
    "duration": 17,
    "start_time": "2021-12-02T19:15:13.006Z"
   },
   {
    "duration": 278,
    "start_time": "2021-12-02T19:15:42.116Z"
   },
   {
    "duration": 16,
    "start_time": "2021-12-02T19:16:45.765Z"
   },
   {
    "duration": 17,
    "start_time": "2021-12-02T19:17:57.260Z"
   },
   {
    "duration": 16,
    "start_time": "2021-12-02T19:18:10.315Z"
   },
   {
    "duration": 725,
    "start_time": "2021-12-02T19:19:08.573Z"
   },
   {
    "duration": 730,
    "start_time": "2021-12-02T19:20:01.124Z"
   },
   {
    "duration": 732,
    "start_time": "2021-12-02T19:20:36.136Z"
   },
   {
    "duration": 19,
    "start_time": "2021-12-02T19:20:54.071Z"
   },
   {
    "duration": 292,
    "start_time": "2021-12-02T19:22:12.514Z"
   },
   {
    "duration": 289,
    "start_time": "2021-12-02T19:23:38.844Z"
   },
   {
    "duration": 312,
    "start_time": "2021-12-02T19:23:55.263Z"
   },
   {
    "duration": 320,
    "start_time": "2021-12-02T19:24:25.002Z"
   },
   {
    "duration": 5,
    "start_time": "2021-12-02T19:24:30.674Z"
   },
   {
    "duration": 4,
    "start_time": "2021-12-02T19:25:01.188Z"
   },
   {
    "duration": 192,
    "start_time": "2021-12-02T19:25:03.213Z"
   },
   {
    "duration": 16,
    "start_time": "2021-12-02T19:25:04.684Z"
   },
   {
    "duration": 34,
    "start_time": "2021-12-02T19:25:06.125Z"
   },
   {
    "duration": 4,
    "start_time": "2021-12-02T19:25:10.114Z"
   },
   {
    "duration": 22,
    "start_time": "2021-12-02T19:25:11.489Z"
   },
   {
    "duration": 5,
    "start_time": "2021-12-02T19:25:12.764Z"
   },
   {
    "duration": 30,
    "start_time": "2021-12-02T19:25:14.049Z"
   },
   {
    "duration": 26,
    "start_time": "2021-12-02T19:25:16.122Z"
   },
   {
    "duration": 30,
    "start_time": "2021-12-02T19:25:17.468Z"
   },
   {
    "duration": 84,
    "start_time": "2021-12-02T19:25:20.616Z"
   },
   {
    "duration": 103,
    "start_time": "2021-12-02T19:25:22.321Z"
   },
   {
    "duration": 78,
    "start_time": "2021-12-02T19:25:23.756Z"
   },
   {
    "duration": 7,
    "start_time": "2021-12-02T19:25:25.917Z"
   },
   {
    "duration": 4,
    "start_time": "2021-12-02T19:25:27.514Z"
   },
   {
    "duration": 13,
    "start_time": "2021-12-02T19:25:28.865Z"
   },
   {
    "duration": 8,
    "start_time": "2021-12-02T19:25:30.506Z"
   },
   {
    "duration": 40,
    "start_time": "2021-12-02T19:25:34.767Z"
   },
   {
    "duration": 17,
    "start_time": "2021-12-02T19:25:37.754Z"
   },
   {
    "duration": 5,
    "start_time": "2021-12-02T19:25:40.137Z"
   },
   {
    "duration": 17,
    "start_time": "2021-12-02T19:25:42.805Z"
   },
   {
    "duration": 308,
    "start_time": "2021-12-02T19:25:44.430Z"
   },
   {
    "duration": 16,
    "start_time": "2021-12-02T19:25:47.791Z"
   },
   {
    "duration": 291,
    "start_time": "2021-12-02T19:25:50.768Z"
   },
   {
    "duration": 283,
    "start_time": "2021-12-02T19:26:23.415Z"
   },
   {
    "duration": 17,
    "start_time": "2021-12-02T19:26:41.271Z"
   },
   {
    "duration": 17,
    "start_time": "2021-12-02T19:26:50.560Z"
   },
   {
    "duration": 18,
    "start_time": "2021-12-02T19:27:22.051Z"
   },
   {
    "duration": 266,
    "start_time": "2021-12-02T19:31:52.168Z"
   },
   {
    "duration": 336,
    "start_time": "2021-12-02T19:34:51.561Z"
   },
   {
    "duration": 5,
    "start_time": "2021-12-02T19:35:06.103Z"
   },
   {
    "duration": 18,
    "start_time": "2021-12-02T19:35:28.365Z"
   },
   {
    "duration": 280,
    "start_time": "2021-12-02T19:35:44.114Z"
   },
   {
    "duration": 17,
    "start_time": "2021-12-02T19:36:01.407Z"
   },
   {
    "duration": 11,
    "start_time": "2021-12-02T19:59:25.067Z"
   },
   {
    "duration": 11,
    "start_time": "2021-12-02T19:59:30.468Z"
   },
   {
    "duration": 6,
    "start_time": "2021-12-02T20:00:41.789Z"
   },
   {
    "duration": 9,
    "start_time": "2021-12-02T20:01:04.191Z"
   },
   {
    "duration": 12,
    "start_time": "2021-12-02T20:01:38.366Z"
   },
   {
    "duration": 5,
    "start_time": "2021-12-02T20:01:42.613Z"
   },
   {
    "duration": 9,
    "start_time": "2021-12-02T20:03:13.397Z"
   },
   {
    "duration": 5,
    "start_time": "2021-12-02T20:03:38.295Z"
   },
   {
    "duration": 9,
    "start_time": "2021-12-02T20:04:07.064Z"
   },
   {
    "duration": 6,
    "start_time": "2021-12-02T20:04:21.322Z"
   },
   {
    "duration": 16,
    "start_time": "2021-12-02T20:19:18.807Z"
   },
   {
    "duration": 267,
    "start_time": "2021-12-02T20:26:22.146Z"
   },
   {
    "duration": 16,
    "start_time": "2021-12-02T20:26:41.195Z"
   },
   {
    "duration": 15,
    "start_time": "2021-12-02T20:28:45.676Z"
   },
   {
    "duration": 17,
    "start_time": "2021-12-02T20:28:47.766Z"
   },
   {
    "duration": 16,
    "start_time": "2021-12-02T20:28:50.270Z"
   },
   {
    "duration": 282,
    "start_time": "2021-12-02T20:28:58.180Z"
   },
   {
    "duration": 5,
    "start_time": "2021-12-02T20:31:19.452Z"
   },
   {
    "duration": 545,
    "start_time": "2021-12-02T20:31:21.837Z"
   },
   {
    "duration": 630,
    "start_time": "2021-12-02T20:31:26.334Z"
   },
   {
    "duration": 6,
    "start_time": "2021-12-02T20:33:13.380Z"
   },
   {
    "duration": 57,
    "start_time": "2021-12-02T20:33:15.642Z"
   },
   {
    "duration": 5,
    "start_time": "2021-12-02T20:33:49.263Z"
   },
   {
    "duration": 53,
    "start_time": "2021-12-02T20:33:52.251Z"
   },
   {
    "duration": 36,
    "start_time": "2021-12-02T20:33:53.678Z"
   },
   {
    "duration": 47,
    "start_time": "2021-12-02T20:33:55.848Z"
   },
   {
    "duration": 39,
    "start_time": "2021-12-02T20:33:57.109Z"
   },
   {
    "duration": 54,
    "start_time": "2021-12-02T20:33:59.181Z"
   },
   {
    "duration": 36,
    "start_time": "2021-12-02T20:34:00.680Z"
   },
   {
    "duration": 297,
    "start_time": "2021-12-02T20:34:35.344Z"
   },
   {
    "duration": 5,
    "start_time": "2021-12-02T20:43:41.923Z"
   },
   {
    "duration": 44,
    "start_time": "2021-12-02T20:43:45.333Z"
   },
   {
    "duration": 27,
    "start_time": "2021-12-02T20:43:46.645Z"
   },
   {
    "duration": 35,
    "start_time": "2021-12-02T20:43:47.718Z"
   },
   {
    "duration": 28,
    "start_time": "2021-12-02T20:43:48.697Z"
   },
   {
    "duration": 47,
    "start_time": "2021-12-02T20:43:49.550Z"
   },
   {
    "duration": 5,
    "start_time": "2021-12-02T20:44:03.426Z"
   },
   {
    "duration": 55,
    "start_time": "2021-12-02T20:44:05.399Z"
   },
   {
    "duration": 37,
    "start_time": "2021-12-02T20:44:06.522Z"
   },
   {
    "duration": 47,
    "start_time": "2021-12-02T20:44:08.927Z"
   },
   {
    "duration": 42,
    "start_time": "2021-12-02T20:44:09.955Z"
   },
   {
    "duration": 53,
    "start_time": "2021-12-02T20:44:12.403Z"
   },
   {
    "duration": 5,
    "start_time": "2021-12-02T20:44:38.541Z"
   },
   {
    "duration": 40,
    "start_time": "2021-12-02T20:44:40.393Z"
   },
   {
    "duration": 28,
    "start_time": "2021-12-02T20:44:45.480Z"
   },
   {
    "duration": 5,
    "start_time": "2021-12-02T20:49:12.703Z"
   },
   {
    "duration": 40,
    "start_time": "2021-12-02T20:49:14.229Z"
   },
   {
    "duration": 27,
    "start_time": "2021-12-02T20:49:15.105Z"
   },
   {
    "duration": 35,
    "start_time": "2021-12-02T20:49:16.506Z"
   },
   {
    "duration": 28,
    "start_time": "2021-12-02T20:49:24.350Z"
   },
   {
    "duration": 5,
    "start_time": "2021-12-02T20:51:34.385Z"
   },
   {
    "duration": 36,
    "start_time": "2021-12-02T20:51:36.074Z"
   },
   {
    "duration": 29,
    "start_time": "2021-12-02T20:51:38.227Z"
   },
   {
    "duration": 5,
    "start_time": "2021-12-02T20:52:34.163Z"
   },
   {
    "duration": 27,
    "start_time": "2021-12-02T20:52:35.631Z"
   },
   {
    "duration": 22,
    "start_time": "2021-12-02T20:52:40.035Z"
   },
   {
    "duration": 23,
    "start_time": "2021-12-02T20:52:41.261Z"
   },
   {
    "duration": 21,
    "start_time": "2021-12-02T20:52:42.133Z"
   },
   {
    "duration": 25,
    "start_time": "2021-12-02T20:52:42.856Z"
   },
   {
    "duration": 22,
    "start_time": "2021-12-02T20:53:05.741Z"
   },
   {
    "duration": 270,
    "start_time": "2021-12-02T20:53:10.190Z"
   },
   {
    "duration": 5,
    "start_time": "2021-12-02T20:53:42.771Z"
   },
   {
    "duration": 26,
    "start_time": "2021-12-02T20:53:44.137Z"
   },
   {
    "duration": 20,
    "start_time": "2021-12-02T20:53:45.186Z"
   },
   {
    "duration": 5,
    "start_time": "2021-12-02T20:53:52.031Z"
   },
   {
    "duration": 24,
    "start_time": "2021-12-02T20:53:53.289Z"
   },
   {
    "duration": 21,
    "start_time": "2021-12-02T20:53:54.128Z"
   },
   {
    "duration": 21,
    "start_time": "2021-12-02T20:53:54.929Z"
   },
   {
    "duration": 22,
    "start_time": "2021-12-02T20:53:55.979Z"
   },
   {
    "duration": 22,
    "start_time": "2021-12-02T20:58:45.345Z"
   },
   {
    "duration": 308,
    "start_time": "2021-12-02T20:58:47.107Z"
   },
   {
    "duration": 279,
    "start_time": "2021-12-02T20:59:16.059Z"
   },
   {
    "duration": 290,
    "start_time": "2021-12-02T20:59:50.445Z"
   },
   {
    "duration": 268,
    "start_time": "2021-12-02T21:02:25.998Z"
   },
   {
    "duration": 271,
    "start_time": "2021-12-02T21:02:43.572Z"
   },
   {
    "duration": 285,
    "start_time": "2021-12-02T21:03:15.425Z"
   },
   {
    "duration": 273,
    "start_time": "2021-12-02T21:03:51.095Z"
   },
   {
    "duration": 714,
    "start_time": "2021-12-02T21:04:05.695Z"
   },
   {
    "duration": 703,
    "start_time": "2021-12-02T21:04:13.600Z"
   },
   {
    "duration": 755,
    "start_time": "2021-12-02T21:04:28.233Z"
   },
   {
    "duration": 285,
    "start_time": "2021-12-02T21:04:44.721Z"
   },
   {
    "duration": 466,
    "start_time": "2021-12-02T21:05:00.689Z"
   },
   {
    "duration": 107,
    "start_time": "2021-12-02T21:06:57.225Z"
   },
   {
    "duration": 87,
    "start_time": "2021-12-02T21:07:05.517Z"
   },
   {
    "duration": 96,
    "start_time": "2021-12-02T21:07:08.735Z"
   },
   {
    "duration": 5,
    "start_time": "2021-12-02T21:07:14.179Z"
   },
   {
    "duration": 24,
    "start_time": "2021-12-02T21:07:17.464Z"
   },
   {
    "duration": 5,
    "start_time": "2021-12-02T21:07:53.296Z"
   },
   {
    "duration": 40,
    "start_time": "2021-12-02T21:07:55.584Z"
   },
   {
    "duration": 5,
    "start_time": "2021-12-02T21:08:46.397Z"
   },
   {
    "duration": 578,
    "start_time": "2021-12-02T21:08:48.029Z"
   },
   {
    "duration": 5,
    "start_time": "2021-12-02T21:09:10.094Z"
   },
   {
    "duration": 25,
    "start_time": "2021-12-02T21:09:14.510Z"
   },
   {
    "duration": 21,
    "start_time": "2021-12-02T21:09:17.093Z"
   },
   {
    "duration": 30,
    "start_time": "2021-12-02T21:09:18.496Z"
   },
   {
    "duration": 22,
    "start_time": "2021-12-02T21:09:19.391Z"
   },
   {
    "duration": 26,
    "start_time": "2021-12-02T21:09:20.938Z"
   },
   {
    "duration": 22,
    "start_time": "2021-12-02T21:09:21.780Z"
   },
   {
    "duration": 276,
    "start_time": "2021-12-02T21:09:55.032Z"
   },
   {
    "duration": 6,
    "start_time": "2021-12-02T21:18:46.092Z"
   },
   {
    "duration": 25,
    "start_time": "2021-12-02T21:18:47.693Z"
   },
   {
    "duration": 24,
    "start_time": "2021-12-02T21:18:48.572Z"
   },
   {
    "duration": 24,
    "start_time": "2021-12-02T21:18:49.404Z"
   },
   {
    "duration": 22,
    "start_time": "2021-12-02T21:18:50.766Z"
   },
   {
    "duration": 27,
    "start_time": "2021-12-02T21:18:53.249Z"
   },
   {
    "duration": 5,
    "start_time": "2021-12-02T21:19:20.603Z"
   },
   {
    "duration": 26,
    "start_time": "2021-12-02T21:19:22.444Z"
   },
   {
    "duration": 4,
    "start_time": "2021-12-03T12:03:25.805Z"
   },
   {
    "duration": 610,
    "start_time": "2021-12-03T12:03:28.696Z"
   },
   {
    "duration": 642,
    "start_time": "2021-12-03T12:03:29.736Z"
   },
   {
    "duration": 590,
    "start_time": "2021-12-03T12:03:41.035Z"
   },
   {
    "duration": 124,
    "start_time": "2021-12-03T12:03:42.647Z"
   },
   {
    "duration": 19,
    "start_time": "2021-12-03T12:03:44.478Z"
   },
   {
    "duration": 24,
    "start_time": "2021-12-03T12:03:45.969Z"
   },
   {
    "duration": 3,
    "start_time": "2021-12-03T12:03:49.234Z"
   },
   {
    "duration": 20,
    "start_time": "2021-12-03T12:03:50.495Z"
   },
   {
    "duration": 3,
    "start_time": "2021-12-03T12:03:51.684Z"
   },
   {
    "duration": 22,
    "start_time": "2021-12-03T12:03:52.965Z"
   },
   {
    "duration": 18,
    "start_time": "2021-12-03T12:03:54.990Z"
   },
   {
    "duration": 21,
    "start_time": "2021-12-03T12:03:56.152Z"
   },
   {
    "duration": 57,
    "start_time": "2021-12-03T12:03:57.489Z"
   },
   {
    "duration": 65,
    "start_time": "2021-12-03T12:03:59.169Z"
   },
   {
    "duration": 49,
    "start_time": "2021-12-03T12:03:59.885Z"
   },
   {
    "duration": 5,
    "start_time": "2021-12-03T12:04:03.609Z"
   },
   {
    "duration": 3,
    "start_time": "2021-12-03T12:04:05.022Z"
   },
   {
    "duration": 10,
    "start_time": "2021-12-03T12:04:06.379Z"
   },
   {
    "duration": 5,
    "start_time": "2021-12-03T12:04:07.729Z"
   },
   {
    "duration": 25,
    "start_time": "2021-12-03T12:04:11.728Z"
   },
   {
    "duration": 12,
    "start_time": "2021-12-03T12:04:13.052Z"
   },
   {
    "duration": 4,
    "start_time": "2021-12-03T12:04:15.271Z"
   },
   {
    "duration": 27,
    "start_time": "2021-12-03T12:04:17.887Z"
   },
   {
    "duration": 19,
    "start_time": "2021-12-03T12:04:24.219Z"
   },
   {
    "duration": 24,
    "start_time": "2021-12-03T12:04:25.791Z"
   },
   {
    "duration": 20,
    "start_time": "2021-12-03T12:04:36.821Z"
   },
   {
    "duration": 28,
    "start_time": "2021-12-03T12:04:37.597Z"
   },
   {
    "duration": 18,
    "start_time": "2021-12-03T12:04:38.266Z"
   },
   {
    "duration": 330,
    "start_time": "2021-12-03T12:04:39.763Z"
   },
   {
    "duration": 3,
    "start_time": "2021-12-03T12:08:19.106Z"
   },
   {
    "duration": 37,
    "start_time": "2021-12-03T12:08:21.002Z"
   },
   {
    "duration": 3,
    "start_time": "2021-12-03T12:08:49.433Z"
   },
   {
    "duration": 622,
    "start_time": "2021-12-03T12:08:50.754Z"
   },
   {
    "duration": 3,
    "start_time": "2021-12-03T12:09:17.372Z"
   },
   {
    "duration": 41,
    "start_time": "2021-12-03T12:09:19.179Z"
   },
   {
    "duration": 3,
    "start_time": "2021-12-03T12:10:07.743Z"
   },
   {
    "duration": 27,
    "start_time": "2021-12-03T12:10:10.239Z"
   },
   {
    "duration": 3,
    "start_time": "2021-12-03T12:19:07.819Z"
   },
   {
    "duration": 552,
    "start_time": "2021-12-03T12:19:11.090Z"
   },
   {
    "duration": 4,
    "start_time": "2021-12-03T12:19:52.686Z"
   },
   {
    "duration": 18,
    "start_time": "2021-12-03T12:19:54.043Z"
   },
   {
    "duration": 15,
    "start_time": "2021-12-03T12:20:00.622Z"
   },
   {
    "duration": 16,
    "start_time": "2021-12-03T12:20:12.430Z"
   },
   {
    "duration": 15,
    "start_time": "2021-12-03T12:20:15.267Z"
   },
   {
    "duration": 4,
    "start_time": "2021-12-03T12:21:02.800Z"
   },
   {
    "duration": 17,
    "start_time": "2021-12-03T12:21:04.241Z"
   },
   {
    "duration": 16,
    "start_time": "2021-12-03T12:21:07.328Z"
   },
   {
    "duration": 5,
    "start_time": "2021-12-03T12:23:32.342Z"
   },
   {
    "duration": 27,
    "start_time": "2021-12-03T12:23:33.807Z"
   },
   {
    "duration": 19,
    "start_time": "2021-12-03T12:23:35.370Z"
   },
   {
    "duration": 22,
    "start_time": "2021-12-03T12:23:41.059Z"
   },
   {
    "duration": 95,
    "start_time": "2021-12-03T12:26:55.842Z"
   },
   {
    "duration": 4,
    "start_time": "2021-12-03T12:27:10.342Z"
   },
   {
    "duration": 551,
    "start_time": "2021-12-03T12:27:12.536Z"
   },
   {
    "duration": 555,
    "start_time": "2021-12-03T12:27:13.467Z"
   },
   {
    "duration": 3,
    "start_time": "2021-12-03T12:32:34.040Z"
   },
   {
    "duration": 30,
    "start_time": "2021-12-03T12:32:35.441Z"
   },
   {
    "duration": 18,
    "start_time": "2021-12-03T12:32:36.977Z"
   },
   {
    "duration": 3,
    "start_time": "2021-12-03T12:33:56.565Z"
   },
   {
    "duration": 28,
    "start_time": "2021-12-03T12:33:58.915Z"
   },
   {
    "duration": 20,
    "start_time": "2021-12-03T12:33:59.728Z"
   },
   {
    "duration": 3,
    "start_time": "2021-12-03T12:34:54.983Z"
   },
   {
    "duration": 29,
    "start_time": "2021-12-03T12:34:56.312Z"
   },
   {
    "duration": 19,
    "start_time": "2021-12-03T12:34:57.353Z"
   },
   {
    "duration": 24,
    "start_time": "2021-12-03T12:35:10.484Z"
   },
   {
    "duration": 20,
    "start_time": "2021-12-03T12:35:11.429Z"
   },
   {
    "duration": 28,
    "start_time": "2021-12-03T12:35:12.288Z"
   },
   {
    "duration": 20,
    "start_time": "2021-12-03T12:35:13.171Z"
   },
   {
    "duration": 287,
    "start_time": "2021-12-03T12:35:17.459Z"
   },
   {
    "duration": 3,
    "start_time": "2021-12-03T12:37:20.301Z"
   },
   {
    "duration": 28,
    "start_time": "2021-12-03T12:37:21.645Z"
   },
   {
    "duration": 3,
    "start_time": "2021-12-03T12:37:40.561Z"
   },
   {
    "duration": 26,
    "start_time": "2021-12-03T12:37:42.166Z"
   },
   {
    "duration": 17,
    "start_time": "2021-12-03T12:37:45.315Z"
   },
   {
    "duration": 279,
    "start_time": "2021-12-03T12:39:04.240Z"
   },
   {
    "duration": 263,
    "start_time": "2021-12-03T12:54:18.364Z"
   },
   {
    "duration": 283,
    "start_time": "2021-12-03T12:56:26.689Z"
   },
   {
    "duration": 292,
    "start_time": "2021-12-03T12:59:27.593Z"
   },
   {
    "duration": 2,
    "start_time": "2021-12-03T13:00:21.361Z"
   },
   {
    "duration": 166,
    "start_time": "2021-12-03T13:00:22.532Z"
   },
   {
    "duration": 11,
    "start_time": "2021-12-03T13:00:24.238Z"
   },
   {
    "duration": 24,
    "start_time": "2021-12-03T13:00:25.459Z"
   },
   {
    "duration": 4,
    "start_time": "2021-12-03T13:00:28.273Z"
   },
   {
    "duration": 20,
    "start_time": "2021-12-03T13:00:29.594Z"
   },
   {
    "duration": 3,
    "start_time": "2021-12-03T13:00:30.736Z"
   },
   {
    "duration": 30,
    "start_time": "2021-12-03T13:00:32.030Z"
   },
   {
    "duration": 20,
    "start_time": "2021-12-03T13:00:35.240Z"
   },
   {
    "duration": 20,
    "start_time": "2021-12-03T13:00:36.564Z"
   },
   {
    "duration": 53,
    "start_time": "2021-12-03T13:00:37.999Z"
   },
   {
    "duration": 75,
    "start_time": "2021-12-03T13:00:39.338Z"
   },
   {
    "duration": 50,
    "start_time": "2021-12-03T13:00:41.183Z"
   },
   {
    "duration": 5,
    "start_time": "2021-12-03T13:00:42.934Z"
   },
   {
    "duration": 4,
    "start_time": "2021-12-03T13:00:44.347Z"
   },
   {
    "duration": 9,
    "start_time": "2021-12-03T13:00:45.706Z"
   },
   {
    "duration": 6,
    "start_time": "2021-12-03T13:00:46.940Z"
   },
   {
    "duration": 32,
    "start_time": "2021-12-03T13:00:51.370Z"
   },
   {
    "duration": 11,
    "start_time": "2021-12-03T13:00:52.706Z"
   },
   {
    "duration": 3,
    "start_time": "2021-12-03T13:00:54.839Z"
   },
   {
    "duration": 27,
    "start_time": "2021-12-03T13:00:56.215Z"
   },
   {
    "duration": 18,
    "start_time": "2021-12-03T13:00:57.060Z"
   },
   {
    "duration": 23,
    "start_time": "2021-12-03T13:00:57.765Z"
   },
   {
    "duration": 21,
    "start_time": "2021-12-03T13:00:58.533Z"
   },
   {
    "duration": 26,
    "start_time": "2021-12-03T13:00:59.193Z"
   },
   {
    "duration": 30,
    "start_time": "2021-12-03T13:00:59.998Z"
   },
   {
    "duration": 275,
    "start_time": "2021-12-03T13:01:01.730Z"
   },
   {
    "duration": 359,
    "start_time": "2021-12-03T13:01:34.984Z"
   },
   {
    "duration": 283,
    "start_time": "2021-12-03T13:03:32.048Z"
   },
   {
    "duration": 296,
    "start_time": "2021-12-03T13:08:56.600Z"
   },
   {
    "duration": 294,
    "start_time": "2021-12-03T13:10:31.917Z"
   },
   {
    "duration": 278,
    "start_time": "2021-12-03T13:12:17.508Z"
   },
   {
    "duration": 288,
    "start_time": "2021-12-03T13:12:47.369Z"
   },
   {
    "duration": 277,
    "start_time": "2021-12-03T13:15:43.695Z"
   },
   {
    "duration": 3,
    "start_time": "2021-12-03T13:18:15.011Z"
   },
   {
    "duration": 291,
    "start_time": "2021-12-03T13:24:29.739Z"
   },
   {
    "duration": 7,
    "start_time": "2021-12-03T13:25:17.256Z"
   },
   {
    "duration": 7,
    "start_time": "2021-12-03T13:26:04.979Z"
   },
   {
    "duration": 325,
    "start_time": "2021-12-03T13:27:08.928Z"
   },
   {
    "duration": 341,
    "start_time": "2021-12-03T13:27:44.237Z"
   },
   {
    "duration": 915,
    "start_time": "2021-12-03T13:29:06.759Z"
   },
   {
    "duration": 277,
    "start_time": "2021-12-03T13:32:36.815Z"
   },
   {
    "duration": 286,
    "start_time": "2021-12-03T13:36:50.207Z"
   },
   {
    "duration": 4,
    "start_time": "2021-12-03T13:50:14.358Z"
   },
   {
    "duration": 21,
    "start_time": "2021-12-03T13:50:15.846Z"
   },
   {
    "duration": 19,
    "start_time": "2021-12-03T13:50:17.150Z"
   },
   {
    "duration": 15,
    "start_time": "2021-12-03T13:50:17.995Z"
   },
   {
    "duration": 14,
    "start_time": "2021-12-03T13:50:18.772Z"
   },
   {
    "duration": 16,
    "start_time": "2021-12-03T13:50:19.492Z"
   },
   {
    "duration": 14,
    "start_time": "2021-12-03T13:50:20.190Z"
   },
   {
    "duration": 270,
    "start_time": "2021-12-03T13:50:22.705Z"
   },
   {
    "duration": 3,
    "start_time": "2021-12-03T13:50:54.662Z"
   },
   {
    "duration": 20,
    "start_time": "2021-12-03T13:50:56.040Z"
   },
   {
    "duration": 4,
    "start_time": "2021-12-03T13:51:12.716Z"
   },
   {
    "duration": 16,
    "start_time": "2021-12-03T13:51:14.826Z"
   },
   {
    "duration": 276,
    "start_time": "2021-12-03T13:51:33.222Z"
   },
   {
    "duration": 278,
    "start_time": "2021-12-03T13:51:50.517Z"
   },
   {
    "duration": 286,
    "start_time": "2021-12-03T13:52:07.901Z"
   },
   {
    "duration": 287,
    "start_time": "2021-12-03T13:54:46.167Z"
   },
   {
    "duration": 311,
    "start_time": "2021-12-03T14:02:35.197Z"
   },
   {
    "duration": 279,
    "start_time": "2021-12-03T14:03:30.408Z"
   },
   {
    "duration": 166,
    "start_time": "2021-12-03T14:05:33.197Z"
   },
   {
    "duration": 493,
    "start_time": "2021-12-03T14:06:15.683Z"
   },
   {
    "duration": 281,
    "start_time": "2021-12-03T14:18:17.261Z"
   },
   {
    "duration": 271,
    "start_time": "2021-12-03T14:19:07.242Z"
   },
   {
    "duration": 106,
    "start_time": "2021-12-03T14:19:24.070Z"
   },
   {
    "duration": 93,
    "start_time": "2021-12-03T14:19:56.773Z"
   },
   {
    "duration": 101,
    "start_time": "2021-12-03T14:20:23.382Z"
   },
   {
    "duration": 4,
    "start_time": "2021-12-03T14:49:07.393Z"
   },
   {
    "duration": 17,
    "start_time": "2021-12-03T14:49:08.975Z"
   },
   {
    "duration": 15,
    "start_time": "2021-12-03T14:49:09.828Z"
   },
   {
    "duration": 15,
    "start_time": "2021-12-03T14:49:10.640Z"
   },
   {
    "duration": 16,
    "start_time": "2021-12-03T14:49:11.673Z"
   },
   {
    "duration": 4,
    "start_time": "2021-12-03T14:49:30.756Z"
   },
   {
    "duration": 16,
    "start_time": "2021-12-03T14:49:32.114Z"
   },
   {
    "duration": 15,
    "start_time": "2021-12-03T14:49:32.930Z"
   },
   {
    "duration": 16,
    "start_time": "2021-12-03T14:49:33.630Z"
   },
   {
    "duration": 17,
    "start_time": "2021-12-03T14:49:34.371Z"
   },
   {
    "duration": 18,
    "start_time": "2021-12-03T14:49:35.067Z"
   },
   {
    "duration": 16,
    "start_time": "2021-12-03T14:49:36.615Z"
   },
   {
    "duration": 125,
    "start_time": "2021-12-03T14:49:38.365Z"
   },
   {
    "duration": 87,
    "start_time": "2021-12-03T14:50:06.266Z"
   },
   {
    "duration": 274,
    "start_time": "2021-12-03T14:50:21.392Z"
   },
   {
    "duration": 270,
    "start_time": "2021-12-03T14:51:04.538Z"
   },
   {
    "duration": 638,
    "start_time": "2021-12-03T18:30:12.376Z"
   },
   {
    "duration": 139,
    "start_time": "2021-12-03T18:30:14.167Z"
   },
   {
    "duration": 17,
    "start_time": "2021-12-03T18:30:15.716Z"
   },
   {
    "duration": 25,
    "start_time": "2021-12-03T18:30:17.214Z"
   },
   {
    "duration": 3,
    "start_time": "2021-12-03T18:30:21.072Z"
   },
   {
    "duration": 21,
    "start_time": "2021-12-03T18:30:23.706Z"
   },
   {
    "duration": 3,
    "start_time": "2021-12-03T18:30:25.114Z"
   },
   {
    "duration": 21,
    "start_time": "2021-12-03T18:30:27.261Z"
   },
   {
    "duration": 18,
    "start_time": "2021-12-03T18:30:30.068Z"
   },
   {
    "duration": 22,
    "start_time": "2021-12-03T18:30:31.718Z"
   },
   {
    "duration": 57,
    "start_time": "2021-12-03T18:30:33.691Z"
   },
   {
    "duration": 69,
    "start_time": "2021-12-03T18:30:35.246Z"
   },
   {
    "duration": 50,
    "start_time": "2021-12-03T18:30:36.730Z"
   },
   {
    "duration": 5,
    "start_time": "2021-12-03T18:30:39.444Z"
   },
   {
    "duration": 3,
    "start_time": "2021-12-03T18:30:41.143Z"
   },
   {
    "duration": 10,
    "start_time": "2021-12-03T18:30:42.514Z"
   },
   {
    "duration": 6,
    "start_time": "2021-12-03T18:30:44.491Z"
   },
   {
    "duration": 28,
    "start_time": "2021-12-03T18:30:50.140Z"
   },
   {
    "duration": 13,
    "start_time": "2021-12-03T18:30:51.823Z"
   },
   {
    "duration": 4,
    "start_time": "2021-12-03T18:30:54.495Z"
   },
   {
    "duration": 17,
    "start_time": "2021-12-03T18:30:56.210Z"
   },
   {
    "duration": 14,
    "start_time": "2021-12-03T18:30:56.986Z"
   },
   {
    "duration": 16,
    "start_time": "2021-12-03T18:30:57.709Z"
   },
   {
    "duration": 16,
    "start_time": "2021-12-03T18:30:58.480Z"
   },
   {
    "duration": 17,
    "start_time": "2021-12-03T18:30:59.289Z"
   },
   {
    "duration": 15,
    "start_time": "2021-12-03T18:31:00.112Z"
   },
   {
    "duration": 383,
    "start_time": "2021-12-03T18:31:02.891Z"
   },
   {
    "duration": 4,
    "start_time": "2021-12-03T18:41:01.446Z"
   },
   {
    "duration": 17,
    "start_time": "2021-12-03T18:41:04.172Z"
   },
   {
    "duration": 15,
    "start_time": "2021-12-03T18:41:05.937Z"
   },
   {
    "duration": 16,
    "start_time": "2021-12-03T18:41:06.713Z"
   },
   {
    "duration": 15,
    "start_time": "2021-12-03T18:41:07.375Z"
   },
   {
    "duration": 4,
    "start_time": "2021-12-03T18:41:38.482Z"
   },
   {
    "duration": 672,
    "start_time": "2021-12-03T18:41:40.107Z"
   },
   {
    "duration": 644,
    "start_time": "2021-12-03T18:41:41.025Z"
   },
   {
    "duration": 332,
    "start_time": "2021-12-03T18:42:05.148Z"
   },
   {
    "duration": 3,
    "start_time": "2021-12-03T18:42:16.167Z"
   },
   {
    "duration": 651,
    "start_time": "2021-12-03T18:42:18.865Z"
   },
   {
    "duration": 1115,
    "start_time": "2021-12-03T18:42:19.793Z"
   },
   {
    "duration": 662,
    "start_time": "2021-12-03T18:42:21.398Z"
   },
   {
    "duration": 3,
    "start_time": "2021-12-03T18:42:31.184Z"
   },
   {
    "duration": 642,
    "start_time": "2021-12-03T18:42:32.729Z"
   },
   {
    "duration": 3,
    "start_time": "2021-12-03T18:42:52.147Z"
   },
   {
    "duration": 138,
    "start_time": "2021-12-03T18:42:53.628Z"
   },
   {
    "duration": 11,
    "start_time": "2021-12-03T18:42:54.903Z"
   },
   {
    "duration": 24,
    "start_time": "2021-12-03T18:42:56.728Z"
   },
   {
    "duration": 4,
    "start_time": "2021-12-03T18:43:00.013Z"
   },
   {
    "duration": 22,
    "start_time": "2021-12-03T18:43:01.708Z"
   },
   {
    "duration": 4,
    "start_time": "2021-12-03T18:43:03.078Z"
   },
   {
    "duration": 23,
    "start_time": "2021-12-03T18:43:04.431Z"
   },
   {
    "duration": 18,
    "start_time": "2021-12-03T18:43:06.543Z"
   },
   {
    "duration": 23,
    "start_time": "2021-12-03T18:43:08.393Z"
   },
   {
    "duration": 52,
    "start_time": "2021-12-03T18:43:09.902Z"
   },
   {
    "duration": 62,
    "start_time": "2021-12-03T18:43:11.416Z"
   },
   {
    "duration": 48,
    "start_time": "2021-12-03T18:43:12.795Z"
   },
   {
    "duration": 6,
    "start_time": "2021-12-03T18:43:15.485Z"
   },
   {
    "duration": 4,
    "start_time": "2021-12-03T18:43:17.131Z"
   },
   {
    "duration": 10,
    "start_time": "2021-12-03T18:43:18.586Z"
   },
   {
    "duration": 5,
    "start_time": "2021-12-03T18:43:20.386Z"
   },
   {
    "duration": 34,
    "start_time": "2021-12-03T18:43:25.132Z"
   },
   {
    "duration": 12,
    "start_time": "2021-12-03T18:43:26.687Z"
   },
   {
    "duration": 4,
    "start_time": "2021-12-03T18:43:29.364Z"
   },
   {
    "duration": 674,
    "start_time": "2021-12-03T18:43:31.022Z"
   },
   {
    "duration": 648,
    "start_time": "2021-12-03T18:43:31.816Z"
   },
   {
    "duration": 643,
    "start_time": "2021-12-03T18:43:33.614Z"
   },
   {
    "duration": 635,
    "start_time": "2021-12-03T18:43:34.478Z"
   },
   {
    "duration": 666,
    "start_time": "2021-12-03T18:43:35.329Z"
   },
   {
    "duration": 706,
    "start_time": "2021-12-03T18:43:36.138Z"
   },
   {
    "duration": 12,
    "start_time": "2021-12-03T18:44:15.819Z"
   },
   {
    "duration": 4,
    "start_time": "2021-12-03T18:44:18.566Z"
   },
   {
    "duration": 672,
    "start_time": "2021-12-03T18:44:20.979Z"
   },
   {
    "duration": 3,
    "start_time": "2021-12-03T18:44:34.460Z"
   },
   {
    "duration": 626,
    "start_time": "2021-12-03T18:44:36.034Z"
   },
   {
    "duration": 653,
    "start_time": "2021-12-03T18:44:37.732Z"
   },
   {
    "duration": 3,
    "start_time": "2021-12-03T18:45:50.812Z"
   },
   {
    "duration": 656,
    "start_time": "2021-12-03T18:45:53.109Z"
   },
   {
    "duration": 2,
    "start_time": "2021-12-03T18:46:42.862Z"
   },
   {
    "duration": 136,
    "start_time": "2021-12-03T18:46:44.777Z"
   },
   {
    "duration": 11,
    "start_time": "2021-12-03T18:46:46.140Z"
   },
   {
    "duration": 27,
    "start_time": "2021-12-03T18:46:47.990Z"
   },
   {
    "duration": 3,
    "start_time": "2021-12-03T18:46:51.666Z"
   },
   {
    "duration": 17,
    "start_time": "2021-12-03T18:46:53.190Z"
   },
   {
    "duration": 3,
    "start_time": "2021-12-03T18:46:54.687Z"
   },
   {
    "duration": 26,
    "start_time": "2021-12-03T18:46:56.983Z"
   },
   {
    "duration": 20,
    "start_time": "2021-12-03T18:46:59.360Z"
   },
   {
    "duration": 26,
    "start_time": "2021-12-03T18:47:01.099Z"
   },
   {
    "duration": 62,
    "start_time": "2021-12-03T18:47:02.772Z"
   },
   {
    "duration": 70,
    "start_time": "2021-12-03T18:47:04.268Z"
   },
   {
    "duration": 58,
    "start_time": "2021-12-03T18:47:05.932Z"
   },
   {
    "duration": 6,
    "start_time": "2021-12-03T18:47:08.203Z"
   },
   {
    "duration": 4,
    "start_time": "2021-12-03T18:47:09.752Z"
   },
   {
    "duration": 11,
    "start_time": "2021-12-03T18:47:11.453Z"
   },
   {
    "duration": 5,
    "start_time": "2021-12-03T18:47:13.025Z"
   },
   {
    "duration": 34,
    "start_time": "2021-12-03T18:47:17.411Z"
   },
   {
    "duration": 12,
    "start_time": "2021-12-03T18:47:19.071Z"
   },
   {
    "duration": 3,
    "start_time": "2021-12-03T18:47:21.591Z"
   },
   {
    "duration": 673,
    "start_time": "2021-12-03T18:47:23.369Z"
   },
   {
    "duration": 645,
    "start_time": "2021-12-03T18:47:24.427Z"
   },
   {
    "duration": 662,
    "start_time": "2021-12-03T18:47:34.873Z"
   },
   {
    "duration": 649,
    "start_time": "2021-12-03T18:47:36.920Z"
   },
   {
    "duration": 640,
    "start_time": "2021-12-03T18:47:38.430Z"
   },
   {
    "duration": 639,
    "start_time": "2021-12-03T18:47:40.618Z"
   },
   {
    "duration": 327,
    "start_time": "2021-12-03T18:47:42.541Z"
   },
   {
    "duration": 4,
    "start_time": "2021-12-03T18:48:38.588Z"
   },
   {
    "duration": 4,
    "start_time": "2021-12-03T18:48:42.467Z"
   },
   {
    "duration": 645,
    "start_time": "2021-12-03T18:48:43.850Z"
   },
   {
    "duration": 3,
    "start_time": "2021-12-03T18:52:32.446Z"
   },
   {
    "duration": 647,
    "start_time": "2021-12-03T18:52:33.813Z"
   },
   {
    "duration": 636,
    "start_time": "2021-12-03T18:52:34.562Z"
   },
   {
    "duration": 3,
    "start_time": "2021-12-03T18:52:57.776Z"
   },
   {
    "duration": 140,
    "start_time": "2021-12-03T18:52:59.086Z"
   },
   {
    "duration": 15,
    "start_time": "2021-12-03T18:53:00.497Z"
   },
   {
    "duration": 30,
    "start_time": "2021-12-03T18:53:01.868Z"
   },
   {
    "duration": 4,
    "start_time": "2021-12-03T18:53:05.436Z"
   },
   {
    "duration": 20,
    "start_time": "2021-12-03T18:53:07.304Z"
   },
   {
    "duration": 4,
    "start_time": "2021-12-03T18:53:08.971Z"
   },
   {
    "duration": 26,
    "start_time": "2021-12-03T18:53:10.565Z"
   },
   {
    "duration": 20,
    "start_time": "2021-12-03T18:53:12.782Z"
   },
   {
    "duration": 26,
    "start_time": "2021-12-03T18:53:14.193Z"
   },
   {
    "duration": 60,
    "start_time": "2021-12-03T18:53:15.678Z"
   },
   {
    "duration": 70,
    "start_time": "2021-12-03T18:53:17.261Z"
   },
   {
    "duration": 57,
    "start_time": "2021-12-03T18:53:18.592Z"
   },
   {
    "duration": 6,
    "start_time": "2021-12-03T18:53:20.830Z"
   },
   {
    "duration": 4,
    "start_time": "2021-12-03T18:53:23.118Z"
   },
   {
    "duration": 10,
    "start_time": "2021-12-03T18:53:24.590Z"
   },
   {
    "duration": 5,
    "start_time": "2021-12-03T18:53:26.202Z"
   },
   {
    "duration": 35,
    "start_time": "2021-12-03T18:53:30.901Z"
   },
   {
    "duration": 11,
    "start_time": "2021-12-03T18:53:32.629Z"
   },
   {
    "duration": 3,
    "start_time": "2021-12-03T18:53:34.826Z"
   },
   {
    "duration": 633,
    "start_time": "2021-12-03T18:53:36.293Z"
   },
   {
    "duration": 651,
    "start_time": "2021-12-03T18:53:41.029Z"
   },
   {
    "duration": 404,
    "start_time": "2021-12-03T18:53:41.278Z"
   },
   {
    "duration": 399,
    "start_time": "2021-12-03T18:53:41.285Z"
   },
   {
    "duration": 643,
    "start_time": "2021-12-03T18:53:42.570Z"
   },
   {
    "duration": 666,
    "start_time": "2021-12-03T18:53:43.356Z"
   },
   {
    "duration": 313,
    "start_time": "2021-12-03T18:53:47.839Z"
   },
   {
    "duration": 3,
    "start_time": "2021-12-03T18:54:14.058Z"
   },
   {
    "duration": 683,
    "start_time": "2021-12-03T18:54:15.635Z"
   },
   {
    "duration": 3,
    "start_time": "2021-12-03T18:55:22.035Z"
   },
   {
    "duration": 145,
    "start_time": "2021-12-03T18:55:23.533Z"
   },
   {
    "duration": 11,
    "start_time": "2021-12-03T18:55:25.092Z"
   },
   {
    "duration": 29,
    "start_time": "2021-12-03T18:55:26.439Z"
   },
   {
    "duration": 3,
    "start_time": "2021-12-03T18:55:30.980Z"
   },
   {
    "duration": 16,
    "start_time": "2021-12-03T18:55:32.839Z"
   },
   {
    "duration": 3,
    "start_time": "2021-12-03T18:55:34.887Z"
   },
   {
    "duration": 25,
    "start_time": "2021-12-03T18:55:36.370Z"
   },
   {
    "duration": 23,
    "start_time": "2021-12-03T18:55:38.651Z"
   },
   {
    "duration": 26,
    "start_time": "2021-12-03T18:55:40.432Z"
   },
   {
    "duration": 59,
    "start_time": "2021-12-03T18:55:41.536Z"
   },
   {
    "duration": 68,
    "start_time": "2021-12-03T18:55:42.959Z"
   },
   {
    "duration": 59,
    "start_time": "2021-12-03T18:55:44.317Z"
   },
   {
    "duration": 5,
    "start_time": "2021-12-03T18:55:46.452Z"
   },
   {
    "duration": 3,
    "start_time": "2021-12-03T18:55:47.864Z"
   },
   {
    "duration": 10,
    "start_time": "2021-12-03T18:55:49.199Z"
   },
   {
    "duration": 6,
    "start_time": "2021-12-03T18:55:50.530Z"
   },
   {
    "duration": 33,
    "start_time": "2021-12-03T18:55:54.595Z"
   },
   {
    "duration": 17,
    "start_time": "2021-12-03T18:55:56.028Z"
   },
   {
    "duration": 3,
    "start_time": "2021-12-03T18:55:58.140Z"
   },
   {
    "duration": 685,
    "start_time": "2021-12-03T18:55:59.832Z"
   },
   {
    "duration": 3,
    "start_time": "2021-12-03T18:56:58.670Z"
   },
   {
    "duration": 644,
    "start_time": "2021-12-03T18:57:00.161Z"
   },
   {
    "duration": 646,
    "start_time": "2021-12-03T18:57:03.235Z"
   },
   {
    "duration": 4,
    "start_time": "2021-12-03T18:57:51.769Z"
   },
   {
    "duration": 821,
    "start_time": "2021-12-03T18:57:54.050Z"
   },
   {
    "duration": 3,
    "start_time": "2021-12-03T18:59:44.005Z"
   },
   {
    "duration": 17,
    "start_time": "2021-12-03T18:59:45.432Z"
   },
   {
    "duration": 3,
    "start_time": "2021-12-03T18:59:54.924Z"
   },
   {
    "duration": 17,
    "start_time": "2021-12-03T18:59:56.940Z"
   },
   {
    "duration": 15,
    "start_time": "2021-12-03T18:59:57.957Z"
   },
   {
    "duration": 16,
    "start_time": "2021-12-03T18:59:59.726Z"
   },
   {
    "duration": 16,
    "start_time": "2021-12-03T19:00:00.570Z"
   },
   {
    "duration": 4,
    "start_time": "2021-12-03T19:00:12.375Z"
   },
   {
    "duration": 17,
    "start_time": "2021-12-03T19:00:13.807Z"
   },
   {
    "duration": 15,
    "start_time": "2021-12-03T19:00:14.604Z"
   },
   {
    "duration": 15,
    "start_time": "2021-12-03T19:00:15.334Z"
   },
   {
    "duration": 17,
    "start_time": "2021-12-03T19:00:16.020Z"
   },
   {
    "duration": 16,
    "start_time": "2021-12-03T19:00:16.746Z"
   },
   {
    "duration": 17,
    "start_time": "2021-12-03T19:00:17.610Z"
   },
   {
    "duration": 322,
    "start_time": "2021-12-03T19:00:22.391Z"
   },
   {
    "duration": 3,
    "start_time": "2021-12-03T19:00:41.519Z"
   },
   {
    "duration": 17,
    "start_time": "2021-12-03T19:00:42.876Z"
   },
   {
    "duration": 151,
    "start_time": "2021-12-03T19:00:50.109Z"
   },
   {
    "duration": 17,
    "start_time": "2021-12-03T19:00:52.330Z"
   },
   {
    "duration": 527,
    "start_time": "2021-12-03T19:01:08.664Z"
   },
   {
    "duration": 16,
    "start_time": "2021-12-03T19:01:10.771Z"
   },
   {
    "duration": 14,
    "start_time": "2021-12-03T19:01:12.076Z"
   },
   {
    "duration": 15,
    "start_time": "2021-12-03T19:01:12.810Z"
   },
   {
    "duration": 14,
    "start_time": "2021-12-03T19:01:13.448Z"
   },
   {
    "duration": 3,
    "start_time": "2021-12-03T19:02:02.017Z"
   },
   {
    "duration": 16,
    "start_time": "2021-12-03T19:02:03.588Z"
   },
   {
    "duration": 15,
    "start_time": "2021-12-03T19:02:04.619Z"
   },
   {
    "duration": 16,
    "start_time": "2021-12-03T19:02:05.353Z"
   },
   {
    "duration": 15,
    "start_time": "2021-12-03T19:02:06.005Z"
   },
   {
    "duration": 18,
    "start_time": "2021-12-03T19:02:06.637Z"
   },
   {
    "duration": 16,
    "start_time": "2021-12-03T19:02:07.260Z"
   },
   {
    "duration": 325,
    "start_time": "2021-12-03T19:02:09.286Z"
   },
   {
    "duration": 3,
    "start_time": "2021-12-03T19:04:53.040Z"
   },
   {
    "duration": 350,
    "start_time": "2021-12-03T19:04:54.275Z"
   },
   {
    "duration": 316,
    "start_time": "2021-12-03T19:05:05.128Z"
   },
   {
    "duration": 333,
    "start_time": "2021-12-03T19:05:27.106Z"
   },
   {
    "duration": 3,
    "start_time": "2021-12-03T19:10:43.970Z"
   },
   {
    "duration": 17,
    "start_time": "2021-12-03T19:10:46.119Z"
   },
   {
    "duration": 14,
    "start_time": "2021-12-03T19:10:47.029Z"
   },
   {
    "duration": 16,
    "start_time": "2021-12-03T19:10:47.818Z"
   },
   {
    "duration": 15,
    "start_time": "2021-12-03T19:10:48.696Z"
   },
   {
    "duration": 4,
    "start_time": "2021-12-03T19:11:03.769Z"
   },
   {
    "duration": 18,
    "start_time": "2021-12-03T19:11:05.098Z"
   },
   {
    "duration": 16,
    "start_time": "2021-12-03T19:11:06.083Z"
   },
   {
    "duration": 16,
    "start_time": "2021-12-03T19:11:06.854Z"
   },
   {
    "duration": 16,
    "start_time": "2021-12-03T19:11:07.549Z"
   },
   {
    "duration": 3,
    "start_time": "2021-12-03T19:11:40.237Z"
   },
   {
    "duration": 17,
    "start_time": "2021-12-03T19:11:41.550Z"
   },
   {
    "duration": 15,
    "start_time": "2021-12-03T19:11:42.292Z"
   },
   {
    "duration": 5,
    "start_time": "2021-12-03T19:20:44.387Z"
   },
   {
    "duration": 18,
    "start_time": "2021-12-03T19:20:46.399Z"
   },
   {
    "duration": 4,
    "start_time": "2021-12-03T19:21:02.040Z"
   },
   {
    "duration": 20,
    "start_time": "2021-12-03T19:21:03.348Z"
   },
   {
    "duration": 3,
    "start_time": "2021-12-03T19:21:17.154Z"
   },
   {
    "duration": 17,
    "start_time": "2021-12-03T19:21:18.598Z"
   },
   {
    "duration": 3,
    "start_time": "2021-12-03T20:05:33.517Z"
   },
   {
    "duration": 21,
    "start_time": "2021-12-03T20:05:34.948Z"
   },
   {
    "duration": 3,
    "start_time": "2021-12-03T20:06:09.960Z"
   },
   {
    "duration": 17,
    "start_time": "2021-12-03T20:06:11.347Z"
   },
   {
    "duration": 5,
    "start_time": "2021-12-03T20:09:04.901Z"
   },
   {
    "duration": 16,
    "start_time": "2021-12-03T20:09:11.882Z"
   },
   {
    "duration": 14,
    "start_time": "2021-12-03T20:09:12.906Z"
   },
   {
    "duration": 3,
    "start_time": "2021-12-03T20:10:25.828Z"
   },
   {
    "duration": 18,
    "start_time": "2021-12-03T20:10:28.487Z"
   },
   {
    "duration": 16,
    "start_time": "2021-12-03T20:10:29.802Z"
   },
   {
    "duration": 3,
    "start_time": "2021-12-03T20:10:36.486Z"
   },
   {
    "duration": 18,
    "start_time": "2021-12-03T20:10:38.134Z"
   },
   {
    "duration": 3,
    "start_time": "2021-12-03T20:11:05.476Z"
   },
   {
    "duration": 19,
    "start_time": "2021-12-03T20:11:07.088Z"
   },
   {
    "duration": 16,
    "start_time": "2021-12-03T20:11:07.863Z"
   },
   {
    "duration": 104,
    "start_time": "2021-12-03T20:17:07.942Z"
   },
   {
    "duration": 3,
    "start_time": "2021-12-03T20:17:26.918Z"
   },
   {
    "duration": 318,
    "start_time": "2021-12-03T20:41:32.808Z"
   },
   {
    "duration": 336,
    "start_time": "2021-12-03T20:42:35.952Z"
   },
   {
    "duration": 373,
    "start_time": "2021-12-03T20:43:49.888Z"
   },
   {
    "duration": 320,
    "start_time": "2021-12-03T20:45:27.106Z"
   },
   {
    "duration": 322,
    "start_time": "2021-12-03T20:46:41.778Z"
   },
   {
    "duration": 4,
    "start_time": "2021-12-03T20:54:20.829Z"
   },
   {
    "duration": 321,
    "start_time": "2021-12-03T20:54:22.150Z"
   },
   {
    "duration": 313,
    "start_time": "2021-12-03T20:54:23.299Z"
   },
   {
    "duration": 312,
    "start_time": "2021-12-03T20:54:24.304Z"
   },
   {
    "duration": 325,
    "start_time": "2021-12-03T20:54:25.058Z"
   },
   {
    "duration": 321,
    "start_time": "2021-12-03T20:54:42.312Z"
   },
   {
    "duration": 4,
    "start_time": "2021-12-03T20:54:49.437Z"
   },
   {
    "duration": 316,
    "start_time": "2021-12-03T20:54:51.580Z"
   },
   {
    "duration": 330,
    "start_time": "2021-12-03T20:59:15.319Z"
   },
   {
    "duration": 307,
    "start_time": "2021-12-03T21:00:19.451Z"
   },
   {
    "duration": 590,
    "start_time": "2021-12-03T21:00:30.756Z"
   },
   {
    "duration": 3,
    "start_time": "2021-12-03T21:00:45.504Z"
   },
   {
    "duration": 136,
    "start_time": "2021-12-03T21:00:47.335Z"
   },
   {
    "duration": 10,
    "start_time": "2021-12-03T21:00:49.198Z"
   },
   {
    "duration": 29,
    "start_time": "2021-12-03T21:00:50.899Z"
   },
   {
    "duration": 11,
    "start_time": "2021-12-03T21:00:58.633Z"
   },
   {
    "duration": 27,
    "start_time": "2021-12-03T21:01:08.081Z"
   },
   {
    "duration": 4,
    "start_time": "2021-12-03T21:01:12.028Z"
   },
   {
    "duration": 23,
    "start_time": "2021-12-03T21:01:13.328Z"
   },
   {
    "duration": 4,
    "start_time": "2021-12-03T21:01:14.598Z"
   },
   {
    "duration": 26,
    "start_time": "2021-12-03T21:01:15.947Z"
   },
   {
    "duration": 21,
    "start_time": "2021-12-03T21:01:18.238Z"
   },
   {
    "duration": 27,
    "start_time": "2021-12-03T21:01:19.446Z"
   },
   {
    "duration": 64,
    "start_time": "2021-12-03T21:01:21.075Z"
   },
   {
    "duration": 70,
    "start_time": "2021-12-03T21:01:22.414Z"
   },
   {
    "duration": 58,
    "start_time": "2021-12-03T21:01:23.724Z"
   },
   {
    "duration": 5,
    "start_time": "2021-12-03T21:01:28.118Z"
   },
   {
    "duration": 3,
    "start_time": "2021-12-03T21:01:29.539Z"
   },
   {
    "duration": 10,
    "start_time": "2021-12-03T21:01:31.064Z"
   },
   {
    "duration": 5,
    "start_time": "2021-12-03T21:01:32.256Z"
   },
   {
    "duration": 40,
    "start_time": "2021-12-03T21:01:36.338Z"
   },
   {
    "duration": 14,
    "start_time": "2021-12-03T21:01:37.660Z"
   },
   {
    "duration": 3,
    "start_time": "2021-12-03T21:01:39.944Z"
   },
   {
    "duration": 17,
    "start_time": "2021-12-03T21:01:41.721Z"
   },
   {
    "duration": 14,
    "start_time": "2021-12-03T21:01:42.564Z"
   },
   {
    "duration": 15,
    "start_time": "2021-12-03T21:01:43.237Z"
   },
   {
    "duration": 15,
    "start_time": "2021-12-03T21:01:43.871Z"
   },
   {
    "duration": 18,
    "start_time": "2021-12-03T21:01:44.645Z"
   },
   {
    "duration": 16,
    "start_time": "2021-12-03T21:01:45.446Z"
   },
   {
    "duration": 441,
    "start_time": "2021-12-03T21:01:47.800Z"
   },
   {
    "duration": 334,
    "start_time": "2021-12-03T21:01:59.841Z"
   },
   {
    "duration": 12,
    "start_time": "2021-12-03T21:02:05.883Z"
   },
   {
    "duration": 9,
    "start_time": "2021-12-03T21:02:06.744Z"
   },
   {
    "duration": 4,
    "start_time": "2021-12-03T21:02:08.391Z"
   },
   {
    "duration": 18,
    "start_time": "2021-12-03T21:02:10.089Z"
   },
   {
    "duration": 14,
    "start_time": "2021-12-03T21:02:11.085Z"
   },
   {
    "duration": 18,
    "start_time": "2021-12-03T21:02:11.954Z"
   },
   {
    "duration": 14,
    "start_time": "2021-12-03T21:02:12.804Z"
   },
   {
    "duration": 9,
    "start_time": "2021-12-03T21:02:16.267Z"
   },
   {
    "duration": 4,
    "start_time": "2021-12-03T21:02:17.880Z"
   },
   {
    "duration": 6,
    "start_time": "2021-12-03T21:02:19.449Z"
   },
   {
    "duration": 4,
    "start_time": "2021-12-03T21:02:20.881Z"
   },
   {
    "duration": 325,
    "start_time": "2021-12-03T21:03:30.978Z"
   },
   {
    "duration": 332,
    "start_time": "2021-12-03T21:04:23.040Z"
   },
   {
    "duration": 367,
    "start_time": "2021-12-03T21:05:14.509Z"
   },
   {
    "duration": 367,
    "start_time": "2021-12-03T21:05:42.643Z"
   },
   {
    "duration": 379,
    "start_time": "2021-12-03T21:06:29.897Z"
   },
   {
    "duration": 347,
    "start_time": "2021-12-03T21:06:49.696Z"
   },
   {
    "duration": 336,
    "start_time": "2021-12-03T21:07:12.515Z"
   },
   {
    "duration": 323,
    "start_time": "2021-12-03T21:07:28.009Z"
   },
   {
    "duration": 393,
    "start_time": "2021-12-03T21:07:40.105Z"
   },
   {
    "duration": 330,
    "start_time": "2021-12-03T21:08:32.866Z"
   },
   {
    "duration": 331,
    "start_time": "2021-12-03T21:09:03.819Z"
   },
   {
    "duration": 315,
    "start_time": "2021-12-03T21:09:23.155Z"
   },
   {
    "duration": 327,
    "start_time": "2021-12-03T21:17:09.890Z"
   },
   {
    "duration": 360,
    "start_time": "2021-12-03T21:17:26.460Z"
   },
   {
    "duration": 5,
    "start_time": "2021-12-03T21:17:40.819Z"
   },
   {
    "duration": 5,
    "start_time": "2021-12-03T21:18:00.082Z"
   },
   {
    "duration": 4,
    "start_time": "2021-12-03T21:18:44.750Z"
   },
   {
    "duration": 4,
    "start_time": "2021-12-03T21:19:16.900Z"
   },
   {
    "duration": 315,
    "start_time": "2021-12-03T21:39:51.380Z"
   },
   {
    "duration": 344,
    "start_time": "2021-12-03T21:41:32.733Z"
   },
   {
    "duration": 316,
    "start_time": "2021-12-03T21:42:05.614Z"
   },
   {
    "duration": 4,
    "start_time": "2021-12-03T21:43:37.719Z"
   },
   {
    "duration": 644,
    "start_time": "2021-12-03T21:43:41.110Z"
   },
   {
    "duration": 3,
    "start_time": "2021-12-03T21:44:04.322Z"
   },
   {
    "duration": 633,
    "start_time": "2021-12-03T21:44:06.346Z"
   },
   {
    "duration": 701,
    "start_time": "2021-12-03T21:44:10.589Z"
   },
   {
    "duration": 3,
    "start_time": "2021-12-03T21:44:18.028Z"
   },
   {
    "duration": 17,
    "start_time": "2021-12-03T21:44:19.801Z"
   },
   {
    "duration": 16,
    "start_time": "2021-12-03T21:44:21.492Z"
   },
   {
    "duration": 4,
    "start_time": "2021-12-03T21:45:09.256Z"
   },
   {
    "duration": 693,
    "start_time": "2021-12-03T21:45:11.256Z"
   },
   {
    "duration": 693,
    "start_time": "2021-12-03T21:45:12.589Z"
   },
   {
    "duration": 4,
    "start_time": "2021-12-03T21:45:39.268Z"
   },
   {
    "duration": 17,
    "start_time": "2021-12-03T21:45:41.812Z"
   },
   {
    "duration": 15,
    "start_time": "2021-12-03T21:45:42.905Z"
   },
   {
    "duration": 16,
    "start_time": "2021-12-03T21:45:44.350Z"
   },
   {
    "duration": 15,
    "start_time": "2021-12-03T21:45:45.080Z"
   },
   {
    "duration": 18,
    "start_time": "2021-12-03T21:45:45.721Z"
   },
   {
    "duration": 14,
    "start_time": "2021-12-03T21:45:46.362Z"
   },
   {
    "duration": 316,
    "start_time": "2021-12-03T21:45:49.025Z"
   },
   {
    "duration": 320,
    "start_time": "2021-12-03T21:46:24.479Z"
   },
   {
    "duration": 315,
    "start_time": "2021-12-03T21:48:20.321Z"
   },
   {
    "duration": 4,
    "start_time": "2021-12-03T21:51:24.066Z"
   },
   {
    "duration": 16,
    "start_time": "2021-12-03T21:51:28.725Z"
   },
   {
    "duration": 4,
    "start_time": "2021-12-03T21:52:06.632Z"
   },
   {
    "duration": 16,
    "start_time": "2021-12-03T21:52:07.995Z"
   },
   {
    "duration": 14,
    "start_time": "2021-12-03T21:52:08.792Z"
   },
   {
    "duration": 15,
    "start_time": "2021-12-03T21:52:09.470Z"
   },
   {
    "duration": 13,
    "start_time": "2021-12-03T21:52:10.503Z"
   },
   {
    "duration": 16,
    "start_time": "2021-12-03T21:52:11.181Z"
   },
   {
    "duration": 15,
    "start_time": "2021-12-03T21:52:12.722Z"
   },
   {
    "duration": 308,
    "start_time": "2021-12-03T21:52:16.192Z"
   },
   {
    "duration": 332,
    "start_time": "2021-12-03T21:54:57.880Z"
   },
   {
    "duration": 329,
    "start_time": "2021-12-03T21:56:01.654Z"
   },
   {
    "duration": 3,
    "start_time": "2021-12-03T21:56:13.551Z"
   },
   {
    "duration": 315,
    "start_time": "2021-12-03T21:57:42.937Z"
   },
   {
    "duration": 326,
    "start_time": "2021-12-03T22:01:09.872Z"
   },
   {
    "duration": 3,
    "start_time": "2021-12-03T22:03:34.147Z"
   },
   {
    "duration": 15,
    "start_time": "2021-12-03T22:03:35.897Z"
   },
   {
    "duration": 13,
    "start_time": "2021-12-03T22:03:37.290Z"
   },
   {
    "duration": 15,
    "start_time": "2021-12-03T22:03:38.222Z"
   },
   {
    "duration": 13,
    "start_time": "2021-12-03T22:03:38.921Z"
   },
   {
    "duration": 16,
    "start_time": "2021-12-03T22:03:39.543Z"
   },
   {
    "duration": 13,
    "start_time": "2021-12-03T22:03:42.259Z"
   },
   {
    "duration": 325,
    "start_time": "2021-12-03T22:03:45.864Z"
   },
   {
    "duration": 4,
    "start_time": "2021-12-03T22:03:56.916Z"
   },
   {
    "duration": 18,
    "start_time": "2021-12-03T22:03:58.641Z"
   },
   {
    "duration": 16,
    "start_time": "2021-12-03T22:03:59.267Z"
   },
   {
    "duration": 15,
    "start_time": "2021-12-03T22:03:59.881Z"
   },
   {
    "duration": 15,
    "start_time": "2021-12-03T22:04:00.473Z"
   },
   {
    "duration": 17,
    "start_time": "2021-12-03T22:04:00.993Z"
   },
   {
    "duration": 15,
    "start_time": "2021-12-03T22:04:01.590Z"
   },
   {
    "duration": 357,
    "start_time": "2021-12-03T22:04:05.371Z"
   },
   {
    "duration": 48,
    "start_time": "2021-12-03T22:09:19.649Z"
   },
   {
    "duration": 6,
    "start_time": "2021-12-03T22:10:56.034Z"
   },
   {
    "duration": 5,
    "start_time": "2021-12-03T22:11:01.197Z"
   },
   {
    "duration": 41,
    "start_time": "2021-12-03T22:11:41.361Z"
   },
   {
    "duration": 31,
    "start_time": "2021-12-03T22:11:46.986Z"
   },
   {
    "duration": 13,
    "start_time": "2021-12-03T22:11:48.611Z"
   },
   {
    "duration": 4,
    "start_time": "2021-12-03T22:11:50.782Z"
   },
   {
    "duration": 19,
    "start_time": "2021-12-03T22:11:52.244Z"
   },
   {
    "duration": 15,
    "start_time": "2021-12-03T22:11:53.006Z"
   },
   {
    "duration": 16,
    "start_time": "2021-12-03T22:11:53.638Z"
   },
   {
    "duration": 16,
    "start_time": "2021-12-03T22:11:54.350Z"
   },
   {
    "duration": 18,
    "start_time": "2021-12-03T22:11:55.061Z"
   },
   {
    "duration": 17,
    "start_time": "2021-12-03T22:11:55.751Z"
   },
   {
    "duration": 1560,
    "start_time": "2021-12-03T22:11:57.387Z"
   },
   {
    "duration": 15,
    "start_time": "2021-12-03T22:12:03.046Z"
   },
   {
    "duration": 11,
    "start_time": "2021-12-03T22:12:03.702Z"
   },
   {
    "duration": 702,
    "start_time": "2021-12-04T15:25:47.908Z"
   },
   {
    "duration": 178,
    "start_time": "2021-12-04T15:25:48.613Z"
   },
   {
    "duration": 24,
    "start_time": "2021-12-04T15:25:48.794Z"
   },
   {
    "duration": 55,
    "start_time": "2021-12-04T15:25:48.821Z"
   },
   {
    "duration": 5,
    "start_time": "2021-12-04T15:25:48.879Z"
   },
   {
    "duration": 35,
    "start_time": "2021-12-04T15:25:48.886Z"
   },
   {
    "duration": 4,
    "start_time": "2021-12-04T15:25:48.923Z"
   },
   {
    "duration": 55,
    "start_time": "2021-12-04T15:25:48.929Z"
   },
   {
    "duration": 23,
    "start_time": "2021-12-04T15:25:48.988Z"
   },
   {
    "duration": 49,
    "start_time": "2021-12-04T15:25:49.014Z"
   },
   {
    "duration": 99,
    "start_time": "2021-12-04T15:25:49.065Z"
   },
   {
    "duration": 107,
    "start_time": "2021-12-04T15:25:49.167Z"
   },
   {
    "duration": 83,
    "start_time": "2021-12-04T15:25:49.276Z"
   },
   {
    "duration": 8,
    "start_time": "2021-12-04T15:25:49.361Z"
   },
   {
    "duration": 4,
    "start_time": "2021-12-04T15:25:49.371Z"
   },
   {
    "duration": 14,
    "start_time": "2021-12-04T15:25:49.378Z"
   },
   {
    "duration": 106,
    "start_time": "2021-12-04T15:25:49.395Z"
   },
   {
    "duration": 38,
    "start_time": "2021-12-04T15:25:49.504Z"
   },
   {
    "duration": 18,
    "start_time": "2021-12-04T15:25:49.561Z"
   },
   {
    "duration": 6,
    "start_time": "2021-12-04T15:25:49.582Z"
   },
   {
    "duration": 27,
    "start_time": "2021-12-04T15:25:49.591Z"
   },
   {
    "duration": 55,
    "start_time": "2021-12-04T15:25:49.621Z"
   },
   {
    "duration": 20,
    "start_time": "2021-12-04T15:25:49.678Z"
   },
   {
    "duration": 16,
    "start_time": "2021-12-04T15:25:49.700Z"
   },
   {
    "duration": 49,
    "start_time": "2021-12-04T15:25:49.719Z"
   },
   {
    "duration": 18,
    "start_time": "2021-12-04T15:25:49.770Z"
   },
   {
    "duration": 371,
    "start_time": "2021-12-04T15:25:49.793Z"
   },
   {
    "duration": -38,
    "start_time": "2021-12-04T15:25:50.205Z"
   },
   {
    "duration": -40,
    "start_time": "2021-12-04T15:25:50.208Z"
   },
   {
    "duration": -61,
    "start_time": "2021-12-04T15:25:50.231Z"
   },
   {
    "duration": -64,
    "start_time": "2021-12-04T15:25:50.235Z"
   },
   {
    "duration": -67,
    "start_time": "2021-12-04T15:25:50.239Z"
   },
   {
    "duration": -68,
    "start_time": "2021-12-04T15:25:50.242Z"
   },
   {
    "duration": -69,
    "start_time": "2021-12-04T15:25:50.244Z"
   },
   {
    "duration": -71,
    "start_time": "2021-12-04T15:25:50.247Z"
   },
   {
    "duration": -73,
    "start_time": "2021-12-04T15:25:50.251Z"
   },
   {
    "duration": -75,
    "start_time": "2021-12-04T15:25:50.254Z"
   },
   {
    "duration": -78,
    "start_time": "2021-12-04T15:25:50.258Z"
   },
   {
    "duration": 3,
    "start_time": "2021-12-04T15:26:47.522Z"
   },
   {
    "duration": 210,
    "start_time": "2021-12-04T15:26:47.528Z"
   },
   {
    "duration": 24,
    "start_time": "2021-12-04T15:26:47.742Z"
   },
   {
    "duration": 32,
    "start_time": "2021-12-04T15:26:47.769Z"
   },
   {
    "duration": 6,
    "start_time": "2021-12-04T15:26:47.803Z"
   },
   {
    "duration": 58,
    "start_time": "2021-12-04T15:26:47.812Z"
   },
   {
    "duration": 6,
    "start_time": "2021-12-04T15:26:47.874Z"
   },
   {
    "duration": 32,
    "start_time": "2021-12-04T15:26:47.883Z"
   },
   {
    "duration": 50,
    "start_time": "2021-12-04T15:26:47.917Z"
   },
   {
    "duration": 30,
    "start_time": "2021-12-04T15:26:47.970Z"
   },
   {
    "duration": 99,
    "start_time": "2021-12-04T15:26:48.003Z"
   },
   {
    "duration": 104,
    "start_time": "2021-12-04T15:26:48.105Z"
   },
   {
    "duration": 84,
    "start_time": "2021-12-04T15:26:48.211Z"
   },
   {
    "duration": 7,
    "start_time": "2021-12-04T15:26:48.297Z"
   },
   {
    "duration": 20,
    "start_time": "2021-12-04T15:26:48.307Z"
   },
   {
    "duration": 29,
    "start_time": "2021-12-04T15:26:48.330Z"
   },
   {
    "duration": 14,
    "start_time": "2021-12-04T15:26:48.361Z"
   },
   {
    "duration": 88,
    "start_time": "2021-12-04T15:26:48.377Z"
   },
   {
    "duration": 48,
    "start_time": "2021-12-04T15:26:48.469Z"
   },
   {
    "duration": 40,
    "start_time": "2021-12-04T15:26:48.520Z"
   },
   {
    "duration": 4,
    "start_time": "2021-12-04T15:26:48.563Z"
   },
   {
    "duration": 24,
    "start_time": "2021-12-04T15:26:48.569Z"
   },
   {
    "duration": 19,
    "start_time": "2021-12-04T15:26:48.595Z"
   },
   {
    "duration": 51,
    "start_time": "2021-12-04T15:26:48.616Z"
   },
   {
    "duration": 19,
    "start_time": "2021-12-04T15:26:48.669Z"
   },
   {
    "duration": 23,
    "start_time": "2021-12-04T15:26:48.691Z"
   },
   {
    "duration": 55,
    "start_time": "2021-12-04T15:26:48.716Z"
   },
   {
    "duration": 281,
    "start_time": "2021-12-04T15:26:48.774Z"
   },
   {
    "duration": -86,
    "start_time": "2021-12-04T15:26:49.143Z"
   },
   {
    "duration": -87,
    "start_time": "2021-12-04T15:26:49.146Z"
   },
   {
    "duration": -88,
    "start_time": "2021-12-04T15:26:49.149Z"
   },
   {
    "duration": -90,
    "start_time": "2021-12-04T15:26:49.152Z"
   },
   {
    "duration": -93,
    "start_time": "2021-12-04T15:26:49.157Z"
   },
   {
    "duration": -95,
    "start_time": "2021-12-04T15:26:49.160Z"
   },
   {
    "duration": -96,
    "start_time": "2021-12-04T15:26:49.163Z"
   },
   {
    "duration": -96,
    "start_time": "2021-12-04T15:26:49.166Z"
   },
   {
    "duration": -98,
    "start_time": "2021-12-04T15:26:49.169Z"
   },
   {
    "duration": -100,
    "start_time": "2021-12-04T15:26:49.173Z"
   },
   {
    "duration": -103,
    "start_time": "2021-12-04T15:26:49.177Z"
   },
   {
    "duration": 734,
    "start_time": "2021-12-04T15:54:15.286Z"
   },
   {
    "duration": 278,
    "start_time": "2021-12-04T15:54:16.024Z"
   },
   {
    "duration": 41,
    "start_time": "2021-12-04T15:54:16.306Z"
   },
   {
    "duration": 32,
    "start_time": "2021-12-04T15:54:16.360Z"
   },
   {
    "duration": 4,
    "start_time": "2021-12-04T15:54:16.395Z"
   },
   {
    "duration": 68,
    "start_time": "2021-12-04T15:54:16.401Z"
   },
   {
    "duration": 6,
    "start_time": "2021-12-04T15:54:16.472Z"
   },
   {
    "duration": 34,
    "start_time": "2021-12-04T15:54:16.482Z"
   },
   {
    "duration": 47,
    "start_time": "2021-12-04T15:54:16.519Z"
   },
   {
    "duration": 31,
    "start_time": "2021-12-04T15:54:16.568Z"
   },
   {
    "duration": 98,
    "start_time": "2021-12-04T15:54:16.602Z"
   },
   {
    "duration": 123,
    "start_time": "2021-12-04T15:54:16.703Z"
   },
   {
    "duration": 104,
    "start_time": "2021-12-04T15:54:16.829Z"
   },
   {
    "duration": 10,
    "start_time": "2021-12-04T15:54:16.937Z"
   },
   {
    "duration": 6,
    "start_time": "2021-12-04T15:54:16.960Z"
   },
   {
    "duration": 23,
    "start_time": "2021-12-04T15:54:16.969Z"
   },
   {
    "duration": 108,
    "start_time": "2021-12-04T15:54:16.996Z"
   },
   {
    "duration": 35,
    "start_time": "2021-12-04T15:54:17.107Z"
   },
   {
    "duration": 36,
    "start_time": "2021-12-04T15:54:17.144Z"
   },
   {
    "duration": 7,
    "start_time": "2021-12-04T15:54:17.183Z"
   },
   {
    "duration": 37,
    "start_time": "2021-12-04T15:54:17.193Z"
   },
   {
    "duration": 25,
    "start_time": "2021-12-04T15:54:17.259Z"
   },
   {
    "duration": 20,
    "start_time": "2021-12-04T15:54:17.288Z"
   },
   {
    "duration": 50,
    "start_time": "2021-12-04T15:54:17.311Z"
   },
   {
    "duration": 33,
    "start_time": "2021-12-04T15:54:17.364Z"
   },
   {
    "duration": 28,
    "start_time": "2021-12-04T15:54:17.400Z"
   },
   {
    "duration": 523,
    "start_time": "2021-12-04T15:54:17.433Z"
   },
   {
    "duration": -56,
    "start_time": "2021-12-04T15:54:18.015Z"
   },
   {
    "duration": -62,
    "start_time": "2021-12-04T15:54:18.022Z"
   },
   {
    "duration": -63,
    "start_time": "2021-12-04T15:54:18.025Z"
   },
   {
    "duration": -65,
    "start_time": "2021-12-04T15:54:18.028Z"
   },
   {
    "duration": -66,
    "start_time": "2021-12-04T15:54:18.031Z"
   },
   {
    "duration": -68,
    "start_time": "2021-12-04T15:54:18.034Z"
   },
   {
    "duration": -68,
    "start_time": "2021-12-04T15:54:18.036Z"
   },
   {
    "duration": -70,
    "start_time": "2021-12-04T15:54:18.039Z"
   },
   {
    "duration": -72,
    "start_time": "2021-12-04T15:54:18.043Z"
   },
   {
    "duration": -75,
    "start_time": "2021-12-04T15:54:18.047Z"
   },
   {
    "duration": -77,
    "start_time": "2021-12-04T15:54:18.050Z"
   },
   {
    "duration": 338,
    "start_time": "2021-12-04T18:28:18.208Z"
   },
   {
    "duration": 711,
    "start_time": "2021-12-04T18:28:28.830Z"
   },
   {
    "duration": 185,
    "start_time": "2021-12-04T18:28:31.982Z"
   },
   {
    "duration": 26,
    "start_time": "2021-12-04T18:28:37.239Z"
   },
   {
    "duration": 27,
    "start_time": "2021-12-04T18:28:54.440Z"
   },
   {
    "duration": 15,
    "start_time": "2021-12-04T18:29:33.060Z"
   },
   {
    "duration": 16,
    "start_time": "2021-12-04T18:29:36.779Z"
   },
   {
    "duration": 84,
    "start_time": "2021-12-04T18:33:28.875Z"
   },
   {
    "duration": 8,
    "start_time": "2021-12-04T18:37:44.809Z"
   },
   {
    "duration": 7,
    "start_time": "2021-12-04T18:38:26.579Z"
   },
   {
    "duration": 50,
    "start_time": "2021-12-04T18:38:43.265Z"
   },
   {
    "duration": 30,
    "start_time": "2021-12-04T18:39:14.465Z"
   },
   {
    "duration": 6,
    "start_time": "2021-12-04T18:39:30.920Z"
   },
   {
    "duration": 29,
    "start_time": "2021-12-04T18:39:57.067Z"
   },
   {
    "duration": 83,
    "start_time": "2021-12-04T18:40:26.097Z"
   },
   {
    "duration": 106,
    "start_time": "2021-12-04T18:40:36.760Z"
   },
   {
    "duration": 47,
    "start_time": "2021-12-04T18:40:40.702Z"
   },
   {
    "duration": 97,
    "start_time": "2021-12-04T18:40:43.320Z"
   },
   {
    "duration": 307,
    "start_time": "2021-12-04T18:41:01.301Z"
   },
   {
    "duration": 3,
    "start_time": "2021-12-04T18:41:31.868Z"
   },
   {
    "duration": 192,
    "start_time": "2021-12-04T18:41:34.290Z"
   },
   {
    "duration": 18,
    "start_time": "2021-12-04T18:41:35.567Z"
   },
   {
    "duration": 34,
    "start_time": "2021-12-04T18:41:37.706Z"
   },
   {
    "duration": 7,
    "start_time": "2021-12-04T18:41:41.848Z"
   },
   {
    "duration": 28,
    "start_time": "2021-12-04T18:41:43.702Z"
   },
   {
    "duration": 5,
    "start_time": "2021-12-04T18:41:44.843Z"
   },
   {
    "duration": 29,
    "start_time": "2021-12-04T18:41:46.666Z"
   },
   {
    "duration": 287,
    "start_time": "2021-12-04T18:41:48.999Z"
   },
   {
    "duration": 30,
    "start_time": "2021-12-04T18:42:16.686Z"
   },
   {
    "duration": 31,
    "start_time": "2021-12-04T18:42:33.395Z"
   },
   {
    "duration": 89,
    "start_time": "2021-12-04T18:42:56.132Z"
   },
   {
    "duration": 88,
    "start_time": "2021-12-04T18:43:02.387Z"
   },
   {
    "duration": 100,
    "start_time": "2021-12-04T18:43:22.829Z"
   },
   {
    "duration": 74,
    "start_time": "2021-12-04T18:43:40.997Z"
   },
   {
    "duration": 77,
    "start_time": "2021-12-04T18:51:38.864Z"
   },
   {
    "duration": 347,
    "start_time": "2021-12-04T18:56:38.259Z"
   },
   {
    "duration": 3,
    "start_time": "2021-12-04T18:59:35.828Z"
   },
   {
    "duration": 749,
    "start_time": "2021-12-04T19:00:47.216Z"
   },
   {
    "duration": 193,
    "start_time": "2021-12-04T19:00:47.967Z"
   },
   {
    "duration": 28,
    "start_time": "2021-12-04T19:00:48.162Z"
   },
   {
    "duration": 32,
    "start_time": "2021-12-04T19:00:48.192Z"
   },
   {
    "duration": 6,
    "start_time": "2021-12-04T19:00:48.228Z"
   },
   {
    "duration": 62,
    "start_time": "2021-12-04T19:00:48.237Z"
   },
   {
    "duration": 7,
    "start_time": "2021-12-04T19:00:48.302Z"
   },
   {
    "duration": 30,
    "start_time": "2021-12-04T19:00:48.313Z"
   },
   {
    "duration": 447,
    "start_time": "2021-12-04T19:00:48.346Z"
   },
   {
    "duration": -324,
    "start_time": "2021-12-04T19:00:49.120Z"
   },
   {
    "duration": -328,
    "start_time": "2021-12-04T19:00:49.125Z"
   },
   {
    "duration": -331,
    "start_time": "2021-12-04T19:00:49.130Z"
   },
   {
    "duration": -334,
    "start_time": "2021-12-04T19:00:49.134Z"
   },
   {
    "duration": -337,
    "start_time": "2021-12-04T19:00:49.139Z"
   },
   {
    "duration": -346,
    "start_time": "2021-12-04T19:00:49.149Z"
   },
   {
    "duration": -348,
    "start_time": "2021-12-04T19:00:49.153Z"
   },
   {
    "duration": -351,
    "start_time": "2021-12-04T19:00:49.158Z"
   },
   {
    "duration": -354,
    "start_time": "2021-12-04T19:00:49.162Z"
   },
   {
    "duration": -357,
    "start_time": "2021-12-04T19:00:49.167Z"
   },
   {
    "duration": -360,
    "start_time": "2021-12-04T19:00:49.171Z"
   },
   {
    "duration": -362,
    "start_time": "2021-12-04T19:00:49.175Z"
   },
   {
    "duration": -365,
    "start_time": "2021-12-04T19:00:49.179Z"
   },
   {
    "duration": -367,
    "start_time": "2021-12-04T19:00:49.183Z"
   },
   {
    "duration": -370,
    "start_time": "2021-12-04T19:00:49.187Z"
   },
   {
    "duration": -371,
    "start_time": "2021-12-04T19:00:49.190Z"
   },
   {
    "duration": -374,
    "start_time": "2021-12-04T19:00:49.194Z"
   },
   {
    "duration": -378,
    "start_time": "2021-12-04T19:00:49.199Z"
   },
   {
    "duration": -380,
    "start_time": "2021-12-04T19:00:49.203Z"
   },
   {
    "duration": -383,
    "start_time": "2021-12-04T19:00:49.207Z"
   },
   {
    "duration": -386,
    "start_time": "2021-12-04T19:00:49.211Z"
   },
   {
    "duration": -389,
    "start_time": "2021-12-04T19:00:49.215Z"
   },
   {
    "duration": -391,
    "start_time": "2021-12-04T19:00:49.219Z"
   },
   {
    "duration": -401,
    "start_time": "2021-12-04T19:00:49.230Z"
   },
   {
    "duration": -405,
    "start_time": "2021-12-04T19:00:49.235Z"
   },
   {
    "duration": -407,
    "start_time": "2021-12-04T19:00:49.239Z"
   },
   {
    "duration": -411,
    "start_time": "2021-12-04T19:00:49.244Z"
   },
   {
    "duration": -365,
    "start_time": "2021-12-04T19:00:49.247Z"
   },
   {
    "duration": -369,
    "start_time": "2021-12-04T19:00:49.252Z"
   },
   {
    "duration": 102,
    "start_time": "2021-12-04T19:01:47.117Z"
   },
   {
    "duration": 128,
    "start_time": "2021-12-04T19:03:05.596Z"
   },
   {
    "duration": 298,
    "start_time": "2021-12-04T19:03:45.097Z"
   },
   {
    "duration": 416,
    "start_time": "2021-12-04T19:04:12.029Z"
   },
   {
    "duration": 9,
    "start_time": "2021-12-04T19:05:40.878Z"
   },
   {
    "duration": 15,
    "start_time": "2021-12-04T19:07:17.707Z"
   },
   {
    "duration": 4,
    "start_time": "2021-12-04T19:09:35.052Z"
   },
   {
    "duration": 4,
    "start_time": "2021-12-04T19:09:44.687Z"
   },
   {
    "duration": 20,
    "start_time": "2021-12-04T19:11:39.737Z"
   },
   {
    "duration": 289,
    "start_time": "2021-12-04T19:12:55.143Z"
   },
   {
    "duration": 289,
    "start_time": "2021-12-04T19:14:52.080Z"
   },
   {
    "duration": 16,
    "start_time": "2021-12-04T19:18:41.597Z"
   },
   {
    "duration": 283,
    "start_time": "2021-12-04T19:23:04.635Z"
   },
   {
    "duration": 286,
    "start_time": "2021-12-04T19:23:06.592Z"
   },
   {
    "duration": 14,
    "start_time": "2021-12-04T19:23:13.235Z"
   },
   {
    "duration": 33,
    "start_time": "2021-12-04T19:23:15.825Z"
   },
   {
    "duration": 31,
    "start_time": "2021-12-04T19:23:17.005Z"
   },
   {
    "duration": 30,
    "start_time": "2021-12-04T19:23:17.624Z"
   },
   {
    "duration": 18,
    "start_time": "2021-12-04T19:23:18.467Z"
   },
   {
    "duration": 20,
    "start_time": "2021-12-04T19:23:19.075Z"
   },
   {
    "duration": 19,
    "start_time": "2021-12-04T19:24:52.418Z"
   },
   {
    "duration": 12,
    "start_time": "2021-12-04T19:26:07.310Z"
   },
   {
    "duration": 17,
    "start_time": "2021-12-04T19:26:26.705Z"
   },
   {
    "duration": 13,
    "start_time": "2021-12-04T19:26:39.824Z"
   },
   {
    "duration": 7,
    "start_time": "2021-12-04T19:27:47.430Z"
   },
   {
    "duration": 6,
    "start_time": "2021-12-04T19:27:50.846Z"
   },
   {
    "duration": 6,
    "start_time": "2021-12-04T19:27:52.819Z"
   },
   {
    "duration": 6,
    "start_time": "2021-12-04T19:28:08.950Z"
   },
   {
    "duration": 6,
    "start_time": "2021-12-04T19:28:11.523Z"
   },
   {
    "duration": 6,
    "start_time": "2021-12-04T19:28:19.611Z"
   },
   {
    "duration": 4,
    "start_time": "2021-12-04T19:29:22.289Z"
   },
   {
    "duration": 190,
    "start_time": "2021-12-04T19:29:24.705Z"
   },
   {
    "duration": 16,
    "start_time": "2021-12-04T19:29:26.067Z"
   },
   {
    "duration": 31,
    "start_time": "2021-12-04T19:29:28.793Z"
   },
   {
    "duration": 5,
    "start_time": "2021-12-04T19:29:33.984Z"
   },
   {
    "duration": 26,
    "start_time": "2021-12-04T19:29:36.185Z"
   },
   {
    "duration": 6,
    "start_time": "2021-12-04T19:29:38.080Z"
   },
   {
    "duration": 29,
    "start_time": "2021-12-04T19:29:40.411Z"
   },
   {
    "duration": 266,
    "start_time": "2021-12-04T19:29:43.417Z"
   },
   {
    "duration": 16,
    "start_time": "2021-12-04T19:37:43.135Z"
   },
   {
    "duration": 17,
    "start_time": "2021-12-04T19:37:51.336Z"
   },
   {
    "duration": 16,
    "start_time": "2021-12-04T19:38:01.190Z"
   },
   {
    "duration": 14,
    "start_time": "2021-12-04T19:38:19.663Z"
   },
   {
    "duration": 453,
    "start_time": "2021-12-04T19:39:29.450Z"
   },
   {
    "duration": 283,
    "start_time": "2021-12-04T19:39:40.470Z"
   },
   {
    "duration": 14,
    "start_time": "2021-12-04T19:39:48.048Z"
   },
   {
    "duration": 306,
    "start_time": "2021-12-04T19:40:36.159Z"
   },
   {
    "duration": 305,
    "start_time": "2021-12-04T19:40:39.970Z"
   },
   {
    "duration": 22,
    "start_time": "2021-12-04T19:40:51.755Z"
   },
   {
    "duration": 15,
    "start_time": "2021-12-04T19:41:09.784Z"
   },
   {
    "duration": 15,
    "start_time": "2021-12-04T19:41:57.661Z"
   },
   {
    "duration": 278,
    "start_time": "2021-12-04T19:44:24.232Z"
   },
   {
    "duration": 296,
    "start_time": "2021-12-04T19:44:33.824Z"
   },
   {
    "duration": 4,
    "start_time": "2021-12-04T19:44:49.973Z"
   },
   {
    "duration": 189,
    "start_time": "2021-12-04T19:44:52.367Z"
   },
   {
    "duration": 21,
    "start_time": "2021-12-04T19:44:53.753Z"
   },
   {
    "duration": 33,
    "start_time": "2021-12-04T19:44:55.746Z"
   },
   {
    "duration": 6,
    "start_time": "2021-12-04T19:45:01.009Z"
   },
   {
    "duration": 27,
    "start_time": "2021-12-04T19:45:03.073Z"
   },
   {
    "duration": 6,
    "start_time": "2021-12-04T19:45:04.310Z"
   },
   {
    "duration": 29,
    "start_time": "2021-12-04T19:45:06.363Z"
   },
   {
    "duration": 298,
    "start_time": "2021-12-04T19:45:08.895Z"
   },
   {
    "duration": 30,
    "start_time": "2021-12-04T19:45:15.495Z"
   },
   {
    "duration": 88,
    "start_time": "2021-12-04T19:45:16.753Z"
   },
   {
    "duration": 95,
    "start_time": "2021-12-04T19:45:17.976Z"
   },
   {
    "duration": 78,
    "start_time": "2021-12-04T19:45:19.161Z"
   },
   {
    "duration": 12,
    "start_time": "2021-12-04T19:45:21.826Z"
   },
   {
    "duration": 5,
    "start_time": "2021-12-04T19:45:23.789Z"
   },
   {
    "duration": 32,
    "start_time": "2021-12-04T19:45:25.748Z"
   },
   {
    "duration": 116,
    "start_time": "2021-12-04T19:45:27.156Z"
   },
   {
    "duration": 16,
    "start_time": "2021-12-04T19:45:34.995Z"
   },
   {
    "duration": 15,
    "start_time": "2021-12-04T19:45:37.335Z"
   },
   {
    "duration": 7,
    "start_time": "2021-12-04T19:45:39.925Z"
   },
   {
    "duration": 33,
    "start_time": "2021-12-04T19:45:41.946Z"
   },
   {
    "duration": 28,
    "start_time": "2021-12-04T19:45:42.816Z"
   },
   {
    "duration": 29,
    "start_time": "2021-12-04T19:45:43.458Z"
   },
   {
    "duration": 30,
    "start_time": "2021-12-04T19:45:44.029Z"
   },
   {
    "duration": 35,
    "start_time": "2021-12-04T19:45:44.725Z"
   },
   {
    "duration": 30,
    "start_time": "2021-12-04T19:45:45.409Z"
   },
   {
    "duration": 17,
    "start_time": "2021-12-04T19:45:46.712Z"
   },
   {
    "duration": 23,
    "start_time": "2021-12-04T19:45:52.032Z"
   },
   {
    "duration": 19,
    "start_time": "2021-12-04T19:45:52.883Z"
   },
   {
    "duration": 5,
    "start_time": "2021-12-04T19:45:55.021Z"
   },
   {
    "duration": 28,
    "start_time": "2021-12-04T19:45:57.584Z"
   },
   {
    "duration": 21,
    "start_time": "2021-12-04T19:45:58.269Z"
   },
   {
    "duration": 25,
    "start_time": "2021-12-04T19:45:59.019Z"
   },
   {
    "duration": 23,
    "start_time": "2021-12-04T19:46:00.194Z"
   },
   {
    "duration": 18,
    "start_time": "2021-12-04T19:46:04.695Z"
   },
   {
    "duration": 5,
    "start_time": "2021-12-04T19:46:06.626Z"
   },
   {
    "duration": 9,
    "start_time": "2021-12-04T19:46:08.141Z"
   },
   {
    "duration": 5,
    "start_time": "2021-12-04T19:46:09.497Z"
   },
   {
    "duration": 280,
    "start_time": "2021-12-04T19:47:50.277Z"
   },
   {
    "duration": 286,
    "start_time": "2021-12-04T19:48:06.605Z"
   },
   {
    "duration": 385,
    "start_time": "2021-12-04T19:49:48.880Z"
   },
   {
    "duration": 27,
    "start_time": "2021-12-04T19:52:39.326Z"
   },
   {
    "duration": 28,
    "start_time": "2021-12-04T19:52:44.045Z"
   },
   {
    "duration": 40,
    "start_time": "2021-12-04T19:52:47.120Z"
   },
   {
    "duration": 94,
    "start_time": "2021-12-04T19:55:12.769Z"
   },
   {
    "duration": 90,
    "start_time": "2021-12-04T19:55:20.749Z"
   },
   {
    "duration": 986,
    "start_time": "2021-12-04T19:57:54.106Z"
   },
   {
    "duration": 203,
    "start_time": "2021-12-04T19:57:55.095Z"
   },
   {
    "duration": 29,
    "start_time": "2021-12-04T19:57:55.302Z"
   },
   {
    "duration": 57,
    "start_time": "2021-12-04T19:57:55.334Z"
   },
   {
    "duration": 5,
    "start_time": "2021-12-04T19:57:55.394Z"
   },
   {
    "duration": 31,
    "start_time": "2021-12-04T19:57:55.402Z"
   },
   {
    "duration": 8,
    "start_time": "2021-12-04T19:57:55.436Z"
   },
   {
    "duration": 79,
    "start_time": "2021-12-04T19:57:55.448Z"
   },
   {
    "duration": 51,
    "start_time": "2021-12-04T19:57:55.531Z"
   },
   {
    "duration": 48,
    "start_time": "2021-12-04T19:57:55.585Z"
   },
   {
    "duration": 145,
    "start_time": "2021-12-04T19:57:55.636Z"
   },
   {
    "duration": 114,
    "start_time": "2021-12-04T19:57:55.784Z"
   },
   {
    "duration": 93,
    "start_time": "2021-12-04T19:57:55.901Z"
   },
   {
    "duration": 10,
    "start_time": "2021-12-04T19:57:55.997Z"
   },
   {
    "duration": 5,
    "start_time": "2021-12-04T19:57:56.010Z"
   },
   {
    "duration": 28,
    "start_time": "2021-12-04T19:57:56.018Z"
   },
   {
    "duration": 100,
    "start_time": "2021-12-04T19:57:56.048Z"
   },
   {
    "duration": 31,
    "start_time": "2021-12-04T19:57:56.151Z"
   },
   {
    "duration": 14,
    "start_time": "2021-12-04T19:57:56.184Z"
   },
   {
    "duration": 4,
    "start_time": "2021-12-04T19:57:56.201Z"
   },
   {
    "duration": 24,
    "start_time": "2021-12-04T19:57:56.208Z"
   },
   {
    "duration": 48,
    "start_time": "2021-12-04T19:57:56.235Z"
   },
   {
    "duration": 21,
    "start_time": "2021-12-04T19:57:56.289Z"
   },
   {
    "duration": 31,
    "start_time": "2021-12-04T19:57:56.313Z"
   },
   {
    "duration": 61,
    "start_time": "2021-12-04T19:57:56.347Z"
   },
   {
    "duration": 21,
    "start_time": "2021-12-04T19:57:56.411Z"
   },
   {
    "duration": 50,
    "start_time": "2021-12-04T19:57:56.435Z"
   },
   {
    "duration": 16,
    "start_time": "2021-12-04T19:57:56.488Z"
   },
   {
    "duration": 12,
    "start_time": "2021-12-04T19:57:56.507Z"
   },
   {
    "duration": 6,
    "start_time": "2021-12-04T19:57:56.521Z"
   },
   {
    "duration": 65,
    "start_time": "2021-12-04T19:57:56.529Z"
   },
   {
    "duration": 21,
    "start_time": "2021-12-04T19:57:56.596Z"
   },
   {
    "duration": 64,
    "start_time": "2021-12-04T19:57:56.620Z"
   },
   {
    "duration": 26,
    "start_time": "2021-12-04T19:57:56.687Z"
   },
   {
    "duration": 15,
    "start_time": "2021-12-04T19:57:56.716Z"
   },
   {
    "duration": 5,
    "start_time": "2021-12-04T19:57:56.734Z"
   },
   {
    "duration": 46,
    "start_time": "2021-12-04T19:57:56.742Z"
   },
   {
    "duration": 6,
    "start_time": "2021-12-04T19:57:56.792Z"
   },
   {
    "duration": 273,
    "start_time": "2021-12-05T18:40:22.867Z"
   },
   {
    "duration": 296,
    "start_time": "2021-12-05T18:40:52.877Z"
   },
   {
    "duration": 237,
    "start_time": "2021-12-05T18:41:26.828Z"
   },
   {
    "duration": 4,
    "start_time": "2021-12-05T18:48:52.282Z"
   },
   {
    "duration": 3,
    "start_time": "2021-12-05T18:48:57.753Z"
   },
   {
    "duration": 239,
    "start_time": "2021-12-05T18:52:07.691Z"
   },
   {
    "duration": 574,
    "start_time": "2021-12-05T18:53:17.775Z"
   },
   {
    "duration": 114,
    "start_time": "2021-12-05T18:53:18.351Z"
   },
   {
    "duration": 15,
    "start_time": "2021-12-05T18:53:18.467Z"
   },
   {
    "duration": 20,
    "start_time": "2021-12-05T18:53:18.484Z"
   },
   {
    "duration": 4,
    "start_time": "2021-12-05T18:53:18.505Z"
   },
   {
    "duration": 15,
    "start_time": "2021-12-05T18:53:18.510Z"
   },
   {
    "duration": 6,
    "start_time": "2021-12-05T18:53:18.527Z"
   },
   {
    "duration": 21,
    "start_time": "2021-12-05T18:53:18.535Z"
   },
   {
    "duration": 39,
    "start_time": "2021-12-05T18:53:18.558Z"
   },
   {
    "duration": 18,
    "start_time": "2021-12-05T18:53:18.599Z"
   },
   {
    "duration": 53,
    "start_time": "2021-12-05T18:53:18.619Z"
   },
   {
    "duration": 69,
    "start_time": "2021-12-05T18:53:18.673Z"
   },
   {
    "duration": 55,
    "start_time": "2021-12-05T18:53:18.744Z"
   },
   {
    "duration": 42,
    "start_time": "2021-12-05T18:53:18.800Z"
   },
   {
    "duration": 2,
    "start_time": "2021-12-05T18:53:18.844Z"
   },
   {
    "duration": 18,
    "start_time": "2021-12-05T18:53:18.848Z"
   },
   {
    "duration": 47,
    "start_time": "2021-12-05T18:53:18.867Z"
   },
   {
    "duration": 9,
    "start_time": "2021-12-05T18:53:18.916Z"
   },
   {
    "duration": 8,
    "start_time": "2021-12-05T18:53:18.926Z"
   },
   {
    "duration": 3,
    "start_time": "2021-12-05T18:53:18.936Z"
   },
   {
    "duration": 20,
    "start_time": "2021-12-05T18:53:18.940Z"
   },
   {
    "duration": 32,
    "start_time": "2021-12-05T18:53:18.962Z"
   },
   {
    "duration": 12,
    "start_time": "2021-12-05T18:53:18.997Z"
   },
   {
    "duration": 17,
    "start_time": "2021-12-05T18:53:19.010Z"
   },
   {
    "duration": 14,
    "start_time": "2021-12-05T18:53:19.028Z"
   },
   {
    "duration": 12,
    "start_time": "2021-12-05T18:53:19.044Z"
   },
   {
    "duration": 34,
    "start_time": "2021-12-05T18:53:19.057Z"
   },
   {
    "duration": 12,
    "start_time": "2021-12-05T18:53:19.093Z"
   },
   {
    "duration": 8,
    "start_time": "2021-12-05T18:53:19.106Z"
   },
   {
    "duration": 8,
    "start_time": "2021-12-05T18:53:19.115Z"
   },
   {
    "duration": 21,
    "start_time": "2021-12-05T18:53:19.125Z"
   },
   {
    "duration": 11,
    "start_time": "2021-12-05T18:53:19.147Z"
   },
   {
    "duration": 34,
    "start_time": "2021-12-05T18:53:19.159Z"
   },
   {
    "duration": 10,
    "start_time": "2021-12-05T18:53:19.195Z"
   },
   {
    "duration": 6,
    "start_time": "2021-12-05T18:53:19.207Z"
   },
   {
    "duration": 10,
    "start_time": "2021-12-05T18:53:19.214Z"
   },
   {
    "duration": 7,
    "start_time": "2021-12-05T18:53:19.225Z"
   },
   {
    "duration": 4,
    "start_time": "2021-12-05T18:53:19.233Z"
   },
   {
    "duration": 39,
    "start_time": "2021-12-05T18:54:03.039Z"
   },
   {
    "duration": 5,
    "start_time": "2021-12-05T18:55:00.496Z"
   },
   {
    "duration": 6,
    "start_time": "2021-12-05T18:55:09.743Z"
   },
   {
    "duration": 88,
    "start_time": "2021-12-05T18:55:44.295Z"
   },
   {
    "duration": 38,
    "start_time": "2021-12-05T18:56:16.349Z"
   },
   {
    "duration": 3,
    "start_time": "2021-12-05T19:01:39.791Z"
   },
   {
    "duration": 3,
    "start_time": "2021-12-05T19:07:18.633Z"
   },
   {
    "duration": 10,
    "start_time": "2021-12-05T19:07:23.111Z"
   },
   {
    "duration": 10,
    "start_time": "2021-12-05T19:10:01.460Z"
   },
   {
    "duration": 5,
    "start_time": "2021-12-05T19:10:03.880Z"
   },
   {
    "duration": 3,
    "start_time": "2021-12-05T19:21:46.779Z"
   },
   {
    "duration": 557,
    "start_time": "2021-12-05T19:25:42.031Z"
   },
   {
    "duration": 117,
    "start_time": "2021-12-05T19:25:42.590Z"
   },
   {
    "duration": 16,
    "start_time": "2021-12-05T19:25:42.709Z"
   },
   {
    "duration": 22,
    "start_time": "2021-12-05T19:25:42.727Z"
   },
   {
    "duration": 4,
    "start_time": "2021-12-05T19:25:42.750Z"
   },
   {
    "duration": 42,
    "start_time": "2021-12-05T19:25:42.755Z"
   },
   {
    "duration": 4,
    "start_time": "2021-12-05T19:25:42.799Z"
   },
   {
    "duration": 20,
    "start_time": "2021-12-05T19:25:42.805Z"
   },
   {
    "duration": 14,
    "start_time": "2021-12-05T19:25:42.827Z"
   },
   {
    "duration": 18,
    "start_time": "2021-12-05T19:25:42.843Z"
   },
   {
    "duration": 76,
    "start_time": "2021-12-05T19:25:42.862Z"
   },
   {
    "duration": 71,
    "start_time": "2021-12-05T19:25:42.939Z"
   },
   {
    "duration": 43,
    "start_time": "2021-12-05T19:25:43.011Z"
   },
   {
    "duration": 60,
    "start_time": "2021-12-05T19:25:43.056Z"
   },
   {
    "duration": 3,
    "start_time": "2021-12-05T19:25:43.117Z"
   },
   {
    "duration": 11,
    "start_time": "2021-12-05T19:25:43.122Z"
   },
   {
    "duration": 7,
    "start_time": "2021-12-05T19:25:43.135Z"
   },
   {
    "duration": 16,
    "start_time": "2021-12-05T19:25:43.144Z"
   },
   {
    "duration": 10,
    "start_time": "2021-12-05T19:25:43.161Z"
   },
   {
    "duration": 15,
    "start_time": "2021-12-05T19:25:43.173Z"
   },
   {
    "duration": 23,
    "start_time": "2021-12-05T19:25:43.189Z"
   },
   {
    "duration": 11,
    "start_time": "2021-12-05T19:25:43.214Z"
   },
   {
    "duration": 13,
    "start_time": "2021-12-05T19:25:43.228Z"
   },
   {
    "duration": 11,
    "start_time": "2021-12-05T19:25:43.242Z"
   },
   {
    "duration": 40,
    "start_time": "2021-12-05T19:25:43.254Z"
   },
   {
    "duration": 12,
    "start_time": "2021-12-05T19:25:43.296Z"
   },
   {
    "duration": 9,
    "start_time": "2021-12-05T19:25:43.309Z"
   },
   {
    "duration": 11,
    "start_time": "2021-12-05T19:25:43.319Z"
   },
   {
    "duration": 8,
    "start_time": "2021-12-05T19:25:43.332Z"
   },
   {
    "duration": 3,
    "start_time": "2021-12-05T19:25:43.341Z"
   },
   {
    "duration": 18,
    "start_time": "2021-12-05T19:25:43.346Z"
   },
   {
    "duration": 10,
    "start_time": "2021-12-05T19:25:43.387Z"
   },
   {
    "duration": 15,
    "start_time": "2021-12-05T19:25:43.399Z"
   },
   {
    "duration": 13,
    "start_time": "2021-12-05T19:25:43.415Z"
   },
   {
    "duration": 6,
    "start_time": "2021-12-05T19:25:43.429Z"
   },
   {
    "duration": 3,
    "start_time": "2021-12-05T19:25:43.436Z"
   },
   {
    "duration": 6,
    "start_time": "2021-12-05T19:25:43.440Z"
   },
   {
    "duration": 3,
    "start_time": "2021-12-05T19:25:43.448Z"
   },
   {
    "duration": 54,
    "start_time": "2022-11-09T11:31:00.500Z"
   },
   {
    "duration": 556,
    "start_time": "2022-11-09T11:31:38.595Z"
   },
   {
    "duration": 372,
    "start_time": "2022-11-09T11:31:39.153Z"
   },
   {
    "duration": 26,
    "start_time": "2022-11-09T11:31:39.528Z"
   },
   {
    "duration": 51,
    "start_time": "2022-11-09T11:31:39.557Z"
   },
   {
    "duration": 11,
    "start_time": "2022-11-09T11:31:39.610Z"
   },
   {
    "duration": 39,
    "start_time": "2022-11-09T11:31:39.623Z"
   },
   {
    "duration": 23,
    "start_time": "2022-11-09T11:31:39.664Z"
   },
   {
    "duration": 59,
    "start_time": "2022-11-09T11:31:39.690Z"
   },
   {
    "duration": 45,
    "start_time": "2022-11-09T11:31:39.751Z"
   },
   {
    "duration": 39,
    "start_time": "2022-11-09T11:31:39.801Z"
   },
   {
    "duration": 129,
    "start_time": "2022-11-09T11:31:39.842Z"
   },
   {
    "duration": 99,
    "start_time": "2022-11-09T11:31:39.973Z"
   },
   {
    "duration": 66,
    "start_time": "2022-11-09T11:31:40.074Z"
   },
   {
    "duration": 73,
    "start_time": "2022-11-09T11:31:40.142Z"
   },
   {
    "duration": 4,
    "start_time": "2022-11-09T11:31:40.217Z"
   },
   {
    "duration": 23,
    "start_time": "2022-11-09T11:31:40.222Z"
   },
   {
    "duration": 9,
    "start_time": "2022-11-09T11:31:40.247Z"
   },
   {
    "duration": 15,
    "start_time": "2022-11-09T11:31:40.273Z"
   },
   {
    "duration": 16,
    "start_time": "2022-11-09T11:31:40.290Z"
   },
   {
    "duration": 4,
    "start_time": "2022-11-09T11:31:40.308Z"
   },
   {
    "duration": 26,
    "start_time": "2022-11-09T11:31:40.314Z"
   },
   {
    "duration": 44,
    "start_time": "2022-11-09T11:31:40.343Z"
   },
   {
    "duration": 37,
    "start_time": "2022-11-09T11:31:40.389Z"
   },
   {
    "duration": 34,
    "start_time": "2022-11-09T11:31:40.428Z"
   },
   {
    "duration": 20,
    "start_time": "2022-11-09T11:31:40.464Z"
   },
   {
    "duration": 21,
    "start_time": "2022-11-09T11:31:40.486Z"
   },
   {
    "duration": 15,
    "start_time": "2022-11-09T11:31:40.509Z"
   },
   {
    "duration": 21,
    "start_time": "2022-11-09T11:31:40.529Z"
   },
   {
    "duration": 30,
    "start_time": "2022-11-09T11:31:40.552Z"
   },
   {
    "duration": 13,
    "start_time": "2022-11-09T11:31:40.583Z"
   },
   {
    "duration": 33,
    "start_time": "2022-11-09T11:31:40.598Z"
   },
   {
    "duration": 14,
    "start_time": "2022-11-09T11:31:40.634Z"
   },
   {
    "duration": 28,
    "start_time": "2022-11-09T11:31:40.650Z"
   },
   {
    "duration": 15,
    "start_time": "2022-11-09T11:31:40.680Z"
   },
   {
    "duration": 18,
    "start_time": "2022-11-09T11:31:40.697Z"
   },
   {
    "duration": 5,
    "start_time": "2022-11-09T11:31:40.717Z"
   },
   {
    "duration": 12,
    "start_time": "2022-11-09T11:31:40.724Z"
   },
   {
    "duration": 34,
    "start_time": "2022-11-09T11:31:40.739Z"
   },
   {
    "duration": 9,
    "start_time": "2022-11-09T11:35:39.903Z"
   },
   {
    "duration": 6,
    "start_time": "2022-11-09T11:50:20.305Z"
   },
   {
    "duration": 5,
    "start_time": "2022-11-09T11:51:07.685Z"
   },
   {
    "duration": 463,
    "start_time": "2022-11-09T11:54:29.688Z"
   },
   {
    "duration": 193,
    "start_time": "2022-11-09T11:54:30.153Z"
   },
   {
    "duration": 25,
    "start_time": "2022-11-09T11:54:30.348Z"
   },
   {
    "duration": 58,
    "start_time": "2022-11-09T11:54:30.375Z"
   },
   {
    "duration": 12,
    "start_time": "2022-11-09T11:54:30.437Z"
   },
   {
    "duration": 23,
    "start_time": "2022-11-09T11:54:30.451Z"
   },
   {
    "duration": 10,
    "start_time": "2022-11-09T11:54:30.476Z"
   },
   {
    "duration": 42,
    "start_time": "2022-11-09T11:54:30.489Z"
   },
   {
    "duration": 37,
    "start_time": "2022-11-09T11:54:30.533Z"
   },
   {
    "duration": 35,
    "start_time": "2022-11-09T11:54:30.572Z"
   },
   {
    "duration": 102,
    "start_time": "2022-11-09T11:54:30.609Z"
   },
   {
    "duration": 97,
    "start_time": "2022-11-09T11:54:30.713Z"
   },
   {
    "duration": 92,
    "start_time": "2022-11-09T11:54:30.812Z"
   },
   {
    "duration": 66,
    "start_time": "2022-11-09T11:54:30.909Z"
   },
   {
    "duration": 3,
    "start_time": "2022-11-09T11:54:30.977Z"
   },
   {
    "duration": 39,
    "start_time": "2022-11-09T11:54:30.982Z"
   },
   {
    "duration": 18,
    "start_time": "2022-11-09T11:54:31.023Z"
   },
   {
    "duration": 36,
    "start_time": "2022-11-09T11:54:31.043Z"
   },
   {
    "duration": 38,
    "start_time": "2022-11-09T11:54:31.081Z"
   },
   {
    "duration": 18,
    "start_time": "2022-11-09T11:54:31.121Z"
   },
   {
    "duration": 51,
    "start_time": "2022-11-09T11:54:31.141Z"
   },
   {
    "duration": 29,
    "start_time": "2022-11-09T11:54:31.194Z"
   },
   {
    "duration": 57,
    "start_time": "2022-11-09T11:54:31.225Z"
   },
   {
    "duration": 63,
    "start_time": "2022-11-09T11:54:31.284Z"
   },
   {
    "duration": 26,
    "start_time": "2022-11-09T11:54:31.349Z"
   },
   {
    "duration": 38,
    "start_time": "2022-11-09T11:54:31.377Z"
   },
   {
    "duration": 12,
    "start_time": "2022-11-09T11:54:31.417Z"
   },
   {
    "duration": 18,
    "start_time": "2022-11-09T11:54:31.431Z"
   },
   {
    "duration": 23,
    "start_time": "2022-11-09T11:54:31.451Z"
   },
   {
    "duration": 8,
    "start_time": "2022-11-09T11:54:31.475Z"
   },
   {
    "duration": 26,
    "start_time": "2022-11-09T11:54:31.485Z"
   },
   {
    "duration": 23,
    "start_time": "2022-11-09T11:54:31.513Z"
   },
   {
    "duration": 35,
    "start_time": "2022-11-09T11:54:31.538Z"
   },
   {
    "duration": 15,
    "start_time": "2022-11-09T11:54:31.575Z"
   },
   {
    "duration": 11,
    "start_time": "2022-11-09T11:54:31.592Z"
   },
   {
    "duration": 7,
    "start_time": "2022-11-09T11:54:31.604Z"
   },
   {
    "duration": 17,
    "start_time": "2022-11-09T11:54:31.613Z"
   },
   {
    "duration": 18,
    "start_time": "2022-11-09T11:54:31.633Z"
   }
  ],
  "colab": {
   "collapsed_sections": [
    "E0vqbgi9ay0H",
    "VUC88oWjTJw2"
   ],
   "name": "yandex_music_project_2021.2.ipynb",
   "provenance": []
  },
  "kernelspec": {
   "display_name": "Python 3 (ipykernel)",
   "language": "python",
   "name": "python3"
  },
  "language_info": {
   "codemirror_mode": {
    "name": "ipython",
    "version": 3
   },
   "file_extension": ".py",
   "mimetype": "text/x-python",
   "name": "python",
   "nbconvert_exporter": "python",
   "pygments_lexer": "ipython3",
   "version": "3.9.5"
  },
  "toc": {
   "base_numbering": 1,
   "nav_menu": {},
   "number_sections": true,
   "sideBar": true,
   "skip_h1_title": true,
   "title_cell": "Table of Contents",
   "title_sidebar": "Contents",
   "toc_cell": false,
   "toc_position": {
    "height": "calc(100% - 180px)",
    "left": "10px",
    "top": "150px",
    "width": "165px"
   },
   "toc_section_display": true,
   "toc_window_display": true
  }
 },
 "nbformat": 4,
 "nbformat_minor": 1
}
