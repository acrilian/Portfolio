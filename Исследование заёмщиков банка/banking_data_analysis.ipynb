{
 "cells": [
  {
   "cell_type": "markdown",
   "metadata": {},
   "source": [
    "# Исследование надёжности заёмщиков\n",
    "\n",
    "Заказчик — кредитный отдел банка. Нужно разобраться, влияет ли семейное положение и количество детей клиента на факт погашения кредита в срок. Входные данные от банка — статистика о платёжеспособности клиентов.\n",
    "\n",
    "Результаты исследования будут учтены при построении модели **кредитного скоринга** — специальной системы, которая оценивает способность потенциального заёмщика вернуть кредит банку."
   ]
  },
  {
   "cell_type": "markdown",
   "metadata": {},
   "source": [
    "## Шаг 1. Анализ данных"
   ]
  },
  {
   "cell_type": "code",
   "execution_count": 1,
   "metadata": {},
   "outputs": [],
   "source": [
    "# импортируем необходимые библиотеки\n",
    "import pandas as pd\n",
    "from pymystem3 import Mystem"
   ]
  },
  {
   "cell_type": "code",
   "execution_count": 2,
   "metadata": {},
   "outputs": [],
   "source": [
    "# чтение файла с данными и сохранение в df\n",
    "df = pd.read_csv('/datasets/data.csv')"
   ]
  },
  {
   "cell_type": "code",
   "execution_count": 3,
   "metadata": {},
   "outputs": [
    {
     "name": "stdout",
     "output_type": "stream",
     "text": [
      "<class 'pandas.core.frame.DataFrame'>\n",
      "RangeIndex: 21525 entries, 0 to 21524\n",
      "Data columns (total 12 columns):\n",
      " #   Column            Non-Null Count  Dtype  \n",
      "---  ------            --------------  -----  \n",
      " 0   children          21525 non-null  int64  \n",
      " 1   days_employed     19351 non-null  float64\n",
      " 2   dob_years         21525 non-null  int64  \n",
      " 3   education         21525 non-null  object \n",
      " 4   education_id      21525 non-null  int64  \n",
      " 5   family_status     21525 non-null  object \n",
      " 6   family_status_id  21525 non-null  int64  \n",
      " 7   gender            21525 non-null  object \n",
      " 8   income_type       21525 non-null  object \n",
      " 9   debt              21525 non-null  int64  \n",
      " 10  total_income      19351 non-null  float64\n",
      " 11  purpose           21525 non-null  object \n",
      "dtypes: float64(2), int64(5), object(5)\n",
      "memory usage: 2.0+ MB\n"
     ]
    },
    {
     "data": {
      "text/html": [
       "<div>\n",
       "<style scoped>\n",
       "    .dataframe tbody tr th:only-of-type {\n",
       "        vertical-align: middle;\n",
       "    }\n",
       "\n",
       "    .dataframe tbody tr th {\n",
       "        vertical-align: top;\n",
       "    }\n",
       "\n",
       "    .dataframe thead th {\n",
       "        text-align: right;\n",
       "    }\n",
       "</style>\n",
       "<table border=\"1\" class=\"dataframe\">\n",
       "  <thead>\n",
       "    <tr style=\"text-align: right;\">\n",
       "      <th></th>\n",
       "      <th>children</th>\n",
       "      <th>days_employed</th>\n",
       "      <th>dob_years</th>\n",
       "      <th>education</th>\n",
       "      <th>education_id</th>\n",
       "      <th>family_status</th>\n",
       "      <th>family_status_id</th>\n",
       "      <th>gender</th>\n",
       "      <th>income_type</th>\n",
       "      <th>debt</th>\n",
       "      <th>total_income</th>\n",
       "      <th>purpose</th>\n",
       "    </tr>\n",
       "  </thead>\n",
       "  <tbody>\n",
       "    <tr>\n",
       "      <th>0</th>\n",
       "      <td>1</td>\n",
       "      <td>-8437.673028</td>\n",
       "      <td>42</td>\n",
       "      <td>высшее</td>\n",
       "      <td>0</td>\n",
       "      <td>женат / замужем</td>\n",
       "      <td>0</td>\n",
       "      <td>F</td>\n",
       "      <td>сотрудник</td>\n",
       "      <td>0</td>\n",
       "      <td>253875.639453</td>\n",
       "      <td>покупка жилья</td>\n",
       "    </tr>\n",
       "    <tr>\n",
       "      <th>1</th>\n",
       "      <td>1</td>\n",
       "      <td>-4024.803754</td>\n",
       "      <td>36</td>\n",
       "      <td>среднее</td>\n",
       "      <td>1</td>\n",
       "      <td>женат / замужем</td>\n",
       "      <td>0</td>\n",
       "      <td>F</td>\n",
       "      <td>сотрудник</td>\n",
       "      <td>0</td>\n",
       "      <td>112080.014102</td>\n",
       "      <td>приобретение автомобиля</td>\n",
       "    </tr>\n",
       "    <tr>\n",
       "      <th>2</th>\n",
       "      <td>0</td>\n",
       "      <td>-5623.422610</td>\n",
       "      <td>33</td>\n",
       "      <td>Среднее</td>\n",
       "      <td>1</td>\n",
       "      <td>женат / замужем</td>\n",
       "      <td>0</td>\n",
       "      <td>M</td>\n",
       "      <td>сотрудник</td>\n",
       "      <td>0</td>\n",
       "      <td>145885.952297</td>\n",
       "      <td>покупка жилья</td>\n",
       "    </tr>\n",
       "    <tr>\n",
       "      <th>3</th>\n",
       "      <td>3</td>\n",
       "      <td>-4124.747207</td>\n",
       "      <td>32</td>\n",
       "      <td>среднее</td>\n",
       "      <td>1</td>\n",
       "      <td>женат / замужем</td>\n",
       "      <td>0</td>\n",
       "      <td>M</td>\n",
       "      <td>сотрудник</td>\n",
       "      <td>0</td>\n",
       "      <td>267628.550329</td>\n",
       "      <td>дополнительное образование</td>\n",
       "    </tr>\n",
       "    <tr>\n",
       "      <th>4</th>\n",
       "      <td>0</td>\n",
       "      <td>340266.072047</td>\n",
       "      <td>53</td>\n",
       "      <td>среднее</td>\n",
       "      <td>1</td>\n",
       "      <td>гражданский брак</td>\n",
       "      <td>1</td>\n",
       "      <td>F</td>\n",
       "      <td>пенсионер</td>\n",
       "      <td>0</td>\n",
       "      <td>158616.077870</td>\n",
       "      <td>сыграть свадьбу</td>\n",
       "    </tr>\n",
       "    <tr>\n",
       "      <th>5</th>\n",
       "      <td>0</td>\n",
       "      <td>-926.185831</td>\n",
       "      <td>27</td>\n",
       "      <td>высшее</td>\n",
       "      <td>0</td>\n",
       "      <td>гражданский брак</td>\n",
       "      <td>1</td>\n",
       "      <td>M</td>\n",
       "      <td>компаньон</td>\n",
       "      <td>0</td>\n",
       "      <td>255763.565419</td>\n",
       "      <td>покупка жилья</td>\n",
       "    </tr>\n",
       "    <tr>\n",
       "      <th>6</th>\n",
       "      <td>0</td>\n",
       "      <td>-2879.202052</td>\n",
       "      <td>43</td>\n",
       "      <td>высшее</td>\n",
       "      <td>0</td>\n",
       "      <td>женат / замужем</td>\n",
       "      <td>0</td>\n",
       "      <td>F</td>\n",
       "      <td>компаньон</td>\n",
       "      <td>0</td>\n",
       "      <td>240525.971920</td>\n",
       "      <td>операции с жильем</td>\n",
       "    </tr>\n",
       "    <tr>\n",
       "      <th>7</th>\n",
       "      <td>0</td>\n",
       "      <td>-152.779569</td>\n",
       "      <td>50</td>\n",
       "      <td>СРЕДНЕЕ</td>\n",
       "      <td>1</td>\n",
       "      <td>женат / замужем</td>\n",
       "      <td>0</td>\n",
       "      <td>M</td>\n",
       "      <td>сотрудник</td>\n",
       "      <td>0</td>\n",
       "      <td>135823.934197</td>\n",
       "      <td>образование</td>\n",
       "    </tr>\n",
       "    <tr>\n",
       "      <th>8</th>\n",
       "      <td>2</td>\n",
       "      <td>-6929.865299</td>\n",
       "      <td>35</td>\n",
       "      <td>ВЫСШЕЕ</td>\n",
       "      <td>0</td>\n",
       "      <td>гражданский брак</td>\n",
       "      <td>1</td>\n",
       "      <td>F</td>\n",
       "      <td>сотрудник</td>\n",
       "      <td>0</td>\n",
       "      <td>95856.832424</td>\n",
       "      <td>на проведение свадьбы</td>\n",
       "    </tr>\n",
       "    <tr>\n",
       "      <th>9</th>\n",
       "      <td>0</td>\n",
       "      <td>-2188.756445</td>\n",
       "      <td>41</td>\n",
       "      <td>среднее</td>\n",
       "      <td>1</td>\n",
       "      <td>женат / замужем</td>\n",
       "      <td>0</td>\n",
       "      <td>M</td>\n",
       "      <td>сотрудник</td>\n",
       "      <td>0</td>\n",
       "      <td>144425.938277</td>\n",
       "      <td>покупка жилья для семьи</td>\n",
       "    </tr>\n",
       "    <tr>\n",
       "      <th>10</th>\n",
       "      <td>2</td>\n",
       "      <td>-4171.483647</td>\n",
       "      <td>36</td>\n",
       "      <td>высшее</td>\n",
       "      <td>0</td>\n",
       "      <td>женат / замужем</td>\n",
       "      <td>0</td>\n",
       "      <td>M</td>\n",
       "      <td>компаньон</td>\n",
       "      <td>0</td>\n",
       "      <td>113943.491460</td>\n",
       "      <td>покупка недвижимости</td>\n",
       "    </tr>\n",
       "    <tr>\n",
       "      <th>11</th>\n",
       "      <td>0</td>\n",
       "      <td>-792.701887</td>\n",
       "      <td>40</td>\n",
       "      <td>среднее</td>\n",
       "      <td>1</td>\n",
       "      <td>женат / замужем</td>\n",
       "      <td>0</td>\n",
       "      <td>F</td>\n",
       "      <td>сотрудник</td>\n",
       "      <td>0</td>\n",
       "      <td>77069.234271</td>\n",
       "      <td>покупка коммерческой недвижимости</td>\n",
       "    </tr>\n",
       "    <tr>\n",
       "      <th>12</th>\n",
       "      <td>0</td>\n",
       "      <td>NaN</td>\n",
       "      <td>65</td>\n",
       "      <td>среднее</td>\n",
       "      <td>1</td>\n",
       "      <td>гражданский брак</td>\n",
       "      <td>1</td>\n",
       "      <td>M</td>\n",
       "      <td>пенсионер</td>\n",
       "      <td>0</td>\n",
       "      <td>NaN</td>\n",
       "      <td>сыграть свадьбу</td>\n",
       "    </tr>\n",
       "    <tr>\n",
       "      <th>13</th>\n",
       "      <td>0</td>\n",
       "      <td>-1846.641941</td>\n",
       "      <td>54</td>\n",
       "      <td>неоконченное высшее</td>\n",
       "      <td>2</td>\n",
       "      <td>женат / замужем</td>\n",
       "      <td>0</td>\n",
       "      <td>F</td>\n",
       "      <td>сотрудник</td>\n",
       "      <td>0</td>\n",
       "      <td>130458.228857</td>\n",
       "      <td>приобретение автомобиля</td>\n",
       "    </tr>\n",
       "    <tr>\n",
       "      <th>14</th>\n",
       "      <td>0</td>\n",
       "      <td>-1844.956182</td>\n",
       "      <td>56</td>\n",
       "      <td>высшее</td>\n",
       "      <td>0</td>\n",
       "      <td>гражданский брак</td>\n",
       "      <td>1</td>\n",
       "      <td>F</td>\n",
       "      <td>компаньон</td>\n",
       "      <td>1</td>\n",
       "      <td>165127.911772</td>\n",
       "      <td>покупка жилой недвижимости</td>\n",
       "    </tr>\n",
       "  </tbody>\n",
       "</table>\n",
       "</div>"
      ],
      "text/plain": [
       "    children  days_employed  dob_years            education  education_id  \\\n",
       "0          1   -8437.673028         42               высшее             0   \n",
       "1          1   -4024.803754         36              среднее             1   \n",
       "2          0   -5623.422610         33              Среднее             1   \n",
       "3          3   -4124.747207         32              среднее             1   \n",
       "4          0  340266.072047         53              среднее             1   \n",
       "5          0    -926.185831         27               высшее             0   \n",
       "6          0   -2879.202052         43               высшее             0   \n",
       "7          0    -152.779569         50              СРЕДНЕЕ             1   \n",
       "8          2   -6929.865299         35               ВЫСШЕЕ             0   \n",
       "9          0   -2188.756445         41              среднее             1   \n",
       "10         2   -4171.483647         36               высшее             0   \n",
       "11         0    -792.701887         40              среднее             1   \n",
       "12         0            NaN         65              среднее             1   \n",
       "13         0   -1846.641941         54  неоконченное высшее             2   \n",
       "14         0   -1844.956182         56               высшее             0   \n",
       "\n",
       "       family_status  family_status_id gender income_type  debt  \\\n",
       "0    женат / замужем                 0      F   сотрудник     0   \n",
       "1    женат / замужем                 0      F   сотрудник     0   \n",
       "2    женат / замужем                 0      M   сотрудник     0   \n",
       "3    женат / замужем                 0      M   сотрудник     0   \n",
       "4   гражданский брак                 1      F   пенсионер     0   \n",
       "5   гражданский брак                 1      M   компаньон     0   \n",
       "6    женат / замужем                 0      F   компаньон     0   \n",
       "7    женат / замужем                 0      M   сотрудник     0   \n",
       "8   гражданский брак                 1      F   сотрудник     0   \n",
       "9    женат / замужем                 0      M   сотрудник     0   \n",
       "10   женат / замужем                 0      M   компаньон     0   \n",
       "11   женат / замужем                 0      F   сотрудник     0   \n",
       "12  гражданский брак                 1      M   пенсионер     0   \n",
       "13   женат / замужем                 0      F   сотрудник     0   \n",
       "14  гражданский брак                 1      F   компаньон     1   \n",
       "\n",
       "     total_income                            purpose  \n",
       "0   253875.639453                      покупка жилья  \n",
       "1   112080.014102            приобретение автомобиля  \n",
       "2   145885.952297                      покупка жилья  \n",
       "3   267628.550329         дополнительное образование  \n",
       "4   158616.077870                    сыграть свадьбу  \n",
       "5   255763.565419                      покупка жилья  \n",
       "6   240525.971920                  операции с жильем  \n",
       "7   135823.934197                        образование  \n",
       "8    95856.832424              на проведение свадьбы  \n",
       "9   144425.938277            покупка жилья для семьи  \n",
       "10  113943.491460               покупка недвижимости  \n",
       "11   77069.234271  покупка коммерческой недвижимости  \n",
       "12            NaN                    сыграть свадьбу  \n",
       "13  130458.228857            приобретение автомобиля  \n",
       "14  165127.911772         покупка жилой недвижимости  "
      ]
     },
     "execution_count": 3,
     "metadata": {},
     "output_type": "execute_result"
    }
   ],
   "source": [
    "# изучение общей информации о наборе данных\n",
    "df.info()\n",
    "df.head(15)"
   ]
  },
  {
   "cell_type": "code",
   "execution_count": 4,
   "metadata": {},
   "outputs": [
    {
     "data": {
      "text/plain": [
       "0     высшее\n",
       "1    среднее\n",
       "2    среднее\n",
       "3    среднее\n",
       "4    среднее\n",
       "5     высшее\n",
       "6     высшее\n",
       "7    среднее\n",
       "8     высшее\n",
       "9    среднее\n",
       "Name: education, dtype: object"
      ]
     },
     "execution_count": 4,
     "metadata": {},
     "output_type": "execute_result"
    }
   ],
   "source": [
    "# переведем данные об образовании и семейном положении в нижний регистр методом str.lower()\n",
    "df['family_status'].str.lower().head(10)\n",
    "df['education'].str.lower().head(10)"
   ]
  },
  {
   "cell_type": "code",
   "execution_count": 5,
   "metadata": {},
   "outputs": [],
   "source": [
    "# переведем отрицательные значения столбца days_employed в положительные\n",
    "df['days_employed'] = df['days_employed'].abs()"
   ]
  },
  {
   "cell_type": "markdown",
   "metadata": {},
   "source": [
    "**Вывод**"
   ]
  },
  {
   "cell_type": "markdown",
   "metadata": {},
   "source": [
    "<div style=\"border:solid green 2px; padding: 20px\">\n",
    "\n",
    "В исходных данных (таблице) 12 столбцов: \n",
    "- 2 столбца с типом данных float64 (вещественые числа);\n",
    "- 5 столбцов с типом данных int64 (целые числа);\n",
    "- 5 столбцов с типом данных object (строковые значения).\n",
    "\n",
    "Названия колонок:\n",
    "\n",
    "- `children` — количество детей в семье\n",
    "- `days_employed` — трудовой стаж в днях\n",
    "- `dob_years` — возраст клиента в годах\n",
    "- `education` — образование клиента\n",
    "- `education_id` — идентификатор образования\n",
    "- `family_status` — семейное положение\n",
    "- `family_status_id` — идентификатор семейного положения\n",
    "- `gender` — пол клиента\n",
    "- `income_type` — тип занятости\n",
    "- `debt` — имел ли задолженность по возврату кредитов\n",
    "- `total_income` — доход в месяц\n",
    "- `purpose` — цель получения кредита\n",
    "    \n",
    "В названиях колонок нарушений стиля не наблюдается.\n",
    "    \n",
    "Количество значений в столбцах различается. Значит, в данных есть пропущенные значения.\n",
    "    \n",
    "Бросается в глаза столбец `days_employed` значения данных о трудовом стаже в днях имеют и отрицательные и положительные значения, причем положительные значения в основном у пенсионеров. Такие ошибки могли возникнуть в резултате сбоя при выгрузке данных либо при внесении данных сотрудниками банка. С этим предстоит разобраться. Переведем отрицательные значения столбца `days_employed` в положительные методом abs().\n",
    "    \n",
    "Данные об образовании также заполнены не коректно, имеются значения верхнего и нижнего регистра. Переведем данные об образовании и семейном положении в нижний регистр методом str.lower().\n",
    "    \n",
    "Цели получения кредита purpose хранятся в виде строк разной длины.\n",
    "\n",
    "Предварительно можно утверждать, что, данных достаточно для проверки гипотез. Но встречаются пропуски в данных. Чтобы двигаться дальше, нужно устранить проблемы в данных.\n",
    "</div>    "
   ]
  },
  {
   "cell_type": "markdown",
   "metadata": {},
   "source": [
    "## Шаг 2. Предобработка данных"
   ]
  },
  {
   "cell_type": "markdown",
   "metadata": {},
   "source": [
    "### Обработка пропусков"
   ]
  },
  {
   "cell_type": "code",
   "execution_count": 6,
   "metadata": {},
   "outputs": [
    {
     "data": {
      "text/plain": [
       "children               0\n",
       "days_employed       2174\n",
       "dob_years              0\n",
       "education              0\n",
       "education_id           0\n",
       "family_status          0\n",
       "family_status_id       0\n",
       "gender                 0\n",
       "income_type            0\n",
       "debt                   0\n",
       "total_income        2174\n",
       "purpose                0\n",
       "dtype: int64"
      ]
     },
     "execution_count": 6,
     "metadata": {},
     "output_type": "execute_result"
    }
   ],
   "source": [
    "# подсчёт пропусков в таблице: \n",
    "df.isna().sum()"
   ]
  },
  {
   "cell_type": "code",
   "execution_count": 7,
   "metadata": {},
   "outputs": [
    {
     "data": {
      "text/plain": [
       "66914.72890682236"
      ]
     },
     "execution_count": 7,
     "metadata": {},
     "output_type": "execute_result"
    }
   ],
   "source": [
    "# расчитаем среднее значение и медиану для days_employed:\n",
    "df['days_employed'].median()\n",
    "df['days_employed'].mean()"
   ]
  },
  {
   "cell_type": "code",
   "execution_count": 8,
   "metadata": {},
   "outputs": [
    {
     "data": {
      "text/plain": [
       "145017.93753253992"
      ]
     },
     "execution_count": 8,
     "metadata": {},
     "output_type": "execute_result"
    }
   ],
   "source": [
    "# расчитаем медиану для total_income:\n",
    "df['total_income'].median()"
   ]
  },
  {
   "cell_type": "code",
   "execution_count": 9,
   "metadata": {},
   "outputs": [
    {
     "data": {
      "text/plain": [
       "children            0\n",
       "days_employed       0\n",
       "dob_years           0\n",
       "education           0\n",
       "education_id        0\n",
       "family_status       0\n",
       "family_status_id    0\n",
       "gender              0\n",
       "income_type         0\n",
       "debt                0\n",
       "total_income        0\n",
       "purpose             0\n",
       "dtype: int64"
      ]
     },
     "execution_count": 9,
     "metadata": {},
     "output_type": "execute_result"
    }
   ],
   "source": [
    "# напишем цикл\n",
    "# пропуски в столбцах days_employed, total_income заполним медианными значениями  \n",
    "columns_to_replace = ['days_employed', 'total_income'] \n",
    "for column in columns_to_replace:\n",
    "    df[column] = df[column].fillna(value=df[column].median())\n",
    "    \n",
    "# убедимся, что в таблице не осталось пропусков    \n",
    "df.isna().sum()"
   ]
  },
  {
   "cell_type": "markdown",
   "metadata": {},
   "source": [
    "**Вывод**"
   ]
  },
  {
   "cell_type": "markdown",
   "metadata": {},
   "source": [
    "<div style=\"border:solid green 2px; padding: 20px\">\n",
    "Сначала посчитаем, сколько в таблице пропущенных значений. Для этого достаточно двух методов pandas: isna() и sum().\n",
    "\n",
    "Обнаружено одинаковое количество пропусков в колонках `days_employed` и `total_income`. Для некоторых клиентов не указаны значения трудового стажа в днях и дохода в месяц.\n",
    "\n",
    "Взможные причины появления пропусков в данных: либо у клиентов отсутствуют указанные данные, например клиент не имеет трудового стажа, то и данных об официальном доходе тоже нет, либо произошел сбой при выгрузке данных из базы. \n",
    "\n",
    "На практике необходимо правильно установить причину пропусков, запросить информацию и восстановить данные. Однако такой возможности нет в учебном проекте. Придётся:\n",
    "- заполнить и эти пропуски явными обозначениями,\n",
    "- оценить, насколько они повредят расчётам.\n",
    "\n",
    "Стаж и доход - количественные переменные. Пропуски в таких переменных заполняют характерными значениями. Это значения, характеризующие состояние выборки, — набора данных, выбранных для проведения исследования. Чтобы примерно оценить типичные значения выборки, годятся среднее арифметическое mean() или медиана median().\n",
    "\n",
    "Расчитаем среднее арифметическое значение и медиану для столбца days_employed, посмотрим на сколько отличаются эти значения. Расчет показал одинаковое значение, соответсвенно в дальнейших расчетах возможно испльзовать любой из этих методов. \n",
    "\n",
    "Однако при анализе данных о стаже клиентов, обнаружены выдающиеся значения. Когда в выборке присутствуют выдающиеся значения (340266 против 152), лучше использовать медиану.\n",
    "\n",
    "Расчитаем медиану также для `otal_income`, применим метод median(). И заменим пропуски в столбцах. Создадим список `columns_to_replace` и переберем его элементы циклом for и для столбца `days_employed` и `total_income`, выполним замену пропущенных значений методом fillna(). Он вернёт копию исходного столбца, заменяя все NaN на значение из аргумента.\n",
    "\n",
    "Убедимся, что в таблице не осталось пропусков. Для этого ещё раз посчитаем пропущенные значения методами isna() и sum(). Все пропуски заполнены.\n",
    "</div> "
   ]
  },
  {
   "cell_type": "markdown",
   "metadata": {},
   "source": [
    "### Замена типа данных"
   ]
  },
  {
   "cell_type": "code",
   "execution_count": 10,
   "metadata": {},
   "outputs": [
    {
     "name": "stdout",
     "output_type": "stream",
     "text": [
      "<class 'pandas.core.frame.DataFrame'>\n",
      "RangeIndex: 21525 entries, 0 to 21524\n",
      "Data columns (total 12 columns):\n",
      " #   Column            Non-Null Count  Dtype \n",
      "---  ------            --------------  ----- \n",
      " 0   children          21525 non-null  int64 \n",
      " 1   days_employed     21525 non-null  int64 \n",
      " 2   dob_years         21525 non-null  int64 \n",
      " 3   education         21525 non-null  object\n",
      " 4   education_id      21525 non-null  int64 \n",
      " 5   family_status     21525 non-null  object\n",
      " 6   family_status_id  21525 non-null  int64 \n",
      " 7   gender            21525 non-null  object\n",
      " 8   income_type       21525 non-null  object\n",
      " 9   debt              21525 non-null  int64 \n",
      " 10  total_income      21525 non-null  int64 \n",
      " 11  purpose           21525 non-null  object\n",
      "dtypes: int64(7), object(5)\n",
      "memory usage: 2.0+ MB\n"
     ]
    }
   ],
   "source": [
    "# замена вещественного типа данных на целочисленный в колоках days_employed и total_income:\n",
    "df['days_employed'] = df['days_employed'].astype('int')\n",
    "df['total_income'] = df['total_income'].astype('int')\n",
    "\n",
    "# проверим тип значений в таблице после изменения:\n",
    "df.info()"
   ]
  },
  {
   "cell_type": "markdown",
   "metadata": {},
   "source": [
    "**Вывод**"
   ]
  },
  {
   "cell_type": "markdown",
   "metadata": {},
   "source": [
    "<div style=\"border:solid green 2px; padding: 20px\">\n",
    "Колонки `days_employed` и `total_income` имеют тип данных float64 (вещественные числа), произведем замену на целые числа типа int64. Для этого воспользуемся аргументом ('int') метода astype(), кторый означает, что значение нужно перевести в целое число.\n",
    "Затем проверим результат замены типа даных методом info(). Тип данных изменился. Двигаемся дальше.\n",
    "</div>"
   ]
  },
  {
   "cell_type": "markdown",
   "metadata": {},
   "source": [
    "### Обработка дубликатов"
   ]
  },
  {
   "cell_type": "code",
   "execution_count": 11,
   "metadata": {},
   "outputs": [
    {
     "data": {
      "text/plain": [
       "54"
      ]
     },
     "execution_count": 11,
     "metadata": {},
     "output_type": "execute_result"
    }
   ],
   "source": [
    "# посчитаем явные дубликаты:\n",
    "df.duplicated().sum()"
   ]
  },
  {
   "cell_type": "code",
   "execution_count": 12,
   "metadata": {},
   "outputs": [
    {
     "data": {
      "text/plain": [
       "0"
      ]
     },
     "execution_count": 12,
     "metadata": {},
     "output_type": "execute_result"
    }
   ],
   "source": [
    "# удалим явные дубликаты:\n",
    "df = df.drop_duplicates().reset_index(drop=True)\n",
    "\n",
    "# проверка на отсутствие дубликатов:\n",
    "df.duplicated().sum()"
   ]
  },
  {
   "cell_type": "markdown",
   "metadata": {},
   "source": [
    "**Вывод**"
   ]
  },
  {
   "cell_type": "markdown",
   "metadata": {},
   "source": [
    "<div style=\"border:solid green 2px; padding: 20px\">\n",
    "Посчитаем явные дубликаты в таблице одной командой: duplicated().sum(). Метод duplicated() возвращает Series со значением True для строк-дубликатов. Чтобы посчитать такие строки, результат метода передают функции sum(). Анализ выявил 54 дубликата.\n",
    "\n",
    "Возможные причины появления дубликатов - это могут быть данные с ошибками или альтернативные названия одних и тех же данных.\n",
    "\n",
    "Без дубликатов исследование станет более точным.\n",
    "Далее удалим явные дубликаты с удалением старых индексов и формированием новых одной командой: drop_duplicates().reset_index(drop=True). Метод drop_duplicates() избавляется от дубликатов. После удаления строчек обновим индексацию, чтобы в ней не осталось пропусков методом reset_index(). Чтобы не создавать столбец index у метода reset_index() изменим специальный параметр: reset_index(drop=True).\n",
    "\n",
    "После удаления, проверим таблицу на отсутсвие дубликатов. Дубликаты не обнаружены, продолжаем анализ.\n",
    "</div>    "
   ]
  },
  {
   "cell_type": "markdown",
   "metadata": {},
   "source": [
    "### Лемматизация"
   ]
  },
  {
   "cell_type": "code",
   "execution_count": 13,
   "metadata": {},
   "outputs": [
    {
     "data": {
      "text/html": [
       "<div>\n",
       "<style scoped>\n",
       "    .dataframe tbody tr th:only-of-type {\n",
       "        vertical-align: middle;\n",
       "    }\n",
       "\n",
       "    .dataframe tbody tr th {\n",
       "        vertical-align: top;\n",
       "    }\n",
       "\n",
       "    .dataframe thead th {\n",
       "        text-align: right;\n",
       "    }\n",
       "</style>\n",
       "<table border=\"1\" class=\"dataframe\">\n",
       "  <thead>\n",
       "    <tr style=\"text-align: right;\">\n",
       "      <th></th>\n",
       "      <th>children</th>\n",
       "      <th>days_employed</th>\n",
       "      <th>dob_years</th>\n",
       "      <th>education</th>\n",
       "      <th>education_id</th>\n",
       "      <th>family_status</th>\n",
       "      <th>family_status_id</th>\n",
       "      <th>gender</th>\n",
       "      <th>income_type</th>\n",
       "      <th>debt</th>\n",
       "      <th>total_income</th>\n",
       "      <th>purpose</th>\n",
       "      <th>lemmas</th>\n",
       "    </tr>\n",
       "  </thead>\n",
       "  <tbody>\n",
       "    <tr>\n",
       "      <th>0</th>\n",
       "      <td>1</td>\n",
       "      <td>8437</td>\n",
       "      <td>42</td>\n",
       "      <td>высшее</td>\n",
       "      <td>0</td>\n",
       "      <td>женат / замужем</td>\n",
       "      <td>0</td>\n",
       "      <td>F</td>\n",
       "      <td>сотрудник</td>\n",
       "      <td>0</td>\n",
       "      <td>253875</td>\n",
       "      <td>покупка жилья</td>\n",
       "      <td>покупка   жилье \\n</td>\n",
       "    </tr>\n",
       "    <tr>\n",
       "      <th>1</th>\n",
       "      <td>1</td>\n",
       "      <td>4024</td>\n",
       "      <td>36</td>\n",
       "      <td>среднее</td>\n",
       "      <td>1</td>\n",
       "      <td>женат / замужем</td>\n",
       "      <td>0</td>\n",
       "      <td>F</td>\n",
       "      <td>сотрудник</td>\n",
       "      <td>0</td>\n",
       "      <td>112080</td>\n",
       "      <td>приобретение автомобиля</td>\n",
       "      <td>приобретение   автомобиль \\n</td>\n",
       "    </tr>\n",
       "    <tr>\n",
       "      <th>2</th>\n",
       "      <td>0</td>\n",
       "      <td>5623</td>\n",
       "      <td>33</td>\n",
       "      <td>Среднее</td>\n",
       "      <td>1</td>\n",
       "      <td>женат / замужем</td>\n",
       "      <td>0</td>\n",
       "      <td>M</td>\n",
       "      <td>сотрудник</td>\n",
       "      <td>0</td>\n",
       "      <td>145885</td>\n",
       "      <td>покупка жилья</td>\n",
       "      <td>покупка   жилье \\n</td>\n",
       "    </tr>\n",
       "    <tr>\n",
       "      <th>3</th>\n",
       "      <td>3</td>\n",
       "      <td>4124</td>\n",
       "      <td>32</td>\n",
       "      <td>среднее</td>\n",
       "      <td>1</td>\n",
       "      <td>женат / замужем</td>\n",
       "      <td>0</td>\n",
       "      <td>M</td>\n",
       "      <td>сотрудник</td>\n",
       "      <td>0</td>\n",
       "      <td>267628</td>\n",
       "      <td>дополнительное образование</td>\n",
       "      <td>дополнительный   образование \\n</td>\n",
       "    </tr>\n",
       "    <tr>\n",
       "      <th>4</th>\n",
       "      <td>0</td>\n",
       "      <td>340266</td>\n",
       "      <td>53</td>\n",
       "      <td>среднее</td>\n",
       "      <td>1</td>\n",
       "      <td>гражданский брак</td>\n",
       "      <td>1</td>\n",
       "      <td>F</td>\n",
       "      <td>пенсионер</td>\n",
       "      <td>0</td>\n",
       "      <td>158616</td>\n",
       "      <td>сыграть свадьбу</td>\n",
       "      <td>сыграть   свадьба \\n</td>\n",
       "    </tr>\n",
       "    <tr>\n",
       "      <th>5</th>\n",
       "      <td>0</td>\n",
       "      <td>926</td>\n",
       "      <td>27</td>\n",
       "      <td>высшее</td>\n",
       "      <td>0</td>\n",
       "      <td>гражданский брак</td>\n",
       "      <td>1</td>\n",
       "      <td>M</td>\n",
       "      <td>компаньон</td>\n",
       "      <td>0</td>\n",
       "      <td>255763</td>\n",
       "      <td>покупка жилья</td>\n",
       "      <td>покупка   жилье \\n</td>\n",
       "    </tr>\n",
       "    <tr>\n",
       "      <th>6</th>\n",
       "      <td>0</td>\n",
       "      <td>2879</td>\n",
       "      <td>43</td>\n",
       "      <td>высшее</td>\n",
       "      <td>0</td>\n",
       "      <td>женат / замужем</td>\n",
       "      <td>0</td>\n",
       "      <td>F</td>\n",
       "      <td>компаньон</td>\n",
       "      <td>0</td>\n",
       "      <td>240525</td>\n",
       "      <td>операции с жильем</td>\n",
       "      <td>операция   с   жилье \\n</td>\n",
       "    </tr>\n",
       "    <tr>\n",
       "      <th>7</th>\n",
       "      <td>0</td>\n",
       "      <td>152</td>\n",
       "      <td>50</td>\n",
       "      <td>СРЕДНЕЕ</td>\n",
       "      <td>1</td>\n",
       "      <td>женат / замужем</td>\n",
       "      <td>0</td>\n",
       "      <td>M</td>\n",
       "      <td>сотрудник</td>\n",
       "      <td>0</td>\n",
       "      <td>135823</td>\n",
       "      <td>образование</td>\n",
       "      <td>образование \\n</td>\n",
       "    </tr>\n",
       "    <tr>\n",
       "      <th>8</th>\n",
       "      <td>2</td>\n",
       "      <td>6929</td>\n",
       "      <td>35</td>\n",
       "      <td>ВЫСШЕЕ</td>\n",
       "      <td>0</td>\n",
       "      <td>гражданский брак</td>\n",
       "      <td>1</td>\n",
       "      <td>F</td>\n",
       "      <td>сотрудник</td>\n",
       "      <td>0</td>\n",
       "      <td>95856</td>\n",
       "      <td>на проведение свадьбы</td>\n",
       "      <td>на   проведение   свадьба \\n</td>\n",
       "    </tr>\n",
       "    <tr>\n",
       "      <th>9</th>\n",
       "      <td>0</td>\n",
       "      <td>2188</td>\n",
       "      <td>41</td>\n",
       "      <td>среднее</td>\n",
       "      <td>1</td>\n",
       "      <td>женат / замужем</td>\n",
       "      <td>0</td>\n",
       "      <td>M</td>\n",
       "      <td>сотрудник</td>\n",
       "      <td>0</td>\n",
       "      <td>144425</td>\n",
       "      <td>покупка жилья для семьи</td>\n",
       "      <td>покупка   жилье   для   семья \\n</td>\n",
       "    </tr>\n",
       "  </tbody>\n",
       "</table>\n",
       "</div>"
      ],
      "text/plain": [
       "   children  days_employed  dob_years education  education_id  \\\n",
       "0         1           8437         42    высшее             0   \n",
       "1         1           4024         36   среднее             1   \n",
       "2         0           5623         33   Среднее             1   \n",
       "3         3           4124         32   среднее             1   \n",
       "4         0         340266         53   среднее             1   \n",
       "5         0            926         27    высшее             0   \n",
       "6         0           2879         43    высшее             0   \n",
       "7         0            152         50   СРЕДНЕЕ             1   \n",
       "8         2           6929         35    ВЫСШЕЕ             0   \n",
       "9         0           2188         41   среднее             1   \n",
       "\n",
       "      family_status  family_status_id gender income_type  debt  total_income  \\\n",
       "0   женат / замужем                 0      F   сотрудник     0        253875   \n",
       "1   женат / замужем                 0      F   сотрудник     0        112080   \n",
       "2   женат / замужем                 0      M   сотрудник     0        145885   \n",
       "3   женат / замужем                 0      M   сотрудник     0        267628   \n",
       "4  гражданский брак                 1      F   пенсионер     0        158616   \n",
       "5  гражданский брак                 1      M   компаньон     0        255763   \n",
       "6   женат / замужем                 0      F   компаньон     0        240525   \n",
       "7   женат / замужем                 0      M   сотрудник     0        135823   \n",
       "8  гражданский брак                 1      F   сотрудник     0         95856   \n",
       "9   женат / замужем                 0      M   сотрудник     0        144425   \n",
       "\n",
       "                      purpose                            lemmas  \n",
       "0               покупка жилья                покупка   жилье \\n  \n",
       "1     приобретение автомобиля      приобретение   автомобиль \\n  \n",
       "2               покупка жилья                покупка   жилье \\n  \n",
       "3  дополнительное образование   дополнительный   образование \\n  \n",
       "4             сыграть свадьбу              сыграть   свадьба \\n  \n",
       "5               покупка жилья                покупка   жилье \\n  \n",
       "6           операции с жильем           операция   с   жилье \\n  \n",
       "7                 образование                    образование \\n  \n",
       "8       на проведение свадьбы      на   проведение   свадьба \\n  \n",
       "9     покупка жилья для семьи  покупка   жилье   для   семья \\n  "
      ]
     },
     "execution_count": 13,
     "metadata": {},
     "output_type": "execute_result"
    }
   ],
   "source": [
    "# напишем функцию для нахождения лемм по столбцу purpose\n",
    "# импортируем библиотеку для лемматизации\n",
    "# находим лемы по строкам\n",
    "# возвращаем значение из функции\n",
    "# добавим столбец со значениями лемм\n",
    "\n",
    "m = Mystem()\n",
    "\n",
    "def lemmas_purpose(purpose):\n",
    "    purpose = ' '.join(m.lemmatize(purpose))\n",
    "    return purpose\n",
    "\n",
    "df['lemmas'] = df['purpose'].apply(lemmas_purpose)\n",
    "\n",
    "df.head(10)"
   ]
  },
  {
   "cell_type": "markdown",
   "metadata": {},
   "source": [
    "**Вывод**"
   ]
  },
  {
   "cell_type": "markdown",
   "metadata": {},
   "source": [
    "<div style=\"border:solid green 2px; padding: 20px\">\n",
    "Приведеем слова в колонке 'purpose' к их словарной форме (лемме) - этот процесс процесс называется лемматизация. И добавим лемматизированные слова в новый столбец 'lemmas'. Для этого необходимо вызвать библиотеку с функцией лемматизации на русском языке — pymystem3.\n",
    "\n",
    "Затем объявим функцию lemmas_purpose с параметром (purpose). Здесь purpose это переменная, через которую я буду передавать имя колонки в функцию для лемматизации. Затем создадим новый столбец 'lemmas' со значениями-результатами работы функции lemmas_purpose(). Метод apply() применяем к датафрейму df. По умолчанию Pandas передаёт в функцию lemmas_purpose() столбец.\n",
    "Двигаемся дальше.\n",
    "</div>"
   ]
  },
  {
   "cell_type": "markdown",
   "metadata": {},
   "source": [
    "### Категоризация данных"
   ]
  },
  {
   "cell_type": "code",
   "execution_count": 14,
   "metadata": {},
   "outputs": [
    {
     "data": {
      "text/plain": [
       "автомобиль \\n                                    972\n",
       "свадьба \\n                                       793\n",
       "на   проведение   свадьба \\n                     773\n",
       "сыграть   свадьба \\n                             769\n",
       "операция   с   недвижимость \\n                   675\n",
       "покупка   коммерческий   недвижимость \\n         662\n",
       "покупка   жилье   для   сдача \\n                 652\n",
       "операция   с   жилье \\n                          652\n",
       "операция   с   коммерческий   недвижимость \\n    650\n",
       "жилье \\n                                         646\n",
       "покупка   жилье \\n                               646\n",
       "покупка   жилье   для   семья \\n                 638\n",
       "строительство   собственный   недвижимость \\n    635\n",
       "недвижимость \\n                                  633\n",
       "операция   со   свой   недвижимость \\n           627\n",
       "строительство   жилой   недвижимость \\n          625\n",
       "покупка   недвижимость \\n                        621\n",
       "покупка   свой   жилье \\n                        620\n",
       "строительство   недвижимость \\n                  619\n",
       "ремонт   жилье \\n                                607\n",
       "Name: lemmas, dtype: int64"
      ]
     },
     "execution_count": 14,
     "metadata": {},
     "output_type": "execute_result"
    }
   ],
   "source": [
    "# категоризация данных по целям кредита \n",
    "\n",
    "# выведем на экран список видов целей по кредитам столбца lemmas\n",
    "df['lemmas'].value_counts().head(20)\n"
   ]
  },
  {
   "cell_type": "code",
   "execution_count": 15,
   "metadata": {},
   "outputs": [
    {
     "name": "stdout",
     "output_type": "stream",
     "text": [
      "жилье\n"
     ]
    }
   ],
   "source": [
    "# создаем функцию для категоризации целей кредита \n",
    "\n",
    "def lemmas_group(text):\n",
    "    \n",
    "    if 'жилье' in text:\n",
    "        return 'недвижимость'\n",
    "    \n",
    "    if 'недвижимость' in text:\n",
    "        return 'недвижимость'\n",
    "    \n",
    "    if 'автомобиль' in text:\n",
    "        return 'автомобиль'\n",
    "        \n",
    "    if 'образование' in text:\n",
    "        return 'образование'\n",
    "        \n",
    "    if 'свадьба' in text:\n",
    "        return 'свадьба' \n",
    "\n",
    "# проверим работу функции    \n",
    "#print('свадьба')\n",
    "#print('жилье')\n",
    "print('жилье')"
   ]
  },
  {
   "cell_type": "code",
   "execution_count": 16,
   "metadata": {},
   "outputs": [
    {
     "data": {
      "text/plain": [
       "недвижимость    10814\n",
       "автомобиль       4308\n",
       "образование      4014\n",
       "свадьба          2335\n",
       "Name: purpose_group, dtype: int64"
      ]
     },
     "execution_count": 16,
     "metadata": {},
     "output_type": "execute_result"
    }
   ],
   "source": [
    "# добавим в таблицу df новый стоблец с данными о категорицации целей кредита\n",
    "df['purpose_group'] = df['lemmas'].apply(lemmas_group)       \n",
    "\n",
    "# отсортируем данные по целям кредита\n",
    "df['purpose_group'].value_counts()"
   ]
  },
  {
   "cell_type": "code",
   "execution_count": 17,
   "metadata": {},
   "outputs": [
    {
     "name": "stdout",
     "output_type": "stream",
     "text": [
      "высокий\n"
     ]
    }
   ],
   "source": [
    "# категоризация по уровню дохода:\n",
    "\n",
    "# напишем функцию\n",
    "\n",
    "def alert_group(messages):\n",
    "    \n",
    "    if messages <=50000:\n",
    "        return 'низкий'\n",
    "    \n",
    "    if messages <=200000:\n",
    "        return 'средний'\n",
    "    \n",
    "    return 'высокий'\n",
    "\n",
    "df['income_group'] = df['total_income'].apply(alert_group)\n",
    "\n",
    "# проверим рабоу функции\n",
    "#print(alert_group(45000))\n",
    "#print(alert_group(100000))\n",
    "print(alert_group(550000))"
   ]
  },
  {
   "cell_type": "code",
   "execution_count": 18,
   "metadata": {},
   "outputs": [
    {
     "data": {
      "text/html": [
       "<div>\n",
       "<style scoped>\n",
       "    .dataframe tbody tr th:only-of-type {\n",
       "        vertical-align: middle;\n",
       "    }\n",
       "\n",
       "    .dataframe tbody tr th {\n",
       "        vertical-align: top;\n",
       "    }\n",
       "\n",
       "    .dataframe thead th {\n",
       "        text-align: right;\n",
       "    }\n",
       "</style>\n",
       "<table border=\"1\" class=\"dataframe\">\n",
       "  <thead>\n",
       "    <tr style=\"text-align: right;\">\n",
       "      <th></th>\n",
       "      <th>children</th>\n",
       "      <th>days_employed</th>\n",
       "      <th>dob_years</th>\n",
       "      <th>education</th>\n",
       "      <th>education_id</th>\n",
       "      <th>family_status</th>\n",
       "      <th>family_status_id</th>\n",
       "      <th>gender</th>\n",
       "      <th>income_type</th>\n",
       "      <th>debt</th>\n",
       "      <th>total_income</th>\n",
       "      <th>purpose</th>\n",
       "      <th>lemmas</th>\n",
       "      <th>purpose_group</th>\n",
       "      <th>income_group</th>\n",
       "    </tr>\n",
       "  </thead>\n",
       "  <tbody>\n",
       "    <tr>\n",
       "      <th>0</th>\n",
       "      <td>1</td>\n",
       "      <td>8437</td>\n",
       "      <td>42</td>\n",
       "      <td>высшее</td>\n",
       "      <td>0</td>\n",
       "      <td>женат / замужем</td>\n",
       "      <td>0</td>\n",
       "      <td>F</td>\n",
       "      <td>сотрудник</td>\n",
       "      <td>0</td>\n",
       "      <td>253875</td>\n",
       "      <td>покупка жилья</td>\n",
       "      <td>покупка   жилье \\n</td>\n",
       "      <td>недвижимость</td>\n",
       "      <td>высокий</td>\n",
       "    </tr>\n",
       "    <tr>\n",
       "      <th>1</th>\n",
       "      <td>1</td>\n",
       "      <td>4024</td>\n",
       "      <td>36</td>\n",
       "      <td>среднее</td>\n",
       "      <td>1</td>\n",
       "      <td>женат / замужем</td>\n",
       "      <td>0</td>\n",
       "      <td>F</td>\n",
       "      <td>сотрудник</td>\n",
       "      <td>0</td>\n",
       "      <td>112080</td>\n",
       "      <td>приобретение автомобиля</td>\n",
       "      <td>приобретение   автомобиль \\n</td>\n",
       "      <td>автомобиль</td>\n",
       "      <td>средний</td>\n",
       "    </tr>\n",
       "    <tr>\n",
       "      <th>2</th>\n",
       "      <td>0</td>\n",
       "      <td>5623</td>\n",
       "      <td>33</td>\n",
       "      <td>Среднее</td>\n",
       "      <td>1</td>\n",
       "      <td>женат / замужем</td>\n",
       "      <td>0</td>\n",
       "      <td>M</td>\n",
       "      <td>сотрудник</td>\n",
       "      <td>0</td>\n",
       "      <td>145885</td>\n",
       "      <td>покупка жилья</td>\n",
       "      <td>покупка   жилье \\n</td>\n",
       "      <td>недвижимость</td>\n",
       "      <td>средний</td>\n",
       "    </tr>\n",
       "    <tr>\n",
       "      <th>3</th>\n",
       "      <td>3</td>\n",
       "      <td>4124</td>\n",
       "      <td>32</td>\n",
       "      <td>среднее</td>\n",
       "      <td>1</td>\n",
       "      <td>женат / замужем</td>\n",
       "      <td>0</td>\n",
       "      <td>M</td>\n",
       "      <td>сотрудник</td>\n",
       "      <td>0</td>\n",
       "      <td>267628</td>\n",
       "      <td>дополнительное образование</td>\n",
       "      <td>дополнительный   образование \\n</td>\n",
       "      <td>образование</td>\n",
       "      <td>высокий</td>\n",
       "    </tr>\n",
       "    <tr>\n",
       "      <th>4</th>\n",
       "      <td>0</td>\n",
       "      <td>340266</td>\n",
       "      <td>53</td>\n",
       "      <td>среднее</td>\n",
       "      <td>1</td>\n",
       "      <td>гражданский брак</td>\n",
       "      <td>1</td>\n",
       "      <td>F</td>\n",
       "      <td>пенсионер</td>\n",
       "      <td>0</td>\n",
       "      <td>158616</td>\n",
       "      <td>сыграть свадьбу</td>\n",
       "      <td>сыграть   свадьба \\n</td>\n",
       "      <td>свадьба</td>\n",
       "      <td>средний</td>\n",
       "    </tr>\n",
       "    <tr>\n",
       "      <th>5</th>\n",
       "      <td>0</td>\n",
       "      <td>926</td>\n",
       "      <td>27</td>\n",
       "      <td>высшее</td>\n",
       "      <td>0</td>\n",
       "      <td>гражданский брак</td>\n",
       "      <td>1</td>\n",
       "      <td>M</td>\n",
       "      <td>компаньон</td>\n",
       "      <td>0</td>\n",
       "      <td>255763</td>\n",
       "      <td>покупка жилья</td>\n",
       "      <td>покупка   жилье \\n</td>\n",
       "      <td>недвижимость</td>\n",
       "      <td>высокий</td>\n",
       "    </tr>\n",
       "    <tr>\n",
       "      <th>6</th>\n",
       "      <td>0</td>\n",
       "      <td>2879</td>\n",
       "      <td>43</td>\n",
       "      <td>высшее</td>\n",
       "      <td>0</td>\n",
       "      <td>женат / замужем</td>\n",
       "      <td>0</td>\n",
       "      <td>F</td>\n",
       "      <td>компаньон</td>\n",
       "      <td>0</td>\n",
       "      <td>240525</td>\n",
       "      <td>операции с жильем</td>\n",
       "      <td>операция   с   жилье \\n</td>\n",
       "      <td>недвижимость</td>\n",
       "      <td>высокий</td>\n",
       "    </tr>\n",
       "    <tr>\n",
       "      <th>7</th>\n",
       "      <td>0</td>\n",
       "      <td>152</td>\n",
       "      <td>50</td>\n",
       "      <td>СРЕДНЕЕ</td>\n",
       "      <td>1</td>\n",
       "      <td>женат / замужем</td>\n",
       "      <td>0</td>\n",
       "      <td>M</td>\n",
       "      <td>сотрудник</td>\n",
       "      <td>0</td>\n",
       "      <td>135823</td>\n",
       "      <td>образование</td>\n",
       "      <td>образование \\n</td>\n",
       "      <td>образование</td>\n",
       "      <td>средний</td>\n",
       "    </tr>\n",
       "    <tr>\n",
       "      <th>8</th>\n",
       "      <td>2</td>\n",
       "      <td>6929</td>\n",
       "      <td>35</td>\n",
       "      <td>ВЫСШЕЕ</td>\n",
       "      <td>0</td>\n",
       "      <td>гражданский брак</td>\n",
       "      <td>1</td>\n",
       "      <td>F</td>\n",
       "      <td>сотрудник</td>\n",
       "      <td>0</td>\n",
       "      <td>95856</td>\n",
       "      <td>на проведение свадьбы</td>\n",
       "      <td>на   проведение   свадьба \\n</td>\n",
       "      <td>свадьба</td>\n",
       "      <td>средний</td>\n",
       "    </tr>\n",
       "    <tr>\n",
       "      <th>9</th>\n",
       "      <td>0</td>\n",
       "      <td>2188</td>\n",
       "      <td>41</td>\n",
       "      <td>среднее</td>\n",
       "      <td>1</td>\n",
       "      <td>женат / замужем</td>\n",
       "      <td>0</td>\n",
       "      <td>M</td>\n",
       "      <td>сотрудник</td>\n",
       "      <td>0</td>\n",
       "      <td>144425</td>\n",
       "      <td>покупка жилья для семьи</td>\n",
       "      <td>покупка   жилье   для   семья \\n</td>\n",
       "      <td>недвижимость</td>\n",
       "      <td>средний</td>\n",
       "    </tr>\n",
       "  </tbody>\n",
       "</table>\n",
       "</div>"
      ],
      "text/plain": [
       "   children  days_employed  dob_years education  education_id  \\\n",
       "0         1           8437         42    высшее             0   \n",
       "1         1           4024         36   среднее             1   \n",
       "2         0           5623         33   Среднее             1   \n",
       "3         3           4124         32   среднее             1   \n",
       "4         0         340266         53   среднее             1   \n",
       "5         0            926         27    высшее             0   \n",
       "6         0           2879         43    высшее             0   \n",
       "7         0            152         50   СРЕДНЕЕ             1   \n",
       "8         2           6929         35    ВЫСШЕЕ             0   \n",
       "9         0           2188         41   среднее             1   \n",
       "\n",
       "      family_status  family_status_id gender income_type  debt  total_income  \\\n",
       "0   женат / замужем                 0      F   сотрудник     0        253875   \n",
       "1   женат / замужем                 0      F   сотрудник     0        112080   \n",
       "2   женат / замужем                 0      M   сотрудник     0        145885   \n",
       "3   женат / замужем                 0      M   сотрудник     0        267628   \n",
       "4  гражданский брак                 1      F   пенсионер     0        158616   \n",
       "5  гражданский брак                 1      M   компаньон     0        255763   \n",
       "6   женат / замужем                 0      F   компаньон     0        240525   \n",
       "7   женат / замужем                 0      M   сотрудник     0        135823   \n",
       "8  гражданский брак                 1      F   сотрудник     0         95856   \n",
       "9   женат / замужем                 0      M   сотрудник     0        144425   \n",
       "\n",
       "                      purpose                            lemmas purpose_group  \\\n",
       "0               покупка жилья                покупка   жилье \\n  недвижимость   \n",
       "1     приобретение автомобиля      приобретение   автомобиль \\n    автомобиль   \n",
       "2               покупка жилья                покупка   жилье \\n  недвижимость   \n",
       "3  дополнительное образование   дополнительный   образование \\n   образование   \n",
       "4             сыграть свадьбу              сыграть   свадьба \\n       свадьба   \n",
       "5               покупка жилья                покупка   жилье \\n  недвижимость   \n",
       "6           операции с жильем           операция   с   жилье \\n  недвижимость   \n",
       "7                 образование                    образование \\n   образование   \n",
       "8       на проведение свадьбы      на   проведение   свадьба \\n       свадьба   \n",
       "9     покупка жилья для семьи  покупка   жилье   для   семья \\n  недвижимость   \n",
       "\n",
       "  income_group  \n",
       "0      высокий  \n",
       "1      средний  \n",
       "2      средний  \n",
       "3      высокий  \n",
       "4      средний  \n",
       "5      высокий  \n",
       "6      высокий  \n",
       "7      средний  \n",
       "8      средний  \n",
       "9      средний  "
      ]
     },
     "execution_count": 18,
     "metadata": {},
     "output_type": "execute_result"
    }
   ],
   "source": [
    "# выведем на экран таблицу df проверим добавление столбца\n",
    "df.head(10)"
   ]
  },
  {
   "cell_type": "code",
   "execution_count": 19,
   "metadata": {},
   "outputs": [
    {
     "data": {
      "text/plain": [
       " 0     14107\n",
       " 1      4809\n",
       " 2      2052\n",
       " 3       330\n",
       " 20       76\n",
       "-1        47\n",
       " 4        41\n",
       " 5         9\n",
       "Name: children, dtype: int64"
      ]
     },
     "execution_count": 19,
     "metadata": {},
     "output_type": "execute_result"
    }
   ],
   "source": [
    "# категоризация по количеству детей:\n",
    "\n",
    "# подсчитаем количество заемщиков по количеству детей\n",
    "df['children'].value_counts()"
   ]
  },
  {
   "cell_type": "code",
   "execution_count": 20,
   "metadata": {},
   "outputs": [
    {
     "data": {
      "text/plain": [
       "0    19730\n",
       "1     1741\n",
       "Name: debt, dtype: int64"
      ]
     },
     "execution_count": 20,
     "metadata": {},
     "output_type": "execute_result"
    }
   ],
   "source": [
    "# подсчитаем количество должников и добросовестных плательщиков\n",
    "df['debt'].value_counts()"
   ]
  },
  {
   "cell_type": "code",
   "execution_count": 21,
   "metadata": {},
   "outputs": [],
   "source": [
    "# переведем отрицательные значения столбца children в положительные:\n",
    "df['children'] = df['children'].abs()"
   ]
  },
  {
   "cell_type": "code",
   "execution_count": 22,
   "metadata": {},
   "outputs": [
    {
     "data": {
      "text/plain": [
       "плательщики без детей    13044\n",
       "плательщики с детьми      6686\n",
       "должники без детей        1063\n",
       "должники с детьми          678\n",
       "Name: children_debt, dtype: int64"
      ]
     },
     "execution_count": 22,
     "metadata": {},
     "output_type": "execute_result"
    }
   ],
   "source": [
    "# составим функцию для определения зависимости между наличием детей и возвратом кредита в срок\n",
    "# cоздаем два списка, в одном — значения, в другом — названия столбцов датафрейма\n",
    "# формируем строку\n",
    "# передаем строку в качестве аргумента функции для тестирования\n",
    "# проверяем работу функции при разных значениях на входе\n",
    "# создадим новый столбец\n",
    "# расчитаем значения каждой категории\n",
    "\n",
    "row_values = [1, 1]\n",
    "row_columns = ['debt', 'children']\n",
    "row = pd.Series(data=row_values, index=row_columns)  \n",
    "\n",
    "def alert_group_importance(row):\n",
    "    children = row['children']\n",
    "    debt = row['debt']\n",
    "    \n",
    "    if children >=1:\n",
    "        if debt == 1:\n",
    "            return 'должники с детьми'\n",
    "        \n",
    "        return 'плательщики с детьми'\n",
    "        \n",
    "    if children == 0:\n",
    "        if debt == 1:\n",
    "            return 'должники без детей'\n",
    "        \n",
    "        return 'плательщики без детей'\n",
    "\n",
    "# создадим в таблице df новый столбец 'children_debt' и добавим в него данные функции \n",
    "df['children_debt'] = df.apply(alert_group_importance, axis=1)\n",
    "\n",
    "# подсчитаем количество должников и плательщиков по наличию детей\n",
    "df['children_debt'].value_counts()"
   ]
  },
  {
   "cell_type": "markdown",
   "metadata": {},
   "source": [
    "**Вывод**"
   ]
  },
  {
   "cell_type": "markdown",
   "metadata": {},
   "source": [
    "<div style=\"border:solid green 2px; padding: 20px\">\n",
    "Выведем на экран список целей по кредитам столбца 'lemmas' применив метод value_counts(). \n",
    "Обратим внимание, что в многие из них многократно повторяются или одно и то же записано разными словами. \n",
    "Ориентироваться в таких данных очень сложно. Гораздо правильнее разделить цели на категории и каждой категории присвоить значение. \n",
    "\n",
    "Для этого создадим \"словарь\". И будем обращаться уже не к длинной строке, а к названию категории.\n",
    "\n",
    "Распределим клиентов по целям кредита:\n",
    "- покупка, строительство недвижимости и/или жилья - в категорию «недвижимость»;\n",
    "- покупка, приобретения автомобия — категория «автомобиль»;\n",
    "- получение образования  - категория «образование»;\n",
    "- проведение свадьбы  - категория «свадьба»;\n",
    "- ремонт жилья  - категория «ремонт жилья»;\n",
    "\n",
    "Для этого напишем функцию def и передадим ей значения столбца 'lemmas'. Проверим работу функции, выводя на экран разные категории целей кредита. Функция работает корректно. Далее создадим новый столбец 'purpose_group' в таблице df и добавим в него значения функции lemmas_group().   \n",
    "\n",
    "Отсортируем данные по созданным категориям в столбце 'purpose_group' методом value_counts(). Теперь с данными намного проще работать. Стало понятно, больше всего кредитов в категории 'недвижимость', меньше всего в категории 'свадьба'.\n",
    "</div>"
   ]
  },
  {
   "cell_type": "markdown",
   "metadata": {},
   "source": [
    "## Шаг 3. Ответьте на вопросы"
   ]
  },
  {
   "cell_type": "markdown",
   "metadata": {},
   "source": [
    "- Есть ли зависимость между наличием детей и возвратом кредита в срок?"
   ]
  },
  {
   "cell_type": "code",
   "execution_count": 23,
   "metadata": {},
   "outputs": [
    {
     "data": {
      "text/html": [
       "<div>\n",
       "<style scoped>\n",
       "    .dataframe tbody tr th:only-of-type {\n",
       "        vertical-align: middle;\n",
       "    }\n",
       "\n",
       "    .dataframe tbody tr th {\n",
       "        vertical-align: top;\n",
       "    }\n",
       "\n",
       "    .dataframe thead th {\n",
       "        text-align: right;\n",
       "    }\n",
       "</style>\n",
       "<table border=\"1\" class=\"dataframe\">\n",
       "  <thead>\n",
       "    <tr style=\"text-align: right;\">\n",
       "      <th></th>\n",
       "      <th>children_status</th>\n",
       "      <th>pay</th>\n",
       "      <th>debt</th>\n",
       "      <th>ratio</th>\n",
       "    </tr>\n",
       "  </thead>\n",
       "  <tbody>\n",
       "    <tr>\n",
       "      <th>0</th>\n",
       "      <td>без детей</td>\n",
       "      <td>13044</td>\n",
       "      <td>1063</td>\n",
       "      <td>8.149341</td>\n",
       "    </tr>\n",
       "    <tr>\n",
       "      <th>1</th>\n",
       "      <td>с детьми</td>\n",
       "      <td>6686</td>\n",
       "      <td>678</td>\n",
       "      <td>10.140592</td>\n",
       "    </tr>\n",
       "  </tbody>\n",
       "</table>\n",
       "</div>"
      ],
      "text/plain": [
       "  children_status    pay  debt      ratio\n",
       "0       без детей  13044  1063   8.149341\n",
       "1        с детьми   6686   678  10.140592"
      ]
     },
     "metadata": {},
     "output_type": "display_data"
    }
   ],
   "source": [
    "# на основе данных создадим нову таблицу children_frame\n",
    "data = [['без детей', 13044, 1063],\n",
    "        ['с детьми', 6686, 678]] \n",
    "\n",
    "columns = ['children_status','pay','debt']\n",
    "\n",
    "children_frame = pd.DataFrame(data=data, columns=columns) \n",
    "\n",
    "# создадим в таблице children_frame новый столбец 'ratio' и сохраните в нём значение отношения должников\n",
    "# 'debt' к плательщикам 'pay'\n",
    "children_frame['ratio'] = (children_frame['debt'] / children_frame['pay']) * 100\n",
    "\n",
    "# выведем таблицу children_frame на экран\n",
    "display(children_frame)"
   ]
  },
  {
   "cell_type": "code",
   "execution_count": 24,
   "metadata": {},
   "outputs": [
    {
     "data": {
      "text/plain": [
       "<AxesSubplot:xlabel='children_status', ylabel='ratio'>"
      ]
     },
     "execution_count": 24,
     "metadata": {},
     "output_type": "execute_result"
    },
    {
     "data": {
      "image/png": "[encoded data removed]",
      "text/plain": [
       "<Figure size 432x288 with 1 Axes>"
      ]
     },
     "metadata": {
      "needs_background": "light"
     },
     "output_type": "display_data"
    }
   ],
   "source": [
    "#визуализируем полученные данные, построим столбчатую диаграмму\n",
    "\n",
    "import seaborn \n",
    "seaborn.barplot(x=children_frame['children_status'], y=children_frame['ratio'])"
   ]
  },
  {
   "cell_type": "markdown",
   "metadata": {},
   "source": [
    "**Вывод**"
   ]
  },
  {
   "cell_type": "markdown",
   "metadata": {},
   "source": [
    "<div style=\"border:solid green 2px; padding: 20px\">\n",
    "Сначала выведем количество заемщиков по количеству детей. Расчет показал, что заемщиков без детей больше чем с детьми.\n",
    "На втором месте заемщики с одним ребенком. На третьем месте заемщики с двумя детьми. Заемщиков с тремя и более детей гораздо меньше.\n",
    "\n",
    "Также в данных о детях имеется артефакт с отрицательным показателем детей (47 семей имеют -1 ребенка), это значение не отражает действительности, т.к. отрицательное количество детей быть не может. Возможная причина появления таких данных - опечатка при внесении количества детей. Поменяем отрицателное значение на положительное методом abs().\n",
    "\n",
    "Кроме того, в данных о детях имеется еще один артефакт с завышеным показателем - 76 заемщико имеют по 20 детей. Это может быть либо многодетные семьи с приемными детьми, либо опечатки при внесении данных. Чтобы разобраться надо запрашивать информацию, однако у нас такой возможности нет, поэтому примем эти семьи за многодетные.\n",
    "\n",
    "Затем подсчитаем общее количество должников и добросовестных заемщиков. Данные показали, что в большинсво заемщиков оплачивает кредит вовремя. Должников гораздо меньше.\n",
    "\n",
    "Для определения зависимоти между наличием детей и возвратом кредита в срок сгруппирем данные и составим функцию.\n",
    "\n",
    "Распределим клиентов так:\n",
    "- если у клиента есть дети и есть задолженность возвращать \"должники с детьми\"\n",
    "- если есть дети и нет задолженности \"плательщики с детьми\"\n",
    "- если нет детей и есть задолженность \"должники без детей\"\n",
    "- если нет детей и нет задолженности \"плательщики без детей\"\n",
    "\n",
    "Создаем два списка. В одном — значения, в другом — названия столбцов датафрейма. Формируем строку. Передаем строку в качестве аргумента функции для тестирования. Проверяем работу функции при разных значениях на входе.\n",
    "\n",
    "Функция работает корректно. Создаем новый столбец df['children_debt'] со значениями-результатами работы функции alert_group_importance. \n",
    "\n",
    "Метод apply() применяем к датафрейму. Чтобы на вход в функцию отправлялись строки, нужно указать параметр axis = 1 метода apply().\n",
    "\n",
    "Применим метод value_counts() для подсчёта значений каждой категории. На первый взгляд значение в категории 'плательщики без детей' больше чем плательщиков с детьми, однако и должников среди них больше чем должников с детьми. Для более детального расчета посчитаем отношение должников к плательщикам в каждой категории и на основе этих данных создадим новую таблицу children_frame, где,\n",
    "- 'children_status' содержит название категории заемщиков по наличию детей: 'с детьми', 'без детей'.\n",
    "- 'pay' содержит значения о количестве добросовестных плательщиков каждой категории.\n",
    "- 'debt' содержит значения о количестве должников каждой категории.\n",
    "- 'ratio' содержит значения отношения должников к плательщикам каждой категории.\n",
    "\n",
    "В категории 'без детей' доля дожников к плательщикам составляет 8%.\n",
    "В категории 'с детьми' доля дожников к плательщикам составляет 10%.\n",
    "Разница в значениях составляет 2%, если визуализировать эти данные при помощи столбчатой диаграммы, разница видна. \n",
    "Для построения столбчатой диаграммы вызвали библиотеку seaborn и передали ее осям значения из таблицы children_frame, x=children_frame['children_status'], y=children_frame['ratio'].\n",
    "\n",
    "Если произвести обратный расчет, то данные покажут, что добросовестных плательщиков в категории 'с детьми' 90% от числа должников. Добросовестных плательщиков в категории 'без детей' 92%.\n",
    "\n",
    "Расчеты показали, что возврат кредита не связан напрямую от наличия детей, т.к. должники имеются как среди клинетов с детми, так и без детей. Клиентов с детьми возвращающих кредит намного больше, чем должников. \n",
    "\n",
    "Гипотеза о том, что есть зависимости между наличием детей и возвратом кредита в срок (по предоставленным на анализ данным) подтверджается частично.\n",
    "</div>"
   ]
  },
  {
   "cell_type": "markdown",
   "metadata": {},
   "source": [
    "- Есть ли зависимость между семейным положением и возвратом кредита в срок?"
   ]
  },
  {
   "cell_type": "code",
   "execution_count": 25,
   "metadata": {},
   "outputs": [
    {
     "data": {
      "text/plain": [
       "женат / замужем          12344\n",
       "гражданский брак          4163\n",
       "Не женат / не замужем     2810\n",
       "в разводе                 1195\n",
       "вдовец / вдова             959\n",
       "Name: family_status, dtype: int64"
      ]
     },
     "execution_count": 25,
     "metadata": {},
     "output_type": "execute_result"
    }
   ],
   "source": [
    "#узнаем сколько разных статусов в столбце 'family_status'\n",
    "df['family_status'].value_counts()"
   ]
  },
  {
   "cell_type": "code",
   "execution_count": 26,
   "metadata": {},
   "outputs": [
    {
     "data": {
      "text/html": [
       "<div>\n",
       "<style scoped>\n",
       "    .dataframe tbody tr th:only-of-type {\n",
       "        vertical-align: middle;\n",
       "    }\n",
       "\n",
       "    .dataframe tbody tr th {\n",
       "        vertical-align: top;\n",
       "    }\n",
       "\n",
       "    .dataframe thead th {\n",
       "        text-align: right;\n",
       "    }\n",
       "</style>\n",
       "<table border=\"1\" class=\"dataframe\">\n",
       "  <thead>\n",
       "    <tr style=\"text-align: right;\">\n",
       "      <th></th>\n",
       "      <th>family_status</th>\n",
       "      <th>pay</th>\n",
       "      <th>debt</th>\n",
       "    </tr>\n",
       "  </thead>\n",
       "  <tbody>\n",
       "    <tr>\n",
       "      <th>0</th>\n",
       "      <td>женат / замужем</td>\n",
       "      <td>11413</td>\n",
       "      <td>931</td>\n",
       "    </tr>\n",
       "    <tr>\n",
       "      <th>1</th>\n",
       "      <td>гражданский брак</td>\n",
       "      <td>3775</td>\n",
       "      <td>388</td>\n",
       "    </tr>\n",
       "    <tr>\n",
       "      <th>2</th>\n",
       "      <td>вдовец / вдова</td>\n",
       "      <td>896</td>\n",
       "      <td>63</td>\n",
       "    </tr>\n",
       "    <tr>\n",
       "      <th>3</th>\n",
       "      <td>в разводе</td>\n",
       "      <td>1110</td>\n",
       "      <td>85</td>\n",
       "    </tr>\n",
       "    <tr>\n",
       "      <th>4</th>\n",
       "      <td>не женат / не замужем</td>\n",
       "      <td>2536</td>\n",
       "      <td>274</td>\n",
       "    </tr>\n",
       "  </tbody>\n",
       "</table>\n",
       "</div>"
      ],
      "text/plain": [
       "           family_status    pay  debt\n",
       "0        женат / замужем  11413   931\n",
       "1       гражданский брак   3775   388\n",
       "2         вдовец / вдова    896    63\n",
       "3              в разводе   1110    85\n",
       "4  не женат / не замужем   2536   274"
      ]
     },
     "metadata": {},
     "output_type": "display_data"
    }
   ],
   "source": [
    "# напишем функцию для подсчета должников и добросовестных заемщиков по семйному положению\n",
    "\n",
    "def debt_family(family_status_id, debt):\n",
    "    track_list = df[(df['family_status'] == family_status_id) & (df['debt'] == debt)]\n",
    "    track_list_count = track_list['family_status_id'].count()\n",
    "    return track_list_count\n",
    "\n",
    "# вызовим функцию debt_family() меняя значение параметров — так,\n",
    "# чтобы получить данные для каждой категории семейного положения\n",
    "# о наличии и отсутствии задолженности по возврату кредита\n",
    "\n",
    "debt_family('женат / замужем', 0) #количество добросовестных заемщиков в браке  \n",
    "debt_family('женат / замужем', 1) #количество должников в браке\n",
    "\n",
    "debt_family('гражданский брак', 0)\n",
    "debt_family('гражданский брак', 1)\n",
    "\n",
    "debt_family('вдовец / вдова', 0)\n",
    "debt_family('вдовец / вдова', 1)\n",
    "\n",
    "debt_family('в разводе', 0)\n",
    "debt_family('в разводе', 1)\n",
    "\n",
    "debt_family('не женат / не замужем', 0)\n",
    "debt_family('не женат / не замужем', 1)\n",
    "\n",
    "#на основе данных функции создадим нову таблицу data\n",
    "data = [['женат / замужем', 11413, 931],\n",
    "        ['гражданский брак', 3775, 388],\n",
    "        ['вдовец / вдова', 896, 63],\n",
    "        ['в разводе', 1110, 85],\n",
    "        ['не женат / не замужем', 2536, 274]] \n",
    "\n",
    "columns = ['family_status','pay','debt']\n",
    "\n",
    "family_frame = pd.DataFrame(data=data, columns=columns) \n",
    "display(family_frame)"
   ]
  },
  {
   "cell_type": "code",
   "execution_count": 27,
   "metadata": {},
   "outputs": [
    {
     "name": "stdout",
     "output_type": "stream",
     "text": [
      "[8.157364409007272, 10.278145695364238, 7.03125, 7.657657657657657, 10.804416403785488]\n"
     ]
    }
   ],
   "source": [
    "#посчитаем долю неплательщиков среди заемщиков по семейному положению\n",
    "\n",
    "debt = list(family_frame['debt']) # список с количеством должников\n",
    "pay = list(family_frame['pay']) # список с количеством плательщиков\n",
    "\n",
    "share = [] #созаем пустой список\n",
    "\n",
    "#напишем функцию для расчета доли\n",
    "for index in range(len(debt)): \n",
    "    share.append((debt[index] / pay[index]) * 100) \n",
    "\n",
    "print(share)\n"
   ]
  },
  {
   "cell_type": "code",
   "execution_count": 28,
   "metadata": {},
   "outputs": [
    {
     "data": {
      "text/plain": [
       "<AxesSubplot:ylabel='family_status'>"
      ]
     },
     "execution_count": 28,
     "metadata": {},
     "output_type": "execute_result"
    },
    {
     "data": {
      "image/png": "[encoded data removed]",
      "text/plain": [
       "<Figure size 432x288 with 1 Axes>"
      ]
     },
     "metadata": {
      "needs_background": "light"
     },
     "output_type": "display_data"
    }
   ],
   "source": [
    "#визуализируем полученные данные, построим столбчатую диаграмму\n",
    "import seaborn \n",
    "seaborn.barplot(x=share, y=family_frame['family_status'])"
   ]
  },
  {
   "cell_type": "code",
   "execution_count": 29,
   "metadata": {},
   "outputs": [
    {
     "data": {
      "text/html": [
       "<div>\n",
       "<style scoped>\n",
       "    .dataframe tbody tr th:only-of-type {\n",
       "        vertical-align: middle;\n",
       "    }\n",
       "\n",
       "    .dataframe tbody tr th {\n",
       "        vertical-align: top;\n",
       "    }\n",
       "\n",
       "    .dataframe thead th {\n",
       "        text-align: right;\n",
       "    }\n",
       "</style>\n",
       "<table border=\"1\" class=\"dataframe\">\n",
       "  <thead>\n",
       "    <tr style=\"text-align: right;\">\n",
       "      <th></th>\n",
       "      <th>family_status</th>\n",
       "      <th>pay</th>\n",
       "      <th>debt</th>\n",
       "      <th>ratio</th>\n",
       "    </tr>\n",
       "  </thead>\n",
       "  <tbody>\n",
       "    <tr>\n",
       "      <th>0</th>\n",
       "      <td>женат / замужем</td>\n",
       "      <td>11413</td>\n",
       "      <td>931</td>\n",
       "      <td>8.157364</td>\n",
       "    </tr>\n",
       "    <tr>\n",
       "      <th>1</th>\n",
       "      <td>гражданский брак</td>\n",
       "      <td>3775</td>\n",
       "      <td>388</td>\n",
       "      <td>10.278146</td>\n",
       "    </tr>\n",
       "    <tr>\n",
       "      <th>2</th>\n",
       "      <td>вдовец / вдова</td>\n",
       "      <td>896</td>\n",
       "      <td>63</td>\n",
       "      <td>7.031250</td>\n",
       "    </tr>\n",
       "    <tr>\n",
       "      <th>3</th>\n",
       "      <td>в разводе</td>\n",
       "      <td>1110</td>\n",
       "      <td>85</td>\n",
       "      <td>7.657658</td>\n",
       "    </tr>\n",
       "    <tr>\n",
       "      <th>4</th>\n",
       "      <td>не женат / не замужем</td>\n",
       "      <td>2536</td>\n",
       "      <td>274</td>\n",
       "      <td>10.804416</td>\n",
       "    </tr>\n",
       "  </tbody>\n",
       "</table>\n",
       "</div>"
      ],
      "text/plain": [
       "           family_status    pay  debt      ratio\n",
       "0        женат / замужем  11413   931   8.157364\n",
       "1       гражданский брак   3775   388  10.278146\n",
       "2         вдовец / вдова    896    63   7.031250\n",
       "3              в разводе   1110    85   7.657658\n",
       "4  не женат / не замужем   2536   274  10.804416"
      ]
     },
     "metadata": {},
     "output_type": "display_data"
    }
   ],
   "source": [
    "# создадим в таблице family_frame новый столбец 'ratio' и сохраните в нём значение отношения должников\n",
    "# 'debt' к плательщикам 'pay'\n",
    "family_frame['ratio'] = (family_frame['debt'] / family_frame['pay']) * 100\n",
    "\n",
    "# выведем таблицу family_frame на экран\n",
    "display(family_frame)"
   ]
  },
  {
   "cell_type": "markdown",
   "metadata": {},
   "source": [
    "**Вывод**"
   ]
  },
  {
   "cell_type": "markdown",
   "metadata": {},
   "source": [
    "<div style=\"border:solid green 2px; padding: 20px\">\n",
    "Узнаем какие статусы о семейном положении содержатся в столбце 'family_status' и их количесво \n",
    "методом value_counts().\n",
    "\n",
    "Данные показали, что заемщики по семейному положению поделены на:\n",
    "- женат / замужем          12344\n",
    "- гражданский брак          4163\n",
    "- не женат / не замужем     2810\n",
    "- в разводе                 1195\n",
    "- вдовец / вдова             959\n",
    "\n",
    "Данные показали, что заемщиков в официальном браке гораздо больше, чем в гражданском браке, холостых или находящихся в разводе. Меньше всего заемщиков категории вдовец/вдова.\n",
    "\n",
    "Для определения зависимоти между семейным положением и возвратом кредита в срок составим функцию debt_family с двумя параметрами (family_status_id, debt).\n",
    "С помощью последовательной фильтрации с логической индексацией она сначала получит из исходной таблицы df строки с нужным семейным положением, затем из результата отфильтрует строки имел ли клиент задолженность по возврату кредитов, методом count() посчитает количество значений в колонке 'family_status_id'. Это количество функция вернёт в качестве результата.\n",
    "\n",
    "Затем вызовим функцию debt_family() меняя значение параметров, чтобы получить данные для каждой категории семейного положения\n",
    "о наличии и отсутствии задолженности по возврату кредита в срок. Функция работает корректно.\n",
    "\n",
    "На основе полученных данных создадим таблицу family_frame c помощью конструктора pd.DataFrame, где\n",
    "\n",
    "- названия колонок — ['family_status','pay','debt'];\n",
    "- данные — результаты, которые получили с помощью функции debt_family().\n",
    "\n",
    "Данные показывают, что добросовестных плательщиков по семейному положению гороздо больше, чем должников. Отсюда можно сделать вывод, что что нет зависимости между семейным положением и возвратом кредита в срок.\n",
    "\n",
    "Для более точного результата расчитаем отношение должников к добросовестным плательщикам по каждой группе семейного положения. Визуализируем данные, построим столбчатую диаграмму и добавим получившиеся данные в новый столбец 'ratio' таблицы family_frame.\n",
    "\n",
    "Результаты показали, что больше всего должников в категории 'не женат/не замужем' 10% и тех кто состоит в гражданском браке 10%, меньше всего должников в категории 'вдовец / вдова' 7%.\n",
    "\n",
    "Если оприраться только на полученные данные, то можно сделать вывод о том, что зависимость между семейным положением и возвратом кредита в срок существует, т.к. больше всего должников в категориях 'не женат/не замужем' и 'гражданский брак'. И что банку следует с остарожностью выдавать кредиты этим категориям заемщиков. \n",
    "\n",
    "Однако у нас нет информации о том, какой процент должников по отношению к плательщикам является для банка критичным. Представленных данных для такого расчета недостаточно.\n",
    "\n",
    "Гипотеза о том, что есть зависимость между семейным положением и возвратом кредита в срок подтверждается частично.\n",
    "</div>"
   ]
  },
  {
   "cell_type": "markdown",
   "metadata": {},
   "source": [
    "- Есть ли зависимость между уровнем дохода и возвратом кредита в срок?"
   ]
  },
  {
   "cell_type": "code",
   "execution_count": 30,
   "metadata": {},
   "outputs": [
    {
     "data": {
      "text/html": [
       "<div>\n",
       "<style scoped>\n",
       "    .dataframe tbody tr th:only-of-type {\n",
       "        vertical-align: middle;\n",
       "    }\n",
       "\n",
       "    .dataframe tbody tr th {\n",
       "        vertical-align: top;\n",
       "    }\n",
       "\n",
       "    .dataframe thead th {\n",
       "        text-align: right;\n",
       "    }\n",
       "</style>\n",
       "<table border=\"1\" class=\"dataframe\">\n",
       "  <thead>\n",
       "    <tr style=\"text-align: right;\">\n",
       "      <th></th>\n",
       "      <th>total_income</th>\n",
       "      <th>debt</th>\n",
       "    </tr>\n",
       "  </thead>\n",
       "  <tbody>\n",
       "    <tr>\n",
       "      <th>0</th>\n",
       "      <td>253875</td>\n",
       "      <td>0</td>\n",
       "    </tr>\n",
       "    <tr>\n",
       "      <th>1</th>\n",
       "      <td>112080</td>\n",
       "      <td>0</td>\n",
       "    </tr>\n",
       "    <tr>\n",
       "      <th>2</th>\n",
       "      <td>145885</td>\n",
       "      <td>0</td>\n",
       "    </tr>\n",
       "    <tr>\n",
       "      <th>3</th>\n",
       "      <td>267628</td>\n",
       "      <td>0</td>\n",
       "    </tr>\n",
       "    <tr>\n",
       "      <th>4</th>\n",
       "      <td>158616</td>\n",
       "      <td>0</td>\n",
       "    </tr>\n",
       "    <tr>\n",
       "      <th>...</th>\n",
       "      <td>...</td>\n",
       "      <td>...</td>\n",
       "    </tr>\n",
       "    <tr>\n",
       "      <th>21466</th>\n",
       "      <td>224791</td>\n",
       "      <td>0</td>\n",
       "    </tr>\n",
       "    <tr>\n",
       "      <th>21467</th>\n",
       "      <td>155999</td>\n",
       "      <td>0</td>\n",
       "    </tr>\n",
       "    <tr>\n",
       "      <th>21468</th>\n",
       "      <td>89672</td>\n",
       "      <td>1</td>\n",
       "    </tr>\n",
       "    <tr>\n",
       "      <th>21469</th>\n",
       "      <td>244093</td>\n",
       "      <td>1</td>\n",
       "    </tr>\n",
       "    <tr>\n",
       "      <th>21470</th>\n",
       "      <td>82047</td>\n",
       "      <td>0</td>\n",
       "    </tr>\n",
       "  </tbody>\n",
       "</table>\n",
       "<p>21471 rows × 2 columns</p>\n",
       "</div>"
      ],
      "text/plain": [
       "       total_income  debt\n",
       "0            253875     0\n",
       "1            112080     0\n",
       "2            145885     0\n",
       "3            267628     0\n",
       "4            158616     0\n",
       "...             ...   ...\n",
       "21466        224791     0\n",
       "21467        155999     0\n",
       "21468         89672     1\n",
       "21469        244093     1\n",
       "21470         82047     0\n",
       "\n",
       "[21471 rows x 2 columns]"
      ]
     },
     "metadata": {},
     "output_type": "display_data"
    }
   ],
   "source": [
    "#выведем на экран колоноки с уровнем дохода total_income и debt \n",
    "income_filter = df.loc[: , ['total_income', 'debt']]\n",
    "display(income_filter)\n"
   ]
  },
  {
   "cell_type": "code",
   "execution_count": 31,
   "metadata": {},
   "outputs": [],
   "source": [
    "# сгрупируем данные по столбцу debt, получим данные о количестве плательщиков и должников \n",
    "income_filter.groupby('debt')['total_income'].count()\n",
    "\n",
    "# сохраним результат в переменные \n",
    "no_debt = 19730\n",
    "yes_debt = 1741"
   ]
  },
  {
   "cell_type": "code",
   "execution_count": 32,
   "metadata": {},
   "outputs": [
    {
     "name": "stdout",
     "output_type": "stream",
     "text": [
      "8.824125696908261\n"
     ]
    }
   ],
   "source": [
    "# расчитаем отношение должников к добрасовестным плательщикам\n",
    "index_debt = (yes_debt/no_debt) * 100\n",
    "print(index_debt)"
   ]
  },
  {
   "cell_type": "code",
   "execution_count": 33,
   "metadata": {},
   "outputs": [
    {
     "data": {
      "text/plain": [
       "debt\n",
       "0    165551.531323\n",
       "1    161334.642160\n",
       "Name: total_income, dtype: float64"
      ]
     },
     "execution_count": 33,
     "metadata": {},
     "output_type": "execute_result"
    }
   ],
   "source": [
    "# расчитаем средний месячный доход для каждой категории плательщиков\n",
    "income_filter.groupby('debt')['total_income'].mean()"
   ]
  },
  {
   "cell_type": "code",
   "execution_count": 34,
   "metadata": {},
   "outputs": [
    {
     "data": {
      "text/html": [
       "<div>\n",
       "<style scoped>\n",
       "    .dataframe tbody tr th:only-of-type {\n",
       "        vertical-align: middle;\n",
       "    }\n",
       "\n",
       "    .dataframe tbody tr th {\n",
       "        vertical-align: top;\n",
       "    }\n",
       "\n",
       "    .dataframe thead th {\n",
       "        text-align: right;\n",
       "    }\n",
       "</style>\n",
       "<table border=\"1\" class=\"dataframe\">\n",
       "  <thead>\n",
       "    <tr style=\"text-align: right;\">\n",
       "      <th></th>\n",
       "      <th>total_income</th>\n",
       "      <th>debt</th>\n",
       "    </tr>\n",
       "  </thead>\n",
       "  <tbody>\n",
       "    <tr>\n",
       "      <th>14562</th>\n",
       "      <td>20667</td>\n",
       "      <td>1</td>\n",
       "    </tr>\n",
       "    <tr>\n",
       "      <th>12989</th>\n",
       "      <td>21205</td>\n",
       "      <td>0</td>\n",
       "    </tr>\n",
       "    <tr>\n",
       "      <th>16147</th>\n",
       "      <td>21367</td>\n",
       "      <td>0</td>\n",
       "    </tr>\n",
       "    <tr>\n",
       "      <th>1598</th>\n",
       "      <td>21695</td>\n",
       "      <td>0</td>\n",
       "    </tr>\n",
       "    <tr>\n",
       "      <th>14254</th>\n",
       "      <td>21895</td>\n",
       "      <td>0</td>\n",
       "    </tr>\n",
       "    <tr>\n",
       "      <th>...</th>\n",
       "      <td>...</td>\n",
       "      <td>...</td>\n",
       "    </tr>\n",
       "    <tr>\n",
       "      <th>17147</th>\n",
       "      <td>1711309</td>\n",
       "      <td>0</td>\n",
       "    </tr>\n",
       "    <tr>\n",
       "      <th>20759</th>\n",
       "      <td>1715018</td>\n",
       "      <td>0</td>\n",
       "    </tr>\n",
       "    <tr>\n",
       "      <th>9163</th>\n",
       "      <td>1726276</td>\n",
       "      <td>0</td>\n",
       "    </tr>\n",
       "    <tr>\n",
       "      <th>19562</th>\n",
       "      <td>2200852</td>\n",
       "      <td>1</td>\n",
       "    </tr>\n",
       "    <tr>\n",
       "      <th>12396</th>\n",
       "      <td>2265604</td>\n",
       "      <td>0</td>\n",
       "    </tr>\n",
       "  </tbody>\n",
       "</table>\n",
       "<p>21471 rows × 2 columns</p>\n",
       "</div>"
      ],
      "text/plain": [
       "       total_income  debt\n",
       "14562         20667     1\n",
       "12989         21205     0\n",
       "16147         21367     0\n",
       "1598          21695     0\n",
       "14254         21895     0\n",
       "...             ...   ...\n",
       "17147       1711309     0\n",
       "20759       1715018     0\n",
       "9163        1726276     0\n",
       "19562       2200852     1\n",
       "12396       2265604     0\n",
       "\n",
       "[21471 rows x 2 columns]"
      ]
     },
     "execution_count": 34,
     "metadata": {},
     "output_type": "execute_result"
    }
   ],
   "source": [
    "# отсортируем список по доходу в порядке возрастания, тогда в начале таблицы окажется минимальное значение,\n",
    "# а в конце списка максимальное\n",
    "income_filter.sort_values(by='total_income')"
   ]
  },
  {
   "cell_type": "code",
   "execution_count": 35,
   "metadata": {},
   "outputs": [
    {
     "data": {
      "text/html": [
       "<div>\n",
       "<style scoped>\n",
       "    .dataframe tbody tr th:only-of-type {\n",
       "        vertical-align: middle;\n",
       "    }\n",
       "\n",
       "    .dataframe tbody tr th {\n",
       "        vertical-align: top;\n",
       "    }\n",
       "\n",
       "    .dataframe thead th {\n",
       "        text-align: right;\n",
       "    }\n",
       "</style>\n",
       "<table border=\"1\" class=\"dataframe\">\n",
       "  <thead>\n",
       "    <tr style=\"text-align: right;\">\n",
       "      <th></th>\n",
       "      <th>total_income</th>\n",
       "      <th>debt</th>\n",
       "    </tr>\n",
       "  </thead>\n",
       "  <tbody>\n",
       "    <tr>\n",
       "      <th>12396</th>\n",
       "      <td>2265604</td>\n",
       "      <td>0</td>\n",
       "    </tr>\n",
       "    <tr>\n",
       "      <th>9163</th>\n",
       "      <td>1726276</td>\n",
       "      <td>0</td>\n",
       "    </tr>\n",
       "    <tr>\n",
       "      <th>20759</th>\n",
       "      <td>1715018</td>\n",
       "      <td>0</td>\n",
       "    </tr>\n",
       "    <tr>\n",
       "      <th>17147</th>\n",
       "      <td>1711309</td>\n",
       "      <td>0</td>\n",
       "    </tr>\n",
       "    <tr>\n",
       "      <th>17471</th>\n",
       "      <td>1597613</td>\n",
       "      <td>0</td>\n",
       "    </tr>\n",
       "    <tr>\n",
       "      <th>...</th>\n",
       "      <td>...</td>\n",
       "      <td>...</td>\n",
       "    </tr>\n",
       "    <tr>\n",
       "      <th>10869</th>\n",
       "      <td>22472</td>\n",
       "      <td>0</td>\n",
       "    </tr>\n",
       "    <tr>\n",
       "      <th>14254</th>\n",
       "      <td>21895</td>\n",
       "      <td>0</td>\n",
       "    </tr>\n",
       "    <tr>\n",
       "      <th>1598</th>\n",
       "      <td>21695</td>\n",
       "      <td>0</td>\n",
       "    </tr>\n",
       "    <tr>\n",
       "      <th>16147</th>\n",
       "      <td>21367</td>\n",
       "      <td>0</td>\n",
       "    </tr>\n",
       "    <tr>\n",
       "      <th>12989</th>\n",
       "      <td>21205</td>\n",
       "      <td>0</td>\n",
       "    </tr>\n",
       "  </tbody>\n",
       "</table>\n",
       "<p>19730 rows × 2 columns</p>\n",
       "</div>"
      ],
      "text/plain": [
       "       total_income  debt\n",
       "12396       2265604     0\n",
       "9163        1726276     0\n",
       "20759       1715018     0\n",
       "17147       1711309     0\n",
       "17471       1597613     0\n",
       "...             ...   ...\n",
       "10869         22472     0\n",
       "14254         21895     0\n",
       "1598          21695     0\n",
       "16147         21367     0\n",
       "12989         21205     0\n",
       "\n",
       "[19730 rows x 2 columns]"
      ]
     },
     "execution_count": 35,
     "metadata": {},
     "output_type": "execute_result"
    }
   ],
   "source": [
    "# отсортируем данные о плателщиках в порядке убывания\n",
    "income_filter[income_filter['debt'] == 0].sort_values(by='total_income', ascending=False)"
   ]
  },
  {
   "cell_type": "code",
   "execution_count": 36,
   "metadata": {},
   "outputs": [
    {
     "data": {
      "text/html": [
       "<div>\n",
       "<style scoped>\n",
       "    .dataframe tbody tr th:only-of-type {\n",
       "        vertical-align: middle;\n",
       "    }\n",
       "\n",
       "    .dataframe tbody tr th {\n",
       "        vertical-align: top;\n",
       "    }\n",
       "\n",
       "    .dataframe thead th {\n",
       "        text-align: right;\n",
       "    }\n",
       "</style>\n",
       "<table border=\"1\" class=\"dataframe\">\n",
       "  <thead>\n",
       "    <tr style=\"text-align: right;\">\n",
       "      <th></th>\n",
       "      <th>total_income</th>\n",
       "      <th>debt</th>\n",
       "    </tr>\n",
       "  </thead>\n",
       "  <tbody>\n",
       "    <tr>\n",
       "      <th>19562</th>\n",
       "      <td>2200852</td>\n",
       "      <td>1</td>\n",
       "    </tr>\n",
       "    <tr>\n",
       "      <th>4413</th>\n",
       "      <td>1030899</td>\n",
       "      <td>1</td>\n",
       "    </tr>\n",
       "    <tr>\n",
       "      <th>17146</th>\n",
       "      <td>866784</td>\n",
       "      <td>1</td>\n",
       "    </tr>\n",
       "    <tr>\n",
       "      <th>6641</th>\n",
       "      <td>822426</td>\n",
       "      <td>1</td>\n",
       "    </tr>\n",
       "    <tr>\n",
       "      <th>8259</th>\n",
       "      <td>711866</td>\n",
       "      <td>1</td>\n",
       "    </tr>\n",
       "    <tr>\n",
       "      <th>...</th>\n",
       "      <td>...</td>\n",
       "      <td>...</td>\n",
       "    </tr>\n",
       "    <tr>\n",
       "      <th>18829</th>\n",
       "      <td>36270</td>\n",
       "      <td>1</td>\n",
       "    </tr>\n",
       "    <tr>\n",
       "      <th>10417</th>\n",
       "      <td>35249</td>\n",
       "      <td>1</td>\n",
       "    </tr>\n",
       "    <tr>\n",
       "      <th>10618</th>\n",
       "      <td>33941</td>\n",
       "      <td>1</td>\n",
       "    </tr>\n",
       "    <tr>\n",
       "      <th>4056</th>\n",
       "      <td>29154</td>\n",
       "      <td>1</td>\n",
       "    </tr>\n",
       "    <tr>\n",
       "      <th>14562</th>\n",
       "      <td>20667</td>\n",
       "      <td>1</td>\n",
       "    </tr>\n",
       "  </tbody>\n",
       "</table>\n",
       "<p>1741 rows × 2 columns</p>\n",
       "</div>"
      ],
      "text/plain": [
       "       total_income  debt\n",
       "19562       2200852     1\n",
       "4413        1030899     1\n",
       "17146        866784     1\n",
       "6641         822426     1\n",
       "8259         711866     1\n",
       "...             ...   ...\n",
       "18829         36270     1\n",
       "10417         35249     1\n",
       "10618         33941     1\n",
       "4056          29154     1\n",
       "14562         20667     1\n",
       "\n",
       "[1741 rows x 2 columns]"
      ]
     },
     "execution_count": 36,
     "metadata": {},
     "output_type": "execute_result"
    }
   ],
   "source": [
    "# отсортируем данные о должниках в порядке убывания\n",
    "income_filter[income_filter['debt'] == 1].sort_values(by='total_income', ascending=False)\n"
   ]
  },
  {
   "cell_type": "code",
   "execution_count": 37,
   "metadata": {},
   "outputs": [
    {
     "data": {
      "text/plain": [
       "<AxesSubplot:>"
      ]
     },
     "execution_count": 37,
     "metadata": {},
     "output_type": "execute_result"
    },
    {
     "data": {
      "image/png": "[encoded data removed]",
      "text/plain": [
       "<Figure size 432x288 with 1 Axes>"
      ]
     },
     "metadata": {
      "needs_background": "light"
     },
     "output_type": "display_data"
    }
   ],
   "source": [
    "#визуализируем полученные данные о количестве плателщиков и должников, построим столбчатую диаграмму\n",
    "data = ['плательщики', 'должники']\n",
    "list = [19730, 1741]\n",
    "\n",
    "import seaborn \n",
    "seaborn.barplot(x=data, y=list)"
   ]
  },
  {
   "cell_type": "code",
   "execution_count": 38,
   "metadata": {},
   "outputs": [
    {
     "data": {
      "text/html": [
       "<div>\n",
       "<style scoped>\n",
       "    .dataframe tbody tr th:only-of-type {\n",
       "        vertical-align: middle;\n",
       "    }\n",
       "\n",
       "    .dataframe tbody tr th {\n",
       "        vertical-align: top;\n",
       "    }\n",
       "\n",
       "    .dataframe thead th {\n",
       "        text-align: right;\n",
       "    }\n",
       "</style>\n",
       "<table border=\"1\" class=\"dataframe\">\n",
       "  <thead>\n",
       "    <tr style=\"text-align: right;\">\n",
       "      <th></th>\n",
       "      <th>segment</th>\n",
       "      <th>income_max</th>\n",
       "      <th>income_min</th>\n",
       "      <th>income_mean</th>\n",
       "    </tr>\n",
       "  </thead>\n",
       "  <tbody>\n",
       "    <tr>\n",
       "      <th>0</th>\n",
       "      <td>плательщики</td>\n",
       "      <td>2265604</td>\n",
       "      <td>21205</td>\n",
       "      <td>165551</td>\n",
       "    </tr>\n",
       "    <tr>\n",
       "      <th>1</th>\n",
       "      <td>должники</td>\n",
       "      <td>2200852</td>\n",
       "      <td>20667</td>\n",
       "      <td>161334</td>\n",
       "    </tr>\n",
       "  </tbody>\n",
       "</table>\n",
       "</div>"
      ],
      "text/plain": [
       "       segment  income_max  income_min  income_mean\n",
       "0  плательщики     2265604       21205       165551\n",
       "1     должники     2200852       20667       161334"
      ]
     },
     "metadata": {},
     "output_type": "display_data"
    }
   ],
   "source": [
    "#на основе данных создадим нову таблицу filtr_df\n",
    "data = [['плательщики', 2265604, 21205, 165551],\n",
    "       ['должники', 2200852, 20667, 161334]]\n",
    "\n",
    "columns = ['segment','income_max', 'income_min', 'income_mean']\n",
    "\n",
    "filtr_df = pd.DataFrame(data=data, columns=columns) \n",
    "display(filtr_df)\n"
   ]
  },
  {
   "cell_type": "code",
   "execution_count": 39,
   "metadata": {},
   "outputs": [
    {
     "name": "stdout",
     "output_type": "stream",
     "text": [
      "высокий\n"
     ]
    }
   ],
   "source": [
    "# напишем функцию\n",
    "\n",
    "def alert_group(messages):\n",
    "    \n",
    "    if messages <=50000:\n",
    "        return 'низкий'\n",
    "    \n",
    "    if messages <=200000:\n",
    "        return 'средний'\n",
    "    \n",
    "    return 'высокий'\n",
    "\n",
    "df['income_group'] = df['total_income'].apply(alert_group)\n",
    "\n",
    "# проверим рабоу функции\n",
    "#print(alert_group(45000))\n",
    "#print(alert_group(100000))\n",
    "print(alert_group(550000))"
   ]
  },
  {
   "cell_type": "code",
   "execution_count": 40,
   "metadata": {},
   "outputs": [
    {
     "data": {
      "text/html": [
       "<div>\n",
       "<style scoped>\n",
       "    .dataframe tbody tr th:only-of-type {\n",
       "        vertical-align: middle;\n",
       "    }\n",
       "\n",
       "    .dataframe tbody tr th {\n",
       "        vertical-align: top;\n",
       "    }\n",
       "\n",
       "    .dataframe thead th {\n",
       "        text-align: right;\n",
       "    }\n",
       "</style>\n",
       "<table border=\"1\" class=\"dataframe\">\n",
       "  <thead>\n",
       "    <tr style=\"text-align: right;\">\n",
       "      <th></th>\n",
       "      <th>children</th>\n",
       "      <th>days_employed</th>\n",
       "      <th>dob_years</th>\n",
       "      <th>education</th>\n",
       "      <th>education_id</th>\n",
       "      <th>family_status</th>\n",
       "      <th>family_status_id</th>\n",
       "      <th>gender</th>\n",
       "      <th>income_type</th>\n",
       "      <th>debt</th>\n",
       "      <th>total_income</th>\n",
       "      <th>purpose</th>\n",
       "      <th>lemmas</th>\n",
       "      <th>purpose_group</th>\n",
       "      <th>income_group</th>\n",
       "      <th>children_debt</th>\n",
       "    </tr>\n",
       "  </thead>\n",
       "  <tbody>\n",
       "    <tr>\n",
       "      <th>0</th>\n",
       "      <td>1</td>\n",
       "      <td>8437</td>\n",
       "      <td>42</td>\n",
       "      <td>высшее</td>\n",
       "      <td>0</td>\n",
       "      <td>женат / замужем</td>\n",
       "      <td>0</td>\n",
       "      <td>F</td>\n",
       "      <td>сотрудник</td>\n",
       "      <td>0</td>\n",
       "      <td>253875</td>\n",
       "      <td>покупка жилья</td>\n",
       "      <td>покупка   жилье \\n</td>\n",
       "      <td>недвижимость</td>\n",
       "      <td>высокий</td>\n",
       "      <td>плательщики с детьми</td>\n",
       "    </tr>\n",
       "    <tr>\n",
       "      <th>1</th>\n",
       "      <td>1</td>\n",
       "      <td>4024</td>\n",
       "      <td>36</td>\n",
       "      <td>среднее</td>\n",
       "      <td>1</td>\n",
       "      <td>женат / замужем</td>\n",
       "      <td>0</td>\n",
       "      <td>F</td>\n",
       "      <td>сотрудник</td>\n",
       "      <td>0</td>\n",
       "      <td>112080</td>\n",
       "      <td>приобретение автомобиля</td>\n",
       "      <td>приобретение   автомобиль \\n</td>\n",
       "      <td>автомобиль</td>\n",
       "      <td>средний</td>\n",
       "      <td>плательщики с детьми</td>\n",
       "    </tr>\n",
       "    <tr>\n",
       "      <th>2</th>\n",
       "      <td>0</td>\n",
       "      <td>5623</td>\n",
       "      <td>33</td>\n",
       "      <td>Среднее</td>\n",
       "      <td>1</td>\n",
       "      <td>женат / замужем</td>\n",
       "      <td>0</td>\n",
       "      <td>M</td>\n",
       "      <td>сотрудник</td>\n",
       "      <td>0</td>\n",
       "      <td>145885</td>\n",
       "      <td>покупка жилья</td>\n",
       "      <td>покупка   жилье \\n</td>\n",
       "      <td>недвижимость</td>\n",
       "      <td>средний</td>\n",
       "      <td>плательщики без детей</td>\n",
       "    </tr>\n",
       "    <tr>\n",
       "      <th>3</th>\n",
       "      <td>3</td>\n",
       "      <td>4124</td>\n",
       "      <td>32</td>\n",
       "      <td>среднее</td>\n",
       "      <td>1</td>\n",
       "      <td>женат / замужем</td>\n",
       "      <td>0</td>\n",
       "      <td>M</td>\n",
       "      <td>сотрудник</td>\n",
       "      <td>0</td>\n",
       "      <td>267628</td>\n",
       "      <td>дополнительное образование</td>\n",
       "      <td>дополнительный   образование \\n</td>\n",
       "      <td>образование</td>\n",
       "      <td>высокий</td>\n",
       "      <td>плательщики с детьми</td>\n",
       "    </tr>\n",
       "    <tr>\n",
       "      <th>4</th>\n",
       "      <td>0</td>\n",
       "      <td>340266</td>\n",
       "      <td>53</td>\n",
       "      <td>среднее</td>\n",
       "      <td>1</td>\n",
       "      <td>гражданский брак</td>\n",
       "      <td>1</td>\n",
       "      <td>F</td>\n",
       "      <td>пенсионер</td>\n",
       "      <td>0</td>\n",
       "      <td>158616</td>\n",
       "      <td>сыграть свадьбу</td>\n",
       "      <td>сыграть   свадьба \\n</td>\n",
       "      <td>свадьба</td>\n",
       "      <td>средний</td>\n",
       "      <td>плательщики без детей</td>\n",
       "    </tr>\n",
       "    <tr>\n",
       "      <th>5</th>\n",
       "      <td>0</td>\n",
       "      <td>926</td>\n",
       "      <td>27</td>\n",
       "      <td>высшее</td>\n",
       "      <td>0</td>\n",
       "      <td>гражданский брак</td>\n",
       "      <td>1</td>\n",
       "      <td>M</td>\n",
       "      <td>компаньон</td>\n",
       "      <td>0</td>\n",
       "      <td>255763</td>\n",
       "      <td>покупка жилья</td>\n",
       "      <td>покупка   жилье \\n</td>\n",
       "      <td>недвижимость</td>\n",
       "      <td>высокий</td>\n",
       "      <td>плательщики без детей</td>\n",
       "    </tr>\n",
       "    <tr>\n",
       "      <th>6</th>\n",
       "      <td>0</td>\n",
       "      <td>2879</td>\n",
       "      <td>43</td>\n",
       "      <td>высшее</td>\n",
       "      <td>0</td>\n",
       "      <td>женат / замужем</td>\n",
       "      <td>0</td>\n",
       "      <td>F</td>\n",
       "      <td>компаньон</td>\n",
       "      <td>0</td>\n",
       "      <td>240525</td>\n",
       "      <td>операции с жильем</td>\n",
       "      <td>операция   с   жилье \\n</td>\n",
       "      <td>недвижимость</td>\n",
       "      <td>высокий</td>\n",
       "      <td>плательщики без детей</td>\n",
       "    </tr>\n",
       "    <tr>\n",
       "      <th>7</th>\n",
       "      <td>0</td>\n",
       "      <td>152</td>\n",
       "      <td>50</td>\n",
       "      <td>СРЕДНЕЕ</td>\n",
       "      <td>1</td>\n",
       "      <td>женат / замужем</td>\n",
       "      <td>0</td>\n",
       "      <td>M</td>\n",
       "      <td>сотрудник</td>\n",
       "      <td>0</td>\n",
       "      <td>135823</td>\n",
       "      <td>образование</td>\n",
       "      <td>образование \\n</td>\n",
       "      <td>образование</td>\n",
       "      <td>средний</td>\n",
       "      <td>плательщики без детей</td>\n",
       "    </tr>\n",
       "    <tr>\n",
       "      <th>8</th>\n",
       "      <td>2</td>\n",
       "      <td>6929</td>\n",
       "      <td>35</td>\n",
       "      <td>ВЫСШЕЕ</td>\n",
       "      <td>0</td>\n",
       "      <td>гражданский брак</td>\n",
       "      <td>1</td>\n",
       "      <td>F</td>\n",
       "      <td>сотрудник</td>\n",
       "      <td>0</td>\n",
       "      <td>95856</td>\n",
       "      <td>на проведение свадьбы</td>\n",
       "      <td>на   проведение   свадьба \\n</td>\n",
       "      <td>свадьба</td>\n",
       "      <td>средний</td>\n",
       "      <td>плательщики с детьми</td>\n",
       "    </tr>\n",
       "    <tr>\n",
       "      <th>9</th>\n",
       "      <td>0</td>\n",
       "      <td>2188</td>\n",
       "      <td>41</td>\n",
       "      <td>среднее</td>\n",
       "      <td>1</td>\n",
       "      <td>женат / замужем</td>\n",
       "      <td>0</td>\n",
       "      <td>M</td>\n",
       "      <td>сотрудник</td>\n",
       "      <td>0</td>\n",
       "      <td>144425</td>\n",
       "      <td>покупка жилья для семьи</td>\n",
       "      <td>покупка   жилье   для   семья \\n</td>\n",
       "      <td>недвижимость</td>\n",
       "      <td>средний</td>\n",
       "      <td>плательщики без детей</td>\n",
       "    </tr>\n",
       "  </tbody>\n",
       "</table>\n",
       "</div>"
      ],
      "text/plain": [
       "   children  days_employed  dob_years education  education_id  \\\n",
       "0         1           8437         42    высшее             0   \n",
       "1         1           4024         36   среднее             1   \n",
       "2         0           5623         33   Среднее             1   \n",
       "3         3           4124         32   среднее             1   \n",
       "4         0         340266         53   среднее             1   \n",
       "5         0            926         27    высшее             0   \n",
       "6         0           2879         43    высшее             0   \n",
       "7         0            152         50   СРЕДНЕЕ             1   \n",
       "8         2           6929         35    ВЫСШЕЕ             0   \n",
       "9         0           2188         41   среднее             1   \n",
       "\n",
       "      family_status  family_status_id gender income_type  debt  total_income  \\\n",
       "0   женат / замужем                 0      F   сотрудник     0        253875   \n",
       "1   женат / замужем                 0      F   сотрудник     0        112080   \n",
       "2   женат / замужем                 0      M   сотрудник     0        145885   \n",
       "3   женат / замужем                 0      M   сотрудник     0        267628   \n",
       "4  гражданский брак                 1      F   пенсионер     0        158616   \n",
       "5  гражданский брак                 1      M   компаньон     0        255763   \n",
       "6   женат / замужем                 0      F   компаньон     0        240525   \n",
       "7   женат / замужем                 0      M   сотрудник     0        135823   \n",
       "8  гражданский брак                 1      F   сотрудник     0         95856   \n",
       "9   женат / замужем                 0      M   сотрудник     0        144425   \n",
       "\n",
       "                      purpose                            lemmas purpose_group  \\\n",
       "0               покупка жилья                покупка   жилье \\n  недвижимость   \n",
       "1     приобретение автомобиля      приобретение   автомобиль \\n    автомобиль   \n",
       "2               покупка жилья                покупка   жилье \\n  недвижимость   \n",
       "3  дополнительное образование   дополнительный   образование \\n   образование   \n",
       "4             сыграть свадьбу              сыграть   свадьба \\n       свадьба   \n",
       "5               покупка жилья                покупка   жилье \\n  недвижимость   \n",
       "6           операции с жильем           операция   с   жилье \\n  недвижимость   \n",
       "7                 образование                    образование \\n   образование   \n",
       "8       на проведение свадьбы      на   проведение   свадьба \\n       свадьба   \n",
       "9     покупка жилья для семьи  покупка   жилье   для   семья \\n  недвижимость   \n",
       "\n",
       "  income_group          children_debt  \n",
       "0      высокий   плательщики с детьми  \n",
       "1      средний   плательщики с детьми  \n",
       "2      средний  плательщики без детей  \n",
       "3      высокий   плательщики с детьми  \n",
       "4      средний  плательщики без детей  \n",
       "5      высокий  плательщики без детей  \n",
       "6      высокий  плательщики без детей  \n",
       "7      средний  плательщики без детей  \n",
       "8      средний   плательщики с детьми  \n",
       "9      средний  плательщики без детей  "
      ]
     },
     "execution_count": 40,
     "metadata": {},
     "output_type": "execute_result"
    }
   ],
   "source": [
    "# выведем на экран таблицу df проверим добавление столбца\n",
    "df.head(10)"
   ]
  },
  {
   "cell_type": "code",
   "execution_count": 41,
   "metadata": {},
   "outputs": [
    {
     "data": {
      "text/plain": [
       "income_group\n",
       "высокий     4708\n",
       "низкий       349\n",
       "средний    14673\n",
       "Name: income_group, dtype: int64"
      ]
     },
     "execution_count": 41,
     "metadata": {},
     "output_type": "execute_result"
    }
   ],
   "source": [
    "# отсортируем и сгруппируем данные по плательщикам\n",
    "income_p = df[df['debt'] == 0].sort_values(by='income_group', ascending=False)\n",
    "income_p.groupby('income_group')['income_group'].count()"
   ]
  },
  {
   "cell_type": "code",
   "execution_count": 42,
   "metadata": {},
   "outputs": [
    {
     "data": {
      "text/plain": [
       "income_group\n",
       "высокий     358\n",
       "низкий       23\n",
       "средний    1360\n",
       "Name: income_group, dtype: int64"
      ]
     },
     "execution_count": 42,
     "metadata": {},
     "output_type": "execute_result"
    }
   ],
   "source": [
    "# отсортируем и сгруппируем данные по должникам\n",
    "income_d = df[df['debt'] == 1].sort_values(by='income_group', ascending=False)\n",
    "income_d.groupby('income_group')['income_group'].count()"
   ]
  },
  {
   "cell_type": "markdown",
   "metadata": {},
   "source": [
    "**Вывод**"
   ]
  },
  {
   "cell_type": "markdown",
   "metadata": {},
   "source": [
    "<div style=\"border:solid green 2px; padding: 20px\">\n",
    "Для того, чтобы узнать количество плательщиков и должников по кредиту в сигменте ежемесячный доход, сргуррировали данные по столбцу 'debt' методом groupby и произвели расчет методом count(). Данные показали, что тех кто оплачивает кредит вовремя гораздо больше чем должников.\n",
    "- 0 - нет задолженности по кредиту 19730 заемщиков.\n",
    "- 1 - должники 1741 заемщиков.\n",
    "Расчитали отношение должников к добрасовестным плательщикам, что составило почти 9%. \n",
    "\n",
    "Визуализируем полученные данные о количестве плателщиков и должников, построим столбчатую диаграмму вывзвав библиотеку seaborn и передав ей данные по каждой категории заемщиков. По графику усматривается, что количество должников по сравнению с полательщиками намного меньше. Однако произведем детальный расчет.\n",
    "\n",
    "Далее произвели расчет среднего месячного дохода плательщиков и должников:\n",
    "- 0 - нет задолженности, средний доход в месяц составил 165551 руб.\n",
    "- 1 - есть задолженность, средний доход в мсяц составил 161334 руб. \n",
    "\n",
    "Данные показали, что средний месячный доход плательщиков и должников практически одинаковый.\n",
    "\n",
    "Расчитаем минимальное и максимальное значение уровня дохода. Для этого можно применить к значениям столбца 'total_income' встроенную функцию max() и min(), а можно отсортсортировать сгрупированные данные методом sort_values в порядке возрастания и получить максимальное и минимальное значение. Так максимальный уровень дохода заемщиков составил 2265604 руб., минимальный 20667 руб.\n",
    "\n",
    "Далее отсортированили данные о доходе по категории плательщиков. Применили метод sort_values(by='total_income', ascending=False) для сортировки данных в порядке убывания.\n",
    "\n",
    "Получили максимальный уровень дохода плательщиков 2265604 руб., минимальный 21205 руб. \n",
    "Максимальный уровень дохода должников 2200852 руб., минимальный 20667 руб.\n",
    "Данные по этим показателям также практически не отличаются. На основе полученных данных создали новую таблицу data и вывели ее на экран.\n",
    "\n",
    "Для более детального анадиза разделим уровень дохода заемщиков на категории и посмотрим, как распределяться в этом случае плательщики и должники.\n",
    "\n",
    "Напишем функцию alert_group(), которая оценивает приоритет в зависимости от уровня дохода заемщика. Если доход не более 50000 руб., она возвращает 'низкий'. Если уровень дохода не более 200000 руб., она возвращает 'средний'. В остальных случаях вернет 'высокий'.\n",
    "\n",
    "Затем проверим работу функции командой print(), подставляя разные показатели дохода. Функция работает корректно. Затем добавим новый столбец 'income_group' с данными в таблицу df.\n",
    "\n",
    "Затем отсортируем данные столбца 'income_group' по должникам и по плательщикам методом ort_values(by='income_group', ascending=False), а затем сгруппируем методом count(), чтобы узнать количество должников и плательщиков по уровню дохода.\n",
    "\n",
    "Итак группировка показала, что среди должников больше всего заемщиков со средним уровнем дохода (1360), а меньше всего с низким (23), с высоким уровнем дохода, тоже есть должники, их 358. \n",
    "\n",
    "И так, дополнительный анализ представленых на исследование данных показал, что нет зависимости между уровнем дохода и возвратом кредита в срок. Однако надо учесть, что в данных о доходе было много пропусков, которые могли повлиять на результаты исследования.\n",
    "\n",
    "Гипотеза о том, что есть зависимость между уровнем дохода и возвратом кредита в срок не потдвержается частично.\n",
    "</div>"
   ]
  },
  {
   "cell_type": "markdown",
   "metadata": {},
   "source": [
    "- Как разные цели кредита влияют на его возврат в срок?"
   ]
  },
  {
   "cell_type": "code",
   "execution_count": 43,
   "metadata": {},
   "outputs": [
    {
     "data": {
      "text/plain": [
       "purpose_group\n",
       "автомобиль      403\n",
       "недвижимость    782\n",
       "образование     370\n",
       "свадьба         186\n",
       "Name: purpose_group, dtype: int64"
      ]
     },
     "execution_count": 43,
     "metadata": {},
     "output_type": "execute_result"
    }
   ],
   "source": [
    "# для определения зависимоти между целями кредита и возвратом кредита в срок \n",
    "# отсортируем данные о плательщиках и должниках по каждой категории\n",
    "\n",
    "# сортировка по должникам\n",
    "index_d = df[df['debt'] == 1].sort_values(by='purpose_group', ascending=False)\n",
    "# группировка по должникам\n",
    "index_d.groupby('purpose_group')['purpose_group'].count()"
   ]
  },
  {
   "cell_type": "code",
   "execution_count": 44,
   "metadata": {},
   "outputs": [
    {
     "data": {
      "text/plain": [
       "purpose_group\n",
       "автомобиль       3905\n",
       "недвижимость    10032\n",
       "образование      3644\n",
       "свадьба          2149\n",
       "Name: purpose_group, dtype: int64"
      ]
     },
     "execution_count": 44,
     "metadata": {},
     "output_type": "execute_result"
    }
   ],
   "source": [
    "# сортировака по плательщикам\n",
    "index_p = df[df['debt'] == 0].sort_values(by='purpose_group', ascending=False)\n",
    "\n",
    "# сгруппируем данные по плательщикам\n",
    "index_p.groupby('purpose_group')['purpose_group'].count()"
   ]
  },
  {
   "cell_type": "code",
   "execution_count": 45,
   "metadata": {},
   "outputs": [
    {
     "data": {
      "text/html": [
       "<div>\n",
       "<style scoped>\n",
       "    .dataframe tbody tr th:only-of-type {\n",
       "        vertical-align: middle;\n",
       "    }\n",
       "\n",
       "    .dataframe tbody tr th {\n",
       "        vertical-align: top;\n",
       "    }\n",
       "\n",
       "    .dataframe thead th {\n",
       "        text-align: right;\n",
       "    }\n",
       "</style>\n",
       "<table border=\"1\" class=\"dataframe\">\n",
       "  <thead>\n",
       "    <tr style=\"text-align: right;\">\n",
       "      <th></th>\n",
       "      <th>category</th>\n",
       "      <th>pay</th>\n",
       "      <th>debt</th>\n",
       "      <th>ratio</th>\n",
       "    </tr>\n",
       "  </thead>\n",
       "  <tbody>\n",
       "    <tr>\n",
       "      <th>0</th>\n",
       "      <td>недвижимость</td>\n",
       "      <td>10032</td>\n",
       "      <td>782</td>\n",
       "      <td>7.8</td>\n",
       "    </tr>\n",
       "    <tr>\n",
       "      <th>1</th>\n",
       "      <td>автомобиль</td>\n",
       "      <td>3905</td>\n",
       "      <td>403</td>\n",
       "      <td>10.3</td>\n",
       "    </tr>\n",
       "    <tr>\n",
       "      <th>2</th>\n",
       "      <td>образование</td>\n",
       "      <td>3905</td>\n",
       "      <td>370</td>\n",
       "      <td>9.5</td>\n",
       "    </tr>\n",
       "    <tr>\n",
       "      <th>3</th>\n",
       "      <td>свадьба</td>\n",
       "      <td>2149</td>\n",
       "      <td>186</td>\n",
       "      <td>8.7</td>\n",
       "    </tr>\n",
       "  </tbody>\n",
       "</table>\n",
       "</div>"
      ],
      "text/plain": [
       "       category    pay  debt  ratio\n",
       "0  недвижимость  10032   782    7.8\n",
       "1    автомобиль   3905   403   10.3\n",
       "2   образование   3905   370    9.5\n",
       "3       свадьба   2149   186    8.7"
      ]
     },
     "execution_count": 45,
     "metadata": {},
     "output_type": "execute_result"
    }
   ],
   "source": [
    "# на основе полученных данных создадим таблицу\n",
    "data = [['недвижимость', 10032, 782],\n",
    "        ['автомобиль', 3905, 403],\n",
    "        ['образование', 3905, 370],\n",
    "        ['свадьба', 2149, 186]]\n",
    "\n",
    "columns = ['category','pay', 'debt']\n",
    "\n",
    "fl = pd.DataFrame(data=data, columns=columns) \n",
    "\n",
    "# создадим в таблице fl новый столбец 'ratio' и сохраните в нём значение отношения должников\n",
    "# 'debt' к плательщикам 'pay' по каждой категории\n",
    "fl['ratio'] = (fl['debt'] / fl['pay']) * 100\n",
    "\n",
    "# округлим значения столбца ratio \n",
    "fl['ratio'] = (round(fl['ratio'], 1))\n",
    "\n",
    "# выведем таблицу family_frame на экран\n",
    "fl"
   ]
  },
  {
   "cell_type": "code",
   "execution_count": 46,
   "metadata": {},
   "outputs": [
    {
     "data": {
      "text/html": [
       "<div>\n",
       "<style scoped>\n",
       "    .dataframe tbody tr th:only-of-type {\n",
       "        vertical-align: middle;\n",
       "    }\n",
       "\n",
       "    .dataframe tbody tr th {\n",
       "        vertical-align: top;\n",
       "    }\n",
       "\n",
       "    .dataframe thead th {\n",
       "        text-align: right;\n",
       "    }\n",
       "</style>\n",
       "<table border=\"1\" class=\"dataframe\">\n",
       "  <thead>\n",
       "    <tr style=\"text-align: right;\">\n",
       "      <th></th>\n",
       "      <th>debt</th>\n",
       "    </tr>\n",
       "    <tr>\n",
       "      <th>purpose_group</th>\n",
       "      <th></th>\n",
       "    </tr>\n",
       "  </thead>\n",
       "  <tbody>\n",
       "    <tr>\n",
       "      <th>автомобиль</th>\n",
       "      <td>9.4</td>\n",
       "    </tr>\n",
       "    <tr>\n",
       "      <th>недвижимость</th>\n",
       "      <td>7.2</td>\n",
       "    </tr>\n",
       "    <tr>\n",
       "      <th>образование</th>\n",
       "      <td>9.2</td>\n",
       "    </tr>\n",
       "    <tr>\n",
       "      <th>свадьба</th>\n",
       "      <td>8.0</td>\n",
       "    </tr>\n",
       "  </tbody>\n",
       "</table>\n",
       "</div>"
      ],
      "text/plain": [
       "               debt\n",
       "purpose_group      \n",
       "автомобиль      9.4\n",
       "недвижимость    7.2\n",
       "образование     9.2\n",
       "свадьба         8.0"
      ]
     },
     "execution_count": 46,
     "metadata": {},
     "output_type": "execute_result"
    }
   ],
   "source": [
    "# создаем таблицу методом pivot_table\n",
    "data_pivot = ((df.pivot_table(index=['purpose_group'], values='debt')) * 100).round(1)\n",
    "data_pivot"
   ]
  },
  {
   "cell_type": "code",
   "execution_count": 48,
   "metadata": {},
   "outputs": [
    {
     "data": {
      "text/html": [
       "<div>\n",
       "<style scoped>\n",
       "    .dataframe tbody tr th:only-of-type {\n",
       "        vertical-align: middle;\n",
       "    }\n",
       "\n",
       "    .dataframe tbody tr th {\n",
       "        vertical-align: top;\n",
       "    }\n",
       "\n",
       "    .dataframe thead th {\n",
       "        text-align: right;\n",
       "    }\n",
       "</style>\n",
       "<table border=\"1\" class=\"dataframe\">\n",
       "  <thead>\n",
       "    <tr style=\"text-align: right;\">\n",
       "      <th></th>\n",
       "      <th>debt</th>\n",
       "    </tr>\n",
       "    <tr>\n",
       "      <th>purpose_group</th>\n",
       "      <th></th>\n",
       "    </tr>\n",
       "  </thead>\n",
       "  <tbody>\n",
       "    <tr>\n",
       "      <th>автомобиль</th>\n",
       "      <td>94000.0</td>\n",
       "    </tr>\n",
       "    <tr>\n",
       "      <th>недвижимость</th>\n",
       "      <td>72000.0</td>\n",
       "    </tr>\n",
       "    <tr>\n",
       "      <th>образование</th>\n",
       "      <td>92000.0</td>\n",
       "    </tr>\n",
       "    <tr>\n",
       "      <th>свадьба</th>\n",
       "      <td>80000.0</td>\n",
       "    </tr>\n",
       "  </tbody>\n",
       "</table>\n",
       "</div>"
      ],
      "text/plain": [
       "                  debt\n",
       "purpose_group         \n",
       "автомобиль     94000.0\n",
       "недвижимость   72000.0\n",
       "образование    92000.0\n",
       "свадьба        80000.0"
      ]
     },
     "execution_count": 48,
     "metadata": {},
     "output_type": "execute_result"
    }
   ],
   "source": [
    "# округлим столбец debt до целых чисел\n",
    "data_pivot['debt'] = data_pivot['debt'] * 100\n",
    "data_pivot['debt'] = (round(data_pivot['debt'], 1))\n",
    "\n",
    "#выведем таблицу на экран\n",
    "data_pivot"
   ]
  },
  {
   "cell_type": "markdown",
   "metadata": {},
   "source": [
    "**Вывод**"
   ]
  },
  {
   "cell_type": "markdown",
   "metadata": {},
   "source": [
    "<div style=\"border:solid green 2px; padding: 20px\">\n",
    "Для определения зависимоти между целями кредита и возвратом кредита в срок, отсортируем данные о плательщиках и должниках по каждой категории методом sort_values(by='purpose_group', ascending=False). Затем сгруппироуем данные по столбцу 'purpose_group' методом .groupby и .count() и узнаем количество плательщиков и должников в каждой группе. \n",
    "\n",
    "Сгруппированные данные показали, что больше всего должников в группе 'недвижимость', однако и добросовестных плательщиков в этой группе тоже большее количество. Для более детального анализа расчитаем отношение должников к добросовестным плательщикам и добавим результаты в отдельную колонку таблицы fl. Выведем таблицу на экран командой display().\n",
    "\n",
    "***\n",
    "***   \n",
    "Медодом pivot_table создадим сводную таблицу data_pivot с расчетом отношения должников к плательщикам в столбце 'debt', методом mean(), где функция aggfunc='mean' и добавим округлим получившиеся методом round() с 1 знаком после запятой. \n",
    "    \n",
    "Расчеты показали, что больше всего должников в категории 'автомобиль' и 'образование', если считать эти показатели значимыми, то кредитному отделу банка следует с остарожностью вывадавать кредиты на эти цели и обращать внимание на другие показатели заемщиков этих категорий.\n",
    "\n",
    "Гипотеза о том, что разные цели кредита влияют на его возврат в срок, подтверждается частично.\n",
    "</div>"
   ]
  },
  {
   "cell_type": "markdown",
   "metadata": {},
   "source": [
    "## Шаг 4. Общий вывод"
   ]
  },
  {
   "cell_type": "markdown",
   "metadata": {},
   "source": [
    "<div style=\"border:solid green 2px; padding: 20px\">\n",
    "    \n",
    "В результате анализа представленных данных, проведена проверка четырех гипотез и установлено:\n",
    "\n",
    "    \n",
    "    \n",
    "1. Есть зависимость между наличием детей и возвратом кредита в срок.\n",
    "    \n",
    "- Первая гипотеза подтвердилась частично, т.к. разница между должниками по наличию детей есть, но не существенная.\n",
    "\n",
    "    \n",
    "2. Есть зависимость между семейным положением и возвратом кредита в срок.\n",
    "    \n",
    "- Вторая гипотеза подтвердилась частично, т.к. разница между должниками по категориям семейного положения есть,  не существенная.\n",
    "\n",
    "    \n",
    "3. Есть зависимость между уровнем дохода и возвратом кредита в срок.\n",
    "    \n",
    "- Третья гипотеза не подтвердилась лишь отчасти, т.к. учитывая, что изначально в данных о доходе было много пропусков, расчеты могли исказиться или оказаться другими.\n",
    "\n",
    "    \n",
    "4. Разные цели кредита влияют на его возврат в срок.\n",
    "    \n",
    "- Четвертая гипотеза подтвердилась частично, т.к. разница между должниками по целям кредита есть, но не существенная. \n",
    "</div>"
   ]
  }
 ],
 "metadata": {
  "ExecuteTimeLog": [
   {
    "duration": 1077,
    "start_time": "2021-12-13T12:40:00.349Z"
   },
   {
    "duration": 73,
    "start_time": "2021-12-13T12:43:08.168Z"
   },
   {
    "duration": 98,
    "start_time": "2021-12-13T12:43:24.702Z"
   },
   {
    "duration": 70,
    "start_time": "2021-12-13T12:44:07.906Z"
   },
   {
    "duration": 75,
    "start_time": "2021-12-13T12:46:15.755Z"
   },
   {
    "duration": 109,
    "start_time": "2021-12-13T13:30:29.534Z"
   },
   {
    "duration": 74,
    "start_time": "2021-12-13T13:30:33.635Z"
   },
   {
    "duration": 73,
    "start_time": "2021-12-13T13:30:42.907Z"
   },
   {
    "duration": 71,
    "start_time": "2021-12-13T13:36:01.609Z"
   },
   {
    "duration": 72,
    "start_time": "2021-12-13T13:37:06.604Z"
   },
   {
    "duration": 78,
    "start_time": "2021-12-13T13:39:51.665Z"
   },
   {
    "duration": 79,
    "start_time": "2021-12-13T13:42:11.154Z"
   },
   {
    "duration": 103,
    "start_time": "2021-12-13T13:42:31.757Z"
   },
   {
    "duration": 363,
    "start_time": "2021-12-13T17:27:50.498Z"
   },
   {
    "duration": 838,
    "start_time": "2021-12-13T17:28:54.095Z"
   },
   {
    "duration": 11,
    "start_time": "2021-12-13T17:28:54.935Z"
   },
   {
    "duration": 83,
    "start_time": "2021-12-13T17:35:28.685Z"
   },
   {
    "duration": 84,
    "start_time": "2021-12-13T17:51:39.728Z"
   },
   {
    "duration": 77,
    "start_time": "2021-12-13T18:07:17.151Z"
   },
   {
    "duration": 73,
    "start_time": "2021-12-13T18:15:18.889Z"
   },
   {
    "duration": 14,
    "start_time": "2021-12-13T18:23:31.399Z"
   },
   {
    "duration": 72,
    "start_time": "2021-12-13T18:56:00.611Z"
   },
   {
    "duration": 77,
    "start_time": "2021-12-13T18:56:10.677Z"
   },
   {
    "duration": 12,
    "start_time": "2021-12-13T19:16:30.969Z"
   },
   {
    "duration": 713,
    "start_time": "2021-12-13T19:16:51.929Z"
   },
   {
    "duration": 13,
    "start_time": "2021-12-13T19:17:08.974Z"
   },
   {
    "duration": 12,
    "start_time": "2021-12-13T19:17:53.090Z"
   },
   {
    "duration": 12,
    "start_time": "2021-12-13T19:18:09.501Z"
   },
   {
    "duration": 12,
    "start_time": "2021-12-13T19:18:30.818Z"
   },
   {
    "duration": 14,
    "start_time": "2021-12-13T19:19:03.665Z"
   },
   {
    "duration": 15,
    "start_time": "2021-12-13T19:41:40.153Z"
   },
   {
    "duration": 14,
    "start_time": "2021-12-13T19:41:55.678Z"
   },
   {
    "duration": 14,
    "start_time": "2021-12-13T19:42:31.856Z"
   },
   {
    "duration": 14,
    "start_time": "2021-12-13T19:43:28.072Z"
   },
   {
    "duration": 80,
    "start_time": "2021-12-13T19:51:01.900Z"
   },
   {
    "duration": 15,
    "start_time": "2021-12-13T19:51:16.926Z"
   },
   {
    "duration": 16,
    "start_time": "2021-12-13T19:51:27.444Z"
   },
   {
    "duration": 16,
    "start_time": "2021-12-13T19:51:54.348Z"
   },
   {
    "duration": 15,
    "start_time": "2021-12-13T19:52:12.200Z"
   },
   {
    "duration": 18,
    "start_time": "2021-12-13T19:53:04.491Z"
   },
   {
    "duration": 140,
    "start_time": "2021-12-13T19:54:06.033Z"
   },
   {
    "duration": 13,
    "start_time": "2021-12-13T19:54:22.244Z"
   },
   {
    "duration": 14,
    "start_time": "2021-12-13T19:54:43.877Z"
   },
   {
    "duration": 15,
    "start_time": "2021-12-13T19:56:00.343Z"
   },
   {
    "duration": 114,
    "start_time": "2021-12-13T19:56:57.197Z"
   },
   {
    "duration": 22,
    "start_time": "2021-12-13T19:58:59.118Z"
   },
   {
    "duration": 887,
    "start_time": "2021-12-13T19:59:51.932Z"
   },
   {
    "duration": 22,
    "start_time": "2021-12-13T19:59:52.822Z"
   },
   {
    "duration": 17,
    "start_time": "2021-12-13T20:01:02.901Z"
   },
   {
    "duration": 19,
    "start_time": "2021-12-13T20:01:20.637Z"
   },
   {
    "duration": 84,
    "start_time": "2021-12-13T20:04:03.104Z"
   },
   {
    "duration": 83,
    "start_time": "2021-12-13T20:04:24.364Z"
   },
   {
    "duration": 96,
    "start_time": "2021-12-13T20:05:53.799Z"
   },
   {
    "duration": 95,
    "start_time": "2021-12-13T20:06:24.447Z"
   },
   {
    "duration": 90,
    "start_time": "2021-12-13T20:06:41.904Z"
   },
   {
    "duration": 103,
    "start_time": "2021-12-13T20:12:59.048Z"
   },
   {
    "duration": 107,
    "start_time": "2021-12-13T20:13:26.955Z"
   },
   {
    "duration": 107,
    "start_time": "2021-12-13T20:13:35.658Z"
   },
   {
    "duration": 337,
    "start_time": "2021-12-13T20:41:17.623Z"
   },
   {
    "duration": 23,
    "start_time": "2021-12-13T20:41:32.438Z"
   },
   {
    "duration": 356,
    "start_time": "2021-12-13T20:46:13.373Z"
   },
   {
    "duration": 259,
    "start_time": "2021-12-13T20:46:42.653Z"
   },
   {
    "duration": 19,
    "start_time": "2021-12-13T20:47:45.254Z"
   },
   {
    "duration": 23,
    "start_time": "2021-12-13T20:48:06.078Z"
   },
   {
    "duration": 12,
    "start_time": "2021-12-13T20:49:34.039Z"
   },
   {
    "duration": 18,
    "start_time": "2021-12-13T20:50:01.021Z"
   },
   {
    "duration": 15,
    "start_time": "2021-12-13T20:50:44.242Z"
   },
   {
    "duration": 20,
    "start_time": "2021-12-13T20:52:10.020Z"
   },
   {
    "duration": 18,
    "start_time": "2021-12-13T20:52:41.483Z"
   },
   {
    "duration": 21,
    "start_time": "2021-12-13T20:53:28.823Z"
   },
   {
    "duration": 15,
    "start_time": "2021-12-13T20:54:10.865Z"
   },
   {
    "duration": 28,
    "start_time": "2021-12-13T21:07:10.256Z"
   },
   {
    "duration": 20,
    "start_time": "2021-12-13T21:08:31.878Z"
   },
   {
    "duration": 15,
    "start_time": "2021-12-13T21:08:57.375Z"
   },
   {
    "duration": 16,
    "start_time": "2021-12-13T21:10:00.138Z"
   },
   {
    "duration": 16,
    "start_time": "2021-12-13T21:10:03.028Z"
   },
   {
    "duration": 16,
    "start_time": "2021-12-13T21:11:46.173Z"
   },
   {
    "duration": 20,
    "start_time": "2021-12-13T21:13:04.822Z"
   },
   {
    "duration": 17,
    "start_time": "2021-12-13T21:13:50.563Z"
   },
   {
    "duration": 273,
    "start_time": "2021-12-13T21:14:25.208Z"
   },
   {
    "duration": 18,
    "start_time": "2021-12-13T21:15:00.545Z"
   },
   {
    "duration": 21,
    "start_time": "2021-12-13T21:20:06.690Z"
   },
   {
    "duration": 254,
    "start_time": "2021-12-13T21:36:56.425Z"
   },
   {
    "duration": 19,
    "start_time": "2021-12-13T21:37:11.130Z"
   },
   {
    "duration": 250,
    "start_time": "2021-12-13T21:40:41.002Z"
   },
   {
    "duration": 26,
    "start_time": "2021-12-13T21:41:25.717Z"
   },
   {
    "duration": 22,
    "start_time": "2021-12-13T21:42:00.647Z"
   },
   {
    "duration": 20,
    "start_time": "2021-12-13T21:42:27.736Z"
   },
   {
    "duration": 22,
    "start_time": "2021-12-13T21:43:54.749Z"
   },
   {
    "duration": 87,
    "start_time": "2021-12-13T21:44:35.680Z"
   },
   {
    "duration": 32,
    "start_time": "2021-12-13T21:44:43.246Z"
   },
   {
    "duration": 505,
    "start_time": "2021-12-14T08:04:59.478Z"
   },
   {
    "duration": 912,
    "start_time": "2021-12-14T08:05:42.028Z"
   },
   {
    "duration": 29,
    "start_time": "2021-12-14T08:05:42.944Z"
   },
   {
    "duration": 19,
    "start_time": "2021-12-14T08:05:52.500Z"
   },
   {
    "duration": 30,
    "start_time": "2021-12-14T08:05:58.002Z"
   },
   {
    "duration": 20,
    "start_time": "2021-12-14T08:07:24.623Z"
   },
   {
    "duration": 16,
    "start_time": "2021-12-14T08:11:05.605Z"
   },
   {
    "duration": 21,
    "start_time": "2021-12-14T08:11:50.247Z"
   },
   {
    "duration": 21,
    "start_time": "2021-12-14T08:15:09.759Z"
   },
   {
    "duration": 19,
    "start_time": "2021-12-14T08:15:23.473Z"
   },
   {
    "duration": 21,
    "start_time": "2021-12-14T08:20:09.515Z"
   },
   {
    "duration": 21,
    "start_time": "2021-12-14T08:23:36.455Z"
   },
   {
    "duration": 17,
    "start_time": "2021-12-14T08:24:12.541Z"
   },
   {
    "duration": 18,
    "start_time": "2021-12-14T08:24:20.449Z"
   },
   {
    "duration": 16,
    "start_time": "2021-12-14T08:26:07.221Z"
   },
   {
    "duration": 21,
    "start_time": "2021-12-14T08:27:29.391Z"
   },
   {
    "duration": 366,
    "start_time": "2021-12-14T08:27:48.664Z"
   },
   {
    "duration": 197,
    "start_time": "2021-12-14T08:28:15.501Z"
   },
   {
    "duration": 137,
    "start_time": "2021-12-14T08:29:03.603Z"
   },
   {
    "duration": 995,
    "start_time": "2021-12-14T08:29:32.248Z"
   },
   {
    "duration": 156,
    "start_time": "2021-12-14T08:29:33.245Z"
   },
   {
    "duration": 132,
    "start_time": "2021-12-14T08:29:41.561Z"
   },
   {
    "duration": 146,
    "start_time": "2021-12-14T08:29:59.974Z"
   },
   {
    "duration": 16,
    "start_time": "2021-12-14T08:31:07.821Z"
   },
   {
    "duration": 16,
    "start_time": "2021-12-14T08:31:26.517Z"
   },
   {
    "duration": 23,
    "start_time": "2021-12-14T08:32:21.612Z"
   },
   {
    "duration": 22,
    "start_time": "2021-12-14T08:34:09.395Z"
   },
   {
    "duration": 22,
    "start_time": "2021-12-14T08:34:30.312Z"
   },
   {
    "duration": 17,
    "start_time": "2021-12-14T08:34:43.641Z"
   },
   {
    "duration": 15,
    "start_time": "2021-12-14T08:35:18.943Z"
   },
   {
    "duration": 21,
    "start_time": "2021-12-14T08:36:11.633Z"
   },
   {
    "duration": 21,
    "start_time": "2021-12-14T08:36:47.756Z"
   },
   {
    "duration": 25,
    "start_time": "2021-12-14T08:39:28.377Z"
   },
   {
    "duration": 26,
    "start_time": "2021-12-14T08:42:05.754Z"
   },
   {
    "duration": 30,
    "start_time": "2021-12-14T08:49:15.910Z"
   },
   {
    "duration": 30,
    "start_time": "2021-12-14T08:49:42.335Z"
   },
   {
    "duration": 31,
    "start_time": "2021-12-14T08:50:08.063Z"
   },
   {
    "duration": 27,
    "start_time": "2021-12-14T08:58:39.982Z"
   },
   {
    "duration": 33,
    "start_time": "2021-12-14T08:58:55.229Z"
   },
   {
    "duration": 23,
    "start_time": "2021-12-14T09:00:01.119Z"
   },
   {
    "duration": 23,
    "start_time": "2021-12-14T09:00:04.816Z"
   },
   {
    "duration": 37,
    "start_time": "2021-12-14T09:00:11.662Z"
   },
   {
    "duration": 832,
    "start_time": "2021-12-14T09:01:28.702Z"
   },
   {
    "duration": 34,
    "start_time": "2021-12-14T09:01:29.537Z"
   },
   {
    "duration": 30,
    "start_time": "2021-12-14T09:01:43.505Z"
   },
   {
    "duration": 27,
    "start_time": "2021-12-14T09:01:56.935Z"
   },
   {
    "duration": 36,
    "start_time": "2021-12-14T09:15:50.529Z"
   },
   {
    "duration": 2796,
    "start_time": "2021-12-14T09:21:32.402Z"
   },
   {
    "duration": 3960,
    "start_time": "2021-12-14T09:21:49.366Z"
   },
   {
    "duration": 32,
    "start_time": "2021-12-14T09:29:35.013Z"
   },
   {
    "duration": 29,
    "start_time": "2021-12-14T09:29:41.802Z"
   },
   {
    "duration": 32,
    "start_time": "2021-12-14T09:29:50.927Z"
   },
   {
    "duration": 1014,
    "start_time": "2021-12-14T09:30:05.162Z"
   },
   {
    "duration": 31,
    "start_time": "2021-12-14T09:30:06.179Z"
   },
   {
    "duration": 28,
    "start_time": "2021-12-14T09:30:15.662Z"
   },
   {
    "duration": 27,
    "start_time": "2021-12-14T09:30:32.994Z"
   },
   {
    "duration": 942,
    "start_time": "2021-12-14T09:30:45.068Z"
   },
   {
    "duration": 29,
    "start_time": "2021-12-14T09:30:46.012Z"
   },
   {
    "duration": 26,
    "start_time": "2021-12-14T09:30:51.594Z"
   },
   {
    "duration": 27,
    "start_time": "2021-12-14T09:31:00.899Z"
   },
   {
    "duration": 27,
    "start_time": "2021-12-14T09:32:31.259Z"
   },
   {
    "duration": 30,
    "start_time": "2021-12-14T09:32:41.247Z"
   },
   {
    "duration": 35,
    "start_time": "2021-12-14T09:33:33.382Z"
   },
   {
    "duration": 36,
    "start_time": "2021-12-14T09:42:13.549Z"
   },
   {
    "duration": 33,
    "start_time": "2021-12-14T09:42:39.498Z"
   },
   {
    "duration": 34,
    "start_time": "2021-12-14T09:42:57.478Z"
   },
   {
    "duration": 32,
    "start_time": "2021-12-14T09:43:29.974Z"
   },
   {
    "duration": 32,
    "start_time": "2021-12-14T09:48:22.075Z"
   },
   {
    "duration": -1204,
    "start_time": "2021-12-14T09:48:55.121Z"
   },
   {
    "duration": -1228,
    "start_time": "2021-12-14T09:49:25.355Z"
   },
   {
    "duration": 878,
    "start_time": "2021-12-14T09:49:33.516Z"
   },
   {
    "duration": 33,
    "start_time": "2021-12-14T09:49:34.397Z"
   },
   {
    "duration": 32,
    "start_time": "2021-12-14T09:49:42.648Z"
   },
   {
    "duration": 544,
    "start_time": "2021-12-14T09:50:05.210Z"
   },
   {
    "duration": 907,
    "start_time": "2021-12-14T09:50:40.433Z"
   },
   {
    "duration": -962,
    "start_time": "2021-12-14T09:50:52.889Z"
   },
   {
    "duration": -1016,
    "start_time": "2021-12-14T09:51:12.009Z"
   },
   {
    "duration": 32,
    "start_time": "2021-12-14T09:51:15.243Z"
   },
   {
    "duration": 32,
    "start_time": "2021-12-14T09:51:44.359Z"
   },
   {
    "duration": 864,
    "start_time": "2021-12-14T11:21:13.784Z"
   },
   {
    "duration": 27,
    "start_time": "2021-12-14T11:21:14.650Z"
   },
   {
    "duration": 30,
    "start_time": "2021-12-14T11:22:02.550Z"
   },
   {
    "duration": 37,
    "start_time": "2021-12-14T11:22:22.074Z"
   },
   {
    "duration": 34,
    "start_time": "2021-12-14T11:23:00.329Z"
   },
   {
    "duration": 32,
    "start_time": "2021-12-14T11:23:47.794Z"
   },
   {
    "duration": 38,
    "start_time": "2021-12-14T11:24:12.933Z"
   },
   {
    "duration": 30,
    "start_time": "2021-12-14T11:26:31.708Z"
   },
   {
    "duration": 31,
    "start_time": "2021-12-14T11:28:16.668Z"
   },
   {
    "duration": 509,
    "start_time": "2021-12-14T11:48:16.384Z"
   },
   {
    "duration": 33,
    "start_time": "2021-12-14T11:49:11.473Z"
   },
   {
    "duration": 36,
    "start_time": "2021-12-14T12:00:05.982Z"
   },
   {
    "duration": 386,
    "start_time": "2021-12-14T12:01:02.945Z"
   },
   {
    "duration": 845,
    "start_time": "2021-12-14T12:01:30.794Z"
   },
   {
    "duration": 447,
    "start_time": "2021-12-14T12:01:31.641Z"
   },
   {
    "duration": 957,
    "start_time": "2021-12-14T12:01:39.213Z"
   },
   {
    "duration": 32,
    "start_time": "2021-12-14T12:02:21.640Z"
   },
   {
    "duration": 33,
    "start_time": "2021-12-14T12:02:51.451Z"
   },
   {
    "duration": 33,
    "start_time": "2021-12-14T12:03:10.808Z"
   },
   {
    "duration": 49,
    "start_time": "2021-12-14T12:03:29.934Z"
   },
   {
    "duration": 44,
    "start_time": "2021-12-14T12:41:14.308Z"
   },
   {
    "duration": 34,
    "start_time": "2021-12-14T12:42:02.749Z"
   },
   {
    "duration": 32,
    "start_time": "2021-12-14T12:48:02.774Z"
   },
   {
    "duration": 368,
    "start_time": "2021-12-14T14:01:19.134Z"
   },
   {
    "duration": 19,
    "start_time": "2021-12-14T14:01:36.505Z"
   },
   {
    "duration": 22,
    "start_time": "2021-12-14T14:06:05.960Z"
   },
   {
    "duration": 39,
    "start_time": "2021-12-14T14:07:59.939Z"
   },
   {
    "duration": 38,
    "start_time": "2021-12-14T14:08:03.899Z"
   },
   {
    "duration": 57,
    "start_time": "2021-12-14T14:08:31.439Z"
   },
   {
    "duration": 125,
    "start_time": "2021-12-14T14:17:52.995Z"
   },
   {
    "duration": 128,
    "start_time": "2021-12-14T14:18:47.744Z"
   },
   {
    "duration": 6,
    "start_time": "2021-12-14T14:18:53.865Z"
   },
   {
    "duration": 7,
    "start_time": "2021-12-14T14:19:04.024Z"
   },
   {
    "duration": 209,
    "start_time": "2021-12-14T16:53:38.148Z"
   },
   {
    "duration": 628,
    "start_time": "2021-12-14T16:54:00.603Z"
   },
   {
    "duration": 24,
    "start_time": "2021-12-14T16:54:01.233Z"
   },
   {
    "duration": 32,
    "start_time": "2021-12-14T16:54:01.259Z"
   },
   {
    "duration": 38,
    "start_time": "2021-12-14T16:54:01.293Z"
   },
   {
    "duration": 265,
    "start_time": "2021-12-14T16:54:01.332Z"
   },
   {
    "duration": 204,
    "start_time": "2021-12-14T16:55:06.936Z"
   },
   {
    "duration": 176,
    "start_time": "2021-12-14T17:18:36.173Z"
   },
   {
    "duration": 692,
    "start_time": "2021-12-14T17:19:04.053Z"
   },
   {
    "duration": 706,
    "start_time": "2021-12-14T17:19:50.545Z"
   },
   {
    "duration": 219,
    "start_time": "2021-12-14T17:20:00.641Z"
   },
   {
    "duration": 172,
    "start_time": "2021-12-14T17:27:09.152Z"
   },
   {
    "duration": 175,
    "start_time": "2021-12-14T17:27:27.332Z"
   },
   {
    "duration": 166,
    "start_time": "2021-12-14T17:40:23.037Z"
   },
   {
    "duration": 695,
    "start_time": "2021-12-14T17:40:42.519Z"
   },
   {
    "duration": 731,
    "start_time": "2021-12-14T17:42:21.067Z"
   },
   {
    "duration": 672,
    "start_time": "2021-12-14T17:42:49.563Z"
   },
   {
    "duration": 698,
    "start_time": "2021-12-14T17:43:20.721Z"
   },
   {
    "duration": 690,
    "start_time": "2021-12-14T17:43:59.662Z"
   },
   {
    "duration": 675,
    "start_time": "2021-12-14T17:44:11.160Z"
   },
   {
    "duration": 695,
    "start_time": "2021-12-14T17:44:25.673Z"
   },
   {
    "duration": 836,
    "start_time": "2021-12-14T17:58:54.259Z"
   },
   {
    "duration": 655,
    "start_time": "2021-12-14T17:59:27.780Z"
   },
   {
    "duration": 24,
    "start_time": "2021-12-14T17:59:28.437Z"
   },
   {
    "duration": 28,
    "start_time": "2021-12-14T17:59:28.463Z"
   },
   {
    "duration": 39,
    "start_time": "2021-12-14T17:59:28.493Z"
   },
   {
    "duration": 901,
    "start_time": "2021-12-14T17:59:28.534Z"
   },
   {
    "duration": 898,
    "start_time": "2021-12-14T17:59:36.073Z"
   },
   {
    "duration": 852,
    "start_time": "2021-12-14T18:00:48.032Z"
   },
   {
    "duration": 876,
    "start_time": "2021-12-14T18:01:01.587Z"
   },
   {
    "duration": 852,
    "start_time": "2021-12-14T18:05:30.272Z"
   },
   {
    "duration": 887,
    "start_time": "2021-12-14T18:16:29.900Z"
   },
   {
    "duration": 200,
    "start_time": "2021-12-14T18:26:09.459Z"
   },
   {
    "duration": 175,
    "start_time": "2021-12-14T18:26:38.960Z"
   },
   {
    "duration": 182,
    "start_time": "2021-12-14T18:27:00.404Z"
   },
   {
    "duration": 187,
    "start_time": "2021-12-14T18:27:09.203Z"
   },
   {
    "duration": 1674,
    "start_time": "2021-12-14T18:27:30.831Z"
   },
   {
    "duration": 219,
    "start_time": "2021-12-14T18:33:34.811Z"
   },
   {
    "duration": 810,
    "start_time": "2021-12-14T18:34:48.135Z"
   },
   {
    "duration": 862,
    "start_time": "2021-12-14T18:35:43.699Z"
   },
   {
    "duration": 810,
    "start_time": "2021-12-14T18:36:14.543Z"
   },
   {
    "duration": 826,
    "start_time": "2021-12-14T18:36:38.967Z"
   },
   {
    "duration": 873,
    "start_time": "2021-12-14T18:36:50.835Z"
   },
   {
    "duration": 865,
    "start_time": "2021-12-14T18:37:17.586Z"
   },
   {
    "duration": 186,
    "start_time": "2021-12-14T18:52:54.655Z"
   },
   {
    "duration": 825,
    "start_time": "2021-12-14T18:53:23.955Z"
   },
   {
    "duration": 18,
    "start_time": "2021-12-14T18:53:57.312Z"
   },
   {
    "duration": 4,
    "start_time": "2021-12-14T18:54:00.603Z"
   },
   {
    "duration": 15,
    "start_time": "2021-12-14T18:55:07.324Z"
   },
   {
    "duration": 8,
    "start_time": "2021-12-14T18:56:31.771Z"
   },
   {
    "duration": 7,
    "start_time": "2021-12-14T18:56:35.336Z"
   },
   {
    "duration": 6,
    "start_time": "2021-12-14T18:56:38.798Z"
   },
   {
    "duration": 6,
    "start_time": "2021-12-14T18:56:51.200Z"
   },
   {
    "duration": 170,
    "start_time": "2021-12-14T18:57:12.118Z"
   },
   {
    "duration": 644,
    "start_time": "2021-12-14T18:57:45.554Z"
   },
   {
    "duration": 647,
    "start_time": "2021-12-14T19:03:17.814Z"
   },
   {
    "duration": 648,
    "start_time": "2021-12-14T19:03:31.425Z"
   },
   {
    "duration": 654,
    "start_time": "2021-12-14T19:05:14.557Z"
   },
   {
    "duration": 679,
    "start_time": "2021-12-14T19:05:45.488Z"
   },
   {
    "duration": 672,
    "start_time": "2021-12-14T19:05:59.742Z"
   },
   {
    "duration": 663,
    "start_time": "2021-12-14T19:06:27.236Z"
   },
   {
    "duration": 664,
    "start_time": "2021-12-14T19:09:18.248Z"
   },
   {
    "duration": 688,
    "start_time": "2021-12-14T19:09:40.062Z"
   },
   {
    "duration": 707,
    "start_time": "2021-12-14T19:09:47.388Z"
   },
   {
    "duration": 719,
    "start_time": "2021-12-14T19:10:23.481Z"
   },
   {
    "duration": 701,
    "start_time": "2021-12-14T19:10:39.914Z"
   },
   {
    "duration": 654,
    "start_time": "2021-12-14T19:10:56.658Z"
   },
   {
    "duration": 27,
    "start_time": "2021-12-14T19:10:57.314Z"
   },
   {
    "duration": 14,
    "start_time": "2021-12-14T19:10:57.343Z"
   },
   {
    "duration": 68,
    "start_time": "2021-12-14T19:10:57.359Z"
   },
   {
    "duration": 235,
    "start_time": "2021-12-14T19:10:57.429Z"
   },
   {
    "duration": 186,
    "start_time": "2021-12-14T19:11:15.045Z"
   },
   {
    "duration": 37,
    "start_time": "2021-12-14T19:11:45.272Z"
   },
   {
    "duration": 189,
    "start_time": "2021-12-14T19:11:48.067Z"
   },
   {
    "duration": 183,
    "start_time": "2021-12-14T19:12:12.377Z"
   },
   {
    "duration": 674,
    "start_time": "2021-12-14T19:12:26.164Z"
   },
   {
    "duration": 27,
    "start_time": "2021-12-14T19:12:26.840Z"
   },
   {
    "duration": 30,
    "start_time": "2021-12-14T19:12:26.869Z"
   },
   {
    "duration": 42,
    "start_time": "2021-12-14T19:12:26.901Z"
   },
   {
    "duration": 240,
    "start_time": "2021-12-14T19:12:26.945Z"
   },
   {
    "duration": 177,
    "start_time": "2021-12-14T19:12:33.990Z"
   },
   {
    "duration": 685,
    "start_time": "2021-12-14T19:12:53.726Z"
   },
   {
    "duration": 692,
    "start_time": "2021-12-14T19:13:17.730Z"
   },
   {
    "duration": 748,
    "start_time": "2021-12-14T19:14:00.831Z"
   },
   {
    "duration": 715,
    "start_time": "2021-12-14T19:24:59.683Z"
   },
   {
    "duration": 197,
    "start_time": "2021-12-14T19:27:44.776Z"
   },
   {
    "duration": 13,
    "start_time": "2021-12-14T19:28:00.958Z"
   },
   {
    "duration": 197,
    "start_time": "2021-12-14T19:35:41.699Z"
   },
   {
    "duration": 204,
    "start_time": "2021-12-14T19:35:57.193Z"
   },
   {
    "duration": 186,
    "start_time": "2021-12-14T19:36:08.808Z"
   },
   {
    "duration": 13,
    "start_time": "2021-12-14T19:37:15.837Z"
   },
   {
    "duration": 172,
    "start_time": "2021-12-14T19:43:35.380Z"
   },
   {
    "duration": 236,
    "start_time": "2021-12-14T19:46:24.310Z"
   },
   {
    "duration": 178,
    "start_time": "2021-12-14T19:47:16.474Z"
   },
   {
    "duration": 836,
    "start_time": "2021-12-14T19:47:40.286Z"
   },
   {
    "duration": 711,
    "start_time": "2021-12-14T19:48:22.996Z"
   },
   {
    "duration": 706,
    "start_time": "2021-12-14T20:08:19.855Z"
   },
   {
    "duration": 600,
    "start_time": "2021-12-14T20:09:58.240Z"
   },
   {
    "duration": 25,
    "start_time": "2021-12-14T20:09:58.842Z"
   },
   {
    "duration": 29,
    "start_time": "2021-12-14T20:09:58.870Z"
   },
   {
    "duration": 38,
    "start_time": "2021-12-14T20:09:58.901Z"
   },
   {
    "duration": 686,
    "start_time": "2021-12-14T20:10:48.079Z"
   },
   {
    "duration": 33,
    "start_time": "2021-12-14T20:10:48.767Z"
   },
   {
    "duration": 13,
    "start_time": "2021-12-14T20:10:48.805Z"
   },
   {
    "duration": 37,
    "start_time": "2021-12-14T20:10:48.820Z"
   },
   {
    "duration": 63,
    "start_time": "2021-12-14T20:11:24.551Z"
   },
   {
    "duration": 596,
    "start_time": "2021-12-14T20:11:33.037Z"
   },
   {
    "duration": 27,
    "start_time": "2021-12-14T20:11:33.636Z"
   },
   {
    "duration": 33,
    "start_time": "2021-12-14T20:11:33.666Z"
   },
   {
    "duration": 38,
    "start_time": "2021-12-14T20:11:33.702Z"
   },
   {
    "duration": 235,
    "start_time": "2021-12-14T20:11:33.742Z"
   },
   {
    "duration": 174,
    "start_time": "2021-12-14T20:11:55.311Z"
   },
   {
    "duration": 55,
    "start_time": "2021-12-14T20:13:17.483Z"
   },
   {
    "duration": 61,
    "start_time": "2021-12-14T20:13:31.537Z"
   },
   {
    "duration": 80,
    "start_time": "2021-12-14T20:13:41.470Z"
   },
   {
    "duration": 170,
    "start_time": "2021-12-14T20:14:21.240Z"
   },
   {
    "duration": 171,
    "start_time": "2021-12-14T20:14:40.225Z"
   },
   {
    "duration": 672,
    "start_time": "2021-12-14T20:14:52.226Z"
   },
   {
    "duration": 684,
    "start_time": "2021-12-14T20:15:33.262Z"
   },
   {
    "duration": 673,
    "start_time": "2021-12-14T20:16:16.248Z"
   },
   {
    "duration": 698,
    "start_time": "2021-12-14T20:16:45.275Z"
   },
   {
    "duration": 7,
    "start_time": "2021-12-14T20:30:36.648Z"
   },
   {
    "duration": 710,
    "start_time": "2021-12-15T10:03:31.590Z"
   },
   {
    "duration": 25,
    "start_time": "2021-12-15T10:03:32.302Z"
   },
   {
    "duration": 13,
    "start_time": "2021-12-15T10:03:32.329Z"
   },
   {
    "duration": 38,
    "start_time": "2021-12-15T10:03:32.344Z"
   },
   {
    "duration": 709,
    "start_time": "2021-12-15T10:03:32.384Z"
   },
   {
    "duration": 13,
    "start_time": "2021-12-15T10:03:33.095Z"
   },
   {
    "duration": 22,
    "start_time": "2021-12-15T10:20:24.018Z"
   },
   {
    "duration": 675,
    "start_time": "2021-12-15T10:31:15.284Z"
   },
   {
    "duration": 694,
    "start_time": "2021-12-15T10:31:44.701Z"
   },
   {
    "duration": 7,
    "start_time": "2021-12-15T10:32:12.184Z"
   },
   {
    "duration": 269,
    "start_time": "2021-12-15T10:34:20.340Z"
   },
   {
    "duration": 694,
    "start_time": "2021-12-15T10:35:44.069Z"
   },
   {
    "duration": 446,
    "start_time": "2021-12-15T10:37:23.610Z"
   },
   {
    "duration": 392,
    "start_time": "2021-12-15T10:37:53.794Z"
   },
   {
    "duration": 475,
    "start_time": "2021-12-15T10:44:39.845Z"
   },
   {
    "duration": 369,
    "start_time": "2021-12-15T10:44:57.647Z"
   },
   {
    "duration": 699,
    "start_time": "2021-12-15T10:45:20.112Z"
   },
   {
    "duration": 31,
    "start_time": "2021-12-15T10:45:20.813Z"
   },
   {
    "duration": 15,
    "start_time": "2021-12-15T10:45:20.847Z"
   },
   {
    "duration": 64,
    "start_time": "2021-12-15T10:45:20.863Z"
   },
   {
    "duration": 441,
    "start_time": "2021-12-15T10:45:20.929Z"
   },
   {
    "duration": -963,
    "start_time": "2021-12-15T10:45:22.335Z"
   },
   {
    "duration": 365,
    "start_time": "2021-12-15T10:45:31.374Z"
   },
   {
    "duration": 108,
    "start_time": "2021-12-15T10:45:47.498Z"
   },
   {
    "duration": 5,
    "start_time": "2021-12-15T10:45:58.811Z"
   },
   {
    "duration": 5,
    "start_time": "2021-12-15T10:46:03.812Z"
   },
   {
    "duration": 5,
    "start_time": "2021-12-15T10:46:19.007Z"
   },
   {
    "duration": 7,
    "start_time": "2021-12-15T10:46:28.730Z"
   },
   {
    "duration": 2246,
    "start_time": "2021-12-15T10:51:14.219Z"
   },
   {
    "duration": 1018,
    "start_time": "2021-12-15T10:53:18.336Z"
   },
   {
    "duration": 405,
    "start_time": "2021-12-15T10:54:01.865Z"
   },
   {
    "duration": 120,
    "start_time": "2021-12-15T10:54:20.812Z"
   },
   {
    "duration": 360,
    "start_time": "2021-12-15T10:54:47.680Z"
   },
   {
    "duration": 356,
    "start_time": "2021-12-15T10:58:26.883Z"
   },
   {
    "duration": 753,
    "start_time": "2021-12-15T10:58:34.904Z"
   },
   {
    "duration": 24,
    "start_time": "2021-12-15T10:58:35.659Z"
   },
   {
    "duration": 30,
    "start_time": "2021-12-15T10:58:35.685Z"
   },
   {
    "duration": 39,
    "start_time": "2021-12-15T10:58:35.716Z"
   },
   {
    "duration": 433,
    "start_time": "2021-12-15T10:58:35.757Z"
   },
   {
    "duration": -928,
    "start_time": "2021-12-15T10:58:37.120Z"
   },
   {
    "duration": 422,
    "start_time": "2021-12-15T11:03:07.078Z"
   },
   {
    "duration": 402,
    "start_time": "2021-12-15T11:05:49.819Z"
   },
   {
    "duration": 153,
    "start_time": "2021-12-15T11:08:45.527Z"
   },
   {
    "duration": 2064,
    "start_time": "2021-12-15T11:08:59.662Z"
   },
   {
    "duration": 29,
    "start_time": "2021-12-15T11:09:01.728Z"
   },
   {
    "duration": 13,
    "start_time": "2021-12-15T11:09:01.759Z"
   },
   {
    "duration": 62,
    "start_time": "2021-12-15T11:09:01.774Z"
   },
   {
    "duration": 132,
    "start_time": "2021-12-15T11:09:01.838Z"
   },
   {
    "duration": -960,
    "start_time": "2021-12-15T11:09:02.932Z"
   },
   {
    "duration": 139,
    "start_time": "2021-12-15T11:09:08.757Z"
   },
   {
    "duration": 422,
    "start_time": "2021-12-15T11:09:25.178Z"
   },
   {
    "duration": 361,
    "start_time": "2021-12-15T11:10:01.125Z"
   },
   {
    "duration": 411,
    "start_time": "2021-12-15T11:10:11.511Z"
   },
   {
    "duration": 404,
    "start_time": "2021-12-15T11:11:41.839Z"
   },
   {
    "duration": 398,
    "start_time": "2021-12-15T11:13:41.844Z"
   },
   {
    "duration": 716,
    "start_time": "2021-12-15T11:14:54.976Z"
   },
   {
    "duration": 8,
    "start_time": "2021-12-15T11:15:23.900Z"
   },
   {
    "duration": 19,
    "start_time": "2021-12-15T11:22:22.103Z"
   },
   {
    "duration": 360,
    "start_time": "2021-12-15T11:25:55.877Z"
   },
   {
    "duration": 350,
    "start_time": "2021-12-15T11:26:36.068Z"
   },
   {
    "duration": 10,
    "start_time": "2021-12-15T11:26:56.665Z"
   },
   {
    "duration": 10,
    "start_time": "2021-12-15T11:29:35.912Z"
   },
   {
    "duration": 789,
    "start_time": "2021-12-15T11:55:33.889Z"
   },
   {
    "duration": 7,
    "start_time": "2021-12-15T11:56:08.479Z"
   },
   {
    "duration": 6,
    "start_time": "2021-12-15T11:57:41.215Z"
   },
   {
    "duration": 711,
    "start_time": "2021-12-15T12:00:24.067Z"
   },
   {
    "duration": 426,
    "start_time": "2021-12-15T12:01:08.858Z"
   },
   {
    "duration": 676,
    "start_time": "2021-12-15T12:02:38.413Z"
   },
   {
    "duration": 772,
    "start_time": "2021-12-15T12:04:08.757Z"
   },
   {
    "duration": 686,
    "start_time": "2021-12-15T12:07:12.934Z"
   },
   {
    "duration": 734,
    "start_time": "2021-12-15T12:54:22.969Z"
   },
   {
    "duration": 4,
    "start_time": "2021-12-15T13:37:52.335Z"
   },
   {
    "duration": 4,
    "start_time": "2021-12-15T13:39:48.070Z"
   },
   {
    "duration": 120,
    "start_time": "2021-12-15T13:39:59.557Z"
   },
   {
    "duration": 145,
    "start_time": "2021-12-15T13:40:18.928Z"
   },
   {
    "duration": 116,
    "start_time": "2021-12-15T13:41:09.379Z"
   },
   {
    "duration": 128,
    "start_time": "2021-12-15T13:42:00.653Z"
   },
   {
    "duration": 19,
    "start_time": "2021-12-15T13:43:56.249Z"
   },
   {
    "duration": 21,
    "start_time": "2021-12-15T13:44:45.587Z"
   },
   {
    "duration": 25,
    "start_time": "2021-12-15T13:45:16.902Z"
   },
   {
    "duration": 117,
    "start_time": "2021-12-15T13:45:41.306Z"
   },
   {
    "duration": 154,
    "start_time": "2021-12-15T13:45:59.386Z"
   },
   {
    "duration": 1584,
    "start_time": "2021-12-15T13:46:13.281Z"
   },
   {
    "duration": 37,
    "start_time": "2021-12-15T13:46:38.290Z"
   },
   {
    "duration": 870,
    "start_time": "2021-12-15T18:39:18.700Z"
   },
   {
    "duration": 33,
    "start_time": "2021-12-15T18:39:19.573Z"
   },
   {
    "duration": 21,
    "start_time": "2021-12-15T18:39:19.623Z"
   },
   {
    "duration": 75,
    "start_time": "2021-12-15T18:39:19.646Z"
   },
   {
    "duration": 911,
    "start_time": "2021-12-15T18:39:19.723Z"
   },
   {
    "duration": 7419,
    "start_time": "2021-12-15T18:39:20.637Z"
   },
   {
    "duration": 847,
    "start_time": "2021-12-15T18:39:53.798Z"
   },
   {
    "duration": 32,
    "start_time": "2021-12-15T18:39:54.649Z"
   },
   {
    "duration": 41,
    "start_time": "2021-12-15T18:39:54.685Z"
   },
   {
    "duration": 55,
    "start_time": "2021-12-15T18:39:54.729Z"
   },
   {
    "duration": 950,
    "start_time": "2021-12-15T18:39:54.786Z"
   },
   {
    "duration": 10424,
    "start_time": "2021-12-15T18:39:55.739Z"
   },
   {
    "duration": -667,
    "start_time": "2021-12-15T18:40:16.214Z"
   },
   {
    "duration": 866,
    "start_time": "2021-12-15T18:40:21.616Z"
   },
   {
    "duration": 58,
    "start_time": "2021-12-15T18:40:22.485Z"
   },
   {
    "duration": 19,
    "start_time": "2021-12-15T18:40:22.547Z"
   },
   {
    "duration": 86,
    "start_time": "2021-12-15T18:40:22.569Z"
   },
   {
    "duration": 927,
    "start_time": "2021-12-15T18:40:22.659Z"
   },
   {
    "duration": 7083,
    "start_time": "2021-12-15T18:40:23.588Z"
   },
   {
    "duration": 969,
    "start_time": "2021-12-15T18:40:35.886Z"
   },
   {
    "duration": -768,
    "start_time": "2021-12-15T18:40:56.080Z"
   },
   {
    "duration": -754,
    "start_time": "2021-12-15T18:41:10.501Z"
   },
   {
    "duration": 940,
    "start_time": "2021-12-15T18:41:14.997Z"
   },
   {
    "duration": 35,
    "start_time": "2021-12-15T18:41:15.940Z"
   },
   {
    "duration": 19,
    "start_time": "2021-12-15T18:41:15.979Z"
   },
   {
    "duration": 59,
    "start_time": "2021-12-15T18:41:16.025Z"
   },
   {
    "duration": 1134,
    "start_time": "2021-12-15T18:41:16.086Z"
   },
   {
    "duration": -677,
    "start_time": "2021-12-15T18:41:31.621Z"
   },
   {
    "duration": 1016,
    "start_time": "2021-12-15T18:42:02.929Z"
   },
   {
    "duration": 34,
    "start_time": "2021-12-15T18:42:03.948Z"
   },
   {
    "duration": 39,
    "start_time": "2021-12-15T18:42:03.984Z"
   },
   {
    "duration": 76,
    "start_time": "2021-12-15T18:42:04.027Z"
   },
   {
    "duration": 1057,
    "start_time": "2021-12-15T18:42:04.106Z"
   },
   {
    "duration": 7093,
    "start_time": "2021-12-15T18:42:05.165Z"
   },
   {
    "duration": -771,
    "start_time": "2021-12-15T18:45:11.895Z"
   },
   {
    "duration": 1520,
    "start_time": "2021-12-15T18:45:19.636Z"
   },
   {
    "duration": 33,
    "start_time": "2021-12-15T18:45:21.159Z"
   },
   {
    "duration": 46,
    "start_time": "2021-12-15T18:45:21.195Z"
   },
   {
    "duration": 58,
    "start_time": "2021-12-15T18:45:21.245Z"
   },
   {
    "duration": 932,
    "start_time": "2021-12-15T18:45:21.324Z"
   },
   {
    "duration": 7172,
    "start_time": "2021-12-15T18:45:22.259Z"
   },
   {
    "duration": 7748,
    "start_time": "2021-12-15T18:45:36.843Z"
   },
   {
    "duration": 946,
    "start_time": "2021-12-15T18:45:47.536Z"
   },
   {
    "duration": -708,
    "start_time": "2021-12-15T18:46:00.736Z"
   },
   {
    "duration": 115,
    "start_time": "2021-12-15T18:46:16.937Z"
   },
   {
    "duration": 37,
    "start_time": "2021-12-15T18:46:21.876Z"
   },
   {
    "duration": 20,
    "start_time": "2021-12-15T18:46:25.648Z"
   },
   {
    "duration": 59,
    "start_time": "2021-12-15T18:46:28.648Z"
   },
   {
    "duration": 942,
    "start_time": "2021-12-15T18:46:33.437Z"
   },
   {
    "duration": 7222,
    "start_time": "2021-12-15T18:46:37.690Z"
   },
   {
    "duration": -730,
    "start_time": "2021-12-15T18:47:03.087Z"
   },
   {
    "duration": 12407,
    "start_time": "2021-12-15T18:51:48.594Z"
   },
   {
    "duration": -764,
    "start_time": "2021-12-15T18:52:01.769Z"
   },
   {
    "duration": 872,
    "start_time": "2021-12-15T18:52:06.952Z"
   },
   {
    "duration": 41,
    "start_time": "2021-12-15T18:52:07.827Z"
   },
   {
    "duration": 19,
    "start_time": "2021-12-15T18:52:07.871Z"
   },
   {
    "duration": 86,
    "start_time": "2021-12-15T18:52:07.893Z"
   },
   {
    "duration": 951,
    "start_time": "2021-12-15T18:52:07.982Z"
   },
   {
    "duration": 7727,
    "start_time": "2021-12-15T18:52:08.936Z"
   },
   {
    "duration": 943,
    "start_time": "2021-12-15T18:53:11.437Z"
   },
   {
    "duration": -640,
    "start_time": "2021-12-15T18:53:26.482Z"
   },
   {
    "duration": 786,
    "start_time": "2021-12-15T18:53:45.672Z"
   },
   {
    "duration": 33,
    "start_time": "2021-12-15T18:53:46.461Z"
   },
   {
    "duration": 42,
    "start_time": "2021-12-15T18:53:46.497Z"
   },
   {
    "duration": 53,
    "start_time": "2021-12-15T18:53:46.542Z"
   },
   {
    "duration": 977,
    "start_time": "2021-12-15T18:53:46.598Z"
   },
   {
    "duration": 9953,
    "start_time": "2021-12-15T18:53:47.578Z"
   },
   {
    "duration": 7511,
    "start_time": "2021-12-15T18:54:27.466Z"
   },
   {
    "duration": -720,
    "start_time": "2021-12-15T18:54:49.204Z"
   },
   {
    "duration": 8746,
    "start_time": "2021-12-15T18:54:52.666Z"
   },
   {
    "duration": 966,
    "start_time": "2021-12-15T18:55:02.244Z"
   },
   {
    "duration": -687,
    "start_time": "2021-12-15T18:55:15.523Z"
   },
   {
    "duration": 7375,
    "start_time": "2021-12-15T18:55:15.636Z"
   },
   {
    "duration": 7671,
    "start_time": "2021-12-15T18:56:14.547Z"
   },
   {
    "duration": -671,
    "start_time": "2021-12-15T18:56:22.892Z"
   },
   {
    "duration": 964,
    "start_time": "2021-12-15T18:56:25.637Z"
   },
   {
    "duration": -741,
    "start_time": "2021-12-15T18:56:39.488Z"
   },
   {
    "duration": -670,
    "start_time": "2021-12-15T18:56:54.810Z"
   },
   {
    "duration": 6903,
    "start_time": "2021-12-15T19:04:20.445Z"
   },
   {
    "duration": 860,
    "start_time": "2021-12-15T19:04:29.715Z"
   },
   {
    "duration": 44,
    "start_time": "2021-12-15T19:04:30.579Z"
   },
   {
    "duration": 22,
    "start_time": "2021-12-15T19:04:30.627Z"
   },
   {
    "duration": 78,
    "start_time": "2021-12-15T19:04:30.652Z"
   },
   {
    "duration": 897,
    "start_time": "2021-12-15T19:04:30.733Z"
   },
   {
    "duration": 9111,
    "start_time": "2021-12-15T19:04:31.633Z"
   },
   {
    "duration": 8324,
    "start_time": "2021-12-15T19:10:05.022Z"
   },
   {
    "duration": 975,
    "start_time": "2021-12-15T19:10:13.354Z"
   },
   {
    "duration": -751,
    "start_time": "2021-12-15T19:10:26.606Z"
   },
   {
    "duration": -664,
    "start_time": "2021-12-15T19:10:35.976Z"
   },
   {
    "duration": 910,
    "start_time": "2021-12-15T19:10:45.462Z"
   },
   {
    "duration": 6692,
    "start_time": "2021-12-15T19:10:50.308Z"
   },
   {
    "duration": -731,
    "start_time": "2021-12-15T19:11:33.775Z"
   },
   {
    "duration": 7813,
    "start_time": "2021-12-15T19:11:39.291Z"
   },
   {
    "duration": 917,
    "start_time": "2021-12-15T19:11:49.730Z"
   },
   {
    "duration": -673,
    "start_time": "2021-12-15T19:12:03.368Z"
   },
   {
    "duration": 788,
    "start_time": "2021-12-15T19:12:18.677Z"
   },
   {
    "duration": 33,
    "start_time": "2021-12-15T19:12:19.468Z"
   },
   {
    "duration": 19,
    "start_time": "2021-12-15T19:12:19.524Z"
   },
   {
    "duration": 86,
    "start_time": "2021-12-15T19:12:19.546Z"
   },
   {
    "duration": 918,
    "start_time": "2021-12-15T19:12:19.635Z"
   },
   {
    "duration": 7265,
    "start_time": "2021-12-15T19:12:20.556Z"
   },
   {
    "duration": 954,
    "start_time": "2021-12-15T19:12:30.593Z"
   },
   {
    "duration": 6924,
    "start_time": "2021-12-15T19:12:36.244Z"
   },
   {
    "duration": 6759,
    "start_time": "2021-12-15T19:12:51.985Z"
   },
   {
    "duration": 934,
    "start_time": "2021-12-15T19:13:03.747Z"
   },
   {
    "duration": 7734,
    "start_time": "2021-12-15T19:13:08.868Z"
   },
   {
    "duration": 815,
    "start_time": "2021-12-15T19:13:30.054Z"
   },
   {
    "duration": 51,
    "start_time": "2021-12-15T19:13:30.872Z"
   },
   {
    "duration": 20,
    "start_time": "2021-12-15T19:13:30.927Z"
   },
   {
    "duration": 87,
    "start_time": "2021-12-15T19:13:30.950Z"
   },
   {
    "duration": 951,
    "start_time": "2021-12-15T19:13:31.040Z"
   },
   {
    "duration": 6966,
    "start_time": "2021-12-15T19:13:31.994Z"
   },
   {
    "duration": 932,
    "start_time": "2021-12-15T19:13:49.109Z"
   },
   {
    "duration": 947,
    "start_time": "2021-12-15T19:14:05.214Z"
   },
   {
    "duration": 1254,
    "start_time": "2021-12-15T19:35:40.831Z"
   },
   {
    "duration": 1037,
    "start_time": "2021-12-15T19:36:11.407Z"
   },
   {
    "duration": 1108,
    "start_time": "2021-12-15T19:36:30.360Z"
   },
   {
    "duration": 1039,
    "start_time": "2021-12-15T19:36:33.544Z"
   },
   {
    "duration": 934,
    "start_time": "2021-12-15T19:36:37.167Z"
   },
   {
    "duration": 968,
    "start_time": "2021-12-15T19:36:59.320Z"
   },
   {
    "duration": 968,
    "start_time": "2021-12-15T19:37:05.957Z"
   },
   {
    "duration": -715,
    "start_time": "2021-12-15T19:37:33.343Z"
   },
   {
    "duration": 8163,
    "start_time": "2021-12-15T19:37:36.092Z"
   },
   {
    "duration": 7598,
    "start_time": "2021-12-15T19:38:32.543Z"
   },
   {
    "duration": -691,
    "start_time": "2021-12-15T20:22:41.430Z"
   },
   {
    "duration": -656,
    "start_time": "2021-12-15T20:29:18.203Z"
   },
   {
    "duration": 5002,
    "start_time": "2021-12-15T20:34:19.064Z"
   },
   {
    "duration": 6863,
    "start_time": "2021-12-15T20:39:33.648Z"
   },
   {
    "duration": -662,
    "start_time": "2021-12-15T20:39:54.029Z"
   },
   {
    "duration": 6148,
    "start_time": "2021-12-15T20:44:28.403Z"
   },
   {
    "duration": 5240,
    "start_time": "2021-12-15T20:46:41.308Z"
   },
   {
    "duration": 317,
    "start_time": "2021-12-16T07:57:45.217Z"
   },
   {
    "duration": 242,
    "start_time": "2021-12-16T07:57:54.227Z"
   },
   {
    "duration": 884,
    "start_time": "2021-12-16T07:58:27.510Z"
   },
   {
    "duration": 48,
    "start_time": "2021-12-16T07:58:28.396Z"
   },
   {
    "duration": 18,
    "start_time": "2021-12-16T07:58:28.447Z"
   },
   {
    "duration": 91,
    "start_time": "2021-12-16T07:58:28.468Z"
   },
   {
    "duration": 1292,
    "start_time": "2021-12-16T07:58:28.562Z"
   },
   {
    "duration": -718,
    "start_time": "2021-12-16T07:58:30.576Z"
   },
   {
    "duration": 1175,
    "start_time": "2021-12-16T07:58:37.276Z"
   },
   {
    "duration": 952,
    "start_time": "2021-12-16T08:32:25.804Z"
   },
   {
    "duration": 1049,
    "start_time": "2021-12-16T08:32:30.398Z"
   },
   {
    "duration": 957,
    "start_time": "2021-12-16T08:33:34.483Z"
   },
   {
    "duration": -764,
    "start_time": "2021-12-16T08:34:24.205Z"
   },
   {
    "duration": 7642,
    "start_time": "2021-12-16T08:35:40.520Z"
   },
   {
    "duration": 5546,
    "start_time": "2021-12-16T08:37:13.900Z"
   },
   {
    "duration": 3175,
    "start_time": "2021-12-16T08:37:45.756Z"
   },
   {
    "duration": 5466,
    "start_time": "2021-12-16T08:38:11.773Z"
   },
   {
    "duration": 825,
    "start_time": "2021-12-16T08:45:59.430Z"
   },
   {
    "duration": 59,
    "start_time": "2021-12-16T08:46:00.263Z"
   },
   {
    "duration": 20,
    "start_time": "2021-12-16T08:46:00.326Z"
   },
   {
    "duration": 82,
    "start_time": "2021-12-16T08:46:00.348Z"
   },
   {
    "duration": 840,
    "start_time": "2021-12-16T08:48:42.919Z"
   },
   {
    "duration": 36,
    "start_time": "2021-12-16T08:48:43.762Z"
   },
   {
    "duration": 30,
    "start_time": "2021-12-16T08:48:43.801Z"
   },
   {
    "duration": 60,
    "start_time": "2021-12-16T08:48:43.834Z"
   },
   {
    "duration": 2645,
    "start_time": "2021-12-16T08:48:43.896Z"
   },
   {
    "duration": -773,
    "start_time": "2021-12-16T08:48:47.318Z"
   },
   {
    "duration": 847,
    "start_time": "2021-12-16T08:48:50.424Z"
   },
   {
    "duration": 45,
    "start_time": "2021-12-16T08:48:51.273Z"
   },
   {
    "duration": 18,
    "start_time": "2021-12-16T08:48:51.324Z"
   },
   {
    "duration": 82,
    "start_time": "2021-12-16T08:48:51.345Z"
   },
   {
    "duration": 2165,
    "start_time": "2021-12-16T08:48:51.429Z"
   },
   {
    "duration": -719,
    "start_time": "2021-12-16T08:48:54.315Z"
   },
   {
    "duration": 1120,
    "start_time": "2021-12-16T08:49:38.697Z"
   },
   {
    "duration": 35,
    "start_time": "2021-12-16T08:49:39.819Z"
   },
   {
    "duration": 20,
    "start_time": "2021-12-16T08:49:39.857Z"
   },
   {
    "duration": 90,
    "start_time": "2021-12-16T08:49:39.880Z"
   },
   {
    "duration": 2261,
    "start_time": "2021-12-16T08:49:39.972Z"
   },
   {
    "duration": -724,
    "start_time": "2021-12-16T08:49:42.959Z"
   },
   {
    "duration": 2066,
    "start_time": "2021-12-16T08:49:48.031Z"
   },
   {
    "duration": 3645,
    "start_time": "2021-12-16T08:50:03.074Z"
   },
   {
    "duration": 843,
    "start_time": "2021-12-16T08:52:13.120Z"
   },
   {
    "duration": 35,
    "start_time": "2021-12-16T08:52:13.966Z"
   },
   {
    "duration": 18,
    "start_time": "2021-12-16T08:52:14.016Z"
   },
   {
    "duration": 55,
    "start_time": "2021-12-16T08:52:14.037Z"
   },
   {
    "duration": 867,
    "start_time": "2021-12-16T09:07:07.301Z"
   },
   {
    "duration": 47,
    "start_time": "2021-12-16T09:07:08.171Z"
   },
   {
    "duration": 18,
    "start_time": "2021-12-16T09:07:08.225Z"
   },
   {
    "duration": 83,
    "start_time": "2021-12-16T09:07:08.246Z"
   },
   {
    "duration": 1027,
    "start_time": "2021-12-16T09:07:08.331Z"
   },
   {
    "duration": 6864,
    "start_time": "2021-12-16T09:07:09.360Z"
   },
   {
    "duration": 6345,
    "start_time": "2021-12-16T09:07:21.409Z"
   },
   {
    "duration": 80,
    "start_time": "2021-12-16T09:15:16.047Z"
   },
   {
    "duration": 971,
    "start_time": "2021-12-16T09:15:44.103Z"
   },
   {
    "duration": 901,
    "start_time": "2021-12-16T09:17:00.896Z"
   },
   {
    "duration": 45,
    "start_time": "2021-12-16T09:17:01.801Z"
   },
   {
    "duration": 21,
    "start_time": "2021-12-16T09:17:01.850Z"
   },
   {
    "duration": 94,
    "start_time": "2021-12-16T09:17:01.874Z"
   },
   {
    "duration": 6136,
    "start_time": "2021-12-16T09:18:00.419Z"
   },
   {
    "duration": -737,
    "start_time": "2021-12-16T09:18:07.296Z"
   },
   {
    "duration": -741,
    "start_time": "2021-12-16T09:18:07.302Z"
   },
   {
    "duration": 884,
    "start_time": "2021-12-16T09:19:22.579Z"
   },
   {
    "duration": 57,
    "start_time": "2021-12-16T09:19:23.467Z"
   },
   {
    "duration": 20,
    "start_time": "2021-12-16T09:19:23.528Z"
   },
   {
    "duration": 89,
    "start_time": "2021-12-16T09:19:23.551Z"
   },
   {
    "duration": 14,
    "start_time": "2021-12-16T09:19:23.643Z"
   },
   {
    "duration": 6087,
    "start_time": "2021-12-16T09:19:23.660Z"
   },
   {
    "duration": 8,
    "start_time": "2021-12-16T09:19:32.337Z"
   },
   {
    "duration": 234,
    "start_time": "2021-12-16T09:24:02.243Z"
   },
   {
    "duration": 920,
    "start_time": "2021-12-16T09:24:17.550Z"
   },
   {
    "duration": 4956,
    "start_time": "2021-12-16T09:31:51.563Z"
   },
   {
    "duration": -701,
    "start_time": "2021-12-16T09:33:34.499Z"
   },
   {
    "duration": 4914,
    "start_time": "2021-12-16T09:34:03.548Z"
   },
   {
    "duration": 79,
    "start_time": "2021-12-16T09:35:46.802Z"
   },
   {
    "duration": 4708,
    "start_time": "2021-12-16T09:40:38.510Z"
   },
   {
    "duration": 6109,
    "start_time": "2021-12-16T09:41:26.782Z"
   },
   {
    "duration": 18,
    "start_time": "2021-12-16T11:11:58.560Z"
   },
   {
    "duration": 18,
    "start_time": "2021-12-16T11:12:28.139Z"
   },
   {
    "duration": 17,
    "start_time": "2021-12-16T11:13:58.942Z"
   },
   {
    "duration": 17,
    "start_time": "2021-12-16T11:14:14.540Z"
   },
   {
    "duration": 252,
    "start_time": "2021-12-16T11:17:09.447Z"
   },
   {
    "duration": 9,
    "start_time": "2021-12-16T11:17:17.984Z"
   },
   {
    "duration": 9,
    "start_time": "2021-12-16T11:19:13.931Z"
   },
   {
    "duration": 9,
    "start_time": "2021-12-16T11:21:51.258Z"
   },
   {
    "duration": 97,
    "start_time": "2021-12-16T11:25:14.730Z"
   },
   {
    "duration": 300,
    "start_time": "2021-12-16T11:25:54.600Z"
   },
   {
    "duration": 99,
    "start_time": "2021-12-16T11:26:02.307Z"
   },
   {
    "duration": 9,
    "start_time": "2021-12-16T11:27:07.105Z"
   },
   {
    "duration": 235,
    "start_time": "2021-12-16T11:30:49.136Z"
   },
   {
    "duration": 8,
    "start_time": "2021-12-16T11:30:56.219Z"
   },
   {
    "duration": 7,
    "start_time": "2021-12-16T11:31:54.712Z"
   },
   {
    "duration": 8,
    "start_time": "2021-12-16T11:32:36.805Z"
   },
   {
    "duration": 9,
    "start_time": "2021-12-16T11:32:57.761Z"
   },
   {
    "duration": 8,
    "start_time": "2021-12-16T11:34:58.418Z"
   },
   {
    "duration": 8,
    "start_time": "2021-12-16T11:35:59.812Z"
   },
   {
    "duration": 8,
    "start_time": "2021-12-16T11:42:16.781Z"
   },
   {
    "duration": 9,
    "start_time": "2021-12-16T11:43:25.680Z"
   },
   {
    "duration": 19,
    "start_time": "2021-12-16T11:51:51.656Z"
   },
   {
    "duration": 9,
    "start_time": "2021-12-16T11:56:52.956Z"
   },
   {
    "duration": 8,
    "start_time": "2021-12-16T11:58:34.426Z"
   },
   {
    "duration": 4552,
    "start_time": "2021-12-16T12:05:15.999Z"
   },
   {
    "duration": 833,
    "start_time": "2021-12-16T12:05:22.874Z"
   },
   {
    "duration": 36,
    "start_time": "2021-12-16T12:05:23.717Z"
   },
   {
    "duration": 18,
    "start_time": "2021-12-16T12:05:23.756Z"
   },
   {
    "duration": 94,
    "start_time": "2021-12-16T12:05:23.777Z"
   },
   {
    "duration": 4599,
    "start_time": "2021-12-16T12:05:23.873Z"
   },
   {
    "duration": 7062,
    "start_time": "2021-12-16T12:05:28.474Z"
   },
   {
    "duration": -815,
    "start_time": "2021-12-16T12:05:36.354Z"
   },
   {
    "duration": 9,
    "start_time": "2021-12-16T12:08:35.476Z"
   },
   {
    "duration": 5,
    "start_time": "2021-12-16T12:08:39.672Z"
   },
   {
    "duration": 11,
    "start_time": "2021-12-16T12:09:03.198Z"
   },
   {
    "duration": 12,
    "start_time": "2021-12-16T12:09:41.930Z"
   },
   {
    "duration": 105,
    "start_time": "2021-12-16T12:44:44.121Z"
   },
   {
    "duration": 7,
    "start_time": "2021-12-16T12:45:10.310Z"
   },
   {
    "duration": 8,
    "start_time": "2021-12-16T12:46:59.394Z"
   },
   {
    "duration": 7,
    "start_time": "2021-12-16T12:47:13.943Z"
   },
   {
    "duration": 7,
    "start_time": "2021-12-16T12:53:46.641Z"
   },
   {
    "duration": 7,
    "start_time": "2021-12-16T12:54:02.085Z"
   },
   {
    "duration": 8,
    "start_time": "2021-12-16T12:54:11.198Z"
   },
   {
    "duration": 7,
    "start_time": "2021-12-16T12:54:18.916Z"
   },
   {
    "duration": 9,
    "start_time": "2021-12-16T12:59:53.101Z"
   },
   {
    "duration": 247,
    "start_time": "2021-12-16T13:02:16.571Z"
   },
   {
    "duration": 604,
    "start_time": "2021-12-16T13:03:29.482Z"
   },
   {
    "duration": 910,
    "start_time": "2021-12-16T13:03:44.995Z"
   },
   {
    "duration": 685,
    "start_time": "2021-12-16T13:04:18.111Z"
   },
   {
    "duration": 9,
    "start_time": "2021-12-16T13:04:38.733Z"
   },
   {
    "duration": 593,
    "start_time": "2021-12-16T13:06:55.258Z"
   },
   {
    "duration": 646,
    "start_time": "2021-12-16T13:07:08.579Z"
   },
   {
    "duration": 581,
    "start_time": "2021-12-16T13:11:29.126Z"
   },
   {
    "duration": 600,
    "start_time": "2021-12-16T13:13:42.301Z"
   },
   {
    "duration": 597,
    "start_time": "2021-12-16T13:14:50.347Z"
   },
   {
    "duration": 602,
    "start_time": "2021-12-16T13:16:29.094Z"
   },
   {
    "duration": 573,
    "start_time": "2021-12-16T13:18:06.661Z"
   },
   {
    "duration": 612,
    "start_time": "2021-12-16T13:49:22.522Z"
   },
   {
    "duration": 649,
    "start_time": "2021-12-16T13:52:51.615Z"
   },
   {
    "duration": 667,
    "start_time": "2021-12-16T13:54:53.538Z"
   },
   {
    "duration": 578,
    "start_time": "2021-12-16T14:04:20.058Z"
   },
   {
    "duration": 1129,
    "start_time": "2021-12-16T14:04:37.179Z"
   },
   {
    "duration": 93,
    "start_time": "2021-12-16T14:27:23.288Z"
   },
   {
    "duration": 678,
    "start_time": "2021-12-16T14:27:34.575Z"
   },
   {
    "duration": 4538,
    "start_time": "2021-12-16T14:47:13.689Z"
   },
   {
    "duration": 582,
    "start_time": "2021-12-16T15:44:08.026Z"
   },
   {
    "duration": 697,
    "start_time": "2021-12-16T15:45:13.752Z"
   },
   {
    "duration": 586,
    "start_time": "2021-12-16T15:46:15.185Z"
   },
   {
    "duration": 624,
    "start_time": "2021-12-16T15:48:32.811Z"
   },
   {
    "duration": 726,
    "start_time": "2021-12-16T15:49:09.181Z"
   },
   {
    "duration": 614,
    "start_time": "2021-12-16T15:49:33.888Z"
   },
   {
    "duration": 655,
    "start_time": "2021-12-16T15:51:34.112Z"
   },
   {
    "duration": 607,
    "start_time": "2021-12-16T15:51:47.097Z"
   },
   {
    "duration": 615,
    "start_time": "2021-12-16T15:52:14.076Z"
   },
   {
    "duration": 574,
    "start_time": "2021-12-16T16:20:07.129Z"
   },
   {
    "duration": 568,
    "start_time": "2021-12-16T16:26:47.665Z"
   },
   {
    "duration": 10,
    "start_time": "2021-12-16T16:33:54.444Z"
   },
   {
    "duration": 247,
    "start_time": "2021-12-16T17:07:24.089Z"
   },
   {
    "duration": 245,
    "start_time": "2021-12-16T17:08:25.072Z"
   },
   {
    "duration": 238,
    "start_time": "2021-12-16T17:09:39.345Z"
   },
   {
    "duration": 9,
    "start_time": "2021-12-16T18:48:29.065Z"
   },
   {
    "duration": 15,
    "start_time": "2021-12-16T18:53:47.899Z"
   },
   {
    "duration": 10,
    "start_time": "2021-12-16T18:54:51.947Z"
   },
   {
    "duration": 16,
    "start_time": "2021-12-16T18:55:08.303Z"
   },
   {
    "duration": 15,
    "start_time": "2021-12-16T18:55:55.745Z"
   },
   {
    "duration": 14,
    "start_time": "2021-12-16T18:56:30.763Z"
   },
   {
    "duration": 25,
    "start_time": "2021-12-16T19:01:03.670Z"
   },
   {
    "duration": 22,
    "start_time": "2021-12-16T19:02:08.919Z"
   },
   {
    "duration": 17,
    "start_time": "2021-12-16T19:02:19.384Z"
   },
   {
    "duration": 13,
    "start_time": "2021-12-16T19:02:33.359Z"
   },
   {
    "duration": 16,
    "start_time": "2021-12-16T19:05:55.947Z"
   },
   {
    "duration": 14,
    "start_time": "2021-12-16T19:06:33.768Z"
   },
   {
    "duration": 17,
    "start_time": "2021-12-16T19:07:20.569Z"
   },
   {
    "duration": 16,
    "start_time": "2021-12-16T19:08:14.785Z"
   },
   {
    "duration": 13,
    "start_time": "2021-12-16T19:08:41.126Z"
   },
   {
    "duration": 9,
    "start_time": "2021-12-16T19:09:15.972Z"
   },
   {
    "duration": 13,
    "start_time": "2021-12-16T19:11:04.317Z"
   },
   {
    "duration": 13,
    "start_time": "2021-12-16T19:11:45.510Z"
   },
   {
    "duration": 11,
    "start_time": "2021-12-16T19:27:01.455Z"
   },
   {
    "duration": 16,
    "start_time": "2021-12-16T19:27:33.716Z"
   },
   {
    "duration": 16,
    "start_time": "2021-12-16T19:27:58.959Z"
   },
   {
    "duration": 21,
    "start_time": "2021-12-16T19:33:23.941Z"
   },
   {
    "duration": 15,
    "start_time": "2021-12-16T19:33:51.285Z"
   },
   {
    "duration": 21,
    "start_time": "2021-12-16T19:34:56.103Z"
   },
   {
    "duration": 582,
    "start_time": "2021-12-16T19:40:50.168Z"
   },
   {
    "duration": 443,
    "start_time": "2021-12-16T19:41:45.812Z"
   },
   {
    "duration": 1158,
    "start_time": "2021-12-16T19:42:40.622Z"
   },
   {
    "duration": 42,
    "start_time": "2021-12-16T19:42:41.783Z"
   },
   {
    "duration": 17,
    "start_time": "2021-12-16T19:42:41.828Z"
   },
   {
    "duration": 78,
    "start_time": "2021-12-16T19:42:41.848Z"
   },
   {
    "duration": 4496,
    "start_time": "2021-12-16T19:42:41.928Z"
   },
   {
    "duration": 7093,
    "start_time": "2021-12-16T19:42:46.426Z"
   },
   {
    "duration": -823,
    "start_time": "2021-12-16T19:42:54.346Z"
   },
   {
    "duration": -829,
    "start_time": "2021-12-16T19:42:54.357Z"
   },
   {
    "duration": 450,
    "start_time": "2021-12-16T19:43:25.865Z"
   },
   {
    "duration": 408,
    "start_time": "2021-12-16T19:44:43.135Z"
   },
   {
    "duration": 477,
    "start_time": "2021-12-16T19:45:28.106Z"
   },
   {
    "duration": 829,
    "start_time": "2021-12-16T19:45:36.233Z"
   },
   {
    "duration": 35,
    "start_time": "2021-12-16T19:45:37.064Z"
   },
   {
    "duration": 30,
    "start_time": "2021-12-16T19:45:37.102Z"
   },
   {
    "duration": 56,
    "start_time": "2021-12-16T19:45:37.135Z"
   },
   {
    "duration": 4885,
    "start_time": "2021-12-16T19:45:37.193Z"
   },
   {
    "duration": 6189,
    "start_time": "2021-12-16T19:45:42.081Z"
   },
   {
    "duration": -920,
    "start_time": "2021-12-16T19:45:49.193Z"
   },
   {
    "duration": -927,
    "start_time": "2021-12-16T19:45:49.203Z"
   },
   {
    "duration": 616,
    "start_time": "2021-12-16T19:47:16.513Z"
   },
   {
    "duration": 595,
    "start_time": "2021-12-16T19:52:33.919Z"
   },
   {
    "duration": 572,
    "start_time": "2021-12-16T20:03:13.770Z"
   },
   {
    "duration": 611,
    "start_time": "2021-12-16T20:04:30.903Z"
   },
   {
    "duration": 597,
    "start_time": "2021-12-16T20:05:04.936Z"
   },
   {
    "duration": 610,
    "start_time": "2021-12-16T20:05:31.901Z"
   },
   {
    "duration": 591,
    "start_time": "2021-12-16T20:05:48.296Z"
   },
   {
    "duration": 622,
    "start_time": "2021-12-16T20:06:24.642Z"
   },
   {
    "duration": 584,
    "start_time": "2021-12-16T20:06:43.895Z"
   },
   {
    "duration": 638,
    "start_time": "2021-12-16T20:07:34.741Z"
   },
   {
    "duration": 592,
    "start_time": "2021-12-16T20:09:20.055Z"
   },
   {
    "duration": 606,
    "start_time": "2021-12-16T20:10:26.592Z"
   },
   {
    "duration": 902,
    "start_time": "2021-12-16T20:11:45.288Z"
   },
   {
    "duration": 612,
    "start_time": "2021-12-16T20:12:23.098Z"
   },
   {
    "duration": 607,
    "start_time": "2021-12-16T20:12:50.160Z"
   },
   {
    "duration": 612,
    "start_time": "2021-12-16T20:14:06.385Z"
   },
   {
    "duration": 6407,
    "start_time": "2021-12-16T20:15:54.696Z"
   },
   {
    "duration": 6011,
    "start_time": "2021-12-16T20:16:03.325Z"
   },
   {
    "duration": 9,
    "start_time": "2021-12-16T20:16:25.357Z"
   },
   {
    "duration": 622,
    "start_time": "2021-12-16T20:17:10.440Z"
   },
   {
    "duration": 878,
    "start_time": "2021-12-16T20:35:21.750Z"
   },
   {
    "duration": 628,
    "start_time": "2021-12-16T20:37:40.030Z"
   },
   {
    "duration": 5885,
    "start_time": "2021-12-16T20:40:07.122Z"
   },
   {
    "duration": 7,
    "start_time": "2021-12-16T20:40:59.479Z"
   },
   {
    "duration": 802,
    "start_time": "2021-12-16T20:57:16.591Z"
   },
   {
    "duration": 260,
    "start_time": "2021-12-16T20:57:44.237Z"
   },
   {
    "duration": 230,
    "start_time": "2021-12-16T20:58:26.241Z"
   },
   {
    "duration": 7,
    "start_time": "2021-12-16T20:58:38.623Z"
   },
   {
    "duration": 6,
    "start_time": "2021-12-16T20:59:25.813Z"
   },
   {
    "duration": 6,
    "start_time": "2021-12-16T20:59:49.280Z"
   },
   {
    "duration": 260,
    "start_time": "2021-12-16T21:07:24.142Z"
   },
   {
    "duration": 5,
    "start_time": "2021-12-16T21:08:09.270Z"
   },
   {
    "duration": 8,
    "start_time": "2021-12-16T21:08:20.987Z"
   },
   {
    "duration": 247,
    "start_time": "2021-12-16T21:09:03.949Z"
   },
   {
    "duration": 247,
    "start_time": "2021-12-16T21:10:15.133Z"
   },
   {
    "duration": 240,
    "start_time": "2021-12-16T21:11:01.396Z"
   },
   {
    "duration": 819,
    "start_time": "2021-12-16T21:11:23.139Z"
   },
   {
    "duration": 35,
    "start_time": "2021-12-16T21:11:23.960Z"
   },
   {
    "duration": 34,
    "start_time": "2021-12-16T21:11:23.998Z"
   },
   {
    "duration": 74,
    "start_time": "2021-12-16T21:11:24.035Z"
   },
   {
    "duration": 4538,
    "start_time": "2021-12-16T21:11:24.111Z"
   },
   {
    "duration": 6,
    "start_time": "2021-12-16T21:11:28.652Z"
   },
   {
    "duration": 631,
    "start_time": "2021-12-16T21:11:28.661Z"
   },
   {
    "duration": 346,
    "start_time": "2021-12-16T21:11:29.296Z"
   },
   {
    "duration": -897,
    "start_time": "2021-12-16T21:11:30.542Z"
   },
   {
    "duration": 231,
    "start_time": "2021-12-16T21:16:19.118Z"
   },
   {
    "duration": 71,
    "start_time": "2021-12-16T21:17:41.001Z"
   },
   {
    "duration": 77,
    "start_time": "2021-12-16T21:17:54.779Z"
   },
   {
    "duration": 260,
    "start_time": "2021-12-16T21:18:15.229Z"
   },
   {
    "duration": 310,
    "start_time": "2021-12-16T21:18:29.476Z"
   },
   {
    "duration": 666,
    "start_time": "2021-12-16T21:21:32.597Z"
   },
   {
    "duration": 6,
    "start_time": "2021-12-16T21:36:13.051Z"
   },
   {
    "duration": 6,
    "start_time": "2021-12-16T21:37:22.120Z"
   },
   {
    "duration": 88,
    "start_time": "2021-12-16T21:37:23.267Z"
   },
   {
    "duration": 949,
    "start_time": "2021-12-16T21:37:48.235Z"
   },
   {
    "duration": 51,
    "start_time": "2021-12-16T21:37:49.187Z"
   },
   {
    "duration": 18,
    "start_time": "2021-12-16T21:37:49.241Z"
   },
   {
    "duration": 82,
    "start_time": "2021-12-16T21:37:49.262Z"
   },
   {
    "duration": 4559,
    "start_time": "2021-12-16T21:37:49.346Z"
   },
   {
    "duration": 11,
    "start_time": "2021-12-16T21:37:53.908Z"
   },
   {
    "duration": 650,
    "start_time": "2021-12-16T21:37:53.922Z"
   },
   {
    "duration": 75,
    "start_time": "2021-12-16T21:37:54.575Z"
   },
   {
    "duration": -785,
    "start_time": "2021-12-16T21:37:55.438Z"
   },
   {
    "duration": -786,
    "start_time": "2021-12-16T21:37:55.441Z"
   },
   {
    "duration": -789,
    "start_time": "2021-12-16T21:37:55.445Z"
   },
   {
    "duration": -792,
    "start_time": "2021-12-16T21:37:55.450Z"
   },
   {
    "duration": 728,
    "start_time": "2021-12-16T21:48:41.942Z"
   },
   {
    "duration": 1901,
    "start_time": "2021-12-17T07:29:43.815Z"
   },
   {
    "duration": 337,
    "start_time": "2021-12-17T07:31:51.698Z"
   },
   {
    "duration": 740,
    "start_time": "2021-12-17T07:32:16.456Z"
   },
   {
    "duration": 26,
    "start_time": "2021-12-17T07:32:17.198Z"
   },
   {
    "duration": 14,
    "start_time": "2021-12-17T07:32:17.227Z"
   },
   {
    "duration": 39,
    "start_time": "2021-12-17T07:32:17.243Z"
   },
   {
    "duration": 3537,
    "start_time": "2021-12-17T07:32:17.306Z"
   },
   {
    "duration": 4,
    "start_time": "2021-12-17T07:32:20.845Z"
   },
   {
    "duration": 361,
    "start_time": "2021-12-17T07:32:20.851Z"
   },
   {
    "duration": 110,
    "start_time": "2021-12-17T07:32:21.214Z"
   },
   {
    "duration": -1776,
    "start_time": "2021-12-17T07:32:23.103Z"
   },
   {
    "duration": -1780,
    "start_time": "2021-12-17T07:32:23.108Z"
   },
   {
    "duration": -1790,
    "start_time": "2021-12-17T07:32:23.119Z"
   },
   {
    "duration": -1793,
    "start_time": "2021-12-17T07:32:23.123Z"
   },
   {
    "duration": -1797,
    "start_time": "2021-12-17T07:32:23.128Z"
   },
   {
    "duration": 379,
    "start_time": "2021-12-17T07:33:33.910Z"
   },
   {
    "duration": 375,
    "start_time": "2021-12-17T07:33:46.138Z"
   },
   {
    "duration": 745,
    "start_time": "2021-12-17T07:33:59.650Z"
   },
   {
    "duration": 155,
    "start_time": "2021-12-17T07:34:36.566Z"
   },
   {
    "duration": 148,
    "start_time": "2021-12-17T07:35:45.055Z"
   },
   {
    "duration": 379,
    "start_time": "2021-12-17T07:36:49.047Z"
   },
   {
    "duration": 366,
    "start_time": "2021-12-17T07:36:54.640Z"
   },
   {
    "duration": 370,
    "start_time": "2021-12-17T07:37:22.444Z"
   },
   {
    "duration": 570,
    "start_time": "2021-12-17T08:01:40.073Z"
   },
   {
    "duration": 390,
    "start_time": "2021-12-17T08:01:57.611Z"
   },
   {
    "duration": 4,
    "start_time": "2021-12-17T08:02:15.612Z"
   },
   {
    "duration": 304,
    "start_time": "2021-12-17T08:03:51.890Z"
   },
   {
    "duration": 341,
    "start_time": "2021-12-17T08:05:51.179Z"
   },
   {
    "duration": 559,
    "start_time": "2021-12-17T08:07:06.079Z"
   },
   {
    "duration": 5,
    "start_time": "2021-12-17T08:08:03.572Z"
   },
   {
    "duration": 8117,
    "start_time": "2021-12-17T08:13:03.743Z"
   },
   {
    "duration": 157,
    "start_time": "2021-12-17T08:13:50.235Z"
   },
   {
    "duration": 387,
    "start_time": "2021-12-17T08:23:39.952Z"
   },
   {
    "duration": 149,
    "start_time": "2021-12-17T08:56:38.726Z"
   },
   {
    "duration": 4,
    "start_time": "2021-12-17T08:56:51.959Z"
   },
   {
    "duration": 946,
    "start_time": "2021-12-17T10:20:01.034Z"
   },
   {
    "duration": 426,
    "start_time": "2021-12-17T10:20:23.345Z"
   },
   {
    "duration": 343,
    "start_time": "2021-12-17T10:20:52.694Z"
   },
   {
    "duration": 356,
    "start_time": "2021-12-17T10:23:12.796Z"
   },
   {
    "duration": 3526,
    "start_time": "2021-12-17T10:24:00.738Z"
   },
   {
    "duration": 3780,
    "start_time": "2021-12-17T10:25:51.749Z"
   },
   {
    "duration": 366,
    "start_time": "2021-12-17T10:26:28.215Z"
   },
   {
    "duration": 687,
    "start_time": "2021-12-17T10:28:10.157Z"
   },
   {
    "duration": 123,
    "start_time": "2021-12-17T10:29:13.670Z"
   },
   {
    "duration": 3576,
    "start_time": "2021-12-17T10:32:27.449Z"
   },
   {
    "duration": 130,
    "start_time": "2021-12-17T10:33:00.775Z"
   },
   {
    "duration": 123,
    "start_time": "2021-12-17T10:34:01.766Z"
   },
   {
    "duration": 133,
    "start_time": "2021-12-17T10:37:04.958Z"
   },
   {
    "duration": 1613,
    "start_time": "2021-12-17T10:37:25.714Z"
   },
   {
    "duration": 409,
    "start_time": "2021-12-17T10:38:21.735Z"
   },
   {
    "duration": 359,
    "start_time": "2021-12-17T10:38:44.154Z"
   },
   {
    "duration": 143,
    "start_time": "2021-12-17T10:39:23.480Z"
   },
   {
    "duration": 110,
    "start_time": "2021-12-17T10:39:46.198Z"
   },
   {
    "duration": 2118,
    "start_time": "2021-12-17T10:40:18.043Z"
   },
   {
    "duration": 2390,
    "start_time": "2021-12-17T10:40:50.288Z"
   },
   {
    "duration": 3537,
    "start_time": "2021-12-17T10:41:17.473Z"
   },
   {
    "duration": 712,
    "start_time": "2021-12-17T10:46:08.269Z"
   },
   {
    "duration": 726,
    "start_time": "2021-12-17T10:49:07.568Z"
   },
   {
    "duration": 693,
    "start_time": "2021-12-17T10:49:51.842Z"
   },
   {
    "duration": 124,
    "start_time": "2021-12-17T10:57:39.329Z"
   },
   {
    "duration": 35,
    "start_time": "2021-12-17T10:57:50.324Z"
   },
   {
    "duration": 15,
    "start_time": "2021-12-17T10:58:13.950Z"
   },
   {
    "duration": 4170,
    "start_time": "2021-12-17T10:58:38.739Z"
   },
   {
    "duration": 3947,
    "start_time": "2021-12-17T11:00:49.377Z"
   },
   {
    "duration": 11,
    "start_time": "2021-12-17T11:04:56.235Z"
   },
   {
    "duration": 363,
    "start_time": "2021-12-17T11:05:55.329Z"
   },
   {
    "duration": 4232,
    "start_time": "2021-12-17T11:06:36.560Z"
   },
   {
    "duration": 4032,
    "start_time": "2021-12-17T11:09:49.595Z"
   },
   {
    "duration": 12,
    "start_time": "2021-12-17T11:25:52.220Z"
   },
   {
    "duration": 114,
    "start_time": "2021-12-17T12:08:04.136Z"
   },
   {
    "duration": 358,
    "start_time": "2021-12-17T12:08:22.351Z"
   },
   {
    "duration": 345,
    "start_time": "2021-12-17T12:09:29.455Z"
   },
   {
    "duration": 349,
    "start_time": "2021-12-17T12:12:15.539Z"
   },
   {
    "duration": 383,
    "start_time": "2021-12-17T12:12:33.745Z"
   },
   {
    "duration": 37,
    "start_time": "2021-12-17T12:13:45.266Z"
   },
   {
    "duration": 7597,
    "start_time": "2021-12-17T12:36:46.185Z"
   },
   {
    "duration": 10,
    "start_time": "2021-12-17T12:38:36.856Z"
   },
   {
    "duration": 26,
    "start_time": "2021-12-17T12:41:12.635Z"
   },
   {
    "duration": 388,
    "start_time": "2021-12-17T12:43:51.136Z"
   },
   {
    "duration": 8,
    "start_time": "2021-12-17T12:44:01.085Z"
   },
   {
    "duration": 11,
    "start_time": "2021-12-17T12:44:44.474Z"
   },
   {
    "duration": 36,
    "start_time": "2021-12-17T12:45:06.278Z"
   },
   {
    "duration": 4,
    "start_time": "2021-12-17T12:46:35.012Z"
   },
   {
    "duration": 4,
    "start_time": "2021-12-17T12:47:10.956Z"
   },
   {
    "duration": 4,
    "start_time": "2021-12-17T12:47:22.970Z"
   },
   {
    "duration": 10,
    "start_time": "2021-12-17T12:47:56.937Z"
   },
   {
    "duration": 8,
    "start_time": "2021-12-17T12:48:29.870Z"
   },
   {
    "duration": 6,
    "start_time": "2021-12-17T12:49:03.916Z"
   },
   {
    "duration": 8,
    "start_time": "2021-12-17T12:49:47.986Z"
   },
   {
    "duration": 7,
    "start_time": "2021-12-17T12:57:02.370Z"
   },
   {
    "duration": 7,
    "start_time": "2021-12-17T12:57:16.947Z"
   },
   {
    "duration": 17,
    "start_time": "2021-12-17T12:59:11.667Z"
   },
   {
    "duration": 14,
    "start_time": "2021-12-17T13:00:00.418Z"
   },
   {
    "duration": 16,
    "start_time": "2021-12-17T13:00:24.435Z"
   },
   {
    "duration": 356,
    "start_time": "2021-12-17T13:01:35.645Z"
   },
   {
    "duration": 350,
    "start_time": "2021-12-17T13:01:54.329Z"
   },
   {
    "duration": 17,
    "start_time": "2021-12-17T13:02:04.945Z"
   },
   {
    "duration": 23,
    "start_time": "2021-12-17T13:02:43.617Z"
   },
   {
    "duration": 354,
    "start_time": "2021-12-17T13:03:12.984Z"
   },
   {
    "duration": 16,
    "start_time": "2021-12-17T13:03:24.724Z"
   },
   {
    "duration": 8,
    "start_time": "2021-12-17T13:08:39.556Z"
   },
   {
    "duration": 14,
    "start_time": "2021-12-17T13:10:23.798Z"
   },
   {
    "duration": 418,
    "start_time": "2021-12-17T13:13:03.819Z"
   },
   {
    "duration": 39,
    "start_time": "2021-12-17T13:13:24.259Z"
   },
   {
    "duration": 44,
    "start_time": "2021-12-17T13:14:16.051Z"
   },
   {
    "duration": 12,
    "start_time": "2021-12-17T13:14:53.452Z"
   },
   {
    "duration": 7,
    "start_time": "2021-12-17T13:15:08.017Z"
   },
   {
    "duration": 12,
    "start_time": "2021-12-17T13:16:50.814Z"
   },
   {
    "duration": 7,
    "start_time": "2021-12-17T13:16:59.368Z"
   },
   {
    "duration": 10,
    "start_time": "2021-12-17T13:18:09.437Z"
   },
   {
    "duration": 8,
    "start_time": "2021-12-17T13:26:04.689Z"
   },
   {
    "duration": 12,
    "start_time": "2021-12-17T13:34:52.172Z"
   },
   {
    "duration": 7,
    "start_time": "2021-12-17T13:35:03.398Z"
   },
   {
    "duration": 11,
    "start_time": "2021-12-17T13:47:57.127Z"
   },
   {
    "duration": 16,
    "start_time": "2021-12-17T13:48:14.281Z"
   },
   {
    "duration": 13,
    "start_time": "2021-12-17T13:52:16.681Z"
   },
   {
    "duration": 15,
    "start_time": "2021-12-17T13:52:57.058Z"
   },
   {
    "duration": 9,
    "start_time": "2021-12-17T13:53:25.975Z"
   },
   {
    "duration": 9,
    "start_time": "2021-12-17T13:53:38.012Z"
   },
   {
    "duration": 14,
    "start_time": "2021-12-17T13:53:48.891Z"
   },
   {
    "duration": 111,
    "start_time": "2021-12-17T13:56:16.106Z"
   },
   {
    "duration": 26,
    "start_time": "2021-12-17T13:56:21.486Z"
   },
   {
    "duration": 20,
    "start_time": "2021-12-17T13:57:24.996Z"
   },
   {
    "duration": 15,
    "start_time": "2021-12-17T14:00:19.704Z"
   },
   {
    "duration": 15,
    "start_time": "2021-12-17T14:00:24.281Z"
   },
   {
    "duration": 16,
    "start_time": "2021-12-17T14:00:36.408Z"
   },
   {
    "duration": 14,
    "start_time": "2021-12-17T14:01:59.301Z"
   },
   {
    "duration": 12,
    "start_time": "2021-12-17T14:02:22.545Z"
   },
   {
    "duration": 19,
    "start_time": "2021-12-17T14:04:53.544Z"
   },
   {
    "duration": 587,
    "start_time": "2021-12-17T16:39:47.455Z"
   },
   {
    "duration": 1140,
    "start_time": "2021-12-17T16:40:02.638Z"
   },
   {
    "duration": 55,
    "start_time": "2021-12-17T16:40:03.780Z"
   },
   {
    "duration": 23,
    "start_time": "2021-12-17T16:40:03.839Z"
   },
   {
    "duration": 70,
    "start_time": "2021-12-17T16:40:03.864Z"
   },
   {
    "duration": 5088,
    "start_time": "2021-12-17T16:40:03.937Z"
   },
   {
    "duration": 12250,
    "start_time": "2021-12-17T16:40:09.028Z"
   },
   {
    "duration": -194,
    "start_time": "2021-12-17T16:40:21.476Z"
   },
   {
    "duration": -203,
    "start_time": "2021-12-17T16:40:21.486Z"
   },
   {
    "duration": -213,
    "start_time": "2021-12-17T16:40:21.498Z"
   },
   {
    "duration": -215,
    "start_time": "2021-12-17T16:40:21.501Z"
   },
   {
    "duration": -220,
    "start_time": "2021-12-17T16:40:21.508Z"
   },
   {
    "duration": -223,
    "start_time": "2021-12-17T16:40:21.512Z"
   },
   {
    "duration": -225,
    "start_time": "2021-12-17T16:40:21.515Z"
   },
   {
    "duration": -222,
    "start_time": "2021-12-17T16:40:21.518Z"
   },
   {
    "duration": 579,
    "start_time": "2021-12-17T16:40:25.805Z"
   },
   {
    "duration": 881,
    "start_time": "2021-12-17T16:40:42.311Z"
   },
   {
    "duration": 58,
    "start_time": "2021-12-17T16:40:43.195Z"
   },
   {
    "duration": 18,
    "start_time": "2021-12-17T16:40:43.256Z"
   },
   {
    "duration": 90,
    "start_time": "2021-12-17T16:40:43.277Z"
   },
   {
    "duration": 4830,
    "start_time": "2021-12-17T16:40:43.370Z"
   },
   {
    "duration": 13055,
    "start_time": "2021-12-17T16:40:48.204Z"
   },
   {
    "duration": -187,
    "start_time": "2021-12-17T16:41:01.451Z"
   },
   {
    "duration": -195,
    "start_time": "2021-12-17T16:41:01.460Z"
   },
   {
    "duration": -198,
    "start_time": "2021-12-17T16:41:01.465Z"
   },
   {
    "duration": -198,
    "start_time": "2021-12-17T16:41:01.468Z"
   },
   {
    "duration": -200,
    "start_time": "2021-12-17T16:41:01.472Z"
   },
   {
    "duration": -201,
    "start_time": "2021-12-17T16:41:01.475Z"
   },
   {
    "duration": -202,
    "start_time": "2021-12-17T16:41:01.479Z"
   },
   {
    "duration": -203,
    "start_time": "2021-12-17T16:41:01.482Z"
   },
   {
    "duration": 980,
    "start_time": "2021-12-17T16:41:04.583Z"
   },
   {
    "duration": 33,
    "start_time": "2021-12-17T16:41:05.566Z"
   },
   {
    "duration": 35,
    "start_time": "2021-12-17T16:41:05.602Z"
   },
   {
    "duration": 54,
    "start_time": "2021-12-17T16:41:05.640Z"
   },
   {
    "duration": 4994,
    "start_time": "2021-12-17T16:41:05.697Z"
   },
   {
    "duration": 10070,
    "start_time": "2021-12-17T16:41:10.695Z"
   },
   {
    "duration": -200,
    "start_time": "2021-12-17T16:41:20.968Z"
   },
   {
    "duration": -210,
    "start_time": "2021-12-17T16:41:20.980Z"
   },
   {
    "duration": -223,
    "start_time": "2021-12-17T16:41:20.994Z"
   },
   {
    "duration": -232,
    "start_time": "2021-12-17T16:41:21.005Z"
   },
   {
    "duration": -243,
    "start_time": "2021-12-17T16:41:21.017Z"
   },
   {
    "duration": -252,
    "start_time": "2021-12-17T16:41:21.028Z"
   },
   {
    "duration": -264,
    "start_time": "2021-12-17T16:41:21.041Z"
   },
   {
    "duration": -271,
    "start_time": "2021-12-17T16:41:21.050Z"
   },
   {
    "duration": 266,
    "start_time": "2021-12-17T16:41:25.156Z"
   },
   {
    "duration": 17,
    "start_time": "2021-12-17T16:41:30.519Z"
   },
   {
    "duration": 27,
    "start_time": "2021-12-17T16:41:37.007Z"
   },
   {
    "duration": 20,
    "start_time": "2021-12-17T16:54:28.138Z"
   },
   {
    "duration": 25,
    "start_time": "2021-12-17T16:56:21.616Z"
   },
   {
    "duration": 17,
    "start_time": "2021-12-17T16:58:22.665Z"
   },
   {
    "duration": 18,
    "start_time": "2021-12-17T16:58:26.654Z"
   },
   {
    "duration": 18,
    "start_time": "2021-12-17T16:58:35.501Z"
   },
   {
    "duration": 16,
    "start_time": "2021-12-17T16:58:41.232Z"
   },
   {
    "duration": 26,
    "start_time": "2021-12-17T16:59:16.339Z"
   },
   {
    "duration": 352,
    "start_time": "2021-12-17T17:00:12.737Z"
   },
   {
    "duration": 26,
    "start_time": "2021-12-17T17:02:36.381Z"
   },
   {
    "duration": 26,
    "start_time": "2021-12-17T17:04:07.433Z"
   },
   {
    "duration": 21,
    "start_time": "2021-12-17T17:05:47.664Z"
   },
   {
    "duration": 10,
    "start_time": "2021-12-17T17:06:27.430Z"
   },
   {
    "duration": 7,
    "start_time": "2021-12-17T17:07:10.935Z"
   },
   {
    "duration": 11,
    "start_time": "2021-12-17T17:07:37.951Z"
   },
   {
    "duration": 19,
    "start_time": "2021-12-17T17:08:46.229Z"
   },
   {
    "duration": 19,
    "start_time": "2021-12-17T17:09:48.357Z"
   },
   {
    "duration": 24,
    "start_time": "2021-12-17T17:16:12.474Z"
   },
   {
    "duration": 26,
    "start_time": "2021-12-17T17:17:06.477Z"
   },
   {
    "duration": 22,
    "start_time": "2021-12-17T17:27:33.083Z"
   },
   {
    "duration": 21,
    "start_time": "2021-12-17T17:29:50.008Z"
   },
   {
    "duration": 21,
    "start_time": "2021-12-17T17:30:08.577Z"
   },
   {
    "duration": 21,
    "start_time": "2021-12-17T17:34:52.548Z"
   },
   {
    "duration": 26,
    "start_time": "2021-12-17T17:35:06.441Z"
   },
   {
    "duration": 31,
    "start_time": "2021-12-17T17:50:26.579Z"
   },
   {
    "duration": 29,
    "start_time": "2021-12-17T17:51:19.983Z"
   },
   {
    "duration": 29,
    "start_time": "2021-12-17T17:52:21.809Z"
   },
   {
    "duration": 1006,
    "start_time": "2021-12-17T17:53:43.382Z"
   },
   {
    "duration": 1106,
    "start_time": "2021-12-17T17:53:52.741Z"
   },
   {
    "duration": 280,
    "start_time": "2021-12-17T17:53:59.343Z"
   },
   {
    "duration": 263,
    "start_time": "2021-12-17T17:54:11.676Z"
   },
   {
    "duration": 839,
    "start_time": "2021-12-17T17:54:19.820Z"
   },
   {
    "duration": 32,
    "start_time": "2021-12-17T17:54:20.662Z"
   },
   {
    "duration": 41,
    "start_time": "2021-12-17T17:54:20.697Z"
   },
   {
    "duration": 54,
    "start_time": "2021-12-17T17:54:20.741Z"
   },
   {
    "duration": 5233,
    "start_time": "2021-12-17T17:54:20.798Z"
   },
   {
    "duration": 7348,
    "start_time": "2021-12-17T17:54:26.034Z"
   },
   {
    "duration": -133,
    "start_time": "2021-12-17T17:54:33.519Z"
   },
   {
    "duration": -138,
    "start_time": "2021-12-17T17:54:33.526Z"
   },
   {
    "duration": -141,
    "start_time": "2021-12-17T17:54:33.531Z"
   },
   {
    "duration": -144,
    "start_time": "2021-12-17T17:54:33.535Z"
   },
   {
    "duration": -147,
    "start_time": "2021-12-17T17:54:33.539Z"
   },
   {
    "duration": -149,
    "start_time": "2021-12-17T17:54:33.544Z"
   },
   {
    "duration": -151,
    "start_time": "2021-12-17T17:54:33.548Z"
   },
   {
    "duration": -154,
    "start_time": "2021-12-17T17:54:33.552Z"
   },
   {
    "duration": 303,
    "start_time": "2021-12-17T18:00:09.455Z"
   },
   {
    "duration": 854,
    "start_time": "2021-12-17T18:00:17.202Z"
   },
   {
    "duration": 64,
    "start_time": "2021-12-17T18:00:18.059Z"
   },
   {
    "duration": 26,
    "start_time": "2021-12-17T18:00:18.127Z"
   },
   {
    "duration": 80,
    "start_time": "2021-12-17T18:00:18.158Z"
   },
   {
    "duration": 4625,
    "start_time": "2021-12-17T18:00:18.242Z"
   },
   {
    "duration": 7721,
    "start_time": "2021-12-17T18:00:22.870Z"
   },
   {
    "duration": -164,
    "start_time": "2021-12-17T18:00:30.759Z"
   },
   {
    "duration": -172,
    "start_time": "2021-12-17T18:00:30.769Z"
   },
   {
    "duration": -177,
    "start_time": "2021-12-17T18:00:30.777Z"
   },
   {
    "duration": -182,
    "start_time": "2021-12-17T18:00:30.784Z"
   },
   {
    "duration": -188,
    "start_time": "2021-12-17T18:00:30.793Z"
   },
   {
    "duration": -194,
    "start_time": "2021-12-17T18:00:30.801Z"
   },
   {
    "duration": -200,
    "start_time": "2021-12-17T18:00:30.809Z"
   },
   {
    "duration": -201,
    "start_time": "2021-12-17T18:00:30.815Z"
   },
   {
    "duration": 15,
    "start_time": "2021-12-17T18:02:07.113Z"
   },
   {
    "duration": 30,
    "start_time": "2021-12-17T18:02:15.683Z"
   },
   {
    "duration": 13,
    "start_time": "2021-12-17T18:02:35.278Z"
   },
   {
    "duration": 1105,
    "start_time": "2021-12-17T18:08:57.452Z"
   },
   {
    "duration": 7,
    "start_time": "2021-12-17T18:09:02.357Z"
   },
   {
    "duration": 249,
    "start_time": "2021-12-17T18:09:04.494Z"
   },
   {
    "duration": 208,
    "start_time": "2021-12-17T18:20:51.354Z"
   },
   {
    "duration": 283,
    "start_time": "2021-12-17T18:36:24.879Z"
   },
   {
    "duration": 269,
    "start_time": "2021-12-17T18:38:34.561Z"
   },
   {
    "duration": 200,
    "start_time": "2021-12-17T18:38:45.172Z"
   },
   {
    "duration": 271,
    "start_time": "2021-12-17T18:38:48.868Z"
   },
   {
    "duration": 436,
    "start_time": "2021-12-17T18:39:15.264Z"
   },
   {
    "duration": 482,
    "start_time": "2021-12-17T18:51:44.835Z"
   },
   {
    "duration": 270,
    "start_time": "2021-12-17T18:59:59.063Z"
   },
   {
    "duration": 377,
    "start_time": "2021-12-17T19:00:56.214Z"
   },
   {
    "duration": 13,
    "start_time": "2021-12-17T19:01:17.112Z"
   },
   {
    "duration": 314,
    "start_time": "2021-12-17T19:02:48.425Z"
   },
   {
    "duration": 13,
    "start_time": "2021-12-17T19:03:07.600Z"
   },
   {
    "duration": 201,
    "start_time": "2021-12-17T19:04:00.536Z"
   },
   {
    "duration": 221,
    "start_time": "2021-12-17T19:04:28.104Z"
   },
   {
    "duration": 14,
    "start_time": "2021-12-17T19:05:21.209Z"
   },
   {
    "duration": 118,
    "start_time": "2021-12-17T19:34:30.342Z"
   },
   {
    "duration": 103,
    "start_time": "2021-12-17T19:35:01.906Z"
   },
   {
    "duration": 22,
    "start_time": "2021-12-17T19:35:17.058Z"
   },
   {
    "duration": 501,
    "start_time": "2021-12-17T19:37:24.388Z"
   },
   {
    "duration": 271,
    "start_time": "2021-12-17T19:37:56.059Z"
   },
   {
    "duration": 625,
    "start_time": "2021-12-17T19:38:00.825Z"
   },
   {
    "duration": 309,
    "start_time": "2021-12-17T19:38:06.320Z"
   },
   {
    "duration": 309,
    "start_time": "2021-12-17T19:38:10.920Z"
   },
   {
    "duration": 285,
    "start_time": "2021-12-17T19:38:45.765Z"
   },
   {
    "duration": 634,
    "start_time": "2021-12-17T19:38:50.838Z"
   },
   {
    "duration": 288,
    "start_time": "2021-12-17T19:38:52.373Z"
   },
   {
    "duration": 103,
    "start_time": "2021-12-17T19:40:02.244Z"
   },
   {
    "duration": 119,
    "start_time": "2021-12-17T19:41:41.316Z"
   },
   {
    "duration": 129,
    "start_time": "2021-12-17T19:43:28.497Z"
   },
   {
    "duration": 409,
    "start_time": "2021-12-17T19:44:02.795Z"
   },
   {
    "duration": 110,
    "start_time": "2021-12-17T19:44:35.777Z"
   },
   {
    "duration": 168,
    "start_time": "2021-12-17T19:45:11.944Z"
   },
   {
    "duration": 135,
    "start_time": "2021-12-17T19:45:35.898Z"
   },
   {
    "duration": 102,
    "start_time": "2021-12-17T19:46:16.573Z"
   },
   {
    "duration": 20,
    "start_time": "2021-12-17T19:46:59.022Z"
   },
   {
    "duration": 29,
    "start_time": "2021-12-17T19:48:12.561Z"
   },
   {
    "duration": 27,
    "start_time": "2021-12-17T20:19:02.443Z"
   },
   {
    "duration": 28,
    "start_time": "2021-12-17T20:53:46.681Z"
   },
   {
    "duration": 53,
    "start_time": "2021-12-17T20:55:53.676Z"
   },
   {
    "duration": 8769,
    "start_time": "2021-12-17T21:01:22.135Z"
   },
   {
    "duration": 6786,
    "start_time": "2021-12-17T21:45:41.094Z"
   },
   {
    "duration": 328,
    "start_time": "2021-12-18T17:10:43.355Z"
   },
   {
    "duration": 271,
    "start_time": "2021-12-18T17:10:47.774Z"
   },
   {
    "duration": 836,
    "start_time": "2021-12-18T17:10:58.001Z"
   },
   {
    "duration": 28,
    "start_time": "2021-12-18T17:10:58.840Z"
   },
   {
    "duration": 36,
    "start_time": "2021-12-18T17:10:58.871Z"
   },
   {
    "duration": 17,
    "start_time": "2021-12-18T17:10:58.924Z"
   },
   {
    "duration": 53,
    "start_time": "2021-12-18T17:10:58.944Z"
   },
   {
    "duration": 4959,
    "start_time": "2021-12-18T17:10:59.023Z"
   },
   {
    "duration": 39,
    "start_time": "2021-12-18T17:11:03.985Z"
   },
   {
    "duration": 5,
    "start_time": "2021-12-18T17:11:04.028Z"
   },
   {
    "duration": 577,
    "start_time": "2021-12-18T17:11:04.036Z"
   },
   {
    "duration": 15,
    "start_time": "2021-12-18T17:11:04.615Z"
   },
   {
    "duration": 662,
    "start_time": "2021-12-18T17:11:04.633Z"
   },
   {
    "duration": 7,
    "start_time": "2021-12-18T17:11:05.297Z"
   },
   {
    "duration": 920,
    "start_time": "2021-12-18T17:11:05.307Z"
   },
   {
    "duration": 13,
    "start_time": "2021-12-18T17:11:06.230Z"
   },
   {
    "duration": 37,
    "start_time": "2021-12-18T17:11:06.245Z"
   },
   {
    "duration": 229,
    "start_time": "2021-12-18T17:11:06.284Z"
   },
   {
    "duration": 11,
    "start_time": "2021-12-18T17:11:06.523Z"
   },
   {
    "duration": 10,
    "start_time": "2021-12-18T17:11:47.590Z"
   },
   {
    "duration": 29,
    "start_time": "2021-12-18T17:12:47.044Z"
   },
   {
    "duration": 28,
    "start_time": "2021-12-18T17:12:49.058Z"
   },
   {
    "duration": 27,
    "start_time": "2021-12-18T17:12:51.315Z"
   },
   {
    "duration": 619,
    "start_time": "2021-12-18T17:13:23.405Z"
   },
   {
    "duration": 972,
    "start_time": "2021-12-18T17:13:34.060Z"
   },
   {
    "duration": 35,
    "start_time": "2021-12-18T17:13:35.035Z"
   },
   {
    "duration": 59,
    "start_time": "2021-12-18T17:13:35.074Z"
   },
   {
    "duration": 19,
    "start_time": "2021-12-18T17:13:35.137Z"
   },
   {
    "duration": 108,
    "start_time": "2021-12-18T17:13:35.159Z"
   },
   {
    "duration": 5084,
    "start_time": "2021-12-18T17:13:35.270Z"
   },
   {
    "duration": 30,
    "start_time": "2021-12-18T17:13:40.357Z"
   },
   {
    "duration": 5,
    "start_time": "2021-12-18T17:13:40.391Z"
   },
   {
    "duration": 603,
    "start_time": "2021-12-18T17:13:40.399Z"
   },
   {
    "duration": 10,
    "start_time": "2021-12-18T17:13:41.004Z"
   },
   {
    "duration": 638,
    "start_time": "2021-12-18T17:13:41.024Z"
   },
   {
    "duration": 5,
    "start_time": "2021-12-18T17:13:41.665Z"
   },
   {
    "duration": 923,
    "start_time": "2021-12-18T17:13:41.674Z"
   },
   {
    "duration": 23,
    "start_time": "2021-12-18T17:13:42.600Z"
   },
   {
    "duration": 29,
    "start_time": "2021-12-18T17:13:42.625Z"
   },
   {
    "duration": 237,
    "start_time": "2021-12-18T17:13:42.656Z"
   },
   {
    "duration": 27,
    "start_time": "2021-12-18T17:13:42.896Z"
   },
   {
    "duration": 572,
    "start_time": "2021-12-18T17:14:32.197Z"
   },
   {
    "duration": 29,
    "start_time": "2021-12-18T17:15:03.897Z"
   },
   {
    "duration": 29,
    "start_time": "2021-12-18T17:15:05.979Z"
   },
   {
    "duration": 30,
    "start_time": "2021-12-18T17:15:07.846Z"
   },
   {
    "duration": 589,
    "start_time": "2021-12-18T17:16:03.915Z"
   },
   {
    "duration": 554,
    "start_time": "2021-12-18T17:16:26.394Z"
   },
   {
    "duration": 565,
    "start_time": "2021-12-18T17:17:58.632Z"
   },
   {
    "duration": 586,
    "start_time": "2021-12-18T17:21:40.477Z"
   },
   {
    "duration": 12,
    "start_time": "2021-12-18T17:25:54.027Z"
   },
   {
    "duration": 12,
    "start_time": "2021-12-18T17:26:34.935Z"
   },
   {
    "duration": 11,
    "start_time": "2021-12-18T17:27:17.918Z"
   },
   {
    "duration": 581,
    "start_time": "2021-12-18T17:29:30.998Z"
   },
   {
    "duration": 568,
    "start_time": "2021-12-18T17:29:34.736Z"
   },
   {
    "duration": 569,
    "start_time": "2021-12-18T17:29:50.254Z"
   },
   {
    "duration": 578,
    "start_time": "2021-12-18T17:29:52.475Z"
   },
   {
    "duration": 549,
    "start_time": "2021-12-18T17:29:55.674Z"
   },
   {
    "duration": 559,
    "start_time": "2021-12-18T17:29:58.549Z"
   },
   {
    "duration": 705,
    "start_time": "2021-12-18T17:30:15.922Z"
   },
   {
    "duration": 591,
    "start_time": "2021-12-18T17:30:33.300Z"
   },
   {
    "duration": 546,
    "start_time": "2021-12-18T17:30:35.744Z"
   },
   {
    "duration": 788,
    "start_time": "2021-12-18T17:31:47.372Z"
   },
   {
    "duration": 603,
    "start_time": "2021-12-18T17:32:48.079Z"
   },
   {
    "duration": 566,
    "start_time": "2021-12-18T17:33:24.891Z"
   },
   {
    "duration": 570,
    "start_time": "2021-12-18T17:33:39.856Z"
   },
   {
    "duration": 8190,
    "start_time": "2021-12-18T17:38:51.604Z"
   },
   {
    "duration": 167,
    "start_time": "2021-12-18T17:39:35.885Z"
   },
   {
    "duration": 8588,
    "start_time": "2021-12-18T17:39:52.983Z"
   },
   {
    "duration": 910,
    "start_time": "2021-12-18T17:40:31.900Z"
   },
   {
    "duration": 903,
    "start_time": "2021-12-18T17:41:03.795Z"
   },
   {
    "duration": 127,
    "start_time": "2021-12-18T17:47:07.303Z"
   },
   {
    "duration": 98,
    "start_time": "2021-12-18T17:47:21.080Z"
   },
   {
    "duration": 101,
    "start_time": "2021-12-18T17:47:26.886Z"
   },
   {
    "duration": 914,
    "start_time": "2021-12-18T17:47:42.971Z"
   },
   {
    "duration": 873,
    "start_time": "2021-12-18T17:49:56.641Z"
   },
   {
    "duration": 868,
    "start_time": "2021-12-18T17:50:07.555Z"
   },
   {
    "duration": 581,
    "start_time": "2021-12-18T17:50:23.708Z"
   },
   {
    "duration": 588,
    "start_time": "2021-12-18T18:02:31.508Z"
   },
   {
    "duration": 881,
    "start_time": "2021-12-18T18:06:17.996Z"
   },
   {
    "duration": 577,
    "start_time": "2021-12-18T18:06:42.930Z"
   },
   {
    "duration": 653,
    "start_time": "2021-12-18T18:07:02.947Z"
   },
   {
    "duration": 581,
    "start_time": "2021-12-18T18:07:36.629Z"
   },
   {
    "duration": 565,
    "start_time": "2021-12-18T18:07:56.034Z"
   },
   {
    "duration": 638,
    "start_time": "2021-12-18T18:08:27.475Z"
   },
   {
    "duration": 603,
    "start_time": "2021-12-18T18:13:04.998Z"
   },
   {
    "duration": 106,
    "start_time": "2021-12-18T18:18:03.526Z"
   },
   {
    "duration": 89,
    "start_time": "2021-12-18T18:18:33.607Z"
   },
   {
    "duration": 704,
    "start_time": "2021-12-18T18:19:04.756Z"
   },
   {
    "duration": 271,
    "start_time": "2021-12-18T18:22:16.792Z"
   },
   {
    "duration": 468,
    "start_time": "2021-12-18T18:22:31.204Z"
   },
   {
    "duration": 499,
    "start_time": "2021-12-18T18:22:40.190Z"
   },
   {
    "duration": 620,
    "start_time": "2021-12-18T18:23:44.965Z"
   },
   {
    "duration": 539,
    "start_time": "2021-12-18T18:26:41.631Z"
   },
   {
    "duration": 658,
    "start_time": "2021-12-18T18:26:59.711Z"
   },
   {
    "duration": 2145,
    "start_time": "2021-12-18T18:27:34.279Z"
   },
   {
    "duration": 207,
    "start_time": "2021-12-18T18:28:34.022Z"
   },
   {
    "duration": 194,
    "start_time": "2021-12-18T18:29:00.741Z"
   },
   {
    "duration": 11,
    "start_time": "2021-12-18T19:23:24.065Z"
   },
   {
    "duration": 22,
    "start_time": "2021-12-18T19:23:52.362Z"
   },
   {
    "duration": 25,
    "start_time": "2021-12-18T19:24:00.382Z"
   },
   {
    "duration": 12,
    "start_time": "2021-12-18T19:24:46.340Z"
   },
   {
    "duration": 10,
    "start_time": "2021-12-18T19:35:32.517Z"
   },
   {
    "duration": 57,
    "start_time": "2021-12-18T19:38:47.196Z"
   },
   {
    "duration": 12,
    "start_time": "2021-12-18T19:55:31.318Z"
   },
   {
    "duration": 24,
    "start_time": "2021-12-18T20:58:35.700Z"
   },
   {
    "duration": 843,
    "start_time": "2021-12-19T18:47:15.683Z"
   },
   {
    "duration": 45,
    "start_time": "2021-12-19T18:47:16.530Z"
   },
   {
    "duration": 43,
    "start_time": "2021-12-19T18:47:16.578Z"
   },
   {
    "duration": 38,
    "start_time": "2021-12-19T18:47:16.625Z"
   },
   {
    "duration": 59,
    "start_time": "2021-12-19T18:47:16.665Z"
   },
   {
    "duration": 4591,
    "start_time": "2021-12-19T18:47:16.727Z"
   },
   {
    "duration": 12,
    "start_time": "2021-12-19T18:47:21.321Z"
   },
   {
    "duration": 26,
    "start_time": "2021-12-19T18:47:21.338Z"
   },
   {
    "duration": 655,
    "start_time": "2021-12-19T18:47:21.367Z"
   },
   {
    "duration": 940,
    "start_time": "2021-12-19T18:47:22.025Z"
   },
   {
    "duration": 12,
    "start_time": "2021-12-19T18:47:22.968Z"
   },
   {
    "duration": 81,
    "start_time": "2021-12-19T18:47:22.983Z"
   },
   {
    "duration": 6,
    "start_time": "2021-12-19T18:47:23.066Z"
   },
   {
    "duration": 271,
    "start_time": "2021-12-19T18:47:23.074Z"
   },
   {
    "duration": 24,
    "start_time": "2021-12-19T18:47:23.347Z"
   },
   {
    "duration": 15,
    "start_time": "2021-12-19T18:47:23.373Z"
   },
   {
    "duration": 29,
    "start_time": "2021-12-19T18:47:23.391Z"
   },
   {
    "duration": 246,
    "start_time": "2021-12-19T18:47:23.422Z"
   },
   {
    "duration": 11,
    "start_time": "2021-12-19T18:47:23.671Z"
   },
   {
    "duration": 112,
    "start_time": "2021-12-19T18:48:12.391Z"
   },
   {
    "duration": 36,
    "start_time": "2021-12-19T18:48:28.329Z"
   },
   {
    "duration": 33,
    "start_time": "2021-12-19T18:48:34.920Z"
   },
   {
    "duration": 33,
    "start_time": "2021-12-19T18:48:55.459Z"
   },
   {
    "duration": 34,
    "start_time": "2021-12-19T18:49:15.399Z"
   },
   {
    "duration": 1183,
    "start_time": "2021-12-19T19:04:03.067Z"
   },
   {
    "duration": 416,
    "start_time": "2021-12-19T19:05:05.329Z"
   },
   {
    "duration": 296,
    "start_time": "2021-12-19T19:07:04.924Z"
   },
   {
    "duration": 288,
    "start_time": "2021-12-19T19:09:44.536Z"
   },
   {
    "duration": 873,
    "start_time": "2021-12-19T19:10:02.569Z"
   },
   {
    "duration": 38,
    "start_time": "2021-12-19T19:10:03.444Z"
   },
   {
    "duration": 36,
    "start_time": "2021-12-19T19:10:03.486Z"
   },
   {
    "duration": 39,
    "start_time": "2021-12-19T19:10:03.525Z"
   },
   {
    "duration": 56,
    "start_time": "2021-12-19T19:10:03.567Z"
   },
   {
    "duration": 5241,
    "start_time": "2021-12-19T19:10:03.626Z"
   },
   {
    "duration": 21,
    "start_time": "2021-12-19T19:10:08.870Z"
   },
   {
    "duration": 17,
    "start_time": "2021-12-19T19:10:08.895Z"
   },
   {
    "duration": 722,
    "start_time": "2021-12-19T19:10:08.914Z"
   },
   {
    "duration": 970,
    "start_time": "2021-12-19T19:10:09.638Z"
   },
   {
    "duration": 9,
    "start_time": "2021-12-19T19:10:10.610Z"
   },
   {
    "duration": 89,
    "start_time": "2021-12-19T19:10:10.621Z"
   },
   {
    "duration": 6,
    "start_time": "2021-12-19T19:10:10.712Z"
   },
   {
    "duration": 295,
    "start_time": "2021-12-19T19:10:10.720Z"
   },
   {
    "duration": 12,
    "start_time": "2021-12-19T19:10:11.017Z"
   },
   {
    "duration": 32,
    "start_time": "2021-12-19T19:10:11.031Z"
   },
   {
    "duration": 27,
    "start_time": "2021-12-19T19:10:11.066Z"
   },
   {
    "duration": 257,
    "start_time": "2021-12-19T19:10:11.096Z"
   },
   {
    "duration": 18,
    "start_time": "2021-12-19T19:10:11.355Z"
   },
   {
    "duration": 1977,
    "start_time": "2021-12-19T19:11:27.117Z"
   },
   {
    "duration": 11,
    "start_time": "2021-12-19T19:11:42.366Z"
   },
   {
    "duration": 289,
    "start_time": "2021-12-19T19:26:47.697Z"
   },
   {
    "duration": 102,
    "start_time": "2021-12-19T19:26:55.619Z"
   },
   {
    "duration": 16,
    "start_time": "2021-12-19T19:27:07.908Z"
   },
   {
    "duration": 13,
    "start_time": "2021-12-19T19:28:32.997Z"
   },
   {
    "duration": 41,
    "start_time": "2021-12-19T19:30:33.823Z"
   },
   {
    "duration": 19,
    "start_time": "2021-12-19T19:33:34.994Z"
   },
   {
    "duration": 305,
    "start_time": "2021-12-19T19:34:37.446Z"
   },
   {
    "duration": 17,
    "start_time": "2021-12-19T19:34:54.864Z"
   },
   {
    "duration": 16,
    "start_time": "2021-12-19T19:35:25.039Z"
   },
   {
    "duration": 81,
    "start_time": "2021-12-19T19:36:06.570Z"
   },
   {
    "duration": 95,
    "start_time": "2021-12-19T19:36:47.925Z"
   },
   {
    "duration": 90,
    "start_time": "2021-12-19T19:37:16.807Z"
   },
   {
    "duration": 85,
    "start_time": "2021-12-19T19:37:36.066Z"
   },
   {
    "duration": 17,
    "start_time": "2021-12-19T19:39:04.384Z"
   },
   {
    "duration": -118,
    "start_time": "2021-12-19T19:40:14.004Z"
   },
   {
    "duration": -86,
    "start_time": "2021-12-19T19:40:27.210Z"
   },
   {
    "duration": 326,
    "start_time": "2021-12-19T19:40:51.318Z"
   },
   {
    "duration": 294,
    "start_time": "2021-12-19T19:41:16.720Z"
   },
   {
    "duration": 383,
    "start_time": "2021-12-19T19:42:40.484Z"
   },
   {
    "duration": 884,
    "start_time": "2021-12-19T19:42:48.139Z"
   },
   {
    "duration": 38,
    "start_time": "2021-12-19T19:42:49.027Z"
   },
   {
    "duration": 34,
    "start_time": "2021-12-19T19:42:49.069Z"
   },
   {
    "duration": 19,
    "start_time": "2021-12-19T19:42:49.106Z"
   },
   {
    "duration": 89,
    "start_time": "2021-12-19T19:42:49.127Z"
   },
   {
    "duration": 393,
    "start_time": "2021-12-19T19:42:49.218Z"
   },
   {
    "duration": -170,
    "start_time": "2021-12-19T19:42:49.784Z"
   },
   {
    "duration": -179,
    "start_time": "2021-12-19T19:42:49.795Z"
   },
   {
    "duration": -183,
    "start_time": "2021-12-19T19:42:49.801Z"
   },
   {
    "duration": -189,
    "start_time": "2021-12-19T19:42:49.808Z"
   },
   {
    "duration": -195,
    "start_time": "2021-12-19T19:42:49.816Z"
   },
   {
    "duration": -201,
    "start_time": "2021-12-19T19:42:49.823Z"
   },
   {
    "duration": -206,
    "start_time": "2021-12-19T19:42:49.830Z"
   },
   {
    "duration": -212,
    "start_time": "2021-12-19T19:42:49.837Z"
   },
   {
    "duration": -216,
    "start_time": "2021-12-19T19:42:49.843Z"
   },
   {
    "duration": -225,
    "start_time": "2021-12-19T19:42:49.853Z"
   },
   {
    "duration": -229,
    "start_time": "2021-12-19T19:42:49.859Z"
   },
   {
    "duration": -238,
    "start_time": "2021-12-19T19:42:49.869Z"
   },
   {
    "duration": -241,
    "start_time": "2021-12-19T19:42:49.874Z"
   },
   {
    "duration": 279,
    "start_time": "2021-12-19T19:42:58.868Z"
   },
   {
    "duration": 5015,
    "start_time": "2021-12-19T19:43:27.018Z"
   },
   {
    "duration": 308,
    "start_time": "2021-12-19T19:44:59.709Z"
   },
   {
    "duration": 17,
    "start_time": "2021-12-19T19:45:13.951Z"
   },
   {
    "duration": 1295,
    "start_time": "2021-12-19T19:48:24.051Z"
   },
   {
    "duration": 27,
    "start_time": "2021-12-19T19:50:32.074Z"
   },
   {
    "duration": 37,
    "start_time": "2021-12-19T19:51:13.611Z"
   },
   {
    "duration": 21,
    "start_time": "2021-12-19T19:51:22.012Z"
   },
   {
    "duration": 15,
    "start_time": "2021-12-19T19:51:57.508Z"
   },
   {
    "duration": 1137,
    "start_time": "2021-12-19T19:54:10.221Z"
   },
   {
    "duration": 97,
    "start_time": "2021-12-19T20:44:33.529Z"
   },
   {
    "duration": 97,
    "start_time": "2021-12-19T20:45:00.349Z"
   },
   {
    "duration": 108,
    "start_time": "2021-12-19T20:45:20.682Z"
   },
   {
    "duration": 130,
    "start_time": "2021-12-19T20:45:38.990Z"
   },
   {
    "duration": 60,
    "start_time": "2021-12-19T20:46:14.369Z"
   },
   {
    "duration": 294,
    "start_time": "2021-12-19T20:47:00.183Z"
   },
   {
    "duration": 273,
    "start_time": "2021-12-19T20:47:25.021Z"
   },
   {
    "duration": 284,
    "start_time": "2021-12-19T20:51:19.265Z"
   },
   {
    "duration": 276,
    "start_time": "2021-12-19T20:51:31.032Z"
   },
   {
    "duration": 60,
    "start_time": "2021-12-19T20:55:51.592Z"
   },
   {
    "duration": 49,
    "start_time": "2021-12-19T21:00:16.787Z"
   },
   {
    "duration": 277,
    "start_time": "2021-12-19T21:03:00.450Z"
   },
   {
    "duration": 655,
    "start_time": "2021-12-19T21:04:06.592Z"
   },
   {
    "duration": 558,
    "start_time": "2021-12-19T21:07:02.785Z"
   },
   {
    "duration": 556,
    "start_time": "2021-12-19T21:11:13.920Z"
   },
   {
    "duration": 821,
    "start_time": "2021-12-19T21:11:39.105Z"
   },
   {
    "duration": 39,
    "start_time": "2021-12-19T21:11:39.929Z"
   },
   {
    "duration": 34,
    "start_time": "2021-12-19T21:11:39.971Z"
   },
   {
    "duration": 19,
    "start_time": "2021-12-19T21:11:40.008Z"
   },
   {
    "duration": 120,
    "start_time": "2021-12-19T21:11:40.029Z"
   },
   {
    "duration": 5406,
    "start_time": "2021-12-19T21:11:40.164Z"
   },
   {
    "duration": 30,
    "start_time": "2021-12-19T21:11:45.574Z"
   },
   {
    "duration": 718,
    "start_time": "2021-12-19T21:11:45.609Z"
   },
   {
    "duration": -101,
    "start_time": "2021-12-19T21:11:46.433Z"
   },
   {
    "duration": -108,
    "start_time": "2021-12-19T21:11:46.442Z"
   },
   {
    "duration": -110,
    "start_time": "2021-12-19T21:11:46.446Z"
   },
   {
    "duration": -111,
    "start_time": "2021-12-19T21:11:46.449Z"
   },
   {
    "duration": -115,
    "start_time": "2021-12-19T21:11:46.455Z"
   },
   {
    "duration": -117,
    "start_time": "2021-12-19T21:11:46.459Z"
   },
   {
    "duration": -120,
    "start_time": "2021-12-19T21:11:46.464Z"
   },
   {
    "duration": -120,
    "start_time": "2021-12-19T21:11:46.467Z"
   },
   {
    "duration": -126,
    "start_time": "2021-12-19T21:11:46.475Z"
   },
   {
    "duration": -131,
    "start_time": "2021-12-19T21:11:46.482Z"
   },
   {
    "duration": -136,
    "start_time": "2021-12-19T21:11:46.489Z"
   },
   {
    "duration": 545,
    "start_time": "2021-12-19T21:11:56.095Z"
   },
   {
    "duration": 531,
    "start_time": "2021-12-19T21:12:49.467Z"
   },
   {
    "duration": 98,
    "start_time": "2021-12-19T21:28:45.313Z"
   },
   {
    "duration": 1405,
    "start_time": "2021-12-19T21:30:00.917Z"
   },
   {
    "duration": 100,
    "start_time": "2021-12-19T21:30:53.588Z"
   },
   {
    "duration": 1560,
    "start_time": "2021-12-19T21:31:13.769Z"
   },
   {
    "duration": 109,
    "start_time": "2021-12-19T21:32:09.686Z"
   },
   {
    "duration": 1413,
    "start_time": "2021-12-19T21:32:20.428Z"
   },
   {
    "duration": 44,
    "start_time": "2021-12-19T21:33:58.765Z"
   },
   {
    "duration": 15,
    "start_time": "2021-12-19T21:34:29.067Z"
   },
   {
    "duration": 1378,
    "start_time": "2021-12-19T21:34:49.851Z"
   },
   {
    "duration": 2296,
    "start_time": "2021-12-19T21:35:26.431Z"
   },
   {
    "duration": 404,
    "start_time": "2021-12-19T21:40:07.289Z"
   },
   {
    "duration": 422,
    "start_time": "2021-12-19T21:42:04.877Z"
   },
   {
    "duration": 417,
    "start_time": "2021-12-19T21:43:22.541Z"
   },
   {
    "duration": 435,
    "start_time": "2021-12-19T21:44:32.807Z"
   },
   {
    "duration": 721,
    "start_time": "2021-12-19T21:45:37.362Z"
   },
   {
    "duration": 435,
    "start_time": "2021-12-19T21:46:01.645Z"
   },
   {
    "duration": 867,
    "start_time": "2021-12-19T21:48:32.125Z"
   },
   {
    "duration": 47,
    "start_time": "2021-12-19T21:48:32.996Z"
   },
   {
    "duration": 61,
    "start_time": "2021-12-19T21:48:33.047Z"
   },
   {
    "duration": 21,
    "start_time": "2021-12-19T21:48:33.112Z"
   },
   {
    "duration": 80,
    "start_time": "2021-12-19T21:48:33.135Z"
   },
   {
    "duration": 5030,
    "start_time": "2021-12-19T21:48:33.217Z"
   },
   {
    "duration": 27,
    "start_time": "2021-12-19T21:48:38.250Z"
   },
   {
    "duration": 440,
    "start_time": "2021-12-19T21:48:38.281Z"
   },
   {
    "duration": 647,
    "start_time": "2021-12-19T21:48:38.724Z"
   },
   {
    "duration": 1035,
    "start_time": "2021-12-19T21:48:39.373Z"
   },
   {
    "duration": 10,
    "start_time": "2021-12-19T21:48:40.411Z"
   },
   {
    "duration": 84,
    "start_time": "2021-12-19T21:48:40.424Z"
   },
   {
    "duration": 7,
    "start_time": "2021-12-19T21:48:40.511Z"
   },
   {
    "duration": 288,
    "start_time": "2021-12-19T21:48:40.521Z"
   },
   {
    "duration": 12,
    "start_time": "2021-12-19T21:48:40.811Z"
   },
   {
    "duration": 27,
    "start_time": "2021-12-19T21:48:40.825Z"
   },
   {
    "duration": 30,
    "start_time": "2021-12-19T21:48:40.863Z"
   },
   {
    "duration": 239,
    "start_time": "2021-12-19T21:48:40.895Z"
   },
   {
    "duration": 13,
    "start_time": "2021-12-19T21:48:41.137Z"
   },
   {
    "duration": 751,
    "start_time": "2021-12-19T21:53:13.640Z"
   },
   {
    "duration": 407,
    "start_time": "2021-12-19T21:54:07.916Z"
   },
   {
    "duration": 476,
    "start_time": "2021-12-19T21:59:22.283Z"
   },
   {
    "duration": 421,
    "start_time": "2021-12-19T21:59:30.207Z"
   },
   {
    "duration": 271,
    "start_time": "2021-12-20T09:22:31.602Z"
   },
   {
    "duration": 633,
    "start_time": "2021-12-20T09:22:53.536Z"
   },
   {
    "duration": 25,
    "start_time": "2021-12-20T09:22:54.170Z"
   },
   {
    "duration": 28,
    "start_time": "2021-12-20T09:22:54.197Z"
   },
   {
    "duration": 11,
    "start_time": "2021-12-20T09:22:54.227Z"
   },
   {
    "duration": 33,
    "start_time": "2021-12-20T09:22:54.240Z"
   },
   {
    "duration": 3398,
    "start_time": "2021-12-20T09:22:54.275Z"
   },
   {
    "duration": 26,
    "start_time": "2021-12-20T09:22:57.674Z"
   },
   {
    "duration": 477,
    "start_time": "2021-12-20T09:22:57.703Z"
   },
   {
    "duration": -486,
    "start_time": "2021-12-20T09:22:58.668Z"
   },
   {
    "duration": -494,
    "start_time": "2021-12-20T09:22:58.677Z"
   },
   {
    "duration": -499,
    "start_time": "2021-12-20T09:22:58.683Z"
   },
   {
    "duration": -509,
    "start_time": "2021-12-20T09:22:58.694Z"
   },
   {
    "duration": -513,
    "start_time": "2021-12-20T09:22:58.699Z"
   },
   {
    "duration": -524,
    "start_time": "2021-12-20T09:22:58.710Z"
   },
   {
    "duration": -526,
    "start_time": "2021-12-20T09:22:58.715Z"
   },
   {
    "duration": -535,
    "start_time": "2021-12-20T09:22:58.726Z"
   },
   {
    "duration": -539,
    "start_time": "2021-12-20T09:22:58.731Z"
   },
   {
    "duration": -548,
    "start_time": "2021-12-20T09:22:58.741Z"
   },
   {
    "duration": -550,
    "start_time": "2021-12-20T09:22:58.745Z"
   },
   {
    "duration": 470,
    "start_time": "2021-12-20T09:23:09.809Z"
   },
   {
    "duration": 407,
    "start_time": "2021-12-20T09:24:53.341Z"
   },
   {
    "duration": 17,
    "start_time": "2021-12-20T09:30:49.175Z"
   },
   {
    "duration": 22,
    "start_time": "2021-12-20T09:31:14.587Z"
   },
   {
    "duration": 9,
    "start_time": "2021-12-20T09:32:07.933Z"
   },
   {
    "duration": 12,
    "start_time": "2021-12-20T09:32:29.790Z"
   },
   {
    "duration": 8,
    "start_time": "2021-12-20T09:36:39.635Z"
   },
   {
    "duration": 501,
    "start_time": "2021-12-20T09:41:11.985Z"
   },
   {
    "duration": 7650,
    "start_time": "2021-12-20T09:45:44.062Z"
   },
   {
    "duration": 11,
    "start_time": "2021-12-20T09:46:32.660Z"
   },
   {
    "duration": 6371,
    "start_time": "2021-12-20T09:46:37.287Z"
   },
   {
    "duration": 4,
    "start_time": "2021-12-20T11:04:33.200Z"
   },
   {
    "duration": 4,
    "start_time": "2021-12-20T11:05:06.624Z"
   },
   {
    "duration": 4,
    "start_time": "2021-12-20T11:05:26.144Z"
   },
   {
    "duration": 3,
    "start_time": "2021-12-20T11:05:50.335Z"
   },
   {
    "duration": 4,
    "start_time": "2021-12-20T11:05:58.747Z"
   },
   {
    "duration": 4,
    "start_time": "2021-12-20T11:06:18.920Z"
   },
   {
    "duration": 4,
    "start_time": "2021-12-20T11:06:38.117Z"
   },
   {
    "duration": 4,
    "start_time": "2021-12-20T11:07:26.291Z"
   },
   {
    "duration": 4,
    "start_time": "2021-12-20T11:07:34.918Z"
   },
   {
    "duration": 22,
    "start_time": "2021-12-20T11:09:24.776Z"
   },
   {
    "duration": 1877,
    "start_time": "2021-12-20T11:11:11.625Z"
   },
   {
    "duration": 1122,
    "start_time": "2021-12-20T11:11:32.038Z"
   },
   {
    "duration": 20,
    "start_time": "2021-12-20T11:12:15.104Z"
   },
   {
    "duration": 948,
    "start_time": "2021-12-20T11:31:08.697Z"
   },
   {
    "duration": 505,
    "start_time": "2021-12-20T11:31:21.747Z"
   },
   {
    "duration": 424,
    "start_time": "2021-12-20T11:31:32.957Z"
   },
   {
    "duration": 28,
    "start_time": "2021-12-20T11:32:34.521Z"
   },
   {
    "duration": 21,
    "start_time": "2021-12-20T11:33:01.018Z"
   },
   {
    "duration": 19,
    "start_time": "2021-12-20T11:33:34.883Z"
   },
   {
    "duration": 24,
    "start_time": "2021-12-20T11:33:54.350Z"
   },
   {
    "duration": 15,
    "start_time": "2021-12-20T11:34:22.910Z"
   },
   {
    "duration": 20,
    "start_time": "2021-12-20T11:36:27.772Z"
   },
   {
    "duration": 608,
    "start_time": "2021-12-20T11:36:42.613Z"
   },
   {
    "duration": 18,
    "start_time": "2021-12-20T11:36:43.223Z"
   },
   {
    "duration": 28,
    "start_time": "2021-12-20T11:36:43.243Z"
   },
   {
    "duration": 20,
    "start_time": "2021-12-20T11:36:43.272Z"
   },
   {
    "duration": 41,
    "start_time": "2021-12-20T11:36:43.293Z"
   },
   {
    "duration": 3390,
    "start_time": "2021-12-20T11:36:43.335Z"
   },
   {
    "duration": 19,
    "start_time": "2021-12-20T11:36:46.727Z"
   },
   {
    "duration": 21,
    "start_time": "2021-12-20T11:36:46.748Z"
   },
   {
    "duration": 397,
    "start_time": "2021-12-20T11:36:46.788Z"
   },
   {
    "duration": 662,
    "start_time": "2021-12-20T11:36:47.187Z"
   },
   {
    "duration": 6,
    "start_time": "2021-12-20T11:36:47.851Z"
   },
   {
    "duration": 48,
    "start_time": "2021-12-20T11:36:47.859Z"
   },
   {
    "duration": 13,
    "start_time": "2021-12-20T11:36:47.909Z"
   },
   {
    "duration": 155,
    "start_time": "2021-12-20T11:36:47.923Z"
   },
   {
    "duration": 8,
    "start_time": "2021-12-20T11:36:48.087Z"
   },
   {
    "duration": 16,
    "start_time": "2021-12-20T11:36:48.097Z"
   },
   {
    "duration": 24,
    "start_time": "2021-12-20T11:36:48.114Z"
   },
   {
    "duration": 139,
    "start_time": "2021-12-20T11:36:48.139Z"
   },
   {
    "duration": 14,
    "start_time": "2021-12-20T11:36:48.279Z"
   },
   {
    "duration": 21,
    "start_time": "2021-12-20T11:36:56.057Z"
   },
   {
    "duration": 20,
    "start_time": "2021-12-20T11:40:09.955Z"
   },
   {
    "duration": 26,
    "start_time": "2021-12-20T11:41:30.279Z"
   },
   {
    "duration": 20,
    "start_time": "2021-12-20T11:41:40.741Z"
   },
   {
    "duration": 20,
    "start_time": "2021-12-20T11:45:32.735Z"
   },
   {
    "duration": 18,
    "start_time": "2021-12-20T11:46:22.383Z"
   },
   {
    "duration": 22,
    "start_time": "2021-12-20T11:51:57.042Z"
   },
   {
    "duration": 19,
    "start_time": "2021-12-20T11:52:17.208Z"
   },
   {
    "duration": 25,
    "start_time": "2021-12-20T11:52:40.718Z"
   },
   {
    "duration": 9,
    "start_time": "2021-12-20T11:52:55.348Z"
   },
   {
    "duration": 14,
    "start_time": "2021-12-20T12:15:33.091Z"
   },
   {
    "duration": 8,
    "start_time": "2021-12-20T12:19:58.594Z"
   },
   {
    "duration": 9,
    "start_time": "2021-12-20T12:27:52.707Z"
   },
   {
    "duration": 8,
    "start_time": "2021-12-20T12:28:13.718Z"
   },
   {
    "duration": 13,
    "start_time": "2021-12-20T12:30:40.638Z"
   },
   {
    "duration": 742,
    "start_time": "2021-12-20T12:32:55.331Z"
   },
   {
    "duration": 15,
    "start_time": "2021-12-20T12:33:23.071Z"
   },
   {
    "duration": 10,
    "start_time": "2021-12-20T12:33:49.094Z"
   },
   {
    "duration": 12,
    "start_time": "2021-12-20T12:34:52.423Z"
   },
   {
    "duration": 10,
    "start_time": "2021-12-20T12:35:15.218Z"
   },
   {
    "duration": 10,
    "start_time": "2021-12-20T12:36:13.253Z"
   },
   {
    "duration": 22,
    "start_time": "2021-12-20T12:38:14.926Z"
   },
   {
    "duration": 22,
    "start_time": "2021-12-20T12:39:31.140Z"
   },
   {
    "duration": 25,
    "start_time": "2021-12-20T13:00:32.273Z"
   },
   {
    "duration": 28,
    "start_time": "2021-12-20T13:02:21.569Z"
   },
   {
    "duration": 24,
    "start_time": "2021-12-20T13:03:14.623Z"
   },
   {
    "duration": 27,
    "start_time": "2021-12-20T13:03:25.536Z"
   },
   {
    "duration": 31,
    "start_time": "2021-12-20T13:06:25.878Z"
   },
   {
    "duration": 42,
    "start_time": "2021-12-20T13:08:53.765Z"
   },
   {
    "duration": 36,
    "start_time": "2021-12-20T13:35:32.882Z"
   },
   {
    "duration": 9,
    "start_time": "2021-12-20T13:49:49.348Z"
   },
   {
    "duration": 25,
    "start_time": "2021-12-20T13:50:08.422Z"
   },
   {
    "duration": 21,
    "start_time": "2021-12-20T13:50:54.274Z"
   },
   {
    "duration": 43,
    "start_time": "2021-12-20T13:51:57.252Z"
   },
   {
    "duration": 28,
    "start_time": "2021-12-20T13:52:08.617Z"
   },
   {
    "duration": 21,
    "start_time": "2021-12-20T13:52:49.133Z"
   },
   {
    "duration": 14,
    "start_time": "2021-12-20T13:53:01.155Z"
   },
   {
    "duration": 13,
    "start_time": "2021-12-20T13:54:40.978Z"
   },
   {
    "duration": 27,
    "start_time": "2021-12-20T13:55:23.260Z"
   },
   {
    "duration": 43,
    "start_time": "2021-12-20T13:56:50.885Z"
   },
   {
    "duration": 1,
    "start_time": "2021-12-20T13:57:10.301Z"
   },
   {
    "duration": 30,
    "start_time": "2021-12-20T13:58:22.079Z"
   },
   {
    "duration": 407,
    "start_time": "2021-12-20T13:59:02.941Z"
   },
   {
    "duration": 239,
    "start_time": "2021-12-20T13:59:41.092Z"
   },
   {
    "duration": 345,
    "start_time": "2021-12-20T14:00:17.464Z"
   },
   {
    "duration": 8,
    "start_time": "2021-12-20T14:00:49.004Z"
   },
   {
    "duration": 13,
    "start_time": "2021-12-20T14:01:13.721Z"
   },
   {
    "duration": 10,
    "start_time": "2021-12-20T14:01:28.162Z"
   },
   {
    "duration": 13,
    "start_time": "2021-12-20T14:01:47.637Z"
   },
   {
    "duration": 15,
    "start_time": "2021-12-20T14:02:22.164Z"
   },
   {
    "duration": 9,
    "start_time": "2021-12-20T14:02:38.360Z"
   },
   {
    "duration": 13,
    "start_time": "2021-12-20T14:03:02.888Z"
   },
   {
    "duration": 9,
    "start_time": "2021-12-20T14:03:52.232Z"
   },
   {
    "duration": 9,
    "start_time": "2021-12-20T14:04:31.072Z"
   },
   {
    "duration": 11,
    "start_time": "2021-12-20T14:04:44.618Z"
   },
   {
    "duration": 10,
    "start_time": "2021-12-20T14:05:49.615Z"
   },
   {
    "duration": 17,
    "start_time": "2021-12-20T14:06:45.057Z"
   },
   {
    "duration": 43,
    "start_time": "2021-12-20T14:25:11.747Z"
   },
   {
    "duration": 41,
    "start_time": "2021-12-20T14:26:46.813Z"
   },
   {
    "duration": 35,
    "start_time": "2021-12-20T15:15:25.954Z"
   },
   {
    "duration": 73,
    "start_time": "2021-12-20T15:15:46.545Z"
   },
   {
    "duration": 27,
    "start_time": "2021-12-20T15:21:07.291Z"
   },
   {
    "duration": 21,
    "start_time": "2021-12-20T15:32:39.906Z"
   },
   {
    "duration": 22,
    "start_time": "2021-12-20T15:33:02.622Z"
   },
   {
    "duration": 3,
    "start_time": "2021-12-20T15:33:09.742Z"
   },
   {
    "duration": 13,
    "start_time": "2021-12-20T15:33:58.404Z"
   },
   {
    "duration": 5,
    "start_time": "2021-12-20T15:34:15.201Z"
   },
   {
    "duration": 4,
    "start_time": "2021-12-20T15:34:41.366Z"
   },
   {
    "duration": 6,
    "start_time": "2021-12-20T15:34:48.591Z"
   },
   {
    "duration": 11,
    "start_time": "2021-12-20T15:36:03.392Z"
   },
   {
    "duration": 6,
    "start_time": "2021-12-20T15:36:51.480Z"
   },
   {
    "duration": 10,
    "start_time": "2021-12-20T15:36:56.755Z"
   },
   {
    "duration": 11,
    "start_time": "2021-12-20T15:37:28.296Z"
   },
   {
    "duration": 17,
    "start_time": "2021-12-20T15:38:04.922Z"
   },
   {
    "duration": 33,
    "start_time": "2021-12-20T15:38:22.947Z"
   },
   {
    "duration": 14,
    "start_time": "2021-12-20T15:38:27.947Z"
   },
   {
    "duration": 15,
    "start_time": "2021-12-20T15:38:31.366Z"
   },
   {
    "duration": 41,
    "start_time": "2021-12-20T15:38:59.844Z"
   },
   {
    "duration": 10956,
    "start_time": "2021-12-20T15:40:11.858Z"
   },
   {
    "duration": 5,
    "start_time": "2021-12-20T15:40:23.219Z"
   },
   {
    "duration": 7335,
    "start_time": "2021-12-20T15:40:34.162Z"
   },
   {
    "duration": 745,
    "start_time": "2021-12-20T15:40:51.632Z"
   },
   {
    "duration": 26,
    "start_time": "2021-12-20T15:40:52.379Z"
   },
   {
    "duration": 21,
    "start_time": "2021-12-20T15:40:52.408Z"
   },
   {
    "duration": 15,
    "start_time": "2021-12-20T15:40:52.431Z"
   },
   {
    "duration": 16,
    "start_time": "2021-12-20T15:40:52.448Z"
   },
   {
    "duration": 16,
    "start_time": "2021-12-20T15:40:52.467Z"
   },
   {
    "duration": 14,
    "start_time": "2021-12-20T15:40:52.485Z"
   },
   {
    "duration": 60,
    "start_time": "2021-12-20T15:40:52.501Z"
   },
   {
    "duration": 3897,
    "start_time": "2021-12-20T15:40:52.563Z"
   },
   {
    "duration": 10,
    "start_time": "2021-12-20T15:40:56.463Z"
   },
   {
    "duration": 8,
    "start_time": "2021-12-20T15:40:56.474Z"
   },
   {
    "duration": 19,
    "start_time": "2021-12-20T15:40:56.484Z"
   },
   {
    "duration": 396,
    "start_time": "2021-12-20T15:40:56.505Z"
   },
   {
    "duration": 760,
    "start_time": "2021-12-20T15:40:56.903Z"
   },
   {
    "duration": 7,
    "start_time": "2021-12-20T15:40:57.665Z"
   },
   {
    "duration": 48,
    "start_time": "2021-12-20T15:40:57.675Z"
   },
   {
    "duration": 4,
    "start_time": "2021-12-20T15:40:57.725Z"
   },
   {
    "duration": 173,
    "start_time": "2021-12-20T15:40:57.731Z"
   },
   {
    "duration": 11,
    "start_time": "2021-12-20T15:40:57.906Z"
   },
   {
    "duration": 31,
    "start_time": "2021-12-20T15:40:57.919Z"
   },
   {
    "duration": 22,
    "start_time": "2021-12-20T15:40:57.953Z"
   },
   {
    "duration": 146,
    "start_time": "2021-12-20T15:40:57.977Z"
   },
   {
    "duration": 8,
    "start_time": "2021-12-20T15:40:58.126Z"
   },
   {
    "duration": 51,
    "start_time": "2021-12-20T15:40:58.136Z"
   },
   {
    "duration": 35,
    "start_time": "2021-12-20T15:40:58.189Z"
   },
   {
    "duration": 7,
    "start_time": "2021-12-20T15:41:49.825Z"
   },
   {
    "duration": 6,
    "start_time": "2021-12-20T15:42:09.660Z"
   },
   {
    "duration": 5,
    "start_time": "2021-12-20T15:42:42.161Z"
   },
   {
    "duration": 353,
    "start_time": "2021-12-20T15:43:51.490Z"
   },
   {
    "duration": 10,
    "start_time": "2021-12-20T15:44:19.957Z"
   },
   {
    "duration": 10,
    "start_time": "2021-12-20T15:44:52.588Z"
   },
   {
    "duration": 7,
    "start_time": "2021-12-20T15:45:34.470Z"
   },
   {
    "duration": 21,
    "start_time": "2021-12-20T15:46:12.975Z"
   },
   {
    "duration": 5,
    "start_time": "2021-12-20T15:46:35.285Z"
   },
   {
    "duration": 3,
    "start_time": "2021-12-20T15:46:50.174Z"
   },
   {
    "duration": 3,
    "start_time": "2021-12-20T15:47:19.692Z"
   },
   {
    "duration": 7,
    "start_time": "2021-12-20T15:47:34.761Z"
   },
   {
    "duration": 12,
    "start_time": "2021-12-20T15:47:56.050Z"
   },
   {
    "duration": 13,
    "start_time": "2021-12-20T15:48:33.089Z"
   },
   {
    "duration": 10,
    "start_time": "2021-12-20T15:48:49.920Z"
   },
   {
    "duration": 11,
    "start_time": "2021-12-20T15:49:21.506Z"
   },
   {
    "duration": 33,
    "start_time": "2021-12-20T15:49:26.627Z"
   },
   {
    "duration": 22,
    "start_time": "2021-12-20T15:49:39.447Z"
   },
   {
    "duration": 34,
    "start_time": "2021-12-20T15:49:48.844Z"
   },
   {
    "duration": 15,
    "start_time": "2021-12-20T15:50:15.103Z"
   },
   {
    "duration": 10,
    "start_time": "2021-12-20T15:51:09.508Z"
   },
   {
    "duration": 16,
    "start_time": "2021-12-20T15:51:57.971Z"
   },
   {
    "duration": 11,
    "start_time": "2021-12-20T15:53:06.151Z"
   },
   {
    "duration": 16,
    "start_time": "2021-12-20T15:53:26.607Z"
   },
   {
    "duration": 24,
    "start_time": "2021-12-20T15:53:37.169Z"
   },
   {
    "duration": 15,
    "start_time": "2021-12-20T15:55:21.507Z"
   },
   {
    "duration": 23,
    "start_time": "2021-12-20T15:55:49.005Z"
   },
   {
    "duration": 11,
    "start_time": "2021-12-20T15:55:57.669Z"
   },
   {
    "duration": 646,
    "start_time": "2021-12-20T15:56:53.610Z"
   },
   {
    "duration": 27,
    "start_time": "2021-12-20T15:56:54.258Z"
   },
   {
    "duration": 5,
    "start_time": "2021-12-20T15:56:54.288Z"
   },
   {
    "duration": 12,
    "start_time": "2021-12-20T15:56:54.296Z"
   },
   {
    "duration": 9,
    "start_time": "2021-12-20T15:56:54.310Z"
   },
   {
    "duration": 14,
    "start_time": "2021-12-20T15:56:54.321Z"
   },
   {
    "duration": 17,
    "start_time": "2021-12-20T15:56:54.361Z"
   },
   {
    "duration": 43,
    "start_time": "2021-12-20T15:56:54.380Z"
   },
   {
    "duration": 3707,
    "start_time": "2021-12-20T15:56:54.425Z"
   },
   {
    "duration": 10,
    "start_time": "2021-12-20T15:56:58.133Z"
   },
   {
    "duration": 4,
    "start_time": "2021-12-20T15:56:58.161Z"
   },
   {
    "duration": 19,
    "start_time": "2021-12-20T15:56:58.167Z"
   },
   {
    "duration": 8,
    "start_time": "2021-12-20T15:56:58.188Z"
   },
   {
    "duration": 5,
    "start_time": "2021-12-20T15:56:58.198Z"
   },
   {
    "duration": 6,
    "start_time": "2021-12-20T15:56:58.205Z"
   },
   {
    "duration": 397,
    "start_time": "2021-12-20T15:56:58.212Z"
   },
   {
    "duration": 15,
    "start_time": "2021-12-20T15:56:58.611Z"
   },
   {
    "duration": 720,
    "start_time": "2021-12-20T15:56:58.628Z"
   },
   {
    "duration": 12,
    "start_time": "2021-12-20T15:56:59.350Z"
   },
   {
    "duration": 45,
    "start_time": "2021-12-20T15:56:59.364Z"
   },
   {
    "duration": 5,
    "start_time": "2021-12-20T15:56:59.411Z"
   },
   {
    "duration": 188,
    "start_time": "2021-12-20T15:56:59.417Z"
   },
   {
    "duration": 9,
    "start_time": "2021-12-20T15:56:59.609Z"
   },
   {
    "duration": 17,
    "start_time": "2021-12-20T15:56:59.620Z"
   },
   {
    "duration": 7,
    "start_time": "2021-12-20T15:56:59.639Z"
   },
   {
    "duration": 16,
    "start_time": "2021-12-20T15:56:59.647Z"
   },
   {
    "duration": 10,
    "start_time": "2021-12-20T15:56:59.665Z"
   },
   {
    "duration": 11,
    "start_time": "2021-12-20T15:56:59.678Z"
   },
   {
    "duration": 12,
    "start_time": "2021-12-20T15:56:59.691Z"
   },
   {
    "duration": 9,
    "start_time": "2021-12-20T15:56:59.704Z"
   },
   {
    "duration": 182,
    "start_time": "2021-12-20T15:56:59.715Z"
   },
   {
    "duration": 8,
    "start_time": "2021-12-20T15:56:59.899Z"
   },
   {
    "duration": 10,
    "start_time": "2021-12-20T15:56:59.909Z"
   },
   {
    "duration": 15,
    "start_time": "2021-12-20T15:56:59.921Z"
   },
   {
    "duration": 50,
    "start_time": "2021-12-20T15:56:59.938Z"
   },
   {
    "duration": 10,
    "start_time": "2021-12-20T15:56:59.989Z"
   },
   {
    "duration": 11,
    "start_time": "2021-12-20T15:57:00.000Z"
   },
   {
    "duration": 57,
    "start_time": "2021-12-20T15:57:00.013Z"
   },
   {
    "duration": 11,
    "start_time": "2021-12-20T15:57:00.071Z"
   },
   {
    "duration": 379,
    "start_time": "2021-12-21T10:18:27.813Z"
   },
   {
    "duration": 1049,
    "start_time": "2021-12-21T10:18:47.376Z"
   },
   {
    "duration": 32,
    "start_time": "2021-12-21T10:18:48.428Z"
   },
   {
    "duration": 6,
    "start_time": "2021-12-21T10:18:48.464Z"
   },
   {
    "duration": 20,
    "start_time": "2021-12-21T10:18:48.472Z"
   },
   {
    "duration": 32,
    "start_time": "2021-12-21T10:18:48.495Z"
   },
   {
    "duration": 22,
    "start_time": "2021-12-21T10:18:48.530Z"
   },
   {
    "duration": 17,
    "start_time": "2021-12-21T10:18:48.555Z"
   },
   {
    "duration": 64,
    "start_time": "2021-12-21T10:18:48.576Z"
   },
   {
    "duration": 42,
    "start_time": "2021-12-21T10:18:48.643Z"
   },
   {
    "duration": 5624,
    "start_time": "2021-12-21T10:18:48.687Z"
   },
   {
    "duration": 21,
    "start_time": "2021-12-21T10:18:54.314Z"
   },
   {
    "duration": 9,
    "start_time": "2021-12-21T10:18:54.338Z"
   },
   {
    "duration": 24,
    "start_time": "2021-12-21T10:18:54.349Z"
   },
   {
    "duration": 48,
    "start_time": "2021-12-21T10:18:54.376Z"
   },
   {
    "duration": 9,
    "start_time": "2021-12-21T10:18:54.427Z"
   },
   {
    "duration": 6,
    "start_time": "2021-12-21T10:18:54.439Z"
   },
   {
    "duration": 644,
    "start_time": "2021-12-21T10:18:54.447Z"
   },
   {
    "duration": 29,
    "start_time": "2021-12-21T10:18:55.094Z"
   },
   {
    "duration": 891,
    "start_time": "2021-12-21T10:18:55.126Z"
   },
   {
    "duration": 11,
    "start_time": "2021-12-21T10:18:56.019Z"
   },
   {
    "duration": 71,
    "start_time": "2021-12-21T10:18:56.033Z"
   },
   {
    "duration": 6,
    "start_time": "2021-12-21T10:18:56.124Z"
   },
   {
    "duration": 291,
    "start_time": "2021-12-21T10:18:56.138Z"
   },
   {
    "duration": 13,
    "start_time": "2021-12-21T10:18:56.433Z"
   },
   {
    "duration": 16,
    "start_time": "2021-12-21T10:18:56.449Z"
   },
   {
    "duration": 11,
    "start_time": "2021-12-21T10:18:56.467Z"
   },
   {
    "duration": 6,
    "start_time": "2021-12-21T10:18:56.481Z"
   },
   {
    "duration": 11,
    "start_time": "2021-12-21T10:18:56.523Z"
   },
   {
    "duration": 18,
    "start_time": "2021-12-21T10:18:56.537Z"
   },
   {
    "duration": 19,
    "start_time": "2021-12-21T10:18:56.558Z"
   },
   {
    "duration": 56,
    "start_time": "2021-12-21T10:18:56.580Z"
   },
   {
    "duration": 316,
    "start_time": "2021-12-21T10:18:56.639Z"
   },
   {
    "duration": 16,
    "start_time": "2021-12-21T10:18:56.957Z"
   },
   {
    "duration": 17,
    "start_time": "2021-12-21T10:18:56.976Z"
   },
   {
    "duration": 51,
    "start_time": "2021-12-21T10:18:56.995Z"
   },
   {
    "duration": 39,
    "start_time": "2021-12-21T10:18:57.049Z"
   },
   {
    "duration": 45,
    "start_time": "2021-12-21T10:18:57.090Z"
   },
   {
    "duration": 25,
    "start_time": "2021-12-21T10:18:57.138Z"
   },
   {
    "duration": 64,
    "start_time": "2021-12-21T10:18:57.166Z"
   },
   {
    "duration": 19,
    "start_time": "2021-12-21T10:18:57.232Z"
   },
   {
    "duration": 37,
    "start_time": "2021-12-21T10:19:13.451Z"
   },
   {
    "duration": 33,
    "start_time": "2021-12-21T10:19:17.014Z"
   },
   {
    "duration": 842,
    "start_time": "2021-12-21T10:19:35.158Z"
   },
   {
    "duration": 39,
    "start_time": "2021-12-21T10:19:36.004Z"
   },
   {
    "duration": 24,
    "start_time": "2021-12-21T10:19:36.045Z"
   },
   {
    "duration": 22,
    "start_time": "2021-12-21T10:19:36.072Z"
   },
   {
    "duration": 23,
    "start_time": "2021-12-21T10:19:36.097Z"
   },
   {
    "duration": 37,
    "start_time": "2021-12-21T10:19:36.123Z"
   },
   {
    "duration": 26,
    "start_time": "2021-12-21T10:19:36.163Z"
   },
   {
    "duration": 35,
    "start_time": "2021-12-21T10:19:36.194Z"
   },
   {
    "duration": 56,
    "start_time": "2021-12-21T10:19:36.232Z"
   },
   {
    "duration": 5353,
    "start_time": "2021-12-21T10:19:36.291Z"
   },
   {
    "duration": 19,
    "start_time": "2021-12-21T10:19:41.647Z"
   },
   {
    "duration": 10,
    "start_time": "2021-12-21T10:19:41.670Z"
   },
   {
    "duration": 58,
    "start_time": "2021-12-21T10:19:41.683Z"
   },
   {
    "duration": 8,
    "start_time": "2021-12-21T10:19:41.744Z"
   },
   {
    "duration": 18,
    "start_time": "2021-12-21T10:19:41.754Z"
   },
   {
    "duration": 5,
    "start_time": "2021-12-21T10:19:41.775Z"
   },
   {
    "duration": 642,
    "start_time": "2021-12-21T10:19:41.782Z"
   },
   {
    "duration": 20,
    "start_time": "2021-12-21T10:19:42.427Z"
   },
   {
    "duration": 945,
    "start_time": "2021-12-21T10:19:42.449Z"
   },
   {
    "duration": 27,
    "start_time": "2021-12-21T10:19:43.396Z"
   },
   {
    "duration": 61,
    "start_time": "2021-12-21T10:19:43.425Z"
   },
   {
    "duration": 6,
    "start_time": "2021-12-21T10:19:43.488Z"
   },
   {
    "duration": 274,
    "start_time": "2021-12-21T10:19:43.500Z"
   },
   {
    "duration": 13,
    "start_time": "2021-12-21T10:19:43.777Z"
   },
   {
    "duration": 35,
    "start_time": "2021-12-21T10:19:43.793Z"
   },
   {
    "duration": 10,
    "start_time": "2021-12-21T10:19:43.831Z"
   },
   {
    "duration": 24,
    "start_time": "2021-12-21T10:19:43.843Z"
   },
   {
    "duration": 32,
    "start_time": "2021-12-21T10:19:43.869Z"
   },
   {
    "duration": 27,
    "start_time": "2021-12-21T10:19:43.904Z"
   },
   {
    "duration": 25,
    "start_time": "2021-12-21T10:19:43.934Z"
   },
   {
    "duration": 23,
    "start_time": "2021-12-21T10:19:43.962Z"
   },
   {
    "duration": 232,
    "start_time": "2021-12-21T10:19:43.988Z"
   },
   {
    "duration": 12,
    "start_time": "2021-12-21T10:19:44.224Z"
   },
   {
    "duration": 34,
    "start_time": "2021-12-21T10:19:44.238Z"
   },
   {
    "duration": 50,
    "start_time": "2021-12-21T10:19:44.274Z"
   },
   {
    "duration": 51,
    "start_time": "2021-12-21T10:19:44.327Z"
   },
   {
    "duration": 19,
    "start_time": "2021-12-21T10:19:44.380Z"
   },
   {
    "duration": 29,
    "start_time": "2021-12-21T10:19:44.401Z"
   },
   {
    "duration": 63,
    "start_time": "2021-12-21T10:19:44.433Z"
   },
   {
    "duration": 18,
    "start_time": "2021-12-21T10:19:44.499Z"
   },
   {
    "duration": 99,
    "start_time": "2021-12-21T10:21:21.604Z"
   },
   {
    "duration": 5896,
    "start_time": "2021-12-21T10:21:35.475Z"
   },
   {
    "duration": 795,
    "start_time": "2021-12-21T11:05:09.596Z"
   },
   {
    "duration": 369,
    "start_time": "2021-12-21T11:05:26.788Z"
   },
   {
    "duration": 352,
    "start_time": "2021-12-21T11:06:56.987Z"
   },
   {
    "duration": 332,
    "start_time": "2021-12-21T11:07:47.517Z"
   },
   {
    "duration": 397,
    "start_time": "2021-12-21T11:14:30.467Z"
   },
   {
    "duration": 646,
    "start_time": "2021-12-21T11:19:47.929Z"
   },
   {
    "duration": 9,
    "start_time": "2021-12-21T11:36:55.849Z"
   },
   {
    "duration": 10,
    "start_time": "2021-12-21T11:37:28.325Z"
   },
   {
    "duration": 5,
    "start_time": "2021-12-21T11:38:02.332Z"
   },
   {
    "duration": 10,
    "start_time": "2021-12-21T11:38:05.772Z"
   },
   {
    "duration": 626,
    "start_time": "2021-12-21T11:40:13.127Z"
   },
   {
    "duration": 24,
    "start_time": "2021-12-21T11:45:31.539Z"
   },
   {
    "duration": 96,
    "start_time": "2021-12-21T11:51:56.366Z"
   },
   {
    "duration": 115,
    "start_time": "2021-12-21T11:53:55.637Z"
   },
   {
    "duration": 130,
    "start_time": "2021-12-21T11:54:34.807Z"
   },
   {
    "duration": 15,
    "start_time": "2021-12-21T11:55:55.412Z"
   },
   {
    "duration": 281,
    "start_time": "2021-12-21T11:56:47.036Z"
   },
   {
    "duration": 16,
    "start_time": "2021-12-21T11:57:17.760Z"
   },
   {
    "duration": 28,
    "start_time": "2021-12-21T11:57:24.773Z"
   },
   {
    "duration": 38,
    "start_time": "2021-12-21T11:57:30.370Z"
   },
   {
    "duration": 346,
    "start_time": "2021-12-21T12:07:25.729Z"
   },
   {
    "duration": 326,
    "start_time": "2021-12-21T12:08:12.004Z"
   },
   {
    "duration": 950,
    "start_time": "2021-12-21T12:08:31.307Z"
   },
   {
    "duration": 32,
    "start_time": "2021-12-21T12:08:32.259Z"
   },
   {
    "duration": 29,
    "start_time": "2021-12-21T12:08:32.294Z"
   },
   {
    "duration": 24,
    "start_time": "2021-12-21T12:08:32.328Z"
   },
   {
    "duration": 8,
    "start_time": "2021-12-21T12:08:32.355Z"
   },
   {
    "duration": 60,
    "start_time": "2021-12-21T12:08:32.365Z"
   },
   {
    "duration": 31,
    "start_time": "2021-12-21T12:08:32.428Z"
   },
   {
    "duration": 22,
    "start_time": "2021-12-21T12:08:32.465Z"
   },
   {
    "duration": 95,
    "start_time": "2021-12-21T12:08:32.491Z"
   },
   {
    "duration": 6818,
    "start_time": "2021-12-21T12:08:32.589Z"
   },
   {
    "duration": 30,
    "start_time": "2021-12-21T12:08:39.410Z"
   },
   {
    "duration": 16,
    "start_time": "2021-12-21T12:08:39.443Z"
   },
   {
    "duration": 25,
    "start_time": "2021-12-21T12:08:39.462Z"
   },
   {
    "duration": 36,
    "start_time": "2021-12-21T12:08:39.490Z"
   },
   {
    "duration": 35,
    "start_time": "2021-12-21T12:08:39.529Z"
   },
   {
    "duration": 14,
    "start_time": "2021-12-21T12:08:39.567Z"
   },
   {
    "duration": 9,
    "start_time": "2021-12-21T12:08:39.583Z"
   },
   {
    "duration": 29,
    "start_time": "2021-12-21T12:08:39.594Z"
   },
   {
    "duration": 720,
    "start_time": "2021-12-21T12:08:39.628Z"
   },
   {
    "duration": 24,
    "start_time": "2021-12-21T12:08:40.351Z"
   },
   {
    "duration": 1121,
    "start_time": "2021-12-21T12:08:40.379Z"
   },
   {
    "duration": 20,
    "start_time": "2021-12-21T12:08:41.503Z"
   },
   {
    "duration": 74,
    "start_time": "2021-12-21T12:08:41.531Z"
   },
   {
    "duration": 18,
    "start_time": "2021-12-21T12:08:41.608Z"
   },
   {
    "duration": 361,
    "start_time": "2021-12-21T12:08:41.629Z"
   },
   {
    "duration": 12,
    "start_time": "2021-12-21T12:08:41.993Z"
   },
   {
    "duration": 25,
    "start_time": "2021-12-21T12:08:42.024Z"
   },
   {
    "duration": 9,
    "start_time": "2021-12-21T12:08:42.052Z"
   },
   {
    "duration": 8,
    "start_time": "2021-12-21T12:08:42.063Z"
   },
   {
    "duration": 16,
    "start_time": "2021-12-21T12:08:42.074Z"
   },
   {
    "duration": 54,
    "start_time": "2021-12-21T12:08:42.093Z"
   },
   {
    "duration": 17,
    "start_time": "2021-12-21T12:08:42.149Z"
   },
   {
    "duration": 14,
    "start_time": "2021-12-21T12:08:42.169Z"
   },
   {
    "duration": 272,
    "start_time": "2021-12-21T12:08:42.186Z"
   },
   {
    "duration": 13,
    "start_time": "2021-12-21T12:08:42.461Z"
   },
   {
    "duration": 14,
    "start_time": "2021-12-21T12:08:42.476Z"
   },
   {
    "duration": 75,
    "start_time": "2021-12-21T12:08:42.492Z"
   },
   {
    "duration": 53,
    "start_time": "2021-12-21T12:08:42.570Z"
   },
   {
    "duration": 17,
    "start_time": "2021-12-21T12:08:42.627Z"
   },
   {
    "duration": 14,
    "start_time": "2021-12-21T12:08:42.646Z"
   },
   {
    "duration": 73,
    "start_time": "2021-12-21T12:08:42.663Z"
   },
   {
    "duration": 5,
    "start_time": "2021-12-21T12:08:42.739Z"
   },
   {
    "duration": 36,
    "start_time": "2021-12-21T12:08:42.748Z"
   },
   {
    "duration": 122,
    "start_time": "2021-12-21T12:08:42.787Z"
   },
   {
    "duration": 18,
    "start_time": "2021-12-21T12:08:46.394Z"
   },
   {
    "duration": 16,
    "start_time": "2021-12-21T12:08:51.396Z"
   },
   {
    "duration": 614,
    "start_time": "2021-12-21T12:09:25.879Z"
   },
   {
    "duration": 23,
    "start_time": "2021-12-21T12:10:14.489Z"
   },
   {
    "duration": 21,
    "start_time": "2021-12-21T12:11:24.398Z"
   },
   {
    "duration": 381,
    "start_time": "2021-12-21T12:13:30.475Z"
   },
   {
    "duration": 316,
    "start_time": "2021-12-21T12:13:41.363Z"
   },
   {
    "duration": 43,
    "start_time": "2021-12-21T12:13:49.366Z"
   },
   {
    "duration": 52,
    "start_time": "2021-12-21T12:14:19.969Z"
   },
   {
    "duration": 53,
    "start_time": "2021-12-21T12:16:13.219Z"
   },
   {
    "duration": 19,
    "start_time": "2021-12-21T12:17:22.370Z"
   },
   {
    "duration": 57,
    "start_time": "2021-12-21T12:28:17.121Z"
   },
   {
    "duration": 65,
    "start_time": "2021-12-21T12:29:32.644Z"
   },
   {
    "duration": 27,
    "start_time": "2021-12-21T12:33:00.224Z"
   },
   {
    "duration": 26,
    "start_time": "2021-12-21T12:35:34.647Z"
   },
   {
    "duration": 17,
    "start_time": "2021-12-21T12:35:42.917Z"
   },
   {
    "duration": 406,
    "start_time": "2021-12-21T12:36:01.908Z"
   },
   {
    "duration": 413,
    "start_time": "2021-12-21T12:42:02.922Z"
   },
   {
    "duration": 17,
    "start_time": "2021-12-21T12:42:22.437Z"
   },
   {
    "duration": 306,
    "start_time": "2021-12-21T12:45:57.569Z"
   },
   {
    "duration": 297,
    "start_time": "2021-12-21T12:46:20.738Z"
   },
   {
    "duration": 134,
    "start_time": "2021-12-21T12:46:48.599Z"
   },
   {
    "duration": 17,
    "start_time": "2021-12-21T12:48:27.557Z"
   },
   {
    "duration": 28,
    "start_time": "2021-12-21T12:48:53.257Z"
   },
   {
    "duration": 34,
    "start_time": "2021-12-21T12:49:01.823Z"
   },
   {
    "duration": 43,
    "start_time": "2021-12-21T12:49:23.086Z"
   },
   {
    "duration": 19,
    "start_time": "2021-12-21T12:49:30.748Z"
   },
   {
    "duration": 9,
    "start_time": "2021-12-21T12:51:57.943Z"
   },
   {
    "duration": 318,
    "start_time": "2021-12-21T12:53:46.132Z"
   },
   {
    "duration": 15,
    "start_time": "2021-12-21T12:53:57.389Z"
   },
   {
    "duration": 10658,
    "start_time": "2021-12-21T12:55:26.551Z"
   },
   {
    "duration": 7471,
    "start_time": "2021-12-21T12:55:43.921Z"
   },
   {
    "duration": 14,
    "start_time": "2021-12-21T12:57:09.060Z"
   },
   {
    "duration": 8304,
    "start_time": "2021-12-21T12:57:56.035Z"
   },
   {
    "duration": 18,
    "start_time": "2021-12-21T13:00:04.758Z"
   },
   {
    "duration": 25,
    "start_time": "2021-12-21T13:00:17.792Z"
   },
   {
    "duration": 365,
    "start_time": "2021-12-21T13:01:20.628Z"
   },
   {
    "duration": 414,
    "start_time": "2021-12-21T13:01:37.720Z"
   },
   {
    "duration": 69,
    "start_time": "2021-12-21T13:01:55.594Z"
   },
   {
    "duration": 8330,
    "start_time": "2021-12-21T13:02:20.948Z"
   },
   {
    "duration": 31,
    "start_time": "2021-12-21T13:02:57.111Z"
   },
   {
    "duration": 8130,
    "start_time": "2021-12-21T13:03:09.666Z"
   },
   {
    "duration": 35,
    "start_time": "2021-12-21T13:04:46.161Z"
   },
   {
    "duration": 8850,
    "start_time": "2021-12-21T13:04:54.039Z"
   },
   {
    "duration": 47,
    "start_time": "2021-12-21T13:05:18.606Z"
   },
   {
    "duration": 49,
    "start_time": "2021-12-21T13:05:58.133Z"
   },
   {
    "duration": 8478,
    "start_time": "2021-12-21T13:06:15.880Z"
   },
   {
    "duration": 49,
    "start_time": "2021-12-21T13:07:52.638Z"
   },
   {
    "duration": 412,
    "start_time": "2021-12-21T13:08:32.112Z"
   },
   {
    "duration": 21,
    "start_time": "2021-12-21T13:08:51.501Z"
   },
   {
    "duration": 295,
    "start_time": "2021-12-21T13:10:43.414Z"
   },
   {
    "duration": 22,
    "start_time": "2021-12-21T13:10:56.530Z"
   },
   {
    "duration": 319,
    "start_time": "2021-12-21T13:12:18.004Z"
   },
   {
    "duration": 611,
    "start_time": "2021-12-21T13:12:50.540Z"
   },
   {
    "duration": 361,
    "start_time": "2021-12-21T13:13:03.077Z"
   },
   {
    "duration": 383,
    "start_time": "2021-12-21T13:14:04.567Z"
   },
   {
    "duration": 359,
    "start_time": "2021-12-21T13:15:34.209Z"
   },
   {
    "duration": 320,
    "start_time": "2021-12-21T13:15:56.488Z"
   },
   {
    "duration": 291,
    "start_time": "2021-12-21T13:16:05.095Z"
   },
   {
    "duration": 17,
    "start_time": "2021-12-21T13:16:26.243Z"
   },
   {
    "duration": 583,
    "start_time": "2021-12-21T13:16:33.842Z"
   },
   {
    "duration": 863,
    "start_time": "2021-12-21T13:17:31.517Z"
   },
   {
    "duration": 1324,
    "start_time": "2021-12-21T13:17:59.227Z"
   },
   {
    "duration": 11,
    "start_time": "2021-12-21T13:18:09.286Z"
   },
   {
    "duration": 19,
    "start_time": "2021-12-21T13:18:31.838Z"
   },
   {
    "duration": 106,
    "start_time": "2021-12-21T13:25:02.408Z"
   },
   {
    "duration": 12,
    "start_time": "2021-12-21T13:29:26.555Z"
   },
   {
    "duration": 13,
    "start_time": "2021-12-21T13:30:24.811Z"
   },
   {
    "duration": 15,
    "start_time": "2021-12-21T13:30:43.769Z"
   },
   {
    "duration": 19,
    "start_time": "2021-12-21T13:30:53.145Z"
   },
   {
    "duration": 14,
    "start_time": "2021-12-21T13:31:22.314Z"
   },
   {
    "duration": 15,
    "start_time": "2021-12-21T13:31:49.525Z"
   },
   {
    "duration": 11,
    "start_time": "2021-12-21T13:32:33.120Z"
   },
   {
    "duration": 384,
    "start_time": "2021-12-21T18:29:28.040Z"
   },
   {
    "duration": 720,
    "start_time": "2021-12-21T18:29:40.268Z"
   },
   {
    "duration": 22,
    "start_time": "2021-12-21T18:29:40.990Z"
   },
   {
    "duration": 4,
    "start_time": "2021-12-21T18:29:41.014Z"
   },
   {
    "duration": 16,
    "start_time": "2021-12-21T18:29:41.019Z"
   },
   {
    "duration": 5,
    "start_time": "2021-12-21T18:29:41.037Z"
   },
   {
    "duration": 17,
    "start_time": "2021-12-21T18:29:41.044Z"
   },
   {
    "duration": 50,
    "start_time": "2021-12-21T18:29:41.063Z"
   },
   {
    "duration": 20,
    "start_time": "2021-12-21T18:29:41.116Z"
   },
   {
    "duration": 39,
    "start_time": "2021-12-21T18:29:41.138Z"
   },
   {
    "duration": 4109,
    "start_time": "2021-12-21T18:29:41.179Z"
   },
   {
    "duration": 20,
    "start_time": "2021-12-21T18:29:45.290Z"
   },
   {
    "duration": 6,
    "start_time": "2021-12-21T18:29:45.312Z"
   },
   {
    "duration": 14,
    "start_time": "2021-12-21T18:29:45.320Z"
   },
   {
    "duration": 11,
    "start_time": "2021-12-21T18:29:45.336Z"
   },
   {
    "duration": 13,
    "start_time": "2021-12-21T18:29:45.349Z"
   },
   {
    "duration": 7,
    "start_time": "2021-12-21T18:29:45.364Z"
   },
   {
    "duration": 6,
    "start_time": "2021-12-21T18:29:45.406Z"
   },
   {
    "duration": 3,
    "start_time": "2021-12-21T18:29:45.414Z"
   },
   {
    "duration": 401,
    "start_time": "2021-12-21T18:29:45.418Z"
   },
   {
    "duration": 15,
    "start_time": "2021-12-21T18:29:45.821Z"
   },
   {
    "duration": 717,
    "start_time": "2021-12-21T18:29:45.837Z"
   },
   {
    "duration": 7,
    "start_time": "2021-12-21T18:29:46.556Z"
   },
   {
    "duration": 59,
    "start_time": "2021-12-21T18:29:46.567Z"
   },
   {
    "duration": 4,
    "start_time": "2021-12-21T18:29:46.628Z"
   },
   {
    "duration": 164,
    "start_time": "2021-12-21T18:29:46.634Z"
   },
   {
    "duration": 14,
    "start_time": "2021-12-21T18:29:46.800Z"
   },
   {
    "duration": 10,
    "start_time": "2021-12-21T18:29:46.816Z"
   },
   {
    "duration": 5,
    "start_time": "2021-12-21T18:29:46.827Z"
   },
   {
    "duration": 3,
    "start_time": "2021-12-21T18:29:46.834Z"
   },
   {
    "duration": 7,
    "start_time": "2021-12-21T18:29:46.839Z"
   },
   {
    "duration": 10,
    "start_time": "2021-12-21T18:29:46.847Z"
   },
   {
    "duration": 49,
    "start_time": "2021-12-21T18:29:46.859Z"
   },
   {
    "duration": 10,
    "start_time": "2021-12-21T18:29:46.910Z"
   },
   {
    "duration": 155,
    "start_time": "2021-12-21T18:29:46.922Z"
   },
   {
    "duration": 8,
    "start_time": "2021-12-21T18:29:47.079Z"
   },
   {
    "duration": 23,
    "start_time": "2021-12-21T18:29:47.089Z"
   },
   {
    "duration": 15,
    "start_time": "2021-12-21T18:29:47.114Z"
   },
   {
    "duration": 27,
    "start_time": "2021-12-21T18:29:47.131Z"
   },
   {
    "duration": 11,
    "start_time": "2021-12-21T18:29:47.159Z"
   },
   {
    "duration": 39,
    "start_time": "2021-12-21T18:29:47.172Z"
   },
   {
    "duration": 27,
    "start_time": "2021-12-21T18:29:47.213Z"
   },
   {
    "duration": 10,
    "start_time": "2021-12-21T18:29:47.241Z"
   },
   {
    "duration": 16,
    "start_time": "2021-12-21T18:29:47.253Z"
   },
   {
    "duration": 41,
    "start_time": "2021-12-21T18:29:47.270Z"
   },
   {
    "duration": 16,
    "start_time": "2021-12-21T18:29:53.472Z"
   },
   {
    "duration": 442,
    "start_time": "2021-12-21T18:33:49.074Z"
   },
   {
    "duration": 14,
    "start_time": "2021-12-21T18:33:56.377Z"
   },
   {
    "duration": 12,
    "start_time": "2021-12-21T18:34:44.675Z"
   },
   {
    "duration": 13,
    "start_time": "2021-12-21T18:35:04.474Z"
   },
   {
    "duration": 8,
    "start_time": "2021-12-21T18:35:37.902Z"
   },
   {
    "duration": 8,
    "start_time": "2021-12-21T18:35:52.590Z"
   },
   {
    "duration": 15,
    "start_time": "2021-12-21T18:37:50.225Z"
   },
   {
    "duration": 8,
    "start_time": "2021-12-21T18:39:28.707Z"
   },
   {
    "duration": 122,
    "start_time": "2021-12-21T18:43:15.514Z"
   },
   {
    "duration": 106,
    "start_time": "2021-12-21T18:43:18.815Z"
   },
   {
    "duration": 7,
    "start_time": "2021-12-21T18:43:23.012Z"
   },
   {
    "duration": 189,
    "start_time": "2021-12-21T18:49:44.865Z"
   },
   {
    "duration": 115,
    "start_time": "2021-12-21T18:49:56.749Z"
   },
   {
    "duration": 130,
    "start_time": "2021-12-21T18:50:31.603Z"
   },
   {
    "duration": 117,
    "start_time": "2021-12-21T18:51:23.368Z"
   },
   {
    "duration": 10,
    "start_time": "2021-12-21T18:56:52.974Z"
   },
   {
    "duration": 8,
    "start_time": "2021-12-21T18:57:03.782Z"
   },
   {
    "duration": 8,
    "start_time": "2021-12-21T18:57:08.595Z"
   },
   {
    "duration": 387,
    "start_time": "2021-12-21T18:58:31.973Z"
   },
   {
    "duration": 143,
    "start_time": "2021-12-21T18:58:59.297Z"
   },
   {
    "duration": 851,
    "start_time": "2021-12-21T18:59:27.155Z"
   },
   {
    "duration": 113,
    "start_time": "2021-12-21T18:59:52.098Z"
   },
   {
    "duration": 113,
    "start_time": "2021-12-21T19:00:22.092Z"
   },
   {
    "duration": 9,
    "start_time": "2021-12-21T19:00:35.952Z"
   },
   {
    "duration": 7,
    "start_time": "2021-12-21T19:05:29.772Z"
   },
   {
    "duration": 332,
    "start_time": "2021-12-21T19:13:44.437Z"
   },
   {
    "duration": 113,
    "start_time": "2021-12-21T19:14:19.307Z"
   },
   {
    "duration": 437,
    "start_time": "2021-12-21T19:15:04.246Z"
   },
   {
    "duration": 123,
    "start_time": "2021-12-21T19:15:37.688Z"
   },
   {
    "duration": 116,
    "start_time": "2021-12-21T19:15:43.474Z"
   },
   {
    "duration": 126,
    "start_time": "2021-12-21T19:15:58.825Z"
   },
   {
    "duration": 162,
    "start_time": "2021-12-21T19:18:03.569Z"
   },
   {
    "duration": 165,
    "start_time": "2021-12-21T19:18:09.954Z"
   },
   {
    "duration": 125,
    "start_time": "2021-12-21T19:18:18.932Z"
   },
   {
    "duration": 9,
    "start_time": "2021-12-21T19:18:33.292Z"
   },
   {
    "duration": 391,
    "start_time": "2021-12-21T19:19:43.447Z"
   },
   {
    "duration": 114,
    "start_time": "2021-12-21T19:20:01.563Z"
   },
   {
    "duration": 117,
    "start_time": "2021-12-21T19:22:43.310Z"
   },
   {
    "duration": 191,
    "start_time": "2021-12-21T19:22:58.010Z"
   },
   {
    "duration": 122,
    "start_time": "2021-12-21T19:23:18.109Z"
   },
   {
    "duration": 9,
    "start_time": "2021-12-21T19:23:39.719Z"
   },
   {
    "duration": 150,
    "start_time": "2021-12-21T19:30:57.283Z"
   },
   {
    "duration": 106,
    "start_time": "2021-12-21T19:32:00.077Z"
   },
   {
    "duration": 503,
    "start_time": "2021-12-21T19:32:19.403Z"
   },
   {
    "duration": 7,
    "start_time": "2021-12-21T19:32:49.856Z"
   },
   {
    "duration": 109,
    "start_time": "2021-12-21T19:33:17.500Z"
   },
   {
    "duration": 157,
    "start_time": "2021-12-21T19:33:29.250Z"
   },
   {
    "duration": 115,
    "start_time": "2021-12-21T19:33:36.404Z"
   },
   {
    "duration": 9,
    "start_time": "2021-12-21T19:33:47.526Z"
   },
   {
    "duration": 9,
    "start_time": "2021-12-21T19:35:33.326Z"
   },
   {
    "duration": 16,
    "start_time": "2021-12-21T19:35:50.607Z"
   },
   {
    "duration": 421,
    "start_time": "2021-12-21T19:37:27.321Z"
   },
   {
    "duration": 14,
    "start_time": "2021-12-21T19:37:40.486Z"
   },
   {
    "duration": 132,
    "start_time": "2021-12-21T19:39:27.067Z"
   },
   {
    "duration": 13,
    "start_time": "2021-12-21T19:39:34.577Z"
   },
   {
    "duration": 12601,
    "start_time": "2021-12-21T19:39:48.455Z"
   },
   {
    "duration": 392,
    "start_time": "2021-12-21T19:40:33.581Z"
   },
   {
    "duration": 14,
    "start_time": "2021-12-21T19:41:01.119Z"
   },
   {
    "duration": 11,
    "start_time": "2021-12-21T19:41:44.518Z"
   },
   {
    "duration": 14,
    "start_time": "2021-12-21T19:41:51.650Z"
   },
   {
    "duration": 16,
    "start_time": "2021-12-21T19:42:05.813Z"
   },
   {
    "duration": 7,
    "start_time": "2021-12-21T19:43:17.132Z"
   },
   {
    "duration": 674,
    "start_time": "2021-12-21T19:44:01.135Z"
   },
   {
    "duration": 108,
    "start_time": "2021-12-21T19:44:14.173Z"
   },
   {
    "duration": 332,
    "start_time": "2021-12-21T19:44:25.171Z"
   },
   {
    "duration": 129,
    "start_time": "2021-12-21T19:45:00.313Z"
   },
   {
    "duration": 8,
    "start_time": "2021-12-21T19:46:12.344Z"
   },
   {
    "duration": 8786,
    "start_time": "2021-12-21T19:47:12.596Z"
   },
   {
    "duration": 9052,
    "start_time": "2021-12-21T19:47:48.155Z"
   },
   {
    "duration": 8896,
    "start_time": "2021-12-21T19:48:03.661Z"
   },
   {
    "duration": 8,
    "start_time": "2021-12-21T19:48:28.650Z"
   },
   {
    "duration": 421,
    "start_time": "2021-12-21T19:48:51.719Z"
   },
   {
    "duration": 7,
    "start_time": "2021-12-21T19:49:17.356Z"
   },
   {
    "duration": 8970,
    "start_time": "2021-12-21T19:50:07.281Z"
   },
   {
    "duration": 7,
    "start_time": "2021-12-21T19:51:27.813Z"
   },
   {
    "duration": 686,
    "start_time": "2021-12-21T19:51:46.356Z"
   },
   {
    "duration": 24,
    "start_time": "2021-12-21T19:51:47.045Z"
   },
   {
    "duration": 5,
    "start_time": "2021-12-21T19:51:47.071Z"
   },
   {
    "duration": 29,
    "start_time": "2021-12-21T19:51:47.078Z"
   },
   {
    "duration": 6,
    "start_time": "2021-12-21T19:51:47.109Z"
   },
   {
    "duration": 14,
    "start_time": "2021-12-21T19:51:47.117Z"
   },
   {
    "duration": 14,
    "start_time": "2021-12-21T19:51:47.133Z"
   },
   {
    "duration": 15,
    "start_time": "2021-12-21T19:51:47.150Z"
   },
   {
    "duration": 66,
    "start_time": "2021-12-21T19:51:47.167Z"
   },
   {
    "duration": 4206,
    "start_time": "2021-12-21T19:51:47.235Z"
   },
   {
    "duration": 15,
    "start_time": "2021-12-21T19:51:51.443Z"
   },
   {
    "duration": 7,
    "start_time": "2021-12-21T19:51:51.460Z"
   },
   {
    "duration": 40,
    "start_time": "2021-12-21T19:51:51.469Z"
   },
   {
    "duration": 13,
    "start_time": "2021-12-21T19:51:51.512Z"
   },
   {
    "duration": 25,
    "start_time": "2021-12-21T19:51:51.527Z"
   },
   {
    "duration": 10,
    "start_time": "2021-12-21T19:51:51.554Z"
   },
   {
    "duration": 7,
    "start_time": "2021-12-21T19:51:51.567Z"
   },
   {
    "duration": 31,
    "start_time": "2021-12-21T19:51:51.576Z"
   },
   {
    "duration": 606,
    "start_time": "2021-12-21T19:51:51.609Z"
   },
   {
    "duration": 19,
    "start_time": "2021-12-21T19:51:52.217Z"
   },
   {
    "duration": 993,
    "start_time": "2021-12-21T19:51:52.238Z"
   },
   {
    "duration": 10,
    "start_time": "2021-12-21T19:51:53.234Z"
   },
   {
    "duration": 80,
    "start_time": "2021-12-21T19:51:53.249Z"
   },
   {
    "duration": 5,
    "start_time": "2021-12-21T19:51:53.332Z"
   },
   {
    "duration": 183,
    "start_time": "2021-12-21T19:51:53.339Z"
   },
   {
    "duration": 9,
    "start_time": "2021-12-21T19:51:53.524Z"
   },
   {
    "duration": 10,
    "start_time": "2021-12-21T19:51:53.536Z"
   },
   {
    "duration": 5,
    "start_time": "2021-12-21T19:51:53.548Z"
   },
   {
    "duration": 5,
    "start_time": "2021-12-21T19:51:53.555Z"
   },
   {
    "duration": 11,
    "start_time": "2021-12-21T19:51:53.561Z"
   },
   {
    "duration": 13,
    "start_time": "2021-12-21T19:51:53.607Z"
   },
   {
    "duration": 11,
    "start_time": "2021-12-21T19:51:53.622Z"
   },
   {
    "duration": 9,
    "start_time": "2021-12-21T19:51:53.635Z"
   },
   {
    "duration": 167,
    "start_time": "2021-12-21T19:51:53.646Z"
   },
   {
    "duration": 12,
    "start_time": "2021-12-21T19:51:53.815Z"
   },
   {
    "duration": 12,
    "start_time": "2021-12-21T19:51:53.829Z"
   },
   {
    "duration": 15,
    "start_time": "2021-12-21T19:51:53.843Z"
   },
   {
    "duration": 58,
    "start_time": "2021-12-21T19:51:53.861Z"
   },
   {
    "duration": 10,
    "start_time": "2021-12-21T19:51:53.921Z"
   },
   {
    "duration": 10,
    "start_time": "2021-12-21T19:51:53.933Z"
   },
   {
    "duration": 24,
    "start_time": "2021-12-21T19:51:53.944Z"
   },
   {
    "duration": 38,
    "start_time": "2021-12-21T19:51:53.970Z"
   },
   {
    "duration": 20,
    "start_time": "2021-12-21T19:51:54.010Z"
   },
   {
    "duration": 7,
    "start_time": "2021-12-21T19:51:54.032Z"
   },
   {
    "duration": 11,
    "start_time": "2021-12-21T19:51:54.042Z"
   },
   {
    "duration": 9123,
    "start_time": "2021-12-21T19:52:10.287Z"
   },
   {
    "duration": 8,
    "start_time": "2021-12-21T19:52:39.002Z"
   },
   {
    "duration": 8,
    "start_time": "2021-12-21T19:52:58.324Z"
   },
   {
    "duration": 8,
    "start_time": "2021-12-21T19:53:38.097Z"
   },
   {
    "duration": 7,
    "start_time": "2021-12-21T19:53:44.196Z"
   },
   {
    "duration": 820,
    "start_time": "2021-12-21T19:53:53.456Z"
   },
   {
    "duration": 23,
    "start_time": "2021-12-21T19:53:54.278Z"
   },
   {
    "duration": 3,
    "start_time": "2021-12-21T19:53:54.308Z"
   },
   {
    "duration": 15,
    "start_time": "2021-12-21T19:53:54.313Z"
   },
   {
    "duration": 5,
    "start_time": "2021-12-21T19:53:54.330Z"
   },
   {
    "duration": 15,
    "start_time": "2021-12-21T19:53:54.337Z"
   },
   {
    "duration": 14,
    "start_time": "2021-12-21T19:53:54.353Z"
   },
   {
    "duration": 21,
    "start_time": "2021-12-21T19:53:54.406Z"
   },
   {
    "duration": 28,
    "start_time": "2021-12-21T19:53:54.430Z"
   },
   {
    "duration": 3932,
    "start_time": "2021-12-21T19:53:54.460Z"
   },
   {
    "duration": 20,
    "start_time": "2021-12-21T19:53:58.394Z"
   },
   {
    "duration": 8,
    "start_time": "2021-12-21T19:53:58.417Z"
   },
   {
    "duration": 18,
    "start_time": "2021-12-21T19:53:58.427Z"
   },
   {
    "duration": 11,
    "start_time": "2021-12-21T19:53:58.447Z"
   },
   {
    "duration": 49,
    "start_time": "2021-12-21T19:53:58.460Z"
   },
   {
    "duration": 6,
    "start_time": "2021-12-21T19:53:58.511Z"
   },
   {
    "duration": 10,
    "start_time": "2021-12-21T19:53:58.519Z"
   },
   {
    "duration": 13,
    "start_time": "2021-12-21T19:53:58.530Z"
   },
   {
    "duration": 377,
    "start_time": "2021-12-21T19:53:58.545Z"
   },
   {
    "duration": 26,
    "start_time": "2021-12-21T19:53:58.924Z"
   },
   {
    "duration": 732,
    "start_time": "2021-12-21T19:53:58.952Z"
   },
   {
    "duration": 7,
    "start_time": "2021-12-21T19:53:59.687Z"
   },
   {
    "duration": 49,
    "start_time": "2021-12-21T19:53:59.698Z"
   },
   {
    "duration": 4,
    "start_time": "2021-12-21T19:53:59.750Z"
   },
   {
    "duration": 191,
    "start_time": "2021-12-21T19:53:59.757Z"
   },
   {
    "duration": 10,
    "start_time": "2021-12-21T19:53:59.949Z"
   },
   {
    "duration": 11,
    "start_time": "2021-12-21T19:53:59.961Z"
   },
   {
    "duration": 7,
    "start_time": "2021-12-21T19:53:59.974Z"
   },
   {
    "duration": 24,
    "start_time": "2021-12-21T19:53:59.983Z"
   },
   {
    "duration": 9,
    "start_time": "2021-12-21T19:54:00.010Z"
   },
   {
    "duration": 15,
    "start_time": "2021-12-21T19:54:00.021Z"
   },
   {
    "duration": 12,
    "start_time": "2021-12-21T19:54:00.038Z"
   },
   {
    "duration": 13,
    "start_time": "2021-12-21T19:54:00.052Z"
   },
   {
    "duration": 231,
    "start_time": "2021-12-21T19:54:00.067Z"
   },
   {
    "duration": 16,
    "start_time": "2021-12-21T19:54:00.301Z"
   },
   {
    "duration": 32,
    "start_time": "2021-12-21T19:54:00.319Z"
   },
   {
    "duration": 24,
    "start_time": "2021-12-21T19:54:00.353Z"
   },
   {
    "duration": 66,
    "start_time": "2021-12-21T19:54:00.379Z"
   },
   {
    "duration": 9,
    "start_time": "2021-12-21T19:54:00.447Z"
   },
   {
    "duration": 25,
    "start_time": "2021-12-21T19:54:00.458Z"
   },
   {
    "duration": 43,
    "start_time": "2021-12-21T19:54:00.485Z"
   },
   {
    "duration": 22,
    "start_time": "2021-12-21T19:54:00.530Z"
   },
   {
    "duration": 41,
    "start_time": "2021-12-21T19:54:00.554Z"
   },
   {
    "duration": 22,
    "start_time": "2021-12-21T19:54:00.597Z"
   },
   {
    "duration": 35,
    "start_time": "2021-12-21T19:54:00.621Z"
   },
   {
    "duration": 9,
    "start_time": "2021-12-21T19:54:20.586Z"
   },
   {
    "duration": 9,
    "start_time": "2021-12-21T19:54:32.391Z"
   },
   {
    "duration": 10,
    "start_time": "2021-12-21T19:54:36.811Z"
   },
   {
    "duration": 9,
    "start_time": "2021-12-21T19:54:38.535Z"
   },
   {
    "duration": 8,
    "start_time": "2021-12-21T19:54:39.809Z"
   },
   {
    "duration": 8,
    "start_time": "2021-12-21T19:54:41.562Z"
   },
   {
    "duration": 811,
    "start_time": "2021-12-21T19:54:51.493Z"
   },
   {
    "duration": 24,
    "start_time": "2021-12-21T19:54:52.306Z"
   },
   {
    "duration": 8,
    "start_time": "2021-12-21T19:54:52.333Z"
   },
   {
    "duration": 20,
    "start_time": "2021-12-21T19:54:52.343Z"
   },
   {
    "duration": 9,
    "start_time": "2021-12-21T19:54:52.365Z"
   },
   {
    "duration": 37,
    "start_time": "2021-12-21T19:54:52.376Z"
   },
   {
    "duration": 21,
    "start_time": "2021-12-21T19:54:52.415Z"
   },
   {
    "duration": 28,
    "start_time": "2021-12-21T19:54:52.440Z"
   },
   {
    "duration": 64,
    "start_time": "2021-12-21T19:54:52.470Z"
   },
   {
    "duration": 4307,
    "start_time": "2021-12-21T19:54:52.536Z"
   },
   {
    "duration": 10,
    "start_time": "2021-12-21T19:54:56.846Z"
   },
   {
    "duration": 8,
    "start_time": "2021-12-21T19:54:56.858Z"
   },
   {
    "duration": 15,
    "start_time": "2021-12-21T19:54:56.868Z"
   },
   {
    "duration": 34,
    "start_time": "2021-12-21T19:54:56.885Z"
   },
   {
    "duration": 20,
    "start_time": "2021-12-21T19:54:56.921Z"
   },
   {
    "duration": 7,
    "start_time": "2021-12-21T19:54:56.943Z"
   },
   {
    "duration": 11,
    "start_time": "2021-12-21T19:54:56.952Z"
   },
   {
    "duration": 4,
    "start_time": "2021-12-21T19:54:56.964Z"
   },
   {
    "duration": 409,
    "start_time": "2021-12-21T19:54:56.971Z"
   },
   {
    "duration": 14,
    "start_time": "2021-12-21T19:54:57.382Z"
   },
   {
    "duration": 690,
    "start_time": "2021-12-21T19:54:57.406Z"
   },
   {
    "duration": 10,
    "start_time": "2021-12-21T19:54:58.098Z"
   },
   {
    "duration": 48,
    "start_time": "2021-12-21T19:54:58.112Z"
   },
   {
    "duration": 4,
    "start_time": "2021-12-21T19:54:58.162Z"
   },
   {
    "duration": 174,
    "start_time": "2021-12-21T19:54:58.167Z"
   },
   {
    "duration": 9,
    "start_time": "2021-12-21T19:54:58.342Z"
   },
   {
    "duration": 12,
    "start_time": "2021-12-21T19:54:58.353Z"
   },
   {
    "duration": 5,
    "start_time": "2021-12-21T19:54:58.366Z"
   },
   {
    "duration": 4,
    "start_time": "2021-12-21T19:54:58.373Z"
   },
   {
    "duration": 28,
    "start_time": "2021-12-21T19:54:58.379Z"
   },
   {
    "duration": 10,
    "start_time": "2021-12-21T19:54:58.409Z"
   },
   {
    "duration": 13,
    "start_time": "2021-12-21T19:54:58.421Z"
   },
   {
    "duration": 10,
    "start_time": "2021-12-21T19:54:58.436Z"
   },
   {
    "duration": 171,
    "start_time": "2021-12-21T19:54:58.448Z"
   },
   {
    "duration": 9,
    "start_time": "2021-12-21T19:54:58.621Z"
   },
   {
    "duration": 10,
    "start_time": "2021-12-21T19:54:58.632Z"
   },
   {
    "duration": 15,
    "start_time": "2021-12-21T19:54:58.643Z"
   },
   {
    "duration": 48,
    "start_time": "2021-12-21T19:54:58.660Z"
   },
   {
    "duration": 10,
    "start_time": "2021-12-21T19:54:58.709Z"
   },
   {
    "duration": 9,
    "start_time": "2021-12-21T19:54:58.721Z"
   },
   {
    "duration": 25,
    "start_time": "2021-12-21T19:54:58.732Z"
   },
   {
    "duration": 47,
    "start_time": "2021-12-21T19:54:58.759Z"
   },
   {
    "duration": 16,
    "start_time": "2021-12-21T19:54:58.808Z"
   },
   {
    "duration": 8,
    "start_time": "2021-12-21T19:54:58.826Z"
   },
   {
    "duration": 12,
    "start_time": "2021-12-21T19:54:58.835Z"
   },
   {
    "duration": 12,
    "start_time": "2021-12-21T19:55:52.541Z"
   },
   {
    "duration": 8472,
    "start_time": "2021-12-21T19:56:17.435Z"
   },
   {
    "duration": 9318,
    "start_time": "2021-12-21T19:56:30.165Z"
   },
   {
    "duration": 8781,
    "start_time": "2021-12-21T19:56:56.856Z"
   },
   {
    "duration": 756,
    "start_time": "2021-12-21T19:57:12.202Z"
   },
   {
    "duration": 29,
    "start_time": "2021-12-21T19:57:12.960Z"
   },
   {
    "duration": 15,
    "start_time": "2021-12-21T19:57:12.992Z"
   },
   {
    "duration": 12,
    "start_time": "2021-12-21T19:57:13.010Z"
   },
   {
    "duration": 6,
    "start_time": "2021-12-21T19:57:13.024Z"
   },
   {
    "duration": 16,
    "start_time": "2021-12-21T19:57:13.032Z"
   },
   {
    "duration": 14,
    "start_time": "2021-12-21T19:57:13.050Z"
   },
   {
    "duration": 49,
    "start_time": "2021-12-21T19:57:13.066Z"
   },
   {
    "duration": 33,
    "start_time": "2021-12-21T19:57:13.118Z"
   },
   {
    "duration": 4042,
    "start_time": "2021-12-21T19:57:13.153Z"
   },
   {
    "duration": 14,
    "start_time": "2021-12-21T19:57:17.197Z"
   },
   {
    "duration": 7,
    "start_time": "2021-12-21T19:57:17.213Z"
   },
   {
    "duration": 20,
    "start_time": "2021-12-21T19:57:17.222Z"
   },
   {
    "duration": 10,
    "start_time": "2021-12-21T19:57:17.244Z"
   },
   {
    "duration": 24,
    "start_time": "2021-12-21T19:57:17.255Z"
   },
   {
    "duration": 29,
    "start_time": "2021-12-21T19:57:17.281Z"
   },
   {
    "duration": 5,
    "start_time": "2021-12-21T19:57:17.312Z"
   },
   {
    "duration": 4,
    "start_time": "2021-12-21T19:57:17.319Z"
   },
   {
    "duration": 413,
    "start_time": "2021-12-21T19:57:17.324Z"
   },
   {
    "duration": 14,
    "start_time": "2021-12-21T19:57:17.739Z"
   },
   {
    "duration": 798,
    "start_time": "2021-12-21T19:57:17.756Z"
   },
   {
    "duration": 8,
    "start_time": "2021-12-21T19:57:18.556Z"
   },
   {
    "duration": 63,
    "start_time": "2021-12-21T19:57:18.567Z"
   },
   {
    "duration": 5,
    "start_time": "2021-12-21T19:57:18.632Z"
   },
   {
    "duration": 176,
    "start_time": "2021-12-21T19:57:18.640Z"
   },
   {
    "duration": 9,
    "start_time": "2021-12-21T19:57:18.818Z"
   },
   {
    "duration": 10,
    "start_time": "2021-12-21T19:57:18.828Z"
   },
   {
    "duration": 5,
    "start_time": "2021-12-21T19:57:18.839Z"
   },
   {
    "duration": 4,
    "start_time": "2021-12-21T19:57:18.846Z"
   },
   {
    "duration": 8,
    "start_time": "2021-12-21T19:57:18.852Z"
   },
   {
    "duration": 48,
    "start_time": "2021-12-21T19:57:18.862Z"
   },
   {
    "duration": 11,
    "start_time": "2021-12-21T19:57:18.912Z"
   },
   {
    "duration": 10,
    "start_time": "2021-12-21T19:57:18.925Z"
   },
   {
    "duration": 160,
    "start_time": "2021-12-21T19:57:18.937Z"
   },
   {
    "duration": 13,
    "start_time": "2021-12-21T19:57:19.099Z"
   },
   {
    "duration": 10,
    "start_time": "2021-12-21T19:57:19.113Z"
   },
   {
    "duration": 16,
    "start_time": "2021-12-21T19:57:19.125Z"
   },
   {
    "duration": 30,
    "start_time": "2021-12-21T19:57:19.142Z"
   },
   {
    "duration": 34,
    "start_time": "2021-12-21T19:57:19.173Z"
   },
   {
    "duration": 10,
    "start_time": "2021-12-21T19:57:19.209Z"
   },
   {
    "duration": 25,
    "start_time": "2021-12-21T19:57:19.221Z"
   },
   {
    "duration": 488,
    "start_time": "2021-12-21T19:57:19.248Z"
   },
   {
    "duration": -1465,
    "start_time": "2021-12-21T19:57:21.203Z"
   },
   {
    "duration": -1470,
    "start_time": "2021-12-21T19:57:21.209Z"
   },
   {
    "duration": -1477,
    "start_time": "2021-12-21T19:57:21.217Z"
   },
   {
    "duration": 11,
    "start_time": "2021-12-21T19:57:44.627Z"
   },
   {
    "duration": 359,
    "start_time": "2021-12-21T19:59:53.523Z"
   },
   {
    "duration": 349,
    "start_time": "2021-12-21T20:00:25.404Z"
   },
   {
    "duration": 709,
    "start_time": "2021-12-21T20:00:33.923Z"
   },
   {
    "duration": 21,
    "start_time": "2021-12-21T20:00:34.634Z"
   },
   {
    "duration": 5,
    "start_time": "2021-12-21T20:00:34.657Z"
   },
   {
    "duration": 11,
    "start_time": "2021-12-21T20:00:34.664Z"
   },
   {
    "duration": 4,
    "start_time": "2021-12-21T20:00:34.677Z"
   },
   {
    "duration": 34,
    "start_time": "2021-12-21T20:00:34.683Z"
   },
   {
    "duration": 13,
    "start_time": "2021-12-21T20:00:34.719Z"
   },
   {
    "duration": 15,
    "start_time": "2021-12-21T20:00:34.735Z"
   },
   {
    "duration": 55,
    "start_time": "2021-12-21T20:00:34.752Z"
   },
   {
    "duration": 3435,
    "start_time": "2021-12-21T20:00:34.809Z"
   },
   {
    "duration": 10,
    "start_time": "2021-12-21T20:00:38.247Z"
   },
   {
    "duration": 20,
    "start_time": "2021-12-21T20:00:38.259Z"
   },
   {
    "duration": 30,
    "start_time": "2021-12-21T20:00:38.280Z"
   },
   {
    "duration": 22,
    "start_time": "2021-12-21T20:00:38.311Z"
   },
   {
    "duration": 49,
    "start_time": "2021-12-21T20:00:38.335Z"
   },
   {
    "duration": 19,
    "start_time": "2021-12-21T20:00:38.386Z"
   },
   {
    "duration": 15,
    "start_time": "2021-12-21T20:00:38.407Z"
   },
   {
    "duration": 16,
    "start_time": "2021-12-21T20:00:38.424Z"
   },
   {
    "duration": 411,
    "start_time": "2021-12-21T20:00:38.441Z"
   },
   {
    "duration": 13,
    "start_time": "2021-12-21T20:00:38.854Z"
   },
   {
    "duration": 706,
    "start_time": "2021-12-21T20:00:38.868Z"
   },
   {
    "duration": 8,
    "start_time": "2021-12-21T20:00:39.575Z"
   },
   {
    "duration": 51,
    "start_time": "2021-12-21T20:00:39.586Z"
   },
   {
    "duration": 4,
    "start_time": "2021-12-21T20:00:39.639Z"
   },
   {
    "duration": 172,
    "start_time": "2021-12-21T20:00:39.644Z"
   },
   {
    "duration": 8,
    "start_time": "2021-12-21T20:00:39.818Z"
   },
   {
    "duration": 10,
    "start_time": "2021-12-21T20:00:39.828Z"
   },
   {
    "duration": 6,
    "start_time": "2021-12-21T20:00:39.839Z"
   },
   {
    "duration": 4,
    "start_time": "2021-12-21T20:00:39.847Z"
   },
   {
    "duration": 7,
    "start_time": "2021-12-21T20:00:39.853Z"
   },
   {
    "duration": 45,
    "start_time": "2021-12-21T20:00:39.862Z"
   },
   {
    "duration": 13,
    "start_time": "2021-12-21T20:00:39.908Z"
   },
   {
    "duration": 10,
    "start_time": "2021-12-21T20:00:39.923Z"
   },
   {
    "duration": 159,
    "start_time": "2021-12-21T20:00:39.935Z"
   },
   {
    "duration": 13,
    "start_time": "2021-12-21T20:00:40.095Z"
   },
   {
    "duration": 10,
    "start_time": "2021-12-21T20:00:40.110Z"
   },
   {
    "duration": 14,
    "start_time": "2021-12-21T20:00:40.121Z"
   },
   {
    "duration": 22,
    "start_time": "2021-12-21T20:00:40.137Z"
   },
   {
    "duration": 9,
    "start_time": "2021-12-21T20:00:40.161Z"
   },
   {
    "duration": 43,
    "start_time": "2021-12-21T20:00:40.171Z"
   },
   {
    "duration": 24,
    "start_time": "2021-12-21T20:00:40.215Z"
   },
   {
    "duration": 417,
    "start_time": "2021-12-21T20:00:40.240Z"
   },
   {
    "duration": -1407,
    "start_time": "2021-12-21T20:00:42.066Z"
   },
   {
    "duration": -1412,
    "start_time": "2021-12-21T20:00:42.072Z"
   },
   {
    "duration": -1440,
    "start_time": "2021-12-21T20:00:42.101Z"
   },
   {
    "duration": 353,
    "start_time": "2021-12-21T20:00:50.586Z"
   },
   {
    "duration": 117,
    "start_time": "2021-12-21T20:01:03.157Z"
   },
   {
    "duration": 910,
    "start_time": "2021-12-21T20:01:12.089Z"
   },
   {
    "duration": 122,
    "start_time": "2021-12-21T20:01:38.054Z"
   },
   {
    "duration": 127,
    "start_time": "2021-12-21T20:01:43.779Z"
   },
   {
    "duration": 13,
    "start_time": "2021-12-21T20:01:55.216Z"
   },
   {
    "duration": 11,
    "start_time": "2021-12-21T20:02:03.695Z"
   },
   {
    "duration": 356,
    "start_time": "2021-12-21T20:03:25.666Z"
   },
   {
    "duration": 8,
    "start_time": "2021-12-21T20:03:43.601Z"
   },
   {
    "duration": 11,
    "start_time": "2021-12-21T20:04:01.853Z"
   },
   {
    "duration": 341,
    "start_time": "2021-12-21T20:04:15.514Z"
   },
   {
    "duration": 17,
    "start_time": "2021-12-21T20:04:29.500Z"
   },
   {
    "duration": 7,
    "start_time": "2021-12-21T20:04:37.141Z"
   },
   {
    "duration": 7,
    "start_time": "2021-12-21T20:06:13.532Z"
   },
   {
    "duration": 702,
    "start_time": "2021-12-21T20:06:25.144Z"
   },
   {
    "duration": 22,
    "start_time": "2021-12-21T20:06:25.848Z"
   },
   {
    "duration": 4,
    "start_time": "2021-12-21T20:06:25.873Z"
   },
   {
    "duration": 31,
    "start_time": "2021-12-21T20:06:25.879Z"
   },
   {
    "duration": 5,
    "start_time": "2021-12-21T20:06:25.912Z"
   },
   {
    "duration": 14,
    "start_time": "2021-12-21T20:06:25.919Z"
   },
   {
    "duration": 16,
    "start_time": "2021-12-21T20:06:25.935Z"
   },
   {
    "duration": 52,
    "start_time": "2021-12-21T20:06:25.954Z"
   },
   {
    "duration": 32,
    "start_time": "2021-12-21T20:06:26.009Z"
   },
   {
    "duration": 3969,
    "start_time": "2021-12-21T20:06:26.043Z"
   },
   {
    "duration": 10,
    "start_time": "2021-12-21T20:06:30.014Z"
   },
   {
    "duration": 5,
    "start_time": "2021-12-21T20:06:30.026Z"
   },
   {
    "duration": 20,
    "start_time": "2021-12-21T20:06:30.033Z"
   },
   {
    "duration": 13,
    "start_time": "2021-12-21T20:06:30.055Z"
   },
   {
    "duration": 41,
    "start_time": "2021-12-21T20:06:30.070Z"
   },
   {
    "duration": 29,
    "start_time": "2021-12-21T20:06:30.113Z"
   },
   {
    "duration": 17,
    "start_time": "2021-12-21T20:06:30.144Z"
   },
   {
    "duration": 7,
    "start_time": "2021-12-21T20:06:30.163Z"
   },
   {
    "duration": 363,
    "start_time": "2021-12-21T20:06:30.172Z"
   },
   {
    "duration": 14,
    "start_time": "2021-12-21T20:06:30.537Z"
   },
   {
    "duration": 722,
    "start_time": "2021-12-21T20:06:30.553Z"
   },
   {
    "duration": 9,
    "start_time": "2021-12-21T20:06:31.277Z"
   },
   {
    "duration": 61,
    "start_time": "2021-12-21T20:06:31.289Z"
   },
   {
    "duration": 5,
    "start_time": "2021-12-21T20:06:31.352Z"
   },
   {
    "duration": 169,
    "start_time": "2021-12-21T20:06:31.359Z"
   },
   {
    "duration": 10,
    "start_time": "2021-12-21T20:06:31.530Z"
   },
   {
    "duration": 10,
    "start_time": "2021-12-21T20:06:31.542Z"
   },
   {
    "duration": 5,
    "start_time": "2021-12-21T20:06:31.554Z"
   },
   {
    "duration": 4,
    "start_time": "2021-12-21T20:06:31.561Z"
   },
   {
    "duration": 6,
    "start_time": "2021-12-21T20:06:31.567Z"
   },
   {
    "duration": 43,
    "start_time": "2021-12-21T20:06:31.575Z"
   },
   {
    "duration": 11,
    "start_time": "2021-12-21T20:06:31.620Z"
   },
   {
    "duration": 9,
    "start_time": "2021-12-21T20:06:31.632Z"
   },
   {
    "duration": 158,
    "start_time": "2021-12-21T20:06:31.643Z"
   },
   {
    "duration": 9,
    "start_time": "2021-12-21T20:06:31.802Z"
   },
   {
    "duration": 11,
    "start_time": "2021-12-21T20:06:31.813Z"
   },
   {
    "duration": 15,
    "start_time": "2021-12-21T20:06:31.826Z"
   },
   {
    "duration": 24,
    "start_time": "2021-12-21T20:06:31.843Z"
   },
   {
    "duration": 44,
    "start_time": "2021-12-21T20:06:31.869Z"
   },
   {
    "duration": 11,
    "start_time": "2021-12-21T20:06:31.914Z"
   },
   {
    "duration": 42,
    "start_time": "2021-12-21T20:06:31.927Z"
   },
   {
    "duration": 16,
    "start_time": "2021-12-21T20:06:31.971Z"
   },
   {
    "duration": 16,
    "start_time": "2021-12-21T20:06:32.006Z"
   },
   {
    "duration": 9,
    "start_time": "2021-12-21T20:06:32.024Z"
   },
   {
    "duration": 12,
    "start_time": "2021-12-21T20:06:32.036Z"
   },
   {
    "duration": 8,
    "start_time": "2021-12-21T20:20:27.096Z"
   },
   {
    "duration": 714,
    "start_time": "2021-12-21T20:20:36.919Z"
   },
   {
    "duration": 22,
    "start_time": "2021-12-21T20:20:37.636Z"
   },
   {
    "duration": 11,
    "start_time": "2021-12-21T20:20:37.660Z"
   },
   {
    "duration": 13,
    "start_time": "2021-12-21T20:20:37.673Z"
   },
   {
    "duration": 5,
    "start_time": "2021-12-21T20:20:37.688Z"
   },
   {
    "duration": 13,
    "start_time": "2021-12-21T20:20:37.707Z"
   },
   {
    "duration": 14,
    "start_time": "2021-12-21T20:20:37.721Z"
   },
   {
    "duration": 14,
    "start_time": "2021-12-21T20:20:37.738Z"
   },
   {
    "duration": 57,
    "start_time": "2021-12-21T20:20:37.754Z"
   },
   {
    "duration": 4182,
    "start_time": "2021-12-21T20:20:37.813Z"
   },
   {
    "duration": 14,
    "start_time": "2021-12-21T20:20:42.006Z"
   },
   {
    "duration": 6,
    "start_time": "2021-12-21T20:20:42.022Z"
   },
   {
    "duration": 16,
    "start_time": "2021-12-21T20:20:42.029Z"
   },
   {
    "duration": 11,
    "start_time": "2021-12-21T20:20:42.047Z"
   },
   {
    "duration": 48,
    "start_time": "2021-12-21T20:20:42.060Z"
   },
   {
    "duration": 10,
    "start_time": "2021-12-21T20:20:42.110Z"
   },
   {
    "duration": 6,
    "start_time": "2021-12-21T20:20:42.122Z"
   },
   {
    "duration": 4,
    "start_time": "2021-12-21T20:20:42.129Z"
   },
   {
    "duration": 398,
    "start_time": "2021-12-21T20:20:42.135Z"
   },
   {
    "duration": 15,
    "start_time": "2021-12-21T20:20:42.535Z"
   },
   {
    "duration": 728,
    "start_time": "2021-12-21T20:20:42.552Z"
   },
   {
    "duration": 8,
    "start_time": "2021-12-21T20:20:43.281Z"
   },
   {
    "duration": 55,
    "start_time": "2021-12-21T20:20:43.292Z"
   },
   {
    "duration": 5,
    "start_time": "2021-12-21T20:20:43.349Z"
   },
   {
    "duration": 186,
    "start_time": "2021-12-21T20:20:43.356Z"
   },
   {
    "duration": 9,
    "start_time": "2021-12-21T20:20:43.544Z"
   },
   {
    "duration": 11,
    "start_time": "2021-12-21T20:20:43.554Z"
   },
   {
    "duration": 6,
    "start_time": "2021-12-21T20:20:43.566Z"
   },
   {
    "duration": 4,
    "start_time": "2021-12-21T20:20:43.574Z"
   },
   {
    "duration": 29,
    "start_time": "2021-12-21T20:20:43.580Z"
   },
   {
    "duration": 14,
    "start_time": "2021-12-21T20:20:43.611Z"
   },
   {
    "duration": 17,
    "start_time": "2021-12-21T20:20:43.627Z"
   },
   {
    "duration": 13,
    "start_time": "2021-12-21T20:20:43.646Z"
   },
   {
    "duration": 248,
    "start_time": "2021-12-21T20:20:43.661Z"
   },
   {
    "duration": 8,
    "start_time": "2021-12-21T20:20:43.911Z"
   },
   {
    "duration": 10,
    "start_time": "2021-12-21T20:20:43.921Z"
   },
   {
    "duration": 16,
    "start_time": "2021-12-21T20:20:43.932Z"
   },
   {
    "duration": 26,
    "start_time": "2021-12-21T20:20:43.950Z"
   },
   {
    "duration": 37,
    "start_time": "2021-12-21T20:20:43.978Z"
   },
   {
    "duration": 9,
    "start_time": "2021-12-21T20:20:44.017Z"
   },
   {
    "duration": 24,
    "start_time": "2021-12-21T20:20:44.028Z"
   },
   {
    "duration": 11,
    "start_time": "2021-12-21T20:20:44.054Z"
   },
   {
    "duration": 49,
    "start_time": "2021-12-21T20:20:44.067Z"
   },
   {
    "duration": 8,
    "start_time": "2021-12-21T20:20:44.117Z"
   },
   {
    "duration": 11,
    "start_time": "2021-12-21T20:20:57.128Z"
   },
   {
    "duration": 680,
    "start_time": "2021-12-21T20:30:47.449Z"
   },
   {
    "duration": 23,
    "start_time": "2021-12-21T20:30:48.131Z"
   },
   {
    "duration": 4,
    "start_time": "2021-12-21T20:30:48.156Z"
   },
   {
    "duration": 12,
    "start_time": "2021-12-21T20:30:48.163Z"
   },
   {
    "duration": 29,
    "start_time": "2021-12-21T20:30:48.177Z"
   },
   {
    "duration": 14,
    "start_time": "2021-12-21T20:30:48.208Z"
   },
   {
    "duration": 14,
    "start_time": "2021-12-21T20:30:48.224Z"
   },
   {
    "duration": 15,
    "start_time": "2021-12-21T20:30:48.240Z"
   },
   {
    "duration": 59,
    "start_time": "2021-12-21T20:30:48.257Z"
   },
   {
    "duration": 1629,
    "start_time": "2021-12-22T06:46:35.266Z"
   },
   {
    "duration": 33,
    "start_time": "2021-12-22T06:46:37.348Z"
   },
   {
    "duration": 5,
    "start_time": "2021-12-22T06:46:37.545Z"
   },
   {
    "duration": 14,
    "start_time": "2021-12-22T06:46:38.456Z"
   },
   {
    "duration": 7,
    "start_time": "2021-12-22T06:46:38.607Z"
   },
   {
    "duration": 17,
    "start_time": "2021-12-22T06:46:38.760Z"
   },
   {
    "duration": 29,
    "start_time": "2021-12-22T06:46:39.528Z"
   },
   {
    "duration": 44,
    "start_time": "2021-12-22T06:46:40.303Z"
   },
   {
    "duration": 48,
    "start_time": "2021-12-22T06:46:40.456Z"
   },
   {
    "duration": 5527,
    "start_time": "2021-12-22T06:46:41.736Z"
   },
   {
    "duration": 20,
    "start_time": "2021-12-22T06:46:47.267Z"
   },
   {
    "duration": 6,
    "start_time": "2021-12-22T06:46:47.291Z"
   },
   {
    "duration": 31,
    "start_time": "2021-12-22T06:46:47.327Z"
   },
   {
    "duration": 14,
    "start_time": "2021-12-22T06:46:47.361Z"
   },
   {
    "duration": 59,
    "start_time": "2021-12-22T06:46:47.378Z"
   },
   {
    "duration": 19,
    "start_time": "2021-12-22T06:46:47.440Z"
   },
   {
    "duration": 7,
    "start_time": "2021-12-22T06:46:47.464Z"
   },
   {
    "duration": 4,
    "start_time": "2021-12-22T06:46:47.474Z"
   },
   {
    "duration": 761,
    "start_time": "2021-12-22T06:46:47.481Z"
   },
   {
    "duration": 19,
    "start_time": "2021-12-22T06:46:48.249Z"
   },
   {
    "duration": 1065,
    "start_time": "2021-12-22T06:46:48.271Z"
   },
   {
    "duration": 18,
    "start_time": "2021-12-22T06:46:49.339Z"
   },
   {
    "duration": 97,
    "start_time": "2021-12-22T06:46:49.360Z"
   },
   {
    "duration": 7,
    "start_time": "2021-12-22T06:46:49.460Z"
   },
   {
    "duration": 313,
    "start_time": "2021-12-22T06:46:49.471Z"
   },
   {
    "duration": 13,
    "start_time": "2021-12-22T06:46:49.787Z"
   },
   {
    "duration": 40,
    "start_time": "2021-12-22T06:46:49.803Z"
   },
   {
    "duration": 28,
    "start_time": "2021-12-22T06:46:49.846Z"
   },
   {
    "duration": 17,
    "start_time": "2021-12-22T06:46:49.878Z"
   },
   {
    "duration": 15,
    "start_time": "2021-12-22T06:46:49.898Z"
   },
   {
    "duration": 25,
    "start_time": "2021-12-22T06:46:49.916Z"
   },
   {
    "duration": 19,
    "start_time": "2021-12-22T06:46:49.945Z"
   },
   {
    "duration": 21,
    "start_time": "2021-12-22T06:46:49.966Z"
   },
   {
    "duration": 288,
    "start_time": "2021-12-22T06:46:49.990Z"
   },
   {
    "duration": 13,
    "start_time": "2021-12-22T06:46:50.281Z"
   },
   {
    "duration": 39,
    "start_time": "2021-12-22T06:46:50.296Z"
   },
   {
    "duration": 33,
    "start_time": "2021-12-22T06:46:50.339Z"
   },
   {
    "duration": 68,
    "start_time": "2021-12-22T06:46:50.375Z"
   },
   {
    "duration": 19,
    "start_time": "2021-12-22T06:46:50.446Z"
   },
   {
    "duration": 15,
    "start_time": "2021-12-22T06:46:50.469Z"
   },
   {
    "duration": 73,
    "start_time": "2021-12-22T06:46:50.487Z"
   },
   {
    "duration": 16,
    "start_time": "2021-12-22T06:46:50.586Z"
   },
   {
    "duration": 23,
    "start_time": "2021-12-22T06:46:50.768Z"
   },
   {
    "duration": 11,
    "start_time": "2021-12-22T06:46:50.954Z"
   },
   {
    "duration": 1160,
    "start_time": "2022-01-12T12:50:05.516Z"
   },
   {
    "duration": 36,
    "start_time": "2022-01-12T12:50:06.679Z"
   },
   {
    "duration": 5,
    "start_time": "2022-01-12T12:50:06.717Z"
   },
   {
    "duration": 48,
    "start_time": "2022-01-12T12:50:06.724Z"
   },
   {
    "duration": 8,
    "start_time": "2022-01-12T12:50:06.778Z"
   },
   {
    "duration": 21,
    "start_time": "2022-01-12T12:50:06.789Z"
   },
   {
    "duration": 60,
    "start_time": "2022-01-12T12:50:06.812Z"
   },
   {
    "duration": 24,
    "start_time": "2022-01-12T12:50:06.878Z"
   },
   {
    "duration": 81,
    "start_time": "2022-01-12T12:50:06.906Z"
   },
   {
    "duration": 6004,
    "start_time": "2022-01-12T12:50:06.989Z"
   },
   {
    "duration": 18,
    "start_time": "2022-01-12T12:50:12.996Z"
   },
   {
    "duration": 8,
    "start_time": "2022-01-12T12:50:13.018Z"
   },
   {
    "duration": 29,
    "start_time": "2022-01-12T12:50:13.060Z"
   },
   {
    "duration": 18,
    "start_time": "2022-01-12T12:50:13.092Z"
   },
   {
    "duration": 51,
    "start_time": "2022-01-12T12:50:13.112Z"
   },
   {
    "duration": 12,
    "start_time": "2022-01-12T12:50:13.166Z"
   },
   {
    "duration": 8,
    "start_time": "2022-01-12T12:50:13.181Z"
   },
   {
    "duration": 5,
    "start_time": "2022-01-12T12:50:13.193Z"
   },
   {
    "duration": 748,
    "start_time": "2022-01-12T12:50:13.201Z"
   },
   {
    "duration": 37,
    "start_time": "2022-01-12T12:50:13.952Z"
   },
   {
    "duration": 1061,
    "start_time": "2022-01-12T12:50:13.991Z"
   },
   {
    "duration": 18,
    "start_time": "2022-01-12T12:50:15.055Z"
   },
   {
    "duration": 106,
    "start_time": "2022-01-12T12:50:15.076Z"
   },
   {
    "duration": 5,
    "start_time": "2022-01-12T12:50:15.185Z"
   },
   {
    "duration": 282,
    "start_time": "2022-01-12T12:50:15.193Z"
   },
   {
    "duration": 13,
    "start_time": "2022-01-12T12:50:15.480Z"
   },
   {
    "duration": 17,
    "start_time": "2022-01-12T12:50:15.496Z"
   },
   {
    "duration": 9,
    "start_time": "2022-01-12T12:50:15.515Z"
   },
   {
    "duration": 37,
    "start_time": "2022-01-12T12:50:15.526Z"
   },
   {
    "duration": 16,
    "start_time": "2022-01-12T12:50:15.567Z"
   },
   {
    "duration": 20,
    "start_time": "2022-01-12T12:50:15.586Z"
   },
   {
    "duration": 58,
    "start_time": "2022-01-12T12:50:15.609Z"
   },
   {
    "duration": 35,
    "start_time": "2022-01-12T12:50:15.670Z"
   },
   {
    "duration": 227,
    "start_time": "2022-01-12T12:50:15.707Z"
   },
   {
    "duration": 25,
    "start_time": "2022-01-12T12:50:15.936Z"
   },
   {
    "duration": 14,
    "start_time": "2022-01-12T12:50:15.964Z"
   },
   {
    "duration": 32,
    "start_time": "2022-01-12T12:50:15.982Z"
   },
   {
    "duration": 76,
    "start_time": "2022-01-12T12:50:16.017Z"
   },
   {
    "duration": 19,
    "start_time": "2022-01-12T12:50:16.096Z"
   },
   {
    "duration": 18,
    "start_time": "2022-01-12T12:50:16.118Z"
   },
   {
    "duration": 36,
    "start_time": "2022-01-12T12:50:16.172Z"
   },
   {
    "duration": 22,
    "start_time": "2022-01-12T12:50:16.211Z"
   },
   {
    "duration": 44,
    "start_time": "2022-01-12T12:50:16.236Z"
   },
   {
    "duration": 11,
    "start_time": "2022-01-12T12:50:16.283Z"
   },
   {
    "duration": 929,
    "start_time": "2022-01-13T10:07:57.991Z"
   },
   {
    "duration": 35,
    "start_time": "2022-01-13T10:07:58.923Z"
   },
   {
    "duration": 5,
    "start_time": "2022-01-13T10:07:58.962Z"
   },
   {
    "duration": 45,
    "start_time": "2022-01-13T10:07:58.970Z"
   },
   {
    "duration": 7,
    "start_time": "2022-01-13T10:07:59.018Z"
   },
   {
    "duration": 22,
    "start_time": "2022-01-13T10:07:59.028Z"
   },
   {
    "duration": 61,
    "start_time": "2022-01-13T10:07:59.053Z"
   },
   {
    "duration": 23,
    "start_time": "2022-01-13T10:07:59.117Z"
   },
   {
    "duration": 67,
    "start_time": "2022-01-13T10:07:59.143Z"
   },
   {
    "duration": 4720,
    "start_time": "2022-01-13T10:07:59.213Z"
   },
   {
    "duration": 16,
    "start_time": "2022-01-13T10:08:03.936Z"
   },
   {
    "duration": 8,
    "start_time": "2022-01-13T10:08:03.955Z"
   },
   {
    "duration": 49,
    "start_time": "2022-01-13T10:08:03.975Z"
   },
   {
    "duration": 14,
    "start_time": "2022-01-13T10:08:04.027Z"
   },
   {
    "duration": 25,
    "start_time": "2022-01-13T10:08:04.044Z"
   },
   {
    "duration": 9,
    "start_time": "2022-01-13T10:08:04.102Z"
   },
   {
    "duration": 11,
    "start_time": "2022-01-13T10:08:04.114Z"
   },
   {
    "duration": 6,
    "start_time": "2022-01-13T10:08:04.128Z"
   },
   {
    "duration": 690,
    "start_time": "2022-01-13T10:08:04.137Z"
   },
   {
    "duration": 22,
    "start_time": "2022-01-13T10:08:04.830Z"
   },
   {
    "duration": 1093,
    "start_time": "2022-01-13T10:08:04.856Z"
   },
   {
    "duration": 11,
    "start_time": "2022-01-13T10:08:05.951Z"
   },
   {
    "duration": 85,
    "start_time": "2022-01-13T10:08:05.967Z"
   },
   {
    "duration": 6,
    "start_time": "2022-01-13T10:08:06.056Z"
   },
   {
    "duration": 295,
    "start_time": "2022-01-13T10:08:06.065Z"
   },
   {
    "duration": 13,
    "start_time": "2022-01-13T10:08:06.363Z"
   },
   {
    "duration": 34,
    "start_time": "2022-01-13T10:08:06.379Z"
   },
   {
    "duration": 6,
    "start_time": "2022-01-13T10:08:06.416Z"
   },
   {
    "duration": 7,
    "start_time": "2022-01-13T10:08:06.425Z"
   },
   {
    "duration": 11,
    "start_time": "2022-01-13T10:08:06.434Z"
   },
   {
    "duration": 61,
    "start_time": "2022-01-13T10:08:06.447Z"
   },
   {
    "duration": 19,
    "start_time": "2022-01-13T10:08:06.511Z"
   },
   {
    "duration": 17,
    "start_time": "2022-01-13T10:08:06.533Z"
   },
   {
    "duration": 274,
    "start_time": "2022-01-13T10:08:06.553Z"
   },
   {
    "duration": 14,
    "start_time": "2022-01-13T10:08:06.831Z"
   },
   {
    "duration": 14,
    "start_time": "2022-01-13T10:08:06.848Z"
   },
   {
    "duration": 66,
    "start_time": "2022-01-13T10:08:06.865Z"
   },
   {
    "duration": 41,
    "start_time": "2022-01-13T10:08:06.934Z"
   },
   {
    "duration": 30,
    "start_time": "2022-01-13T10:08:06.977Z"
   },
   {
    "duration": 13,
    "start_time": "2022-01-13T10:08:07.010Z"
   },
   {
    "duration": 36,
    "start_time": "2022-01-13T10:08:07.026Z"
   },
   {
    "duration": 48,
    "start_time": "2022-01-13T10:08:07.064Z"
   },
   {
    "duration": 29,
    "start_time": "2022-01-13T10:08:07.114Z"
   },
   {
    "duration": 10,
    "start_time": "2022-01-13T10:08:07.145Z"
   },
   {
    "duration": 1155,
    "start_time": "2022-02-18T14:45:19.899Z"
   },
   {
    "duration": 4,
    "start_time": "2022-02-18T14:45:21.182Z"
   },
   {
    "duration": 263,
    "start_time": "2022-02-18T14:45:22.821Z"
   },
   {
    "duration": 642,
    "start_time": "2022-02-18T14:45:43.918Z"
   },
   {
    "duration": 23,
    "start_time": "2022-02-18T14:45:44.562Z"
   },
   {
    "duration": 7,
    "start_time": "2022-02-18T14:45:44.587Z"
   },
   {
    "duration": 14,
    "start_time": "2022-02-18T14:45:44.597Z"
   },
   {
    "duration": 5,
    "start_time": "2022-02-18T14:45:44.613Z"
   },
   {
    "duration": 40,
    "start_time": "2022-02-18T14:45:44.620Z"
   },
   {
    "duration": 16,
    "start_time": "2022-02-18T14:45:44.662Z"
   },
   {
    "duration": 15,
    "start_time": "2022-02-18T14:45:44.680Z"
   },
   {
    "duration": 66,
    "start_time": "2022-02-18T14:45:44.699Z"
   },
   {
    "duration": 3637,
    "start_time": "2022-02-18T14:45:44.768Z"
   },
   {
    "duration": 9,
    "start_time": "2022-02-18T14:45:48.407Z"
   },
   {
    "duration": 5,
    "start_time": "2022-02-18T14:45:48.418Z"
   },
   {
    "duration": 35,
    "start_time": "2022-02-18T14:45:48.425Z"
   },
   {
    "duration": 10,
    "start_time": "2022-02-18T14:45:48.462Z"
   },
   {
    "duration": 17,
    "start_time": "2022-02-18T14:45:48.473Z"
   },
   {
    "duration": 8,
    "start_time": "2022-02-18T14:45:48.492Z"
   },
   {
    "duration": 7,
    "start_time": "2022-02-18T14:45:48.501Z"
   },
   {
    "duration": 4,
    "start_time": "2022-02-18T14:45:48.509Z"
   },
   {
    "duration": 395,
    "start_time": "2022-02-18T14:45:48.515Z"
   },
   {
    "duration": 11,
    "start_time": "2022-02-18T14:45:48.911Z"
   },
   {
    "duration": 712,
    "start_time": "2022-02-18T14:45:48.924Z"
   },
   {
    "duration": 9,
    "start_time": "2022-02-18T14:45:49.638Z"
   },
   {
    "duration": 43,
    "start_time": "2022-02-18T14:45:49.659Z"
   },
   {
    "duration": 5,
    "start_time": "2022-02-18T14:45:49.704Z"
   },
   {
    "duration": 185,
    "start_time": "2022-02-18T14:45:49.711Z"
   },
   {
    "duration": 9,
    "start_time": "2022-02-18T14:45:49.898Z"
   },
   {
    "duration": 9,
    "start_time": "2022-02-18T14:45:49.911Z"
   },
   {
    "duration": 8,
    "start_time": "2022-02-18T14:45:49.921Z"
   },
   {
    "duration": 7,
    "start_time": "2022-02-18T14:45:49.930Z"
   },
   {
    "duration": 25,
    "start_time": "2022-02-18T14:45:49.939Z"
   },
   {
    "duration": 11,
    "start_time": "2022-02-18T14:45:49.966Z"
   },
   {
    "duration": 12,
    "start_time": "2022-02-18T14:45:49.978Z"
   },
   {
    "duration": 9,
    "start_time": "2022-02-18T14:45:49.991Z"
   },
   {
    "duration": 172,
    "start_time": "2022-02-18T14:45:50.002Z"
   },
   {
    "duration": 9,
    "start_time": "2022-02-18T14:45:50.175Z"
   },
   {
    "duration": 16,
    "start_time": "2022-02-18T14:45:50.185Z"
   },
   {
    "duration": 18,
    "start_time": "2022-02-18T14:45:50.202Z"
   },
   {
    "duration": 38,
    "start_time": "2022-02-18T14:45:50.222Z"
   },
   {
    "duration": 10,
    "start_time": "2022-02-18T14:45:50.262Z"
   },
   {
    "duration": 9,
    "start_time": "2022-02-18T14:45:50.273Z"
   },
   {
    "duration": 23,
    "start_time": "2022-02-18T14:45:50.284Z"
   },
   {
    "duration": 11,
    "start_time": "2022-02-18T14:45:50.309Z"
   },
   {
    "duration": 51,
    "start_time": "2022-02-18T14:45:50.321Z"
   },
   {
    "duration": 8,
    "start_time": "2022-02-18T14:45:50.373Z"
   },
   {
    "duration": 6,
    "start_time": "2022-02-18T18:07:49.859Z"
   },
   {
    "duration": 5,
    "start_time": "2022-02-18T18:07:54.250Z"
   },
   {
    "duration": 4,
    "start_time": "2022-02-18T18:08:07.390Z"
   },
   {
    "duration": 4,
    "start_time": "2022-02-18T18:08:28.076Z"
   },
   {
    "duration": 5,
    "start_time": "2022-02-18T18:08:54.377Z"
   },
   {
    "duration": 4,
    "start_time": "2022-02-18T18:09:03.727Z"
   },
   {
    "duration": 477,
    "start_time": "2022-02-18T18:10:16.102Z"
   },
   {
    "duration": 666,
    "start_time": "2022-02-18T18:10:35.857Z"
   },
   {
    "duration": 26,
    "start_time": "2022-02-18T18:10:36.526Z"
   },
   {
    "duration": 30,
    "start_time": "2022-02-18T18:10:36.554Z"
   },
   {
    "duration": 32,
    "start_time": "2022-02-18T18:10:36.586Z"
   },
   {
    "duration": 14,
    "start_time": "2022-02-18T18:10:36.620Z"
   },
   {
    "duration": 40,
    "start_time": "2022-02-18T18:10:36.636Z"
   },
   {
    "duration": 46,
    "start_time": "2022-02-18T18:10:36.678Z"
   },
   {
    "duration": 17,
    "start_time": "2022-02-18T18:10:36.725Z"
   },
   {
    "duration": 33,
    "start_time": "2022-02-18T18:10:36.745Z"
   },
   {
    "duration": 4004,
    "start_time": "2022-02-18T18:10:36.781Z"
   },
   {
    "duration": 24,
    "start_time": "2022-02-18T18:10:40.787Z"
   },
   {
    "duration": 36,
    "start_time": "2022-02-18T18:10:40.812Z"
   },
   {
    "duration": 45,
    "start_time": "2022-02-18T18:10:40.850Z"
   },
   {
    "duration": 43,
    "start_time": "2022-02-18T18:10:40.897Z"
   },
   {
    "duration": 39,
    "start_time": "2022-02-18T18:10:40.942Z"
   },
   {
    "duration": 17,
    "start_time": "2022-02-18T18:10:40.983Z"
   },
   {
    "duration": 29,
    "start_time": "2022-02-18T18:10:41.003Z"
   },
   {
    "duration": 28,
    "start_time": "2022-02-18T18:10:41.034Z"
   },
   {
    "duration": 436,
    "start_time": "2022-02-18T18:10:41.064Z"
   },
   {
    "duration": 17,
    "start_time": "2022-02-18T18:10:41.506Z"
   },
   {
    "duration": 791,
    "start_time": "2022-02-18T18:10:41.524Z"
   },
   {
    "duration": 9,
    "start_time": "2022-02-18T18:10:42.317Z"
   },
   {
    "duration": 47,
    "start_time": "2022-02-18T18:10:42.327Z"
   },
   {
    "duration": 5,
    "start_time": "2022-02-18T18:10:42.376Z"
   },
   {
    "duration": 209,
    "start_time": "2022-02-18T18:10:42.383Z"
   },
   {
    "duration": 18,
    "start_time": "2022-02-18T18:10:42.594Z"
   },
   {
    "duration": 11,
    "start_time": "2022-02-18T18:10:42.616Z"
   },
   {
    "duration": 7,
    "start_time": "2022-02-18T18:10:42.630Z"
   },
   {
    "duration": 6,
    "start_time": "2022-02-18T18:10:42.639Z"
   },
   {
    "duration": 9,
    "start_time": "2022-02-18T18:10:42.647Z"
   },
   {
    "duration": 11,
    "start_time": "2022-02-18T18:10:42.658Z"
   },
   {
    "duration": 46,
    "start_time": "2022-02-18T18:10:42.671Z"
   },
   {
    "duration": 10,
    "start_time": "2022-02-18T18:10:42.719Z"
   },
   {
    "duration": 164,
    "start_time": "2022-02-18T18:10:42.731Z"
   },
   {
    "duration": 17,
    "start_time": "2022-02-18T18:10:42.897Z"
   },
   {
    "duration": 18,
    "start_time": "2022-02-18T18:10:42.916Z"
   },
   {
    "duration": 26,
    "start_time": "2022-02-18T18:10:42.936Z"
   },
   {
    "duration": 31,
    "start_time": "2022-02-18T18:10:42.964Z"
   },
   {
    "duration": 10,
    "start_time": "2022-02-18T18:10:43.007Z"
   },
   {
    "duration": 10,
    "start_time": "2022-02-18T18:10:43.019Z"
   },
   {
    "duration": 27,
    "start_time": "2022-02-18T18:10:43.033Z"
   },
   {
    "duration": 13,
    "start_time": "2022-02-18T18:10:43.062Z"
   },
   {
    "duration": 47,
    "start_time": "2022-02-18T18:10:43.077Z"
   },
   {
    "duration": 8,
    "start_time": "2022-02-18T18:10:43.127Z"
   },
   {
    "duration": 5,
    "start_time": "2022-02-18T18:12:59.560Z"
   },
   {
    "duration": 17,
    "start_time": "2022-02-18T18:13:02.584Z"
   },
   {
    "duration": 458,
    "start_time": "2022-11-09T12:32:33.885Z"
   },
   {
    "duration": 160,
    "start_time": "2022-11-09T12:33:13.159Z"
   },
   {
    "duration": 93,
    "start_time": "2022-11-09T12:33:28.301Z"
   },
   {
    "duration": 439,
    "start_time": "2022-11-09T12:33:39.518Z"
   },
   {
    "duration": 134,
    "start_time": "2022-11-09T12:33:39.960Z"
   },
   {
    "duration": 29,
    "start_time": "2022-11-09T12:33:40.096Z"
   },
   {
    "duration": 28,
    "start_time": "2022-11-09T12:33:40.127Z"
   },
   {
    "duration": 25,
    "start_time": "2022-11-09T12:33:40.157Z"
   },
   {
    "duration": 22,
    "start_time": "2022-11-09T12:33:40.186Z"
   },
   {
    "duration": 32,
    "start_time": "2022-11-09T12:33:40.210Z"
   },
   {
    "duration": 29,
    "start_time": "2022-11-09T12:33:40.244Z"
   },
   {
    "duration": 23,
    "start_time": "2022-11-09T12:33:40.275Z"
   },
   {
    "duration": 37,
    "start_time": "2022-11-09T12:33:40.301Z"
   },
   {
    "duration": 5141,
    "start_time": "2022-11-09T12:33:40.339Z"
   },
   {
    "duration": 11,
    "start_time": "2022-11-09T12:33:45.483Z"
   },
   {
    "duration": 9,
    "start_time": "2022-11-09T12:33:45.497Z"
   },
   {
    "duration": 30,
    "start_time": "2022-11-09T12:33:45.508Z"
   },
   {
    "duration": 36,
    "start_time": "2022-11-09T12:33:45.540Z"
   },
   {
    "duration": 24,
    "start_time": "2022-11-09T12:33:45.578Z"
   },
   {
    "duration": 9,
    "start_time": "2022-11-09T12:33:45.604Z"
   },
   {
    "duration": 10,
    "start_time": "2022-11-09T12:33:45.615Z"
   },
   {
    "duration": 10,
    "start_time": "2022-11-09T12:33:45.627Z"
   },
   {
    "duration": 268,
    "start_time": "2022-11-09T12:33:45.639Z"
   },
   {
    "duration": 15,
    "start_time": "2022-11-09T12:33:45.909Z"
   },
   {
    "duration": 1446,
    "start_time": "2022-11-09T12:33:45.926Z"
   },
   {
    "duration": 9,
    "start_time": "2022-11-09T12:33:47.374Z"
   },
   {
    "duration": 91,
    "start_time": "2022-11-09T12:33:47.385Z"
   },
   {
    "duration": 7,
    "start_time": "2022-11-09T12:33:47.478Z"
   },
   {
    "duration": 175,
    "start_time": "2022-11-09T12:33:47.487Z"
   },
   {
    "duration": 18,
    "start_time": "2022-11-09T12:33:47.665Z"
   },
   {
    "duration": 267,
    "start_time": "2022-11-09T12:33:47.690Z"
   },
   {
    "duration": 428,
    "start_time": "2022-11-09T12:33:47.959Z"
   },
   {
    "duration": 124,
    "start_time": "2022-11-09T12:33:48.389Z"
   },
   {
    "duration": 615,
    "start_time": "2022-11-09T12:33:48.515Z"
   },
   {
    "duration": 286,
    "start_time": "2022-11-09T12:33:49.132Z"
   },
   {
    "duration": 31,
    "start_time": "2022-11-09T12:33:49.420Z"
   },
   {
    "duration": 18,
    "start_time": "2022-11-09T12:33:49.453Z"
   },
   {
    "duration": 161,
    "start_time": "2022-11-09T12:33:49.473Z"
   },
   {
    "duration": 14,
    "start_time": "2022-11-09T12:33:49.637Z"
   },
   {
    "duration": 14,
    "start_time": "2022-11-09T12:33:49.674Z"
   },
   {
    "duration": 40,
    "start_time": "2022-11-09T12:33:49.690Z"
   },
   {
    "duration": 53,
    "start_time": "2022-11-09T12:33:49.732Z"
   },
   {
    "duration": 15,
    "start_time": "2022-11-09T12:33:49.788Z"
   },
   {
    "duration": 24,
    "start_time": "2022-11-09T12:33:49.806Z"
   },
   {
    "duration": 82,
    "start_time": "2022-11-09T12:33:49.833Z"
   },
   {
    "duration": 20,
    "start_time": "2022-11-09T12:33:49.917Z"
   },
   {
    "duration": 40,
    "start_time": "2022-11-09T12:33:49.939Z"
   },
   {
    "duration": 9,
    "start_time": "2022-11-09T12:33:49.981Z"
   },
   {
    "duration": 118,
    "start_time": "2022-11-09T12:34:24.785Z"
   },
   {
    "duration": 30,
    "start_time": "2022-11-09T12:34:37.163Z"
   },
   {
    "duration": 13,
    "start_time": "2022-11-09T12:38:39.635Z"
   },
   {
    "duration": 4588,
    "start_time": "2022-11-09T12:41:49.016Z"
   },
   {
    "duration": 15,
    "start_time": "2022-11-09T12:43:10.105Z"
   },
   {
    "duration": 18,
    "start_time": "2022-11-09T12:45:55.665Z"
   },
   {
    "duration": 17,
    "start_time": "2022-11-09T12:46:17.235Z"
   },
   {
    "duration": 122,
    "start_time": "2022-11-09T12:46:23.245Z"
   },
   {
    "duration": 16,
    "start_time": "2022-11-09T12:46:41.105Z"
   },
   {
    "duration": 462,
    "start_time": "2022-11-09T12:46:52.874Z"
   },
   {
    "duration": 75,
    "start_time": "2022-11-09T12:46:53.338Z"
   },
   {
    "duration": 37,
    "start_time": "2022-11-09T12:46:53.414Z"
   },
   {
    "duration": 51,
    "start_time": "2022-11-09T12:46:53.453Z"
   },
   {
    "duration": 3,
    "start_time": "2022-11-09T12:46:53.507Z"
   },
   {
    "duration": 17,
    "start_time": "2022-11-09T12:46:53.512Z"
   },
   {
    "duration": 13,
    "start_time": "2022-11-09T12:46:53.530Z"
   },
   {
    "duration": 9,
    "start_time": "2022-11-09T12:46:53.544Z"
   },
   {
    "duration": 34,
    "start_time": "2022-11-09T12:46:53.554Z"
   },
   {
    "duration": 19,
    "start_time": "2022-11-09T12:46:53.590Z"
   },
   {
    "duration": 27,
    "start_time": "2022-11-09T12:46:53.611Z"
   },
   {
    "duration": 63,
    "start_time": "2022-11-09T12:46:53.640Z"
   },
   {
    "duration": 4124,
    "start_time": "2022-11-09T12:46:53.705Z"
   },
   {
    "duration": 13,
    "start_time": "2022-11-09T12:46:57.833Z"
   },
   {
    "duration": 24,
    "start_time": "2022-11-09T12:46:57.848Z"
   },
   {
    "duration": 21,
    "start_time": "2022-11-09T12:46:57.874Z"
   },
   {
    "duration": 34,
    "start_time": "2022-11-09T12:46:57.898Z"
   },
   {
    "duration": 55,
    "start_time": "2022-11-09T12:46:57.934Z"
   },
   {
    "duration": 27,
    "start_time": "2022-11-09T12:46:57.991Z"
   },
   {
    "duration": 34,
    "start_time": "2022-11-09T12:46:58.020Z"
   },
   {
    "duration": 25,
    "start_time": "2022-11-09T12:46:58.055Z"
   },
   {
    "duration": 240,
    "start_time": "2022-11-09T12:46:58.082Z"
   },
   {
    "duration": 23,
    "start_time": "2022-11-09T12:46:58.323Z"
   },
   {
    "duration": 961,
    "start_time": "2022-11-09T12:46:58.348Z"
   },
   {
    "duration": 8,
    "start_time": "2022-11-09T12:46:59.311Z"
   },
   {
    "duration": 71,
    "start_time": "2022-11-09T12:46:59.321Z"
   },
   {
    "duration": 6,
    "start_time": "2022-11-09T12:46:59.394Z"
   },
   {
    "duration": 153,
    "start_time": "2022-11-09T12:46:59.403Z"
   },
   {
    "duration": 23,
    "start_time": "2022-11-09T12:46:59.558Z"
   },
   {
    "duration": 27,
    "start_time": "2022-11-09T12:46:59.583Z"
   },
   {
    "duration": 31,
    "start_time": "2022-11-09T12:46:59.612Z"
   },
   {
    "duration": 27,
    "start_time": "2022-11-09T12:46:59.646Z"
   },
   {
    "duration": 31,
    "start_time": "2022-11-09T12:46:59.674Z"
   },
   {
    "duration": 16,
    "start_time": "2022-11-09T12:46:59.707Z"
   },
   {
    "duration": 33,
    "start_time": "2022-11-09T12:46:59.726Z"
   },
   {
    "duration": 25,
    "start_time": "2022-11-09T12:46:59.762Z"
   },
   {
    "duration": 163,
    "start_time": "2022-11-09T12:46:59.790Z"
   },
   {
    "duration": 17,
    "start_time": "2022-11-09T12:46:59.955Z"
   },
   {
    "duration": 11,
    "start_time": "2022-11-09T12:46:59.974Z"
   },
   {
    "duration": 20,
    "start_time": "2022-11-09T12:46:59.987Z"
   },
   {
    "duration": 71,
    "start_time": "2022-11-09T12:47:00.013Z"
   },
   {
    "duration": 10,
    "start_time": "2022-11-09T12:47:00.086Z"
   },
   {
    "duration": 26,
    "start_time": "2022-11-09T12:47:00.097Z"
   },
   {
    "duration": 49,
    "start_time": "2022-11-09T12:47:00.125Z"
   },
   {
    "duration": 27,
    "start_time": "2022-11-09T12:47:00.176Z"
   },
   {
    "duration": 63,
    "start_time": "2022-11-09T12:47:00.205Z"
   },
   {
    "duration": 36,
    "start_time": "2022-11-09T12:47:00.269Z"
   },
   {
    "duration": 11,
    "start_time": "2022-11-09T12:47:32.326Z"
   }
  ],
  "kernelspec": {
   "display_name": "Python 3 (ipykernel)",
   "language": "python",
   "name": "python3"
  },
  "language_info": {
   "codemirror_mode": {
    "name": "ipython",
    "version": 3
   },
   "file_extension": ".py",
   "mimetype": "text/x-python",
   "name": "python",
   "nbconvert_exporter": "python",
   "pygments_lexer": "ipython3",
   "version": "3.9.5"
  },
  "toc": {
   "base_numbering": 1,
   "nav_menu": {},
   "number_sections": true,
   "sideBar": true,
   "skip_h1_title": true,
   "title_cell": "Table of Contents",
   "title_sidebar": "Contents",
   "toc_cell": false,
   "toc_position": {
    "height": "calc(100% - 180px)",
    "left": "10px",
    "top": "150px",
    "width": "258.466px"
   },
   "toc_section_display": true,
   "toc_window_display": true
  }
 },
 "nbformat": 4,
 "nbformat_minor": 2
}
