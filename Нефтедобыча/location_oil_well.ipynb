{
 "cells": [
  {
   "cell_type": "markdown",
   "metadata": {},
   "source": [
    "# Выбор локации для скважины"
   ]
  },
  {
   "cell_type": "markdown",
   "metadata": {},
   "source": [
    "Допустим, вы работаете в добывающей компании «ГлавРосГосНефть». Нужно решить, где бурить новую скважину.\n",
    "\n",
    "Вам предоставлены пробы нефти в трёх регионах: в каждом 10 000 месторождений, где измерили качество нефти и объём её запасов. Постройте модель машинного обучения, которая поможет определить регион, где добыча принесёт наибольшую прибыль. Проанализируйте возможную прибыль и риски техникой *Bootstrap.*\n",
    "\n",
    "Шаги для выбора локации:\n",
    "\n",
    "- В избранном регионе ищут месторождения, для каждого определяют значения признаков;\n",
    "- Строят модель и оценивают объём запасов;\n",
    "- Выбирают месторождения с самым высокими оценками значений. Количество месторождений зависит от бюджета компании и стоимости разработки одной скважины;\n",
    "- Прибыль равна суммарной прибыли отобранных месторождений."
   ]
  },
  {
   "cell_type": "markdown",
   "metadata": {},
   "source": [
    "<h1>Содержание<span class=\"tocSkip\"></span></h1>\n",
    "\n",
    "</a></span></li></ul></div>"
   ]
  },
  {
   "cell_type": "markdown",
   "metadata": {},
   "source": [
    "## Загрузка и подготовка данных"
   ]
  },
  {
   "cell_type": "markdown",
   "metadata": {},
   "source": [
    "### Откроем файл с данными и изучим общую информацию"
   ]
  },
  {
   "cell_type": "code",
   "execution_count": 1,
   "metadata": {},
   "outputs": [],
   "source": [
    "# импортируем необходимые библиотеки\n",
    "import pandas as pd\n",
    "import numpy as np \n",
    "import matplotlib.pyplot as plt\n",
    "from sklearn.linear_model import LinearRegression\n",
    "from sklearn.linear_model import LogisticRegression \n",
    "from sklearn.model_selection import train_test_split\n",
    "from sklearn.metrics import mean_squared_error"
   ]
  },
  {
   "cell_type": "code",
   "execution_count": 2,
   "metadata": {},
   "outputs": [],
   "source": [
    "# загрузим файлы\n",
    "df1 = pd.read_csv('/datasets/geo_data_0.csv')\n",
    "df2 = pd.read_csv('/datasets/geo_data_1.csv')\n",
    "df3 = pd.read_csv('/datasets/geo_data_2.csv')"
   ]
  },
  {
   "cell_type": "code",
   "execution_count": 3,
   "metadata": {},
   "outputs": [],
   "source": [
    "# посмотрим на распределение объема запасов нефти по регионам\n",
    "def custom_hist(x: pd.Series):\n",
    "    plt.figure()\n",
    "    plt.hist(x, edgecolor='black')\n",
    "    plt.grid()"
   ]
  },
  {
   "cell_type": "markdown",
   "metadata": {},
   "source": [
    "### Таблица `geo_data_0`"
   ]
  },
  {
   "cell_type": "code",
   "execution_count": 4,
   "metadata": {},
   "outputs": [
    {
     "name": "stdout",
     "output_type": "stream",
     "text": [
      "(100000, 5)\n",
      "<class 'pandas.core.frame.DataFrame'>\n",
      "RangeIndex: 100000 entries, 0 to 99999\n",
      "Data columns (total 5 columns):\n",
      " #   Column   Non-Null Count   Dtype  \n",
      "---  ------   --------------   -----  \n",
      " 0   id       100000 non-null  object \n",
      " 1   f0       100000 non-null  float64\n",
      " 2   f1       100000 non-null  float64\n",
      " 3   f2       100000 non-null  float64\n",
      " 4   product  100000 non-null  float64\n",
      "dtypes: float64(4), object(1)\n",
      "memory usage: 3.8+ MB\n"
     ]
    },
    {
     "data": {
      "image/png": "[encoded data removed]",
      "text/plain": [
       "<Figure size 432x288 with 1 Axes>"
      ]
     },
     "metadata": {
      "needs_background": "light"
     },
     "output_type": "display_data"
    },
    {
     "data": {
      "text/html": [
       "<div>\n",
       "<style scoped>\n",
       "    .dataframe tbody tr th:only-of-type {\n",
       "        vertical-align: middle;\n",
       "    }\n",
       "\n",
       "    .dataframe tbody tr th {\n",
       "        vertical-align: top;\n",
       "    }\n",
       "\n",
       "    .dataframe thead th {\n",
       "        text-align: right;\n",
       "    }\n",
       "</style>\n",
       "<table border=\"1\" class=\"dataframe\">\n",
       "  <thead>\n",
       "    <tr style=\"text-align: right;\">\n",
       "      <th></th>\n",
       "      <th>id</th>\n",
       "      <th>f0</th>\n",
       "      <th>f1</th>\n",
       "      <th>f2</th>\n",
       "      <th>product</th>\n",
       "    </tr>\n",
       "  </thead>\n",
       "  <tbody>\n",
       "    <tr>\n",
       "      <th>0</th>\n",
       "      <td>txEyH</td>\n",
       "      <td>0.705745</td>\n",
       "      <td>-0.497823</td>\n",
       "      <td>1.221170</td>\n",
       "      <td>105.280062</td>\n",
       "    </tr>\n",
       "    <tr>\n",
       "      <th>1</th>\n",
       "      <td>2acmU</td>\n",
       "      <td>1.334711</td>\n",
       "      <td>-0.340164</td>\n",
       "      <td>4.365080</td>\n",
       "      <td>73.037750</td>\n",
       "    </tr>\n",
       "    <tr>\n",
       "      <th>2</th>\n",
       "      <td>409Wp</td>\n",
       "      <td>1.022732</td>\n",
       "      <td>0.151990</td>\n",
       "      <td>1.419926</td>\n",
       "      <td>85.265647</td>\n",
       "    </tr>\n",
       "    <tr>\n",
       "      <th>3</th>\n",
       "      <td>iJLyR</td>\n",
       "      <td>-0.032172</td>\n",
       "      <td>0.139033</td>\n",
       "      <td>2.978566</td>\n",
       "      <td>168.620776</td>\n",
       "    </tr>\n",
       "    <tr>\n",
       "      <th>4</th>\n",
       "      <td>Xdl7t</td>\n",
       "      <td>1.988431</td>\n",
       "      <td>0.155413</td>\n",
       "      <td>4.751769</td>\n",
       "      <td>154.036647</td>\n",
       "    </tr>\n",
       "    <tr>\n",
       "      <th>...</th>\n",
       "      <td>...</td>\n",
       "      <td>...</td>\n",
       "      <td>...</td>\n",
       "      <td>...</td>\n",
       "      <td>...</td>\n",
       "    </tr>\n",
       "    <tr>\n",
       "      <th>99995</th>\n",
       "      <td>DLsed</td>\n",
       "      <td>0.971957</td>\n",
       "      <td>0.370953</td>\n",
       "      <td>6.075346</td>\n",
       "      <td>110.744026</td>\n",
       "    </tr>\n",
       "    <tr>\n",
       "      <th>99996</th>\n",
       "      <td>QKivN</td>\n",
       "      <td>1.392429</td>\n",
       "      <td>-0.382606</td>\n",
       "      <td>1.273912</td>\n",
       "      <td>122.346843</td>\n",
       "    </tr>\n",
       "    <tr>\n",
       "      <th>99997</th>\n",
       "      <td>3rnvd</td>\n",
       "      <td>1.029585</td>\n",
       "      <td>0.018787</td>\n",
       "      <td>-1.348308</td>\n",
       "      <td>64.375443</td>\n",
       "    </tr>\n",
       "    <tr>\n",
       "      <th>99998</th>\n",
       "      <td>7kl59</td>\n",
       "      <td>0.998163</td>\n",
       "      <td>-0.528582</td>\n",
       "      <td>1.583869</td>\n",
       "      <td>74.040764</td>\n",
       "    </tr>\n",
       "    <tr>\n",
       "      <th>99999</th>\n",
       "      <td>1CWhH</td>\n",
       "      <td>1.764754</td>\n",
       "      <td>-0.266417</td>\n",
       "      <td>5.722849</td>\n",
       "      <td>149.633246</td>\n",
       "    </tr>\n",
       "  </tbody>\n",
       "</table>\n",
       "<p>100000 rows × 5 columns</p>\n",
       "</div>"
      ],
      "text/plain": [
       "          id        f0        f1        f2     product\n",
       "0      txEyH  0.705745 -0.497823  1.221170  105.280062\n",
       "1      2acmU  1.334711 -0.340164  4.365080   73.037750\n",
       "2      409Wp  1.022732  0.151990  1.419926   85.265647\n",
       "3      iJLyR -0.032172  0.139033  2.978566  168.620776\n",
       "4      Xdl7t  1.988431  0.155413  4.751769  154.036647\n",
       "...      ...       ...       ...       ...         ...\n",
       "99995  DLsed  0.971957  0.370953  6.075346  110.744026\n",
       "99996  QKivN  1.392429 -0.382606  1.273912  122.346843\n",
       "99997  3rnvd  1.029585  0.018787 -1.348308   64.375443\n",
       "99998  7kl59  0.998163 -0.528582  1.583869   74.040764\n",
       "99999  1CWhH  1.764754 -0.266417  5.722849  149.633246\n",
       "\n",
       "[100000 rows x 5 columns]"
      ]
     },
     "execution_count": 4,
     "metadata": {},
     "output_type": "execute_result"
    }
   ],
   "source": [
    "# изучим файл\n",
    "\n",
    "print(df1.shape)\n",
    "df1.info()\n",
    "\n",
    "# вывод на экран названия столбцов\n",
    "df1.columns\n",
    "\n",
    "# посмотрим на диаграмму\n",
    "custom_hist(df1['product'])\n",
    "\n",
    "plt.title('Диаграмма распределения данных в таблице df1'+ \"\\n\")\n",
    "plt.show()\n",
    "\n",
    "# выведем на экран таблицу, посморим на первые и последние 5 значений\n",
    "df1"
   ]
  },
  {
   "cell_type": "code",
   "execution_count": 5,
   "metadata": {},
   "outputs": [
    {
     "data": {
      "text/html": [
       "<div>\n",
       "<style scoped>\n",
       "    .dataframe tbody tr th:only-of-type {\n",
       "        vertical-align: middle;\n",
       "    }\n",
       "\n",
       "    .dataframe tbody tr th {\n",
       "        vertical-align: top;\n",
       "    }\n",
       "\n",
       "    .dataframe thead th {\n",
       "        text-align: right;\n",
       "    }\n",
       "</style>\n",
       "<table border=\"1\" class=\"dataframe\">\n",
       "  <thead>\n",
       "    <tr style=\"text-align: right;\">\n",
       "      <th></th>\n",
       "      <th>f0</th>\n",
       "      <th>f1</th>\n",
       "      <th>f2</th>\n",
       "      <th>product</th>\n",
       "    </tr>\n",
       "  </thead>\n",
       "  <tbody>\n",
       "    <tr>\n",
       "      <th>count</th>\n",
       "      <td>100000.000000</td>\n",
       "      <td>100000.000000</td>\n",
       "      <td>100000.000000</td>\n",
       "      <td>100000.000000</td>\n",
       "    </tr>\n",
       "    <tr>\n",
       "      <th>mean</th>\n",
       "      <td>0.500419</td>\n",
       "      <td>0.250143</td>\n",
       "      <td>2.502647</td>\n",
       "      <td>92.500000</td>\n",
       "    </tr>\n",
       "    <tr>\n",
       "      <th>std</th>\n",
       "      <td>0.871832</td>\n",
       "      <td>0.504433</td>\n",
       "      <td>3.248248</td>\n",
       "      <td>44.288691</td>\n",
       "    </tr>\n",
       "    <tr>\n",
       "      <th>min</th>\n",
       "      <td>-1.408605</td>\n",
       "      <td>-0.848218</td>\n",
       "      <td>-12.088328</td>\n",
       "      <td>0.000000</td>\n",
       "    </tr>\n",
       "    <tr>\n",
       "      <th>25%</th>\n",
       "      <td>-0.072580</td>\n",
       "      <td>-0.200881</td>\n",
       "      <td>0.287748</td>\n",
       "      <td>56.497507</td>\n",
       "    </tr>\n",
       "    <tr>\n",
       "      <th>50%</th>\n",
       "      <td>0.502360</td>\n",
       "      <td>0.250252</td>\n",
       "      <td>2.515969</td>\n",
       "      <td>91.849972</td>\n",
       "    </tr>\n",
       "    <tr>\n",
       "      <th>75%</th>\n",
       "      <td>1.073581</td>\n",
       "      <td>0.700646</td>\n",
       "      <td>4.715088</td>\n",
       "      <td>128.564089</td>\n",
       "    </tr>\n",
       "    <tr>\n",
       "      <th>max</th>\n",
       "      <td>2.362331</td>\n",
       "      <td>1.343769</td>\n",
       "      <td>16.003790</td>\n",
       "      <td>185.364347</td>\n",
       "    </tr>\n",
       "  </tbody>\n",
       "</table>\n",
       "</div>"
      ],
      "text/plain": [
       "                  f0             f1             f2        product\n",
       "count  100000.000000  100000.000000  100000.000000  100000.000000\n",
       "mean        0.500419       0.250143       2.502647      92.500000\n",
       "std         0.871832       0.504433       3.248248      44.288691\n",
       "min        -1.408605      -0.848218     -12.088328       0.000000\n",
       "25%        -0.072580      -0.200881       0.287748      56.497507\n",
       "50%         0.502360       0.250252       2.515969      91.849972\n",
       "75%         1.073581       0.700646       4.715088     128.564089\n",
       "max         2.362331       1.343769      16.003790     185.364347"
      ]
     },
     "execution_count": 5,
     "metadata": {},
     "output_type": "execute_result"
    }
   ],
   "source": [
    "# посмртрим на числовые характеристики\n",
    "df1.describe()"
   ]
  },
  {
   "cell_type": "code",
   "execution_count": 6,
   "metadata": {},
   "outputs": [
    {
     "data": {
      "text/plain": [
       "1"
      ]
     },
     "execution_count": 6,
     "metadata": {},
     "output_type": "execute_result"
    }
   ],
   "source": [
    "# посмотрим сколько нулевых значений в таблице\n",
    "sum(df1['product']==0)"
   ]
  },
  {
   "cell_type": "code",
   "execution_count": 7,
   "metadata": {},
   "outputs": [
    {
     "data": {
      "text/plain": [
       "id         0\n",
       "f0         0\n",
       "f1         0\n",
       "f2         0\n",
       "product    0\n",
       "dtype: int64"
      ]
     },
     "execution_count": 7,
     "metadata": {},
     "output_type": "execute_result"
    }
   ],
   "source": [
    "# посмотрим если пропуски в таблице\n",
    "df1.isna().sum()"
   ]
  },
  {
   "cell_type": "code",
   "execution_count": 8,
   "metadata": {},
   "outputs": [
    {
     "data": {
      "text/plain": [
       "0"
      ]
     },
     "execution_count": 8,
     "metadata": {},
     "output_type": "execute_result"
    }
   ],
   "source": [
    "# подсчёт явных дубликатов\n",
    "df1.duplicated().sum()"
   ]
  },
  {
   "cell_type": "markdown",
   "metadata": {},
   "source": [
    "### Таблица `geo_data_1`"
   ]
  },
  {
   "cell_type": "code",
   "execution_count": 9,
   "metadata": {},
   "outputs": [
    {
     "name": "stdout",
     "output_type": "stream",
     "text": [
      "(100000, 5)\n",
      "<class 'pandas.core.frame.DataFrame'>\n",
      "RangeIndex: 100000 entries, 0 to 99999\n",
      "Data columns (total 5 columns):\n",
      " #   Column   Non-Null Count   Dtype  \n",
      "---  ------   --------------   -----  \n",
      " 0   id       100000 non-null  object \n",
      " 1   f0       100000 non-null  float64\n",
      " 2   f1       100000 non-null  float64\n",
      " 3   f2       100000 non-null  float64\n",
      " 4   product  100000 non-null  float64\n",
      "dtypes: float64(4), object(1)\n",
      "memory usage: 3.8+ MB\n"
     ]
    },
    {
     "data": {
      "image/png": "[encoded data removed]",
      "text/plain": [
       "<Figure size 432x288 with 1 Axes>"
      ]
     },
     "metadata": {
      "needs_background": "light"
     },
     "output_type": "display_data"
    },
    {
     "data": {
      "text/html": [
       "<div>\n",
       "<style scoped>\n",
       "    .dataframe tbody tr th:only-of-type {\n",
       "        vertical-align: middle;\n",
       "    }\n",
       "\n",
       "    .dataframe tbody tr th {\n",
       "        vertical-align: top;\n",
       "    }\n",
       "\n",
       "    .dataframe thead th {\n",
       "        text-align: right;\n",
       "    }\n",
       "</style>\n",
       "<table border=\"1\" class=\"dataframe\">\n",
       "  <thead>\n",
       "    <tr style=\"text-align: right;\">\n",
       "      <th></th>\n",
       "      <th>id</th>\n",
       "      <th>f0</th>\n",
       "      <th>f1</th>\n",
       "      <th>f2</th>\n",
       "      <th>product</th>\n",
       "    </tr>\n",
       "  </thead>\n",
       "  <tbody>\n",
       "    <tr>\n",
       "      <th>0</th>\n",
       "      <td>kBEdx</td>\n",
       "      <td>-15.001348</td>\n",
       "      <td>-8.276000</td>\n",
       "      <td>-0.005876</td>\n",
       "      <td>3.179103</td>\n",
       "    </tr>\n",
       "    <tr>\n",
       "      <th>1</th>\n",
       "      <td>62mP7</td>\n",
       "      <td>14.272088</td>\n",
       "      <td>-3.475083</td>\n",
       "      <td>0.999183</td>\n",
       "      <td>26.953261</td>\n",
       "    </tr>\n",
       "    <tr>\n",
       "      <th>2</th>\n",
       "      <td>vyE1P</td>\n",
       "      <td>6.263187</td>\n",
       "      <td>-5.948386</td>\n",
       "      <td>5.001160</td>\n",
       "      <td>134.766305</td>\n",
       "    </tr>\n",
       "    <tr>\n",
       "      <th>3</th>\n",
       "      <td>KcrkZ</td>\n",
       "      <td>-13.081196</td>\n",
       "      <td>-11.506057</td>\n",
       "      <td>4.999415</td>\n",
       "      <td>137.945408</td>\n",
       "    </tr>\n",
       "    <tr>\n",
       "      <th>4</th>\n",
       "      <td>AHL4O</td>\n",
       "      <td>12.702195</td>\n",
       "      <td>-8.147433</td>\n",
       "      <td>5.004363</td>\n",
       "      <td>134.766305</td>\n",
       "    </tr>\n",
       "    <tr>\n",
       "      <th>...</th>\n",
       "      <td>...</td>\n",
       "      <td>...</td>\n",
       "      <td>...</td>\n",
       "      <td>...</td>\n",
       "      <td>...</td>\n",
       "    </tr>\n",
       "    <tr>\n",
       "      <th>99995</th>\n",
       "      <td>QywKC</td>\n",
       "      <td>9.535637</td>\n",
       "      <td>-6.878139</td>\n",
       "      <td>1.998296</td>\n",
       "      <td>53.906522</td>\n",
       "    </tr>\n",
       "    <tr>\n",
       "      <th>99996</th>\n",
       "      <td>ptvty</td>\n",
       "      <td>-10.160631</td>\n",
       "      <td>-12.558096</td>\n",
       "      <td>5.005581</td>\n",
       "      <td>137.945408</td>\n",
       "    </tr>\n",
       "    <tr>\n",
       "      <th>99997</th>\n",
       "      <td>09gWa</td>\n",
       "      <td>-7.378891</td>\n",
       "      <td>-3.084104</td>\n",
       "      <td>4.998651</td>\n",
       "      <td>137.945408</td>\n",
       "    </tr>\n",
       "    <tr>\n",
       "      <th>99998</th>\n",
       "      <td>rqwUm</td>\n",
       "      <td>0.665714</td>\n",
       "      <td>-6.152593</td>\n",
       "      <td>1.000146</td>\n",
       "      <td>30.132364</td>\n",
       "    </tr>\n",
       "    <tr>\n",
       "      <th>99999</th>\n",
       "      <td>relB0</td>\n",
       "      <td>-3.426139</td>\n",
       "      <td>-7.794274</td>\n",
       "      <td>-0.003299</td>\n",
       "      <td>3.179103</td>\n",
       "    </tr>\n",
       "  </tbody>\n",
       "</table>\n",
       "<p>100000 rows × 5 columns</p>\n",
       "</div>"
      ],
      "text/plain": [
       "          id         f0         f1        f2     product\n",
       "0      kBEdx -15.001348  -8.276000 -0.005876    3.179103\n",
       "1      62mP7  14.272088  -3.475083  0.999183   26.953261\n",
       "2      vyE1P   6.263187  -5.948386  5.001160  134.766305\n",
       "3      KcrkZ -13.081196 -11.506057  4.999415  137.945408\n",
       "4      AHL4O  12.702195  -8.147433  5.004363  134.766305\n",
       "...      ...        ...        ...       ...         ...\n",
       "99995  QywKC   9.535637  -6.878139  1.998296   53.906522\n",
       "99996  ptvty -10.160631 -12.558096  5.005581  137.945408\n",
       "99997  09gWa  -7.378891  -3.084104  4.998651  137.945408\n",
       "99998  rqwUm   0.665714  -6.152593  1.000146   30.132364\n",
       "99999  relB0  -3.426139  -7.794274 -0.003299    3.179103\n",
       "\n",
       "[100000 rows x 5 columns]"
      ]
     },
     "execution_count": 9,
     "metadata": {},
     "output_type": "execute_result"
    }
   ],
   "source": [
    "# изучим файлы\n",
    "\n",
    "print(df2.shape)\n",
    "df2.info()\n",
    "\n",
    "# вывод на экран названия столбцов\n",
    "df2.columns\n",
    "\n",
    "# посмотрим на диаграмму\n",
    "custom_hist(df2['product'])\n",
    "\n",
    "plt.title('Диаграмма распределения данных в таблице df2'+ \"\\n\")\n",
    "plt.show()\n",
    "\n",
    "df2"
   ]
  },
  {
   "cell_type": "code",
   "execution_count": 10,
   "metadata": {},
   "outputs": [
    {
     "data": {
      "text/html": [
       "<div>\n",
       "<style scoped>\n",
       "    .dataframe tbody tr th:only-of-type {\n",
       "        vertical-align: middle;\n",
       "    }\n",
       "\n",
       "    .dataframe tbody tr th {\n",
       "        vertical-align: top;\n",
       "    }\n",
       "\n",
       "    .dataframe thead th {\n",
       "        text-align: right;\n",
       "    }\n",
       "</style>\n",
       "<table border=\"1\" class=\"dataframe\">\n",
       "  <thead>\n",
       "    <tr style=\"text-align: right;\">\n",
       "      <th></th>\n",
       "      <th>f0</th>\n",
       "      <th>f1</th>\n",
       "      <th>f2</th>\n",
       "      <th>product</th>\n",
       "    </tr>\n",
       "  </thead>\n",
       "  <tbody>\n",
       "    <tr>\n",
       "      <th>count</th>\n",
       "      <td>100000.000000</td>\n",
       "      <td>100000.000000</td>\n",
       "      <td>100000.000000</td>\n",
       "      <td>100000.000000</td>\n",
       "    </tr>\n",
       "    <tr>\n",
       "      <th>mean</th>\n",
       "      <td>1.141296</td>\n",
       "      <td>-4.796579</td>\n",
       "      <td>2.494541</td>\n",
       "      <td>68.825000</td>\n",
       "    </tr>\n",
       "    <tr>\n",
       "      <th>std</th>\n",
       "      <td>8.965932</td>\n",
       "      <td>5.119872</td>\n",
       "      <td>1.703572</td>\n",
       "      <td>45.944423</td>\n",
       "    </tr>\n",
       "    <tr>\n",
       "      <th>min</th>\n",
       "      <td>-31.609576</td>\n",
       "      <td>-26.358598</td>\n",
       "      <td>-0.018144</td>\n",
       "      <td>0.000000</td>\n",
       "    </tr>\n",
       "    <tr>\n",
       "      <th>25%</th>\n",
       "      <td>-6.298551</td>\n",
       "      <td>-8.267985</td>\n",
       "      <td>1.000021</td>\n",
       "      <td>26.953261</td>\n",
       "    </tr>\n",
       "    <tr>\n",
       "      <th>50%</th>\n",
       "      <td>1.153055</td>\n",
       "      <td>-4.813172</td>\n",
       "      <td>2.011479</td>\n",
       "      <td>57.085625</td>\n",
       "    </tr>\n",
       "    <tr>\n",
       "      <th>75%</th>\n",
       "      <td>8.621015</td>\n",
       "      <td>-1.332816</td>\n",
       "      <td>3.999904</td>\n",
       "      <td>107.813044</td>\n",
       "    </tr>\n",
       "    <tr>\n",
       "      <th>max</th>\n",
       "      <td>29.421755</td>\n",
       "      <td>18.734063</td>\n",
       "      <td>5.019721</td>\n",
       "      <td>137.945408</td>\n",
       "    </tr>\n",
       "  </tbody>\n",
       "</table>\n",
       "</div>"
      ],
      "text/plain": [
       "                  f0             f1             f2        product\n",
       "count  100000.000000  100000.000000  100000.000000  100000.000000\n",
       "mean        1.141296      -4.796579       2.494541      68.825000\n",
       "std         8.965932       5.119872       1.703572      45.944423\n",
       "min       -31.609576     -26.358598      -0.018144       0.000000\n",
       "25%        -6.298551      -8.267985       1.000021      26.953261\n",
       "50%         1.153055      -4.813172       2.011479      57.085625\n",
       "75%         8.621015      -1.332816       3.999904     107.813044\n",
       "max        29.421755      18.734063       5.019721     137.945408"
      ]
     },
     "execution_count": 10,
     "metadata": {},
     "output_type": "execute_result"
    }
   ],
   "source": [
    "df2.describe()"
   ]
  },
  {
   "cell_type": "code",
   "execution_count": 11,
   "metadata": {},
   "outputs": [
    {
     "data": {
      "text/plain": [
       "8235"
      ]
     },
     "execution_count": 11,
     "metadata": {},
     "output_type": "execute_result"
    }
   ],
   "source": [
    "sum(df2['product']==0)"
   ]
  },
  {
   "cell_type": "code",
   "execution_count": 12,
   "metadata": {},
   "outputs": [
    {
     "data": {
      "text/plain": [
       "id         0\n",
       "f0         0\n",
       "f1         0\n",
       "f2         0\n",
       "product    0\n",
       "dtype: int64"
      ]
     },
     "execution_count": 12,
     "metadata": {},
     "output_type": "execute_result"
    }
   ],
   "source": [
    "# посмотрим если пропуски в таблице\n",
    "df2.isna().sum()"
   ]
  },
  {
   "cell_type": "code",
   "execution_count": 13,
   "metadata": {},
   "outputs": [
    {
     "data": {
      "text/plain": [
       "0"
      ]
     },
     "execution_count": 13,
     "metadata": {},
     "output_type": "execute_result"
    }
   ],
   "source": [
    "# подсчёт явных дубликатов\n",
    "df2.duplicated().sum()"
   ]
  },
  {
   "cell_type": "markdown",
   "metadata": {},
   "source": [
    "### Таблица `geo_data_2`"
   ]
  },
  {
   "cell_type": "code",
   "execution_count": 14,
   "metadata": {},
   "outputs": [
    {
     "name": "stdout",
     "output_type": "stream",
     "text": [
      "(100000, 5)\n",
      "<class 'pandas.core.frame.DataFrame'>\n",
      "RangeIndex: 100000 entries, 0 to 99999\n",
      "Data columns (total 5 columns):\n",
      " #   Column   Non-Null Count   Dtype  \n",
      "---  ------   --------------   -----  \n",
      " 0   id       100000 non-null  object \n",
      " 1   f0       100000 non-null  float64\n",
      " 2   f1       100000 non-null  float64\n",
      " 3   f2       100000 non-null  float64\n",
      " 4   product  100000 non-null  float64\n",
      "dtypes: float64(4), object(1)\n",
      "memory usage: 3.8+ MB\n"
     ]
    },
    {
     "data": {
      "image/png": "[encoded data removed]",
      "text/plain": [
       "<Figure size 432x288 with 1 Axes>"
      ]
     },
     "metadata": {
      "needs_background": "light"
     },
     "output_type": "display_data"
    },
    {
     "data": {
      "text/html": [
       "<div>\n",
       "<style scoped>\n",
       "    .dataframe tbody tr th:only-of-type {\n",
       "        vertical-align: middle;\n",
       "    }\n",
       "\n",
       "    .dataframe tbody tr th {\n",
       "        vertical-align: top;\n",
       "    }\n",
       "\n",
       "    .dataframe thead th {\n",
       "        text-align: right;\n",
       "    }\n",
       "</style>\n",
       "<table border=\"1\" class=\"dataframe\">\n",
       "  <thead>\n",
       "    <tr style=\"text-align: right;\">\n",
       "      <th></th>\n",
       "      <th>id</th>\n",
       "      <th>f0</th>\n",
       "      <th>f1</th>\n",
       "      <th>f2</th>\n",
       "      <th>product</th>\n",
       "    </tr>\n",
       "  </thead>\n",
       "  <tbody>\n",
       "    <tr>\n",
       "      <th>0</th>\n",
       "      <td>fwXo0</td>\n",
       "      <td>-1.146987</td>\n",
       "      <td>0.963328</td>\n",
       "      <td>-0.828965</td>\n",
       "      <td>27.758673</td>\n",
       "    </tr>\n",
       "    <tr>\n",
       "      <th>1</th>\n",
       "      <td>WJtFt</td>\n",
       "      <td>0.262778</td>\n",
       "      <td>0.269839</td>\n",
       "      <td>-2.530187</td>\n",
       "      <td>56.069697</td>\n",
       "    </tr>\n",
       "    <tr>\n",
       "      <th>2</th>\n",
       "      <td>ovLUW</td>\n",
       "      <td>0.194587</td>\n",
       "      <td>0.289035</td>\n",
       "      <td>-5.586433</td>\n",
       "      <td>62.871910</td>\n",
       "    </tr>\n",
       "    <tr>\n",
       "      <th>3</th>\n",
       "      <td>q6cA6</td>\n",
       "      <td>2.236060</td>\n",
       "      <td>-0.553760</td>\n",
       "      <td>0.930038</td>\n",
       "      <td>114.572842</td>\n",
       "    </tr>\n",
       "    <tr>\n",
       "      <th>4</th>\n",
       "      <td>WPMUX</td>\n",
       "      <td>-0.515993</td>\n",
       "      <td>1.716266</td>\n",
       "      <td>5.899011</td>\n",
       "      <td>149.600746</td>\n",
       "    </tr>\n",
       "    <tr>\n",
       "      <th>...</th>\n",
       "      <td>...</td>\n",
       "      <td>...</td>\n",
       "      <td>...</td>\n",
       "      <td>...</td>\n",
       "      <td>...</td>\n",
       "    </tr>\n",
       "    <tr>\n",
       "      <th>99995</th>\n",
       "      <td>4GxBu</td>\n",
       "      <td>-1.777037</td>\n",
       "      <td>1.125220</td>\n",
       "      <td>6.263374</td>\n",
       "      <td>172.327046</td>\n",
       "    </tr>\n",
       "    <tr>\n",
       "      <th>99996</th>\n",
       "      <td>YKFjq</td>\n",
       "      <td>-1.261523</td>\n",
       "      <td>-0.894828</td>\n",
       "      <td>2.524545</td>\n",
       "      <td>138.748846</td>\n",
       "    </tr>\n",
       "    <tr>\n",
       "      <th>99997</th>\n",
       "      <td>tKPY3</td>\n",
       "      <td>-1.199934</td>\n",
       "      <td>-2.957637</td>\n",
       "      <td>5.219411</td>\n",
       "      <td>157.080080</td>\n",
       "    </tr>\n",
       "    <tr>\n",
       "      <th>99998</th>\n",
       "      <td>nmxp2</td>\n",
       "      <td>-2.419896</td>\n",
       "      <td>2.417221</td>\n",
       "      <td>-5.548444</td>\n",
       "      <td>51.795253</td>\n",
       "    </tr>\n",
       "    <tr>\n",
       "      <th>99999</th>\n",
       "      <td>V9kWn</td>\n",
       "      <td>-2.551421</td>\n",
       "      <td>-2.025625</td>\n",
       "      <td>6.090891</td>\n",
       "      <td>102.775767</td>\n",
       "    </tr>\n",
       "  </tbody>\n",
       "</table>\n",
       "<p>100000 rows × 5 columns</p>\n",
       "</div>"
      ],
      "text/plain": [
       "          id        f0        f1        f2     product\n",
       "0      fwXo0 -1.146987  0.963328 -0.828965   27.758673\n",
       "1      WJtFt  0.262778  0.269839 -2.530187   56.069697\n",
       "2      ovLUW  0.194587  0.289035 -5.586433   62.871910\n",
       "3      q6cA6  2.236060 -0.553760  0.930038  114.572842\n",
       "4      WPMUX -0.515993  1.716266  5.899011  149.600746\n",
       "...      ...       ...       ...       ...         ...\n",
       "99995  4GxBu -1.777037  1.125220  6.263374  172.327046\n",
       "99996  YKFjq -1.261523 -0.894828  2.524545  138.748846\n",
       "99997  tKPY3 -1.199934 -2.957637  5.219411  157.080080\n",
       "99998  nmxp2 -2.419896  2.417221 -5.548444   51.795253\n",
       "99999  V9kWn -2.551421 -2.025625  6.090891  102.775767\n",
       "\n",
       "[100000 rows x 5 columns]"
      ]
     },
     "execution_count": 14,
     "metadata": {},
     "output_type": "execute_result"
    }
   ],
   "source": [
    "# изучим файлы\n",
    "\n",
    "print(df3.shape)\n",
    "df3.info()\n",
    "\n",
    "# вывод на экран названия столбцов\n",
    "df3.columns\n",
    "\n",
    "# посмотрим на диаграмму\n",
    "custom_hist(df3['product'])\n",
    "\n",
    "plt.title('Диаграмма распределения данных в таблице df3'+ \"\\n\")\n",
    "plt.show()\n",
    "\n",
    "df3"
   ]
  },
  {
   "cell_type": "code",
   "execution_count": 15,
   "metadata": {},
   "outputs": [
    {
     "data": {
      "text/html": [
       "<div>\n",
       "<style scoped>\n",
       "    .dataframe tbody tr th:only-of-type {\n",
       "        vertical-align: middle;\n",
       "    }\n",
       "\n",
       "    .dataframe tbody tr th {\n",
       "        vertical-align: top;\n",
       "    }\n",
       "\n",
       "    .dataframe thead th {\n",
       "        text-align: right;\n",
       "    }\n",
       "</style>\n",
       "<table border=\"1\" class=\"dataframe\">\n",
       "  <thead>\n",
       "    <tr style=\"text-align: right;\">\n",
       "      <th></th>\n",
       "      <th>f0</th>\n",
       "      <th>f1</th>\n",
       "      <th>f2</th>\n",
       "      <th>product</th>\n",
       "    </tr>\n",
       "  </thead>\n",
       "  <tbody>\n",
       "    <tr>\n",
       "      <th>count</th>\n",
       "      <td>100000.000000</td>\n",
       "      <td>100000.000000</td>\n",
       "      <td>100000.000000</td>\n",
       "      <td>100000.000000</td>\n",
       "    </tr>\n",
       "    <tr>\n",
       "      <th>mean</th>\n",
       "      <td>0.002023</td>\n",
       "      <td>-0.002081</td>\n",
       "      <td>2.495128</td>\n",
       "      <td>95.000000</td>\n",
       "    </tr>\n",
       "    <tr>\n",
       "      <th>std</th>\n",
       "      <td>1.732045</td>\n",
       "      <td>1.730417</td>\n",
       "      <td>3.473445</td>\n",
       "      <td>44.749921</td>\n",
       "    </tr>\n",
       "    <tr>\n",
       "      <th>min</th>\n",
       "      <td>-8.760004</td>\n",
       "      <td>-7.084020</td>\n",
       "      <td>-11.970335</td>\n",
       "      <td>0.000000</td>\n",
       "    </tr>\n",
       "    <tr>\n",
       "      <th>25%</th>\n",
       "      <td>-1.162288</td>\n",
       "      <td>-1.174820</td>\n",
       "      <td>0.130359</td>\n",
       "      <td>59.450441</td>\n",
       "    </tr>\n",
       "    <tr>\n",
       "      <th>50%</th>\n",
       "      <td>0.009424</td>\n",
       "      <td>-0.009482</td>\n",
       "      <td>2.484236</td>\n",
       "      <td>94.925613</td>\n",
       "    </tr>\n",
       "    <tr>\n",
       "      <th>75%</th>\n",
       "      <td>1.158535</td>\n",
       "      <td>1.163678</td>\n",
       "      <td>4.858794</td>\n",
       "      <td>130.595027</td>\n",
       "    </tr>\n",
       "    <tr>\n",
       "      <th>max</th>\n",
       "      <td>7.238262</td>\n",
       "      <td>7.844801</td>\n",
       "      <td>16.739402</td>\n",
       "      <td>190.029838</td>\n",
       "    </tr>\n",
       "  </tbody>\n",
       "</table>\n",
       "</div>"
      ],
      "text/plain": [
       "                  f0             f1             f2        product\n",
       "count  100000.000000  100000.000000  100000.000000  100000.000000\n",
       "mean        0.002023      -0.002081       2.495128      95.000000\n",
       "std         1.732045       1.730417       3.473445      44.749921\n",
       "min        -8.760004      -7.084020     -11.970335       0.000000\n",
       "25%        -1.162288      -1.174820       0.130359      59.450441\n",
       "50%         0.009424      -0.009482       2.484236      94.925613\n",
       "75%         1.158535       1.163678       4.858794     130.595027\n",
       "max         7.238262       7.844801      16.739402     190.029838"
      ]
     },
     "execution_count": 15,
     "metadata": {},
     "output_type": "execute_result"
    }
   ],
   "source": [
    "df3.describe()"
   ]
  },
  {
   "cell_type": "code",
   "execution_count": 16,
   "metadata": {},
   "outputs": [
    {
     "data": {
      "text/plain": [
       "1"
      ]
     },
     "execution_count": 16,
     "metadata": {},
     "output_type": "execute_result"
    }
   ],
   "source": [
    "sum(df3['product']==0)"
   ]
  },
  {
   "cell_type": "code",
   "execution_count": 17,
   "metadata": {},
   "outputs": [
    {
     "data": {
      "text/plain": [
       "id         0\n",
       "f0         0\n",
       "f1         0\n",
       "f2         0\n",
       "product    0\n",
       "dtype: int64"
      ]
     },
     "execution_count": 17,
     "metadata": {},
     "output_type": "execute_result"
    }
   ],
   "source": [
    "# посмотрим если пропуски в таблице\n",
    "df3.isna().sum()"
   ]
  },
  {
   "cell_type": "code",
   "execution_count": 18,
   "metadata": {},
   "outputs": [
    {
     "data": {
      "text/plain": [
       "0"
      ]
     },
     "execution_count": 18,
     "metadata": {},
     "output_type": "execute_result"
    }
   ],
   "source": [
    "# подсчёт явных дубликатов\n",
    "df3.duplicated().sum()"
   ]
  },
  {
   "cell_type": "markdown",
   "metadata": {},
   "source": [
    "<div style=\"border:solid green 2px; padding: 20px\">\n",
    "\n",
    "### Общий вывод\n",
    "\n",
    "Данные загружены и изучены.\n",
    "\n",
    "Данные геологоразведки трёх регионов находятся в файлах:\n",
    "- /datasets/geo_data_0.csv. Скачать датасет\n",
    "- /datasets/geo_data_1.csv. Скачать датасет\n",
    "- /datasets/geo_data_2.csv. Скачать датасет    \n",
    "\n",
    "    Признаки:\n",
    "- id — уникальный идентификатор скважины;\n",
    "- f0, f1, f2 — три признака точек (неважно, что они означают, но сами признаки значимы);\n",
    "- product — объём запасов в скважине (тыс. баррелей). \n",
    " \n",
    "Для удобства назовем датафреймы `df1`, `df2`, `df3`. В таблицах 10000 строк и 5 колонок.    \n",
    "\n",
    "**Таблица `df1`**  \n",
    "Пропусков в данных не обнаружено, явных дубликатов не имеется. Обнаружена одна скважина с нулевым запасом нефти. Средние и медианные значения запасов нефти практически равны. Распределение целевого признака близко к нормальному.\n",
    "    \n",
    "**Таблица `df2`**   \n",
    "Пропусков в данных не обнаружено, явных дубликатов не имеется. Обнаружено 8235 скважин с нулевм запасом нефти, т.е. 82% скважин в этом регионе пустые. Средние значения больше медианных значений запасов нефти, что говорит о том, что объем запасов в одних скважинах сильно отличается от других (выбросы). Распределение целевого признака далеко от нормального.\n",
    " \n",
    "**Таблица `df3`**   \n",
    "Пропусков в данных не обнаружено, явных дубликатов не имеется. Обнаружена одна скважина с нулевым запасом нефти. Средние и медианные значения запасов нефти практически равны. Распределение целевого признака близко к нормальному.   \n",
    "    \n",
    "Нам предоставлены пробы нефти в трёх регионах. В каждом регионе разное распределение данных по скважинам и объемам. Характеристики для каждой скважины в регионе уже известны. Необходимо построить модель для определения региона, где добыча принесёт наибольшую прибыль. Проанализируем возможную прибыль и риски техникой Bootstrap.\n",
    "\n",
    "Условия задачи:\n",
    "- Для обучения модели подходит только линейная регрессия (остальные — недостаточно предсказуемые).\n",
    "- При разведке региона исследуют 500 точек, из которых с помощью машинного обучения выбирают 200 лучших для разработки.\n",
    "- Бюджет на разработку скважин в регионе — 10 млрд рублей.\n",
    "- При нынешних ценах один баррель сырья приносит 450 рублей дохода. Доход с каждой единицы продукта составляет 450 тыс. рублей, - поскольку объём указан в тысячах баррелей.\n",
    "- После оценки рисков нужно оставить лишь те регионы, в которых вероятность убытков меньше 2.5%. Среди них выбирают регион с наибольшей средней прибылью.\n",
    "    \n",
    "Данные синтетические: детали контрактов и характеристики месторождений не разглашаются. \n",
    "        \n",
    "</div> "
   ]
  },
  {
   "cell_type": "markdown",
   "metadata": {},
   "source": [
    "## Обучение и проверка модели"
   ]
  },
  {
   "cell_type": "code",
   "execution_count": 19,
   "metadata": {},
   "outputs": [
    {
     "name": "stdout",
     "output_type": "stream",
     "text": [
      "Cредний запас предсказанного сырья первого региона = 92.59\n",
      "RMSE3 первого региона = 37.58\n"
     ]
    }
   ],
   "source": [
    "# обучение и проверка модели на данных региона 1\n",
    "\n",
    "target = df1['product']\n",
    "features = df1.drop(['product', 'id'] , axis=1)\n",
    "features_train1, features_valid1, target_train1, target_valid1 = train_test_split(\n",
    "    features, target, test_size=0.25, random_state=12345)\n",
    "\n",
    "model = LinearRegression(fit_intercept=True)\n",
    "model.fit(features_train1, target_train1)\n",
    "predicted_valid1 = model.predict(features_valid1) \n",
    "rmse1 = mean_squared_error(target_valid1, predicted_valid1)**0.5\n",
    "\n",
    "print(\"Cредний запас предсказанного сырья первого региона =\", predicted_valid1.mean().round(2))\n",
    "print(\"RMSE3 первого региона = {0:.2f}\".format(rmse1))"
   ]
  },
  {
   "cell_type": "code",
   "execution_count": 20,
   "metadata": {},
   "outputs": [
    {
     "name": "stdout",
     "output_type": "stream",
     "text": [
      "Cредний запас предсказанного сырья второго региона = 68.73\n",
      "RMSE3 второго региона = 0.89\n"
     ]
    }
   ],
   "source": [
    "# обучение и проверка модели на данных региона 2\n",
    "\n",
    "target = df2['product'] # извлекаем целевой признак\n",
    "features = df2.drop(['product', 'id'] , axis=1) # извлекаем признаки \n",
    "features_train2, features_valid2, target_train2, target_valid2 = train_test_split(\n",
    "    features, target, test_size=0.25, random_state=12345) # отделяем 25% данных для валидационной выборки\n",
    "\n",
    "model = LinearRegression() # инициализируем модель LinearRegression\n",
    "model.fit(features_train2, target_train2) # обучаем модель на тренировочной выборке\n",
    "predicted_valid2 = model.predict(features_valid2) # получаем предсказания модели на валидационной выборке\n",
    "rmse2 = mean_squared_error(target_valid2, predicted_valid2)**0.5 # посчитаем значение метрики RMSE на валидационной выборке\n",
    "\n",
    "print(\"Cредний запас предсказанного сырья второго региона =\", predicted_valid2.mean().round(2))\n",
    "print(\"RMSE3 второго региона = {0:.2f}\".format(rmse2))"
   ]
  },
  {
   "cell_type": "code",
   "execution_count": 21,
   "metadata": {},
   "outputs": [
    {
     "name": "stdout",
     "output_type": "stream",
     "text": [
      "Cредний запас предсказанного сырья третьего региона = 94.97\n",
      "RMSE3 третьего региона = 40.03\n"
     ]
    }
   ],
   "source": [
    "# обучение и проверка модели на данных региона 3\n",
    "\n",
    "target = df3['product']\n",
    "features = df3.drop(['product', 'id'] , axis=1)\n",
    "features_train3, features_valid3, target_train3, target_valid3 = train_test_split(\n",
    "    features, target, test_size=0.25, random_state=12345)\n",
    "\n",
    "model = LinearRegression()\n",
    "model.fit(features_train3, target_train3) \n",
    "predicted_valid3 = model.predict(features_valid3) \n",
    "rmse3 = mean_squared_error(target_valid3, predicted_valid3)**0.5\n",
    "\n",
    "print(\"Cредний запас предсказанного сырья третьего региона =\", predicted_valid3.mean().round(2))\n",
    "print(\"RMSE3 третьего региона = {0:.2f}\".format(rmse3))"
   ]
  },
  {
   "cell_type": "markdown",
   "metadata": {},
   "source": [
    "<div style=\"border:solid green 2px; padding: 20px\">\n",
    "\n",
    "### Вывод\n",
    "\n",
    "Cредний запас предсказанного сырья  в первом и третьем регионе практически одинаковый, также одинаково высокий показатель RMSE (в среднем модели сильно ошибаются в предсказаниях). Однако во втором регионе несмотря на большое количество пустых скважин и меньшую величину среднего запаса нефти, показатель RMSE меньше единицы, что говорит о хороших предсказаниях модели.         \n",
    "\n",
    "</div> "
   ]
  },
  {
   "cell_type": "markdown",
   "metadata": {},
   "source": [
    "## Подготовка к расчёту прибыли"
   ]
  },
  {
   "cell_type": "code",
   "execution_count": 22,
   "metadata": {},
   "outputs": [
    {
     "name": "stdout",
     "output_type": "stream",
     "text": [
      "Точка безубыточности: 22222 тыс. баррелей\n"
     ]
    }
   ],
   "source": [
    "# доход с каждой единицы продукта, руб.\n",
    "income_per_barrel = 450 * 10**3\n",
    "\n",
    "# бюджет на разработку скважин в регионе, руб.\n",
    "budget = 10**10\n",
    "\n",
    "# рассчитаем минимальный объём сырья для безубыточной разработки новой скважины, тыс. баррелей\n",
    "min_product = budget/income_per_barrel\n",
    "\n",
    "print(\"Точка безубыточности: {0:.0f} тыс. баррелей\".format(min_product))"
   ]
  },
  {
   "cell_type": "code",
   "execution_count": 23,
   "metadata": {},
   "outputs": [
    {
     "name": "stdout",
     "output_type": "stream",
     "text": [
      "Средний объем нефти в скважине для безубыточного функционирования: 112.0\n"
     ]
    }
   ],
   "source": [
    "print(\"Средний объем нефти в скважине для безубыточного функционирования:\", np.ceil(min_product/200))"
   ]
  },
  {
   "cell_type": "markdown",
   "metadata": {},
   "source": [
    "<div style=\"border:solid green 2px; padding: 20px\">\n",
    "\n",
    "### Вывод\n",
    "\n",
    "Из анализа данных, средний запас предсказанного сырья в одной скважине:\n",
    "- 1 регион = 92.59 тыс. баррелей\n",
    "- 2 регион = 68.72 тыс. баррелей\n",
    "- 3 регион = 68.72 тыс. баррелей\n",
    "\n",
    "Средний объем нефти в одной скважине для безубыточного функционирования: 112.0 тыс. баррелей\n",
    "\n",
    "Запас сырья в скважинах регионов меньше, чем точка безубыточности.\n",
    "    \n",
    "</div> "
   ]
  },
  {
   "cell_type": "code",
   "execution_count": 24,
   "metadata": {},
   "outputs": [
    {
     "name": "stdout",
     "output_type": "stream",
     "text": [
      "Прибыль с лучших 200 скважин в первом регионе: 3.32 млрд. руб.\n",
      "Прибыль с лучших 200 скважин во втором регионе: 2.42 млрд. руб.\n",
      "Прибыль с лучших 200 скважин в третьем регионе: 2.71 млрд. руб.\n"
     ]
    }
   ],
   "source": [
    "# функция для расчёта прибыли по выбранным скважинам и предсказаниям модели\n",
    "\n",
    "def profit(target, predictions):\n",
    "    predictions_sorted = pd.Series(predictions).sort_values(ascending=False)[:200]\n",
    "    target_sorted = (target.reset_index(drop=True)[predictions_sorted.index])\n",
    "    target_sum = target_sorted.sum()\n",
    "    return round(target_sum * income_per_barrel - budget,2)\n",
    "\n",
    "print(\"Прибыль с лучших 200 скважин в первом регионе: {0:.2f} млрд. руб.\".format(profit(target_valid1, predicted_valid1)/10**9))\n",
    "print(\"Прибыль с лучших 200 скважин во втором регионе: {0:.2f} млрд. руб.\".format(profit(target_valid2, predicted_valid2)/10**9)) \n",
    "print(\"Прибыль с лучших 200 скважин в третьем регионе: {0:.2f} млрд. руб.\".format(profit(target_valid3, predicted_valid3)/10**9))"
   ]
  },
  {
   "cell_type": "markdown",
   "metadata": {},
   "source": [
    "## Расчёт прибыли и рисков "
   ]
  },
  {
   "cell_type": "markdown",
   "metadata": {},
   "source": [
    "### Первый регион:"
   ]
  },
  {
   "cell_type": "code",
   "execution_count": 25,
   "metadata": {},
   "outputs": [
    {
     "name": "stdout",
     "output_type": "stream",
     "text": [
      "ПЕРВЫЙ РЕГИОН:\n",
      "Средняя прибыль: 396164984.8\n",
      "95%-й доверитльный интервал: -111215545.89 , 909766941.55\n",
      "Риск убытков региона = 6.9 %\n"
     ]
    }
   ],
   "source": [
    "state = np.random.RandomState(12345)\n",
    "samples = []\n",
    "\n",
    "for i in range(1000):\n",
    "    sample = pd.Series(predicted_valid1).sample(n=500, replace=True, random_state=state)\n",
    "    samples.append(profit(target_valid1, sample))\n",
    "    \n",
    "samples = pd.Series(samples)\n",
    "mean = samples.mean().round(2)\n",
    "\n",
    "lower = samples.quantile(0.025).round(2) \n",
    "upper = samples.quantile(0.975).round(2) \n",
    "risk = (samples < 0).mean() * 100\n",
    "\n",
    "print(\"ПЕРВЫЙ РЕГИОН:\")\n",
    "print(\"Средняя прибыль:\", mean)\n",
    "print(\"95%-й доверитльный интервал:\", lower, ',', upper)\n",
    "print(\"Риск убытков региона =\", risk, '%')"
   ]
  },
  {
   "cell_type": "markdown",
   "metadata": {},
   "source": [
    "### Второй регион:"
   ]
  },
  {
   "cell_type": "code",
   "execution_count": 26,
   "metadata": {},
   "outputs": [
    {
     "name": "stdout",
     "output_type": "stream",
     "text": [
      "ВТОРОЙ РЕГИОН:\n",
      "Средняя прибыль: 456045105.79\n",
      "95%-й доверитльный интервал: 33820509.4 , 852289453.86\n",
      "Риск убытков региона = 1.5 %\n"
     ]
    }
   ],
   "source": [
    "state = np.random.RandomState(12345)\n",
    "samples = []\n",
    "\n",
    "for i in range(1000):\n",
    "    sample = pd.Series(predicted_valid2).sample(n=500, replace=True, random_state=state)\n",
    "    samples.append(profit(target_valid2, sample))\n",
    "    \n",
    "samples = pd.Series(samples)\n",
    "mean = samples.mean().round(2)\n",
    "\n",
    "lower = samples.quantile(0.025).round(2) \n",
    "upper = samples.quantile(0.975).round(2) \n",
    "risk = (samples < 0).mean() * 100\n",
    "\n",
    "print(\"ВТОРОЙ РЕГИОН:\")\n",
    "print(\"Средняя прибыль:\", mean)\n",
    "print(\"95%-й доверитльный интервал:\", lower, ',', upper)\n",
    "print(\"Риск убытков региона =\", risk, '%')"
   ]
  },
  {
   "cell_type": "markdown",
   "metadata": {},
   "source": [
    "### Третий регион:"
   ]
  },
  {
   "cell_type": "code",
   "execution_count": 27,
   "metadata": {},
   "outputs": [
    {
     "name": "stdout",
     "output_type": "stream",
     "text": [
      "ТРЕТИЙ РЕГИОН:\n",
      "Средняя прибыль: 404403866.57\n",
      "95%-й доверитльный интервал: -163350413.39 , 950359574.93\n",
      "Риск убытков региона = 7.6 %\n"
     ]
    }
   ],
   "source": [
    "state = np.random.RandomState(12345)\n",
    "samples = []\n",
    "\n",
    "for i in range(1000):\n",
    "    sample = pd.Series(predicted_valid3).sample(n=500, replace=True, random_state=state)\n",
    "    samples.append(profit(target_valid3, sample))\n",
    "    \n",
    "samples = pd.Series(samples)\n",
    "mean = samples.mean().round(2)\n",
    "\n",
    "lower = samples.quantile(0.025).round(2) \n",
    "upper = samples.quantile(0.975).round(2) \n",
    "risk = (samples < 0).mean() * 100\n",
    "\n",
    "print(\"ТРЕТИЙ РЕГИОН:\")\n",
    "print(\"Средняя прибыль:\", mean)\n",
    "print(\"95%-й доверитльный интервал:\", lower, ',', upper)\n",
    "print(\"Риск убытков региона =\", risk, '%')"
   ]
  },
  {
   "cell_type": "markdown",
   "metadata": {},
   "source": [
    "<div style=\"border:solid green 2px; padding: 20px\">\n",
    "    \n",
    "## Вывод  \n",
    "\n",
    "Анализ представленных данных показал, что наиболее перспективным для разработки является регион № 2, поскольку риски убытков наименьшие, а средняя прибыль наибольшая. Однако следует учитывать, что запасы объема нефти распределены по скважинам неравномерно, большая часть месторождений в регионе пустые.     \n",
    "    \n",
    "</div>    "
   ]
  }
 ],
 "metadata": {
  "ExecuteTimeLog": [
   {
    "duration": 1497,
    "start_time": "2022-03-18T19:48:42.369Z"
   },
   {
    "duration": 122,
    "start_time": "2022-03-18T19:58:21.828Z"
   },
   {
    "duration": 460,
    "start_time": "2022-03-18T19:58:40.509Z"
   },
   {
    "duration": 426,
    "start_time": "2022-03-18T19:58:51.019Z"
   },
   {
    "duration": 11,
    "start_time": "2022-03-18T19:58:55.092Z"
   },
   {
    "duration": 1435,
    "start_time": "2022-03-18T19:59:18.606Z"
   },
   {
    "duration": 418,
    "start_time": "2022-03-18T19:59:20.044Z"
   },
   {
    "duration": 137,
    "start_time": "2022-03-18T19:59:20.464Z"
   },
   {
    "duration": 94,
    "start_time": "2022-03-18T20:02:19.487Z"
   },
   {
    "duration": 99,
    "start_time": "2022-03-18T20:02:35.911Z"
   },
   {
    "duration": 107,
    "start_time": "2022-03-18T20:03:01.720Z"
   },
   {
    "duration": 65,
    "start_time": "2022-03-18T20:16:21.603Z"
   },
   {
    "duration": 54,
    "start_time": "2022-03-18T20:17:11.861Z"
   },
   {
    "duration": 55,
    "start_time": "2022-03-18T20:18:31.182Z"
   },
   {
    "duration": 71,
    "start_time": "2022-03-18T20:18:45.003Z"
   },
   {
    "duration": 63,
    "start_time": "2022-03-18T20:42:02.884Z"
   },
   {
    "duration": 5,
    "start_time": "2022-03-18T20:42:12.241Z"
   },
   {
    "duration": 59,
    "start_time": "2022-03-18T20:42:14.042Z"
   },
   {
    "duration": 657,
    "start_time": "2022-03-18T20:43:37.255Z"
   },
   {
    "duration": 283,
    "start_time": "2022-03-18T20:43:41.696Z"
   },
   {
    "duration": 269,
    "start_time": "2022-03-18T20:44:09.373Z"
   },
   {
    "duration": 412,
    "start_time": "2022-03-18T20:46:50.151Z"
   },
   {
    "duration": 281,
    "start_time": "2022-03-18T20:48:53.595Z"
   },
   {
    "duration": 44,
    "start_time": "2022-03-18T20:51:03.965Z"
   },
   {
    "duration": 44,
    "start_time": "2022-03-18T20:51:56.055Z"
   },
   {
    "duration": 42,
    "start_time": "2022-03-18T20:52:26.982Z"
   },
   {
    "duration": 45,
    "start_time": "2022-03-18T20:52:49.461Z"
   },
   {
    "duration": 13,
    "start_time": "2022-03-18T20:53:28.602Z"
   },
   {
    "duration": 14,
    "start_time": "2022-03-18T20:54:09.172Z"
   },
   {
    "duration": 13,
    "start_time": "2022-03-18T20:54:26.968Z"
   },
   {
    "duration": 84,
    "start_time": "2022-03-18T20:57:44.236Z"
   },
   {
    "duration": 178,
    "start_time": "2022-03-18T20:58:04.440Z"
   },
   {
    "duration": 95,
    "start_time": "2022-03-18T20:58:16.760Z"
   },
   {
    "duration": 94,
    "start_time": "2022-03-18T20:58:29.847Z"
   },
   {
    "duration": 101,
    "start_time": "2022-03-18T20:58:53.373Z"
   },
   {
    "duration": 70,
    "start_time": "2022-03-18T21:00:55.151Z"
   },
   {
    "duration": 67,
    "start_time": "2022-03-18T21:01:15.405Z"
   },
   {
    "duration": 71,
    "start_time": "2022-03-18T21:01:32.222Z"
   },
   {
    "duration": 27,
    "start_time": "2022-03-18T21:07:17.188Z"
   },
   {
    "duration": 15,
    "start_time": "2022-03-18T21:07:39.430Z"
   },
   {
    "duration": 15,
    "start_time": "2022-03-18T21:08:04.443Z"
   },
   {
    "duration": 1502,
    "start_time": "2022-03-19T12:42:11.329Z"
   },
   {
    "duration": 337,
    "start_time": "2022-03-19T12:42:12.833Z"
   },
   {
    "duration": 3,
    "start_time": "2022-03-19T12:42:13.172Z"
   },
   {
    "duration": 172,
    "start_time": "2022-03-19T12:42:13.176Z"
   },
   {
    "duration": 34,
    "start_time": "2022-03-19T12:42:13.350Z"
   },
   {
    "duration": 10,
    "start_time": "2022-03-19T12:42:13.385Z"
   },
   {
    "duration": 9,
    "start_time": "2022-03-19T12:42:13.397Z"
   },
   {
    "duration": 67,
    "start_time": "2022-03-19T12:42:13.407Z"
   },
   {
    "duration": 163,
    "start_time": "2022-03-19T12:42:13.475Z"
   },
   {
    "duration": 43,
    "start_time": "2022-03-19T12:42:13.640Z"
   },
   {
    "duration": 14,
    "start_time": "2022-03-19T12:42:13.685Z"
   },
   {
    "duration": 37,
    "start_time": "2022-03-19T12:42:13.701Z"
   },
   {
    "duration": 40,
    "start_time": "2022-03-19T12:42:13.740Z"
   },
   {
    "duration": 170,
    "start_time": "2022-03-19T12:42:13.782Z"
   },
   {
    "duration": 32,
    "start_time": "2022-03-19T12:42:13.953Z"
   },
   {
    "duration": 10,
    "start_time": "2022-03-19T12:42:13.987Z"
   },
   {
    "duration": 10,
    "start_time": "2022-03-19T12:42:13.999Z"
   },
   {
    "duration": 66,
    "start_time": "2022-03-19T12:42:14.011Z"
   },
   {
    "duration": 96,
    "start_time": "2022-03-19T12:52:36.742Z"
   },
   {
    "duration": 39,
    "start_time": "2022-03-19T12:52:48.595Z"
   },
   {
    "duration": 331,
    "start_time": "2022-03-19T13:02:22.685Z"
   },
   {
    "duration": 147,
    "start_time": "2022-03-19T13:02:28.176Z"
   },
   {
    "duration": 318,
    "start_time": "2022-03-19T13:02:41.181Z"
   },
   {
    "duration": 3,
    "start_time": "2022-03-19T13:02:42.128Z"
   },
   {
    "duration": 146,
    "start_time": "2022-03-19T13:02:44.138Z"
   },
   {
    "duration": 14,
    "start_time": "2022-03-19T13:06:28.445Z"
   },
   {
    "duration": 9,
    "start_time": "2022-03-19T13:28:48.692Z"
   },
   {
    "duration": 1345,
    "start_time": "2022-03-19T13:29:00.668Z"
   },
   {
    "duration": 342,
    "start_time": "2022-03-19T13:29:02.015Z"
   },
   {
    "duration": 3,
    "start_time": "2022-03-19T13:29:02.358Z"
   },
   {
    "duration": 116,
    "start_time": "2022-03-19T13:29:02.363Z"
   },
   {
    "duration": 0,
    "start_time": "2022-03-19T13:29:02.481Z"
   },
   {
    "duration": 0,
    "start_time": "2022-03-19T13:29:02.482Z"
   },
   {
    "duration": 0,
    "start_time": "2022-03-19T13:29:02.483Z"
   },
   {
    "duration": 0,
    "start_time": "2022-03-19T13:29:02.485Z"
   },
   {
    "duration": 0,
    "start_time": "2022-03-19T13:29:02.486Z"
   },
   {
    "duration": 0,
    "start_time": "2022-03-19T13:29:02.487Z"
   },
   {
    "duration": 0,
    "start_time": "2022-03-19T13:29:02.488Z"
   },
   {
    "duration": 0,
    "start_time": "2022-03-19T13:29:02.489Z"
   },
   {
    "duration": 0,
    "start_time": "2022-03-19T13:29:02.490Z"
   },
   {
    "duration": 0,
    "start_time": "2022-03-19T13:29:02.492Z"
   },
   {
    "duration": 0,
    "start_time": "2022-03-19T13:29:02.493Z"
   },
   {
    "duration": 0,
    "start_time": "2022-03-19T13:29:02.494Z"
   },
   {
    "duration": 0,
    "start_time": "2022-03-19T13:29:02.495Z"
   },
   {
    "duration": 0,
    "start_time": "2022-03-19T13:29:02.496Z"
   },
   {
    "duration": 156,
    "start_time": "2022-03-19T13:29:28.422Z"
   },
   {
    "duration": 33,
    "start_time": "2022-03-19T13:29:35.475Z"
   },
   {
    "duration": 1403,
    "start_time": "2022-03-19T13:30:49.603Z"
   },
   {
    "duration": 355,
    "start_time": "2022-03-19T13:33:52.525Z"
   },
   {
    "duration": 1350,
    "start_time": "2022-03-19T13:34:57.077Z"
   },
   {
    "duration": 333,
    "start_time": "2022-03-19T13:34:58.429Z"
   },
   {
    "duration": 3,
    "start_time": "2022-03-19T13:34:58.764Z"
   },
   {
    "duration": 175,
    "start_time": "2022-03-19T13:34:58.770Z"
   },
   {
    "duration": 36,
    "start_time": "2022-03-19T13:34:58.946Z"
   },
   {
    "duration": 10,
    "start_time": "2022-03-19T13:34:58.984Z"
   },
   {
    "duration": 10,
    "start_time": "2022-03-19T13:34:58.996Z"
   },
   {
    "duration": 43,
    "start_time": "2022-03-19T13:34:59.034Z"
   },
   {
    "duration": 111,
    "start_time": "2022-03-19T13:34:59.079Z"
   },
   {
    "duration": 0,
    "start_time": "2022-03-19T13:34:59.192Z"
   },
   {
    "duration": 0,
    "start_time": "2022-03-19T13:34:59.193Z"
   },
   {
    "duration": 0,
    "start_time": "2022-03-19T13:34:59.194Z"
   },
   {
    "duration": 0,
    "start_time": "2022-03-19T13:34:59.195Z"
   },
   {
    "duration": 0,
    "start_time": "2022-03-19T13:34:59.196Z"
   },
   {
    "duration": 0,
    "start_time": "2022-03-19T13:34:59.197Z"
   },
   {
    "duration": 0,
    "start_time": "2022-03-19T13:34:59.198Z"
   },
   {
    "duration": 0,
    "start_time": "2022-03-19T13:34:59.199Z"
   },
   {
    "duration": 0,
    "start_time": "2022-03-19T13:34:59.200Z"
   },
   {
    "duration": 0,
    "start_time": "2022-03-19T13:34:59.201Z"
   },
   {
    "duration": 1369,
    "start_time": "2022-03-19T13:35:27.533Z"
   },
   {
    "duration": 346,
    "start_time": "2022-03-19T13:35:28.904Z"
   },
   {
    "duration": 3,
    "start_time": "2022-03-19T13:35:29.252Z"
   },
   {
    "duration": 175,
    "start_time": "2022-03-19T13:35:29.257Z"
   },
   {
    "duration": 33,
    "start_time": "2022-03-19T13:35:29.434Z"
   },
   {
    "duration": 10,
    "start_time": "2022-03-19T13:35:29.469Z"
   },
   {
    "duration": 9,
    "start_time": "2022-03-19T13:35:29.481Z"
   },
   {
    "duration": 66,
    "start_time": "2022-03-19T13:35:29.491Z"
   },
   {
    "duration": 105,
    "start_time": "2022-03-19T13:35:29.559Z"
   },
   {
    "duration": 0,
    "start_time": "2022-03-19T13:35:29.666Z"
   },
   {
    "duration": 0,
    "start_time": "2022-03-19T13:35:29.667Z"
   },
   {
    "duration": 0,
    "start_time": "2022-03-19T13:35:29.668Z"
   },
   {
    "duration": 0,
    "start_time": "2022-03-19T13:35:29.669Z"
   },
   {
    "duration": 0,
    "start_time": "2022-03-19T13:35:29.669Z"
   },
   {
    "duration": 0,
    "start_time": "2022-03-19T13:35:29.670Z"
   },
   {
    "duration": 0,
    "start_time": "2022-03-19T13:35:29.671Z"
   },
   {
    "duration": 0,
    "start_time": "2022-03-19T13:35:29.672Z"
   },
   {
    "duration": 0,
    "start_time": "2022-03-19T13:35:29.674Z"
   },
   {
    "duration": 0,
    "start_time": "2022-03-19T13:35:29.674Z"
   },
   {
    "duration": 46,
    "start_time": "2022-03-19T13:35:47.278Z"
   },
   {
    "duration": 10,
    "start_time": "2022-03-19T13:35:47.973Z"
   },
   {
    "duration": 94,
    "start_time": "2022-03-19T13:46:42.138Z"
   },
   {
    "duration": 3,
    "start_time": "2022-03-19T13:46:46.981Z"
   },
   {
    "duration": 163,
    "start_time": "2022-03-19T13:53:52.815Z"
   },
   {
    "duration": 136,
    "start_time": "2022-03-19T13:54:36.041Z"
   },
   {
    "duration": 144,
    "start_time": "2022-03-19T13:55:07.922Z"
   },
   {
    "duration": 30,
    "start_time": "2022-03-19T14:09:41.456Z"
   },
   {
    "duration": 3,
    "start_time": "2022-03-19T14:10:42.728Z"
   },
   {
    "duration": 50,
    "start_time": "2022-03-19T14:10:49.536Z"
   },
   {
    "duration": 1341,
    "start_time": "2022-03-19T14:12:56.499Z"
   },
   {
    "duration": 335,
    "start_time": "2022-03-19T14:12:57.842Z"
   },
   {
    "duration": 4,
    "start_time": "2022-03-19T14:12:58.179Z"
   },
   {
    "duration": 173,
    "start_time": "2022-03-19T14:12:58.185Z"
   },
   {
    "duration": 36,
    "start_time": "2022-03-19T14:12:58.360Z"
   },
   {
    "duration": 11,
    "start_time": "2022-03-19T14:12:58.397Z"
   },
   {
    "duration": 30,
    "start_time": "2022-03-19T14:12:58.409Z"
   },
   {
    "duration": 41,
    "start_time": "2022-03-19T14:12:58.440Z"
   },
   {
    "duration": 165,
    "start_time": "2022-03-19T14:12:58.483Z"
   },
   {
    "duration": 165,
    "start_time": "2022-03-19T14:12:58.650Z"
   },
   {
    "duration": 36,
    "start_time": "2022-03-19T14:12:58.817Z"
   },
   {
    "duration": 10,
    "start_time": "2022-03-19T14:12:58.854Z"
   },
   {
    "duration": 12,
    "start_time": "2022-03-19T14:12:58.865Z"
   },
   {
    "duration": 62,
    "start_time": "2022-03-19T14:12:58.878Z"
   },
   {
    "duration": 145,
    "start_time": "2022-03-19T14:12:58.941Z"
   },
   {
    "duration": 155,
    "start_time": "2022-03-19T14:12:59.087Z"
   },
   {
    "duration": 32,
    "start_time": "2022-03-19T14:12:59.244Z"
   },
   {
    "duration": 10,
    "start_time": "2022-03-19T14:12:59.277Z"
   },
   {
    "duration": 12,
    "start_time": "2022-03-19T14:12:59.289Z"
   },
   {
    "duration": 72,
    "start_time": "2022-03-19T14:12:59.302Z"
   },
   {
    "duration": 220,
    "start_time": "2022-03-19T14:12:59.375Z"
   },
   {
    "duration": 145,
    "start_time": "2022-03-19T14:12:59.597Z"
   },
   {
    "duration": 53,
    "start_time": "2022-03-19T14:14:08.059Z"
   },
   {
    "duration": 54,
    "start_time": "2022-03-19T14:20:57.450Z"
   },
   {
    "duration": 11,
    "start_time": "2022-03-19T14:23:30.335Z"
   },
   {
    "duration": 8,
    "start_time": "2022-03-19T14:23:55.483Z"
   },
   {
    "duration": 8,
    "start_time": "2022-03-19T14:27:54.498Z"
   },
   {
    "duration": 116,
    "start_time": "2022-03-19T14:29:10.246Z"
   },
   {
    "duration": 10,
    "start_time": "2022-03-19T14:29:32.540Z"
   },
   {
    "duration": 9,
    "start_time": "2022-03-19T14:29:41.377Z"
   },
   {
    "duration": 10,
    "start_time": "2022-03-19T14:29:46.859Z"
   },
   {
    "duration": 9,
    "start_time": "2022-03-19T14:30:01.785Z"
   },
   {
    "duration": 9,
    "start_time": "2022-03-19T14:30:18.126Z"
   },
   {
    "duration": 9,
    "start_time": "2022-03-19T14:32:32.514Z"
   },
   {
    "duration": 9,
    "start_time": "2022-03-19T14:32:45.819Z"
   },
   {
    "duration": 9,
    "start_time": "2022-03-19T14:32:54.569Z"
   },
   {
    "duration": 9,
    "start_time": "2022-03-19T14:33:00.255Z"
   },
   {
    "duration": 1921,
    "start_time": "2022-03-19T14:33:07.438Z"
   },
   {
    "duration": 9,
    "start_time": "2022-03-19T14:33:17.034Z"
   },
   {
    "duration": 74,
    "start_time": "2022-03-19T14:36:34.300Z"
   },
   {
    "duration": 54,
    "start_time": "2022-03-19T14:48:32.835Z"
   },
   {
    "duration": 52,
    "start_time": "2022-03-19T14:48:40.303Z"
   },
   {
    "duration": 1660,
    "start_time": "2022-03-19T14:49:22.253Z"
   },
   {
    "duration": 340,
    "start_time": "2022-03-19T14:49:23.915Z"
   },
   {
    "duration": 4,
    "start_time": "2022-03-19T14:49:24.257Z"
   },
   {
    "duration": 178,
    "start_time": "2022-03-19T14:49:24.263Z"
   },
   {
    "duration": 34,
    "start_time": "2022-03-19T14:49:24.442Z"
   },
   {
    "duration": 12,
    "start_time": "2022-03-19T14:49:24.477Z"
   },
   {
    "duration": 10,
    "start_time": "2022-03-19T14:49:24.490Z"
   },
   {
    "duration": 71,
    "start_time": "2022-03-19T14:49:24.501Z"
   },
   {
    "duration": 166,
    "start_time": "2022-03-19T14:49:24.574Z"
   },
   {
    "duration": 168,
    "start_time": "2022-03-19T14:49:24.744Z"
   },
   {
    "duration": 45,
    "start_time": "2022-03-19T14:49:24.914Z"
   },
   {
    "duration": 10,
    "start_time": "2022-03-19T14:49:24.962Z"
   },
   {
    "duration": 14,
    "start_time": "2022-03-19T14:49:24.974Z"
   },
   {
    "duration": 66,
    "start_time": "2022-03-19T14:49:24.989Z"
   },
   {
    "duration": 150,
    "start_time": "2022-03-19T14:49:25.056Z"
   },
   {
    "duration": 160,
    "start_time": "2022-03-19T14:49:25.208Z"
   },
   {
    "duration": 33,
    "start_time": "2022-03-19T14:49:25.370Z"
   },
   {
    "duration": 10,
    "start_time": "2022-03-19T14:49:25.405Z"
   },
   {
    "duration": 10,
    "start_time": "2022-03-19T14:49:25.433Z"
   },
   {
    "duration": 46,
    "start_time": "2022-03-19T14:49:25.444Z"
   },
   {
    "duration": 248,
    "start_time": "2022-03-19T14:49:25.492Z"
   },
   {
    "duration": 153,
    "start_time": "2022-03-19T14:49:25.742Z"
   },
   {
    "duration": 1,
    "start_time": "2022-03-19T14:49:25.896Z"
   },
   {
    "duration": 0,
    "start_time": "2022-03-19T14:49:25.898Z"
   },
   {
    "duration": 61,
    "start_time": "2022-03-19T14:59:45.442Z"
   },
   {
    "duration": 9,
    "start_time": "2022-03-19T15:00:21.448Z"
   },
   {
    "duration": 52,
    "start_time": "2022-03-19T15:00:31.350Z"
   },
   {
    "duration": 55,
    "start_time": "2022-03-19T15:00:41.488Z"
   },
   {
    "duration": 55,
    "start_time": "2022-03-19T15:00:49.589Z"
   },
   {
    "duration": 61,
    "start_time": "2022-03-19T15:05:55.676Z"
   },
   {
    "duration": 28,
    "start_time": "2022-03-19T15:14:09.390Z"
   },
   {
    "duration": 24,
    "start_time": "2022-03-19T15:15:29.346Z"
   },
   {
    "duration": 97,
    "start_time": "2022-03-19T15:15:59.946Z"
   },
   {
    "duration": 26,
    "start_time": "2022-03-19T15:16:21.545Z"
   },
   {
    "duration": 33,
    "start_time": "2022-03-19T15:17:46.046Z"
   },
   {
    "duration": 27,
    "start_time": "2022-03-19T15:42:26.646Z"
   },
   {
    "duration": 25,
    "start_time": "2022-03-19T15:43:09.682Z"
   },
   {
    "duration": 25,
    "start_time": "2022-03-19T15:43:50.894Z"
   },
   {
    "duration": 26,
    "start_time": "2022-03-19T16:16:34.114Z"
   },
   {
    "duration": 26,
    "start_time": "2022-03-19T16:17:56.871Z"
   },
   {
    "duration": 27,
    "start_time": "2022-03-19T16:18:23.255Z"
   },
   {
    "duration": 47,
    "start_time": "2022-03-19T18:55:12.224Z"
   },
   {
    "duration": 8,
    "start_time": "2022-03-19T18:55:22.239Z"
   },
   {
    "duration": 1576,
    "start_time": "2022-03-19T18:55:58.223Z"
   },
   {
    "duration": 340,
    "start_time": "2022-03-19T18:55:59.801Z"
   },
   {
    "duration": 4,
    "start_time": "2022-03-19T18:56:00.143Z"
   },
   {
    "duration": 185,
    "start_time": "2022-03-19T18:56:00.149Z"
   },
   {
    "duration": 36,
    "start_time": "2022-03-19T18:56:00.336Z"
   },
   {
    "duration": 12,
    "start_time": "2022-03-19T18:56:00.374Z"
   },
   {
    "duration": 9,
    "start_time": "2022-03-19T18:56:00.388Z"
   },
   {
    "duration": 74,
    "start_time": "2022-03-19T18:56:00.399Z"
   },
   {
    "duration": 168,
    "start_time": "2022-03-19T18:56:00.474Z"
   },
   {
    "duration": 162,
    "start_time": "2022-03-19T18:56:00.644Z"
   },
   {
    "duration": 41,
    "start_time": "2022-03-19T18:56:00.808Z"
   },
   {
    "duration": 10,
    "start_time": "2022-03-19T18:56:00.851Z"
   },
   {
    "duration": 13,
    "start_time": "2022-03-19T18:56:00.863Z"
   },
   {
    "duration": 64,
    "start_time": "2022-03-19T18:56:00.877Z"
   },
   {
    "duration": 149,
    "start_time": "2022-03-19T18:56:00.942Z"
   },
   {
    "duration": 165,
    "start_time": "2022-03-19T18:56:01.093Z"
   },
   {
    "duration": 32,
    "start_time": "2022-03-19T18:56:01.259Z"
   },
   {
    "duration": 11,
    "start_time": "2022-03-19T18:56:01.293Z"
   },
   {
    "duration": 30,
    "start_time": "2022-03-19T18:56:01.306Z"
   },
   {
    "duration": 44,
    "start_time": "2022-03-19T18:56:01.338Z"
   },
   {
    "duration": 281,
    "start_time": "2022-03-19T18:56:01.384Z"
   },
   {
    "duration": 67,
    "start_time": "2022-03-19T18:56:01.667Z"
   },
   {
    "duration": 415,
    "start_time": "2022-03-19T18:56:01.736Z"
   },
   {
    "duration": 0,
    "start_time": "2022-03-19T18:56:02.153Z"
   },
   {
    "duration": 31,
    "start_time": "2022-03-19T18:56:47.308Z"
   },
   {
    "duration": 27,
    "start_time": "2022-03-19T18:57:33.424Z"
   },
   {
    "duration": 102,
    "start_time": "2022-03-19T18:58:20.143Z"
   },
   {
    "duration": 33,
    "start_time": "2022-03-19T18:59:06.553Z"
   },
   {
    "duration": 4,
    "start_time": "2022-03-19T19:55:22.583Z"
   },
   {
    "duration": 14,
    "start_time": "2022-03-19T19:55:30.266Z"
   },
   {
    "duration": 13,
    "start_time": "2022-03-19T19:56:29.894Z"
   },
   {
    "duration": 14,
    "start_time": "2022-03-19T19:57:06.492Z"
   },
   {
    "duration": 1906,
    "start_time": "2022-03-19T19:59:27.091Z"
   },
   {
    "duration": 15,
    "start_time": "2022-03-19T19:59:43.894Z"
   },
   {
    "duration": 14,
    "start_time": "2022-03-19T20:01:12.762Z"
   },
   {
    "duration": 15,
    "start_time": "2022-03-19T20:02:00.492Z"
   },
   {
    "duration": 17,
    "start_time": "2022-03-19T20:02:11.331Z"
   },
   {
    "duration": 15,
    "start_time": "2022-03-19T20:02:18.472Z"
   },
   {
    "duration": 5,
    "start_time": "2022-03-19T20:21:19.527Z"
   },
   {
    "duration": 17,
    "start_time": "2022-03-19T20:22:46.064Z"
   },
   {
    "duration": 4,
    "start_time": "2022-03-19T20:22:53.496Z"
   },
   {
    "duration": 4,
    "start_time": "2022-03-19T20:23:37.004Z"
   },
   {
    "duration": 5,
    "start_time": "2022-03-19T20:23:40.355Z"
   },
   {
    "duration": 3,
    "start_time": "2022-03-19T20:24:09.234Z"
   },
   {
    "duration": 15,
    "start_time": "2022-03-19T20:39:01.998Z"
   },
   {
    "duration": 16,
    "start_time": "2022-03-19T20:39:30.875Z"
   },
   {
    "duration": 21,
    "start_time": "2022-03-19T20:42:18.935Z"
   },
   {
    "duration": 17,
    "start_time": "2022-03-19T20:42:31.297Z"
   },
   {
    "duration": 5,
    "start_time": "2022-03-19T20:43:54.919Z"
   },
   {
    "duration": 7,
    "start_time": "2022-03-19T20:45:12.059Z"
   },
   {
    "duration": 17,
    "start_time": "2022-03-19T20:45:23.411Z"
   },
   {
    "duration": 17,
    "start_time": "2022-03-19T20:48:11.693Z"
   },
   {
    "duration": 16,
    "start_time": "2022-03-19T20:49:12.672Z"
   },
   {
    "duration": 85,
    "start_time": "2022-03-19T20:57:03.850Z"
   },
   {
    "duration": 70,
    "start_time": "2022-03-19T20:57:28.664Z"
   },
   {
    "duration": 71,
    "start_time": "2022-03-19T20:57:40.562Z"
   },
   {
    "duration": 29,
    "start_time": "2022-03-19T20:57:48.629Z"
   },
   {
    "duration": 19,
    "start_time": "2022-03-19T20:58:36.024Z"
   },
   {
    "duration": 17,
    "start_time": "2022-03-19T21:00:17.306Z"
   },
   {
    "duration": 1604,
    "start_time": "2022-03-19T21:00:56.159Z"
   },
   {
    "duration": 338,
    "start_time": "2022-03-19T21:00:57.765Z"
   },
   {
    "duration": 3,
    "start_time": "2022-03-19T21:00:58.105Z"
   },
   {
    "duration": 178,
    "start_time": "2022-03-19T21:00:58.110Z"
   },
   {
    "duration": 45,
    "start_time": "2022-03-19T21:00:58.289Z"
   },
   {
    "duration": 12,
    "start_time": "2022-03-19T21:00:58.335Z"
   },
   {
    "duration": 9,
    "start_time": "2022-03-19T21:00:58.348Z"
   },
   {
    "duration": 52,
    "start_time": "2022-03-19T21:00:58.359Z"
   },
   {
    "duration": 170,
    "start_time": "2022-03-19T21:00:58.413Z"
   },
   {
    "duration": 167,
    "start_time": "2022-03-19T21:00:58.585Z"
   },
   {
    "duration": 32,
    "start_time": "2022-03-19T21:00:58.753Z"
   },
   {
    "duration": 10,
    "start_time": "2022-03-19T21:00:58.786Z"
   },
   {
    "duration": 11,
    "start_time": "2022-03-19T21:00:58.799Z"
   },
   {
    "duration": 61,
    "start_time": "2022-03-19T21:00:58.811Z"
   },
   {
    "duration": 151,
    "start_time": "2022-03-19T21:00:58.873Z"
   },
   {
    "duration": 157,
    "start_time": "2022-03-19T21:00:59.033Z"
   },
   {
    "duration": 42,
    "start_time": "2022-03-19T21:00:59.192Z"
   },
   {
    "duration": 11,
    "start_time": "2022-03-19T21:00:59.235Z"
   },
   {
    "duration": 15,
    "start_time": "2022-03-19T21:00:59.247Z"
   },
   {
    "duration": 46,
    "start_time": "2022-03-19T21:00:59.264Z"
   },
   {
    "duration": 244,
    "start_time": "2022-03-19T21:00:59.311Z"
   },
   {
    "duration": 78,
    "start_time": "2022-03-19T21:00:59.556Z"
   },
   {
    "duration": 117,
    "start_time": "2022-03-19T21:00:59.637Z"
   },
   {
    "duration": 187,
    "start_time": "2022-03-19T21:00:59.756Z"
   },
   {
    "duration": 189,
    "start_time": "2022-03-19T21:00:59.945Z"
   },
   {
    "duration": 22,
    "start_time": "2022-03-19T21:01:00.136Z"
   },
   {
    "duration": 21,
    "start_time": "2022-03-19T21:01:00.160Z"
   },
   {
    "duration": 21,
    "start_time": "2022-03-19T21:01:58.547Z"
   },
   {
    "duration": 21,
    "start_time": "2022-03-19T21:02:12.294Z"
   },
   {
    "duration": 15,
    "start_time": "2022-03-19T21:03:12.451Z"
   },
   {
    "duration": 16,
    "start_time": "2022-03-19T21:03:25.522Z"
   },
   {
    "duration": 16,
    "start_time": "2022-03-19T21:03:33.371Z"
   },
   {
    "duration": 17,
    "start_time": "2022-03-19T21:03:49.486Z"
   },
   {
    "duration": 17,
    "start_time": "2022-03-19T21:03:56.538Z"
   },
   {
    "duration": 18,
    "start_time": "2022-03-19T21:04:00.933Z"
   },
   {
    "duration": 18,
    "start_time": "2022-03-19T21:06:21.102Z"
   },
   {
    "duration": 21,
    "start_time": "2022-03-19T21:07:14.234Z"
   },
   {
    "duration": 16,
    "start_time": "2022-03-19T21:07:23.233Z"
   },
   {
    "duration": 1411,
    "start_time": "2022-03-19T21:07:34.616Z"
   },
   {
    "duration": 344,
    "start_time": "2022-03-19T21:07:36.029Z"
   },
   {
    "duration": 4,
    "start_time": "2022-03-19T21:07:36.374Z"
   },
   {
    "duration": 178,
    "start_time": "2022-03-19T21:07:36.380Z"
   },
   {
    "duration": 35,
    "start_time": "2022-03-19T21:07:36.560Z"
   },
   {
    "duration": 11,
    "start_time": "2022-03-19T21:07:36.597Z"
   },
   {
    "duration": 27,
    "start_time": "2022-03-19T21:07:36.610Z"
   },
   {
    "duration": 46,
    "start_time": "2022-03-19T21:07:36.639Z"
   },
   {
    "duration": 170,
    "start_time": "2022-03-19T21:07:36.687Z"
   },
   {
    "duration": 167,
    "start_time": "2022-03-19T21:07:36.861Z"
   },
   {
    "duration": 33,
    "start_time": "2022-03-19T21:07:37.033Z"
   },
   {
    "duration": 11,
    "start_time": "2022-03-19T21:07:37.068Z"
   },
   {
    "duration": 17,
    "start_time": "2022-03-19T21:07:37.081Z"
   },
   {
    "duration": 62,
    "start_time": "2022-03-19T21:07:37.100Z"
   },
   {
    "duration": 208,
    "start_time": "2022-03-19T21:07:37.164Z"
   },
   {
    "duration": 223,
    "start_time": "2022-03-19T21:07:37.373Z"
   },
   {
    "duration": 47,
    "start_time": "2022-03-19T21:07:37.597Z"
   },
   {
    "duration": 17,
    "start_time": "2022-03-19T21:07:37.645Z"
   },
   {
    "duration": 12,
    "start_time": "2022-03-19T21:07:37.663Z"
   },
   {
    "duration": 64,
    "start_time": "2022-03-19T21:07:37.677Z"
   },
   {
    "duration": 229,
    "start_time": "2022-03-19T21:07:37.742Z"
   },
   {
    "duration": 69,
    "start_time": "2022-03-19T21:07:37.973Z"
   },
   {
    "duration": 190,
    "start_time": "2022-03-19T21:07:38.044Z"
   },
   {
    "duration": 121,
    "start_time": "2022-03-19T21:07:38.236Z"
   },
   {
    "duration": 181,
    "start_time": "2022-03-19T21:07:38.360Z"
   },
   {
    "duration": 18,
    "start_time": "2022-03-19T21:07:38.543Z"
   },
   {
    "duration": 16,
    "start_time": "2022-03-19T21:07:38.562Z"
   },
   {
    "duration": 21,
    "start_time": "2022-03-19T21:07:56.612Z"
   },
   {
    "duration": 99,
    "start_time": "2022-03-19T21:24:38.169Z"
   },
   {
    "duration": 22,
    "start_time": "2022-03-19T21:24:48.693Z"
   },
   {
    "duration": 14,
    "start_time": "2022-03-19T21:25:11.990Z"
   },
   {
    "duration": 1644,
    "start_time": "2022-03-19T21:25:24.799Z"
   },
   {
    "duration": 352,
    "start_time": "2022-03-19T21:25:26.445Z"
   },
   {
    "duration": 3,
    "start_time": "2022-03-19T21:25:26.799Z"
   },
   {
    "duration": 174,
    "start_time": "2022-03-19T21:25:26.804Z"
   },
   {
    "duration": 34,
    "start_time": "2022-03-19T21:25:26.980Z"
   },
   {
    "duration": 24,
    "start_time": "2022-03-19T21:25:27.016Z"
   },
   {
    "duration": 10,
    "start_time": "2022-03-19T21:25:27.041Z"
   },
   {
    "duration": 59,
    "start_time": "2022-03-19T21:25:27.053Z"
   },
   {
    "duration": 155,
    "start_time": "2022-03-19T21:25:27.132Z"
   },
   {
    "duration": 161,
    "start_time": "2022-03-19T21:25:27.290Z"
   },
   {
    "duration": 31,
    "start_time": "2022-03-19T21:25:27.452Z"
   },
   {
    "duration": 9,
    "start_time": "2022-03-19T21:25:27.485Z"
   },
   {
    "duration": 15,
    "start_time": "2022-03-19T21:25:27.496Z"
   },
   {
    "duration": 41,
    "start_time": "2022-03-19T21:25:27.533Z"
   },
   {
    "duration": 150,
    "start_time": "2022-03-19T21:25:27.576Z"
   },
   {
    "duration": 162,
    "start_time": "2022-03-19T21:25:27.732Z"
   },
   {
    "duration": 43,
    "start_time": "2022-03-19T21:25:27.897Z"
   },
   {
    "duration": 9,
    "start_time": "2022-03-19T21:25:27.941Z"
   },
   {
    "duration": 12,
    "start_time": "2022-03-19T21:25:27.952Z"
   },
   {
    "duration": 43,
    "start_time": "2022-03-19T21:25:27.965Z"
   },
   {
    "duration": 257,
    "start_time": "2022-03-19T21:25:28.010Z"
   },
   {
    "duration": 68,
    "start_time": "2022-03-19T21:25:28.269Z"
   },
   {
    "duration": 119,
    "start_time": "2022-03-19T21:25:28.339Z"
   },
   {
    "duration": 191,
    "start_time": "2022-03-19T21:25:28.460Z"
   },
   {
    "duration": 266,
    "start_time": "2022-03-19T21:25:28.652Z"
   },
   {
    "duration": 0,
    "start_time": "2022-03-19T21:25:28.920Z"
   },
   {
    "duration": 0,
    "start_time": "2022-03-19T21:25:28.933Z"
   },
   {
    "duration": 19,
    "start_time": "2022-03-19T21:26:17.828Z"
   },
   {
    "duration": 18,
    "start_time": "2022-03-19T21:26:31.687Z"
   },
   {
    "duration": 19,
    "start_time": "2022-03-19T21:26:38.326Z"
   },
   {
    "duration": 21,
    "start_time": "2022-03-19T21:26:42.349Z"
   },
   {
    "duration": 18,
    "start_time": "2022-03-19T21:29:37.954Z"
   },
   {
    "duration": 17,
    "start_time": "2022-03-19T21:33:42.036Z"
   },
   {
    "duration": 18,
    "start_time": "2022-03-19T21:39:12.804Z"
   },
   {
    "duration": 23,
    "start_time": "2022-03-19T21:40:08.415Z"
   },
   {
    "duration": 18,
    "start_time": "2022-03-19T21:45:30.898Z"
   },
   {
    "duration": 4,
    "start_time": "2022-03-19T21:49:00.696Z"
   },
   {
    "duration": 10,
    "start_time": "2022-03-19T21:49:25.282Z"
   },
   {
    "duration": 20,
    "start_time": "2022-03-19T21:50:08.485Z"
   },
   {
    "duration": 1763,
    "start_time": "2022-03-20T19:28:47.865Z"
   },
   {
    "duration": 353,
    "start_time": "2022-03-20T19:28:49.631Z"
   },
   {
    "duration": 4,
    "start_time": "2022-03-20T19:28:49.985Z"
   },
   {
    "duration": 173,
    "start_time": "2022-03-20T19:28:49.991Z"
   },
   {
    "duration": 38,
    "start_time": "2022-03-20T19:28:50.166Z"
   },
   {
    "duration": 11,
    "start_time": "2022-03-20T19:28:50.206Z"
   },
   {
    "duration": 10,
    "start_time": "2022-03-20T19:28:50.219Z"
   },
   {
    "duration": 68,
    "start_time": "2022-03-20T19:28:50.230Z"
   },
   {
    "duration": 149,
    "start_time": "2022-03-20T19:28:50.300Z"
   },
   {
    "duration": 160,
    "start_time": "2022-03-20T19:28:50.452Z"
   },
   {
    "duration": 30,
    "start_time": "2022-03-20T19:28:50.614Z"
   },
   {
    "duration": 8,
    "start_time": "2022-03-20T19:28:50.646Z"
   },
   {
    "duration": 26,
    "start_time": "2022-03-20T19:28:50.656Z"
   },
   {
    "duration": 37,
    "start_time": "2022-03-20T19:28:50.684Z"
   },
   {
    "duration": 140,
    "start_time": "2022-03-20T19:28:50.722Z"
   },
   {
    "duration": 156,
    "start_time": "2022-03-20T19:28:50.863Z"
   },
   {
    "duration": 34,
    "start_time": "2022-03-20T19:28:51.021Z"
   },
   {
    "duration": 10,
    "start_time": "2022-03-20T19:28:51.056Z"
   },
   {
    "duration": 9,
    "start_time": "2022-03-20T19:28:51.080Z"
   },
   {
    "duration": 50,
    "start_time": "2022-03-20T19:28:51.090Z"
   },
   {
    "duration": 201,
    "start_time": "2022-03-20T19:28:51.142Z"
   },
   {
    "duration": 38,
    "start_time": "2022-03-20T19:28:51.345Z"
   },
   {
    "duration": 211,
    "start_time": "2022-03-20T19:28:51.385Z"
   },
   {
    "duration": 206,
    "start_time": "2022-03-20T19:28:51.598Z"
   },
   {
    "duration": 203,
    "start_time": "2022-03-20T19:28:51.806Z"
   },
   {
    "duration": 39,
    "start_time": "2022-03-20T19:28:52.010Z"
   },
   {
    "duration": 22,
    "start_time": "2022-03-20T19:28:52.051Z"
   },
   {
    "duration": 40,
    "start_time": "2022-03-20T19:28:52.076Z"
   },
   {
    "duration": 18,
    "start_time": "2022-03-20T19:29:24.524Z"
   },
   {
    "duration": 18,
    "start_time": "2022-03-20T19:32:33.967Z"
   },
   {
    "duration": 18,
    "start_time": "2022-03-20T19:32:51.247Z"
   },
   {
    "duration": 18,
    "start_time": "2022-03-20T19:38:19.788Z"
   },
   {
    "duration": 18,
    "start_time": "2022-03-20T19:42:24.667Z"
   },
   {
    "duration": 8,
    "start_time": "2022-03-20T19:45:28.903Z"
   },
   {
    "duration": 7,
    "start_time": "2022-03-20T19:53:43.156Z"
   },
   {
    "duration": 176,
    "start_time": "2022-03-20T19:57:03.363Z"
   },
   {
    "duration": 8,
    "start_time": "2022-03-20T19:57:53.158Z"
   },
   {
    "duration": 5,
    "start_time": "2022-03-20T20:01:00.763Z"
   },
   {
    "duration": 8,
    "start_time": "2022-03-20T20:01:25.092Z"
   },
   {
    "duration": 2319,
    "start_time": "2022-03-21T12:52:12.865Z"
   },
   {
    "duration": 462,
    "start_time": "2022-03-21T12:52:15.187Z"
   },
   {
    "duration": 5,
    "start_time": "2022-03-21T12:52:15.652Z"
   },
   {
    "duration": 410,
    "start_time": "2022-03-21T12:52:15.660Z"
   },
   {
    "duration": 49,
    "start_time": "2022-03-21T12:52:16.073Z"
   },
   {
    "duration": 29,
    "start_time": "2022-03-21T12:52:16.125Z"
   },
   {
    "duration": 21,
    "start_time": "2022-03-21T12:52:16.156Z"
   },
   {
    "duration": 112,
    "start_time": "2022-03-21T12:52:16.180Z"
   },
   {
    "duration": 255,
    "start_time": "2022-03-21T12:52:16.294Z"
   },
   {
    "duration": 291,
    "start_time": "2022-03-21T12:52:16.553Z"
   },
   {
    "duration": 48,
    "start_time": "2022-03-21T12:52:16.847Z"
   },
   {
    "duration": 49,
    "start_time": "2022-03-21T12:52:16.898Z"
   },
   {
    "duration": 18,
    "start_time": "2022-03-21T12:52:16.949Z"
   },
   {
    "duration": 89,
    "start_time": "2022-03-21T12:52:16.970Z"
   },
   {
    "duration": 353,
    "start_time": "2022-03-21T12:52:17.061Z"
   },
   {
    "duration": 284,
    "start_time": "2022-03-21T12:52:17.416Z"
   },
   {
    "duration": 63,
    "start_time": "2022-03-21T12:52:17.702Z"
   },
   {
    "duration": 29,
    "start_time": "2022-03-21T12:52:17.768Z"
   },
   {
    "duration": 20,
    "start_time": "2022-03-21T12:52:17.800Z"
   },
   {
    "duration": 91,
    "start_time": "2022-03-21T12:52:17.822Z"
   },
   {
    "duration": 361,
    "start_time": "2022-03-21T12:52:17.916Z"
   },
   {
    "duration": 71,
    "start_time": "2022-03-21T12:52:18.280Z"
   },
   {
    "duration": 291,
    "start_time": "2022-03-21T12:52:18.355Z"
   },
   {
    "duration": 198,
    "start_time": "2022-03-21T12:52:18.649Z"
   },
   {
    "duration": 97,
    "start_time": "2022-03-21T12:52:18.850Z"
   },
   {
    "duration": 31,
    "start_time": "2022-03-21T12:52:18.949Z"
   },
   {
    "duration": 11,
    "start_time": "2022-03-21T12:52:18.983Z"
   },
   {
    "duration": 36,
    "start_time": "2022-03-21T12:52:18.999Z"
   },
   {
    "duration": 5,
    "start_time": "2022-03-21T13:23:49.993Z"
   },
   {
    "duration": 164,
    "start_time": "2022-03-21T13:45:51.441Z"
   },
   {
    "duration": 2620,
    "start_time": "2022-03-21T13:46:13.481Z"
   },
   {
    "duration": 661,
    "start_time": "2022-03-21T13:46:16.105Z"
   },
   {
    "duration": 5,
    "start_time": "2022-03-21T13:46:16.769Z"
   },
   {
    "duration": 377,
    "start_time": "2022-03-21T13:46:16.780Z"
   },
   {
    "duration": 48,
    "start_time": "2022-03-21T13:46:17.159Z"
   },
   {
    "duration": 38,
    "start_time": "2022-03-21T13:46:17.209Z"
   },
   {
    "duration": 15,
    "start_time": "2022-03-21T13:46:17.252Z"
   },
   {
    "duration": 106,
    "start_time": "2022-03-21T13:46:17.269Z"
   },
   {
    "duration": 283,
    "start_time": "2022-03-21T13:46:17.378Z"
   },
   {
    "duration": 289,
    "start_time": "2022-03-21T13:46:17.664Z"
   },
   {
    "duration": 48,
    "start_time": "2022-03-21T13:46:17.956Z"
   },
   {
    "duration": 38,
    "start_time": "2022-03-21T13:46:18.007Z"
   },
   {
    "duration": 19,
    "start_time": "2022-03-21T13:46:18.048Z"
   },
   {
    "duration": 127,
    "start_time": "2022-03-21T13:46:18.070Z"
   },
   {
    "duration": 384,
    "start_time": "2022-03-21T13:46:18.199Z"
   },
   {
    "duration": 285,
    "start_time": "2022-03-21T13:46:18.586Z"
   },
   {
    "duration": 48,
    "start_time": "2022-03-21T13:46:18.873Z"
   },
   {
    "duration": 16,
    "start_time": "2022-03-21T13:46:18.943Z"
   },
   {
    "duration": 19,
    "start_time": "2022-03-21T13:46:18.960Z"
   },
   {
    "duration": 111,
    "start_time": "2022-03-21T13:46:18.981Z"
   },
   {
    "duration": 425,
    "start_time": "2022-03-21T13:46:19.094Z"
   },
   {
    "duration": 221,
    "start_time": "2022-03-21T13:46:19.521Z"
   },
   {
    "duration": 109,
    "start_time": "2022-03-21T13:46:19.744Z"
   },
   {
    "duration": 194,
    "start_time": "2022-03-21T13:46:19.858Z"
   },
   {
    "duration": 90,
    "start_time": "2022-03-21T13:46:20.055Z"
   },
   {
    "duration": 12,
    "start_time": "2022-03-21T13:46:20.148Z"
   },
   {
    "duration": 8,
    "start_time": "2022-03-21T13:46:20.163Z"
   },
   {
    "duration": 10,
    "start_time": "2022-03-21T13:46:20.246Z"
   },
   {
    "duration": 7,
    "start_time": "2022-03-21T13:46:20.258Z"
   },
   {
    "duration": 182,
    "start_time": "2022-03-21T13:46:20.267Z"
   },
   {
    "duration": 2607,
    "start_time": "2022-03-21T13:46:32.240Z"
   },
   {
    "duration": 570,
    "start_time": "2022-03-21T13:46:34.850Z"
   },
   {
    "duration": 6,
    "start_time": "2022-03-21T13:46:35.422Z"
   },
   {
    "duration": 458,
    "start_time": "2022-03-21T13:46:35.444Z"
   },
   {
    "duration": 74,
    "start_time": "2022-03-21T13:46:35.905Z"
   },
   {
    "duration": 19,
    "start_time": "2022-03-21T13:46:35.982Z"
   },
   {
    "duration": 43,
    "start_time": "2022-03-21T13:46:36.003Z"
   },
   {
    "duration": 104,
    "start_time": "2022-03-21T13:46:36.048Z"
   },
   {
    "duration": 376,
    "start_time": "2022-03-21T13:46:36.155Z"
   },
   {
    "duration": 440,
    "start_time": "2022-03-21T13:46:36.536Z"
   },
   {
    "duration": 78,
    "start_time": "2022-03-21T13:46:36.979Z"
   },
   {
    "duration": 27,
    "start_time": "2022-03-21T13:46:37.060Z"
   },
   {
    "duration": 18,
    "start_time": "2022-03-21T13:46:37.090Z"
   },
   {
    "duration": 106,
    "start_time": "2022-03-21T13:46:37.111Z"
   },
   {
    "duration": 265,
    "start_time": "2022-03-21T13:46:37.220Z"
   },
   {
    "duration": 411,
    "start_time": "2022-03-21T13:46:37.488Z"
   },
   {
    "duration": 66,
    "start_time": "2022-03-21T13:46:37.903Z"
   },
   {
    "duration": 16,
    "start_time": "2022-03-21T13:46:37.971Z"
   },
   {
    "duration": 40,
    "start_time": "2022-03-21T13:46:37.989Z"
   },
   {
    "duration": 85,
    "start_time": "2022-03-21T13:46:38.031Z"
   },
   {
    "duration": 370,
    "start_time": "2022-03-21T13:46:38.118Z"
   },
   {
    "duration": 65,
    "start_time": "2022-03-21T13:46:38.491Z"
   },
   {
    "duration": 196,
    "start_time": "2022-03-21T13:46:38.649Z"
   },
   {
    "duration": 125,
    "start_time": "2022-03-21T13:46:38.848Z"
   },
   {
    "duration": 71,
    "start_time": "2022-03-21T13:46:38.976Z"
   },
   {
    "duration": 123,
    "start_time": "2022-03-21T13:46:39.051Z"
   },
   {
    "duration": 13,
    "start_time": "2022-03-21T13:46:39.178Z"
   },
   {
    "duration": 15,
    "start_time": "2022-03-21T13:46:39.198Z"
   },
   {
    "duration": 9,
    "start_time": "2022-03-21T13:46:39.217Z"
   },
   {
    "duration": 182,
    "start_time": "2022-03-21T13:46:39.245Z"
   },
   {
    "duration": 2089,
    "start_time": "2022-03-21T13:48:23.728Z"
   },
   {
    "duration": 1960,
    "start_time": "2022-03-21T13:48:42.634Z"
   },
   {
    "duration": 36,
    "start_time": "2022-03-21T13:53:14.555Z"
   },
   {
    "duration": 2085,
    "start_time": "2022-03-21T13:53:26.392Z"
   },
   {
    "duration": 19,
    "start_time": "2022-03-21T14:00:45.435Z"
   },
   {
    "duration": 2013,
    "start_time": "2022-03-21T14:01:05.557Z"
   },
   {
    "duration": 2169,
    "start_time": "2022-03-21T14:03:58.118Z"
   },
   {
    "duration": 2122,
    "start_time": "2022-03-21T14:04:49.557Z"
   },
   {
    "duration": 2606,
    "start_time": "2022-03-21T14:06:32.991Z"
   },
   {
    "duration": 2453,
    "start_time": "2022-03-21T14:09:07.418Z"
   },
   {
    "duration": 700,
    "start_time": "2022-03-21T14:09:09.875Z"
   },
   {
    "duration": 4,
    "start_time": "2022-03-21T14:09:10.578Z"
   },
   {
    "duration": 305,
    "start_time": "2022-03-21T14:09:10.584Z"
   },
   {
    "duration": 81,
    "start_time": "2022-03-21T14:09:10.892Z"
   },
   {
    "duration": 29,
    "start_time": "2022-03-21T14:09:10.977Z"
   },
   {
    "duration": 42,
    "start_time": "2022-03-21T14:09:11.009Z"
   },
   {
    "duration": 121,
    "start_time": "2022-03-21T14:09:11.054Z"
   },
   {
    "duration": 432,
    "start_time": "2022-03-21T14:09:11.178Z"
   },
   {
    "duration": 431,
    "start_time": "2022-03-21T14:09:11.612Z"
   },
   {
    "duration": 67,
    "start_time": "2022-03-21T14:09:12.046Z"
   },
   {
    "duration": 43,
    "start_time": "2022-03-21T14:09:12.116Z"
   },
   {
    "duration": 29,
    "start_time": "2022-03-21T14:09:12.162Z"
   },
   {
    "duration": 127,
    "start_time": "2022-03-21T14:09:12.198Z"
   },
   {
    "duration": 254,
    "start_time": "2022-03-21T14:09:12.328Z"
   },
   {
    "duration": 448,
    "start_time": "2022-03-21T14:09:12.585Z"
   },
   {
    "duration": 68,
    "start_time": "2022-03-21T14:09:13.044Z"
   },
   {
    "duration": 42,
    "start_time": "2022-03-21T14:09:13.116Z"
   },
   {
    "duration": 15,
    "start_time": "2022-03-21T14:09:13.161Z"
   },
   {
    "duration": 145,
    "start_time": "2022-03-21T14:09:13.179Z"
   },
   {
    "duration": 378,
    "start_time": "2022-03-21T14:09:13.326Z"
   },
   {
    "duration": 62,
    "start_time": "2022-03-21T14:09:13.706Z"
   },
   {
    "duration": 288,
    "start_time": "2022-03-21T14:09:13.771Z"
   },
   {
    "duration": 200,
    "start_time": "2022-03-21T14:09:14.063Z"
   },
   {
    "duration": 5,
    "start_time": "2022-03-21T14:09:14.344Z"
   },
   {
    "duration": 11,
    "start_time": "2022-03-21T14:09:14.353Z"
   },
   {
    "duration": 14,
    "start_time": "2022-03-21T14:09:14.367Z"
   },
   {
    "duration": 18,
    "start_time": "2022-03-21T14:09:14.383Z"
   },
   {
    "duration": 42,
    "start_time": "2022-03-21T14:09:14.403Z"
   },
   {
    "duration": 255,
    "start_time": "2022-03-21T14:09:14.448Z"
   },
   {
    "duration": 0,
    "start_time": "2022-03-21T14:09:14.706Z"
   },
   {
    "duration": 0,
    "start_time": "2022-03-21T14:09:14.708Z"
   },
   {
    "duration": 5,
    "start_time": "2022-03-21T14:09:34.949Z"
   },
   {
    "duration": 29,
    "start_time": "2022-03-21T14:09:36.454Z"
   },
   {
    "duration": 25,
    "start_time": "2022-03-21T14:09:37.613Z"
   },
   {
    "duration": 24,
    "start_time": "2022-03-21T14:09:38.478Z"
   },
   {
    "duration": 2560,
    "start_time": "2022-03-21T14:09:59.014Z"
   },
   {
    "duration": 490,
    "start_time": "2022-03-21T14:10:01.577Z"
   },
   {
    "duration": 5,
    "start_time": "2022-03-21T14:10:02.069Z"
   },
   {
    "duration": 310,
    "start_time": "2022-03-21T14:10:02.079Z"
   },
   {
    "duration": 63,
    "start_time": "2022-03-21T14:10:02.391Z"
   },
   {
    "duration": 17,
    "start_time": "2022-03-21T14:10:02.456Z"
   },
   {
    "duration": 15,
    "start_time": "2022-03-21T14:10:02.476Z"
   },
   {
    "duration": 115,
    "start_time": "2022-03-21T14:10:02.493Z"
   },
   {
    "duration": 283,
    "start_time": "2022-03-21T14:10:02.610Z"
   },
   {
    "duration": 306,
    "start_time": "2022-03-21T14:10:02.897Z"
   },
   {
    "duration": 58,
    "start_time": "2022-03-21T14:10:03.205Z"
   },
   {
    "duration": 18,
    "start_time": "2022-03-21T14:10:03.265Z"
   },
   {
    "duration": 32,
    "start_time": "2022-03-21T14:10:03.286Z"
   },
   {
    "duration": 93,
    "start_time": "2022-03-21T14:10:03.320Z"
   },
   {
    "duration": 262,
    "start_time": "2022-03-21T14:10:03.415Z"
   },
   {
    "duration": 277,
    "start_time": "2022-03-21T14:10:03.679Z"
   },
   {
    "duration": 48,
    "start_time": "2022-03-21T14:10:03.959Z"
   },
   {
    "duration": 34,
    "start_time": "2022-03-21T14:10:04.009Z"
   },
   {
    "duration": 25,
    "start_time": "2022-03-21T14:10:04.046Z"
   },
   {
    "duration": 100,
    "start_time": "2022-03-21T14:10:04.074Z"
   },
   {
    "duration": 355,
    "start_time": "2022-03-21T14:10:04.177Z"
   },
   {
    "duration": 116,
    "start_time": "2022-03-21T14:10:04.535Z"
   },
   {
    "duration": 192,
    "start_time": "2022-03-21T14:10:04.654Z"
   },
   {
    "duration": 124,
    "start_time": "2022-03-21T14:10:04.850Z"
   },
   {
    "duration": 71,
    "start_time": "2022-03-21T14:10:04.977Z"
   },
   {
    "duration": 103,
    "start_time": "2022-03-21T14:10:05.052Z"
   },
   {
    "duration": 17,
    "start_time": "2022-03-21T14:10:05.158Z"
   },
   {
    "duration": 11,
    "start_time": "2022-03-21T14:10:05.180Z"
   },
   {
    "duration": 10,
    "start_time": "2022-03-21T14:10:05.193Z"
   },
   {
    "duration": 179,
    "start_time": "2022-03-21T14:10:05.205Z"
   },
   {
    "duration": 0,
    "start_time": "2022-03-21T14:10:05.386Z"
   },
   {
    "duration": 0,
    "start_time": "2022-03-21T14:10:05.390Z"
   },
   {
    "duration": 4,
    "start_time": "2022-03-21T14:10:12.514Z"
   },
   {
    "duration": 26,
    "start_time": "2022-03-21T14:10:13.941Z"
   },
   {
    "duration": 17,
    "start_time": "2022-03-21T14:10:14.701Z"
   },
   {
    "duration": 18,
    "start_time": "2022-03-21T14:10:15.345Z"
   },
   {
    "duration": 5,
    "start_time": "2022-03-21T14:14:58.059Z"
   },
   {
    "duration": 22,
    "start_time": "2022-03-21T14:15:00.264Z"
   },
   {
    "duration": 2242,
    "start_time": "2022-03-21T14:15:13.235Z"
   },
   {
    "duration": 487,
    "start_time": "2022-03-21T14:15:15.480Z"
   },
   {
    "duration": 4,
    "start_time": "2022-03-21T14:15:15.970Z"
   },
   {
    "duration": 434,
    "start_time": "2022-03-21T14:15:15.976Z"
   },
   {
    "duration": 62,
    "start_time": "2022-03-21T14:15:16.415Z"
   },
   {
    "duration": 29,
    "start_time": "2022-03-21T14:15:16.479Z"
   },
   {
    "duration": 40,
    "start_time": "2022-03-21T14:15:16.511Z"
   },
   {
    "duration": 137,
    "start_time": "2022-03-21T14:15:16.554Z"
   },
   {
    "duration": 271,
    "start_time": "2022-03-21T14:15:16.694Z"
   },
   {
    "duration": 311,
    "start_time": "2022-03-21T14:15:16.967Z"
   },
   {
    "duration": 63,
    "start_time": "2022-03-21T14:15:17.281Z"
   },
   {
    "duration": 16,
    "start_time": "2022-03-21T14:15:17.347Z"
   },
   {
    "duration": 20,
    "start_time": "2022-03-21T14:15:17.366Z"
   },
   {
    "duration": 100,
    "start_time": "2022-03-21T14:15:17.390Z"
   },
   {
    "duration": 272,
    "start_time": "2022-03-21T14:15:17.493Z"
   },
   {
    "duration": 279,
    "start_time": "2022-03-21T14:15:17.768Z"
   },
   {
    "duration": 48,
    "start_time": "2022-03-21T14:15:18.050Z"
   },
   {
    "duration": 16,
    "start_time": "2022-03-21T14:15:18.101Z"
   },
   {
    "duration": 15,
    "start_time": "2022-03-21T14:15:18.142Z"
   },
   {
    "duration": 102,
    "start_time": "2022-03-21T14:15:18.159Z"
   },
   {
    "duration": 541,
    "start_time": "2022-03-21T14:15:18.264Z"
   },
   {
    "duration": 79,
    "start_time": "2022-03-21T14:15:18.808Z"
   },
   {
    "duration": 142,
    "start_time": "2022-03-21T14:15:18.949Z"
   },
   {
    "duration": 139,
    "start_time": "2022-03-21T14:15:19.146Z"
   },
   {
    "duration": 7,
    "start_time": "2022-03-21T14:15:19.345Z"
   },
   {
    "duration": 110,
    "start_time": "2022-03-21T14:15:19.355Z"
   },
   {
    "duration": 9,
    "start_time": "2022-03-21T14:15:19.467Z"
   },
   {
    "duration": 12,
    "start_time": "2022-03-21T14:15:19.479Z"
   },
   {
    "duration": 6,
    "start_time": "2022-03-21T14:15:19.494Z"
   },
   {
    "duration": 206,
    "start_time": "2022-03-21T14:15:19.503Z"
   },
   {
    "duration": 0,
    "start_time": "2022-03-21T14:15:19.713Z"
   },
   {
    "duration": 0,
    "start_time": "2022-03-21T14:15:19.715Z"
   },
   {
    "duration": 19,
    "start_time": "2022-03-21T14:15:48.949Z"
   },
   {
    "duration": 19,
    "start_time": "2022-03-21T14:16:26.428Z"
   },
   {
    "duration": 2017,
    "start_time": "2022-03-21T14:17:28.417Z"
   },
   {
    "duration": 2117,
    "start_time": "2022-03-21T14:18:21.146Z"
   },
   {
    "duration": 1963,
    "start_time": "2022-03-21T14:19:06.391Z"
   },
   {
    "duration": 2087,
    "start_time": "2022-03-21T14:19:32.341Z"
   },
   {
    "duration": 5,
    "start_time": "2022-03-21T14:25:14.552Z"
   },
   {
    "duration": 15,
    "start_time": "2022-03-21T14:32:26.749Z"
   },
   {
    "duration": 2125,
    "start_time": "2022-03-21T14:32:43.505Z"
   },
   {
    "duration": 457,
    "start_time": "2022-03-21T14:32:45.633Z"
   },
   {
    "duration": 6,
    "start_time": "2022-03-21T14:32:46.092Z"
   },
   {
    "duration": 312,
    "start_time": "2022-03-21T14:32:46.102Z"
   },
   {
    "duration": 57,
    "start_time": "2022-03-21T14:32:46.417Z"
   },
   {
    "duration": 18,
    "start_time": "2022-03-21T14:32:46.477Z"
   },
   {
    "duration": 14,
    "start_time": "2022-03-21T14:32:46.498Z"
   },
   {
    "duration": 99,
    "start_time": "2022-03-21T14:32:46.514Z"
   },
   {
    "duration": 265,
    "start_time": "2022-03-21T14:32:46.615Z"
   },
   {
    "duration": 278,
    "start_time": "2022-03-21T14:32:46.884Z"
   },
   {
    "duration": 46,
    "start_time": "2022-03-21T14:32:47.164Z"
   },
   {
    "duration": 31,
    "start_time": "2022-03-21T14:32:47.212Z"
   },
   {
    "duration": 14,
    "start_time": "2022-03-21T14:32:47.245Z"
   },
   {
    "duration": 91,
    "start_time": "2022-03-21T14:32:47.261Z"
   },
   {
    "duration": 255,
    "start_time": "2022-03-21T14:32:47.355Z"
   },
   {
    "duration": 257,
    "start_time": "2022-03-21T14:32:47.612Z"
   },
   {
    "duration": 45,
    "start_time": "2022-03-21T14:32:47.872Z"
   },
   {
    "duration": 31,
    "start_time": "2022-03-21T14:32:47.920Z"
   },
   {
    "duration": 17,
    "start_time": "2022-03-21T14:32:47.952Z"
   },
   {
    "duration": 93,
    "start_time": "2022-03-21T14:32:47.971Z"
   },
   {
    "duration": 332,
    "start_time": "2022-03-21T14:32:48.066Z"
   },
   {
    "duration": 54,
    "start_time": "2022-03-21T14:32:48.400Z"
   },
   {
    "duration": 211,
    "start_time": "2022-03-21T14:32:48.456Z"
   },
   {
    "duration": 134,
    "start_time": "2022-03-21T14:32:48.742Z"
   },
   {
    "duration": 67,
    "start_time": "2022-03-21T14:32:48.879Z"
   },
   {
    "duration": 104,
    "start_time": "2022-03-21T14:32:48.950Z"
   },
   {
    "duration": 15,
    "start_time": "2022-03-21T14:32:49.057Z"
   },
   {
    "duration": 11,
    "start_time": "2022-03-21T14:32:49.077Z"
   },
   {
    "duration": 206,
    "start_time": "2022-03-21T14:32:49.090Z"
   },
   {
    "duration": 0,
    "start_time": "2022-03-21T14:32:49.298Z"
   },
   {
    "duration": 0,
    "start_time": "2022-03-21T14:32:49.300Z"
   },
   {
    "duration": 159,
    "start_time": "2022-03-21T14:33:34.760Z"
   },
   {
    "duration": 17,
    "start_time": "2022-03-21T14:34:36.510Z"
   },
   {
    "duration": 19,
    "start_time": "2022-03-21T14:35:11.980Z"
   },
   {
    "duration": 2546,
    "start_time": "2022-03-21T14:35:23.045Z"
   },
   {
    "duration": 441,
    "start_time": "2022-03-21T14:35:25.594Z"
   },
   {
    "duration": 4,
    "start_time": "2022-03-21T14:35:26.037Z"
   },
   {
    "duration": 303,
    "start_time": "2022-03-21T14:35:26.045Z"
   },
   {
    "duration": 47,
    "start_time": "2022-03-21T14:35:26.350Z"
   },
   {
    "duration": 45,
    "start_time": "2022-03-21T14:35:26.399Z"
   },
   {
    "duration": 14,
    "start_time": "2022-03-21T14:35:26.446Z"
   },
   {
    "duration": 101,
    "start_time": "2022-03-21T14:35:26.462Z"
   },
   {
    "duration": 265,
    "start_time": "2022-03-21T14:35:26.566Z"
   },
   {
    "duration": 287,
    "start_time": "2022-03-21T14:35:26.835Z"
   },
   {
    "duration": 53,
    "start_time": "2022-03-21T14:35:27.124Z"
   },
   {
    "duration": 15,
    "start_time": "2022-03-21T14:35:27.179Z"
   },
   {
    "duration": 14,
    "start_time": "2022-03-21T14:35:27.196Z"
   },
   {
    "duration": 91,
    "start_time": "2022-03-21T14:35:27.212Z"
   },
   {
    "duration": 255,
    "start_time": "2022-03-21T14:35:27.306Z"
   },
   {
    "duration": 274,
    "start_time": "2022-03-21T14:35:27.563Z"
   },
   {
    "duration": 46,
    "start_time": "2022-03-21T14:35:27.842Z"
   },
   {
    "duration": 16,
    "start_time": "2022-03-21T14:35:27.891Z"
   },
   {
    "duration": 38,
    "start_time": "2022-03-21T14:35:27.909Z"
   },
   {
    "duration": 71,
    "start_time": "2022-03-21T14:35:27.950Z"
   },
   {
    "duration": 345,
    "start_time": "2022-03-21T14:35:28.023Z"
   },
   {
    "duration": 77,
    "start_time": "2022-03-21T14:35:28.371Z"
   },
   {
    "duration": 191,
    "start_time": "2022-03-21T14:35:28.451Z"
   },
   {
    "duration": 133,
    "start_time": "2022-03-21T14:35:28.646Z"
   },
   {
    "duration": 8,
    "start_time": "2022-03-21T14:35:28.845Z"
   },
   {
    "duration": 10,
    "start_time": "2022-03-21T14:35:28.944Z"
   },
   {
    "duration": 11,
    "start_time": "2022-03-21T14:35:28.956Z"
   },
   {
    "duration": 9,
    "start_time": "2022-03-21T14:35:28.973Z"
   },
   {
    "duration": 362,
    "start_time": "2022-03-21T14:35:28.984Z"
   },
   {
    "duration": 0,
    "start_time": "2022-03-21T14:35:29.349Z"
   },
   {
    "duration": 0,
    "start_time": "2022-03-21T14:35:29.350Z"
   },
   {
    "duration": 158,
    "start_time": "2022-03-21T14:35:43.236Z"
   },
   {
    "duration": 20,
    "start_time": "2022-03-21T14:35:44.299Z"
   },
   {
    "duration": 20,
    "start_time": "2022-03-21T14:51:54.172Z"
   },
   {
    "duration": 21,
    "start_time": "2022-03-21T14:52:11.169Z"
   },
   {
    "duration": 1989,
    "start_time": "2022-03-21T14:52:24.301Z"
   },
   {
    "duration": 449,
    "start_time": "2022-03-21T14:52:26.293Z"
   },
   {
    "duration": 4,
    "start_time": "2022-03-21T14:52:26.745Z"
   },
   {
    "duration": 296,
    "start_time": "2022-03-21T14:52:26.751Z"
   },
   {
    "duration": 49,
    "start_time": "2022-03-21T14:52:27.050Z"
   },
   {
    "duration": 16,
    "start_time": "2022-03-21T14:52:27.101Z"
   },
   {
    "duration": 35,
    "start_time": "2022-03-21T14:52:27.119Z"
   },
   {
    "duration": 99,
    "start_time": "2022-03-21T14:52:27.156Z"
   },
   {
    "duration": 260,
    "start_time": "2022-03-21T14:52:27.257Z"
   },
   {
    "duration": 292,
    "start_time": "2022-03-21T14:52:27.520Z"
   },
   {
    "duration": 58,
    "start_time": "2022-03-21T14:52:27.814Z"
   },
   {
    "duration": 16,
    "start_time": "2022-03-21T14:52:27.875Z"
   },
   {
    "duration": 15,
    "start_time": "2022-03-21T14:52:27.894Z"
   },
   {
    "duration": 69,
    "start_time": "2022-03-21T14:52:27.943Z"
   },
   {
    "duration": 276,
    "start_time": "2022-03-21T14:52:28.014Z"
   },
   {
    "duration": 293,
    "start_time": "2022-03-21T14:52:28.293Z"
   },
   {
    "duration": 60,
    "start_time": "2022-03-21T14:52:28.588Z"
   },
   {
    "duration": 15,
    "start_time": "2022-03-21T14:52:28.651Z"
   },
   {
    "duration": 15,
    "start_time": "2022-03-21T14:52:28.668Z"
   },
   {
    "duration": 98,
    "start_time": "2022-03-21T14:52:28.685Z"
   },
   {
    "duration": 338,
    "start_time": "2022-03-21T14:52:28.785Z"
   },
   {
    "duration": 123,
    "start_time": "2022-03-21T14:52:29.125Z"
   },
   {
    "duration": 192,
    "start_time": "2022-03-21T14:52:29.251Z"
   },
   {
    "duration": 129,
    "start_time": "2022-03-21T14:52:29.447Z"
   },
   {
    "duration": 7,
    "start_time": "2022-03-21T14:52:29.645Z"
   },
   {
    "duration": 23,
    "start_time": "2022-03-21T14:52:29.744Z"
   },
   {
    "duration": 12,
    "start_time": "2022-03-21T14:52:29.769Z"
   },
   {
    "duration": 16,
    "start_time": "2022-03-21T14:52:29.783Z"
   },
   {
    "duration": 198,
    "start_time": "2022-03-21T14:52:29.801Z"
   },
   {
    "duration": 0,
    "start_time": "2022-03-21T14:52:30.002Z"
   },
   {
    "duration": 0,
    "start_time": "2022-03-21T14:52:30.004Z"
   },
   {
    "duration": 6,
    "start_time": "2022-03-21T14:52:43.693Z"
   },
   {
    "duration": 1941,
    "start_time": "2022-03-21T14:52:48.167Z"
   },
   {
    "duration": 159,
    "start_time": "2022-03-21T14:52:51.939Z"
   },
   {
    "duration": 21,
    "start_time": "2022-03-21T14:53:10.426Z"
   },
   {
    "duration": 11,
    "start_time": "2022-03-21T14:54:28.158Z"
   },
   {
    "duration": 17,
    "start_time": "2022-03-21T14:55:22.324Z"
   },
   {
    "duration": 5,
    "start_time": "2022-03-21T14:55:34.555Z"
   },
   {
    "duration": 2186,
    "start_time": "2022-03-21T14:55:36.310Z"
   },
   {
    "duration": 12,
    "start_time": "2022-03-21T14:55:38.499Z"
   },
   {
    "duration": 18,
    "start_time": "2022-03-21T14:55:52.269Z"
   },
   {
    "duration": 5,
    "start_time": "2022-03-21T14:55:57.489Z"
   },
   {
    "duration": 2119,
    "start_time": "2022-03-21T14:55:59.104Z"
   },
   {
    "duration": 1955,
    "start_time": "2022-03-21T14:56:13.168Z"
   },
   {
    "duration": 11,
    "start_time": "2022-03-21T14:57:20.071Z"
   },
   {
    "duration": 12,
    "start_time": "2022-03-21T14:57:36.856Z"
   },
   {
    "duration": 20,
    "start_time": "2022-03-21T14:58:31.818Z"
   },
   {
    "duration": 10,
    "start_time": "2022-03-21T14:58:38.277Z"
   },
   {
    "duration": 16,
    "start_time": "2022-03-21T15:01:26.661Z"
   },
   {
    "duration": 2013,
    "start_time": "2022-03-21T15:02:00.345Z"
   },
   {
    "duration": 448,
    "start_time": "2022-03-21T15:02:02.361Z"
   },
   {
    "duration": 4,
    "start_time": "2022-03-21T15:02:02.811Z"
   },
   {
    "duration": 293,
    "start_time": "2022-03-21T15:02:02.817Z"
   },
   {
    "duration": 68,
    "start_time": "2022-03-21T15:02:03.113Z"
   },
   {
    "duration": 16,
    "start_time": "2022-03-21T15:02:03.183Z"
   },
   {
    "duration": 15,
    "start_time": "2022-03-21T15:02:03.201Z"
   },
   {
    "duration": 93,
    "start_time": "2022-03-21T15:02:03.218Z"
   },
   {
    "duration": 368,
    "start_time": "2022-03-21T15:02:03.314Z"
   },
   {
    "duration": 282,
    "start_time": "2022-03-21T15:02:03.684Z"
   },
   {
    "duration": 45,
    "start_time": "2022-03-21T15:02:03.969Z"
   },
   {
    "duration": 30,
    "start_time": "2022-03-21T15:02:04.016Z"
   },
   {
    "duration": 16,
    "start_time": "2022-03-21T15:02:04.049Z"
   },
   {
    "duration": 90,
    "start_time": "2022-03-21T15:02:04.069Z"
   },
   {
    "duration": 251,
    "start_time": "2022-03-21T15:02:04.162Z"
   },
   {
    "duration": 284,
    "start_time": "2022-03-21T15:02:04.415Z"
   },
   {
    "duration": 60,
    "start_time": "2022-03-21T15:02:04.701Z"
   },
   {
    "duration": 15,
    "start_time": "2022-03-21T15:02:04.764Z"
   },
   {
    "duration": 16,
    "start_time": "2022-03-21T15:02:04.781Z"
   },
   {
    "duration": 110,
    "start_time": "2022-03-21T15:02:04.799Z"
   },
   {
    "duration": 357,
    "start_time": "2022-03-21T15:02:04.912Z"
   },
   {
    "duration": 78,
    "start_time": "2022-03-21T15:02:05.271Z"
   },
   {
    "duration": 126,
    "start_time": "2022-03-21T15:02:05.352Z"
   },
   {
    "duration": 131,
    "start_time": "2022-03-21T15:02:05.546Z"
   },
   {
    "duration": 8,
    "start_time": "2022-03-21T15:02:05.745Z"
   },
   {
    "duration": 15,
    "start_time": "2022-03-21T15:02:05.844Z"
   },
   {
    "duration": 10,
    "start_time": "2022-03-21T15:02:05.862Z"
   },
   {
    "duration": 13,
    "start_time": "2022-03-21T15:02:05.874Z"
   },
   {
    "duration": 4,
    "start_time": "2022-03-21T15:02:05.890Z"
   },
   {
    "duration": 2148,
    "start_time": "2022-03-21T15:02:05.897Z"
   },
   {
    "duration": 13,
    "start_time": "2022-03-21T15:02:08.048Z"
   },
   {
    "duration": 195,
    "start_time": "2022-03-21T15:02:42.520Z"
   },
   {
    "duration": 2028,
    "start_time": "2022-03-21T15:02:50.493Z"
   },
   {
    "duration": 473,
    "start_time": "2022-03-21T15:02:52.524Z"
   },
   {
    "duration": 4,
    "start_time": "2022-03-21T15:02:53.000Z"
   },
   {
    "duration": 280,
    "start_time": "2022-03-21T15:02:53.006Z"
   },
   {
    "duration": 55,
    "start_time": "2022-03-21T15:02:53.289Z"
   },
   {
    "duration": 16,
    "start_time": "2022-03-21T15:02:53.347Z"
   },
   {
    "duration": 12,
    "start_time": "2022-03-21T15:02:53.365Z"
   },
   {
    "duration": 108,
    "start_time": "2022-03-21T15:02:53.380Z"
   },
   {
    "duration": 256,
    "start_time": "2022-03-21T15:02:53.490Z"
   },
   {
    "duration": 278,
    "start_time": "2022-03-21T15:02:53.748Z"
   },
   {
    "duration": 64,
    "start_time": "2022-03-21T15:02:54.029Z"
   },
   {
    "duration": 26,
    "start_time": "2022-03-21T15:02:54.095Z"
   },
   {
    "duration": 14,
    "start_time": "2022-03-21T15:02:54.142Z"
   },
   {
    "duration": 88,
    "start_time": "2022-03-21T15:02:54.160Z"
   },
   {
    "duration": 243,
    "start_time": "2022-03-21T15:02:54.250Z"
   },
   {
    "duration": 269,
    "start_time": "2022-03-21T15:02:54.495Z"
   },
   {
    "duration": 46,
    "start_time": "2022-03-21T15:02:54.766Z"
   },
   {
    "duration": 35,
    "start_time": "2022-03-21T15:02:54.814Z"
   },
   {
    "duration": 15,
    "start_time": "2022-03-21T15:02:54.852Z"
   },
   {
    "duration": 97,
    "start_time": "2022-03-21T15:02:54.869Z"
   },
   {
    "duration": 325,
    "start_time": "2022-03-21T15:02:54.968Z"
   },
   {
    "duration": 53,
    "start_time": "2022-03-21T15:02:55.295Z"
   },
   {
    "duration": 221,
    "start_time": "2022-03-21T15:02:55.351Z"
   },
   {
    "duration": 130,
    "start_time": "2022-03-21T15:02:55.643Z"
   },
   {
    "duration": 7,
    "start_time": "2022-03-21T15:02:55.845Z"
   },
   {
    "duration": 14,
    "start_time": "2022-03-21T15:02:55.944Z"
   },
   {
    "duration": 9,
    "start_time": "2022-03-21T15:02:55.960Z"
   },
   {
    "duration": 9,
    "start_time": "2022-03-21T15:02:55.971Z"
   },
   {
    "duration": 14,
    "start_time": "2022-03-21T15:02:55.982Z"
   },
   {
    "duration": 2017,
    "start_time": "2022-03-21T15:02:55.998Z"
   },
   {
    "duration": 11,
    "start_time": "2022-03-21T15:02:58.017Z"
   },
   {
    "duration": 157,
    "start_time": "2022-03-21T15:03:55.016Z"
   },
   {
    "duration": 2090,
    "start_time": "2022-03-21T15:04:03.974Z"
   },
   {
    "duration": 451,
    "start_time": "2022-03-21T15:04:06.068Z"
   },
   {
    "duration": 5,
    "start_time": "2022-03-21T15:04:06.521Z"
   },
   {
    "duration": 297,
    "start_time": "2022-03-21T15:04:06.528Z"
   },
   {
    "duration": 53,
    "start_time": "2022-03-21T15:04:06.828Z"
   },
   {
    "duration": 17,
    "start_time": "2022-03-21T15:04:06.883Z"
   },
   {
    "duration": 12,
    "start_time": "2022-03-21T15:04:06.902Z"
   },
   {
    "duration": 71,
    "start_time": "2022-03-21T15:04:06.943Z"
   },
   {
    "duration": 277,
    "start_time": "2022-03-21T15:04:07.017Z"
   },
   {
    "duration": 282,
    "start_time": "2022-03-21T15:04:07.297Z"
   },
   {
    "duration": 62,
    "start_time": "2022-03-21T15:04:07.581Z"
   },
   {
    "duration": 18,
    "start_time": "2022-03-21T15:04:07.645Z"
   },
   {
    "duration": 15,
    "start_time": "2022-03-21T15:04:07.665Z"
   },
   {
    "duration": 104,
    "start_time": "2022-03-21T15:04:07.684Z"
   },
   {
    "duration": 246,
    "start_time": "2022-03-21T15:04:07.791Z"
   },
   {
    "duration": 265,
    "start_time": "2022-03-21T15:04:08.043Z"
   },
   {
    "duration": 58,
    "start_time": "2022-03-21T15:04:08.311Z"
   },
   {
    "duration": 14,
    "start_time": "2022-03-21T15:04:08.371Z"
   },
   {
    "duration": 15,
    "start_time": "2022-03-21T15:04:08.387Z"
   },
   {
    "duration": 97,
    "start_time": "2022-03-21T15:04:08.405Z"
   },
   {
    "duration": 339,
    "start_time": "2022-03-21T15:04:08.504Z"
   },
   {
    "duration": 97,
    "start_time": "2022-03-21T15:04:08.845Z"
   },
   {
    "duration": 196,
    "start_time": "2022-03-21T15:04:08.946Z"
   },
   {
    "duration": 129,
    "start_time": "2022-03-21T15:04:09.146Z"
   },
   {
    "duration": 69,
    "start_time": "2022-03-21T15:04:09.278Z"
   },
   {
    "duration": 99,
    "start_time": "2022-03-21T15:04:09.350Z"
   },
   {
    "duration": 9,
    "start_time": "2022-03-21T15:04:09.451Z"
   },
   {
    "duration": 9,
    "start_time": "2022-03-21T15:04:09.463Z"
   },
   {
    "duration": 4,
    "start_time": "2022-03-21T15:04:09.475Z"
   },
   {
    "duration": 2041,
    "start_time": "2022-03-21T15:04:09.482Z"
   },
   {
    "duration": 22,
    "start_time": "2022-03-21T15:04:11.526Z"
   },
   {
    "duration": 158,
    "start_time": "2022-03-21T15:05:07.806Z"
   },
   {
    "duration": 2140,
    "start_time": "2022-03-21T15:05:17.087Z"
   },
   {
    "duration": 480,
    "start_time": "2022-03-21T15:05:19.229Z"
   },
   {
    "duration": 5,
    "start_time": "2022-03-21T15:05:19.711Z"
   },
   {
    "duration": 305,
    "start_time": "2022-03-21T15:05:19.719Z"
   },
   {
    "duration": 53,
    "start_time": "2022-03-21T15:05:20.028Z"
   },
   {
    "duration": 19,
    "start_time": "2022-03-21T15:05:20.084Z"
   },
   {
    "duration": 48,
    "start_time": "2022-03-21T15:05:20.106Z"
   },
   {
    "duration": 93,
    "start_time": "2022-03-21T15:05:20.156Z"
   },
   {
    "duration": 267,
    "start_time": "2022-03-21T15:05:20.251Z"
   },
   {
    "duration": 282,
    "start_time": "2022-03-21T15:05:20.520Z"
   },
   {
    "duration": 64,
    "start_time": "2022-03-21T15:05:20.804Z"
   },
   {
    "duration": 15,
    "start_time": "2022-03-21T15:05:20.870Z"
   },
   {
    "duration": 19,
    "start_time": "2022-03-21T15:05:20.887Z"
   },
   {
    "duration": 94,
    "start_time": "2022-03-21T15:05:20.910Z"
   },
   {
    "duration": 264,
    "start_time": "2022-03-21T15:05:21.006Z"
   },
   {
    "duration": 274,
    "start_time": "2022-03-21T15:05:21.272Z"
   },
   {
    "duration": 47,
    "start_time": "2022-03-21T15:05:21.549Z"
   },
   {
    "duration": 16,
    "start_time": "2022-03-21T15:05:21.598Z"
   },
   {
    "duration": 16,
    "start_time": "2022-03-21T15:05:21.644Z"
   },
   {
    "duration": 106,
    "start_time": "2022-03-21T15:05:21.662Z"
   },
   {
    "duration": 355,
    "start_time": "2022-03-21T15:05:21.771Z"
   },
   {
    "duration": 116,
    "start_time": "2022-03-21T15:05:22.129Z"
   },
   {
    "duration": 192,
    "start_time": "2022-03-21T15:05:22.250Z"
   },
   {
    "duration": 133,
    "start_time": "2022-03-21T15:05:22.446Z"
   },
   {
    "duration": 9,
    "start_time": "2022-03-21T15:05:22.645Z"
   },
   {
    "duration": 10,
    "start_time": "2022-03-21T15:05:22.744Z"
   },
   {
    "duration": 19,
    "start_time": "2022-03-21T15:05:22.756Z"
   },
   {
    "duration": 10,
    "start_time": "2022-03-21T15:05:22.778Z"
   },
   {
    "duration": 9,
    "start_time": "2022-03-21T15:05:22.791Z"
   },
   {
    "duration": 2121,
    "start_time": "2022-03-21T15:05:22.803Z"
   },
   {
    "duration": 17,
    "start_time": "2022-03-21T15:05:24.927Z"
   },
   {
    "duration": 158,
    "start_time": "2022-03-21T15:31:54.821Z"
   },
   {
    "duration": 2154,
    "start_time": "2022-03-21T15:32:10.909Z"
   },
   {
    "duration": 469,
    "start_time": "2022-03-21T15:32:13.066Z"
   },
   {
    "duration": 6,
    "start_time": "2022-03-21T15:32:13.537Z"
   },
   {
    "duration": 326,
    "start_time": "2022-03-21T15:32:13.546Z"
   },
   {
    "duration": 47,
    "start_time": "2022-03-21T15:32:13.874Z"
   },
   {
    "duration": 35,
    "start_time": "2022-03-21T15:32:13.923Z"
   },
   {
    "duration": 14,
    "start_time": "2022-03-21T15:32:13.960Z"
   },
   {
    "duration": 110,
    "start_time": "2022-03-21T15:32:13.977Z"
   },
   {
    "duration": 273,
    "start_time": "2022-03-21T15:32:14.089Z"
   },
   {
    "duration": 435,
    "start_time": "2022-03-21T15:32:14.368Z"
   },
   {
    "duration": 60,
    "start_time": "2022-03-21T15:32:14.806Z"
   },
   {
    "duration": 15,
    "start_time": "2022-03-21T15:32:14.868Z"
   },
   {
    "duration": 13,
    "start_time": "2022-03-21T15:32:14.886Z"
   },
   {
    "duration": 95,
    "start_time": "2022-03-21T15:32:14.901Z"
   },
   {
    "duration": 258,
    "start_time": "2022-03-21T15:32:14.998Z"
   },
   {
    "duration": 274,
    "start_time": "2022-03-21T15:32:15.258Z"
   },
   {
    "duration": 50,
    "start_time": "2022-03-21T15:32:15.535Z"
   },
   {
    "duration": 15,
    "start_time": "2022-03-21T15:32:15.587Z"
   },
   {
    "duration": 40,
    "start_time": "2022-03-21T15:32:15.605Z"
   },
   {
    "duration": 70,
    "start_time": "2022-03-21T15:32:15.647Z"
   },
   {
    "duration": 355,
    "start_time": "2022-03-21T15:32:15.720Z"
   },
   {
    "duration": 76,
    "start_time": "2022-03-21T15:32:16.077Z"
   },
   {
    "duration": 189,
    "start_time": "2022-03-21T15:32:16.156Z"
   },
   {
    "duration": 128,
    "start_time": "2022-03-21T15:32:16.348Z"
   },
   {
    "duration": 8,
    "start_time": "2022-03-21T15:32:16.544Z"
   },
   {
    "duration": 10,
    "start_time": "2022-03-21T15:32:16.644Z"
   },
   {
    "duration": 9,
    "start_time": "2022-03-21T15:32:16.656Z"
   },
   {
    "duration": 9,
    "start_time": "2022-03-21T15:32:16.670Z"
   },
   {
    "duration": 5,
    "start_time": "2022-03-21T15:32:16.681Z"
   },
   {
    "duration": 197,
    "start_time": "2022-03-21T15:32:16.689Z"
   },
   {
    "duration": 0,
    "start_time": "2022-03-21T15:32:16.889Z"
   },
   {
    "duration": 1996,
    "start_time": "2022-03-21T15:32:30.383Z"
   },
   {
    "duration": 2058,
    "start_time": "2022-03-21T15:33:30.027Z"
   },
   {
    "duration": 2019,
    "start_time": "2022-03-21T15:33:44.162Z"
   },
   {
    "duration": 1561,
    "start_time": "2022-03-21T17:52:23.442Z"
   },
   {
    "duration": 364,
    "start_time": "2022-03-21T17:52:25.005Z"
   },
   {
    "duration": 3,
    "start_time": "2022-03-21T17:52:25.371Z"
   },
   {
    "duration": 198,
    "start_time": "2022-03-21T17:52:25.376Z"
   },
   {
    "duration": 45,
    "start_time": "2022-03-21T17:52:25.576Z"
   },
   {
    "duration": 12,
    "start_time": "2022-03-21T17:52:25.623Z"
   },
   {
    "duration": 10,
    "start_time": "2022-03-21T17:52:25.637Z"
   },
   {
    "duration": 71,
    "start_time": "2022-03-21T17:52:25.648Z"
   },
   {
    "duration": 177,
    "start_time": "2022-03-21T17:52:25.720Z"
   },
   {
    "duration": 188,
    "start_time": "2022-03-21T17:52:25.900Z"
   },
   {
    "duration": 40,
    "start_time": "2022-03-21T17:52:26.089Z"
   },
   {
    "duration": 11,
    "start_time": "2022-03-21T17:52:26.131Z"
   },
   {
    "duration": 11,
    "start_time": "2022-03-21T17:52:26.144Z"
   },
   {
    "duration": 70,
    "start_time": "2022-03-21T17:52:26.156Z"
   },
   {
    "duration": 165,
    "start_time": "2022-03-21T17:52:26.228Z"
   },
   {
    "duration": 181,
    "start_time": "2022-03-21T17:52:26.395Z"
   },
   {
    "duration": 41,
    "start_time": "2022-03-21T17:52:26.578Z"
   },
   {
    "duration": 12,
    "start_time": "2022-03-21T17:52:26.620Z"
   },
   {
    "duration": 16,
    "start_time": "2022-03-21T17:52:26.633Z"
   },
   {
    "duration": 67,
    "start_time": "2022-03-21T17:52:26.650Z"
   },
   {
    "duration": 248,
    "start_time": "2022-03-21T17:52:26.718Z"
   },
   {
    "duration": 46,
    "start_time": "2022-03-21T17:52:26.968Z"
   },
   {
    "duration": 208,
    "start_time": "2022-03-21T17:52:27.017Z"
   },
   {
    "duration": 202,
    "start_time": "2022-03-21T17:52:27.228Z"
   },
   {
    "duration": 86,
    "start_time": "2022-03-21T17:52:27.432Z"
   },
   {
    "duration": 6,
    "start_time": "2022-03-21T17:52:27.610Z"
   },
   {
    "duration": 6,
    "start_time": "2022-03-21T17:52:27.618Z"
   },
   {
    "duration": 7,
    "start_time": "2022-03-21T17:52:27.628Z"
   },
   {
    "duration": 9,
    "start_time": "2022-03-21T17:52:27.636Z"
   },
   {
    "duration": 4,
    "start_time": "2022-03-21T17:52:27.646Z"
   },
   {
    "duration": 1344,
    "start_time": "2022-03-21T17:52:27.652Z"
   },
   {
    "duration": 34,
    "start_time": "2022-03-21T18:14:55.435Z"
   },
   {
    "duration": 29,
    "start_time": "2022-03-21T18:15:06.977Z"
   },
   {
    "duration": 1308,
    "start_time": "2022-03-21T18:15:15.465Z"
   },
   {
    "duration": 365,
    "start_time": "2022-03-21T18:15:16.775Z"
   },
   {
    "duration": 3,
    "start_time": "2022-03-21T18:15:17.142Z"
   },
   {
    "duration": 196,
    "start_time": "2022-03-21T18:15:17.147Z"
   },
   {
    "duration": 37,
    "start_time": "2022-03-21T18:15:17.344Z"
   },
   {
    "duration": 34,
    "start_time": "2022-03-21T18:15:17.383Z"
   },
   {
    "duration": 11,
    "start_time": "2022-03-21T18:15:17.418Z"
   },
   {
    "duration": 58,
    "start_time": "2022-03-21T18:15:17.430Z"
   },
   {
    "duration": 191,
    "start_time": "2022-03-21T18:15:17.490Z"
   },
   {
    "duration": 180,
    "start_time": "2022-03-21T18:15:17.683Z"
   },
   {
    "duration": 45,
    "start_time": "2022-03-21T18:15:17.865Z"
   },
   {
    "duration": 11,
    "start_time": "2022-03-21T18:15:17.911Z"
   },
   {
    "duration": 40,
    "start_time": "2022-03-21T18:15:17.924Z"
   },
   {
    "duration": 47,
    "start_time": "2022-03-21T18:15:17.966Z"
   },
   {
    "duration": 167,
    "start_time": "2022-03-21T18:15:18.015Z"
   },
   {
    "duration": 189,
    "start_time": "2022-03-21T18:15:18.183Z"
   },
   {
    "duration": 42,
    "start_time": "2022-03-21T18:15:18.373Z"
   },
   {
    "duration": 11,
    "start_time": "2022-03-21T18:15:18.416Z"
   },
   {
    "duration": 16,
    "start_time": "2022-03-21T18:15:18.429Z"
   },
   {
    "duration": 64,
    "start_time": "2022-03-21T18:15:18.446Z"
   },
   {
    "duration": 249,
    "start_time": "2022-03-21T18:15:18.511Z"
   },
   {
    "duration": 114,
    "start_time": "2022-03-21T18:15:18.762Z"
   },
   {
    "duration": 0,
    "start_time": "2022-03-21T18:15:18.878Z"
   },
   {
    "duration": 0,
    "start_time": "2022-03-21T18:15:18.879Z"
   },
   {
    "duration": 0,
    "start_time": "2022-03-21T18:15:18.880Z"
   },
   {
    "duration": 0,
    "start_time": "2022-03-21T18:15:18.881Z"
   },
   {
    "duration": 0,
    "start_time": "2022-03-21T18:15:18.882Z"
   },
   {
    "duration": 0,
    "start_time": "2022-03-21T18:15:18.883Z"
   },
   {
    "duration": 0,
    "start_time": "2022-03-21T18:15:18.884Z"
   },
   {
    "duration": 0,
    "start_time": "2022-03-21T18:15:18.885Z"
   },
   {
    "duration": 0,
    "start_time": "2022-03-21T18:15:18.886Z"
   },
   {
    "duration": 105,
    "start_time": "2022-03-21T18:15:53.404Z"
   },
   {
    "duration": 29,
    "start_time": "2022-03-21T18:16:04.433Z"
   },
   {
    "duration": 30,
    "start_time": "2022-03-21T18:16:29.035Z"
   },
   {
    "duration": 12,
    "start_time": "2022-03-21T18:32:50.901Z"
   },
   {
    "duration": 1310,
    "start_time": "2022-03-21T18:33:11.153Z"
   },
   {
    "duration": 356,
    "start_time": "2022-03-21T18:33:12.465Z"
   },
   {
    "duration": 3,
    "start_time": "2022-03-21T18:33:12.822Z"
   },
   {
    "duration": 182,
    "start_time": "2022-03-21T18:33:12.827Z"
   },
   {
    "duration": 36,
    "start_time": "2022-03-21T18:33:13.011Z"
   },
   {
    "duration": 11,
    "start_time": "2022-03-21T18:33:13.049Z"
   },
   {
    "duration": 10,
    "start_time": "2022-03-21T18:33:13.061Z"
   },
   {
    "duration": 73,
    "start_time": "2022-03-21T18:33:13.073Z"
   },
   {
    "duration": 175,
    "start_time": "2022-03-21T18:33:13.148Z"
   },
   {
    "duration": 181,
    "start_time": "2022-03-21T18:33:13.326Z"
   },
   {
    "duration": 34,
    "start_time": "2022-03-21T18:33:13.509Z"
   },
   {
    "duration": 11,
    "start_time": "2022-03-21T18:33:13.545Z"
   },
   {
    "duration": 11,
    "start_time": "2022-03-21T18:33:13.557Z"
   },
   {
    "duration": 67,
    "start_time": "2022-03-21T18:33:13.570Z"
   },
   {
    "duration": 166,
    "start_time": "2022-03-21T18:33:13.639Z"
   },
   {
    "duration": 172,
    "start_time": "2022-03-21T18:33:13.809Z"
   },
   {
    "duration": 43,
    "start_time": "2022-03-21T18:33:13.983Z"
   },
   {
    "duration": 10,
    "start_time": "2022-03-21T18:33:14.028Z"
   },
   {
    "duration": 11,
    "start_time": "2022-03-21T18:33:14.040Z"
   },
   {
    "duration": 66,
    "start_time": "2022-03-21T18:33:14.053Z"
   },
   {
    "duration": 239,
    "start_time": "2022-03-21T18:33:14.121Z"
   },
   {
    "duration": 56,
    "start_time": "2022-03-21T18:33:14.362Z"
   },
   {
    "duration": 100,
    "start_time": "2022-03-21T18:33:14.510Z"
   },
   {
    "duration": 118,
    "start_time": "2022-03-21T18:33:14.612Z"
   },
   {
    "duration": 81,
    "start_time": "2022-03-21T18:33:14.733Z"
   },
   {
    "duration": 93,
    "start_time": "2022-03-21T18:33:14.817Z"
   },
   {
    "duration": 8,
    "start_time": "2022-03-21T18:33:14.912Z"
   },
   {
    "duration": 6,
    "start_time": "2022-03-21T18:33:14.924Z"
   },
   {
    "duration": 129,
    "start_time": "2022-03-21T18:33:14.932Z"
   },
   {
    "duration": 0,
    "start_time": "2022-03-21T18:33:15.063Z"
   },
   {
    "duration": 0,
    "start_time": "2022-03-21T18:33:15.064Z"
   },
   {
    "duration": 13,
    "start_time": "2022-03-21T18:46:39.212Z"
   },
   {
    "duration": 1406,
    "start_time": "2022-03-21T18:47:03.681Z"
   },
   {
    "duration": 360,
    "start_time": "2022-03-21T18:47:05.089Z"
   },
   {
    "duration": 4,
    "start_time": "2022-03-21T18:47:05.451Z"
   },
   {
    "duration": 186,
    "start_time": "2022-03-21T18:47:05.457Z"
   },
   {
    "duration": 36,
    "start_time": "2022-03-21T18:47:05.645Z"
   },
   {
    "duration": 28,
    "start_time": "2022-03-21T18:47:05.683Z"
   },
   {
    "duration": 9,
    "start_time": "2022-03-21T18:47:05.713Z"
   },
   {
    "duration": 46,
    "start_time": "2022-03-21T18:47:05.724Z"
   },
   {
    "duration": 181,
    "start_time": "2022-03-21T18:47:05.772Z"
   },
   {
    "duration": 186,
    "start_time": "2022-03-21T18:47:05.956Z"
   },
   {
    "duration": 35,
    "start_time": "2022-03-21T18:47:06.144Z"
   },
   {
    "duration": 10,
    "start_time": "2022-03-21T18:47:06.180Z"
   },
   {
    "duration": 28,
    "start_time": "2022-03-21T18:47:06.192Z"
   },
   {
    "duration": 43,
    "start_time": "2022-03-21T18:47:06.221Z"
   },
   {
    "duration": 170,
    "start_time": "2022-03-21T18:47:06.266Z"
   },
   {
    "duration": 180,
    "start_time": "2022-03-21T18:47:06.438Z"
   },
   {
    "duration": 36,
    "start_time": "2022-03-21T18:47:06.620Z"
   },
   {
    "duration": 10,
    "start_time": "2022-03-21T18:47:06.657Z"
   },
   {
    "duration": 12,
    "start_time": "2022-03-21T18:47:06.669Z"
   },
   {
    "duration": 64,
    "start_time": "2022-03-21T18:47:06.683Z"
   },
   {
    "duration": 247,
    "start_time": "2022-03-21T18:47:06.748Z"
   },
   {
    "duration": 114,
    "start_time": "2022-03-21T18:47:06.996Z"
   },
   {
    "duration": 123,
    "start_time": "2022-03-21T18:47:07.112Z"
   },
   {
    "duration": 120,
    "start_time": "2022-03-21T18:47:07.313Z"
   },
   {
    "duration": 81,
    "start_time": "2022-03-21T18:47:07.435Z"
   },
   {
    "duration": 92,
    "start_time": "2022-03-21T18:47:07.518Z"
   },
   {
    "duration": 11,
    "start_time": "2022-03-21T18:47:07.612Z"
   },
   {
    "duration": 6,
    "start_time": "2022-03-21T18:47:07.626Z"
   },
   {
    "duration": 125,
    "start_time": "2022-03-21T18:47:07.634Z"
   },
   {
    "duration": 0,
    "start_time": "2022-03-21T18:47:07.760Z"
   },
   {
    "duration": 0,
    "start_time": "2022-03-21T18:47:07.762Z"
   },
   {
    "duration": 13,
    "start_time": "2022-03-21T18:48:56.655Z"
   },
   {
    "duration": 12,
    "start_time": "2022-03-21T18:51:00.965Z"
   },
   {
    "duration": 1282,
    "start_time": "2022-03-21T18:51:12.866Z"
   },
   {
    "duration": 348,
    "start_time": "2022-03-21T18:51:14.150Z"
   },
   {
    "duration": 3,
    "start_time": "2022-03-21T18:51:14.499Z"
   },
   {
    "duration": 179,
    "start_time": "2022-03-21T18:51:14.508Z"
   },
   {
    "duration": 48,
    "start_time": "2022-03-21T18:51:14.689Z"
   },
   {
    "duration": 13,
    "start_time": "2022-03-21T18:51:14.739Z"
   },
   {
    "duration": 10,
    "start_time": "2022-03-21T18:51:14.754Z"
   },
   {
    "duration": 71,
    "start_time": "2022-03-21T18:51:14.766Z"
   },
   {
    "duration": 182,
    "start_time": "2022-03-21T18:51:14.839Z"
   },
   {
    "duration": 180,
    "start_time": "2022-03-21T18:51:15.024Z"
   },
   {
    "duration": 34,
    "start_time": "2022-03-21T18:51:15.209Z"
   },
   {
    "duration": 10,
    "start_time": "2022-03-21T18:51:15.245Z"
   },
   {
    "duration": 11,
    "start_time": "2022-03-21T18:51:15.257Z"
   },
   {
    "duration": 66,
    "start_time": "2022-03-21T18:51:15.270Z"
   },
   {
    "duration": 162,
    "start_time": "2022-03-21T18:51:15.338Z"
   },
   {
    "duration": 178,
    "start_time": "2022-03-21T18:51:15.502Z"
   },
   {
    "duration": 43,
    "start_time": "2022-03-21T18:51:15.682Z"
   },
   {
    "duration": 10,
    "start_time": "2022-03-21T18:51:15.727Z"
   },
   {
    "duration": 11,
    "start_time": "2022-03-21T18:51:15.739Z"
   },
   {
    "duration": 63,
    "start_time": "2022-03-21T18:51:15.752Z"
   },
   {
    "duration": 242,
    "start_time": "2022-03-21T18:51:15.817Z"
   },
   {
    "duration": 53,
    "start_time": "2022-03-21T18:51:16.060Z"
   },
   {
    "duration": 194,
    "start_time": "2022-03-21T18:51:16.116Z"
   },
   {
    "duration": 124,
    "start_time": "2022-03-21T18:51:16.313Z"
   },
   {
    "duration": 6,
    "start_time": "2022-03-21T18:51:16.511Z"
   },
   {
    "duration": 98,
    "start_time": "2022-03-21T18:51:16.520Z"
   },
   {
    "duration": 6,
    "start_time": "2022-03-21T18:51:16.621Z"
   },
   {
    "duration": 6,
    "start_time": "2022-03-21T18:51:16.630Z"
   },
   {
    "duration": 123,
    "start_time": "2022-03-21T18:51:16.638Z"
   },
   {
    "duration": 0,
    "start_time": "2022-03-21T18:51:16.763Z"
   },
   {
    "duration": 0,
    "start_time": "2022-03-21T18:51:16.764Z"
   },
   {
    "duration": 3,
    "start_time": "2022-03-21T18:51:31.783Z"
   },
   {
    "duration": 12,
    "start_time": "2022-03-21T18:51:33.163Z"
   },
   {
    "duration": 11,
    "start_time": "2022-03-21T18:53:09.292Z"
   },
   {
    "duration": 1339,
    "start_time": "2022-03-21T18:53:19.256Z"
   },
   {
    "duration": 365,
    "start_time": "2022-03-21T18:53:20.597Z"
   },
   {
    "duration": 3,
    "start_time": "2022-03-21T18:53:20.964Z"
   },
   {
    "duration": 196,
    "start_time": "2022-03-21T18:53:20.969Z"
   },
   {
    "duration": 46,
    "start_time": "2022-03-21T18:53:21.167Z"
   },
   {
    "duration": 14,
    "start_time": "2022-03-21T18:53:21.215Z"
   },
   {
    "duration": 12,
    "start_time": "2022-03-21T18:53:21.230Z"
   },
   {
    "duration": 74,
    "start_time": "2022-03-21T18:53:21.244Z"
   },
   {
    "duration": 182,
    "start_time": "2022-03-21T18:53:21.320Z"
   },
   {
    "duration": 183,
    "start_time": "2022-03-21T18:53:21.508Z"
   },
   {
    "duration": 44,
    "start_time": "2022-03-21T18:53:21.693Z"
   },
   {
    "duration": 11,
    "start_time": "2022-03-21T18:53:21.738Z"
   },
   {
    "duration": 14,
    "start_time": "2022-03-21T18:53:21.750Z"
   },
   {
    "duration": 58,
    "start_time": "2022-03-21T18:53:21.766Z"
   },
   {
    "duration": 163,
    "start_time": "2022-03-21T18:53:21.826Z"
   },
   {
    "duration": 177,
    "start_time": "2022-03-21T18:53:21.991Z"
   },
   {
    "duration": 42,
    "start_time": "2022-03-21T18:53:22.170Z"
   },
   {
    "duration": 10,
    "start_time": "2022-03-21T18:53:22.214Z"
   },
   {
    "duration": 11,
    "start_time": "2022-03-21T18:53:22.226Z"
   },
   {
    "duration": 48,
    "start_time": "2022-03-21T18:53:22.238Z"
   },
   {
    "duration": 274,
    "start_time": "2022-03-21T18:53:22.287Z"
   },
   {
    "duration": 57,
    "start_time": "2022-03-21T18:53:22.563Z"
   },
   {
    "duration": 191,
    "start_time": "2022-03-21T18:53:22.622Z"
   },
   {
    "duration": 117,
    "start_time": "2022-03-21T18:53:22.816Z"
   },
   {
    "duration": 7,
    "start_time": "2022-03-21T18:53:23.008Z"
   },
   {
    "duration": 97,
    "start_time": "2022-03-21T18:53:23.017Z"
   },
   {
    "duration": 7,
    "start_time": "2022-03-21T18:53:23.116Z"
   },
   {
    "duration": 7,
    "start_time": "2022-03-21T18:53:23.126Z"
   },
   {
    "duration": 128,
    "start_time": "2022-03-21T18:53:23.135Z"
   },
   {
    "duration": 0,
    "start_time": "2022-03-21T18:53:23.265Z"
   },
   {
    "duration": 0,
    "start_time": "2022-03-21T18:53:23.266Z"
   },
   {
    "duration": 11,
    "start_time": "2022-03-21T18:53:35.218Z"
   },
   {
    "duration": 13,
    "start_time": "2022-03-21T18:53:48.250Z"
   },
   {
    "duration": 1303,
    "start_time": "2022-03-21T18:53:55.860Z"
   },
   {
    "duration": 348,
    "start_time": "2022-03-21T18:53:57.165Z"
   },
   {
    "duration": 2,
    "start_time": "2022-03-21T18:53:57.515Z"
   },
   {
    "duration": 182,
    "start_time": "2022-03-21T18:53:57.520Z"
   },
   {
    "duration": 35,
    "start_time": "2022-03-21T18:53:57.708Z"
   },
   {
    "duration": 10,
    "start_time": "2022-03-21T18:53:57.745Z"
   },
   {
    "duration": 8,
    "start_time": "2022-03-21T18:53:57.757Z"
   },
   {
    "duration": 65,
    "start_time": "2022-03-21T18:53:57.767Z"
   },
   {
    "duration": 167,
    "start_time": "2022-03-21T18:53:57.833Z"
   },
   {
    "duration": 167,
    "start_time": "2022-03-21T18:53:58.008Z"
   },
   {
    "duration": 42,
    "start_time": "2022-03-21T18:53:58.176Z"
   },
   {
    "duration": 10,
    "start_time": "2022-03-21T18:53:58.219Z"
   },
   {
    "duration": 12,
    "start_time": "2022-03-21T18:53:58.230Z"
   },
   {
    "duration": 39,
    "start_time": "2022-03-21T18:53:58.243Z"
   },
   {
    "duration": 178,
    "start_time": "2022-03-21T18:53:58.283Z"
   },
   {
    "duration": 186,
    "start_time": "2022-03-21T18:53:58.463Z"
   },
   {
    "duration": 33,
    "start_time": "2022-03-21T18:53:58.651Z"
   },
   {
    "duration": 24,
    "start_time": "2022-03-21T18:53:58.686Z"
   },
   {
    "duration": 9,
    "start_time": "2022-03-21T18:53:58.712Z"
   },
   {
    "duration": 41,
    "start_time": "2022-03-21T18:53:58.723Z"
   },
   {
    "duration": 257,
    "start_time": "2022-03-21T18:53:58.766Z"
   },
   {
    "duration": 28,
    "start_time": "2022-03-21T18:53:59.025Z"
   },
   {
    "duration": 124,
    "start_time": "2022-03-21T18:53:59.113Z"
   },
   {
    "duration": 184,
    "start_time": "2022-03-21T18:53:59.239Z"
   },
   {
    "duration": 5,
    "start_time": "2022-03-21T18:53:59.425Z"
   },
   {
    "duration": 100,
    "start_time": "2022-03-21T18:53:59.510Z"
   },
   {
    "duration": 6,
    "start_time": "2022-03-21T18:53:59.612Z"
   },
   {
    "duration": 7,
    "start_time": "2022-03-21T18:53:59.622Z"
   },
   {
    "duration": 131,
    "start_time": "2022-03-21T18:53:59.630Z"
   },
   {
    "duration": 0,
    "start_time": "2022-03-21T18:53:59.762Z"
   },
   {
    "duration": 0,
    "start_time": "2022-03-21T18:53:59.763Z"
   },
   {
    "duration": 12,
    "start_time": "2022-03-21T19:01:46.847Z"
   },
   {
    "duration": 1263,
    "start_time": "2022-03-21T19:01:58.308Z"
   },
   {
    "duration": 367,
    "start_time": "2022-03-21T19:01:59.573Z"
   },
   {
    "duration": 3,
    "start_time": "2022-03-21T19:01:59.941Z"
   },
   {
    "duration": 202,
    "start_time": "2022-03-21T19:01:59.946Z"
   },
   {
    "duration": 59,
    "start_time": "2022-03-21T19:02:00.150Z"
   },
   {
    "duration": 11,
    "start_time": "2022-03-21T19:02:00.211Z"
   },
   {
    "duration": 10,
    "start_time": "2022-03-21T19:02:00.223Z"
   },
   {
    "duration": 76,
    "start_time": "2022-03-21T19:02:00.234Z"
   },
   {
    "duration": 168,
    "start_time": "2022-03-21T19:02:00.311Z"
   },
   {
    "duration": 181,
    "start_time": "2022-03-21T19:02:00.482Z"
   },
   {
    "duration": 45,
    "start_time": "2022-03-21T19:02:00.665Z"
   },
   {
    "duration": 11,
    "start_time": "2022-03-21T19:02:00.712Z"
   },
   {
    "duration": 18,
    "start_time": "2022-03-21T19:02:00.725Z"
   },
   {
    "duration": 43,
    "start_time": "2022-03-21T19:02:00.745Z"
   },
   {
    "duration": 181,
    "start_time": "2022-03-21T19:02:00.789Z"
   },
   {
    "duration": 175,
    "start_time": "2022-03-21T19:02:00.972Z"
   },
   {
    "duration": 36,
    "start_time": "2022-03-21T19:02:01.149Z"
   },
   {
    "duration": 23,
    "start_time": "2022-03-21T19:02:01.186Z"
   },
   {
    "duration": 19,
    "start_time": "2022-03-21T19:02:01.210Z"
   },
   {
    "duration": 44,
    "start_time": "2022-03-21T19:02:01.231Z"
   },
   {
    "duration": 254,
    "start_time": "2022-03-21T19:02:01.276Z"
   },
   {
    "duration": 88,
    "start_time": "2022-03-21T19:02:01.531Z"
   },
   {
    "duration": 116,
    "start_time": "2022-03-21T19:02:01.621Z"
   },
   {
    "duration": 119,
    "start_time": "2022-03-21T19:02:01.810Z"
   },
   {
    "duration": 77,
    "start_time": "2022-03-21T19:02:01.931Z"
   },
   {
    "duration": 102,
    "start_time": "2022-03-21T19:02:02.011Z"
   },
   {
    "duration": 16,
    "start_time": "2022-03-21T19:02:02.114Z"
   },
   {
    "duration": 10,
    "start_time": "2022-03-21T19:02:02.133Z"
   },
   {
    "duration": 114,
    "start_time": "2022-03-21T19:02:02.145Z"
   },
   {
    "duration": 0,
    "start_time": "2022-03-21T19:02:02.260Z"
   },
   {
    "duration": 0,
    "start_time": "2022-03-21T19:02:02.262Z"
   },
   {
    "duration": 12,
    "start_time": "2022-03-21T19:03:15.567Z"
   },
   {
    "duration": 1298,
    "start_time": "2022-03-21T19:03:24.952Z"
   },
   {
    "duration": 363,
    "start_time": "2022-03-21T19:03:26.252Z"
   },
   {
    "duration": 3,
    "start_time": "2022-03-21T19:03:26.617Z"
   },
   {
    "duration": 191,
    "start_time": "2022-03-21T19:03:26.622Z"
   },
   {
    "duration": 38,
    "start_time": "2022-03-21T19:03:26.814Z"
   },
   {
    "duration": 12,
    "start_time": "2022-03-21T19:03:26.854Z"
   },
   {
    "duration": 11,
    "start_time": "2022-03-21T19:03:26.868Z"
   },
   {
    "duration": 45,
    "start_time": "2022-03-21T19:03:26.910Z"
   },
   {
    "duration": 186,
    "start_time": "2022-03-21T19:03:26.957Z"
   },
   {
    "duration": 179,
    "start_time": "2022-03-21T19:03:27.146Z"
   },
   {
    "duration": 35,
    "start_time": "2022-03-21T19:03:27.327Z"
   },
   {
    "duration": 11,
    "start_time": "2022-03-21T19:03:27.363Z"
   },
   {
    "duration": 35,
    "start_time": "2022-03-21T19:03:27.375Z"
   },
   {
    "duration": 41,
    "start_time": "2022-03-21T19:03:27.411Z"
   },
   {
    "duration": 175,
    "start_time": "2022-03-21T19:03:27.454Z"
   },
   {
    "duration": 180,
    "start_time": "2022-03-21T19:03:27.630Z"
   },
   {
    "duration": 34,
    "start_time": "2022-03-21T19:03:27.812Z"
   },
   {
    "duration": 11,
    "start_time": "2022-03-21T19:03:27.847Z"
   },
   {
    "duration": 11,
    "start_time": "2022-03-21T19:03:27.860Z"
   },
   {
    "duration": 74,
    "start_time": "2022-03-21T19:03:27.873Z"
   },
   {
    "duration": 243,
    "start_time": "2022-03-21T19:03:27.949Z"
   },
   {
    "duration": 37,
    "start_time": "2022-03-21T19:03:28.194Z"
   },
   {
    "duration": 193,
    "start_time": "2022-03-21T19:03:28.233Z"
   },
   {
    "duration": 195,
    "start_time": "2022-03-21T19:03:28.428Z"
   },
   {
    "duration": 84,
    "start_time": "2022-03-21T19:03:28.626Z"
   },
   {
    "duration": 97,
    "start_time": "2022-03-21T19:03:28.713Z"
   },
   {
    "duration": 6,
    "start_time": "2022-03-21T19:03:28.812Z"
   },
   {
    "duration": 8,
    "start_time": "2022-03-21T19:03:28.821Z"
   },
   {
    "duration": 122,
    "start_time": "2022-03-21T19:03:28.831Z"
   },
   {
    "duration": 0,
    "start_time": "2022-03-21T19:03:28.954Z"
   },
   {
    "duration": 0,
    "start_time": "2022-03-21T19:03:28.955Z"
   },
   {
    "duration": 11,
    "start_time": "2022-03-21T19:03:41.777Z"
   },
   {
    "duration": 3,
    "start_time": "2022-03-21T19:03:42.832Z"
   },
   {
    "duration": 6,
    "start_time": "2022-03-21T19:03:52.207Z"
   },
   {
    "duration": 11,
    "start_time": "2022-03-21T19:03:53.648Z"
   },
   {
    "duration": 12,
    "start_time": "2022-03-21T19:45:27.942Z"
   },
   {
    "duration": 1311,
    "start_time": "2022-03-21T19:45:38.111Z"
   },
   {
    "duration": 351,
    "start_time": "2022-03-21T19:45:39.424Z"
   },
   {
    "duration": 3,
    "start_time": "2022-03-21T19:45:39.776Z"
   },
   {
    "duration": 194,
    "start_time": "2022-03-21T19:45:39.781Z"
   },
   {
    "duration": 47,
    "start_time": "2022-03-21T19:45:39.977Z"
   },
   {
    "duration": 11,
    "start_time": "2022-03-21T19:45:40.026Z"
   },
   {
    "duration": 9,
    "start_time": "2022-03-21T19:45:40.038Z"
   },
   {
    "duration": 67,
    "start_time": "2022-03-21T19:45:40.049Z"
   },
   {
    "duration": 167,
    "start_time": "2022-03-21T19:45:40.118Z"
   },
   {
    "duration": 179,
    "start_time": "2022-03-21T19:45:40.288Z"
   },
   {
    "duration": 41,
    "start_time": "2022-03-21T19:45:40.469Z"
   },
   {
    "duration": 10,
    "start_time": "2022-03-21T19:45:40.512Z"
   },
   {
    "duration": 15,
    "start_time": "2022-03-21T19:45:40.523Z"
   },
   {
    "duration": 42,
    "start_time": "2022-03-21T19:45:40.539Z"
   },
   {
    "duration": 183,
    "start_time": "2022-03-21T19:45:40.582Z"
   },
   {
    "duration": 171,
    "start_time": "2022-03-21T19:45:40.766Z"
   },
   {
    "duration": 34,
    "start_time": "2022-03-21T19:45:40.939Z"
   },
   {
    "duration": 10,
    "start_time": "2022-03-21T19:45:40.974Z"
   },
   {
    "duration": 28,
    "start_time": "2022-03-21T19:45:40.986Z"
   },
   {
    "duration": 44,
    "start_time": "2022-03-21T19:45:41.016Z"
   },
   {
    "duration": 240,
    "start_time": "2022-03-21T19:45:41.062Z"
   },
   {
    "duration": 29,
    "start_time": "2022-03-21T19:45:41.308Z"
   },
   {
    "duration": 181,
    "start_time": "2022-03-21T19:45:41.339Z"
   },
   {
    "duration": 203,
    "start_time": "2022-03-21T19:45:41.522Z"
   },
   {
    "duration": 83,
    "start_time": "2022-03-21T19:45:41.727Z"
   },
   {
    "duration": 97,
    "start_time": "2022-03-21T19:45:41.813Z"
   },
   {
    "duration": 7,
    "start_time": "2022-03-21T19:45:41.912Z"
   },
   {
    "duration": 6,
    "start_time": "2022-03-21T19:45:41.922Z"
   },
   {
    "duration": 129,
    "start_time": "2022-03-21T19:45:41.930Z"
   },
   {
    "duration": 0,
    "start_time": "2022-03-21T19:45:42.061Z"
   },
   {
    "duration": 0,
    "start_time": "2022-03-21T19:45:42.063Z"
   },
   {
    "duration": 57,
    "start_time": "2022-03-22T08:48:18.077Z"
   },
   {
    "duration": 1793,
    "start_time": "2022-03-22T08:48:32.563Z"
   },
   {
    "duration": 394,
    "start_time": "2022-03-22T08:48:34.358Z"
   },
   {
    "duration": 3,
    "start_time": "2022-03-22T08:48:34.754Z"
   },
   {
    "duration": 213,
    "start_time": "2022-03-22T08:48:34.760Z"
   },
   {
    "duration": 41,
    "start_time": "2022-03-22T08:48:34.975Z"
   },
   {
    "duration": 15,
    "start_time": "2022-03-22T08:48:35.035Z"
   },
   {
    "duration": 14,
    "start_time": "2022-03-22T08:48:35.051Z"
   },
   {
    "duration": 68,
    "start_time": "2022-03-22T08:48:35.067Z"
   },
   {
    "duration": 195,
    "start_time": "2022-03-22T08:48:35.137Z"
   },
   {
    "duration": 202,
    "start_time": "2022-03-22T08:48:35.336Z"
   },
   {
    "duration": 51,
    "start_time": "2022-03-22T08:48:35.539Z"
   },
   {
    "duration": 13,
    "start_time": "2022-03-22T08:48:35.591Z"
   },
   {
    "duration": 31,
    "start_time": "2022-03-22T08:48:35.606Z"
   },
   {
    "duration": 65,
    "start_time": "2022-03-22T08:48:35.639Z"
   },
   {
    "duration": 172,
    "start_time": "2022-03-22T08:48:35.708Z"
   },
   {
    "duration": 193,
    "start_time": "2022-03-22T08:48:35.883Z"
   },
   {
    "duration": 38,
    "start_time": "2022-03-22T08:48:36.078Z"
   },
   {
    "duration": 22,
    "start_time": "2022-03-22T08:48:36.118Z"
   },
   {
    "duration": 30,
    "start_time": "2022-03-22T08:48:36.142Z"
   },
   {
    "duration": 53,
    "start_time": "2022-03-22T08:48:36.174Z"
   },
   {
    "duration": 258,
    "start_time": "2022-03-22T08:48:36.228Z"
   },
   {
    "duration": 55,
    "start_time": "2022-03-22T08:48:36.488Z"
   },
   {
    "duration": 212,
    "start_time": "2022-03-22T08:48:36.545Z"
   },
   {
    "duration": 123,
    "start_time": "2022-03-22T08:48:36.833Z"
   },
   {
    "duration": 77,
    "start_time": "2022-03-22T08:48:36.958Z"
   },
   {
    "duration": 99,
    "start_time": "2022-03-22T08:48:37.037Z"
   },
   {
    "duration": 12,
    "start_time": "2022-03-22T08:48:37.138Z"
   },
   {
    "duration": 19,
    "start_time": "2022-03-22T08:48:37.153Z"
   },
   {
    "duration": 118,
    "start_time": "2022-03-22T08:48:37.173Z"
   },
   {
    "duration": 0,
    "start_time": "2022-03-22T08:48:37.293Z"
   },
   {
    "duration": 0,
    "start_time": "2022-03-22T08:48:37.295Z"
   },
   {
    "duration": 14,
    "start_time": "2022-03-22T08:50:53.853Z"
   },
   {
    "duration": 1760,
    "start_time": "2022-03-22T08:51:15.489Z"
   },
   {
    "duration": 394,
    "start_time": "2022-03-22T08:51:17.252Z"
   },
   {
    "duration": 4,
    "start_time": "2022-03-22T08:51:17.648Z"
   },
   {
    "duration": 215,
    "start_time": "2022-03-22T08:51:17.655Z"
   },
   {
    "duration": 60,
    "start_time": "2022-03-22T08:51:17.873Z"
   },
   {
    "duration": 13,
    "start_time": "2022-03-22T08:51:17.934Z"
   },
   {
    "duration": 24,
    "start_time": "2022-03-22T08:51:17.948Z"
   },
   {
    "duration": 73,
    "start_time": "2022-03-22T08:51:17.973Z"
   },
   {
    "duration": 199,
    "start_time": "2022-03-22T08:51:18.048Z"
   },
   {
    "duration": 237,
    "start_time": "2022-03-22T08:51:18.250Z"
   },
   {
    "duration": 50,
    "start_time": "2022-03-22T08:51:18.488Z"
   },
   {
    "duration": 12,
    "start_time": "2022-03-22T08:51:18.539Z"
   },
   {
    "duration": 31,
    "start_time": "2022-03-22T08:51:18.553Z"
   },
   {
    "duration": 70,
    "start_time": "2022-03-22T08:51:18.586Z"
   },
   {
    "duration": 187,
    "start_time": "2022-03-22T08:51:18.658Z"
   },
   {
    "duration": 207,
    "start_time": "2022-03-22T08:51:18.848Z"
   },
   {
    "duration": 40,
    "start_time": "2022-03-22T08:51:19.056Z"
   },
   {
    "duration": 32,
    "start_time": "2022-03-22T08:51:19.099Z"
   },
   {
    "duration": 12,
    "start_time": "2022-03-22T08:51:19.133Z"
   },
   {
    "duration": 86,
    "start_time": "2022-03-22T08:51:19.148Z"
   },
   {
    "duration": 274,
    "start_time": "2022-03-22T08:51:19.236Z"
   },
   {
    "duration": 120,
    "start_time": "2022-03-22T08:51:19.512Z"
   },
   {
    "duration": 127,
    "start_time": "2022-03-22T08:51:19.634Z"
   },
   {
    "duration": 116,
    "start_time": "2022-03-22T08:51:19.833Z"
   },
   {
    "duration": 81,
    "start_time": "2022-03-22T08:51:19.951Z"
   },
   {
    "duration": 107,
    "start_time": "2022-03-22T08:51:20.036Z"
   },
   {
    "duration": 7,
    "start_time": "2022-03-22T08:51:20.146Z"
   },
   {
    "duration": 7,
    "start_time": "2022-03-22T08:51:20.156Z"
   },
   {
    "duration": 133,
    "start_time": "2022-03-22T08:51:20.165Z"
   },
   {
    "duration": 0,
    "start_time": "2022-03-22T08:51:20.300Z"
   },
   {
    "duration": 0,
    "start_time": "2022-03-22T08:51:20.302Z"
   },
   {
    "duration": 3,
    "start_time": "2022-03-22T08:51:28.658Z"
   },
   {
    "duration": 1367,
    "start_time": "2022-03-22T08:51:29.835Z"
   },
   {
    "duration": 1355,
    "start_time": "2022-03-22T08:51:46.153Z"
   },
   {
    "duration": 15,
    "start_time": "2022-03-22T08:58:08.820Z"
   },
   {
    "duration": 1663,
    "start_time": "2022-03-22T08:58:23.889Z"
   },
   {
    "duration": 399,
    "start_time": "2022-03-22T08:58:25.554Z"
   },
   {
    "duration": 4,
    "start_time": "2022-03-22T08:58:25.955Z"
   },
   {
    "duration": 208,
    "start_time": "2022-03-22T08:58:25.961Z"
   },
   {
    "duration": 40,
    "start_time": "2022-03-22T08:58:26.172Z"
   },
   {
    "duration": 28,
    "start_time": "2022-03-22T08:58:26.214Z"
   },
   {
    "duration": 12,
    "start_time": "2022-03-22T08:58:26.244Z"
   },
   {
    "duration": 77,
    "start_time": "2022-03-22T08:58:26.258Z"
   },
   {
    "duration": 204,
    "start_time": "2022-03-22T08:58:26.337Z"
   },
   {
    "duration": 203,
    "start_time": "2022-03-22T08:58:26.543Z"
   },
   {
    "duration": 37,
    "start_time": "2022-03-22T08:58:26.748Z"
   },
   {
    "duration": 11,
    "start_time": "2022-03-22T08:58:26.787Z"
   },
   {
    "duration": 35,
    "start_time": "2022-03-22T08:58:26.800Z"
   },
   {
    "duration": 48,
    "start_time": "2022-03-22T08:58:26.838Z"
   },
   {
    "duration": 187,
    "start_time": "2022-03-22T08:58:26.887Z"
   },
   {
    "duration": 200,
    "start_time": "2022-03-22T08:58:27.076Z"
   },
   {
    "duration": 37,
    "start_time": "2022-03-22T08:58:27.278Z"
   },
   {
    "duration": 24,
    "start_time": "2022-03-22T08:58:27.316Z"
   },
   {
    "duration": 12,
    "start_time": "2022-03-22T08:58:27.341Z"
   },
   {
    "duration": 51,
    "start_time": "2022-03-22T08:58:27.354Z"
   },
   {
    "duration": 276,
    "start_time": "2022-03-22T08:58:27.407Z"
   },
   {
    "duration": 54,
    "start_time": "2022-03-22T08:58:27.684Z"
   },
   {
    "duration": 191,
    "start_time": "2022-03-22T08:58:27.744Z"
   },
   {
    "duration": 114,
    "start_time": "2022-03-22T08:58:27.941Z"
   },
   {
    "duration": 84,
    "start_time": "2022-03-22T08:58:28.058Z"
   },
   {
    "duration": 10,
    "start_time": "2022-03-22T08:58:28.232Z"
   },
   {
    "duration": 8,
    "start_time": "2022-03-22T08:58:28.244Z"
   },
   {
    "duration": 11,
    "start_time": "2022-03-22T08:58:28.254Z"
   },
   {
    "duration": 133,
    "start_time": "2022-03-22T08:58:28.268Z"
   },
   {
    "duration": 0,
    "start_time": "2022-03-22T08:58:28.403Z"
   },
   {
    "duration": 0,
    "start_time": "2022-03-22T08:58:28.404Z"
   },
   {
    "duration": 15,
    "start_time": "2022-03-22T08:58:42.586Z"
   },
   {
    "duration": 1834,
    "start_time": "2022-03-22T08:58:59.155Z"
   },
   {
    "duration": 405,
    "start_time": "2022-03-22T08:59:00.991Z"
   },
   {
    "duration": 4,
    "start_time": "2022-03-22T08:59:01.397Z"
   },
   {
    "duration": 208,
    "start_time": "2022-03-22T08:59:01.403Z"
   },
   {
    "duration": 53,
    "start_time": "2022-03-22T08:59:01.613Z"
   },
   {
    "duration": 17,
    "start_time": "2022-03-22T08:59:01.668Z"
   },
   {
    "duration": 13,
    "start_time": "2022-03-22T08:59:01.687Z"
   },
   {
    "duration": 79,
    "start_time": "2022-03-22T08:59:01.702Z"
   },
   {
    "duration": 216,
    "start_time": "2022-03-22T08:59:01.784Z"
   },
   {
    "duration": 205,
    "start_time": "2022-03-22T08:59:02.003Z"
   },
   {
    "duration": 48,
    "start_time": "2022-03-22T08:59:02.209Z"
   },
   {
    "duration": 12,
    "start_time": "2022-03-22T08:59:02.259Z"
   },
   {
    "duration": 25,
    "start_time": "2022-03-22T08:59:02.273Z"
   },
   {
    "duration": 62,
    "start_time": "2022-03-22T08:59:02.300Z"
   },
   {
    "duration": 187,
    "start_time": "2022-03-22T08:59:02.364Z"
   },
   {
    "duration": 196,
    "start_time": "2022-03-22T08:59:02.553Z"
   },
   {
    "duration": 39,
    "start_time": "2022-03-22T08:59:02.751Z"
   },
   {
    "duration": 12,
    "start_time": "2022-03-22T08:59:02.791Z"
   },
   {
    "duration": 36,
    "start_time": "2022-03-22T08:59:02.804Z"
   },
   {
    "duration": 50,
    "start_time": "2022-03-22T08:59:02.841Z"
   },
   {
    "duration": 272,
    "start_time": "2022-03-22T08:59:02.893Z"
   },
   {
    "duration": 70,
    "start_time": "2022-03-22T08:59:03.167Z"
   },
   {
    "duration": 115,
    "start_time": "2022-03-22T08:59:03.240Z"
   },
   {
    "duration": 191,
    "start_time": "2022-03-22T08:59:03.358Z"
   },
   {
    "duration": 82,
    "start_time": "2022-03-22T08:59:03.551Z"
   },
   {
    "duration": 97,
    "start_time": "2022-03-22T08:59:03.636Z"
   },
   {
    "duration": 9,
    "start_time": "2022-03-22T08:59:03.735Z"
   },
   {
    "duration": 7,
    "start_time": "2022-03-22T08:59:03.747Z"
   },
   {
    "duration": 141,
    "start_time": "2022-03-22T08:59:03.756Z"
   },
   {
    "duration": 0,
    "start_time": "2022-03-22T08:59:03.899Z"
   },
   {
    "duration": 0,
    "start_time": "2022-03-22T08:59:03.900Z"
   },
   {
    "duration": 14,
    "start_time": "2022-03-22T09:05:24.353Z"
   },
   {
    "duration": 1984,
    "start_time": "2022-03-22T09:05:36.370Z"
   },
   {
    "duration": 409,
    "start_time": "2022-03-22T09:05:38.356Z"
   },
   {
    "duration": 5,
    "start_time": "2022-03-22T09:05:38.767Z"
   },
   {
    "duration": 246,
    "start_time": "2022-03-22T09:05:38.774Z"
   },
   {
    "duration": 44,
    "start_time": "2022-03-22T09:05:39.022Z"
   },
   {
    "duration": 13,
    "start_time": "2022-03-22T09:05:39.067Z"
   },
   {
    "duration": 12,
    "start_time": "2022-03-22T09:05:39.082Z"
   },
   {
    "duration": 83,
    "start_time": "2022-03-22T09:05:39.096Z"
   },
   {
    "duration": 206,
    "start_time": "2022-03-22T09:05:39.181Z"
   },
   {
    "duration": 265,
    "start_time": "2022-03-22T09:05:39.390Z"
   },
   {
    "duration": 44,
    "start_time": "2022-03-22T09:05:39.656Z"
   },
   {
    "duration": 29,
    "start_time": "2022-03-22T09:05:39.702Z"
   },
   {
    "duration": 11,
    "start_time": "2022-03-22T09:05:39.733Z"
   },
   {
    "duration": 47,
    "start_time": "2022-03-22T09:05:39.746Z"
   },
   {
    "duration": 272,
    "start_time": "2022-03-22T09:05:39.795Z"
   },
   {
    "duration": 232,
    "start_time": "2022-03-22T09:05:40.070Z"
   },
   {
    "duration": 50,
    "start_time": "2022-03-22T09:05:40.303Z"
   },
   {
    "duration": 13,
    "start_time": "2022-03-22T09:05:40.355Z"
   },
   {
    "duration": 16,
    "start_time": "2022-03-22T09:05:40.369Z"
   },
   {
    "duration": 76,
    "start_time": "2022-03-22T09:05:40.386Z"
   },
   {
    "duration": 301,
    "start_time": "2022-03-22T09:05:40.464Z"
   },
   {
    "duration": 68,
    "start_time": "2022-03-22T09:05:40.767Z"
   },
   {
    "duration": 120,
    "start_time": "2022-03-22T09:05:40.837Z"
   },
   {
    "duration": 205,
    "start_time": "2022-03-22T09:05:40.960Z"
   },
   {
    "duration": 167,
    "start_time": "2022-03-22T09:05:41.167Z"
   },
   {
    "duration": 20,
    "start_time": "2022-03-22T09:05:41.336Z"
   },
   {
    "duration": 14,
    "start_time": "2022-03-22T09:05:41.358Z"
   },
   {
    "duration": 8,
    "start_time": "2022-03-22T09:05:41.375Z"
   },
   {
    "duration": 157,
    "start_time": "2022-03-22T09:05:41.385Z"
   },
   {
    "duration": 0,
    "start_time": "2022-03-22T09:05:41.544Z"
   },
   {
    "duration": 0,
    "start_time": "2022-03-22T09:05:41.545Z"
   },
   {
    "duration": 4,
    "start_time": "2022-03-22T09:05:47.839Z"
   },
   {
    "duration": 1397,
    "start_time": "2022-03-22T09:05:49.026Z"
   },
   {
    "duration": 1290,
    "start_time": "2022-03-22T09:10:36.433Z"
   },
   {
    "duration": 1746,
    "start_time": "2022-03-22T09:10:53.406Z"
   },
   {
    "duration": 390,
    "start_time": "2022-03-22T09:10:55.154Z"
   },
   {
    "duration": 4,
    "start_time": "2022-03-22T09:10:55.546Z"
   },
   {
    "duration": 199,
    "start_time": "2022-03-22T09:10:55.552Z"
   },
   {
    "duration": 40,
    "start_time": "2022-03-22T09:10:55.753Z"
   },
   {
    "duration": 13,
    "start_time": "2022-03-22T09:10:55.795Z"
   },
   {
    "duration": 33,
    "start_time": "2022-03-22T09:10:55.809Z"
   },
   {
    "duration": 50,
    "start_time": "2022-03-22T09:10:55.844Z"
   },
   {
    "duration": 208,
    "start_time": "2022-03-22T09:10:55.896Z"
   },
   {
    "duration": 187,
    "start_time": "2022-03-22T09:10:56.108Z"
   },
   {
    "duration": 51,
    "start_time": "2022-03-22T09:10:56.297Z"
   },
   {
    "duration": 11,
    "start_time": "2022-03-22T09:10:56.350Z"
   },
   {
    "duration": 18,
    "start_time": "2022-03-22T09:10:56.363Z"
   },
   {
    "duration": 65,
    "start_time": "2022-03-22T09:10:56.383Z"
   },
   {
    "duration": 182,
    "start_time": "2022-03-22T09:10:56.451Z"
   },
   {
    "duration": 189,
    "start_time": "2022-03-22T09:10:56.635Z"
   },
   {
    "duration": 41,
    "start_time": "2022-03-22T09:10:56.826Z"
   },
   {
    "duration": 12,
    "start_time": "2022-03-22T09:10:56.869Z"
   },
   {
    "duration": 14,
    "start_time": "2022-03-22T09:10:56.882Z"
   },
   {
    "duration": 72,
    "start_time": "2022-03-22T09:10:56.897Z"
   },
   {
    "duration": 269,
    "start_time": "2022-03-22T09:10:56.971Z"
   },
   {
    "duration": 93,
    "start_time": "2022-03-22T09:10:57.242Z"
   },
   {
    "duration": 122,
    "start_time": "2022-03-22T09:10:57.338Z"
   },
   {
    "duration": 121,
    "start_time": "2022-03-22T09:10:57.531Z"
   },
   {
    "duration": 99,
    "start_time": "2022-03-22T09:10:57.733Z"
   },
   {
    "duration": 8,
    "start_time": "2022-03-22T09:10:57.834Z"
   },
   {
    "duration": 8,
    "start_time": "2022-03-22T09:10:57.844Z"
   },
   {
    "duration": 7,
    "start_time": "2022-03-22T09:10:57.856Z"
   },
   {
    "duration": 145,
    "start_time": "2022-03-22T09:10:57.865Z"
   },
   {
    "duration": 0,
    "start_time": "2022-03-22T09:10:58.012Z"
   },
   {
    "duration": 0,
    "start_time": "2022-03-22T09:10:58.013Z"
   },
   {
    "duration": 3,
    "start_time": "2022-03-22T09:11:14.064Z"
   },
   {
    "duration": 13,
    "start_time": "2022-03-22T09:11:15.324Z"
   },
   {
    "duration": 13,
    "start_time": "2022-03-22T09:26:33.978Z"
   },
   {
    "duration": 1307,
    "start_time": "2022-03-22T09:26:49.593Z"
   },
   {
    "duration": 1326,
    "start_time": "2022-03-22T09:27:05.768Z"
   },
   {
    "duration": 1281,
    "start_time": "2022-03-22T09:27:20.491Z"
   },
   {
    "duration": 6,
    "start_time": "2022-03-22T09:27:46.936Z"
   },
   {
    "duration": 1272,
    "start_time": "2022-03-22T09:28:08.266Z"
   },
   {
    "duration": 1290,
    "start_time": "2022-03-22T09:28:12.932Z"
   },
   {
    "duration": 262,
    "start_time": "2022-03-22T09:31:45.410Z"
   },
   {
    "duration": 51,
    "start_time": "2022-03-22T09:32:04.819Z"
   },
   {
    "duration": 1596,
    "start_time": "2022-03-22T09:32:14.934Z"
   },
   {
    "duration": 385,
    "start_time": "2022-03-22T09:32:16.533Z"
   },
   {
    "duration": 3,
    "start_time": "2022-03-22T09:32:16.921Z"
   },
   {
    "duration": 195,
    "start_time": "2022-03-22T09:32:16.927Z"
   },
   {
    "duration": 42,
    "start_time": "2022-03-22T09:32:17.124Z"
   },
   {
    "duration": 11,
    "start_time": "2022-03-22T09:32:17.168Z"
   },
   {
    "duration": 10,
    "start_time": "2022-03-22T09:32:17.181Z"
   },
   {
    "duration": 73,
    "start_time": "2022-03-22T09:32:17.192Z"
   },
   {
    "duration": 185,
    "start_time": "2022-03-22T09:32:17.267Z"
   },
   {
    "duration": 192,
    "start_time": "2022-03-22T09:32:17.454Z"
   },
   {
    "duration": 36,
    "start_time": "2022-03-22T09:32:17.648Z"
   },
   {
    "duration": 12,
    "start_time": "2022-03-22T09:32:17.686Z"
   },
   {
    "duration": 32,
    "start_time": "2022-03-22T09:32:17.700Z"
   },
   {
    "duration": 44,
    "start_time": "2022-03-22T09:32:17.734Z"
   },
   {
    "duration": 185,
    "start_time": "2022-03-22T09:32:17.780Z"
   },
   {
    "duration": 186,
    "start_time": "2022-03-22T09:32:17.967Z"
   },
   {
    "duration": 36,
    "start_time": "2022-03-22T09:32:18.154Z"
   },
   {
    "duration": 10,
    "start_time": "2022-03-22T09:32:18.192Z"
   },
   {
    "duration": 31,
    "start_time": "2022-03-22T09:32:18.203Z"
   },
   {
    "duration": 46,
    "start_time": "2022-03-22T09:32:18.236Z"
   },
   {
    "duration": 263,
    "start_time": "2022-03-22T09:32:18.284Z"
   },
   {
    "duration": 87,
    "start_time": "2022-03-22T09:32:18.549Z"
   },
   {
    "duration": 116,
    "start_time": "2022-03-22T09:32:18.638Z"
   },
   {
    "duration": 124,
    "start_time": "2022-03-22T09:32:18.831Z"
   },
   {
    "duration": 6,
    "start_time": "2022-03-22T09:32:19.031Z"
   },
   {
    "duration": 102,
    "start_time": "2022-03-22T09:32:19.039Z"
   },
   {
    "duration": 8,
    "start_time": "2022-03-22T09:32:19.143Z"
   },
   {
    "duration": 8,
    "start_time": "2022-03-22T09:32:19.154Z"
   },
   {
    "duration": 6,
    "start_time": "2022-03-22T09:32:19.164Z"
   },
   {
    "duration": 8,
    "start_time": "2022-03-22T09:32:19.172Z"
   },
   {
    "duration": 135,
    "start_time": "2022-03-22T09:32:19.181Z"
   },
   {
    "duration": 13,
    "start_time": "2022-03-22T09:33:18.869Z"
   },
   {
    "duration": 1646,
    "start_time": "2022-03-22T09:33:26.030Z"
   },
   {
    "duration": 385,
    "start_time": "2022-03-22T09:33:27.678Z"
   },
   {
    "duration": 4,
    "start_time": "2022-03-22T09:33:28.065Z"
   },
   {
    "duration": 198,
    "start_time": "2022-03-22T09:33:28.071Z"
   },
   {
    "duration": 37,
    "start_time": "2022-03-22T09:33:28.271Z"
   },
   {
    "duration": 25,
    "start_time": "2022-03-22T09:33:28.310Z"
   },
   {
    "duration": 10,
    "start_time": "2022-03-22T09:33:28.337Z"
   },
   {
    "duration": 47,
    "start_time": "2022-03-22T09:33:28.349Z"
   },
   {
    "duration": 203,
    "start_time": "2022-03-22T09:33:28.398Z"
   },
   {
    "duration": 186,
    "start_time": "2022-03-22T09:33:28.604Z"
   },
   {
    "duration": 44,
    "start_time": "2022-03-22T09:33:28.792Z"
   },
   {
    "duration": 11,
    "start_time": "2022-03-22T09:33:28.838Z"
   },
   {
    "duration": 16,
    "start_time": "2022-03-22T09:33:28.850Z"
   },
   {
    "duration": 42,
    "start_time": "2022-03-22T09:33:28.868Z"
   },
   {
    "duration": 168,
    "start_time": "2022-03-22T09:33:28.932Z"
   },
   {
    "duration": 188,
    "start_time": "2022-03-22T09:33:29.102Z"
   },
   {
    "duration": 41,
    "start_time": "2022-03-22T09:33:29.292Z"
   },
   {
    "duration": 12,
    "start_time": "2022-03-22T09:33:29.334Z"
   },
   {
    "duration": 14,
    "start_time": "2022-03-22T09:33:29.348Z"
   },
   {
    "duration": 47,
    "start_time": "2022-03-22T09:33:29.364Z"
   },
   {
    "duration": 246,
    "start_time": "2022-03-22T09:33:29.432Z"
   },
   {
    "duration": 56,
    "start_time": "2022-03-22T09:33:29.680Z"
   },
   {
    "duration": 115,
    "start_time": "2022-03-22T09:33:29.742Z"
   },
   {
    "duration": 186,
    "start_time": "2022-03-22T09:33:29.860Z"
   },
   {
    "duration": 85,
    "start_time": "2022-03-22T09:33:30.049Z"
   },
   {
    "duration": 107,
    "start_time": "2022-03-22T09:33:30.137Z"
   },
   {
    "duration": 11,
    "start_time": "2022-03-22T09:33:30.246Z"
   },
   {
    "duration": 12,
    "start_time": "2022-03-22T09:33:30.260Z"
   },
   {
    "duration": 8,
    "start_time": "2022-03-22T09:33:30.273Z"
   },
   {
    "duration": 16,
    "start_time": "2022-03-22T09:33:30.283Z"
   },
   {
    "duration": 114,
    "start_time": "2022-03-22T09:33:30.301Z"
   },
   {
    "duration": 12,
    "start_time": "2022-03-22T09:34:04.714Z"
   },
   {
    "duration": 1656,
    "start_time": "2022-03-22T09:34:12.408Z"
   },
   {
    "duration": 391,
    "start_time": "2022-03-22T09:34:14.066Z"
   },
   {
    "duration": 4,
    "start_time": "2022-03-22T09:34:14.459Z"
   },
   {
    "duration": 224,
    "start_time": "2022-03-22T09:34:14.466Z"
   },
   {
    "duration": 49,
    "start_time": "2022-03-22T09:34:14.691Z"
   },
   {
    "duration": 12,
    "start_time": "2022-03-22T09:34:14.742Z"
   },
   {
    "duration": 33,
    "start_time": "2022-03-22T09:34:14.756Z"
   },
   {
    "duration": 74,
    "start_time": "2022-03-22T09:34:14.790Z"
   },
   {
    "duration": 182,
    "start_time": "2022-03-22T09:34:14.866Z"
   },
   {
    "duration": 198,
    "start_time": "2022-03-22T09:34:15.051Z"
   },
   {
    "duration": 37,
    "start_time": "2022-03-22T09:34:15.251Z"
   },
   {
    "duration": 11,
    "start_time": "2022-03-22T09:34:15.290Z"
   },
   {
    "duration": 36,
    "start_time": "2022-03-22T09:34:15.302Z"
   },
   {
    "duration": 43,
    "start_time": "2022-03-22T09:34:15.340Z"
   },
   {
    "duration": 181,
    "start_time": "2022-03-22T09:34:15.385Z"
   },
   {
    "duration": 195,
    "start_time": "2022-03-22T09:34:15.568Z"
   },
   {
    "duration": 39,
    "start_time": "2022-03-22T09:34:15.765Z"
   },
   {
    "duration": 30,
    "start_time": "2022-03-22T09:34:15.806Z"
   },
   {
    "duration": 26,
    "start_time": "2022-03-22T09:34:15.838Z"
   },
   {
    "duration": 50,
    "start_time": "2022-03-22T09:34:15.866Z"
   },
   {
    "duration": 258,
    "start_time": "2022-03-22T09:34:15.931Z"
   },
   {
    "duration": 50,
    "start_time": "2022-03-22T09:34:16.191Z"
   },
   {
    "duration": 123,
    "start_time": "2022-03-22T09:34:16.331Z"
   },
   {
    "duration": 196,
    "start_time": "2022-03-22T09:34:16.457Z"
   },
   {
    "duration": 81,
    "start_time": "2022-03-22T09:34:16.656Z"
   },
   {
    "duration": 120,
    "start_time": "2022-03-22T09:34:16.739Z"
   },
   {
    "duration": 22,
    "start_time": "2022-03-22T09:34:16.861Z"
   },
   {
    "duration": 24,
    "start_time": "2022-03-22T09:34:16.887Z"
   },
   {
    "duration": 16,
    "start_time": "2022-03-22T09:34:16.913Z"
   },
   {
    "duration": 26,
    "start_time": "2022-03-22T09:34:16.930Z"
   },
   {
    "duration": 124,
    "start_time": "2022-03-22T09:34:16.958Z"
   },
   {
    "duration": 4,
    "start_time": "2022-03-22T09:34:28.644Z"
   },
   {
    "duration": 2,
    "start_time": "2022-03-22T09:34:29.157Z"
   },
   {
    "duration": 13,
    "start_time": "2022-03-22T09:34:30.327Z"
   },
   {
    "duration": 1375,
    "start_time": "2022-03-22T09:34:56.554Z"
   },
   {
    "duration": 3727,
    "start_time": "2022-03-22T09:35:22.080Z"
   },
   {
    "duration": 376,
    "start_time": "2022-03-22T09:35:25.809Z"
   },
   {
    "duration": 3,
    "start_time": "2022-03-22T09:35:26.186Z"
   },
   {
    "duration": 197,
    "start_time": "2022-03-22T09:35:26.191Z"
   },
   {
    "duration": 49,
    "start_time": "2022-03-22T09:35:26.391Z"
   },
   {
    "duration": 13,
    "start_time": "2022-03-22T09:35:26.442Z"
   },
   {
    "duration": 11,
    "start_time": "2022-03-22T09:35:26.457Z"
   },
   {
    "duration": 76,
    "start_time": "2022-03-22T09:35:26.470Z"
   },
   {
    "duration": 192,
    "start_time": "2022-03-22T09:35:26.547Z"
   },
   {
    "duration": 200,
    "start_time": "2022-03-22T09:35:26.742Z"
   },
   {
    "duration": 45,
    "start_time": "2022-03-22T09:35:26.945Z"
   },
   {
    "duration": 11,
    "start_time": "2022-03-22T09:35:26.992Z"
   },
   {
    "duration": 32,
    "start_time": "2022-03-22T09:35:27.005Z"
   },
   {
    "duration": 42,
    "start_time": "2022-03-22T09:35:27.040Z"
   },
   {
    "duration": 189,
    "start_time": "2022-03-22T09:35:27.084Z"
   },
   {
    "duration": 194,
    "start_time": "2022-03-22T09:35:27.274Z"
   },
   {
    "duration": 37,
    "start_time": "2022-03-22T09:35:27.471Z"
   },
   {
    "duration": 29,
    "start_time": "2022-03-22T09:35:27.510Z"
   },
   {
    "duration": 13,
    "start_time": "2022-03-22T09:35:27.541Z"
   },
   {
    "duration": 49,
    "start_time": "2022-03-22T09:35:27.556Z"
   },
   {
    "duration": 270,
    "start_time": "2022-03-22T09:35:27.607Z"
   },
   {
    "duration": 28,
    "start_time": "2022-03-22T09:35:27.879Z"
   },
   {
    "duration": 119,
    "start_time": "2022-03-22T09:35:27.932Z"
   },
   {
    "duration": 200,
    "start_time": "2022-03-22T09:35:28.055Z"
   },
   {
    "duration": 75,
    "start_time": "2022-03-22T09:35:28.257Z"
   },
   {
    "duration": 97,
    "start_time": "2022-03-22T09:35:28.335Z"
   },
   {
    "duration": 13,
    "start_time": "2022-03-22T09:35:28.434Z"
   },
   {
    "duration": 7,
    "start_time": "2022-03-22T09:35:28.449Z"
   },
   {
    "duration": 6,
    "start_time": "2022-03-22T09:35:28.458Z"
   },
   {
    "duration": 6,
    "start_time": "2022-03-22T09:35:28.465Z"
   },
   {
    "duration": 139,
    "start_time": "2022-03-22T09:35:28.472Z"
   },
   {
    "duration": 1322,
    "start_time": "2022-03-22T09:36:22.039Z"
   },
   {
    "duration": 505,
    "start_time": "2022-03-22T09:36:46.292Z"
   },
   {
    "duration": 1287,
    "start_time": "2022-03-22T09:36:55.008Z"
   },
   {
    "duration": 300,
    "start_time": "2022-03-22T09:37:03.163Z"
   },
   {
    "duration": 1307,
    "start_time": "2022-03-22T09:37:10.522Z"
   },
   {
    "duration": 1277,
    "start_time": "2022-03-22T09:37:54.856Z"
   },
   {
    "duration": 1947,
    "start_time": "2022-03-22T09:38:12.542Z"
   },
   {
    "duration": 390,
    "start_time": "2022-03-22T09:38:14.492Z"
   },
   {
    "duration": 4,
    "start_time": "2022-03-22T09:38:14.884Z"
   },
   {
    "duration": 208,
    "start_time": "2022-03-22T09:38:14.891Z"
   },
   {
    "duration": 48,
    "start_time": "2022-03-22T09:38:15.101Z"
   },
   {
    "duration": 12,
    "start_time": "2022-03-22T09:38:15.150Z"
   },
   {
    "duration": 10,
    "start_time": "2022-03-22T09:38:15.164Z"
   },
   {
    "duration": 69,
    "start_time": "2022-03-22T09:38:15.175Z"
   },
   {
    "duration": 195,
    "start_time": "2022-03-22T09:38:15.245Z"
   },
   {
    "duration": 193,
    "start_time": "2022-03-22T09:38:15.443Z"
   },
   {
    "duration": 38,
    "start_time": "2022-03-22T09:38:15.638Z"
   },
   {
    "duration": 12,
    "start_time": "2022-03-22T09:38:15.679Z"
   },
   {
    "duration": 12,
    "start_time": "2022-03-22T09:38:15.693Z"
   },
   {
    "duration": 46,
    "start_time": "2022-03-22T09:38:15.733Z"
   },
   {
    "duration": 190,
    "start_time": "2022-03-22T09:38:15.780Z"
   },
   {
    "duration": 212,
    "start_time": "2022-03-22T09:38:15.972Z"
   },
   {
    "duration": 37,
    "start_time": "2022-03-22T09:38:16.186Z"
   },
   {
    "duration": 11,
    "start_time": "2022-03-22T09:38:16.232Z"
   },
   {
    "duration": 23,
    "start_time": "2022-03-22T09:38:16.245Z"
   },
   {
    "duration": 49,
    "start_time": "2022-03-22T09:38:16.269Z"
   },
   {
    "duration": 268,
    "start_time": "2022-03-22T09:38:16.332Z"
   },
   {
    "duration": 40,
    "start_time": "2022-03-22T09:38:16.602Z"
   },
   {
    "duration": 211,
    "start_time": "2022-03-22T09:38:16.645Z"
   },
   {
    "duration": 273,
    "start_time": "2022-03-22T09:38:16.860Z"
   },
   {
    "duration": 6,
    "start_time": "2022-03-22T09:38:17.135Z"
   },
   {
    "duration": 101,
    "start_time": "2022-03-22T09:38:17.143Z"
   },
   {
    "duration": 7,
    "start_time": "2022-03-22T09:38:17.246Z"
   },
   {
    "duration": 7,
    "start_time": "2022-03-22T09:38:17.256Z"
   },
   {
    "duration": 7,
    "start_time": "2022-03-22T09:38:17.264Z"
   },
   {
    "duration": 6,
    "start_time": "2022-03-22T09:38:17.272Z"
   },
   {
    "duration": 152,
    "start_time": "2022-03-22T09:38:17.280Z"
   },
   {
    "duration": 1842,
    "start_time": "2022-03-22T09:41:32.527Z"
   },
   {
    "duration": 401,
    "start_time": "2022-03-22T09:41:34.371Z"
   },
   {
    "duration": 3,
    "start_time": "2022-03-22T09:41:34.774Z"
   },
   {
    "duration": 210,
    "start_time": "2022-03-22T09:41:34.780Z"
   },
   {
    "duration": 49,
    "start_time": "2022-03-22T09:41:34.992Z"
   },
   {
    "duration": 12,
    "start_time": "2022-03-22T09:41:35.043Z"
   },
   {
    "duration": 13,
    "start_time": "2022-03-22T09:41:35.057Z"
   },
   {
    "duration": 78,
    "start_time": "2022-03-22T09:41:35.071Z"
   },
   {
    "duration": 204,
    "start_time": "2022-03-22T09:41:35.151Z"
   },
   {
    "duration": 202,
    "start_time": "2022-03-22T09:41:35.359Z"
   },
   {
    "duration": 39,
    "start_time": "2022-03-22T09:41:35.563Z"
   },
   {
    "duration": 29,
    "start_time": "2022-03-22T09:41:35.604Z"
   },
   {
    "duration": 14,
    "start_time": "2022-03-22T09:41:35.635Z"
   },
   {
    "duration": 46,
    "start_time": "2022-03-22T09:41:35.651Z"
   },
   {
    "duration": 200,
    "start_time": "2022-03-22T09:41:35.699Z"
   },
   {
    "duration": 218,
    "start_time": "2022-03-22T09:41:35.901Z"
   },
   {
    "duration": 44,
    "start_time": "2022-03-22T09:41:36.121Z"
   },
   {
    "duration": 12,
    "start_time": "2022-03-22T09:41:36.166Z"
   },
   {
    "duration": 13,
    "start_time": "2022-03-22T09:41:36.180Z"
   },
   {
    "duration": 71,
    "start_time": "2022-03-22T09:41:36.195Z"
   },
   {
    "duration": 266,
    "start_time": "2022-03-22T09:41:36.267Z"
   },
   {
    "duration": 99,
    "start_time": "2022-03-22T09:41:36.535Z"
   },
   {
    "duration": 121,
    "start_time": "2022-03-22T09:41:36.636Z"
   },
   {
    "duration": 191,
    "start_time": "2022-03-22T09:41:36.760Z"
   },
   {
    "duration": 84,
    "start_time": "2022-03-22T09:41:36.953Z"
   },
   {
    "duration": 101,
    "start_time": "2022-03-22T09:41:37.042Z"
   },
   {
    "duration": 8,
    "start_time": "2022-03-22T09:41:37.145Z"
   },
   {
    "duration": 8,
    "start_time": "2022-03-22T09:41:37.156Z"
   },
   {
    "duration": 6,
    "start_time": "2022-03-22T09:41:37.165Z"
   },
   {
    "duration": 5,
    "start_time": "2022-03-22T09:41:37.173Z"
   },
   {
    "duration": 137,
    "start_time": "2022-03-22T09:41:37.180Z"
   },
   {
    "duration": 14,
    "start_time": "2022-03-22T09:45:05.904Z"
   },
   {
    "duration": 14,
    "start_time": "2022-03-22T09:45:29.180Z"
   },
   {
    "duration": 1808,
    "start_time": "2022-03-22T09:45:37.989Z"
   },
   {
    "duration": 413,
    "start_time": "2022-03-22T09:45:39.799Z"
   },
   {
    "duration": 3,
    "start_time": "2022-03-22T09:45:40.214Z"
   },
   {
    "duration": 203,
    "start_time": "2022-03-22T09:45:40.219Z"
   },
   {
    "duration": 45,
    "start_time": "2022-03-22T09:45:40.424Z"
   },
   {
    "duration": 13,
    "start_time": "2022-03-22T09:45:40.471Z"
   },
   {
    "duration": 12,
    "start_time": "2022-03-22T09:45:40.485Z"
   },
   {
    "duration": 83,
    "start_time": "2022-03-22T09:45:40.498Z"
   },
   {
    "duration": 193,
    "start_time": "2022-03-22T09:45:40.582Z"
   },
   {
    "duration": 194,
    "start_time": "2022-03-22T09:45:40.778Z"
   },
   {
    "duration": 39,
    "start_time": "2022-03-22T09:45:40.973Z"
   },
   {
    "duration": 31,
    "start_time": "2022-03-22T09:45:41.013Z"
   },
   {
    "duration": 16,
    "start_time": "2022-03-22T09:45:41.046Z"
   },
   {
    "duration": 48,
    "start_time": "2022-03-22T09:45:41.064Z"
   },
   {
    "duration": 176,
    "start_time": "2022-03-22T09:45:41.132Z"
   },
   {
    "duration": 195,
    "start_time": "2022-03-22T09:45:41.310Z"
   },
   {
    "duration": 47,
    "start_time": "2022-03-22T09:45:41.507Z"
   },
   {
    "duration": 11,
    "start_time": "2022-03-22T09:45:41.556Z"
   },
   {
    "duration": 14,
    "start_time": "2022-03-22T09:45:41.569Z"
   },
   {
    "duration": 71,
    "start_time": "2022-03-22T09:45:41.585Z"
   },
   {
    "duration": 259,
    "start_time": "2022-03-22T09:45:41.658Z"
   },
   {
    "duration": 112,
    "start_time": "2022-03-22T09:45:41.919Z"
   },
   {
    "duration": 122,
    "start_time": "2022-03-22T09:45:42.035Z"
   },
   {
    "duration": 189,
    "start_time": "2022-03-22T09:45:42.159Z"
   },
   {
    "duration": 85,
    "start_time": "2022-03-22T09:45:42.350Z"
   },
   {
    "duration": 106,
    "start_time": "2022-03-22T09:45:42.437Z"
   },
   {
    "duration": 8,
    "start_time": "2022-03-22T09:45:42.545Z"
   },
   {
    "duration": 9,
    "start_time": "2022-03-22T09:45:42.557Z"
   },
   {
    "duration": 7,
    "start_time": "2022-03-22T09:45:42.568Z"
   },
   {
    "duration": 5,
    "start_time": "2022-03-22T09:45:42.577Z"
   },
   {
    "duration": 154,
    "start_time": "2022-03-22T09:45:42.585Z"
   },
   {
    "duration": 14,
    "start_time": "2022-03-22T09:47:10.956Z"
   },
   {
    "duration": 1681,
    "start_time": "2022-03-22T09:47:18.990Z"
   },
   {
    "duration": 404,
    "start_time": "2022-03-22T09:47:20.673Z"
   },
   {
    "duration": 4,
    "start_time": "2022-03-22T09:47:21.079Z"
   },
   {
    "duration": 229,
    "start_time": "2022-03-22T09:47:21.085Z"
   },
   {
    "duration": 47,
    "start_time": "2022-03-22T09:47:21.316Z"
   },
   {
    "duration": 13,
    "start_time": "2022-03-22T09:47:21.365Z"
   },
   {
    "duration": 12,
    "start_time": "2022-03-22T09:47:21.380Z"
   },
   {
    "duration": 81,
    "start_time": "2022-03-22T09:47:21.394Z"
   },
   {
    "duration": 206,
    "start_time": "2022-03-22T09:47:21.477Z"
   },
   {
    "duration": 197,
    "start_time": "2022-03-22T09:47:21.687Z"
   },
   {
    "duration": 48,
    "start_time": "2022-03-22T09:47:21.885Z"
   },
   {
    "duration": 12,
    "start_time": "2022-03-22T09:47:21.934Z"
   },
   {
    "duration": 15,
    "start_time": "2022-03-22T09:47:21.948Z"
   },
   {
    "duration": 73,
    "start_time": "2022-03-22T09:47:21.965Z"
   },
   {
    "duration": 193,
    "start_time": "2022-03-22T09:47:22.040Z"
   },
   {
    "duration": 202,
    "start_time": "2022-03-22T09:47:22.235Z"
   },
   {
    "duration": 38,
    "start_time": "2022-03-22T09:47:22.439Z"
   },
   {
    "duration": 11,
    "start_time": "2022-03-22T09:47:22.479Z"
   },
   {
    "duration": 17,
    "start_time": "2022-03-22T09:47:22.492Z"
   },
   {
    "duration": 52,
    "start_time": "2022-03-22T09:47:22.531Z"
   },
   {
    "duration": 299,
    "start_time": "2022-03-22T09:47:22.586Z"
   },
   {
    "duration": 45,
    "start_time": "2022-03-22T09:47:22.888Z"
   },
   {
    "duration": 198,
    "start_time": "2022-03-22T09:47:22.936Z"
   },
   {
    "duration": 119,
    "start_time": "2022-03-22T09:47:23.137Z"
   },
   {
    "duration": 76,
    "start_time": "2022-03-22T09:47:23.259Z"
   },
   {
    "duration": 99,
    "start_time": "2022-03-22T09:47:23.337Z"
   },
   {
    "duration": 10,
    "start_time": "2022-03-22T09:47:23.439Z"
   },
   {
    "duration": 14,
    "start_time": "2022-03-22T09:47:23.453Z"
   },
   {
    "duration": 7,
    "start_time": "2022-03-22T09:47:23.469Z"
   },
   {
    "duration": 9,
    "start_time": "2022-03-22T09:47:23.478Z"
   },
   {
    "duration": 138,
    "start_time": "2022-03-22T09:47:23.489Z"
   },
   {
    "duration": 15,
    "start_time": "2022-03-22T09:47:34.421Z"
   },
   {
    "duration": 1670,
    "start_time": "2022-03-22T09:47:42.719Z"
   },
   {
    "duration": 406,
    "start_time": "2022-03-22T09:47:44.393Z"
   },
   {
    "duration": 4,
    "start_time": "2022-03-22T09:47:44.802Z"
   },
   {
    "duration": 226,
    "start_time": "2022-03-22T09:47:44.807Z"
   },
   {
    "duration": 57,
    "start_time": "2022-03-22T09:47:45.035Z"
   },
   {
    "duration": 40,
    "start_time": "2022-03-22T09:47:45.094Z"
   },
   {
    "duration": 12,
    "start_time": "2022-03-22T09:47:45.137Z"
   },
   {
    "duration": 55,
    "start_time": "2022-03-22T09:47:45.152Z"
   },
   {
    "duration": 272,
    "start_time": "2022-03-22T09:47:45.209Z"
   },
   {
    "duration": 292,
    "start_time": "2022-03-22T09:47:45.483Z"
   },
   {
    "duration": 56,
    "start_time": "2022-03-22T09:47:45.777Z"
   },
   {
    "duration": 13,
    "start_time": "2022-03-22T09:47:45.835Z"
   },
   {
    "duration": 23,
    "start_time": "2022-03-22T09:47:45.850Z"
   },
   {
    "duration": 72,
    "start_time": "2022-03-22T09:47:45.877Z"
   },
   {
    "duration": 195,
    "start_time": "2022-03-22T09:47:45.951Z"
   },
   {
    "duration": 206,
    "start_time": "2022-03-22T09:47:46.148Z"
   },
   {
    "duration": 52,
    "start_time": "2022-03-22T09:47:46.356Z"
   },
   {
    "duration": 25,
    "start_time": "2022-03-22T09:47:46.409Z"
   },
   {
    "duration": 20,
    "start_time": "2022-03-22T09:47:46.438Z"
   },
   {
    "duration": 85,
    "start_time": "2022-03-22T09:47:46.460Z"
   },
   {
    "duration": 289,
    "start_time": "2022-03-22T09:47:46.547Z"
   },
   {
    "duration": 195,
    "start_time": "2022-03-22T09:47:46.838Z"
   },
   {
    "duration": 95,
    "start_time": "2022-03-22T09:47:47.036Z"
   },
   {
    "duration": 121,
    "start_time": "2022-03-22T09:47:47.135Z"
   },
   {
    "duration": 78,
    "start_time": "2022-03-22T09:47:47.260Z"
   },
   {
    "duration": 87,
    "start_time": "2022-03-22T09:47:47.355Z"
   },
   {
    "duration": 9,
    "start_time": "2022-03-22T09:47:47.444Z"
   },
   {
    "duration": 20,
    "start_time": "2022-03-22T09:47:47.456Z"
   },
   {
    "duration": 5,
    "start_time": "2022-03-22T09:47:47.478Z"
   },
   {
    "duration": 9,
    "start_time": "2022-03-22T09:47:47.485Z"
   },
   {
    "duration": 145,
    "start_time": "2022-03-22T09:47:47.496Z"
   },
   {
    "duration": 14,
    "start_time": "2022-03-22T09:49:54.120Z"
   },
   {
    "duration": 13,
    "start_time": "2022-03-22T09:58:45.901Z"
   },
   {
    "duration": 1734,
    "start_time": "2022-03-22T09:58:53.446Z"
   },
   {
    "duration": 401,
    "start_time": "2022-03-22T09:58:55.182Z"
   },
   {
    "duration": 4,
    "start_time": "2022-03-22T09:58:55.584Z"
   },
   {
    "duration": 209,
    "start_time": "2022-03-22T09:58:55.591Z"
   },
   {
    "duration": 57,
    "start_time": "2022-03-22T09:58:55.802Z"
   },
   {
    "duration": 14,
    "start_time": "2022-03-22T09:58:55.861Z"
   },
   {
    "duration": 17,
    "start_time": "2022-03-22T09:58:55.877Z"
   },
   {
    "duration": 90,
    "start_time": "2022-03-22T09:58:55.897Z"
   },
   {
    "duration": 304,
    "start_time": "2022-03-22T09:58:55.989Z"
   },
   {
    "duration": 246,
    "start_time": "2022-03-22T09:58:56.297Z"
   },
   {
    "duration": 39,
    "start_time": "2022-03-22T09:58:56.545Z"
   },
   {
    "duration": 11,
    "start_time": "2022-03-22T09:58:56.586Z"
   },
   {
    "duration": 45,
    "start_time": "2022-03-22T09:58:56.599Z"
   },
   {
    "duration": 47,
    "start_time": "2022-03-22T09:58:56.646Z"
   },
   {
    "duration": 198,
    "start_time": "2022-03-22T09:58:56.695Z"
   },
   {
    "duration": 196,
    "start_time": "2022-03-22T09:58:56.894Z"
   },
   {
    "duration": 50,
    "start_time": "2022-03-22T09:58:57.092Z"
   },
   {
    "duration": 12,
    "start_time": "2022-03-22T09:58:57.144Z"
   },
   {
    "duration": 21,
    "start_time": "2022-03-22T09:58:57.159Z"
   },
   {
    "duration": 69,
    "start_time": "2022-03-22T09:58:57.182Z"
   },
   {
    "duration": 263,
    "start_time": "2022-03-22T09:58:57.253Z"
   },
   {
    "duration": 114,
    "start_time": "2022-03-22T09:58:57.518Z"
   },
   {
    "duration": 115,
    "start_time": "2022-03-22T09:58:57.634Z"
   },
   {
    "duration": 185,
    "start_time": "2022-03-22T09:58:57.752Z"
   },
   {
    "duration": 6,
    "start_time": "2022-03-22T09:58:57.940Z"
   },
   {
    "duration": 103,
    "start_time": "2022-03-22T09:58:58.033Z"
   },
   {
    "duration": 8,
    "start_time": "2022-03-22T09:58:58.139Z"
   },
   {
    "duration": 8,
    "start_time": "2022-03-22T09:58:58.153Z"
   },
   {
    "duration": 9,
    "start_time": "2022-03-22T09:58:58.164Z"
   },
   {
    "duration": 7,
    "start_time": "2022-03-22T09:58:58.175Z"
   },
   {
    "duration": 161,
    "start_time": "2022-03-22T09:58:58.184Z"
   },
   {
    "duration": 1673,
    "start_time": "2022-03-22T09:59:22.020Z"
   },
   {
    "duration": 383,
    "start_time": "2022-03-22T09:59:23.695Z"
   },
   {
    "duration": 4,
    "start_time": "2022-03-22T09:59:24.079Z"
   },
   {
    "duration": 211,
    "start_time": "2022-03-22T09:59:24.085Z"
   },
   {
    "duration": 50,
    "start_time": "2022-03-22T09:59:24.298Z"
   },
   {
    "duration": 12,
    "start_time": "2022-03-22T09:59:24.350Z"
   },
   {
    "duration": 10,
    "start_time": "2022-03-22T09:59:24.364Z"
   },
   {
    "duration": 74,
    "start_time": "2022-03-22T09:59:24.376Z"
   },
   {
    "duration": 189,
    "start_time": "2022-03-22T09:59:24.452Z"
   },
   {
    "duration": 193,
    "start_time": "2022-03-22T09:59:24.644Z"
   },
   {
    "duration": 38,
    "start_time": "2022-03-22T09:59:24.839Z"
   },
   {
    "duration": 11,
    "start_time": "2022-03-22T09:59:24.879Z"
   },
   {
    "duration": 14,
    "start_time": "2022-03-22T09:59:24.892Z"
   },
   {
    "duration": 44,
    "start_time": "2022-03-22T09:59:24.932Z"
   },
   {
    "duration": 180,
    "start_time": "2022-03-22T09:59:24.978Z"
   },
   {
    "duration": 204,
    "start_time": "2022-03-22T09:59:25.160Z"
   },
   {
    "duration": 37,
    "start_time": "2022-03-22T09:59:25.365Z"
   },
   {
    "duration": 11,
    "start_time": "2022-03-22T09:59:25.403Z"
   },
   {
    "duration": 20,
    "start_time": "2022-03-22T09:59:25.432Z"
   },
   {
    "duration": 51,
    "start_time": "2022-03-22T09:59:25.453Z"
   },
   {
    "duration": 272,
    "start_time": "2022-03-22T09:59:25.506Z"
   },
   {
    "duration": 55,
    "start_time": "2022-03-22T09:59:25.780Z"
   },
   {
    "duration": 119,
    "start_time": "2022-03-22T09:59:25.837Z"
   },
   {
    "duration": 182,
    "start_time": "2022-03-22T09:59:25.958Z"
   },
   {
    "duration": 98,
    "start_time": "2022-03-22T09:59:26.142Z"
   },
   {
    "duration": 106,
    "start_time": "2022-03-22T09:59:26.243Z"
   },
   {
    "duration": 7,
    "start_time": "2022-03-22T09:59:26.351Z"
   },
   {
    "duration": 8,
    "start_time": "2022-03-22T09:59:26.362Z"
   },
   {
    "duration": 8,
    "start_time": "2022-03-22T09:59:26.371Z"
   },
   {
    "duration": 7,
    "start_time": "2022-03-22T09:59:26.381Z"
   },
   {
    "duration": 128,
    "start_time": "2022-03-22T09:59:26.389Z"
   },
   {
    "duration": 14,
    "start_time": "2022-03-22T11:04:49.425Z"
   },
   {
    "duration": 2303,
    "start_time": "2022-03-22T11:05:04.586Z"
   },
   {
    "duration": 391,
    "start_time": "2022-03-22T11:05:06.892Z"
   },
   {
    "duration": 4,
    "start_time": "2022-03-22T11:05:07.284Z"
   },
   {
    "duration": 212,
    "start_time": "2022-03-22T11:05:07.290Z"
   },
   {
    "duration": 47,
    "start_time": "2022-03-22T11:05:07.504Z"
   },
   {
    "duration": 12,
    "start_time": "2022-03-22T11:05:07.553Z"
   },
   {
    "duration": 20,
    "start_time": "2022-03-22T11:05:07.566Z"
   },
   {
    "duration": 63,
    "start_time": "2022-03-22T11:05:07.587Z"
   },
   {
    "duration": 196,
    "start_time": "2022-03-22T11:05:07.651Z"
   },
   {
    "duration": 192,
    "start_time": "2022-03-22T11:05:07.849Z"
   },
   {
    "duration": 39,
    "start_time": "2022-03-22T11:05:08.043Z"
   },
   {
    "duration": 12,
    "start_time": "2022-03-22T11:05:08.084Z"
   },
   {
    "duration": 35,
    "start_time": "2022-03-22T11:05:08.098Z"
   },
   {
    "duration": 72,
    "start_time": "2022-03-22T11:05:08.135Z"
   },
   {
    "duration": 164,
    "start_time": "2022-03-22T11:05:08.209Z"
   },
   {
    "duration": 184,
    "start_time": "2022-03-22T11:05:08.375Z"
   },
   {
    "duration": 36,
    "start_time": "2022-03-22T11:05:08.561Z"
   },
   {
    "duration": 12,
    "start_time": "2022-03-22T11:05:08.599Z"
   },
   {
    "duration": 12,
    "start_time": "2022-03-22T11:05:08.632Z"
   },
   {
    "duration": 61,
    "start_time": "2022-03-22T11:05:08.645Z"
   },
   {
    "duration": 261,
    "start_time": "2022-03-22T11:05:08.708Z"
   },
   {
    "duration": 68,
    "start_time": "2022-03-22T11:05:08.971Z"
   },
   {
    "duration": 32,
    "start_time": "2022-03-22T11:05:09.132Z"
   },
   {
    "duration": 200,
    "start_time": "2022-03-22T11:05:09.233Z"
   },
   {
    "duration": 96,
    "start_time": "2022-03-22T11:05:09.438Z"
   },
   {
    "duration": 35,
    "start_time": "2022-03-22T11:05:09.536Z"
   },
   {
    "duration": 31,
    "start_time": "2022-03-22T11:05:09.573Z"
   },
   {
    "duration": 42,
    "start_time": "2022-03-22T11:05:09.607Z"
   },
   {
    "duration": 32,
    "start_time": "2022-03-22T11:05:09.651Z"
   },
   {
    "duration": 38,
    "start_time": "2022-03-22T11:05:09.685Z"
   },
   {
    "duration": 125,
    "start_time": "2022-03-22T11:05:09.725Z"
   },
   {
    "duration": 15,
    "start_time": "2022-03-22T11:05:15.068Z"
   },
   {
    "duration": 15,
    "start_time": "2022-03-22T11:05:36.451Z"
   },
   {
    "duration": 2459,
    "start_time": "2022-03-22T11:05:43.980Z"
   },
   {
    "duration": 438,
    "start_time": "2022-03-22T11:05:46.441Z"
   },
   {
    "duration": 4,
    "start_time": "2022-03-22T11:05:46.881Z"
   },
   {
    "duration": 228,
    "start_time": "2022-03-22T11:05:46.887Z"
   },
   {
    "duration": 52,
    "start_time": "2022-03-22T11:05:47.117Z"
   },
   {
    "duration": 15,
    "start_time": "2022-03-22T11:05:47.170Z"
   },
   {
    "duration": 14,
    "start_time": "2022-03-22T11:05:47.187Z"
   },
   {
    "duration": 80,
    "start_time": "2022-03-22T11:05:47.203Z"
   },
   {
    "duration": 214,
    "start_time": "2022-03-22T11:05:47.285Z"
   },
   {
    "duration": 193,
    "start_time": "2022-03-22T11:05:47.502Z"
   },
   {
    "duration": 44,
    "start_time": "2022-03-22T11:05:47.697Z"
   },
   {
    "duration": 12,
    "start_time": "2022-03-22T11:05:47.743Z"
   },
   {
    "duration": 15,
    "start_time": "2022-03-22T11:05:47.756Z"
   },
   {
    "duration": 62,
    "start_time": "2022-03-22T11:05:47.773Z"
   },
   {
    "duration": 180,
    "start_time": "2022-03-22T11:05:47.836Z"
   },
   {
    "duration": 193,
    "start_time": "2022-03-22T11:05:48.017Z"
   },
   {
    "duration": 48,
    "start_time": "2022-03-22T11:05:48.212Z"
   },
   {
    "duration": 11,
    "start_time": "2022-03-22T11:05:48.262Z"
   },
   {
    "duration": 14,
    "start_time": "2022-03-22T11:05:48.275Z"
   },
   {
    "duration": 72,
    "start_time": "2022-03-22T11:05:48.291Z"
   },
   {
    "duration": 269,
    "start_time": "2022-03-22T11:05:48.365Z"
   },
   {
    "duration": 31,
    "start_time": "2022-03-22T11:05:48.637Z"
   },
   {
    "duration": 177,
    "start_time": "2022-03-22T11:05:48.670Z"
   },
   {
    "duration": 210,
    "start_time": "2022-03-22T11:05:48.850Z"
   },
   {
    "duration": 5,
    "start_time": "2022-03-22T11:05:49.133Z"
   },
   {
    "duration": 106,
    "start_time": "2022-03-22T11:05:49.141Z"
   },
   {
    "duration": 9,
    "start_time": "2022-03-22T11:05:49.249Z"
   },
   {
    "duration": 9,
    "start_time": "2022-03-22T11:05:49.262Z"
   },
   {
    "duration": 10,
    "start_time": "2022-03-22T11:05:49.272Z"
   },
   {
    "duration": 5,
    "start_time": "2022-03-22T11:05:49.284Z"
   },
   {
    "duration": 150,
    "start_time": "2022-03-22T11:05:49.290Z"
   },
   {
    "duration": 1668,
    "start_time": "2022-03-22T11:07:00.290Z"
   },
   {
    "duration": 415,
    "start_time": "2022-03-22T11:07:01.960Z"
   },
   {
    "duration": 3,
    "start_time": "2022-03-22T11:07:02.377Z"
   },
   {
    "duration": 216,
    "start_time": "2022-03-22T11:07:02.382Z"
   },
   {
    "duration": 45,
    "start_time": "2022-03-22T11:07:02.599Z"
   },
   {
    "duration": 12,
    "start_time": "2022-03-22T11:07:02.646Z"
   },
   {
    "duration": 29,
    "start_time": "2022-03-22T11:07:02.660Z"
   },
   {
    "duration": 71,
    "start_time": "2022-03-22T11:07:02.691Z"
   },
   {
    "duration": 190,
    "start_time": "2022-03-22T11:07:02.764Z"
   },
   {
    "duration": 196,
    "start_time": "2022-03-22T11:07:02.957Z"
   },
   {
    "duration": 38,
    "start_time": "2022-03-22T11:07:03.155Z"
   },
   {
    "duration": 12,
    "start_time": "2022-03-22T11:07:03.195Z"
   },
   {
    "duration": 32,
    "start_time": "2022-03-22T11:07:03.209Z"
   },
   {
    "duration": 69,
    "start_time": "2022-03-22T11:07:03.243Z"
   },
   {
    "duration": 183,
    "start_time": "2022-03-22T11:07:03.314Z"
   },
   {
    "duration": 208,
    "start_time": "2022-03-22T11:07:03.500Z"
   },
   {
    "duration": 65,
    "start_time": "2022-03-22T11:07:03.710Z"
   },
   {
    "duration": 12,
    "start_time": "2022-03-22T11:07:03.777Z"
   },
   {
    "duration": 39,
    "start_time": "2022-03-22T11:07:03.791Z"
   },
   {
    "duration": 57,
    "start_time": "2022-03-22T11:07:03.832Z"
   },
   {
    "duration": 277,
    "start_time": "2022-03-22T11:07:03.891Z"
   },
   {
    "duration": 63,
    "start_time": "2022-03-22T11:07:04.170Z"
   },
   {
    "duration": 124,
    "start_time": "2022-03-22T11:07:04.236Z"
   },
   {
    "duration": 198,
    "start_time": "2022-03-22T11:07:04.363Z"
   },
   {
    "duration": 72,
    "start_time": "2022-03-22T11:07:04.563Z"
   },
   {
    "duration": 122,
    "start_time": "2022-03-22T11:07:04.637Z"
   },
   {
    "duration": 25,
    "start_time": "2022-03-22T11:07:04.761Z"
   },
   {
    "duration": 11,
    "start_time": "2022-03-22T11:07:04.789Z"
   },
   {
    "duration": 27,
    "start_time": "2022-03-22T11:07:04.802Z"
   },
   {
    "duration": 17,
    "start_time": "2022-03-22T11:07:04.830Z"
   },
   {
    "duration": 118,
    "start_time": "2022-03-22T11:07:04.848Z"
   },
   {
    "duration": 13,
    "start_time": "2022-03-22T11:09:41.847Z"
   },
   {
    "duration": 13,
    "start_time": "2022-03-22T11:09:54.085Z"
   },
   {
    "duration": 14,
    "start_time": "2022-03-22T11:10:36.048Z"
   },
   {
    "duration": 17,
    "start_time": "2022-03-22T11:12:16.436Z"
   },
   {
    "duration": 1713,
    "start_time": "2022-03-22T11:12:25.531Z"
   },
   {
    "duration": 412,
    "start_time": "2022-03-22T11:12:27.247Z"
   },
   {
    "duration": 3,
    "start_time": "2022-03-22T11:12:27.661Z"
   },
   {
    "duration": 210,
    "start_time": "2022-03-22T11:12:27.667Z"
   },
   {
    "duration": 38,
    "start_time": "2022-03-22T11:12:27.878Z"
   },
   {
    "duration": 24,
    "start_time": "2022-03-22T11:12:27.918Z"
   },
   {
    "duration": 10,
    "start_time": "2022-03-22T11:12:27.944Z"
   },
   {
    "duration": 52,
    "start_time": "2022-03-22T11:12:27.956Z"
   },
   {
    "duration": 205,
    "start_time": "2022-03-22T11:12:28.009Z"
   },
   {
    "duration": 206,
    "start_time": "2022-03-22T11:12:28.217Z"
   },
   {
    "duration": 40,
    "start_time": "2022-03-22T11:12:28.431Z"
   },
   {
    "duration": 13,
    "start_time": "2022-03-22T11:12:28.473Z"
   },
   {
    "duration": 14,
    "start_time": "2022-03-22T11:12:28.488Z"
   },
   {
    "duration": 73,
    "start_time": "2022-03-22T11:12:28.503Z"
   },
   {
    "duration": 195,
    "start_time": "2022-03-22T11:12:28.578Z"
   },
   {
    "duration": 199,
    "start_time": "2022-03-22T11:12:28.775Z"
   },
   {
    "duration": 40,
    "start_time": "2022-03-22T11:12:28.976Z"
   },
   {
    "duration": 12,
    "start_time": "2022-03-22T11:12:29.032Z"
   },
   {
    "duration": 15,
    "start_time": "2022-03-22T11:12:29.047Z"
   },
   {
    "duration": 73,
    "start_time": "2022-03-22T11:12:29.064Z"
   },
   {
    "duration": 265,
    "start_time": "2022-03-22T11:12:29.139Z"
   },
   {
    "duration": 126,
    "start_time": "2022-03-22T11:12:29.405Z"
   },
   {
    "duration": 123,
    "start_time": "2022-03-22T11:12:29.534Z"
   },
   {
    "duration": 124,
    "start_time": "2022-03-22T11:12:29.731Z"
   },
   {
    "duration": 76,
    "start_time": "2022-03-22T11:12:29.858Z"
   },
   {
    "duration": 115,
    "start_time": "2022-03-22T11:12:29.936Z"
   },
   {
    "duration": 12,
    "start_time": "2022-03-22T11:12:30.053Z"
   },
   {
    "duration": 10,
    "start_time": "2022-03-22T11:12:30.069Z"
   },
   {
    "duration": 9,
    "start_time": "2022-03-22T11:12:30.081Z"
   },
   {
    "duration": 15,
    "start_time": "2022-03-22T11:12:30.092Z"
   },
   {
    "duration": 114,
    "start_time": "2022-03-22T11:12:30.109Z"
   },
   {
    "duration": 14,
    "start_time": "2022-03-22T11:12:48.564Z"
   },
   {
    "duration": 1887,
    "start_time": "2022-03-22T11:12:56.216Z"
   },
   {
    "duration": 401,
    "start_time": "2022-03-22T11:12:58.105Z"
   },
   {
    "duration": 4,
    "start_time": "2022-03-22T11:12:58.508Z"
   },
   {
    "duration": 210,
    "start_time": "2022-03-22T11:12:58.515Z"
   },
   {
    "duration": 42,
    "start_time": "2022-03-22T11:12:58.727Z"
   },
   {
    "duration": 12,
    "start_time": "2022-03-22T11:12:58.771Z"
   },
   {
    "duration": 11,
    "start_time": "2022-03-22T11:12:58.785Z"
   },
   {
    "duration": 83,
    "start_time": "2022-03-22T11:12:58.797Z"
   },
   {
    "duration": 195,
    "start_time": "2022-03-22T11:12:58.882Z"
   },
   {
    "duration": 193,
    "start_time": "2022-03-22T11:12:59.080Z"
   },
   {
    "duration": 37,
    "start_time": "2022-03-22T11:12:59.275Z"
   },
   {
    "duration": 26,
    "start_time": "2022-03-22T11:12:59.315Z"
   },
   {
    "duration": 13,
    "start_time": "2022-03-22T11:12:59.343Z"
   },
   {
    "duration": 46,
    "start_time": "2022-03-22T11:12:59.358Z"
   },
   {
    "duration": 199,
    "start_time": "2022-03-22T11:12:59.406Z"
   },
   {
    "duration": 194,
    "start_time": "2022-03-22T11:12:59.607Z"
   },
   {
    "duration": 46,
    "start_time": "2022-03-22T11:12:59.803Z"
   },
   {
    "duration": 10,
    "start_time": "2022-03-22T11:12:59.851Z"
   },
   {
    "duration": 18,
    "start_time": "2022-03-22T11:12:59.863Z"
   },
   {
    "duration": 66,
    "start_time": "2022-03-22T11:12:59.883Z"
   },
   {
    "duration": 270,
    "start_time": "2022-03-22T11:12:59.951Z"
   },
   {
    "duration": 32,
    "start_time": "2022-03-22T11:13:00.232Z"
   },
   {
    "duration": 124,
    "start_time": "2022-03-22T11:13:00.332Z"
   },
   {
    "duration": 193,
    "start_time": "2022-03-22T11:13:00.459Z"
   },
   {
    "duration": 80,
    "start_time": "2022-03-22T11:13:00.654Z"
   },
   {
    "duration": 106,
    "start_time": "2022-03-22T11:13:00.737Z"
   },
   {
    "duration": 11,
    "start_time": "2022-03-22T11:13:00.844Z"
   },
   {
    "duration": 14,
    "start_time": "2022-03-22T11:13:00.858Z"
   },
   {
    "duration": 12,
    "start_time": "2022-03-22T11:13:00.874Z"
   },
   {
    "duration": 10,
    "start_time": "2022-03-22T11:13:00.887Z"
   },
   {
    "duration": 120,
    "start_time": "2022-03-22T11:13:00.898Z"
   },
   {
    "duration": 14,
    "start_time": "2022-03-22T11:13:16.704Z"
   },
   {
    "duration": 14,
    "start_time": "2022-03-22T11:13:30.296Z"
   },
   {
    "duration": 8,
    "start_time": "2022-03-22T11:19:50.559Z"
   },
   {
    "duration": 9,
    "start_time": "2022-03-22T11:20:17.670Z"
   },
   {
    "duration": 9,
    "start_time": "2022-03-22T11:25:08.295Z"
   },
   {
    "duration": 9,
    "start_time": "2022-03-22T11:25:23.572Z"
   },
   {
    "duration": 1641,
    "start_time": "2022-03-22T11:25:32.753Z"
   },
   {
    "duration": 412,
    "start_time": "2022-03-22T11:25:34.396Z"
   },
   {
    "duration": 3,
    "start_time": "2022-03-22T11:25:34.810Z"
   },
   {
    "duration": 205,
    "start_time": "2022-03-22T11:25:34.815Z"
   },
   {
    "duration": 45,
    "start_time": "2022-03-22T11:25:35.022Z"
   },
   {
    "duration": 12,
    "start_time": "2022-03-22T11:25:35.069Z"
   },
   {
    "duration": 10,
    "start_time": "2022-03-22T11:25:35.082Z"
   },
   {
    "duration": 80,
    "start_time": "2022-03-22T11:25:35.094Z"
   },
   {
    "duration": 197,
    "start_time": "2022-03-22T11:25:35.175Z"
   },
   {
    "duration": 199,
    "start_time": "2022-03-22T11:25:35.375Z"
   },
   {
    "duration": 38,
    "start_time": "2022-03-22T11:25:35.575Z"
   },
   {
    "duration": 24,
    "start_time": "2022-03-22T11:25:35.614Z"
   },
   {
    "duration": 18,
    "start_time": "2022-03-22T11:25:35.640Z"
   },
   {
    "duration": 48,
    "start_time": "2022-03-22T11:25:35.659Z"
   },
   {
    "duration": 199,
    "start_time": "2022-03-22T11:25:35.709Z"
   },
   {
    "duration": 185,
    "start_time": "2022-03-22T11:25:35.910Z"
   },
   {
    "duration": 47,
    "start_time": "2022-03-22T11:25:36.097Z"
   },
   {
    "duration": 10,
    "start_time": "2022-03-22T11:25:36.146Z"
   },
   {
    "duration": 13,
    "start_time": "2022-03-22T11:25:36.158Z"
   },
   {
    "duration": 73,
    "start_time": "2022-03-22T11:25:36.172Z"
   },
   {
    "duration": 265,
    "start_time": "2022-03-22T11:25:36.247Z"
   },
   {
    "duration": 38,
    "start_time": "2022-03-22T11:25:36.514Z"
   },
   {
    "duration": 125,
    "start_time": "2022-03-22T11:25:36.631Z"
   },
   {
    "duration": 193,
    "start_time": "2022-03-22T11:25:36.758Z"
   },
   {
    "duration": 82,
    "start_time": "2022-03-22T11:25:36.954Z"
   },
   {
    "duration": 7,
    "start_time": "2022-03-22T11:25:37.132Z"
   },
   {
    "duration": 7,
    "start_time": "2022-03-22T11:25:37.141Z"
   },
   {
    "duration": 7,
    "start_time": "2022-03-22T11:25:37.152Z"
   },
   {
    "duration": 140,
    "start_time": "2022-03-22T11:25:37.161Z"
   },
   {
    "duration": 0,
    "start_time": "2022-03-22T11:25:37.302Z"
   },
   {
    "duration": 0,
    "start_time": "2022-03-22T11:25:37.304Z"
   },
   {
    "duration": 14,
    "start_time": "2022-03-22T11:26:18.864Z"
   },
   {
    "duration": 9,
    "start_time": "2022-03-22T11:26:26.531Z"
   },
   {
    "duration": 9,
    "start_time": "2022-03-22T11:26:50.007Z"
   },
   {
    "duration": 11,
    "start_time": "2022-03-22T11:28:01.812Z"
   },
   {
    "duration": 1627,
    "start_time": "2022-03-22T11:28:09.833Z"
   },
   {
    "duration": 407,
    "start_time": "2022-03-22T11:28:11.462Z"
   },
   {
    "duration": 3,
    "start_time": "2022-03-22T11:28:11.871Z"
   },
   {
    "duration": 202,
    "start_time": "2022-03-22T11:28:11.876Z"
   },
   {
    "duration": 39,
    "start_time": "2022-03-22T11:28:12.079Z"
   },
   {
    "duration": 20,
    "start_time": "2022-03-22T11:28:12.120Z"
   },
   {
    "duration": 10,
    "start_time": "2022-03-22T11:28:12.142Z"
   },
   {
    "duration": 52,
    "start_time": "2022-03-22T11:28:12.154Z"
   },
   {
    "duration": 204,
    "start_time": "2022-03-22T11:28:12.207Z"
   },
   {
    "duration": 192,
    "start_time": "2022-03-22T11:28:12.414Z"
   },
   {
    "duration": 42,
    "start_time": "2022-03-22T11:28:12.608Z"
   },
   {
    "duration": 12,
    "start_time": "2022-03-22T11:28:12.652Z"
   },
   {
    "duration": 13,
    "start_time": "2022-03-22T11:28:12.666Z"
   },
   {
    "duration": 70,
    "start_time": "2022-03-22T11:28:12.681Z"
   },
   {
    "duration": 190,
    "start_time": "2022-03-22T11:28:12.753Z"
   },
   {
    "duration": 195,
    "start_time": "2022-03-22T11:28:12.945Z"
   },
   {
    "duration": 37,
    "start_time": "2022-03-22T11:28:13.142Z"
   },
   {
    "duration": 10,
    "start_time": "2022-03-22T11:28:13.181Z"
   },
   {
    "duration": 13,
    "start_time": "2022-03-22T11:28:13.193Z"
   },
   {
    "duration": 73,
    "start_time": "2022-03-22T11:28:13.208Z"
   },
   {
    "duration": 270,
    "start_time": "2022-03-22T11:28:13.282Z"
   },
   {
    "duration": 83,
    "start_time": "2022-03-22T11:28:13.554Z"
   },
   {
    "duration": 119,
    "start_time": "2022-03-22T11:28:13.641Z"
   },
   {
    "duration": 118,
    "start_time": "2022-03-22T11:28:13.834Z"
   },
   {
    "duration": 80,
    "start_time": "2022-03-22T11:28:13.955Z"
   },
   {
    "duration": 106,
    "start_time": "2022-03-22T11:28:14.038Z"
   },
   {
    "duration": 6,
    "start_time": "2022-03-22T11:28:14.147Z"
   },
   {
    "duration": 9,
    "start_time": "2022-03-22T11:28:14.157Z"
   },
   {
    "duration": 130,
    "start_time": "2022-03-22T11:28:14.168Z"
   },
   {
    "duration": 0,
    "start_time": "2022-03-22T11:28:14.300Z"
   },
   {
    "duration": 0,
    "start_time": "2022-03-22T11:28:14.302Z"
   },
   {
    "duration": 9,
    "start_time": "2022-03-22T11:28:33.086Z"
   },
   {
    "duration": 74,
    "start_time": "2022-03-22T11:41:18.859Z"
   },
   {
    "duration": 104,
    "start_time": "2022-03-22T11:41:32.031Z"
   },
   {
    "duration": 30,
    "start_time": "2022-03-22T11:41:56.846Z"
   },
   {
    "duration": 29,
    "start_time": "2022-03-22T11:42:03.563Z"
   },
   {
    "duration": 31,
    "start_time": "2022-03-22T11:42:06.708Z"
   },
   {
    "duration": 1672,
    "start_time": "2022-03-22T11:42:14.249Z"
   },
   {
    "duration": 419,
    "start_time": "2022-03-22T11:42:15.923Z"
   },
   {
    "duration": 4,
    "start_time": "2022-03-22T11:42:16.344Z"
   },
   {
    "duration": 205,
    "start_time": "2022-03-22T11:42:16.350Z"
   },
   {
    "duration": 39,
    "start_time": "2022-03-22T11:42:16.557Z"
   },
   {
    "duration": 13,
    "start_time": "2022-03-22T11:42:16.598Z"
   },
   {
    "duration": 11,
    "start_time": "2022-03-22T11:42:16.631Z"
   },
   {
    "duration": 57,
    "start_time": "2022-03-22T11:42:16.643Z"
   },
   {
    "duration": 211,
    "start_time": "2022-03-22T11:42:16.702Z"
   },
   {
    "duration": 201,
    "start_time": "2022-03-22T11:42:16.916Z"
   },
   {
    "duration": 45,
    "start_time": "2022-03-22T11:42:17.119Z"
   },
   {
    "duration": 12,
    "start_time": "2022-03-22T11:42:17.166Z"
   },
   {
    "duration": 16,
    "start_time": "2022-03-22T11:42:17.180Z"
   },
   {
    "duration": 72,
    "start_time": "2022-03-22T11:42:17.198Z"
   },
   {
    "duration": 186,
    "start_time": "2022-03-22T11:42:17.272Z"
   },
   {
    "duration": 193,
    "start_time": "2022-03-22T11:42:17.459Z"
   },
   {
    "duration": 38,
    "start_time": "2022-03-22T11:42:17.653Z"
   },
   {
    "duration": 11,
    "start_time": "2022-03-22T11:42:17.693Z"
   },
   {
    "duration": 32,
    "start_time": "2022-03-22T11:42:17.705Z"
   },
   {
    "duration": 70,
    "start_time": "2022-03-22T11:42:17.739Z"
   },
   {
    "duration": 270,
    "start_time": "2022-03-22T11:42:17.810Z"
   },
   {
    "duration": 58,
    "start_time": "2022-03-22T11:42:18.082Z"
   },
   {
    "duration": 190,
    "start_time": "2022-03-22T11:42:18.143Z"
   },
   {
    "duration": 122,
    "start_time": "2022-03-22T11:42:18.336Z"
   },
   {
    "duration": 74,
    "start_time": "2022-03-22T11:42:18.460Z"
   },
   {
    "duration": 106,
    "start_time": "2022-03-22T11:42:18.536Z"
   },
   {
    "duration": 6,
    "start_time": "2022-03-22T11:42:18.644Z"
   },
   {
    "duration": 14,
    "start_time": "2022-03-22T11:42:18.653Z"
   },
   {
    "duration": 11,
    "start_time": "2022-03-22T11:42:18.668Z"
   },
   {
    "duration": 6,
    "start_time": "2022-03-22T11:42:18.680Z"
   },
   {
    "duration": 133,
    "start_time": "2022-03-22T11:42:18.688Z"
   },
   {
    "duration": 54,
    "start_time": "2022-03-22T11:46:31.790Z"
   },
   {
    "duration": 1642,
    "start_time": "2022-03-22T11:46:42.025Z"
   },
   {
    "duration": 403,
    "start_time": "2022-03-22T11:46:43.669Z"
   },
   {
    "duration": 3,
    "start_time": "2022-03-22T11:46:44.074Z"
   },
   {
    "duration": 207,
    "start_time": "2022-03-22T11:46:44.079Z"
   },
   {
    "duration": 48,
    "start_time": "2022-03-22T11:46:44.289Z"
   },
   {
    "duration": 12,
    "start_time": "2022-03-22T11:46:44.338Z"
   },
   {
    "duration": 24,
    "start_time": "2022-03-22T11:46:44.352Z"
   },
   {
    "duration": 67,
    "start_time": "2022-03-22T11:46:44.378Z"
   },
   {
    "duration": 186,
    "start_time": "2022-03-22T11:46:44.447Z"
   },
   {
    "duration": 203,
    "start_time": "2022-03-22T11:46:44.635Z"
   },
   {
    "duration": 39,
    "start_time": "2022-03-22T11:46:44.840Z"
   },
   {
    "duration": 12,
    "start_time": "2022-03-22T11:46:44.881Z"
   },
   {
    "duration": 20,
    "start_time": "2022-03-22T11:46:44.895Z"
   },
   {
    "duration": 47,
    "start_time": "2022-03-22T11:46:44.934Z"
   },
   {
    "duration": 184,
    "start_time": "2022-03-22T11:46:44.983Z"
   },
   {
    "duration": 193,
    "start_time": "2022-03-22T11:46:45.168Z"
   },
   {
    "duration": 39,
    "start_time": "2022-03-22T11:46:45.363Z"
   },
   {
    "duration": 11,
    "start_time": "2022-03-22T11:46:45.404Z"
   },
   {
    "duration": 38,
    "start_time": "2022-03-22T11:46:45.433Z"
   },
   {
    "duration": 49,
    "start_time": "2022-03-22T11:46:45.473Z"
   },
   {
    "duration": 258,
    "start_time": "2022-03-22T11:46:45.524Z"
   },
   {
    "duration": 51,
    "start_time": "2022-03-22T11:46:45.784Z"
   },
   {
    "duration": 126,
    "start_time": "2022-03-22T11:46:45.931Z"
   },
   {
    "duration": 193,
    "start_time": "2022-03-22T11:46:46.061Z"
   },
   {
    "duration": 80,
    "start_time": "2022-03-22T11:46:46.257Z"
   },
   {
    "duration": 98,
    "start_time": "2022-03-22T11:46:46.339Z"
   },
   {
    "duration": 8,
    "start_time": "2022-03-22T11:46:46.439Z"
   },
   {
    "duration": 15,
    "start_time": "2022-03-22T11:46:46.449Z"
   },
   {
    "duration": 9,
    "start_time": "2022-03-22T11:46:46.466Z"
   },
   {
    "duration": 14,
    "start_time": "2022-03-22T11:46:46.477Z"
   },
   {
    "duration": 128,
    "start_time": "2022-03-22T11:46:46.493Z"
   },
   {
    "duration": 99,
    "start_time": "2022-03-22T11:48:21.937Z"
   },
   {
    "duration": 1620,
    "start_time": "2022-03-22T11:48:29.429Z"
   },
   {
    "duration": 422,
    "start_time": "2022-03-22T11:48:31.051Z"
   },
   {
    "duration": 3,
    "start_time": "2022-03-22T11:48:31.475Z"
   },
   {
    "duration": 201,
    "start_time": "2022-03-22T11:48:31.481Z"
   },
   {
    "duration": 54,
    "start_time": "2022-03-22T11:48:31.685Z"
   },
   {
    "duration": 14,
    "start_time": "2022-03-22T11:48:31.741Z"
   },
   {
    "duration": 13,
    "start_time": "2022-03-22T11:48:31.757Z"
   },
   {
    "duration": 90,
    "start_time": "2022-03-22T11:48:31.772Z"
   },
   {
    "duration": 206,
    "start_time": "2022-03-22T11:48:31.864Z"
   },
   {
    "duration": 194,
    "start_time": "2022-03-22T11:48:32.073Z"
   },
   {
    "duration": 38,
    "start_time": "2022-03-22T11:48:32.269Z"
   },
   {
    "duration": 25,
    "start_time": "2022-03-22T11:48:32.309Z"
   },
   {
    "duration": 17,
    "start_time": "2022-03-22T11:48:32.336Z"
   },
   {
    "duration": 48,
    "start_time": "2022-03-22T11:48:32.355Z"
   },
   {
    "duration": 192,
    "start_time": "2022-03-22T11:48:32.405Z"
   },
   {
    "duration": 186,
    "start_time": "2022-03-22T11:48:32.599Z"
   },
   {
    "duration": 52,
    "start_time": "2022-03-22T11:48:32.786Z"
   },
   {
    "duration": 11,
    "start_time": "2022-03-22T11:48:32.839Z"
   },
   {
    "duration": 14,
    "start_time": "2022-03-22T11:48:32.851Z"
   },
   {
    "duration": 66,
    "start_time": "2022-03-22T11:48:32.867Z"
   },
   {
    "duration": 261,
    "start_time": "2022-03-22T11:48:32.934Z"
   },
   {
    "duration": 49,
    "start_time": "2022-03-22T11:48:33.196Z"
   },
   {
    "duration": 209,
    "start_time": "2022-03-22T11:48:33.247Z"
   },
   {
    "duration": 120,
    "start_time": "2022-03-22T11:48:33.534Z"
   },
   {
    "duration": 78,
    "start_time": "2022-03-22T11:48:33.656Z"
   },
   {
    "duration": 100,
    "start_time": "2022-03-22T11:48:33.736Z"
   },
   {
    "duration": 8,
    "start_time": "2022-03-22T11:48:33.838Z"
   },
   {
    "duration": 8,
    "start_time": "2022-03-22T11:48:33.850Z"
   },
   {
    "duration": 11,
    "start_time": "2022-03-22T11:48:33.859Z"
   },
   {
    "duration": 4,
    "start_time": "2022-03-22T11:48:33.872Z"
   },
   {
    "duration": 267,
    "start_time": "2022-03-22T11:48:33.878Z"
   },
   {
    "duration": 93,
    "start_time": "2022-03-22T11:48:53.138Z"
   },
   {
    "duration": 30,
    "start_time": "2022-03-22T11:48:56.817Z"
   },
   {
    "duration": 1659,
    "start_time": "2022-03-22T11:49:05.301Z"
   },
   {
    "duration": 400,
    "start_time": "2022-03-22T11:49:06.962Z"
   },
   {
    "duration": 4,
    "start_time": "2022-03-22T11:49:07.364Z"
   },
   {
    "duration": 200,
    "start_time": "2022-03-22T11:49:07.370Z"
   },
   {
    "duration": 39,
    "start_time": "2022-03-22T11:49:07.572Z"
   },
   {
    "duration": 30,
    "start_time": "2022-03-22T11:49:07.613Z"
   },
   {
    "duration": 10,
    "start_time": "2022-03-22T11:49:07.645Z"
   },
   {
    "duration": 51,
    "start_time": "2022-03-22T11:49:07.657Z"
   },
   {
    "duration": 213,
    "start_time": "2022-03-22T11:49:07.710Z"
   },
   {
    "duration": 189,
    "start_time": "2022-03-22T11:49:07.931Z"
   },
   {
    "duration": 42,
    "start_time": "2022-03-22T11:49:08.122Z"
   },
   {
    "duration": 12,
    "start_time": "2022-03-22T11:49:08.166Z"
   },
   {
    "duration": 18,
    "start_time": "2022-03-22T11:49:08.179Z"
   },
   {
    "duration": 67,
    "start_time": "2022-03-22T11:49:08.199Z"
   },
   {
    "duration": 185,
    "start_time": "2022-03-22T11:49:08.268Z"
   },
   {
    "duration": 184,
    "start_time": "2022-03-22T11:49:08.454Z"
   },
   {
    "duration": 40,
    "start_time": "2022-03-22T11:49:08.640Z"
   },
   {
    "duration": 11,
    "start_time": "2022-03-22T11:49:08.682Z"
   },
   {
    "duration": 13,
    "start_time": "2022-03-22T11:49:08.695Z"
   },
   {
    "duration": 48,
    "start_time": "2022-03-22T11:49:08.731Z"
   },
   {
    "duration": 271,
    "start_time": "2022-03-22T11:49:08.781Z"
   },
   {
    "duration": 31,
    "start_time": "2022-03-22T11:49:09.055Z"
   },
   {
    "duration": 125,
    "start_time": "2022-03-22T11:49:09.132Z"
   },
   {
    "duration": 192,
    "start_time": "2022-03-22T11:49:09.259Z"
   },
   {
    "duration": 78,
    "start_time": "2022-03-22T11:49:09.455Z"
   },
   {
    "duration": 98,
    "start_time": "2022-03-22T11:49:09.535Z"
   },
   {
    "duration": 9,
    "start_time": "2022-03-22T11:49:09.635Z"
   },
   {
    "duration": 22,
    "start_time": "2022-03-22T11:49:09.648Z"
   },
   {
    "duration": 36,
    "start_time": "2022-03-22T11:49:09.672Z"
   },
   {
    "duration": 14,
    "start_time": "2022-03-22T11:49:09.710Z"
   },
   {
    "duration": 129,
    "start_time": "2022-03-22T11:49:09.725Z"
   },
   {
    "duration": 43,
    "start_time": "2022-03-22T11:51:05.919Z"
   },
   {
    "duration": 31,
    "start_time": "2022-03-22T11:51:22.325Z"
   },
   {
    "duration": 32,
    "start_time": "2022-03-22T11:51:29.747Z"
   },
   {
    "duration": 33,
    "start_time": "2022-03-22T11:51:39.288Z"
   },
   {
    "duration": 1756,
    "start_time": "2022-03-22T11:51:49.137Z"
   },
   {
    "duration": 399,
    "start_time": "2022-03-22T11:51:50.896Z"
   },
   {
    "duration": 4,
    "start_time": "2022-03-22T11:51:51.297Z"
   },
   {
    "duration": 219,
    "start_time": "2022-03-22T11:51:51.304Z"
   },
   {
    "duration": 47,
    "start_time": "2022-03-22T11:51:51.526Z"
   },
   {
    "duration": 12,
    "start_time": "2022-03-22T11:51:51.574Z"
   },
   {
    "duration": 51,
    "start_time": "2022-03-22T11:51:51.588Z"
   },
   {
    "duration": 52,
    "start_time": "2022-03-22T11:51:51.641Z"
   },
   {
    "duration": 187,
    "start_time": "2022-03-22T11:51:51.695Z"
   },
   {
    "duration": 187,
    "start_time": "2022-03-22T11:51:51.885Z"
   },
   {
    "duration": 37,
    "start_time": "2022-03-22T11:51:52.074Z"
   },
   {
    "duration": 20,
    "start_time": "2022-03-22T11:51:52.113Z"
   },
   {
    "duration": 12,
    "start_time": "2022-03-22T11:51:52.135Z"
   },
   {
    "duration": 45,
    "start_time": "2022-03-22T11:51:52.149Z"
   },
   {
    "duration": 169,
    "start_time": "2022-03-22T11:51:52.196Z"
   },
   {
    "duration": 202,
    "start_time": "2022-03-22T11:51:52.367Z"
   },
   {
    "duration": 79,
    "start_time": "2022-03-22T11:51:52.571Z"
   },
   {
    "duration": 12,
    "start_time": "2022-03-22T11:51:52.652Z"
   },
   {
    "duration": 12,
    "start_time": "2022-03-22T11:51:52.666Z"
   },
   {
    "duration": 61,
    "start_time": "2022-03-22T11:51:52.680Z"
   },
   {
    "duration": 347,
    "start_time": "2022-03-22T11:51:52.743Z"
   },
   {
    "duration": 46,
    "start_time": "2022-03-22T11:51:53.092Z"
   },
   {
    "duration": 127,
    "start_time": "2022-03-22T11:51:53.231Z"
   },
   {
    "duration": 189,
    "start_time": "2022-03-22T11:51:53.360Z"
   },
   {
    "duration": 83,
    "start_time": "2022-03-22T11:51:53.551Z"
   },
   {
    "duration": 106,
    "start_time": "2022-03-22T11:51:53.636Z"
   },
   {
    "duration": 7,
    "start_time": "2022-03-22T11:51:53.744Z"
   },
   {
    "duration": 6,
    "start_time": "2022-03-22T11:51:53.755Z"
   },
   {
    "duration": 14,
    "start_time": "2022-03-22T11:51:53.763Z"
   },
   {
    "duration": 8,
    "start_time": "2022-03-22T11:51:53.779Z"
   },
   {
    "duration": 131,
    "start_time": "2022-03-22T11:51:53.788Z"
   },
   {
    "duration": 5,
    "start_time": "2022-03-22T11:56:01.812Z"
   },
   {
    "duration": 5,
    "start_time": "2022-03-22T11:56:10.061Z"
   },
   {
    "duration": 4,
    "start_time": "2022-03-22T11:56:15.739Z"
   },
   {
    "duration": 223,
    "start_time": "2022-03-22T11:58:13.097Z"
   },
   {
    "duration": 4,
    "start_time": "2022-03-22T11:58:18.282Z"
   },
   {
    "duration": 10,
    "start_time": "2022-03-22T11:58:34.919Z"
   },
   {
    "duration": 3,
    "start_time": "2022-03-22T11:58:38.511Z"
   },
   {
    "duration": 89,
    "start_time": "2022-03-22T11:59:48.144Z"
   },
   {
    "duration": 1554,
    "start_time": "2022-03-22T11:59:57.174Z"
   },
   {
    "duration": 402,
    "start_time": "2022-03-22T11:59:58.730Z"
   },
   {
    "duration": 3,
    "start_time": "2022-03-22T11:59:59.134Z"
   },
   {
    "duration": 206,
    "start_time": "2022-03-22T11:59:59.140Z"
   },
   {
    "duration": 41,
    "start_time": "2022-03-22T11:59:59.348Z"
   },
   {
    "duration": 12,
    "start_time": "2022-03-22T11:59:59.390Z"
   },
   {
    "duration": 33,
    "start_time": "2022-03-22T11:59:59.404Z"
   },
   {
    "duration": 52,
    "start_time": "2022-03-22T11:59:59.439Z"
   },
   {
    "duration": 209,
    "start_time": "2022-03-22T11:59:59.493Z"
   },
   {
    "duration": 197,
    "start_time": "2022-03-22T11:59:59.704Z"
   },
   {
    "duration": 47,
    "start_time": "2022-03-22T11:59:59.903Z"
   },
   {
    "duration": 11,
    "start_time": "2022-03-22T11:59:59.952Z"
   },
   {
    "duration": 13,
    "start_time": "2022-03-22T11:59:59.965Z"
   },
   {
    "duration": 71,
    "start_time": "2022-03-22T11:59:59.980Z"
   },
   {
    "duration": 187,
    "start_time": "2022-03-22T12:00:00.053Z"
   },
   {
    "duration": 200,
    "start_time": "2022-03-22T12:00:00.241Z"
   },
   {
    "duration": 39,
    "start_time": "2022-03-22T12:00:00.443Z"
   },
   {
    "duration": 13,
    "start_time": "2022-03-22T12:00:00.484Z"
   },
   {
    "duration": 44,
    "start_time": "2022-03-22T12:00:00.499Z"
   },
   {
    "duration": 63,
    "start_time": "2022-03-22T12:00:00.545Z"
   },
   {
    "duration": 283,
    "start_time": "2022-03-22T12:00:00.610Z"
   },
   {
    "duration": 46,
    "start_time": "2022-03-22T12:00:00.895Z"
   },
   {
    "duration": 208,
    "start_time": "2022-03-22T12:00:00.945Z"
   },
   {
    "duration": 241,
    "start_time": "2022-03-22T12:00:01.156Z"
   },
   {
    "duration": 34,
    "start_time": "2022-03-22T12:00:01.401Z"
   },
   {
    "duration": 161,
    "start_time": "2022-03-22T12:00:01.438Z"
   },
   {
    "duration": 23,
    "start_time": "2022-03-22T12:00:01.601Z"
   },
   {
    "duration": 9,
    "start_time": "2022-03-22T12:00:01.627Z"
   },
   {
    "duration": 63,
    "start_time": "2022-03-22T12:00:01.637Z"
   },
   {
    "duration": 22,
    "start_time": "2022-03-22T12:00:01.702Z"
   },
   {
    "duration": 148,
    "start_time": "2022-03-22T12:00:01.726Z"
   },
   {
    "duration": 73,
    "start_time": "2022-03-22T12:00:56.162Z"
   },
   {
    "duration": 1720,
    "start_time": "2022-03-22T12:01:05.310Z"
   },
   {
    "duration": 405,
    "start_time": "2022-03-22T12:01:07.032Z"
   },
   {
    "duration": 3,
    "start_time": "2022-03-22T12:01:07.439Z"
   },
   {
    "duration": 206,
    "start_time": "2022-03-22T12:01:07.444Z"
   },
   {
    "duration": 40,
    "start_time": "2022-03-22T12:01:07.652Z"
   },
   {
    "duration": 13,
    "start_time": "2022-03-22T12:01:07.694Z"
   },
   {
    "duration": 11,
    "start_time": "2022-03-22T12:01:07.732Z"
   },
   {
    "duration": 54,
    "start_time": "2022-03-22T12:01:07.745Z"
   },
   {
    "duration": 201,
    "start_time": "2022-03-22T12:01:07.801Z"
   },
   {
    "duration": 194,
    "start_time": "2022-03-22T12:01:08.005Z"
   },
   {
    "duration": 43,
    "start_time": "2022-03-22T12:01:08.201Z"
   },
   {
    "duration": 11,
    "start_time": "2022-03-22T12:01:08.246Z"
   },
   {
    "duration": 16,
    "start_time": "2022-03-22T12:01:08.259Z"
   },
   {
    "duration": 69,
    "start_time": "2022-03-22T12:01:08.277Z"
   },
   {
    "duration": 183,
    "start_time": "2022-03-22T12:01:08.348Z"
   },
   {
    "duration": 197,
    "start_time": "2022-03-22T12:01:08.534Z"
   },
   {
    "duration": 38,
    "start_time": "2022-03-22T12:01:08.733Z"
   },
   {
    "duration": 13,
    "start_time": "2022-03-22T12:01:08.773Z"
   },
   {
    "duration": 13,
    "start_time": "2022-03-22T12:01:08.788Z"
   },
   {
    "duration": 75,
    "start_time": "2022-03-22T12:01:08.803Z"
   },
   {
    "duration": 275,
    "start_time": "2022-03-22T12:01:08.880Z"
   },
   {
    "duration": 77,
    "start_time": "2022-03-22T12:01:09.157Z"
   },
   {
    "duration": 125,
    "start_time": "2022-03-22T12:01:09.236Z"
   },
   {
    "duration": 122,
    "start_time": "2022-03-22T12:01:09.433Z"
   },
   {
    "duration": 74,
    "start_time": "2022-03-22T12:01:09.558Z"
   },
   {
    "duration": 101,
    "start_time": "2022-03-22T12:01:09.635Z"
   },
   {
    "duration": 8,
    "start_time": "2022-03-22T12:01:09.738Z"
   },
   {
    "duration": 7,
    "start_time": "2022-03-22T12:01:09.749Z"
   },
   {
    "duration": 9,
    "start_time": "2022-03-22T12:01:09.758Z"
   },
   {
    "duration": 7,
    "start_time": "2022-03-22T12:01:09.769Z"
   },
   {
    "duration": 141,
    "start_time": "2022-03-22T12:01:09.778Z"
   },
   {
    "duration": 43,
    "start_time": "2022-03-22T12:01:31.707Z"
   },
   {
    "duration": 4,
    "start_time": "2022-03-22T12:02:28.814Z"
   },
   {
    "duration": 3,
    "start_time": "2022-03-22T12:05:54.439Z"
   },
   {
    "duration": 4,
    "start_time": "2022-03-22T12:06:03.462Z"
   },
   {
    "duration": 3,
    "start_time": "2022-03-22T12:06:09.071Z"
   },
   {
    "duration": 3,
    "start_time": "2022-03-22T12:06:33.370Z"
   },
   {
    "duration": 3,
    "start_time": "2022-03-22T12:06:47.678Z"
   },
   {
    "duration": 11,
    "start_time": "2022-03-22T13:04:27.860Z"
   },
   {
    "duration": 10,
    "start_time": "2022-03-22T13:04:40.688Z"
   },
   {
    "duration": 1523,
    "start_time": "2022-03-22T13:04:50.159Z"
   },
   {
    "duration": 409,
    "start_time": "2022-03-22T13:04:51.684Z"
   },
   {
    "duration": 3,
    "start_time": "2022-03-22T13:04:52.095Z"
   },
   {
    "duration": 220,
    "start_time": "2022-03-22T13:04:52.100Z"
   },
   {
    "duration": 44,
    "start_time": "2022-03-22T13:04:52.322Z"
   },
   {
    "duration": 14,
    "start_time": "2022-03-22T13:04:52.368Z"
   },
   {
    "duration": 11,
    "start_time": "2022-03-22T13:04:52.384Z"
   },
   {
    "duration": 79,
    "start_time": "2022-03-22T13:04:52.397Z"
   },
   {
    "duration": 192,
    "start_time": "2022-03-22T13:04:52.477Z"
   },
   {
    "duration": 194,
    "start_time": "2022-03-22T13:04:52.672Z"
   },
   {
    "duration": 36,
    "start_time": "2022-03-22T13:04:52.868Z"
   },
   {
    "duration": 28,
    "start_time": "2022-03-22T13:04:52.906Z"
   },
   {
    "duration": 14,
    "start_time": "2022-03-22T13:04:52.936Z"
   },
   {
    "duration": 48,
    "start_time": "2022-03-22T13:04:52.952Z"
   },
   {
    "duration": 199,
    "start_time": "2022-03-22T13:04:53.001Z"
   },
   {
    "duration": 196,
    "start_time": "2022-03-22T13:04:53.202Z"
   },
   {
    "duration": 57,
    "start_time": "2022-03-22T13:04:53.400Z"
   },
   {
    "duration": 13,
    "start_time": "2022-03-22T13:04:53.459Z"
   },
   {
    "duration": 17,
    "start_time": "2022-03-22T13:04:53.475Z"
   },
   {
    "duration": 71,
    "start_time": "2022-03-22T13:04:53.493Z"
   },
   {
    "duration": 275,
    "start_time": "2022-03-22T13:04:53.566Z"
   },
   {
    "duration": 93,
    "start_time": "2022-03-22T13:04:53.844Z"
   },
   {
    "duration": 120,
    "start_time": "2022-03-22T13:04:53.939Z"
   },
   {
    "duration": 124,
    "start_time": "2022-03-22T13:04:54.131Z"
   },
   {
    "duration": 75,
    "start_time": "2022-03-22T13:04:54.257Z"
   },
   {
    "duration": 98,
    "start_time": "2022-03-22T13:04:54.335Z"
   },
   {
    "duration": 12,
    "start_time": "2022-03-22T13:04:54.435Z"
   },
   {
    "duration": 4,
    "start_time": "2022-03-22T13:04:54.450Z"
   },
   {
    "duration": 8,
    "start_time": "2022-03-22T13:04:54.456Z"
   },
   {
    "duration": 12,
    "start_time": "2022-03-22T13:04:54.465Z"
   },
   {
    "duration": 131,
    "start_time": "2022-03-22T13:04:54.479Z"
   },
   {
    "duration": 0,
    "start_time": "2022-03-22T13:04:54.612Z"
   },
   {
    "duration": 1595,
    "start_time": "2022-03-22T13:05:27.428Z"
   },
   {
    "duration": 402,
    "start_time": "2022-03-22T13:05:29.025Z"
   },
   {
    "duration": 4,
    "start_time": "2022-03-22T13:05:29.428Z"
   },
   {
    "duration": 195,
    "start_time": "2022-03-22T13:05:29.434Z"
   },
   {
    "duration": 38,
    "start_time": "2022-03-22T13:05:29.632Z"
   },
   {
    "duration": 12,
    "start_time": "2022-03-22T13:05:29.672Z"
   },
   {
    "duration": 14,
    "start_time": "2022-03-22T13:05:29.686Z"
   },
   {
    "duration": 73,
    "start_time": "2022-03-22T13:05:29.701Z"
   },
   {
    "duration": 192,
    "start_time": "2022-03-22T13:05:29.775Z"
   },
   {
    "duration": 208,
    "start_time": "2022-03-22T13:05:29.970Z"
   },
   {
    "duration": 38,
    "start_time": "2022-03-22T13:05:30.180Z"
   },
   {
    "duration": 22,
    "start_time": "2022-03-22T13:05:30.219Z"
   },
   {
    "duration": 34,
    "start_time": "2022-03-22T13:05:30.243Z"
   },
   {
    "duration": 54,
    "start_time": "2022-03-22T13:05:30.279Z"
   },
   {
    "duration": 198,
    "start_time": "2022-03-22T13:05:30.335Z"
   },
   {
    "duration": 216,
    "start_time": "2022-03-22T13:05:30.536Z"
   },
   {
    "duration": 48,
    "start_time": "2022-03-22T13:05:30.754Z"
   },
   {
    "duration": 27,
    "start_time": "2022-03-22T13:05:30.804Z"
   },
   {
    "duration": 11,
    "start_time": "2022-03-22T13:05:30.833Z"
   },
   {
    "duration": 57,
    "start_time": "2022-03-22T13:05:30.846Z"
   },
   {
    "duration": 290,
    "start_time": "2022-03-22T13:05:30.905Z"
   },
   {
    "duration": 49,
    "start_time": "2022-03-22T13:05:31.197Z"
   },
   {
    "duration": 124,
    "start_time": "2022-03-22T13:05:31.334Z"
   },
   {
    "duration": 192,
    "start_time": "2022-03-22T13:05:31.461Z"
   },
   {
    "duration": 82,
    "start_time": "2022-03-22T13:05:31.655Z"
   },
   {
    "duration": 102,
    "start_time": "2022-03-22T13:05:31.740Z"
   },
   {
    "duration": 12,
    "start_time": "2022-03-22T13:05:31.844Z"
   },
   {
    "duration": 3,
    "start_time": "2022-03-22T13:05:31.861Z"
   },
   {
    "duration": 11,
    "start_time": "2022-03-22T13:05:31.866Z"
   },
   {
    "duration": 20,
    "start_time": "2022-03-22T13:05:31.878Z"
   },
   {
    "duration": 142,
    "start_time": "2022-03-22T13:05:31.904Z"
   },
   {
    "duration": 0,
    "start_time": "2022-03-22T13:05:32.047Z"
   },
   {
    "duration": 3,
    "start_time": "2022-03-22T13:05:48.581Z"
   },
   {
    "duration": 3,
    "start_time": "2022-03-22T13:05:50.714Z"
   },
   {
    "duration": 5,
    "start_time": "2022-03-22T13:05:51.242Z"
   },
   {
    "duration": 15,
    "start_time": "2022-03-22T13:05:53.012Z"
   },
   {
    "duration": 1611,
    "start_time": "2022-03-22T13:06:24.464Z"
   },
   {
    "duration": 417,
    "start_time": "2022-03-22T13:06:26.077Z"
   },
   {
    "duration": 3,
    "start_time": "2022-03-22T13:06:26.495Z"
   },
   {
    "duration": 241,
    "start_time": "2022-03-22T13:06:26.504Z"
   },
   {
    "duration": 39,
    "start_time": "2022-03-22T13:06:26.747Z"
   },
   {
    "duration": 12,
    "start_time": "2022-03-22T13:06:26.788Z"
   },
   {
    "duration": 32,
    "start_time": "2022-03-22T13:06:26.802Z"
   },
   {
    "duration": 51,
    "start_time": "2022-03-22T13:06:26.836Z"
   },
   {
    "duration": 197,
    "start_time": "2022-03-22T13:06:26.888Z"
   },
   {
    "duration": 205,
    "start_time": "2022-03-22T13:06:27.089Z"
   },
   {
    "duration": 51,
    "start_time": "2022-03-22T13:06:27.296Z"
   },
   {
    "duration": 18,
    "start_time": "2022-03-22T13:06:27.349Z"
   },
   {
    "duration": 29,
    "start_time": "2022-03-22T13:06:27.369Z"
   },
   {
    "duration": 57,
    "start_time": "2022-03-22T13:06:27.400Z"
   },
   {
    "duration": 190,
    "start_time": "2022-03-22T13:06:27.459Z"
   },
   {
    "duration": 193,
    "start_time": "2022-03-22T13:06:27.650Z"
   },
   {
    "duration": 37,
    "start_time": "2022-03-22T13:06:27.845Z"
   },
   {
    "duration": 12,
    "start_time": "2022-03-22T13:06:27.885Z"
   },
   {
    "duration": 37,
    "start_time": "2022-03-22T13:06:27.899Z"
   },
   {
    "duration": 49,
    "start_time": "2022-03-22T13:06:27.938Z"
   },
   {
    "duration": 269,
    "start_time": "2022-03-22T13:06:27.989Z"
   },
   {
    "duration": 171,
    "start_time": "2022-03-22T13:06:28.260Z"
   },
   {
    "duration": 104,
    "start_time": "2022-03-22T13:06:28.434Z"
   },
   {
    "duration": 31,
    "start_time": "2022-03-22T13:06:28.631Z"
   },
   {
    "duration": 95,
    "start_time": "2022-03-22T13:06:28.736Z"
   },
   {
    "duration": 8,
    "start_time": "2022-03-22T13:06:28.833Z"
   },
   {
    "duration": 10,
    "start_time": "2022-03-22T13:06:28.842Z"
   },
   {
    "duration": 4,
    "start_time": "2022-03-22T13:06:28.855Z"
   },
   {
    "duration": 12,
    "start_time": "2022-03-22T13:06:28.860Z"
   },
   {
    "duration": 6,
    "start_time": "2022-03-22T13:06:28.874Z"
   },
   {
    "duration": 136,
    "start_time": "2022-03-22T13:06:28.882Z"
   },
   {
    "duration": 0,
    "start_time": "2022-03-22T13:06:29.019Z"
   },
   {
    "duration": 1698,
    "start_time": "2022-03-22T13:11:58.295Z"
   },
   {
    "duration": 426,
    "start_time": "2022-03-22T13:11:59.995Z"
   },
   {
    "duration": 3,
    "start_time": "2022-03-22T13:12:00.423Z"
   },
   {
    "duration": 218,
    "start_time": "2022-03-22T13:12:00.428Z"
   },
   {
    "duration": 41,
    "start_time": "2022-03-22T13:12:00.648Z"
   },
   {
    "duration": 12,
    "start_time": "2022-03-22T13:12:00.691Z"
   },
   {
    "duration": 31,
    "start_time": "2022-03-22T13:12:00.705Z"
   },
   {
    "duration": 52,
    "start_time": "2022-03-22T13:12:00.737Z"
   },
   {
    "duration": 207,
    "start_time": "2022-03-22T13:12:00.791Z"
   },
   {
    "duration": 211,
    "start_time": "2022-03-22T13:12:01.001Z"
   },
   {
    "duration": 48,
    "start_time": "2022-03-22T13:12:01.214Z"
   },
   {
    "duration": 11,
    "start_time": "2022-03-22T13:12:01.264Z"
   },
   {
    "duration": 23,
    "start_time": "2022-03-22T13:12:01.277Z"
   },
   {
    "duration": 63,
    "start_time": "2022-03-22T13:12:01.302Z"
   },
   {
    "duration": 193,
    "start_time": "2022-03-22T13:12:01.367Z"
   },
   {
    "duration": 228,
    "start_time": "2022-03-22T13:12:01.562Z"
   },
   {
    "duration": 69,
    "start_time": "2022-03-22T13:12:01.792Z"
   },
   {
    "duration": 14,
    "start_time": "2022-03-22T13:12:01.863Z"
   },
   {
    "duration": 40,
    "start_time": "2022-03-22T13:12:01.879Z"
   },
   {
    "duration": 57,
    "start_time": "2022-03-22T13:12:01.921Z"
   },
   {
    "duration": 284,
    "start_time": "2022-03-22T13:12:01.980Z"
   },
   {
    "duration": 74,
    "start_time": "2022-03-22T13:12:02.267Z"
   },
   {
    "duration": 189,
    "start_time": "2022-03-22T13:12:02.344Z"
   },
   {
    "duration": 122,
    "start_time": "2022-03-22T13:12:02.536Z"
   },
   {
    "duration": 74,
    "start_time": "2022-03-22T13:12:02.661Z"
   },
   {
    "duration": 103,
    "start_time": "2022-03-22T13:12:02.737Z"
   },
   {
    "duration": 5,
    "start_time": "2022-03-22T13:12:02.841Z"
   },
   {
    "duration": 7,
    "start_time": "2022-03-22T13:12:02.849Z"
   },
   {
    "duration": 7,
    "start_time": "2022-03-22T13:12:02.857Z"
   },
   {
    "duration": 134,
    "start_time": "2022-03-22T13:12:02.867Z"
   },
   {
    "duration": 0,
    "start_time": "2022-03-22T13:12:03.003Z"
   },
   {
    "duration": 14,
    "start_time": "2022-03-22T13:18:15.044Z"
   },
   {
    "duration": 13,
    "start_time": "2022-03-22T13:18:55.503Z"
   },
   {
    "duration": 13,
    "start_time": "2022-03-22T13:19:13.890Z"
   },
   {
    "duration": 13,
    "start_time": "2022-03-22T13:19:39.748Z"
   },
   {
    "duration": 1605,
    "start_time": "2022-03-22T13:19:47.830Z"
   },
   {
    "duration": 398,
    "start_time": "2022-03-22T13:19:49.437Z"
   },
   {
    "duration": 3,
    "start_time": "2022-03-22T13:19:49.837Z"
   },
   {
    "duration": 214,
    "start_time": "2022-03-22T13:19:49.843Z"
   },
   {
    "duration": 49,
    "start_time": "2022-03-22T13:19:50.059Z"
   },
   {
    "duration": 22,
    "start_time": "2022-03-22T13:19:50.110Z"
   },
   {
    "duration": 10,
    "start_time": "2022-03-22T13:19:50.134Z"
   },
   {
    "duration": 61,
    "start_time": "2022-03-22T13:19:50.145Z"
   },
   {
    "duration": 198,
    "start_time": "2022-03-22T13:19:50.208Z"
   },
   {
    "duration": 48,
    "start_time": "2022-03-22T13:19:50.409Z"
   },
   {
    "duration": 11,
    "start_time": "2022-03-22T13:19:50.459Z"
   },
   {
    "duration": 29,
    "start_time": "2022-03-22T13:19:50.472Z"
   },
   {
    "duration": 58,
    "start_time": "2022-03-22T13:19:50.502Z"
   },
   {
    "duration": 197,
    "start_time": "2022-03-22T13:19:50.562Z"
   },
   {
    "duration": 39,
    "start_time": "2022-03-22T13:19:50.762Z"
   },
   {
    "duration": 30,
    "start_time": "2022-03-22T13:19:50.803Z"
   },
   {
    "duration": 18,
    "start_time": "2022-03-22T13:19:50.835Z"
   },
   {
    "duration": 61,
    "start_time": "2022-03-22T13:19:50.855Z"
   },
   {
    "duration": 34,
    "start_time": "2022-03-22T13:19:50.931Z"
   },
   {
    "duration": 266,
    "start_time": "2022-03-22T13:19:50.967Z"
   },
   {
    "duration": 124,
    "start_time": "2022-03-22T13:19:51.237Z"
   },
   {
    "duration": 5,
    "start_time": "2022-03-22T13:19:51.431Z"
   },
   {
    "duration": 101,
    "start_time": "2022-03-22T13:19:51.439Z"
   },
   {
    "duration": 7,
    "start_time": "2022-03-22T13:19:51.541Z"
   },
   {
    "duration": 6,
    "start_time": "2022-03-22T13:19:51.550Z"
   },
   {
    "duration": 6,
    "start_time": "2022-03-22T13:19:51.558Z"
   },
   {
    "duration": 132,
    "start_time": "2022-03-22T13:19:51.566Z"
   },
   {
    "duration": 0,
    "start_time": "2022-03-22T13:19:51.701Z"
   },
   {
    "duration": 13,
    "start_time": "2022-03-22T13:20:00.538Z"
   },
   {
    "duration": 14,
    "start_time": "2022-03-22T13:53:08.905Z"
   },
   {
    "duration": 1588,
    "start_time": "2022-03-22T13:53:23.171Z"
   },
   {
    "duration": 397,
    "start_time": "2022-03-22T13:53:24.761Z"
   },
   {
    "duration": 4,
    "start_time": "2022-03-22T13:53:25.160Z"
   },
   {
    "duration": 202,
    "start_time": "2022-03-22T13:53:25.166Z"
   },
   {
    "duration": 39,
    "start_time": "2022-03-22T13:53:25.369Z"
   },
   {
    "duration": 32,
    "start_time": "2022-03-22T13:53:25.410Z"
   },
   {
    "duration": 10,
    "start_time": "2022-03-22T13:53:25.444Z"
   },
   {
    "duration": 64,
    "start_time": "2022-03-22T13:53:25.456Z"
   },
   {
    "duration": 196,
    "start_time": "2022-03-22T13:53:25.523Z"
   },
   {
    "duration": 42,
    "start_time": "2022-03-22T13:53:25.722Z"
   },
   {
    "duration": 11,
    "start_time": "2022-03-22T13:53:25.765Z"
   },
   {
    "duration": 25,
    "start_time": "2022-03-22T13:53:25.777Z"
   },
   {
    "duration": 56,
    "start_time": "2022-03-22T13:53:25.804Z"
   },
   {
    "duration": 187,
    "start_time": "2022-03-22T13:53:25.862Z"
   },
   {
    "duration": 38,
    "start_time": "2022-03-22T13:53:26.051Z"
   },
   {
    "duration": 10,
    "start_time": "2022-03-22T13:53:26.091Z"
   },
   {
    "duration": 34,
    "start_time": "2022-03-22T13:53:26.103Z"
   },
   {
    "duration": 46,
    "start_time": "2022-03-22T13:53:26.139Z"
   },
   {
    "duration": 51,
    "start_time": "2022-03-22T13:53:26.187Z"
   },
   {
    "duration": 123,
    "start_time": "2022-03-22T13:53:26.331Z"
   },
   {
    "duration": 196,
    "start_time": "2022-03-22T13:53:26.456Z"
   },
   {
    "duration": 81,
    "start_time": "2022-03-22T13:53:26.654Z"
   },
   {
    "duration": 102,
    "start_time": "2022-03-22T13:53:26.738Z"
   },
   {
    "duration": 7,
    "start_time": "2022-03-22T13:53:26.842Z"
   },
   {
    "duration": 10,
    "start_time": "2022-03-22T13:53:26.851Z"
   },
   {
    "duration": 7,
    "start_time": "2022-03-22T13:53:26.863Z"
   },
   {
    "duration": 121,
    "start_time": "2022-03-22T13:53:26.871Z"
   },
   {
    "duration": 0,
    "start_time": "2022-03-22T13:53:26.994Z"
   },
   {
    "duration": 13,
    "start_time": "2022-03-22T13:54:49.830Z"
   },
   {
    "duration": 14,
    "start_time": "2022-03-22T13:55:29.457Z"
   },
   {
    "duration": 14,
    "start_time": "2022-03-22T13:55:35.547Z"
   },
   {
    "duration": 1840,
    "start_time": "2022-03-22T13:55:45.628Z"
   },
   {
    "duration": 422,
    "start_time": "2022-03-22T13:55:47.471Z"
   },
   {
    "duration": 4,
    "start_time": "2022-03-22T13:55:47.895Z"
   },
   {
    "duration": 219,
    "start_time": "2022-03-22T13:55:47.901Z"
   },
   {
    "duration": 46,
    "start_time": "2022-03-22T13:55:48.123Z"
   },
   {
    "duration": 12,
    "start_time": "2022-03-22T13:55:48.171Z"
   },
   {
    "duration": 12,
    "start_time": "2022-03-22T13:55:48.185Z"
   },
   {
    "duration": 95,
    "start_time": "2022-03-22T13:55:48.200Z"
   },
   {
    "duration": 199,
    "start_time": "2022-03-22T13:55:48.296Z"
   },
   {
    "duration": 53,
    "start_time": "2022-03-22T13:55:48.497Z"
   },
   {
    "duration": 11,
    "start_time": "2022-03-22T13:55:48.552Z"
   },
   {
    "duration": 23,
    "start_time": "2022-03-22T13:55:48.566Z"
   },
   {
    "duration": 67,
    "start_time": "2022-03-22T13:55:48.591Z"
   },
   {
    "duration": 191,
    "start_time": "2022-03-22T13:55:48.662Z"
   },
   {
    "duration": 38,
    "start_time": "2022-03-22T13:55:48.855Z"
   },
   {
    "duration": 37,
    "start_time": "2022-03-22T13:55:48.895Z"
   },
   {
    "duration": 11,
    "start_time": "2022-03-22T13:55:48.934Z"
   },
   {
    "duration": 49,
    "start_time": "2022-03-22T13:55:48.947Z"
   },
   {
    "duration": 137,
    "start_time": "2022-03-22T13:55:48.998Z"
   },
   {
    "duration": 124,
    "start_time": "2022-03-22T13:55:49.137Z"
   },
   {
    "duration": 192,
    "start_time": "2022-03-22T13:55:49.264Z"
   },
   {
    "duration": 74,
    "start_time": "2022-03-22T13:55:49.459Z"
   },
   {
    "duration": 108,
    "start_time": "2022-03-22T13:55:49.536Z"
   },
   {
    "duration": 5,
    "start_time": "2022-03-22T13:55:49.645Z"
   },
   {
    "duration": 8,
    "start_time": "2022-03-22T13:55:49.652Z"
   },
   {
    "duration": 7,
    "start_time": "2022-03-22T13:55:49.662Z"
   },
   {
    "duration": 134,
    "start_time": "2022-03-22T13:55:49.671Z"
   },
   {
    "duration": 0,
    "start_time": "2022-03-22T13:55:49.807Z"
   },
   {
    "duration": 13,
    "start_time": "2022-03-22T13:56:01.080Z"
   },
   {
    "duration": 14,
    "start_time": "2022-03-22T14:14:54.524Z"
   },
   {
    "duration": 14,
    "start_time": "2022-03-22T14:22:39.572Z"
   },
   {
    "duration": 1650,
    "start_time": "2022-03-22T14:22:47.956Z"
   },
   {
    "duration": 397,
    "start_time": "2022-03-22T14:22:49.608Z"
   },
   {
    "duration": 2,
    "start_time": "2022-03-22T14:22:50.008Z"
   },
   {
    "duration": 205,
    "start_time": "2022-03-22T14:22:50.013Z"
   },
   {
    "duration": 45,
    "start_time": "2022-03-22T14:22:50.219Z"
   },
   {
    "duration": 12,
    "start_time": "2022-03-22T14:22:50.266Z"
   },
   {
    "duration": 11,
    "start_time": "2022-03-22T14:22:50.280Z"
   },
   {
    "duration": 75,
    "start_time": "2022-03-22T14:22:50.293Z"
   },
   {
    "duration": 208,
    "start_time": "2022-03-22T14:22:50.370Z"
   },
   {
    "duration": 40,
    "start_time": "2022-03-22T14:22:50.582Z"
   },
   {
    "duration": 12,
    "start_time": "2022-03-22T14:22:50.631Z"
   },
   {
    "duration": 35,
    "start_time": "2022-03-22T14:22:50.645Z"
   },
   {
    "duration": 62,
    "start_time": "2022-03-22T14:22:50.682Z"
   },
   {
    "duration": 197,
    "start_time": "2022-03-22T14:22:50.746Z"
   },
   {
    "duration": 38,
    "start_time": "2022-03-22T14:22:50.945Z"
   },
   {
    "duration": 12,
    "start_time": "2022-03-22T14:22:50.985Z"
   },
   {
    "duration": 37,
    "start_time": "2022-03-22T14:22:50.999Z"
   },
   {
    "duration": 75,
    "start_time": "2022-03-22T14:22:51.038Z"
   },
   {
    "duration": 115,
    "start_time": "2022-03-22T14:22:51.116Z"
   },
   {
    "duration": 134,
    "start_time": "2022-03-22T14:22:51.235Z"
   },
   {
    "duration": 123,
    "start_time": "2022-03-22T14:22:51.437Z"
   },
   {
    "duration": 71,
    "start_time": "2022-03-22T14:22:51.563Z"
   },
   {
    "duration": 103,
    "start_time": "2022-03-22T14:22:51.636Z"
   },
   {
    "duration": 5,
    "start_time": "2022-03-22T14:22:51.741Z"
   },
   {
    "duration": 8,
    "start_time": "2022-03-22T14:22:51.748Z"
   },
   {
    "duration": 6,
    "start_time": "2022-03-22T14:22:51.758Z"
   },
   {
    "duration": 127,
    "start_time": "2022-03-22T14:22:51.766Z"
   },
   {
    "duration": 0,
    "start_time": "2022-03-22T14:22:51.895Z"
   },
   {
    "duration": 14,
    "start_time": "2022-03-22T14:23:00.634Z"
   },
   {
    "duration": 14,
    "start_time": "2022-03-22T14:23:59.946Z"
   },
   {
    "duration": 3346,
    "start_time": "2022-03-22T14:24:07.519Z"
   },
   {
    "duration": 396,
    "start_time": "2022-03-22T14:24:10.867Z"
   },
   {
    "duration": 3,
    "start_time": "2022-03-22T14:24:11.265Z"
   },
   {
    "duration": 224,
    "start_time": "2022-03-22T14:24:11.271Z"
   },
   {
    "duration": 49,
    "start_time": "2022-03-22T14:24:11.497Z"
   },
   {
    "duration": 13,
    "start_time": "2022-03-22T14:24:11.547Z"
   },
   {
    "duration": 29,
    "start_time": "2022-03-22T14:24:11.562Z"
   },
   {
    "duration": 80,
    "start_time": "2022-03-22T14:24:11.593Z"
   },
   {
    "duration": 201,
    "start_time": "2022-03-22T14:24:11.675Z"
   },
   {
    "duration": 37,
    "start_time": "2022-03-22T14:24:11.879Z"
   },
   {
    "duration": 23,
    "start_time": "2022-03-22T14:24:11.918Z"
   },
   {
    "duration": 43,
    "start_time": "2022-03-22T14:24:11.942Z"
   },
   {
    "duration": 51,
    "start_time": "2022-03-22T14:24:11.987Z"
   },
   {
    "duration": 174,
    "start_time": "2022-03-22T14:24:12.039Z"
   },
   {
    "duration": 46,
    "start_time": "2022-03-22T14:24:12.216Z"
   },
   {
    "duration": 11,
    "start_time": "2022-03-22T14:24:12.264Z"
   },
   {
    "duration": 23,
    "start_time": "2022-03-22T14:24:12.277Z"
   },
   {
    "duration": 63,
    "start_time": "2022-03-22T14:24:12.302Z"
   },
   {
    "duration": 75,
    "start_time": "2022-03-22T14:24:12.368Z"
   },
   {
    "duration": 32,
    "start_time": "2022-03-22T14:24:12.533Z"
   },
   {
    "duration": 119,
    "start_time": "2022-03-22T14:24:12.638Z"
   },
   {
    "duration": 78,
    "start_time": "2022-03-22T14:24:12.759Z"
   },
   {
    "duration": 126,
    "start_time": "2022-03-22T14:24:12.840Z"
   },
   {
    "duration": 16,
    "start_time": "2022-03-22T14:24:12.968Z"
   },
   {
    "duration": 16,
    "start_time": "2022-03-22T14:24:12.986Z"
   },
   {
    "duration": 15,
    "start_time": "2022-03-22T14:24:13.004Z"
   },
   {
    "duration": 117,
    "start_time": "2022-03-22T14:24:13.021Z"
   },
   {
    "duration": 0,
    "start_time": "2022-03-22T14:24:13.139Z"
   },
   {
    "duration": 12,
    "start_time": "2022-03-22T14:24:21.776Z"
   },
   {
    "duration": 14,
    "start_time": "2022-03-22T14:28:32.157Z"
   },
   {
    "duration": 13,
    "start_time": "2022-03-22T19:17:33.162Z"
   },
   {
    "duration": 64,
    "start_time": "2022-03-22T19:17:40.853Z"
   },
   {
    "duration": 2176,
    "start_time": "2022-03-22T19:17:52.213Z"
   },
   {
    "duration": 425,
    "start_time": "2022-03-22T19:17:54.392Z"
   },
   {
    "duration": 4,
    "start_time": "2022-03-22T19:17:54.819Z"
   },
   {
    "duration": 302,
    "start_time": "2022-03-22T19:17:54.827Z"
   },
   {
    "duration": 61,
    "start_time": "2022-03-22T19:17:55.132Z"
   },
   {
    "duration": 19,
    "start_time": "2022-03-22T19:17:55.195Z"
   },
   {
    "duration": 15,
    "start_time": "2022-03-22T19:17:55.216Z"
   },
   {
    "duration": 106,
    "start_time": "2022-03-22T19:17:55.234Z"
   },
   {
    "duration": 323,
    "start_time": "2022-03-22T19:17:55.343Z"
   },
   {
    "duration": 53,
    "start_time": "2022-03-22T19:17:55.670Z"
   },
   {
    "duration": 15,
    "start_time": "2022-03-22T19:17:55.725Z"
   },
   {
    "duration": 42,
    "start_time": "2022-03-22T19:17:55.742Z"
   },
   {
    "duration": 93,
    "start_time": "2022-03-22T19:17:55.786Z"
   },
   {
    "duration": 286,
    "start_time": "2022-03-22T19:17:55.881Z"
   },
   {
    "duration": 46,
    "start_time": "2022-03-22T19:17:56.173Z"
   },
   {
    "duration": 15,
    "start_time": "2022-03-22T19:17:56.221Z"
   },
   {
    "duration": 48,
    "start_time": "2022-03-22T19:17:56.238Z"
   },
   {
    "duration": 94,
    "start_time": "2022-03-22T19:17:56.288Z"
   },
   {
    "duration": 95,
    "start_time": "2022-03-22T19:17:56.385Z"
   },
   {
    "duration": 289,
    "start_time": "2022-03-22T19:17:56.484Z"
   },
   {
    "duration": 198,
    "start_time": "2022-03-22T19:17:56.777Z"
   },
   {
    "duration": 7,
    "start_time": "2022-03-22T19:17:56.978Z"
   },
   {
    "duration": 100,
    "start_time": "2022-03-22T19:17:56.988Z"
   },
   {
    "duration": 109,
    "start_time": "2022-03-22T19:17:57.091Z"
   },
   {
    "duration": 0,
    "start_time": "2022-03-22T19:17:57.203Z"
   },
   {
    "duration": 0,
    "start_time": "2022-03-22T19:17:57.205Z"
   },
   {
    "duration": 0,
    "start_time": "2022-03-22T19:17:57.207Z"
   },
   {
    "duration": 0,
    "start_time": "2022-03-22T19:17:57.209Z"
   },
   {
    "duration": 0,
    "start_time": "2022-03-22T19:17:57.212Z"
   },
   {
    "duration": 300,
    "start_time": "2022-03-22T19:25:14.638Z"
   },
   {
    "duration": 2226,
    "start_time": "2022-03-22T19:25:29.971Z"
   },
   {
    "duration": 647,
    "start_time": "2022-03-22T19:25:32.200Z"
   },
   {
    "duration": 5,
    "start_time": "2022-03-22T19:25:32.850Z"
   },
   {
    "duration": 316,
    "start_time": "2022-03-22T19:25:32.858Z"
   },
   {
    "duration": 48,
    "start_time": "2022-03-22T19:25:33.176Z"
   },
   {
    "duration": 17,
    "start_time": "2022-03-22T19:25:33.226Z"
   },
   {
    "duration": 40,
    "start_time": "2022-03-22T19:25:33.245Z"
   },
   {
    "duration": 99,
    "start_time": "2022-03-22T19:25:33.287Z"
   },
   {
    "duration": 291,
    "start_time": "2022-03-22T19:25:33.388Z"
   },
   {
    "duration": 47,
    "start_time": "2022-03-22T19:25:33.683Z"
   },
   {
    "duration": 16,
    "start_time": "2022-03-22T19:25:33.732Z"
   },
   {
    "duration": 35,
    "start_time": "2022-03-22T19:25:33.750Z"
   },
   {
    "duration": 99,
    "start_time": "2022-03-22T19:25:33.789Z"
   },
   {
    "duration": 364,
    "start_time": "2022-03-22T19:25:33.891Z"
   },
   {
    "duration": 66,
    "start_time": "2022-03-22T19:25:34.258Z"
   },
   {
    "duration": 47,
    "start_time": "2022-03-22T19:25:34.326Z"
   },
   {
    "duration": 14,
    "start_time": "2022-03-22T19:25:34.375Z"
   },
   {
    "duration": 93,
    "start_time": "2022-03-22T19:25:34.391Z"
   },
   {
    "duration": 92,
    "start_time": "2022-03-22T19:25:34.486Z"
   },
   {
    "duration": 126,
    "start_time": "2022-03-22T19:25:34.583Z"
   },
   {
    "duration": 189,
    "start_time": "2022-03-22T19:25:34.712Z"
   },
   {
    "duration": 7,
    "start_time": "2022-03-22T19:25:34.975Z"
   },
   {
    "duration": 101,
    "start_time": "2022-03-22T19:25:34.985Z"
   },
   {
    "duration": 177,
    "start_time": "2022-03-22T19:25:35.088Z"
   },
   {
    "duration": 0,
    "start_time": "2022-03-22T19:25:35.268Z"
   },
   {
    "duration": 0,
    "start_time": "2022-03-22T19:25:35.270Z"
   },
   {
    "duration": 0,
    "start_time": "2022-03-22T19:25:35.274Z"
   },
   {
    "duration": 0,
    "start_time": "2022-03-22T19:25:35.275Z"
   },
   {
    "duration": 0,
    "start_time": "2022-03-22T19:25:35.277Z"
   },
   {
    "duration": 23,
    "start_time": "2022-03-22T19:26:12.302Z"
   },
   {
    "duration": 1952,
    "start_time": "2022-03-22T19:26:30.495Z"
   },
   {
    "duration": 430,
    "start_time": "2022-03-22T19:26:32.450Z"
   },
   {
    "duration": 5,
    "start_time": "2022-03-22T19:26:32.882Z"
   },
   {
    "duration": 300,
    "start_time": "2022-03-22T19:26:32.890Z"
   },
   {
    "duration": 50,
    "start_time": "2022-03-22T19:26:33.193Z"
   },
   {
    "duration": 37,
    "start_time": "2022-03-22T19:26:33.245Z"
   },
   {
    "duration": 14,
    "start_time": "2022-03-22T19:26:33.284Z"
   },
   {
    "duration": 109,
    "start_time": "2022-03-22T19:26:33.300Z"
   },
   {
    "duration": 380,
    "start_time": "2022-03-22T19:26:33.411Z"
   },
   {
    "duration": 49,
    "start_time": "2022-03-22T19:26:33.793Z"
   },
   {
    "duration": 34,
    "start_time": "2022-03-22T19:26:33.845Z"
   },
   {
    "duration": 18,
    "start_time": "2022-03-22T19:26:33.881Z"
   },
   {
    "duration": 90,
    "start_time": "2022-03-22T19:26:33.901Z"
   },
   {
    "duration": 273,
    "start_time": "2022-03-22T19:26:33.995Z"
   },
   {
    "duration": 45,
    "start_time": "2022-03-22T19:26:34.274Z"
   },
   {
    "duration": 16,
    "start_time": "2022-03-22T19:26:34.321Z"
   },
   {
    "duration": 39,
    "start_time": "2022-03-22T19:26:34.339Z"
   },
   {
    "duration": 72,
    "start_time": "2022-03-22T19:26:34.381Z"
   },
   {
    "duration": 102,
    "start_time": "2022-03-22T19:26:34.473Z"
   },
   {
    "duration": 195,
    "start_time": "2022-03-22T19:26:34.579Z"
   },
   {
    "duration": 125,
    "start_time": "2022-03-22T19:26:34.778Z"
   },
   {
    "duration": 69,
    "start_time": "2022-03-22T19:26:34.906Z"
   },
   {
    "duration": 103,
    "start_time": "2022-03-22T19:26:34.979Z"
   },
   {
    "duration": 170,
    "start_time": "2022-03-22T19:26:35.085Z"
   },
   {
    "duration": 0,
    "start_time": "2022-03-22T19:26:35.258Z"
   },
   {
    "duration": 0,
    "start_time": "2022-03-22T19:26:35.260Z"
   },
   {
    "duration": 0,
    "start_time": "2022-03-22T19:26:35.274Z"
   },
   {
    "duration": 0,
    "start_time": "2022-03-22T19:26:35.276Z"
   },
   {
    "duration": 0,
    "start_time": "2022-03-22T19:26:35.279Z"
   },
   {
    "duration": 29,
    "start_time": "2022-03-22T19:27:50.550Z"
   },
   {
    "duration": 2368,
    "start_time": "2022-03-22T19:27:59.535Z"
   },
   {
    "duration": 437,
    "start_time": "2022-03-22T19:28:01.906Z"
   },
   {
    "duration": 5,
    "start_time": "2022-03-22T19:28:02.346Z"
   },
   {
    "duration": 301,
    "start_time": "2022-03-22T19:28:02.355Z"
   },
   {
    "duration": 52,
    "start_time": "2022-03-22T19:28:02.658Z"
   },
   {
    "duration": 20,
    "start_time": "2022-03-22T19:28:02.712Z"
   },
   {
    "duration": 12,
    "start_time": "2022-03-22T19:28:02.734Z"
   },
   {
    "duration": 73,
    "start_time": "2022-03-22T19:28:02.774Z"
   },
   {
    "duration": 286,
    "start_time": "2022-03-22T19:28:02.849Z"
   },
   {
    "duration": 64,
    "start_time": "2022-03-22T19:28:03.140Z"
   },
   {
    "duration": 15,
    "start_time": "2022-03-22T19:28:03.207Z"
   },
   {
    "duration": 19,
    "start_time": "2022-03-22T19:28:03.224Z"
   },
   {
    "duration": 85,
    "start_time": "2022-03-22T19:28:03.245Z"
   },
   {
    "duration": 275,
    "start_time": "2022-03-22T19:28:03.332Z"
   },
   {
    "duration": 69,
    "start_time": "2022-03-22T19:28:03.611Z"
   },
   {
    "duration": 28,
    "start_time": "2022-03-22T19:28:03.683Z"
   },
   {
    "duration": 22,
    "start_time": "2022-03-22T19:28:03.714Z"
   },
   {
    "duration": 112,
    "start_time": "2022-03-22T19:28:03.739Z"
   },
   {
    "duration": 121,
    "start_time": "2022-03-22T19:28:03.853Z"
   },
   {
    "duration": 125,
    "start_time": "2022-03-22T19:28:03.979Z"
   },
   {
    "duration": 188,
    "start_time": "2022-03-22T19:28:04.108Z"
   },
   {
    "duration": 80,
    "start_time": "2022-03-22T19:28:04.299Z"
   },
   {
    "duration": 97,
    "start_time": "2022-03-22T19:28:04.382Z"
   },
   {
    "duration": 169,
    "start_time": "2022-03-22T19:28:04.481Z"
   },
   {
    "duration": 0,
    "start_time": "2022-03-22T19:28:04.653Z"
   },
   {
    "duration": 0,
    "start_time": "2022-03-22T19:28:04.655Z"
   },
   {
    "duration": 0,
    "start_time": "2022-03-22T19:28:04.657Z"
   },
   {
    "duration": 0,
    "start_time": "2022-03-22T19:28:04.674Z"
   },
   {
    "duration": 0,
    "start_time": "2022-03-22T19:28:04.675Z"
   },
   {
    "duration": 22,
    "start_time": "2022-03-22T19:32:11.735Z"
   },
   {
    "duration": 1910,
    "start_time": "2022-03-22T19:32:22.830Z"
   },
   {
    "duration": 449,
    "start_time": "2022-03-22T19:32:24.743Z"
   },
   {
    "duration": 5,
    "start_time": "2022-03-22T19:32:25.194Z"
   },
   {
    "duration": 308,
    "start_time": "2022-03-22T19:32:25.202Z"
   },
   {
    "duration": 64,
    "start_time": "2022-03-22T19:32:25.512Z"
   },
   {
    "duration": 17,
    "start_time": "2022-03-22T19:32:25.578Z"
   },
   {
    "duration": 14,
    "start_time": "2022-03-22T19:32:25.597Z"
   },
   {
    "duration": 110,
    "start_time": "2022-03-22T19:32:25.614Z"
   },
   {
    "duration": 289,
    "start_time": "2022-03-22T19:32:25.726Z"
   },
   {
    "duration": 61,
    "start_time": "2022-03-22T19:32:26.019Z"
   },
   {
    "duration": 15,
    "start_time": "2022-03-22T19:32:26.083Z"
   },
   {
    "duration": 26,
    "start_time": "2022-03-22T19:32:26.101Z"
   },
   {
    "duration": 99,
    "start_time": "2022-03-22T19:32:26.129Z"
   },
   {
    "duration": 339,
    "start_time": "2022-03-22T19:32:26.231Z"
   },
   {
    "duration": 56,
    "start_time": "2022-03-22T19:32:26.572Z"
   },
   {
    "duration": 45,
    "start_time": "2022-03-22T19:32:26.631Z"
   },
   {
    "duration": 21,
    "start_time": "2022-03-22T19:32:26.679Z"
   },
   {
    "duration": 132,
    "start_time": "2022-03-22T19:32:26.702Z"
   },
   {
    "duration": 65,
    "start_time": "2022-03-22T19:32:26.837Z"
   },
   {
    "duration": 272,
    "start_time": "2022-03-22T19:32:26.904Z"
   },
   {
    "duration": 197,
    "start_time": "2022-03-22T19:32:27.179Z"
   },
   {
    "duration": 8,
    "start_time": "2022-03-22T19:32:27.379Z"
   },
   {
    "duration": 24,
    "start_time": "2022-03-22T19:32:27.474Z"
   },
   {
    "duration": 161,
    "start_time": "2022-03-22T19:32:27.500Z"
   },
   {
    "duration": 0,
    "start_time": "2022-03-22T19:32:27.664Z"
   },
   {
    "duration": 0,
    "start_time": "2022-03-22T19:32:27.665Z"
   },
   {
    "duration": 0,
    "start_time": "2022-03-22T19:32:27.674Z"
   },
   {
    "duration": 0,
    "start_time": "2022-03-22T19:32:27.675Z"
   },
   {
    "duration": 0,
    "start_time": "2022-03-22T19:32:27.678Z"
   },
   {
    "duration": 2359,
    "start_time": "2022-03-22T19:32:38.199Z"
   },
   {
    "duration": 434,
    "start_time": "2022-03-22T19:32:40.561Z"
   },
   {
    "duration": 5,
    "start_time": "2022-03-22T19:32:40.997Z"
   },
   {
    "duration": 298,
    "start_time": "2022-03-22T19:32:41.006Z"
   },
   {
    "duration": 49,
    "start_time": "2022-03-22T19:32:41.307Z"
   },
   {
    "duration": 31,
    "start_time": "2022-03-22T19:32:41.358Z"
   },
   {
    "duration": 19,
    "start_time": "2022-03-22T19:32:41.392Z"
   },
   {
    "duration": 103,
    "start_time": "2022-03-22T19:32:41.413Z"
   },
   {
    "duration": 273,
    "start_time": "2022-03-22T19:32:41.518Z"
   },
   {
    "duration": 45,
    "start_time": "2022-03-22T19:32:41.796Z"
   },
   {
    "duration": 32,
    "start_time": "2022-03-22T19:32:41.844Z"
   },
   {
    "duration": 14,
    "start_time": "2022-03-22T19:32:41.878Z"
   },
   {
    "duration": 91,
    "start_time": "2022-03-22T19:32:41.895Z"
   },
   {
    "duration": 268,
    "start_time": "2022-03-22T19:32:41.989Z"
   },
   {
    "duration": 53,
    "start_time": "2022-03-22T19:32:42.259Z"
   },
   {
    "duration": 15,
    "start_time": "2022-03-22T19:32:42.315Z"
   },
   {
    "duration": 17,
    "start_time": "2022-03-22T19:32:42.332Z"
   },
   {
    "duration": 72,
    "start_time": "2022-03-22T19:32:42.373Z"
   },
   {
    "duration": 130,
    "start_time": "2022-03-22T19:32:42.448Z"
   },
   {
    "duration": 194,
    "start_time": "2022-03-22T19:32:42.581Z"
   },
   {
    "duration": 197,
    "start_time": "2022-03-22T19:32:42.778Z"
   },
   {
    "duration": 6,
    "start_time": "2022-03-22T19:32:42.978Z"
   },
   {
    "duration": 8,
    "start_time": "2022-03-22T19:32:43.073Z"
   },
   {
    "duration": 184,
    "start_time": "2022-03-22T19:32:43.084Z"
   },
   {
    "duration": 0,
    "start_time": "2022-03-22T19:32:43.274Z"
   },
   {
    "duration": 0,
    "start_time": "2022-03-22T19:32:43.276Z"
   },
   {
    "duration": 0,
    "start_time": "2022-03-22T19:32:43.277Z"
   },
   {
    "duration": 0,
    "start_time": "2022-03-22T19:32:43.279Z"
   },
   {
    "duration": 0,
    "start_time": "2022-03-22T19:32:43.280Z"
   },
   {
    "duration": 22,
    "start_time": "2022-03-22T19:33:24.761Z"
   },
   {
    "duration": 1937,
    "start_time": "2022-03-22T19:33:34.641Z"
   },
   {
    "duration": 435,
    "start_time": "2022-03-22T19:33:36.581Z"
   },
   {
    "duration": 5,
    "start_time": "2022-03-22T19:33:37.018Z"
   },
   {
    "duration": 367,
    "start_time": "2022-03-22T19:33:37.025Z"
   },
   {
    "duration": 61,
    "start_time": "2022-03-22T19:33:37.396Z"
   },
   {
    "duration": 43,
    "start_time": "2022-03-22T19:33:37.459Z"
   },
   {
    "duration": 18,
    "start_time": "2022-03-22T19:33:37.505Z"
   },
   {
    "duration": 102,
    "start_time": "2022-03-22T19:33:37.526Z"
   },
   {
    "duration": 272,
    "start_time": "2022-03-22T19:33:37.631Z"
   },
   {
    "duration": 46,
    "start_time": "2022-03-22T19:33:37.905Z"
   },
   {
    "duration": 30,
    "start_time": "2022-03-22T19:33:37.953Z"
   },
   {
    "duration": 15,
    "start_time": "2022-03-22T19:33:37.985Z"
   },
   {
    "duration": 91,
    "start_time": "2022-03-22T19:33:38.002Z"
   },
   {
    "duration": 267,
    "start_time": "2022-03-22T19:33:38.097Z"
   },
   {
    "duration": 47,
    "start_time": "2022-03-22T19:33:38.374Z"
   },
   {
    "duration": 16,
    "start_time": "2022-03-22T19:33:38.423Z"
   },
   {
    "duration": 37,
    "start_time": "2022-03-22T19:33:38.441Z"
   },
   {
    "duration": 73,
    "start_time": "2022-03-22T19:33:38.481Z"
   },
   {
    "duration": 45,
    "start_time": "2022-03-22T19:33:38.573Z"
   },
   {
    "duration": 126,
    "start_time": "2022-03-22T19:33:38.677Z"
   },
   {
    "duration": 189,
    "start_time": "2022-03-22T19:33:38.805Z"
   },
   {
    "duration": 79,
    "start_time": "2022-03-22T19:33:38.997Z"
   },
   {
    "duration": 97,
    "start_time": "2022-03-22T19:33:39.079Z"
   },
   {
    "duration": 172,
    "start_time": "2022-03-22T19:33:39.179Z"
   },
   {
    "duration": 0,
    "start_time": "2022-03-22T19:33:39.353Z"
   },
   {
    "duration": 0,
    "start_time": "2022-03-22T19:33:39.354Z"
   },
   {
    "duration": 0,
    "start_time": "2022-03-22T19:33:39.357Z"
   },
   {
    "duration": 0,
    "start_time": "2022-03-22T19:33:39.358Z"
   },
   {
    "duration": 0,
    "start_time": "2022-03-22T19:33:39.359Z"
   },
   {
    "duration": 23,
    "start_time": "2022-03-22T19:33:55.192Z"
   },
   {
    "duration": 2332,
    "start_time": "2022-03-22T19:34:02.479Z"
   },
   {
    "duration": 659,
    "start_time": "2022-03-22T19:34:04.814Z"
   },
   {
    "duration": 5,
    "start_time": "2022-03-22T19:34:05.476Z"
   },
   {
    "duration": 397,
    "start_time": "2022-03-22T19:34:05.485Z"
   },
   {
    "duration": 61,
    "start_time": "2022-03-22T19:34:05.885Z"
   },
   {
    "duration": 48,
    "start_time": "2022-03-22T19:34:05.949Z"
   },
   {
    "duration": 19,
    "start_time": "2022-03-22T19:34:05.999Z"
   },
   {
    "duration": 118,
    "start_time": "2022-03-22T19:34:06.021Z"
   },
   {
    "duration": 293,
    "start_time": "2022-03-22T19:34:06.142Z"
   },
   {
    "duration": 59,
    "start_time": "2022-03-22T19:34:06.439Z"
   },
   {
    "duration": 15,
    "start_time": "2022-03-22T19:34:06.501Z"
   },
   {
    "duration": 19,
    "start_time": "2022-03-22T19:34:06.519Z"
   },
   {
    "duration": 89,
    "start_time": "2022-03-22T19:34:06.541Z"
   },
   {
    "duration": 279,
    "start_time": "2022-03-22T19:34:06.633Z"
   },
   {
    "duration": 68,
    "start_time": "2022-03-22T19:34:06.915Z"
   },
   {
    "duration": 14,
    "start_time": "2022-03-22T19:34:06.985Z"
   },
   {
    "duration": 38,
    "start_time": "2022-03-22T19:34:07.002Z"
   },
   {
    "duration": 88,
    "start_time": "2022-03-22T19:34:07.042Z"
   },
   {
    "duration": 54,
    "start_time": "2022-03-22T19:34:07.132Z"
   },
   {
    "duration": 127,
    "start_time": "2022-03-22T19:34:07.274Z"
   },
   {
    "duration": 197,
    "start_time": "2022-03-22T19:34:07.406Z"
   },
   {
    "duration": 9,
    "start_time": "2022-03-22T19:34:07.676Z"
   },
   {
    "duration": 7,
    "start_time": "2022-03-22T19:34:07.774Z"
   },
   {
    "duration": 257,
    "start_time": "2022-03-22T19:34:07.784Z"
   },
   {
    "duration": 0,
    "start_time": "2022-03-22T19:34:08.044Z"
   },
   {
    "duration": 0,
    "start_time": "2022-03-22T19:34:08.045Z"
   },
   {
    "duration": 0,
    "start_time": "2022-03-22T19:34:08.047Z"
   },
   {
    "duration": 0,
    "start_time": "2022-03-22T19:34:08.049Z"
   },
   {
    "duration": 0,
    "start_time": "2022-03-22T19:34:08.051Z"
   },
   {
    "duration": 7,
    "start_time": "2022-03-22T19:49:05.579Z"
   },
   {
    "duration": 22,
    "start_time": "2022-03-22T19:49:11.215Z"
   },
   {
    "duration": 23,
    "start_time": "2022-03-22T19:52:57.967Z"
   },
   {
    "duration": 1837,
    "start_time": "2022-03-22T19:53:04.816Z"
   },
   {
    "duration": 449,
    "start_time": "2022-03-22T19:53:06.657Z"
   },
   {
    "duration": 3,
    "start_time": "2022-03-22T19:53:07.109Z"
   },
   {
    "duration": 297,
    "start_time": "2022-03-22T19:53:07.115Z"
   },
   {
    "duration": 48,
    "start_time": "2022-03-22T19:53:07.414Z"
   },
   {
    "duration": 19,
    "start_time": "2022-03-22T19:53:07.474Z"
   },
   {
    "duration": 15,
    "start_time": "2022-03-22T19:53:07.496Z"
   },
   {
    "duration": 113,
    "start_time": "2022-03-22T19:53:07.514Z"
   },
   {
    "duration": 284,
    "start_time": "2022-03-22T19:53:07.629Z"
   },
   {
    "duration": 59,
    "start_time": "2022-03-22T19:53:07.917Z"
   },
   {
    "duration": 15,
    "start_time": "2022-03-22T19:53:07.979Z"
   },
   {
    "duration": 17,
    "start_time": "2022-03-22T19:53:07.996Z"
   },
   {
    "duration": 96,
    "start_time": "2022-03-22T19:53:08.016Z"
   },
   {
    "duration": 301,
    "start_time": "2022-03-22T19:53:08.115Z"
   },
   {
    "duration": 59,
    "start_time": "2022-03-22T19:53:08.418Z"
   },
   {
    "duration": 16,
    "start_time": "2022-03-22T19:53:08.480Z"
   },
   {
    "duration": 18,
    "start_time": "2022-03-22T19:53:08.498Z"
   },
   {
    "duration": 110,
    "start_time": "2022-03-22T19:53:08.519Z"
   },
   {
    "duration": 49,
    "start_time": "2022-03-22T19:53:08.631Z"
   },
   {
    "duration": 221,
    "start_time": "2022-03-22T19:53:08.684Z"
   },
   {
    "duration": 127,
    "start_time": "2022-03-22T19:53:08.976Z"
   },
   {
    "duration": 169,
    "start_time": "2022-03-22T19:53:09.106Z"
   },
   {
    "duration": 7,
    "start_time": "2022-03-22T19:53:09.278Z"
   },
   {
    "duration": 181,
    "start_time": "2022-03-22T19:53:09.287Z"
   },
   {
    "duration": 0,
    "start_time": "2022-03-22T19:53:09.471Z"
   },
   {
    "duration": 0,
    "start_time": "2022-03-22T19:53:09.473Z"
   },
   {
    "duration": 0,
    "start_time": "2022-03-22T19:53:09.475Z"
   },
   {
    "duration": 0,
    "start_time": "2022-03-22T19:53:09.476Z"
   },
   {
    "duration": 0,
    "start_time": "2022-03-22T19:53:09.477Z"
   },
   {
    "duration": 21,
    "start_time": "2022-03-22T19:55:52.257Z"
   },
   {
    "duration": 1897,
    "start_time": "2022-03-22T19:56:00.573Z"
   },
   {
    "duration": 440,
    "start_time": "2022-03-22T19:56:02.473Z"
   },
   {
    "duration": 5,
    "start_time": "2022-03-22T19:56:02.915Z"
   },
   {
    "duration": 308,
    "start_time": "2022-03-22T19:56:02.923Z"
   },
   {
    "duration": 61,
    "start_time": "2022-03-22T19:56:03.234Z"
   },
   {
    "duration": 18,
    "start_time": "2022-03-22T19:56:03.298Z"
   },
   {
    "duration": 15,
    "start_time": "2022-03-22T19:56:03.318Z"
   },
   {
    "duration": 102,
    "start_time": "2022-03-22T19:56:03.336Z"
   },
   {
    "duration": 294,
    "start_time": "2022-03-22T19:56:03.441Z"
   },
   {
    "duration": 59,
    "start_time": "2022-03-22T19:56:03.739Z"
   },
   {
    "duration": 15,
    "start_time": "2022-03-22T19:56:03.800Z"
   },
   {
    "duration": 19,
    "start_time": "2022-03-22T19:56:03.818Z"
   },
   {
    "duration": 92,
    "start_time": "2022-03-22T19:56:03.840Z"
   },
   {
    "duration": 291,
    "start_time": "2022-03-22T19:56:03.935Z"
   },
   {
    "duration": 63,
    "start_time": "2022-03-22T19:56:04.229Z"
   },
   {
    "duration": 16,
    "start_time": "2022-03-22T19:56:04.294Z"
   },
   {
    "duration": 16,
    "start_time": "2022-03-22T19:56:04.313Z"
   },
   {
    "duration": 104,
    "start_time": "2022-03-22T19:56:04.331Z"
   },
   {
    "duration": 58,
    "start_time": "2022-03-22T19:56:04.437Z"
   },
   {
    "duration": 131,
    "start_time": "2022-03-22T19:56:04.577Z"
   },
   {
    "duration": 129,
    "start_time": "2022-03-22T19:56:04.775Z"
   },
   {
    "duration": 8,
    "start_time": "2022-03-22T19:56:04.975Z"
   },
   {
    "duration": 9,
    "start_time": "2022-03-22T19:56:05.075Z"
   },
   {
    "duration": 173,
    "start_time": "2022-03-22T19:56:05.086Z"
   },
   {
    "duration": 0,
    "start_time": "2022-03-22T19:56:05.261Z"
   },
   {
    "duration": 0,
    "start_time": "2022-03-22T19:56:05.263Z"
   },
   {
    "duration": 0,
    "start_time": "2022-03-22T19:56:05.274Z"
   },
   {
    "duration": 0,
    "start_time": "2022-03-22T19:56:05.276Z"
   },
   {
    "duration": 0,
    "start_time": "2022-03-22T19:56:05.277Z"
   },
   {
    "duration": 13,
    "start_time": "2022-03-22T20:09:41.089Z"
   },
   {
    "duration": 1918,
    "start_time": "2022-03-22T20:09:57.522Z"
   },
   {
    "duration": 551,
    "start_time": "2022-03-22T20:09:59.443Z"
   },
   {
    "duration": 4,
    "start_time": "2022-03-22T20:09:59.996Z"
   },
   {
    "duration": 307,
    "start_time": "2022-03-22T20:10:00.003Z"
   },
   {
    "duration": 48,
    "start_time": "2022-03-22T20:10:00.313Z"
   },
   {
    "duration": 17,
    "start_time": "2022-03-22T20:10:00.364Z"
   },
   {
    "duration": 13,
    "start_time": "2022-03-22T20:10:00.383Z"
   },
   {
    "duration": 93,
    "start_time": "2022-03-22T20:10:00.398Z"
   },
   {
    "duration": 410,
    "start_time": "2022-03-22T20:10:00.495Z"
   },
   {
    "duration": 104,
    "start_time": "2022-03-22T20:10:00.911Z"
   },
   {
    "duration": 15,
    "start_time": "2022-03-22T20:10:01.017Z"
   },
   {
    "duration": 39,
    "start_time": "2022-03-22T20:10:01.035Z"
   },
   {
    "duration": 75,
    "start_time": "2022-03-22T20:10:01.076Z"
   },
   {
    "duration": 288,
    "start_time": "2022-03-22T20:10:01.154Z"
   },
   {
    "duration": 63,
    "start_time": "2022-03-22T20:10:01.444Z"
   },
   {
    "duration": 16,
    "start_time": "2022-03-22T20:10:01.509Z"
   },
   {
    "duration": 28,
    "start_time": "2022-03-22T20:10:01.528Z"
   },
   {
    "duration": 88,
    "start_time": "2022-03-22T20:10:01.558Z"
   },
   {
    "duration": 125,
    "start_time": "2022-03-22T20:10:01.649Z"
   },
   {
    "duration": 197,
    "start_time": "2022-03-22T20:10:01.777Z"
   },
   {
    "duration": 195,
    "start_time": "2022-03-22T20:10:01.978Z"
   },
   {
    "duration": 97,
    "start_time": "2022-03-22T20:10:02.177Z"
   },
   {
    "duration": 10,
    "start_time": "2022-03-22T20:10:02.276Z"
   },
   {
    "duration": 181,
    "start_time": "2022-03-22T20:10:02.287Z"
   },
   {
    "duration": 0,
    "start_time": "2022-03-22T20:10:02.470Z"
   },
   {
    "duration": 0,
    "start_time": "2022-03-22T20:10:02.474Z"
   },
   {
    "duration": 0,
    "start_time": "2022-03-22T20:10:02.476Z"
   },
   {
    "duration": 0,
    "start_time": "2022-03-22T20:10:02.477Z"
   },
   {
    "duration": 0,
    "start_time": "2022-03-22T20:10:02.479Z"
   },
   {
    "duration": 4,
    "start_time": "2022-03-22T20:10:16.539Z"
   },
   {
    "duration": 3,
    "start_time": "2022-03-22T20:10:17.574Z"
   },
   {
    "duration": 7,
    "start_time": "2022-03-22T20:10:18.035Z"
   },
   {
    "duration": 13,
    "start_time": "2022-03-22T20:10:18.540Z"
   },
   {
    "duration": 20,
    "start_time": "2022-03-22T20:10:39.789Z"
   },
   {
    "duration": 23,
    "start_time": "2022-03-22T20:11:43.941Z"
   },
   {
    "duration": 1866,
    "start_time": "2022-03-22T20:11:50.880Z"
   },
   {
    "duration": 449,
    "start_time": "2022-03-22T20:11:52.749Z"
   },
   {
    "duration": 4,
    "start_time": "2022-03-22T20:11:53.200Z"
   },
   {
    "duration": 292,
    "start_time": "2022-03-22T20:11:53.207Z"
   },
   {
    "duration": 52,
    "start_time": "2022-03-22T20:11:53.501Z"
   },
   {
    "duration": 29,
    "start_time": "2022-03-22T20:11:53.555Z"
   },
   {
    "duration": 16,
    "start_time": "2022-03-22T20:11:53.586Z"
   },
   {
    "duration": 105,
    "start_time": "2022-03-22T20:11:53.605Z"
   },
   {
    "duration": 281,
    "start_time": "2022-03-22T20:11:53.712Z"
   },
   {
    "duration": 47,
    "start_time": "2022-03-22T20:11:53.997Z"
   },
   {
    "duration": 36,
    "start_time": "2022-03-22T20:11:54.046Z"
   },
   {
    "duration": 18,
    "start_time": "2022-03-22T20:11:54.084Z"
   },
   {
    "duration": 86,
    "start_time": "2022-03-22T20:11:54.104Z"
   },
   {
    "duration": 275,
    "start_time": "2022-03-22T20:11:54.192Z"
   },
   {
    "duration": 46,
    "start_time": "2022-03-22T20:11:54.473Z"
   },
   {
    "duration": 17,
    "start_time": "2022-03-22T20:11:54.521Z"
   },
   {
    "duration": 40,
    "start_time": "2022-03-22T20:11:54.540Z"
   },
   {
    "duration": 94,
    "start_time": "2022-03-22T20:11:54.582Z"
   },
   {
    "duration": 99,
    "start_time": "2022-03-22T20:11:54.678Z"
   },
   {
    "duration": 125,
    "start_time": "2022-03-22T20:11:54.781Z"
   },
   {
    "duration": 194,
    "start_time": "2022-03-22T20:11:54.979Z"
   },
   {
    "duration": 97,
    "start_time": "2022-03-22T20:11:55.177Z"
   },
   {
    "duration": 8,
    "start_time": "2022-03-22T20:11:55.276Z"
   },
   {
    "duration": 176,
    "start_time": "2022-03-22T20:11:55.286Z"
   },
   {
    "duration": 0,
    "start_time": "2022-03-22T20:11:55.464Z"
   },
   {
    "duration": 0,
    "start_time": "2022-03-22T20:11:55.474Z"
   },
   {
    "duration": 0,
    "start_time": "2022-03-22T20:11:55.475Z"
   },
   {
    "duration": 0,
    "start_time": "2022-03-22T20:11:55.478Z"
   },
   {
    "duration": 0,
    "start_time": "2022-03-22T20:11:55.480Z"
   },
   {
    "duration": 24,
    "start_time": "2022-03-22T20:12:16.485Z"
   },
   {
    "duration": 2008,
    "start_time": "2022-03-22T20:12:24.810Z"
   },
   {
    "duration": 474,
    "start_time": "2022-03-22T20:12:26.820Z"
   },
   {
    "duration": 4,
    "start_time": "2022-03-22T20:12:27.296Z"
   },
   {
    "duration": 308,
    "start_time": "2022-03-22T20:12:27.303Z"
   },
   {
    "duration": 63,
    "start_time": "2022-03-22T20:12:27.614Z"
   },
   {
    "duration": 18,
    "start_time": "2022-03-22T20:12:27.680Z"
   },
   {
    "duration": 16,
    "start_time": "2022-03-22T20:12:27.701Z"
   },
   {
    "duration": 119,
    "start_time": "2022-03-22T20:12:27.720Z"
   },
   {
    "duration": 299,
    "start_time": "2022-03-22T20:12:27.841Z"
   },
   {
    "duration": 67,
    "start_time": "2022-03-22T20:12:28.146Z"
   },
   {
    "duration": 15,
    "start_time": "2022-03-22T20:12:28.216Z"
   },
   {
    "duration": 15,
    "start_time": "2022-03-22T20:12:28.233Z"
   },
   {
    "duration": 99,
    "start_time": "2022-03-22T20:12:28.251Z"
   },
   {
    "duration": 345,
    "start_time": "2022-03-22T20:12:28.353Z"
   },
   {
    "duration": 51,
    "start_time": "2022-03-22T20:12:28.701Z"
   },
   {
    "duration": 17,
    "start_time": "2022-03-22T20:12:28.775Z"
   },
   {
    "duration": 17,
    "start_time": "2022-03-22T20:12:28.795Z"
   },
   {
    "duration": 127,
    "start_time": "2022-03-22T20:12:28.814Z"
   },
   {
    "duration": 50,
    "start_time": "2022-03-22T20:12:28.944Z"
   },
   {
    "duration": 212,
    "start_time": "2022-03-22T20:12:28.997Z"
   },
   {
    "duration": 265,
    "start_time": "2022-03-22T20:12:29.211Z"
   },
   {
    "duration": 12,
    "start_time": "2022-03-22T20:12:29.479Z"
   },
   {
    "duration": 8,
    "start_time": "2022-03-22T20:12:29.575Z"
   },
   {
    "duration": 195,
    "start_time": "2022-03-22T20:12:29.586Z"
   },
   {
    "duration": 0,
    "start_time": "2022-03-22T20:12:29.784Z"
   },
   {
    "duration": 0,
    "start_time": "2022-03-22T20:12:29.785Z"
   },
   {
    "duration": 0,
    "start_time": "2022-03-22T20:12:29.787Z"
   },
   {
    "duration": 0,
    "start_time": "2022-03-22T20:12:29.789Z"
   },
   {
    "duration": 0,
    "start_time": "2022-03-22T20:12:29.791Z"
   },
   {
    "duration": 12,
    "start_time": "2022-03-22T20:14:28.581Z"
   },
   {
    "duration": 26,
    "start_time": "2022-03-22T20:15:19.771Z"
   },
   {
    "duration": 21,
    "start_time": "2022-03-22T20:15:30.345Z"
   },
   {
    "duration": 18,
    "start_time": "2022-03-22T20:15:42.355Z"
   },
   {
    "duration": 23,
    "start_time": "2022-03-22T20:16:06.592Z"
   },
   {
    "duration": 29,
    "start_time": "2022-03-22T20:16:32.527Z"
   },
   {
    "duration": 30,
    "start_time": "2022-03-22T20:18:03.309Z"
   },
   {
    "duration": 22,
    "start_time": "2022-03-22T20:19:14.715Z"
   },
   {
    "duration": 18,
    "start_time": "2022-03-22T20:34:20.902Z"
   },
   {
    "duration": 1896,
    "start_time": "2022-03-22T20:34:45.450Z"
   },
   {
    "duration": 443,
    "start_time": "2022-03-22T20:34:47.348Z"
   },
   {
    "duration": 4,
    "start_time": "2022-03-22T20:34:47.793Z"
   },
   {
    "duration": 292,
    "start_time": "2022-03-22T20:34:47.800Z"
   },
   {
    "duration": 50,
    "start_time": "2022-03-22T20:34:48.094Z"
   },
   {
    "duration": 33,
    "start_time": "2022-03-22T20:34:48.146Z"
   },
   {
    "duration": 14,
    "start_time": "2022-03-22T20:34:48.181Z"
   },
   {
    "duration": 104,
    "start_time": "2022-03-22T20:34:48.198Z"
   },
   {
    "duration": 286,
    "start_time": "2022-03-22T20:34:48.304Z"
   },
   {
    "duration": 47,
    "start_time": "2022-03-22T20:34:48.594Z"
   },
   {
    "duration": 33,
    "start_time": "2022-03-22T20:34:48.643Z"
   },
   {
    "duration": 14,
    "start_time": "2022-03-22T20:34:48.678Z"
   },
   {
    "duration": 94,
    "start_time": "2022-03-22T20:34:48.694Z"
   },
   {
    "duration": 265,
    "start_time": "2022-03-22T20:34:48.790Z"
   },
   {
    "duration": 55,
    "start_time": "2022-03-22T20:34:49.057Z"
   },
   {
    "duration": 14,
    "start_time": "2022-03-22T20:34:49.115Z"
   },
   {
    "duration": 16,
    "start_time": "2022-03-22T20:34:49.131Z"
   },
   {
    "duration": 71,
    "start_time": "2022-03-22T20:34:49.174Z"
   },
   {
    "duration": 131,
    "start_time": "2022-03-22T20:34:49.247Z"
   },
   {
    "duration": 127,
    "start_time": "2022-03-22T20:34:49.381Z"
   },
   {
    "duration": 200,
    "start_time": "2022-03-22T20:34:49.574Z"
   },
   {
    "duration": 95,
    "start_time": "2022-03-22T20:34:49.782Z"
   },
   {
    "duration": 9,
    "start_time": "2022-03-22T20:34:49.879Z"
   },
   {
    "duration": 25,
    "start_time": "2022-03-22T20:34:49.890Z"
   },
   {
    "duration": 189,
    "start_time": "2022-03-22T20:34:49.917Z"
   },
   {
    "duration": 0,
    "start_time": "2022-03-22T20:34:50.109Z"
   },
   {
    "duration": 0,
    "start_time": "2022-03-22T20:34:50.110Z"
   },
   {
    "duration": 0,
    "start_time": "2022-03-22T20:34:50.112Z"
   },
   {
    "duration": 0,
    "start_time": "2022-03-22T20:34:50.113Z"
   },
   {
    "duration": 16,
    "start_time": "2022-03-22T20:34:58.944Z"
   },
   {
    "duration": 1652,
    "start_time": "2022-03-22T20:35:28.629Z"
   },
   {
    "duration": 1485,
    "start_time": "2022-03-22T20:36:28.178Z"
   },
   {
    "duration": 1465,
    "start_time": "2022-03-22T20:37:36.637Z"
   },
   {
    "duration": 1697,
    "start_time": "2022-03-22T20:40:51.746Z"
   },
   {
    "duration": 2264,
    "start_time": "2022-03-22T20:41:16.730Z"
   },
   {
    "duration": 2541,
    "start_time": "2022-03-22T20:41:59.005Z"
   },
   {
    "duration": 1547,
    "start_time": "2022-03-22T20:42:36.687Z"
   },
   {
    "duration": 1452,
    "start_time": "2022-03-22T20:43:09.125Z"
   },
   {
    "duration": 2294,
    "start_time": "2022-03-22T20:43:33.950Z"
   },
   {
    "duration": 1515,
    "start_time": "2022-03-22T20:44:12.870Z"
   },
   {
    "duration": 1496,
    "start_time": "2022-03-22T20:44:27.397Z"
   },
   {
    "duration": 2274,
    "start_time": "2022-03-22T20:45:21.290Z"
   },
   {
    "duration": 4,
    "start_time": "2022-03-22T20:45:50.785Z"
   },
   {
    "duration": 1565,
    "start_time": "2022-03-22T20:52:15.436Z"
   },
   {
    "duration": 1518,
    "start_time": "2022-03-22T20:52:46.636Z"
   },
   {
    "duration": 1477,
    "start_time": "2022-03-22T20:53:04.031Z"
   },
   {
    "duration": 1499,
    "start_time": "2022-03-22T20:53:49.183Z"
   },
   {
    "duration": 2227,
    "start_time": "2022-03-22T20:54:19.595Z"
   },
   {
    "duration": 2239,
    "start_time": "2022-03-22T20:54:34.546Z"
   },
   {
    "duration": 31,
    "start_time": "2022-03-22T20:55:19.244Z"
   },
   {
    "duration": 2274,
    "start_time": "2022-03-22T20:55:57.621Z"
   },
   {
    "duration": 1462,
    "start_time": "2022-03-22T20:57:02.795Z"
   },
   {
    "duration": 2322,
    "start_time": "2022-03-22T20:57:15.511Z"
   },
   {
    "duration": 5,
    "start_time": "2022-03-22T21:01:48.778Z"
   },
   {
    "duration": 33,
    "start_time": "2022-03-22T21:23:19.936Z"
   },
   {
    "duration": 35,
    "start_time": "2022-03-22T21:23:23.376Z"
   },
   {
    "duration": 42,
    "start_time": "2022-03-22T21:23:25.728Z"
   },
   {
    "duration": 2183,
    "start_time": "2022-03-22T21:47:58.180Z"
   },
   {
    "duration": 571,
    "start_time": "2022-03-22T21:48:00.366Z"
   },
   {
    "duration": 4,
    "start_time": "2022-03-22T21:48:00.940Z"
   },
   {
    "duration": 309,
    "start_time": "2022-03-22T21:48:00.946Z"
   },
   {
    "duration": 54,
    "start_time": "2022-03-22T21:48:01.257Z"
   },
   {
    "duration": 17,
    "start_time": "2022-03-22T21:48:01.313Z"
   },
   {
    "duration": 37,
    "start_time": "2022-03-22T21:48:01.332Z"
   },
   {
    "duration": 84,
    "start_time": "2022-03-22T21:48:01.371Z"
   },
   {
    "duration": 284,
    "start_time": "2022-03-22T21:48:01.458Z"
   },
   {
    "duration": 65,
    "start_time": "2022-03-22T21:48:01.747Z"
   },
   {
    "duration": 14,
    "start_time": "2022-03-22T21:48:01.814Z"
   },
   {
    "duration": 19,
    "start_time": "2022-03-22T21:48:01.830Z"
   },
   {
    "duration": 87,
    "start_time": "2022-03-22T21:48:01.851Z"
   },
   {
    "duration": 274,
    "start_time": "2022-03-22T21:48:01.940Z"
   },
   {
    "duration": 59,
    "start_time": "2022-03-22T21:48:02.216Z"
   },
   {
    "duration": 15,
    "start_time": "2022-03-22T21:48:02.277Z"
   },
   {
    "duration": 15,
    "start_time": "2022-03-22T21:48:02.294Z"
   },
   {
    "duration": 101,
    "start_time": "2022-03-22T21:48:02.311Z"
   },
   {
    "duration": 63,
    "start_time": "2022-03-22T21:48:02.415Z"
   },
   {
    "duration": 219,
    "start_time": "2022-03-22T21:48:02.481Z"
   },
   {
    "duration": 195,
    "start_time": "2022-03-22T21:48:02.704Z"
   },
   {
    "duration": 7,
    "start_time": "2022-03-22T21:48:02.975Z"
   },
   {
    "duration": 8,
    "start_time": "2022-03-22T21:48:03.075Z"
   },
   {
    "duration": 23,
    "start_time": "2022-03-22T21:48:03.085Z"
   },
   {
    "duration": 1499,
    "start_time": "2022-03-22T21:48:03.110Z"
   },
   {
    "duration": 1427,
    "start_time": "2022-03-22T21:48:04.611Z"
   },
   {
    "duration": 1420,
    "start_time": "2022-03-22T21:48:06.040Z"
   },
   {
    "duration": 1587,
    "start_time": "2022-03-23T10:40:32.558Z"
   },
   {
    "duration": 367,
    "start_time": "2022-03-23T10:40:34.147Z"
   },
   {
    "duration": 3,
    "start_time": "2022-03-23T10:40:34.516Z"
   },
   {
    "duration": 197,
    "start_time": "2022-03-23T10:40:34.521Z"
   },
   {
    "duration": 48,
    "start_time": "2022-03-23T10:40:34.720Z"
   },
   {
    "duration": 11,
    "start_time": "2022-03-23T10:40:34.770Z"
   },
   {
    "duration": 11,
    "start_time": "2022-03-23T10:40:34.783Z"
   },
   {
    "duration": 72,
    "start_time": "2022-03-23T10:40:34.795Z"
   },
   {
    "duration": 183,
    "start_time": "2022-03-23T10:40:34.868Z"
   },
   {
    "duration": 40,
    "start_time": "2022-03-23T10:40:35.054Z"
   },
   {
    "duration": 11,
    "start_time": "2022-03-23T10:40:35.096Z"
   },
   {
    "duration": 35,
    "start_time": "2022-03-23T10:40:35.109Z"
   },
   {
    "duration": 47,
    "start_time": "2022-03-23T10:40:35.146Z"
   },
   {
    "duration": 192,
    "start_time": "2022-03-23T10:40:35.194Z"
   },
   {
    "duration": 50,
    "start_time": "2022-03-23T10:40:35.388Z"
   },
   {
    "duration": 10,
    "start_time": "2022-03-23T10:40:35.440Z"
   },
   {
    "duration": 15,
    "start_time": "2022-03-23T10:40:35.452Z"
   },
   {
    "duration": 70,
    "start_time": "2022-03-23T10:40:35.468Z"
   },
   {
    "duration": 32,
    "start_time": "2022-03-23T10:40:35.540Z"
   },
   {
    "duration": 179,
    "start_time": "2022-03-23T10:40:35.574Z"
   },
   {
    "duration": 194,
    "start_time": "2022-03-23T10:40:35.756Z"
   },
   {
    "duration": 85,
    "start_time": "2022-03-23T10:40:35.953Z"
   },
   {
    "duration": 103,
    "start_time": "2022-03-23T10:40:36.040Z"
   },
   {
    "duration": 19,
    "start_time": "2022-03-23T10:40:36.145Z"
   },
   {
    "duration": 950,
    "start_time": "2022-03-23T10:40:36.166Z"
   },
   {
    "duration": 921,
    "start_time": "2022-03-23T10:40:37.118Z"
   },
   {
    "duration": 939,
    "start_time": "2022-03-23T10:40:38.041Z"
   },
   {
    "duration": 3245,
    "start_time": "2022-06-20T12:39:05.797Z"
   },
   {
    "duration": 48453,
    "start_time": "2022-06-20T12:41:13.298Z"
   },
   {
    "duration": 7,
    "start_time": "2022-06-20T12:45:36.904Z"
   },
   {
    "duration": 43,
    "start_time": "2022-11-10T12:07:38.226Z"
   },
   {
    "duration": 1333,
    "start_time": "2022-11-10T12:07:56.583Z"
   },
   {
    "duration": 1506,
    "start_time": "2022-11-10T12:07:57.918Z"
   },
   {
    "duration": 3,
    "start_time": "2022-11-10T12:07:59.426Z"
   },
   {
    "duration": 190,
    "start_time": "2022-11-10T12:07:59.431Z"
   },
   {
    "duration": 38,
    "start_time": "2022-11-10T12:07:59.629Z"
   },
   {
    "duration": 12,
    "start_time": "2022-11-10T12:07:59.668Z"
   },
   {
    "duration": 10,
    "start_time": "2022-11-10T12:07:59.682Z"
   },
   {
    "duration": 75,
    "start_time": "2022-11-10T12:07:59.694Z"
   },
   {
    "duration": 182,
    "start_time": "2022-11-10T12:07:59.771Z"
   },
   {
    "duration": 40,
    "start_time": "2022-11-10T12:07:59.956Z"
   },
   {
    "duration": 10,
    "start_time": "2022-11-10T12:07:59.998Z"
   },
   {
    "duration": 53,
    "start_time": "2022-11-10T12:08:00.010Z"
   },
   {
    "duration": 51,
    "start_time": "2022-11-10T12:08:00.065Z"
   },
   {
    "duration": 170,
    "start_time": "2022-11-10T12:08:00.118Z"
   },
   {
    "duration": 45,
    "start_time": "2022-11-10T12:08:00.290Z"
   },
   {
    "duration": 10,
    "start_time": "2022-11-10T12:08:00.337Z"
   },
   {
    "duration": 29,
    "start_time": "2022-11-10T12:08:00.349Z"
   },
   {
    "duration": 62,
    "start_time": "2022-11-10T12:08:00.380Z"
   },
   {
    "duration": 28,
    "start_time": "2022-11-10T12:08:00.444Z"
   },
   {
    "duration": 124,
    "start_time": "2022-11-10T12:08:00.531Z"
   },
   {
    "duration": 118,
    "start_time": "2022-11-10T12:08:00.733Z"
   },
   {
    "duration": 80,
    "start_time": "2022-11-10T12:08:00.853Z"
   },
   {
    "duration": 118,
    "start_time": "2022-11-10T12:08:00.935Z"
   },
   {
    "duration": 37,
    "start_time": "2022-11-10T12:08:01.055Z"
   },
   {
    "duration": 1120,
    "start_time": "2022-11-10T12:08:01.093Z"
   },
   {
    "duration": 971,
    "start_time": "2022-11-10T12:08:02.214Z"
   },
   {
    "duration": 997,
    "start_time": "2022-11-10T12:08:03.186Z"
   },
   {
    "duration": 161,
    "start_time": "2022-11-10T12:09:59.584Z"
   },
   {
    "duration": 202,
    "start_time": "2022-11-10T12:11:33.264Z"
   },
   {
    "duration": 1307,
    "start_time": "2022-11-10T12:13:18.105Z"
   },
   {
    "duration": 341,
    "start_time": "2022-11-10T12:13:19.414Z"
   },
   {
    "duration": 2,
    "start_time": "2022-11-10T12:13:19.757Z"
   },
   {
    "duration": 175,
    "start_time": "2022-11-10T12:13:19.761Z"
   },
   {
    "duration": 33,
    "start_time": "2022-11-10T12:13:19.937Z"
   },
   {
    "duration": 10,
    "start_time": "2022-11-10T12:13:19.972Z"
   },
   {
    "duration": 8,
    "start_time": "2022-11-10T12:13:19.984Z"
   },
   {
    "duration": 62,
    "start_time": "2022-11-10T12:13:19.993Z"
   },
   {
    "duration": 180,
    "start_time": "2022-11-10T12:13:20.057Z"
   },
   {
    "duration": 33,
    "start_time": "2022-11-10T12:13:20.240Z"
   },
   {
    "duration": 9,
    "start_time": "2022-11-10T12:13:20.275Z"
   },
   {
    "duration": 10,
    "start_time": "2022-11-10T12:13:20.286Z"
   },
   {
    "duration": 65,
    "start_time": "2022-11-10T12:13:20.298Z"
   },
   {
    "duration": 158,
    "start_time": "2022-11-10T12:13:20.365Z"
   },
   {
    "duration": 32,
    "start_time": "2022-11-10T12:13:20.525Z"
   },
   {
    "duration": 10,
    "start_time": "2022-11-10T12:13:20.559Z"
   },
   {
    "duration": 14,
    "start_time": "2022-11-10T12:13:20.571Z"
   },
   {
    "duration": 64,
    "start_time": "2022-11-10T12:13:20.587Z"
   },
   {
    "duration": 81,
    "start_time": "2022-11-10T12:13:20.653Z"
   },
   {
    "duration": 114,
    "start_time": "2022-11-10T12:13:20.736Z"
   },
   {
    "duration": 284,
    "start_time": "2022-11-10T12:13:20.852Z"
   },
   {
    "duration": 6,
    "start_time": "2022-11-10T12:13:21.137Z"
   },
   {
    "duration": 92,
    "start_time": "2022-11-10T12:13:21.144Z"
   },
   {
    "duration": 20,
    "start_time": "2022-11-10T12:13:21.238Z"
   },
   {
    "duration": 889,
    "start_time": "2022-11-10T12:13:21.259Z"
   },
   {
    "duration": 886,
    "start_time": "2022-11-10T12:13:22.149Z"
   },
   {
    "duration": 902,
    "start_time": "2022-11-10T12:13:23.037Z"
   }
  ],
  "kernelspec": {
   "display_name": "Python 3 (ipykernel)",
   "language": "python",
   "name": "python3"
  },
  "language_info": {
   "codemirror_mode": {
    "name": "ipython",
    "version": 3
   },
   "file_extension": ".py",
   "mimetype": "text/x-python",
   "name": "python",
   "nbconvert_exporter": "python",
   "pygments_lexer": "ipython3",
   "version": "3.9.5"
  },
  "toc": {
   "base_numbering": 1,
   "nav_menu": {},
   "number_sections": true,
   "sideBar": true,
   "skip_h1_title": true,
   "title_cell": "Table of Contents",
   "title_sidebar": "Contents",
   "toc_cell": false,
   "toc_position": {},
   "toc_section_display": true,
   "toc_window_display": false
  }
 },
 "nbformat": 4,
 "nbformat_minor": 2
}
