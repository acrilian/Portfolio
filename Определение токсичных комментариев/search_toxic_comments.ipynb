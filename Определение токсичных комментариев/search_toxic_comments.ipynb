{
 "cells": [
  {
   "cell_type": "markdown",
   "metadata": {
    "toc": true
   },
   "source": [
    "<h1>Содержание<span class=\"tocSkip\"></span></h1>\n",
    "<div class=\"toc\"><ul class=\"toc-item\"><li><span><a href=\"#Подготовка\" data-toc-modified-id=\"Подготовка-1\"><span class=\"toc-item-num\">1&nbsp;&nbsp;</span>Подготовка</a></span><ul class=\"toc-item\"><li><span><a href=\"#Обзор-данных\" data-toc-modified-id=\"Обзор-данных-1.1\"><span class=\"toc-item-num\">1.1&nbsp;&nbsp;</span>Обзор данных</a></span></li><li><span><a href=\"#Анализ-данных\" data-toc-modified-id=\"Анализ-данных-1.2\"><span class=\"toc-item-num\">1.2&nbsp;&nbsp;</span>Анализ данных</a></span></li></ul></li><li><span><a href=\"#Обучение\" data-toc-modified-id=\"Обучение-2\"><span class=\"toc-item-num\">2&nbsp;&nbsp;</span>Обучение</a></span></li><li><span><a href=\"#Выводы\" data-toc-modified-id=\"Выводы-3\"><span class=\"toc-item-num\">3&nbsp;&nbsp;</span>Выводы</a></span><ul class=\"toc-item\"><li><span><a href=\"#Тестирование-модели\" data-toc-modified-id=\"Тестирование-модели-3.1\"><span class=\"toc-item-num\">3.1&nbsp;&nbsp;</span>Тестирование модели</a></span></li></ul></li></ul></div>"
   ]
  },
  {
   "cell_type": "markdown",
   "metadata": {},
   "source": [
    "# Проект для «Викишоп»"
   ]
  },
  {
   "cell_type": "markdown",
   "metadata": {},
   "source": [
    "Интернет-магазин «Викишоп» запускает новый сервис. Теперь пользователи могут редактировать и дополнять описания товаров, как в вики-сообществах. То есть клиенты предлагают свои правки и комментируют изменения других. Магазину нужен инструмент, который будет искать токсичные комментарии и отправлять их на модерацию. \n",
    "\n",
    "Обучите модель классифицировать комментарии на позитивные и негативные. В вашем распоряжении набор данных с разметкой о токсичности правок.\n",
    "\n",
    "Постройте модель со значением метрики качества *F1* не меньше 0.75. \n",
    "\n",
    "**Инструкция по выполнению проекта**\n",
    "\n",
    "1. Загрузите и подготовьте данные.\n",
    "2. Обучите разные модели. \n",
    "3. Сделайте выводы.\n",
    "\n",
    "Для выполнения проекта применять *BERT* необязательно, но вы можете попробовать.\n",
    "\n",
    "**Описание данных**\n",
    "\n",
    "Данные находятся в файле `toxic_comments.csv`. Столбец *text* в нём содержит текст комментария, а *toxic* — целевой признак."
   ]
  },
  {
   "cell_type": "markdown",
   "metadata": {},
   "source": [
    "## Подготовка"
   ]
  },
  {
   "cell_type": "markdown",
   "metadata": {},
   "source": [
    "### Обзор данных"
   ]
  },
  {
   "cell_type": "code",
   "execution_count": 1,
   "metadata": {},
   "outputs": [
    {
     "name": "stderr",
     "output_type": "stream",
     "text": [
      "[nltk_data] Downloading package stopwords to /home/jovyan/nltk_data...\n",
      "[nltk_data]   Package stopwords is already up-to-date!\n",
      "[nltk_data] Downloading package wordnet to /home/jovyan/nltk_data...\n",
      "[nltk_data]   Package wordnet is already up-to-date!\n",
      "[nltk_data] Downloading package punkt to /home/jovyan/nltk_data...\n",
      "[nltk_data]   Package punkt is already up-to-date!\n"
     ]
    }
   ],
   "source": [
    "# импорт библиотек\n",
    "import pandas as pd\n",
    "import numpy as np\n",
    "import matplotlib.pyplot as plt\n",
    "from nltk.corpus import stopwords as nltk_stopwords\n",
    "import nltk\n",
    "from nltk.stem import WordNetLemmatizer\n",
    "from sklearn.feature_extraction.text import TfidfVectorizer\n",
    "from sklearn.linear_model import LogisticRegression\n",
    "from sklearn.linear_model import RidgeClassifier\n",
    "from sklearn.svm import LinearSVC\n",
    "from sklearn.metrics import f1_score\n",
    "from sklearn.model_selection import train_test_split\n",
    "from sklearn.pipeline import Pipeline\n",
    "from sklearn.model_selection import StratifiedKFold\n",
    "from sklearn.model_selection import TimeSeriesSplit\n",
    "from sklearn.feature_extraction.text import CountVectorizer \n",
    "import string\n",
    "from nltk import word_tokenize, pos_tag\n",
    "import re\n",
    "from itertools import product\n",
    "import warnings\n",
    "from joblib import dump, load\n",
    "from nltk.tokenize import sent_tokenize\n",
    "import gc\n",
    "from tqdm import tqdm, tqdm_notebook, notebook\n",
    "nltk.download('stopwords')\n",
    "nltk.download('wordnet')\n",
    "nltk.download('punkt')\n",
    "warnings.filterwarnings('ignore')\n",
    "\n",
    "# зафиксируем псевдослучайность \n",
    "rnd_state = 12345"
   ]
  },
  {
   "cell_type": "code",
   "execution_count": 2,
   "metadata": {},
   "outputs": [],
   "source": [
    "# загрузим данные\n",
    "data = pd.read_csv('/datasets/toxic_comments.csv')"
   ]
  },
  {
   "cell_type": "code",
   "execution_count": 3,
   "metadata": {},
   "outputs": [
    {
     "data": {
      "text/html": [
       "<div>\n",
       "<style scoped>\n",
       "    .dataframe tbody tr th:only-of-type {\n",
       "        vertical-align: middle;\n",
       "    }\n",
       "\n",
       "    .dataframe tbody tr th {\n",
       "        vertical-align: top;\n",
       "    }\n",
       "\n",
       "    .dataframe thead th {\n",
       "        text-align: right;\n",
       "    }\n",
       "</style>\n",
       "<table border=\"1\" class=\"dataframe\">\n",
       "  <thead>\n",
       "    <tr style=\"text-align: right;\">\n",
       "      <th></th>\n",
       "      <th>Unnamed: 0</th>\n",
       "      <th>text</th>\n",
       "      <th>toxic</th>\n",
       "    </tr>\n",
       "  </thead>\n",
       "  <tbody>\n",
       "    <tr>\n",
       "      <th>0</th>\n",
       "      <td>0</td>\n",
       "      <td>Explanation\\nWhy the edits made under my usern...</td>\n",
       "      <td>0</td>\n",
       "    </tr>\n",
       "    <tr>\n",
       "      <th>1</th>\n",
       "      <td>1</td>\n",
       "      <td>D'aww! He matches this background colour I'm s...</td>\n",
       "      <td>0</td>\n",
       "    </tr>\n",
       "    <tr>\n",
       "      <th>2</th>\n",
       "      <td>2</td>\n",
       "      <td>Hey man, I'm really not trying to edit war. It...</td>\n",
       "      <td>0</td>\n",
       "    </tr>\n",
       "    <tr>\n",
       "      <th>3</th>\n",
       "      <td>3</td>\n",
       "      <td>\"\\nMore\\nI can't make any real suggestions on ...</td>\n",
       "      <td>0</td>\n",
       "    </tr>\n",
       "    <tr>\n",
       "      <th>4</th>\n",
       "      <td>4</td>\n",
       "      <td>You, sir, are my hero. Any chance you remember...</td>\n",
       "      <td>0</td>\n",
       "    </tr>\n",
       "  </tbody>\n",
       "</table>\n",
       "</div>"
      ],
      "text/plain": [
       "   Unnamed: 0                                               text  toxic\n",
       "0           0  Explanation\\nWhy the edits made under my usern...      0\n",
       "1           1  D'aww! He matches this background colour I'm s...      0\n",
       "2           2  Hey man, I'm really not trying to edit war. It...      0\n",
       "3           3  \"\\nMore\\nI can't make any real suggestions on ...      0\n",
       "4           4  You, sir, are my hero. Any chance you remember...      0"
      ]
     },
     "execution_count": 3,
     "metadata": {},
     "output_type": "execute_result"
    }
   ],
   "source": [
    "# изучим файл\n",
    "data.head()"
   ]
  },
  {
   "cell_type": "code",
   "execution_count": 4,
   "metadata": {},
   "outputs": [
    {
     "data": {
      "text/html": [
       "<div>\n",
       "<style scoped>\n",
       "    .dataframe tbody tr th:only-of-type {\n",
       "        vertical-align: middle;\n",
       "    }\n",
       "\n",
       "    .dataframe tbody tr th {\n",
       "        vertical-align: top;\n",
       "    }\n",
       "\n",
       "    .dataframe thead th {\n",
       "        text-align: right;\n",
       "    }\n",
       "</style>\n",
       "<table border=\"1\" class=\"dataframe\">\n",
       "  <thead>\n",
       "    <tr style=\"text-align: right;\">\n",
       "      <th></th>\n",
       "      <th>Unnamed: 0</th>\n",
       "      <th>text</th>\n",
       "      <th>toxic</th>\n",
       "    </tr>\n",
       "  </thead>\n",
       "  <tbody>\n",
       "    <tr>\n",
       "      <th>109486</th>\n",
       "      <td>109583</td>\n",
       "      <td>Expert Categorizers  \\n\\nWhy is there no menti...</td>\n",
       "      <td>0</td>\n",
       "    </tr>\n",
       "    <tr>\n",
       "      <th>104980</th>\n",
       "      <td>105077</td>\n",
       "      <td>\"\\n\\n Noise \\n\\nfart*  talk. \"</td>\n",
       "      <td>1</td>\n",
       "    </tr>\n",
       "    <tr>\n",
       "      <th>82166</th>\n",
       "      <td>82244</td>\n",
       "      <td>An indefinite block is appropriate, even for a...</td>\n",
       "      <td>0</td>\n",
       "    </tr>\n",
       "    <tr>\n",
       "      <th>18721</th>\n",
       "      <td>18740</td>\n",
       "      <td>I don't understand why we have a screenshot of...</td>\n",
       "      <td>0</td>\n",
       "    </tr>\n",
       "    <tr>\n",
       "      <th>128178</th>\n",
       "      <td>128310</td>\n",
       "      <td>Hello! Some of the people, places or things yo...</td>\n",
       "      <td>0</td>\n",
       "    </tr>\n",
       "    <tr>\n",
       "      <th>108309</th>\n",
       "      <td>108406</td>\n",
       "      <td>\"::::::::::::::If you read carefully, my comme...</td>\n",
       "      <td>1</td>\n",
       "    </tr>\n",
       "    <tr>\n",
       "      <th>25259</th>\n",
       "      <td>25283</td>\n",
       "      <td>\"\\nDid you make it at WP:AE? ofShalott \"</td>\n",
       "      <td>0</td>\n",
       "    </tr>\n",
       "    <tr>\n",
       "      <th>32655</th>\n",
       "      <td>32695</td>\n",
       "      <td>know as much as he thinks.</td>\n",
       "      <td>0</td>\n",
       "    </tr>\n",
       "    <tr>\n",
       "      <th>31896</th>\n",
       "      <td>31936</td>\n",
       "      <td>Thank you for your comment and willingness to ...</td>\n",
       "      <td>0</td>\n",
       "    </tr>\n",
       "    <tr>\n",
       "      <th>20224</th>\n",
       "      <td>20244</td>\n",
       "      <td>UPDATE 3-12-06\\n\\nHEY YALL IM GOING TO BE GONE...</td>\n",
       "      <td>0</td>\n",
       "    </tr>\n",
       "  </tbody>\n",
       "</table>\n",
       "</div>"
      ],
      "text/plain": [
       "        Unnamed: 0                                               text  toxic\n",
       "109486      109583  Expert Categorizers  \\n\\nWhy is there no menti...      0\n",
       "104980      105077                     \"\\n\\n Noise \\n\\nfart*  talk. \"      1\n",
       "82166        82244  An indefinite block is appropriate, even for a...      0\n",
       "18721        18740  I don't understand why we have a screenshot of...      0\n",
       "128178      128310  Hello! Some of the people, places or things yo...      0\n",
       "108309      108406  \"::::::::::::::If you read carefully, my comme...      1\n",
       "25259        25283           \"\\nDid you make it at WP:AE? ofShalott \"      0\n",
       "32655        32695                         know as much as he thinks.      0\n",
       "31896        31936  Thank you for your comment and willingness to ...      0\n",
       "20224        20244  UPDATE 3-12-06\\n\\nHEY YALL IM GOING TO BE GONE...      0"
      ]
     },
     "execution_count": 4,
     "metadata": {},
     "output_type": "execute_result"
    }
   ],
   "source": [
    "data.sample(10, random_state=rnd_state)"
   ]
  },
  {
   "cell_type": "code",
   "execution_count": 5,
   "metadata": {},
   "outputs": [
    {
     "data": {
      "text/html": [
       "<div>\n",
       "<style scoped>\n",
       "    .dataframe tbody tr th:only-of-type {\n",
       "        vertical-align: middle;\n",
       "    }\n",
       "\n",
       "    .dataframe tbody tr th {\n",
       "        vertical-align: top;\n",
       "    }\n",
       "\n",
       "    .dataframe thead th {\n",
       "        text-align: right;\n",
       "    }\n",
       "</style>\n",
       "<table border=\"1\" class=\"dataframe\">\n",
       "  <thead>\n",
       "    <tr style=\"text-align: right;\">\n",
       "      <th></th>\n",
       "      <th>Unnamed: 0</th>\n",
       "      <th>text</th>\n",
       "      <th>toxic</th>\n",
       "    </tr>\n",
       "  </thead>\n",
       "  <tbody>\n",
       "    <tr>\n",
       "      <th>6</th>\n",
       "      <td>6</td>\n",
       "      <td>COCKSUCKER BEFORE YOU PISS AROUND ON MY WORK</td>\n",
       "      <td>1</td>\n",
       "    </tr>\n",
       "    <tr>\n",
       "      <th>12</th>\n",
       "      <td>12</td>\n",
       "      <td>Hey... what is it..\\n@ | talk .\\nWhat is it......</td>\n",
       "      <td>1</td>\n",
       "    </tr>\n",
       "    <tr>\n",
       "      <th>16</th>\n",
       "      <td>16</td>\n",
       "      <td>Bye! \\n\\nDon't look, come or think of comming ...</td>\n",
       "      <td>1</td>\n",
       "    </tr>\n",
       "    <tr>\n",
       "      <th>42</th>\n",
       "      <td>42</td>\n",
       "      <td>You are gay or antisemmitian? \\n\\nArchangel WH...</td>\n",
       "      <td>1</td>\n",
       "    </tr>\n",
       "    <tr>\n",
       "      <th>43</th>\n",
       "      <td>43</td>\n",
       "      <td>FUCK YOUR FILTHY MOTHER IN THE ASS, DRY!</td>\n",
       "      <td>1</td>\n",
       "    </tr>\n",
       "  </tbody>\n",
       "</table>\n",
       "</div>"
      ],
      "text/plain": [
       "    Unnamed: 0                                               text  toxic\n",
       "6            6       COCKSUCKER BEFORE YOU PISS AROUND ON MY WORK      1\n",
       "12          12  Hey... what is it..\\n@ | talk .\\nWhat is it......      1\n",
       "16          16  Bye! \\n\\nDon't look, come or think of comming ...      1\n",
       "42          42  You are gay or antisemmitian? \\n\\nArchangel WH...      1\n",
       "43          43           FUCK YOUR FILTHY MOTHER IN THE ASS, DRY!      1"
      ]
     },
     "execution_count": 5,
     "metadata": {},
     "output_type": "execute_result"
    }
   ],
   "source": [
    "# убедимся, что единица соответсвует токсичным комментарием\n",
    "data.query('toxic == 1').head()"
   ]
  },
  {
   "cell_type": "code",
   "execution_count": 6,
   "metadata": {},
   "outputs": [
    {
     "name": "stdout",
     "output_type": "stream",
     "text": [
      "(159292, 3)\n"
     ]
    }
   ],
   "source": [
    "# посмотрим на размер датасета\n",
    "print(data.shape)"
   ]
  },
  {
   "cell_type": "code",
   "execution_count": 7,
   "metadata": {},
   "outputs": [
    {
     "name": "stdout",
     "output_type": "stream",
     "text": [
      "<class 'pandas.core.frame.DataFrame'>\n",
      "RangeIndex: 159292 entries, 0 to 159291\n",
      "Data columns (total 3 columns):\n",
      " #   Column      Non-Null Count   Dtype \n",
      "---  ------      --------------   ----- \n",
      " 0   Unnamed: 0  159292 non-null  int64 \n",
      " 1   text        159292 non-null  object\n",
      " 2   toxic       159292 non-null  int64 \n",
      "dtypes: int64(2), object(1)\n",
      "memory usage: 3.6+ MB\n"
     ]
    }
   ],
   "source": [
    "data.info()"
   ]
  },
  {
   "cell_type": "markdown",
   "metadata": {},
   "source": [
    ">В нашем распоряжении набор данных с разметкой о токсичности правок к описанию товаров интернет-магазина «Викишоп». \n",
    "Данные находятся в файле /datasets/toxic_comments.csv.\n",
    "Столбец text содержит текст комментария, а toxic — целевой признак. В целевом признаке 1 - токсичный комментарий, 0 - обычный."
   ]
  },
  {
   "cell_type": "markdown",
   "metadata": {},
   "source": [
    "### Анализ данных"
   ]
  },
  {
   "cell_type": "code",
   "execution_count": 8,
   "metadata": {},
   "outputs": [
    {
     "data": {
      "text/plain": [
       "Unnamed: 0    0\n",
       "text          0\n",
       "toxic         0\n",
       "dtype: int64"
      ]
     },
     "execution_count": 8,
     "metadata": {},
     "output_type": "execute_result"
    }
   ],
   "source": [
    "# проверим данные на пропуски\n",
    "data.isnull().sum()"
   ]
  },
  {
   "cell_type": "code",
   "execution_count": 9,
   "metadata": {},
   "outputs": [
    {
     "data": {
      "image/png": "[encoded data removed]",
      "text/plain": [
       "<Figure size 432x288 with 1 Axes>"
      ]
     },
     "metadata": {
      "needs_background": "light"
     },
     "output_type": "display_data"
    }
   ],
   "source": [
    "# посмотрим на баланс классов, построим столбчатую диаграмму\n",
    "data['toxic'].value_counts(normalize=True).plot(kind='bar', grid=True)\n",
    "\n",
    "plt.title('Диаграмма баланса классов'+ \"\\n\")\n",
    "plt.show()"
   ]
  },
  {
   "cell_type": "markdown",
   "metadata": {},
   "source": [
    ">Классы несбалансированны, когда их соотношение далеко от 1:1. Баланс классов (англ. class balance) наблюдается, если их количество примерно равно. Проверка показала, что классы распределены неравномерно, токсичные коментарии составляют 1/9 от выборки."
   ]
  },
  {
   "cell_type": "markdown",
   "metadata": {},
   "source": [
    "Прежде чем извлечь признаки из текста, упростим его.\n",
    "\n",
    "Этапы предобработки текста:\n",
    "- Токенизация каждого текста, то есть разбиваем его на слова\n",
    "- Лемматизация, приведем к начальной словарной форме\n",
    "- Очистка от стоп-слов и ненужных символов"
   ]
  },
  {
   "cell_type": "code",
   "execution_count": 10,
   "metadata": {},
   "outputs": [],
   "source": [
    "stop_words = set(nltk_stopwords.words('english'))\n",
    "punctuation = string.punctuation \n",
    "wordnet_lemmatizer = WordNetLemmatizer()"
   ]
  },
  {
   "cell_type": "code",
   "execution_count": 11,
   "metadata": {},
   "outputs": [],
   "source": [
    "def tokenizer(text):\n",
    "    tokens = [ word for sent in sent_tokenize(text) for word in word_tokenize(sent)]\n",
    "    tokens = list(filter(lambda t: t not in punctuation, tokens)) \n",
    "    tokens = list(filter(lambda t: t.lower() not in stop_words, tokens))\n",
    "    filtered_tokens = []\n",
    "    for token in tokens: \n",
    "        if re.search('[a-zA-Z]', token): \n",
    "            filtered_tokens.append(token)\n",
    "    filtered_tokens = list(\n",
    "        map(lambda token: wordnet_lemmatizer.lemmatize(token.lower()), filtered_tokens))\n",
    "    filtered_tokens = list(filter(lambda t: t not in punctuation, filtered_tokens))\n",
    "    return ' '.join(filtered_tokens)"
   ]
  },
  {
   "cell_type": "code",
   "execution_count": 12,
   "metadata": {},
   "outputs": [
    {
     "name": "stdout",
     "output_type": "stream",
     "text": [
      "CPU times: user 2min 19s, sys: 416 ms, total: 2min 19s\n",
      "Wall time: 2min 20s\n"
     ]
    }
   ],
   "source": [
    "%%time\n",
    "data['text_clean'] = data['text'].map(tokenizer)"
   ]
  },
  {
   "cell_type": "code",
   "execution_count": 13,
   "metadata": {},
   "outputs": [],
   "source": [
    "# создадим функцию, которая разобъет данные на выборки\n",
    "def split_train_test_valid(dataframe, test_size, valid_size):\n",
    "    \n",
    "    data_train, data_test = train_test_split(\n",
    "        dataframe,\n",
    "        test_size=test_size,\n",
    "        shuffle = False,\n",
    "        \n",
    "    )\n",
    "    \n",
    "    post_split_valid_size = valid_size / (1 - test_size)\n",
    "    data_train, data_valid = train_test_split(\n",
    "        data_train,\n",
    "        test_size=post_split_valid_size,\n",
    "        shuffle =False ,\n",
    "        \n",
    "    )\n",
    "    return data_train, data_test, data_valid"
   ]
  },
  {
   "cell_type": "code",
   "execution_count": 14,
   "metadata": {},
   "outputs": [
    {
     "name": "stdout",
     "output_type": "stream",
     "text": [
      "(111503, 4) (15930, 4) (31859, 4)\n"
     ]
    }
   ],
   "source": [
    "data_train, data_test, data_valid = split_train_test_valid(data, 0.1, 0.2)\n",
    "\n",
    "print(data_train.shape, data_test.shape, data_valid.shape)"
   ]
  },
  {
   "cell_type": "markdown",
   "metadata": {},
   "source": [
    "## Обучение"
   ]
  },
  {
   "cell_type": "markdown",
   "metadata": {},
   "source": [
    "- Разобьем данные на обучающую, тестовую и валидационную выборки.\n",
    "- Разделим данные на признаки и целевые признаки.\n",
    "- Получим TF-IDF для корпуса текста.\n",
    "- Обучим разные модели.\n",
    "- Протестируем модель с лучшим показателем F1 метрики.\n",
    "\n",
    "Необходимо построить модель со значением метрики качества F1 не меньше 0.75."
   ]
  },
  {
   "cell_type": "code",
   "execution_count": 15,
   "metadata": {},
   "outputs": [],
   "source": [
    "train_corpus = data_train['text_clean'].values.astype('U')\n",
    "stopwords = set(nltk_stopwords.words('english'))\n",
    "count_tf_idf = TfidfVectorizer(stop_words=stopwords)\n",
    "\n",
    "# посчитаем TF-IDF для корпуса текстов\n",
    "tfidf_train = count_tf_idf.fit_transform(train_corpus)"
   ]
  },
  {
   "cell_type": "code",
   "execution_count": 16,
   "metadata": {},
   "outputs": [],
   "source": [
    "# определение таргета для обучения моделей\n",
    "target_train = data_train['toxic']"
   ]
  },
  {
   "cell_type": "code",
   "execution_count": null,
   "metadata": {},
   "outputs": [],
   "source": [
    "valid_target = data_valid['toxic']\n",
    "valid_corpus = data_valid['text_clean'].values.astype('U')\n",
    "tfidf_valid = count_tf_idf.transform(valid_corpus)"
   ]
  },
  {
   "cell_type": "markdown",
   "metadata": {},
   "source": [
    "- **Модель LogisticRegression**"
   ]
  },
  {
   "cell_type": "code",
   "execution_count": null,
   "metadata": {},
   "outputs": [],
   "source": [
    "%%time\n",
    "\n",
    "f1_logic = dict()\n",
    "for i in product([{'penalty':'l1'},{'penalty':'l2'}],\n",
    "              [{'max_iter':2},{ 'max_iter':5}, {'max_iter':100}]\n",
    "              ):\n",
    "    model_logic = LogisticRegression(random_state = rnd_state,**i[0],**i[1])\n",
    "    model_logic.fit(tfidf_train, target_train)\n",
    "    predicted_logic = model_logic.predict(tfidf_valid)\n",
    "    f1_logic = f1_score(valid_target, predicted_logic)\n",
    "    print('i=', i, 'f1_logic', f1_logic)"
   ]
  },
  {
   "cell_type": "code",
   "execution_count": null,
   "metadata": {},
   "outputs": [],
   "source": [
    "model = LogisticRegression(random_state=rnd_state, solver='liblinear')\n",
    "model.fit(tfidf_train, target_train)\n",
    "predicted_logic = model.predict(tfidf_valid)\n",
    "f1_logic = f1_score(valid_target, predicted_logic)\n",
    "print(f1_logic)"
   ]
  },
  {
   "cell_type": "markdown",
   "metadata": {},
   "source": [
    "- **Модель LinearSVC**"
   ]
  },
  {
   "cell_type": "code",
   "execution_count": null,
   "metadata": {},
   "outputs": [],
   "source": [
    "%%time\n",
    "\n",
    "f1_svc = dict()\n",
    "for i in product([{'C':0.1},{'C':1.0} ,{'C':2.5}],\n",
    "              [{'max_iter':5},{ 'max_iter':10}, {'max_iter':100}]\n",
    "              ):\n",
    "    model_svc = LinearSVC(random_state = rnd_state,**i[0],**i[1])\n",
    "    model_svc.fit(tfidf_train, target_train)\n",
    "    predicted_svc = model_svc.predict(tfidf_valid)\n",
    "    f1_svc = f1_score(valid_target, predicted_svc)\n",
    "    print('i=', i, 'f1_svc', f1_svc)"
   ]
  },
  {
   "cell_type": "markdown",
   "metadata": {},
   "source": [
    "- **Модель RidgeClassifier**"
   ]
  },
  {
   "cell_type": "code",
   "execution_count": null,
   "metadata": {},
   "outputs": [],
   "source": [
    "%%time\n",
    "\n",
    "model_clf = RidgeClassifier(alpha = 1, normalize = True)\n",
    "model_clf.fit(tfidf_train, target_train)\n",
    "predicted_clf = model_clf.predict(tfidf_valid)\n",
    "f1_clf = f1_score(valid_target, predicted_clf)\n",
    "f1_clf"
   ]
  },
  {
   "cell_type": "markdown",
   "metadata": {},
   "source": [
    ">Исходя из анализа: можно сделать вывод, что модель \"LinearSVC\" с параметрами i= ({'C': 1.0}, {'max_iter': 5}) f1_svc 0.7855034437520498 наиболее подходящая. Далее проведем тестирование."
   ]
  },
  {
   "cell_type": "markdown",
   "metadata": {},
   "source": [
    "## Выводы"
   ]
  },
  {
   "cell_type": "markdown",
   "metadata": {},
   "source": [
    "### Тестирование модели"
   ]
  },
  {
   "cell_type": "code",
   "execution_count": null,
   "metadata": {},
   "outputs": [],
   "source": [
    "test_target = data_test['toxic'] \n",
    "test_corpus = data_test['text_clean'].values.astype('U') \n",
    "\n",
    "tfidf_test = count_tf_idf.transform(test_corpus) \n",
    "\n",
    "best_model = LinearSVC(random_state = rnd_state,  max_iter= 5) \n",
    "\n",
    "best_model.fit(tfidf_train, target_train)\n",
    "predicted_test = best_model.predict(tfidf_test) \n",
    "f1 = f1_score(test_target, predicted_test) \n",
    "f1"
   ]
  },
  {
   "cell_type": "markdown",
   "metadata": {},
   "source": [
    ">**В ходе исследования данных получены следующие результаты:**\n",
    ">- данные были загружены и исследованы\n",
    ">- установлен дисбаланс классов, токсичные комментарии составляют 10% \n",
    ">- произведена предобработка данных (токенизация, лемматизация, очистка от стоп-слов)\n",
    ">- обучены три модели (LogisticRegression, LinearSVC, RidgeClassifier)\n",
    ">- лучший результат F1 метрики показала модель LinearSVC\n",
    ">- провели тестирование модели на тестовой выборке\n",
    ">- заданное значение метрики F1 получено"
   ]
  }
 ],
 "metadata": {
  "ExecuteTimeLog": [
   {
    "duration": 46,
    "start_time": "2022-11-10T13:26:52.423Z"
   },
   {
    "duration": 7,
    "start_time": "2022-11-10T13:27:56.163Z"
   },
   {
    "duration": 2484,
    "start_time": "2022-11-10T13:28:02.216Z"
   },
   {
    "duration": 2320,
    "start_time": "2022-11-10T13:28:04.702Z"
   },
   {
    "duration": 10,
    "start_time": "2022-11-10T13:28:07.024Z"
   },
   {
    "duration": 11,
    "start_time": "2022-11-10T13:28:07.035Z"
   },
   {
    "duration": 12,
    "start_time": "2022-11-10T13:28:07.047Z"
   },
   {
    "duration": 2,
    "start_time": "2022-11-10T13:28:08.105Z"
   },
   {
    "duration": 29,
    "start_time": "2022-11-10T13:28:09.187Z"
   },
   {
    "duration": 25,
    "start_time": "2022-11-10T13:28:11.375Z"
   },
   {
    "duration": 177,
    "start_time": "2022-11-10T13:28:12.355Z"
   },
   {
    "duration": 1590,
    "start_time": "2022-11-10T13:29:19.663Z"
   },
   {
    "duration": 789,
    "start_time": "2022-11-10T13:29:21.254Z"
   },
   {
    "duration": 10,
    "start_time": "2022-11-10T13:29:22.044Z"
   },
   {
    "duration": 10,
    "start_time": "2022-11-10T13:29:22.056Z"
   },
   {
    "duration": 18,
    "start_time": "2022-11-10T13:29:22.068Z"
   },
   {
    "duration": 2,
    "start_time": "2022-11-10T13:29:22.088Z"
   },
   {
    "duration": 49,
    "start_time": "2022-11-10T13:29:22.091Z"
   },
   {
    "duration": 22,
    "start_time": "2022-11-10T13:29:22.142Z"
   },
   {
    "duration": 172,
    "start_time": "2022-11-10T13:29:22.166Z"
   },
   {
    "duration": 5,
    "start_time": "2022-11-10T13:29:22.341Z"
   },
   {
    "duration": 8,
    "start_time": "2022-11-10T13:29:22.347Z"
   },
   {
    "duration": 139645,
    "start_time": "2022-11-10T13:29:22.356Z"
   },
   {
    "duration": 3,
    "start_time": "2022-11-10T13:31:42.003Z"
   },
   {
    "duration": 68,
    "start_time": "2022-11-10T13:31:42.007Z"
   },
   {
    "duration": 7208,
    "start_time": "2022-11-10T13:31:42.077Z"
   },
   {
    "duration": 3,
    "start_time": "2022-11-10T13:31:49.286Z"
   },
   {
    "duration": 2420,
    "start_time": "2022-11-10T13:32:33.343Z"
   },
   {
    "duration": 2290,
    "start_time": "2022-11-10T13:32:35.765Z"
   },
   {
    "duration": 10,
    "start_time": "2022-11-10T13:32:38.057Z"
   },
   {
    "duration": 15,
    "start_time": "2022-11-10T13:32:38.068Z"
   },
   {
    "duration": 14,
    "start_time": "2022-11-10T13:32:38.085Z"
   },
   {
    "duration": 3,
    "start_time": "2022-11-10T13:32:38.101Z"
   },
   {
    "duration": 41,
    "start_time": "2022-11-10T13:32:38.105Z"
   },
   {
    "duration": 26,
    "start_time": "2022-11-10T13:32:38.148Z"
   },
   {
    "duration": 187,
    "start_time": "2022-11-10T13:32:38.176Z"
   },
   {
    "duration": 6,
    "start_time": "2022-11-10T13:32:38.365Z"
   },
   {
    "duration": 4,
    "start_time": "2022-11-10T13:32:38.372Z"
   },
   {
    "duration": 140928,
    "start_time": "2022-11-10T13:32:38.377Z"
   },
   {
    "duration": 3,
    "start_time": "2022-11-10T13:34:59.307Z"
   },
   {
    "duration": 71,
    "start_time": "2022-11-10T13:34:59.312Z"
   },
   {
    "duration": 6653,
    "start_time": "2022-11-10T13:34:59.385Z"
   },
   {
    "duration": 3,
    "start_time": "2022-11-10T13:35:06.040Z"
   },
   {
    "duration": 2462,
    "start_time": "2022-11-10T13:37:24.219Z"
   },
   {
    "duration": 2342,
    "start_time": "2022-11-10T13:37:26.683Z"
   },
   {
    "duration": 12,
    "start_time": "2022-11-10T13:37:29.027Z"
   },
   {
    "duration": 10,
    "start_time": "2022-11-10T13:37:29.041Z"
   },
   {
    "duration": 14,
    "start_time": "2022-11-10T13:37:29.052Z"
   },
   {
    "duration": 3,
    "start_time": "2022-11-10T13:37:29.067Z"
   },
   {
    "duration": 32,
    "start_time": "2022-11-10T13:37:29.071Z"
   },
   {
    "duration": 46,
    "start_time": "2022-11-10T13:37:29.105Z"
   },
   {
    "duration": 188,
    "start_time": "2022-11-10T13:37:29.153Z"
   },
   {
    "duration": 6,
    "start_time": "2022-11-10T13:37:29.344Z"
   },
   {
    "duration": 6,
    "start_time": "2022-11-10T13:37:29.351Z"
   },
   {
    "duration": 141445,
    "start_time": "2022-11-10T13:37:29.358Z"
   },
   {
    "duration": 4,
    "start_time": "2022-11-10T13:39:50.804Z"
   },
   {
    "duration": 86,
    "start_time": "2022-11-10T13:39:50.810Z"
   },
   {
    "duration": 6477,
    "start_time": "2022-11-10T13:39:50.897Z"
   },
   {
    "duration": 3,
    "start_time": "2022-11-10T13:39:57.376Z"
   },
   {
    "duration": 47,
    "start_time": "2022-11-10T13:40:06.335Z"
   },
   {
    "duration": 6,
    "start_time": "2022-11-10T13:40:11.643Z"
   },
   {
    "duration": 6,
    "start_time": "2022-11-10T13:40:12.515Z"
   },
   {
    "duration": 2310,
    "start_time": "2022-11-10T13:40:20.658Z"
   },
   {
    "duration": 2418,
    "start_time": "2022-11-10T13:40:22.970Z"
   },
   {
    "duration": 10,
    "start_time": "2022-11-10T13:40:25.390Z"
   },
   {
    "duration": 26,
    "start_time": "2022-11-10T13:40:25.402Z"
   },
   {
    "duration": 31,
    "start_time": "2022-11-10T13:40:25.430Z"
   },
   {
    "duration": 3,
    "start_time": "2022-11-10T13:40:25.462Z"
   },
   {
    "duration": 39,
    "start_time": "2022-11-10T13:40:25.466Z"
   },
   {
    "duration": 31,
    "start_time": "2022-11-10T13:40:25.506Z"
   },
   {
    "duration": 202,
    "start_time": "2022-11-10T13:40:25.538Z"
   },
   {
    "duration": 6,
    "start_time": "2022-11-10T13:40:25.741Z"
   },
   {
    "duration": 6,
    "start_time": "2022-11-10T13:40:25.749Z"
   },
   {
    "duration": 139446,
    "start_time": "2022-11-10T13:40:25.757Z"
   },
   {
    "duration": 3,
    "start_time": "2022-11-10T13:42:45.205Z"
   },
   {
    "duration": 65,
    "start_time": "2022-11-10T13:42:45.210Z"
   },
   {
    "duration": 6353,
    "start_time": "2022-11-10T13:42:45.277Z"
   },
   {
    "duration": 3,
    "start_time": "2022-11-10T13:42:51.631Z"
   },
   {
    "duration": 2243,
    "start_time": "2022-11-10T13:43:11.855Z"
   },
   {
    "duration": 2366,
    "start_time": "2022-11-10T13:43:14.100Z"
   },
   {
    "duration": 10,
    "start_time": "2022-11-10T13:43:16.468Z"
   },
   {
    "duration": 12,
    "start_time": "2022-11-10T13:43:16.479Z"
   },
   {
    "duration": 12,
    "start_time": "2022-11-10T13:43:16.494Z"
   },
   {
    "duration": 3,
    "start_time": "2022-11-10T13:43:16.508Z"
   },
   {
    "duration": 48,
    "start_time": "2022-11-10T13:43:16.512Z"
   },
   {
    "duration": 28,
    "start_time": "2022-11-10T13:43:16.562Z"
   },
   {
    "duration": 197,
    "start_time": "2022-11-10T13:43:16.592Z"
   },
   {
    "duration": 6,
    "start_time": "2022-11-10T13:43:16.790Z"
   },
   {
    "duration": 16,
    "start_time": "2022-11-10T13:43:16.797Z"
   },
   {
    "duration": 141602,
    "start_time": "2022-11-10T13:43:16.814Z"
   },
   {
    "duration": 12,
    "start_time": "2022-11-10T13:45:38.418Z"
   },
   {
    "duration": 64,
    "start_time": "2022-11-10T13:45:38.432Z"
   },
   {
    "duration": 6287,
    "start_time": "2022-11-10T13:45:38.498Z"
   },
   {
    "duration": 2,
    "start_time": "2022-11-10T13:45:44.787Z"
   },
   {
    "duration": 2797,
    "start_time": "2022-11-10T13:45:59.554Z"
   },
   {
    "duration": 2539,
    "start_time": "2022-11-10T13:46:02.353Z"
   },
   {
    "duration": 12,
    "start_time": "2022-11-10T13:46:04.894Z"
   },
   {
    "duration": 21,
    "start_time": "2022-11-10T13:46:04.908Z"
   },
   {
    "duration": 15,
    "start_time": "2022-11-10T13:46:04.931Z"
   },
   {
    "duration": 9,
    "start_time": "2022-11-10T13:46:04.948Z"
   },
   {
    "duration": 43,
    "start_time": "2022-11-10T13:46:04.959Z"
   },
   {
    "duration": 45,
    "start_time": "2022-11-10T13:46:05.004Z"
   },
   {
    "duration": 181,
    "start_time": "2022-11-10T13:46:05.051Z"
   },
   {
    "duration": 6,
    "start_time": "2022-11-10T13:46:05.234Z"
   },
   {
    "duration": 8,
    "start_time": "2022-11-10T13:46:05.242Z"
   },
   {
    "duration": 140271,
    "start_time": "2022-11-10T13:46:05.251Z"
   },
   {
    "duration": 7,
    "start_time": "2022-11-10T13:48:25.524Z"
   },
   {
    "duration": 80,
    "start_time": "2022-11-10T13:48:25.533Z"
   },
   {
    "duration": 6480,
    "start_time": "2022-11-10T13:48:25.614Z"
   },
   {
    "duration": 3,
    "start_time": "2022-11-10T13:48:32.096Z"
   }
  ],
  "kernelspec": {
   "display_name": "Python 3 (ipykernel)",
   "language": "python",
   "name": "python3"
  },
  "language_info": {
   "codemirror_mode": {
    "name": "ipython",
    "version": 3
   },
   "file_extension": ".py",
   "mimetype": "text/x-python",
   "name": "python",
   "nbconvert_exporter": "python",
   "pygments_lexer": "ipython3",
   "version": "3.9.5"
  },
  "toc": {
   "base_numbering": 1,
   "nav_menu": {},
   "number_sections": true,
   "sideBar": true,
   "skip_h1_title": true,
   "title_cell": "Содержание",
   "title_sidebar": "Contents",
   "toc_cell": true,
   "toc_position": {
    "height": "calc(100% - 180px)",
    "left": "10px",
    "top": "150px",
    "width": "302.391px"
   },
   "toc_section_display": true,
   "toc_window_display": true
  }
 },
 "nbformat": 4,
 "nbformat_minor": 2
}
