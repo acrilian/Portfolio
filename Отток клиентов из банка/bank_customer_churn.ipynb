{
 "cells": [
  {
   "cell_type": "markdown",
   "metadata": {
    "toc": true
   },
   "source": [
    "<h1>Содержание<span class=\"tocSkip\"></span></h1>\n",
    "<div class=\"toc\"><ul class=\"toc-item\"><li><span><a href=\"#Подготовка-данных\" data-toc-modified-id=\"Подготовка-данных-1\"><span class=\"toc-item-num\">1&nbsp;&nbsp;</span>Подготовка данных</a></span><ul class=\"toc-item\"><li><span><a href=\"#Откроем-файл-с-данными-и-изучим-общую-информацию\" data-toc-modified-id=\"Откроем-файл-с-данными-и-изучим-общую-информацию-1.1\"><span class=\"toc-item-num\">1.1&nbsp;&nbsp;</span>Откроем файл с данными и изучим общую информацию</a></span></li><li><span><a href=\"#Явные-дубликаты\" data-toc-modified-id=\"Явные-дубликаты-1.2\"><span class=\"toc-item-num\">1.2&nbsp;&nbsp;</span>Явные дубликаты</a></span></li><li><span><a href=\"#Пропуски-значений\" data-toc-modified-id=\"Пропуски-значений-1.3\"><span class=\"toc-item-num\">1.3&nbsp;&nbsp;</span>Пропуски значений</a></span></li><li><span><a href=\"#Стиль-заголовков\" data-toc-modified-id=\"Стиль-заголовков-1.4\"><span class=\"toc-item-num\">1.4&nbsp;&nbsp;</span>Стиль заголовков</a></span></li><li><span><a href=\"#Кодирование-столбцов\" data-toc-modified-id=\"Кодирование-столбцов-1.5\"><span class=\"toc-item-num\">1.5&nbsp;&nbsp;</span>Кодирование столбцов</a></span></li><li><span><a href=\"#Вывод\" data-toc-modified-id=\"Вывод-1.6\"><span class=\"toc-item-num\">1.6&nbsp;&nbsp;</span>Вывод</a></span></li></ul></li><li><span><a href=\"#Исследование-задачи\" data-toc-modified-id=\"Исследование-задачи-2\"><span class=\"toc-item-num\">2&nbsp;&nbsp;</span>Исследование задачи</a></span><ul class=\"toc-item\"><li><span><a href=\"#Исследуем-дисбаланс-классов\" data-toc-modified-id=\"Исследуем-дисбаланс-классов-2.1\"><span class=\"toc-item-num\">2.1&nbsp;&nbsp;</span>Исследуем дисбаланс классов</a></span></li><li><span><a href=\"#Разбивка-данных-на-выборки\" data-toc-modified-id=\"Разбивка-данных-на-выборки-2.2\"><span class=\"toc-item-num\">2.2&nbsp;&nbsp;</span>Разбивка данных на выборки</a></span></li><li><span><a href=\"#Масштабирование-признаков\" data-toc-modified-id=\"Масштабирование-признаков-2.3\"><span class=\"toc-item-num\">2.3&nbsp;&nbsp;</span>Масштабирование признаков</a></span></li><li><span><a href=\"#Исследование-моделей\" data-toc-modified-id=\"Исследование-моделей-2.4\"><span class=\"toc-item-num\">2.4&nbsp;&nbsp;</span>Исследование моделей</a></span></li><li><span><a href=\"#Вывод\" data-toc-modified-id=\"Вывод-2.5\"><span class=\"toc-item-num\">2.5&nbsp;&nbsp;</span>Вывод</a></span></li></ul></li><li><span><a href=\"#Борьба-с-дисбалансом\" data-toc-modified-id=\"Борьба-с-дисбалансом-3\"><span class=\"toc-item-num\">3&nbsp;&nbsp;</span>Борьба с дисбалансом</a></span><ul class=\"toc-item\"><li><span><a href=\"#Взвешивание-классов\" data-toc-modified-id=\"Взвешивание-классов-3.1\"><span class=\"toc-item-num\">3.1&nbsp;&nbsp;</span>Взвешивание классов</a></span></li><li><span><a href=\"#Увеличение-выборки\" data-toc-modified-id=\"Увеличение-выборки-3.2\"><span class=\"toc-item-num\">3.2&nbsp;&nbsp;</span>Увеличение выборки</a></span></li><li><span><a href=\"#Уменьшение-выборки\" data-toc-modified-id=\"Уменьшение-выборки-3.3\"><span class=\"toc-item-num\">3.3&nbsp;&nbsp;</span>Уменьшение выборки</a></span></li><li><span><a href=\"#Порог-классификации\" data-toc-modified-id=\"Порог-классификации-3.4\"><span class=\"toc-item-num\">3.4&nbsp;&nbsp;</span>Порог классификации</a></span></li><li><span><a href=\"#Вывод\" data-toc-modified-id=\"Вывод-3.5\"><span class=\"toc-item-num\">3.5&nbsp;&nbsp;</span>Вывод</a></span></li></ul></li><li><span><a href=\"#Тестирование-модели\" data-toc-modified-id=\"Тестирование-модели-4\"><span class=\"toc-item-num\">4&nbsp;&nbsp;</span>Тестирование модели</a></span><ul class=\"toc-item\"><li><span><a href=\"#Вывод\" data-toc-modified-id=\"Вывод-4.1\"><span class=\"toc-item-num\">4.1&nbsp;&nbsp;</span>Вывод</a></span></li></ul></li></ul></div>"
   ]
  },
  {
   "cell_type": "markdown",
   "metadata": {},
   "source": [
    "# Отток клиентов"
   ]
  },
  {
   "cell_type": "markdown",
   "metadata": {},
   "source": [
    "Из «Бета-Банка» стали уходить клиенты. Каждый месяц. Немного, но заметно. Банковские маркетологи посчитали: сохранять текущих клиентов дешевле, чем привлекать новых.\n",
    "\n",
    "Нужно спрогнозировать, уйдёт клиент из банка в ближайшее время или нет. Вам предоставлены исторические данные о поведении клиентов и расторжении договоров с банком. \n",
    "\n",
    "Постройте модель с предельно большим значением *F1*-меры. Чтобы сдать проект успешно, нужно довести метрику до 0.59. Проверьте *F1*-меру на тестовой выборке самостоятельно.\n",
    "\n",
    "Дополнительно измеряйте *AUC-ROC*, сравнивайте её значение с *F1*-мерой.\n",
    "\n",
    "Источник данных: [https://www.kaggle.com/barelydedicated/bank-customer-churn-modeling](https://www.kaggle.com/barelydedicated/bank-customer-churn-modeling)"
   ]
  },
  {
   "cell_type": "markdown",
   "metadata": {},
   "source": [
    "## Подготовка данных"
   ]
  },
  {
   "cell_type": "markdown",
   "metadata": {},
   "source": [
    "### Откроем файл с данными и изучим общую информацию"
   ]
  },
  {
   "cell_type": "code",
   "execution_count": 1,
   "metadata": {},
   "outputs": [],
   "source": [
    "# импортируем необходимые библиотеки\n",
    "import pandas as pd\n",
    "import numpy as np \n",
    "from sklearn.tree import DecisionTreeClassifier \n",
    "from sklearn.metrics import accuracy_score\n",
    "from sklearn.model_selection import train_test_split \n",
    "from sklearn.ensemble import RandomForestClassifier\n",
    "from sklearn.linear_model import LogisticRegression \n",
    "from sklearn.preprocessing import OrdinalEncoder\n",
    "from sklearn.preprocessing import StandardScaler\n",
    "from sklearn.metrics import f1_score\n",
    "from sklearn.metrics import confusion_matrix\n",
    "from sklearn.utils import shuffle\n",
    "from sklearn.metrics import precision_score, recall_score\n",
    "from sklearn.metrics import precision_recall_curve\n",
    "import matplotlib.pyplot as plt\n",
    "from sklearn.metrics import roc_curve \n",
    "from sklearn.metrics import roc_auc_score"
   ]
  },
  {
   "cell_type": "code",
   "execution_count": 2,
   "metadata": {},
   "outputs": [
    {
     "name": "stdout",
     "output_type": "stream",
     "text": [
      "(10000, 14)\n"
     ]
    },
    {
     "data": {
      "text/html": [
       "<div>\n",
       "<style scoped>\n",
       "    .dataframe tbody tr th:only-of-type {\n",
       "        vertical-align: middle;\n",
       "    }\n",
       "\n",
       "    .dataframe tbody tr th {\n",
       "        vertical-align: top;\n",
       "    }\n",
       "\n",
       "    .dataframe thead th {\n",
       "        text-align: right;\n",
       "    }\n",
       "</style>\n",
       "<table border=\"1\" class=\"dataframe\">\n",
       "  <thead>\n",
       "    <tr style=\"text-align: right;\">\n",
       "      <th></th>\n",
       "      <th>RowNumber</th>\n",
       "      <th>CustomerId</th>\n",
       "      <th>Surname</th>\n",
       "      <th>CreditScore</th>\n",
       "      <th>Geography</th>\n",
       "      <th>Gender</th>\n",
       "      <th>Age</th>\n",
       "      <th>Tenure</th>\n",
       "      <th>Balance</th>\n",
       "      <th>NumOfProducts</th>\n",
       "      <th>HasCrCard</th>\n",
       "      <th>IsActiveMember</th>\n",
       "      <th>EstimatedSalary</th>\n",
       "      <th>Exited</th>\n",
       "    </tr>\n",
       "  </thead>\n",
       "  <tbody>\n",
       "    <tr>\n",
       "      <th>0</th>\n",
       "      <td>1</td>\n",
       "      <td>15634602</td>\n",
       "      <td>Hargrave</td>\n",
       "      <td>619</td>\n",
       "      <td>France</td>\n",
       "      <td>Female</td>\n",
       "      <td>42</td>\n",
       "      <td>2.0</td>\n",
       "      <td>0.00</td>\n",
       "      <td>1</td>\n",
       "      <td>1</td>\n",
       "      <td>1</td>\n",
       "      <td>101348.88</td>\n",
       "      <td>1</td>\n",
       "    </tr>\n",
       "    <tr>\n",
       "      <th>1</th>\n",
       "      <td>2</td>\n",
       "      <td>15647311</td>\n",
       "      <td>Hill</td>\n",
       "      <td>608</td>\n",
       "      <td>Spain</td>\n",
       "      <td>Female</td>\n",
       "      <td>41</td>\n",
       "      <td>1.0</td>\n",
       "      <td>83807.86</td>\n",
       "      <td>1</td>\n",
       "      <td>0</td>\n",
       "      <td>1</td>\n",
       "      <td>112542.58</td>\n",
       "      <td>0</td>\n",
       "    </tr>\n",
       "    <tr>\n",
       "      <th>2</th>\n",
       "      <td>3</td>\n",
       "      <td>15619304</td>\n",
       "      <td>Onio</td>\n",
       "      <td>502</td>\n",
       "      <td>France</td>\n",
       "      <td>Female</td>\n",
       "      <td>42</td>\n",
       "      <td>8.0</td>\n",
       "      <td>159660.80</td>\n",
       "      <td>3</td>\n",
       "      <td>1</td>\n",
       "      <td>0</td>\n",
       "      <td>113931.57</td>\n",
       "      <td>1</td>\n",
       "    </tr>\n",
       "    <tr>\n",
       "      <th>3</th>\n",
       "      <td>4</td>\n",
       "      <td>15701354</td>\n",
       "      <td>Boni</td>\n",
       "      <td>699</td>\n",
       "      <td>France</td>\n",
       "      <td>Female</td>\n",
       "      <td>39</td>\n",
       "      <td>1.0</td>\n",
       "      <td>0.00</td>\n",
       "      <td>2</td>\n",
       "      <td>0</td>\n",
       "      <td>0</td>\n",
       "      <td>93826.63</td>\n",
       "      <td>0</td>\n",
       "    </tr>\n",
       "    <tr>\n",
       "      <th>4</th>\n",
       "      <td>5</td>\n",
       "      <td>15737888</td>\n",
       "      <td>Mitchell</td>\n",
       "      <td>850</td>\n",
       "      <td>Spain</td>\n",
       "      <td>Female</td>\n",
       "      <td>43</td>\n",
       "      <td>2.0</td>\n",
       "      <td>125510.82</td>\n",
       "      <td>1</td>\n",
       "      <td>1</td>\n",
       "      <td>1</td>\n",
       "      <td>79084.10</td>\n",
       "      <td>0</td>\n",
       "    </tr>\n",
       "    <tr>\n",
       "      <th>5</th>\n",
       "      <td>6</td>\n",
       "      <td>15574012</td>\n",
       "      <td>Chu</td>\n",
       "      <td>645</td>\n",
       "      <td>Spain</td>\n",
       "      <td>Male</td>\n",
       "      <td>44</td>\n",
       "      <td>8.0</td>\n",
       "      <td>113755.78</td>\n",
       "      <td>2</td>\n",
       "      <td>1</td>\n",
       "      <td>0</td>\n",
       "      <td>149756.71</td>\n",
       "      <td>1</td>\n",
       "    </tr>\n",
       "    <tr>\n",
       "      <th>6</th>\n",
       "      <td>7</td>\n",
       "      <td>15592531</td>\n",
       "      <td>Bartlett</td>\n",
       "      <td>822</td>\n",
       "      <td>France</td>\n",
       "      <td>Male</td>\n",
       "      <td>50</td>\n",
       "      <td>7.0</td>\n",
       "      <td>0.00</td>\n",
       "      <td>2</td>\n",
       "      <td>1</td>\n",
       "      <td>1</td>\n",
       "      <td>10062.80</td>\n",
       "      <td>0</td>\n",
       "    </tr>\n",
       "    <tr>\n",
       "      <th>7</th>\n",
       "      <td>8</td>\n",
       "      <td>15656148</td>\n",
       "      <td>Obinna</td>\n",
       "      <td>376</td>\n",
       "      <td>Germany</td>\n",
       "      <td>Female</td>\n",
       "      <td>29</td>\n",
       "      <td>4.0</td>\n",
       "      <td>115046.74</td>\n",
       "      <td>4</td>\n",
       "      <td>1</td>\n",
       "      <td>0</td>\n",
       "      <td>119346.88</td>\n",
       "      <td>1</td>\n",
       "    </tr>\n",
       "    <tr>\n",
       "      <th>8</th>\n",
       "      <td>9</td>\n",
       "      <td>15792365</td>\n",
       "      <td>He</td>\n",
       "      <td>501</td>\n",
       "      <td>France</td>\n",
       "      <td>Male</td>\n",
       "      <td>44</td>\n",
       "      <td>4.0</td>\n",
       "      <td>142051.07</td>\n",
       "      <td>2</td>\n",
       "      <td>0</td>\n",
       "      <td>1</td>\n",
       "      <td>74940.50</td>\n",
       "      <td>0</td>\n",
       "    </tr>\n",
       "    <tr>\n",
       "      <th>9</th>\n",
       "      <td>10</td>\n",
       "      <td>15592389</td>\n",
       "      <td>H?</td>\n",
       "      <td>684</td>\n",
       "      <td>France</td>\n",
       "      <td>Male</td>\n",
       "      <td>27</td>\n",
       "      <td>2.0</td>\n",
       "      <td>134603.88</td>\n",
       "      <td>1</td>\n",
       "      <td>1</td>\n",
       "      <td>1</td>\n",
       "      <td>71725.73</td>\n",
       "      <td>0</td>\n",
       "    </tr>\n",
       "  </tbody>\n",
       "</table>\n",
       "</div>"
      ],
      "text/plain": [
       "   RowNumber  CustomerId   Surname  CreditScore Geography  Gender  Age  \\\n",
       "0          1    15634602  Hargrave          619    France  Female   42   \n",
       "1          2    15647311      Hill          608     Spain  Female   41   \n",
       "2          3    15619304      Onio          502    France  Female   42   \n",
       "3          4    15701354      Boni          699    France  Female   39   \n",
       "4          5    15737888  Mitchell          850     Spain  Female   43   \n",
       "5          6    15574012       Chu          645     Spain    Male   44   \n",
       "6          7    15592531  Bartlett          822    France    Male   50   \n",
       "7          8    15656148    Obinna          376   Germany  Female   29   \n",
       "8          9    15792365        He          501    France    Male   44   \n",
       "9         10    15592389        H?          684    France    Male   27   \n",
       "\n",
       "   Tenure    Balance  NumOfProducts  HasCrCard  IsActiveMember  \\\n",
       "0     2.0       0.00              1          1               1   \n",
       "1     1.0   83807.86              1          0               1   \n",
       "2     8.0  159660.80              3          1               0   \n",
       "3     1.0       0.00              2          0               0   \n",
       "4     2.0  125510.82              1          1               1   \n",
       "5     8.0  113755.78              2          1               0   \n",
       "6     7.0       0.00              2          1               1   \n",
       "7     4.0  115046.74              4          1               0   \n",
       "8     4.0  142051.07              2          0               1   \n",
       "9     2.0  134603.88              1          1               1   \n",
       "\n",
       "   EstimatedSalary  Exited  \n",
       "0        101348.88       1  \n",
       "1        112542.58       0  \n",
       "2        113931.57       1  \n",
       "3         93826.63       0  \n",
       "4         79084.10       0  \n",
       "5        149756.71       1  \n",
       "6         10062.80       0  \n",
       "7        119346.88       1  \n",
       "8         74940.50       0  \n",
       "9         71725.73       0  "
      ]
     },
     "metadata": {},
     "output_type": "display_data"
    },
    {
     "name": "stdout",
     "output_type": "stream",
     "text": [
      "<class 'pandas.core.frame.DataFrame'>\n",
      "RangeIndex: 10000 entries, 0 to 9999\n",
      "Data columns (total 14 columns):\n",
      " #   Column           Non-Null Count  Dtype  \n",
      "---  ------           --------------  -----  \n",
      " 0   RowNumber        10000 non-null  int64  \n",
      " 1   CustomerId       10000 non-null  int64  \n",
      " 2   Surname          10000 non-null  object \n",
      " 3   CreditScore      10000 non-null  int64  \n",
      " 4   Geography        10000 non-null  object \n",
      " 5   Gender           10000 non-null  object \n",
      " 6   Age              10000 non-null  int64  \n",
      " 7   Tenure           9091 non-null   float64\n",
      " 8   Balance          10000 non-null  float64\n",
      " 9   NumOfProducts    10000 non-null  int64  \n",
      " 10  HasCrCard        10000 non-null  int64  \n",
      " 11  IsActiveMember   10000 non-null  int64  \n",
      " 12  EstimatedSalary  10000 non-null  float64\n",
      " 13  Exited           10000 non-null  int64  \n",
      "dtypes: float64(3), int64(8), object(3)\n",
      "memory usage: 1.1+ MB\n"
     ]
    },
    {
     "data": {
      "text/plain": [
       "Index(['RowNumber', 'CustomerId', 'Surname', 'CreditScore', 'Geography',\n",
       "       'Gender', 'Age', 'Tenure', 'Balance', 'NumOfProducts', 'HasCrCard',\n",
       "       'IsActiveMember', 'EstimatedSalary', 'Exited'],\n",
       "      dtype='object')"
      ]
     },
     "execution_count": 2,
     "metadata": {},
     "output_type": "execute_result"
    }
   ],
   "source": [
    "# откроем и изучим файл\n",
    "df = pd.read_csv('/datasets/Churn.csv')\n",
    "\n",
    "print(df.shape)\n",
    "display(df.head(10))\n",
    "df.info()\n",
    "df.describe()\n",
    "\n",
    "# вывод на экран названия столбцов\n",
    "df.columns"
   ]
  },
  {
   "cell_type": "markdown",
   "metadata": {},
   "source": [
    "### Явные дубликаты"
   ]
  },
  {
   "cell_type": "code",
   "execution_count": 3,
   "metadata": {},
   "outputs": [
    {
     "data": {
      "text/plain": [
       "0"
      ]
     },
     "execution_count": 3,
     "metadata": {},
     "output_type": "execute_result"
    }
   ],
   "source": [
    "# подсчёт явных дубликатов\n",
    "df.duplicated().sum()"
   ]
  },
  {
   "cell_type": "markdown",
   "metadata": {},
   "source": [
    "Дубликаты не обнаружены"
   ]
  },
  {
   "cell_type": "markdown",
   "metadata": {},
   "source": [
    "### Пропуски значений"
   ]
  },
  {
   "cell_type": "code",
   "execution_count": 4,
   "metadata": {},
   "outputs": [
    {
     "data": {
      "text/plain": [
       "RowNumber            0\n",
       "CustomerId           0\n",
       "Surname              0\n",
       "CreditScore          0\n",
       "Geography            0\n",
       "Gender               0\n",
       "Age                  0\n",
       "Tenure             909\n",
       "Balance              0\n",
       "NumOfProducts        0\n",
       "HasCrCard            0\n",
       "IsActiveMember       0\n",
       "EstimatedSalary      0\n",
       "Exited               0\n",
       "dtype: int64"
      ]
     },
     "execution_count": 4,
     "metadata": {},
     "output_type": "execute_result"
    }
   ],
   "source": [
    "# подсчёт пропусков в таблице \n",
    "df.isna().sum()"
   ]
  },
  {
   "cell_type": "code",
   "execution_count": 5,
   "metadata": {},
   "outputs": [
    {
     "data": {
      "text/html": [
       "<div>\n",
       "<style scoped>\n",
       "    .dataframe tbody tr th:only-of-type {\n",
       "        vertical-align: middle;\n",
       "    }\n",
       "\n",
       "    .dataframe tbody tr th {\n",
       "        vertical-align: top;\n",
       "    }\n",
       "\n",
       "    .dataframe thead th {\n",
       "        text-align: right;\n",
       "    }\n",
       "</style>\n",
       "<table border=\"1\" class=\"dataframe\">\n",
       "  <thead>\n",
       "    <tr style=\"text-align: right;\">\n",
       "      <th></th>\n",
       "      <th>RowNumber</th>\n",
       "      <th>CustomerId</th>\n",
       "      <th>Surname</th>\n",
       "      <th>CreditScore</th>\n",
       "      <th>Geography</th>\n",
       "      <th>Gender</th>\n",
       "      <th>Age</th>\n",
       "      <th>Tenure</th>\n",
       "      <th>Balance</th>\n",
       "      <th>NumOfProducts</th>\n",
       "      <th>HasCrCard</th>\n",
       "      <th>IsActiveMember</th>\n",
       "      <th>EstimatedSalary</th>\n",
       "      <th>Exited</th>\n",
       "    </tr>\n",
       "  </thead>\n",
       "  <tbody>\n",
       "    <tr>\n",
       "      <th>30</th>\n",
       "      <td>31</td>\n",
       "      <td>15589475</td>\n",
       "      <td>Azikiwe</td>\n",
       "      <td>591</td>\n",
       "      <td>Spain</td>\n",
       "      <td>Female</td>\n",
       "      <td>39</td>\n",
       "      <td>NaN</td>\n",
       "      <td>0.00</td>\n",
       "      <td>3</td>\n",
       "      <td>1</td>\n",
       "      <td>0</td>\n",
       "      <td>140469.38</td>\n",
       "      <td>1</td>\n",
       "    </tr>\n",
       "    <tr>\n",
       "      <th>48</th>\n",
       "      <td>49</td>\n",
       "      <td>15766205</td>\n",
       "      <td>Yin</td>\n",
       "      <td>550</td>\n",
       "      <td>Germany</td>\n",
       "      <td>Male</td>\n",
       "      <td>38</td>\n",
       "      <td>NaN</td>\n",
       "      <td>103391.38</td>\n",
       "      <td>1</td>\n",
       "      <td>0</td>\n",
       "      <td>1</td>\n",
       "      <td>90878.13</td>\n",
       "      <td>0</td>\n",
       "    </tr>\n",
       "    <tr>\n",
       "      <th>51</th>\n",
       "      <td>52</td>\n",
       "      <td>15768193</td>\n",
       "      <td>Trevisani</td>\n",
       "      <td>585</td>\n",
       "      <td>Germany</td>\n",
       "      <td>Male</td>\n",
       "      <td>36</td>\n",
       "      <td>NaN</td>\n",
       "      <td>146050.97</td>\n",
       "      <td>2</td>\n",
       "      <td>0</td>\n",
       "      <td>0</td>\n",
       "      <td>86424.57</td>\n",
       "      <td>0</td>\n",
       "    </tr>\n",
       "    <tr>\n",
       "      <th>53</th>\n",
       "      <td>54</td>\n",
       "      <td>15702298</td>\n",
       "      <td>Parkhill</td>\n",
       "      <td>655</td>\n",
       "      <td>Germany</td>\n",
       "      <td>Male</td>\n",
       "      <td>41</td>\n",
       "      <td>NaN</td>\n",
       "      <td>125561.97</td>\n",
       "      <td>1</td>\n",
       "      <td>0</td>\n",
       "      <td>0</td>\n",
       "      <td>164040.94</td>\n",
       "      <td>1</td>\n",
       "    </tr>\n",
       "    <tr>\n",
       "      <th>60</th>\n",
       "      <td>61</td>\n",
       "      <td>15651280</td>\n",
       "      <td>Hunter</td>\n",
       "      <td>742</td>\n",
       "      <td>Germany</td>\n",
       "      <td>Male</td>\n",
       "      <td>35</td>\n",
       "      <td>NaN</td>\n",
       "      <td>136857.00</td>\n",
       "      <td>1</td>\n",
       "      <td>0</td>\n",
       "      <td>0</td>\n",
       "      <td>84509.57</td>\n",
       "      <td>0</td>\n",
       "    </tr>\n",
       "    <tr>\n",
       "      <th>...</th>\n",
       "      <td>...</td>\n",
       "      <td>...</td>\n",
       "      <td>...</td>\n",
       "      <td>...</td>\n",
       "      <td>...</td>\n",
       "      <td>...</td>\n",
       "      <td>...</td>\n",
       "      <td>...</td>\n",
       "      <td>...</td>\n",
       "      <td>...</td>\n",
       "      <td>...</td>\n",
       "      <td>...</td>\n",
       "      <td>...</td>\n",
       "      <td>...</td>\n",
       "    </tr>\n",
       "    <tr>\n",
       "      <th>9944</th>\n",
       "      <td>9945</td>\n",
       "      <td>15703923</td>\n",
       "      <td>Cameron</td>\n",
       "      <td>744</td>\n",
       "      <td>Germany</td>\n",
       "      <td>Male</td>\n",
       "      <td>41</td>\n",
       "      <td>NaN</td>\n",
       "      <td>190409.34</td>\n",
       "      <td>2</td>\n",
       "      <td>1</td>\n",
       "      <td>1</td>\n",
       "      <td>138361.48</td>\n",
       "      <td>0</td>\n",
       "    </tr>\n",
       "    <tr>\n",
       "      <th>9956</th>\n",
       "      <td>9957</td>\n",
       "      <td>15707861</td>\n",
       "      <td>Nucci</td>\n",
       "      <td>520</td>\n",
       "      <td>France</td>\n",
       "      <td>Female</td>\n",
       "      <td>46</td>\n",
       "      <td>NaN</td>\n",
       "      <td>85216.61</td>\n",
       "      <td>1</td>\n",
       "      <td>1</td>\n",
       "      <td>0</td>\n",
       "      <td>117369.52</td>\n",
       "      <td>1</td>\n",
       "    </tr>\n",
       "    <tr>\n",
       "      <th>9964</th>\n",
       "      <td>9965</td>\n",
       "      <td>15642785</td>\n",
       "      <td>Douglas</td>\n",
       "      <td>479</td>\n",
       "      <td>France</td>\n",
       "      <td>Male</td>\n",
       "      <td>34</td>\n",
       "      <td>NaN</td>\n",
       "      <td>117593.48</td>\n",
       "      <td>2</td>\n",
       "      <td>0</td>\n",
       "      <td>0</td>\n",
       "      <td>113308.29</td>\n",
       "      <td>0</td>\n",
       "    </tr>\n",
       "    <tr>\n",
       "      <th>9985</th>\n",
       "      <td>9986</td>\n",
       "      <td>15586914</td>\n",
       "      <td>Nepean</td>\n",
       "      <td>659</td>\n",
       "      <td>France</td>\n",
       "      <td>Male</td>\n",
       "      <td>36</td>\n",
       "      <td>NaN</td>\n",
       "      <td>123841.49</td>\n",
       "      <td>2</td>\n",
       "      <td>1</td>\n",
       "      <td>0</td>\n",
       "      <td>96833.00</td>\n",
       "      <td>0</td>\n",
       "    </tr>\n",
       "    <tr>\n",
       "      <th>9999</th>\n",
       "      <td>10000</td>\n",
       "      <td>15628319</td>\n",
       "      <td>Walker</td>\n",
       "      <td>792</td>\n",
       "      <td>France</td>\n",
       "      <td>Female</td>\n",
       "      <td>28</td>\n",
       "      <td>NaN</td>\n",
       "      <td>130142.79</td>\n",
       "      <td>1</td>\n",
       "      <td>1</td>\n",
       "      <td>0</td>\n",
       "      <td>38190.78</td>\n",
       "      <td>0</td>\n",
       "    </tr>\n",
       "  </tbody>\n",
       "</table>\n",
       "<p>909 rows × 14 columns</p>\n",
       "</div>"
      ],
      "text/plain": [
       "      RowNumber  CustomerId    Surname  CreditScore Geography  Gender  Age  \\\n",
       "30           31    15589475    Azikiwe          591     Spain  Female   39   \n",
       "48           49    15766205        Yin          550   Germany    Male   38   \n",
       "51           52    15768193  Trevisani          585   Germany    Male   36   \n",
       "53           54    15702298   Parkhill          655   Germany    Male   41   \n",
       "60           61    15651280     Hunter          742   Germany    Male   35   \n",
       "...         ...         ...        ...          ...       ...     ...  ...   \n",
       "9944       9945    15703923    Cameron          744   Germany    Male   41   \n",
       "9956       9957    15707861      Nucci          520    France  Female   46   \n",
       "9964       9965    15642785    Douglas          479    France    Male   34   \n",
       "9985       9986    15586914     Nepean          659    France    Male   36   \n",
       "9999      10000    15628319     Walker          792    France  Female   28   \n",
       "\n",
       "      Tenure    Balance  NumOfProducts  HasCrCard  IsActiveMember  \\\n",
       "30       NaN       0.00              3          1               0   \n",
       "48       NaN  103391.38              1          0               1   \n",
       "51       NaN  146050.97              2          0               0   \n",
       "53       NaN  125561.97              1          0               0   \n",
       "60       NaN  136857.00              1          0               0   \n",
       "...      ...        ...            ...        ...             ...   \n",
       "9944     NaN  190409.34              2          1               1   \n",
       "9956     NaN   85216.61              1          1               0   \n",
       "9964     NaN  117593.48              2          0               0   \n",
       "9985     NaN  123841.49              2          1               0   \n",
       "9999     NaN  130142.79              1          1               0   \n",
       "\n",
       "      EstimatedSalary  Exited  \n",
       "30          140469.38       1  \n",
       "48           90878.13       0  \n",
       "51           86424.57       0  \n",
       "53          164040.94       1  \n",
       "60           84509.57       0  \n",
       "...               ...     ...  \n",
       "9944        138361.48       0  \n",
       "9956        117369.52       1  \n",
       "9964        113308.29       0  \n",
       "9985         96833.00       0  \n",
       "9999         38190.78       0  \n",
       "\n",
       "[909 rows x 14 columns]"
      ]
     },
     "execution_count": 5,
     "metadata": {},
     "output_type": "execute_result"
    }
   ],
   "source": [
    "# отфильтруем пропущенные значения\n",
    "df[df['Tenure'].isna()]"
   ]
  },
  {
   "cell_type": "code",
   "execution_count": 6,
   "metadata": {},
   "outputs": [
    {
     "data": {
      "text/plain": [
       "RowNumber          0\n",
       "CustomerId         0\n",
       "Surname            0\n",
       "CreditScore        0\n",
       "Geography          0\n",
       "Gender             0\n",
       "Age                0\n",
       "Tenure             0\n",
       "Balance            0\n",
       "NumOfProducts      0\n",
       "HasCrCard          0\n",
       "IsActiveMember     0\n",
       "EstimatedSalary    0\n",
       "Exited             0\n",
       "dtype: int64"
      ]
     },
     "execution_count": 6,
     "metadata": {},
     "output_type": "execute_result"
    }
   ],
   "source": [
    "# удаление пропусков в tenure\n",
    "df = df.dropna(subset=['Tenure']).reset_index(drop=True)\n",
    "\n",
    "# проверим удаление пропущенных значений\n",
    "df.isna().sum()"
   ]
  },
  {
   "cell_type": "markdown",
   "metadata": {},
   "source": [
    "### Стиль заголовков\n",
    "\n",
    "Приведем названия столбцов в соответствие с хорошим стилем.\n",
    "\n",
    "Для этого переименуем колонки так:\n",
    "\n",
    "- RowNumber → row_number\n",
    "- CustomerId → customer_id\n",
    "- Surname → surname\n",
    "- CreditScore → credit_score \n",
    "- Geography → geography\n",
    "- Gender → gender\n",
    "- Age → age\n",
    "- Tenure → tenure\n",
    "- Balance → balance\n",
    "- NumOfProducts → num_of_products\n",
    "- HasCrCard → has_cr_card\n",
    "- IsActiveMember → is_active_member\n",
    "- EstimatedSalary → estimated_salary\n",
    "- Exited → exited"
   ]
  },
  {
   "cell_type": "code",
   "execution_count": 7,
   "metadata": {},
   "outputs": [
    {
     "data": {
      "text/plain": [
       "Index(['row_number', 'customer_id', 'surname', 'credit_score', 'geography',\n",
       "       'gender', 'age', 'tenure', 'balance', 'num_of_products', 'has_cr_card',\n",
       "       'is_active_member', 'estimated_salary', 'exited'],\n",
       "      dtype='object')"
      ]
     },
     "execution_count": 7,
     "metadata": {},
     "output_type": "execute_result"
    }
   ],
   "source": [
    "# переименование столбцов\n",
    "df = df.rename(columns={'RowNumber': 'row_number', 'CustomerId': 'customer_id', 'Surname': 'surname', 'CreditScore': 'credit_score', \n",
    "'Geography': 'geography', 'Gender': 'gender', 'Age': 'age', 'Tenure': 'tenure', 'Balance': 'balance',\n",
    " 'NumOfProducts': 'num_of_products', 'HasCrCard': 'has_cr_card', 'IsActiveMember': 'is_active_member', 'EstimatedSalary': 'estimated_salary', 'Exited': 'exited'})\n",
    "\n",
    "# проверяем результат, еще раз выводим на экран названия столбцов\n",
    "df.columns"
   ]
  },
  {
   "cell_type": "markdown",
   "metadata": {},
   "source": [
    "### Кодирование столбцов\n"
   ]
  },
  {
   "cell_type": "code",
   "execution_count": 8,
   "metadata": {},
   "outputs": [
    {
     "data": {
      "text/plain": [
       "array(['Female', 'Male'], dtype=object)"
      ]
     },
     "execution_count": 8,
     "metadata": {},
     "output_type": "execute_result"
    }
   ],
   "source": [
    "# выведем уникальные значения gender\n",
    "df['gender'].unique()"
   ]
  },
  {
   "cell_type": "code",
   "execution_count": 9,
   "metadata": {},
   "outputs": [
    {
     "data": {
      "text/plain": [
       "France     4550\n",
       "Germany    2293\n",
       "Spain      2248\n",
       "Name: geography, dtype: int64"
      ]
     },
     "execution_count": 9,
     "metadata": {},
     "output_type": "execute_result"
    }
   ],
   "source": [
    "# выведем уникальные значения geography\n",
    "df['geography'].value_counts()"
   ]
  },
  {
   "cell_type": "markdown",
   "metadata": {},
   "source": [
    "Для дальнейших расчетов преобразуем категориальный признак `gender` прямым кодированием техникой OHE (англ. One-Hot Encoding). \n",
    "\n",
    "Чтобы не попасть в дамми-ловушку, применим аргумент drop_first функции \n",
    "pd.get_dummies(). \n",
    "\n",
    "Преобразуем категориальный признак `geography` порядковым кодированием техникой OE. Ordinal Encoding (от англ. «кодирование по номеру категории»).\n",
    "\n",
    "Столбцы CustomerId, Surname не понадобятся в нашем исследовании, удалим их.  Напечатаем первые пять записей изменённой таблицы."
   ]
  },
  {
   "cell_type": "code",
   "execution_count": 10,
   "metadata": {},
   "outputs": [
    {
     "data": {
      "text/html": [
       "<div>\n",
       "<style scoped>\n",
       "    .dataframe tbody tr th:only-of-type {\n",
       "        vertical-align: middle;\n",
       "    }\n",
       "\n",
       "    .dataframe tbody tr th {\n",
       "        vertical-align: top;\n",
       "    }\n",
       "\n",
       "    .dataframe thead th {\n",
       "        text-align: right;\n",
       "    }\n",
       "</style>\n",
       "<table border=\"1\" class=\"dataframe\">\n",
       "  <thead>\n",
       "    <tr style=\"text-align: right;\">\n",
       "      <th></th>\n",
       "      <th>row_number</th>\n",
       "      <th>credit_score</th>\n",
       "      <th>geography</th>\n",
       "      <th>age</th>\n",
       "      <th>tenure</th>\n",
       "      <th>balance</th>\n",
       "      <th>num_of_products</th>\n",
       "      <th>has_cr_card</th>\n",
       "      <th>is_active_member</th>\n",
       "      <th>estimated_salary</th>\n",
       "      <th>exited</th>\n",
       "      <th>gender</th>\n",
       "    </tr>\n",
       "  </thead>\n",
       "  <tbody>\n",
       "    <tr>\n",
       "      <th>0</th>\n",
       "      <td>1</td>\n",
       "      <td>619</td>\n",
       "      <td>France</td>\n",
       "      <td>42</td>\n",
       "      <td>2.0</td>\n",
       "      <td>0.00</td>\n",
       "      <td>1</td>\n",
       "      <td>1</td>\n",
       "      <td>1</td>\n",
       "      <td>101348.88</td>\n",
       "      <td>1</td>\n",
       "      <td>0</td>\n",
       "    </tr>\n",
       "    <tr>\n",
       "      <th>1</th>\n",
       "      <td>2</td>\n",
       "      <td>608</td>\n",
       "      <td>Spain</td>\n",
       "      <td>41</td>\n",
       "      <td>1.0</td>\n",
       "      <td>83807.86</td>\n",
       "      <td>1</td>\n",
       "      <td>0</td>\n",
       "      <td>1</td>\n",
       "      <td>112542.58</td>\n",
       "      <td>0</td>\n",
       "      <td>0</td>\n",
       "    </tr>\n",
       "    <tr>\n",
       "      <th>2</th>\n",
       "      <td>3</td>\n",
       "      <td>502</td>\n",
       "      <td>France</td>\n",
       "      <td>42</td>\n",
       "      <td>8.0</td>\n",
       "      <td>159660.80</td>\n",
       "      <td>3</td>\n",
       "      <td>1</td>\n",
       "      <td>0</td>\n",
       "      <td>113931.57</td>\n",
       "      <td>1</td>\n",
       "      <td>0</td>\n",
       "    </tr>\n",
       "    <tr>\n",
       "      <th>3</th>\n",
       "      <td>4</td>\n",
       "      <td>699</td>\n",
       "      <td>France</td>\n",
       "      <td>39</td>\n",
       "      <td>1.0</td>\n",
       "      <td>0.00</td>\n",
       "      <td>2</td>\n",
       "      <td>0</td>\n",
       "      <td>0</td>\n",
       "      <td>93826.63</td>\n",
       "      <td>0</td>\n",
       "      <td>0</td>\n",
       "    </tr>\n",
       "    <tr>\n",
       "      <th>4</th>\n",
       "      <td>5</td>\n",
       "      <td>850</td>\n",
       "      <td>Spain</td>\n",
       "      <td>43</td>\n",
       "      <td>2.0</td>\n",
       "      <td>125510.82</td>\n",
       "      <td>1</td>\n",
       "      <td>1</td>\n",
       "      <td>1</td>\n",
       "      <td>79084.10</td>\n",
       "      <td>0</td>\n",
       "      <td>0</td>\n",
       "    </tr>\n",
       "    <tr>\n",
       "      <th>5</th>\n",
       "      <td>6</td>\n",
       "      <td>645</td>\n",
       "      <td>Spain</td>\n",
       "      <td>44</td>\n",
       "      <td>8.0</td>\n",
       "      <td>113755.78</td>\n",
       "      <td>2</td>\n",
       "      <td>1</td>\n",
       "      <td>0</td>\n",
       "      <td>149756.71</td>\n",
       "      <td>1</td>\n",
       "      <td>1</td>\n",
       "    </tr>\n",
       "    <tr>\n",
       "      <th>6</th>\n",
       "      <td>7</td>\n",
       "      <td>822</td>\n",
       "      <td>France</td>\n",
       "      <td>50</td>\n",
       "      <td>7.0</td>\n",
       "      <td>0.00</td>\n",
       "      <td>2</td>\n",
       "      <td>1</td>\n",
       "      <td>1</td>\n",
       "      <td>10062.80</td>\n",
       "      <td>0</td>\n",
       "      <td>1</td>\n",
       "    </tr>\n",
       "    <tr>\n",
       "      <th>7</th>\n",
       "      <td>8</td>\n",
       "      <td>376</td>\n",
       "      <td>Germany</td>\n",
       "      <td>29</td>\n",
       "      <td>4.0</td>\n",
       "      <td>115046.74</td>\n",
       "      <td>4</td>\n",
       "      <td>1</td>\n",
       "      <td>0</td>\n",
       "      <td>119346.88</td>\n",
       "      <td>1</td>\n",
       "      <td>0</td>\n",
       "    </tr>\n",
       "    <tr>\n",
       "      <th>8</th>\n",
       "      <td>9</td>\n",
       "      <td>501</td>\n",
       "      <td>France</td>\n",
       "      <td>44</td>\n",
       "      <td>4.0</td>\n",
       "      <td>142051.07</td>\n",
       "      <td>2</td>\n",
       "      <td>0</td>\n",
       "      <td>1</td>\n",
       "      <td>74940.50</td>\n",
       "      <td>0</td>\n",
       "      <td>1</td>\n",
       "    </tr>\n",
       "    <tr>\n",
       "      <th>9</th>\n",
       "      <td>10</td>\n",
       "      <td>684</td>\n",
       "      <td>France</td>\n",
       "      <td>27</td>\n",
       "      <td>2.0</td>\n",
       "      <td>134603.88</td>\n",
       "      <td>1</td>\n",
       "      <td>1</td>\n",
       "      <td>1</td>\n",
       "      <td>71725.73</td>\n",
       "      <td>0</td>\n",
       "      <td>1</td>\n",
       "    </tr>\n",
       "  </tbody>\n",
       "</table>\n",
       "</div>"
      ],
      "text/plain": [
       "   row_number  credit_score geography  age  tenure    balance  \\\n",
       "0           1           619    France   42     2.0       0.00   \n",
       "1           2           608     Spain   41     1.0   83807.86   \n",
       "2           3           502    France   42     8.0  159660.80   \n",
       "3           4           699    France   39     1.0       0.00   \n",
       "4           5           850     Spain   43     2.0  125510.82   \n",
       "5           6           645     Spain   44     8.0  113755.78   \n",
       "6           7           822    France   50     7.0       0.00   \n",
       "7           8           376   Germany   29     4.0  115046.74   \n",
       "8           9           501    France   44     4.0  142051.07   \n",
       "9          10           684    France   27     2.0  134603.88   \n",
       "\n",
       "   num_of_products  has_cr_card  is_active_member  estimated_salary  exited  \\\n",
       "0                1            1                 1         101348.88       1   \n",
       "1                1            0                 1         112542.58       0   \n",
       "2                3            1                 0         113931.57       1   \n",
       "3                2            0                 0          93826.63       0   \n",
       "4                1            1                 1          79084.10       0   \n",
       "5                2            1                 0         149756.71       1   \n",
       "6                2            1                 1          10062.80       0   \n",
       "7                4            1                 0         119346.88       1   \n",
       "8                2            0                 1          74940.50       0   \n",
       "9                1            1                 1          71725.73       0   \n",
       "\n",
       "   gender  \n",
       "0       0  \n",
       "1       0  \n",
       "2       0  \n",
       "3       0  \n",
       "4       0  \n",
       "5       1  \n",
       "6       1  \n",
       "7       0  \n",
       "8       1  \n",
       "9       1  "
      ]
     },
     "execution_count": 10,
     "metadata": {},
     "output_type": "execute_result"
    }
   ],
   "source": [
    "# закодируем колонку gender прямым кодированием ОНЕ\n",
    "df = pd.get_dummies(df, columns=['gender'], drop_first=True)\n",
    "\n",
    "# удалим колоки которые не пригодятся в исследовании\n",
    "df.drop(columns =['customer_id', 'surname'], axis = 1, inplace=True)\n",
    "df = df.rename(columns={'gender_Male': 'gender'})\n",
    "\n",
    "df.head(10)"
   ]
  },
  {
   "cell_type": "code",
   "execution_count": 11,
   "metadata": {},
   "outputs": [
    {
     "data": {
      "text/html": [
       "<div>\n",
       "<style scoped>\n",
       "    .dataframe tbody tr th:only-of-type {\n",
       "        vertical-align: middle;\n",
       "    }\n",
       "\n",
       "    .dataframe tbody tr th {\n",
       "        vertical-align: top;\n",
       "    }\n",
       "\n",
       "    .dataframe thead th {\n",
       "        text-align: right;\n",
       "    }\n",
       "</style>\n",
       "<table border=\"1\" class=\"dataframe\">\n",
       "  <thead>\n",
       "    <tr style=\"text-align: right;\">\n",
       "      <th></th>\n",
       "      <th>row_number</th>\n",
       "      <th>credit_score</th>\n",
       "      <th>geography</th>\n",
       "      <th>age</th>\n",
       "      <th>tenure</th>\n",
       "      <th>balance</th>\n",
       "      <th>num_of_products</th>\n",
       "      <th>has_cr_card</th>\n",
       "      <th>is_active_member</th>\n",
       "      <th>estimated_salary</th>\n",
       "      <th>exited</th>\n",
       "      <th>gender</th>\n",
       "    </tr>\n",
       "  </thead>\n",
       "  <tbody>\n",
       "    <tr>\n",
       "      <th>0</th>\n",
       "      <td>1</td>\n",
       "      <td>619</td>\n",
       "      <td>0.0</td>\n",
       "      <td>42</td>\n",
       "      <td>2.0</td>\n",
       "      <td>0.00</td>\n",
       "      <td>1</td>\n",
       "      <td>1</td>\n",
       "      <td>1</td>\n",
       "      <td>101348.88</td>\n",
       "      <td>1</td>\n",
       "      <td>0</td>\n",
       "    </tr>\n",
       "    <tr>\n",
       "      <th>1</th>\n",
       "      <td>2</td>\n",
       "      <td>608</td>\n",
       "      <td>2.0</td>\n",
       "      <td>41</td>\n",
       "      <td>1.0</td>\n",
       "      <td>83807.86</td>\n",
       "      <td>1</td>\n",
       "      <td>0</td>\n",
       "      <td>1</td>\n",
       "      <td>112542.58</td>\n",
       "      <td>0</td>\n",
       "      <td>0</td>\n",
       "    </tr>\n",
       "    <tr>\n",
       "      <th>2</th>\n",
       "      <td>3</td>\n",
       "      <td>502</td>\n",
       "      <td>0.0</td>\n",
       "      <td>42</td>\n",
       "      <td>8.0</td>\n",
       "      <td>159660.80</td>\n",
       "      <td>3</td>\n",
       "      <td>1</td>\n",
       "      <td>0</td>\n",
       "      <td>113931.57</td>\n",
       "      <td>1</td>\n",
       "      <td>0</td>\n",
       "    </tr>\n",
       "    <tr>\n",
       "      <th>3</th>\n",
       "      <td>4</td>\n",
       "      <td>699</td>\n",
       "      <td>0.0</td>\n",
       "      <td>39</td>\n",
       "      <td>1.0</td>\n",
       "      <td>0.00</td>\n",
       "      <td>2</td>\n",
       "      <td>0</td>\n",
       "      <td>0</td>\n",
       "      <td>93826.63</td>\n",
       "      <td>0</td>\n",
       "      <td>0</td>\n",
       "    </tr>\n",
       "    <tr>\n",
       "      <th>4</th>\n",
       "      <td>5</td>\n",
       "      <td>850</td>\n",
       "      <td>2.0</td>\n",
       "      <td>43</td>\n",
       "      <td>2.0</td>\n",
       "      <td>125510.82</td>\n",
       "      <td>1</td>\n",
       "      <td>1</td>\n",
       "      <td>1</td>\n",
       "      <td>79084.10</td>\n",
       "      <td>0</td>\n",
       "      <td>0</td>\n",
       "    </tr>\n",
       "    <tr>\n",
       "      <th>5</th>\n",
       "      <td>6</td>\n",
       "      <td>645</td>\n",
       "      <td>2.0</td>\n",
       "      <td>44</td>\n",
       "      <td>8.0</td>\n",
       "      <td>113755.78</td>\n",
       "      <td>2</td>\n",
       "      <td>1</td>\n",
       "      <td>0</td>\n",
       "      <td>149756.71</td>\n",
       "      <td>1</td>\n",
       "      <td>1</td>\n",
       "    </tr>\n",
       "    <tr>\n",
       "      <th>6</th>\n",
       "      <td>7</td>\n",
       "      <td>822</td>\n",
       "      <td>0.0</td>\n",
       "      <td>50</td>\n",
       "      <td>7.0</td>\n",
       "      <td>0.00</td>\n",
       "      <td>2</td>\n",
       "      <td>1</td>\n",
       "      <td>1</td>\n",
       "      <td>10062.80</td>\n",
       "      <td>0</td>\n",
       "      <td>1</td>\n",
       "    </tr>\n",
       "    <tr>\n",
       "      <th>7</th>\n",
       "      <td>8</td>\n",
       "      <td>376</td>\n",
       "      <td>1.0</td>\n",
       "      <td>29</td>\n",
       "      <td>4.0</td>\n",
       "      <td>115046.74</td>\n",
       "      <td>4</td>\n",
       "      <td>1</td>\n",
       "      <td>0</td>\n",
       "      <td>119346.88</td>\n",
       "      <td>1</td>\n",
       "      <td>0</td>\n",
       "    </tr>\n",
       "    <tr>\n",
       "      <th>8</th>\n",
       "      <td>9</td>\n",
       "      <td>501</td>\n",
       "      <td>0.0</td>\n",
       "      <td>44</td>\n",
       "      <td>4.0</td>\n",
       "      <td>142051.07</td>\n",
       "      <td>2</td>\n",
       "      <td>0</td>\n",
       "      <td>1</td>\n",
       "      <td>74940.50</td>\n",
       "      <td>0</td>\n",
       "      <td>1</td>\n",
       "    </tr>\n",
       "    <tr>\n",
       "      <th>9</th>\n",
       "      <td>10</td>\n",
       "      <td>684</td>\n",
       "      <td>0.0</td>\n",
       "      <td>27</td>\n",
       "      <td>2.0</td>\n",
       "      <td>134603.88</td>\n",
       "      <td>1</td>\n",
       "      <td>1</td>\n",
       "      <td>1</td>\n",
       "      <td>71725.73</td>\n",
       "      <td>0</td>\n",
       "      <td>1</td>\n",
       "    </tr>\n",
       "  </tbody>\n",
       "</table>\n",
       "</div>"
      ],
      "text/plain": [
       "   row_number  credit_score  geography  age  tenure    balance  \\\n",
       "0           1           619        0.0   42     2.0       0.00   \n",
       "1           2           608        2.0   41     1.0   83807.86   \n",
       "2           3           502        0.0   42     8.0  159660.80   \n",
       "3           4           699        0.0   39     1.0       0.00   \n",
       "4           5           850        2.0   43     2.0  125510.82   \n",
       "5           6           645        2.0   44     8.0  113755.78   \n",
       "6           7           822        0.0   50     7.0       0.00   \n",
       "7           8           376        1.0   29     4.0  115046.74   \n",
       "8           9           501        0.0   44     4.0  142051.07   \n",
       "9          10           684        0.0   27     2.0  134603.88   \n",
       "\n",
       "   num_of_products  has_cr_card  is_active_member  estimated_salary  exited  \\\n",
       "0                1            1                 1         101348.88       1   \n",
       "1                1            0                 1         112542.58       0   \n",
       "2                3            1                 0         113931.57       1   \n",
       "3                2            0                 0          93826.63       0   \n",
       "4                1            1                 1          79084.10       0   \n",
       "5                2            1                 0         149756.71       1   \n",
       "6                2            1                 1          10062.80       0   \n",
       "7                4            1                 0         119346.88       1   \n",
       "8                2            0                 1          74940.50       0   \n",
       "9                1            1                 1          71725.73       0   \n",
       "\n",
       "   gender  \n",
       "0       0  \n",
       "1       0  \n",
       "2       0  \n",
       "3       0  \n",
       "4       0  \n",
       "5       1  \n",
       "6       1  \n",
       "7       0  \n",
       "8       1  \n",
       "9       1  "
      ]
     },
     "metadata": {},
     "output_type": "display_data"
    }
   ],
   "source": [
    "# закодируем колонку geography порядковым кодированием OE\n",
    "encoder = OrdinalEncoder()\n",
    "df['geography'] = encoder.fit_transform(df[['geography']])\n",
    "display(df.head(10))"
   ]
  },
  {
   "cell_type": "markdown",
   "metadata": {},
   "source": [
    "<div style=\"border:solid green 2px; padding: 20px\">\n",
    "\n",
    "### Вывод\n",
    "    \n",
    "     \n",
    "\n",
    "Данные находятся в файле /datasets/Churn.csv (англ. «отток клиентов»).\n",
    "\n",
    "Признаки:\n",
    "- RowNumber — индекс строки в данных\n",
    "- CustomerId — уникальный идентификатор клиента\n",
    "- Surname — фамилия\n",
    "- CreditScore — кредитный рейтинг\n",
    "- Geography — страна проживания\n",
    "- Gender — пол\n",
    "- Age — возраст\n",
    "- Tenure — сколько лет человек является клиентом банка\n",
    "- Balance — баланс на счёте\n",
    "- NumOfProducts — количество продуктов банка, используемых клиентом\n",
    "- HasCrCard — наличие кредитной карты\n",
    "- IsActiveMember — активность клиента\n",
    "- EstimatedSalary — предполагаемая зарплата\n",
    "\n",
    "Целевой признак:\n",
    "Exited — факт ухода клиента\n",
    "    \n",
    "Данные загружены и изучены. В нашем распоряжении обучающий набор данных и целевой признак, который нужно предсказать по остальным признакам, — `Exited` факт ухода клиента. Такие задачи относятся к классу «обучение с учителем» (от англ. supervised learning). «Учитель» ставит вопросы (признаки) и указывает ответы (целевой признак). Если целевой признак категориальный, то решается задача классификации.\n",
    "\n",
    "Обнаружены пропуски значений в колонке `Tenure` сколько лет человек является клиентом банка - это порядка 9% от объема даннных. Подходящих значений для замены пропусков нет. Можно смело удалять суммарно до 10% датасета, на качество данных это не повлияет. Удалим эти пропуски методом dropna() и восстановим индексы методом reset_index() c параметром drop, равным True. \n",
    "\n",
    "В названиях колонок имеется нарушение стиля. Заменили названия столбцов, привели к нижнему регистру.\n",
    "\n",
    "Преобразовали категориальные признаки в численные техникой прямого OHE и порядкового кодирования OE.    \n",
    "    \n",
    "</div>    "
   ]
  },
  {
   "cell_type": "markdown",
   "metadata": {},
   "source": [
    "## Исследование задачи"
   ]
  },
  {
   "cell_type": "markdown",
   "metadata": {},
   "source": [
    "### Исследуем дисбаланс классов\n",
    "Исследуем целевой признак. Чтобы оценить адекватность модели, проверим, как часто в целевом признаке встречается класс «1» или «0». Количество уникальных значений подсчитывается методом value_counts(). Он группирует строго одинаковые величины. Методом plot() c аргументом kind='bar' построим диаграмму."
   ]
  },
  {
   "cell_type": "code",
   "execution_count": 12,
   "metadata": {},
   "outputs": [
    {
     "data": {
      "image/png": "[encoded data removed]",
      "text/plain": [
       "<Figure size 432x288 with 1 Axes>"
      ]
     },
     "metadata": {
      "needs_background": "light"
     },
     "output_type": "display_data"
    }
   ],
   "source": [
    "df['exited'].value_counts(normalize=True).plot(kind='bar', grid=True)\n",
    "\n",
    "plt.title('Диаграмма оценки адекватности модели'+ \"\\n\")\n",
    "plt.show()"
   ]
  },
  {
   "cell_type": "markdown",
   "metadata": {},
   "source": [
    "В нашей задаче наблюдается сильный дисбаланс классов (англ. class imbalance), что плохо сказывается на обучении модели. Класс с меткой «1» называется положительным, с меткой «0» — отрицательным. Классы несбалансированны, когда их соотношение далеко от 1:1. Баланс классов (англ. class balance) наблюдается, если их количество примерно равно.\n",
    "\n",
    "Проверка показала, что классы распределены не равномерно, положительный составляет 1/4 от выборки. Для достижения баланса нужно обучить модели."
   ]
  },
  {
   "cell_type": "markdown",
   "metadata": {},
   "source": [
    "### Разбивка данных на выборки\n",
    "\n",
    "Данные нужно разбить на три части: обучающую, валидационную и тестовую. Размеры тестового и валидационного наборов обычно равны. Исходные данные разбивают в соотношении 3:1:1 (60,20,20). Тестовая выборка нужна, чтобы правильно оценить готовую модель."
   ]
  },
  {
   "cell_type": "code",
   "execution_count": 13,
   "metadata": {},
   "outputs": [
    {
     "name": "stdout",
     "output_type": "stream",
     "text": [
      "Размер обучающей выборки: (5454, 12)\n",
      "Размер валидационной выборки: (1818, 12)\n",
      "Размер тестовой выборки: (1819, 12)\n"
     ]
    }
   ],
   "source": [
    "# разделим исходные данные на обучающую, валидационную и тестовую выборки\n",
    "\n",
    "df_train, df_valid = train_test_split(df, test_size=0.4, random_state=12345)\n",
    "df_valid, df_test = train_test_split(df_valid, test_size=0.5, random_state=12345)\n",
    "\n",
    "print(\"Размер обучающей выборки:\", df_train.shape)\n",
    "print(\"Размер валидационной выборки:\", df_valid.shape)\n",
    "print(\"Размер тестовой выборки:\", df_test.shape)"
   ]
  },
  {
   "cell_type": "markdown",
   "metadata": {},
   "source": [
    "Объявим переменные и запишим в них: признаки: features_train, features_valid, features_test; целевой признак: target_train, target_valid, target_test."
   ]
  },
  {
   "cell_type": "code",
   "execution_count": 14,
   "metadata": {},
   "outputs": [
    {
     "name": "stdout",
     "output_type": "stream",
     "text": [
      "Обучающая выборка: (5454, 11)\n",
      "Валидационная выборка: (1818, 11)\n",
      "Тестовая выборка: (1819, 11)\n"
     ]
    }
   ],
   "source": [
    "# обучающая выборка\n",
    "features_train = df_train.drop('exited', axis=1)\n",
    "target_train = df_train['exited']\n",
    "\n",
    "# валидационная выборка\n",
    "features_valid = df_valid.drop('exited', axis=1)\n",
    "target_valid = df_valid['exited']\n",
    "\n",
    "# тестовая выборка\n",
    "features_test = df_test.drop('exited', axis=1)\n",
    "target_test = df_test['exited']\n",
    "\n",
    "print(\"Обучающая выборка:\", features_train.shape)\n",
    "print(\"Валидационная выборка:\", features_valid.shape)\n",
    "print(\"Тестовая выборка:\", features_test.shape)"
   ]
  },
  {
   "cell_type": "markdown",
   "metadata": {},
   "source": [
    "### Масштабирование признаков\n",
    "\n",
    "У признаков разный масштаб, необходимо их привести к одному масштабу - стандартизировать. В sklearn есть отдельная структура для стандартизации данных — ** StandardScaler (от англ. «преобразователь масштаба методом стандартизации»). Он находится в модуле sklearn.preprocessing. Сохраним преобразованные обучающую, валидационную и тестовую выборки в переменных.\n"
   ]
  },
  {
   "cell_type": "code",
   "execution_count": 15,
   "metadata": {},
   "outputs": [
    {
     "data": {
      "text/html": [
       "<div>\n",
       "<style scoped>\n",
       "    .dataframe tbody tr th:only-of-type {\n",
       "        vertical-align: middle;\n",
       "    }\n",
       "\n",
       "    .dataframe tbody tr th {\n",
       "        vertical-align: top;\n",
       "    }\n",
       "\n",
       "    .dataframe thead th {\n",
       "        text-align: right;\n",
       "    }\n",
       "</style>\n",
       "<table border=\"1\" class=\"dataframe\">\n",
       "  <thead>\n",
       "    <tr style=\"text-align: right;\">\n",
       "      <th></th>\n",
       "      <th>row_number</th>\n",
       "      <th>credit_score</th>\n",
       "      <th>geography</th>\n",
       "      <th>age</th>\n",
       "      <th>tenure</th>\n",
       "      <th>balance</th>\n",
       "      <th>num_of_products</th>\n",
       "      <th>has_cr_card</th>\n",
       "      <th>is_active_member</th>\n",
       "      <th>estimated_salary</th>\n",
       "      <th>gender</th>\n",
       "    </tr>\n",
       "  </thead>\n",
       "  <tbody>\n",
       "    <tr>\n",
       "      <th>8483</th>\n",
       "      <td>9345</td>\n",
       "      <td>0.809075</td>\n",
       "      <td>-0.90352</td>\n",
       "      <td>-1.039327</td>\n",
       "      <td>-1.025995</td>\n",
       "      <td>0.554904</td>\n",
       "      <td>1</td>\n",
       "      <td>1</td>\n",
       "      <td>0</td>\n",
       "      <td>0.019508</td>\n",
       "      <td>0</td>\n",
       "    </tr>\n",
       "    <tr>\n",
       "      <th>3431</th>\n",
       "      <td>3797</td>\n",
       "      <td>-1.152518</td>\n",
       "      <td>-0.90352</td>\n",
       "      <td>-1.227561</td>\n",
       "      <td>0.696524</td>\n",
       "      <td>0.480609</td>\n",
       "      <td>1</td>\n",
       "      <td>0</td>\n",
       "      <td>0</td>\n",
       "      <td>0.056167</td>\n",
       "      <td>1</td>\n",
       "    </tr>\n",
       "    <tr>\n",
       "      <th>6770</th>\n",
       "      <td>7463</td>\n",
       "      <td>-0.398853</td>\n",
       "      <td>-0.90352</td>\n",
       "      <td>0.090079</td>\n",
       "      <td>1.385532</td>\n",
       "      <td>-1.237830</td>\n",
       "      <td>1</td>\n",
       "      <td>1</td>\n",
       "      <td>1</td>\n",
       "      <td>0.848738</td>\n",
       "      <td>1</td>\n",
       "    </tr>\n",
       "    <tr>\n",
       "      <th>1350</th>\n",
       "      <td>1509</td>\n",
       "      <td>-0.749875</td>\n",
       "      <td>-0.90352</td>\n",
       "      <td>-0.286389</td>\n",
       "      <td>0.352020</td>\n",
       "      <td>-1.237830</td>\n",
       "      <td>2</td>\n",
       "      <td>1</td>\n",
       "      <td>1</td>\n",
       "      <td>-0.894953</td>\n",
       "      <td>1</td>\n",
       "    </tr>\n",
       "    <tr>\n",
       "      <th>4047</th>\n",
       "      <td>4479</td>\n",
       "      <td>-1.028628</td>\n",
       "      <td>-0.90352</td>\n",
       "      <td>-0.756975</td>\n",
       "      <td>-0.336987</td>\n",
       "      <td>-1.237830</td>\n",
       "      <td>2</td>\n",
       "      <td>0</td>\n",
       "      <td>1</td>\n",
       "      <td>-1.284516</td>\n",
       "      <td>1</td>\n",
       "    </tr>\n",
       "  </tbody>\n",
       "</table>\n",
       "</div>"
      ],
      "text/plain": [
       "      row_number  credit_score  geography       age    tenure   balance  \\\n",
       "8483        9345      0.809075   -0.90352 -1.039327 -1.025995  0.554904   \n",
       "3431        3797     -1.152518   -0.90352 -1.227561  0.696524  0.480609   \n",
       "6770        7463     -0.398853   -0.90352  0.090079  1.385532 -1.237830   \n",
       "1350        1509     -0.749875   -0.90352 -0.286389  0.352020 -1.237830   \n",
       "4047        4479     -1.028628   -0.90352 -0.756975 -0.336987 -1.237830   \n",
       "\n",
       "      num_of_products  has_cr_card  is_active_member  estimated_salary  gender  \n",
       "8483                1            1                 0          0.019508       0  \n",
       "3431                1            0                 0          0.056167       1  \n",
       "6770                1            1                 1          0.848738       1  \n",
       "1350                2            1                 1         -0.894953       1  \n",
       "4047                2            0                 1         -1.284516       1  "
      ]
     },
     "metadata": {},
     "output_type": "display_data"
    }
   ],
   "source": [
    "# cтандартизируем численные признаки\n",
    "\n",
    "numeric = ['credit_score', 'balance', 'estimated_salary', 'age', 'tenure', 'geography']\n",
    "\n",
    "scaler = StandardScaler()\n",
    "scaler.fit(features_train[numeric]) \n",
    "\n",
    "features_train[numeric] = scaler.transform(features_train[numeric]) \n",
    "\n",
    "features_valid[numeric] = scaler.transform(features_valid[numeric])\n",
    "\n",
    "features_test[numeric] = scaler.transform(features_test[numeric])\n",
    "\n",
    "display(features_train.head())"
   ]
  },
  {
   "cell_type": "markdown",
   "metadata": {},
   "source": [
    "### Исследование моделей\n",
    "По условию необходимо построить модель с предельно большим значением F1-меры, нужно довести метрику до 0.59. \n",
    "F1-мера (англ. F1-score) - это среднее гармоническое полноты и точности. Единица в F1 означает, что соотношение полноты и точности равно 1:1. Когда полнота или точность близки к нулю, то к 0 приближается и само среднее гармоническое. Если положительный класс плохо прогнозируется по одной из шкал (Recall или Precision), то близкая к нулю F1-мера покажет, что прогноз класса 1 не удался. Выведем значение меры на разных моделях. \n",
    "\n",
    "Также необходимо дополнительно измерять AUC-ROC, чтобы выявить, как сильно наша модель отличается от случайной и сравнивать её значение с F1-мерой. Это новая метрика качества, которая изменяется от 0 до 1. AUC-ROC случайной модели равна 0.5."
   ]
  },
  {
   "cell_type": "code",
   "execution_count": 16,
   "metadata": {},
   "outputs": [
    {
     "name": "stdout",
     "output_type": "stream",
     "text": [
      "F1 модели решающее дерево: 0.48\n",
      "AUC_ROC: 0.67\n"
     ]
    },
    {
     "data": {
      "image/png": "[encoded data removed]",
      "text/plain": [
       "<Figure size 432x288 with 1 Axes>"
      ]
     },
     "metadata": {
      "needs_background": "light"
     },
     "output_type": "display_data"
    }
   ],
   "source": [
    "# модель решающее дерево\n",
    "\n",
    "model = DecisionTreeClassifier(random_state=12345)\n",
    "model.fit(features_train, target_train)\n",
    "predicted_valid = model.predict(features_valid)\n",
    "\n",
    "f1 = f1_score(target_valid, predicted_valid)\n",
    "\n",
    "print(\"F1 модели решающее дерево:\", round(f1, 2))\n",
    "\n",
    "auc_roc = roc_auc_score(target_valid, predicted_valid)\n",
    "print(\"AUC_ROC:\", round(auc_roc, 2))\n",
    "\n",
    "# проанализируем частоты классов в результатах предсказаний решающего дерева, построим диаграмму\n",
    "predicted_valid = pd.Series(model.predict(features_valid))\n",
    "\n",
    "class_frequency = predicted_valid.value_counts(normalize=True).plot(kind='bar', grid=True)\n",
    "\n",
    "plt.title('Анализ частоты классов в результатах предсказаний модели решающего дерева'+ \"\\n\")\n",
    "plt.show()"
   ]
  },
  {
   "cell_type": "code",
   "execution_count": 17,
   "metadata": {},
   "outputs": [
    {
     "name": "stdout",
     "output_type": "stream",
     "text": [
      "F1 модели логистическая регрессия: 0.22\n",
      "AUC_ROC: 0.55\n"
     ]
    },
    {
     "data": {
      "image/png": "[encoded data removed]",
      "text/plain": [
       "<Figure size 432x288 with 1 Axes>"
      ]
     },
     "metadata": {
      "needs_background": "light"
     },
     "output_type": "display_data"
    }
   ],
   "source": [
    "# модель логистическая регрессия\n",
    "\n",
    "model = LogisticRegression(random_state=12345) # инициализируйте модель логистической регрессии с параметром random_state=12345\n",
    "model.fit(features_train, target_train) # обучите модель на тренировочной выборке\n",
    "predicted_valid = model.predict(features_valid) # получите метрику качества модели на валидационной выборке\n",
    "f1 = f1_score(target_valid, predicted_valid)\n",
    "\n",
    "print(\"F1 модели логистическая регрессия:\", round(f1, 2))\n",
    "\n",
    "auc_roc = roc_auc_score(target_valid, predicted_valid)\n",
    "print(\"AUC_ROC:\", round(auc_roc, 2))\n",
    "\n",
    "# проанализируем частоты классов в результатах предсказаний логистическая регрессия, построим диаграмму\n",
    "predicted_valid = pd.Series(model.predict(features_valid))\n",
    "\n",
    "class_frequency = predicted_valid.value_counts(normalize=True).plot(kind='bar', grid=True)\n",
    "\n",
    "plt.title('Анализ частоты классов в результатах предсказаний модели логистическая регрессия'+ \"\\n\")\n",
    "plt.show()"
   ]
  },
  {
   "cell_type": "code",
   "execution_count": 18,
   "metadata": {},
   "outputs": [
    {
     "name": "stdout",
     "output_type": "stream",
     "text": [
      "F1 модели случайный лес: 0.55\n",
      "AUC_ROC: 0.7\n"
     ]
    },
    {
     "data": {
      "image/png": "[encoded data removed]",
      "text/plain": [
       "<Figure size 432x288 with 1 Axes>"
      ]
     },
     "metadata": {
      "needs_background": "light"
     },
     "output_type": "display_data"
    }
   ],
   "source": [
    "# модель случайный лес\n",
    "\n",
    "model = RandomForestClassifier(random_state=12345) # обучим модель с заданным количеством деревьев\n",
    "model.fit(features_train, target_train) # обучим модель на тренировочной выборке\n",
    "predicted_valid = model.predict(features_valid) # посчитаем качество модели на валидационной выборке\n",
    "f1 = f1_score(target_valid, predicted_valid)\n",
    "\n",
    "print(\"F1 модели случайный лес:\", round(f1, 2))\n",
    "\n",
    "auc_roc = roc_auc_score(target_valid, predicted_valid)\n",
    "print(\"AUC_ROC:\", round(auc_roc, 2))\n",
    "\n",
    "# проанализируем частоты классов в результатах предсказаний случайный лес, построим диаграмму\n",
    "predicted_valid = pd.Series(model.predict(features_valid))\n",
    "\n",
    "class_frequency = predicted_valid.value_counts(normalize=True).plot(kind='bar', grid=True)\n",
    "\n",
    "plt.title('Анализ частоты классов в результатах предсказаний модели случайный лес'+ \"\\n\")\n",
    "plt.show()"
   ]
  },
  {
   "cell_type": "markdown",
   "metadata": {},
   "source": [
    "<div style=\"border:solid green 2px; padding: 20px\">\n",
    "\n",
    "### Вывод\n",
    "    \n",
    "Проведено исследование моделей: решающее дерево, случайный лес и логистическая регрессия. F1 модели случайного леса показало лучший результат. Однако по условию нужно довести метрику F1 до 0.59. \n",
    "\n",
    "Очевидно, что качесвто модели AUC-ROC зависит от среднего гармонического полноты и точности F1. \n",
    "\n",
    "- F1 модели решающее дерево: 0.48,\n",
    "AUC_ROC: 0.67 \n",
    "\n",
    "- F1 модели логистическая регрессия: 0.22,\n",
    "AUC_ROC: 0.56\n",
    "\n",
    "- F1 модели случайный лес: 0.53,\n",
    "AUC_ROC: 0.69\n",
    "\n",
    "Чем больше среднее гармоническое F1, тем больше значение AUC_ROC.\n",
    "    \n",
    "</div>     "
   ]
  },
  {
   "cell_type": "markdown",
   "metadata": {},
   "source": [
    "## Борьба с дисбалансом"
   ]
  },
  {
   "cell_type": "markdown",
   "metadata": {},
   "source": [
    "### Взвешивание классов\n",
    "\n",
    "Придадим объектам редкого класса больший вес.\n",
    "Сделаем веса классов сбалансированными. Обратим внимание, как изменится значение F1-меры. Если указать class_weight='balanced' (англ. «сбалансированный»), алгоритм посчитает, во сколько раз класс «0» встречается чаще класса «1»."
   ]
  },
  {
   "cell_type": "code",
   "execution_count": 19,
   "metadata": {},
   "outputs": [
    {
     "name": "stdout",
     "output_type": "stream",
     "text": [
      "Модель решающее дерево после взвешивания классов:\n",
      "F1: 0.48\n",
      "AUC_ROC: 0.67\n"
     ]
    }
   ],
   "source": [
    "# модель решающее дерево\n",
    "\n",
    "model = DecisionTreeClassifier(random_state=12345, class_weight='balanced')\n",
    "model.fit(features_train, target_train)\n",
    "predicted_valid = model.predict(features_valid)\n",
    "f1 = f1_score(target_valid, predicted_valid)\n",
    "auc_roc = roc_auc_score(target_valid, predicted_valid)\n",
    "\n",
    "print(\"Модель решающее дерево после взвешивания классов:\")\n",
    "print(\"F1:\", round(f1, 2))\n",
    "print(\"AUC_ROC:\", round(auc_roc, 2))"
   ]
  },
  {
   "cell_type": "code",
   "execution_count": 20,
   "metadata": {},
   "outputs": [
    {
     "name": "stdout",
     "output_type": "stream",
     "text": [
      "Модель логистическая регрессия после взвешивания классов:\n",
      "F1: 0.49\n",
      "AUC_ROC: 0.695\n"
     ]
    }
   ],
   "source": [
    "# модель логистическая регрессия\n",
    "\n",
    "model = LogisticRegression(random_state=12345, solver='liblinear', class_weight='balanced')\n",
    "model.fit(features_train, target_train)\n",
    "predicted_valid = model.predict(features_valid)\n",
    "f1 = f1_score(target_valid, predicted_valid)\n",
    "auc_roc = roc_auc_score(target_valid, predicted_valid)\n",
    "\n",
    "print(\"Модель логистическая регрессия после взвешивания классов:\")\n",
    "print(\"F1:\", round(f1, 2))\n",
    "print(\"AUC_ROC:\", round(auc_roc, 3))"
   ]
  },
  {
   "cell_type": "code",
   "execution_count": 21,
   "metadata": {},
   "outputs": [
    {
     "name": "stdout",
     "output_type": "stream",
     "text": [
      "Модель случайный лес после взвешивания классов:\n",
      "F1: 0.563\n",
      "AUC_ROC: 0.7\n"
     ]
    }
   ],
   "source": [
    "# модель случайный лес\n",
    "\n",
    "model = RandomForestClassifier(random_state=12345, class_weight='balanced')\n",
    "model.fit(features_train, target_train)\n",
    "predicted_valid = model.predict(features_valid)\n",
    "f1 = f1_score(target_valid, predicted_valid)\n",
    "auc_roc = roc_auc_score(target_valid, predicted_valid)\n",
    "\n",
    "print(\"Модель случайный лес после взвешивания классов:\")\n",
    "print(\"F1:\", round(f1, 3))\n",
    "print(\"AUC_ROC:\", round(auc_roc, 2))"
   ]
  },
  {
   "cell_type": "markdown",
   "metadata": {},
   "source": [
    "Балансировка классов результата не дала, значение F1-меры немного увеличилась только у модели логистическая регрессия, у остальных уменьшилась.\n",
    "\n",
    "После взвешивания классов:\n",
    "- Модель решающее дерево:\n",
    "F1: 0.47, \n",
    "AUC_ROC: 0.66\n",
    "\n",
    "- Модель логистическая регрессия:\n",
    "F1: 0.49, \n",
    "AUC_ROC: 0.695\n",
    "\n",
    "- Модель случайный лес:\n",
    "F1: 0.50, \n",
    "AUC_ROC: 0.67\n",
    "\n",
    "AUC_ROC продолжает находится в зависимости от значения метрики F1, увеличилось у модели логистическая регрессия, у остальных уменьшилась.  "
   ]
  },
  {
   "cell_type": "markdown",
   "metadata": {},
   "source": [
    "### Увеличение выборки\n",
    "Увеличим сбалансированную выборку техникой upsampling (от англ. up, «вверх»; sampling, «выборка»)."
   ]
  },
  {
   "cell_type": "code",
   "execution_count": 22,
   "metadata": {},
   "outputs": [
    {
     "name": "stdout",
     "output_type": "stream",
     "text": [
      "F1 модели решающее дерево после увеличения выборки: 0.46\n",
      "AUC_ROC: 0.66\n",
      "\n",
      "F1 модели логистическая регрессия после увеличения выборки: 0.49\n",
      "AUC_ROC: 0.69\n",
      "\n",
      "F1 модели случайный лес после увеличения выборки: 0.62\n",
      "AUC_ROC: 0.74\n",
      "\n"
     ]
    }
   ],
   "source": [
    "# увеличим сбалансированную выборку \n",
    "\n",
    "def upsample(features, target, repeat):\n",
    "    features_zeros = features[target == 0]\n",
    "    features_ones = features[target == 1]\n",
    "    target_zeros = target[target == 0]\n",
    "    target_ones = target[target == 1]\n",
    "\n",
    "    features_upsampled = pd.concat([features_zeros] + [features_ones] * repeat)\n",
    "    target_upsampled = pd.concat([target_zeros] + [target_ones] * repeat)\n",
    "    \n",
    "    features_upsampled, target_upsampled = shuffle(\n",
    "        features_upsampled, target_upsampled, random_state=12345)\n",
    "    \n",
    "    return features_upsampled, target_upsampled\n",
    "\n",
    "features_upsampled, target_upsampled = upsample(features_train, target_train, 10)\n",
    "\n",
    "model = DecisionTreeClassifier(random_state=12345, class_weight='balanced')\n",
    "model.fit(features_upsampled, target_upsampled)\n",
    "predicted_valid = model.predict(features_valid) \n",
    "\n",
    "print(\"F1 модели решающее дерево после увеличения выборки:\", f1_score(target_valid, predicted_valid).round(2))\n",
    "print(\"AUC_ROC:\", roc_auc_score(target_valid, predicted_valid).round(2))\n",
    "print()\n",
    "\n",
    "model = LogisticRegression(random_state=12345, solver='liblinear', class_weight='balanced')\n",
    "model.fit(features_upsampled, target_upsampled)\n",
    "predicted_valid = model.predict(features_valid) \n",
    "\n",
    "print(\"F1 модели логистическая регрессия после увеличения выборки:\", f1_score(target_valid, predicted_valid).round(2))\n",
    "print(\"AUC_ROC:\", roc_auc_score(target_valid, predicted_valid).round(2))\n",
    "print()\n",
    "\n",
    "model = RandomForestClassifier(random_state=12345, class_weight='balanced')\n",
    "model.fit(features_upsampled, target_upsampled)\n",
    "predicted_valid = model.predict(features_valid) \n",
    "\n",
    "print(\"F1 модели случайный лес после увеличения выборки:\", f1_score(target_valid, predicted_valid).round(2), )\n",
    "print(\"AUC_ROC:\", roc_auc_score(target_valid, predicted_valid).round(2))\n",
    "print()"
   ]
  },
  {
   "cell_type": "markdown",
   "metadata": {},
   "source": [
    "Увеличение выборки помогло достичь желаемых результатов. Лучший результат F1=0.59 метрики у случайного леса. Также важно отметить, что желаемого результата помогла достичь сбаланированная выборка с параметром class_weight='balanced'. Без этого показателя при увеличении выборки желаемый результат не получался.\n",
    "Стоит отметить, что AUC_ROC продолжает находится в зависимости от значения метрики F1, увеличилось у модели случайный лес.\n"
   ]
  },
  {
   "cell_type": "markdown",
   "metadata": {},
   "source": [
    "### Уменьшение выборки"
   ]
  },
  {
   "cell_type": "markdown",
   "metadata": {},
   "source": [
    "Вместо повторения важных вопросов, уберём часть неважных. Это можно сделать техникой downsampling (от англ. down, «вниз»; sampling, «выборка»)."
   ]
  },
  {
   "cell_type": "code",
   "execution_count": 23,
   "metadata": {},
   "outputs": [
    {
     "name": "stdout",
     "output_type": "stream",
     "text": [
      "F1 модели логистическая регрессия после уменьшения выборки: 0.48\n",
      "F1 модели случайный лес после уменьшения выборки: 0.45\n",
      "F1 модели решающее дерево после уменьшения выборки: 0.44\n"
     ]
    }
   ],
   "source": [
    "def downsample(features, target, fraction):\n",
    "    features_zeros = features[target == 0]\n",
    "    features_ones = features[target == 1]\n",
    "    target_zeros = target[target == 0]\n",
    "    target_ones = target[target == 1]\n",
    "\n",
    "    features_downsampled = pd.concat(\n",
    "        [features_zeros.sample(frac=fraction, random_state=12345)] + [features_ones])\n",
    "    target_downsampled = pd.concat(\n",
    "        [target_zeros.sample(frac=fraction, random_state=12345)] + [target_ones])\n",
    "    \n",
    "    features_downsampled, target_downsampled = shuffle(\n",
    "        features_downsampled, target_downsampled, random_state=12345)\n",
    "    \n",
    "    return features_downsampled, target_downsampled\n",
    "\n",
    "features_downsampled, target_downsampled = downsample(features_train, target_train, 0.1)\n",
    "\n",
    "model = LogisticRegression(random_state=12345, solver='liblinear', class_weight='balanced')\n",
    "model.fit(features_downsampled, target_downsampled)\n",
    "predicted_valid = model.predict(features_valid) \n",
    "print(\"F1 модели логистическая регрессия после уменьшения выборки:\", f1_score(target_valid, predicted_valid).round(2))\n",
    "\n",
    "model = RandomForestClassifier(random_state=12345, class_weight='balanced')\n",
    "model.fit(features_downsampled, target_downsampled)\n",
    "predicted_valid = model.predict(features_valid) \n",
    "print(\"F1 модели случайный лес после уменьшения выборки:\", f1_score(target_valid, predicted_valid).round(2))\n",
    "\n",
    "model = DecisionTreeClassifier(random_state=12345, class_weight='balanced')\n",
    "model.fit(features_downsampled, target_downsampled)\n",
    "predicted_valid = model.predict(features_valid) \n",
    "print(\"F1 модели решающее дерево после уменьшения выборки:\", f1_score(target_valid, predicted_valid).round(2))\n"
   ]
  },
  {
   "cell_type": "markdown",
   "metadata": {},
   "source": [
    "Уменьшение выборки не дало результатов. Метрика снижается."
   ]
  },
  {
   "cell_type": "markdown",
   "metadata": {},
   "source": [
    "### Порог классификации\n",
    "\n",
    "Для удобства близость к классам переведём в вероятность классов: модель пытается оценить, насколько вероятен тот или иной класс. У нас всего два класса (ноль и единица). Нам достаточно вероятности класса «1». Число будет от нуля до единицы: если больше 0.5 — объект положительный, меньше — отрицательный.\n",
    "\n",
    "Граница, где заканчивается отрицательный класс и начинается положительный, называется порогом (англ. threshold). По умолчанию он равен 0.5, попробуем его поменять. Если уменьшить порог точность уменьшится, а полнота увеличится. Среди ответов будет больше положительных."
   ]
  },
  {
   "cell_type": "markdown",
   "metadata": {},
   "source": [
    "Найдем значения вероятностей классов для валидационной выборки. Значения вероятностей класса «1» сохраним в переменной probabilities_one_valid. "
   ]
  },
  {
   "cell_type": "code",
   "execution_count": 24,
   "metadata": {},
   "outputs": [
    {
     "name": "stdout",
     "output_type": "stream",
     "text": [
      "Значения вероятностей классов модели логистическая регрессия: [0.3188408  0.09930053 0.42894122 0.14807974 0.07793859]\n"
     ]
    }
   ],
   "source": [
    "# значения вероятностей классов модели логистическая регрессия\n",
    "\n",
    "model = LogisticRegression(random_state=12345, solver='liblinear')\n",
    "model.fit(features_train, target_train)\n",
    "\n",
    "probabilities_valid = model.predict_proba(features_valid) \n",
    "probabilities_one_valid = probabilities_valid[:, 1] \n",
    "\n",
    "print(\"Значения вероятностей классов модели логистическая регрессия:\", probabilities_one_valid[:5])"
   ]
  },
  {
   "cell_type": "code",
   "execution_count": 25,
   "metadata": {},
   "outputs": [
    {
     "name": "stdout",
     "output_type": "stream",
     "text": [
      "Значения вероятностей классов модели решающее дерево: [0.60869565 0.01935484 0.35416667 0.13064628 0.13064628]\n"
     ]
    }
   ],
   "source": [
    "# значения вероятностей классов модели решающее дерево\n",
    "\n",
    "model = DecisionTreeClassifier(random_state=12345, max_depth=5)\n",
    "model.fit(features_train, target_train)\n",
    "\n",
    "probabilities_valid = model.predict_proba(features_valid) \n",
    "probabilities_one_valid = probabilities_valid[:, 1] \n",
    "\n",
    "print(\"Значения вероятностей классов модели решающее дерево:\", probabilities_one_valid[:5])"
   ]
  },
  {
   "cell_type": "code",
   "execution_count": 26,
   "metadata": {},
   "outputs": [
    {
     "name": "stdout",
     "output_type": "stream",
     "text": [
      "Значения вероятностей классов модели случайный лес: [0.43342414 0.09335627 0.51886819 0.12499136 0.12283327]\n"
     ]
    }
   ],
   "source": [
    "# значения вероятностей классов модели случайный лес\n",
    "\n",
    "model = RandomForestClassifier(random_state=12345, max_depth=5)\n",
    "model.fit(features_train, target_train)\n",
    "\n",
    "probabilities_valid = model.predict_proba(features_valid) \n",
    "probabilities_one_valid = probabilities_valid[:, 1] \n",
    "\n",
    "print(\"Значения вероятностей классов модели случайный лес:\", probabilities_one_valid[:5])"
   ]
  },
  {
   "cell_type": "code",
   "execution_count": 27,
   "metadata": {},
   "outputs": [
    {
     "name": "stdout",
     "output_type": "stream",
     "text": [
      "Порог = 0.00 | Точность = 0.207, Полнота = 1.000, F1 = 0.34\n",
      "Порог = 0.02 | Точность = 0.207, Полнота = 1.000, F1 = 0.34\n",
      "Порог = 0.04 | Точность = 0.207, Полнота = 1.000, F1 = 0.34\n",
      "Порог = 0.06 | Точность = 0.217, Полнота = 1.000, F1 = 0.36\n",
      "Порог = 0.08 | Точность = 0.235, Полнота = 0.989, F1 = 0.38\n",
      "Порог = 0.10 | Точность = 0.261, Полнота = 0.973, F1 = 0.41\n",
      "Порог = 0.12 | Точность = 0.294, Полнота = 0.939, F1 = 0.45\n",
      "Порог = 0.14 | Точность = 0.335, Полнота = 0.894, F1 = 0.49\n",
      "Порог = 0.16 | Точность = 0.382, Полнота = 0.870, F1 = 0.53\n",
      "Порог = 0.18 | Точность = 0.434, Полнота = 0.809, F1 = 0.56\n",
      "Порог = 0.20 | Точность = 0.475, Полнота = 0.761, F1 = 0.59\n",
      "Порог = 0.22 | Точность = 0.507, Полнота = 0.708, F1 = 0.59\n",
      "Порог = 0.24 | Точность = 0.531, Полнота = 0.676, F1 = 0.60\n",
      "Порог = 0.26 | Точность = 0.562, Полнота = 0.650, F1 = 0.60\n",
      "Порог = 0.28 | Точность = 0.599, Полнота = 0.634, F1 = 0.62\n",
      "Порог = 0.30 | Точность = 0.647, Полнота = 0.597, F1 = 0.62\n",
      "Порог = 0.32 | Точность = 0.687, Полнота = 0.565, F1 = 0.62\n",
      "Порог = 0.34 | Точность = 0.703, Полнота = 0.501, F1 = 0.59\n",
      "Порог = 0.36 | Точность = 0.728, Полнота = 0.475, F1 = 0.57\n",
      "Порог = 0.38 | Точность = 0.757, Полнота = 0.462, F1 = 0.57\n",
      "Порог = 0.40 | Точность = 0.767, Полнота = 0.454, F1 = 0.57\n",
      "Порог = 0.42 | Точность = 0.789, Полнота = 0.438, F1 = 0.56\n",
      "Порог = 0.44 | Точность = 0.794, Полнота = 0.419, F1 = 0.55\n",
      "Порог = 0.46 | Точность = 0.833, Полнота = 0.398, F1 = 0.54\n",
      "Порог = 0.48 | Точность = 0.838, Полнота = 0.385, F1 = 0.53\n",
      "\n",
      "При изменении порога модели случайного леса:\n",
      "F1: 0.62\n",
      "AUC_ROC: 0.85\n",
      "\n"
     ]
    },
    {
     "data": {
      "image/png": "[encoded data removed]",
      "text/plain": [
       "<Figure size 432x432 with 1 Axes>"
      ]
     },
     "metadata": {
      "needs_background": "light"
     },
     "output_type": "display_data"
    },
    {
     "data": {
      "image/png": "[encoded data removed]",
      "text/plain": [
       "<Figure size 432x288 with 1 Axes>"
      ]
     },
     "metadata": {
      "needs_background": "light"
     },
     "output_type": "display_data"
    }
   ],
   "source": [
    "# изменим значение порога модели случайный лес и посмотрим, какими станут метрики\n",
    "\n",
    "model = RandomForestClassifier(random_state=12345, criterion='gini', max_depth=5, n_estimators=61)\n",
    "model.fit(features_train, target_train)\n",
    "probabilities_valid = model.predict_proba(features_valid)\n",
    "probabilities_one_valid = probabilities_valid[:, 1]\n",
    "\n",
    "for threshold in np.arange(0, 0.5, 0.02):\n",
    "    predicted_valid = probabilities_one_valid > threshold \n",
    "    precision = precision_score(target_valid, predicted_valid) \n",
    "    recall = recall_score(target_valid, predicted_valid)\n",
    "    f1 = f1_score(target_valid, predicted_valid)\n",
    "\n",
    "    print(\"Порог = {:.2f} | Точность = {:.3f}, Полнота = {:.3f}, F1 = {:.2f}\".format(\n",
    "        threshold, precision, recall, f1))\n",
    "    \n",
    "threshold=0.32\n",
    "\n",
    "predicted_valid = probabilities_one_valid > threshold  \n",
    "precision = precision_score(target_valid, predicted_valid) \n",
    "recall = recall_score(target_valid, predicted_valid)\n",
    "\n",
    "# расчет мерики F1 при изменении порога модели случайного леса\n",
    "f1 = f1_score(target_valid, predicted_valid)\n",
    "precision, recall, thresholds = precision_recall_curve(target_valid, probabilities_valid[:, 1])\n",
    "\n",
    "print ()\n",
    "print (\"При изменении порога модели случайного леса:\")\n",
    "print(\"F1:\", round(f1, 2))\n",
    "\n",
    "# расчет мерики auc_roc при изменении порога модели случайного леса\n",
    "auc_roc = roc_auc_score(target_valid, probabilities_one_valid)\n",
    "print(\"AUC_ROC:\", round(auc_roc, 2))\n",
    "\n",
    "print ()\n",
    "# построим PR - кривую для модели случайного леса\n",
    "plt.figure(figsize=(6, 6))\n",
    "plt.step(recall, precision, where='post')\n",
    "plt.xlabel('Полнота')\n",
    "plt.ylabel('Точность')\n",
    "plt.ylim([0.0, 1.05])\n",
    "plt.xlim([0.0, 1.0])\n",
    "plt.title('PR - кривая')\n",
    "plt.show()\n",
    "\n",
    "# посторим ROC-кривую для модели случайного леса\n",
    "fpr, tpr, thresholds = roc_curve(target_valid, probabilities_one_valid) \n",
    "plt.figure()\n",
    "plt.plot(fpr, tpr, [0, 1], [0, 1], linestyle='--')\n",
    "plt.xlim([0.0, 1.0])\n",
    "plt.ylim([0.0, 1.0])\n",
    "plt.xlabel('False Positive Rate')\n",
    "plt.ylabel('True Positive Rate')\n",
    "plt.title('ROC-кривая')\n",
    "plt.show()\n"
   ]
  },
  {
   "cell_type": "code",
   "execution_count": 28,
   "metadata": {},
   "outputs": [
    {
     "name": "stdout",
     "output_type": "stream",
     "text": [
      "Порог = 0.00 | Точность = 0.208, Полнота = 1.000, F1 = 0.34\n",
      "Порог = 0.02 | Точность = 0.255, Полнота = 0.987, F1 = 0.41\n",
      "Порог = 0.04 | Точность = 0.265, Полнота = 0.979, F1 = 0.42\n",
      "Порог = 0.06 | Точность = 0.283, Полнота = 0.939, F1 = 0.43\n",
      "Порог = 0.08 | Точность = 0.283, Полнота = 0.939, F1 = 0.43\n",
      "Порог = 0.10 | Точность = 0.282, Полнота = 0.936, F1 = 0.43\n",
      "Порог = 0.12 | Точность = 0.306, Полнота = 0.907, F1 = 0.46\n",
      "Порог = 0.14 | Точность = 0.455, Полнота = 0.748, F1 = 0.57\n",
      "Порог = 0.16 | Точность = 0.455, Полнота = 0.748, F1 = 0.57\n",
      "Порог = 0.18 | Точность = 0.480, Полнота = 0.716, F1 = 0.58\n",
      "Порог = 0.20 | Точность = 0.480, Полнота = 0.716, F1 = 0.58\n",
      "Порог = 0.22 | Точность = 0.480, Полнота = 0.716, F1 = 0.58\n",
      "Порог = 0.24 | Точность = 0.511, Полнота = 0.679, F1 = 0.58\n",
      "Порог = 0.26 | Точность = 0.511, Полнота = 0.679, F1 = 0.58\n",
      "Порог = 0.28 | Точность = 0.619, Полнота = 0.586, F1 = 0.60\n",
      "Порог = 0.30 | Точность = 0.619, Полнота = 0.586, F1 = 0.60\n",
      "Порог = 0.32 | Точность = 0.619, Полнота = 0.586, F1 = 0.60\n",
      "Порог = 0.34 | Точность = 0.619, Полнота = 0.586, F1 = 0.60\n",
      "Порог = 0.36 | Точность = 0.621, Полнота = 0.557, F1 = 0.59\n",
      "Порог = 0.38 | Точность = 0.621, Полнота = 0.557, F1 = 0.59\n",
      "Порог = 0.40 | Точность = 0.621, Полнота = 0.557, F1 = 0.59\n",
      "Порог = 0.42 | Точность = 0.766, Полнота = 0.435, F1 = 0.55\n",
      "Порог = 0.44 | Точность = 0.766, Полнота = 0.435, F1 = 0.55\n",
      "Порог = 0.46 | Точность = 0.766, Полнота = 0.435, F1 = 0.55\n",
      "Порог = 0.48 | Точность = 0.766, Полнота = 0.435, F1 = 0.55\n",
      "\n",
      "При изменении порога модели решающее дерево:\n",
      "F1: 0.6\n",
      "AUC_ROC: 0.83\n",
      "\n"
     ]
    },
    {
     "data": {
      "image/png": "[encoded data removed]",
      "text/plain": [
       "<Figure size 432x432 with 1 Axes>"
      ]
     },
     "metadata": {
      "needs_background": "light"
     },
     "output_type": "display_data"
    },
    {
     "data": {
      "image/png": "[encoded data removed]",
      "text/plain": [
       "<Figure size 432x288 with 1 Axes>"
      ]
     },
     "metadata": {
      "needs_background": "light"
     },
     "output_type": "display_data"
    }
   ],
   "source": [
    "# изменим значение порога модели решающее дерево и посмотрим, какими станут метрики\n",
    "\n",
    "model = DecisionTreeClassifier(random_state=12345, criterion='gini', max_depth=5)\n",
    "model.fit(features_train, target_train)\n",
    "probabilities_valid = model.predict_proba(features_valid)\n",
    "probabilities_one_valid = probabilities_valid[:, 1]\n",
    "\n",
    "for threshold in np.arange(0, 0.5, 0.02):\n",
    "    predicted_valid = probabilities_one_valid > threshold \n",
    "    precision = precision_score(target_valid, predicted_valid) \n",
    "    recall = recall_score(target_valid, predicted_valid)\n",
    "    f1 = f1_score(target_valid, predicted_valid)\n",
    "\n",
    "    print(\"Порог = {:.2f} | Точность = {:.3f}, Полнота = {:.3f}, F1 = {:.2f}\".format(\n",
    "        threshold, precision, recall, f1))\n",
    "    \n",
    "threshold=0.32\n",
    "\n",
    "predicted_valid = probabilities_one_valid > threshold  \n",
    "precision = precision_score(target_valid, predicted_valid) \n",
    "recall = recall_score(target_valid, predicted_valid)\n",
    "\n",
    "# расчет мерики F1 при изменении порога модели решающее дерево\n",
    "f1 = f1_score(target_valid, predicted_valid)\n",
    "precision, recall, thresholds = precision_recall_curve(target_valid, probabilities_valid[:, 1])\n",
    "\n",
    "print ()\n",
    "print (\"При изменении порога модели решающее дерево:\")\n",
    "print(\"F1:\", round(f1, 2))\n",
    "\n",
    "# расчет мерики auc_roc при изменении порога модели решающее дерево\n",
    "auc_roc = roc_auc_score(target_valid, probabilities_one_valid)\n",
    "print(\"AUC_ROC:\", round(auc_roc, 2))\n",
    "print ()\n",
    "\n",
    "# построим PR - кривую для модели решающего дерева\n",
    "plt.figure(figsize=(6, 6))\n",
    "plt.step(recall, precision, where='post')\n",
    "plt.xlabel('Полнота')\n",
    "plt.ylabel('Точность')\n",
    "plt.ylim([0.0, 1.05])\n",
    "plt.xlim([0.0, 1.0])\n",
    "plt.title('PR - кривая')\n",
    "plt.show()\n",
    "\n",
    "# посторим ROC-кривую для модели решающего дерева\n",
    "fpr, tpr, thresholds = roc_curve(target_valid, probabilities_one_valid) \n",
    "plt.figure()\n",
    "plt.plot(fpr, tpr, [0, 1], [0, 1], linestyle='--')\n",
    "plt.xlim([0.0, 1.0])\n",
    "plt.ylim([0.0, 1.0])\n",
    "plt.xlabel('False Positive Rate')\n",
    "plt.ylabel('True Positive Rate')\n",
    "plt.title('ROC-кривая')\n",
    "plt.show()"
   ]
  },
  {
   "cell_type": "code",
   "execution_count": 29,
   "metadata": {},
   "outputs": [
    {
     "name": "stdout",
     "output_type": "stream",
     "text": [
      "Порог = 0.00 | Точность = 0.207, Полнота = 1.000, F1 = 0.34\n",
      "Порог = 0.02 | Точность = 0.208, Полнота = 1.000, F1 = 0.34\n",
      "Порог = 0.04 | Точность = 0.215, Полнота = 0.997, F1 = 0.35\n",
      "Порог = 0.06 | Точность = 0.229, Полнота = 0.973, F1 = 0.37\n",
      "Порог = 0.08 | Точность = 0.248, Полнота = 0.960, F1 = 0.39\n",
      "Порог = 0.10 | Точность = 0.268, Полнота = 0.939, F1 = 0.42\n",
      "Порог = 0.12 | Точность = 0.282, Полнота = 0.899, F1 = 0.43\n",
      "Порог = 0.14 | Точность = 0.302, Полнота = 0.867, F1 = 0.45\n",
      "Порог = 0.16 | Точность = 0.315, Полнота = 0.812, F1 = 0.45\n",
      "Порог = 0.18 | Точность = 0.323, Полнота = 0.732, F1 = 0.45\n",
      "Порог = 0.20 | Точность = 0.343, Полнота = 0.692, F1 = 0.46\n",
      "Порог = 0.22 | Точность = 0.370, Полнота = 0.658, F1 = 0.47\n",
      "Порог = 0.24 | Точность = 0.385, Полнота = 0.610, F1 = 0.47\n",
      "Порог = 0.26 | Точность = 0.407, Полнота = 0.570, F1 = 0.48\n",
      "Порог = 0.28 | Точность = 0.431, Полнота = 0.536, F1 = 0.48\n",
      "Порог = 0.30 | Точность = 0.441, Полнота = 0.480, F1 = 0.46\n",
      "Порог = 0.32 | Точность = 0.464, Полнота = 0.443, F1 = 0.45\n",
      "Порог = 0.34 | Точность = 0.487, Полнота = 0.393, F1 = 0.43\n",
      "Порог = 0.36 | Точность = 0.494, Полнота = 0.353, F1 = 0.41\n",
      "Порог = 0.38 | Точность = 0.510, Полнота = 0.326, F1 = 0.40\n",
      "Порог = 0.40 | Точность = 0.549, Полнота = 0.300, F1 = 0.39\n",
      "Порог = 0.42 | Точность = 0.566, Полнота = 0.263, F1 = 0.36\n",
      "Порог = 0.44 | Точность = 0.575, Полнота = 0.223, F1 = 0.32\n",
      "Порог = 0.46 | Точность = 0.580, Полнота = 0.202, F1 = 0.30\n",
      "Порог = 0.48 | Точность = 0.578, Полнота = 0.178, F1 = 0.27\n",
      "\n",
      "При изменении порога модели логистическая регрессия, F1 = 0.48\n"
     ]
    }
   ],
   "source": [
    "# изменим значение порога модели логистическая регрессия и посмотрим, какими станут метрики\n",
    "\n",
    "model = LogisticRegression(random_state=12345, solver='liblinear')\n",
    "model.fit(features_train, target_train)\n",
    "probabilities_valid = model.predict_proba(features_valid)\n",
    "probabilities_one_valid = probabilities_valid[:, 1]\n",
    "\n",
    "for threshold in np.arange(0, 0.5, 0.02):\n",
    "    predicted_valid = probabilities_one_valid > threshold \n",
    "    precision = precision_score(target_valid, predicted_valid) \n",
    "    recall = recall_score(target_valid, predicted_valid)\n",
    "    f1 = f1_score(target_valid, predicted_valid)\n",
    "\n",
    "    print(\"Порог = {:.2f} | Точность = {:.3f}, Полнота = {:.3f}, F1 = {:.2f}\".format(\n",
    "        threshold, precision, recall, f1))\n",
    "    \n",
    "threshold=0.28\n",
    "\n",
    "predicted_valid = probabilities_one_valid > threshold  \n",
    "precision = precision_score(target_valid, predicted_valid) \n",
    "recall = recall_score(target_valid, predicted_valid)\n",
    "f1 = f1_score(target_valid, predicted_valid)\n",
    "\n",
    "print ()\n",
    "print(\"При изменении порога модели логистическая регрессия, F1 =\", round(f1, 2))\n"
   ]
  },
  {
   "cell_type": "markdown",
   "metadata": {},
   "source": [
    "<div style=\"border:solid green 2px; padding: 20px\">\n",
    "\n",
    "### Вывод\n",
    "При изменении значения порога метрики F1 и AUC_ROC улучшились у модели случайный лес и решающее дерево. Лучший результат у модели случайного леса F1: 0.62, \n",
    "AUC_ROC: 0.85. С ростом F1 метрики увеличилось и качество модели случайного леса.\n",
    "    \n",
    "Уменьшили порог точность уменьшилась, а полнота увеличилась. Среди ответов стало больше положительных, что помогло достчь необходимого результата. Однако F1 модели логистическая регрессия при изменении порога не увеличилась, а уменьшилась, уменьшилось и качество этой модели.\n",
    "    \n",
    "Также изобразили на графике, как выглядят значения метрик при изменении порога. На графике по вертикали наносится значение точности, по горизонтали — полноты. Кривая, показывающая их значения, называется PR-кривой (от англ. Precision и Recall). Чем выше кривая, тем лучше модель. График PR-кривой модели случайный лес показал лучший результат.\n",
    "    \n",
    "График ROC-кривая или кривая ошибок тоже показывает, что качество лучше у модели случайного леса. Ее ROC-кривая намного выше ROC-кривой случайной модели.   \n",
    "    \n",
    "</div>     "
   ]
  },
  {
   "cell_type": "markdown",
   "metadata": {},
   "source": [
    "## Тестирование модели"
   ]
  },
  {
   "cell_type": "code",
   "execution_count": 30,
   "metadata": {},
   "outputs": [
    {
     "name": "stdout",
     "output_type": "stream",
     "text": [
      "Лучшая модель:\n",
      "F1: 0.61\n",
      "AUC_ROC: 0.85\n"
     ]
    }
   ],
   "source": [
    "# проведем тестирование модели\n",
    "\n",
    "model = RandomForestClassifier(random_state=12345, criterion='gini', max_depth=5, n_estimators=61)\n",
    "model.fit(features_train, target_train)\n",
    "probabilities_valid = model.predict_proba(features_test)\n",
    "probabilities_one_valid = probabilities_valid[:, 1]\n",
    "\n",
    "threshold=0.32\n",
    "\n",
    "predicted_valid = probabilities_one_valid > threshold  \n",
    "\n",
    "# расчет мерики F1 при изменении порога модели случайного леса\n",
    "f1 = f1_score(target_test, predicted_valid)\n",
    "\n",
    "print (\"Лучшая модель:\")\n",
    "print(\"F1:\", round(f1, 3))\n",
    "\n",
    "# расчет мерики auc_roc при изменении порога модели случайного леса\n",
    "auc_roc = roc_auc_score(target_test, probabilities_one_valid)\n",
    "\n",
    "print(\"AUC_ROC:\", round(auc_roc, 2))"
   ]
  },
  {
   "cell_type": "markdown",
   "metadata": {},
   "source": [
    "<div style=\"border:solid green 2px; padding: 20px\">\n",
    "\n",
    "### Вывод\n",
    "    \n",
    "Модель с предельно большим значением F1-меры построена успешно. После тестирования модели значение F1 = 0.61, значение AUC_ROC = 0.85   \n",
    "    \n",
    "</div>     "
   ]
  }
 ],
 "metadata": {
  "ExecuteTimeLog": [
   {
    "duration": 248,
    "start_time": "2022-03-09T13:13:17.578Z"
   },
   {
    "duration": 983,
    "start_time": "2022-03-09T13:13:27.116Z"
   },
   {
    "duration": 36,
    "start_time": "2022-03-09T13:13:28.587Z"
   },
   {
    "duration": 37,
    "start_time": "2022-03-09T13:29:33.726Z"
   },
   {
    "duration": 34,
    "start_time": "2022-03-09T13:29:56.073Z"
   },
   {
    "duration": 39,
    "start_time": "2022-03-09T13:30:57.432Z"
   },
   {
    "duration": 80,
    "start_time": "2022-03-09T13:36:54.432Z"
   },
   {
    "duration": 67,
    "start_time": "2022-03-09T13:38:10.662Z"
   },
   {
    "duration": 11,
    "start_time": "2022-03-09T13:39:41.562Z"
   },
   {
    "duration": 7,
    "start_time": "2022-03-09T13:40:08.156Z"
   },
   {
    "duration": 5,
    "start_time": "2022-03-09T13:42:51.014Z"
   },
   {
    "duration": 7,
    "start_time": "2022-03-09T13:50:57.027Z"
   },
   {
    "duration": 11,
    "start_time": "2022-03-09T13:51:39.785Z"
   },
   {
    "duration": 4919,
    "start_time": "2022-03-09T13:54:33.851Z"
   },
   {
    "duration": 9,
    "start_time": "2022-03-09T13:55:00.144Z"
   },
   {
    "duration": 9,
    "start_time": "2022-03-09T13:55:19.331Z"
   },
   {
    "duration": 1083,
    "start_time": "2022-03-09T13:55:27.159Z"
   },
   {
    "duration": 79,
    "start_time": "2022-03-09T13:55:28.244Z"
   },
   {
    "duration": 13,
    "start_time": "2022-03-09T13:55:28.325Z"
   },
   {
    "duration": 8,
    "start_time": "2022-03-09T13:55:28.359Z"
   },
   {
    "duration": 22,
    "start_time": "2022-03-09T13:55:28.369Z"
   },
   {
    "duration": 291,
    "start_time": "2022-03-09T13:55:28.393Z"
   },
   {
    "duration": -3207,
    "start_time": "2022-03-09T13:55:31.893Z"
   },
   {
    "duration": 11,
    "start_time": "2022-03-09T13:55:47.964Z"
   },
   {
    "duration": 4,
    "start_time": "2022-03-09T13:55:57.810Z"
   },
   {
    "duration": 286,
    "start_time": "2022-03-09T17:49:07.338Z"
   },
   {
    "duration": 303,
    "start_time": "2022-03-09T17:51:25.560Z"
   },
   {
    "duration": 1190,
    "start_time": "2022-03-09T17:51:32.966Z"
   },
   {
    "duration": 88,
    "start_time": "2022-03-09T17:51:34.158Z"
   },
   {
    "duration": 17,
    "start_time": "2022-03-09T17:51:34.249Z"
   },
   {
    "duration": 10,
    "start_time": "2022-03-09T17:51:34.269Z"
   },
   {
    "duration": 35,
    "start_time": "2022-03-09T17:51:34.302Z"
   },
   {
    "duration": 15,
    "start_time": "2022-03-09T17:51:34.340Z"
   },
   {
    "duration": 7,
    "start_time": "2022-03-09T17:51:34.357Z"
   },
   {
    "duration": 6625,
    "start_time": "2022-03-09T17:51:34.366Z"
   },
   {
    "duration": 5734,
    "start_time": "2022-03-09T17:52:02.391Z"
   },
   {
    "duration": 5,
    "start_time": "2022-03-09T17:52:45.741Z"
   },
   {
    "duration": 5741,
    "start_time": "2022-03-09T17:52:48.007Z"
   },
   {
    "duration": 6,
    "start_time": "2022-03-09T17:53:17.130Z"
   },
   {
    "duration": 1134,
    "start_time": "2022-03-09T17:53:53.627Z"
   },
   {
    "duration": 85,
    "start_time": "2022-03-09T17:53:54.763Z"
   },
   {
    "duration": 12,
    "start_time": "2022-03-09T17:53:54.851Z"
   },
   {
    "duration": 22,
    "start_time": "2022-03-09T17:53:54.864Z"
   },
   {
    "duration": 38,
    "start_time": "2022-03-09T17:53:54.887Z"
   },
   {
    "duration": 11,
    "start_time": "2022-03-09T17:53:54.928Z"
   },
   {
    "duration": 16,
    "start_time": "2022-03-09T17:53:54.941Z"
   },
   {
    "duration": 20,
    "start_time": "2022-03-09T17:53:54.960Z"
   },
   {
    "duration": 5,
    "start_time": "2022-03-09T17:54:08.831Z"
   },
   {
    "duration": 5804,
    "start_time": "2022-03-09T17:55:48.659Z"
   },
   {
    "duration": 4,
    "start_time": "2022-03-09T17:56:13.966Z"
   },
   {
    "duration": 5,
    "start_time": "2022-03-09T18:01:33.590Z"
   },
   {
    "duration": 264,
    "start_time": "2022-03-09T18:06:59.425Z"
   },
   {
    "duration": 10,
    "start_time": "2022-03-09T18:07:10.087Z"
   },
   {
    "duration": 6,
    "start_time": "2022-03-09T18:07:29.159Z"
   },
   {
    "duration": 5,
    "start_time": "2022-03-09T18:07:30.965Z"
   },
   {
    "duration": 8,
    "start_time": "2022-03-09T18:07:34.483Z"
   },
   {
    "duration": 1131,
    "start_time": "2022-03-09T18:07:45.040Z"
   },
   {
    "duration": 89,
    "start_time": "2022-03-09T18:07:46.173Z"
   },
   {
    "duration": 14,
    "start_time": "2022-03-09T18:07:46.264Z"
   },
   {
    "duration": 29,
    "start_time": "2022-03-09T18:07:46.281Z"
   },
   {
    "duration": 57,
    "start_time": "2022-03-09T18:07:46.312Z"
   },
   {
    "duration": 18,
    "start_time": "2022-03-09T18:07:46.371Z"
   },
   {
    "duration": 19,
    "start_time": "2022-03-09T18:07:46.390Z"
   },
   {
    "duration": 31,
    "start_time": "2022-03-09T18:07:46.412Z"
   },
   {
    "duration": 31,
    "start_time": "2022-03-09T18:07:46.445Z"
   },
   {
    "duration": 16,
    "start_time": "2022-03-09T18:08:47.585Z"
   },
   {
    "duration": 9,
    "start_time": "2022-03-09T18:09:37.084Z"
   },
   {
    "duration": 16,
    "start_time": "2022-03-09T18:12:36.952Z"
   },
   {
    "duration": 184,
    "start_time": "2022-03-09T18:14:47.644Z"
   },
   {
    "duration": 188,
    "start_time": "2022-03-09T18:14:58.554Z"
   },
   {
    "duration": 6086,
    "start_time": "2022-03-09T18:16:59.852Z"
   },
   {
    "duration": 17,
    "start_time": "2022-03-09T18:17:21.503Z"
   },
   {
    "duration": 9,
    "start_time": "2022-03-09T18:20:45.466Z"
   },
   {
    "duration": 188,
    "start_time": "2022-03-09T18:28:11.245Z"
   },
   {
    "duration": 192,
    "start_time": "2022-03-09T18:28:20.268Z"
   },
   {
    "duration": 219,
    "start_time": "2022-03-09T18:35:17.779Z"
   },
   {
    "duration": 4,
    "start_time": "2022-03-09T18:35:42.610Z"
   },
   {
    "duration": 35,
    "start_time": "2022-03-09T18:35:48.616Z"
   },
   {
    "duration": 51,
    "start_time": "2022-03-09T18:36:02.494Z"
   },
   {
    "duration": 254,
    "start_time": "2022-03-09T18:37:59.297Z"
   },
   {
    "duration": 379,
    "start_time": "2022-03-09T18:38:43.553Z"
   },
   {
    "duration": 271,
    "start_time": "2022-03-09T18:39:02.988Z"
   },
   {
    "duration": 270,
    "start_time": "2022-03-09T18:41:12.246Z"
   },
   {
    "duration": 254,
    "start_time": "2022-03-09T18:41:53.950Z"
   },
   {
    "duration": 18,
    "start_time": "2022-03-09T18:51:53.476Z"
   },
   {
    "duration": 35,
    "start_time": "2022-03-09T19:05:16.407Z"
   },
   {
    "duration": 50,
    "start_time": "2022-03-09T19:05:35.011Z"
   },
   {
    "duration": 9,
    "start_time": "2022-03-09T19:06:36.478Z"
   },
   {
    "duration": 9,
    "start_time": "2022-03-09T19:06:42.738Z"
   },
   {
    "duration": 11,
    "start_time": "2022-03-09T19:06:56.323Z"
   },
   {
    "duration": 48,
    "start_time": "2022-03-09T20:13:42.784Z"
   },
   {
    "duration": 49,
    "start_time": "2022-03-09T20:14:02.277Z"
   },
   {
    "duration": 43,
    "start_time": "2022-03-09T20:14:12.872Z"
   },
   {
    "duration": 1173,
    "start_time": "2022-03-09T20:14:20.684Z"
   },
   {
    "duration": 90,
    "start_time": "2022-03-09T20:14:21.859Z"
   },
   {
    "duration": 14,
    "start_time": "2022-03-09T20:14:21.955Z"
   },
   {
    "duration": 37,
    "start_time": "2022-03-09T20:14:21.971Z"
   },
   {
    "duration": 23,
    "start_time": "2022-03-09T20:14:22.010Z"
   },
   {
    "duration": 13,
    "start_time": "2022-03-09T20:14:22.036Z"
   },
   {
    "duration": 6,
    "start_time": "2022-03-09T20:14:22.052Z"
   },
   {
    "duration": 41,
    "start_time": "2022-03-09T20:14:22.061Z"
   },
   {
    "duration": 12,
    "start_time": "2022-03-09T20:14:22.105Z"
   },
   {
    "duration": 50,
    "start_time": "2022-03-09T20:14:22.119Z"
   },
   {
    "duration": 36,
    "start_time": "2022-03-09T20:14:22.171Z"
   },
   {
    "duration": 45,
    "start_time": "2022-03-09T20:14:35.333Z"
   },
   {
    "duration": 44,
    "start_time": "2022-03-09T20:14:51.768Z"
   },
   {
    "duration": 49,
    "start_time": "2022-03-09T20:15:33.810Z"
   },
   {
    "duration": 10,
    "start_time": "2022-03-09T20:16:42.046Z"
   },
   {
    "duration": 10,
    "start_time": "2022-03-09T20:16:47.749Z"
   },
   {
    "duration": 4,
    "start_time": "2022-03-09T20:19:49.420Z"
   },
   {
    "duration": 363,
    "start_time": "2022-03-09T20:25:03.534Z"
   },
   {
    "duration": 10,
    "start_time": "2022-03-09T20:26:05.495Z"
   },
   {
    "duration": 22,
    "start_time": "2022-03-09T20:31:19.151Z"
   },
   {
    "duration": 25,
    "start_time": "2022-03-09T20:31:38.245Z"
   },
   {
    "duration": 7,
    "start_time": "2022-03-09T20:43:54.874Z"
   },
   {
    "duration": 25,
    "start_time": "2022-03-09T20:44:16.020Z"
   },
   {
    "duration": 25,
    "start_time": "2022-03-09T20:46:49.981Z"
   },
   {
    "duration": 378,
    "start_time": "2022-03-10T09:28:21.509Z"
   },
   {
    "duration": 1348,
    "start_time": "2022-03-10T09:28:32.849Z"
   },
   {
    "duration": 113,
    "start_time": "2022-03-10T09:28:34.199Z"
   },
   {
    "duration": 15,
    "start_time": "2022-03-10T09:28:34.316Z"
   },
   {
    "duration": 8,
    "start_time": "2022-03-10T09:28:34.334Z"
   },
   {
    "duration": 64,
    "start_time": "2022-03-10T09:28:34.345Z"
   },
   {
    "duration": 14,
    "start_time": "2022-03-10T09:28:34.411Z"
   },
   {
    "duration": 6,
    "start_time": "2022-03-10T09:28:34.427Z"
   },
   {
    "duration": 7,
    "start_time": "2022-03-10T09:28:34.436Z"
   },
   {
    "duration": 36,
    "start_time": "2022-03-10T09:28:34.446Z"
   },
   {
    "duration": 14,
    "start_time": "2022-03-10T09:28:34.485Z"
   },
   {
    "duration": 386,
    "start_time": "2022-03-10T09:28:34.501Z"
   },
   {
    "duration": -3696,
    "start_time": "2022-03-10T09:28:38.586Z"
   },
   {
    "duration": -3705,
    "start_time": "2022-03-10T09:28:38.596Z"
   },
   {
    "duration": 15,
    "start_time": "2022-03-10T09:29:54.227Z"
   },
   {
    "duration": 10293,
    "start_time": "2022-03-10T09:29:58.114Z"
   },
   {
    "duration": -3652,
    "start_time": "2022-03-10T09:30:12.062Z"
   },
   {
    "duration": -3655,
    "start_time": "2022-03-10T09:30:12.066Z"
   },
   {
    "duration": 7010,
    "start_time": "2022-03-10T09:30:25.369Z"
   },
   {
    "duration": 7115,
    "start_time": "2022-03-10T09:30:54.303Z"
   },
   {
    "duration": 1519,
    "start_time": "2022-03-10T09:31:09.891Z"
   },
   {
    "duration": 114,
    "start_time": "2022-03-10T09:31:11.413Z"
   },
   {
    "duration": 15,
    "start_time": "2022-03-10T09:31:11.530Z"
   },
   {
    "duration": 37,
    "start_time": "2022-03-10T09:31:11.547Z"
   },
   {
    "duration": 34,
    "start_time": "2022-03-10T09:31:11.587Z"
   },
   {
    "duration": 18,
    "start_time": "2022-03-10T09:31:11.624Z"
   },
   {
    "duration": 42,
    "start_time": "2022-03-10T09:31:11.645Z"
   },
   {
    "duration": 8,
    "start_time": "2022-03-10T09:31:11.691Z"
   },
   {
    "duration": 11,
    "start_time": "2022-03-10T09:31:11.703Z"
   },
   {
    "duration": 16,
    "start_time": "2022-03-10T09:31:11.717Z"
   },
   {
    "duration": 438,
    "start_time": "2022-03-10T09:31:11.736Z"
   },
   {
    "duration": -3653,
    "start_time": "2022-03-10T09:31:15.830Z"
   },
   {
    "duration": -3655,
    "start_time": "2022-03-10T09:31:15.834Z"
   },
   {
    "duration": 17,
    "start_time": "2022-03-10T09:31:52.674Z"
   },
   {
    "duration": 17,
    "start_time": "2022-03-10T09:31:55.939Z"
   },
   {
    "duration": 1430,
    "start_time": "2022-03-10T09:32:04.390Z"
   },
   {
    "duration": 116,
    "start_time": "2022-03-10T09:32:05.823Z"
   },
   {
    "duration": 16,
    "start_time": "2022-03-10T09:32:05.942Z"
   },
   {
    "duration": 10,
    "start_time": "2022-03-10T09:32:05.982Z"
   },
   {
    "duration": 52,
    "start_time": "2022-03-10T09:32:05.995Z"
   },
   {
    "duration": 52,
    "start_time": "2022-03-10T09:32:06.050Z"
   },
   {
    "duration": 13,
    "start_time": "2022-03-10T09:32:06.104Z"
   },
   {
    "duration": 34,
    "start_time": "2022-03-10T09:32:06.120Z"
   },
   {
    "duration": 58,
    "start_time": "2022-03-10T09:32:06.157Z"
   },
   {
    "duration": 93,
    "start_time": "2022-03-10T09:32:06.219Z"
   },
   {
    "duration": 480,
    "start_time": "2022-03-10T09:32:06.315Z"
   },
   {
    "duration": -3606,
    "start_time": "2022-03-10T09:32:10.404Z"
   },
   {
    "duration": -3609,
    "start_time": "2022-03-10T09:32:10.409Z"
   },
   {
    "duration": 342,
    "start_time": "2022-03-10T09:32:29.434Z"
   },
   {
    "duration": 300,
    "start_time": "2022-03-10T09:32:45.888Z"
   },
   {
    "duration": 289,
    "start_time": "2022-03-10T09:33:05.891Z"
   },
   {
    "duration": 309,
    "start_time": "2022-03-10T09:33:49.540Z"
   },
   {
    "duration": 297,
    "start_time": "2022-03-10T09:34:40.734Z"
   },
   {
    "duration": 1328,
    "start_time": "2022-03-10T09:34:50.474Z"
   },
   {
    "duration": 115,
    "start_time": "2022-03-10T09:34:51.805Z"
   },
   {
    "duration": 15,
    "start_time": "2022-03-10T09:34:51.924Z"
   },
   {
    "duration": 10,
    "start_time": "2022-03-10T09:34:51.943Z"
   },
   {
    "duration": 34,
    "start_time": "2022-03-10T09:34:51.982Z"
   },
   {
    "duration": 17,
    "start_time": "2022-03-10T09:34:52.018Z"
   },
   {
    "duration": 5,
    "start_time": "2022-03-10T09:34:52.037Z"
   },
   {
    "duration": 39,
    "start_time": "2022-03-10T09:34:52.045Z"
   },
   {
    "duration": 13,
    "start_time": "2022-03-10T09:34:52.087Z"
   },
   {
    "duration": 512,
    "start_time": "2022-03-10T09:34:52.103Z"
   },
   {
    "duration": -3733,
    "start_time": "2022-03-10T09:34:56.351Z"
   },
   {
    "duration": -3739,
    "start_time": "2022-03-10T09:34:56.358Z"
   },
   {
    "duration": -3744,
    "start_time": "2022-03-10T09:34:56.364Z"
   },
   {
    "duration": 68,
    "start_time": "2022-03-10T09:35:29.616Z"
   },
   {
    "duration": 322,
    "start_time": "2022-03-10T09:36:11.905Z"
   },
   {
    "duration": 1275,
    "start_time": "2022-03-10T09:36:33.627Z"
   },
   {
    "duration": 113,
    "start_time": "2022-03-10T09:36:34.905Z"
   },
   {
    "duration": 16,
    "start_time": "2022-03-10T09:36:35.022Z"
   },
   {
    "duration": 10,
    "start_time": "2022-03-10T09:36:35.041Z"
   },
   {
    "duration": 58,
    "start_time": "2022-03-10T09:36:35.054Z"
   },
   {
    "duration": 14,
    "start_time": "2022-03-10T09:36:35.115Z"
   },
   {
    "duration": 6,
    "start_time": "2022-03-10T09:36:35.131Z"
   },
   {
    "duration": 42,
    "start_time": "2022-03-10T09:36:35.140Z"
   },
   {
    "duration": 6,
    "start_time": "2022-03-10T09:36:35.185Z"
   },
   {
    "duration": 440,
    "start_time": "2022-03-10T09:36:35.193Z"
   },
   {
    "duration": -3711,
    "start_time": "2022-03-10T09:36:39.346Z"
   },
   {
    "duration": -3713,
    "start_time": "2022-03-10T09:36:39.350Z"
   },
   {
    "duration": -3717,
    "start_time": "2022-03-10T09:36:39.356Z"
   },
   {
    "duration": 310,
    "start_time": "2022-03-10T09:36:48.791Z"
   },
   {
    "duration": 1318,
    "start_time": "2022-03-10T09:37:08.992Z"
   },
   {
    "duration": 120,
    "start_time": "2022-03-10T09:37:10.313Z"
   },
   {
    "duration": 17,
    "start_time": "2022-03-10T09:37:10.436Z"
   },
   {
    "duration": 33,
    "start_time": "2022-03-10T09:37:10.456Z"
   },
   {
    "duration": 31,
    "start_time": "2022-03-10T09:37:10.492Z"
   },
   {
    "duration": 15,
    "start_time": "2022-03-10T09:37:10.525Z"
   },
   {
    "duration": 42,
    "start_time": "2022-03-10T09:37:10.542Z"
   },
   {
    "duration": 12,
    "start_time": "2022-03-10T09:37:10.587Z"
   },
   {
    "duration": 4,
    "start_time": "2022-03-10T09:37:10.602Z"
   },
   {
    "duration": 428,
    "start_time": "2022-03-10T09:37:10.608Z"
   },
   {
    "duration": -3660,
    "start_time": "2022-03-10T09:37:14.699Z"
   },
   {
    "duration": -3694,
    "start_time": "2022-03-10T09:37:14.734Z"
   },
   {
    "duration": -3725,
    "start_time": "2022-03-10T09:37:14.767Z"
   },
   {
    "duration": 303,
    "start_time": "2022-03-10T09:37:26.957Z"
   },
   {
    "duration": 5,
    "start_time": "2022-03-10T09:37:36.590Z"
   },
   {
    "duration": 315,
    "start_time": "2022-03-10T09:37:43.560Z"
   },
   {
    "duration": 334,
    "start_time": "2022-03-10T09:37:53.303Z"
   },
   {
    "duration": 315,
    "start_time": "2022-03-10T09:40:56.312Z"
   },
   {
    "duration": 1439,
    "start_time": "2022-03-10T09:41:12.783Z"
   },
   {
    "duration": 126,
    "start_time": "2022-03-10T09:41:14.225Z"
   },
   {
    "duration": 37,
    "start_time": "2022-03-10T09:41:14.356Z"
   },
   {
    "duration": 9,
    "start_time": "2022-03-10T09:41:14.396Z"
   },
   {
    "duration": 46,
    "start_time": "2022-03-10T09:41:14.408Z"
   },
   {
    "duration": 35,
    "start_time": "2022-03-10T09:41:14.457Z"
   },
   {
    "duration": 18,
    "start_time": "2022-03-10T09:41:14.494Z"
   },
   {
    "duration": 26,
    "start_time": "2022-03-10T09:41:14.516Z"
   },
   {
    "duration": 23,
    "start_time": "2022-03-10T09:41:14.545Z"
   },
   {
    "duration": 588,
    "start_time": "2022-03-10T09:41:14.570Z"
   },
   {
    "duration": -3598,
    "start_time": "2022-03-10T09:41:18.759Z"
   },
   {
    "duration": -3600,
    "start_time": "2022-03-10T09:41:18.763Z"
   },
   {
    "duration": -3605,
    "start_time": "2022-03-10T09:41:18.770Z"
   },
   {
    "duration": 70,
    "start_time": "2022-03-10T09:45:12.585Z"
   },
   {
    "duration": 302,
    "start_time": "2022-03-10T09:45:40.616Z"
   },
   {
    "duration": 323,
    "start_time": "2022-03-10T09:45:54.770Z"
   },
   {
    "duration": 1343,
    "start_time": "2022-03-10T09:46:11.654Z"
   },
   {
    "duration": 116,
    "start_time": "2022-03-10T09:46:12.999Z"
   },
   {
    "duration": 16,
    "start_time": "2022-03-10T09:46:13.119Z"
   },
   {
    "duration": 9,
    "start_time": "2022-03-10T09:46:13.138Z"
   },
   {
    "duration": 33,
    "start_time": "2022-03-10T09:46:13.181Z"
   },
   {
    "duration": 14,
    "start_time": "2022-03-10T09:46:13.217Z"
   },
   {
    "duration": 6,
    "start_time": "2022-03-10T09:46:13.233Z"
   },
   {
    "duration": 42,
    "start_time": "2022-03-10T09:46:13.242Z"
   },
   {
    "duration": 3,
    "start_time": "2022-03-10T09:46:13.286Z"
   },
   {
    "duration": 78,
    "start_time": "2022-03-10T09:46:13.291Z"
   },
   {
    "duration": 20,
    "start_time": "2022-03-10T09:46:13.371Z"
   },
   {
    "duration": 12,
    "start_time": "2022-03-10T09:46:13.393Z"
   },
   {
    "duration": 34,
    "start_time": "2022-03-10T09:46:13.408Z"
   },
   {
    "duration": 413,
    "start_time": "2022-03-10T09:47:04.816Z"
   },
   {
    "duration": 296,
    "start_time": "2022-03-10T09:47:11.743Z"
   },
   {
    "duration": 297,
    "start_time": "2022-03-10T09:47:42.431Z"
   },
   {
    "duration": 300,
    "start_time": "2022-03-10T09:48:03.635Z"
   },
   {
    "duration": 291,
    "start_time": "2022-03-10T09:48:38.907Z"
   },
   {
    "duration": 318,
    "start_time": "2022-03-10T09:49:01.101Z"
   },
   {
    "duration": 1335,
    "start_time": "2022-03-10T09:49:09.294Z"
   },
   {
    "duration": 115,
    "start_time": "2022-03-10T09:49:10.631Z"
   },
   {
    "duration": 38,
    "start_time": "2022-03-10T09:49:10.749Z"
   },
   {
    "duration": 9,
    "start_time": "2022-03-10T09:49:10.789Z"
   },
   {
    "duration": 32,
    "start_time": "2022-03-10T09:49:10.801Z"
   },
   {
    "duration": 15,
    "start_time": "2022-03-10T09:49:10.836Z"
   },
   {
    "duration": 6,
    "start_time": "2022-03-10T09:49:10.883Z"
   },
   {
    "duration": 10,
    "start_time": "2022-03-10T09:49:10.893Z"
   },
   {
    "duration": 5,
    "start_time": "2022-03-10T09:49:10.905Z"
   },
   {
    "duration": 478,
    "start_time": "2022-03-10T09:49:10.912Z"
   },
   {
    "duration": -3718,
    "start_time": "2022-03-10T09:49:15.111Z"
   },
   {
    "duration": -3730,
    "start_time": "2022-03-10T09:49:15.125Z"
   },
   {
    "duration": -3744,
    "start_time": "2022-03-10T09:49:15.140Z"
   },
   {
    "duration": 299,
    "start_time": "2022-03-10T09:50:11.703Z"
   },
   {
    "duration": 64,
    "start_time": "2022-03-10T09:50:21.885Z"
   },
   {
    "duration": 11,
    "start_time": "2022-03-10T09:51:10.025Z"
   },
   {
    "duration": 6573,
    "start_time": "2022-03-10T09:51:23.095Z"
   },
   {
    "duration": 1273,
    "start_time": "2022-03-10T09:51:40.418Z"
   },
   {
    "duration": 114,
    "start_time": "2022-03-10T09:51:41.694Z"
   },
   {
    "duration": 15,
    "start_time": "2022-03-10T09:51:41.810Z"
   },
   {
    "duration": 9,
    "start_time": "2022-03-10T09:51:41.827Z"
   },
   {
    "duration": 64,
    "start_time": "2022-03-10T09:51:41.839Z"
   },
   {
    "duration": 16,
    "start_time": "2022-03-10T09:51:41.906Z"
   },
   {
    "duration": 7,
    "start_time": "2022-03-10T09:51:41.925Z"
   },
   {
    "duration": 47,
    "start_time": "2022-03-10T09:51:41.937Z"
   },
   {
    "duration": 25,
    "start_time": "2022-03-10T09:51:41.987Z"
   },
   {
    "duration": 2,
    "start_time": "2022-03-10T09:51:42.014Z"
   },
   {
    "duration": 390,
    "start_time": "2022-03-10T09:51:42.019Z"
   },
   {
    "duration": -3634,
    "start_time": "2022-03-10T09:51:46.046Z"
   },
   {
    "duration": -3637,
    "start_time": "2022-03-10T09:51:46.051Z"
   },
   {
    "duration": 30,
    "start_time": "2022-03-10T09:52:48.620Z"
   },
   {
    "duration": 33,
    "start_time": "2022-03-10T09:53:43.786Z"
   },
   {
    "duration": 490,
    "start_time": "2022-03-10T09:57:47.993Z"
   },
   {
    "duration": 265,
    "start_time": "2022-03-10T09:58:22.456Z"
   },
   {
    "duration": 328,
    "start_time": "2022-03-10T09:58:38.782Z"
   },
   {
    "duration": 1348,
    "start_time": "2022-03-10T09:59:33.034Z"
   },
   {
    "duration": 117,
    "start_time": "2022-03-10T09:59:34.385Z"
   },
   {
    "duration": 18,
    "start_time": "2022-03-10T09:59:34.505Z"
   },
   {
    "duration": 8,
    "start_time": "2022-03-10T09:59:34.526Z"
   },
   {
    "duration": 65,
    "start_time": "2022-03-10T09:59:34.537Z"
   },
   {
    "duration": 16,
    "start_time": "2022-03-10T09:59:34.604Z"
   },
   {
    "duration": 5,
    "start_time": "2022-03-10T09:59:34.622Z"
   },
   {
    "duration": 8,
    "start_time": "2022-03-10T09:59:34.630Z"
   },
   {
    "duration": 66,
    "start_time": "2022-03-10T09:59:34.641Z"
   },
   {
    "duration": 3,
    "start_time": "2022-03-10T09:59:34.709Z"
   },
   {
    "duration": 444,
    "start_time": "2022-03-10T09:59:34.715Z"
   },
   {
    "duration": -3748,
    "start_time": "2022-03-10T09:59:38.909Z"
   },
   {
    "duration": -3761,
    "start_time": "2022-03-10T09:59:38.923Z"
   },
   {
    "duration": 265,
    "start_time": "2022-03-10T09:59:45.560Z"
   },
   {
    "duration": 1462,
    "start_time": "2022-03-10T09:59:54.627Z"
   },
   {
    "duration": 165,
    "start_time": "2022-03-10T09:59:56.093Z"
   },
   {
    "duration": 29,
    "start_time": "2022-03-10T09:59:56.263Z"
   },
   {
    "duration": 11,
    "start_time": "2022-03-10T09:59:56.296Z"
   },
   {
    "duration": 73,
    "start_time": "2022-03-10T09:59:56.310Z"
   },
   {
    "duration": 17,
    "start_time": "2022-03-10T09:59:56.386Z"
   },
   {
    "duration": 29,
    "start_time": "2022-03-10T09:59:56.406Z"
   },
   {
    "duration": 7,
    "start_time": "2022-03-10T09:59:56.440Z"
   },
   {
    "duration": 48,
    "start_time": "2022-03-10T09:59:56.449Z"
   },
   {
    "duration": 3,
    "start_time": "2022-03-10T09:59:56.500Z"
   },
   {
    "duration": 421,
    "start_time": "2022-03-10T09:59:56.506Z"
   },
   {
    "duration": -3772,
    "start_time": "2022-03-10T10:00:00.703Z"
   },
   {
    "duration": -3783,
    "start_time": "2022-03-10T10:00:00.716Z"
   },
   {
    "duration": 14,
    "start_time": "2022-03-10T10:03:19.228Z"
   },
   {
    "duration": 1313,
    "start_time": "2022-03-10T11:19:32.409Z"
   },
   {
    "duration": 116,
    "start_time": "2022-03-10T11:19:33.725Z"
   },
   {
    "duration": 43,
    "start_time": "2022-03-10T11:19:33.845Z"
   },
   {
    "duration": 11,
    "start_time": "2022-03-10T11:19:33.891Z"
   },
   {
    "duration": 41,
    "start_time": "2022-03-10T11:19:33.905Z"
   },
   {
    "duration": 45,
    "start_time": "2022-03-10T11:19:33.949Z"
   },
   {
    "duration": 6,
    "start_time": "2022-03-10T11:19:33.997Z"
   },
   {
    "duration": 15,
    "start_time": "2022-03-10T11:19:34.007Z"
   },
   {
    "duration": 65,
    "start_time": "2022-03-10T11:19:34.025Z"
   },
   {
    "duration": 3,
    "start_time": "2022-03-10T11:19:34.093Z"
   },
   {
    "duration": 23,
    "start_time": "2022-03-10T11:19:34.099Z"
   },
   {
    "duration": 13,
    "start_time": "2022-03-10T11:19:34.125Z"
   },
   {
    "duration": 71,
    "start_time": "2022-03-10T11:19:34.140Z"
   },
   {
    "duration": 3,
    "start_time": "2022-03-10T11:22:00.894Z"
   },
   {
    "duration": 523,
    "start_time": "2022-03-10T11:22:45.539Z"
   },
   {
    "duration": 1290,
    "start_time": "2022-03-10T11:23:01.410Z"
   },
   {
    "duration": 120,
    "start_time": "2022-03-10T11:23:02.703Z"
   },
   {
    "duration": 17,
    "start_time": "2022-03-10T11:23:02.826Z"
   },
   {
    "duration": 9,
    "start_time": "2022-03-10T11:23:02.846Z"
   },
   {
    "duration": 54,
    "start_time": "2022-03-10T11:23:02.857Z"
   },
   {
    "duration": 22,
    "start_time": "2022-03-10T11:23:02.913Z"
   },
   {
    "duration": 5,
    "start_time": "2022-03-10T11:23:02.937Z"
   },
   {
    "duration": 11,
    "start_time": "2022-03-10T11:23:02.945Z"
   },
   {
    "duration": 5,
    "start_time": "2022-03-10T11:23:02.984Z"
   },
   {
    "duration": 64,
    "start_time": "2022-03-10T11:23:02.992Z"
   },
   {
    "duration": 31,
    "start_time": "2022-03-10T11:23:03.059Z"
   },
   {
    "duration": 10,
    "start_time": "2022-03-10T11:23:03.092Z"
   },
   {
    "duration": 44,
    "start_time": "2022-03-10T11:23:03.105Z"
   },
   {
    "duration": 63,
    "start_time": "2022-03-10T11:23:43.546Z"
   },
   {
    "duration": 1673,
    "start_time": "2022-03-10T11:23:53.102Z"
   },
   {
    "duration": 123,
    "start_time": "2022-03-10T11:23:54.779Z"
   },
   {
    "duration": 17,
    "start_time": "2022-03-10T11:23:54.906Z"
   },
   {
    "duration": 11,
    "start_time": "2022-03-10T11:23:54.926Z"
   },
   {
    "duration": 67,
    "start_time": "2022-03-10T11:23:54.940Z"
   },
   {
    "duration": 16,
    "start_time": "2022-03-10T11:23:55.009Z"
   },
   {
    "duration": 6,
    "start_time": "2022-03-10T11:23:55.028Z"
   },
   {
    "duration": 19,
    "start_time": "2022-03-10T11:23:55.038Z"
   },
   {
    "duration": 23,
    "start_time": "2022-03-10T11:23:55.060Z"
   },
   {
    "duration": 63,
    "start_time": "2022-03-10T11:23:55.086Z"
   },
   {
    "duration": 34,
    "start_time": "2022-03-10T11:23:55.151Z"
   },
   {
    "duration": 18,
    "start_time": "2022-03-10T11:23:55.188Z"
   },
   {
    "duration": 32,
    "start_time": "2022-03-10T11:23:55.209Z"
   },
   {
    "duration": 455,
    "start_time": "2022-03-10T11:26:51.995Z"
   },
   {
    "duration": 1265,
    "start_time": "2022-03-10T11:27:08.435Z"
   },
   {
    "duration": 118,
    "start_time": "2022-03-10T11:27:09.702Z"
   },
   {
    "duration": 15,
    "start_time": "2022-03-10T11:27:09.824Z"
   },
   {
    "duration": 8,
    "start_time": "2022-03-10T11:27:09.841Z"
   },
   {
    "duration": 61,
    "start_time": "2022-03-10T11:27:09.852Z"
   },
   {
    "duration": 15,
    "start_time": "2022-03-10T11:27:09.915Z"
   },
   {
    "duration": 6,
    "start_time": "2022-03-10T11:27:09.932Z"
   },
   {
    "duration": 9,
    "start_time": "2022-03-10T11:27:09.941Z"
   },
   {
    "duration": 3,
    "start_time": "2022-03-10T11:27:09.983Z"
   },
   {
    "duration": 75,
    "start_time": "2022-03-10T11:27:09.988Z"
   },
   {
    "duration": 23,
    "start_time": "2022-03-10T11:27:10.066Z"
   },
   {
    "duration": 7,
    "start_time": "2022-03-10T11:27:10.092Z"
   },
   {
    "duration": 29,
    "start_time": "2022-03-10T11:27:10.102Z"
   },
   {
    "duration": 454,
    "start_time": "2022-03-10T11:27:18.038Z"
   },
   {
    "duration": 296,
    "start_time": "2022-03-10T11:27:34.597Z"
   },
   {
    "duration": 1363,
    "start_time": "2022-03-10T11:27:44.535Z"
   },
   {
    "duration": 122,
    "start_time": "2022-03-10T11:27:45.902Z"
   },
   {
    "duration": 16,
    "start_time": "2022-03-10T11:27:46.027Z"
   },
   {
    "duration": 36,
    "start_time": "2022-03-10T11:27:46.046Z"
   },
   {
    "duration": 38,
    "start_time": "2022-03-10T11:27:46.084Z"
   },
   {
    "duration": 17,
    "start_time": "2022-03-10T11:27:46.125Z"
   },
   {
    "duration": 5,
    "start_time": "2022-03-10T11:27:46.145Z"
   },
   {
    "duration": 6,
    "start_time": "2022-03-10T11:27:46.184Z"
   },
   {
    "duration": 8,
    "start_time": "2022-03-10T11:27:46.193Z"
   },
   {
    "duration": 92,
    "start_time": "2022-03-10T11:27:46.203Z"
   },
   {
    "duration": 12,
    "start_time": "2022-03-10T11:27:46.298Z"
   },
   {
    "duration": 11,
    "start_time": "2022-03-10T11:27:46.312Z"
   },
   {
    "duration": 62,
    "start_time": "2022-03-10T11:27:46.326Z"
   },
   {
    "duration": 430,
    "start_time": "2022-03-10T11:27:56.967Z"
   },
   {
    "duration": 306,
    "start_time": "2022-03-10T11:28:06.504Z"
   },
   {
    "duration": 1317,
    "start_time": "2022-03-10T11:28:49.334Z"
   },
   {
    "duration": 108,
    "start_time": "2022-03-10T11:28:50.654Z"
   },
   {
    "duration": 23,
    "start_time": "2022-03-10T11:28:50.766Z"
   },
   {
    "duration": 9,
    "start_time": "2022-03-10T11:28:50.792Z"
   },
   {
    "duration": 36,
    "start_time": "2022-03-10T11:28:50.803Z"
   },
   {
    "duration": 48,
    "start_time": "2022-03-10T11:28:50.841Z"
   },
   {
    "duration": 5,
    "start_time": "2022-03-10T11:28:50.891Z"
   },
   {
    "duration": 11,
    "start_time": "2022-03-10T11:28:50.899Z"
   },
   {
    "duration": 5,
    "start_time": "2022-03-10T11:28:50.912Z"
   },
   {
    "duration": 95,
    "start_time": "2022-03-10T11:28:50.919Z"
   },
   {
    "duration": 12,
    "start_time": "2022-03-10T11:28:51.017Z"
   },
   {
    "duration": 10,
    "start_time": "2022-03-10T11:28:51.032Z"
   },
   {
    "duration": 57,
    "start_time": "2022-03-10T11:28:51.045Z"
   },
   {
    "duration": 478,
    "start_time": "2022-03-10T11:33:29.702Z"
   },
   {
    "duration": 1336,
    "start_time": "2022-03-10T11:33:41.880Z"
   },
   {
    "duration": 117,
    "start_time": "2022-03-10T11:33:43.219Z"
   },
   {
    "duration": 15,
    "start_time": "2022-03-10T11:33:43.339Z"
   },
   {
    "duration": 30,
    "start_time": "2022-03-10T11:33:43.357Z"
   },
   {
    "duration": 32,
    "start_time": "2022-03-10T11:33:43.390Z"
   },
   {
    "duration": 15,
    "start_time": "2022-03-10T11:33:43.424Z"
   },
   {
    "duration": 42,
    "start_time": "2022-03-10T11:33:43.442Z"
   },
   {
    "duration": 7,
    "start_time": "2022-03-10T11:33:43.488Z"
   },
   {
    "duration": 5,
    "start_time": "2022-03-10T11:33:43.498Z"
   },
   {
    "duration": 95,
    "start_time": "2022-03-10T11:33:43.506Z"
   },
   {
    "duration": 23,
    "start_time": "2022-03-10T11:33:43.603Z"
   },
   {
    "duration": 10,
    "start_time": "2022-03-10T11:33:43.628Z"
   },
   {
    "duration": 74,
    "start_time": "2022-03-10T11:33:43.640Z"
   },
   {
    "duration": 3,
    "start_time": "2022-03-10T11:35:09.073Z"
   },
   {
    "duration": 404,
    "start_time": "2022-03-10T11:35:17.822Z"
   },
   {
    "duration": 1386,
    "start_time": "2022-03-10T11:35:27.715Z"
   },
   {
    "duration": 115,
    "start_time": "2022-03-10T11:35:29.104Z"
   },
   {
    "duration": 14,
    "start_time": "2022-03-10T11:35:29.222Z"
   },
   {
    "duration": 26,
    "start_time": "2022-03-10T11:35:29.239Z"
   },
   {
    "duration": 46,
    "start_time": "2022-03-10T11:35:29.267Z"
   },
   {
    "duration": 14,
    "start_time": "2022-03-10T11:35:29.315Z"
   },
   {
    "duration": 31,
    "start_time": "2022-03-10T11:35:29.331Z"
   },
   {
    "duration": 20,
    "start_time": "2022-03-10T11:35:29.366Z"
   },
   {
    "duration": 37,
    "start_time": "2022-03-10T11:35:29.388Z"
   },
   {
    "duration": 4,
    "start_time": "2022-03-10T11:35:29.427Z"
   },
   {
    "duration": 38,
    "start_time": "2022-03-10T11:35:29.433Z"
   },
   {
    "duration": 20,
    "start_time": "2022-03-10T11:35:29.474Z"
   },
   {
    "duration": 56,
    "start_time": "2022-03-10T11:35:29.497Z"
   },
   {
    "duration": 3,
    "start_time": "2022-03-10T11:36:40.303Z"
   },
   {
    "duration": 453,
    "start_time": "2022-03-10T11:36:50.400Z"
   },
   {
    "duration": 1312,
    "start_time": "2022-03-10T11:36:58.691Z"
   },
   {
    "duration": 117,
    "start_time": "2022-03-10T11:37:00.006Z"
   },
   {
    "duration": 16,
    "start_time": "2022-03-10T11:37:00.126Z"
   },
   {
    "duration": 9,
    "start_time": "2022-03-10T11:37:00.145Z"
   },
   {
    "duration": 64,
    "start_time": "2022-03-10T11:37:00.157Z"
   },
   {
    "duration": 15,
    "start_time": "2022-03-10T11:37:00.224Z"
   },
   {
    "duration": 42,
    "start_time": "2022-03-10T11:37:00.241Z"
   },
   {
    "duration": 22,
    "start_time": "2022-03-10T11:37:00.286Z"
   },
   {
    "duration": 18,
    "start_time": "2022-03-10T11:37:00.311Z"
   },
   {
    "duration": 86,
    "start_time": "2022-03-10T11:37:00.332Z"
   },
   {
    "duration": 27,
    "start_time": "2022-03-10T11:37:00.421Z"
   },
   {
    "duration": 33,
    "start_time": "2022-03-10T11:37:00.450Z"
   },
   {
    "duration": 49,
    "start_time": "2022-03-10T11:37:00.486Z"
   },
   {
    "duration": 662,
    "start_time": "2022-03-10T11:37:20.792Z"
   },
   {
    "duration": 1323,
    "start_time": "2022-03-10T11:37:28.223Z"
   },
   {
    "duration": 108,
    "start_time": "2022-03-10T11:37:29.549Z"
   },
   {
    "duration": 28,
    "start_time": "2022-03-10T11:37:29.660Z"
   },
   {
    "duration": 8,
    "start_time": "2022-03-10T11:37:29.691Z"
   },
   {
    "duration": 43,
    "start_time": "2022-03-10T11:37:29.701Z"
   },
   {
    "duration": 36,
    "start_time": "2022-03-10T11:37:29.746Z"
   },
   {
    "duration": 6,
    "start_time": "2022-03-10T11:37:29.785Z"
   },
   {
    "duration": 18,
    "start_time": "2022-03-10T11:37:29.795Z"
   },
   {
    "duration": 24,
    "start_time": "2022-03-10T11:37:29.816Z"
   },
   {
    "duration": 74,
    "start_time": "2022-03-10T11:37:29.842Z"
   },
   {
    "duration": 11,
    "start_time": "2022-03-10T11:37:29.919Z"
   },
   {
    "duration": 16,
    "start_time": "2022-03-10T11:37:29.933Z"
   },
   {
    "duration": 53,
    "start_time": "2022-03-10T11:37:29.951Z"
   },
   {
    "duration": 392,
    "start_time": "2022-03-10T11:38:28.309Z"
   },
   {
    "duration": 1289,
    "start_time": "2022-03-10T11:38:36.315Z"
   },
   {
    "duration": 113,
    "start_time": "2022-03-10T11:38:37.606Z"
   },
   {
    "duration": 15,
    "start_time": "2022-03-10T11:38:37.722Z"
   },
   {
    "duration": 28,
    "start_time": "2022-03-10T11:38:37.740Z"
   },
   {
    "duration": 52,
    "start_time": "2022-03-10T11:38:37.770Z"
   },
   {
    "duration": 27,
    "start_time": "2022-03-10T11:38:37.824Z"
   },
   {
    "duration": 16,
    "start_time": "2022-03-10T11:38:37.853Z"
   },
   {
    "duration": 16,
    "start_time": "2022-03-10T11:38:37.873Z"
   },
   {
    "duration": 45,
    "start_time": "2022-03-10T11:38:37.892Z"
   },
   {
    "duration": 3,
    "start_time": "2022-03-10T11:38:37.940Z"
   },
   {
    "duration": 34,
    "start_time": "2022-03-10T11:38:37.946Z"
   },
   {
    "duration": 14,
    "start_time": "2022-03-10T11:38:37.983Z"
   },
   {
    "duration": 48,
    "start_time": "2022-03-10T11:38:38.000Z"
   },
   {
    "duration": 485,
    "start_time": "2022-03-10T11:50:07.188Z"
   },
   {
    "duration": 1539,
    "start_time": "2022-03-10T11:50:15.083Z"
   },
   {
    "duration": 123,
    "start_time": "2022-03-10T11:50:16.624Z"
   },
   {
    "duration": 38,
    "start_time": "2022-03-10T11:50:16.750Z"
   },
   {
    "duration": 12,
    "start_time": "2022-03-10T11:50:16.791Z"
   },
   {
    "duration": 36,
    "start_time": "2022-03-10T11:50:16.806Z"
   },
   {
    "duration": 51,
    "start_time": "2022-03-10T11:50:16.845Z"
   },
   {
    "duration": 14,
    "start_time": "2022-03-10T11:50:16.899Z"
   },
   {
    "duration": 16,
    "start_time": "2022-03-10T11:50:16.916Z"
   },
   {
    "duration": 52,
    "start_time": "2022-03-10T11:50:16.934Z"
   },
   {
    "duration": 4,
    "start_time": "2022-03-10T11:50:16.989Z"
   },
   {
    "duration": 20,
    "start_time": "2022-03-10T11:50:16.996Z"
   },
   {
    "duration": 11,
    "start_time": "2022-03-10T11:50:17.018Z"
   },
   {
    "duration": 93,
    "start_time": "2022-03-10T11:50:17.032Z"
   },
   {
    "duration": 394,
    "start_time": "2022-03-10T11:51:22.700Z"
   },
   {
    "duration": 1292,
    "start_time": "2022-03-10T11:51:33.314Z"
   },
   {
    "duration": 121,
    "start_time": "2022-03-10T11:51:34.609Z"
   },
   {
    "duration": 17,
    "start_time": "2022-03-10T11:51:34.735Z"
   },
   {
    "duration": 31,
    "start_time": "2022-03-10T11:51:34.755Z"
   },
   {
    "duration": 32,
    "start_time": "2022-03-10T11:51:34.789Z"
   },
   {
    "duration": 15,
    "start_time": "2022-03-10T11:51:34.824Z"
   },
   {
    "duration": 42,
    "start_time": "2022-03-10T11:51:34.842Z"
   },
   {
    "duration": 28,
    "start_time": "2022-03-10T11:51:34.888Z"
   },
   {
    "duration": 63,
    "start_time": "2022-03-10T11:51:34.919Z"
   },
   {
    "duration": 10,
    "start_time": "2022-03-10T11:51:34.985Z"
   },
   {
    "duration": 42,
    "start_time": "2022-03-10T11:51:34.997Z"
   },
   {
    "duration": 42,
    "start_time": "2022-03-10T11:51:35.041Z"
   },
   {
    "duration": 133,
    "start_time": "2022-03-10T11:51:35.086Z"
   },
   {
    "duration": 435,
    "start_time": "2022-03-10T11:52:07.181Z"
   },
   {
    "duration": 1392,
    "start_time": "2022-03-10T11:52:14.930Z"
   },
   {
    "duration": 111,
    "start_time": "2022-03-10T11:52:16.325Z"
   },
   {
    "duration": 416,
    "start_time": "2022-03-10T11:52:16.439Z"
   },
   {
    "duration": 204,
    "start_time": "2022-03-10T11:52:16.858Z"
   },
   {
    "duration": 196,
    "start_time": "2022-03-10T11:52:17.064Z"
   },
   {
    "duration": 334,
    "start_time": "2022-03-10T11:52:17.263Z"
   },
   {
    "duration": 873,
    "start_time": "2022-03-10T11:52:17.599Z"
   },
   {
    "duration": 580,
    "start_time": "2022-03-10T11:52:18.476Z"
   },
   {
    "duration": 682,
    "start_time": "2022-03-10T11:52:19.059Z"
   },
   {
    "duration": 446,
    "start_time": "2022-03-10T11:52:19.743Z"
   },
   {
    "duration": 327,
    "start_time": "2022-03-10T11:52:20.192Z"
   },
   {
    "duration": 361,
    "start_time": "2022-03-10T11:52:20.522Z"
   },
   {
    "duration": 888,
    "start_time": "2022-03-10T11:52:20.886Z"
   },
   {
    "duration": 459,
    "start_time": "2022-03-10T11:57:09.328Z"
   },
   {
    "duration": 1451,
    "start_time": "2022-03-10T11:57:17.858Z"
   },
   {
    "duration": 120,
    "start_time": "2022-03-10T11:57:19.312Z"
   },
   {
    "duration": 193,
    "start_time": "2022-03-10T11:57:19.435Z"
   },
   {
    "duration": 879,
    "start_time": "2022-03-10T11:57:19.630Z"
   },
   {
    "duration": 839,
    "start_time": "2022-03-10T11:57:20.512Z"
   },
   {
    "duration": 1401,
    "start_time": "2022-03-10T11:57:21.354Z"
   },
   {
    "duration": 809,
    "start_time": "2022-03-10T11:57:22.758Z"
   },
   {
    "duration": 107,
    "start_time": "2022-03-10T11:57:23.570Z"
   },
   {
    "duration": 293,
    "start_time": "2022-03-10T11:57:23.680Z"
   },
   {
    "duration": 446,
    "start_time": "2022-03-10T11:57:23.976Z"
   },
   {
    "duration": 544,
    "start_time": "2022-03-10T11:57:24.424Z"
   },
   {
    "duration": 68,
    "start_time": "2022-03-10T11:57:24.970Z"
   },
   {
    "duration": 85,
    "start_time": "2022-03-10T11:57:25.042Z"
   },
   {
    "duration": 9,
    "start_time": "2022-03-10T12:04:09.759Z"
   },
   {
    "duration": 25,
    "start_time": "2022-03-10T12:07:50.288Z"
   },
   {
    "duration": 5,
    "start_time": "2022-03-10T12:13:11.028Z"
   },
   {
    "duration": 69,
    "start_time": "2022-03-10T12:15:29.303Z"
   },
   {
    "duration": 52,
    "start_time": "2022-03-10T12:16:33.283Z"
   },
   {
    "duration": 607,
    "start_time": "2022-03-10T12:21:58.963Z"
   },
   {
    "duration": 382,
    "start_time": "2022-03-10T12:22:11.300Z"
   },
   {
    "duration": 428,
    "start_time": "2022-03-10T12:24:08.532Z"
   },
   {
    "duration": 216,
    "start_time": "2022-03-10T12:24:34.766Z"
   },
   {
    "duration": 176,
    "start_time": "2022-03-10T12:25:49.017Z"
   },
   {
    "duration": 172,
    "start_time": "2022-03-10T12:26:39.584Z"
   },
   {
    "duration": 72,
    "start_time": "2022-03-10T12:27:19.777Z"
   },
   {
    "duration": 106,
    "start_time": "2022-03-10T12:27:44.179Z"
   },
   {
    "duration": 42,
    "start_time": "2022-03-10T13:01:44.042Z"
   },
   {
    "duration": 201,
    "start_time": "2022-03-10T19:25:34.713Z"
   },
   {
    "duration": 180,
    "start_time": "2022-03-10T19:25:44.950Z"
   },
   {
    "duration": 1035,
    "start_time": "2022-03-10T19:25:53.322Z"
   },
   {
    "duration": 74,
    "start_time": "2022-03-10T19:25:54.359Z"
   },
   {
    "duration": 10,
    "start_time": "2022-03-10T19:25:54.435Z"
   },
   {
    "duration": 5,
    "start_time": "2022-03-10T19:25:54.447Z"
   },
   {
    "duration": 19,
    "start_time": "2022-03-10T19:25:54.454Z"
   },
   {
    "duration": 9,
    "start_time": "2022-03-10T19:25:54.475Z"
   },
   {
    "duration": 4,
    "start_time": "2022-03-10T19:25:54.485Z"
   },
   {
    "duration": 4,
    "start_time": "2022-03-10T19:25:54.491Z"
   },
   {
    "duration": 19,
    "start_time": "2022-03-10T19:25:54.533Z"
   },
   {
    "duration": 2,
    "start_time": "2022-03-10T19:25:54.553Z"
   },
   {
    "duration": 14,
    "start_time": "2022-03-10T19:25:54.557Z"
   },
   {
    "duration": 6,
    "start_time": "2022-03-10T19:25:54.572Z"
   },
   {
    "duration": 16,
    "start_time": "2022-03-10T19:25:54.580Z"
   },
   {
    "duration": 58,
    "start_time": "2022-03-10T19:25:54.598Z"
   },
   {
    "duration": 78,
    "start_time": "2022-03-10T19:25:54.658Z"
   },
   {
    "duration": 167,
    "start_time": "2022-03-10T19:25:54.738Z"
   },
   {
    "duration": 4242,
    "start_time": "2022-03-10T19:25:54.907Z"
   },
   {
    "duration": 195,
    "start_time": "2022-03-10T19:26:08.461Z"
   },
   {
    "duration": 113,
    "start_time": "2022-03-10T19:32:19.515Z"
   },
   {
    "duration": 157,
    "start_time": "2022-03-10T19:33:44.484Z"
   },
   {
    "duration": 299,
    "start_time": "2022-03-10T19:34:09.650Z"
   },
   {
    "duration": 192,
    "start_time": "2022-03-10T19:34:21.498Z"
   },
   {
    "duration": 7,
    "start_time": "2022-03-10T19:51:55.938Z"
   },
   {
    "duration": 113,
    "start_time": "2022-03-10T19:52:50.297Z"
   },
   {
    "duration": 113,
    "start_time": "2022-03-10T19:53:34.704Z"
   },
   {
    "duration": 298,
    "start_time": "2022-03-10T20:12:54.135Z"
   },
   {
    "duration": 339,
    "start_time": "2022-03-10T20:14:31.699Z"
   },
   {
    "duration": 206,
    "start_time": "2022-03-10T20:16:41.292Z"
   },
   {
    "duration": 204,
    "start_time": "2022-03-10T20:17:05.380Z"
   },
   {
    "duration": 8,
    "start_time": "2022-03-10T20:26:20.788Z"
   },
   {
    "duration": 301,
    "start_time": "2022-03-10T20:27:37.185Z"
   },
   {
    "duration": 4,
    "start_time": "2022-03-10T20:39:51.070Z"
   },
   {
    "duration": 161,
    "start_time": "2022-03-10T20:49:13.908Z"
   },
   {
    "duration": 159,
    "start_time": "2022-03-10T20:50:27.384Z"
   },
   {
    "duration": 374,
    "start_time": "2022-03-10T20:50:49.600Z"
   },
   {
    "duration": 327,
    "start_time": "2022-03-10T20:50:59.505Z"
   },
   {
    "duration": 156,
    "start_time": "2022-03-10T20:51:21.657Z"
   },
   {
    "duration": 161,
    "start_time": "2022-03-10T20:51:49.501Z"
   },
   {
    "duration": 55,
    "start_time": "2022-03-10T20:54:07.085Z"
   },
   {
    "duration": 60,
    "start_time": "2022-03-10T20:54:33.950Z"
   },
   {
    "duration": 54,
    "start_time": "2022-03-10T20:54:56.848Z"
   },
   {
    "duration": 50,
    "start_time": "2022-03-10T20:55:17.380Z"
   },
   {
    "duration": 160,
    "start_time": "2022-03-10T20:55:36.011Z"
   },
   {
    "duration": 302,
    "start_time": "2022-03-10T20:56:30.239Z"
   },
   {
    "duration": 460,
    "start_time": "2022-03-10T20:57:01.354Z"
   },
   {
    "duration": 64,
    "start_time": "2022-03-10T20:57:32.310Z"
   },
   {
    "duration": 274,
    "start_time": "2022-03-10T20:57:43.537Z"
   },
   {
    "duration": 2,
    "start_time": "2022-03-10T21:18:07.832Z"
   },
   {
    "duration": 59,
    "start_time": "2022-03-10T21:23:18.957Z"
   },
   {
    "duration": 36,
    "start_time": "2022-03-10T21:24:46.159Z"
   },
   {
    "duration": 67,
    "start_time": "2022-03-10T21:25:44.858Z"
   },
   {
    "duration": 227,
    "start_time": "2022-03-10T21:26:12.710Z"
   },
   {
    "duration": 66,
    "start_time": "2022-03-10T21:27:34.123Z"
   },
   {
    "duration": 272,
    "start_time": "2022-03-10T21:36:15.963Z"
   },
   {
    "duration": 218,
    "start_time": "2022-03-10T21:36:40.976Z"
   },
   {
    "duration": 64,
    "start_time": "2022-03-10T21:37:25.191Z"
   },
   {
    "duration": 77,
    "start_time": "2022-03-10T21:38:15.231Z"
   },
   {
    "duration": 245,
    "start_time": "2022-03-10T21:38:48.914Z"
   },
   {
    "duration": 152,
    "start_time": "2022-03-10T21:38:57.764Z"
   },
   {
    "duration": 311,
    "start_time": "2022-03-11T10:08:32.065Z"
   },
   {
    "duration": 1327,
    "start_time": "2022-03-11T10:08:45.184Z"
   },
   {
    "duration": 114,
    "start_time": "2022-03-11T10:08:46.514Z"
   },
   {
    "duration": 29,
    "start_time": "2022-03-11T10:08:46.631Z"
   },
   {
    "duration": 9,
    "start_time": "2022-03-11T10:08:46.662Z"
   },
   {
    "duration": 34,
    "start_time": "2022-03-11T10:08:46.673Z"
   },
   {
    "duration": 48,
    "start_time": "2022-03-11T10:08:46.709Z"
   },
   {
    "duration": 13,
    "start_time": "2022-03-11T10:08:46.760Z"
   },
   {
    "duration": 15,
    "start_time": "2022-03-11T10:08:46.777Z"
   },
   {
    "duration": 32,
    "start_time": "2022-03-11T10:08:46.794Z"
   },
   {
    "duration": 3,
    "start_time": "2022-03-11T10:08:46.828Z"
   },
   {
    "duration": 12,
    "start_time": "2022-03-11T10:08:46.852Z"
   },
   {
    "duration": 9,
    "start_time": "2022-03-11T10:08:46.867Z"
   },
   {
    "duration": 26,
    "start_time": "2022-03-11T10:08:46.878Z"
   },
   {
    "duration": 451,
    "start_time": "2022-03-11T10:08:46.906Z"
   },
   {
    "duration": 645,
    "start_time": "2022-03-11T10:08:47.359Z"
   },
   {
    "duration": 370,
    "start_time": "2022-03-11T10:08:48.008Z"
   },
   {
    "duration": 263,
    "start_time": "2022-03-11T10:08:48.381Z"
   },
   {
    "duration": 13,
    "start_time": "2022-03-11T10:08:48.647Z"
   },
   {
    "duration": 116,
    "start_time": "2022-03-11T10:08:48.662Z"
   },
   {
    "duration": 275,
    "start_time": "2022-03-11T10:08:48.780Z"
   },
   {
    "duration": 651,
    "start_time": "2022-03-11T10:08:49.060Z"
   },
   {
    "duration": 234,
    "start_time": "2022-03-11T10:09:00.631Z"
   },
   {
    "duration": 101,
    "start_time": "2022-03-11T10:11:27.650Z"
   },
   {
    "duration": 317,
    "start_time": "2022-03-11T10:11:58.936Z"
   },
   {
    "duration": 240,
    "start_time": "2022-03-11T10:12:21.897Z"
   },
   {
    "duration": 14,
    "start_time": "2022-03-11T10:16:52.844Z"
   },
   {
    "duration": 17,
    "start_time": "2022-03-11T10:22:28.770Z"
   },
   {
    "duration": 533,
    "start_time": "2022-03-11T10:24:03.990Z"
   },
   {
    "duration": 6,
    "start_time": "2022-03-11T10:24:36.654Z"
   },
   {
    "duration": 31,
    "start_time": "2022-03-11T10:24:44.054Z"
   },
   {
    "duration": 16,
    "start_time": "2022-03-11T10:24:55.035Z"
   },
   {
    "duration": 28,
    "start_time": "2022-03-11T10:25:17.728Z"
   },
   {
    "duration": 28,
    "start_time": "2022-03-11T10:25:34.539Z"
   },
   {
    "duration": 1342,
    "start_time": "2022-03-11T10:25:41.736Z"
   },
   {
    "duration": 130,
    "start_time": "2022-03-11T10:25:43.082Z"
   },
   {
    "duration": 41,
    "start_time": "2022-03-11T10:25:43.216Z"
   },
   {
    "duration": 12,
    "start_time": "2022-03-11T10:25:43.260Z"
   },
   {
    "duration": 43,
    "start_time": "2022-03-11T10:25:43.276Z"
   },
   {
    "duration": 46,
    "start_time": "2022-03-11T10:25:43.322Z"
   },
   {
    "duration": 6,
    "start_time": "2022-03-11T10:25:43.371Z"
   },
   {
    "duration": 11,
    "start_time": "2022-03-11T10:25:43.381Z"
   },
   {
    "duration": 72,
    "start_time": "2022-03-11T10:25:43.395Z"
   },
   {
    "duration": 3,
    "start_time": "2022-03-11T10:25:43.471Z"
   },
   {
    "duration": 16,
    "start_time": "2022-03-11T10:25:43.477Z"
   },
   {
    "duration": 14,
    "start_time": "2022-03-11T10:25:43.496Z"
   },
   {
    "duration": 66,
    "start_time": "2022-03-11T10:25:43.513Z"
   },
   {
    "duration": 446,
    "start_time": "2022-03-11T10:25:43.583Z"
   },
   {
    "duration": 578,
    "start_time": "2022-03-11T10:25:44.031Z"
   },
   {
    "duration": 445,
    "start_time": "2022-03-11T10:25:44.612Z"
   },
   {
    "duration": 244,
    "start_time": "2022-03-11T10:25:45.059Z"
   },
   {
    "duration": 11,
    "start_time": "2022-03-11T10:25:45.306Z"
   },
   {
    "duration": 109,
    "start_time": "2022-03-11T10:25:45.319Z"
   },
   {
    "duration": 321,
    "start_time": "2022-03-11T10:25:45.430Z"
   },
   {
    "duration": 324,
    "start_time": "2022-03-11T10:25:45.758Z"
   },
   {
    "duration": 11,
    "start_time": "2022-03-11T10:25:46.084Z"
   },
   {
    "duration": 14,
    "start_time": "2022-03-11T10:25:46.099Z"
   },
   {
    "duration": 57,
    "start_time": "2022-03-11T10:25:46.115Z"
   },
   {
    "duration": 14,
    "start_time": "2022-03-11T10:25:53.875Z"
   },
   {
    "duration": 27,
    "start_time": "2022-03-11T10:25:57.299Z"
   },
   {
    "duration": 132,
    "start_time": "2022-03-11T10:27:59.147Z"
   },
   {
    "duration": 575,
    "start_time": "2022-03-11T10:29:26.876Z"
   },
   {
    "duration": 444,
    "start_time": "2022-03-11T10:29:33.210Z"
   },
   {
    "duration": 523,
    "start_time": "2022-03-11T10:30:08.161Z"
   },
   {
    "duration": 611,
    "start_time": "2022-03-11T10:30:47.575Z"
   },
   {
    "duration": 590,
    "start_time": "2022-03-11T10:39:42.777Z"
   },
   {
    "duration": 585,
    "start_time": "2022-03-11T10:40:15.782Z"
   },
   {
    "duration": 86,
    "start_time": "2022-03-11T10:43:08.067Z"
   },
   {
    "duration": 1353,
    "start_time": "2022-03-11T10:43:40.931Z"
   },
   {
    "duration": 116,
    "start_time": "2022-03-11T10:43:42.287Z"
   },
   {
    "duration": 16,
    "start_time": "2022-03-11T10:43:42.406Z"
   },
   {
    "duration": 33,
    "start_time": "2022-03-11T10:43:42.425Z"
   },
   {
    "duration": 34,
    "start_time": "2022-03-11T10:43:42.461Z"
   },
   {
    "duration": 55,
    "start_time": "2022-03-11T10:43:42.498Z"
   },
   {
    "duration": 6,
    "start_time": "2022-03-11T10:43:42.556Z"
   },
   {
    "duration": 9,
    "start_time": "2022-03-11T10:43:42.565Z"
   },
   {
    "duration": 30,
    "start_time": "2022-03-11T10:43:42.580Z"
   },
   {
    "duration": 4,
    "start_time": "2022-03-11T10:43:42.653Z"
   },
   {
    "duration": 12,
    "start_time": "2022-03-11T10:43:42.660Z"
   },
   {
    "duration": 9,
    "start_time": "2022-03-11T10:43:42.675Z"
   },
   {
    "duration": 65,
    "start_time": "2022-03-11T10:43:42.687Z"
   },
   {
    "duration": 385,
    "start_time": "2022-03-11T10:43:42.754Z"
   },
   {
    "duration": 648,
    "start_time": "2022-03-11T10:43:43.151Z"
   },
   {
    "duration": 333,
    "start_time": "2022-03-11T10:43:43.801Z"
   },
   {
    "duration": 248,
    "start_time": "2022-03-11T10:43:44.136Z"
   },
   {
    "duration": 11,
    "start_time": "2022-03-11T10:43:44.386Z"
   },
   {
    "duration": 114,
    "start_time": "2022-03-11T10:43:44.399Z"
   },
   {
    "duration": 334,
    "start_time": "2022-03-11T10:43:44.517Z"
   },
   {
    "duration": 322,
    "start_time": "2022-03-11T10:43:44.855Z"
   },
   {
    "duration": 580,
    "start_time": "2022-03-11T10:43:45.180Z"
   },
   {
    "duration": 90,
    "start_time": "2022-03-11T10:43:45.762Z"
   },
   {
    "duration": 50,
    "start_time": "2022-03-11T10:44:58.901Z"
   },
   {
    "duration": 492,
    "start_time": "2022-03-11T10:45:41.962Z"
   },
   {
    "duration": 210,
    "start_time": "2022-03-11T10:45:53.075Z"
   },
   {
    "duration": 281,
    "start_time": "2022-03-11T10:47:05.789Z"
   },
   {
    "duration": 302,
    "start_time": "2022-03-11T10:50:17.434Z"
   },
   {
    "duration": 5,
    "start_time": "2022-03-11T10:50:42.511Z"
   },
   {
    "duration": 228,
    "start_time": "2022-03-11T10:50:48.072Z"
   },
   {
    "duration": 265,
    "start_time": "2022-03-11T13:14:34.954Z"
   },
   {
    "duration": 2264,
    "start_time": "2022-03-11T13:15:45.894Z"
   },
   {
    "duration": 1440,
    "start_time": "2022-03-11T13:16:38.444Z"
   },
   {
    "duration": 119,
    "start_time": "2022-03-11T13:16:39.887Z"
   },
   {
    "duration": 15,
    "start_time": "2022-03-11T13:16:40.009Z"
   },
   {
    "duration": 29,
    "start_time": "2022-03-11T13:16:40.027Z"
   },
   {
    "duration": 35,
    "start_time": "2022-03-11T13:16:40.058Z"
   },
   {
    "duration": 14,
    "start_time": "2022-03-11T13:16:40.095Z"
   },
   {
    "duration": 5,
    "start_time": "2022-03-11T13:16:40.112Z"
   },
   {
    "duration": 7,
    "start_time": "2022-03-11T13:16:40.153Z"
   },
   {
    "duration": 30,
    "start_time": "2022-03-11T13:16:40.163Z"
   },
   {
    "duration": 2,
    "start_time": "2022-03-11T13:16:40.196Z"
   },
   {
    "duration": 50,
    "start_time": "2022-03-11T13:16:40.201Z"
   },
   {
    "duration": 9,
    "start_time": "2022-03-11T13:16:40.253Z"
   },
   {
    "duration": 26,
    "start_time": "2022-03-11T13:16:40.265Z"
   },
   {
    "duration": 405,
    "start_time": "2022-03-11T13:16:40.294Z"
   },
   {
    "duration": 595,
    "start_time": "2022-03-11T13:16:40.701Z"
   },
   {
    "duration": 344,
    "start_time": "2022-03-11T13:16:41.298Z"
   },
   {
    "duration": 2528,
    "start_time": "2022-03-11T13:16:41.651Z"
   },
   {
    "duration": -3849,
    "start_time": "2022-03-11T13:16:48.031Z"
   },
   {
    "duration": -3855,
    "start_time": "2022-03-11T13:16:48.039Z"
   },
   {
    "duration": -3857,
    "start_time": "2022-03-11T13:16:48.044Z"
   },
   {
    "duration": -3862,
    "start_time": "2022-03-11T13:16:48.051Z"
   },
   {
    "duration": -3865,
    "start_time": "2022-03-11T13:16:48.056Z"
   },
   {
    "duration": -3866,
    "start_time": "2022-03-11T13:16:48.060Z"
   },
   {
    "duration": -3870,
    "start_time": "2022-03-11T13:16:48.066Z"
   },
   {
    "duration": -3872,
    "start_time": "2022-03-11T13:16:48.070Z"
   },
   {
    "duration": 2277,
    "start_time": "2022-03-11T13:17:16.046Z"
   },
   {
    "duration": 2295,
    "start_time": "2022-03-11T13:18:49.315Z"
   },
   {
    "duration": 1287,
    "start_time": "2022-03-11T13:19:07.980Z"
   },
   {
    "duration": 116,
    "start_time": "2022-03-11T13:19:09.269Z"
   },
   {
    "duration": 16,
    "start_time": "2022-03-11T13:19:09.388Z"
   },
   {
    "duration": 9,
    "start_time": "2022-03-11T13:19:09.407Z"
   },
   {
    "duration": 59,
    "start_time": "2022-03-11T13:19:09.418Z"
   },
   {
    "duration": 14,
    "start_time": "2022-03-11T13:19:09.480Z"
   },
   {
    "duration": 7,
    "start_time": "2022-03-11T13:19:09.496Z"
   },
   {
    "duration": 8,
    "start_time": "2022-03-11T13:19:09.506Z"
   },
   {
    "duration": 57,
    "start_time": "2022-03-11T13:19:09.517Z"
   },
   {
    "duration": 3,
    "start_time": "2022-03-11T13:19:09.576Z"
   },
   {
    "duration": 16,
    "start_time": "2022-03-11T13:19:09.581Z"
   },
   {
    "duration": 10,
    "start_time": "2022-03-11T13:19:09.600Z"
   },
   {
    "duration": 26,
    "start_time": "2022-03-11T13:19:09.652Z"
   },
   {
    "duration": 398,
    "start_time": "2022-03-11T13:19:09.681Z"
   },
   {
    "duration": 605,
    "start_time": "2022-03-11T13:19:10.081Z"
   },
   {
    "duration": 327,
    "start_time": "2022-03-11T13:19:10.688Z"
   },
   {
    "duration": 2486,
    "start_time": "2022-03-11T13:19:11.017Z"
   },
   {
    "duration": -3899,
    "start_time": "2022-03-11T13:19:17.405Z"
   },
   {
    "duration": -3904,
    "start_time": "2022-03-11T13:19:17.411Z"
   },
   {
    "duration": -3905,
    "start_time": "2022-03-11T13:19:17.414Z"
   },
   {
    "duration": -3907,
    "start_time": "2022-03-11T13:19:17.417Z"
   },
   {
    "duration": -3908,
    "start_time": "2022-03-11T13:19:17.420Z"
   },
   {
    "duration": -3910,
    "start_time": "2022-03-11T13:19:17.423Z"
   },
   {
    "duration": -3911,
    "start_time": "2022-03-11T13:19:17.426Z"
   },
   {
    "duration": -3916,
    "start_time": "2022-03-11T13:19:17.432Z"
   },
   {
    "duration": 301,
    "start_time": "2022-03-11T13:22:23.429Z"
   },
   {
    "duration": 265,
    "start_time": "2022-03-11T13:24:55.196Z"
   },
   {
    "duration": 7966,
    "start_time": "2022-03-11T13:25:03.691Z"
   },
   {
    "duration": 18918,
    "start_time": "2022-03-11T13:26:07.694Z"
   },
   {
    "duration": 6734,
    "start_time": "2022-03-11T13:30:55.814Z"
   },
   {
    "duration": 19082,
    "start_time": "2022-03-11T13:31:13.165Z"
   },
   {
    "duration": 1634,
    "start_time": "2022-03-11T13:34:46.129Z"
   },
   {
    "duration": 2145,
    "start_time": "2022-03-11T13:35:44.914Z"
   },
   {
    "duration": 7184,
    "start_time": "2022-03-11T13:36:25.319Z"
   },
   {
    "duration": 7585,
    "start_time": "2022-03-11T13:37:43.817Z"
   },
   {
    "duration": 2559,
    "start_time": "2022-03-11T13:38:14.319Z"
   },
   {
    "duration": 22387,
    "start_time": "2022-03-11T13:38:41.376Z"
   },
   {
    "duration": 8925,
    "start_time": "2022-03-11T13:39:57.010Z"
   },
   {
    "duration": 75937,
    "start_time": "2022-03-11T13:40:48.032Z"
   },
   {
    "duration": 193,
    "start_time": "2022-03-11T13:42:59.790Z"
   },
   {
    "duration": 47,
    "start_time": "2022-03-11T13:43:11.580Z"
   },
   {
    "duration": 5706,
    "start_time": "2022-03-11T13:44:37.271Z"
   },
   {
    "duration": 25221,
    "start_time": "2022-03-11T13:45:07.569Z"
   },
   {
    "duration": 25689,
    "start_time": "2022-03-11T13:46:11.704Z"
   },
   {
    "duration": 25938,
    "start_time": "2022-03-11T13:48:03.714Z"
   },
   {
    "duration": 31,
    "start_time": "2022-03-11T13:48:44.873Z"
   },
   {
    "duration": 1337,
    "start_time": "2022-03-11T13:48:53.430Z"
   },
   {
    "duration": 116,
    "start_time": "2022-03-11T13:48:54.770Z"
   },
   {
    "duration": 15,
    "start_time": "2022-03-11T13:48:54.888Z"
   },
   {
    "duration": 8,
    "start_time": "2022-03-11T13:48:54.906Z"
   },
   {
    "duration": 62,
    "start_time": "2022-03-11T13:48:54.917Z"
   },
   {
    "duration": 15,
    "start_time": "2022-03-11T13:48:54.981Z"
   },
   {
    "duration": 5,
    "start_time": "2022-03-11T13:48:54.998Z"
   },
   {
    "duration": 45,
    "start_time": "2022-03-11T13:48:55.007Z"
   },
   {
    "duration": 30,
    "start_time": "2022-03-11T13:48:55.056Z"
   },
   {
    "duration": 3,
    "start_time": "2022-03-11T13:48:55.088Z"
   },
   {
    "duration": 16,
    "start_time": "2022-03-11T13:48:55.093Z"
   },
   {
    "duration": 40,
    "start_time": "2022-03-11T13:48:55.111Z"
   },
   {
    "duration": 29,
    "start_time": "2022-03-11T13:48:55.153Z"
   },
   {
    "duration": 400,
    "start_time": "2022-03-11T13:48:55.184Z"
   },
   {
    "duration": 604,
    "start_time": "2022-03-11T13:48:55.586Z"
   },
   {
    "duration": 341,
    "start_time": "2022-03-11T13:48:56.193Z"
   },
   {
    "duration": 25585,
    "start_time": "2022-03-11T13:48:56.536Z"
   },
   {
    "duration": 46,
    "start_time": "2022-03-11T13:49:22.124Z"
   },
   {
    "duration": 241,
    "start_time": "2022-03-11T13:49:22.172Z"
   },
   {
    "duration": 11,
    "start_time": "2022-03-11T13:49:22.416Z"
   },
   {
    "duration": 107,
    "start_time": "2022-03-11T13:49:22.430Z"
   },
   {
    "duration": 225,
    "start_time": "2022-03-11T13:49:22.551Z"
   },
   {
    "duration": 316,
    "start_time": "2022-03-11T13:49:22.856Z"
   },
   {
    "duration": 583,
    "start_time": "2022-03-11T13:49:23.175Z"
   },
   {
    "duration": 235,
    "start_time": "2022-03-11T13:49:23.761Z"
   },
   {
    "duration": 307,
    "start_time": "2022-03-11T13:49:23.999Z"
   },
   {
    "duration": 178244,
    "start_time": "2022-03-11T13:49:40.014Z"
   },
   {
    "duration": 528,
    "start_time": "2022-03-11T13:52:38.317Z"
   },
   {
    "duration": 1493,
    "start_time": "2022-03-11T13:58:11.918Z"
   },
   {
    "duration": 111,
    "start_time": "2022-03-11T13:58:13.414Z"
   },
   {
    "duration": 31,
    "start_time": "2022-03-11T13:58:13.528Z"
   },
   {
    "duration": 9,
    "start_time": "2022-03-11T13:58:13.562Z"
   },
   {
    "duration": 35,
    "start_time": "2022-03-11T13:58:13.573Z"
   },
   {
    "duration": 43,
    "start_time": "2022-03-11T13:58:13.611Z"
   },
   {
    "duration": 6,
    "start_time": "2022-03-11T13:58:13.656Z"
   },
   {
    "duration": 5,
    "start_time": "2022-03-11T13:58:13.666Z"
   },
   {
    "duration": 29,
    "start_time": "2022-03-11T13:58:13.674Z"
   },
   {
    "duration": 3,
    "start_time": "2022-03-11T13:58:13.705Z"
   },
   {
    "duration": 14,
    "start_time": "2022-03-11T13:58:13.751Z"
   },
   {
    "duration": 9,
    "start_time": "2022-03-11T13:58:13.767Z"
   },
   {
    "duration": 27,
    "start_time": "2022-03-11T13:58:13.779Z"
   },
   {
    "duration": 422,
    "start_time": "2022-03-11T13:58:13.808Z"
   },
   {
    "duration": 551,
    "start_time": "2022-03-11T13:58:14.233Z"
   },
   {
    "duration": 334,
    "start_time": "2022-03-11T13:58:14.787Z"
   },
   {
    "duration": 430,
    "start_time": "2022-03-11T13:58:15.124Z"
   },
   {
    "duration": -4048,
    "start_time": "2022-03-11T13:58:19.604Z"
   },
   {
    "duration": -4054,
    "start_time": "2022-03-11T13:58:19.612Z"
   },
   {
    "duration": -4058,
    "start_time": "2022-03-11T13:58:19.618Z"
   },
   {
    "duration": -4063,
    "start_time": "2022-03-11T13:58:19.624Z"
   },
   {
    "duration": -4065,
    "start_time": "2022-03-11T13:58:19.628Z"
   },
   {
    "duration": -4067,
    "start_time": "2022-03-11T13:58:19.631Z"
   },
   {
    "duration": -4078,
    "start_time": "2022-03-11T13:58:19.644Z"
   },
   {
    "duration": -4081,
    "start_time": "2022-03-11T13:58:19.648Z"
   },
   {
    "duration": -4084,
    "start_time": "2022-03-11T13:58:19.653Z"
   },
   {
    "duration": 1305,
    "start_time": "2022-03-11T13:58:57.875Z"
   },
   {
    "duration": 120,
    "start_time": "2022-03-11T13:58:59.183Z"
   },
   {
    "duration": 17,
    "start_time": "2022-03-11T13:58:59.307Z"
   },
   {
    "duration": 30,
    "start_time": "2022-03-11T13:58:59.327Z"
   },
   {
    "duration": 33,
    "start_time": "2022-03-11T13:58:59.361Z"
   },
   {
    "duration": 61,
    "start_time": "2022-03-11T13:58:59.397Z"
   },
   {
    "duration": 6,
    "start_time": "2022-03-11T13:58:59.460Z"
   },
   {
    "duration": 6,
    "start_time": "2022-03-11T13:58:59.470Z"
   },
   {
    "duration": 32,
    "start_time": "2022-03-11T13:58:59.480Z"
   },
   {
    "duration": 37,
    "start_time": "2022-03-11T13:58:59.515Z"
   },
   {
    "duration": 13,
    "start_time": "2022-03-11T13:58:59.555Z"
   },
   {
    "duration": 10,
    "start_time": "2022-03-11T13:58:59.570Z"
   },
   {
    "duration": 25,
    "start_time": "2022-03-11T13:58:59.582Z"
   },
   {
    "duration": 385,
    "start_time": "2022-03-11T13:58:59.651Z"
   },
   {
    "duration": 664,
    "start_time": "2022-03-11T13:59:00.039Z"
   },
   {
    "duration": 348,
    "start_time": "2022-03-11T13:59:00.706Z"
   },
   {
    "duration": 407,
    "start_time": "2022-03-11T13:59:01.057Z"
   },
   {
    "duration": -3759,
    "start_time": "2022-03-11T13:59:05.226Z"
   },
   {
    "duration": -3762,
    "start_time": "2022-03-11T13:59:05.231Z"
   },
   {
    "duration": -3766,
    "start_time": "2022-03-11T13:59:05.237Z"
   },
   {
    "duration": -3770,
    "start_time": "2022-03-11T13:59:05.242Z"
   },
   {
    "duration": -3772,
    "start_time": "2022-03-11T13:59:05.246Z"
   },
   {
    "duration": -3780,
    "start_time": "2022-03-11T13:59:05.256Z"
   },
   {
    "duration": -3800,
    "start_time": "2022-03-11T13:59:05.277Z"
   },
   {
    "duration": -3804,
    "start_time": "2022-03-11T13:59:05.282Z"
   },
   {
    "duration": -3808,
    "start_time": "2022-03-11T13:59:05.288Z"
   },
   {
    "duration": 259,
    "start_time": "2022-03-11T13:59:08.459Z"
   },
   {
    "duration": 1307,
    "start_time": "2022-03-11T14:00:19.963Z"
   },
   {
    "duration": 111,
    "start_time": "2022-03-11T14:00:21.273Z"
   },
   {
    "duration": 17,
    "start_time": "2022-03-11T14:00:21.387Z"
   },
   {
    "duration": 10,
    "start_time": "2022-03-11T14:00:21.407Z"
   },
   {
    "duration": 69,
    "start_time": "2022-03-11T14:00:21.420Z"
   },
   {
    "duration": 14,
    "start_time": "2022-03-11T14:00:21.491Z"
   },
   {
    "duration": 6,
    "start_time": "2022-03-11T14:00:21.507Z"
   },
   {
    "duration": 34,
    "start_time": "2022-03-11T14:00:21.517Z"
   },
   {
    "duration": 29,
    "start_time": "2022-03-11T14:00:21.555Z"
   },
   {
    "duration": 2,
    "start_time": "2022-03-11T14:00:21.587Z"
   },
   {
    "duration": 14,
    "start_time": "2022-03-11T14:00:21.592Z"
   },
   {
    "duration": 47,
    "start_time": "2022-03-11T14:00:21.608Z"
   },
   {
    "duration": 24,
    "start_time": "2022-03-11T14:00:21.658Z"
   },
   {
    "duration": 433,
    "start_time": "2022-03-11T14:00:21.685Z"
   },
   {
    "duration": 567,
    "start_time": "2022-03-11T14:00:22.121Z"
   },
   {
    "duration": 362,
    "start_time": "2022-03-11T14:00:22.690Z"
   },
   {
    "duration": 503,
    "start_time": "2022-03-11T14:00:23.054Z"
   },
   {
    "duration": -4019,
    "start_time": "2022-03-11T14:00:27.580Z"
   },
   {
    "duration": -4021,
    "start_time": "2022-03-11T14:00:27.584Z"
   },
   {
    "duration": -4023,
    "start_time": "2022-03-11T14:00:27.588Z"
   },
   {
    "duration": -4029,
    "start_time": "2022-03-11T14:00:27.597Z"
   },
   {
    "duration": -4030,
    "start_time": "2022-03-11T14:00:27.600Z"
   },
   {
    "duration": -4032,
    "start_time": "2022-03-11T14:00:27.604Z"
   },
   {
    "duration": -4032,
    "start_time": "2022-03-11T14:00:27.607Z"
   },
   {
    "duration": -4033,
    "start_time": "2022-03-11T14:00:27.610Z"
   },
   {
    "duration": -4034,
    "start_time": "2022-03-11T14:00:27.613Z"
   },
   {
    "duration": 1060,
    "start_time": "2022-03-11T14:03:43.794Z"
   },
   {
    "duration": 318,
    "start_time": "2022-03-11T14:04:00.180Z"
   },
   {
    "duration": 272,
    "start_time": "2022-03-11T14:04:26.621Z"
   },
   {
    "duration": 1612,
    "start_time": "2022-03-11T14:04:37.255Z"
   },
   {
    "duration": 120,
    "start_time": "2022-03-11T14:04:38.869Z"
   },
   {
    "duration": 15,
    "start_time": "2022-03-11T14:04:38.992Z"
   },
   {
    "duration": 8,
    "start_time": "2022-03-11T14:04:39.010Z"
   },
   {
    "duration": 59,
    "start_time": "2022-03-11T14:04:39.020Z"
   },
   {
    "duration": 14,
    "start_time": "2022-03-11T14:04:39.082Z"
   },
   {
    "duration": 5,
    "start_time": "2022-03-11T14:04:39.099Z"
   },
   {
    "duration": 44,
    "start_time": "2022-03-11T14:04:39.108Z"
   },
   {
    "duration": 46,
    "start_time": "2022-03-11T14:04:39.156Z"
   },
   {
    "duration": 4,
    "start_time": "2022-03-11T14:04:39.205Z"
   },
   {
    "duration": 46,
    "start_time": "2022-03-11T14:04:39.213Z"
   },
   {
    "duration": 10,
    "start_time": "2022-03-11T14:04:39.261Z"
   },
   {
    "duration": 28,
    "start_time": "2022-03-11T14:04:39.274Z"
   },
   {
    "duration": 432,
    "start_time": "2022-03-11T14:04:39.305Z"
   },
   {
    "duration": 559,
    "start_time": "2022-03-11T14:04:39.740Z"
   },
   {
    "duration": 356,
    "start_time": "2022-03-11T14:04:40.302Z"
   },
   {
    "duration": 379,
    "start_time": "2022-03-11T14:04:40.660Z"
   },
   {
    "duration": -3858,
    "start_time": "2022-03-11T14:04:44.902Z"
   },
   {
    "duration": -3862,
    "start_time": "2022-03-11T14:04:44.908Z"
   },
   {
    "duration": -3869,
    "start_time": "2022-03-11T14:04:44.917Z"
   },
   {
    "duration": -3873,
    "start_time": "2022-03-11T14:04:44.922Z"
   },
   {
    "duration": -3875,
    "start_time": "2022-03-11T14:04:44.926Z"
   },
   {
    "duration": -3880,
    "start_time": "2022-03-11T14:04:44.933Z"
   },
   {
    "duration": -3883,
    "start_time": "2022-03-11T14:04:44.938Z"
   },
   {
    "duration": -3889,
    "start_time": "2022-03-11T14:04:44.946Z"
   },
   {
    "duration": -3890,
    "start_time": "2022-03-11T14:04:44.950Z"
   },
   {
    "duration": 1595,
    "start_time": "2022-03-11T18:43:41.731Z"
   },
   {
    "duration": 113,
    "start_time": "2022-03-11T18:43:43.329Z"
   },
   {
    "duration": 41,
    "start_time": "2022-03-11T18:43:43.446Z"
   },
   {
    "duration": 9,
    "start_time": "2022-03-11T18:43:43.490Z"
   },
   {
    "duration": 33,
    "start_time": "2022-03-11T18:43:43.501Z"
   },
   {
    "duration": 56,
    "start_time": "2022-03-11T18:43:43.537Z"
   },
   {
    "duration": 6,
    "start_time": "2022-03-11T18:43:43.595Z"
   },
   {
    "duration": 6,
    "start_time": "2022-03-11T18:43:43.605Z"
   },
   {
    "duration": 29,
    "start_time": "2022-03-11T18:43:43.614Z"
   },
   {
    "duration": 42,
    "start_time": "2022-03-11T18:43:43.646Z"
   },
   {
    "duration": 15,
    "start_time": "2022-03-11T18:43:43.691Z"
   },
   {
    "duration": 9,
    "start_time": "2022-03-11T18:43:43.708Z"
   },
   {
    "duration": 25,
    "start_time": "2022-03-11T18:43:43.719Z"
   },
   {
    "duration": 408,
    "start_time": "2022-03-11T18:43:43.786Z"
   },
   {
    "duration": 754,
    "start_time": "2022-03-11T18:43:44.197Z"
   },
   {
    "duration": 360,
    "start_time": "2022-03-11T18:43:44.955Z"
   },
   {
    "duration": 524,
    "start_time": "2022-03-11T18:43:45.318Z"
   },
   {
    "duration": -3860,
    "start_time": "2022-03-11T18:43:49.706Z"
   },
   {
    "duration": -3862,
    "start_time": "2022-03-11T18:43:49.710Z"
   },
   {
    "duration": -3863,
    "start_time": "2022-03-11T18:43:49.713Z"
   },
   {
    "duration": -3864,
    "start_time": "2022-03-11T18:43:49.716Z"
   },
   {
    "duration": -3865,
    "start_time": "2022-03-11T18:43:49.719Z"
   },
   {
    "duration": -3865,
    "start_time": "2022-03-11T18:43:49.722Z"
   },
   {
    "duration": -3872,
    "start_time": "2022-03-11T18:43:49.731Z"
   },
   {
    "duration": -3872,
    "start_time": "2022-03-11T18:43:49.734Z"
   },
   {
    "duration": -3874,
    "start_time": "2022-03-11T18:43:49.738Z"
   },
   {
    "duration": 7,
    "start_time": "2022-03-11T18:58:50.463Z"
   },
   {
    "duration": 10,
    "start_time": "2022-03-11T18:59:09.006Z"
   },
   {
    "duration": 9,
    "start_time": "2022-03-11T18:59:51.539Z"
   },
   {
    "duration": 237,
    "start_time": "2022-03-11T19:02:16.163Z"
   },
   {
    "duration": 279,
    "start_time": "2022-03-11T19:02:50.617Z"
   },
   {
    "duration": 1383,
    "start_time": "2022-03-11T19:03:16.842Z"
   },
   {
    "duration": 117,
    "start_time": "2022-03-11T19:03:18.227Z"
   },
   {
    "duration": 16,
    "start_time": "2022-03-11T19:03:18.347Z"
   },
   {
    "duration": 28,
    "start_time": "2022-03-11T19:03:18.366Z"
   },
   {
    "duration": 34,
    "start_time": "2022-03-11T19:03:18.396Z"
   },
   {
    "duration": 15,
    "start_time": "2022-03-11T19:03:18.432Z"
   },
   {
    "duration": 42,
    "start_time": "2022-03-11T19:03:18.450Z"
   },
   {
    "duration": 6,
    "start_time": "2022-03-11T19:03:18.497Z"
   },
   {
    "duration": 35,
    "start_time": "2022-03-11T19:03:18.505Z"
   },
   {
    "duration": 3,
    "start_time": "2022-03-11T19:03:18.542Z"
   },
   {
    "duration": 14,
    "start_time": "2022-03-11T19:03:18.588Z"
   },
   {
    "duration": 480,
    "start_time": "2022-03-11T19:03:18.605Z"
   },
   {
    "duration": -3932,
    "start_time": "2022-03-11T19:03:23.020Z"
   },
   {
    "duration": -3937,
    "start_time": "2022-03-11T19:03:23.027Z"
   },
   {
    "duration": -3946,
    "start_time": "2022-03-11T19:03:23.037Z"
   },
   {
    "duration": -3948,
    "start_time": "2022-03-11T19:03:23.041Z"
   },
   {
    "duration": -3949,
    "start_time": "2022-03-11T19:03:23.044Z"
   },
   {
    "duration": -3951,
    "start_time": "2022-03-11T19:03:23.047Z"
   },
   {
    "duration": -3952,
    "start_time": "2022-03-11T19:03:23.050Z"
   },
   {
    "duration": -3955,
    "start_time": "2022-03-11T19:03:23.054Z"
   },
   {
    "duration": -3957,
    "start_time": "2022-03-11T19:03:23.057Z"
   },
   {
    "duration": -3959,
    "start_time": "2022-03-11T19:03:23.060Z"
   },
   {
    "duration": -3960,
    "start_time": "2022-03-11T19:03:23.063Z"
   },
   {
    "duration": -3962,
    "start_time": "2022-03-11T19:03:23.066Z"
   },
   {
    "duration": -3964,
    "start_time": "2022-03-11T19:03:23.069Z"
   },
   {
    "duration": -3965,
    "start_time": "2022-03-11T19:03:23.072Z"
   },
   {
    "duration": 264,
    "start_time": "2022-03-11T19:04:21.765Z"
   },
   {
    "duration": 231,
    "start_time": "2022-03-11T19:04:35.393Z"
   },
   {
    "duration": 5603,
    "start_time": "2022-03-11T19:04:59.307Z"
   },
   {
    "duration": 1342,
    "start_time": "2022-03-11T19:05:14.472Z"
   },
   {
    "duration": 116,
    "start_time": "2022-03-11T19:05:15.816Z"
   },
   {
    "duration": 15,
    "start_time": "2022-03-11T19:05:15.935Z"
   },
   {
    "duration": 35,
    "start_time": "2022-03-11T19:05:15.953Z"
   },
   {
    "duration": 34,
    "start_time": "2022-03-11T19:05:15.990Z"
   },
   {
    "duration": 15,
    "start_time": "2022-03-11T19:05:16.026Z"
   },
   {
    "duration": 8,
    "start_time": "2022-03-11T19:05:16.044Z"
   },
   {
    "duration": 6,
    "start_time": "2022-03-11T19:05:16.089Z"
   },
   {
    "duration": 39,
    "start_time": "2022-03-11T19:05:16.099Z"
   },
   {
    "duration": 4,
    "start_time": "2022-03-11T19:05:16.141Z"
   },
   {
    "duration": 52,
    "start_time": "2022-03-11T19:05:16.148Z"
   },
   {
    "duration": 377,
    "start_time": "2022-03-11T19:05:16.202Z"
   },
   {
    "duration": -3888,
    "start_time": "2022-03-11T19:05:20.470Z"
   },
   {
    "duration": -3893,
    "start_time": "2022-03-11T19:05:20.476Z"
   },
   {
    "duration": -3896,
    "start_time": "2022-03-11T19:05:20.480Z"
   },
   {
    "duration": -3899,
    "start_time": "2022-03-11T19:05:20.485Z"
   },
   {
    "duration": -3912,
    "start_time": "2022-03-11T19:05:20.499Z"
   },
   {
    "duration": -3915,
    "start_time": "2022-03-11T19:05:20.503Z"
   },
   {
    "duration": -3917,
    "start_time": "2022-03-11T19:05:20.506Z"
   },
   {
    "duration": -3920,
    "start_time": "2022-03-11T19:05:20.511Z"
   },
   {
    "duration": -3922,
    "start_time": "2022-03-11T19:05:20.514Z"
   },
   {
    "duration": -3925,
    "start_time": "2022-03-11T19:05:20.518Z"
   },
   {
    "duration": -3928,
    "start_time": "2022-03-11T19:05:20.522Z"
   },
   {
    "duration": -3931,
    "start_time": "2022-03-11T19:05:20.526Z"
   },
   {
    "duration": -3932,
    "start_time": "2022-03-11T19:05:20.529Z"
   },
   {
    "duration": -3935,
    "start_time": "2022-03-11T19:05:20.533Z"
   },
   {
    "duration": 10,
    "start_time": "2022-03-11T19:07:02.740Z"
   },
   {
    "duration": 268,
    "start_time": "2022-03-11T20:07:13.379Z"
   },
   {
    "duration": 29,
    "start_time": "2022-03-11T20:08:32.195Z"
   },
   {
    "duration": 31,
    "start_time": "2022-03-11T20:12:08.802Z"
   },
   {
    "duration": 35,
    "start_time": "2022-03-11T20:12:28.335Z"
   },
   {
    "duration": 272,
    "start_time": "2022-03-11T20:24:39.294Z"
   },
   {
    "duration": 5836,
    "start_time": "2022-03-11T20:32:12.149Z"
   },
   {
    "duration": 344,
    "start_time": "2022-03-11T20:32:25.808Z"
   },
   {
    "duration": 15,
    "start_time": "2022-03-11T20:40:40.021Z"
   },
   {
    "duration": 13,
    "start_time": "2022-03-11T20:40:43.040Z"
   },
   {
    "duration": 40,
    "start_time": "2022-03-11T20:40:54.416Z"
   },
   {
    "duration": 332,
    "start_time": "2022-03-11T20:43:58.011Z"
   },
   {
    "duration": 1308,
    "start_time": "2022-03-11T20:44:38.205Z"
   },
   {
    "duration": 119,
    "start_time": "2022-03-11T20:44:39.516Z"
   },
   {
    "duration": 15,
    "start_time": "2022-03-11T20:44:39.638Z"
   },
   {
    "duration": 8,
    "start_time": "2022-03-11T20:44:39.656Z"
   },
   {
    "duration": 33,
    "start_time": "2022-03-11T20:44:39.687Z"
   },
   {
    "duration": 15,
    "start_time": "2022-03-11T20:44:39.723Z"
   },
   {
    "duration": 50,
    "start_time": "2022-03-11T20:44:39.740Z"
   },
   {
    "duration": 12,
    "start_time": "2022-03-11T20:44:39.796Z"
   },
   {
    "duration": 35,
    "start_time": "2022-03-11T20:44:39.812Z"
   },
   {
    "duration": 4,
    "start_time": "2022-03-11T20:44:39.849Z"
   },
   {
    "duration": 357,
    "start_time": "2022-03-11T20:44:39.855Z"
   },
   {
    "duration": 14,
    "start_time": "2022-03-11T20:44:40.215Z"
   },
   {
    "duration": 9,
    "start_time": "2022-03-11T20:44:40.232Z"
   },
   {
    "duration": 72,
    "start_time": "2022-03-11T20:44:40.243Z"
   },
   {
    "duration": 394,
    "start_time": "2022-03-11T20:44:40.317Z"
   },
   {
    "duration": -3795,
    "start_time": "2022-03-11T20:44:44.508Z"
   },
   {
    "duration": -3799,
    "start_time": "2022-03-11T20:44:44.514Z"
   },
   {
    "duration": -3809,
    "start_time": "2022-03-11T20:44:44.525Z"
   },
   {
    "duration": -3811,
    "start_time": "2022-03-11T20:44:44.529Z"
   },
   {
    "duration": -3815,
    "start_time": "2022-03-11T20:44:44.534Z"
   },
   {
    "duration": -3816,
    "start_time": "2022-03-11T20:44:44.537Z"
   },
   {
    "duration": -3819,
    "start_time": "2022-03-11T20:44:44.541Z"
   },
   {
    "duration": -3821,
    "start_time": "2022-03-11T20:44:44.544Z"
   },
   {
    "duration": -3823,
    "start_time": "2022-03-11T20:44:44.548Z"
   },
   {
    "duration": -3824,
    "start_time": "2022-03-11T20:44:44.551Z"
   },
   {
    "duration": -3827,
    "start_time": "2022-03-11T20:44:44.555Z"
   },
   {
    "duration": -3828,
    "start_time": "2022-03-11T20:44:44.558Z"
   },
   {
    "duration": 256,
    "start_time": "2022-03-11T20:45:42.283Z"
   },
   {
    "duration": 252,
    "start_time": "2022-03-11T20:46:25.797Z"
   },
   {
    "duration": 37,
    "start_time": "2022-03-11T20:46:44.656Z"
   },
   {
    "duration": 261,
    "start_time": "2022-03-11T20:47:10.179Z"
   },
   {
    "duration": 1301,
    "start_time": "2022-03-11T20:47:28.115Z"
   },
   {
    "duration": 124,
    "start_time": "2022-03-11T20:47:29.419Z"
   },
   {
    "duration": 40,
    "start_time": "2022-03-11T20:47:29.547Z"
   },
   {
    "duration": 10,
    "start_time": "2022-03-11T20:47:29.591Z"
   },
   {
    "duration": 33,
    "start_time": "2022-03-11T20:47:29.605Z"
   },
   {
    "duration": 50,
    "start_time": "2022-03-11T20:47:29.641Z"
   },
   {
    "duration": 12,
    "start_time": "2022-03-11T20:47:29.693Z"
   },
   {
    "duration": 5,
    "start_time": "2022-03-11T20:47:29.711Z"
   },
   {
    "duration": 83,
    "start_time": "2022-03-11T20:47:29.721Z"
   },
   {
    "duration": 4,
    "start_time": "2022-03-11T20:47:29.807Z"
   },
   {
    "duration": 363,
    "start_time": "2022-03-11T20:47:29.814Z"
   },
   {
    "duration": 19,
    "start_time": "2022-03-11T20:47:30.179Z"
   },
   {
    "duration": 19,
    "start_time": "2022-03-11T20:47:30.201Z"
   },
   {
    "duration": 42,
    "start_time": "2022-03-11T20:47:30.222Z"
   },
   {
    "duration": 50,
    "start_time": "2022-03-11T20:47:30.287Z"
   },
   {
    "duration": 603,
    "start_time": "2022-03-11T20:47:30.340Z"
   },
   {
    "duration": 352,
    "start_time": "2022-03-11T20:47:30.945Z"
   },
   {
    "duration": 393,
    "start_time": "2022-03-11T20:47:31.300Z"
   },
   {
    "duration": -3765,
    "start_time": "2022-03-11T20:47:35.461Z"
   },
   {
    "duration": -3769,
    "start_time": "2022-03-11T20:47:35.466Z"
   },
   {
    "duration": -3771,
    "start_time": "2022-03-11T20:47:35.469Z"
   },
   {
    "duration": -3778,
    "start_time": "2022-03-11T20:47:35.478Z"
   },
   {
    "duration": -3782,
    "start_time": "2022-03-11T20:47:35.483Z"
   },
   {
    "duration": -3784,
    "start_time": "2022-03-11T20:47:35.486Z"
   },
   {
    "duration": -3785,
    "start_time": "2022-03-11T20:47:35.489Z"
   },
   {
    "duration": -3787,
    "start_time": "2022-03-11T20:47:35.492Z"
   },
   {
    "duration": -3788,
    "start_time": "2022-03-11T20:47:35.495Z"
   },
   {
    "duration": 300,
    "start_time": "2022-03-11T20:48:40.989Z"
   },
   {
    "duration": 279,
    "start_time": "2022-03-11T20:50:45.910Z"
   },
   {
    "duration": 457,
    "start_time": "2022-03-11T20:51:04.625Z"
   },
   {
    "duration": 396,
    "start_time": "2022-03-11T20:51:23.169Z"
   },
   {
    "duration": 266,
    "start_time": "2022-03-11T20:52:16.622Z"
   },
   {
    "duration": 427,
    "start_time": "2022-03-11T20:52:26.662Z"
   },
   {
    "duration": 326,
    "start_time": "2022-03-11T20:52:38.609Z"
   },
   {
    "duration": 33,
    "start_time": "2022-03-11T20:53:53.024Z"
   },
   {
    "duration": 477,
    "start_time": "2022-03-11T20:54:39.925Z"
   },
   {
    "duration": 1329,
    "start_time": "2022-03-11T20:54:58.680Z"
   },
   {
    "duration": 123,
    "start_time": "2022-03-11T20:55:00.012Z"
   },
   {
    "duration": 16,
    "start_time": "2022-03-11T20:55:00.138Z"
   },
   {
    "duration": 30,
    "start_time": "2022-03-11T20:55:00.158Z"
   },
   {
    "duration": 32,
    "start_time": "2022-03-11T20:55:00.191Z"
   },
   {
    "duration": 15,
    "start_time": "2022-03-11T20:55:00.226Z"
   },
   {
    "duration": 47,
    "start_time": "2022-03-11T20:55:00.243Z"
   },
   {
    "duration": 6,
    "start_time": "2022-03-11T20:55:00.293Z"
   },
   {
    "duration": 33,
    "start_time": "2022-03-11T20:55:00.302Z"
   },
   {
    "duration": 3,
    "start_time": "2022-03-11T20:55:00.337Z"
   },
   {
    "duration": 379,
    "start_time": "2022-03-11T20:55:00.342Z"
   },
   {
    "duration": 15,
    "start_time": "2022-03-11T20:55:00.723Z"
   },
   {
    "duration": 13,
    "start_time": "2022-03-11T20:55:00.740Z"
   },
   {
    "duration": 67,
    "start_time": "2022-03-11T20:55:00.755Z"
   },
   {
    "duration": 286,
    "start_time": "2022-03-11T20:55:00.824Z"
   },
   {
    "duration": 488,
    "start_time": "2022-03-11T20:55:01.112Z"
   },
   {
    "duration": 347,
    "start_time": "2022-03-11T20:55:01.602Z"
   },
   {
    "duration": 377,
    "start_time": "2022-03-11T20:55:01.952Z"
   },
   {
    "duration": -3779,
    "start_time": "2022-03-11T20:55:06.111Z"
   },
   {
    "duration": -3781,
    "start_time": "2022-03-11T20:55:06.114Z"
   },
   {
    "duration": -3795,
    "start_time": "2022-03-11T20:55:06.129Z"
   },
   {
    "duration": -3796,
    "start_time": "2022-03-11T20:55:06.132Z"
   },
   {
    "duration": -3799,
    "start_time": "2022-03-11T20:55:06.136Z"
   },
   {
    "duration": -3800,
    "start_time": "2022-03-11T20:55:06.139Z"
   },
   {
    "duration": -3803,
    "start_time": "2022-03-11T20:55:06.143Z"
   },
   {
    "duration": -3804,
    "start_time": "2022-03-11T20:55:06.146Z"
   },
   {
    "duration": -3806,
    "start_time": "2022-03-11T20:55:06.149Z"
   },
   {
    "duration": 67,
    "start_time": "2022-03-11T20:56:17.384Z"
   },
   {
    "duration": 86,
    "start_time": "2022-03-11T20:56:34.302Z"
   },
   {
    "duration": 137,
    "start_time": "2022-03-11T20:59:58.924Z"
   },
   {
    "duration": 211,
    "start_time": "2022-03-11T21:00:07.200Z"
   },
   {
    "duration": 346,
    "start_time": "2022-03-11T21:02:21.603Z"
   },
   {
    "duration": 558,
    "start_time": "2022-03-11T21:02:39.105Z"
   },
   {
    "duration": 272,
    "start_time": "2022-03-11T21:03:55.239Z"
   },
   {
    "duration": 6613,
    "start_time": "2022-03-11T21:06:30.512Z"
   },
   {
    "duration": 11,
    "start_time": "2022-03-11T21:07:44.596Z"
   },
   {
    "duration": 96,
    "start_time": "2022-03-11T21:13:48.783Z"
   },
   {
    "duration": 248,
    "start_time": "2022-03-11T21:14:21.461Z"
   },
   {
    "duration": 246,
    "start_time": "2022-03-11T21:14:31.045Z"
   },
   {
    "duration": 148,
    "start_time": "2022-03-11T21:22:47.541Z"
   },
   {
    "duration": 242,
    "start_time": "2022-03-11T21:22:58.907Z"
   },
   {
    "duration": 92,
    "start_time": "2022-03-11T21:23:11.503Z"
   },
   {
    "duration": 263,
    "start_time": "2022-03-11T21:24:25.070Z"
   },
   {
    "duration": 111,
    "start_time": "2022-03-11T21:24:39.927Z"
   },
   {
    "duration": 1380,
    "start_time": "2022-03-11T21:24:56.643Z"
   },
   {
    "duration": 123,
    "start_time": "2022-03-11T21:24:58.025Z"
   },
   {
    "duration": 39,
    "start_time": "2022-03-11T21:24:58.152Z"
   },
   {
    "duration": 10,
    "start_time": "2022-03-11T21:24:58.195Z"
   },
   {
    "duration": 34,
    "start_time": "2022-03-11T21:24:58.208Z"
   },
   {
    "duration": 46,
    "start_time": "2022-03-11T21:24:58.245Z"
   },
   {
    "duration": 13,
    "start_time": "2022-03-11T21:24:58.294Z"
   },
   {
    "duration": 8,
    "start_time": "2022-03-11T21:24:58.313Z"
   },
   {
    "duration": 78,
    "start_time": "2022-03-11T21:24:58.324Z"
   },
   {
    "duration": 3,
    "start_time": "2022-03-11T21:24:58.405Z"
   },
   {
    "duration": 526,
    "start_time": "2022-03-11T21:24:58.410Z"
   },
   {
    "duration": 18,
    "start_time": "2022-03-11T21:24:58.939Z"
   },
   {
    "duration": 29,
    "start_time": "2022-03-11T21:24:58.960Z"
   },
   {
    "duration": 54,
    "start_time": "2022-03-11T21:24:58.992Z"
   },
   {
    "duration": 293,
    "start_time": "2022-03-11T21:24:59.048Z"
   },
   {
    "duration": 525,
    "start_time": "2022-03-11T21:24:59.343Z"
   },
   {
    "duration": 360,
    "start_time": "2022-03-11T21:24:59.870Z"
   },
   {
    "duration": 230,
    "start_time": "2022-03-11T21:25:00.232Z"
   },
   {
    "duration": 25,
    "start_time": "2022-03-11T21:25:00.465Z"
   },
   {
    "duration": 107,
    "start_time": "2022-03-11T21:25:00.493Z"
   },
   {
    "duration": 284,
    "start_time": "2022-03-11T21:25:00.603Z"
   },
   {
    "duration": 331,
    "start_time": "2022-03-11T21:25:00.891Z"
   },
   {
    "duration": 165,
    "start_time": "2022-03-11T21:25:01.226Z"
   },
   {
    "duration": 441,
    "start_time": "2022-03-11T21:25:01.396Z"
   },
   {
    "duration": 128,
    "start_time": "2022-03-11T21:25:01.839Z"
   },
   {
    "duration": 272,
    "start_time": "2022-03-11T21:25:01.969Z"
   },
   {
    "duration": 295,
    "start_time": "2022-03-11T21:25:02.244Z"
   },
   {
    "duration": 641,
    "start_time": "2022-03-11T21:26:20.254Z"
   },
   {
    "duration": 650,
    "start_time": "2022-03-11T21:28:44.064Z"
   },
   {
    "duration": 257,
    "start_time": "2022-03-11T21:32:32.183Z"
   },
   {
    "duration": 1267,
    "start_time": "2022-03-11T21:32:43.241Z"
   },
   {
    "duration": 116,
    "start_time": "2022-03-11T21:32:44.510Z"
   },
   {
    "duration": 15,
    "start_time": "2022-03-11T21:32:44.629Z"
   },
   {
    "duration": 8,
    "start_time": "2022-03-11T21:32:44.647Z"
   },
   {
    "duration": 56,
    "start_time": "2022-03-11T21:32:44.658Z"
   },
   {
    "duration": 15,
    "start_time": "2022-03-11T21:32:44.716Z"
   },
   {
    "duration": 10,
    "start_time": "2022-03-11T21:32:44.733Z"
   },
   {
    "duration": 42,
    "start_time": "2022-03-11T21:32:44.746Z"
   },
   {
    "duration": 31,
    "start_time": "2022-03-11T21:32:44.791Z"
   },
   {
    "duration": 3,
    "start_time": "2022-03-11T21:32:44.824Z"
   },
   {
    "duration": 368,
    "start_time": "2022-03-11T21:32:44.829Z"
   },
   {
    "duration": 13,
    "start_time": "2022-03-11T21:32:45.199Z"
   },
   {
    "duration": 9,
    "start_time": "2022-03-11T21:32:45.214Z"
   },
   {
    "duration": 68,
    "start_time": "2022-03-11T21:32:45.226Z"
   },
   {
    "duration": 292,
    "start_time": "2022-03-11T21:32:45.297Z"
   },
   {
    "duration": 424,
    "start_time": "2022-03-11T21:32:45.592Z"
   },
   {
    "duration": 328,
    "start_time": "2022-03-11T21:32:46.019Z"
   },
   {
    "duration": 218,
    "start_time": "2022-03-11T21:32:46.350Z"
   },
   {
    "duration": 19,
    "start_time": "2022-03-11T21:32:46.570Z"
   },
   {
    "duration": 102,
    "start_time": "2022-03-11T21:32:46.592Z"
   },
   {
    "duration": 291,
    "start_time": "2022-03-11T21:32:46.697Z"
   },
   {
    "duration": 336,
    "start_time": "2022-03-11T21:32:46.992Z"
   },
   {
    "duration": 665,
    "start_time": "2022-03-11T21:32:47.332Z"
   },
   {
    "duration": 241,
    "start_time": "2022-03-11T21:32:48.000Z"
   },
   {
    "duration": 299,
    "start_time": "2022-03-11T21:32:48.244Z"
   },
   {
    "duration": 451,
    "start_time": "2022-03-12T07:50:48.956Z"
   },
   {
    "duration": 1409,
    "start_time": "2022-03-12T07:50:58.457Z"
   },
   {
    "duration": 113,
    "start_time": "2022-03-12T07:50:59.869Z"
   },
   {
    "duration": 17,
    "start_time": "2022-03-12T07:50:59.985Z"
   },
   {
    "duration": 33,
    "start_time": "2022-03-12T07:51:00.005Z"
   },
   {
    "duration": 35,
    "start_time": "2022-03-12T07:51:00.040Z"
   },
   {
    "duration": 17,
    "start_time": "2022-03-12T07:51:00.077Z"
   },
   {
    "duration": 43,
    "start_time": "2022-03-12T07:51:00.097Z"
   },
   {
    "duration": 9,
    "start_time": "2022-03-12T07:51:00.144Z"
   },
   {
    "duration": 31,
    "start_time": "2022-03-12T07:51:00.156Z"
   },
   {
    "duration": 3,
    "start_time": "2022-03-12T07:51:00.189Z"
   },
   {
    "duration": 362,
    "start_time": "2022-03-12T07:51:00.194Z"
   },
   {
    "duration": 12,
    "start_time": "2022-03-12T07:51:00.559Z"
   },
   {
    "duration": 24,
    "start_time": "2022-03-12T07:51:00.574Z"
   },
   {
    "duration": 56,
    "start_time": "2022-03-12T07:51:00.601Z"
   },
   {
    "duration": 294,
    "start_time": "2022-03-12T07:51:00.659Z"
   },
   {
    "duration": 446,
    "start_time": "2022-03-12T07:51:00.956Z"
   },
   {
    "duration": 353,
    "start_time": "2022-03-12T07:51:01.405Z"
   },
   {
    "duration": 10,
    "start_time": "2022-03-12T07:51:01.761Z"
   },
   {
    "duration": 112,
    "start_time": "2022-03-12T07:51:01.774Z"
   },
   {
    "duration": 346,
    "start_time": "2022-03-12T07:51:01.888Z"
   },
   {
    "duration": 324,
    "start_time": "2022-03-12T07:51:02.237Z"
   },
   {
    "duration": 602,
    "start_time": "2022-03-12T07:51:02.564Z"
   },
   {
    "duration": 281,
    "start_time": "2022-03-12T07:51:03.170Z"
   },
   {
    "duration": 236,
    "start_time": "2022-03-12T07:51:03.454Z"
   },
   {
    "duration": 232,
    "start_time": "2022-03-12T07:51:58.985Z"
   },
   {
    "duration": 265,
    "start_time": "2022-03-12T08:07:45.014Z"
   },
   {
    "duration": 510,
    "start_time": "2022-03-12T08:08:19.158Z"
   },
   {
    "duration": 322,
    "start_time": "2022-03-12T08:08:41.599Z"
   },
   {
    "duration": 362,
    "start_time": "2022-03-12T08:12:19.025Z"
   },
   {
    "duration": 331,
    "start_time": "2022-03-12T08:13:05.250Z"
   },
   {
    "duration": 265,
    "start_time": "2022-03-12T08:17:08.723Z"
   },
   {
    "duration": 492,
    "start_time": "2022-03-12T08:19:24.540Z"
   },
   {
    "duration": 616,
    "start_time": "2022-03-12T08:19:35.354Z"
   },
   {
    "duration": 286,
    "start_time": "2022-03-12T08:21:23.498Z"
   },
   {
    "duration": 36,
    "start_time": "2022-03-12T08:36:10.560Z"
   },
   {
    "duration": 38,
    "start_time": "2022-03-12T08:36:48.830Z"
   },
   {
    "duration": 36,
    "start_time": "2022-03-12T08:36:55.291Z"
   },
   {
    "duration": 39,
    "start_time": "2022-03-12T08:41:36.075Z"
   },
   {
    "duration": 48,
    "start_time": "2022-03-12T08:43:08.206Z"
   },
   {
    "duration": 114,
    "start_time": "2022-03-12T08:44:22.229Z"
   },
   {
    "duration": 297,
    "start_time": "2022-03-12T09:01:43.679Z"
   },
   {
    "duration": 116,
    "start_time": "2022-03-12T09:03:28.692Z"
   },
   {
    "duration": 187,
    "start_time": "2022-03-12T09:04:21.146Z"
   },
   {
    "duration": 571,
    "start_time": "2022-03-12T09:15:20.907Z"
   },
   {
    "duration": 118,
    "start_time": "2022-03-12T09:16:26.036Z"
   },
   {
    "duration": 133,
    "start_time": "2022-03-12T09:16:51.987Z"
   },
   {
    "duration": 1152,
    "start_time": "2022-03-12T09:17:00.269Z"
   },
   {
    "duration": 550,
    "start_time": "2022-03-12T09:17:20.912Z"
   },
   {
    "duration": 338,
    "start_time": "2022-03-12T09:17:40.327Z"
   },
   {
    "duration": 715,
    "start_time": "2022-03-12T09:17:46.903Z"
   },
   {
    "duration": 925,
    "start_time": "2022-03-12T09:17:56.634Z"
   },
   {
    "duration": 1030,
    "start_time": "2022-03-12T09:18:04.919Z"
   },
   {
    "duration": 1158,
    "start_time": "2022-03-12T09:18:11.374Z"
   },
   {
    "duration": 1133,
    "start_time": "2022-03-12T09:18:18.357Z"
   },
   {
    "duration": 1129,
    "start_time": "2022-03-12T09:18:24.375Z"
   },
   {
    "duration": 1386,
    "start_time": "2022-03-12T09:18:32.747Z"
   },
   {
    "duration": 1377,
    "start_time": "2022-03-12T09:18:41.290Z"
   },
   {
    "duration": 431,
    "start_time": "2022-03-12T09:19:17.282Z"
   },
   {
    "duration": 1304,
    "start_time": "2022-03-12T09:19:27.411Z"
   },
   {
    "duration": 1120,
    "start_time": "2022-03-12T09:19:48.945Z"
   },
   {
    "duration": 1547,
    "start_time": "2022-03-12T09:19:54.388Z"
   },
   {
    "duration": 1321,
    "start_time": "2022-03-12T09:20:00.221Z"
   },
   {
    "duration": 935,
    "start_time": "2022-03-12T09:20:07.620Z"
   },
   {
    "duration": 1205,
    "start_time": "2022-03-12T09:20:16.653Z"
   },
   {
    "duration": 684,
    "start_time": "2022-03-12T09:20:24.313Z"
   },
   {
    "duration": 1357,
    "start_time": "2022-03-12T09:20:30.031Z"
   },
   {
    "duration": 1510,
    "start_time": "2022-03-12T09:20:38.083Z"
   },
   {
    "duration": 1354,
    "start_time": "2022-03-12T09:20:51.098Z"
   },
   {
    "duration": 2233,
    "start_time": "2022-03-12T09:21:00.864Z"
   },
   {
    "duration": 1446,
    "start_time": "2022-03-12T09:21:13.586Z"
   },
   {
    "duration": 1269,
    "start_time": "2022-03-12T09:21:28.374Z"
   },
   {
    "duration": 1261,
    "start_time": "2022-03-12T09:21:36.479Z"
   },
   {
    "duration": 1300,
    "start_time": "2022-03-12T09:21:41.614Z"
   },
   {
    "duration": 1351,
    "start_time": "2022-03-12T09:21:46.900Z"
   },
   {
    "duration": 1879,
    "start_time": "2022-03-12T09:21:59.376Z"
   },
   {
    "duration": 1334,
    "start_time": "2022-03-12T09:22:10.992Z"
   },
   {
    "duration": 627,
    "start_time": "2022-03-12T09:24:40.313Z"
   },
   {
    "duration": 624,
    "start_time": "2022-03-12T09:25:38.073Z"
   },
   {
    "duration": 2732,
    "start_time": "2022-03-12T09:35:09.427Z"
   },
   {
    "duration": 1927,
    "start_time": "2022-03-12T09:35:28.345Z"
   },
   {
    "duration": 450,
    "start_time": "2022-03-12T09:40:21.996Z"
   },
   {
    "duration": 1352,
    "start_time": "2022-03-12T09:40:48.035Z"
   },
   {
    "duration": 466,
    "start_time": "2022-03-12T09:44:16.073Z"
   },
   {
    "duration": 6,
    "start_time": "2022-03-12T09:44:52.969Z"
   },
   {
    "duration": 477,
    "start_time": "2022-03-12T09:45:01.598Z"
   },
   {
    "duration": 5,
    "start_time": "2022-03-12T09:45:33.185Z"
   },
   {
    "duration": 410,
    "start_time": "2022-03-12T09:45:39.615Z"
   },
   {
    "duration": 330,
    "start_time": "2022-03-12T09:55:53.578Z"
   },
   {
    "duration": 262,
    "start_time": "2022-03-12T09:56:05.952Z"
   },
   {
    "duration": 1425,
    "start_time": "2022-03-12T09:56:35.080Z"
   },
   {
    "duration": 130,
    "start_time": "2022-03-12T09:56:36.508Z"
   },
   {
    "duration": 17,
    "start_time": "2022-03-12T09:56:36.641Z"
   },
   {
    "duration": 10,
    "start_time": "2022-03-12T09:56:36.661Z"
   },
   {
    "duration": 69,
    "start_time": "2022-03-12T09:56:36.673Z"
   },
   {
    "duration": 17,
    "start_time": "2022-03-12T09:56:36.745Z"
   },
   {
    "duration": 11,
    "start_time": "2022-03-12T09:56:36.765Z"
   },
   {
    "duration": 6,
    "start_time": "2022-03-12T09:56:36.781Z"
   },
   {
    "duration": 70,
    "start_time": "2022-03-12T09:56:36.790Z"
   },
   {
    "duration": 3,
    "start_time": "2022-03-12T09:56:36.862Z"
   },
   {
    "duration": 258,
    "start_time": "2022-03-12T09:56:36.867Z"
   },
   {
    "duration": 14,
    "start_time": "2022-03-12T09:56:37.127Z"
   },
   {
    "duration": 9,
    "start_time": "2022-03-12T09:56:37.143Z"
   },
   {
    "duration": 38,
    "start_time": "2022-03-12T09:56:37.155Z"
   },
   {
    "duration": 308,
    "start_time": "2022-03-12T09:56:37.195Z"
   },
   {
    "duration": 415,
    "start_time": "2022-03-12T09:56:37.506Z"
   },
   {
    "duration": 340,
    "start_time": "2022-03-12T09:56:37.933Z"
   },
   {
    "duration": 10,
    "start_time": "2022-03-12T09:56:38.276Z"
   },
   {
    "duration": 113,
    "start_time": "2022-03-12T09:56:38.289Z"
   },
   {
    "duration": 259,
    "start_time": "2022-03-12T09:56:38.405Z"
   },
   {
    "duration": 325,
    "start_time": "2022-03-12T09:56:38.735Z"
   },
   {
    "duration": 595,
    "start_time": "2022-03-12T09:56:39.062Z"
   },
   {
    "duration": 222,
    "start_time": "2022-03-12T09:56:39.662Z"
   },
   {
    "duration": 1351,
    "start_time": "2022-03-12T09:56:39.888Z"
   },
   {
    "duration": 94,
    "start_time": "2022-03-12T09:56:41.242Z"
   },
   {
    "duration": 139,
    "start_time": "2022-03-12T09:56:41.339Z"
   },
   {
    "duration": 153,
    "start_time": "2022-03-12T09:56:41.481Z"
   },
   {
    "duration": 281,
    "start_time": "2022-03-12T09:56:41.637Z"
   },
   {
    "duration": 642,
    "start_time": "2022-03-12T09:56:41.933Z"
   },
   {
    "duration": 403,
    "start_time": "2022-03-12T09:56:42.578Z"
   },
   {
    "duration": 328,
    "start_time": "2022-03-12T09:56:55.875Z"
   },
   {
    "duration": 267,
    "start_time": "2022-03-12T09:58:39.252Z"
   },
   {
    "duration": 311,
    "start_time": "2022-03-12T09:59:32.102Z"
   },
   {
    "duration": 293,
    "start_time": "2022-03-12T09:59:44.017Z"
   },
   {
    "duration": 339,
    "start_time": "2022-03-12T09:59:58.169Z"
   },
   {
    "duration": 221,
    "start_time": "2022-03-12T10:00:39.554Z"
   },
   {
    "duration": 362,
    "start_time": "2022-03-12T10:00:53.920Z"
   },
   {
    "duration": 48,
    "start_time": "2022-03-12T10:02:29.886Z"
   },
   {
    "duration": 28,
    "start_time": "2022-03-12T10:02:34.415Z"
   },
   {
    "duration": 116,
    "start_time": "2022-03-12T10:02:46.223Z"
   },
   {
    "duration": 75,
    "start_time": "2022-03-12T10:02:57.423Z"
   },
   {
    "duration": 119,
    "start_time": "2022-03-12T10:03:04.414Z"
   },
   {
    "duration": 72,
    "start_time": "2022-03-12T10:03:12.033Z"
   },
   {
    "duration": 847,
    "start_time": "2022-03-12T10:04:07.220Z"
   },
   {
    "duration": 789,
    "start_time": "2022-03-12T10:04:18.589Z"
   },
   {
    "duration": 827,
    "start_time": "2022-03-12T10:04:42.120Z"
   },
   {
    "duration": 453,
    "start_time": "2022-03-12T10:04:56.803Z"
   },
   {
    "duration": 292,
    "start_time": "2022-03-12T10:05:20.849Z"
   },
   {
    "duration": 340,
    "start_time": "2022-03-12T10:05:44.067Z"
   },
   {
    "duration": 372,
    "start_time": "2022-03-12T10:11:31.080Z"
   },
   {
    "duration": 355,
    "start_time": "2022-03-12T10:11:50.326Z"
   },
   {
    "duration": 618,
    "start_time": "2022-03-12T10:12:28.145Z"
   },
   {
    "duration": 399,
    "start_time": "2022-03-12T10:13:22.675Z"
   },
   {
    "duration": 1325,
    "start_time": "2022-03-12T10:13:34.189Z"
   },
   {
    "duration": 809,
    "start_time": "2022-03-12T10:13:52.183Z"
   },
   {
    "duration": 572,
    "start_time": "2022-03-12T10:14:22.674Z"
   },
   {
    "duration": 749,
    "start_time": "2022-03-12T10:14:43.686Z"
   },
   {
    "duration": 1353,
    "start_time": "2022-03-12T10:14:50.236Z"
   },
   {
    "duration": 368,
    "start_time": "2022-03-12T10:18:30.724Z"
   },
   {
    "duration": 630,
    "start_time": "2022-03-12T10:18:56.395Z"
   },
   {
    "duration": 272,
    "start_time": "2022-03-12T11:31:00.510Z"
   },
   {
    "duration": 453,
    "start_time": "2022-03-12T11:31:23.509Z"
   },
   {
    "duration": 559,
    "start_time": "2022-03-12T11:31:41.636Z"
   },
   {
    "duration": 597,
    "start_time": "2022-03-12T11:31:54.432Z"
   },
   {
    "duration": 619,
    "start_time": "2022-03-12T11:32:07.041Z"
   },
   {
    "duration": 604,
    "start_time": "2022-03-12T11:32:15.165Z"
   },
   {
    "duration": 584,
    "start_time": "2022-03-12T11:32:24.181Z"
   },
   {
    "duration": 207,
    "start_time": "2022-03-12T11:32:50.263Z"
   },
   {
    "duration": 262,
    "start_time": "2022-03-12T11:33:02.116Z"
   },
   {
    "duration": 248,
    "start_time": "2022-03-12T11:33:11.536Z"
   },
   {
    "duration": 23,
    "start_time": "2022-03-12T11:33:57.953Z"
   },
   {
    "duration": 27,
    "start_time": "2022-03-12T11:34:08.915Z"
   },
   {
    "duration": 520,
    "start_time": "2022-03-12T11:34:54.888Z"
   },
   {
    "duration": 792,
    "start_time": "2022-03-12T11:36:05.729Z"
   },
   {
    "duration": 210,
    "start_time": "2022-03-12T11:36:21.330Z"
   },
   {
    "duration": 189,
    "start_time": "2022-03-12T11:36:53.499Z"
   },
   {
    "duration": 194,
    "start_time": "2022-03-12T11:37:22.663Z"
   },
   {
    "duration": 187,
    "start_time": "2022-03-12T11:37:30.203Z"
   },
   {
    "duration": 344,
    "start_time": "2022-03-12T11:39:42.455Z"
   },
   {
    "duration": 998,
    "start_time": "2022-03-12T11:40:25.663Z"
   },
   {
    "duration": 365,
    "start_time": "2022-03-12T11:40:34.131Z"
   },
   {
    "duration": 365,
    "start_time": "2022-03-12T11:44:52.875Z"
   },
   {
    "duration": 359,
    "start_time": "2022-03-12T11:45:02.061Z"
   },
   {
    "duration": 889,
    "start_time": "2022-03-12T11:48:33.311Z"
   },
   {
    "duration": 682,
    "start_time": "2022-03-12T11:48:42.136Z"
   },
   {
    "duration": 453,
    "start_time": "2022-03-12T11:48:48.871Z"
   },
   {
    "duration": 364,
    "start_time": "2022-03-12T11:50:05.180Z"
   },
   {
    "duration": 675,
    "start_time": "2022-03-12T11:50:09.545Z"
   },
   {
    "duration": 653,
    "start_time": "2022-03-12T11:50:14.111Z"
   },
   {
    "duration": 640,
    "start_time": "2022-03-12T11:50:20.281Z"
   },
   {
    "duration": 1530,
    "start_time": "2022-03-12T11:50:30.332Z"
   },
   {
    "duration": 121,
    "start_time": "2022-03-12T11:50:31.864Z"
   },
   {
    "duration": 16,
    "start_time": "2022-03-12T11:50:31.988Z"
   },
   {
    "duration": 30,
    "start_time": "2022-03-12T11:50:32.007Z"
   },
   {
    "duration": 35,
    "start_time": "2022-03-12T11:50:32.040Z"
   },
   {
    "duration": 16,
    "start_time": "2022-03-12T11:50:32.077Z"
   },
   {
    "duration": 42,
    "start_time": "2022-03-12T11:50:32.096Z"
   },
   {
    "duration": 6,
    "start_time": "2022-03-12T11:50:32.142Z"
   },
   {
    "duration": 32,
    "start_time": "2022-03-12T11:50:32.153Z"
   },
   {
    "duration": 4,
    "start_time": "2022-03-12T11:50:32.188Z"
   },
   {
    "duration": 241,
    "start_time": "2022-03-12T11:50:32.234Z"
   },
   {
    "duration": 15,
    "start_time": "2022-03-12T11:50:32.478Z"
   },
   {
    "duration": 41,
    "start_time": "2022-03-12T11:50:32.496Z"
   },
   {
    "duration": 37,
    "start_time": "2022-03-12T11:50:32.540Z"
   },
   {
    "duration": 298,
    "start_time": "2022-03-12T11:50:32.580Z"
   },
   {
    "duration": 530,
    "start_time": "2022-03-12T11:50:32.881Z"
   },
   {
    "duration": 391,
    "start_time": "2022-03-12T11:50:33.414Z"
   },
   {
    "duration": 33,
    "start_time": "2022-03-12T11:50:33.808Z"
   },
   {
    "duration": 124,
    "start_time": "2022-03-12T11:50:33.844Z"
   },
   {
    "duration": 264,
    "start_time": "2022-03-12T11:50:33.971Z"
   },
   {
    "duration": 333,
    "start_time": "2022-03-12T11:50:34.238Z"
   },
   {
    "duration": 593,
    "start_time": "2022-03-12T11:50:34.573Z"
   },
   {
    "duration": 281,
    "start_time": "2022-03-12T11:50:35.171Z"
   },
   {
    "duration": 1361,
    "start_time": "2022-03-12T11:50:35.455Z"
   },
   {
    "duration": 43,
    "start_time": "2022-03-12T11:50:36.818Z"
   },
   {
    "duration": 182,
    "start_time": "2022-03-12T11:50:36.864Z"
   },
   {
    "duration": 91,
    "start_time": "2022-03-12T11:50:37.049Z"
   },
   {
    "duration": 541,
    "start_time": "2022-03-12T11:50:37.144Z"
   },
   {
    "duration": 201,
    "start_time": "2022-03-12T11:50:37.687Z"
   },
   {
    "duration": 409,
    "start_time": "2022-03-12T11:50:37.890Z"
   },
   {
    "duration": 662,
    "start_time": "2022-03-12T11:50:38.302Z"
   },
   {
    "duration": 473,
    "start_time": "2022-03-12T11:50:38.967Z"
   },
   {
    "duration": 450,
    "start_time": "2022-03-12T11:54:26.595Z"
   },
   {
    "duration": 543,
    "start_time": "2022-03-12T11:56:27.889Z"
   },
   {
    "duration": 472,
    "start_time": "2022-03-12T11:56:53.119Z"
   },
   {
    "duration": 797,
    "start_time": "2022-03-12T11:57:26.850Z"
   },
   {
    "duration": 465,
    "start_time": "2022-03-12T12:00:44.033Z"
   },
   {
    "duration": 456,
    "start_time": "2022-03-12T12:01:40.755Z"
   },
   {
    "duration": 861,
    "start_time": "2022-03-12T12:01:54.474Z"
   },
   {
    "duration": 467,
    "start_time": "2022-03-12T12:08:59.020Z"
   },
   {
    "duration": 803,
    "start_time": "2022-03-12T12:09:15.892Z"
   },
   {
    "duration": 6,
    "start_time": "2022-03-12T12:12:45.596Z"
   },
   {
    "duration": 1311,
    "start_time": "2022-03-12T12:18:50.079Z"
   },
   {
    "duration": 1077,
    "start_time": "2022-03-12T12:20:44.198Z"
   },
   {
    "duration": 1130,
    "start_time": "2022-03-12T12:23:25.552Z"
   },
   {
    "duration": 740,
    "start_time": "2022-03-12T12:23:56.640Z"
   },
   {
    "duration": 990,
    "start_time": "2022-03-12T12:25:00.490Z"
   },
   {
    "duration": 352,
    "start_time": "2022-03-12T12:25:59.948Z"
   },
   {
    "duration": 1585,
    "start_time": "2022-03-12T12:28:50.168Z"
   },
   {
    "duration": 8,
    "start_time": "2022-03-12T12:29:23.483Z"
   },
   {
    "duration": 1074,
    "start_time": "2022-03-12T12:29:36.801Z"
   },
   {
    "duration": 729,
    "start_time": "2022-03-12T12:30:24.521Z"
   },
   {
    "duration": 936,
    "start_time": "2022-03-12T12:32:05.244Z"
   },
   {
    "duration": 720,
    "start_time": "2022-03-12T12:34:11.348Z"
   },
   {
    "duration": 741,
    "start_time": "2022-03-12T12:35:12.922Z"
   },
   {
    "duration": 736,
    "start_time": "2022-03-12T12:36:00.952Z"
   },
   {
    "duration": 731,
    "start_time": "2022-03-12T12:37:07.567Z"
   },
   {
    "duration": 1130,
    "start_time": "2022-03-12T12:40:21.660Z"
   },
   {
    "duration": 1049,
    "start_time": "2022-03-12T12:41:23.574Z"
   },
   {
    "duration": 190,
    "start_time": "2022-03-12T12:44:45.506Z"
   },
   {
    "duration": 123,
    "start_time": "2022-03-12T12:45:08.972Z"
   },
   {
    "duration": 1189,
    "start_time": "2022-03-12T12:46:21.360Z"
   },
   {
    "duration": 1173,
    "start_time": "2022-03-12T12:46:58.029Z"
   },
   {
    "duration": 1076,
    "start_time": "2022-03-12T12:49:15.827Z"
   },
   {
    "duration": 1066,
    "start_time": "2022-03-12T12:49:32.891Z"
   },
   {
    "duration": 1130,
    "start_time": "2022-03-12T12:49:52.167Z"
   },
   {
    "duration": 1068,
    "start_time": "2022-03-12T12:50:36.899Z"
   },
   {
    "duration": 821,
    "start_time": "2022-03-12T12:51:39.959Z"
   },
   {
    "duration": 772,
    "start_time": "2022-03-12T12:52:01.876Z"
   },
   {
    "duration": 408,
    "start_time": "2022-03-12T12:52:23.084Z"
   },
   {
    "duration": 375,
    "start_time": "2022-03-12T12:53:12.021Z"
   },
   {
    "duration": 329,
    "start_time": "2022-03-12T12:53:34.579Z"
   },
   {
    "duration": 364,
    "start_time": "2022-03-12T12:53:43.324Z"
   },
   {
    "duration": 407,
    "start_time": "2022-03-12T12:53:51.596Z"
   },
   {
    "duration": 273,
    "start_time": "2022-03-12T12:57:00.773Z"
   },
   {
    "duration": 635,
    "start_time": "2022-03-12T12:58:05.133Z"
   },
   {
    "duration": 266,
    "start_time": "2022-03-12T12:58:45.274Z"
   },
   {
    "duration": 456,
    "start_time": "2022-03-12T12:59:07.071Z"
   },
   {
    "duration": 322,
    "start_time": "2022-03-12T12:59:44.284Z"
   },
   {
    "duration": 95,
    "start_time": "2022-03-12T13:04:33.180Z"
   },
   {
    "duration": 93,
    "start_time": "2022-03-12T13:05:15.557Z"
   },
   {
    "duration": 100,
    "start_time": "2022-03-12T13:07:00.681Z"
   },
   {
    "duration": 94,
    "start_time": "2022-03-12T13:07:25.862Z"
   },
   {
    "duration": 96,
    "start_time": "2022-03-12T13:07:41.987Z"
   },
   {
    "duration": 50,
    "start_time": "2022-03-12T13:10:11.637Z"
   },
   {
    "duration": 51,
    "start_time": "2022-03-12T13:22:29.761Z"
   },
   {
    "duration": 53,
    "start_time": "2022-03-12T13:22:36.756Z"
   },
   {
    "duration": 61,
    "start_time": "2022-03-12T13:23:21.313Z"
   },
   {
    "duration": 96,
    "start_time": "2022-03-12T13:24:13.539Z"
   },
   {
    "duration": 120,
    "start_time": "2022-03-12T13:24:53.371Z"
   },
   {
    "duration": 121,
    "start_time": "2022-03-12T13:25:14.107Z"
   },
   {
    "duration": 119,
    "start_time": "2022-03-12T13:26:53.906Z"
   },
   {
    "duration": 134,
    "start_time": "2022-03-12T13:27:05.921Z"
   },
   {
    "duration": 120,
    "start_time": "2022-03-12T13:27:10.330Z"
   },
   {
    "duration": 82,
    "start_time": "2022-03-12T13:27:23.456Z"
   },
   {
    "duration": 109,
    "start_time": "2022-03-12T13:27:31.526Z"
   },
   {
    "duration": 624,
    "start_time": "2022-03-12T13:28:55.854Z"
   },
   {
    "duration": 652,
    "start_time": "2022-03-12T13:29:19.922Z"
   },
   {
    "duration": 522,
    "start_time": "2022-03-12T13:29:48.733Z"
   },
   {
    "duration": 617,
    "start_time": "2022-03-12T13:30:02.855Z"
   },
   {
    "duration": 305,
    "start_time": "2022-03-12T13:31:56.077Z"
   },
   {
    "duration": 358,
    "start_time": "2022-03-12T13:36:44.140Z"
   },
   {
    "duration": 355,
    "start_time": "2022-03-12T13:36:58.166Z"
   },
   {
    "duration": 389,
    "start_time": "2022-03-12T13:37:06.404Z"
   },
   {
    "duration": 382,
    "start_time": "2022-03-12T13:37:14.140Z"
   },
   {
    "duration": 804,
    "start_time": "2022-03-12T14:00:46.622Z"
   },
   {
    "duration": 909,
    "start_time": "2022-03-12T14:02:16.392Z"
   },
   {
    "duration": 1120,
    "start_time": "2022-03-12T14:03:22.201Z"
   },
   {
    "duration": 917,
    "start_time": "2022-03-12T14:03:46.685Z"
   },
   {
    "duration": 1335,
    "start_time": "2022-03-12T14:04:13.125Z"
   },
   {
    "duration": 1278,
    "start_time": "2022-03-12T14:38:53.790Z"
   },
   {
    "duration": 655,
    "start_time": "2022-03-12T14:39:28.481Z"
   },
   {
    "duration": 878,
    "start_time": "2022-03-12T14:42:54.961Z"
   },
   {
    "duration": 638,
    "start_time": "2022-03-12T14:54:13.639Z"
   },
   {
    "duration": 12,
    "start_time": "2022-03-12T15:46:56.329Z"
   },
   {
    "duration": 12,
    "start_time": "2022-03-12T15:50:45.859Z"
   },
   {
    "duration": 716,
    "start_time": "2022-03-12T15:56:00.564Z"
   },
   {
    "duration": 764,
    "start_time": "2022-03-12T16:00:55.611Z"
   },
   {
    "duration": 721,
    "start_time": "2022-03-12T16:02:29.012Z"
   },
   {
    "duration": 650,
    "start_time": "2022-03-12T16:03:09.582Z"
   },
   {
    "duration": 466,
    "start_time": "2022-03-12T16:09:20.156Z"
   },
   {
    "duration": 43,
    "start_time": "2022-03-12T16:09:38.886Z"
   },
   {
    "duration": 778,
    "start_time": "2022-03-12T16:10:26.043Z"
   },
   {
    "duration": 2146,
    "start_time": "2022-03-12T16:10:40.221Z"
   },
   {
    "duration": 167,
    "start_time": "2022-03-12T16:10:42.370Z"
   },
   {
    "duration": 21,
    "start_time": "2022-03-12T16:10:42.541Z"
   },
   {
    "duration": 12,
    "start_time": "2022-03-12T16:10:42.565Z"
   },
   {
    "duration": 79,
    "start_time": "2022-03-12T16:10:42.580Z"
   },
   {
    "duration": 16,
    "start_time": "2022-03-12T16:10:42.663Z"
   },
   {
    "duration": 11,
    "start_time": "2022-03-12T16:10:42.683Z"
   },
   {
    "duration": 46,
    "start_time": "2022-03-12T16:10:42.698Z"
   },
   {
    "duration": 47,
    "start_time": "2022-03-12T16:10:42.747Z"
   },
   {
    "duration": 3,
    "start_time": "2022-03-12T16:10:42.797Z"
   },
   {
    "duration": 284,
    "start_time": "2022-03-12T16:10:42.803Z"
   },
   {
    "duration": 14,
    "start_time": "2022-03-12T16:10:43.089Z"
   },
   {
    "duration": 31,
    "start_time": "2022-03-12T16:10:43.105Z"
   },
   {
    "duration": 42,
    "start_time": "2022-03-12T16:10:43.139Z"
   },
   {
    "duration": 320,
    "start_time": "2022-03-12T16:10:43.184Z"
   },
   {
    "duration": 586,
    "start_time": "2022-03-12T16:10:43.507Z"
   },
   {
    "duration": 352,
    "start_time": "2022-03-12T16:10:44.095Z"
   },
   {
    "duration": 52,
    "start_time": "2022-03-12T16:10:44.449Z"
   },
   {
    "duration": 143,
    "start_time": "2022-03-12T16:10:44.503Z"
   },
   {
    "duration": 137,
    "start_time": "2022-03-12T16:10:44.731Z"
   },
   {
    "duration": 662,
    "start_time": "2022-03-12T16:10:44.870Z"
   },
   {
    "duration": 254,
    "start_time": "2022-03-12T16:10:45.535Z"
   },
   {
    "duration": 1376,
    "start_time": "2022-03-12T16:10:45.793Z"
   },
   {
    "duration": 62,
    "start_time": "2022-03-12T16:10:47.172Z"
   },
   {
    "duration": 116,
    "start_time": "2022-03-12T16:10:47.238Z"
   },
   {
    "duration": 72,
    "start_time": "2022-03-12T16:10:47.434Z"
   },
   {
    "duration": 1137,
    "start_time": "2022-03-12T16:10:47.508Z"
   },
   {
    "duration": 861,
    "start_time": "2022-03-12T16:10:48.648Z"
   },
   {
    "duration": 387,
    "start_time": "2022-03-12T16:10:49.511Z"
   },
   {
    "duration": 874,
    "start_time": "2022-03-12T16:10:49.900Z"
   },
   {
    "duration": 698,
    "start_time": "2022-03-12T16:12:14.423Z"
   },
   {
    "duration": 712,
    "start_time": "2022-03-12T16:14:19.860Z"
   },
   {
    "duration": 1411,
    "start_time": "2022-03-12T16:16:01.971Z"
   },
   {
    "duration": 125,
    "start_time": "2022-03-12T16:16:03.384Z"
   },
   {
    "duration": 28,
    "start_time": "2022-03-12T16:16:03.512Z"
   },
   {
    "duration": 9,
    "start_time": "2022-03-12T16:16:03.543Z"
   },
   {
    "duration": 33,
    "start_time": "2022-03-12T16:16:03.554Z"
   },
   {
    "duration": 48,
    "start_time": "2022-03-12T16:16:03.589Z"
   },
   {
    "duration": 9,
    "start_time": "2022-03-12T16:16:03.639Z"
   },
   {
    "duration": 6,
    "start_time": "2022-03-12T16:16:03.651Z"
   },
   {
    "duration": 72,
    "start_time": "2022-03-12T16:16:03.663Z"
   },
   {
    "duration": 3,
    "start_time": "2022-03-12T16:16:03.738Z"
   },
   {
    "duration": 245,
    "start_time": "2022-03-12T16:16:03.743Z"
   },
   {
    "duration": 12,
    "start_time": "2022-03-12T16:16:03.990Z"
   },
   {
    "duration": 31,
    "start_time": "2022-03-12T16:16:04.005Z"
   },
   {
    "duration": 44,
    "start_time": "2022-03-12T16:16:04.039Z"
   },
   {
    "duration": 298,
    "start_time": "2022-03-12T16:16:04.085Z"
   },
   {
    "duration": 494,
    "start_time": "2022-03-12T16:16:04.385Z"
   },
   {
    "duration": 350,
    "start_time": "2022-03-12T16:16:04.882Z"
   },
   {
    "duration": 51,
    "start_time": "2022-03-12T16:16:05.235Z"
   },
   {
    "duration": 145,
    "start_time": "2022-03-12T16:16:05.288Z"
   },
   {
    "duration": 227,
    "start_time": "2022-03-12T16:16:05.437Z"
   },
   {
    "duration": 608,
    "start_time": "2022-03-12T16:16:05.667Z"
   },
   {
    "duration": 308,
    "start_time": "2022-03-12T16:16:06.277Z"
   },
   {
    "duration": 1358,
    "start_time": "2022-03-12T16:16:06.588Z"
   },
   {
    "duration": 87,
    "start_time": "2022-03-12T16:16:07.949Z"
   },
   {
    "duration": 113,
    "start_time": "2022-03-12T16:16:08.040Z"
   },
   {
    "duration": 104,
    "start_time": "2022-03-12T16:16:08.156Z"
   },
   {
    "duration": 1079,
    "start_time": "2022-03-12T16:16:08.265Z"
   },
   {
    "duration": 920,
    "start_time": "2022-03-12T16:16:09.347Z"
   },
   {
    "duration": 384,
    "start_time": "2022-03-12T16:16:10.269Z"
   },
   {
    "duration": 1013,
    "start_time": "2022-03-12T16:16:10.656Z"
   },
   {
    "duration": 738,
    "start_time": "2022-03-12T16:17:16.396Z"
   },
   {
    "duration": 825,
    "start_time": "2022-03-12T16:30:58.802Z"
   },
   {
    "duration": 796,
    "start_time": "2022-03-12T16:31:43.694Z"
   },
   {
    "duration": 738,
    "start_time": "2022-03-12T16:32:18.646Z"
   },
   {
    "duration": 746,
    "start_time": "2022-03-12T16:32:30.032Z"
   },
   {
    "duration": 732,
    "start_time": "2022-03-12T16:32:53.208Z"
   },
   {
    "duration": 722,
    "start_time": "2022-03-12T16:34:19.548Z"
   },
   {
    "duration": 811,
    "start_time": "2022-03-12T16:35:45.072Z"
   },
   {
    "duration": 868,
    "start_time": "2022-03-12T16:36:02.615Z"
   },
   {
    "duration": 1023,
    "start_time": "2022-03-12T16:36:15.214Z"
   },
   {
    "duration": 826,
    "start_time": "2022-03-12T16:36:47.723Z"
   },
   {
    "duration": 734,
    "start_time": "2022-03-12T16:37:02.738Z"
   },
   {
    "duration": 720,
    "start_time": "2022-03-12T16:37:38.016Z"
   },
   {
    "duration": 703,
    "start_time": "2022-03-12T16:37:47.884Z"
   },
   {
    "duration": 721,
    "start_time": "2022-03-12T16:39:16.293Z"
   },
   {
    "duration": 270,
    "start_time": "2022-03-12T16:44:43.011Z"
   },
   {
    "duration": 1482,
    "start_time": "2022-03-12T16:45:02.590Z"
   },
   {
    "duration": 128,
    "start_time": "2022-03-12T16:45:04.075Z"
   },
   {
    "duration": 38,
    "start_time": "2022-03-12T16:45:04.207Z"
   },
   {
    "duration": 10,
    "start_time": "2022-03-12T16:45:04.249Z"
   },
   {
    "duration": 36,
    "start_time": "2022-03-12T16:45:04.262Z"
   },
   {
    "duration": 48,
    "start_time": "2022-03-12T16:45:04.300Z"
   },
   {
    "duration": 12,
    "start_time": "2022-03-12T16:45:04.350Z"
   },
   {
    "duration": 7,
    "start_time": "2022-03-12T16:45:04.368Z"
   },
   {
    "duration": 81,
    "start_time": "2022-03-12T16:45:04.378Z"
   },
   {
    "duration": 3,
    "start_time": "2022-03-12T16:45:04.462Z"
   },
   {
    "duration": 252,
    "start_time": "2022-03-12T16:45:04.468Z"
   },
   {
    "duration": 20,
    "start_time": "2022-03-12T16:45:04.723Z"
   },
   {
    "duration": 12,
    "start_time": "2022-03-12T16:45:04.746Z"
   },
   {
    "duration": 83,
    "start_time": "2022-03-12T16:45:04.761Z"
   },
   {
    "duration": 313,
    "start_time": "2022-03-12T16:45:04.847Z"
   },
   {
    "duration": 482,
    "start_time": "2022-03-12T16:45:05.163Z"
   },
   {
    "duration": 344,
    "start_time": "2022-03-12T16:45:05.648Z"
   },
   {
    "duration": 64,
    "start_time": "2022-03-12T16:45:05.995Z"
   },
   {
    "duration": 172,
    "start_time": "2022-03-12T16:45:06.061Z"
   },
   {
    "duration": 155,
    "start_time": "2022-03-12T16:45:06.238Z"
   },
   {
    "duration": 670,
    "start_time": "2022-03-12T16:45:06.395Z"
   },
   {
    "duration": 282,
    "start_time": "2022-03-12T16:45:07.068Z"
   },
   {
    "duration": 1380,
    "start_time": "2022-03-12T16:45:07.355Z"
   },
   {
    "duration": 38,
    "start_time": "2022-03-12T16:45:08.738Z"
   },
   {
    "duration": 117,
    "start_time": "2022-03-12T16:45:08.835Z"
   },
   {
    "duration": 84,
    "start_time": "2022-03-12T16:45:08.955Z"
   },
   {
    "duration": 1107,
    "start_time": "2022-03-12T16:45:09.041Z"
   },
   {
    "duration": 811,
    "start_time": "2022-03-12T16:45:10.150Z"
   },
   {
    "duration": 343,
    "start_time": "2022-03-12T16:45:10.963Z"
   },
   {
    "duration": 869,
    "start_time": "2022-03-12T16:45:11.309Z"
   },
   {
    "duration": 715,
    "start_time": "2022-03-12T16:45:42.618Z"
   },
   {
    "duration": 749,
    "start_time": "2022-03-12T16:47:27.972Z"
   },
   {
    "duration": 406,
    "start_time": "2022-03-12T16:49:57.369Z"
   },
   {
    "duration": 387,
    "start_time": "2022-03-12T16:51:26.137Z"
   },
   {
    "duration": 392,
    "start_time": "2022-03-12T16:51:46.589Z"
   },
   {
    "duration": 390,
    "start_time": "2022-03-12T16:52:05.100Z"
   },
   {
    "duration": 389,
    "start_time": "2022-03-12T16:52:45.700Z"
   },
   {
    "duration": 468,
    "start_time": "2022-03-12T16:53:18.126Z"
   },
   {
    "duration": 386,
    "start_time": "2022-03-12T16:53:33.489Z"
   },
   {
    "duration": 363,
    "start_time": "2022-03-12T16:53:47.344Z"
   },
   {
    "duration": 108,
    "start_time": "2022-03-12T16:58:05.910Z"
   },
   {
    "duration": 100,
    "start_time": "2022-03-12T16:58:12.334Z"
   },
   {
    "duration": 1901,
    "start_time": "2022-03-12T16:59:21.218Z"
   },
   {
    "duration": 233,
    "start_time": "2022-03-12T16:59:23.122Z"
   },
   {
    "duration": 16,
    "start_time": "2022-03-12T16:59:23.358Z"
   },
   {
    "duration": 8,
    "start_time": "2022-03-12T16:59:23.377Z"
   },
   {
    "duration": 55,
    "start_time": "2022-03-12T16:59:23.387Z"
   },
   {
    "duration": 15,
    "start_time": "2022-03-12T16:59:23.444Z"
   },
   {
    "duration": 9,
    "start_time": "2022-03-12T16:59:23.461Z"
   },
   {
    "duration": 29,
    "start_time": "2022-03-12T16:59:23.473Z"
   },
   {
    "duration": 46,
    "start_time": "2022-03-12T16:59:23.505Z"
   },
   {
    "duration": 3,
    "start_time": "2022-03-12T16:59:23.553Z"
   },
   {
    "duration": 250,
    "start_time": "2022-03-12T16:59:23.559Z"
   },
   {
    "duration": 21,
    "start_time": "2022-03-12T16:59:23.812Z"
   },
   {
    "duration": 13,
    "start_time": "2022-03-12T16:59:23.835Z"
   },
   {
    "duration": 52,
    "start_time": "2022-03-12T16:59:23.851Z"
   },
   {
    "duration": 294,
    "start_time": "2022-03-12T16:59:23.905Z"
   },
   {
    "duration": 512,
    "start_time": "2022-03-12T16:59:24.202Z"
   },
   {
    "duration": 333,
    "start_time": "2022-03-12T16:59:24.717Z"
   },
   {
    "duration": 51,
    "start_time": "2022-03-12T16:59:25.052Z"
   },
   {
    "duration": 129,
    "start_time": "2022-03-12T16:59:25.106Z"
   },
   {
    "duration": 220,
    "start_time": "2022-03-12T16:59:25.239Z"
   },
   {
    "duration": 597,
    "start_time": "2022-03-12T16:59:25.461Z"
   },
   {
    "duration": 224,
    "start_time": "2022-03-12T16:59:26.061Z"
   },
   {
    "duration": 1361,
    "start_time": "2022-03-12T16:59:26.290Z"
   },
   {
    "duration": 79,
    "start_time": "2022-03-12T16:59:27.654Z"
   },
   {
    "duration": 111,
    "start_time": "2022-03-12T16:59:27.736Z"
   },
   {
    "duration": 89,
    "start_time": "2022-03-12T16:59:27.850Z"
   },
   {
    "duration": 1140,
    "start_time": "2022-03-12T16:59:27.942Z"
   },
   {
    "duration": 850,
    "start_time": "2022-03-12T16:59:29.085Z"
   },
   {
    "duration": 368,
    "start_time": "2022-03-12T16:59:29.937Z"
   },
   {
    "duration": 404,
    "start_time": "2022-03-12T16:59:30.307Z"
   },
   {
    "duration": 1614,
    "start_time": "2022-03-12T17:01:51.495Z"
   },
   {
    "duration": 120,
    "start_time": "2022-03-12T17:01:53.112Z"
   },
   {
    "duration": 16,
    "start_time": "2022-03-12T17:01:53.235Z"
   },
   {
    "duration": 9,
    "start_time": "2022-03-12T17:01:53.254Z"
   },
   {
    "duration": 75,
    "start_time": "2022-03-12T17:01:53.265Z"
   },
   {
    "duration": 15,
    "start_time": "2022-03-12T17:01:53.343Z"
   },
   {
    "duration": 9,
    "start_time": "2022-03-12T17:01:53.360Z"
   },
   {
    "duration": 6,
    "start_time": "2022-03-12T17:01:53.373Z"
   },
   {
    "duration": 74,
    "start_time": "2022-03-12T17:01:53.382Z"
   },
   {
    "duration": 4,
    "start_time": "2022-03-12T17:01:53.459Z"
   },
   {
    "duration": 254,
    "start_time": "2022-03-12T17:01:53.466Z"
   },
   {
    "duration": 19,
    "start_time": "2022-03-12T17:01:53.723Z"
   },
   {
    "duration": 18,
    "start_time": "2022-03-12T17:01:53.745Z"
   },
   {
    "duration": 52,
    "start_time": "2022-03-12T17:01:53.765Z"
   },
   {
    "duration": 288,
    "start_time": "2022-03-12T17:01:53.832Z"
   },
   {
    "duration": 613,
    "start_time": "2022-03-12T17:01:54.122Z"
   },
   {
    "duration": 473,
    "start_time": "2022-03-12T17:01:54.739Z"
   },
   {
    "duration": 64,
    "start_time": "2022-03-12T17:01:55.214Z"
   },
   {
    "duration": 153,
    "start_time": "2022-03-12T17:01:55.281Z"
   },
   {
    "duration": 272,
    "start_time": "2022-03-12T17:01:55.438Z"
   },
   {
    "duration": 838,
    "start_time": "2022-03-12T17:01:55.713Z"
   },
   {
    "duration": 236,
    "start_time": "2022-03-12T17:01:56.553Z"
   },
   {
    "duration": 1393,
    "start_time": "2022-03-12T17:01:56.794Z"
   },
   {
    "duration": 56,
    "start_time": "2022-03-12T17:01:58.189Z"
   },
   {
    "duration": 202,
    "start_time": "2022-03-12T17:01:58.248Z"
   },
   {
    "duration": 89,
    "start_time": "2022-03-12T17:01:58.453Z"
   },
   {
    "duration": 1149,
    "start_time": "2022-03-12T17:01:58.545Z"
   },
   {
    "duration": 1091,
    "start_time": "2022-03-12T17:01:59.697Z"
   },
   {
    "duration": 466,
    "start_time": "2022-03-12T17:02:00.790Z"
   },
   {
    "duration": 414,
    "start_time": "2022-03-12T17:02:01.259Z"
   },
   {
    "duration": 375,
    "start_time": "2022-03-12T20:15:57.864Z"
   },
   {
    "duration": 1424,
    "start_time": "2022-03-12T20:16:13.359Z"
   },
   {
    "duration": 110,
    "start_time": "2022-03-12T20:16:14.786Z"
   },
   {
    "duration": 33,
    "start_time": "2022-03-12T20:16:14.899Z"
   },
   {
    "duration": 9,
    "start_time": "2022-03-12T20:16:14.935Z"
   },
   {
    "duration": 35,
    "start_time": "2022-03-12T20:16:14.947Z"
   },
   {
    "duration": 48,
    "start_time": "2022-03-12T20:16:14.986Z"
   },
   {
    "duration": 13,
    "start_time": "2022-03-12T20:16:15.037Z"
   },
   {
    "duration": 8,
    "start_time": "2022-03-12T20:16:15.055Z"
   },
   {
    "duration": 9,
    "start_time": "2022-03-12T20:16:15.067Z"
   },
   {
    "duration": 83,
    "start_time": "2022-03-12T20:16:15.078Z"
   },
   {
    "duration": 3,
    "start_time": "2022-03-12T20:16:15.163Z"
   },
   {
    "duration": 248,
    "start_time": "2022-03-12T20:16:15.169Z"
   },
   {
    "duration": 21,
    "start_time": "2022-03-12T20:16:15.419Z"
   },
   {
    "duration": 11,
    "start_time": "2022-03-12T20:16:15.443Z"
   },
   {
    "duration": 42,
    "start_time": "2022-03-12T20:16:15.456Z"
   },
   {
    "duration": 309,
    "start_time": "2022-03-12T20:16:15.501Z"
   },
   {
    "duration": 481,
    "start_time": "2022-03-12T20:16:15.812Z"
   },
   {
    "duration": 342,
    "start_time": "2022-03-12T20:16:16.296Z"
   },
   {
    "duration": 50,
    "start_time": "2022-03-12T20:16:16.640Z"
   },
   {
    "duration": 143,
    "start_time": "2022-03-12T20:16:16.693Z"
   },
   {
    "duration": 227,
    "start_time": "2022-03-12T20:16:16.839Z"
   },
   {
    "duration": 591,
    "start_time": "2022-03-12T20:16:17.068Z"
   },
   {
    "duration": 301,
    "start_time": "2022-03-12T20:16:17.663Z"
   },
   {
    "duration": 1336,
    "start_time": "2022-03-12T20:16:17.966Z"
   },
   {
    "duration": 50,
    "start_time": "2022-03-12T20:16:19.305Z"
   },
   {
    "duration": 188,
    "start_time": "2022-03-12T20:16:19.358Z"
   },
   {
    "duration": 87,
    "start_time": "2022-03-12T20:16:19.549Z"
   },
   {
    "duration": 1072,
    "start_time": "2022-03-12T20:16:19.639Z"
   },
   {
    "duration": 787,
    "start_time": "2022-03-12T20:16:20.713Z"
   },
   {
    "duration": 390,
    "start_time": "2022-03-12T20:16:21.502Z"
   },
   {
    "duration": 374,
    "start_time": "2022-03-12T20:16:21.894Z"
   },
   {
    "duration": 484,
    "start_time": "2022-03-12T20:19:08.203Z"
   },
   {
    "duration": 1543,
    "start_time": "2022-03-12T20:19:34.659Z"
   },
   {
    "duration": 146,
    "start_time": "2022-03-12T20:19:36.205Z"
   },
   {
    "duration": 19,
    "start_time": "2022-03-12T20:19:36.354Z"
   },
   {
    "duration": 11,
    "start_time": "2022-03-12T20:19:36.377Z"
   },
   {
    "duration": 69,
    "start_time": "2022-03-12T20:19:36.391Z"
   },
   {
    "duration": 15,
    "start_time": "2022-03-12T20:19:36.462Z"
   },
   {
    "duration": 10,
    "start_time": "2022-03-12T20:19:36.479Z"
   },
   {
    "duration": 6,
    "start_time": "2022-03-12T20:19:36.491Z"
   },
   {
    "duration": 6,
    "start_time": "2022-03-12T20:19:36.532Z"
   },
   {
    "duration": 530,
    "start_time": "2022-03-12T20:19:36.542Z"
   },
   {
    "duration": -4479,
    "start_time": "2022-03-12T20:19:41.553Z"
   },
   {
    "duration": -4484,
    "start_time": "2022-03-12T20:19:41.560Z"
   },
   {
    "duration": -4489,
    "start_time": "2022-03-12T20:19:41.566Z"
   },
   {
    "duration": -4493,
    "start_time": "2022-03-12T20:19:41.572Z"
   },
   {
    "duration": -4496,
    "start_time": "2022-03-12T20:19:41.577Z"
   },
   {
    "duration": -4498,
    "start_time": "2022-03-12T20:19:41.581Z"
   },
   {
    "duration": -4504,
    "start_time": "2022-03-12T20:19:41.588Z"
   },
   {
    "duration": -4507,
    "start_time": "2022-03-12T20:19:41.593Z"
   },
   {
    "duration": -4511,
    "start_time": "2022-03-12T20:19:41.599Z"
   },
   {
    "duration": -4515,
    "start_time": "2022-03-12T20:19:41.604Z"
   },
   {
    "duration": -4519,
    "start_time": "2022-03-12T20:19:41.609Z"
   },
   {
    "duration": -4523,
    "start_time": "2022-03-12T20:19:41.614Z"
   },
   {
    "duration": -4528,
    "start_time": "2022-03-12T20:19:41.620Z"
   },
   {
    "duration": -4530,
    "start_time": "2022-03-12T20:19:41.624Z"
   },
   {
    "duration": -4534,
    "start_time": "2022-03-12T20:19:41.629Z"
   },
   {
    "duration": -4538,
    "start_time": "2022-03-12T20:19:41.634Z"
   },
   {
    "duration": -4540,
    "start_time": "2022-03-12T20:19:41.638Z"
   },
   {
    "duration": -4556,
    "start_time": "2022-03-12T20:19:41.655Z"
   },
   {
    "duration": -4560,
    "start_time": "2022-03-12T20:19:41.661Z"
   },
   {
    "duration": -4563,
    "start_time": "2022-03-12T20:19:41.665Z"
   },
   {
    "duration": -4568,
    "start_time": "2022-03-12T20:19:41.671Z"
   },
   {
    "duration": 358,
    "start_time": "2022-03-12T20:20:21.412Z"
   },
   {
    "duration": 322,
    "start_time": "2022-03-12T20:22:26.669Z"
   },
   {
    "duration": 328,
    "start_time": "2022-03-12T20:23:19.402Z"
   },
   {
    "duration": 319,
    "start_time": "2022-03-12T20:23:54.836Z"
   },
   {
    "duration": 325,
    "start_time": "2022-03-12T20:24:12.848Z"
   },
   {
    "duration": 335,
    "start_time": "2022-03-12T20:25:07.853Z"
   },
   {
    "duration": 1528,
    "start_time": "2022-03-12T20:25:31.206Z"
   },
   {
    "duration": 117,
    "start_time": "2022-03-12T20:25:32.737Z"
   },
   {
    "duration": 16,
    "start_time": "2022-03-12T20:25:32.857Z"
   },
   {
    "duration": 9,
    "start_time": "2022-03-12T20:25:32.875Z"
   },
   {
    "duration": 67,
    "start_time": "2022-03-12T20:25:32.886Z"
   },
   {
    "duration": 20,
    "start_time": "2022-03-12T20:25:32.955Z"
   },
   {
    "duration": 10,
    "start_time": "2022-03-12T20:25:32.977Z"
   },
   {
    "duration": 8,
    "start_time": "2022-03-12T20:25:32.991Z"
   },
   {
    "duration": 9,
    "start_time": "2022-03-12T20:25:33.034Z"
   },
   {
    "duration": 34,
    "start_time": "2022-03-12T20:25:33.045Z"
   },
   {
    "duration": 4,
    "start_time": "2022-03-12T20:25:33.082Z"
   },
   {
    "duration": 280,
    "start_time": "2022-03-12T20:25:33.089Z"
   },
   {
    "duration": 13,
    "start_time": "2022-03-12T20:25:33.371Z"
   },
   {
    "duration": 14,
    "start_time": "2022-03-12T20:25:33.386Z"
   },
   {
    "duration": 70,
    "start_time": "2022-03-12T20:25:33.402Z"
   },
   {
    "duration": 469,
    "start_time": "2022-03-12T20:25:33.475Z"
   },
   {
    "duration": -4406,
    "start_time": "2022-03-12T20:25:38.355Z"
   },
   {
    "duration": -4409,
    "start_time": "2022-03-12T20:25:38.360Z"
   },
   {
    "duration": -4411,
    "start_time": "2022-03-12T20:25:38.364Z"
   },
   {
    "duration": -4411,
    "start_time": "2022-03-12T20:25:38.367Z"
   },
   {
    "duration": -4413,
    "start_time": "2022-03-12T20:25:38.371Z"
   },
   {
    "duration": -4415,
    "start_time": "2022-03-12T20:25:38.375Z"
   },
   {
    "duration": -4416,
    "start_time": "2022-03-12T20:25:38.379Z"
   },
   {
    "duration": -4417,
    "start_time": "2022-03-12T20:25:38.382Z"
   },
   {
    "duration": -4418,
    "start_time": "2022-03-12T20:25:38.385Z"
   },
   {
    "duration": -4427,
    "start_time": "2022-03-12T20:25:38.397Z"
   },
   {
    "duration": -4429,
    "start_time": "2022-03-12T20:25:38.401Z"
   },
   {
    "duration": -4430,
    "start_time": "2022-03-12T20:25:38.405Z"
   },
   {
    "duration": -4432,
    "start_time": "2022-03-12T20:25:38.409Z"
   },
   {
    "duration": -4433,
    "start_time": "2022-03-12T20:25:38.412Z"
   },
   {
    "duration": -4435,
    "start_time": "2022-03-12T20:25:38.416Z"
   },
   {
    "duration": 342,
    "start_time": "2022-03-12T20:26:12.645Z"
   },
   {
    "duration": 326,
    "start_time": "2022-03-12T20:26:30.152Z"
   },
   {
    "duration": 1448,
    "start_time": "2022-03-12T20:26:37.950Z"
   },
   {
    "duration": 113,
    "start_time": "2022-03-12T20:26:39.401Z"
   },
   {
    "duration": 24,
    "start_time": "2022-03-12T20:26:39.517Z"
   },
   {
    "duration": 9,
    "start_time": "2022-03-12T20:26:39.544Z"
   },
   {
    "duration": 35,
    "start_time": "2022-03-12T20:26:39.555Z"
   },
   {
    "duration": 51,
    "start_time": "2022-03-12T20:26:39.593Z"
   },
   {
    "duration": 8,
    "start_time": "2022-03-12T20:26:39.647Z"
   },
   {
    "duration": 6,
    "start_time": "2022-03-12T20:26:39.659Z"
   },
   {
    "duration": 6,
    "start_time": "2022-03-12T20:26:39.668Z"
   },
   {
    "duration": 79,
    "start_time": "2022-03-12T20:26:39.676Z"
   },
   {
    "duration": 3,
    "start_time": "2022-03-12T20:26:39.758Z"
   },
   {
    "duration": 260,
    "start_time": "2022-03-12T20:26:39.764Z"
   },
   {
    "duration": 16,
    "start_time": "2022-03-12T20:26:40.031Z"
   },
   {
    "duration": 12,
    "start_time": "2022-03-12T20:26:40.050Z"
   },
   {
    "duration": 78,
    "start_time": "2022-03-12T20:26:40.065Z"
   },
   {
    "duration": 289,
    "start_time": "2022-03-12T20:26:40.146Z"
   },
   {
    "duration": 498,
    "start_time": "2022-03-12T20:26:40.437Z"
   },
   {
    "duration": 341,
    "start_time": "2022-03-12T20:26:40.938Z"
   },
   {
    "duration": 64,
    "start_time": "2022-03-12T20:26:41.281Z"
   },
   {
    "duration": 96,
    "start_time": "2022-03-12T20:26:41.348Z"
   },
   {
    "duration": 127,
    "start_time": "2022-03-12T20:26:41.533Z"
   },
   {
    "duration": 590,
    "start_time": "2022-03-12T20:26:41.663Z"
   },
   {
    "duration": 223,
    "start_time": "2022-03-12T20:26:42.260Z"
   },
   {
    "duration": 1249,
    "start_time": "2022-03-12T20:26:42.486Z"
   },
   {
    "duration": 101,
    "start_time": "2022-03-12T20:26:43.737Z"
   },
   {
    "duration": 118,
    "start_time": "2022-03-12T20:26:43.841Z"
   },
   {
    "duration": 125,
    "start_time": "2022-03-12T20:26:43.962Z"
   },
   {
    "duration": 1416,
    "start_time": "2022-03-12T20:26:44.090Z"
   },
   {
    "duration": 798,
    "start_time": "2022-03-12T20:26:45.508Z"
   },
   {
    "duration": 378,
    "start_time": "2022-03-12T20:26:46.310Z"
   },
   {
    "duration": 355,
    "start_time": "2022-03-12T20:26:46.691Z"
   },
   {
    "duration": 7904,
    "start_time": "2022-03-12T20:28:17.321Z"
   },
   {
    "duration": 7936,
    "start_time": "2022-03-12T20:28:35.312Z"
   },
   {
    "duration": 7752,
    "start_time": "2022-03-12T20:28:58.741Z"
   },
   {
    "duration": 1483,
    "start_time": "2022-03-12T20:29:24.159Z"
   },
   {
    "duration": 119,
    "start_time": "2022-03-12T20:29:25.644Z"
   },
   {
    "duration": 18,
    "start_time": "2022-03-12T20:29:25.766Z"
   },
   {
    "duration": 10,
    "start_time": "2022-03-12T20:29:25.787Z"
   },
   {
    "duration": 62,
    "start_time": "2022-03-12T20:29:25.799Z"
   },
   {
    "duration": 18,
    "start_time": "2022-03-12T20:29:25.864Z"
   },
   {
    "duration": 49,
    "start_time": "2022-03-12T20:29:25.885Z"
   },
   {
    "duration": 6,
    "start_time": "2022-03-12T20:29:25.939Z"
   },
   {
    "duration": 8,
    "start_time": "2022-03-12T20:29:25.948Z"
   },
   {
    "duration": 8,
    "start_time": "2022-03-12T20:29:25.959Z"
   },
   {
    "duration": 81,
    "start_time": "2022-03-12T20:29:25.970Z"
   },
   {
    "duration": 4,
    "start_time": "2022-03-12T20:29:26.053Z"
   },
   {
    "duration": 252,
    "start_time": "2022-03-12T20:29:26.060Z"
   },
   {
    "duration": 21,
    "start_time": "2022-03-12T20:29:26.314Z"
   },
   {
    "duration": 12,
    "start_time": "2022-03-12T20:29:26.337Z"
   },
   {
    "duration": 42,
    "start_time": "2022-03-12T20:29:26.352Z"
   },
   {
    "duration": 307,
    "start_time": "2022-03-12T20:29:26.397Z"
   },
   {
    "duration": 514,
    "start_time": "2022-03-12T20:29:26.706Z"
   },
   {
    "duration": 323,
    "start_time": "2022-03-12T20:29:27.223Z"
   },
   {
    "duration": 52,
    "start_time": "2022-03-12T20:29:27.548Z"
   },
   {
    "duration": 132,
    "start_time": "2022-03-12T20:29:27.602Z"
   },
   {
    "duration": 210,
    "start_time": "2022-03-12T20:29:27.739Z"
   },
   {
    "duration": 606,
    "start_time": "2022-03-12T20:29:27.953Z"
   },
   {
    "duration": 226,
    "start_time": "2022-03-12T20:29:28.563Z"
   },
   {
    "duration": 1282,
    "start_time": "2022-03-12T20:29:28.792Z"
   },
   {
    "duration": 57,
    "start_time": "2022-03-12T20:29:30.077Z"
   },
   {
    "duration": 209,
    "start_time": "2022-03-12T20:29:30.137Z"
   },
   {
    "duration": 85,
    "start_time": "2022-03-12T20:29:30.349Z"
   },
   {
    "duration": 1439,
    "start_time": "2022-03-12T20:29:30.436Z"
   },
   {
    "duration": 863,
    "start_time": "2022-03-12T20:29:31.879Z"
   },
   {
    "duration": 354,
    "start_time": "2022-03-12T20:29:32.745Z"
   },
   {
    "duration": 371,
    "start_time": "2022-03-12T20:29:33.101Z"
   },
   {
    "duration": 8173,
    "start_time": "2022-03-12T20:29:47.600Z"
   },
   {
    "duration": 1475,
    "start_time": "2022-03-12T20:30:08.799Z"
   },
   {
    "duration": 109,
    "start_time": "2022-03-12T20:30:10.277Z"
   },
   {
    "duration": 16,
    "start_time": "2022-03-12T20:30:10.389Z"
   },
   {
    "duration": 31,
    "start_time": "2022-03-12T20:30:10.407Z"
   },
   {
    "duration": 33,
    "start_time": "2022-03-12T20:30:10.441Z"
   },
   {
    "duration": 16,
    "start_time": "2022-03-12T20:30:10.476Z"
   },
   {
    "duration": 41,
    "start_time": "2022-03-12T20:30:10.494Z"
   },
   {
    "duration": 6,
    "start_time": "2022-03-12T20:30:10.539Z"
   },
   {
    "duration": 6,
    "start_time": "2022-03-12T20:30:10.548Z"
   },
   {
    "duration": 7,
    "start_time": "2022-03-12T20:30:10.556Z"
   },
   {
    "duration": 76,
    "start_time": "2022-03-12T20:30:10.565Z"
   },
   {
    "duration": 3,
    "start_time": "2022-03-12T20:30:10.643Z"
   },
   {
    "duration": 252,
    "start_time": "2022-03-12T20:30:10.648Z"
   },
   {
    "duration": 30,
    "start_time": "2022-03-12T20:30:10.903Z"
   },
   {
    "duration": 13,
    "start_time": "2022-03-12T20:30:10.936Z"
   },
   {
    "duration": 45,
    "start_time": "2022-03-12T20:30:10.952Z"
   },
   {
    "duration": 313,
    "start_time": "2022-03-12T20:30:11.000Z"
   },
   {
    "duration": 504,
    "start_time": "2022-03-12T20:30:11.316Z"
   },
   {
    "duration": 337,
    "start_time": "2022-03-12T20:30:11.823Z"
   },
   {
    "duration": 51,
    "start_time": "2022-03-12T20:30:12.163Z"
   },
   {
    "duration": 199,
    "start_time": "2022-03-12T20:30:12.233Z"
   },
   {
    "duration": 214,
    "start_time": "2022-03-12T20:30:12.435Z"
   },
   {
    "duration": 896,
    "start_time": "2022-03-12T20:30:12.653Z"
   },
   {
    "duration": 299,
    "start_time": "2022-03-12T20:30:13.552Z"
   },
   {
    "duration": 1274,
    "start_time": "2022-03-12T20:30:13.853Z"
   },
   {
    "duration": 100,
    "start_time": "2022-03-12T20:30:15.133Z"
   },
   {
    "duration": 118,
    "start_time": "2022-03-12T20:30:15.237Z"
   },
   {
    "duration": 86,
    "start_time": "2022-03-12T20:30:15.357Z"
   },
   {
    "duration": 1065,
    "start_time": "2022-03-12T20:30:15.445Z"
   },
   {
    "duration": 799,
    "start_time": "2022-03-12T20:30:16.512Z"
   },
   {
    "duration": 387,
    "start_time": "2022-03-12T20:30:17.314Z"
   },
   {
    "duration": 387,
    "start_time": "2022-03-12T20:30:17.703Z"
   },
   {
    "duration": 8141,
    "start_time": "2022-03-12T20:32:07.097Z"
   },
   {
    "duration": 1455,
    "start_time": "2022-03-12T20:32:23.540Z"
   },
   {
    "duration": 116,
    "start_time": "2022-03-12T20:32:24.998Z"
   },
   {
    "duration": 17,
    "start_time": "2022-03-12T20:32:25.133Z"
   },
   {
    "duration": 9,
    "start_time": "2022-03-12T20:32:25.153Z"
   },
   {
    "duration": 35,
    "start_time": "2022-03-12T20:32:25.164Z"
   },
   {
    "duration": 45,
    "start_time": "2022-03-12T20:32:25.201Z"
   },
   {
    "duration": 10,
    "start_time": "2022-03-12T20:32:25.248Z"
   },
   {
    "duration": 6,
    "start_time": "2022-03-12T20:32:25.262Z"
   },
   {
    "duration": 6,
    "start_time": "2022-03-12T20:32:25.272Z"
   },
   {
    "duration": 63,
    "start_time": "2022-03-12T20:32:25.281Z"
   },
   {
    "duration": 33,
    "start_time": "2022-03-12T20:32:25.346Z"
   },
   {
    "duration": 3,
    "start_time": "2022-03-12T20:32:25.381Z"
   },
   {
    "duration": 264,
    "start_time": "2022-03-12T20:32:25.386Z"
   },
   {
    "duration": 12,
    "start_time": "2022-03-12T20:32:25.653Z"
   },
   {
    "duration": 12,
    "start_time": "2022-03-12T20:32:25.667Z"
   },
   {
    "duration": 75,
    "start_time": "2022-03-12T20:32:25.682Z"
   },
   {
    "duration": 300,
    "start_time": "2022-03-12T20:32:25.760Z"
   },
   {
    "duration": 477,
    "start_time": "2022-03-12T20:32:26.063Z"
   },
   {
    "duration": 334,
    "start_time": "2022-03-12T20:32:26.543Z"
   },
   {
    "duration": 65,
    "start_time": "2022-03-12T20:32:26.879Z"
   },
   {
    "duration": 88,
    "start_time": "2022-03-12T20:32:26.947Z"
   },
   {
    "duration": 126,
    "start_time": "2022-03-12T20:32:27.132Z"
   },
   {
    "duration": 596,
    "start_time": "2022-03-12T20:32:27.262Z"
   },
   {
    "duration": 224,
    "start_time": "2022-03-12T20:32:27.861Z"
   },
   {
    "duration": 1700,
    "start_time": "2022-03-12T20:32:28.088Z"
   },
   {
    "duration": 55,
    "start_time": "2022-03-12T20:32:29.791Z"
   },
   {
    "duration": 197,
    "start_time": "2022-03-12T20:32:29.850Z"
   },
   {
    "duration": 86,
    "start_time": "2022-03-12T20:32:30.049Z"
   },
   {
    "duration": 1085,
    "start_time": "2022-03-12T20:32:30.137Z"
   },
   {
    "duration": 817,
    "start_time": "2022-03-12T20:32:31.225Z"
   },
   {
    "duration": 350,
    "start_time": "2022-03-12T20:32:32.045Z"
   },
   {
    "duration": 356,
    "start_time": "2022-03-12T20:32:32.397Z"
   },
   {
    "duration": 7983,
    "start_time": "2022-03-12T20:33:00.911Z"
   },
   {
    "duration": 1509,
    "start_time": "2022-03-12T20:33:19.038Z"
   },
   {
    "duration": 133,
    "start_time": "2022-03-12T20:33:20.550Z"
   },
   {
    "duration": 17,
    "start_time": "2022-03-12T20:33:20.686Z"
   },
   {
    "duration": 32,
    "start_time": "2022-03-12T20:33:20.705Z"
   },
   {
    "duration": 32,
    "start_time": "2022-03-12T20:33:20.739Z"
   },
   {
    "duration": 15,
    "start_time": "2022-03-12T20:33:20.774Z"
   },
   {
    "duration": 43,
    "start_time": "2022-03-12T20:33:20.791Z"
   },
   {
    "duration": 6,
    "start_time": "2022-03-12T20:33:20.838Z"
   },
   {
    "duration": 5,
    "start_time": "2022-03-12T20:33:20.847Z"
   },
   {
    "duration": 23,
    "start_time": "2022-03-12T20:33:20.855Z"
   },
   {
    "duration": 73,
    "start_time": "2022-03-12T20:33:20.881Z"
   },
   {
    "duration": 3,
    "start_time": "2022-03-12T20:33:20.957Z"
   },
   {
    "duration": 259,
    "start_time": "2022-03-12T20:33:20.963Z"
   },
   {
    "duration": 17,
    "start_time": "2022-03-12T20:33:21.225Z"
   },
   {
    "duration": 12,
    "start_time": "2022-03-12T20:33:21.245Z"
   },
   {
    "duration": 78,
    "start_time": "2022-03-12T20:33:21.260Z"
   },
   {
    "duration": 296,
    "start_time": "2022-03-12T20:33:21.341Z"
   },
   {
    "duration": 479,
    "start_time": "2022-03-12T20:33:21.639Z"
   },
   {
    "duration": 333,
    "start_time": "2022-03-12T20:33:22.120Z"
   },
   {
    "duration": 52,
    "start_time": "2022-03-12T20:33:22.455Z"
   },
   {
    "duration": 127,
    "start_time": "2022-03-12T20:33:22.510Z"
   },
   {
    "duration": 212,
    "start_time": "2022-03-12T20:33:22.640Z"
   },
   {
    "duration": 692,
    "start_time": "2022-03-12T20:33:22.856Z"
   },
   {
    "duration": 236,
    "start_time": "2022-03-12T20:33:23.550Z"
   },
   {
    "duration": 1251,
    "start_time": "2022-03-12T20:33:23.788Z"
   },
   {
    "duration": 41,
    "start_time": "2022-03-12T20:33:25.042Z"
   },
   {
    "duration": 121,
    "start_time": "2022-03-12T20:33:25.135Z"
   },
   {
    "duration": 93,
    "start_time": "2022-03-12T20:33:25.258Z"
   },
   {
    "duration": 1111,
    "start_time": "2022-03-12T20:33:25.354Z"
   },
   {
    "duration": 854,
    "start_time": "2022-03-12T20:33:26.468Z"
   },
   {
    "duration": 364,
    "start_time": "2022-03-12T20:33:27.332Z"
   },
   {
    "duration": 365,
    "start_time": "2022-03-12T20:33:27.698Z"
   },
   {
    "duration": 8151,
    "start_time": "2022-03-12T20:33:46.462Z"
   },
   {
    "duration": 1634,
    "start_time": "2022-03-12T20:34:06.454Z"
   },
   {
    "duration": 160,
    "start_time": "2022-03-12T20:34:08.092Z"
   },
   {
    "duration": 19,
    "start_time": "2022-03-12T20:34:08.256Z"
   },
   {
    "duration": 12,
    "start_time": "2022-03-12T20:34:08.278Z"
   },
   {
    "duration": 70,
    "start_time": "2022-03-12T20:34:08.293Z"
   },
   {
    "duration": 15,
    "start_time": "2022-03-12T20:34:08.365Z"
   },
   {
    "duration": 10,
    "start_time": "2022-03-12T20:34:08.383Z"
   },
   {
    "duration": 7,
    "start_time": "2022-03-12T20:34:08.433Z"
   },
   {
    "duration": 6,
    "start_time": "2022-03-12T20:34:08.444Z"
   },
   {
    "duration": 8,
    "start_time": "2022-03-12T20:34:08.453Z"
   },
   {
    "duration": 77,
    "start_time": "2022-03-12T20:34:08.464Z"
   },
   {
    "duration": 3,
    "start_time": "2022-03-12T20:34:08.544Z"
   },
   {
    "duration": 255,
    "start_time": "2022-03-12T20:34:08.550Z"
   },
   {
    "duration": 30,
    "start_time": "2022-03-12T20:34:08.808Z"
   },
   {
    "duration": 11,
    "start_time": "2022-03-12T20:34:08.841Z"
   },
   {
    "duration": 84,
    "start_time": "2022-03-12T20:34:08.855Z"
   },
   {
    "duration": 306,
    "start_time": "2022-03-12T20:34:08.941Z"
   },
   {
    "duration": 508,
    "start_time": "2022-03-12T20:34:09.250Z"
   },
   {
    "duration": 373,
    "start_time": "2022-03-12T20:34:09.762Z"
   },
   {
    "duration": 53,
    "start_time": "2022-03-12T20:34:10.138Z"
   },
   {
    "duration": 139,
    "start_time": "2022-03-12T20:34:10.194Z"
   },
   {
    "duration": 227,
    "start_time": "2022-03-12T20:34:10.336Z"
   },
   {
    "duration": 676,
    "start_time": "2022-03-12T20:34:10.568Z"
   },
   {
    "duration": 307,
    "start_time": "2022-03-12T20:34:11.247Z"
   },
   {
    "duration": 1347,
    "start_time": "2022-03-12T20:34:11.556Z"
   },
   {
    "duration": 53,
    "start_time": "2022-03-12T20:34:12.905Z"
   },
   {
    "duration": 184,
    "start_time": "2022-03-12T20:34:12.961Z"
   },
   {
    "duration": 84,
    "start_time": "2022-03-12T20:34:13.148Z"
   },
   {
    "duration": 1084,
    "start_time": "2022-03-12T20:34:13.235Z"
   },
   {
    "duration": 823,
    "start_time": "2022-03-12T20:34:14.322Z"
   },
   {
    "duration": 353,
    "start_time": "2022-03-12T20:34:15.148Z"
   },
   {
    "duration": 354,
    "start_time": "2022-03-12T20:34:15.503Z"
   },
   {
    "duration": 450,
    "start_time": "2022-03-12T20:42:37.739Z"
   },
   {
    "duration": 1570,
    "start_time": "2022-03-12T20:42:52.196Z"
   },
   {
    "duration": 113,
    "start_time": "2022-03-12T20:42:53.769Z"
   },
   {
    "duration": 16,
    "start_time": "2022-03-12T20:42:53.885Z"
   },
   {
    "duration": 29,
    "start_time": "2022-03-12T20:42:53.904Z"
   },
   {
    "duration": 33,
    "start_time": "2022-03-12T20:42:53.936Z"
   },
   {
    "duration": 14,
    "start_time": "2022-03-12T20:42:53.971Z"
   },
   {
    "duration": 45,
    "start_time": "2022-03-12T20:42:53.987Z"
   },
   {
    "duration": 6,
    "start_time": "2022-03-12T20:42:54.036Z"
   },
   {
    "duration": 7,
    "start_time": "2022-03-12T20:42:54.047Z"
   },
   {
    "duration": 6,
    "start_time": "2022-03-12T20:42:54.057Z"
   },
   {
    "duration": 73,
    "start_time": "2022-03-12T20:42:54.065Z"
   },
   {
    "duration": 2,
    "start_time": "2022-03-12T20:42:54.141Z"
   },
   {
    "duration": 239,
    "start_time": "2022-03-12T20:42:54.146Z"
   },
   {
    "duration": 13,
    "start_time": "2022-03-12T20:42:54.387Z"
   },
   {
    "duration": 32,
    "start_time": "2022-03-12T20:42:54.402Z"
   },
   {
    "duration": 47,
    "start_time": "2022-03-12T20:42:54.437Z"
   },
   {
    "duration": 292,
    "start_time": "2022-03-12T20:42:54.486Z"
   },
   {
    "duration": 451,
    "start_time": "2022-03-12T20:42:54.781Z"
   },
   {
    "duration": 316,
    "start_time": "2022-03-12T20:42:55.234Z"
   },
   {
    "duration": 56,
    "start_time": "2022-03-12T20:42:55.553Z"
   },
   {
    "duration": 221,
    "start_time": "2022-03-12T20:42:55.611Z"
   },
   {
    "duration": 153,
    "start_time": "2022-03-12T20:42:55.834Z"
   },
   {
    "duration": 777,
    "start_time": "2022-03-12T20:42:55.992Z"
   },
   {
    "duration": 389,
    "start_time": "2022-03-12T20:42:56.771Z"
   },
   {
    "duration": 1312,
    "start_time": "2022-03-12T20:42:57.163Z"
   },
   {
    "duration": 154,
    "start_time": "2022-03-12T20:42:58.478Z"
   },
   {
    "duration": 119,
    "start_time": "2022-03-12T20:42:58.637Z"
   },
   {
    "duration": 115,
    "start_time": "2022-03-12T20:42:58.759Z"
   },
   {
    "duration": 1273,
    "start_time": "2022-03-12T20:42:58.877Z"
   },
   {
    "duration": 812,
    "start_time": "2022-03-12T20:43:00.153Z"
   },
   {
    "duration": 403,
    "start_time": "2022-03-12T20:43:00.968Z"
   },
   {
    "duration": 346,
    "start_time": "2022-03-12T20:43:01.374Z"
   },
   {
    "duration": 498,
    "start_time": "2022-03-12T20:46:23.096Z"
   },
   {
    "duration": 1779,
    "start_time": "2022-03-12T20:46:35.453Z"
   },
   {
    "duration": 132,
    "start_time": "2022-03-12T20:46:37.235Z"
   },
   {
    "duration": 18,
    "start_time": "2022-03-12T20:46:37.370Z"
   },
   {
    "duration": 10,
    "start_time": "2022-03-12T20:46:37.391Z"
   },
   {
    "duration": 70,
    "start_time": "2022-03-12T20:46:37.404Z"
   },
   {
    "duration": 18,
    "start_time": "2022-03-12T20:46:37.477Z"
   },
   {
    "duration": 43,
    "start_time": "2022-03-12T20:46:37.497Z"
   },
   {
    "duration": 16,
    "start_time": "2022-03-12T20:46:37.546Z"
   },
   {
    "duration": 19,
    "start_time": "2022-03-12T20:46:37.567Z"
   },
   {
    "duration": 10,
    "start_time": "2022-03-12T20:46:37.588Z"
   },
   {
    "duration": 63,
    "start_time": "2022-03-12T20:46:37.601Z"
   },
   {
    "duration": 3,
    "start_time": "2022-03-12T20:46:37.667Z"
   },
   {
    "duration": 295,
    "start_time": "2022-03-12T20:46:37.674Z"
   },
   {
    "duration": 17,
    "start_time": "2022-03-12T20:46:37.972Z"
   },
   {
    "duration": 40,
    "start_time": "2022-03-12T20:46:37.992Z"
   },
   {
    "duration": 58,
    "start_time": "2022-03-12T20:46:38.036Z"
   },
   {
    "duration": 383,
    "start_time": "2022-03-12T20:46:38.097Z"
   },
   {
    "duration": 446,
    "start_time": "2022-03-12T20:46:38.486Z"
   },
   {
    "duration": 387,
    "start_time": "2022-03-12T20:46:38.934Z"
   },
   {
    "duration": 67,
    "start_time": "2022-03-12T20:46:39.332Z"
   },
   {
    "duration": 230,
    "start_time": "2022-03-12T20:46:39.401Z"
   },
   {
    "duration": 132,
    "start_time": "2022-03-12T20:46:39.635Z"
   },
   {
    "duration": 602,
    "start_time": "2022-03-12T20:46:39.774Z"
   },
   {
    "duration": 301,
    "start_time": "2022-03-12T20:46:40.379Z"
   },
   {
    "duration": 1569,
    "start_time": "2022-03-12T20:46:40.682Z"
   },
   {
    "duration": 84,
    "start_time": "2022-03-12T20:46:42.254Z"
   },
   {
    "duration": 127,
    "start_time": "2022-03-12T20:46:42.342Z"
   },
   {
    "duration": 142,
    "start_time": "2022-03-12T20:46:42.472Z"
   },
   {
    "duration": 1131,
    "start_time": "2022-03-12T20:46:42.617Z"
   },
   {
    "duration": 985,
    "start_time": "2022-03-12T20:46:43.751Z"
   },
   {
    "duration": 373,
    "start_time": "2022-03-12T20:46:44.739Z"
   },
   {
    "duration": 369,
    "start_time": "2022-03-12T20:46:45.114Z"
   },
   {
    "duration": 472,
    "start_time": "2022-03-12T20:54:31.570Z"
   },
   {
    "duration": 1470,
    "start_time": "2022-03-12T20:54:40.326Z"
   },
   {
    "duration": 113,
    "start_time": "2022-03-12T20:54:41.799Z"
   },
   {
    "duration": 28,
    "start_time": "2022-03-12T20:54:41.915Z"
   },
   {
    "duration": 9,
    "start_time": "2022-03-12T20:54:41.946Z"
   },
   {
    "duration": 34,
    "start_time": "2022-03-12T20:54:41.957Z"
   },
   {
    "duration": 49,
    "start_time": "2022-03-12T20:54:41.994Z"
   },
   {
    "duration": 11,
    "start_time": "2022-03-12T20:54:42.045Z"
   },
   {
    "duration": 7,
    "start_time": "2022-03-12T20:54:42.060Z"
   },
   {
    "duration": 8,
    "start_time": "2022-03-12T20:54:42.071Z"
   },
   {
    "duration": 80,
    "start_time": "2022-03-12T20:54:42.081Z"
   },
   {
    "duration": 2,
    "start_time": "2022-03-12T20:54:42.164Z"
   },
   {
    "duration": 256,
    "start_time": "2022-03-12T20:54:42.169Z"
   },
   {
    "duration": 13,
    "start_time": "2022-03-12T20:54:42.432Z"
   },
   {
    "duration": 12,
    "start_time": "2022-03-12T20:54:42.447Z"
   },
   {
    "duration": 74,
    "start_time": "2022-03-12T20:54:42.461Z"
   },
   {
    "duration": 483,
    "start_time": "2022-03-12T20:54:42.537Z"
   },
   {
    "duration": -4365,
    "start_time": "2022-03-12T20:54:47.388Z"
   },
   {
    "duration": -4368,
    "start_time": "2022-03-12T20:54:47.393Z"
   },
   {
    "duration": -4373,
    "start_time": "2022-03-12T20:54:47.399Z"
   },
   {
    "duration": -4376,
    "start_time": "2022-03-12T20:54:47.403Z"
   },
   {
    "duration": -4378,
    "start_time": "2022-03-12T20:54:47.407Z"
   },
   {
    "duration": -4380,
    "start_time": "2022-03-12T20:54:47.410Z"
   },
   {
    "duration": -4381,
    "start_time": "2022-03-12T20:54:47.413Z"
   },
   {
    "duration": -4385,
    "start_time": "2022-03-12T20:54:47.418Z"
   },
   {
    "duration": -4388,
    "start_time": "2022-03-12T20:54:47.422Z"
   },
   {
    "duration": -4390,
    "start_time": "2022-03-12T20:54:47.425Z"
   },
   {
    "duration": -4393,
    "start_time": "2022-03-12T20:54:47.429Z"
   },
   {
    "duration": -4395,
    "start_time": "2022-03-12T20:54:47.432Z"
   },
   {
    "duration": -4397,
    "start_time": "2022-03-12T20:54:47.436Z"
   },
   {
    "duration": -4411,
    "start_time": "2022-03-12T20:54:47.451Z"
   },
   {
    "duration": -4413,
    "start_time": "2022-03-12T20:54:47.454Z"
   },
   {
    "duration": 345,
    "start_time": "2022-03-12T20:57:30.460Z"
   },
   {
    "duration": 368,
    "start_time": "2022-03-12T20:57:42.847Z"
   },
   {
    "duration": 1426,
    "start_time": "2022-03-12T20:57:55.166Z"
   },
   {
    "duration": 114,
    "start_time": "2022-03-12T20:57:56.595Z"
   },
   {
    "duration": 29,
    "start_time": "2022-03-12T20:57:56.712Z"
   },
   {
    "duration": 8,
    "start_time": "2022-03-12T20:57:56.744Z"
   },
   {
    "duration": 32,
    "start_time": "2022-03-12T20:57:56.755Z"
   },
   {
    "duration": 47,
    "start_time": "2022-03-12T20:57:56.789Z"
   },
   {
    "duration": 12,
    "start_time": "2022-03-12T20:57:56.839Z"
   },
   {
    "duration": 7,
    "start_time": "2022-03-12T20:57:56.856Z"
   },
   {
    "duration": 6,
    "start_time": "2022-03-12T20:57:56.866Z"
   },
   {
    "duration": 509,
    "start_time": "2022-03-12T20:57:56.874Z"
   },
   {
    "duration": -4427,
    "start_time": "2022-03-12T20:58:01.813Z"
   },
   {
    "duration": -4430,
    "start_time": "2022-03-12T20:58:01.817Z"
   },
   {
    "duration": -4433,
    "start_time": "2022-03-12T20:58:01.821Z"
   },
   {
    "duration": -4435,
    "start_time": "2022-03-12T20:58:01.825Z"
   },
   {
    "duration": -4437,
    "start_time": "2022-03-12T20:58:01.828Z"
   },
   {
    "duration": -4446,
    "start_time": "2022-03-12T20:58:01.839Z"
   },
   {
    "duration": -4449,
    "start_time": "2022-03-12T20:58:01.843Z"
   },
   {
    "duration": -4451,
    "start_time": "2022-03-12T20:58:01.846Z"
   },
   {
    "duration": -4453,
    "start_time": "2022-03-12T20:58:01.850Z"
   },
   {
    "duration": -4455,
    "start_time": "2022-03-12T20:58:01.853Z"
   },
   {
    "duration": -4456,
    "start_time": "2022-03-12T20:58:01.856Z"
   },
   {
    "duration": -4459,
    "start_time": "2022-03-12T20:58:01.861Z"
   },
   {
    "duration": -4462,
    "start_time": "2022-03-12T20:58:01.866Z"
   },
   {
    "duration": -4466,
    "start_time": "2022-03-12T20:58:01.871Z"
   },
   {
    "duration": -4468,
    "start_time": "2022-03-12T20:58:01.875Z"
   },
   {
    "duration": -4473,
    "start_time": "2022-03-12T20:58:01.881Z"
   },
   {
    "duration": -4476,
    "start_time": "2022-03-12T20:58:01.885Z"
   },
   {
    "duration": -4478,
    "start_time": "2022-03-12T20:58:01.889Z"
   },
   {
    "duration": -4480,
    "start_time": "2022-03-12T20:58:01.892Z"
   },
   {
    "duration": -4481,
    "start_time": "2022-03-12T20:58:01.895Z"
   },
   {
    "duration": -4482,
    "start_time": "2022-03-12T20:58:01.898Z"
   },
   {
    "duration": 434,
    "start_time": "2022-03-12T20:59:14.777Z"
   },
   {
    "duration": 308,
    "start_time": "2022-03-12T20:59:18.495Z"
   },
   {
    "duration": 1467,
    "start_time": "2022-03-12T20:59:43.400Z"
   },
   {
    "duration": 110,
    "start_time": "2022-03-12T20:59:44.870Z"
   },
   {
    "duration": 17,
    "start_time": "2022-03-12T20:59:44.983Z"
   },
   {
    "duration": 33,
    "start_time": "2022-03-12T20:59:45.002Z"
   },
   {
    "duration": 36,
    "start_time": "2022-03-12T20:59:45.037Z"
   },
   {
    "duration": 20,
    "start_time": "2022-03-12T20:59:45.075Z"
   },
   {
    "duration": 45,
    "start_time": "2022-03-12T20:59:45.098Z"
   },
   {
    "duration": 7,
    "start_time": "2022-03-12T20:59:45.147Z"
   },
   {
    "duration": 6,
    "start_time": "2022-03-12T20:59:45.157Z"
   },
   {
    "duration": 72,
    "start_time": "2022-03-12T20:59:45.165Z"
   },
   {
    "duration": 468,
    "start_time": "2022-03-12T20:59:45.240Z"
   },
   {
    "duration": -4460,
    "start_time": "2022-03-12T20:59:50.171Z"
   },
   {
    "duration": -4462,
    "start_time": "2022-03-12T20:59:50.175Z"
   },
   {
    "duration": -4464,
    "start_time": "2022-03-12T20:59:50.178Z"
   },
   {
    "duration": -4466,
    "start_time": "2022-03-12T20:59:50.182Z"
   },
   {
    "duration": -4468,
    "start_time": "2022-03-12T20:59:50.185Z"
   },
   {
    "duration": -4469,
    "start_time": "2022-03-12T20:59:50.188Z"
   },
   {
    "duration": -4472,
    "start_time": "2022-03-12T20:59:50.192Z"
   },
   {
    "duration": -4474,
    "start_time": "2022-03-12T20:59:50.195Z"
   },
   {
    "duration": -4475,
    "start_time": "2022-03-12T20:59:50.198Z"
   },
   {
    "duration": -4477,
    "start_time": "2022-03-12T20:59:50.201Z"
   },
   {
    "duration": -4479,
    "start_time": "2022-03-12T20:59:50.205Z"
   },
   {
    "duration": -4480,
    "start_time": "2022-03-12T20:59:50.208Z"
   },
   {
    "duration": -4481,
    "start_time": "2022-03-12T20:59:50.211Z"
   },
   {
    "duration": -4482,
    "start_time": "2022-03-12T20:59:50.214Z"
   },
   {
    "duration": -4484,
    "start_time": "2022-03-12T20:59:50.217Z"
   },
   {
    "duration": -4486,
    "start_time": "2022-03-12T20:59:50.221Z"
   },
   {
    "duration": -4488,
    "start_time": "2022-03-12T20:59:50.224Z"
   },
   {
    "duration": -4489,
    "start_time": "2022-03-12T20:59:50.227Z"
   },
   {
    "duration": -4491,
    "start_time": "2022-03-12T20:59:50.231Z"
   },
   {
    "duration": -4493,
    "start_time": "2022-03-12T20:59:50.234Z"
   },
   {
    "duration": -4494,
    "start_time": "2022-03-12T20:59:50.237Z"
   },
   {
    "duration": 360,
    "start_time": "2022-03-12T21:02:35.005Z"
   },
   {
    "duration": 318,
    "start_time": "2022-03-12T21:04:26.047Z"
   },
   {
    "duration": 1461,
    "start_time": "2022-03-12T21:04:43.111Z"
   },
   {
    "duration": 111,
    "start_time": "2022-03-12T21:04:44.574Z"
   },
   {
    "duration": 15,
    "start_time": "2022-03-12T21:04:44.688Z"
   },
   {
    "duration": 28,
    "start_time": "2022-03-12T21:04:44.706Z"
   },
   {
    "duration": 39,
    "start_time": "2022-03-12T21:04:44.737Z"
   },
   {
    "duration": 15,
    "start_time": "2022-03-12T21:04:44.778Z"
   },
   {
    "duration": 8,
    "start_time": "2022-03-12T21:04:44.795Z"
   },
   {
    "duration": 7,
    "start_time": "2022-03-12T21:04:44.834Z"
   },
   {
    "duration": 7,
    "start_time": "2022-03-12T21:04:44.844Z"
   },
   {
    "duration": 37,
    "start_time": "2022-03-12T21:04:44.853Z"
   },
   {
    "duration": 502,
    "start_time": "2022-03-12T21:04:44.893Z"
   },
   {
    "duration": -4398,
    "start_time": "2022-03-12T21:04:49.797Z"
   },
   {
    "duration": -4399,
    "start_time": "2022-03-12T21:04:49.800Z"
   },
   {
    "duration": -4403,
    "start_time": "2022-03-12T21:04:49.805Z"
   },
   {
    "duration": -4405,
    "start_time": "2022-03-12T21:04:49.808Z"
   },
   {
    "duration": -4407,
    "start_time": "2022-03-12T21:04:49.812Z"
   },
   {
    "duration": -4409,
    "start_time": "2022-03-12T21:04:49.815Z"
   },
   {
    "duration": -4410,
    "start_time": "2022-03-12T21:04:49.818Z"
   },
   {
    "duration": -4412,
    "start_time": "2022-03-12T21:04:49.821Z"
   },
   {
    "duration": -4415,
    "start_time": "2022-03-12T21:04:49.825Z"
   },
   {
    "duration": -4416,
    "start_time": "2022-03-12T21:04:49.828Z"
   },
   {
    "duration": -4418,
    "start_time": "2022-03-12T21:04:49.831Z"
   },
   {
    "duration": -4419,
    "start_time": "2022-03-12T21:04:49.834Z"
   },
   {
    "duration": -4421,
    "start_time": "2022-03-12T21:04:49.837Z"
   },
   {
    "duration": -4423,
    "start_time": "2022-03-12T21:04:49.840Z"
   },
   {
    "duration": -4425,
    "start_time": "2022-03-12T21:04:49.844Z"
   },
   {
    "duration": -4427,
    "start_time": "2022-03-12T21:04:49.847Z"
   },
   {
    "duration": -4429,
    "start_time": "2022-03-12T21:04:49.850Z"
   },
   {
    "duration": -4430,
    "start_time": "2022-03-12T21:04:49.853Z"
   },
   {
    "duration": -4433,
    "start_time": "2022-03-12T21:04:49.857Z"
   },
   {
    "duration": -4435,
    "start_time": "2022-03-12T21:04:49.860Z"
   },
   {
    "duration": -4436,
    "start_time": "2022-03-12T21:04:49.863Z"
   },
   {
    "duration": 9,
    "start_time": "2022-03-12T21:12:14.315Z"
   },
   {
    "duration": 333,
    "start_time": "2022-03-12T21:26:25.040Z"
   },
   {
    "duration": 330,
    "start_time": "2022-03-12T21:26:39.412Z"
   },
   {
    "duration": 304,
    "start_time": "2022-03-12T21:28:12.759Z"
   },
   {
    "duration": 326,
    "start_time": "2022-03-12T21:28:41.147Z"
   },
   {
    "duration": 1501,
    "start_time": "2022-03-12T21:28:52.481Z"
   },
   {
    "duration": 112,
    "start_time": "2022-03-12T21:28:53.985Z"
   },
   {
    "duration": 34,
    "start_time": "2022-03-12T21:28:54.100Z"
   },
   {
    "duration": 9,
    "start_time": "2022-03-12T21:28:54.137Z"
   },
   {
    "duration": 31,
    "start_time": "2022-03-12T21:28:54.148Z"
   },
   {
    "duration": 15,
    "start_time": "2022-03-12T21:28:54.182Z"
   },
   {
    "duration": 10,
    "start_time": "2022-03-12T21:28:54.232Z"
   },
   {
    "duration": 6,
    "start_time": "2022-03-12T21:28:54.246Z"
   },
   {
    "duration": 10,
    "start_time": "2022-03-12T21:28:54.255Z"
   },
   {
    "duration": 70,
    "start_time": "2022-03-12T21:28:54.267Z"
   },
   {
    "duration": 468,
    "start_time": "2022-03-12T21:28:54.339Z"
   },
   {
    "duration": -4403,
    "start_time": "2022-03-12T21:28:59.213Z"
   },
   {
    "duration": -4406,
    "start_time": "2022-03-12T21:28:59.217Z"
   },
   {
    "duration": -4409,
    "start_time": "2022-03-12T21:28:59.222Z"
   },
   {
    "duration": -4411,
    "start_time": "2022-03-12T21:28:59.225Z"
   },
   {
    "duration": -4432,
    "start_time": "2022-03-12T21:28:59.247Z"
   },
   {
    "duration": -4442,
    "start_time": "2022-03-12T21:28:59.259Z"
   },
   {
    "duration": -4446,
    "start_time": "2022-03-12T21:28:59.264Z"
   },
   {
    "duration": -4448,
    "start_time": "2022-03-12T21:28:59.267Z"
   },
   {
    "duration": -4450,
    "start_time": "2022-03-12T21:28:59.271Z"
   },
   {
    "duration": -4453,
    "start_time": "2022-03-12T21:28:59.275Z"
   },
   {
    "duration": -4455,
    "start_time": "2022-03-12T21:28:59.278Z"
   },
   {
    "duration": -4456,
    "start_time": "2022-03-12T21:28:59.281Z"
   },
   {
    "duration": -4458,
    "start_time": "2022-03-12T21:28:59.285Z"
   },
   {
    "duration": -4461,
    "start_time": "2022-03-12T21:28:59.289Z"
   },
   {
    "duration": -4463,
    "start_time": "2022-03-12T21:28:59.292Z"
   },
   {
    "duration": -4466,
    "start_time": "2022-03-12T21:28:59.296Z"
   },
   {
    "duration": -4467,
    "start_time": "2022-03-12T21:28:59.299Z"
   },
   {
    "duration": -4470,
    "start_time": "2022-03-12T21:28:59.303Z"
   },
   {
    "duration": -4472,
    "start_time": "2022-03-12T21:28:59.307Z"
   },
   {
    "duration": -4474,
    "start_time": "2022-03-12T21:28:59.310Z"
   },
   {
    "duration": -4475,
    "start_time": "2022-03-12T21:28:59.313Z"
   },
   {
    "duration": 316,
    "start_time": "2022-03-12T21:29:10.432Z"
   },
   {
    "duration": 1447,
    "start_time": "2022-03-12T21:29:22.971Z"
   },
   {
    "duration": 121,
    "start_time": "2022-03-12T21:29:24.421Z"
   },
   {
    "duration": 17,
    "start_time": "2022-03-12T21:29:24.545Z"
   },
   {
    "duration": 9,
    "start_time": "2022-03-12T21:29:24.564Z"
   },
   {
    "duration": 71,
    "start_time": "2022-03-12T21:29:24.576Z"
   },
   {
    "duration": 15,
    "start_time": "2022-03-12T21:29:24.650Z"
   },
   {
    "duration": 10,
    "start_time": "2022-03-12T21:29:24.668Z"
   },
   {
    "duration": 6,
    "start_time": "2022-03-12T21:29:24.684Z"
   },
   {
    "duration": 10,
    "start_time": "2022-03-12T21:29:24.732Z"
   },
   {
    "duration": 33,
    "start_time": "2022-03-12T21:29:24.745Z"
   },
   {
    "duration": 470,
    "start_time": "2022-03-12T21:29:24.781Z"
   },
   {
    "duration": -4347,
    "start_time": "2022-03-12T21:29:29.603Z"
   },
   {
    "duration": -4347,
    "start_time": "2022-03-12T21:29:29.606Z"
   },
   {
    "duration": -4349,
    "start_time": "2022-03-12T21:29:29.610Z"
   },
   {
    "duration": -4350,
    "start_time": "2022-03-12T21:29:29.613Z"
   },
   {
    "duration": -4350,
    "start_time": "2022-03-12T21:29:29.616Z"
   },
   {
    "duration": -4352,
    "start_time": "2022-03-12T21:29:29.620Z"
   },
   {
    "duration": -4354,
    "start_time": "2022-03-12T21:29:29.623Z"
   },
   {
    "duration": -4356,
    "start_time": "2022-03-12T21:29:29.627Z"
   },
   {
    "duration": -4358,
    "start_time": "2022-03-12T21:29:29.630Z"
   },
   {
    "duration": -4360,
    "start_time": "2022-03-12T21:29:29.634Z"
   },
   {
    "duration": -4362,
    "start_time": "2022-03-12T21:29:29.637Z"
   },
   {
    "duration": -4364,
    "start_time": "2022-03-12T21:29:29.641Z"
   },
   {
    "duration": -4366,
    "start_time": "2022-03-12T21:29:29.644Z"
   },
   {
    "duration": -4367,
    "start_time": "2022-03-12T21:29:29.647Z"
   },
   {
    "duration": -4377,
    "start_time": "2022-03-12T21:29:29.658Z"
   },
   {
    "duration": -4379,
    "start_time": "2022-03-12T21:29:29.662Z"
   },
   {
    "duration": -4381,
    "start_time": "2022-03-12T21:29:29.665Z"
   },
   {
    "duration": -4383,
    "start_time": "2022-03-12T21:29:29.669Z"
   },
   {
    "duration": -4387,
    "start_time": "2022-03-12T21:29:29.674Z"
   },
   {
    "duration": -4390,
    "start_time": "2022-03-12T21:29:29.678Z"
   },
   {
    "duration": -4398,
    "start_time": "2022-03-12T21:29:29.688Z"
   },
   {
    "duration": 325,
    "start_time": "2022-03-12T21:33:08.771Z"
   },
   {
    "duration": 1455,
    "start_time": "2022-03-12T21:33:20.313Z"
   },
   {
    "duration": 106,
    "start_time": "2022-03-12T21:33:21.771Z"
   },
   {
    "duration": 16,
    "start_time": "2022-03-12T21:33:21.880Z"
   },
   {
    "duration": 8,
    "start_time": "2022-03-12T21:33:21.898Z"
   },
   {
    "duration": 56,
    "start_time": "2022-03-12T21:33:21.909Z"
   },
   {
    "duration": 16,
    "start_time": "2022-03-12T21:33:21.967Z"
   },
   {
    "duration": 50,
    "start_time": "2022-03-12T21:33:21.985Z"
   },
   {
    "duration": 6,
    "start_time": "2022-03-12T21:33:22.038Z"
   },
   {
    "duration": 9,
    "start_time": "2022-03-12T21:33:22.047Z"
   },
   {
    "duration": 32,
    "start_time": "2022-03-12T21:33:22.058Z"
   },
   {
    "duration": 475,
    "start_time": "2022-03-12T21:33:22.093Z"
   },
   {
    "duration": -4353,
    "start_time": "2022-03-12T21:33:26.924Z"
   },
   {
    "duration": -4355,
    "start_time": "2022-03-12T21:33:26.928Z"
   },
   {
    "duration": -4359,
    "start_time": "2022-03-12T21:33:26.933Z"
   },
   {
    "duration": -4362,
    "start_time": "2022-03-12T21:33:26.937Z"
   },
   {
    "duration": -4364,
    "start_time": "2022-03-12T21:33:26.941Z"
   },
   {
    "duration": -4367,
    "start_time": "2022-03-12T21:33:26.945Z"
   },
   {
    "duration": -4370,
    "start_time": "2022-03-12T21:33:26.949Z"
   },
   {
    "duration": -4371,
    "start_time": "2022-03-12T21:33:26.952Z"
   },
   {
    "duration": -4374,
    "start_time": "2022-03-12T21:33:26.956Z"
   },
   {
    "duration": -4384,
    "start_time": "2022-03-12T21:33:26.967Z"
   },
   {
    "duration": -4387,
    "start_time": "2022-03-12T21:33:26.972Z"
   },
   {
    "duration": -4388,
    "start_time": "2022-03-12T21:33:26.975Z"
   },
   {
    "duration": -4391,
    "start_time": "2022-03-12T21:33:26.979Z"
   },
   {
    "duration": -4393,
    "start_time": "2022-03-12T21:33:26.983Z"
   },
   {
    "duration": -4396,
    "start_time": "2022-03-12T21:33:26.987Z"
   },
   {
    "duration": -4399,
    "start_time": "2022-03-12T21:33:26.991Z"
   },
   {
    "duration": -4402,
    "start_time": "2022-03-12T21:33:26.995Z"
   },
   {
    "duration": -4404,
    "start_time": "2022-03-12T21:33:26.999Z"
   },
   {
    "duration": -4406,
    "start_time": "2022-03-12T21:33:27.003Z"
   },
   {
    "duration": -4408,
    "start_time": "2022-03-12T21:33:27.006Z"
   },
   {
    "duration": -4410,
    "start_time": "2022-03-12T21:33:27.010Z"
   },
   {
    "duration": 10,
    "start_time": "2022-03-12T21:33:39.341Z"
   },
   {
    "duration": 8,
    "start_time": "2022-03-12T21:34:14.518Z"
   },
   {
    "duration": 22,
    "start_time": "2022-03-12T21:34:36.005Z"
   },
   {
    "duration": 23,
    "start_time": "2022-03-12T21:36:10.227Z"
   },
   {
    "duration": 21,
    "start_time": "2022-03-12T21:36:13.864Z"
   },
   {
    "duration": 1528,
    "start_time": "2022-03-12T21:36:30.147Z"
   },
   {
    "duration": 109,
    "start_time": "2022-03-12T21:36:31.678Z"
   },
   {
    "duration": 16,
    "start_time": "2022-03-12T21:36:31.790Z"
   },
   {
    "duration": 31,
    "start_time": "2022-03-12T21:36:31.809Z"
   },
   {
    "duration": 34,
    "start_time": "2022-03-12T21:36:31.842Z"
   },
   {
    "duration": 16,
    "start_time": "2022-03-12T21:36:31.879Z"
   },
   {
    "duration": 42,
    "start_time": "2022-03-12T21:36:31.897Z"
   },
   {
    "duration": 6,
    "start_time": "2022-03-12T21:36:31.943Z"
   },
   {
    "duration": 8,
    "start_time": "2022-03-12T21:36:31.951Z"
   },
   {
    "duration": 31,
    "start_time": "2022-03-12T21:36:31.961Z"
   },
   {
    "duration": 60,
    "start_time": "2022-03-12T21:36:31.995Z"
   },
   {
    "duration": 2,
    "start_time": "2022-03-12T21:36:32.058Z"
   },
   {
    "duration": 254,
    "start_time": "2022-03-12T21:36:32.063Z"
   },
   {
    "duration": 24,
    "start_time": "2022-03-12T21:36:32.319Z"
   },
   {
    "duration": 13,
    "start_time": "2022-03-12T21:36:32.346Z"
   },
   {
    "duration": 77,
    "start_time": "2022-03-12T21:36:32.362Z"
   },
   {
    "duration": 285,
    "start_time": "2022-03-12T21:36:32.442Z"
   },
   {
    "duration": 495,
    "start_time": "2022-03-12T21:36:32.733Z"
   },
   {
    "duration": 323,
    "start_time": "2022-03-12T21:36:33.231Z"
   },
   {
    "duration": 50,
    "start_time": "2022-03-12T21:36:33.557Z"
   },
   {
    "duration": 129,
    "start_time": "2022-03-12T21:36:33.609Z"
   },
   {
    "duration": 212,
    "start_time": "2022-03-12T21:36:33.742Z"
   },
   {
    "duration": 604,
    "start_time": "2022-03-12T21:36:33.958Z"
   },
   {
    "duration": 228,
    "start_time": "2022-03-12T21:36:34.565Z"
   },
   {
    "duration": 1343,
    "start_time": "2022-03-12T21:36:34.795Z"
   },
   {
    "duration": 95,
    "start_time": "2022-03-12T21:36:36.141Z"
   },
   {
    "duration": 117,
    "start_time": "2022-03-12T21:36:36.240Z"
   },
   {
    "duration": 86,
    "start_time": "2022-03-12T21:36:36.360Z"
   },
   {
    "duration": 1246,
    "start_time": "2022-03-12T21:36:36.448Z"
   },
   {
    "duration": 1168,
    "start_time": "2022-03-12T21:36:37.696Z"
   },
   {
    "duration": 366,
    "start_time": "2022-03-12T21:36:38.867Z"
   },
   {
    "duration": 351,
    "start_time": "2022-03-12T21:36:39.236Z"
   },
   {
    "duration": 22,
    "start_time": "2022-03-12T21:37:04.304Z"
   },
   {
    "duration": 22,
    "start_time": "2022-03-12T21:52:15.912Z"
   },
   {
    "duration": 458,
    "start_time": "2022-03-12T21:53:39.982Z"
   },
   {
    "duration": 1431,
    "start_time": "2022-03-12T21:53:54.448Z"
   },
   {
    "duration": 110,
    "start_time": "2022-03-12T21:53:55.881Z"
   },
   {
    "duration": 17,
    "start_time": "2022-03-12T21:53:55.994Z"
   },
   {
    "duration": 26,
    "start_time": "2022-03-12T21:53:56.013Z"
   },
   {
    "duration": 36,
    "start_time": "2022-03-12T21:53:56.042Z"
   },
   {
    "duration": 16,
    "start_time": "2022-03-12T21:53:56.081Z"
   },
   {
    "duration": 41,
    "start_time": "2022-03-12T21:53:56.099Z"
   },
   {
    "duration": 8,
    "start_time": "2022-03-12T21:53:56.144Z"
   },
   {
    "duration": 11,
    "start_time": "2022-03-12T21:53:56.154Z"
   },
   {
    "duration": 66,
    "start_time": "2022-03-12T21:53:56.167Z"
   },
   {
    "duration": 437,
    "start_time": "2022-03-12T21:53:56.235Z"
   },
   {
    "duration": -4366,
    "start_time": "2022-03-12T21:54:01.041Z"
   },
   {
    "duration": -4372,
    "start_time": "2022-03-12T21:54:01.048Z"
   },
   {
    "duration": -4382,
    "start_time": "2022-03-12T21:54:01.060Z"
   },
   {
    "duration": -4384,
    "start_time": "2022-03-12T21:54:01.063Z"
   },
   {
    "duration": -4386,
    "start_time": "2022-03-12T21:54:01.067Z"
   },
   {
    "duration": -4389,
    "start_time": "2022-03-12T21:54:01.071Z"
   },
   {
    "duration": -4391,
    "start_time": "2022-03-12T21:54:01.074Z"
   },
   {
    "duration": -4393,
    "start_time": "2022-03-12T21:54:01.078Z"
   },
   {
    "duration": -4396,
    "start_time": "2022-03-12T21:54:01.082Z"
   },
   {
    "duration": -4399,
    "start_time": "2022-03-12T21:54:01.086Z"
   },
   {
    "duration": -4400,
    "start_time": "2022-03-12T21:54:01.089Z"
   },
   {
    "duration": -4403,
    "start_time": "2022-03-12T21:54:01.093Z"
   },
   {
    "duration": -4406,
    "start_time": "2022-03-12T21:54:01.098Z"
   },
   {
    "duration": -4408,
    "start_time": "2022-03-12T21:54:01.101Z"
   },
   {
    "duration": -4410,
    "start_time": "2022-03-12T21:54:01.104Z"
   },
   {
    "duration": -4421,
    "start_time": "2022-03-12T21:54:01.117Z"
   },
   {
    "duration": -4424,
    "start_time": "2022-03-12T21:54:01.121Z"
   },
   {
    "duration": -4427,
    "start_time": "2022-03-12T21:54:01.125Z"
   },
   {
    "duration": -4428,
    "start_time": "2022-03-12T21:54:01.128Z"
   },
   {
    "duration": -4430,
    "start_time": "2022-03-12T21:54:01.132Z"
   },
   {
    "duration": -4435,
    "start_time": "2022-03-12T21:54:01.138Z"
   },
   {
    "duration": 26,
    "start_time": "2022-03-12T21:54:10.049Z"
   },
   {
    "duration": 230,
    "start_time": "2022-03-12T22:02:45.192Z"
   },
   {
    "duration": 323,
    "start_time": "2022-03-12T22:05:02.414Z"
   },
   {
    "duration": 1536,
    "start_time": "2022-03-12T22:05:17.740Z"
   },
   {
    "duration": 106,
    "start_time": "2022-03-12T22:05:19.279Z"
   },
   {
    "duration": 16,
    "start_time": "2022-03-12T22:05:19.388Z"
   },
   {
    "duration": 29,
    "start_time": "2022-03-12T22:05:19.406Z"
   },
   {
    "duration": 33,
    "start_time": "2022-03-12T22:05:19.438Z"
   },
   {
    "duration": 17,
    "start_time": "2022-03-12T22:05:19.474Z"
   },
   {
    "duration": 45,
    "start_time": "2022-03-12T22:05:19.494Z"
   },
   {
    "duration": 6,
    "start_time": "2022-03-12T22:05:19.544Z"
   },
   {
    "duration": 10,
    "start_time": "2022-03-12T22:05:19.554Z"
   },
   {
    "duration": 82,
    "start_time": "2022-03-12T22:05:19.567Z"
   },
   {
    "duration": 24,
    "start_time": "2022-03-12T22:05:19.652Z"
   },
   {
    "duration": 246,
    "start_time": "2022-03-12T22:05:19.678Z"
   },
   {
    "duration": 18,
    "start_time": "2022-03-12T22:05:19.926Z"
   },
   {
    "duration": 13,
    "start_time": "2022-03-12T22:05:19.948Z"
   },
   {
    "duration": 81,
    "start_time": "2022-03-12T22:05:19.964Z"
   },
   {
    "duration": 319,
    "start_time": "2022-03-12T22:05:20.048Z"
   },
   {
    "duration": 462,
    "start_time": "2022-03-12T22:05:20.370Z"
   },
   {
    "duration": 326,
    "start_time": "2022-03-12T22:05:20.835Z"
   },
   {
    "duration": 68,
    "start_time": "2022-03-12T22:05:21.164Z"
   },
   {
    "duration": 101,
    "start_time": "2022-03-12T22:05:21.235Z"
   },
   {
    "duration": 218,
    "start_time": "2022-03-12T22:05:21.339Z"
   },
   {
    "duration": 603,
    "start_time": "2022-03-12T22:05:21.560Z"
   },
   {
    "duration": 218,
    "start_time": "2022-03-12T22:05:22.167Z"
   },
   {
    "duration": 1331,
    "start_time": "2022-03-12T22:05:22.388Z"
   },
   {
    "duration": 112,
    "start_time": "2022-03-12T22:05:23.722Z"
   },
   {
    "duration": 119,
    "start_time": "2022-03-12T22:05:23.838Z"
   },
   {
    "duration": 87,
    "start_time": "2022-03-12T22:05:23.959Z"
   },
   {
    "duration": 1056,
    "start_time": "2022-03-12T22:05:24.048Z"
   },
   {
    "duration": 786,
    "start_time": "2022-03-12T22:05:25.106Z"
   },
   {
    "duration": 391,
    "start_time": "2022-03-12T22:05:25.895Z"
   },
   {
    "duration": 366,
    "start_time": "2022-03-12T22:05:26.289Z"
   },
   {
    "duration": 41,
    "start_time": "2022-03-12T22:16:34.514Z"
   },
   {
    "duration": 449,
    "start_time": "2022-03-12T22:25:10.368Z"
   },
   {
    "duration": 313,
    "start_time": "2022-03-12T22:25:34.221Z"
   },
   {
    "duration": 321,
    "start_time": "2022-03-12T22:36:27.230Z"
   },
   {
    "duration": 116,
    "start_time": "2022-03-12T22:41:53.189Z"
   },
   {
    "duration": 620,
    "start_time": "2022-03-12T22:52:31.840Z"
   },
   {
    "duration": 241,
    "start_time": "2022-03-12T22:56:11.843Z"
   },
   {
    "duration": 236,
    "start_time": "2022-03-12T22:56:40.548Z"
   },
   {
    "duration": 645,
    "start_time": "2022-03-12T22:58:10.817Z"
   },
   {
    "duration": 625,
    "start_time": "2022-03-12T22:58:55.648Z"
   },
   {
    "duration": 692,
    "start_time": "2022-03-12T22:59:45.553Z"
   },
   {
    "duration": 621,
    "start_time": "2022-03-12T23:00:19.088Z"
   },
   {
    "duration": 506,
    "start_time": "2022-03-12T23:01:20.928Z"
   },
   {
    "duration": 615,
    "start_time": "2022-03-12T23:01:30.752Z"
   },
   {
    "duration": 120,
    "start_time": "2022-03-12T23:13:59.418Z"
   },
   {
    "duration": 113,
    "start_time": "2022-03-12T23:14:11.286Z"
   },
   {
    "duration": 1435,
    "start_time": "2022-03-13T19:06:32.461Z"
   },
   {
    "duration": 108,
    "start_time": "2022-03-13T19:06:33.899Z"
   },
   {
    "duration": 16,
    "start_time": "2022-03-13T19:06:34.010Z"
   },
   {
    "duration": 9,
    "start_time": "2022-03-13T19:06:34.052Z"
   },
   {
    "duration": 34,
    "start_time": "2022-03-13T19:06:34.064Z"
   },
   {
    "duration": 14,
    "start_time": "2022-03-13T19:06:34.101Z"
   },
   {
    "duration": 38,
    "start_time": "2022-03-13T19:06:34.118Z"
   },
   {
    "duration": 6,
    "start_time": "2022-03-13T19:06:34.160Z"
   },
   {
    "duration": 9,
    "start_time": "2022-03-13T19:06:34.169Z"
   },
   {
    "duration": 80,
    "start_time": "2022-03-13T19:06:34.181Z"
   },
   {
    "duration": 24,
    "start_time": "2022-03-13T19:06:34.264Z"
   },
   {
    "duration": 253,
    "start_time": "2022-03-13T19:06:34.292Z"
   },
   {
    "duration": 16,
    "start_time": "2022-03-13T19:06:34.552Z"
   },
   {
    "duration": 13,
    "start_time": "2022-03-13T19:06:34.571Z"
   },
   {
    "duration": 76,
    "start_time": "2022-03-13T19:06:34.586Z"
   },
   {
    "duration": 286,
    "start_time": "2022-03-13T19:06:34.665Z"
   },
   {
    "duration": 495,
    "start_time": "2022-03-13T19:06:34.953Z"
   },
   {
    "duration": 317,
    "start_time": "2022-03-13T19:06:35.451Z"
   },
   {
    "duration": 50,
    "start_time": "2022-03-13T19:06:35.771Z"
   },
   {
    "duration": 129,
    "start_time": "2022-03-13T19:06:35.824Z"
   },
   {
    "duration": 222,
    "start_time": "2022-03-13T19:06:35.957Z"
   },
   {
    "duration": 607,
    "start_time": "2022-03-13T19:06:36.182Z"
   },
   {
    "duration": 302,
    "start_time": "2022-03-13T19:06:36.796Z"
   },
   {
    "duration": 1298,
    "start_time": "2022-03-13T19:06:37.101Z"
   },
   {
    "duration": 51,
    "start_time": "2022-03-13T19:06:38.401Z"
   },
   {
    "duration": 203,
    "start_time": "2022-03-13T19:06:38.456Z"
   },
   {
    "duration": 61,
    "start_time": "2022-03-13T19:06:38.661Z"
   },
   {
    "duration": 1076,
    "start_time": "2022-03-13T19:06:38.725Z"
   },
   {
    "duration": 792,
    "start_time": "2022-03-13T19:06:39.804Z"
   },
   {
    "duration": 409,
    "start_time": "2022-03-13T19:06:40.599Z"
   },
   {
    "duration": 367,
    "start_time": "2022-03-13T19:06:41.011Z"
   },
   {
    "duration": 1384,
    "start_time": "2022-03-13T19:55:06.097Z"
   },
   {
    "duration": 113,
    "start_time": "2022-03-13T19:55:07.483Z"
   },
   {
    "duration": 17,
    "start_time": "2022-03-13T19:55:07.600Z"
   },
   {
    "duration": 34,
    "start_time": "2022-03-13T19:55:07.620Z"
   },
   {
    "duration": 33,
    "start_time": "2022-03-13T19:55:07.658Z"
   },
   {
    "duration": 17,
    "start_time": "2022-03-13T19:55:07.695Z"
   },
   {
    "duration": 9,
    "start_time": "2022-03-13T19:55:07.751Z"
   },
   {
    "duration": 7,
    "start_time": "2022-03-13T19:55:07.764Z"
   },
   {
    "duration": 9,
    "start_time": "2022-03-13T19:55:07.774Z"
   },
   {
    "duration": 80,
    "start_time": "2022-03-13T19:55:07.786Z"
   },
   {
    "duration": 32,
    "start_time": "2022-03-13T19:55:07.869Z"
   },
   {
    "duration": 283,
    "start_time": "2022-03-13T19:55:07.904Z"
   },
   {
    "duration": 13,
    "start_time": "2022-03-13T19:55:08.189Z"
   },
   {
    "duration": 14,
    "start_time": "2022-03-13T19:55:08.204Z"
   },
   {
    "duration": 45,
    "start_time": "2022-03-13T19:55:08.250Z"
   },
   {
    "duration": 285,
    "start_time": "2022-03-13T19:55:08.298Z"
   },
   {
    "duration": 452,
    "start_time": "2022-03-13T19:55:08.586Z"
   },
   {
    "duration": 330,
    "start_time": "2022-03-13T19:55:09.042Z"
   },
   {
    "duration": 48,
    "start_time": "2022-03-13T19:55:09.375Z"
   },
   {
    "duration": 127,
    "start_time": "2022-03-13T19:55:09.426Z"
   },
   {
    "duration": 216,
    "start_time": "2022-03-13T19:55:09.556Z"
   },
   {
    "duration": 607,
    "start_time": "2022-03-13T19:55:09.774Z"
   },
   {
    "duration": 288,
    "start_time": "2022-03-13T19:55:10.385Z"
   },
   {
    "duration": 77,
    "start_time": "2022-03-13T19:55:10.676Z"
   },
   {
    "duration": 117,
    "start_time": "2022-03-13T19:55:10.756Z"
   },
   {
    "duration": 86,
    "start_time": "2022-03-13T19:55:10.876Z"
   },
   {
    "duration": 1079,
    "start_time": "2022-03-13T19:55:10.964Z"
   },
   {
    "duration": 793,
    "start_time": "2022-03-13T19:55:12.046Z"
   },
   {
    "duration": 368,
    "start_time": "2022-03-13T19:55:12.841Z"
   },
   {
    "duration": 389,
    "start_time": "2022-03-13T19:55:13.212Z"
   },
   {
    "duration": 98,
    "start_time": "2022-03-14T13:09:30.008Z"
   },
   {
    "duration": 216,
    "start_time": "2022-03-15T19:28:35.621Z"
   },
   {
    "duration": 1145,
    "start_time": "2022-03-15T19:28:53.040Z"
   },
   {
    "duration": 79,
    "start_time": "2022-03-15T19:28:54.187Z"
   },
   {
    "duration": 11,
    "start_time": "2022-03-15T19:28:54.269Z"
   },
   {
    "duration": 8,
    "start_time": "2022-03-15T19:28:54.282Z"
   },
   {
    "duration": 47,
    "start_time": "2022-03-15T19:28:54.292Z"
   },
   {
    "duration": 11,
    "start_time": "2022-03-15T19:28:54.340Z"
   },
   {
    "duration": 10,
    "start_time": "2022-03-15T19:28:54.353Z"
   },
   {
    "duration": 9,
    "start_time": "2022-03-15T19:28:54.365Z"
   },
   {
    "duration": 7,
    "start_time": "2022-03-15T19:28:54.377Z"
   },
   {
    "duration": 23,
    "start_time": "2022-03-15T19:28:54.386Z"
   },
   {
    "duration": 19,
    "start_time": "2022-03-15T19:28:54.437Z"
   },
   {
    "duration": 189,
    "start_time": "2022-03-15T19:28:54.458Z"
   },
   {
    "duration": 8,
    "start_time": "2022-03-15T19:28:54.649Z"
   },
   {
    "duration": 7,
    "start_time": "2022-03-15T19:28:54.659Z"
   },
   {
    "duration": 41,
    "start_time": "2022-03-15T19:28:54.668Z"
   },
   {
    "duration": 206,
    "start_time": "2022-03-15T19:28:54.712Z"
   },
   {
    "duration": 343,
    "start_time": "2022-03-15T19:28:54.920Z"
   },
   {
    "duration": 216,
    "start_time": "2022-03-15T19:28:55.265Z"
   },
   {
    "duration": 37,
    "start_time": "2022-03-15T19:28:55.483Z"
   },
   {
    "duration": 45,
    "start_time": "2022-03-15T19:28:55.521Z"
   },
   {
    "duration": 242,
    "start_time": "2022-03-15T19:28:55.569Z"
   },
   {
    "duration": 489,
    "start_time": "2022-03-15T19:28:55.812Z"
   },
   {
    "duration": 276,
    "start_time": "2022-03-15T19:28:56.303Z"
   },
   {
    "duration": 70,
    "start_time": "2022-03-15T19:28:56.582Z"
   },
   {
    "duration": 100,
    "start_time": "2022-03-15T19:28:56.658Z"
   },
   {
    "duration": 115,
    "start_time": "2022-03-15T19:28:56.760Z"
   },
   {
    "duration": 704,
    "start_time": "2022-03-15T19:28:56.880Z"
   },
   {
    "duration": 529,
    "start_time": "2022-03-15T19:28:57.587Z"
   },
   {
    "duration": 322,
    "start_time": "2022-03-15T19:28:58.118Z"
   },
   {
    "duration": 231,
    "start_time": "2022-03-15T19:28:58.442Z"
   },
   {
    "duration": 320,
    "start_time": "2022-03-15T19:29:10.444Z"
   },
   {
    "duration": 1105,
    "start_time": "2022-03-15T19:29:23.537Z"
   },
   {
    "duration": 71,
    "start_time": "2022-03-15T19:29:24.643Z"
   },
   {
    "duration": 23,
    "start_time": "2022-03-15T19:29:24.717Z"
   },
   {
    "duration": 6,
    "start_time": "2022-03-15T19:29:24.742Z"
   },
   {
    "duration": 20,
    "start_time": "2022-03-15T19:29:24.749Z"
   },
   {
    "duration": 10,
    "start_time": "2022-03-15T19:29:24.771Z"
   },
   {
    "duration": 7,
    "start_time": "2022-03-15T19:29:24.785Z"
   },
   {
    "duration": 6,
    "start_time": "2022-03-15T19:29:24.794Z"
   },
   {
    "duration": 7,
    "start_time": "2022-03-15T19:29:24.838Z"
   },
   {
    "duration": 23,
    "start_time": "2022-03-15T19:29:24.847Z"
   },
   {
    "duration": 15,
    "start_time": "2022-03-15T19:29:24.872Z"
   },
   {
    "duration": 177,
    "start_time": "2022-03-15T19:29:24.889Z"
   },
   {
    "duration": 10,
    "start_time": "2022-03-15T19:29:25.068Z"
   },
   {
    "duration": 10,
    "start_time": "2022-03-15T19:29:25.080Z"
   },
   {
    "duration": 53,
    "start_time": "2022-03-15T19:29:25.091Z"
   },
   {
    "duration": 184,
    "start_time": "2022-03-15T19:29:25.145Z"
   },
   {
    "duration": 326,
    "start_time": "2022-03-15T19:29:25.337Z"
   },
   {
    "duration": 212,
    "start_time": "2022-03-15T19:29:25.664Z"
   },
   {
    "duration": 36,
    "start_time": "2022-03-15T19:29:25.878Z"
   },
   {
    "duration": 42,
    "start_time": "2022-03-15T19:29:25.915Z"
   },
   {
    "duration": 247,
    "start_time": "2022-03-15T19:29:25.959Z"
   },
   {
    "duration": 464,
    "start_time": "2022-03-15T19:29:26.209Z"
   },
   {
    "duration": 200,
    "start_time": "2022-03-15T19:29:26.675Z"
   },
   {
    "duration": 62,
    "start_time": "2022-03-15T19:29:26.877Z"
   },
   {
    "duration": 112,
    "start_time": "2022-03-15T19:29:26.942Z"
   },
   {
    "duration": 45,
    "start_time": "2022-03-15T19:29:27.055Z"
   },
   {
    "duration": 937,
    "start_time": "2022-03-15T19:29:27.102Z"
   },
   {
    "duration": 524,
    "start_time": "2022-03-15T19:29:28.041Z"
   },
   {
    "duration": 277,
    "start_time": "2022-03-15T19:29:28.566Z"
   },
   {
    "duration": 237,
    "start_time": "2022-03-15T19:29:28.844Z"
   },
   {
    "duration": 60,
    "start_time": "2022-03-15T19:30:16.881Z"
   },
   {
    "duration": 62,
    "start_time": "2022-03-15T19:30:35.290Z"
   },
   {
    "duration": 1103,
    "start_time": "2022-03-15T19:31:01.548Z"
   },
   {
    "duration": 75,
    "start_time": "2022-03-15T19:31:02.653Z"
   },
   {
    "duration": 11,
    "start_time": "2022-03-15T19:31:02.730Z"
   },
   {
    "duration": 6,
    "start_time": "2022-03-15T19:31:02.743Z"
   },
   {
    "duration": 20,
    "start_time": "2022-03-15T19:31:02.750Z"
   },
   {
    "duration": 9,
    "start_time": "2022-03-15T19:31:02.772Z"
   },
   {
    "duration": 6,
    "start_time": "2022-03-15T19:31:02.783Z"
   },
   {
    "duration": 16,
    "start_time": "2022-03-15T19:31:02.790Z"
   },
   {
    "duration": 33,
    "start_time": "2022-03-15T19:31:02.809Z"
   },
   {
    "duration": 23,
    "start_time": "2022-03-15T19:31:02.844Z"
   },
   {
    "duration": 54,
    "start_time": "2022-03-15T19:31:02.869Z"
   },
   {
    "duration": -440,
    "start_time": "2022-03-15T19:31:03.365Z"
   },
   {
    "duration": -443,
    "start_time": "2022-03-15T19:31:03.369Z"
   },
   {
    "duration": -445,
    "start_time": "2022-03-15T19:31:03.372Z"
   },
   {
    "duration": -447,
    "start_time": "2022-03-15T19:31:03.375Z"
   },
   {
    "duration": -450,
    "start_time": "2022-03-15T19:31:03.379Z"
   },
   {
    "duration": -453,
    "start_time": "2022-03-15T19:31:03.383Z"
   },
   {
    "duration": -456,
    "start_time": "2022-03-15T19:31:03.387Z"
   },
   {
    "duration": -458,
    "start_time": "2022-03-15T19:31:03.390Z"
   },
   {
    "duration": -461,
    "start_time": "2022-03-15T19:31:03.394Z"
   },
   {
    "duration": -463,
    "start_time": "2022-03-15T19:31:03.397Z"
   },
   {
    "duration": -466,
    "start_time": "2022-03-15T19:31:03.401Z"
   },
   {
    "duration": -469,
    "start_time": "2022-03-15T19:31:03.405Z"
   },
   {
    "duration": -471,
    "start_time": "2022-03-15T19:31:03.408Z"
   },
   {
    "duration": -474,
    "start_time": "2022-03-15T19:31:03.412Z"
   },
   {
    "duration": -477,
    "start_time": "2022-03-15T19:31:03.416Z"
   },
   {
    "duration": -479,
    "start_time": "2022-03-15T19:31:03.419Z"
   },
   {
    "duration": -482,
    "start_time": "2022-03-15T19:31:03.423Z"
   },
   {
    "duration": -485,
    "start_time": "2022-03-15T19:31:03.427Z"
   },
   {
    "duration": -488,
    "start_time": "2022-03-15T19:31:03.431Z"
   },
   {
    "duration": -500,
    "start_time": "2022-03-15T19:31:03.444Z"
   },
   {
    "duration": 54,
    "start_time": "2022-03-15T19:31:27.145Z"
   },
   {
    "duration": 59,
    "start_time": "2022-03-15T19:31:59.095Z"
   },
   {
    "duration": 74,
    "start_time": "2022-04-28T11:22:29.091Z"
   },
   {
    "duration": 1974,
    "start_time": "2022-04-28T11:22:36.340Z"
   },
   {
    "duration": 111,
    "start_time": "2022-04-28T11:22:38.317Z"
   },
   {
    "duration": 17,
    "start_time": "2022-04-28T11:22:38.433Z"
   },
   {
    "duration": 32,
    "start_time": "2022-04-28T11:22:38.452Z"
   },
   {
    "duration": 32,
    "start_time": "2022-04-28T11:22:38.486Z"
   },
   {
    "duration": 16,
    "start_time": "2022-04-28T11:22:38.521Z"
   },
   {
    "duration": 44,
    "start_time": "2022-04-28T11:22:38.540Z"
   },
   {
    "duration": 8,
    "start_time": "2022-04-28T11:22:38.587Z"
   },
   {
    "duration": 11,
    "start_time": "2022-04-28T11:22:38.600Z"
   },
   {
    "duration": 34,
    "start_time": "2022-04-28T11:22:38.613Z"
   },
   {
    "duration": 58,
    "start_time": "2022-04-28T11:22:38.649Z"
   },
   {
    "duration": 216,
    "start_time": "2022-04-28T11:22:38.709Z"
   },
   {
    "duration": 12,
    "start_time": "2022-04-28T11:22:38.927Z"
   },
   {
    "duration": 12,
    "start_time": "2022-04-28T11:22:38.941Z"
   },
   {
    "duration": 76,
    "start_time": "2022-04-28T11:22:38.955Z"
   },
   {
    "duration": 252,
    "start_time": "2022-04-28T11:22:39.033Z"
   },
   {
    "duration": 837,
    "start_time": "2022-04-28T11:22:39.287Z"
   },
   {
    "duration": 1282,
    "start_time": "2022-04-28T11:22:40.127Z"
   },
   {
    "duration": 71,
    "start_time": "2022-04-28T11:22:41.411Z"
   },
   {
    "duration": 100,
    "start_time": "2022-04-28T11:22:41.484Z"
   },
   {
    "duration": 1126,
    "start_time": "2022-04-28T11:22:41.588Z"
   },
   {
    "duration": 2591,
    "start_time": "2022-04-28T11:22:42.717Z"
   },
   {
    "duration": 597,
    "start_time": "2022-04-28T11:22:45.310Z"
   },
   {
    "duration": 72,
    "start_time": "2022-04-28T11:22:45.910Z"
   },
   {
    "duration": 122,
    "start_time": "2022-04-28T11:22:45.985Z"
   },
   {
    "duration": 604,
    "start_time": "2022-04-28T11:22:46.109Z"
   },
   {
    "duration": 996,
    "start_time": "2022-04-28T11:22:46.720Z"
   },
   {
    "duration": 575,
    "start_time": "2022-04-28T11:22:47.719Z"
   },
   {
    "duration": 333,
    "start_time": "2022-04-28T11:22:48.297Z"
   },
   {
    "duration": 380,
    "start_time": "2022-04-28T11:22:48.632Z"
   },
   {
    "duration": 52,
    "start_time": "2022-11-10T11:46:49.126Z"
   },
   {
    "duration": 1343,
    "start_time": "2022-11-10T11:46:57.527Z"
   },
   {
    "duration": 241,
    "start_time": "2022-11-10T11:46:58.872Z"
   },
   {
    "duration": 10,
    "start_time": "2022-11-10T11:46:59.115Z"
   },
   {
    "duration": 6,
    "start_time": "2022-11-10T11:46:59.126Z"
   },
   {
    "duration": 20,
    "start_time": "2022-11-10T11:46:59.135Z"
   },
   {
    "duration": 10,
    "start_time": "2022-11-10T11:46:59.156Z"
   },
   {
    "duration": 10,
    "start_time": "2022-11-10T11:46:59.168Z"
   },
   {
    "duration": 10,
    "start_time": "2022-11-10T11:46:59.179Z"
   },
   {
    "duration": 9,
    "start_time": "2022-11-10T11:46:59.190Z"
   },
   {
    "duration": 33,
    "start_time": "2022-11-10T11:46:59.201Z"
   },
   {
    "duration": 17,
    "start_time": "2022-11-10T11:46:59.235Z"
   },
   {
    "duration": 147,
    "start_time": "2022-11-10T11:46:59.254Z"
   },
   {
    "duration": 10,
    "start_time": "2022-11-10T11:46:59.402Z"
   },
   {
    "duration": 22,
    "start_time": "2022-11-10T11:46:59.415Z"
   },
   {
    "duration": 34,
    "start_time": "2022-11-10T11:46:59.439Z"
   },
   {
    "duration": 156,
    "start_time": "2022-11-10T11:46:59.475Z"
   },
   {
    "duration": 761,
    "start_time": "2022-11-10T11:46:59.632Z"
   },
   {
    "duration": 865,
    "start_time": "2022-11-10T11:47:00.395Z"
   },
   {
    "duration": 37,
    "start_time": "2022-11-10T11:47:01.261Z"
   },
   {
    "duration": 48,
    "start_time": "2022-11-10T11:47:01.299Z"
   },
   {
    "duration": 868,
    "start_time": "2022-11-10T11:47:01.349Z"
   },
   {
    "duration": 1676,
    "start_time": "2022-11-10T11:47:02.219Z"
   },
   {
    "duration": 513,
    "start_time": "2022-11-10T11:47:03.897Z"
   },
   {
    "duration": 29,
    "start_time": "2022-11-10T11:47:04.412Z"
   },
   {
    "duration": 195,
    "start_time": "2022-11-10T11:47:04.443Z"
   },
   {
    "duration": 431,
    "start_time": "2022-11-10T11:47:04.640Z"
   },
   {
    "duration": 616,
    "start_time": "2022-11-10T11:47:05.072Z"
   },
   {
    "duration": 348,
    "start_time": "2022-11-10T11:47:05.690Z"
   },
   {
    "duration": 275,
    "start_time": "2022-11-10T11:47:06.040Z"
   },
   {
    "duration": 261,
    "start_time": "2022-11-10T11:47:06.330Z"
   },
   {
    "duration": 112,
    "start_time": "2022-11-10T11:47:56.307Z"
   },
   {
    "duration": 170,
    "start_time": "2022-11-10T11:51:33.647Z"
   },
   {
    "duration": 762,
    "start_time": "2022-11-10T11:52:26.168Z"
   },
   {
    "duration": 966,
    "start_time": "2022-11-10T11:56:53.094Z"
   },
   {
    "duration": 1353,
    "start_time": "2022-11-10T12:01:50.695Z"
   },
   {
    "duration": 89,
    "start_time": "2022-11-10T12:01:52.050Z"
   },
   {
    "duration": 10,
    "start_time": "2022-11-10T12:01:52.141Z"
   },
   {
    "duration": 6,
    "start_time": "2022-11-10T12:01:52.153Z"
   },
   {
    "duration": 20,
    "start_time": "2022-11-10T12:01:52.161Z"
   },
   {
    "duration": 10,
    "start_time": "2022-11-10T12:01:52.183Z"
   },
   {
    "duration": 6,
    "start_time": "2022-11-10T12:01:52.195Z"
   },
   {
    "duration": 28,
    "start_time": "2022-11-10T12:01:52.202Z"
   },
   {
    "duration": 6,
    "start_time": "2022-11-10T12:01:52.232Z"
   },
   {
    "duration": 19,
    "start_time": "2022-11-10T12:01:52.239Z"
   },
   {
    "duration": 14,
    "start_time": "2022-11-10T12:01:52.260Z"
   },
   {
    "duration": 155,
    "start_time": "2022-11-10T12:01:52.276Z"
   },
   {
    "duration": 9,
    "start_time": "2022-11-10T12:01:52.432Z"
   },
   {
    "duration": 18,
    "start_time": "2022-11-10T12:01:52.444Z"
   },
   {
    "duration": 49,
    "start_time": "2022-11-10T12:01:52.464Z"
   },
   {
    "duration": 176,
    "start_time": "2022-11-10T12:01:52.514Z"
   },
   {
    "duration": 816,
    "start_time": "2022-11-10T12:01:52.692Z"
   },
   {
    "duration": 964,
    "start_time": "2022-11-10T12:01:53.510Z"
   },
   {
    "duration": 40,
    "start_time": "2022-11-10T12:01:54.476Z"
   },
   {
    "duration": 29,
    "start_time": "2022-11-10T12:01:54.530Z"
   },
   {
    "duration": 791,
    "start_time": "2022-11-10T12:01:54.632Z"
   },
   {
    "duration": 1524,
    "start_time": "2022-11-10T12:01:55.429Z"
   },
   {
    "duration": 460,
    "start_time": "2022-11-10T12:01:56.955Z"
   },
   {
    "duration": 28,
    "start_time": "2022-11-10T12:01:57.416Z"
   },
   {
    "duration": 190,
    "start_time": "2022-11-10T12:01:57.446Z"
   },
   {
    "duration": 421,
    "start_time": "2022-11-10T12:01:57.638Z"
   },
   {
    "duration": 617,
    "start_time": "2022-11-10T12:01:58.061Z"
   },
   {
    "duration": 333,
    "start_time": "2022-11-10T12:01:58.680Z"
   },
   {
    "duration": 298,
    "start_time": "2022-11-10T12:01:59.015Z"
   },
   {
    "duration": 241,
    "start_time": "2022-11-10T12:01:59.315Z"
   }
  ],
  "kernelspec": {
   "display_name": "Python 3 (ipykernel)",
   "language": "python",
   "name": "python3"
  },
  "language_info": {
   "codemirror_mode": {
    "name": "ipython",
    "version": 3
   },
   "file_extension": ".py",
   "mimetype": "text/x-python",
   "name": "python",
   "nbconvert_exporter": "python",
   "pygments_lexer": "ipython3",
   "version": "3.9.5"
  },
  "toc": {
   "base_numbering": 1,
   "nav_menu": {},
   "number_sections": true,
   "sideBar": true,
   "skip_h1_title": true,
   "title_cell": "Содержание",
   "title_sidebar": "Contents",
   "toc_cell": true,
   "toc_position": {
    "height": "calc(100% - 180px)",
    "left": "10px",
    "top": "150px",
    "width": "462.5px"
   },
   "toc_section_display": true,
   "toc_window_display": true
  }
 },
 "nbformat": 4,
 "nbformat_minor": 2
}
