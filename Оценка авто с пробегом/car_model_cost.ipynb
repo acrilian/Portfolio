{
 "cells": [
  {
   "cell_type": "markdown",
   "metadata": {},
   "source": [
    "# Определение стоимости автомобилей"
   ]
  },
  {
   "cell_type": "markdown",
   "metadata": {},
   "source": [
    "Сервис по продаже автомобилей с пробегом «Не бит, не крашен» разрабатывает приложение для привлечения новых клиентов. В нём можно быстро узнать рыночную стоимость своего автомобиля. В вашем распоряжении исторические данные: технические характеристики, комплектации и цены автомобилей. Вам нужно построить модель для определения стоимости. \n",
    "\n",
    "Заказчику важны:\n",
    "\n",
    "- качество предсказания;\n",
    "- скорость предсказания;\n",
    "- время обучения.\n",
    "\n",
    "**Описание данных**\n",
    "\n",
    "Набор данных находится в файле /datasets/autos.csv.\n",
    "\n",
    "**Признаки**\n",
    "\n",
    "- DateCrawled — дата скачивания анкеты из базы\n",
    "- VehicleType — тип автомобильного кузова\n",
    "- RegistrationYear — год регистрации автомобиля\n",
    "- Gearbox — тип коробки передач\n",
    "- Power — мощность (л. с.)\n",
    "- Model — модель автомобиля\n",
    "- Kilometer — пробег (км)\n",
    "- RegistrationMonth — месяц регистрации автомобиля\n",
    "- FuelType — тип топлива\n",
    "- Brand — марка автомобиля\n",
    "- NotRepaired — была машина в ремонте или нет\n",
    "- DateCreated — дата создания анкеты\n",
    "- NumberOfPictures — количество фотографий автомобиля\n",
    "- PostalCode — почтовый индекс владельца анкеты (пользователя)\n",
    "- LastSeen — дата последней активности пользователя\n",
    "- Целевой признак\n",
    "\n",
    "**Цедевой признак**\n",
    "- Price — цена (евро)"
   ]
  },
  {
   "cell_type": "markdown",
   "metadata": {},
   "source": [
    "<h1>Содержание<span class=\"tocSkip\"></span></h1>"
   ]
  },
  {
   "cell_type": "markdown",
   "metadata": {},
   "source": [
    "## Подготовка данных"
   ]
  },
  {
   "cell_type": "markdown",
   "metadata": {},
   "source": [
    "### Обзор данных"
   ]
  },
  {
   "cell_type": "code",
   "execution_count": 1,
   "metadata": {},
   "outputs": [],
   "source": [
    "# импортируем библиотеки\n",
    "import numpy as np\n",
    "import pandas as pd\n",
    "import seaborn as sns\n",
    "import matplotlib.pyplot as plt\n",
    "import time\n",
    "from sklearn.linear_model import LinearRegression\n",
    "from sklearn.metrics import mean_squared_error\n",
    "import catboost as cb\n",
    "import xgboost as xgb\n",
    "import lightgbm as lgb\n",
    "from sklearn.model_selection import train_test_split\n",
    "from lightgbm import LGBMRegressor\n",
    "import lightgbm as lgb\n",
    "from sklearn.metrics import mean_squared_error as mse\n",
    "from catboost import CatBoostRegressor, Pool\n",
    "\n",
    "\n",
    "# зафиксируем псевдослучайность для всех используемых в проекте алгоритмов\n",
    "rnd_state = 12345"
   ]
  },
  {
   "cell_type": "code",
   "execution_count": 2,
   "metadata": {},
   "outputs": [],
   "source": [
    "# загрузим данные\n",
    "data = pd.read_csv('/datasets/autos.csv')"
   ]
  },
  {
   "cell_type": "code",
   "execution_count": 3,
   "metadata": {},
   "outputs": [
    {
     "data": {
      "text/html": [
       "<div>\n",
       "<style scoped>\n",
       "    .dataframe tbody tr th:only-of-type {\n",
       "        vertical-align: middle;\n",
       "    }\n",
       "\n",
       "    .dataframe tbody tr th {\n",
       "        vertical-align: top;\n",
       "    }\n",
       "\n",
       "    .dataframe thead th {\n",
       "        text-align: right;\n",
       "    }\n",
       "</style>\n",
       "<table border=\"1\" class=\"dataframe\">\n",
       "  <thead>\n",
       "    <tr style=\"text-align: right;\">\n",
       "      <th></th>\n",
       "      <th>DateCrawled</th>\n",
       "      <th>Price</th>\n",
       "      <th>VehicleType</th>\n",
       "      <th>RegistrationYear</th>\n",
       "      <th>Gearbox</th>\n",
       "      <th>Power</th>\n",
       "      <th>Model</th>\n",
       "      <th>Kilometer</th>\n",
       "      <th>RegistrationMonth</th>\n",
       "      <th>FuelType</th>\n",
       "      <th>Brand</th>\n",
       "      <th>NotRepaired</th>\n",
       "      <th>DateCreated</th>\n",
       "      <th>NumberOfPictures</th>\n",
       "      <th>PostalCode</th>\n",
       "      <th>LastSeen</th>\n",
       "    </tr>\n",
       "  </thead>\n",
       "  <tbody>\n",
       "    <tr>\n",
       "      <th>0</th>\n",
       "      <td>2016-03-24 11:52:17</td>\n",
       "      <td>480</td>\n",
       "      <td>NaN</td>\n",
       "      <td>1993</td>\n",
       "      <td>manual</td>\n",
       "      <td>0</td>\n",
       "      <td>golf</td>\n",
       "      <td>150000</td>\n",
       "      <td>0</td>\n",
       "      <td>petrol</td>\n",
       "      <td>volkswagen</td>\n",
       "      <td>NaN</td>\n",
       "      <td>2016-03-24 00:00:00</td>\n",
       "      <td>0</td>\n",
       "      <td>70435</td>\n",
       "      <td>2016-04-07 03:16:57</td>\n",
       "    </tr>\n",
       "    <tr>\n",
       "      <th>1</th>\n",
       "      <td>2016-03-24 10:58:45</td>\n",
       "      <td>18300</td>\n",
       "      <td>coupe</td>\n",
       "      <td>2011</td>\n",
       "      <td>manual</td>\n",
       "      <td>190</td>\n",
       "      <td>NaN</td>\n",
       "      <td>125000</td>\n",
       "      <td>5</td>\n",
       "      <td>gasoline</td>\n",
       "      <td>audi</td>\n",
       "      <td>yes</td>\n",
       "      <td>2016-03-24 00:00:00</td>\n",
       "      <td>0</td>\n",
       "      <td>66954</td>\n",
       "      <td>2016-04-07 01:46:50</td>\n",
       "    </tr>\n",
       "    <tr>\n",
       "      <th>2</th>\n",
       "      <td>2016-03-14 12:52:21</td>\n",
       "      <td>9800</td>\n",
       "      <td>suv</td>\n",
       "      <td>2004</td>\n",
       "      <td>auto</td>\n",
       "      <td>163</td>\n",
       "      <td>grand</td>\n",
       "      <td>125000</td>\n",
       "      <td>8</td>\n",
       "      <td>gasoline</td>\n",
       "      <td>jeep</td>\n",
       "      <td>NaN</td>\n",
       "      <td>2016-03-14 00:00:00</td>\n",
       "      <td>0</td>\n",
       "      <td>90480</td>\n",
       "      <td>2016-04-05 12:47:46</td>\n",
       "    </tr>\n",
       "    <tr>\n",
       "      <th>3</th>\n",
       "      <td>2016-03-17 16:54:04</td>\n",
       "      <td>1500</td>\n",
       "      <td>small</td>\n",
       "      <td>2001</td>\n",
       "      <td>manual</td>\n",
       "      <td>75</td>\n",
       "      <td>golf</td>\n",
       "      <td>150000</td>\n",
       "      <td>6</td>\n",
       "      <td>petrol</td>\n",
       "      <td>volkswagen</td>\n",
       "      <td>no</td>\n",
       "      <td>2016-03-17 00:00:00</td>\n",
       "      <td>0</td>\n",
       "      <td>91074</td>\n",
       "      <td>2016-03-17 17:40:17</td>\n",
       "    </tr>\n",
       "    <tr>\n",
       "      <th>4</th>\n",
       "      <td>2016-03-31 17:25:20</td>\n",
       "      <td>3600</td>\n",
       "      <td>small</td>\n",
       "      <td>2008</td>\n",
       "      <td>manual</td>\n",
       "      <td>69</td>\n",
       "      <td>fabia</td>\n",
       "      <td>90000</td>\n",
       "      <td>7</td>\n",
       "      <td>gasoline</td>\n",
       "      <td>skoda</td>\n",
       "      <td>no</td>\n",
       "      <td>2016-03-31 00:00:00</td>\n",
       "      <td>0</td>\n",
       "      <td>60437</td>\n",
       "      <td>2016-04-06 10:17:21</td>\n",
       "    </tr>\n",
       "  </tbody>\n",
       "</table>\n",
       "</div>"
      ],
      "text/plain": [
       "           DateCrawled  Price VehicleType  RegistrationYear Gearbox  Power  \\\n",
       "0  2016-03-24 11:52:17    480         NaN              1993  manual      0   \n",
       "1  2016-03-24 10:58:45  18300       coupe              2011  manual    190   \n",
       "2  2016-03-14 12:52:21   9800         suv              2004    auto    163   \n",
       "3  2016-03-17 16:54:04   1500       small              2001  manual     75   \n",
       "4  2016-03-31 17:25:20   3600       small              2008  manual     69   \n",
       "\n",
       "   Model  Kilometer  RegistrationMonth  FuelType       Brand NotRepaired  \\\n",
       "0   golf     150000                  0    petrol  volkswagen         NaN   \n",
       "1    NaN     125000                  5  gasoline        audi         yes   \n",
       "2  grand     125000                  8  gasoline        jeep         NaN   \n",
       "3   golf     150000                  6    petrol  volkswagen          no   \n",
       "4  fabia      90000                  7  gasoline       skoda          no   \n",
       "\n",
       "           DateCreated  NumberOfPictures  PostalCode             LastSeen  \n",
       "0  2016-03-24 00:00:00                 0       70435  2016-04-07 03:16:57  \n",
       "1  2016-03-24 00:00:00                 0       66954  2016-04-07 01:46:50  \n",
       "2  2016-03-14 00:00:00                 0       90480  2016-04-05 12:47:46  \n",
       "3  2016-03-17 00:00:00                 0       91074  2016-03-17 17:40:17  \n",
       "4  2016-03-31 00:00:00                 0       60437  2016-04-06 10:17:21  "
      ]
     },
     "execution_count": 3,
     "metadata": {},
     "output_type": "execute_result"
    }
   ],
   "source": [
    "# изучим файл\n",
    "data.head()"
   ]
  },
  {
   "cell_type": "code",
   "execution_count": 4,
   "metadata": {},
   "outputs": [
    {
     "name": "stdout",
     "output_type": "stream",
     "text": [
      "(354369, 16)\n"
     ]
    }
   ],
   "source": [
    "print(data.shape)"
   ]
  },
  {
   "cell_type": "code",
   "execution_count": 5,
   "metadata": {},
   "outputs": [
    {
     "name": "stdout",
     "output_type": "stream",
     "text": [
      "<class 'pandas.core.frame.DataFrame'>\n",
      "RangeIndex: 354369 entries, 0 to 354368\n",
      "Data columns (total 16 columns):\n",
      " #   Column             Non-Null Count   Dtype \n",
      "---  ------             --------------   ----- \n",
      " 0   DateCrawled        354369 non-null  object\n",
      " 1   Price              354369 non-null  int64 \n",
      " 2   VehicleType        316879 non-null  object\n",
      " 3   RegistrationYear   354369 non-null  int64 \n",
      " 4   Gearbox            334536 non-null  object\n",
      " 5   Power              354369 non-null  int64 \n",
      " 6   Model              334664 non-null  object\n",
      " 7   Kilometer          354369 non-null  int64 \n",
      " 8   RegistrationMonth  354369 non-null  int64 \n",
      " 9   FuelType           321474 non-null  object\n",
      " 10  Brand              354369 non-null  object\n",
      " 11  NotRepaired        283215 non-null  object\n",
      " 12  DateCreated        354369 non-null  object\n",
      " 13  NumberOfPictures   354369 non-null  int64 \n",
      " 14  PostalCode         354369 non-null  int64 \n",
      " 15  LastSeen           354369 non-null  object\n",
      "dtypes: int64(7), object(9)\n",
      "memory usage: 43.3+ MB\n"
     ]
    }
   ],
   "source": [
    "data.info()"
   ]
  },
  {
   "cell_type": "code",
   "execution_count": 6,
   "metadata": {},
   "outputs": [
    {
     "data": {
      "text/html": [
       "<div>\n",
       "<style scoped>\n",
       "    .dataframe tbody tr th:only-of-type {\n",
       "        vertical-align: middle;\n",
       "    }\n",
       "\n",
       "    .dataframe tbody tr th {\n",
       "        vertical-align: top;\n",
       "    }\n",
       "\n",
       "    .dataframe thead th {\n",
       "        text-align: right;\n",
       "    }\n",
       "</style>\n",
       "<table border=\"1\" class=\"dataframe\">\n",
       "  <thead>\n",
       "    <tr style=\"text-align: right;\">\n",
       "      <th></th>\n",
       "      <th>Price</th>\n",
       "      <th>RegistrationYear</th>\n",
       "      <th>Power</th>\n",
       "      <th>Kilometer</th>\n",
       "      <th>RegistrationMonth</th>\n",
       "      <th>NumberOfPictures</th>\n",
       "      <th>PostalCode</th>\n",
       "    </tr>\n",
       "  </thead>\n",
       "  <tbody>\n",
       "    <tr>\n",
       "      <th>count</th>\n",
       "      <td>354369.000000</td>\n",
       "      <td>354369.000000</td>\n",
       "      <td>354369.000000</td>\n",
       "      <td>354369.000000</td>\n",
       "      <td>354369.000000</td>\n",
       "      <td>354369.0</td>\n",
       "      <td>354369.000000</td>\n",
       "    </tr>\n",
       "    <tr>\n",
       "      <th>mean</th>\n",
       "      <td>4416.656776</td>\n",
       "      <td>2004.234448</td>\n",
       "      <td>110.094337</td>\n",
       "      <td>128211.172535</td>\n",
       "      <td>5.714645</td>\n",
       "      <td>0.0</td>\n",
       "      <td>50508.689087</td>\n",
       "    </tr>\n",
       "    <tr>\n",
       "      <th>std</th>\n",
       "      <td>4514.158514</td>\n",
       "      <td>90.227958</td>\n",
       "      <td>189.850405</td>\n",
       "      <td>37905.341530</td>\n",
       "      <td>3.726421</td>\n",
       "      <td>0.0</td>\n",
       "      <td>25783.096248</td>\n",
       "    </tr>\n",
       "    <tr>\n",
       "      <th>min</th>\n",
       "      <td>0.000000</td>\n",
       "      <td>1000.000000</td>\n",
       "      <td>0.000000</td>\n",
       "      <td>5000.000000</td>\n",
       "      <td>0.000000</td>\n",
       "      <td>0.0</td>\n",
       "      <td>1067.000000</td>\n",
       "    </tr>\n",
       "    <tr>\n",
       "      <th>25%</th>\n",
       "      <td>1050.000000</td>\n",
       "      <td>1999.000000</td>\n",
       "      <td>69.000000</td>\n",
       "      <td>125000.000000</td>\n",
       "      <td>3.000000</td>\n",
       "      <td>0.0</td>\n",
       "      <td>30165.000000</td>\n",
       "    </tr>\n",
       "    <tr>\n",
       "      <th>50%</th>\n",
       "      <td>2700.000000</td>\n",
       "      <td>2003.000000</td>\n",
       "      <td>105.000000</td>\n",
       "      <td>150000.000000</td>\n",
       "      <td>6.000000</td>\n",
       "      <td>0.0</td>\n",
       "      <td>49413.000000</td>\n",
       "    </tr>\n",
       "    <tr>\n",
       "      <th>75%</th>\n",
       "      <td>6400.000000</td>\n",
       "      <td>2008.000000</td>\n",
       "      <td>143.000000</td>\n",
       "      <td>150000.000000</td>\n",
       "      <td>9.000000</td>\n",
       "      <td>0.0</td>\n",
       "      <td>71083.000000</td>\n",
       "    </tr>\n",
       "    <tr>\n",
       "      <th>max</th>\n",
       "      <td>20000.000000</td>\n",
       "      <td>9999.000000</td>\n",
       "      <td>20000.000000</td>\n",
       "      <td>150000.000000</td>\n",
       "      <td>12.000000</td>\n",
       "      <td>0.0</td>\n",
       "      <td>99998.000000</td>\n",
       "    </tr>\n",
       "  </tbody>\n",
       "</table>\n",
       "</div>"
      ],
      "text/plain": [
       "               Price  RegistrationYear          Power      Kilometer  \\\n",
       "count  354369.000000     354369.000000  354369.000000  354369.000000   \n",
       "mean     4416.656776       2004.234448     110.094337  128211.172535   \n",
       "std      4514.158514         90.227958     189.850405   37905.341530   \n",
       "min         0.000000       1000.000000       0.000000    5000.000000   \n",
       "25%      1050.000000       1999.000000      69.000000  125000.000000   \n",
       "50%      2700.000000       2003.000000     105.000000  150000.000000   \n",
       "75%      6400.000000       2008.000000     143.000000  150000.000000   \n",
       "max     20000.000000       9999.000000   20000.000000  150000.000000   \n",
       "\n",
       "       RegistrationMonth  NumberOfPictures     PostalCode  \n",
       "count      354369.000000          354369.0  354369.000000  \n",
       "mean            5.714645               0.0   50508.689087  \n",
       "std             3.726421               0.0   25783.096248  \n",
       "min             0.000000               0.0    1067.000000  \n",
       "25%             3.000000               0.0   30165.000000  \n",
       "50%             6.000000               0.0   49413.000000  \n",
       "75%             9.000000               0.0   71083.000000  \n",
       "max            12.000000               0.0   99998.000000  "
      ]
     },
     "execution_count": 6,
     "metadata": {},
     "output_type": "execute_result"
    }
   ],
   "source": [
    "data.describe()"
   ]
  },
  {
   "cell_type": "markdown",
   "metadata": {},
   "source": [
    "<div style=\"border:solid green 2px; padding: 20px\">\n",
    "\n",
    "**Вывод:**    \n",
    "    \n",
    "Данные загружены и изучены.\n",
    "\n",
    "Набор данных находится в файле /datasets/autos.csv. \n",
    "    \n",
    "**Признаки**\n",
    "- DateCrawled — дата скачивания анкеты из базы\n",
    "- VehicleType — тип автомобильного кузова\n",
    "- RegistrationYear — год регистрации автомобиля\n",
    "- Gearbox — тип коробки передач\n",
    "- Power — мощность (л. с.)\n",
    "- Model — модель автомобиля\n",
    "- Kilometer — пробег (км)\n",
    "- RegistrationMonth — месяц регистрации автомобиля\n",
    "- FuelType — тип топлива\n",
    "- Brand — марка автомобиля\n",
    "- NotRepaired — была машина в ремонте или нет\n",
    "- DateCreated — дата создания анкеты\n",
    "- NumberOfPictures — количество фотографий автомобиля\n",
    "- PostalCode — почтовый индекс владельца анкеты (пользователя)\n",
    "- LastSeen — дата последней активности пользователя    \n",
    "\n",
    "**Целевой признак**\n",
    "    \n",
    "Price — цена (евро)    \n",
    "    \n",
    "    \n",
    "Продолжим анализ и обработку данных.    \n",
    "</div>       "
   ]
  },
  {
   "cell_type": "markdown",
   "metadata": {},
   "source": [
    "### Анализ и обработка данных"
   ]
  },
  {
   "cell_type": "markdown",
   "metadata": {},
   "source": [
    "**Анализ и обработка категориальных данных:**"
   ]
  },
  {
   "cell_type": "code",
   "execution_count": 7,
   "metadata": {},
   "outputs": [
    {
     "data": {
      "text/html": [
       "<div>\n",
       "<style scoped>\n",
       "    .dataframe tbody tr th:only-of-type {\n",
       "        vertical-align: middle;\n",
       "    }\n",
       "\n",
       "    .dataframe tbody tr th {\n",
       "        vertical-align: top;\n",
       "    }\n",
       "\n",
       "    .dataframe thead th {\n",
       "        text-align: right;\n",
       "    }\n",
       "</style>\n",
       "<table border=\"1\" class=\"dataframe\">\n",
       "  <thead>\n",
       "    <tr style=\"text-align: right;\">\n",
       "      <th></th>\n",
       "      <th>DateCrawled</th>\n",
       "      <th>VehicleType</th>\n",
       "      <th>Gearbox</th>\n",
       "      <th>Model</th>\n",
       "      <th>FuelType</th>\n",
       "      <th>Brand</th>\n",
       "      <th>NotRepaired</th>\n",
       "      <th>DateCreated</th>\n",
       "      <th>LastSeen</th>\n",
       "    </tr>\n",
       "  </thead>\n",
       "  <tbody>\n",
       "    <tr>\n",
       "      <th>count</th>\n",
       "      <td>354369</td>\n",
       "      <td>316879</td>\n",
       "      <td>334536</td>\n",
       "      <td>334664</td>\n",
       "      <td>321474</td>\n",
       "      <td>354369</td>\n",
       "      <td>283215</td>\n",
       "      <td>354369</td>\n",
       "      <td>354369</td>\n",
       "    </tr>\n",
       "    <tr>\n",
       "      <th>unique</th>\n",
       "      <td>271174</td>\n",
       "      <td>8</td>\n",
       "      <td>2</td>\n",
       "      <td>250</td>\n",
       "      <td>7</td>\n",
       "      <td>40</td>\n",
       "      <td>2</td>\n",
       "      <td>109</td>\n",
       "      <td>179150</td>\n",
       "    </tr>\n",
       "    <tr>\n",
       "      <th>top</th>\n",
       "      <td>2016-03-24 14:49:47</td>\n",
       "      <td>sedan</td>\n",
       "      <td>manual</td>\n",
       "      <td>golf</td>\n",
       "      <td>petrol</td>\n",
       "      <td>volkswagen</td>\n",
       "      <td>no</td>\n",
       "      <td>2016-04-03 00:00:00</td>\n",
       "      <td>2016-04-06 13:45:54</td>\n",
       "    </tr>\n",
       "    <tr>\n",
       "      <th>freq</th>\n",
       "      <td>7</td>\n",
       "      <td>91457</td>\n",
       "      <td>268251</td>\n",
       "      <td>29232</td>\n",
       "      <td>216352</td>\n",
       "      <td>77013</td>\n",
       "      <td>247161</td>\n",
       "      <td>13719</td>\n",
       "      <td>17</td>\n",
       "    </tr>\n",
       "  </tbody>\n",
       "</table>\n",
       "</div>"
      ],
      "text/plain": [
       "                DateCrawled VehicleType Gearbox   Model FuelType       Brand  \\\n",
       "count                354369      316879  334536  334664   321474      354369   \n",
       "unique               271174           8       2     250        7          40   \n",
       "top     2016-03-24 14:49:47       sedan  manual    golf   petrol  volkswagen   \n",
       "freq                      7       91457  268251   29232   216352       77013   \n",
       "\n",
       "       NotRepaired          DateCreated             LastSeen  \n",
       "count       283215               354369               354369  \n",
       "unique           2                  109               179150  \n",
       "top             no  2016-04-03 00:00:00  2016-04-06 13:45:54  \n",
       "freq        247161                13719                   17  "
      ]
     },
     "execution_count": 7,
     "metadata": {},
     "output_type": "execute_result"
    }
   ],
   "source": [
    "# статистика по категориальным переменным\n",
    "data.describe(include=['object'])"
   ]
  },
  {
   "cell_type": "code",
   "execution_count": 8,
   "metadata": {},
   "outputs": [
    {
     "data": {
      "text/plain": [
       "DateCrawled              0\n",
       "Price                    0\n",
       "VehicleType          37490\n",
       "RegistrationYear         0\n",
       "Gearbox              19833\n",
       "Power                    0\n",
       "Model                19705\n",
       "Kilometer                0\n",
       "RegistrationMonth        0\n",
       "FuelType             32895\n",
       "Brand                    0\n",
       "NotRepaired          71154\n",
       "DateCreated              0\n",
       "NumberOfPictures         0\n",
       "PostalCode               0\n",
       "LastSeen                 0\n",
       "dtype: int64"
      ]
     },
     "execution_count": 8,
     "metadata": {},
     "output_type": "execute_result"
    }
   ],
   "source": [
    "# проверим пропуски\n",
    "data.isna().sum()"
   ]
  },
  {
   "cell_type": "code",
   "execution_count": 9,
   "metadata": {},
   "outputs": [
    {
     "data": {
      "text/plain": [
       "4"
      ]
     },
     "execution_count": 9,
     "metadata": {},
     "output_type": "execute_result"
    }
   ],
   "source": [
    "# проверим данные на наличие дубликатов\n",
    "data.duplicated().sum()"
   ]
  },
  {
   "cell_type": "markdown",
   "metadata": {},
   "source": [
    "- Обнаружены пропуски в категориальных признаках. Есть два варианта избавиться от пропусков:\n",
    "    1. удалить\n",
    "    2. заменить на подходящее значение\n",
    "\n",
    "При удалении можем потерять до 20% данных - это очень много (есть риск искажения данных), лучше заменим их на Nan.\n",
    "- Обнаружены дубликаты - их немного, удалим."
   ]
  },
  {
   "cell_type": "code",
   "execution_count": 10,
   "metadata": {},
   "outputs": [
    {
     "data": {
      "text/plain": [
       "DateCrawled          0\n",
       "Price                0\n",
       "VehicleType          0\n",
       "RegistrationYear     0\n",
       "Gearbox              0\n",
       "Power                0\n",
       "Model                0\n",
       "Kilometer            0\n",
       "RegistrationMonth    0\n",
       "FuelType             0\n",
       "Brand                0\n",
       "NotRepaired          0\n",
       "DateCreated          0\n",
       "NumberOfPictures     0\n",
       "PostalCode           0\n",
       "LastSeen             0\n",
       "dtype: int64"
      ]
     },
     "execution_count": 10,
     "metadata": {},
     "output_type": "execute_result"
    }
   ],
   "source": [
    "# заполним пропуски в категориальных признаках\n",
    "columns_isnull = ['VehicleType', 'Gearbox', 'Model', 'FuelType', 'NotRepaired']\n",
    "data[columns_isnull] = data[columns_isnull].fillna('Nan')\n",
    "\n",
    "# проверим заполнение\n",
    "data.isnull().sum()"
   ]
  },
  {
   "cell_type": "code",
   "execution_count": 11,
   "metadata": {},
   "outputs": [
    {
     "data": {
      "text/plain": [
       "0"
      ]
     },
     "execution_count": 11,
     "metadata": {},
     "output_type": "execute_result"
    }
   ],
   "source": [
    "# удалим дубликаты\n",
    "data = data.drop_duplicates().reset_index(drop=True)\n",
    "\n",
    "# проверим удаление \n",
    "data.duplicated().sum()"
   ]
  },
  {
   "cell_type": "markdown",
   "metadata": {},
   "source": [
    "*Удалим столбцы, которые не потребуются для дальнейшего анализа:*"
   ]
  },
  {
   "cell_type": "code",
   "execution_count": 12,
   "metadata": {},
   "outputs": [],
   "source": [
    "columns_drop = ['DateCrawled', 'LastSeen', 'DateCreated', 'NumberOfPictures', 'PostalCode', 'RegistrationMonth']\n",
    "data = data.drop(columns=columns_drop, axis = 1)"
   ]
  },
  {
   "cell_type": "markdown",
   "metadata": {},
   "source": [
    "___\n",
    "**Анализ и обработка количественных данных:**"
   ]
  },
  {
   "cell_type": "code",
   "execution_count": 13,
   "metadata": {},
   "outputs": [],
   "source": [
    "# проверка аномалий в числовых признаках\n",
    "columns_numeric = ['Price', 'RegistrationYear', 'Power', 'Kilometer']\n",
    "\n",
    "def numeric(data, columns_numeric):\n",
    "    fig, axes = plt.subplots(2, 2, figsize=(12, 12))\n",
    "    for column, ax in zip(columns_numeric, axes.ravel()):\n",
    "        ax.set_title(column)\n",
    "        sns.distplot(data[column], ax=ax)\n",
    "    \n",
    "    fig, axes = plt.subplots(2, 2, figsize=(12, 12))\n",
    "    for column, ax in zip(columns_numeric, axes.ravel()):\n",
    "        ax.set_title(column)\n",
    "        sns.boxplot(data[column], ax=ax)"
   ]
  },
  {
   "cell_type": "code",
   "execution_count": 14,
   "metadata": {},
   "outputs": [
    {
     "name": "stderr",
     "output_type": "stream",
     "text": [
      "/opt/conda/lib/python3.9/site-packages/seaborn/distributions.py:2557: FutureWarning: `distplot` is a deprecated function and will be removed in a future version. Please adapt your code to use either `displot` (a figure-level function with similar flexibility) or `histplot` (an axes-level function for histograms).\n",
      "  warnings.warn(msg, FutureWarning)\n",
      "/opt/conda/lib/python3.9/site-packages/seaborn/distributions.py:2557: FutureWarning: `distplot` is a deprecated function and will be removed in a future version. Please adapt your code to use either `displot` (a figure-level function with similar flexibility) or `histplot` (an axes-level function for histograms).\n",
      "  warnings.warn(msg, FutureWarning)\n",
      "/opt/conda/lib/python3.9/site-packages/seaborn/distributions.py:2557: FutureWarning: `distplot` is a deprecated function and will be removed in a future version. Please adapt your code to use either `displot` (a figure-level function with similar flexibility) or `histplot` (an axes-level function for histograms).\n",
      "  warnings.warn(msg, FutureWarning)\n",
      "/opt/conda/lib/python3.9/site-packages/seaborn/distributions.py:2557: FutureWarning: `distplot` is a deprecated function and will be removed in a future version. Please adapt your code to use either `displot` (a figure-level function with similar flexibility) or `histplot` (an axes-level function for histograms).\n",
      "  warnings.warn(msg, FutureWarning)\n",
      "/opt/conda/lib/python3.9/site-packages/seaborn/_decorators.py:36: FutureWarning: Pass the following variable as a keyword arg: x. From version 0.12, the only valid positional argument will be `data`, and passing other arguments without an explicit keyword will result in an error or misinterpretation.\n",
      "  warnings.warn(\n",
      "/opt/conda/lib/python3.9/site-packages/seaborn/_decorators.py:36: FutureWarning: Pass the following variable as a keyword arg: x. From version 0.12, the only valid positional argument will be `data`, and passing other arguments without an explicit keyword will result in an error or misinterpretation.\n",
      "  warnings.warn(\n",
      "/opt/conda/lib/python3.9/site-packages/seaborn/_decorators.py:36: FutureWarning: Pass the following variable as a keyword arg: x. From version 0.12, the only valid positional argument will be `data`, and passing other arguments without an explicit keyword will result in an error or misinterpretation.\n",
      "  warnings.warn(\n",
      "/opt/conda/lib/python3.9/site-packages/seaborn/_decorators.py:36: FutureWarning: Pass the following variable as a keyword arg: x. From version 0.12, the only valid positional argument will be `data`, and passing other arguments without an explicit keyword will result in an error or misinterpretation.\n",
      "  warnings.warn(\n"
     ]
    },
    {
     "data": {
      "image/png": "[encoded data removed]",
      "text/plain": [
       "<Figure size 864x864 with 4 Axes>"
      ]
     },
     "metadata": {
      "needs_background": "light"
     },
     "output_type": "display_data"
    },
    {
     "data": {
      "image/png": "[encoded data removed]",
      "text/plain": [
       "<Figure size 864x864 with 4 Axes>"
      ]
     },
     "metadata": {
      "needs_background": "light"
     },
     "output_type": "display_data"
    }
   ],
   "source": [
    "numeric(data, columns_numeric)"
   ]
  },
  {
   "cell_type": "markdown",
   "metadata": {},
   "source": [
    "- Обнаружены нулевые значения в стоимости - будем их использовать в тестовой выборке. \n",
    "- Некорректные значения в дате регистрации автомобиля.\n",
    "- Некорректные значения мощности, есть аномальные выбросы.\n",
    "- Столбец 'Kilometer' имеет достаточно реальные значения.\n",
    "___________________________________________________"
   ]
  },
  {
   "cell_type": "markdown",
   "metadata": {},
   "source": [
    "`Price`\n",
    "\n",
    "В колонке стоимости автомобиля 'Price' будем считать аномальными (некорректными) значения ниже 200 евро, удалять не будем, приравняем к нулю и будем использовать в тестовой выборке."
   ]
  },
  {
   "cell_type": "code",
   "execution_count": 15,
   "metadata": {},
   "outputs": [],
   "source": [
    "# удалим аномалные значения в колонке Price\n",
    "data = data.loc[(data['Price']<=200)]"
   ]
  },
  {
   "cell_type": "markdown",
   "metadata": {},
   "source": [
    "______\n",
    "`RegistrationYear`\n",
    "\n",
    "Посмотрим также на процент данных с ошибками в 'RegistrationYear'"
   ]
  },
  {
   "cell_type": "code",
   "execution_count": 16,
   "metadata": {},
   "outputs": [
    {
     "name": "stdout",
     "output_type": "stream",
     "text": [
      "Процент данных с ошибками по годам: 0.81%\n"
     ]
    }
   ],
   "source": [
    "print(\"Процент данных с ошибками по годам: {:.2%}\".format(data\n",
    "                                                          .query('RegistrationYear<1950 or RegistrationYear>2019')\n",
    "                                                          .shape[0] / data.shape[0]))"
   ]
  },
  {
   "cell_type": "markdown",
   "metadata": {},
   "source": [
    "Установим границы, в которых может находится значение этого столбца. Если посмотреть на дату выгрузки данных, то будет видно, что мы должны ограничиваться 2016 годом. Год регистрации не может быть больше 2016, и не может быть меньше 1950. Все показания выше или ниже этих значений удалим."
   ]
  },
  {
   "cell_type": "code",
   "execution_count": 17,
   "metadata": {},
   "outputs": [],
   "source": [
    "# удалим аномальные значение в столбце RegistrationYear\n",
    "data = data.loc[(data['RegistrationYear']>1950) & (data['RegistrationYear']<2016)]"
   ]
  },
  {
   "cell_type": "markdown",
   "metadata": {},
   "source": [
    "____\n",
    "`Power`"
   ]
  },
  {
   "cell_type": "markdown",
   "metadata": {},
   "source": [
    "В 'Power' присутствуют аномальные значения (20000 лошадиных сил). Однако автомобилей с акой мощьностью не существует.\n",
    "На данный момент чемпионом считается американский карьерный самосвал Caterpillar 797F — огромная машина, мощностью 4000 лошадиных сил. Установим ограничения мощности до 4000. "
   ]
  },
  {
   "cell_type": "code",
   "execution_count": 18,
   "metadata": {},
   "outputs": [
    {
     "data": {
      "text/plain": [
       "6243"
      ]
     },
     "execution_count": 18,
     "metadata": {},
     "output_type": "execute_result"
    }
   ],
   "source": [
    "# количество автомобилей с нулевой мощностью \n",
    "data[data['Power']==0].shape[0]"
   ]
  },
  {
   "cell_type": "markdown",
   "metadata": {},
   "source": [
    "Также присутствуют автомобили с нулевым значением мощности двигателя. Установим огранияение от 60 лошадиных сил, как минимальная наиболее распроспространенная мощность (в том числе для раритетных автомобилей). "
   ]
  },
  {
   "cell_type": "code",
   "execution_count": 19,
   "metadata": {},
   "outputs": [],
   "source": [
    "# удалим аномальные значение в столбце Power\n",
    "data = data.loc[(data['Power']>60) & (data['Power']<4000)]"
   ]
  },
  {
   "cell_type": "code",
   "execution_count": 20,
   "metadata": {},
   "outputs": [
    {
     "data": {
      "text/html": [
       "<div>\n",
       "<style scoped>\n",
       "    .dataframe tbody tr th:only-of-type {\n",
       "        vertical-align: middle;\n",
       "    }\n",
       "\n",
       "    .dataframe tbody tr th {\n",
       "        vertical-align: top;\n",
       "    }\n",
       "\n",
       "    .dataframe thead th {\n",
       "        text-align: right;\n",
       "    }\n",
       "</style>\n",
       "<table border=\"1\" class=\"dataframe\">\n",
       "  <thead>\n",
       "    <tr style=\"text-align: right;\">\n",
       "      <th></th>\n",
       "      <th>Price</th>\n",
       "      <th>RegistrationYear</th>\n",
       "      <th>Power</th>\n",
       "      <th>Kilometer</th>\n",
       "    </tr>\n",
       "  </thead>\n",
       "  <tbody>\n",
       "    <tr>\n",
       "      <th>Price</th>\n",
       "      <td>1.000000</td>\n",
       "      <td>-0.162494</td>\n",
       "      <td>-0.145082</td>\n",
       "      <td>0.058822</td>\n",
       "    </tr>\n",
       "    <tr>\n",
       "      <th>RegistrationYear</th>\n",
       "      <td>-0.162494</td>\n",
       "      <td>1.000000</td>\n",
       "      <td>0.092184</td>\n",
       "      <td>-0.095311</td>\n",
       "    </tr>\n",
       "    <tr>\n",
       "      <th>Power</th>\n",
       "      <td>-0.145082</td>\n",
       "      <td>0.092184</td>\n",
       "      <td>1.000000</td>\n",
       "      <td>-0.048877</td>\n",
       "    </tr>\n",
       "    <tr>\n",
       "      <th>Kilometer</th>\n",
       "      <td>0.058822</td>\n",
       "      <td>-0.095311</td>\n",
       "      <td>-0.048877</td>\n",
       "      <td>1.000000</td>\n",
       "    </tr>\n",
       "  </tbody>\n",
       "</table>\n",
       "</div>"
      ],
      "text/plain": [
       "                     Price  RegistrationYear     Power  Kilometer\n",
       "Price             1.000000         -0.162494 -0.145082   0.058822\n",
       "RegistrationYear -0.162494          1.000000  0.092184  -0.095311\n",
       "Power            -0.145082          0.092184  1.000000  -0.048877\n",
       "Kilometer         0.058822         -0.095311 -0.048877   1.000000"
      ]
     },
     "execution_count": 20,
     "metadata": {},
     "output_type": "execute_result"
    }
   ],
   "source": [
    "data.corr()"
   ]
  },
  {
   "cell_type": "markdown",
   "metadata": {},
   "source": [
    "<div style=\"border:solid green 2px; padding: 20px\">\n",
    "    \n",
    "**Вывод:**\n",
    "    \n",
    "Представленные данные состоят из 16 признаков и 354369 объектов. Целевым признаком, в данном случае, является Price — цена (евро). Зафиксировали псевдослучайность для всех используемых в проекте алгоритмов.\n",
    "    \n",
    "    КАТЕГОРИАЛЬНЫЕ ПРИЗНАКИ:\n",
    "- Пропуски обнаружены только в категорийных признаках, поэтому заменили их на Nan.\n",
    "- Дубликаты удалили.\n",
    "- Удалили столбцы: 'DateCrawled', 'LastSeen', 'DateCreated', 'NumberOfPictures', 'PostalCode', 'RegistrationMonth' ненужные данные для дальнейшего анализа.\n",
    "\n",
    "    КОЛИЧЕСТВЕННЫЕ ПРИЗНАКИ:\n",
    "- Провели анализ аномалий количественных признаков в столбцах: Price, RegistrationYear и Power. В столбце Kilometer каких-то аномальных признаков не обнаружено.\n",
    "- Данные были очищены от выбросов.    \n",
    "    \n",
    "</div>    "
   ]
  },
  {
   "cell_type": "markdown",
   "metadata": {},
   "source": [
    "## Обучение моделей"
   ]
  },
  {
   "cell_type": "markdown",
   "metadata": {},
   "source": [
    "- Для обучения будем использовать 3 модели: CatBoost, LightGBM, Линейная регрессия.\n",
    "- Разделим исходные данные на выборки.\n",
    "- Для моделей CatBoost, LightGBM кодировать данные не будем, т.к. эти модели работают с категориальными признаками напрямую.\n",
    "- Для линейнейной регресии закодируем признаки методом OHE."
   ]
  },
  {
   "cell_type": "markdown",
   "metadata": {},
   "source": [
    "___"
   ]
  },
  {
   "cell_type": "markdown",
   "metadata": {},
   "source": [
    "data_ohe = pd.get_dummies(data, drop_first=True)\n",
    "target = data_ohe['Price']\n",
    "features = data_ohe.drop('Price', axis=1)"
   ]
  },
  {
   "cell_type": "markdown",
   "metadata": {},
   "source": [
    "data_train, data_valid = train_test_split(data_ohe, test_size=0.2, random_state=rnd_state)\n",
    "data_valid, data_test = train_test_split(data_valid , test_size=0.2, random_state=rnd_state)"
   ]
  },
  {
   "cell_type": "markdown",
   "metadata": {},
   "source": [
    "features_train = data_train.drop(columns=['Price'])\n",
    "target_train = data_train['Price']\n",
    "\n",
    "features_valid = data_valid.drop(columns=['Price'])\n",
    "target_valid = data_valid['Price']\n",
    "\n",
    "features_test = data_test.drop(columns=['Price'])\n",
    "target_test = data_test['Price']"
   ]
  },
  {
   "cell_type": "code",
   "execution_count": 21,
   "metadata": {},
   "outputs": [],
   "source": [
    "# OHE кодирование для линейной регрессии\n",
    "data_ohe = data.copy()\n",
    "data_ohe = pd.get_dummies(data_ohe, drop_first=True)\n",
    "\n",
    "# рахделим закодированные данные на выборки\n",
    "data_train, data_valid = train_test_split(data_ohe, test_size=0.4, random_state=rnd_state)\n",
    "data_valid, data_test = train_test_split(data_valid, test_size=0.5, random_state=rnd_state)"
   ]
  },
  {
   "cell_type": "code",
   "execution_count": 22,
   "metadata": {},
   "outputs": [
    {
     "name": "stdout",
     "output_type": "stream",
     "text": [
      "Размер выборок:\n",
      "(4614, 262)\n",
      "(1538, 262)\n",
      "(1538, 262)\n"
     ]
    }
   ],
   "source": [
    "features_train_1 = data_train.drop(columns=['Price'])\n",
    "target_train_1 = data_train['Price']\n",
    "\n",
    "features_valid_1 = data_valid.drop(columns=['Price'])\n",
    "target_valid_1 = data_valid['Price']\n",
    "\n",
    "features_test_1 = data_test.drop(columns=['Price'])\n",
    "target_test_1 = data_test['Price']\n",
    "\n",
    "print(\"Размер выборок:\")\n",
    "print(features_train_1.shape)\n",
    "print(features_valid_1.shape)\n",
    "print(features_test_1.shape)"
   ]
  },
  {
   "cell_type": "code",
   "execution_count": 23,
   "metadata": {},
   "outputs": [
    {
     "name": "stdout",
     "output_type": "stream",
     "text": [
      "Размер выборок:\n",
      "(4614, 9)\n",
      "(1538, 9)\n",
      "(1538, 9)\n"
     ]
    }
   ],
   "source": [
    "# разделим предобработанные данные на выборки без кодировки для CatBoost, LightGBM\n",
    "data_original = data.copy()\n",
    "\n",
    "# поменяем тип данных на category\n",
    "data_original = data_original.astype({'VehicleType':'category',\n",
    "                                      'Gearbox':'category',\n",
    "                                      'Model':'category',\n",
    "                                      'FuelType':'category',\n",
    "                                      'Brand':'category',\n",
    "                                      'NotRepaired':'category'})\n",
    "\n",
    "# вынесем категориальные признаки в отдельную переменнную\n",
    "cat = ['VehicleType','Gearbox', 'Model','FuelType', 'Brand','NotRepaired']\n",
    "\n",
    "data_train, data_valid = train_test_split(data_original, test_size=0.4, random_state=rnd_state)\n",
    "data_valid, data_test = train_test_split(data_valid, test_size=0.5, random_state=rnd_state)\n",
    "\n",
    "features_train_2 = data_train.drop(columns=['Price'])\n",
    "target_train_2 = data_train['Price']\n",
    "\n",
    "features_valid_2 = data_valid.drop(columns=['Price'])\n",
    "target_valid_2 = data_valid['Price']\n",
    "\n",
    "features_test_2 = data_test.drop(columns=['Price'])\n",
    "target_test_2 = data_test['Price']\n",
    "\n",
    "print(\"Размер выборок:\")\n",
    "print(features_train_2.shape)\n",
    "print(features_valid_2.shape)\n",
    "print(features_test_2.shape)"
   ]
  },
  {
   "cell_type": "markdown",
   "metadata": {},
   "source": [
    "Напишем функцию, которая на вход принмает модель и датасеты, возвращает время обучения, время предсказания и rmse"
   ]
  },
  {
   "cell_type": "code",
   "execution_count": 24,
   "metadata": {},
   "outputs": [],
   "source": [
    "def model_eval(model, features_train, target_train, features_test, target_test):\n",
    "    \n",
    "    start = time.time()    \n",
    "    model.fit(features_train, target_train)\n",
    "    training_time = time.time() - start\n",
    "    \n",
    "    start = time.time()  \n",
    "    target_pred = model.predict(features_test)\n",
    "    predict_time = time.time() - start\n",
    "\n",
    "    return training_time, predict_time"
   ]
  },
  {
   "cell_type": "code",
   "execution_count": 25,
   "metadata": {},
   "outputs": [
    {
     "name": "stdout",
     "output_type": "stream",
     "text": [
      "RMSE LinearRegression: 64.64363465460414\n",
      "Время обучения LinearRegression: (1.9024033546447754, 0.10844182968139648)\n"
     ]
    }
   ],
   "source": [
    "# LinearRegression\n",
    "\n",
    "model_lr = LinearRegression()\n",
    "\n",
    "start_time = time.time()\n",
    "model_lr.fit(features_train_1, target_train_1)\n",
    "\n",
    "training_time_lr = model_eval(model_lr, features_train_1, target_train_1, features_test_1, target_test_1)\n",
    "\n",
    "predict_lr = pd.DataFrame(model_lr.predict(features_valid_1))\n",
    "score_lr = mean_squared_error(target_valid_1, predict_lr) ** 0.5\n",
    "\n",
    "print(\"RMSE LinearRegression:\", score_lr)\n",
    "print(\"Время обучения LinearRegression:\", training_time_lr)"
   ]
  },
  {
   "cell_type": "code",
   "execution_count": 26,
   "metadata": {},
   "outputs": [
    {
     "name": "stdout",
     "output_type": "stream",
     "text": [
      "RMSE LGBMRegressor: 60.05639547375019\n",
      "Время обучения LGBMRegressor: (13.494638681411743, 0.10957169532775879)\n"
     ]
    }
   ],
   "source": [
    "# LGBMRegressor\n",
    "\n",
    "from collections import defaultdict\n",
    "d = defaultdict(list)\n",
    "\n",
    "lgbm_model = LGBMRegressor(num_leaves=31, learning_rate=0.05, n_estimators=200, random_state=rnd_state)\n",
    "start_time = time.time()\n",
    "lgbm_model.fit(features_train_2, target_train_2)\n",
    "\n",
    "training_time_lgbm = model_eval(lgbm_model, features_train_2, target_train_2, features_test_2, target_test_2)\n",
    "\n",
    "predict_lgbm = pd.DataFrame(lgbm_model.predict(features_valid_2))\n",
    "score_lgbm = mean_squared_error(target_valid_2, predict_lgbm) ** 0.5\n",
    "\n",
    "print(\"RMSE LGBMRegressor:\", score_lgbm)\n",
    "print(\"Время обучения LGBMRegressor:\", training_time_lgbm)"
   ]
  },
  {
   "cell_type": "code",
   "execution_count": 27,
   "metadata": {},
   "outputs": [
    {
     "name": "stdout",
     "output_type": "stream",
     "text": [
      "Learning rate set to 0.5\n",
      "0:\tlearn: 66.9792812\ttotal: 55.5ms\tremaining: 2.72s\n",
      "10:\tlearn: 61.4444531\ttotal: 116ms\tremaining: 411ms\n",
      "20:\tlearn: 60.0989642\ttotal: 173ms\tremaining: 239ms\n",
      "30:\tlearn: 58.9408386\ttotal: 233ms\tremaining: 143ms\n",
      "40:\tlearn: 57.8236478\ttotal: 294ms\tremaining: 64.6ms\n",
      "49:\tlearn: 56.8151129\ttotal: 348ms\tremaining: 0us\n",
      "Learning rate set to 0.5\n",
      "0:\tlearn: 66.9792812\ttotal: 8.12ms\tremaining: 398ms\n",
      "1:\tlearn: 64.6090910\ttotal: 14.9ms\tremaining: 357ms\n",
      "2:\tlearn: 63.5467788\ttotal: 22.1ms\tremaining: 345ms\n",
      "3:\tlearn: 63.2515175\ttotal: 29ms\tremaining: 334ms\n",
      "4:\tlearn: 62.7671187\ttotal: 36.4ms\tremaining: 328ms\n",
      "5:\tlearn: 62.4428616\ttotal: 43.9ms\tremaining: 322ms\n",
      "6:\tlearn: 62.3662715\ttotal: 47.8ms\tremaining: 294ms\n",
      "7:\tlearn: 62.0695078\ttotal: 56.6ms\tremaining: 297ms\n",
      "8:\tlearn: 61.9006730\ttotal: 64.9ms\tremaining: 296ms\n",
      "9:\tlearn: 61.5862682\ttotal: 72.6ms\tremaining: 291ms\n",
      "10:\tlearn: 61.4444531\ttotal: 80.4ms\tremaining: 285ms\n",
      "11:\tlearn: 61.3339108\ttotal: 87.9ms\tremaining: 278ms\n",
      "12:\tlearn: 61.3132344\ttotal: 91.8ms\tremaining: 261ms\n",
      "13:\tlearn: 61.0962718\ttotal: 99.5ms\tremaining: 256ms\n",
      "14:\tlearn: 60.9814545\ttotal: 108ms\tremaining: 251ms\n",
      "15:\tlearn: 60.6956557\ttotal: 114ms\tremaining: 243ms\n",
      "16:\tlearn: 60.6806250\ttotal: 120ms\tremaining: 233ms\n",
      "17:\tlearn: 60.6220027\ttotal: 126ms\tremaining: 224ms\n",
      "18:\tlearn: 60.4479653\ttotal: 132ms\tremaining: 215ms\n",
      "19:\tlearn: 60.2561700\ttotal: 138ms\tremaining: 207ms\n",
      "20:\tlearn: 60.0989642\ttotal: 144ms\tremaining: 199ms\n",
      "21:\tlearn: 59.9565747\ttotal: 150ms\tremaining: 191ms\n",
      "22:\tlearn: 59.9400543\ttotal: 156ms\tremaining: 183ms\n",
      "23:\tlearn: 59.7771325\ttotal: 161ms\tremaining: 175ms\n",
      "24:\tlearn: 59.5774327\ttotal: 168ms\tremaining: 168ms\n",
      "25:\tlearn: 59.2664040\ttotal: 175ms\tremaining: 161ms\n",
      "26:\tlearn: 59.1763447\ttotal: 181ms\tremaining: 154ms\n",
      "27:\tlearn: 59.1727126\ttotal: 186ms\tremaining: 146ms\n",
      "28:\tlearn: 59.1256630\ttotal: 193ms\tremaining: 140ms\n",
      "29:\tlearn: 58.9571919\ttotal: 199ms\tremaining: 133ms\n",
      "30:\tlearn: 58.9408386\ttotal: 205ms\tremaining: 125ms\n",
      "31:\tlearn: 58.7160131\ttotal: 211ms\tremaining: 119ms\n",
      "32:\tlearn: 58.6519445\ttotal: 216ms\tremaining: 111ms\n",
      "33:\tlearn: 58.5398038\ttotal: 223ms\tremaining: 105ms\n",
      "34:\tlearn: 58.3527038\ttotal: 229ms\tremaining: 98ms\n",
      "35:\tlearn: 58.1124566\ttotal: 235ms\tremaining: 91.3ms\n",
      "36:\tlearn: 58.1070443\ttotal: 241ms\tremaining: 84.6ms\n",
      "37:\tlearn: 57.9487286\ttotal: 247ms\tremaining: 78ms\n",
      "38:\tlearn: 57.8647471\ttotal: 253ms\tremaining: 71.3ms\n",
      "39:\tlearn: 57.8426559\ttotal: 259ms\tremaining: 64.9ms\n",
      "40:\tlearn: 57.8236478\ttotal: 266ms\tremaining: 58.4ms\n",
      "41:\tlearn: 57.5653651\ttotal: 272ms\tremaining: 51.8ms\n",
      "42:\tlearn: 57.5561107\ttotal: 278ms\tremaining: 45.2ms\n",
      "43:\tlearn: 57.4732763\ttotal: 284ms\tremaining: 38.7ms\n",
      "44:\tlearn: 57.2377944\ttotal: 290ms\tremaining: 32.2ms\n",
      "45:\tlearn: 57.1455979\ttotal: 296ms\tremaining: 25.8ms\n",
      "46:\tlearn: 57.0427240\ttotal: 302ms\tremaining: 19.3ms\n",
      "47:\tlearn: 56.8488066\ttotal: 308ms\tremaining: 12.8ms\n",
      "48:\tlearn: 56.8230761\ttotal: 314ms\tremaining: 6.41ms\n",
      "49:\tlearn: 56.8151129\ttotal: 320ms\tremaining: 0us\n",
      "RMSE CatBoostRegressor: 61.033513635807616\n",
      "Время обучения CatBoostRegressor: (1.4236631393432617, 0.003799915313720703)\n"
     ]
    }
   ],
   "source": [
    "# CatBoostRegressor\n",
    "\n",
    "cat_model = CatBoostRegressor(loss_function=\"RMSE\", iterations=50, random_state=rnd_state, cat_features=cat)\n",
    "start_time = time.time()\n",
    "\n",
    "cat_model.fit(features_train_2, target_train_2, verbose=10)\n",
    "\n",
    "training_time_cat = model_eval(cat_model, features_train_2, target_train_2, features_test_2, target_test_2)\n",
    "\n",
    "predict_cat = cat_model.predict(features_valid_2)\n",
    "score_cat = mean_squared_error(target_valid_2, predict_cat) ** 0.5\n",
    "\n",
    "print(\"RMSE CatBoostRegressor:\", score_cat)\n",
    "print(\"Время обучения CatBoostRegressor:\", training_time_cat)"
   ]
  },
  {
   "cell_type": "markdown",
   "metadata": {},
   "source": [
    "**Вывод:**\n",
    "- Применили для категориальных признаков метод OHE\n",
    "- Рассмотрели три алгоритма классификации: CatBoostRegressor, LGBMRegressor, LinearRegression\n",
    "- Модель \"CatBoostRegressor\" наиболее подходящая для решения дальнейшей задачи"
   ]
  },
  {
   "cell_type": "markdown",
   "metadata": {},
   "source": [
    "## Анализ моделей"
   ]
  },
  {
   "cell_type": "code",
   "execution_count": 28,
   "metadata": {},
   "outputs": [
    {
     "data": {
      "text/plain": [
       "LinearRegression     (1.9024033546447754, 0.10844182968139648)\n",
       "LightGBM             (13.494638681411743, 0.10957169532775879)\n",
       "CatBoost            (1.4236631393432617, 0.003799915313720703)\n",
       "dtype: object"
      ]
     },
     "execution_count": 28,
     "metadata": {},
     "output_type": "execute_result"
    }
   ],
   "source": [
    "data_time = pd.Series({'LinearRegression': training_time_lr,\n",
    "                           'LightGBM': training_time_lgbm,\n",
    "                           'CatBoost': training_time_cat}) \n",
    "\n",
    "data_time"
   ]
  },
  {
   "cell_type": "code",
   "execution_count": 29,
   "metadata": {},
   "outputs": [
    {
     "data": {
      "text/plain": [
       "LinearRegression    64.643635\n",
       "LightGBM            60.056395\n",
       "CatBoost            61.033514\n",
       "dtype: float64"
      ]
     },
     "execution_count": 29,
     "metadata": {},
     "output_type": "execute_result"
    }
   ],
   "source": [
    "data_score = pd.Series({'LinearRegression': score_lr,\n",
    "                           'LightGBM': score_lgbm,\n",
    "                           'CatBoost': score_cat}) \n",
    "\n",
    "data_score"
   ]
  },
  {
   "cell_type": "markdown",
   "metadata": {},
   "source": [
    "Проверим выбранную модель \"CatBoostRegressor\" на тестовой выборке:"
   ]
  },
  {
   "cell_type": "code",
   "execution_count": 30,
   "metadata": {},
   "outputs": [
    {
     "name": "stdout",
     "output_type": "stream",
     "text": [
      "Learning rate set to 0.5\n",
      "0:\tlearn: 66.9792812\ttotal: 7.99ms\tremaining: 392ms\n",
      "10:\tlearn: 61.4444531\ttotal: 66.9ms\tremaining: 237ms\n",
      "20:\tlearn: 60.0989642\ttotal: 124ms\tremaining: 171ms\n",
      "30:\tlearn: 58.9408386\ttotal: 185ms\tremaining: 113ms\n",
      "40:\tlearn: 57.8236478\ttotal: 245ms\tremaining: 53.8ms\n",
      "49:\tlearn: 56.8151129\ttotal: 299ms\tremaining: 0us\n",
      "Learning rate set to 0.5\n",
      "0:\tlearn: 66.9792812\ttotal: 8.36ms\tremaining: 410ms\n",
      "1:\tlearn: 64.6090910\ttotal: 15.2ms\tremaining: 364ms\n",
      "2:\tlearn: 63.5467788\ttotal: 21.9ms\tremaining: 343ms\n",
      "3:\tlearn: 63.2515175\ttotal: 28.3ms\tremaining: 326ms\n",
      "4:\tlearn: 62.7671187\ttotal: 34.4ms\tremaining: 310ms\n",
      "5:\tlearn: 62.4428616\ttotal: 40.5ms\tremaining: 297ms\n",
      "6:\tlearn: 62.3662715\ttotal: 43.7ms\tremaining: 268ms\n",
      "7:\tlearn: 62.0695078\ttotal: 49.6ms\tremaining: 261ms\n",
      "8:\tlearn: 61.9006730\ttotal: 55.6ms\tremaining: 253ms\n",
      "9:\tlearn: 61.5862682\ttotal: 61.7ms\tremaining: 247ms\n",
      "10:\tlearn: 61.4444531\ttotal: 67.8ms\tremaining: 241ms\n",
      "11:\tlearn: 61.3339108\ttotal: 73.7ms\tremaining: 233ms\n",
      "12:\tlearn: 61.3132344\ttotal: 77.1ms\tremaining: 220ms\n",
      "13:\tlearn: 61.0962718\ttotal: 83.7ms\tremaining: 215ms\n",
      "14:\tlearn: 60.9814545\ttotal: 90.3ms\tremaining: 211ms\n",
      "15:\tlearn: 60.6956557\ttotal: 97ms\tremaining: 206ms\n",
      "16:\tlearn: 60.6806250\ttotal: 103ms\tremaining: 201ms\n",
      "17:\tlearn: 60.6220027\ttotal: 109ms\tremaining: 194ms\n",
      "18:\tlearn: 60.4479653\ttotal: 115ms\tremaining: 188ms\n",
      "19:\tlearn: 60.2561700\ttotal: 122ms\tremaining: 183ms\n",
      "20:\tlearn: 60.0989642\ttotal: 128ms\tremaining: 177ms\n",
      "21:\tlearn: 59.9565747\ttotal: 134ms\tremaining: 171ms\n",
      "22:\tlearn: 59.9400543\ttotal: 140ms\tremaining: 164ms\n",
      "23:\tlearn: 59.7771325\ttotal: 146ms\tremaining: 158ms\n",
      "24:\tlearn: 59.5774327\ttotal: 152ms\tremaining: 152ms\n",
      "25:\tlearn: 59.2664040\ttotal: 158ms\tremaining: 146ms\n",
      "26:\tlearn: 59.1763447\ttotal: 164ms\tremaining: 140ms\n",
      "27:\tlearn: 59.1727126\ttotal: 171ms\tremaining: 134ms\n",
      "28:\tlearn: 59.1256630\ttotal: 177ms\tremaining: 128ms\n",
      "29:\tlearn: 58.9571919\ttotal: 183ms\tremaining: 122ms\n",
      "30:\tlearn: 58.9408386\ttotal: 188ms\tremaining: 115ms\n",
      "31:\tlearn: 58.7160131\ttotal: 194ms\tremaining: 109ms\n",
      "32:\tlearn: 58.6519445\ttotal: 200ms\tremaining: 103ms\n",
      "33:\tlearn: 58.5398038\ttotal: 206ms\tremaining: 96.8ms\n",
      "34:\tlearn: 58.3527038\ttotal: 212ms\tremaining: 90.7ms\n",
      "35:\tlearn: 58.1124566\ttotal: 217ms\tremaining: 84.6ms\n",
      "36:\tlearn: 58.1070443\ttotal: 223ms\tremaining: 78.4ms\n",
      "37:\tlearn: 57.9487286\ttotal: 229ms\tremaining: 72.2ms\n",
      "38:\tlearn: 57.8647471\ttotal: 234ms\tremaining: 66.1ms\n",
      "39:\tlearn: 57.8426559\ttotal: 240ms\tremaining: 60ms\n",
      "40:\tlearn: 57.8236478\ttotal: 246ms\tremaining: 54ms\n",
      "41:\tlearn: 57.5653651\ttotal: 252ms\tremaining: 48.1ms\n",
      "42:\tlearn: 57.5561107\ttotal: 259ms\tremaining: 42.1ms\n",
      "43:\tlearn: 57.4732763\ttotal: 265ms\tremaining: 36.1ms\n",
      "44:\tlearn: 57.2377944\ttotal: 271ms\tremaining: 30.1ms\n",
      "45:\tlearn: 57.1455979\ttotal: 277ms\tremaining: 24.1ms\n",
      "46:\tlearn: 57.0427240\ttotal: 283ms\tremaining: 18ms\n",
      "47:\tlearn: 56.8488066\ttotal: 289ms\tremaining: 12ms\n",
      "48:\tlearn: 56.8230761\ttotal: 294ms\tremaining: 6ms\n",
      "49:\tlearn: 56.8151129\ttotal: 300ms\tremaining: 0us\n",
      "RMSE CatBoostRegressor: 59.2441375563275\n",
      "Время обучения CatBoostRegressor: (1.308267593383789, 0.01024317741394043)\n"
     ]
    }
   ],
   "source": [
    "features_test_2 = data_original.drop('Price', axis=1)\n",
    "target_test_2 = data_original['Price']\n",
    "\n",
    "cat_model = CatBoostRegressor(loss_function=\"RMSE\", iterations=50, random_state=rnd_state, cat_features=cat)\n",
    "start_time = time.time()\n",
    "\n",
    "cat_model.fit(features_train_2, target_train_2, cat_features=cat, verbose=10)\n",
    "\n",
    "training_time_cat = model_eval(cat_model, features_train_2, target_train_2, features_test_2, target_test_2)\n",
    "\n",
    "predict_cat = cat_model.predict(features_test_2)\n",
    "score_cat = mean_squared_error(target_test_2, predict_cat ) ** 0.5\n",
    "\n",
    "print(\"RMSE CatBoostRegressor:\", score_cat)\n",
    "print(\"Время обучения CatBoostRegressor:\", training_time_cat)"
   ]
  },
  {
   "cell_type": "markdown",
   "metadata": {},
   "source": [
    "<div style=\"border:solid green 2px; padding: 20px\">\n",
    "    \n",
    "**Вывод:**\n",
    "\n",
    "Рассмотрели три модели для определения стоимости: CatBoostRegressor, LGBMRegressor, LinearRegression по параметрам:\n",
    "\n",
    "- качество предсказания;\n",
    "- скорость предсказания;\n",
    "- время обучения.\n",
    "\n",
    "Наиболее подходящей является модель CatBoostRegressor, она показала лучшие результаты по этим параметрам.\n",
    "</div> "
   ]
  }
 ],
 "metadata": {
  "ExecuteTimeLog": [
   {
    "duration": 1214,
    "start_time": "2022-04-25T08:32:08.055Z"
   },
   {
    "duration": 783,
    "start_time": "2022-04-25T08:32:09.271Z"
   },
   {
    "duration": 826,
    "start_time": "2022-04-25T08:32:38.445Z"
   },
   {
    "duration": 876,
    "start_time": "2022-04-25T08:33:18.130Z"
   },
   {
    "duration": 840,
    "start_time": "2022-04-25T08:33:26.487Z"
   },
   {
    "duration": 863,
    "start_time": "2022-04-25T08:33:39.305Z"
   },
   {
    "duration": 989,
    "start_time": "2022-04-25T08:34:01.415Z"
   },
   {
    "duration": 183,
    "start_time": "2022-04-25T08:34:15.871Z"
   },
   {
    "duration": 168,
    "start_time": "2022-04-25T08:34:26.103Z"
   },
   {
    "duration": 163,
    "start_time": "2022-04-25T08:35:15.588Z"
   },
   {
    "duration": 156,
    "start_time": "2022-04-25T08:35:33.924Z"
   },
   {
    "duration": 155,
    "start_time": "2022-04-25T08:35:40.526Z"
   },
   {
    "duration": 1266,
    "start_time": "2022-04-25T08:35:47.871Z"
   },
   {
    "duration": 155,
    "start_time": "2022-04-25T08:35:49.139Z"
   },
   {
    "duration": 154,
    "start_time": "2022-04-25T08:43:01.303Z"
   },
   {
    "duration": 147,
    "start_time": "2022-04-25T08:43:45.596Z"
   },
   {
    "duration": 887,
    "start_time": "2022-04-25T08:43:58.197Z"
   },
   {
    "duration": 1059,
    "start_time": "2022-04-25T08:54:11.742Z"
   },
   {
    "duration": 452,
    "start_time": "2022-04-25T08:55:44.875Z"
   },
   {
    "duration": 127,
    "start_time": "2022-04-25T08:57:27.698Z"
   },
   {
    "duration": 89,
    "start_time": "2022-04-25T08:57:59.059Z"
   },
   {
    "duration": 123,
    "start_time": "2022-04-25T08:58:21.694Z"
   },
   {
    "duration": 47,
    "start_time": "2022-04-25T11:06:09.355Z"
   },
   {
    "duration": 1108,
    "start_time": "2022-04-25T11:06:23.737Z"
   },
   {
    "duration": 1218,
    "start_time": "2022-04-25T11:06:24.847Z"
   },
   {
    "duration": 163,
    "start_time": "2022-04-25T11:06:26.066Z"
   },
   {
    "duration": 411,
    "start_time": "2022-04-25T11:06:26.231Z"
   },
   {
    "duration": 1589,
    "start_time": "2022-04-25T11:07:56.186Z"
   },
   {
    "duration": 1547,
    "start_time": "2022-04-25T11:08:17.375Z"
   },
   {
    "duration": 132,
    "start_time": "2022-04-25T11:08:28.255Z"
   },
   {
    "duration": 224,
    "start_time": "2022-04-25T11:08:44.165Z"
   },
   {
    "duration": 709,
    "start_time": "2022-04-25T11:13:46.972Z"
   },
   {
    "duration": 886,
    "start_time": "2022-04-25T11:16:06.275Z"
   },
   {
    "duration": 795,
    "start_time": "2022-04-25T11:16:36.061Z"
   },
   {
    "duration": 3,
    "start_time": "2022-04-25T11:17:04.522Z"
   },
   {
    "duration": 678,
    "start_time": "2022-04-25T11:17:19.733Z"
   },
   {
    "duration": 122,
    "start_time": "2022-04-25T11:17:46.624Z"
   },
   {
    "duration": 694,
    "start_time": "2022-04-25T11:18:04.075Z"
   },
   {
    "duration": 14,
    "start_time": "2022-04-25T11:18:22.793Z"
   },
   {
    "duration": 644,
    "start_time": "2022-04-25T11:18:27.283Z"
   },
   {
    "duration": 4,
    "start_time": "2022-04-25T11:33:52.430Z"
   },
   {
    "duration": 5989,
    "start_time": "2022-04-25T11:34:13.390Z"
   },
   {
    "duration": 381,
    "start_time": "2022-04-25T12:06:14.774Z"
   },
   {
    "duration": 351,
    "start_time": "2022-04-25T12:10:18.034Z"
   },
   {
    "duration": 369,
    "start_time": "2022-04-25T12:10:33.373Z"
   },
   {
    "duration": 211,
    "start_time": "2022-04-25T12:18:22.513Z"
   },
   {
    "duration": 771,
    "start_time": "2022-04-25T12:19:33.870Z"
   },
   {
    "duration": 6,
    "start_time": "2022-04-25T12:52:44.082Z"
   },
   {
    "duration": 2012,
    "start_time": "2022-04-25T12:58:47.948Z"
   },
   {
    "duration": 12,
    "start_time": "2022-04-25T12:58:59.126Z"
   },
   {
    "duration": 9,
    "start_time": "2022-04-25T12:59:06.556Z"
   },
   {
    "duration": 1809,
    "start_time": "2022-04-25T12:59:16.241Z"
   },
   {
    "duration": 772,
    "start_time": "2022-04-25T12:59:18.052Z"
   },
   {
    "duration": 18,
    "start_time": "2022-04-25T12:59:18.826Z"
   },
   {
    "duration": 4,
    "start_time": "2022-04-25T12:59:18.846Z"
   },
   {
    "duration": 160,
    "start_time": "2022-04-25T12:59:18.852Z"
   },
   {
    "duration": 172,
    "start_time": "2022-04-25T12:59:19.015Z"
   },
   {
    "duration": 198,
    "start_time": "2022-04-25T12:59:19.189Z"
   },
   {
    "duration": 580,
    "start_time": "2022-04-25T12:59:19.388Z"
   },
   {
    "duration": 4,
    "start_time": "2022-04-25T12:59:19.970Z"
   },
   {
    "duration": 7211,
    "start_time": "2022-04-25T12:59:19.977Z"
   },
   {
    "duration": 259,
    "start_time": "2022-04-25T12:59:27.190Z"
   },
   {
    "duration": 1034,
    "start_time": "2022-04-25T12:59:27.452Z"
   },
   {
    "duration": 15,
    "start_time": "2022-04-25T12:59:28.488Z"
   },
   {
    "duration": 10,
    "start_time": "2022-04-25T12:59:28.504Z"
   },
   {
    "duration": 10,
    "start_time": "2022-04-25T12:59:38.297Z"
   },
   {
    "duration": 2262,
    "start_time": "2022-04-25T12:59:49.190Z"
   },
   {
    "duration": 747,
    "start_time": "2022-04-25T12:59:51.454Z"
   },
   {
    "duration": 16,
    "start_time": "2022-04-25T12:59:52.202Z"
   },
   {
    "duration": 7,
    "start_time": "2022-04-25T12:59:52.221Z"
   },
   {
    "duration": 230,
    "start_time": "2022-04-25T12:59:52.230Z"
   },
   {
    "duration": 138,
    "start_time": "2022-04-25T12:59:52.463Z"
   },
   {
    "duration": 231,
    "start_time": "2022-04-25T12:59:52.603Z"
   },
   {
    "duration": 811,
    "start_time": "2022-04-25T12:59:52.836Z"
   },
   {
    "duration": 6,
    "start_time": "2022-04-25T12:59:53.649Z"
   },
   {
    "duration": 6237,
    "start_time": "2022-04-25T12:59:53.658Z"
   },
   {
    "duration": 224,
    "start_time": "2022-04-25T12:59:59.900Z"
   },
   {
    "duration": 881,
    "start_time": "2022-04-25T13:00:00.125Z"
   },
   {
    "duration": 6,
    "start_time": "2022-04-25T13:00:01.008Z"
   },
   {
    "duration": 35,
    "start_time": "2022-04-25T13:00:01.016Z"
   },
   {
    "duration": 8,
    "start_time": "2022-04-25T13:00:33.938Z"
   },
   {
    "duration": 43,
    "start_time": "2022-04-25T13:01:48.968Z"
   },
   {
    "duration": 16,
    "start_time": "2022-04-25T13:02:39.575Z"
   },
   {
    "duration": 37,
    "start_time": "2022-04-25T13:03:51.113Z"
   },
   {
    "duration": 131,
    "start_time": "2022-04-25T13:24:23.342Z"
   },
   {
    "duration": 1889,
    "start_time": "2022-04-25T13:24:51.270Z"
   },
   {
    "duration": 857,
    "start_time": "2022-04-25T13:24:53.161Z"
   },
   {
    "duration": 19,
    "start_time": "2022-04-25T13:24:54.022Z"
   },
   {
    "duration": 4,
    "start_time": "2022-04-25T13:24:54.044Z"
   },
   {
    "duration": 162,
    "start_time": "2022-04-25T13:24:54.049Z"
   },
   {
    "duration": 88,
    "start_time": "2022-04-25T13:24:54.215Z"
   },
   {
    "duration": 158,
    "start_time": "2022-04-25T13:24:54.305Z"
   },
   {
    "duration": 464,
    "start_time": "2022-04-25T13:24:54.465Z"
   },
   {
    "duration": 5,
    "start_time": "2022-04-25T13:24:54.934Z"
   },
   {
    "duration": 7814,
    "start_time": "2022-04-25T13:24:54.941Z"
   },
   {
    "duration": 419,
    "start_time": "2022-04-25T13:25:02.758Z"
   },
   {
    "duration": 1034,
    "start_time": "2022-04-25T13:25:03.179Z"
   },
   {
    "duration": 130,
    "start_time": "2022-04-25T13:25:04.215Z"
   },
   {
    "duration": 1,
    "start_time": "2022-04-25T13:25:04.346Z"
   },
   {
    "duration": 0,
    "start_time": "2022-04-25T13:25:04.348Z"
   },
   {
    "duration": 0,
    "start_time": "2022-04-25T13:25:04.350Z"
   },
   {
    "duration": 0,
    "start_time": "2022-04-25T13:25:04.351Z"
   },
   {
    "duration": 0,
    "start_time": "2022-04-25T13:25:04.352Z"
   },
   {
    "duration": 13,
    "start_time": "2022-04-25T13:25:08.876Z"
   },
   {
    "duration": 24,
    "start_time": "2022-04-25T13:25:11.811Z"
   },
   {
    "duration": 27,
    "start_time": "2022-04-25T13:25:26.124Z"
   },
   {
    "duration": 16,
    "start_time": "2022-04-25T13:25:34.041Z"
   },
   {
    "duration": 13,
    "start_time": "2022-04-25T13:25:36.469Z"
   },
   {
    "duration": 1803,
    "start_time": "2022-04-25T13:25:46.854Z"
   },
   {
    "duration": 802,
    "start_time": "2022-04-25T13:25:48.659Z"
   },
   {
    "duration": 15,
    "start_time": "2022-04-25T13:25:49.462Z"
   },
   {
    "duration": 3,
    "start_time": "2022-04-25T13:25:49.478Z"
   },
   {
    "duration": 179,
    "start_time": "2022-04-25T13:25:49.483Z"
   },
   {
    "duration": 97,
    "start_time": "2022-04-25T13:25:49.664Z"
   },
   {
    "duration": 152,
    "start_time": "2022-04-25T13:25:49.763Z"
   },
   {
    "duration": 464,
    "start_time": "2022-04-25T13:25:49.916Z"
   },
   {
    "duration": 6,
    "start_time": "2022-04-25T13:25:50.381Z"
   },
   {
    "duration": 7092,
    "start_time": "2022-04-25T13:25:50.388Z"
   },
   {
    "duration": 266,
    "start_time": "2022-04-25T13:25:57.482Z"
   },
   {
    "duration": 962,
    "start_time": "2022-04-25T13:25:57.750Z"
   },
   {
    "duration": 28,
    "start_time": "2022-04-25T13:25:58.715Z"
   },
   {
    "duration": 6,
    "start_time": "2022-04-25T13:25:58.745Z"
   },
   {
    "duration": 8,
    "start_time": "2022-04-25T13:25:58.753Z"
   },
   {
    "duration": 45,
    "start_time": "2022-04-25T13:25:58.763Z"
   },
   {
    "duration": 14,
    "start_time": "2022-04-25T13:25:58.811Z"
   },
   {
    "duration": 30,
    "start_time": "2022-04-25T13:25:58.827Z"
   },
   {
    "duration": 137,
    "start_time": "2022-04-25T13:33:58.017Z"
   },
   {
    "duration": 19,
    "start_time": "2022-04-25T13:34:14.125Z"
   },
   {
    "duration": 1918,
    "start_time": "2022-04-25T13:34:21.026Z"
   },
   {
    "duration": 845,
    "start_time": "2022-04-25T13:34:22.946Z"
   },
   {
    "duration": 28,
    "start_time": "2022-04-25T13:34:23.793Z"
   },
   {
    "duration": 22,
    "start_time": "2022-04-25T13:34:23.824Z"
   },
   {
    "duration": 184,
    "start_time": "2022-04-25T13:34:23.848Z"
   },
   {
    "duration": 89,
    "start_time": "2022-04-25T13:34:24.034Z"
   },
   {
    "duration": 141,
    "start_time": "2022-04-25T13:34:24.130Z"
   },
   {
    "duration": 503,
    "start_time": "2022-04-25T13:34:24.272Z"
   },
   {
    "duration": 4,
    "start_time": "2022-04-25T13:34:24.776Z"
   },
   {
    "duration": 6977,
    "start_time": "2022-04-25T13:34:24.782Z"
   },
   {
    "duration": 252,
    "start_time": "2022-04-25T13:34:31.761Z"
   },
   {
    "duration": 1330,
    "start_time": "2022-04-25T13:34:32.015Z"
   },
   {
    "duration": 31,
    "start_time": "2022-04-25T13:34:33.347Z"
   },
   {
    "duration": 21,
    "start_time": "2022-04-25T13:34:33.382Z"
   },
   {
    "duration": 12,
    "start_time": "2022-04-25T13:34:33.411Z"
   },
   {
    "duration": 37,
    "start_time": "2022-04-25T13:34:33.428Z"
   },
   {
    "duration": 11,
    "start_time": "2022-04-25T13:34:33.467Z"
   },
   {
    "duration": 27,
    "start_time": "2022-04-25T13:34:33.479Z"
   },
   {
    "duration": 164,
    "start_time": "2022-04-25T13:36:02.878Z"
   },
   {
    "duration": 260,
    "start_time": "2022-04-25T13:36:48.116Z"
   },
   {
    "duration": 359,
    "start_time": "2022-04-25T13:37:09.955Z"
   },
   {
    "duration": 135,
    "start_time": "2022-04-25T13:37:31.123Z"
   },
   {
    "duration": 1732,
    "start_time": "2022-04-25T13:37:45.365Z"
   },
   {
    "duration": 811,
    "start_time": "2022-04-25T13:37:47.098Z"
   },
   {
    "duration": 15,
    "start_time": "2022-04-25T13:37:47.911Z"
   },
   {
    "duration": 20,
    "start_time": "2022-04-25T13:37:47.928Z"
   },
   {
    "duration": 151,
    "start_time": "2022-04-25T13:37:47.949Z"
   },
   {
    "duration": 120,
    "start_time": "2022-04-25T13:37:48.104Z"
   },
   {
    "duration": 128,
    "start_time": "2022-04-25T13:37:48.226Z"
   },
   {
    "duration": 444,
    "start_time": "2022-04-25T13:37:48.356Z"
   },
   {
    "duration": 237,
    "start_time": "2022-04-25T13:37:48.813Z"
   },
   {
    "duration": 939,
    "start_time": "2022-04-25T13:37:49.052Z"
   },
   {
    "duration": 35,
    "start_time": "2022-04-25T13:37:49.992Z"
   },
   {
    "duration": 4,
    "start_time": "2022-04-25T13:37:50.028Z"
   },
   {
    "duration": 6352,
    "start_time": "2022-04-25T13:37:50.034Z"
   },
   {
    "duration": 15,
    "start_time": "2022-04-25T13:37:56.388Z"
   },
   {
    "duration": 10,
    "start_time": "2022-04-25T13:37:56.405Z"
   },
   {
    "duration": 26,
    "start_time": "2022-04-25T13:37:56.417Z"
   },
   {
    "duration": 11,
    "start_time": "2022-04-25T13:37:56.444Z"
   },
   {
    "duration": 20,
    "start_time": "2022-04-25T13:37:56.456Z"
   },
   {
    "duration": 44,
    "start_time": "2022-04-26T07:32:58.845Z"
   },
   {
    "duration": 1842,
    "start_time": "2022-04-26T07:33:06.310Z"
   },
   {
    "duration": 1088,
    "start_time": "2022-04-26T07:33:08.154Z"
   },
   {
    "duration": 17,
    "start_time": "2022-04-26T07:33:09.243Z"
   },
   {
    "duration": 4,
    "start_time": "2022-04-26T07:33:09.262Z"
   },
   {
    "duration": 143,
    "start_time": "2022-04-26T07:33:09.267Z"
   },
   {
    "duration": 99,
    "start_time": "2022-04-26T07:33:09.411Z"
   },
   {
    "duration": 816,
    "start_time": "2022-04-26T07:33:09.512Z"
   },
   {
    "duration": 126,
    "start_time": "2022-04-26T07:33:10.329Z"
   },
   {
    "duration": 430,
    "start_time": "2022-04-26T07:33:10.456Z"
   },
   {
    "duration": 220,
    "start_time": "2022-04-26T07:33:10.888Z"
   },
   {
    "duration": 903,
    "start_time": "2022-04-26T07:33:11.110Z"
   },
   {
    "duration": 28,
    "start_time": "2022-04-26T07:33:12.015Z"
   },
   {
    "duration": 12,
    "start_time": "2022-04-26T07:33:12.045Z"
   },
   {
    "duration": 6110,
    "start_time": "2022-04-26T07:33:12.059Z"
   },
   {
    "duration": 6,
    "start_time": "2022-04-26T07:33:18.171Z"
   },
   {
    "duration": 14,
    "start_time": "2022-04-26T07:33:18.179Z"
   },
   {
    "duration": 33,
    "start_time": "2022-04-26T07:33:18.194Z"
   },
   {
    "duration": 126,
    "start_time": "2022-04-26T07:33:18.229Z"
   },
   {
    "duration": 0,
    "start_time": "2022-04-26T07:33:18.357Z"
   },
   {
    "duration": 0,
    "start_time": "2022-04-26T07:33:18.358Z"
   },
   {
    "duration": 2584,
    "start_time": "2022-04-26T07:36:05.923Z"
   },
   {
    "duration": 14,
    "start_time": "2022-04-26T07:36:39.677Z"
   },
   {
    "duration": 15,
    "start_time": "2022-04-26T07:50:08.179Z"
   },
   {
    "duration": 27,
    "start_time": "2022-04-26T07:50:48.073Z"
   },
   {
    "duration": 38,
    "start_time": "2022-04-26T08:22:26.862Z"
   },
   {
    "duration": 2103,
    "start_time": "2022-04-26T12:31:50.670Z"
   },
   {
    "duration": 1018,
    "start_time": "2022-04-26T12:31:52.775Z"
   },
   {
    "duration": 20,
    "start_time": "2022-04-26T12:31:53.795Z"
   },
   {
    "duration": 5,
    "start_time": "2022-04-26T12:31:53.817Z"
   },
   {
    "duration": 175,
    "start_time": "2022-04-26T12:31:53.824Z"
   },
   {
    "duration": 117,
    "start_time": "2022-04-26T12:31:54.002Z"
   },
   {
    "duration": 957,
    "start_time": "2022-04-26T12:31:54.121Z"
   },
   {
    "duration": 145,
    "start_time": "2022-04-26T12:31:55.080Z"
   },
   {
    "duration": 478,
    "start_time": "2022-04-26T12:31:55.240Z"
   },
   {
    "duration": 258,
    "start_time": "2022-04-26T12:31:55.720Z"
   },
   {
    "duration": 986,
    "start_time": "2022-04-26T12:31:55.980Z"
   },
   {
    "duration": 27,
    "start_time": "2022-04-26T12:31:56.967Z"
   },
   {
    "duration": 5,
    "start_time": "2022-04-26T12:31:56.995Z"
   },
   {
    "duration": 7497,
    "start_time": "2022-04-26T12:31:57.002Z"
   },
   {
    "duration": 7,
    "start_time": "2022-04-26T12:32:04.500Z"
   },
   {
    "duration": 28,
    "start_time": "2022-04-26T12:32:04.509Z"
   },
   {
    "duration": 37,
    "start_time": "2022-04-26T12:32:04.539Z"
   },
   {
    "duration": 14,
    "start_time": "2022-04-26T12:32:04.579Z"
   },
   {
    "duration": 55,
    "start_time": "2022-04-26T12:32:04.594Z"
   },
   {
    "duration": 48,
    "start_time": "2022-04-26T12:32:04.651Z"
   },
   {
    "duration": 770,
    "start_time": "2022-04-26T12:41:39.206Z"
   },
   {
    "duration": 298,
    "start_time": "2022-04-26T12:41:44.217Z"
   },
   {
    "duration": 98,
    "start_time": "2022-04-26T12:42:11.588Z"
   },
   {
    "duration": 4,
    "start_time": "2022-04-26T12:45:47.820Z"
   },
   {
    "duration": 1909,
    "start_time": "2022-04-26T12:48:03.653Z"
   },
   {
    "duration": 1284,
    "start_time": "2022-04-26T12:48:05.564Z"
   },
   {
    "duration": 30,
    "start_time": "2022-04-26T12:48:06.850Z"
   },
   {
    "duration": 4,
    "start_time": "2022-04-26T12:48:06.883Z"
   },
   {
    "duration": 177,
    "start_time": "2022-04-26T12:48:06.890Z"
   },
   {
    "duration": 170,
    "start_time": "2022-04-26T12:48:07.069Z"
   },
   {
    "duration": 1068,
    "start_time": "2022-04-26T12:48:07.242Z"
   },
   {
    "duration": 153,
    "start_time": "2022-04-26T12:48:08.312Z"
   },
   {
    "duration": 522,
    "start_time": "2022-04-26T12:48:08.467Z"
   },
   {
    "duration": 278,
    "start_time": "2022-04-26T12:48:08.990Z"
   },
   {
    "duration": 1040,
    "start_time": "2022-04-26T12:48:09.270Z"
   },
   {
    "duration": 38,
    "start_time": "2022-04-26T12:48:10.311Z"
   },
   {
    "duration": 5,
    "start_time": "2022-04-26T12:48:10.351Z"
   },
   {
    "duration": 7270,
    "start_time": "2022-04-26T12:48:10.359Z"
   },
   {
    "duration": 15,
    "start_time": "2022-04-26T12:48:17.631Z"
   },
   {
    "duration": 24,
    "start_time": "2022-04-26T12:48:17.648Z"
   },
   {
    "duration": 32,
    "start_time": "2022-04-26T12:48:17.674Z"
   },
   {
    "duration": 29,
    "start_time": "2022-04-26T12:48:17.708Z"
   },
   {
    "duration": 26,
    "start_time": "2022-04-26T12:48:17.738Z"
   },
   {
    "duration": 41,
    "start_time": "2022-04-26T12:48:17.765Z"
   },
   {
    "duration": 853,
    "start_time": "2022-04-26T12:48:17.808Z"
   },
   {
    "duration": 306,
    "start_time": "2022-04-26T12:48:18.663Z"
   },
   {
    "duration": 108,
    "start_time": "2022-04-26T12:48:18.971Z"
   },
   {
    "duration": 6,
    "start_time": "2022-04-26T12:48:19.080Z"
   },
   {
    "duration": 73547,
    "start_time": "2022-04-26T12:48:19.087Z"
   },
   {
    "duration": 51437,
    "start_time": "2022-04-26T12:51:12.018Z"
   },
   {
    "duration": 40415,
    "start_time": "2022-04-26T12:53:54.035Z"
   },
   {
    "duration": 221,
    "start_time": "2022-04-26T12:58:02.589Z"
   },
   {
    "duration": 1821,
    "start_time": "2022-04-26T12:58:41.574Z"
   },
   {
    "duration": 979,
    "start_time": "2022-04-26T12:58:43.397Z"
   },
   {
    "duration": 17,
    "start_time": "2022-04-26T12:58:44.378Z"
   },
   {
    "duration": 3,
    "start_time": "2022-04-26T12:58:44.397Z"
   },
   {
    "duration": 152,
    "start_time": "2022-04-26T12:58:44.403Z"
   },
   {
    "duration": 109,
    "start_time": "2022-04-26T12:58:44.557Z"
   },
   {
    "duration": 901,
    "start_time": "2022-04-26T12:58:44.668Z"
   },
   {
    "duration": 130,
    "start_time": "2022-04-26T12:58:45.571Z"
   },
   {
    "duration": 476,
    "start_time": "2022-04-26T12:58:45.703Z"
   },
   {
    "duration": 226,
    "start_time": "2022-04-26T12:58:46.180Z"
   },
   {
    "duration": 972,
    "start_time": "2022-04-26T12:58:46.408Z"
   },
   {
    "duration": 29,
    "start_time": "2022-04-26T12:58:47.382Z"
   },
   {
    "duration": 4,
    "start_time": "2022-04-26T12:58:47.413Z"
   },
   {
    "duration": 6706,
    "start_time": "2022-04-26T12:58:47.434Z"
   },
   {
    "duration": 7,
    "start_time": "2022-04-26T12:58:54.142Z"
   },
   {
    "duration": 20,
    "start_time": "2022-04-26T12:58:54.150Z"
   },
   {
    "duration": 29,
    "start_time": "2022-04-26T12:58:54.172Z"
   },
   {
    "duration": 33,
    "start_time": "2022-04-26T12:58:54.203Z"
   },
   {
    "duration": 22,
    "start_time": "2022-04-26T12:58:54.238Z"
   },
   {
    "duration": 37,
    "start_time": "2022-04-26T12:58:54.262Z"
   },
   {
    "duration": 792,
    "start_time": "2022-04-26T12:58:54.301Z"
   },
   {
    "duration": 282,
    "start_time": "2022-04-26T12:58:55.095Z"
   },
   {
    "duration": 103,
    "start_time": "2022-04-26T12:58:55.379Z"
   },
   {
    "duration": 4,
    "start_time": "2022-04-26T12:58:55.483Z"
   },
   {
    "duration": 42346,
    "start_time": "2022-04-26T12:58:55.488Z"
   },
   {
    "duration": 26806,
    "start_time": "2022-04-26T12:59:37.837Z"
   },
   {
    "duration": 25114,
    "start_time": "2022-04-26T13:00:04.645Z"
   },
   {
    "duration": 226,
    "start_time": "2022-04-26T13:00:29.761Z"
   },
   {
    "duration": 98,
    "start_time": "2022-04-26T13:02:35.246Z"
   },
   {
    "duration": 275,
    "start_time": "2022-04-26T13:21:10.750Z"
   },
   {
    "duration": 1800,
    "start_time": "2022-04-26T13:28:03.733Z"
   },
   {
    "duration": 929,
    "start_time": "2022-04-26T13:28:05.535Z"
   },
   {
    "duration": 19,
    "start_time": "2022-04-26T13:28:06.466Z"
   },
   {
    "duration": 3,
    "start_time": "2022-04-26T13:28:06.487Z"
   },
   {
    "duration": 173,
    "start_time": "2022-04-26T13:28:06.492Z"
   },
   {
    "duration": 167,
    "start_time": "2022-04-26T13:28:06.666Z"
   },
   {
    "duration": 939,
    "start_time": "2022-04-26T13:28:06.835Z"
   },
   {
    "duration": 128,
    "start_time": "2022-04-26T13:28:07.776Z"
   },
   {
    "duration": 501,
    "start_time": "2022-04-26T13:28:07.906Z"
   },
   {
    "duration": 247,
    "start_time": "2022-04-26T13:28:08.410Z"
   },
   {
    "duration": 1033,
    "start_time": "2022-04-26T13:28:08.658Z"
   },
   {
    "duration": 29,
    "start_time": "2022-04-26T13:28:09.693Z"
   },
   {
    "duration": 4,
    "start_time": "2022-04-26T13:28:09.734Z"
   },
   {
    "duration": 6683,
    "start_time": "2022-04-26T13:28:09.740Z"
   },
   {
    "duration": 12,
    "start_time": "2022-04-26T13:28:16.425Z"
   },
   {
    "duration": 13,
    "start_time": "2022-04-26T13:28:16.439Z"
   },
   {
    "duration": 30,
    "start_time": "2022-04-26T13:28:16.453Z"
   },
   {
    "duration": 12,
    "start_time": "2022-04-26T13:28:16.484Z"
   },
   {
    "duration": 48,
    "start_time": "2022-04-26T13:28:16.497Z"
   },
   {
    "duration": 37,
    "start_time": "2022-04-26T13:28:16.547Z"
   },
   {
    "duration": 728,
    "start_time": "2022-04-26T13:28:16.586Z"
   },
   {
    "duration": 283,
    "start_time": "2022-04-26T13:28:17.316Z"
   },
   {
    "duration": 108,
    "start_time": "2022-04-26T13:28:17.601Z"
   },
   {
    "duration": 4,
    "start_time": "2022-04-26T13:28:17.712Z"
   },
   {
    "duration": 46017,
    "start_time": "2022-04-26T13:28:17.718Z"
   },
   {
    "duration": 38005,
    "start_time": "2022-04-26T13:29:03.738Z"
   },
   {
    "duration": 322,
    "start_time": "2022-04-26T13:29:41.745Z"
   },
   {
    "duration": 26986,
    "start_time": "2022-04-26T13:29:42.069Z"
   },
   {
    "duration": 240,
    "start_time": "2022-04-26T13:30:09.057Z"
   },
   {
    "duration": 7,
    "start_time": "2022-04-26T13:38:56.579Z"
   },
   {
    "duration": 7,
    "start_time": "2022-04-26T13:39:23.613Z"
   },
   {
    "duration": 26926,
    "start_time": "2022-04-26T13:40:24.820Z"
   },
   {
    "duration": 2118,
    "start_time": "2022-04-26T14:00:41.139Z"
   },
   {
    "duration": 879,
    "start_time": "2022-04-26T14:00:43.259Z"
   },
   {
    "duration": 18,
    "start_time": "2022-04-26T14:00:44.140Z"
   },
   {
    "duration": 3,
    "start_time": "2022-04-26T14:00:44.160Z"
   },
   {
    "duration": 147,
    "start_time": "2022-04-26T14:00:44.164Z"
   },
   {
    "duration": 108,
    "start_time": "2022-04-26T14:00:44.313Z"
   },
   {
    "duration": 895,
    "start_time": "2022-04-26T14:00:44.422Z"
   },
   {
    "duration": 127,
    "start_time": "2022-04-26T14:00:45.318Z"
   },
   {
    "duration": 488,
    "start_time": "2022-04-26T14:00:45.447Z"
   },
   {
    "duration": 233,
    "start_time": "2022-04-26T14:00:45.938Z"
   },
   {
    "duration": 957,
    "start_time": "2022-04-26T14:00:46.172Z"
   },
   {
    "duration": 30,
    "start_time": "2022-04-26T14:00:47.132Z"
   },
   {
    "duration": 4,
    "start_time": "2022-04-26T14:00:47.164Z"
   },
   {
    "duration": 6791,
    "start_time": "2022-04-26T14:00:47.170Z"
   },
   {
    "duration": 6,
    "start_time": "2022-04-26T14:00:53.963Z"
   },
   {
    "duration": 19,
    "start_time": "2022-04-26T14:00:53.971Z"
   },
   {
    "duration": 41,
    "start_time": "2022-04-26T14:00:53.992Z"
   },
   {
    "duration": 11,
    "start_time": "2022-04-26T14:00:54.035Z"
   },
   {
    "duration": 26,
    "start_time": "2022-04-26T14:00:54.048Z"
   },
   {
    "duration": 36,
    "start_time": "2022-04-26T14:00:54.076Z"
   },
   {
    "duration": 776,
    "start_time": "2022-04-26T14:00:54.113Z"
   },
   {
    "duration": 285,
    "start_time": "2022-04-26T14:00:54.891Z"
   },
   {
    "duration": 109,
    "start_time": "2022-04-26T14:00:55.177Z"
   },
   {
    "duration": 3,
    "start_time": "2022-04-26T14:00:55.288Z"
   },
   {
    "duration": 49640,
    "start_time": "2022-04-26T14:00:55.293Z"
   },
   {
    "duration": 38003,
    "start_time": "2022-04-26T14:01:44.937Z"
   },
   {
    "duration": 35506,
    "start_time": "2022-04-26T14:02:22.942Z"
   },
   {
    "duration": 9,
    "start_time": "2022-04-26T14:02:58.453Z"
   },
   {
    "duration": 14,
    "start_time": "2022-04-26T14:02:58.464Z"
   },
   {
    "duration": 29343,
    "start_time": "2022-04-26T14:02:58.480Z"
   },
   {
    "duration": 1780,
    "start_time": "2022-04-26T14:06:23.722Z"
   },
   {
    "duration": 881,
    "start_time": "2022-04-26T14:06:25.504Z"
   },
   {
    "duration": 19,
    "start_time": "2022-04-26T14:06:26.387Z"
   },
   {
    "duration": 3,
    "start_time": "2022-04-26T14:06:26.408Z"
   },
   {
    "duration": 164,
    "start_time": "2022-04-26T14:06:26.413Z"
   },
   {
    "duration": 111,
    "start_time": "2022-04-26T14:06:26.578Z"
   },
   {
    "duration": 900,
    "start_time": "2022-04-26T14:06:26.691Z"
   },
   {
    "duration": 133,
    "start_time": "2022-04-26T14:06:27.593Z"
   },
   {
    "duration": 480,
    "start_time": "2022-04-26T14:06:27.728Z"
   },
   {
    "duration": 243,
    "start_time": "2022-04-26T14:06:28.211Z"
   },
   {
    "duration": 1009,
    "start_time": "2022-04-26T14:06:28.455Z"
   },
   {
    "duration": 30,
    "start_time": "2022-04-26T14:06:29.466Z"
   },
   {
    "duration": 4,
    "start_time": "2022-04-26T14:06:29.498Z"
   },
   {
    "duration": 6748,
    "start_time": "2022-04-26T14:06:29.504Z"
   },
   {
    "duration": 7,
    "start_time": "2022-04-26T14:06:36.254Z"
   },
   {
    "duration": 11,
    "start_time": "2022-04-26T14:06:36.262Z"
   },
   {
    "duration": 27,
    "start_time": "2022-04-26T14:06:36.275Z"
   },
   {
    "duration": 37,
    "start_time": "2022-04-26T14:06:36.304Z"
   },
   {
    "duration": 22,
    "start_time": "2022-04-26T14:06:36.342Z"
   },
   {
    "duration": 37,
    "start_time": "2022-04-26T14:06:36.366Z"
   },
   {
    "duration": 766,
    "start_time": "2022-04-26T14:06:36.404Z"
   },
   {
    "duration": 294,
    "start_time": "2022-04-26T14:06:37.172Z"
   },
   {
    "duration": 106,
    "start_time": "2022-04-26T14:06:37.468Z"
   },
   {
    "duration": 3,
    "start_time": "2022-04-26T14:06:37.576Z"
   },
   {
    "duration": 41054,
    "start_time": "2022-04-26T14:06:37.581Z"
   },
   {
    "duration": 26707,
    "start_time": "2022-04-26T14:07:18.638Z"
   },
   {
    "duration": 24912,
    "start_time": "2022-04-26T14:07:45.347Z"
   },
   {
    "duration": 6,
    "start_time": "2022-04-26T14:08:10.262Z"
   },
   {
    "duration": 19,
    "start_time": "2022-04-26T14:08:10.270Z"
   },
   {
    "duration": 25619,
    "start_time": "2022-04-26T14:08:10.290Z"
   },
   {
    "duration": 1930,
    "start_time": "2022-04-27T10:27:19.346Z"
   },
   {
    "duration": 851,
    "start_time": "2022-04-27T10:27:21.279Z"
   },
   {
    "duration": 18,
    "start_time": "2022-04-27T10:27:22.132Z"
   },
   {
    "duration": 7,
    "start_time": "2022-04-27T10:27:22.152Z"
   },
   {
    "duration": 160,
    "start_time": "2022-04-27T10:27:22.161Z"
   },
   {
    "duration": 108,
    "start_time": "2022-04-27T10:27:22.323Z"
   },
   {
    "duration": 914,
    "start_time": "2022-04-27T10:27:22.433Z"
   },
   {
    "duration": 134,
    "start_time": "2022-04-27T10:27:23.349Z"
   },
   {
    "duration": 482,
    "start_time": "2022-04-27T10:27:23.485Z"
   },
   {
    "duration": 237,
    "start_time": "2022-04-27T10:27:23.969Z"
   },
   {
    "duration": 994,
    "start_time": "2022-04-27T10:27:24.208Z"
   },
   {
    "duration": 30,
    "start_time": "2022-04-27T10:27:25.203Z"
   },
   {
    "duration": 5,
    "start_time": "2022-04-27T10:27:25.235Z"
   },
   {
    "duration": 6726,
    "start_time": "2022-04-27T10:27:25.243Z"
   },
   {
    "duration": 6,
    "start_time": "2022-04-27T10:27:31.971Z"
   },
   {
    "duration": 12,
    "start_time": "2022-04-27T10:27:31.978Z"
   },
   {
    "duration": 41,
    "start_time": "2022-04-27T10:27:31.992Z"
   },
   {
    "duration": 12,
    "start_time": "2022-04-27T10:27:32.034Z"
   },
   {
    "duration": 22,
    "start_time": "2022-04-27T10:27:32.048Z"
   },
   {
    "duration": 75,
    "start_time": "2022-04-27T10:27:32.072Z"
   },
   {
    "duration": 757,
    "start_time": "2022-04-27T10:27:32.149Z"
   },
   {
    "duration": 295,
    "start_time": "2022-04-27T10:27:32.908Z"
   },
   {
    "duration": 106,
    "start_time": "2022-04-27T10:27:33.205Z"
   },
   {
    "duration": 4,
    "start_time": "2022-04-27T10:27:33.313Z"
   },
   {
    "duration": 46391,
    "start_time": "2022-04-27T10:27:33.319Z"
   },
   {
    "duration": 23205,
    "start_time": "2022-04-27T10:28:19.712Z"
   },
   {
    "duration": 23824,
    "start_time": "2022-04-27T10:28:42.919Z"
   },
   {
    "duration": 7,
    "start_time": "2022-04-27T10:29:06.745Z"
   },
   {
    "duration": 10,
    "start_time": "2022-04-27T10:29:06.754Z"
   },
   {
    "duration": 25607,
    "start_time": "2022-04-27T10:29:06.766Z"
   },
   {
    "duration": 11,
    "start_time": "2022-04-27T10:52:51.257Z"
   },
   {
    "duration": 70,
    "start_time": "2022-04-27T12:55:51.543Z"
   },
   {
    "duration": 2237,
    "start_time": "2022-04-27T12:56:08.076Z"
   },
   {
    "duration": 1056,
    "start_time": "2022-04-27T12:56:10.315Z"
   },
   {
    "duration": 17,
    "start_time": "2022-04-27T12:56:11.373Z"
   },
   {
    "duration": 8,
    "start_time": "2022-04-27T12:56:11.405Z"
   },
   {
    "duration": 258,
    "start_time": "2022-04-27T12:56:11.414Z"
   },
   {
    "duration": 95,
    "start_time": "2022-04-27T12:56:11.674Z"
   },
   {
    "duration": 1410,
    "start_time": "2022-04-27T12:56:11.771Z"
   },
   {
    "duration": 194,
    "start_time": "2022-04-27T12:56:13.182Z"
   },
   {
    "duration": 600,
    "start_time": "2022-04-27T12:56:13.378Z"
   },
   {
    "duration": 375,
    "start_time": "2022-04-27T12:56:13.981Z"
   },
   {
    "duration": 1153,
    "start_time": "2022-04-27T12:56:14.360Z"
   },
   {
    "duration": 38,
    "start_time": "2022-04-27T12:56:15.515Z"
   },
   {
    "duration": 21,
    "start_time": "2022-04-27T12:56:15.555Z"
   },
   {
    "duration": 8356,
    "start_time": "2022-04-27T12:56:15.578Z"
   },
   {
    "duration": 10,
    "start_time": "2022-04-27T12:56:23.937Z"
   },
   {
    "duration": 25,
    "start_time": "2022-04-27T12:56:23.949Z"
   },
   {
    "duration": 34,
    "start_time": "2022-04-27T12:56:23.976Z"
   },
   {
    "duration": 12,
    "start_time": "2022-04-27T12:56:24.011Z"
   },
   {
    "duration": 50,
    "start_time": "2022-04-27T12:56:24.028Z"
   },
   {
    "duration": 36,
    "start_time": "2022-04-27T12:56:24.079Z"
   },
   {
    "duration": 655,
    "start_time": "2022-04-27T12:56:24.125Z"
   },
   {
    "duration": 305,
    "start_time": "2022-04-27T12:56:24.781Z"
   },
   {
    "duration": 89,
    "start_time": "2022-04-27T12:56:25.088Z"
   },
   {
    "duration": 4,
    "start_time": "2022-04-27T12:56:25.178Z"
   },
   {
    "duration": 52,
    "start_time": "2022-04-27T12:56:25.201Z"
   },
   {
    "duration": 166461,
    "start_time": "2022-04-27T12:56:25.255Z"
   },
   {
    "duration": 179219,
    "start_time": "2022-04-27T12:59:11.724Z"
   },
   {
    "duration": 96491,
    "start_time": "2022-04-27T13:02:10.959Z"
   },
   {
    "duration": 7,
    "start_time": "2022-04-27T13:03:47.452Z"
   },
   {
    "duration": 12,
    "start_time": "2022-04-27T13:03:47.461Z"
   },
   {
    "duration": 103999,
    "start_time": "2022-04-27T13:03:47.475Z"
   },
   {
    "duration": 8,
    "start_time": "2022-04-27T13:05:31.481Z"
   },
   {
    "duration": 236,
    "start_time": "2022-04-27T13:29:45.899Z"
   },
   {
    "duration": 29,
    "start_time": "2022-04-27T13:30:29.729Z"
   },
   {
    "duration": 2080,
    "start_time": "2022-04-27T13:30:38.100Z"
   },
   {
    "duration": 974,
    "start_time": "2022-04-27T13:30:40.181Z"
   },
   {
    "duration": 16,
    "start_time": "2022-04-27T13:30:41.161Z"
   },
   {
    "duration": 3,
    "start_time": "2022-04-27T13:30:41.179Z"
   },
   {
    "duration": 211,
    "start_time": "2022-04-27T13:30:41.185Z"
   },
   {
    "duration": 92,
    "start_time": "2022-04-27T13:30:41.397Z"
   },
   {
    "duration": 1043,
    "start_time": "2022-04-27T13:30:41.491Z"
   },
   {
    "duration": 180,
    "start_time": "2022-04-27T13:30:42.535Z"
   },
   {
    "duration": 621,
    "start_time": "2022-04-27T13:30:42.716Z"
   },
   {
    "duration": 353,
    "start_time": "2022-04-27T13:30:43.341Z"
   },
   {
    "duration": 1388,
    "start_time": "2022-04-27T13:30:43.696Z"
   },
   {
    "duration": 48,
    "start_time": "2022-04-27T13:30:45.086Z"
   },
   {
    "duration": 10,
    "start_time": "2022-04-27T13:30:45.141Z"
   },
   {
    "duration": 8309,
    "start_time": "2022-04-27T13:30:45.160Z"
   },
   {
    "duration": 59,
    "start_time": "2022-04-27T13:30:53.471Z"
   },
   {
    "duration": 12,
    "start_time": "2022-04-27T13:30:53.535Z"
   },
   {
    "duration": 52,
    "start_time": "2022-04-27T13:30:53.550Z"
   },
   {
    "duration": 19,
    "start_time": "2022-04-27T13:30:53.604Z"
   },
   {
    "duration": 63,
    "start_time": "2022-04-27T13:30:53.625Z"
   },
   {
    "duration": 98,
    "start_time": "2022-04-27T13:30:53.690Z"
   },
   {
    "duration": 618,
    "start_time": "2022-04-27T13:30:53.790Z"
   },
   {
    "duration": 321,
    "start_time": "2022-04-27T13:30:54.410Z"
   },
   {
    "duration": 79,
    "start_time": "2022-04-27T13:30:54.732Z"
   },
   {
    "duration": 8,
    "start_time": "2022-04-27T13:30:54.813Z"
   },
   {
    "duration": 47,
    "start_time": "2022-04-27T13:30:54.822Z"
   },
   {
    "duration": 1946,
    "start_time": "2022-04-27T13:31:43.275Z"
   },
   {
    "duration": 957,
    "start_time": "2022-04-27T13:31:45.226Z"
   },
   {
    "duration": 46,
    "start_time": "2022-04-27T13:31:46.185Z"
   },
   {
    "duration": 10,
    "start_time": "2022-04-27T13:31:46.233Z"
   },
   {
    "duration": 200,
    "start_time": "2022-04-27T13:31:46.246Z"
   },
   {
    "duration": 113,
    "start_time": "2022-04-27T13:31:46.448Z"
   },
   {
    "duration": 1087,
    "start_time": "2022-04-27T13:31:46.564Z"
   },
   {
    "duration": 173,
    "start_time": "2022-04-27T13:31:47.657Z"
   },
   {
    "duration": 575,
    "start_time": "2022-04-27T13:31:47.832Z"
   },
   {
    "duration": 303,
    "start_time": "2022-04-27T13:31:48.415Z"
   },
   {
    "duration": 1173,
    "start_time": "2022-04-27T13:31:48.720Z"
   },
   {
    "duration": 34,
    "start_time": "2022-04-27T13:31:49.894Z"
   },
   {
    "duration": 37,
    "start_time": "2022-04-27T13:31:49.930Z"
   },
   {
    "duration": 8583,
    "start_time": "2022-04-27T13:31:49.969Z"
   },
   {
    "duration": 13,
    "start_time": "2022-04-27T13:31:58.563Z"
   },
   {
    "duration": 7,
    "start_time": "2022-04-27T13:31:58.578Z"
   },
   {
    "duration": 9,
    "start_time": "2022-04-27T13:31:58.587Z"
   },
   {
    "duration": 37,
    "start_time": "2022-04-27T13:31:58.598Z"
   },
   {
    "duration": 20,
    "start_time": "2022-04-27T13:31:58.636Z"
   },
   {
    "duration": 14,
    "start_time": "2022-04-27T13:31:58.657Z"
   },
   {
    "duration": 20,
    "start_time": "2022-04-27T13:31:58.672Z"
   },
   {
    "duration": 15,
    "start_time": "2022-04-27T13:31:58.693Z"
   },
   {
    "duration": 57,
    "start_time": "2022-04-27T13:31:58.709Z"
   },
   {
    "duration": 6,
    "start_time": "2022-04-27T13:31:58.768Z"
   },
   {
    "duration": 6,
    "start_time": "2022-04-27T13:31:58.775Z"
   },
   {
    "duration": 22972,
    "start_time": "2022-04-27T13:31:58.782Z"
   },
   {
    "duration": 89486,
    "start_time": "2022-04-27T13:32:21.760Z"
   },
   {
    "duration": 11402,
    "start_time": "2022-04-27T13:33:51.255Z"
   },
   {
    "duration": 9,
    "start_time": "2022-04-27T13:34:02.706Z"
   },
   {
    "duration": 53,
    "start_time": "2022-04-27T13:34:02.716Z"
   },
   {
    "duration": 10880,
    "start_time": "2022-04-27T13:34:02.770Z"
   },
   {
    "duration": 5,
    "start_time": "2022-04-27T13:34:13.662Z"
   },
   {
    "duration": 167,
    "start_time": "2022-04-27T13:36:51.267Z"
   },
   {
    "duration": 4,
    "start_time": "2022-04-27T13:36:57.044Z"
   },
   {
    "duration": 4,
    "start_time": "2022-04-27T13:37:14.561Z"
   },
   {
    "duration": 2096,
    "start_time": "2022-04-27T13:37:22.454Z"
   },
   {
    "duration": 997,
    "start_time": "2022-04-27T13:37:24.555Z"
   },
   {
    "duration": 18,
    "start_time": "2022-04-27T13:37:25.554Z"
   },
   {
    "duration": 16,
    "start_time": "2022-04-27T13:37:25.574Z"
   },
   {
    "duration": 239,
    "start_time": "2022-04-27T13:37:25.592Z"
   },
   {
    "duration": 103,
    "start_time": "2022-04-27T13:37:25.833Z"
   },
   {
    "duration": 1058,
    "start_time": "2022-04-27T13:37:25.939Z"
   },
   {
    "duration": 184,
    "start_time": "2022-04-27T13:37:26.999Z"
   },
   {
    "duration": 541,
    "start_time": "2022-04-27T13:37:27.185Z"
   },
   {
    "duration": 292,
    "start_time": "2022-04-27T13:37:27.729Z"
   },
   {
    "duration": 1084,
    "start_time": "2022-04-27T13:37:28.023Z"
   },
   {
    "duration": 36,
    "start_time": "2022-04-27T13:37:29.109Z"
   },
   {
    "duration": 23,
    "start_time": "2022-04-27T13:37:29.147Z"
   },
   {
    "duration": 8963,
    "start_time": "2022-04-27T13:37:29.173Z"
   },
   {
    "duration": 17,
    "start_time": "2022-04-27T13:37:38.138Z"
   },
   {
    "duration": 17,
    "start_time": "2022-04-27T13:37:38.158Z"
   },
   {
    "duration": 4,
    "start_time": "2022-04-27T13:37:38.177Z"
   },
   {
    "duration": 5,
    "start_time": "2022-04-27T13:37:38.182Z"
   },
   {
    "duration": 13,
    "start_time": "2022-04-27T13:37:38.189Z"
   },
   {
    "duration": 18,
    "start_time": "2022-04-27T13:37:38.203Z"
   },
   {
    "duration": 44,
    "start_time": "2022-04-27T13:37:38.226Z"
   },
   {
    "duration": 19,
    "start_time": "2022-04-27T13:37:38.272Z"
   },
   {
    "duration": 14,
    "start_time": "2022-04-27T13:37:38.293Z"
   },
   {
    "duration": 56,
    "start_time": "2022-04-27T13:37:38.313Z"
   },
   {
    "duration": 4,
    "start_time": "2022-04-27T13:37:38.370Z"
   },
   {
    "duration": 8,
    "start_time": "2022-04-27T13:37:38.376Z"
   },
   {
    "duration": 18556,
    "start_time": "2022-04-27T13:37:38.386Z"
   },
   {
    "duration": 2031,
    "start_time": "2022-04-27T13:39:09.683Z"
   },
   {
    "duration": 1014,
    "start_time": "2022-04-27T13:39:11.717Z"
   },
   {
    "duration": 29,
    "start_time": "2022-04-27T13:39:12.735Z"
   },
   {
    "duration": 4,
    "start_time": "2022-04-27T13:39:12.768Z"
   },
   {
    "duration": 209,
    "start_time": "2022-04-27T13:39:12.774Z"
   },
   {
    "duration": 99,
    "start_time": "2022-04-27T13:39:12.985Z"
   },
   {
    "duration": 1193,
    "start_time": "2022-04-27T13:39:13.085Z"
   },
   {
    "duration": 194,
    "start_time": "2022-04-27T13:39:14.280Z"
   },
   {
    "duration": 554,
    "start_time": "2022-04-27T13:39:14.475Z"
   },
   {
    "duration": 298,
    "start_time": "2022-04-27T13:39:15.033Z"
   },
   {
    "duration": 1080,
    "start_time": "2022-04-27T13:39:15.333Z"
   },
   {
    "duration": 39,
    "start_time": "2022-04-27T13:39:16.414Z"
   },
   {
    "duration": 15,
    "start_time": "2022-04-27T13:39:16.455Z"
   },
   {
    "duration": 8580,
    "start_time": "2022-04-27T13:39:16.471Z"
   },
   {
    "duration": 14,
    "start_time": "2022-04-27T13:39:25.053Z"
   },
   {
    "duration": 9,
    "start_time": "2022-04-27T13:39:25.069Z"
   },
   {
    "duration": 9,
    "start_time": "2022-04-27T13:39:25.079Z"
   },
   {
    "duration": 14,
    "start_time": "2022-04-27T13:39:25.090Z"
   },
   {
    "duration": 61,
    "start_time": "2022-04-27T13:39:25.105Z"
   },
   {
    "duration": 10,
    "start_time": "2022-04-27T13:39:25.168Z"
   },
   {
    "duration": 11,
    "start_time": "2022-04-27T13:39:25.180Z"
   },
   {
    "duration": 36,
    "start_time": "2022-04-27T13:39:25.193Z"
   },
   {
    "duration": 43,
    "start_time": "2022-04-27T13:39:25.230Z"
   },
   {
    "duration": 12,
    "start_time": "2022-04-27T13:39:25.274Z"
   },
   {
    "duration": 4,
    "start_time": "2022-04-27T13:39:25.288Z"
   },
   {
    "duration": 4,
    "start_time": "2022-04-27T13:39:25.294Z"
   },
   {
    "duration": 24669,
    "start_time": "2022-04-27T13:39:25.302Z"
   },
   {
    "duration": 2238,
    "start_time": "2022-04-27T13:40:52.677Z"
   },
   {
    "duration": 969,
    "start_time": "2022-04-27T13:40:54.917Z"
   },
   {
    "duration": 28,
    "start_time": "2022-04-27T13:40:55.887Z"
   },
   {
    "duration": 56,
    "start_time": "2022-04-27T13:40:55.919Z"
   },
   {
    "duration": 198,
    "start_time": "2022-04-27T13:40:55.976Z"
   },
   {
    "duration": 94,
    "start_time": "2022-04-27T13:40:56.175Z"
   },
   {
    "duration": 1100,
    "start_time": "2022-04-27T13:40:56.270Z"
   },
   {
    "duration": 207,
    "start_time": "2022-04-27T13:40:57.372Z"
   },
   {
    "duration": 571,
    "start_time": "2022-04-27T13:40:57.581Z"
   },
   {
    "duration": 353,
    "start_time": "2022-04-27T13:40:58.160Z"
   },
   {
    "duration": 1233,
    "start_time": "2022-04-27T13:40:58.514Z"
   },
   {
    "duration": 33,
    "start_time": "2022-04-27T13:40:59.754Z"
   },
   {
    "duration": 4,
    "start_time": "2022-04-27T13:40:59.789Z"
   },
   {
    "duration": 8278,
    "start_time": "2022-04-27T13:40:59.794Z"
   },
   {
    "duration": 11,
    "start_time": "2022-04-27T13:41:08.073Z"
   },
   {
    "duration": 22,
    "start_time": "2022-04-27T13:41:08.086Z"
   },
   {
    "duration": 22,
    "start_time": "2022-04-27T13:41:08.110Z"
   },
   {
    "duration": 27,
    "start_time": "2022-04-27T13:41:08.134Z"
   },
   {
    "duration": 12,
    "start_time": "2022-04-27T13:41:08.163Z"
   },
   {
    "duration": 5,
    "start_time": "2022-04-27T13:41:08.176Z"
   },
   {
    "duration": 11,
    "start_time": "2022-04-27T13:41:08.182Z"
   },
   {
    "duration": 35,
    "start_time": "2022-04-27T13:41:08.194Z"
   },
   {
    "duration": 31,
    "start_time": "2022-04-27T13:41:08.234Z"
   },
   {
    "duration": 6,
    "start_time": "2022-04-27T13:41:08.267Z"
   },
   {
    "duration": 4,
    "start_time": "2022-04-27T13:41:08.275Z"
   },
   {
    "duration": 6,
    "start_time": "2022-04-27T13:41:08.280Z"
   },
   {
    "duration": 19960,
    "start_time": "2022-04-27T13:41:08.287Z"
   },
   {
    "duration": 2032,
    "start_time": "2022-04-27T13:41:39.551Z"
   },
   {
    "duration": 963,
    "start_time": "2022-04-27T13:41:41.585Z"
   },
   {
    "duration": 22,
    "start_time": "2022-04-27T13:41:42.550Z"
   },
   {
    "duration": 3,
    "start_time": "2022-04-27T13:41:42.574Z"
   },
   {
    "duration": 191,
    "start_time": "2022-04-27T13:41:42.579Z"
   },
   {
    "duration": 105,
    "start_time": "2022-04-27T13:41:42.771Z"
   },
   {
    "duration": 1044,
    "start_time": "2022-04-27T13:41:42.877Z"
   },
   {
    "duration": 191,
    "start_time": "2022-04-27T13:41:43.923Z"
   },
   {
    "duration": 565,
    "start_time": "2022-04-27T13:41:44.116Z"
   },
   {
    "duration": 330,
    "start_time": "2022-04-27T13:41:44.683Z"
   },
   {
    "duration": 1068,
    "start_time": "2022-04-27T13:41:45.015Z"
   },
   {
    "duration": 53,
    "start_time": "2022-04-27T13:41:46.084Z"
   },
   {
    "duration": 11,
    "start_time": "2022-04-27T13:41:46.139Z"
   },
   {
    "duration": 8724,
    "start_time": "2022-04-27T13:41:46.156Z"
   },
   {
    "duration": 11,
    "start_time": "2022-04-27T13:41:54.882Z"
   },
   {
    "duration": 23,
    "start_time": "2022-04-27T13:41:54.895Z"
   },
   {
    "duration": 52,
    "start_time": "2022-04-27T13:41:54.920Z"
   },
   {
    "duration": 5,
    "start_time": "2022-04-27T13:41:54.973Z"
   },
   {
    "duration": 6,
    "start_time": "2022-04-27T13:41:54.979Z"
   },
   {
    "duration": 7,
    "start_time": "2022-04-27T13:41:54.986Z"
   },
   {
    "duration": 24,
    "start_time": "2022-04-27T13:41:54.994Z"
   },
   {
    "duration": 62,
    "start_time": "2022-04-27T13:41:55.019Z"
   },
   {
    "duration": 9,
    "start_time": "2022-04-27T13:41:55.083Z"
   },
   {
    "duration": 8,
    "start_time": "2022-04-27T13:41:55.094Z"
   },
   {
    "duration": 10,
    "start_time": "2022-04-27T13:41:55.104Z"
   },
   {
    "duration": 14,
    "start_time": "2022-04-27T13:41:55.116Z"
   },
   {
    "duration": 15821,
    "start_time": "2022-04-27T13:41:55.134Z"
   },
   {
    "duration": 33472,
    "start_time": "2022-04-27T13:42:10.971Z"
   },
   {
    "duration": 11664,
    "start_time": "2022-04-27T13:42:44.447Z"
   },
   {
    "duration": 39,
    "start_time": "2022-04-27T13:42:56.116Z"
   },
   {
    "duration": 29,
    "start_time": "2022-04-27T13:42:56.157Z"
   },
   {
    "duration": 13873,
    "start_time": "2022-04-27T13:42:56.188Z"
   },
   {
    "duration": 10,
    "start_time": "2022-04-27T13:44:40.131Z"
   },
   {
    "duration": 5,
    "start_time": "2022-04-27T13:45:45.327Z"
   },
   {
    "duration": 7,
    "start_time": "2022-04-27T13:46:59.697Z"
   },
   {
    "duration": 6,
    "start_time": "2022-04-27T13:47:11.545Z"
   },
   {
    "duration": 6,
    "start_time": "2022-04-27T13:49:40.212Z"
   },
   {
    "duration": 132,
    "start_time": "2022-04-27T14:00:23.627Z"
   },
   {
    "duration": 1937,
    "start_time": "2022-04-27T14:00:38.290Z"
   },
   {
    "duration": 817,
    "start_time": "2022-04-27T14:00:40.229Z"
   },
   {
    "duration": 15,
    "start_time": "2022-04-27T14:00:41.048Z"
   },
   {
    "duration": 3,
    "start_time": "2022-04-27T14:00:41.065Z"
   },
   {
    "duration": 183,
    "start_time": "2022-04-27T14:00:41.070Z"
   },
   {
    "duration": 100,
    "start_time": "2022-04-27T14:00:41.254Z"
   },
   {
    "duration": 862,
    "start_time": "2022-04-27T14:00:41.355Z"
   },
   {
    "duration": 154,
    "start_time": "2022-04-27T14:00:42.218Z"
   },
   {
    "duration": 437,
    "start_time": "2022-04-27T14:00:42.374Z"
   },
   {
    "duration": 253,
    "start_time": "2022-04-27T14:00:42.816Z"
   },
   {
    "duration": 1013,
    "start_time": "2022-04-27T14:00:43.071Z"
   },
   {
    "duration": 37,
    "start_time": "2022-04-27T14:00:44.086Z"
   },
   {
    "duration": 5,
    "start_time": "2022-04-27T14:00:44.125Z"
   },
   {
    "duration": 7145,
    "start_time": "2022-04-27T14:00:44.135Z"
   },
   {
    "duration": 19,
    "start_time": "2022-04-27T14:00:51.282Z"
   },
   {
    "duration": 13,
    "start_time": "2022-04-27T14:00:51.305Z"
   },
   {
    "duration": 25,
    "start_time": "2022-04-27T14:00:51.321Z"
   },
   {
    "duration": 11,
    "start_time": "2022-04-27T14:00:51.348Z"
   },
   {
    "duration": 13,
    "start_time": "2022-04-27T14:00:51.360Z"
   },
   {
    "duration": 6,
    "start_time": "2022-04-27T14:00:51.374Z"
   },
   {
    "duration": 9,
    "start_time": "2022-04-27T14:00:51.381Z"
   },
   {
    "duration": 24,
    "start_time": "2022-04-27T14:00:51.392Z"
   },
   {
    "duration": 29,
    "start_time": "2022-04-27T14:00:51.421Z"
   },
   {
    "duration": 6,
    "start_time": "2022-04-27T14:00:51.451Z"
   },
   {
    "duration": 6,
    "start_time": "2022-04-27T14:00:51.458Z"
   },
   {
    "duration": 4,
    "start_time": "2022-04-27T14:00:51.466Z"
   },
   {
    "duration": 13142,
    "start_time": "2022-04-27T14:00:51.471Z"
   },
   {
    "duration": 25600,
    "start_time": "2022-04-27T14:01:04.621Z"
   },
   {
    "duration": 7007,
    "start_time": "2022-04-27T14:01:30.226Z"
   },
   {
    "duration": 71,
    "start_time": "2022-04-27T14:01:37.234Z"
   },
   {
    "duration": 12,
    "start_time": "2022-04-27T14:01:37.310Z"
   },
   {
    "duration": 9304,
    "start_time": "2022-04-27T14:01:37.329Z"
   },
   {
    "duration": 1798,
    "start_time": "2022-04-27T14:17:52.363Z"
   },
   {
    "duration": 773,
    "start_time": "2022-04-27T14:17:54.162Z"
   },
   {
    "duration": 14,
    "start_time": "2022-04-27T14:17:54.937Z"
   },
   {
    "duration": 3,
    "start_time": "2022-04-27T14:17:54.953Z"
   },
   {
    "duration": 155,
    "start_time": "2022-04-27T14:17:54.957Z"
   },
   {
    "duration": 93,
    "start_time": "2022-04-27T14:17:55.116Z"
   },
   {
    "duration": 809,
    "start_time": "2022-04-27T14:17:55.216Z"
   },
   {
    "duration": 135,
    "start_time": "2022-04-27T14:17:56.027Z"
   },
   {
    "duration": 522,
    "start_time": "2022-04-27T14:17:56.164Z"
   },
   {
    "duration": 243,
    "start_time": "2022-04-27T14:17:56.689Z"
   },
   {
    "duration": 886,
    "start_time": "2022-04-27T14:17:56.933Z"
   },
   {
    "duration": 25,
    "start_time": "2022-04-27T14:17:57.822Z"
   },
   {
    "duration": 5,
    "start_time": "2022-04-27T14:17:57.849Z"
   },
   {
    "duration": 6706,
    "start_time": "2022-04-27T14:17:57.856Z"
   },
   {
    "duration": 11,
    "start_time": "2022-04-27T14:18:04.563Z"
   },
   {
    "duration": 6,
    "start_time": "2022-04-27T14:18:04.576Z"
   },
   {
    "duration": 27,
    "start_time": "2022-04-27T14:18:04.584Z"
   },
   {
    "duration": 27,
    "start_time": "2022-04-27T14:18:04.612Z"
   },
   {
    "duration": 9,
    "start_time": "2022-04-27T14:18:04.641Z"
   },
   {
    "duration": 8,
    "start_time": "2022-04-27T14:18:04.652Z"
   },
   {
    "duration": 18,
    "start_time": "2022-04-27T14:18:04.661Z"
   },
   {
    "duration": 25,
    "start_time": "2022-04-27T14:18:04.680Z"
   },
   {
    "duration": 12,
    "start_time": "2022-04-27T14:18:04.708Z"
   },
   {
    "duration": 16,
    "start_time": "2022-04-27T14:18:04.722Z"
   },
   {
    "duration": 4,
    "start_time": "2022-04-27T14:18:04.740Z"
   },
   {
    "duration": 5,
    "start_time": "2022-04-27T14:18:04.745Z"
   },
   {
    "duration": 6584,
    "start_time": "2022-04-27T14:18:04.751Z"
   },
   {
    "duration": 10128,
    "start_time": "2022-04-27T14:18:11.407Z"
   },
   {
    "duration": 4073,
    "start_time": "2022-04-27T14:18:21.536Z"
   },
   {
    "duration": 9,
    "start_time": "2022-04-27T14:18:25.614Z"
   },
   {
    "duration": 17,
    "start_time": "2022-04-27T14:18:25.628Z"
   },
   {
    "duration": 4259,
    "start_time": "2022-04-27T14:18:25.647Z"
   },
   {
    "duration": 74,
    "start_time": "2022-04-27T19:16:30.666Z"
   },
   {
    "duration": 2656,
    "start_time": "2022-04-27T19:16:37.705Z"
   },
   {
    "duration": 1131,
    "start_time": "2022-04-27T19:16:40.364Z"
   },
   {
    "duration": 28,
    "start_time": "2022-04-27T19:16:41.498Z"
   },
   {
    "duration": 4,
    "start_time": "2022-04-27T19:16:41.529Z"
   },
   {
    "duration": 205,
    "start_time": "2022-04-27T19:16:41.535Z"
   },
   {
    "duration": 173,
    "start_time": "2022-04-27T19:16:41.742Z"
   },
   {
    "duration": 1139,
    "start_time": "2022-04-27T19:16:41.917Z"
   },
   {
    "duration": 184,
    "start_time": "2022-04-27T19:16:43.059Z"
   },
   {
    "duration": 689,
    "start_time": "2022-04-27T19:16:43.245Z"
   },
   {
    "duration": 323,
    "start_time": "2022-04-27T19:16:43.937Z"
   },
   {
    "duration": 1591,
    "start_time": "2022-04-27T19:16:44.262Z"
   },
   {
    "duration": 69,
    "start_time": "2022-04-27T19:16:45.855Z"
   },
   {
    "duration": 7,
    "start_time": "2022-04-27T19:16:45.926Z"
   },
   {
    "duration": 9742,
    "start_time": "2022-04-27T19:16:45.935Z"
   },
   {
    "duration": 21,
    "start_time": "2022-04-27T19:16:55.686Z"
   },
   {
    "duration": 11,
    "start_time": "2022-04-27T19:16:55.710Z"
   },
   {
    "duration": 10,
    "start_time": "2022-04-27T19:16:55.723Z"
   },
   {
    "duration": 8,
    "start_time": "2022-04-27T19:16:55.735Z"
   },
   {
    "duration": 42,
    "start_time": "2022-04-27T19:16:55.745Z"
   },
   {
    "duration": 19,
    "start_time": "2022-04-27T19:16:55.789Z"
   },
   {
    "duration": 16,
    "start_time": "2022-04-27T19:16:55.811Z"
   },
   {
    "duration": 32,
    "start_time": "2022-04-27T19:16:55.829Z"
   },
   {
    "duration": 17,
    "start_time": "2022-04-27T19:16:55.882Z"
   },
   {
    "duration": 12,
    "start_time": "2022-04-27T19:16:55.901Z"
   },
   {
    "duration": 8,
    "start_time": "2022-04-27T19:16:55.915Z"
   },
   {
    "duration": 7,
    "start_time": "2022-04-27T19:16:55.925Z"
   },
   {
    "duration": 3766,
    "start_time": "2022-04-27T19:16:55.934Z"
   },
   {
    "duration": 3903,
    "start_time": "2022-04-27T19:16:59.785Z"
   },
   {
    "duration": 2701,
    "start_time": "2022-04-27T19:17:03.691Z"
   },
   {
    "duration": 9,
    "start_time": "2022-04-27T19:17:06.395Z"
   },
   {
    "duration": 10,
    "start_time": "2022-04-27T19:17:06.407Z"
   },
   {
    "duration": 2874,
    "start_time": "2022-04-27T19:17:06.419Z"
   },
   {
    "duration": 10,
    "start_time": "2022-04-27T19:17:32.647Z"
   },
   {
    "duration": 8,
    "start_time": "2022-04-27T19:18:32.146Z"
   },
   {
    "duration": 9,
    "start_time": "2022-04-27T19:18:41.408Z"
   },
   {
    "duration": 29,
    "start_time": "2022-04-27T19:27:20.680Z"
   },
   {
    "duration": 9,
    "start_time": "2022-04-27T19:42:14.692Z"
   },
   {
    "duration": 3312,
    "start_time": "2022-04-27T19:42:24.902Z"
   },
   {
    "duration": 1150,
    "start_time": "2022-04-27T19:42:28.217Z"
   },
   {
    "duration": 30,
    "start_time": "2022-04-27T19:42:29.369Z"
   },
   {
    "duration": 5,
    "start_time": "2022-04-27T19:42:29.401Z"
   },
   {
    "duration": 205,
    "start_time": "2022-04-27T19:42:29.408Z"
   },
   {
    "duration": 167,
    "start_time": "2022-04-27T19:42:29.616Z"
   },
   {
    "duration": 1124,
    "start_time": "2022-04-27T19:42:29.785Z"
   },
   {
    "duration": 181,
    "start_time": "2022-04-27T19:42:30.911Z"
   },
   {
    "duration": 837,
    "start_time": "2022-04-27T19:42:31.094Z"
   },
   {
    "duration": 359,
    "start_time": "2022-04-27T19:42:31.936Z"
   },
   {
    "duration": 1637,
    "start_time": "2022-04-27T19:42:32.298Z"
   },
   {
    "duration": 62,
    "start_time": "2022-04-27T19:42:33.938Z"
   },
   {
    "duration": 9,
    "start_time": "2022-04-27T19:42:34.002Z"
   },
   {
    "duration": 9823,
    "start_time": "2022-04-27T19:42:34.014Z"
   },
   {
    "duration": 40,
    "start_time": "2022-04-27T19:42:43.841Z"
   },
   {
    "duration": 11,
    "start_time": "2022-04-27T19:42:43.884Z"
   },
   {
    "duration": 18,
    "start_time": "2022-04-27T19:42:43.897Z"
   },
   {
    "duration": 9,
    "start_time": "2022-04-27T19:42:43.917Z"
   },
   {
    "duration": 9,
    "start_time": "2022-04-27T19:42:43.930Z"
   },
   {
    "duration": 44,
    "start_time": "2022-04-27T19:42:43.941Z"
   },
   {
    "duration": 13,
    "start_time": "2022-04-27T19:42:43.988Z"
   },
   {
    "duration": 28,
    "start_time": "2022-04-27T19:42:44.004Z"
   },
   {
    "duration": 200,
    "start_time": "2022-04-27T19:42:44.035Z"
   },
   {
    "duration": 0,
    "start_time": "2022-04-27T19:42:44.238Z"
   },
   {
    "duration": 0,
    "start_time": "2022-04-27T19:42:44.240Z"
   },
   {
    "duration": 0,
    "start_time": "2022-04-27T19:42:44.242Z"
   },
   {
    "duration": 0,
    "start_time": "2022-04-27T19:42:44.243Z"
   },
   {
    "duration": 0,
    "start_time": "2022-04-27T19:42:44.245Z"
   },
   {
    "duration": 0,
    "start_time": "2022-04-27T19:42:44.246Z"
   },
   {
    "duration": 0,
    "start_time": "2022-04-27T19:42:44.247Z"
   },
   {
    "duration": 22,
    "start_time": "2022-04-27T19:44:40.722Z"
   },
   {
    "duration": 12,
    "start_time": "2022-04-27T19:46:49.406Z"
   },
   {
    "duration": 10,
    "start_time": "2022-04-27T19:46:58.327Z"
   },
   {
    "duration": 1942,
    "start_time": "2022-04-28T06:42:30.370Z"
   },
   {
    "duration": 860,
    "start_time": "2022-04-28T06:42:32.314Z"
   },
   {
    "duration": 18,
    "start_time": "2022-04-28T06:42:33.178Z"
   },
   {
    "duration": 3,
    "start_time": "2022-04-28T06:42:33.198Z"
   },
   {
    "duration": 156,
    "start_time": "2022-04-28T06:42:33.203Z"
   },
   {
    "duration": 115,
    "start_time": "2022-04-28T06:42:33.361Z"
   },
   {
    "duration": 1004,
    "start_time": "2022-04-28T06:42:33.478Z"
   },
   {
    "duration": 124,
    "start_time": "2022-04-28T06:42:34.483Z"
   },
   {
    "duration": 492,
    "start_time": "2022-04-28T06:42:34.609Z"
   },
   {
    "duration": 235,
    "start_time": "2022-04-28T06:42:35.104Z"
   },
   {
    "duration": 1001,
    "start_time": "2022-04-28T06:42:35.340Z"
   },
   {
    "duration": 42,
    "start_time": "2022-04-28T06:42:36.343Z"
   },
   {
    "duration": 5,
    "start_time": "2022-04-28T06:42:36.386Z"
   },
   {
    "duration": 6547,
    "start_time": "2022-04-28T06:42:36.393Z"
   },
   {
    "duration": 13,
    "start_time": "2022-04-28T06:42:42.942Z"
   },
   {
    "duration": 28,
    "start_time": "2022-04-28T06:42:42.957Z"
   },
   {
    "duration": 7,
    "start_time": "2022-04-28T06:42:42.987Z"
   },
   {
    "duration": 6,
    "start_time": "2022-04-28T06:42:42.996Z"
   },
   {
    "duration": 10,
    "start_time": "2022-04-28T06:42:43.003Z"
   },
   {
    "duration": 10,
    "start_time": "2022-04-28T06:42:43.014Z"
   },
   {
    "duration": 13,
    "start_time": "2022-04-28T06:42:43.025Z"
   },
   {
    "duration": 45,
    "start_time": "2022-04-28T06:42:43.039Z"
   },
   {
    "duration": 113,
    "start_time": "2022-04-28T06:42:43.086Z"
   },
   {
    "duration": 0,
    "start_time": "2022-04-28T06:42:43.201Z"
   },
   {
    "duration": 0,
    "start_time": "2022-04-28T06:42:43.202Z"
   },
   {
    "duration": 0,
    "start_time": "2022-04-28T06:42:43.203Z"
   },
   {
    "duration": 0,
    "start_time": "2022-04-28T06:42:43.204Z"
   },
   {
    "duration": 0,
    "start_time": "2022-04-28T06:42:43.205Z"
   },
   {
    "duration": 0,
    "start_time": "2022-04-28T06:42:43.206Z"
   },
   {
    "duration": 0,
    "start_time": "2022-04-28T06:42:43.207Z"
   },
   {
    "duration": 18,
    "start_time": "2022-04-28T08:47:50.087Z"
   },
   {
    "duration": 13,
    "start_time": "2022-04-28T08:48:06.314Z"
   },
   {
    "duration": 14,
    "start_time": "2022-04-28T08:48:13.895Z"
   },
   {
    "duration": 1710,
    "start_time": "2022-04-28T08:49:04.044Z"
   },
   {
    "duration": 903,
    "start_time": "2022-04-28T08:49:05.757Z"
   },
   {
    "duration": 24,
    "start_time": "2022-04-28T08:49:06.662Z"
   },
   {
    "duration": 29,
    "start_time": "2022-04-28T08:49:06.688Z"
   },
   {
    "duration": 167,
    "start_time": "2022-04-28T08:49:06.719Z"
   },
   {
    "duration": 138,
    "start_time": "2022-04-28T08:49:06.889Z"
   },
   {
    "duration": 935,
    "start_time": "2022-04-28T08:49:07.029Z"
   },
   {
    "duration": 137,
    "start_time": "2022-04-28T08:49:07.965Z"
   },
   {
    "duration": 498,
    "start_time": "2022-04-28T08:49:08.103Z"
   },
   {
    "duration": 230,
    "start_time": "2022-04-28T08:49:08.604Z"
   },
   {
    "duration": 982,
    "start_time": "2022-04-28T08:49:08.835Z"
   },
   {
    "duration": 30,
    "start_time": "2022-04-28T08:49:09.818Z"
   },
   {
    "duration": 5,
    "start_time": "2022-04-28T08:49:09.850Z"
   },
   {
    "duration": 6760,
    "start_time": "2022-04-28T08:49:09.857Z"
   },
   {
    "duration": 14,
    "start_time": "2022-04-28T08:49:16.619Z"
   },
   {
    "duration": 10,
    "start_time": "2022-04-28T08:49:16.635Z"
   },
   {
    "duration": 35,
    "start_time": "2022-04-28T08:49:16.647Z"
   },
   {
    "duration": 15,
    "start_time": "2022-04-28T08:49:16.684Z"
   },
   {
    "duration": 12,
    "start_time": "2022-04-28T08:49:16.701Z"
   },
   {
    "duration": 7,
    "start_time": "2022-04-28T08:49:16.715Z"
   },
   {
    "duration": 10,
    "start_time": "2022-04-28T08:49:16.724Z"
   },
   {
    "duration": 147,
    "start_time": "2022-04-28T08:49:16.735Z"
   },
   {
    "duration": 0,
    "start_time": "2022-04-28T08:49:16.885Z"
   },
   {
    "duration": 0,
    "start_time": "2022-04-28T08:49:16.886Z"
   },
   {
    "duration": 0,
    "start_time": "2022-04-28T08:49:16.887Z"
   },
   {
    "duration": 0,
    "start_time": "2022-04-28T08:49:16.889Z"
   },
   {
    "duration": 0,
    "start_time": "2022-04-28T08:49:16.890Z"
   },
   {
    "duration": 0,
    "start_time": "2022-04-28T08:49:16.892Z"
   },
   {
    "duration": 0,
    "start_time": "2022-04-28T08:49:16.893Z"
   },
   {
    "duration": 0,
    "start_time": "2022-04-28T08:49:16.895Z"
   },
   {
    "duration": 0,
    "start_time": "2022-04-28T08:49:16.896Z"
   },
   {
    "duration": 0,
    "start_time": "2022-04-28T08:49:16.897Z"
   },
   {
    "duration": 12,
    "start_time": "2022-04-28T08:50:51.306Z"
   },
   {
    "duration": 1748,
    "start_time": "2022-04-28T08:51:03.178Z"
   },
   {
    "duration": 0,
    "start_time": "2022-04-28T08:51:04.929Z"
   },
   {
    "duration": 0,
    "start_time": "2022-04-28T08:51:04.931Z"
   },
   {
    "duration": 0,
    "start_time": "2022-04-28T08:51:04.933Z"
   },
   {
    "duration": 0,
    "start_time": "2022-04-28T08:51:04.934Z"
   },
   {
    "duration": 0,
    "start_time": "2022-04-28T08:51:04.936Z"
   },
   {
    "duration": 0,
    "start_time": "2022-04-28T08:51:04.937Z"
   },
   {
    "duration": 0,
    "start_time": "2022-04-28T08:51:04.939Z"
   },
   {
    "duration": 0,
    "start_time": "2022-04-28T08:51:04.940Z"
   },
   {
    "duration": 0,
    "start_time": "2022-04-28T08:51:04.942Z"
   },
   {
    "duration": 0,
    "start_time": "2022-04-28T08:51:04.943Z"
   },
   {
    "duration": 0,
    "start_time": "2022-04-28T08:51:04.945Z"
   },
   {
    "duration": 0,
    "start_time": "2022-04-28T08:51:04.946Z"
   },
   {
    "duration": 0,
    "start_time": "2022-04-28T08:51:04.948Z"
   },
   {
    "duration": 0,
    "start_time": "2022-04-28T08:51:04.974Z"
   },
   {
    "duration": 0,
    "start_time": "2022-04-28T08:51:04.975Z"
   },
   {
    "duration": 0,
    "start_time": "2022-04-28T08:51:04.977Z"
   },
   {
    "duration": 0,
    "start_time": "2022-04-28T08:51:04.978Z"
   },
   {
    "duration": 0,
    "start_time": "2022-04-28T08:51:04.980Z"
   },
   {
    "duration": 0,
    "start_time": "2022-04-28T08:51:04.981Z"
   },
   {
    "duration": 0,
    "start_time": "2022-04-28T08:51:04.982Z"
   },
   {
    "duration": 0,
    "start_time": "2022-04-28T08:51:04.984Z"
   },
   {
    "duration": 0,
    "start_time": "2022-04-28T08:51:04.985Z"
   },
   {
    "duration": 0,
    "start_time": "2022-04-28T08:51:04.986Z"
   },
   {
    "duration": 0,
    "start_time": "2022-04-28T08:51:04.987Z"
   },
   {
    "duration": 0,
    "start_time": "2022-04-28T08:51:04.989Z"
   },
   {
    "duration": 0,
    "start_time": "2022-04-28T08:51:04.990Z"
   },
   {
    "duration": 0,
    "start_time": "2022-04-28T08:51:04.992Z"
   },
   {
    "duration": 0,
    "start_time": "2022-04-28T08:51:04.994Z"
   },
   {
    "duration": 0,
    "start_time": "2022-04-28T08:51:04.995Z"
   },
   {
    "duration": 0,
    "start_time": "2022-04-28T08:51:04.996Z"
   },
   {
    "duration": 0,
    "start_time": "2022-04-28T08:51:05.001Z"
   },
   {
    "duration": 10,
    "start_time": "2022-04-28T08:51:18.841Z"
   },
   {
    "duration": 1642,
    "start_time": "2022-04-28T08:51:27.442Z"
   },
   {
    "duration": 0,
    "start_time": "2022-04-28T08:51:29.088Z"
   },
   {
    "duration": 0,
    "start_time": "2022-04-28T08:51:29.089Z"
   },
   {
    "duration": 0,
    "start_time": "2022-04-28T08:51:29.091Z"
   },
   {
    "duration": 0,
    "start_time": "2022-04-28T08:51:29.092Z"
   },
   {
    "duration": 0,
    "start_time": "2022-04-28T08:51:29.094Z"
   },
   {
    "duration": 0,
    "start_time": "2022-04-28T08:51:29.095Z"
   },
   {
    "duration": 0,
    "start_time": "2022-04-28T08:51:29.097Z"
   },
   {
    "duration": 0,
    "start_time": "2022-04-28T08:51:29.098Z"
   },
   {
    "duration": 0,
    "start_time": "2022-04-28T08:51:29.100Z"
   },
   {
    "duration": 0,
    "start_time": "2022-04-28T08:51:29.101Z"
   },
   {
    "duration": 0,
    "start_time": "2022-04-28T08:51:29.103Z"
   },
   {
    "duration": 0,
    "start_time": "2022-04-28T08:51:29.104Z"
   },
   {
    "duration": 0,
    "start_time": "2022-04-28T08:51:29.105Z"
   },
   {
    "duration": 0,
    "start_time": "2022-04-28T08:51:29.107Z"
   },
   {
    "duration": 0,
    "start_time": "2022-04-28T08:51:29.108Z"
   },
   {
    "duration": 0,
    "start_time": "2022-04-28T08:51:29.110Z"
   },
   {
    "duration": 0,
    "start_time": "2022-04-28T08:51:29.111Z"
   },
   {
    "duration": 0,
    "start_time": "2022-04-28T08:51:29.112Z"
   },
   {
    "duration": 0,
    "start_time": "2022-04-28T08:51:29.114Z"
   },
   {
    "duration": 0,
    "start_time": "2022-04-28T08:51:29.115Z"
   },
   {
    "duration": 0,
    "start_time": "2022-04-28T08:51:29.116Z"
   },
   {
    "duration": 0,
    "start_time": "2022-04-28T08:51:29.118Z"
   },
   {
    "duration": 0,
    "start_time": "2022-04-28T08:51:29.120Z"
   },
   {
    "duration": 0,
    "start_time": "2022-04-28T08:51:29.121Z"
   },
   {
    "duration": 0,
    "start_time": "2022-04-28T08:51:29.122Z"
   },
   {
    "duration": 0,
    "start_time": "2022-04-28T08:51:29.124Z"
   },
   {
    "duration": 0,
    "start_time": "2022-04-28T08:51:29.174Z"
   },
   {
    "duration": 0,
    "start_time": "2022-04-28T08:51:29.176Z"
   },
   {
    "duration": 0,
    "start_time": "2022-04-28T08:51:29.178Z"
   },
   {
    "duration": 0,
    "start_time": "2022-04-28T08:51:29.179Z"
   },
   {
    "duration": 0,
    "start_time": "2022-04-28T08:51:29.181Z"
   },
   {
    "duration": 1783,
    "start_time": "2022-04-28T08:51:45.944Z"
   },
   {
    "duration": 0,
    "start_time": "2022-04-28T08:51:47.730Z"
   },
   {
    "duration": 0,
    "start_time": "2022-04-28T08:51:47.731Z"
   },
   {
    "duration": 0,
    "start_time": "2022-04-28T08:51:47.732Z"
   },
   {
    "duration": 0,
    "start_time": "2022-04-28T08:51:47.734Z"
   },
   {
    "duration": 0,
    "start_time": "2022-04-28T08:51:47.735Z"
   },
   {
    "duration": 0,
    "start_time": "2022-04-28T08:51:47.736Z"
   },
   {
    "duration": 0,
    "start_time": "2022-04-28T08:51:47.737Z"
   },
   {
    "duration": 0,
    "start_time": "2022-04-28T08:51:47.738Z"
   },
   {
    "duration": 0,
    "start_time": "2022-04-28T08:51:47.739Z"
   },
   {
    "duration": 0,
    "start_time": "2022-04-28T08:51:47.740Z"
   },
   {
    "duration": 0,
    "start_time": "2022-04-28T08:51:47.741Z"
   },
   {
    "duration": 0,
    "start_time": "2022-04-28T08:51:47.742Z"
   },
   {
    "duration": 0,
    "start_time": "2022-04-28T08:51:47.743Z"
   },
   {
    "duration": 0,
    "start_time": "2022-04-28T08:51:47.744Z"
   },
   {
    "duration": 0,
    "start_time": "2022-04-28T08:51:47.745Z"
   },
   {
    "duration": 0,
    "start_time": "2022-04-28T08:51:47.746Z"
   },
   {
    "duration": 0,
    "start_time": "2022-04-28T08:51:47.747Z"
   },
   {
    "duration": 0,
    "start_time": "2022-04-28T08:51:47.748Z"
   },
   {
    "duration": 0,
    "start_time": "2022-04-28T08:51:47.773Z"
   },
   {
    "duration": 0,
    "start_time": "2022-04-28T08:51:47.774Z"
   },
   {
    "duration": 0,
    "start_time": "2022-04-28T08:51:47.776Z"
   },
   {
    "duration": 0,
    "start_time": "2022-04-28T08:51:47.777Z"
   },
   {
    "duration": 0,
    "start_time": "2022-04-28T08:51:47.778Z"
   },
   {
    "duration": 0,
    "start_time": "2022-04-28T08:51:47.779Z"
   },
   {
    "duration": 0,
    "start_time": "2022-04-28T08:51:47.780Z"
   },
   {
    "duration": 0,
    "start_time": "2022-04-28T08:51:47.783Z"
   },
   {
    "duration": 0,
    "start_time": "2022-04-28T08:51:47.784Z"
   },
   {
    "duration": 0,
    "start_time": "2022-04-28T08:51:47.785Z"
   },
   {
    "duration": 0,
    "start_time": "2022-04-28T08:51:47.786Z"
   },
   {
    "duration": 0,
    "start_time": "2022-04-28T08:51:47.787Z"
   },
   {
    "duration": 0,
    "start_time": "2022-04-28T08:51:47.788Z"
   },
   {
    "duration": 1793,
    "start_time": "2022-04-28T08:52:46.946Z"
   },
   {
    "duration": 796,
    "start_time": "2022-04-28T08:52:48.741Z"
   },
   {
    "duration": 16,
    "start_time": "2022-04-28T08:52:49.539Z"
   },
   {
    "duration": 3,
    "start_time": "2022-04-28T08:52:49.557Z"
   },
   {
    "duration": 124,
    "start_time": "2022-04-28T08:52:49.573Z"
   },
   {
    "duration": 140,
    "start_time": "2022-04-28T08:52:49.699Z"
   },
   {
    "duration": 832,
    "start_time": "2022-04-28T08:52:49.841Z"
   },
   {
    "duration": 121,
    "start_time": "2022-04-28T08:52:50.675Z"
   },
   {
    "duration": 460,
    "start_time": "2022-04-28T08:52:50.798Z"
   },
   {
    "duration": 221,
    "start_time": "2022-04-28T08:52:51.261Z"
   },
   {
    "duration": 913,
    "start_time": "2022-04-28T08:52:51.483Z"
   },
   {
    "duration": 31,
    "start_time": "2022-04-28T08:52:52.397Z"
   },
   {
    "duration": 4,
    "start_time": "2022-04-28T08:52:52.430Z"
   },
   {
    "duration": 6065,
    "start_time": "2022-04-28T08:52:52.436Z"
   },
   {
    "duration": 12,
    "start_time": "2022-04-28T08:52:58.503Z"
   },
   {
    "duration": 8,
    "start_time": "2022-04-28T08:52:58.517Z"
   },
   {
    "duration": 9,
    "start_time": "2022-04-28T08:52:58.526Z"
   },
   {
    "duration": 5,
    "start_time": "2022-04-28T08:52:58.536Z"
   },
   {
    "duration": 32,
    "start_time": "2022-04-28T08:52:58.543Z"
   },
   {
    "duration": 6,
    "start_time": "2022-04-28T08:52:58.576Z"
   },
   {
    "duration": 13,
    "start_time": "2022-04-28T08:52:58.583Z"
   },
   {
    "duration": 128,
    "start_time": "2022-04-28T08:52:58.598Z"
   },
   {
    "duration": 0,
    "start_time": "2022-04-28T08:52:58.728Z"
   },
   {
    "duration": 0,
    "start_time": "2022-04-28T08:52:58.729Z"
   },
   {
    "duration": 0,
    "start_time": "2022-04-28T08:52:58.730Z"
   },
   {
    "duration": 0,
    "start_time": "2022-04-28T08:52:58.731Z"
   },
   {
    "duration": 0,
    "start_time": "2022-04-28T08:52:58.732Z"
   },
   {
    "duration": 0,
    "start_time": "2022-04-28T08:52:58.733Z"
   },
   {
    "duration": 0,
    "start_time": "2022-04-28T08:52:58.734Z"
   },
   {
    "duration": 0,
    "start_time": "2022-04-28T08:52:58.735Z"
   },
   {
    "duration": 0,
    "start_time": "2022-04-28T08:52:58.736Z"
   },
   {
    "duration": 0,
    "start_time": "2022-04-28T08:52:58.737Z"
   },
   {
    "duration": 2443,
    "start_time": "2022-04-28T11:01:14.828Z"
   },
   {
    "duration": 1092,
    "start_time": "2022-04-28T11:01:17.274Z"
   },
   {
    "duration": 30,
    "start_time": "2022-04-28T11:01:18.368Z"
   },
   {
    "duration": 5,
    "start_time": "2022-04-28T11:01:18.400Z"
   },
   {
    "duration": 197,
    "start_time": "2022-04-28T11:01:18.408Z"
   },
   {
    "duration": 131,
    "start_time": "2022-04-28T11:01:18.607Z"
   },
   {
    "duration": 1143,
    "start_time": "2022-04-28T11:01:18.740Z"
   },
   {
    "duration": 160,
    "start_time": "2022-04-28T11:01:19.885Z"
   },
   {
    "duration": 687,
    "start_time": "2022-04-28T11:01:20.047Z"
   },
   {
    "duration": 300,
    "start_time": "2022-04-28T11:01:20.738Z"
   },
   {
    "duration": 1572,
    "start_time": "2022-04-28T11:01:21.041Z"
   },
   {
    "duration": 48,
    "start_time": "2022-04-28T11:01:22.615Z"
   },
   {
    "duration": 19,
    "start_time": "2022-04-28T11:01:22.665Z"
   },
   {
    "duration": 9051,
    "start_time": "2022-04-28T11:01:22.686Z"
   },
   {
    "duration": 20,
    "start_time": "2022-04-28T11:01:31.739Z"
   },
   {
    "duration": 24,
    "start_time": "2022-04-28T11:01:31.761Z"
   },
   {
    "duration": 21,
    "start_time": "2022-04-28T11:01:31.789Z"
   },
   {
    "duration": 15,
    "start_time": "2022-04-28T11:01:31.813Z"
   },
   {
    "duration": 13,
    "start_time": "2022-04-28T11:01:31.830Z"
   },
   {
    "duration": 11,
    "start_time": "2022-04-28T11:01:31.845Z"
   },
   {
    "duration": 27,
    "start_time": "2022-04-28T11:01:31.859Z"
   },
   {
    "duration": 197,
    "start_time": "2022-04-28T11:01:31.889Z"
   },
   {
    "duration": 0,
    "start_time": "2022-04-28T11:01:32.089Z"
   },
   {
    "duration": 0,
    "start_time": "2022-04-28T11:01:32.091Z"
   },
   {
    "duration": 0,
    "start_time": "2022-04-28T11:01:32.093Z"
   },
   {
    "duration": 0,
    "start_time": "2022-04-28T11:01:32.095Z"
   },
   {
    "duration": 0,
    "start_time": "2022-04-28T11:01:32.097Z"
   },
   {
    "duration": 0,
    "start_time": "2022-04-28T11:01:32.100Z"
   },
   {
    "duration": 0,
    "start_time": "2022-04-28T11:01:32.101Z"
   },
   {
    "duration": 0,
    "start_time": "2022-04-28T11:01:32.103Z"
   },
   {
    "duration": 0,
    "start_time": "2022-04-28T11:01:32.105Z"
   },
   {
    "duration": 15,
    "start_time": "2022-04-28T11:14:57.667Z"
   },
   {
    "duration": 22,
    "start_time": "2022-04-28T11:15:22.511Z"
   },
   {
    "duration": 13,
    "start_time": "2022-04-28T11:15:51.258Z"
   },
   {
    "duration": 11,
    "start_time": "2022-04-28T11:20:52.460Z"
   },
   {
    "duration": 15,
    "start_time": "2022-04-28T11:21:29.419Z"
   },
   {
    "duration": 13,
    "start_time": "2022-04-28T11:21:30.859Z"
   },
   {
    "duration": 13,
    "start_time": "2022-04-28T11:24:32.071Z"
   },
   {
    "duration": 11,
    "start_time": "2022-04-28T11:25:53.308Z"
   },
   {
    "duration": 14,
    "start_time": "2022-04-28T11:29:42.999Z"
   },
   {
    "duration": 12,
    "start_time": "2022-04-28T11:29:45.051Z"
   },
   {
    "duration": 28,
    "start_time": "2022-04-28T11:35:03.218Z"
   },
   {
    "duration": 12,
    "start_time": "2022-04-28T11:42:30.492Z"
   },
   {
    "duration": 40,
    "start_time": "2022-04-28T11:42:31.880Z"
   },
   {
    "duration": 13,
    "start_time": "2022-04-28T11:42:34.769Z"
   },
   {
    "duration": 2217,
    "start_time": "2022-04-28T11:42:43.177Z"
   },
   {
    "duration": 1210,
    "start_time": "2022-04-28T11:42:45.396Z"
   },
   {
    "duration": 27,
    "start_time": "2022-04-28T11:42:46.608Z"
   },
   {
    "duration": 12,
    "start_time": "2022-04-28T11:42:46.638Z"
   },
   {
    "duration": 194,
    "start_time": "2022-04-28T11:42:46.653Z"
   },
   {
    "duration": 123,
    "start_time": "2022-04-28T11:42:46.850Z"
   },
   {
    "duration": 1101,
    "start_time": "2022-04-28T11:42:46.975Z"
   },
   {
    "duration": 167,
    "start_time": "2022-04-28T11:42:48.078Z"
   },
   {
    "duration": 672,
    "start_time": "2022-04-28T11:42:48.247Z"
   },
   {
    "duration": 315,
    "start_time": "2022-04-28T11:42:48.922Z"
   },
   {
    "duration": 1447,
    "start_time": "2022-04-28T11:42:49.239Z"
   },
   {
    "duration": 47,
    "start_time": "2022-04-28T11:42:50.688Z"
   },
   {
    "duration": 7,
    "start_time": "2022-04-28T11:42:50.737Z"
   },
   {
    "duration": 9005,
    "start_time": "2022-04-28T11:42:50.746Z"
   },
   {
    "duration": 32,
    "start_time": "2022-04-28T11:42:59.754Z"
   },
   {
    "duration": 10,
    "start_time": "2022-04-28T11:42:59.788Z"
   },
   {
    "duration": 14,
    "start_time": "2022-04-28T11:42:59.800Z"
   },
   {
    "duration": 7,
    "start_time": "2022-04-28T11:42:59.816Z"
   },
   {
    "duration": 7,
    "start_time": "2022-04-28T11:42:59.826Z"
   },
   {
    "duration": 7,
    "start_time": "2022-04-28T11:42:59.835Z"
   },
   {
    "duration": 14,
    "start_time": "2022-04-28T11:42:59.881Z"
   },
   {
    "duration": 11,
    "start_time": "2022-04-28T11:42:59.897Z"
   },
   {
    "duration": 45,
    "start_time": "2022-04-28T11:42:59.911Z"
   },
   {
    "duration": 32,
    "start_time": "2022-04-28T11:42:59.958Z"
   },
   {
    "duration": 5,
    "start_time": "2022-04-28T11:42:59.992Z"
   },
   {
    "duration": 1891,
    "start_time": "2022-04-28T11:42:59.999Z"
   },
   {
    "duration": 1695,
    "start_time": "2022-04-28T11:43:01.895Z"
   },
   {
    "duration": 2096,
    "start_time": "2022-04-28T11:43:03.597Z"
   },
   {
    "duration": 9,
    "start_time": "2022-04-28T11:43:05.695Z"
   },
   {
    "duration": 12,
    "start_time": "2022-04-28T11:43:05.706Z"
   },
   {
    "duration": 1875,
    "start_time": "2022-04-28T11:43:05.720Z"
   },
   {
    "duration": 28,
    "start_time": "2022-04-28T11:51:43.845Z"
   },
   {
    "duration": 12,
    "start_time": "2022-04-28T11:51:45.655Z"
   },
   {
    "duration": 2562,
    "start_time": "2022-04-28T11:52:01.414Z"
   },
   {
    "duration": 1175,
    "start_time": "2022-04-28T11:52:03.979Z"
   },
   {
    "duration": 42,
    "start_time": "2022-04-28T11:52:05.157Z"
   },
   {
    "duration": 5,
    "start_time": "2022-04-28T11:52:05.203Z"
   },
   {
    "duration": 209,
    "start_time": "2022-04-28T11:52:05.211Z"
   },
   {
    "duration": 184,
    "start_time": "2022-04-28T11:52:05.423Z"
   },
   {
    "duration": 1295,
    "start_time": "2022-04-28T11:52:05.609Z"
   },
   {
    "duration": 179,
    "start_time": "2022-04-28T11:52:06.907Z"
   },
   {
    "duration": 764,
    "start_time": "2022-04-28T11:52:07.090Z"
   },
   {
    "duration": 433,
    "start_time": "2022-04-28T11:52:07.860Z"
   },
   {
    "duration": 1590,
    "start_time": "2022-04-28T11:52:08.296Z"
   },
   {
    "duration": 50,
    "start_time": "2022-04-28T11:52:09.889Z"
   },
   {
    "duration": 7,
    "start_time": "2022-04-28T11:52:09.941Z"
   },
   {
    "duration": 10882,
    "start_time": "2022-04-28T11:52:09.950Z"
   },
   {
    "duration": 25,
    "start_time": "2022-04-28T11:52:20.836Z"
   },
   {
    "duration": 32,
    "start_time": "2022-04-28T11:52:20.863Z"
   },
   {
    "duration": 22,
    "start_time": "2022-04-28T11:52:20.898Z"
   },
   {
    "duration": 9,
    "start_time": "2022-04-28T11:52:20.922Z"
   },
   {
    "duration": 11,
    "start_time": "2022-04-28T11:52:20.934Z"
   },
   {
    "duration": 44,
    "start_time": "2022-04-28T11:52:20.948Z"
   },
   {
    "duration": 24,
    "start_time": "2022-04-28T11:52:20.997Z"
   },
   {
    "duration": 13,
    "start_time": "2022-04-28T11:52:21.023Z"
   },
   {
    "duration": 85,
    "start_time": "2022-04-28T11:52:21.039Z"
   },
   {
    "duration": 13,
    "start_time": "2022-04-28T11:52:21.126Z"
   },
   {
    "duration": 5,
    "start_time": "2022-04-28T11:52:21.142Z"
   },
   {
    "duration": 2239,
    "start_time": "2022-04-28T11:52:21.149Z"
   },
   {
    "duration": 2552,
    "start_time": "2022-04-28T11:53:07.473Z"
   },
   {
    "duration": 1281,
    "start_time": "2022-04-28T11:53:10.027Z"
   },
   {
    "duration": 25,
    "start_time": "2022-04-28T11:53:11.311Z"
   },
   {
    "duration": 7,
    "start_time": "2022-04-28T11:53:11.340Z"
   },
   {
    "duration": 218,
    "start_time": "2022-04-28T11:53:11.350Z"
   },
   {
    "duration": 182,
    "start_time": "2022-04-28T11:53:11.571Z"
   },
   {
    "duration": 1255,
    "start_time": "2022-04-28T11:53:11.755Z"
   },
   {
    "duration": 293,
    "start_time": "2022-04-28T11:53:13.012Z"
   },
   {
    "duration": 1045,
    "start_time": "2022-04-28T11:53:13.308Z"
   },
   {
    "duration": 523,
    "start_time": "2022-04-28T11:53:14.359Z"
   },
   {
    "duration": 2007,
    "start_time": "2022-04-28T11:53:14.884Z"
   },
   {
    "duration": 55,
    "start_time": "2022-04-28T11:53:16.894Z"
   },
   {
    "duration": 30,
    "start_time": "2022-04-28T11:53:16.952Z"
   },
   {
    "duration": 12285,
    "start_time": "2022-04-28T11:53:16.985Z"
   },
   {
    "duration": 33,
    "start_time": "2022-04-28T11:53:29.273Z"
   },
   {
    "duration": 14,
    "start_time": "2022-04-28T11:53:29.310Z"
   },
   {
    "duration": 16,
    "start_time": "2022-04-28T11:53:29.327Z"
   },
   {
    "duration": 37,
    "start_time": "2022-04-28T11:53:29.346Z"
   },
   {
    "duration": 13,
    "start_time": "2022-04-28T11:53:29.386Z"
   },
   {
    "duration": 20,
    "start_time": "2022-04-28T11:53:29.402Z"
   },
   {
    "duration": 18,
    "start_time": "2022-04-28T11:53:29.425Z"
   },
   {
    "duration": 56,
    "start_time": "2022-04-28T11:53:29.446Z"
   },
   {
    "duration": 17,
    "start_time": "2022-04-28T11:53:29.506Z"
   },
   {
    "duration": 7,
    "start_time": "2022-04-28T11:53:29.526Z"
   },
   {
    "duration": 278,
    "start_time": "2022-04-28T11:53:29.536Z"
   },
   {
    "duration": 0,
    "start_time": "2022-04-28T11:53:29.817Z"
   },
   {
    "duration": 0,
    "start_time": "2022-04-28T11:53:29.819Z"
   },
   {
    "duration": 0,
    "start_time": "2022-04-28T11:53:29.820Z"
   },
   {
    "duration": 0,
    "start_time": "2022-04-28T11:53:29.822Z"
   },
   {
    "duration": 0,
    "start_time": "2022-04-28T11:53:29.824Z"
   },
   {
    "duration": 43,
    "start_time": "2022-04-28T11:54:16.026Z"
   },
   {
    "duration": 13,
    "start_time": "2022-04-28T11:54:17.412Z"
   },
   {
    "duration": 40,
    "start_time": "2022-04-28T12:06:49.034Z"
   },
   {
    "duration": 12,
    "start_time": "2022-04-28T12:06:49.845Z"
   },
   {
    "duration": 11,
    "start_time": "2022-04-28T12:11:07.758Z"
   },
   {
    "duration": 40,
    "start_time": "2022-04-28T12:11:11.537Z"
   },
   {
    "duration": 13,
    "start_time": "2022-04-28T12:11:12.596Z"
   },
   {
    "duration": 5,
    "start_time": "2022-04-28T12:11:30.721Z"
   },
   {
    "duration": 1950,
    "start_time": "2022-04-28T12:11:34.434Z"
   },
   {
    "duration": 6,
    "start_time": "2022-04-28T13:04:57.782Z"
   },
   {
    "duration": 2197,
    "start_time": "2022-04-28T13:05:06.391Z"
   },
   {
    "duration": 1129,
    "start_time": "2022-04-28T13:05:08.592Z"
   },
   {
    "duration": 41,
    "start_time": "2022-04-28T13:05:09.723Z"
   },
   {
    "duration": 18,
    "start_time": "2022-04-28T13:05:09.767Z"
   },
   {
    "duration": 227,
    "start_time": "2022-04-28T13:05:09.790Z"
   },
   {
    "duration": 135,
    "start_time": "2022-04-28T13:05:10.020Z"
   },
   {
    "duration": 1176,
    "start_time": "2022-04-28T13:05:10.157Z"
   },
   {
    "duration": 163,
    "start_time": "2022-04-28T13:05:11.335Z"
   },
   {
    "duration": 757,
    "start_time": "2022-04-28T13:05:11.500Z"
   },
   {
    "duration": 316,
    "start_time": "2022-04-28T13:05:12.259Z"
   },
   {
    "duration": 1561,
    "start_time": "2022-04-28T13:05:12.577Z"
   },
   {
    "duration": 59,
    "start_time": "2022-04-28T13:05:14.141Z"
   },
   {
    "duration": 6,
    "start_time": "2022-04-28T13:05:14.202Z"
   },
   {
    "duration": 9100,
    "start_time": "2022-04-28T13:05:14.213Z"
   },
   {
    "duration": 21,
    "start_time": "2022-04-28T13:05:23.315Z"
   },
   {
    "duration": 11,
    "start_time": "2022-04-28T13:05:23.338Z"
   },
   {
    "duration": 35,
    "start_time": "2022-04-28T13:05:23.352Z"
   },
   {
    "duration": 16,
    "start_time": "2022-04-28T13:05:23.389Z"
   },
   {
    "duration": 20,
    "start_time": "2022-04-28T13:05:23.408Z"
   },
   {
    "duration": 7,
    "start_time": "2022-04-28T13:05:23.430Z"
   },
   {
    "duration": 43,
    "start_time": "2022-04-28T13:05:23.439Z"
   },
   {
    "duration": 42,
    "start_time": "2022-04-28T13:05:23.485Z"
   },
   {
    "duration": 15,
    "start_time": "2022-04-28T13:05:23.530Z"
   },
   {
    "duration": 34,
    "start_time": "2022-04-28T13:05:23.548Z"
   },
   {
    "duration": 1899,
    "start_time": "2022-04-28T13:05:23.586Z"
   },
   {
    "duration": 49997,
    "start_time": "2022-04-28T13:05:25.490Z"
   },
   {
    "duration": 2912,
    "start_time": "2022-04-28T13:06:15.489Z"
   },
   {
    "duration": 9,
    "start_time": "2022-04-28T13:06:18.404Z"
   },
   {
    "duration": 12,
    "start_time": "2022-04-28T13:06:18.416Z"
   },
   {
    "duration": 2439,
    "start_time": "2022-04-28T13:06:22.145Z"
   },
   {
    "duration": 1250,
    "start_time": "2022-04-28T13:06:24.588Z"
   },
   {
    "duration": 42,
    "start_time": "2022-04-28T13:06:25.841Z"
   },
   {
    "duration": 6,
    "start_time": "2022-04-28T13:06:25.888Z"
   },
   {
    "duration": 247,
    "start_time": "2022-04-28T13:06:25.897Z"
   },
   {
    "duration": 147,
    "start_time": "2022-04-28T13:06:26.146Z"
   },
   {
    "duration": 1398,
    "start_time": "2022-04-28T13:06:26.295Z"
   },
   {
    "duration": 286,
    "start_time": "2022-04-28T13:06:27.696Z"
   },
   {
    "duration": 1024,
    "start_time": "2022-04-28T13:06:27.985Z"
   },
   {
    "duration": 547,
    "start_time": "2022-04-28T13:06:29.015Z"
   },
   {
    "duration": 2385,
    "start_time": "2022-04-28T13:06:29.565Z"
   },
   {
    "duration": 82,
    "start_time": "2022-04-28T13:06:31.953Z"
   },
   {
    "duration": 10,
    "start_time": "2022-04-28T13:06:32.038Z"
   },
   {
    "duration": 13693,
    "start_time": "2022-04-28T13:06:32.050Z"
   },
   {
    "duration": 43,
    "start_time": "2022-04-28T13:06:45.747Z"
   },
   {
    "duration": 15,
    "start_time": "2022-04-28T13:06:45.793Z"
   },
   {
    "duration": 17,
    "start_time": "2022-04-28T13:06:45.812Z"
   },
   {
    "duration": 12,
    "start_time": "2022-04-28T13:06:45.832Z"
   },
   {
    "duration": 40,
    "start_time": "2022-04-28T13:06:45.848Z"
   },
   {
    "duration": 28,
    "start_time": "2022-04-28T13:06:45.892Z"
   },
   {
    "duration": 62,
    "start_time": "2022-04-28T13:06:45.922Z"
   },
   {
    "duration": 18,
    "start_time": "2022-04-28T13:06:45.987Z"
   },
   {
    "duration": 6,
    "start_time": "2022-04-28T13:06:46.007Z"
   },
   {
    "duration": 2168,
    "start_time": "2022-04-28T13:06:46.015Z"
   },
   {
    "duration": 78527,
    "start_time": "2022-04-28T13:06:48.187Z"
   },
   {
    "duration": 2070,
    "start_time": "2022-04-28T13:08:06.718Z"
   },
   {
    "duration": 9,
    "start_time": "2022-04-28T13:08:08.790Z"
   },
   {
    "duration": 11,
    "start_time": "2022-04-28T13:08:08.806Z"
   },
   {
    "duration": 2478,
    "start_time": "2022-04-28T13:08:08.820Z"
   },
   {
    "duration": 201,
    "start_time": "2022-04-28T13:22:21.036Z"
   },
   {
    "duration": 192,
    "start_time": "2022-04-28T13:22:47.899Z"
   },
   {
    "duration": 187,
    "start_time": "2022-04-28T13:23:42.476Z"
   },
   {
    "duration": 2014,
    "start_time": "2022-04-29T06:54:03.577Z"
   },
   {
    "duration": 861,
    "start_time": "2022-04-29T06:54:05.594Z"
   },
   {
    "duration": 19,
    "start_time": "2022-04-29T06:54:06.457Z"
   },
   {
    "duration": 16,
    "start_time": "2022-04-29T06:54:06.478Z"
   },
   {
    "duration": 158,
    "start_time": "2022-04-29T06:54:06.496Z"
   },
   {
    "duration": 142,
    "start_time": "2022-04-29T06:54:06.656Z"
   },
   {
    "duration": 1047,
    "start_time": "2022-04-29T06:54:06.800Z"
   },
   {
    "duration": 135,
    "start_time": "2022-04-29T06:54:07.849Z"
   },
   {
    "duration": 491,
    "start_time": "2022-04-29T06:54:07.993Z"
   },
   {
    "duration": 238,
    "start_time": "2022-04-29T06:54:08.486Z"
   },
   {
    "duration": 1578,
    "start_time": "2022-04-29T06:54:08.726Z"
   },
   {
    "duration": 45,
    "start_time": "2022-04-29T06:54:10.306Z"
   },
   {
    "duration": 6,
    "start_time": "2022-04-29T06:54:10.354Z"
   },
   {
    "duration": 9725,
    "start_time": "2022-04-29T06:54:10.362Z"
   },
   {
    "duration": 18,
    "start_time": "2022-04-29T06:54:20.090Z"
   },
   {
    "duration": 10,
    "start_time": "2022-04-29T06:54:20.111Z"
   },
   {
    "duration": 8,
    "start_time": "2022-04-29T06:54:20.124Z"
   },
   {
    "duration": 8,
    "start_time": "2022-04-29T06:54:20.135Z"
   },
   {
    "duration": 7,
    "start_time": "2022-04-29T06:54:20.145Z"
   },
   {
    "duration": 48,
    "start_time": "2022-04-29T06:54:20.155Z"
   },
   {
    "duration": 44,
    "start_time": "2022-04-29T06:54:20.205Z"
   },
   {
    "duration": 12,
    "start_time": "2022-04-29T06:54:20.251Z"
   },
   {
    "duration": 30,
    "start_time": "2022-04-29T06:54:20.266Z"
   },
   {
    "duration": 1496,
    "start_time": "2022-04-29T06:54:20.298Z"
   },
   {
    "duration": 1902,
    "start_time": "2022-04-29T06:56:36.596Z"
   },
   {
    "duration": 832,
    "start_time": "2022-04-29T06:56:38.500Z"
   },
   {
    "duration": 19,
    "start_time": "2022-04-29T06:56:39.334Z"
   },
   {
    "duration": 3,
    "start_time": "2022-04-29T06:56:39.355Z"
   },
   {
    "duration": 157,
    "start_time": "2022-04-29T06:56:39.360Z"
   },
   {
    "duration": 104,
    "start_time": "2022-04-29T06:56:39.519Z"
   },
   {
    "duration": 914,
    "start_time": "2022-04-29T06:56:39.624Z"
   },
   {
    "duration": 138,
    "start_time": "2022-04-29T06:56:40.539Z"
   },
   {
    "duration": 494,
    "start_time": "2022-04-29T06:56:40.679Z"
   },
   {
    "duration": 254,
    "start_time": "2022-04-29T06:56:41.176Z"
   },
   {
    "duration": 991,
    "start_time": "2022-04-29T06:56:41.431Z"
   },
   {
    "duration": 28,
    "start_time": "2022-04-29T06:56:42.424Z"
   },
   {
    "duration": 4,
    "start_time": "2022-04-29T06:56:42.454Z"
   },
   {
    "duration": 6874,
    "start_time": "2022-04-29T06:56:42.460Z"
   },
   {
    "duration": 12,
    "start_time": "2022-04-29T06:56:49.336Z"
   },
   {
    "duration": 8,
    "start_time": "2022-04-29T06:56:49.350Z"
   },
   {
    "duration": 7,
    "start_time": "2022-04-29T06:56:49.360Z"
   },
   {
    "duration": 28,
    "start_time": "2022-04-29T06:56:49.368Z"
   },
   {
    "duration": 6,
    "start_time": "2022-04-29T06:56:49.398Z"
   },
   {
    "duration": 12,
    "start_time": "2022-04-29T06:56:49.405Z"
   },
   {
    "duration": 26,
    "start_time": "2022-04-29T06:56:49.419Z"
   },
   {
    "duration": 8,
    "start_time": "2022-04-29T06:56:49.446Z"
   },
   {
    "duration": 38,
    "start_time": "2022-04-29T06:56:49.456Z"
   },
   {
    "duration": 1405,
    "start_time": "2022-04-29T06:56:49.496Z"
   },
   {
    "duration": 130899,
    "start_time": "2022-04-29T06:56:50.902Z"
   },
   {
    "duration": 3604,
    "start_time": "2022-04-29T06:59:01.803Z"
   },
   {
    "duration": 8,
    "start_time": "2022-04-29T06:59:05.494Z"
   },
   {
    "duration": 7,
    "start_time": "2022-04-29T06:59:05.507Z"
   },
   {
    "duration": 2190,
    "start_time": "2022-04-29T06:59:05.516Z"
   },
   {
    "duration": 1566,
    "start_time": "2022-04-29T06:59:34.432Z"
   },
   {
    "duration": 1679,
    "start_time": "2022-04-29T07:01:36.655Z"
   },
   {
    "duration": 763,
    "start_time": "2022-04-29T07:01:38.336Z"
   },
   {
    "duration": 20,
    "start_time": "2022-04-29T07:01:39.101Z"
   },
   {
    "duration": 4,
    "start_time": "2022-04-29T07:01:39.123Z"
   },
   {
    "duration": 156,
    "start_time": "2022-04-29T07:01:39.129Z"
   },
   {
    "duration": 87,
    "start_time": "2022-04-29T07:01:39.292Z"
   },
   {
    "duration": 834,
    "start_time": "2022-04-29T07:01:39.381Z"
   },
   {
    "duration": 120,
    "start_time": "2022-04-29T07:01:40.217Z"
   },
   {
    "duration": 423,
    "start_time": "2022-04-29T07:01:40.339Z"
   },
   {
    "duration": 222,
    "start_time": "2022-04-29T07:01:40.765Z"
   },
   {
    "duration": 951,
    "start_time": "2022-04-29T07:01:40.989Z"
   },
   {
    "duration": 28,
    "start_time": "2022-04-29T07:01:41.942Z"
   },
   {
    "duration": 5,
    "start_time": "2022-04-29T07:01:41.972Z"
   },
   {
    "duration": 6564,
    "start_time": "2022-04-29T07:01:41.978Z"
   },
   {
    "duration": 13,
    "start_time": "2022-04-29T07:01:48.544Z"
   },
   {
    "duration": 8,
    "start_time": "2022-04-29T07:01:48.558Z"
   },
   {
    "duration": 25,
    "start_time": "2022-04-29T07:01:48.568Z"
   },
   {
    "duration": 7,
    "start_time": "2022-04-29T07:01:48.594Z"
   },
   {
    "duration": 7,
    "start_time": "2022-04-29T07:01:48.603Z"
   },
   {
    "duration": 10,
    "start_time": "2022-04-29T07:01:48.612Z"
   },
   {
    "duration": 28,
    "start_time": "2022-04-29T07:01:48.624Z"
   },
   {
    "duration": 9,
    "start_time": "2022-04-29T07:01:48.654Z"
   },
   {
    "duration": 6,
    "start_time": "2022-04-29T07:01:48.692Z"
   },
   {
    "duration": 132,
    "start_time": "2022-04-29T07:01:48.700Z"
   },
   {
    "duration": 0,
    "start_time": "2022-04-29T07:01:48.834Z"
   },
   {
    "duration": 0,
    "start_time": "2022-04-29T07:01:48.835Z"
   },
   {
    "duration": 0,
    "start_time": "2022-04-29T07:01:48.836Z"
   },
   {
    "duration": 0,
    "start_time": "2022-04-29T07:01:48.837Z"
   },
   {
    "duration": 0,
    "start_time": "2022-04-29T07:01:48.838Z"
   },
   {
    "duration": 29942,
    "start_time": "2022-04-29T07:04:41.763Z"
   },
   {
    "duration": 1764,
    "start_time": "2022-04-29T07:05:23.368Z"
   },
   {
    "duration": 808,
    "start_time": "2022-04-29T07:05:25.133Z"
   },
   {
    "duration": 19,
    "start_time": "2022-04-29T07:05:25.942Z"
   },
   {
    "duration": 4,
    "start_time": "2022-04-29T07:05:25.963Z"
   },
   {
    "duration": 159,
    "start_time": "2022-04-29T07:05:25.968Z"
   },
   {
    "duration": 101,
    "start_time": "2022-04-29T07:05:26.129Z"
   },
   {
    "duration": 1008,
    "start_time": "2022-04-29T07:05:26.232Z"
   },
   {
    "duration": 128,
    "start_time": "2022-04-29T07:05:27.242Z"
   },
   {
    "duration": 467,
    "start_time": "2022-04-29T07:05:27.372Z"
   },
   {
    "duration": 252,
    "start_time": "2022-04-29T07:05:27.841Z"
   },
   {
    "duration": 945,
    "start_time": "2022-04-29T07:05:28.095Z"
   },
   {
    "duration": 27,
    "start_time": "2022-04-29T07:05:29.041Z"
   },
   {
    "duration": 4,
    "start_time": "2022-04-29T07:05:29.070Z"
   },
   {
    "duration": 6554,
    "start_time": "2022-04-29T07:05:29.076Z"
   },
   {
    "duration": 11,
    "start_time": "2022-04-29T07:05:35.632Z"
   },
   {
    "duration": 40,
    "start_time": "2022-04-29T07:05:35.645Z"
   },
   {
    "duration": 50,
    "start_time": "2022-04-29T07:05:35.687Z"
   },
   {
    "duration": 14,
    "start_time": "2022-04-29T07:05:35.739Z"
   },
   {
    "duration": 24,
    "start_time": "2022-04-29T07:05:35.755Z"
   },
   {
    "duration": 19,
    "start_time": "2022-04-29T07:05:35.781Z"
   },
   {
    "duration": 27,
    "start_time": "2022-04-29T07:05:35.802Z"
   },
   {
    "duration": 10,
    "start_time": "2022-04-29T07:05:35.831Z"
   },
   {
    "duration": 17,
    "start_time": "2022-04-29T07:05:35.843Z"
   },
   {
    "duration": 133,
    "start_time": "2022-04-29T07:05:35.861Z"
   },
   {
    "duration": 0,
    "start_time": "2022-04-29T07:05:35.996Z"
   },
   {
    "duration": 0,
    "start_time": "2022-04-29T07:05:35.998Z"
   },
   {
    "duration": 0,
    "start_time": "2022-04-29T07:05:35.999Z"
   },
   {
    "duration": 0,
    "start_time": "2022-04-29T07:05:36.001Z"
   },
   {
    "duration": 0,
    "start_time": "2022-04-29T07:05:36.003Z"
   },
   {
    "duration": 11,
    "start_time": "2022-04-29T07:06:31.449Z"
   },
   {
    "duration": 1570,
    "start_time": "2022-04-29T07:06:41.800Z"
   },
   {
    "duration": 779,
    "start_time": "2022-04-29T07:06:43.372Z"
   },
   {
    "duration": 18,
    "start_time": "2022-04-29T07:06:44.153Z"
   },
   {
    "duration": 4,
    "start_time": "2022-04-29T07:06:44.174Z"
   },
   {
    "duration": 145,
    "start_time": "2022-04-29T07:06:44.192Z"
   },
   {
    "duration": 110,
    "start_time": "2022-04-29T07:06:44.339Z"
   },
   {
    "duration": 848,
    "start_time": "2022-04-29T07:06:44.451Z"
   },
   {
    "duration": 123,
    "start_time": "2022-04-29T07:06:45.301Z"
   },
   {
    "duration": 436,
    "start_time": "2022-04-29T07:06:45.425Z"
   },
   {
    "duration": 229,
    "start_time": "2022-04-29T07:06:45.864Z"
   },
   {
    "duration": 870,
    "start_time": "2022-04-29T07:06:46.095Z"
   },
   {
    "duration": 41,
    "start_time": "2022-04-29T07:06:46.967Z"
   },
   {
    "duration": 5,
    "start_time": "2022-04-29T07:06:47.010Z"
   },
   {
    "duration": 6697,
    "start_time": "2022-04-29T07:06:47.017Z"
   },
   {
    "duration": 12,
    "start_time": "2022-04-29T07:06:53.717Z"
   },
   {
    "duration": 8,
    "start_time": "2022-04-29T07:06:53.731Z"
   },
   {
    "duration": 11,
    "start_time": "2022-04-29T07:06:53.741Z"
   },
   {
    "duration": 16,
    "start_time": "2022-04-29T07:06:53.753Z"
   },
   {
    "duration": 21,
    "start_time": "2022-04-29T07:06:53.771Z"
   },
   {
    "duration": 21,
    "start_time": "2022-04-29T07:06:53.794Z"
   },
   {
    "duration": 32,
    "start_time": "2022-04-29T07:06:53.817Z"
   },
   {
    "duration": 10,
    "start_time": "2022-04-29T07:06:53.850Z"
   },
   {
    "duration": 13,
    "start_time": "2022-04-29T07:06:53.862Z"
   },
   {
    "duration": 115,
    "start_time": "2022-04-29T07:06:53.877Z"
   },
   {
    "duration": 0,
    "start_time": "2022-04-29T07:06:53.994Z"
   },
   {
    "duration": 0,
    "start_time": "2022-04-29T07:06:53.995Z"
   },
   {
    "duration": 0,
    "start_time": "2022-04-29T07:06:53.997Z"
   },
   {
    "duration": 0,
    "start_time": "2022-04-29T07:06:53.998Z"
   },
   {
    "duration": 0,
    "start_time": "2022-04-29T07:06:53.999Z"
   },
   {
    "duration": 3,
    "start_time": "2022-04-29T07:07:43.500Z"
   },
   {
    "duration": 11,
    "start_time": "2022-04-29T07:07:45.886Z"
   },
   {
    "duration": 1078,
    "start_time": "2022-04-29T07:08:42.120Z"
   },
   {
    "duration": 4129,
    "start_time": "2022-04-29T07:09:12.278Z"
   },
   {
    "duration": 2408,
    "start_time": "2022-04-29T07:22:49.010Z"
   },
   {
    "duration": 2487,
    "start_time": "2022-04-29T07:24:01.158Z"
   },
   {
    "duration": 6,
    "start_time": "2022-04-29T07:24:21.733Z"
   },
   {
    "duration": 6,
    "start_time": "2022-04-29T07:24:31.162Z"
   },
   {
    "duration": 140,
    "start_time": "2022-04-29T07:35:51.710Z"
   },
   {
    "duration": 73,
    "start_time": "2022-04-29T10:26:12.604Z"
   },
   {
    "duration": 2462,
    "start_time": "2022-04-29T10:26:24.859Z"
   },
   {
    "duration": 1178,
    "start_time": "2022-04-29T10:26:27.324Z"
   },
   {
    "duration": 29,
    "start_time": "2022-04-29T10:26:28.504Z"
   },
   {
    "duration": 6,
    "start_time": "2022-04-29T10:26:28.537Z"
   },
   {
    "duration": 212,
    "start_time": "2022-04-29T10:26:28.545Z"
   },
   {
    "duration": 139,
    "start_time": "2022-04-29T10:26:28.760Z"
   },
   {
    "duration": 1169,
    "start_time": "2022-04-29T10:26:28.902Z"
   },
   {
    "duration": 160,
    "start_time": "2022-04-29T10:26:30.075Z"
   },
   {
    "duration": 961,
    "start_time": "2022-04-29T10:26:30.237Z"
   },
   {
    "duration": 305,
    "start_time": "2022-04-29T10:26:31.202Z"
   },
   {
    "duration": 1846,
    "start_time": "2022-04-29T10:26:31.509Z"
   },
   {
    "duration": 58,
    "start_time": "2022-04-29T10:26:33.357Z"
   },
   {
    "duration": 6,
    "start_time": "2022-04-29T10:26:33.417Z"
   },
   {
    "duration": 9059,
    "start_time": "2022-04-29T10:26:33.426Z"
   },
   {
    "duration": 21,
    "start_time": "2022-04-29T10:26:42.487Z"
   },
   {
    "duration": 10,
    "start_time": "2022-04-29T10:26:42.510Z"
   },
   {
    "duration": 12,
    "start_time": "2022-04-29T10:26:42.522Z"
   },
   {
    "duration": 12,
    "start_time": "2022-04-29T10:26:42.536Z"
   },
   {
    "duration": 36,
    "start_time": "2022-04-29T10:26:42.550Z"
   },
   {
    "duration": 13,
    "start_time": "2022-04-29T10:26:42.589Z"
   },
   {
    "duration": 37,
    "start_time": "2022-04-29T10:26:42.604Z"
   },
   {
    "duration": 41,
    "start_time": "2022-04-29T10:26:42.643Z"
   },
   {
    "duration": 5,
    "start_time": "2022-04-29T10:26:42.686Z"
   },
   {
    "duration": 1291,
    "start_time": "2022-04-29T10:26:42.693Z"
   },
   {
    "duration": 4503,
    "start_time": "2022-04-29T10:26:43.986Z"
   },
   {
    "duration": 2934,
    "start_time": "2022-04-29T10:26:48.492Z"
   },
   {
    "duration": 8,
    "start_time": "2022-04-29T10:26:51.428Z"
   },
   {
    "duration": 8,
    "start_time": "2022-04-29T10:26:51.440Z"
   },
   {
    "duration": 2234,
    "start_time": "2022-04-29T10:26:51.450Z"
   },
   {
    "duration": 38,
    "start_time": "2022-04-29T10:31:23.670Z"
   },
   {
    "duration": 2122,
    "start_time": "2022-04-29T11:11:23.237Z"
   },
   {
    "duration": 1064,
    "start_time": "2022-04-29T11:11:25.362Z"
   },
   {
    "duration": 27,
    "start_time": "2022-04-29T11:11:26.428Z"
   },
   {
    "duration": 5,
    "start_time": "2022-04-29T11:11:26.458Z"
   },
   {
    "duration": 182,
    "start_time": "2022-04-29T11:11:26.482Z"
   },
   {
    "duration": 137,
    "start_time": "2022-04-29T11:11:26.667Z"
   },
   {
    "duration": 1090,
    "start_time": "2022-04-29T11:11:26.807Z"
   },
   {
    "duration": 166,
    "start_time": "2022-04-29T11:11:27.900Z"
   },
   {
    "duration": 777,
    "start_time": "2022-04-29T11:11:28.068Z"
   },
   {
    "duration": 306,
    "start_time": "2022-04-29T11:11:28.850Z"
   },
   {
    "duration": 1717,
    "start_time": "2022-04-29T11:11:29.158Z"
   },
   {
    "duration": 46,
    "start_time": "2022-04-29T11:11:30.877Z"
   },
   {
    "duration": 7,
    "start_time": "2022-04-29T11:11:30.925Z"
   },
   {
    "duration": 9044,
    "start_time": "2022-04-29T11:11:30.934Z"
   },
   {
    "duration": 19,
    "start_time": "2022-04-29T11:11:39.982Z"
   },
   {
    "duration": 10,
    "start_time": "2022-04-29T11:11:40.003Z"
   },
   {
    "duration": 13,
    "start_time": "2022-04-29T11:11:40.015Z"
   },
   {
    "duration": 13,
    "start_time": "2022-04-29T11:11:40.030Z"
   },
   {
    "duration": 37,
    "start_time": "2022-04-29T11:11:40.045Z"
   },
   {
    "duration": 18,
    "start_time": "2022-04-29T11:11:40.084Z"
   },
   {
    "duration": 37,
    "start_time": "2022-04-29T11:11:40.104Z"
   },
   {
    "duration": 11,
    "start_time": "2022-04-29T11:11:40.143Z"
   },
   {
    "duration": 5,
    "start_time": "2022-04-29T11:11:40.182Z"
   },
   {
    "duration": 1797,
    "start_time": "2022-04-29T11:11:40.189Z"
   },
   {
    "duration": 79196,
    "start_time": "2022-04-29T11:11:41.993Z"
   },
   {
    "duration": 24096,
    "start_time": "2022-04-29T11:13:01.191Z"
   },
   {
    "duration": 8,
    "start_time": "2022-04-29T11:13:25.289Z"
   },
   {
    "duration": 9,
    "start_time": "2022-04-29T11:13:25.301Z"
   },
   {
    "duration": 5033,
    "start_time": "2022-04-29T11:13:25.312Z"
   },
   {
    "duration": 52,
    "start_time": "2022-04-29T11:13:30.348Z"
   },
   {
    "duration": 38,
    "start_time": "2022-04-29T11:19:59.073Z"
   },
   {
    "duration": 12,
    "start_time": "2022-04-29T11:20:00.867Z"
   },
   {
    "duration": 12,
    "start_time": "2022-04-29T11:20:01.065Z"
   },
   {
    "duration": 2207,
    "start_time": "2022-04-29T11:20:23.182Z"
   },
   {
    "duration": 1216,
    "start_time": "2022-04-29T11:20:25.393Z"
   },
   {
    "duration": 27,
    "start_time": "2022-04-29T11:20:26.611Z"
   },
   {
    "duration": 4,
    "start_time": "2022-04-29T11:20:26.641Z"
   },
   {
    "duration": 201,
    "start_time": "2022-04-29T11:20:26.647Z"
   },
   {
    "duration": 131,
    "start_time": "2022-04-29T11:20:26.851Z"
   },
   {
    "duration": 1391,
    "start_time": "2022-04-29T11:20:26.984Z"
   },
   {
    "duration": 166,
    "start_time": "2022-04-29T11:20:28.381Z"
   },
   {
    "duration": 727,
    "start_time": "2022-04-29T11:20:28.549Z"
   },
   {
    "duration": 304,
    "start_time": "2022-04-29T11:20:29.280Z"
   },
   {
    "duration": 1876,
    "start_time": "2022-04-29T11:20:29.586Z"
   },
   {
    "duration": 62,
    "start_time": "2022-04-29T11:20:31.464Z"
   },
   {
    "duration": 9,
    "start_time": "2022-04-29T11:20:31.529Z"
   },
   {
    "duration": 10505,
    "start_time": "2022-04-29T11:20:31.541Z"
   },
   {
    "duration": 35,
    "start_time": "2022-04-29T11:20:42.049Z"
   },
   {
    "duration": 15,
    "start_time": "2022-04-29T11:20:42.087Z"
   },
   {
    "duration": 20,
    "start_time": "2022-04-29T11:20:42.104Z"
   },
   {
    "duration": 36,
    "start_time": "2022-04-29T11:20:42.127Z"
   },
   {
    "duration": 18,
    "start_time": "2022-04-29T11:20:42.166Z"
   },
   {
    "duration": 21,
    "start_time": "2022-04-29T11:20:42.187Z"
   },
   {
    "duration": 73,
    "start_time": "2022-04-29T11:20:42.211Z"
   },
   {
    "duration": 15,
    "start_time": "2022-04-29T11:20:42.287Z"
   },
   {
    "duration": 17,
    "start_time": "2022-04-29T11:20:42.305Z"
   },
   {
    "duration": 19,
    "start_time": "2022-04-29T11:20:42.325Z"
   },
   {
    "duration": 324,
    "start_time": "2022-04-29T11:20:42.348Z"
   },
   {
    "duration": 0,
    "start_time": "2022-04-29T11:20:42.682Z"
   },
   {
    "duration": 0,
    "start_time": "2022-04-29T11:20:42.685Z"
   },
   {
    "duration": 0,
    "start_time": "2022-04-29T11:20:42.687Z"
   },
   {
    "duration": 0,
    "start_time": "2022-04-29T11:20:42.688Z"
   },
   {
    "duration": 0,
    "start_time": "2022-04-29T11:20:42.690Z"
   },
   {
    "duration": 17,
    "start_time": "2022-04-29T11:23:50.525Z"
   },
   {
    "duration": 17,
    "start_time": "2022-04-29T11:24:02.115Z"
   },
   {
    "duration": 2046,
    "start_time": "2022-04-29T11:26:00.642Z"
   },
   {
    "duration": 11,
    "start_time": "2022-04-29T11:26:53.803Z"
   },
   {
    "duration": 18,
    "start_time": "2022-04-29T11:26:55.035Z"
   },
   {
    "duration": 5,
    "start_time": "2022-04-29T11:26:57.180Z"
   },
   {
    "duration": 30,
    "start_time": "2022-04-29T11:26:58.833Z"
   },
   {
    "duration": 2298,
    "start_time": "2022-04-29T11:27:27.478Z"
   },
   {
    "duration": 1159,
    "start_time": "2022-04-29T11:27:29.779Z"
   },
   {
    "duration": 27,
    "start_time": "2022-04-29T11:27:30.940Z"
   },
   {
    "duration": 14,
    "start_time": "2022-04-29T11:27:30.970Z"
   },
   {
    "duration": 193,
    "start_time": "2022-04-29T11:27:30.986Z"
   },
   {
    "duration": 137,
    "start_time": "2022-04-29T11:27:31.181Z"
   },
   {
    "duration": 1189,
    "start_time": "2022-04-29T11:27:31.320Z"
   },
   {
    "duration": 172,
    "start_time": "2022-04-29T11:27:32.511Z"
   },
   {
    "duration": 721,
    "start_time": "2022-04-29T11:27:32.685Z"
   },
   {
    "duration": 311,
    "start_time": "2022-04-29T11:27:33.412Z"
   },
   {
    "duration": 1605,
    "start_time": "2022-04-29T11:27:33.726Z"
   },
   {
    "duration": 66,
    "start_time": "2022-04-29T11:27:35.333Z"
   },
   {
    "duration": 8,
    "start_time": "2022-04-29T11:27:35.401Z"
   },
   {
    "duration": 9011,
    "start_time": "2022-04-29T11:27:35.411Z"
   },
   {
    "duration": 24,
    "start_time": "2022-04-29T11:27:44.425Z"
   },
   {
    "duration": 33,
    "start_time": "2022-04-29T11:27:44.452Z"
   },
   {
    "duration": 11,
    "start_time": "2022-04-29T11:27:44.487Z"
   },
   {
    "duration": 9,
    "start_time": "2022-04-29T11:27:44.500Z"
   },
   {
    "duration": 7,
    "start_time": "2022-04-29T11:27:44.511Z"
   },
   {
    "duration": 16,
    "start_time": "2022-04-29T11:27:44.521Z"
   },
   {
    "duration": 74,
    "start_time": "2022-04-29T11:27:44.539Z"
   },
   {
    "duration": 11,
    "start_time": "2022-04-29T11:27:44.616Z"
   },
   {
    "duration": 16,
    "start_time": "2022-04-29T11:27:44.629Z"
   },
   {
    "duration": 35,
    "start_time": "2022-04-29T11:27:44.648Z"
   },
   {
    "duration": 1305,
    "start_time": "2022-04-29T11:27:44.685Z"
   },
   {
    "duration": 256,
    "start_time": "2022-04-29T11:27:46.084Z"
   },
   {
    "duration": 0,
    "start_time": "2022-04-29T11:27:46.343Z"
   },
   {
    "duration": 0,
    "start_time": "2022-04-29T11:27:46.345Z"
   },
   {
    "duration": 0,
    "start_time": "2022-04-29T11:27:46.347Z"
   },
   {
    "duration": 0,
    "start_time": "2022-04-29T11:27:46.348Z"
   },
   {
    "duration": 31,
    "start_time": "2022-04-29T11:30:25.418Z"
   },
   {
    "duration": 29,
    "start_time": "2022-04-29T11:31:20.731Z"
   },
   {
    "duration": 3638,
    "start_time": "2022-04-29T11:32:16.036Z"
   },
   {
    "duration": 2209,
    "start_time": "2022-04-29T11:32:24.843Z"
   },
   {
    "duration": 1147,
    "start_time": "2022-04-29T11:32:27.056Z"
   },
   {
    "duration": 26,
    "start_time": "2022-04-29T11:32:28.206Z"
   },
   {
    "duration": 4,
    "start_time": "2022-04-29T11:32:28.235Z"
   },
   {
    "duration": 202,
    "start_time": "2022-04-29T11:32:28.242Z"
   },
   {
    "duration": 137,
    "start_time": "2022-04-29T11:32:28.446Z"
   },
   {
    "duration": 1123,
    "start_time": "2022-04-29T11:32:28.585Z"
   },
   {
    "duration": 184,
    "start_time": "2022-04-29T11:32:29.711Z"
   },
   {
    "duration": 780,
    "start_time": "2022-04-29T11:32:29.897Z"
   },
   {
    "duration": 299,
    "start_time": "2022-04-29T11:32:30.684Z"
   },
   {
    "duration": 1543,
    "start_time": "2022-04-29T11:32:30.985Z"
   },
   {
    "duration": 62,
    "start_time": "2022-04-29T11:32:32.531Z"
   },
   {
    "duration": 7,
    "start_time": "2022-04-29T11:32:32.595Z"
   },
   {
    "duration": 9715,
    "start_time": "2022-04-29T11:32:32.605Z"
   },
   {
    "duration": 24,
    "start_time": "2022-04-29T11:32:42.323Z"
   },
   {
    "duration": 32,
    "start_time": "2022-04-29T11:32:42.350Z"
   },
   {
    "duration": 11,
    "start_time": "2022-04-29T11:32:42.385Z"
   },
   {
    "duration": 12,
    "start_time": "2022-04-29T11:32:42.398Z"
   },
   {
    "duration": 8,
    "start_time": "2022-04-29T11:32:42.413Z"
   },
   {
    "duration": 60,
    "start_time": "2022-04-29T11:32:42.424Z"
   },
   {
    "duration": 36,
    "start_time": "2022-04-29T11:32:42.487Z"
   },
   {
    "duration": 13,
    "start_time": "2022-04-29T11:32:42.525Z"
   },
   {
    "duration": 53,
    "start_time": "2022-04-29T11:32:42.540Z"
   },
   {
    "duration": 5,
    "start_time": "2022-04-29T11:32:42.595Z"
   },
   {
    "duration": 2091,
    "start_time": "2022-04-29T11:32:42.602Z"
   },
   {
    "duration": 190,
    "start_time": "2022-04-29T11:32:44.782Z"
   },
   {
    "duration": 0,
    "start_time": "2022-04-29T11:32:44.974Z"
   },
   {
    "duration": 0,
    "start_time": "2022-04-29T11:32:44.976Z"
   },
   {
    "duration": 0,
    "start_time": "2022-04-29T11:32:44.982Z"
   },
   {
    "duration": 0,
    "start_time": "2022-04-29T11:32:44.984Z"
   },
   {
    "duration": 18,
    "start_time": "2022-04-29T11:35:24.004Z"
   },
   {
    "duration": 2124,
    "start_time": "2022-04-29T11:35:36.086Z"
   },
   {
    "duration": 1087,
    "start_time": "2022-04-29T11:35:38.213Z"
   },
   {
    "duration": 27,
    "start_time": "2022-04-29T11:35:39.302Z"
   },
   {
    "duration": 12,
    "start_time": "2022-04-29T11:35:39.332Z"
   },
   {
    "duration": 189,
    "start_time": "2022-04-29T11:35:39.346Z"
   },
   {
    "duration": 162,
    "start_time": "2022-04-29T11:35:39.538Z"
   },
   {
    "duration": 1183,
    "start_time": "2022-04-29T11:35:39.702Z"
   },
   {
    "duration": 163,
    "start_time": "2022-04-29T11:35:40.887Z"
   },
   {
    "duration": 693,
    "start_time": "2022-04-29T11:35:41.052Z"
   },
   {
    "duration": 315,
    "start_time": "2022-04-29T11:35:41.749Z"
   },
   {
    "duration": 1452,
    "start_time": "2022-04-29T11:35:42.066Z"
   },
   {
    "duration": 61,
    "start_time": "2022-04-29T11:35:43.520Z"
   },
   {
    "duration": 6,
    "start_time": "2022-04-29T11:35:43.584Z"
   },
   {
    "duration": 12981,
    "start_time": "2022-04-29T11:35:43.592Z"
   },
   {
    "duration": 23,
    "start_time": "2022-04-29T11:35:56.583Z"
   },
   {
    "duration": 11,
    "start_time": "2022-04-29T11:35:56.609Z"
   },
   {
    "duration": 24,
    "start_time": "2022-04-29T11:35:56.623Z"
   },
   {
    "duration": 40,
    "start_time": "2022-04-29T11:35:56.650Z"
   },
   {
    "duration": 8,
    "start_time": "2022-04-29T11:35:56.693Z"
   },
   {
    "duration": 21,
    "start_time": "2022-04-29T11:35:56.704Z"
   },
   {
    "duration": 74,
    "start_time": "2022-04-29T11:35:56.728Z"
   },
   {
    "duration": 13,
    "start_time": "2022-04-29T11:35:56.805Z"
   },
   {
    "duration": 22,
    "start_time": "2022-04-29T11:35:56.821Z"
   },
   {
    "duration": 6,
    "start_time": "2022-04-29T11:35:56.846Z"
   },
   {
    "duration": 1623,
    "start_time": "2022-04-29T11:35:56.883Z"
   },
   {
    "duration": 339,
    "start_time": "2022-04-29T11:35:58.509Z"
   },
   {
    "duration": 0,
    "start_time": "2022-04-29T11:35:58.852Z"
   },
   {
    "duration": 0,
    "start_time": "2022-04-29T11:35:58.854Z"
   },
   {
    "duration": 0,
    "start_time": "2022-04-29T11:35:58.856Z"
   },
   {
    "duration": 0,
    "start_time": "2022-04-29T11:35:58.858Z"
   },
   {
    "duration": 4082,
    "start_time": "2022-04-29T11:40:14.809Z"
   },
   {
    "duration": 5862,
    "start_time": "2022-04-29T11:48:13.990Z"
   },
   {
    "duration": 2354,
    "start_time": "2022-04-29T12:08:51.569Z"
   },
   {
    "duration": 1227,
    "start_time": "2022-04-29T12:08:53.926Z"
   },
   {
    "duration": 38,
    "start_time": "2022-04-29T12:08:55.156Z"
   },
   {
    "duration": 5,
    "start_time": "2022-04-29T12:08:55.197Z"
   },
   {
    "duration": 202,
    "start_time": "2022-04-29T12:08:55.204Z"
   },
   {
    "duration": 175,
    "start_time": "2022-04-29T12:08:55.408Z"
   },
   {
    "duration": 1300,
    "start_time": "2022-04-29T12:08:55.585Z"
   },
   {
    "duration": 161,
    "start_time": "2022-04-29T12:08:56.887Z"
   },
   {
    "duration": 701,
    "start_time": "2022-04-29T12:08:57.051Z"
   },
   {
    "duration": 304,
    "start_time": "2022-04-29T12:08:57.756Z"
   },
   {
    "duration": 1505,
    "start_time": "2022-04-29T12:08:58.062Z"
   },
   {
    "duration": 50,
    "start_time": "2022-04-29T12:08:59.570Z"
   },
   {
    "duration": 6,
    "start_time": "2022-04-29T12:08:59.623Z"
   },
   {
    "duration": 9123,
    "start_time": "2022-04-29T12:08:59.631Z"
   },
   {
    "duration": 33,
    "start_time": "2022-04-29T12:09:08.756Z"
   },
   {
    "duration": 10,
    "start_time": "2022-04-29T12:09:08.791Z"
   },
   {
    "duration": 16,
    "start_time": "2022-04-29T12:09:08.804Z"
   },
   {
    "duration": 10,
    "start_time": "2022-04-29T12:09:08.822Z"
   },
   {
    "duration": 10,
    "start_time": "2022-04-29T12:09:08.835Z"
   },
   {
    "duration": 47,
    "start_time": "2022-04-29T12:09:08.847Z"
   },
   {
    "duration": 36,
    "start_time": "2022-04-29T12:09:08.896Z"
   },
   {
    "duration": 12,
    "start_time": "2022-04-29T12:09:08.935Z"
   },
   {
    "duration": 46,
    "start_time": "2022-04-29T12:09:08.950Z"
   },
   {
    "duration": 6,
    "start_time": "2022-04-29T12:09:08.998Z"
   },
   {
    "duration": 2082,
    "start_time": "2022-04-29T12:09:09.006Z"
   },
   {
    "duration": 310,
    "start_time": "2022-04-29T12:09:11.092Z"
   },
   {
    "duration": 0,
    "start_time": "2022-04-29T12:09:11.406Z"
   },
   {
    "duration": 0,
    "start_time": "2022-04-29T12:09:11.408Z"
   },
   {
    "duration": 0,
    "start_time": "2022-04-29T12:09:11.411Z"
   },
   {
    "duration": 0,
    "start_time": "2022-04-29T12:09:11.414Z"
   },
   {
    "duration": 52,
    "start_time": "2022-04-29T12:10:27.872Z"
   },
   {
    "duration": 11,
    "start_time": "2022-04-29T12:10:29.087Z"
   },
   {
    "duration": 17,
    "start_time": "2022-04-29T12:10:30.900Z"
   },
   {
    "duration": 2172,
    "start_time": "2022-04-29T12:10:49.776Z"
   },
   {
    "duration": 1145,
    "start_time": "2022-04-29T12:10:51.951Z"
   },
   {
    "duration": 29,
    "start_time": "2022-04-29T12:10:53.099Z"
   },
   {
    "duration": 5,
    "start_time": "2022-04-29T12:10:53.132Z"
   },
   {
    "duration": 208,
    "start_time": "2022-04-29T12:10:53.140Z"
   },
   {
    "duration": 133,
    "start_time": "2022-04-29T12:10:53.350Z"
   },
   {
    "duration": 1142,
    "start_time": "2022-04-29T12:10:53.485Z"
   },
   {
    "duration": 165,
    "start_time": "2022-04-29T12:10:54.629Z"
   },
   {
    "duration": 694,
    "start_time": "2022-04-29T12:10:54.797Z"
   },
   {
    "duration": 300,
    "start_time": "2022-04-29T12:10:55.495Z"
   },
   {
    "duration": 1517,
    "start_time": "2022-04-29T12:10:55.797Z"
   },
   {
    "duration": 47,
    "start_time": "2022-04-29T12:10:57.316Z"
   },
   {
    "duration": 19,
    "start_time": "2022-04-29T12:10:57.365Z"
   },
   {
    "duration": 9500,
    "start_time": "2022-04-29T12:10:57.386Z"
   },
   {
    "duration": 22,
    "start_time": "2022-04-29T12:11:06.888Z"
   },
   {
    "duration": 11,
    "start_time": "2022-04-29T12:11:06.912Z"
   },
   {
    "duration": 11,
    "start_time": "2022-04-29T12:11:06.925Z"
   },
   {
    "duration": 42,
    "start_time": "2022-04-29T12:11:06.938Z"
   },
   {
    "duration": 8,
    "start_time": "2022-04-29T12:11:06.983Z"
   },
   {
    "duration": 15,
    "start_time": "2022-04-29T12:11:06.993Z"
   },
   {
    "duration": 37,
    "start_time": "2022-04-29T12:11:07.010Z"
   },
   {
    "duration": 40,
    "start_time": "2022-04-29T12:11:07.049Z"
   },
   {
    "duration": 18,
    "start_time": "2022-04-29T12:11:07.091Z"
   },
   {
    "duration": 5,
    "start_time": "2022-04-29T12:11:07.111Z"
   },
   {
    "duration": 2365,
    "start_time": "2022-04-29T12:11:07.119Z"
   },
   {
    "duration": 2625,
    "start_time": "2022-04-29T12:13:06.960Z"
   },
   {
    "duration": 1110,
    "start_time": "2022-04-29T12:13:09.588Z"
   },
   {
    "duration": 33,
    "start_time": "2022-04-29T12:13:10.700Z"
   },
   {
    "duration": 6,
    "start_time": "2022-04-29T12:13:10.736Z"
   },
   {
    "duration": 208,
    "start_time": "2022-04-29T12:13:10.744Z"
   },
   {
    "duration": 133,
    "start_time": "2022-04-29T12:13:10.954Z"
   },
   {
    "duration": 1215,
    "start_time": "2022-04-29T12:13:11.089Z"
   },
   {
    "duration": 157,
    "start_time": "2022-04-29T12:13:12.306Z"
   },
   {
    "duration": 892,
    "start_time": "2022-04-29T12:13:12.466Z"
   },
   {
    "duration": 320,
    "start_time": "2022-04-29T12:13:13.363Z"
   },
   {
    "duration": 1635,
    "start_time": "2022-04-29T12:13:13.685Z"
   },
   {
    "duration": 65,
    "start_time": "2022-04-29T12:13:15.323Z"
   },
   {
    "duration": 7,
    "start_time": "2022-04-29T12:13:15.391Z"
   },
   {
    "duration": 9092,
    "start_time": "2022-04-29T12:13:15.401Z"
   },
   {
    "duration": 20,
    "start_time": "2022-04-29T12:13:24.495Z"
   },
   {
    "duration": 10,
    "start_time": "2022-04-29T12:13:24.517Z"
   },
   {
    "duration": 9,
    "start_time": "2022-04-29T12:13:24.530Z"
   },
   {
    "duration": 42,
    "start_time": "2022-04-29T12:13:24.542Z"
   },
   {
    "duration": 9,
    "start_time": "2022-04-29T12:13:24.586Z"
   },
   {
    "duration": 13,
    "start_time": "2022-04-29T12:13:24.597Z"
   },
   {
    "duration": 36,
    "start_time": "2022-04-29T12:13:24.612Z"
   },
   {
    "duration": 12,
    "start_time": "2022-04-29T12:13:24.681Z"
   },
   {
    "duration": 18,
    "start_time": "2022-04-29T12:13:24.694Z"
   },
   {
    "duration": 5,
    "start_time": "2022-04-29T12:13:24.714Z"
   },
   {
    "duration": 1680,
    "start_time": "2022-04-29T12:13:24.721Z"
   },
   {
    "duration": 2792,
    "start_time": "2022-04-29T12:14:44.576Z"
   },
   {
    "duration": 1510,
    "start_time": "2022-04-29T12:14:47.370Z"
   },
   {
    "duration": 37,
    "start_time": "2022-04-29T12:14:48.883Z"
   },
   {
    "duration": 7,
    "start_time": "2022-04-29T12:14:48.924Z"
   },
   {
    "duration": 305,
    "start_time": "2022-04-29T12:14:48.934Z"
   },
   {
    "duration": 140,
    "start_time": "2022-04-29T12:14:49.244Z"
   },
   {
    "duration": 1168,
    "start_time": "2022-04-29T12:14:49.386Z"
   },
   {
    "duration": 166,
    "start_time": "2022-04-29T12:14:50.556Z"
   },
   {
    "duration": 879,
    "start_time": "2022-04-29T12:14:50.725Z"
   },
   {
    "duration": 307,
    "start_time": "2022-04-29T12:14:51.608Z"
   },
   {
    "duration": 1818,
    "start_time": "2022-04-29T12:14:51.917Z"
   },
   {
    "duration": 59,
    "start_time": "2022-04-29T12:14:53.739Z"
   },
   {
    "duration": 7,
    "start_time": "2022-04-29T12:14:53.800Z"
   },
   {
    "duration": 12055,
    "start_time": "2022-04-29T12:14:53.810Z"
   },
   {
    "duration": 32,
    "start_time": "2022-04-29T12:15:05.868Z"
   },
   {
    "duration": 22,
    "start_time": "2022-04-29T12:15:05.902Z"
   },
   {
    "duration": 8,
    "start_time": "2022-04-29T12:15:05.927Z"
   },
   {
    "duration": 10,
    "start_time": "2022-04-29T12:15:05.937Z"
   },
   {
    "duration": 37,
    "start_time": "2022-04-29T12:15:05.949Z"
   },
   {
    "duration": 17,
    "start_time": "2022-04-29T12:15:05.999Z"
   },
   {
    "duration": 36,
    "start_time": "2022-04-29T12:15:06.019Z"
   },
   {
    "duration": 42,
    "start_time": "2022-04-29T12:15:06.058Z"
   },
   {
    "duration": 20,
    "start_time": "2022-04-29T12:15:06.103Z"
   },
   {
    "duration": 11,
    "start_time": "2022-04-29T12:15:06.125Z"
   },
   {
    "duration": 4147,
    "start_time": "2022-04-29T12:15:06.139Z"
   },
   {
    "duration": 2215,
    "start_time": "2022-04-29T12:15:42.763Z"
   },
   {
    "duration": 1145,
    "start_time": "2022-04-29T12:15:44.980Z"
   },
   {
    "duration": 26,
    "start_time": "2022-04-29T12:15:46.128Z"
   },
   {
    "duration": 26,
    "start_time": "2022-04-29T12:15:46.157Z"
   },
   {
    "duration": 196,
    "start_time": "2022-04-29T12:15:46.186Z"
   },
   {
    "duration": 131,
    "start_time": "2022-04-29T12:15:46.384Z"
   },
   {
    "duration": 1187,
    "start_time": "2022-04-29T12:15:46.518Z"
   },
   {
    "duration": 180,
    "start_time": "2022-04-29T12:15:47.707Z"
   },
   {
    "duration": 724,
    "start_time": "2022-04-29T12:15:47.892Z"
   },
   {
    "duration": 346,
    "start_time": "2022-04-29T12:15:48.621Z"
   },
   {
    "duration": 1594,
    "start_time": "2022-04-29T12:15:48.969Z"
   },
   {
    "duration": 57,
    "start_time": "2022-04-29T12:15:50.565Z"
   },
   {
    "duration": 7,
    "start_time": "2022-04-29T12:15:50.624Z"
   },
   {
    "duration": 9881,
    "start_time": "2022-04-29T12:15:50.633Z"
   },
   {
    "duration": 24,
    "start_time": "2022-04-29T12:16:00.517Z"
   },
   {
    "duration": 15,
    "start_time": "2022-04-29T12:16:00.544Z"
   },
   {
    "duration": 40,
    "start_time": "2022-04-29T12:16:00.561Z"
   },
   {
    "duration": 63,
    "start_time": "2022-04-29T12:16:00.604Z"
   },
   {
    "duration": 29,
    "start_time": "2022-04-29T12:16:00.669Z"
   },
   {
    "duration": 35,
    "start_time": "2022-04-29T12:16:00.700Z"
   },
   {
    "duration": 87,
    "start_time": "2022-04-29T12:16:00.738Z"
   },
   {
    "duration": 14,
    "start_time": "2022-04-29T12:16:00.828Z"
   },
   {
    "duration": 57,
    "start_time": "2022-04-29T12:16:00.845Z"
   },
   {
    "duration": 20,
    "start_time": "2022-04-29T12:16:00.905Z"
   },
   {
    "duration": 5163,
    "start_time": "2022-04-29T12:16:00.928Z"
   },
   {
    "duration": 2362,
    "start_time": "2022-04-29T12:17:02.399Z"
   },
   {
    "duration": 1180,
    "start_time": "2022-04-29T12:17:04.764Z"
   },
   {
    "duration": 36,
    "start_time": "2022-04-29T12:17:05.946Z"
   },
   {
    "duration": 6,
    "start_time": "2022-04-29T12:17:05.991Z"
   },
   {
    "duration": 203,
    "start_time": "2022-04-29T12:17:06.001Z"
   },
   {
    "duration": 146,
    "start_time": "2022-04-29T12:17:06.207Z"
   },
   {
    "duration": 1187,
    "start_time": "2022-04-29T12:17:06.355Z"
   },
   {
    "duration": 192,
    "start_time": "2022-04-29T12:17:07.544Z"
   },
   {
    "duration": 702,
    "start_time": "2022-04-29T12:17:07.738Z"
   },
   {
    "duration": 318,
    "start_time": "2022-04-29T12:17:08.442Z"
   },
   {
    "duration": 1490,
    "start_time": "2022-04-29T12:17:08.762Z"
   },
   {
    "duration": 64,
    "start_time": "2022-04-29T12:17:10.254Z"
   },
   {
    "duration": 7,
    "start_time": "2022-04-29T12:17:10.320Z"
   },
   {
    "duration": 9483,
    "start_time": "2022-04-29T12:17:10.331Z"
   },
   {
    "duration": 21,
    "start_time": "2022-04-29T12:17:19.817Z"
   },
   {
    "duration": 13,
    "start_time": "2022-04-29T12:17:19.840Z"
   },
   {
    "duration": 11,
    "start_time": "2022-04-29T12:17:19.882Z"
   },
   {
    "duration": 20,
    "start_time": "2022-04-29T12:17:19.896Z"
   },
   {
    "duration": 8,
    "start_time": "2022-04-29T12:17:19.919Z"
   },
   {
    "duration": 23,
    "start_time": "2022-04-29T12:17:19.930Z"
   },
   {
    "duration": 72,
    "start_time": "2022-04-29T12:17:19.956Z"
   },
   {
    "duration": 13,
    "start_time": "2022-04-29T12:17:20.031Z"
   },
   {
    "duration": 207,
    "start_time": "2022-04-29T12:17:20.047Z"
   },
   {
    "duration": 0,
    "start_time": "2022-04-29T12:17:20.256Z"
   },
   {
    "duration": 0,
    "start_time": "2022-04-29T12:17:20.259Z"
   },
   {
    "duration": 0,
    "start_time": "2022-04-29T12:17:20.261Z"
   },
   {
    "duration": 0,
    "start_time": "2022-04-29T12:17:20.263Z"
   },
   {
    "duration": 0,
    "start_time": "2022-04-29T12:17:20.265Z"
   },
   {
    "duration": 0,
    "start_time": "2022-04-29T12:17:20.266Z"
   },
   {
    "duration": 0,
    "start_time": "2022-04-29T12:17:20.267Z"
   },
   {
    "duration": 22,
    "start_time": "2022-04-29T12:17:34.549Z"
   },
   {
    "duration": 2348,
    "start_time": "2022-04-29T12:17:45.160Z"
   },
   {
    "duration": 1261,
    "start_time": "2022-04-29T12:17:47.511Z"
   },
   {
    "duration": 34,
    "start_time": "2022-04-29T12:17:48.775Z"
   },
   {
    "duration": 5,
    "start_time": "2022-04-29T12:17:48.811Z"
   },
   {
    "duration": 202,
    "start_time": "2022-04-29T12:17:48.819Z"
   },
   {
    "duration": 136,
    "start_time": "2022-04-29T12:17:49.024Z"
   },
   {
    "duration": 1158,
    "start_time": "2022-04-29T12:17:49.163Z"
   },
   {
    "duration": 172,
    "start_time": "2022-04-29T12:17:50.323Z"
   },
   {
    "duration": 725,
    "start_time": "2022-04-29T12:17:50.497Z"
   },
   {
    "duration": 338,
    "start_time": "2022-04-29T12:17:51.225Z"
   },
   {
    "duration": 1545,
    "start_time": "2022-04-29T12:17:51.566Z"
   },
   {
    "duration": 46,
    "start_time": "2022-04-29T12:17:53.114Z"
   },
   {
    "duration": 26,
    "start_time": "2022-04-29T12:17:53.163Z"
   },
   {
    "duration": 9802,
    "start_time": "2022-04-29T12:17:53.194Z"
   },
   {
    "duration": 26,
    "start_time": "2022-04-29T12:18:03.002Z"
   },
   {
    "duration": 14,
    "start_time": "2022-04-29T12:18:03.031Z"
   },
   {
    "duration": 42,
    "start_time": "2022-04-29T12:18:03.047Z"
   },
   {
    "duration": 10,
    "start_time": "2022-04-29T12:18:03.092Z"
   },
   {
    "duration": 9,
    "start_time": "2022-04-29T12:18:03.104Z"
   },
   {
    "duration": 32,
    "start_time": "2022-04-29T12:18:03.116Z"
   },
   {
    "duration": 56,
    "start_time": "2022-04-29T12:18:03.151Z"
   },
   {
    "duration": 11,
    "start_time": "2022-04-29T12:18:03.209Z"
   },
   {
    "duration": 16,
    "start_time": "2022-04-29T12:18:03.222Z"
   },
   {
    "duration": 6,
    "start_time": "2022-04-29T12:18:03.241Z"
   },
   {
    "duration": 2655,
    "start_time": "2022-04-29T12:18:03.249Z"
   },
   {
    "duration": 360,
    "start_time": "2022-04-29T12:18:05.907Z"
   },
   {
    "duration": 0,
    "start_time": "2022-04-29T12:18:06.270Z"
   },
   {
    "duration": 0,
    "start_time": "2022-04-29T12:18:06.271Z"
   },
   {
    "duration": 0,
    "start_time": "2022-04-29T12:18:06.272Z"
   },
   {
    "duration": 0,
    "start_time": "2022-04-29T12:18:06.286Z"
   },
   {
    "duration": 17,
    "start_time": "2022-04-29T12:21:13.528Z"
   },
   {
    "duration": 2130,
    "start_time": "2022-04-29T12:21:20.411Z"
   },
   {
    "duration": 1655,
    "start_time": "2022-04-29T12:21:22.544Z"
   },
   {
    "duration": 29,
    "start_time": "2022-04-29T12:21:24.202Z"
   },
   {
    "duration": 4,
    "start_time": "2022-04-29T12:21:24.234Z"
   },
   {
    "duration": 193,
    "start_time": "2022-04-29T12:21:24.240Z"
   },
   {
    "duration": 170,
    "start_time": "2022-04-29T12:21:24.435Z"
   },
   {
    "duration": 1110,
    "start_time": "2022-04-29T12:21:24.607Z"
   },
   {
    "duration": 164,
    "start_time": "2022-04-29T12:21:25.719Z"
   },
   {
    "duration": 708,
    "start_time": "2022-04-29T12:21:25.885Z"
   },
   {
    "duration": 304,
    "start_time": "2022-04-29T12:21:26.597Z"
   },
   {
    "duration": 1504,
    "start_time": "2022-04-29T12:21:26.903Z"
   },
   {
    "duration": 49,
    "start_time": "2022-04-29T12:21:28.409Z"
   },
   {
    "duration": 22,
    "start_time": "2022-04-29T12:21:28.460Z"
   },
   {
    "duration": 9301,
    "start_time": "2022-04-29T12:21:28.484Z"
   },
   {
    "duration": 21,
    "start_time": "2022-04-29T12:21:37.788Z"
   },
   {
    "duration": 11,
    "start_time": "2022-04-29T12:21:37.811Z"
   },
   {
    "duration": 10,
    "start_time": "2022-04-29T12:21:37.825Z"
   },
   {
    "duration": 17,
    "start_time": "2022-04-29T12:21:37.837Z"
   },
   {
    "duration": 8,
    "start_time": "2022-04-29T12:21:37.882Z"
   },
   {
    "duration": 26,
    "start_time": "2022-04-29T12:21:37.892Z"
   },
   {
    "duration": 38,
    "start_time": "2022-04-29T12:21:37.921Z"
   },
   {
    "duration": 29,
    "start_time": "2022-04-29T12:21:37.961Z"
   },
   {
    "duration": 19,
    "start_time": "2022-04-29T12:21:37.992Z"
   },
   {
    "duration": 16,
    "start_time": "2022-04-29T12:21:38.014Z"
   },
   {
    "duration": 1653,
    "start_time": "2022-04-29T12:21:38.033Z"
   },
   {
    "duration": 269,
    "start_time": "2022-04-29T12:21:39.690Z"
   },
   {
    "duration": 0,
    "start_time": "2022-04-29T12:21:39.962Z"
   },
   {
    "duration": 0,
    "start_time": "2022-04-29T12:21:39.963Z"
   },
   {
    "duration": 0,
    "start_time": "2022-04-29T12:21:39.965Z"
   },
   {
    "duration": 0,
    "start_time": "2022-04-29T12:21:39.967Z"
   },
   {
    "duration": 31,
    "start_time": "2022-04-29T12:23:09.758Z"
   },
   {
    "duration": 2152,
    "start_time": "2022-04-29T12:23:24.190Z"
   },
   {
    "duration": 1102,
    "start_time": "2022-04-29T12:23:26.345Z"
   },
   {
    "duration": 28,
    "start_time": "2022-04-29T12:23:27.449Z"
   },
   {
    "duration": 5,
    "start_time": "2022-04-29T12:23:27.483Z"
   },
   {
    "duration": 195,
    "start_time": "2022-04-29T12:23:27.490Z"
   },
   {
    "duration": 177,
    "start_time": "2022-04-29T12:23:27.687Z"
   },
   {
    "duration": 1944,
    "start_time": "2022-04-29T12:23:27.867Z"
   },
   {
    "duration": 304,
    "start_time": "2022-04-29T12:23:29.814Z"
   },
   {
    "duration": 722,
    "start_time": "2022-04-29T12:23:30.121Z"
   },
   {
    "duration": 303,
    "start_time": "2022-04-29T12:23:30.849Z"
   },
   {
    "duration": 1533,
    "start_time": "2022-04-29T12:23:31.154Z"
   },
   {
    "duration": 50,
    "start_time": "2022-04-29T12:23:32.689Z"
   },
   {
    "duration": 6,
    "start_time": "2022-04-29T12:23:32.741Z"
   },
   {
    "duration": 9046,
    "start_time": "2022-04-29T12:23:32.750Z"
   },
   {
    "duration": 21,
    "start_time": "2022-04-29T12:23:41.798Z"
   },
   {
    "duration": 10,
    "start_time": "2022-04-29T12:23:41.821Z"
   },
   {
    "duration": 10,
    "start_time": "2022-04-29T12:23:41.833Z"
   },
   {
    "duration": 37,
    "start_time": "2022-04-29T12:23:41.846Z"
   },
   {
    "duration": 7,
    "start_time": "2022-04-29T12:23:41.886Z"
   },
   {
    "duration": 15,
    "start_time": "2022-04-29T12:23:41.895Z"
   },
   {
    "duration": 35,
    "start_time": "2022-04-29T12:23:41.913Z"
   },
   {
    "duration": 40,
    "start_time": "2022-04-29T12:23:41.951Z"
   },
   {
    "duration": 31,
    "start_time": "2022-04-29T12:23:41.993Z"
   },
   {
    "duration": 5,
    "start_time": "2022-04-29T12:23:42.026Z"
   },
   {
    "duration": 2151,
    "start_time": "2022-04-29T12:23:42.033Z"
   },
   {
    "duration": 25304,
    "start_time": "2022-04-29T12:23:44.187Z"
   },
   {
    "duration": 3515,
    "start_time": "2022-04-29T12:24:09.494Z"
   },
   {
    "duration": 0,
    "start_time": "2022-04-29T12:24:13.012Z"
   },
   {
    "duration": 0,
    "start_time": "2022-04-29T12:24:13.013Z"
   },
   {
    "duration": 0,
    "start_time": "2022-04-29T12:24:13.015Z"
   },
   {
    "duration": 2286,
    "start_time": "2022-04-29T12:28:28.991Z"
   },
   {
    "duration": 1379,
    "start_time": "2022-04-29T12:28:31.280Z"
   },
   {
    "duration": 31,
    "start_time": "2022-04-29T12:28:32.661Z"
   },
   {
    "duration": 16,
    "start_time": "2022-04-29T12:28:32.695Z"
   },
   {
    "duration": 191,
    "start_time": "2022-04-29T12:28:32.713Z"
   },
   {
    "duration": 136,
    "start_time": "2022-04-29T12:28:32.907Z"
   },
   {
    "duration": 1197,
    "start_time": "2022-04-29T12:28:33.046Z"
   },
   {
    "duration": 165,
    "start_time": "2022-04-29T12:28:34.245Z"
   },
   {
    "duration": 705,
    "start_time": "2022-04-29T12:28:34.412Z"
   },
   {
    "duration": 308,
    "start_time": "2022-04-29T12:28:35.121Z"
   },
   {
    "duration": 1534,
    "start_time": "2022-04-29T12:28:35.431Z"
   },
   {
    "duration": 56,
    "start_time": "2022-04-29T12:28:36.967Z"
   },
   {
    "duration": 7,
    "start_time": "2022-04-29T12:28:37.025Z"
   },
   {
    "duration": 9089,
    "start_time": "2022-04-29T12:28:37.034Z"
   },
   {
    "duration": 20,
    "start_time": "2022-04-29T12:28:46.125Z"
   },
   {
    "duration": 10,
    "start_time": "2022-04-29T12:28:46.147Z"
   },
   {
    "duration": 8,
    "start_time": "2022-04-29T12:28:46.182Z"
   },
   {
    "duration": 15,
    "start_time": "2022-04-29T12:28:46.192Z"
   },
   {
    "duration": 14,
    "start_time": "2022-04-29T12:28:46.209Z"
   },
   {
    "duration": 14,
    "start_time": "2022-04-29T12:28:46.226Z"
   },
   {
    "duration": 68,
    "start_time": "2022-04-29T12:28:46.242Z"
   },
   {
    "duration": 11,
    "start_time": "2022-04-29T12:28:46.312Z"
   },
   {
    "duration": 190,
    "start_time": "2022-04-29T12:28:46.325Z"
   },
   {
    "duration": 0,
    "start_time": "2022-04-29T12:28:46.517Z"
   },
   {
    "duration": 0,
    "start_time": "2022-04-29T12:28:46.519Z"
   },
   {
    "duration": 0,
    "start_time": "2022-04-29T12:28:46.521Z"
   },
   {
    "duration": 0,
    "start_time": "2022-04-29T12:28:46.522Z"
   },
   {
    "duration": 0,
    "start_time": "2022-04-29T12:28:46.524Z"
   },
   {
    "duration": 0,
    "start_time": "2022-04-29T12:28:46.525Z"
   },
   {
    "duration": 0,
    "start_time": "2022-04-29T12:28:46.526Z"
   },
   {
    "duration": 2135,
    "start_time": "2022-04-29T12:30:37.907Z"
   },
   {
    "duration": 1118,
    "start_time": "2022-04-29T12:30:40.045Z"
   },
   {
    "duration": 32,
    "start_time": "2022-04-29T12:30:41.165Z"
   },
   {
    "duration": 5,
    "start_time": "2022-04-29T12:30:41.200Z"
   },
   {
    "duration": 208,
    "start_time": "2022-04-29T12:30:41.207Z"
   },
   {
    "duration": 137,
    "start_time": "2022-04-29T12:30:41.418Z"
   },
   {
    "duration": 1144,
    "start_time": "2022-04-29T12:30:41.559Z"
   },
   {
    "duration": 188,
    "start_time": "2022-04-29T12:30:42.705Z"
   },
   {
    "duration": 693,
    "start_time": "2022-04-29T12:30:42.895Z"
   },
   {
    "duration": 316,
    "start_time": "2022-04-29T12:30:43.593Z"
   },
   {
    "duration": 1579,
    "start_time": "2022-04-29T12:30:43.911Z"
   },
   {
    "duration": 52,
    "start_time": "2022-04-29T12:30:45.493Z"
   },
   {
    "duration": 8,
    "start_time": "2022-04-29T12:30:45.547Z"
   },
   {
    "duration": 9474,
    "start_time": "2022-04-29T12:30:45.557Z"
   },
   {
    "duration": 21,
    "start_time": "2022-04-29T12:30:55.033Z"
   },
   {
    "duration": 26,
    "start_time": "2022-04-29T12:30:55.056Z"
   },
   {
    "duration": 21,
    "start_time": "2022-04-29T12:30:55.085Z"
   },
   {
    "duration": 8,
    "start_time": "2022-04-29T12:30:55.109Z"
   },
   {
    "duration": 10,
    "start_time": "2022-04-29T12:30:55.119Z"
   },
   {
    "duration": 15,
    "start_time": "2022-04-29T12:30:55.131Z"
   },
   {
    "duration": 63,
    "start_time": "2022-04-29T12:30:55.148Z"
   },
   {
    "duration": 10,
    "start_time": "2022-04-29T12:30:55.213Z"
   },
   {
    "duration": 30,
    "start_time": "2022-04-29T12:30:55.225Z"
   },
   {
    "duration": 36,
    "start_time": "2022-04-29T12:30:55.257Z"
   },
   {
    "duration": 1996,
    "start_time": "2022-04-29T12:30:55.296Z"
   },
   {
    "duration": 28906,
    "start_time": "2022-04-29T12:30:57.295Z"
   },
   {
    "duration": 4034,
    "start_time": "2022-04-29T12:31:26.204Z"
   },
   {
    "duration": 0,
    "start_time": "2022-04-29T12:31:30.241Z"
   },
   {
    "duration": 0,
    "start_time": "2022-04-29T12:31:30.242Z"
   },
   {
    "duration": 0,
    "start_time": "2022-04-29T12:31:30.244Z"
   },
   {
    "duration": 1900,
    "start_time": "2022-04-29T12:34:50.639Z"
   },
   {
    "duration": 2693,
    "start_time": "2022-04-29T12:37:21.292Z"
   },
   {
    "duration": 2695,
    "start_time": "2022-04-29T12:38:13.190Z"
   },
   {
    "duration": 100,
    "start_time": "2022-04-29T12:38:43.639Z"
   },
   {
    "duration": 17,
    "start_time": "2022-04-29T12:39:07.046Z"
   },
   {
    "duration": 2212,
    "start_time": "2022-04-29T12:39:22.787Z"
   },
   {
    "duration": 1114,
    "start_time": "2022-04-29T12:39:25.002Z"
   },
   {
    "duration": 26,
    "start_time": "2022-04-29T12:39:26.118Z"
   },
   {
    "duration": 5,
    "start_time": "2022-04-29T12:39:26.148Z"
   },
   {
    "duration": 222,
    "start_time": "2022-04-29T12:39:26.155Z"
   },
   {
    "duration": 139,
    "start_time": "2022-04-29T12:39:26.382Z"
   },
   {
    "duration": 1500,
    "start_time": "2022-04-29T12:39:26.525Z"
   },
   {
    "duration": 187,
    "start_time": "2022-04-29T12:39:28.027Z"
   },
   {
    "duration": 755,
    "start_time": "2022-04-29T12:39:28.216Z"
   },
   {
    "duration": 532,
    "start_time": "2022-04-29T12:39:28.981Z"
   },
   {
    "duration": 1662,
    "start_time": "2022-04-29T12:39:29.516Z"
   },
   {
    "duration": 56,
    "start_time": "2022-04-29T12:39:31.183Z"
   },
   {
    "duration": 9,
    "start_time": "2022-04-29T12:39:31.243Z"
   },
   {
    "duration": 8950,
    "start_time": "2022-04-29T12:39:31.255Z"
   },
   {
    "duration": 19,
    "start_time": "2022-04-29T12:39:40.208Z"
   },
   {
    "duration": 10,
    "start_time": "2022-04-29T12:39:40.230Z"
   },
   {
    "duration": 40,
    "start_time": "2022-04-29T12:39:40.242Z"
   },
   {
    "duration": 8,
    "start_time": "2022-04-29T12:39:40.285Z"
   },
   {
    "duration": 7,
    "start_time": "2022-04-29T12:39:40.296Z"
   },
   {
    "duration": 18,
    "start_time": "2022-04-29T12:39:40.305Z"
   },
   {
    "duration": 83,
    "start_time": "2022-04-29T12:39:40.325Z"
   },
   {
    "duration": 10,
    "start_time": "2022-04-29T12:39:40.411Z"
   },
   {
    "duration": 17,
    "start_time": "2022-04-29T12:39:40.424Z"
   },
   {
    "duration": 37,
    "start_time": "2022-04-29T12:39:40.445Z"
   },
   {
    "duration": 1608,
    "start_time": "2022-04-29T12:39:40.485Z"
   },
   {
    "duration": 303,
    "start_time": "2022-04-29T12:39:42.095Z"
   },
   {
    "duration": 0,
    "start_time": "2022-04-29T12:39:42.401Z"
   },
   {
    "duration": 0,
    "start_time": "2022-04-29T12:39:42.402Z"
   },
   {
    "duration": 0,
    "start_time": "2022-04-29T12:39:42.403Z"
   },
   {
    "duration": 0,
    "start_time": "2022-04-29T12:39:42.405Z"
   },
   {
    "duration": 5807,
    "start_time": "2022-04-29T12:39:59.088Z"
   },
   {
    "duration": 2212,
    "start_time": "2022-04-29T12:40:43.313Z"
   },
   {
    "duration": 1113,
    "start_time": "2022-04-29T12:40:45.529Z"
   },
   {
    "duration": 42,
    "start_time": "2022-04-29T12:40:46.644Z"
   },
   {
    "duration": 6,
    "start_time": "2022-04-29T12:40:46.689Z"
   },
   {
    "duration": 344,
    "start_time": "2022-04-29T12:40:46.697Z"
   },
   {
    "duration": 172,
    "start_time": "2022-04-29T12:40:47.044Z"
   },
   {
    "duration": 1205,
    "start_time": "2022-04-29T12:40:47.219Z"
   },
   {
    "duration": 165,
    "start_time": "2022-04-29T12:40:48.426Z"
   },
   {
    "duration": 691,
    "start_time": "2022-04-29T12:40:48.593Z"
   },
   {
    "duration": 314,
    "start_time": "2022-04-29T12:40:49.287Z"
   },
   {
    "duration": 1733,
    "start_time": "2022-04-29T12:40:49.603Z"
   },
   {
    "duration": 61,
    "start_time": "2022-04-29T12:40:51.339Z"
   },
   {
    "duration": 6,
    "start_time": "2022-04-29T12:40:51.403Z"
   },
   {
    "duration": 9384,
    "start_time": "2022-04-29T12:40:51.412Z"
   },
   {
    "duration": 21,
    "start_time": "2022-04-29T12:41:00.798Z"
   },
   {
    "duration": 22,
    "start_time": "2022-04-29T12:41:00.821Z"
   },
   {
    "duration": 36,
    "start_time": "2022-04-29T12:41:00.846Z"
   },
   {
    "duration": 41,
    "start_time": "2022-04-29T12:41:00.884Z"
   },
   {
    "duration": 25,
    "start_time": "2022-04-29T12:41:00.928Z"
   },
   {
    "duration": 38,
    "start_time": "2022-04-29T12:41:00.955Z"
   },
   {
    "duration": 73,
    "start_time": "2022-04-29T12:41:00.996Z"
   },
   {
    "duration": 11,
    "start_time": "2022-04-29T12:41:01.072Z"
   },
   {
    "duration": 71,
    "start_time": "2022-04-29T12:41:01.085Z"
   },
   {
    "duration": 5,
    "start_time": "2022-04-29T12:41:01.158Z"
   },
   {
    "duration": 2219,
    "start_time": "2022-04-29T12:41:01.165Z"
   },
   {
    "duration": 69900,
    "start_time": "2022-04-29T12:41:03.389Z"
   },
   {
    "duration": 3624,
    "start_time": "2022-04-29T12:42:13.293Z"
   },
   {
    "duration": 0,
    "start_time": "2022-04-29T12:42:16.921Z"
   },
   {
    "duration": 0,
    "start_time": "2022-04-29T12:42:16.923Z"
   },
   {
    "duration": 0,
    "start_time": "2022-04-29T12:42:16.925Z"
   },
   {
    "duration": 2862,
    "start_time": "2022-04-29T12:42:45.167Z"
   },
   {
    "duration": 121,
    "start_time": "2022-04-29T12:44:51.993Z"
   },
   {
    "duration": 48,
    "start_time": "2022-05-01T17:47:07.580Z"
   },
   {
    "duration": 1857,
    "start_time": "2022-05-01T17:47:21.577Z"
   },
   {
    "duration": 733,
    "start_time": "2022-05-01T17:47:23.436Z"
   },
   {
    "duration": 17,
    "start_time": "2022-05-01T17:47:24.171Z"
   },
   {
    "duration": 4,
    "start_time": "2022-05-01T17:47:24.190Z"
   },
   {
    "duration": 143,
    "start_time": "2022-05-01T17:47:24.195Z"
   },
   {
    "duration": 108,
    "start_time": "2022-05-01T17:47:24.340Z"
   },
   {
    "duration": 806,
    "start_time": "2022-05-01T17:47:24.450Z"
   },
   {
    "duration": 120,
    "start_time": "2022-05-01T17:47:25.258Z"
   },
   {
    "duration": 415,
    "start_time": "2022-05-01T17:47:25.379Z"
   },
   {
    "duration": 217,
    "start_time": "2022-05-01T17:47:25.796Z"
   },
   {
    "duration": 1228,
    "start_time": "2022-05-01T17:47:26.015Z"
   },
   {
    "duration": 25,
    "start_time": "2022-05-01T17:47:27.248Z"
   },
   {
    "duration": 4,
    "start_time": "2022-05-01T17:47:27.275Z"
   },
   {
    "duration": 5998,
    "start_time": "2022-05-01T17:47:27.280Z"
   },
   {
    "duration": 10,
    "start_time": "2022-05-01T17:47:33.280Z"
   },
   {
    "duration": 7,
    "start_time": "2022-05-01T17:47:33.292Z"
   },
   {
    "duration": 9,
    "start_time": "2022-05-01T17:47:33.300Z"
   },
   {
    "duration": 7,
    "start_time": "2022-05-01T17:47:33.311Z"
   },
   {
    "duration": 30,
    "start_time": "2022-05-01T17:47:33.319Z"
   },
   {
    "duration": 17,
    "start_time": "2022-05-01T17:47:33.351Z"
   },
   {
    "duration": 24,
    "start_time": "2022-05-01T17:47:33.370Z"
   },
   {
    "duration": 9,
    "start_time": "2022-05-01T17:47:33.396Z"
   },
   {
    "duration": 42,
    "start_time": "2022-05-01T17:47:33.406Z"
   },
   {
    "duration": 4,
    "start_time": "2022-05-01T17:47:33.450Z"
   },
   {
    "duration": 1100,
    "start_time": "2022-05-01T17:47:33.456Z"
   },
   {
    "duration": 178795,
    "start_time": "2022-05-01T17:47:34.558Z"
   },
   {
    "duration": 145,
    "start_time": "2022-05-01T17:50:33.354Z"
   },
   {
    "duration": 0,
    "start_time": "2022-05-01T17:50:33.501Z"
   },
   {
    "duration": 0,
    "start_time": "2022-05-01T17:50:33.502Z"
   },
   {
    "duration": 0,
    "start_time": "2022-05-01T17:50:33.504Z"
   },
   {
    "duration": 15,
    "start_time": "2022-05-01T17:51:56.793Z"
   },
   {
    "duration": 1434,
    "start_time": "2022-05-01T17:52:08.283Z"
   },
   {
    "duration": 742,
    "start_time": "2022-05-01T17:52:09.719Z"
   },
   {
    "duration": 17,
    "start_time": "2022-05-01T17:52:10.463Z"
   },
   {
    "duration": 4,
    "start_time": "2022-05-01T17:52:10.482Z"
   },
   {
    "duration": 137,
    "start_time": "2022-05-01T17:52:10.487Z"
   },
   {
    "duration": 128,
    "start_time": "2022-05-01T17:52:10.626Z"
   },
   {
    "duration": 833,
    "start_time": "2022-05-01T17:52:10.756Z"
   },
   {
    "duration": 120,
    "start_time": "2022-05-01T17:52:11.591Z"
   },
   {
    "duration": 444,
    "start_time": "2022-05-01T17:52:11.713Z"
   },
   {
    "duration": 213,
    "start_time": "2022-05-01T17:52:12.160Z"
   },
   {
    "duration": 889,
    "start_time": "2022-05-01T17:52:12.375Z"
   },
   {
    "duration": 28,
    "start_time": "2022-05-01T17:52:13.266Z"
   },
   {
    "duration": 4,
    "start_time": "2022-05-01T17:52:13.296Z"
   },
   {
    "duration": 6800,
    "start_time": "2022-05-01T17:52:13.302Z"
   },
   {
    "duration": 11,
    "start_time": "2022-05-01T17:52:20.103Z"
   },
   {
    "duration": 7,
    "start_time": "2022-05-01T17:52:20.116Z"
   },
   {
    "duration": 22,
    "start_time": "2022-05-01T17:52:20.125Z"
   },
   {
    "duration": 7,
    "start_time": "2022-05-01T17:52:20.149Z"
   },
   {
    "duration": 6,
    "start_time": "2022-05-01T17:52:20.158Z"
   },
   {
    "duration": 9,
    "start_time": "2022-05-01T17:52:20.166Z"
   },
   {
    "duration": 24,
    "start_time": "2022-05-01T17:52:20.177Z"
   },
   {
    "duration": 45,
    "start_time": "2022-05-01T17:52:20.203Z"
   },
   {
    "duration": 21,
    "start_time": "2022-05-01T17:52:20.250Z"
   },
   {
    "duration": 4,
    "start_time": "2022-05-01T17:52:20.272Z"
   },
   {
    "duration": 1271,
    "start_time": "2022-05-01T17:52:20.278Z"
   },
   {
    "duration": 170204,
    "start_time": "2022-05-01T17:52:21.551Z"
   },
   {
    "duration": 152,
    "start_time": "2022-05-01T17:55:11.757Z"
   },
   {
    "duration": 0,
    "start_time": "2022-05-01T17:55:11.911Z"
   },
   {
    "duration": 0,
    "start_time": "2022-05-01T17:55:11.913Z"
   },
   {
    "duration": 0,
    "start_time": "2022-05-01T17:55:11.914Z"
   },
   {
    "duration": 1746,
    "start_time": "2022-05-01T17:56:16.714Z"
   },
   {
    "duration": 1487,
    "start_time": "2022-05-01T17:56:54.295Z"
   },
   {
    "duration": 775,
    "start_time": "2022-05-01T17:56:55.785Z"
   },
   {
    "duration": 17,
    "start_time": "2022-05-01T17:56:56.561Z"
   },
   {
    "duration": 3,
    "start_time": "2022-05-01T17:56:56.581Z"
   },
   {
    "duration": 175,
    "start_time": "2022-05-01T17:56:56.586Z"
   },
   {
    "duration": 119,
    "start_time": "2022-05-01T17:56:56.762Z"
   },
   {
    "duration": 843,
    "start_time": "2022-05-01T17:56:56.883Z"
   },
   {
    "duration": 125,
    "start_time": "2022-05-01T17:56:57.728Z"
   },
   {
    "duration": 429,
    "start_time": "2022-05-01T17:56:57.855Z"
   },
   {
    "duration": 217,
    "start_time": "2022-05-01T17:56:58.288Z"
   },
   {
    "duration": 881,
    "start_time": "2022-05-01T17:56:58.506Z"
   },
   {
    "duration": 27,
    "start_time": "2022-05-01T17:56:59.389Z"
   },
   {
    "duration": 4,
    "start_time": "2022-05-01T17:56:59.418Z"
   },
   {
    "duration": 6064,
    "start_time": "2022-05-01T17:56:59.424Z"
   },
   {
    "duration": 12,
    "start_time": "2022-05-01T17:57:05.489Z"
   },
   {
    "duration": 8,
    "start_time": "2022-05-01T17:57:05.503Z"
   },
   {
    "duration": 7,
    "start_time": "2022-05-01T17:57:05.513Z"
   },
   {
    "duration": 30,
    "start_time": "2022-05-01T17:57:05.522Z"
   },
   {
    "duration": 6,
    "start_time": "2022-05-01T17:57:05.554Z"
   },
   {
    "duration": 11,
    "start_time": "2022-05-01T17:57:05.561Z"
   },
   {
    "duration": 24,
    "start_time": "2022-05-01T17:57:05.574Z"
   },
   {
    "duration": 9,
    "start_time": "2022-05-01T17:57:05.600Z"
   },
   {
    "duration": 53,
    "start_time": "2022-05-01T17:57:05.611Z"
   },
   {
    "duration": 4,
    "start_time": "2022-05-01T17:57:05.666Z"
   },
   {
    "duration": 1090,
    "start_time": "2022-05-01T17:57:05.671Z"
   },
   {
    "duration": 347995,
    "start_time": "2022-05-01T17:57:06.763Z"
   },
   {
    "duration": 2123,
    "start_time": "2022-05-01T18:02:54.760Z"
   },
   {
    "duration": 0,
    "start_time": "2022-05-01T18:02:56.885Z"
   },
   {
    "duration": 0,
    "start_time": "2022-05-01T18:02:56.886Z"
   },
   {
    "duration": 0,
    "start_time": "2022-05-01T18:02:56.887Z"
   },
   {
    "duration": 11,
    "start_time": "2022-05-01T18:07:57.238Z"
   },
   {
    "duration": 1446,
    "start_time": "2022-05-01T18:08:11.689Z"
   },
   {
    "duration": 776,
    "start_time": "2022-05-01T18:08:13.136Z"
   },
   {
    "duration": 17,
    "start_time": "2022-05-01T18:08:13.914Z"
   },
   {
    "duration": 15,
    "start_time": "2022-05-01T18:08:13.933Z"
   },
   {
    "duration": 136,
    "start_time": "2022-05-01T18:08:13.950Z"
   },
   {
    "duration": 91,
    "start_time": "2022-05-01T18:08:14.088Z"
   },
   {
    "duration": 825,
    "start_time": "2022-05-01T18:08:14.181Z"
   },
   {
    "duration": 122,
    "start_time": "2022-05-01T18:08:15.008Z"
   },
   {
    "duration": 444,
    "start_time": "2022-05-01T18:08:15.132Z"
   },
   {
    "duration": 209,
    "start_time": "2022-05-01T18:08:15.579Z"
   },
   {
    "duration": 932,
    "start_time": "2022-05-01T18:08:15.790Z"
   },
   {
    "duration": 40,
    "start_time": "2022-05-01T18:08:16.724Z"
   },
   {
    "duration": 4,
    "start_time": "2022-05-01T18:08:16.766Z"
   },
   {
    "duration": 6447,
    "start_time": "2022-05-01T18:08:16.771Z"
   },
   {
    "duration": 11,
    "start_time": "2022-05-01T18:08:23.220Z"
   },
   {
    "duration": 18,
    "start_time": "2022-05-01T18:08:23.232Z"
   },
   {
    "duration": 13,
    "start_time": "2022-05-01T18:08:23.251Z"
   },
   {
    "duration": 13,
    "start_time": "2022-05-01T18:08:23.265Z"
   },
   {
    "duration": 5,
    "start_time": "2022-05-01T18:08:23.280Z"
   },
   {
    "duration": 19,
    "start_time": "2022-05-01T18:08:23.286Z"
   },
   {
    "duration": 41,
    "start_time": "2022-05-01T18:08:23.306Z"
   },
   {
    "duration": 8,
    "start_time": "2022-05-01T18:08:23.349Z"
   },
   {
    "duration": 18,
    "start_time": "2022-05-01T18:08:23.359Z"
   },
   {
    "duration": 3,
    "start_time": "2022-05-01T18:08:23.379Z"
   },
   {
    "duration": 1264,
    "start_time": "2022-05-01T18:08:23.383Z"
   },
   {
    "duration": 319206,
    "start_time": "2022-05-01T18:08:24.650Z"
   },
   {
    "duration": 185,
    "start_time": "2022-05-01T18:13:43.857Z"
   },
   {
    "duration": 0,
    "start_time": "2022-05-01T18:13:44.048Z"
   },
   {
    "duration": 0,
    "start_time": "2022-05-01T18:13:44.049Z"
   },
   {
    "duration": 0,
    "start_time": "2022-05-01T18:13:44.051Z"
   },
   {
    "duration": 2025,
    "start_time": "2022-05-01T18:20:03.938Z"
   },
   {
    "duration": 1148,
    "start_time": "2022-05-01T18:20:05.966Z"
   },
   {
    "duration": 35,
    "start_time": "2022-05-01T18:20:07.117Z"
   },
   {
    "duration": 4,
    "start_time": "2022-05-01T18:20:07.154Z"
   },
   {
    "duration": 139,
    "start_time": "2022-05-01T18:20:07.159Z"
   },
   {
    "duration": 96,
    "start_time": "2022-05-01T18:20:07.300Z"
   },
   {
    "duration": 851,
    "start_time": "2022-05-01T18:20:07.397Z"
   },
   {
    "duration": 116,
    "start_time": "2022-05-01T18:20:08.250Z"
   },
   {
    "duration": 459,
    "start_time": "2022-05-01T18:20:08.367Z"
   },
   {
    "duration": 220,
    "start_time": "2022-05-01T18:20:08.829Z"
   },
   {
    "duration": 915,
    "start_time": "2022-05-01T18:20:09.051Z"
   },
   {
    "duration": 28,
    "start_time": "2022-05-01T18:20:09.967Z"
   },
   {
    "duration": 4,
    "start_time": "2022-05-01T18:20:09.997Z"
   },
   {
    "duration": 6003,
    "start_time": "2022-05-01T18:20:10.002Z"
   },
   {
    "duration": 11,
    "start_time": "2022-05-01T18:20:16.007Z"
   },
   {
    "duration": 29,
    "start_time": "2022-05-01T18:20:16.020Z"
   },
   {
    "duration": 6,
    "start_time": "2022-05-01T18:20:16.050Z"
   },
   {
    "duration": 9,
    "start_time": "2022-05-01T18:20:16.058Z"
   },
   {
    "duration": 7,
    "start_time": "2022-05-01T18:20:16.069Z"
   },
   {
    "duration": 13,
    "start_time": "2022-05-01T18:20:16.078Z"
   },
   {
    "duration": 65,
    "start_time": "2022-05-01T18:20:16.093Z"
   },
   {
    "duration": 12,
    "start_time": "2022-05-01T18:20:16.160Z"
   },
   {
    "duration": 26,
    "start_time": "2022-05-01T18:20:16.173Z"
   },
   {
    "duration": 4,
    "start_time": "2022-05-01T18:20:16.202Z"
   },
   {
    "duration": 1339,
    "start_time": "2022-05-01T18:20:16.208Z"
   },
   {
    "duration": 313111,
    "start_time": "2022-05-01T18:20:17.553Z"
   },
   {
    "duration": 3249,
    "start_time": "2022-05-01T18:25:30.666Z"
   },
   {
    "duration": 0,
    "start_time": "2022-05-01T18:25:33.917Z"
   },
   {
    "duration": 0,
    "start_time": "2022-05-01T18:25:33.918Z"
   },
   {
    "duration": 0,
    "start_time": "2022-05-01T18:25:33.920Z"
   },
   {
    "duration": 2832,
    "start_time": "2022-05-01T18:32:46.486Z"
   },
   {
    "duration": 1511,
    "start_time": "2022-05-01T18:33:32.262Z"
   },
   {
    "duration": 800,
    "start_time": "2022-05-01T18:33:33.776Z"
   },
   {
    "duration": 17,
    "start_time": "2022-05-01T18:33:34.578Z"
   },
   {
    "duration": 3,
    "start_time": "2022-05-01T18:33:34.597Z"
   },
   {
    "duration": 147,
    "start_time": "2022-05-01T18:33:34.602Z"
   },
   {
    "duration": 100,
    "start_time": "2022-05-01T18:33:34.751Z"
   },
   {
    "duration": 843,
    "start_time": "2022-05-01T18:33:34.852Z"
   },
   {
    "duration": 121,
    "start_time": "2022-05-01T18:33:35.696Z"
   },
   {
    "duration": 465,
    "start_time": "2022-05-01T18:33:35.819Z"
   },
   {
    "duration": 214,
    "start_time": "2022-05-01T18:33:36.287Z"
   },
   {
    "duration": 936,
    "start_time": "2022-05-01T18:33:36.502Z"
   },
   {
    "duration": 33,
    "start_time": "2022-05-01T18:33:37.439Z"
   },
   {
    "duration": 4,
    "start_time": "2022-05-01T18:33:37.474Z"
   },
   {
    "duration": 8447,
    "start_time": "2022-05-01T18:33:37.480Z"
   },
   {
    "duration": 25,
    "start_time": "2022-05-01T18:33:45.929Z"
   },
   {
    "duration": 10,
    "start_time": "2022-05-01T18:33:45.956Z"
   },
   {
    "duration": 7,
    "start_time": "2022-05-01T18:33:45.967Z"
   },
   {
    "duration": 6,
    "start_time": "2022-05-01T18:33:45.976Z"
   },
   {
    "duration": 5,
    "start_time": "2022-05-01T18:33:45.984Z"
   },
   {
    "duration": 12,
    "start_time": "2022-05-01T18:33:45.991Z"
   },
   {
    "duration": 55,
    "start_time": "2022-05-01T18:33:46.005Z"
   },
   {
    "duration": 8,
    "start_time": "2022-05-01T18:33:46.062Z"
   },
   {
    "duration": 20,
    "start_time": "2022-05-01T18:33:46.071Z"
   },
   {
    "duration": 3,
    "start_time": "2022-05-01T18:33:46.093Z"
   },
   {
    "duration": 2159,
    "start_time": "2022-05-01T18:33:46.098Z"
   },
   {
    "duration": 283191,
    "start_time": "2022-05-01T18:33:48.259Z"
   },
   {
    "duration": 2775,
    "start_time": "2022-05-01T18:38:31.451Z"
   },
   {
    "duration": 0,
    "start_time": "2022-05-01T18:38:34.229Z"
   },
   {
    "duration": 0,
    "start_time": "2022-05-01T18:38:34.230Z"
   },
   {
    "duration": 0,
    "start_time": "2022-05-01T18:38:34.231Z"
   },
   {
    "duration": 33,
    "start_time": "2022-05-01T18:41:10.801Z"
   },
   {
    "duration": 32,
    "start_time": "2022-05-01T18:41:57.333Z"
   },
   {
    "duration": 2578,
    "start_time": "2022-05-01T18:42:25.300Z"
   },
   {
    "duration": 2618,
    "start_time": "2022-05-01T18:44:56.713Z"
   },
   {
    "duration": 2611,
    "start_time": "2022-05-01T18:52:34.932Z"
   },
   {
    "duration": 29,
    "start_time": "2022-05-01T19:03:19.973Z"
   },
   {
    "duration": 36,
    "start_time": "2022-05-01T19:03:52.580Z"
   },
   {
    "duration": 2054,
    "start_time": "2022-05-01T19:05:03.067Z"
   },
   {
    "duration": 1735,
    "start_time": "2022-05-01T19:05:35.272Z"
   },
   {
    "duration": 14,
    "start_time": "2022-05-01T19:06:39.490Z"
   },
   {
    "duration": 16,
    "start_time": "2022-05-01T19:07:30.323Z"
   },
   {
    "duration": 1484,
    "start_time": "2022-05-01T19:07:41.489Z"
   },
   {
    "duration": 763,
    "start_time": "2022-05-01T19:07:42.975Z"
   },
   {
    "duration": 23,
    "start_time": "2022-05-01T19:07:43.739Z"
   },
   {
    "duration": 3,
    "start_time": "2022-05-01T19:07:43.764Z"
   },
   {
    "duration": 140,
    "start_time": "2022-05-01T19:07:43.769Z"
   },
   {
    "duration": 92,
    "start_time": "2022-05-01T19:07:43.911Z"
   },
   {
    "duration": 827,
    "start_time": "2022-05-01T19:07:44.004Z"
   },
   {
    "duration": 120,
    "start_time": "2022-05-01T19:07:44.833Z"
   },
   {
    "duration": 431,
    "start_time": "2022-05-01T19:07:44.955Z"
   },
   {
    "duration": 225,
    "start_time": "2022-05-01T19:07:45.389Z"
   },
   {
    "duration": 906,
    "start_time": "2022-05-01T19:07:45.616Z"
   },
   {
    "duration": 43,
    "start_time": "2022-05-01T19:07:46.524Z"
   },
   {
    "duration": 5,
    "start_time": "2022-05-01T19:07:46.569Z"
   },
   {
    "duration": 6666,
    "start_time": "2022-05-01T19:07:46.575Z"
   },
   {
    "duration": 17,
    "start_time": "2022-05-01T19:07:53.243Z"
   },
   {
    "duration": 10,
    "start_time": "2022-05-01T19:07:53.262Z"
   },
   {
    "duration": 9,
    "start_time": "2022-05-01T19:07:53.274Z"
   },
   {
    "duration": 7,
    "start_time": "2022-05-01T19:07:53.285Z"
   },
   {
    "duration": 8,
    "start_time": "2022-05-01T19:07:53.294Z"
   },
   {
    "duration": 43,
    "start_time": "2022-05-01T19:07:53.304Z"
   },
   {
    "duration": 25,
    "start_time": "2022-05-01T19:07:53.349Z"
   },
   {
    "duration": 7,
    "start_time": "2022-05-01T19:07:53.376Z"
   },
   {
    "duration": 21,
    "start_time": "2022-05-01T19:07:53.385Z"
   },
   {
    "duration": 12,
    "start_time": "2022-05-01T19:07:53.408Z"
   },
   {
    "duration": 1342,
    "start_time": "2022-05-01T19:07:53.422Z"
   },
   {
    "duration": 1947,
    "start_time": "2022-05-01T19:23:41.552Z"
   },
   {
    "duration": 768,
    "start_time": "2022-05-01T19:23:43.502Z"
   },
   {
    "duration": 23,
    "start_time": "2022-05-01T19:23:44.273Z"
   },
   {
    "duration": 4,
    "start_time": "2022-05-01T19:23:44.298Z"
   },
   {
    "duration": 151,
    "start_time": "2022-05-01T19:23:44.304Z"
   },
   {
    "duration": 126,
    "start_time": "2022-05-01T19:23:44.457Z"
   },
   {
    "duration": 1295,
    "start_time": "2022-05-01T19:23:44.585Z"
   },
   {
    "duration": 199,
    "start_time": "2022-05-01T19:23:45.883Z"
   },
   {
    "duration": 658,
    "start_time": "2022-05-01T19:23:46.084Z"
   },
   {
    "duration": 268,
    "start_time": "2022-05-01T19:23:46.749Z"
   },
   {
    "duration": 949,
    "start_time": "2022-05-01T19:23:47.019Z"
   },
   {
    "duration": 29,
    "start_time": "2022-05-01T19:23:47.970Z"
   },
   {
    "duration": 4,
    "start_time": "2022-05-01T19:23:48.001Z"
   },
   {
    "duration": 5902,
    "start_time": "2022-05-01T19:23:48.006Z"
   },
   {
    "duration": 12,
    "start_time": "2022-05-01T19:23:53.910Z"
   },
   {
    "duration": 7,
    "start_time": "2022-05-01T19:23:53.924Z"
   },
   {
    "duration": 6,
    "start_time": "2022-05-01T19:23:53.948Z"
   },
   {
    "duration": 6,
    "start_time": "2022-05-01T19:23:53.955Z"
   },
   {
    "duration": 4,
    "start_time": "2022-05-01T19:23:53.963Z"
   },
   {
    "duration": 10,
    "start_time": "2022-05-01T19:23:53.969Z"
   },
   {
    "duration": 23,
    "start_time": "2022-05-01T19:23:53.981Z"
   },
   {
    "duration": 46,
    "start_time": "2022-05-01T19:23:54.006Z"
   },
   {
    "duration": 21,
    "start_time": "2022-05-01T19:23:54.054Z"
   },
   {
    "duration": 4,
    "start_time": "2022-05-01T19:23:54.076Z"
   },
   {
    "duration": 1677,
    "start_time": "2022-05-01T19:23:54.082Z"
   },
   {
    "duration": 1526,
    "start_time": "2022-05-01T19:33:22.289Z"
   },
   {
    "duration": 775,
    "start_time": "2022-05-01T19:33:23.817Z"
   },
   {
    "duration": 18,
    "start_time": "2022-05-01T19:33:24.594Z"
   },
   {
    "duration": 3,
    "start_time": "2022-05-01T19:33:24.614Z"
   },
   {
    "duration": 253,
    "start_time": "2022-05-01T19:33:24.618Z"
   },
   {
    "duration": 123,
    "start_time": "2022-05-01T19:33:24.873Z"
   },
   {
    "duration": 1311,
    "start_time": "2022-05-01T19:33:24.998Z"
   },
   {
    "duration": 219,
    "start_time": "2022-05-01T19:33:26.311Z"
   },
   {
    "duration": 633,
    "start_time": "2022-05-01T19:33:26.532Z"
   },
   {
    "duration": 377,
    "start_time": "2022-05-01T19:33:27.168Z"
   },
   {
    "duration": 902,
    "start_time": "2022-05-01T19:33:27.547Z"
   },
   {
    "duration": 28,
    "start_time": "2022-05-01T19:33:28.451Z"
   },
   {
    "duration": 4,
    "start_time": "2022-05-01T19:33:28.481Z"
   },
   {
    "duration": 8968,
    "start_time": "2022-05-01T19:33:28.487Z"
   },
   {
    "duration": 12,
    "start_time": "2022-05-01T19:33:37.456Z"
   },
   {
    "duration": 7,
    "start_time": "2022-05-01T19:33:37.469Z"
   },
   {
    "duration": 7,
    "start_time": "2022-05-01T19:33:37.478Z"
   },
   {
    "duration": 6,
    "start_time": "2022-05-01T19:33:37.486Z"
   },
   {
    "duration": 8,
    "start_time": "2022-05-01T19:33:37.493Z"
   },
   {
    "duration": 12,
    "start_time": "2022-05-01T19:33:37.502Z"
   },
   {
    "duration": 55,
    "start_time": "2022-05-01T19:33:37.515Z"
   },
   {
    "duration": 8,
    "start_time": "2022-05-01T19:33:37.572Z"
   },
   {
    "duration": 20,
    "start_time": "2022-05-01T19:33:37.582Z"
   },
   {
    "duration": 4,
    "start_time": "2022-05-01T19:33:37.604Z"
   },
   {
    "duration": 950,
    "start_time": "2022-05-01T19:33:37.610Z"
   },
   {
    "duration": 438094,
    "start_time": "2022-05-01T19:33:38.561Z"
   },
   {
    "duration": 3053,
    "start_time": "2022-05-01T19:40:56.657Z"
   },
   {
    "duration": 0,
    "start_time": "2022-05-01T19:40:59.712Z"
   },
   {
    "duration": 0,
    "start_time": "2022-05-01T19:40:59.713Z"
   },
   {
    "duration": 0,
    "start_time": "2022-05-01T19:40:59.714Z"
   },
   {
    "duration": 2853,
    "start_time": "2022-05-02T10:23:26.149Z"
   },
   {
    "duration": 1015,
    "start_time": "2022-05-02T10:23:29.005Z"
   },
   {
    "duration": 30,
    "start_time": "2022-05-02T10:23:30.022Z"
   },
   {
    "duration": 1421,
    "start_time": "2022-05-02T10:23:37.914Z"
   },
   {
    "duration": 273,
    "start_time": "2022-05-02T10:23:44.025Z"
   },
   {
    "duration": 1110,
    "start_time": "2022-05-02T10:23:48.874Z"
   },
   {
    "duration": 14,
    "start_time": "2022-05-02T10:24:01.894Z"
   },
   {
    "duration": 569,
    "start_time": "2022-05-02T10:24:35.879Z"
   },
   {
    "duration": 4,
    "start_time": "2022-05-02T10:25:39.899Z"
   },
   {
    "duration": 5,
    "start_time": "2022-05-02T10:25:43.299Z"
   },
   {
    "duration": 13,
    "start_time": "2022-05-02T10:25:50.459Z"
   },
   {
    "duration": 5,
    "start_time": "2022-05-02T10:25:57.024Z"
   },
   {
    "duration": 8145,
    "start_time": "2022-05-02T10:26:00.005Z"
   },
   {
    "duration": 23,
    "start_time": "2022-05-02T10:26:44.170Z"
   },
   {
    "duration": 115,
    "start_time": "2022-05-02T10:27:30.639Z"
   },
   {
    "duration": 9,
    "start_time": "2022-05-02T10:27:40.654Z"
   },
   {
    "duration": 15713,
    "start_time": "2022-05-02T10:27:42.854Z"
   },
   {
    "duration": 48,
    "start_time": "2022-05-02T10:28:48.515Z"
   },
   {
    "duration": 74,
    "start_time": "2022-05-02T10:28:53.179Z"
   },
   {
    "duration": 10,
    "start_time": "2022-05-02T10:29:35.389Z"
   },
   {
    "duration": 12118,
    "start_time": "2022-05-02T10:29:37.164Z"
   },
   {
    "duration": 2524,
    "start_time": "2022-05-04T10:47:31.878Z"
   },
   {
    "duration": 1109,
    "start_time": "2022-05-04T10:47:34.404Z"
   },
   {
    "duration": 32,
    "start_time": "2022-05-04T10:47:35.515Z"
   },
   {
    "duration": 4,
    "start_time": "2022-05-04T10:47:35.550Z"
   },
   {
    "duration": 202,
    "start_time": "2022-05-04T10:47:35.556Z"
   },
   {
    "duration": 139,
    "start_time": "2022-05-04T10:47:35.760Z"
   },
   {
    "duration": 1300,
    "start_time": "2022-05-04T10:47:35.902Z"
   },
   {
    "duration": 264,
    "start_time": "2022-05-04T10:47:37.205Z"
   },
   {
    "duration": 762,
    "start_time": "2022-05-04T10:47:37.471Z"
   },
   {
    "duration": 304,
    "start_time": "2022-05-04T10:47:38.237Z"
   },
   {
    "duration": 1619,
    "start_time": "2022-05-04T10:47:38.544Z"
   },
   {
    "duration": 60,
    "start_time": "2022-05-04T10:47:40.165Z"
   },
   {
    "duration": 6,
    "start_time": "2022-05-04T10:47:40.228Z"
   },
   {
    "duration": 9155,
    "start_time": "2022-05-04T10:47:40.236Z"
   },
   {
    "duration": 33,
    "start_time": "2022-05-04T10:47:49.393Z"
   },
   {
    "duration": 11,
    "start_time": "2022-05-04T10:47:49.428Z"
   },
   {
    "duration": 13,
    "start_time": "2022-05-04T10:47:49.442Z"
   },
   {
    "duration": 9,
    "start_time": "2022-05-04T10:47:49.457Z"
   },
   {
    "duration": 13,
    "start_time": "2022-05-04T10:47:49.468Z"
   },
   {
    "duration": 47,
    "start_time": "2022-05-04T10:47:49.484Z"
   },
   {
    "duration": 56,
    "start_time": "2022-05-04T10:47:49.534Z"
   },
   {
    "duration": 32,
    "start_time": "2022-05-04T10:47:49.593Z"
   },
   {
    "duration": 32,
    "start_time": "2022-05-04T10:47:49.627Z"
   },
   {
    "duration": 5,
    "start_time": "2022-05-04T10:47:49.661Z"
   },
   {
    "duration": 1560,
    "start_time": "2022-05-04T10:47:49.669Z"
   },
   {
    "duration": 2242,
    "start_time": "2022-05-04T10:51:17.362Z"
   },
   {
    "duration": 1304,
    "start_time": "2022-05-04T10:51:19.607Z"
   },
   {
    "duration": 30,
    "start_time": "2022-05-04T10:51:20.914Z"
   },
   {
    "duration": 5,
    "start_time": "2022-05-04T10:51:20.949Z"
   },
   {
    "duration": 201,
    "start_time": "2022-05-04T10:51:20.957Z"
   },
   {
    "duration": 130,
    "start_time": "2022-05-04T10:51:21.161Z"
   },
   {
    "duration": 1245,
    "start_time": "2022-05-04T10:51:21.294Z"
   },
   {
    "duration": 182,
    "start_time": "2022-05-04T10:51:22.542Z"
   },
   {
    "duration": 824,
    "start_time": "2022-05-04T10:51:22.726Z"
   },
   {
    "duration": 450,
    "start_time": "2022-05-04T10:51:23.554Z"
   },
   {
    "duration": 1592,
    "start_time": "2022-05-04T10:51:24.007Z"
   },
   {
    "duration": 52,
    "start_time": "2022-05-04T10:51:25.601Z"
   },
   {
    "duration": 6,
    "start_time": "2022-05-04T10:51:25.655Z"
   },
   {
    "duration": 9944,
    "start_time": "2022-05-04T10:51:25.663Z"
   },
   {
    "duration": 33,
    "start_time": "2022-05-04T10:51:35.610Z"
   },
   {
    "duration": 17,
    "start_time": "2022-05-04T10:51:35.645Z"
   },
   {
    "duration": 14,
    "start_time": "2022-05-04T10:51:35.664Z"
   },
   {
    "duration": 24,
    "start_time": "2022-05-04T10:51:35.681Z"
   },
   {
    "duration": 45,
    "start_time": "2022-05-04T10:51:35.708Z"
   },
   {
    "duration": 22,
    "start_time": "2022-05-04T10:51:35.755Z"
   },
   {
    "duration": 46,
    "start_time": "2022-05-04T10:51:35.780Z"
   },
   {
    "duration": 14,
    "start_time": "2022-05-04T10:51:35.828Z"
   },
   {
    "duration": 40,
    "start_time": "2022-05-04T10:51:35.844Z"
   },
   {
    "duration": 7,
    "start_time": "2022-05-04T10:51:35.886Z"
   },
   {
    "duration": 1218,
    "start_time": "2022-05-04T10:51:35.925Z"
   },
   {
    "duration": 2328,
    "start_time": "2022-05-04T10:57:12.685Z"
   },
   {
    "duration": 1164,
    "start_time": "2022-05-04T10:57:15.016Z"
   },
   {
    "duration": 43,
    "start_time": "2022-05-04T10:57:16.182Z"
   },
   {
    "duration": 5,
    "start_time": "2022-05-04T10:57:16.229Z"
   },
   {
    "duration": 205,
    "start_time": "2022-05-04T10:57:16.237Z"
   },
   {
    "duration": 173,
    "start_time": "2022-05-04T10:57:16.444Z"
   },
   {
    "duration": 1826,
    "start_time": "2022-05-04T10:57:16.624Z"
   },
   {
    "duration": 164,
    "start_time": "2022-05-04T10:57:18.453Z"
   },
   {
    "duration": 1016,
    "start_time": "2022-05-04T10:57:18.624Z"
   },
   {
    "duration": 503,
    "start_time": "2022-05-04T10:57:19.645Z"
   },
   {
    "duration": 2082,
    "start_time": "2022-05-04T10:57:20.151Z"
   },
   {
    "duration": 54,
    "start_time": "2022-05-04T10:57:22.236Z"
   },
   {
    "duration": 10,
    "start_time": "2022-05-04T10:57:22.293Z"
   },
   {
    "duration": 14034,
    "start_time": "2022-05-04T10:57:22.325Z"
   },
   {
    "duration": 24,
    "start_time": "2022-05-04T10:57:36.362Z"
   },
   {
    "duration": 35,
    "start_time": "2022-05-04T10:57:36.389Z"
   },
   {
    "duration": 13,
    "start_time": "2022-05-04T10:57:36.427Z"
   },
   {
    "duration": 15,
    "start_time": "2022-05-04T10:57:36.443Z"
   },
   {
    "duration": 9,
    "start_time": "2022-05-04T10:57:36.461Z"
   },
   {
    "duration": 52,
    "start_time": "2022-05-04T10:57:36.473Z"
   },
   {
    "duration": 41,
    "start_time": "2022-05-04T10:57:36.528Z"
   },
   {
    "duration": 12,
    "start_time": "2022-05-04T10:57:36.571Z"
   },
   {
    "duration": 84,
    "start_time": "2022-05-04T10:57:36.586Z"
   },
   {
    "duration": 5,
    "start_time": "2022-05-04T10:57:36.673Z"
   },
   {
    "duration": 2846,
    "start_time": "2022-05-04T10:57:36.682Z"
   },
   {
    "duration": 2289,
    "start_time": "2022-05-04T11:01:04.281Z"
   },
   {
    "duration": 1289,
    "start_time": "2022-05-04T11:01:06.573Z"
   },
   {
    "duration": 35,
    "start_time": "2022-05-04T11:01:07.864Z"
   },
   {
    "duration": 5,
    "start_time": "2022-05-04T11:01:07.928Z"
   },
   {
    "duration": 204,
    "start_time": "2022-05-04T11:01:07.936Z"
   },
   {
    "duration": 135,
    "start_time": "2022-05-04T11:01:08.144Z"
   },
   {
    "duration": 1889,
    "start_time": "2022-05-04T11:01:08.282Z"
   },
   {
    "duration": 186,
    "start_time": "2022-05-04T11:01:10.174Z"
   },
   {
    "duration": 783,
    "start_time": "2022-05-04T11:01:10.363Z"
   },
   {
    "duration": 334,
    "start_time": "2022-05-04T11:01:11.151Z"
   },
   {
    "duration": 1663,
    "start_time": "2022-05-04T11:01:11.488Z"
   },
   {
    "duration": 49,
    "start_time": "2022-05-04T11:01:13.154Z"
   },
   {
    "duration": 22,
    "start_time": "2022-05-04T11:01:13.205Z"
   },
   {
    "duration": 10102,
    "start_time": "2022-05-04T11:01:13.230Z"
   },
   {
    "duration": 21,
    "start_time": "2022-05-04T11:01:23.334Z"
   },
   {
    "duration": 30,
    "start_time": "2022-05-04T11:01:23.358Z"
   },
   {
    "duration": 14,
    "start_time": "2022-05-04T11:01:23.390Z"
   },
   {
    "duration": 32,
    "start_time": "2022-05-04T11:01:23.407Z"
   },
   {
    "duration": 19,
    "start_time": "2022-05-04T11:01:23.442Z"
   },
   {
    "duration": 31,
    "start_time": "2022-05-04T11:01:23.464Z"
   },
   {
    "duration": 63,
    "start_time": "2022-05-04T11:01:23.498Z"
   },
   {
    "duration": 11,
    "start_time": "2022-05-04T11:01:23.564Z"
   },
   {
    "duration": 85,
    "start_time": "2022-05-04T11:01:23.578Z"
   },
   {
    "duration": 19,
    "start_time": "2022-05-04T11:01:23.666Z"
   },
   {
    "duration": 5069,
    "start_time": "2022-05-04T11:01:23.688Z"
   },
   {
    "duration": 2442,
    "start_time": "2022-05-04T11:05:00.765Z"
   },
   {
    "duration": 1169,
    "start_time": "2022-05-04T11:05:03.210Z"
   },
   {
    "duration": 27,
    "start_time": "2022-05-04T11:05:04.381Z"
   },
   {
    "duration": 14,
    "start_time": "2022-05-04T11:05:04.411Z"
   },
   {
    "duration": 201,
    "start_time": "2022-05-04T11:05:04.428Z"
   },
   {
    "duration": 140,
    "start_time": "2022-05-04T11:05:04.632Z"
   },
   {
    "duration": 1362,
    "start_time": "2022-05-04T11:05:04.775Z"
   },
   {
    "duration": 169,
    "start_time": "2022-05-04T11:05:06.140Z"
   },
   {
    "duration": 727,
    "start_time": "2022-05-04T11:05:06.311Z"
   },
   {
    "duration": 333,
    "start_time": "2022-05-04T11:05:07.043Z"
   },
   {
    "duration": 1781,
    "start_time": "2022-05-04T11:05:07.378Z"
   },
   {
    "duration": 68,
    "start_time": "2022-05-04T11:05:09.162Z"
   },
   {
    "duration": 9,
    "start_time": "2022-05-04T11:05:09.232Z"
   },
   {
    "duration": 9405,
    "start_time": "2022-05-04T11:05:09.243Z"
   },
   {
    "duration": 20,
    "start_time": "2022-05-04T11:05:18.650Z"
   },
   {
    "duration": 10,
    "start_time": "2022-05-04T11:05:18.673Z"
   },
   {
    "duration": 8,
    "start_time": "2022-05-04T11:05:18.686Z"
   },
   {
    "duration": 12,
    "start_time": "2022-05-04T11:05:18.730Z"
   },
   {
    "duration": 13,
    "start_time": "2022-05-04T11:05:18.744Z"
   },
   {
    "duration": 19,
    "start_time": "2022-05-04T11:05:18.760Z"
   },
   {
    "duration": 78,
    "start_time": "2022-05-04T11:05:18.781Z"
   },
   {
    "duration": 13,
    "start_time": "2022-05-04T11:05:18.862Z"
   },
   {
    "duration": 49,
    "start_time": "2022-05-04T11:05:18.878Z"
   },
   {
    "duration": 6,
    "start_time": "2022-05-04T11:05:18.937Z"
   },
   {
    "duration": 4888,
    "start_time": "2022-05-04T11:05:18.945Z"
   },
   {
    "duration": 2213,
    "start_time": "2022-05-04T11:08:10.042Z"
   },
   {
    "duration": 1140,
    "start_time": "2022-05-04T11:08:12.257Z"
   },
   {
    "duration": 33,
    "start_time": "2022-05-04T11:08:13.399Z"
   },
   {
    "duration": 16,
    "start_time": "2022-05-04T11:08:13.436Z"
   },
   {
    "duration": 199,
    "start_time": "2022-05-04T11:08:13.455Z"
   },
   {
    "duration": 135,
    "start_time": "2022-05-04T11:08:13.658Z"
   },
   {
    "duration": 1200,
    "start_time": "2022-05-04T11:08:13.795Z"
   },
   {
    "duration": 295,
    "start_time": "2022-05-04T11:08:14.997Z"
   },
   {
    "duration": 768,
    "start_time": "2022-05-04T11:08:15.295Z"
   },
   {
    "duration": 330,
    "start_time": "2022-05-04T11:08:16.067Z"
   },
   {
    "duration": 1585,
    "start_time": "2022-05-04T11:08:16.400Z"
   },
   {
    "duration": 61,
    "start_time": "2022-05-04T11:08:17.987Z"
   },
   {
    "duration": 7,
    "start_time": "2022-05-04T11:08:18.050Z"
   },
   {
    "duration": 9547,
    "start_time": "2022-05-04T11:08:18.059Z"
   },
   {
    "duration": 28,
    "start_time": "2022-05-04T11:08:27.608Z"
   },
   {
    "duration": 11,
    "start_time": "2022-05-04T11:08:27.638Z"
   },
   {
    "duration": 10,
    "start_time": "2022-05-04T11:08:27.652Z"
   },
   {
    "duration": 15,
    "start_time": "2022-05-04T11:08:27.664Z"
   },
   {
    "duration": 8,
    "start_time": "2022-05-04T11:08:27.682Z"
   },
   {
    "duration": 60,
    "start_time": "2022-05-04T11:08:27.692Z"
   },
   {
    "duration": 49,
    "start_time": "2022-05-04T11:08:27.754Z"
   },
   {
    "duration": 21,
    "start_time": "2022-05-04T11:08:27.806Z"
   },
   {
    "duration": 35,
    "start_time": "2022-05-04T11:08:27.830Z"
   },
   {
    "duration": 5,
    "start_time": "2022-05-04T11:08:27.867Z"
   },
   {
    "duration": 3155,
    "start_time": "2022-05-04T11:08:27.875Z"
   },
   {
    "duration": 0,
    "start_time": "2022-05-04T11:26:17.250Z"
   },
   {
    "duration": 0,
    "start_time": "2022-05-04T11:26:17.252Z"
   },
   {
    "duration": 0,
    "start_time": "2022-05-04T11:26:17.254Z"
   },
   {
    "duration": 0,
    "start_time": "2022-05-04T11:26:17.256Z"
   },
   {
    "duration": 0,
    "start_time": "2022-05-04T11:26:17.257Z"
   },
   {
    "duration": 0,
    "start_time": "2022-05-04T11:26:17.259Z"
   },
   {
    "duration": 2200,
    "start_time": "2022-05-04T11:26:34.440Z"
   },
   {
    "duration": 1172,
    "start_time": "2022-05-04T11:26:36.643Z"
   },
   {
    "duration": 39,
    "start_time": "2022-05-04T11:26:37.817Z"
   },
   {
    "duration": 5,
    "start_time": "2022-05-04T11:26:37.859Z"
   },
   {
    "duration": 209,
    "start_time": "2022-05-04T11:26:37.866Z"
   },
   {
    "duration": 135,
    "start_time": "2022-05-04T11:26:38.077Z"
   },
   {
    "duration": 1210,
    "start_time": "2022-05-04T11:26:38.214Z"
   },
   {
    "duration": 172,
    "start_time": "2022-05-04T11:26:39.426Z"
   },
   {
    "duration": 746,
    "start_time": "2022-05-04T11:26:39.600Z"
   },
   {
    "duration": 332,
    "start_time": "2022-05-04T11:26:40.350Z"
   },
   {
    "duration": 1642,
    "start_time": "2022-05-04T11:26:40.684Z"
   },
   {
    "duration": 49,
    "start_time": "2022-05-04T11:26:42.329Z"
   },
   {
    "duration": 8,
    "start_time": "2022-05-04T11:26:42.380Z"
   },
   {
    "duration": 9543,
    "start_time": "2022-05-04T11:26:42.391Z"
   },
   {
    "duration": 22,
    "start_time": "2022-05-04T11:26:51.937Z"
   },
   {
    "duration": 13,
    "start_time": "2022-05-04T11:26:51.961Z"
   },
   {
    "duration": 13,
    "start_time": "2022-05-04T11:26:51.977Z"
   },
   {
    "duration": 48,
    "start_time": "2022-05-04T11:26:51.993Z"
   },
   {
    "duration": 9,
    "start_time": "2022-05-04T11:26:52.043Z"
   },
   {
    "duration": 16,
    "start_time": "2022-05-04T11:26:52.054Z"
   },
   {
    "duration": 67,
    "start_time": "2022-05-04T11:26:52.073Z"
   },
   {
    "duration": 12,
    "start_time": "2022-05-04T11:26:52.142Z"
   },
   {
    "duration": 34,
    "start_time": "2022-05-04T11:26:52.156Z"
   },
   {
    "duration": 5,
    "start_time": "2022-05-04T11:26:52.192Z"
   },
   {
    "duration": 3434,
    "start_time": "2022-05-04T11:26:52.199Z"
   },
   {
    "duration": 29395,
    "start_time": "2022-05-04T11:26:55.637Z"
   },
   {
    "duration": 107,
    "start_time": "2022-05-04T11:27:25.038Z"
   },
   {
    "duration": 0,
    "start_time": "2022-05-04T11:27:25.149Z"
   },
   {
    "duration": 0,
    "start_time": "2022-05-04T11:27:25.150Z"
   },
   {
    "duration": 0,
    "start_time": "2022-05-04T11:27:25.153Z"
   },
   {
    "duration": 2709,
    "start_time": "2022-05-04T11:28:35.073Z"
   },
   {
    "duration": 8,
    "start_time": "2022-05-04T11:29:04.074Z"
   },
   {
    "duration": 8,
    "start_time": "2022-05-04T11:29:08.342Z"
   },
   {
    "duration": 3505,
    "start_time": "2022-05-04T11:29:10.976Z"
   },
   {
    "duration": 3371,
    "start_time": "2022-05-04T11:35:10.969Z"
   },
   {
    "duration": 3923,
    "start_time": "2022-05-04T11:35:55.210Z"
   },
   {
    "duration": 2404,
    "start_time": "2022-05-04T11:37:15.469Z"
   },
   {
    "duration": 1157,
    "start_time": "2022-05-04T11:37:17.876Z"
   },
   {
    "duration": 27,
    "start_time": "2022-05-04T11:37:19.036Z"
   },
   {
    "duration": 5,
    "start_time": "2022-05-04T11:37:19.066Z"
   },
   {
    "duration": 212,
    "start_time": "2022-05-04T11:37:19.073Z"
   },
   {
    "duration": 174,
    "start_time": "2022-05-04T11:37:19.287Z"
   },
   {
    "duration": 1259,
    "start_time": "2022-05-04T11:37:19.463Z"
   },
   {
    "duration": 172,
    "start_time": "2022-05-04T11:37:20.725Z"
   },
   {
    "duration": 757,
    "start_time": "2022-05-04T11:37:20.899Z"
   },
   {
    "duration": 335,
    "start_time": "2022-05-04T11:37:21.662Z"
   },
   {
    "duration": 1581,
    "start_time": "2022-05-04T11:37:21.999Z"
   },
   {
    "duration": 61,
    "start_time": "2022-05-04T11:37:23.582Z"
   },
   {
    "duration": 9,
    "start_time": "2022-05-04T11:37:23.645Z"
   },
   {
    "duration": 9605,
    "start_time": "2022-05-04T11:37:23.656Z"
   },
   {
    "duration": 22,
    "start_time": "2022-05-04T11:37:33.265Z"
   },
   {
    "duration": 12,
    "start_time": "2022-05-04T11:37:33.289Z"
   },
   {
    "duration": 11,
    "start_time": "2022-05-04T11:37:33.328Z"
   },
   {
    "duration": 16,
    "start_time": "2022-05-04T11:37:33.342Z"
   },
   {
    "duration": 11,
    "start_time": "2022-05-04T11:37:33.360Z"
   },
   {
    "duration": 13,
    "start_time": "2022-05-04T11:37:33.373Z"
   },
   {
    "duration": 74,
    "start_time": "2022-05-04T11:37:33.388Z"
   },
   {
    "duration": 12,
    "start_time": "2022-05-04T11:37:33.464Z"
   },
   {
    "duration": 53,
    "start_time": "2022-05-04T11:37:33.478Z"
   },
   {
    "duration": 5,
    "start_time": "2022-05-04T11:37:33.536Z"
   },
   {
    "duration": 3790,
    "start_time": "2022-05-04T11:37:33.544Z"
   },
   {
    "duration": 2310,
    "start_time": "2022-05-04T11:50:14.564Z"
   },
   {
    "duration": 1163,
    "start_time": "2022-05-04T11:50:16.877Z"
   },
   {
    "duration": 28,
    "start_time": "2022-05-04T11:50:18.042Z"
   },
   {
    "duration": 5,
    "start_time": "2022-05-04T11:50:18.073Z"
   },
   {
    "duration": 220,
    "start_time": "2022-05-04T11:50:18.081Z"
   },
   {
    "duration": 145,
    "start_time": "2022-05-04T11:50:18.303Z"
   },
   {
    "duration": 1759,
    "start_time": "2022-05-04T11:50:18.451Z"
   },
   {
    "duration": 262,
    "start_time": "2022-05-04T11:50:20.213Z"
   },
   {
    "duration": 969,
    "start_time": "2022-05-04T11:50:20.477Z"
   },
   {
    "duration": 454,
    "start_time": "2022-05-04T11:50:21.452Z"
   },
   {
    "duration": 1849,
    "start_time": "2022-05-04T11:50:21.908Z"
   },
   {
    "duration": 47,
    "start_time": "2022-05-04T11:50:23.759Z"
   },
   {
    "duration": 25,
    "start_time": "2022-05-04T11:50:23.809Z"
   },
   {
    "duration": 9843,
    "start_time": "2022-05-04T11:50:23.837Z"
   },
   {
    "duration": 22,
    "start_time": "2022-05-04T11:50:33.682Z"
   },
   {
    "duration": 29,
    "start_time": "2022-05-04T11:50:33.706Z"
   },
   {
    "duration": 22,
    "start_time": "2022-05-04T11:50:33.738Z"
   },
   {
    "duration": 12,
    "start_time": "2022-05-04T11:50:33.762Z"
   },
   {
    "duration": 8,
    "start_time": "2022-05-04T11:50:33.777Z"
   },
   {
    "duration": 45,
    "start_time": "2022-05-04T11:50:33.787Z"
   },
   {
    "duration": 38,
    "start_time": "2022-05-04T11:50:33.836Z"
   },
   {
    "duration": 11,
    "start_time": "2022-05-04T11:50:33.877Z"
   },
   {
    "duration": 59,
    "start_time": "2022-05-04T11:50:33.890Z"
   },
   {
    "duration": 5,
    "start_time": "2022-05-04T11:50:33.951Z"
   },
   {
    "duration": 5682,
    "start_time": "2022-05-04T11:50:33.959Z"
   },
   {
    "duration": 126894,
    "start_time": "2022-05-04T11:50:39.645Z"
   },
   {
    "duration": 2513,
    "start_time": "2022-05-04T11:52:46.541Z"
   },
   {
    "duration": 9,
    "start_time": "2022-05-04T11:52:49.060Z"
   },
   {
    "duration": 41,
    "start_time": "2022-05-04T11:52:49.073Z"
   },
   {
    "duration": 5480,
    "start_time": "2022-05-04T11:52:49.116Z"
   },
   {
    "duration": 4783,
    "start_time": "2022-05-04T11:53:34.701Z"
   },
   {
    "duration": 2871,
    "start_time": "2022-05-04T11:55:48.102Z"
   },
   {
    "duration": 2574,
    "start_time": "2022-05-04T11:58:57.268Z"
   },
   {
    "duration": 1180,
    "start_time": "2022-05-04T11:58:59.845Z"
   },
   {
    "duration": 31,
    "start_time": "2022-05-04T11:59:01.030Z"
   },
   {
    "duration": 5,
    "start_time": "2022-05-04T11:59:01.065Z"
   },
   {
    "duration": 200,
    "start_time": "2022-05-04T11:59:01.072Z"
   },
   {
    "duration": 193,
    "start_time": "2022-05-04T11:59:01.274Z"
   },
   {
    "duration": 1248,
    "start_time": "2022-05-04T11:59:01.469Z"
   },
   {
    "duration": 185,
    "start_time": "2022-05-04T11:59:02.719Z"
   },
   {
    "duration": 777,
    "start_time": "2022-05-04T11:59:02.906Z"
   },
   {
    "duration": 325,
    "start_time": "2022-05-04T11:59:03.687Z"
   },
   {
    "duration": 1611,
    "start_time": "2022-05-04T11:59:04.014Z"
   },
   {
    "duration": 49,
    "start_time": "2022-05-04T11:59:05.628Z"
   },
   {
    "duration": 7,
    "start_time": "2022-05-04T11:59:05.680Z"
   },
   {
    "duration": 9641,
    "start_time": "2022-05-04T11:59:05.690Z"
   },
   {
    "duration": 26,
    "start_time": "2022-05-04T11:59:15.336Z"
   },
   {
    "duration": 17,
    "start_time": "2022-05-04T11:59:15.364Z"
   },
   {
    "duration": 10,
    "start_time": "2022-05-04T11:59:15.384Z"
   },
   {
    "duration": 42,
    "start_time": "2022-05-04T11:59:15.397Z"
   },
   {
    "duration": 14,
    "start_time": "2022-05-04T11:59:15.441Z"
   },
   {
    "duration": 21,
    "start_time": "2022-05-04T11:59:15.457Z"
   },
   {
    "duration": 50,
    "start_time": "2022-05-04T11:59:15.481Z"
   },
   {
    "duration": 13,
    "start_time": "2022-05-04T11:59:15.536Z"
   },
   {
    "duration": 39,
    "start_time": "2022-05-04T11:59:15.552Z"
   },
   {
    "duration": 6,
    "start_time": "2022-05-04T11:59:15.593Z"
   },
   {
    "duration": 4112,
    "start_time": "2022-05-04T11:59:15.627Z"
   },
   {
    "duration": 105291,
    "start_time": "2022-05-04T11:59:19.745Z"
   },
   {
    "duration": 2741,
    "start_time": "2022-05-04T12:01:05.039Z"
   },
   {
    "duration": 9,
    "start_time": "2022-05-04T12:01:07.785Z"
   },
   {
    "duration": 11,
    "start_time": "2022-05-04T12:01:07.795Z"
   },
   {
    "duration": 2599,
    "start_time": "2022-05-04T12:01:07.808Z"
   }
  ],
  "kernelspec": {
   "display_name": "Python 3 (ipykernel)",
   "language": "python",
   "name": "python3"
  },
  "language_info": {
   "codemirror_mode": {
    "name": "ipython",
    "version": 3
   },
   "file_extension": ".py",
   "mimetype": "text/x-python",
   "name": "python",
   "nbconvert_exporter": "python",
   "pygments_lexer": "ipython3",
   "version": "3.9.5"
  },
  "toc": {
   "base_numbering": 1,
   "nav_menu": {
    "height": "194.986px",
    "width": "272.997px"
   },
   "number_sections": true,
   "sideBar": true,
   "skip_h1_title": true,
   "title_cell": "Table of Contents",
   "title_sidebar": "Contents",
   "toc_cell": false,
   "toc_position": {
    "height": "calc(100% - 180px)",
    "left": "10px",
    "top": "150px",
    "width": "331.449px"
   },
   "toc_section_display": true,
   "toc_window_display": true
  }
 },
 "nbformat": 4,
 "nbformat_minor": 2
}
