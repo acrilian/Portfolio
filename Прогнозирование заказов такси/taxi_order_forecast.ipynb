{
 "cells": [
  {
   "cell_type": "markdown",
   "metadata": {
    "toc": true
   },
   "source": [
    "<h1>Содержание<span class=\"tocSkip\"></span></h1>\n",
    "<div class=\"toc\"><ul class=\"toc-item\"><li><span><a href=\"#Подготовка\" data-toc-modified-id=\"Подготовка-1\"><span class=\"toc-item-num\">1&nbsp;&nbsp;</span>Подготовка</a></span><ul class=\"toc-item\"><li><span><a href=\"#Обзор-данных\" data-toc-modified-id=\"Обзор-данных-1.1\"><span class=\"toc-item-num\">1.1&nbsp;&nbsp;</span>Обзор данных</a></span></li></ul></li><li><span><a href=\"#Анализ\" data-toc-modified-id=\"Анализ-2\"><span class=\"toc-item-num\">2&nbsp;&nbsp;</span>Анализ</a></span></li><li><span><a href=\"#Обучение\" data-toc-modified-id=\"Обучение-3\"><span class=\"toc-item-num\">3&nbsp;&nbsp;</span>Обучение</a></span></li><li><span><a href=\"#Тестирование\" data-toc-modified-id=\"Тестирование-4\"><span class=\"toc-item-num\">4&nbsp;&nbsp;</span>Тестирование</a></span></li><li><span><a href=\"#Чек-лист-проверки\" data-toc-modified-id=\"Чек-лист-проверки-5\"><span class=\"toc-item-num\">5&nbsp;&nbsp;</span>Чек-лист проверки</a></span></li></ul></div>"
   ]
  },
  {
   "cell_type": "markdown",
   "metadata": {},
   "source": [
    "#  Прогнозирование заказов такси"
   ]
  },
  {
   "cell_type": "markdown",
   "metadata": {},
   "source": [
    "Компания «Чётенькое такси» собрала исторические данные о заказах такси в аэропортах. Чтобы привлекать больше водителей в период пиковой нагрузки, нужно спрогнозировать количество заказов такси на следующий час. Постройте модель для такого предсказания.\n",
    "\n",
    "Значение метрики *RMSE* на тестовой выборке должно быть не больше 48.\n",
    "\n",
    "Вам нужно:\n",
    "\n",
    "1. Загрузить данные и выполнить их ресемплирование по одному часу.\n",
    "2. Проанализировать данные.\n",
    "3. Обучить разные модели с различными гиперпараметрами. Сделать тестовую выборку размером 10% от исходных данных.\n",
    "4. Проверить данные на тестовой выборке и сделать выводы.\n",
    "\n",
    "\n",
    "Данные лежат в файле `taxi.csv`. Количество заказов находится в столбце `num_orders` (от англ. *number of orders*, «число заказов»)."
   ]
  },
  {
   "cell_type": "markdown",
   "metadata": {},
   "source": [
    "## Подготовка"
   ]
  },
  {
   "cell_type": "markdown",
   "metadata": {},
   "source": [
    "### Обзор данных\n"
   ]
  },
  {
   "cell_type": "code",
   "execution_count": 1,
   "metadata": {},
   "outputs": [],
   "source": [
    "# импортируем библиотеки\n",
    "import pandas as pd\n",
    "import numpy as np\n",
    "from collections import defaultdict\n",
    "from sklearn.model_selection import train_test_split\n",
    "from sklearn.linear_model import Lasso, Ridge, LinearRegression\n",
    "from lightgbm import LGBMRegressor\n",
    "from sklearn import linear_model\n",
    "from sklearn.ensemble import RandomForestRegressor\n",
    "from sklearn.model_selection import GridSearchCV\n",
    "from sklearn.metrics import mean_squared_error\n",
    "from catboost import CatBoostRegressor\n",
    "import lightgbm as lgb\n",
    "import matplotlib.pyplot as plt\n",
    "from statsmodels.tsa.seasonal import seasonal_decompose\n",
    "\n",
    "\n",
    "# зафиксируем псевдослучайность \n",
    "rnd_state = 12345"
   ]
  },
  {
   "cell_type": "code",
   "execution_count": 2,
   "metadata": {},
   "outputs": [],
   "source": [
    "# загрузим данные\n",
    "# распознавание дат и формирование новых индексов\n",
    "data = pd.read_csv('/datasets/taxi.csv',\n",
    "                   index_col=[0],\n",
    "                   parse_dates=[0])"
   ]
  },
  {
   "cell_type": "code",
   "execution_count": 3,
   "metadata": {},
   "outputs": [
    {
     "data": {
      "text/html": [
       "<div>\n",
       "<style scoped>\n",
       "    .dataframe tbody tr th:only-of-type {\n",
       "        vertical-align: middle;\n",
       "    }\n",
       "\n",
       "    .dataframe tbody tr th {\n",
       "        vertical-align: top;\n",
       "    }\n",
       "\n",
       "    .dataframe thead th {\n",
       "        text-align: right;\n",
       "    }\n",
       "</style>\n",
       "<table border=\"1\" class=\"dataframe\">\n",
       "  <thead>\n",
       "    <tr style=\"text-align: right;\">\n",
       "      <th></th>\n",
       "      <th>num_orders</th>\n",
       "    </tr>\n",
       "    <tr>\n",
       "      <th>datetime</th>\n",
       "      <th></th>\n",
       "    </tr>\n",
       "  </thead>\n",
       "  <tbody>\n",
       "    <tr>\n",
       "      <th>2018-03-01 00:00:00</th>\n",
       "      <td>9</td>\n",
       "    </tr>\n",
       "    <tr>\n",
       "      <th>2018-03-01 00:10:00</th>\n",
       "      <td>14</td>\n",
       "    </tr>\n",
       "    <tr>\n",
       "      <th>2018-03-01 00:20:00</th>\n",
       "      <td>28</td>\n",
       "    </tr>\n",
       "    <tr>\n",
       "      <th>2018-03-01 00:30:00</th>\n",
       "      <td>20</td>\n",
       "    </tr>\n",
       "    <tr>\n",
       "      <th>2018-03-01 00:40:00</th>\n",
       "      <td>32</td>\n",
       "    </tr>\n",
       "    <tr>\n",
       "      <th>...</th>\n",
       "      <td>...</td>\n",
       "    </tr>\n",
       "    <tr>\n",
       "      <th>2018-08-31 23:10:00</th>\n",
       "      <td>32</td>\n",
       "    </tr>\n",
       "    <tr>\n",
       "      <th>2018-08-31 23:20:00</th>\n",
       "      <td>24</td>\n",
       "    </tr>\n",
       "    <tr>\n",
       "      <th>2018-08-31 23:30:00</th>\n",
       "      <td>27</td>\n",
       "    </tr>\n",
       "    <tr>\n",
       "      <th>2018-08-31 23:40:00</th>\n",
       "      <td>39</td>\n",
       "    </tr>\n",
       "    <tr>\n",
       "      <th>2018-08-31 23:50:00</th>\n",
       "      <td>53</td>\n",
       "    </tr>\n",
       "  </tbody>\n",
       "</table>\n",
       "<p>26496 rows × 1 columns</p>\n",
       "</div>"
      ],
      "text/plain": [
       "                     num_orders\n",
       "datetime                       \n",
       "2018-03-01 00:00:00           9\n",
       "2018-03-01 00:10:00          14\n",
       "2018-03-01 00:20:00          28\n",
       "2018-03-01 00:30:00          20\n",
       "2018-03-01 00:40:00          32\n",
       "...                         ...\n",
       "2018-08-31 23:10:00          32\n",
       "2018-08-31 23:20:00          24\n",
       "2018-08-31 23:30:00          27\n",
       "2018-08-31 23:40:00          39\n",
       "2018-08-31 23:50:00          53\n",
       "\n",
       "[26496 rows x 1 columns]"
      ]
     },
     "execution_count": 3,
     "metadata": {},
     "output_type": "execute_result"
    }
   ],
   "source": [
    "# изучим файл\n",
    "data"
   ]
  },
  {
   "cell_type": "code",
   "execution_count": 4,
   "metadata": {},
   "outputs": [
    {
     "name": "stdout",
     "output_type": "stream",
     "text": [
      "(26496, 1)\n"
     ]
    }
   ],
   "source": [
    "print(data.shape)"
   ]
  },
  {
   "cell_type": "code",
   "execution_count": 5,
   "metadata": {},
   "outputs": [
    {
     "name": "stdout",
     "output_type": "stream",
     "text": [
      "<class 'pandas.core.frame.DataFrame'>\n",
      "DatetimeIndex: 26496 entries, 2018-03-01 00:00:00 to 2018-08-31 23:50:00\n",
      "Data columns (total 1 columns):\n",
      " #   Column      Non-Null Count  Dtype\n",
      "---  ------      --------------  -----\n",
      " 0   num_orders  26496 non-null  int64\n",
      "dtypes: int64(1)\n",
      "memory usage: 414.0 KB\n"
     ]
    }
   ],
   "source": [
    "data.info()"
   ]
  },
  {
   "cell_type": "code",
   "execution_count": 6,
   "metadata": {},
   "outputs": [
    {
     "data": {
      "text/html": [
       "<div>\n",
       "<style scoped>\n",
       "    .dataframe tbody tr th:only-of-type {\n",
       "        vertical-align: middle;\n",
       "    }\n",
       "\n",
       "    .dataframe tbody tr th {\n",
       "        vertical-align: top;\n",
       "    }\n",
       "\n",
       "    .dataframe thead th {\n",
       "        text-align: right;\n",
       "    }\n",
       "</style>\n",
       "<table border=\"1\" class=\"dataframe\">\n",
       "  <thead>\n",
       "    <tr style=\"text-align: right;\">\n",
       "      <th></th>\n",
       "      <th>num_orders</th>\n",
       "    </tr>\n",
       "  </thead>\n",
       "  <tbody>\n",
       "    <tr>\n",
       "      <th>count</th>\n",
       "      <td>26496.000000</td>\n",
       "    </tr>\n",
       "    <tr>\n",
       "      <th>mean</th>\n",
       "      <td>14.070463</td>\n",
       "    </tr>\n",
       "    <tr>\n",
       "      <th>std</th>\n",
       "      <td>9.211330</td>\n",
       "    </tr>\n",
       "    <tr>\n",
       "      <th>min</th>\n",
       "      <td>0.000000</td>\n",
       "    </tr>\n",
       "    <tr>\n",
       "      <th>25%</th>\n",
       "      <td>8.000000</td>\n",
       "    </tr>\n",
       "    <tr>\n",
       "      <th>50%</th>\n",
       "      <td>13.000000</td>\n",
       "    </tr>\n",
       "    <tr>\n",
       "      <th>75%</th>\n",
       "      <td>19.000000</td>\n",
       "    </tr>\n",
       "    <tr>\n",
       "      <th>max</th>\n",
       "      <td>119.000000</td>\n",
       "    </tr>\n",
       "  </tbody>\n",
       "</table>\n",
       "</div>"
      ],
      "text/plain": [
       "         num_orders\n",
       "count  26496.000000\n",
       "mean      14.070463\n",
       "std        9.211330\n",
       "min        0.000000\n",
       "25%        8.000000\n",
       "50%       13.000000\n",
       "75%       19.000000\n",
       "max      119.000000"
      ]
     },
     "execution_count": 6,
     "metadata": {},
     "output_type": "execute_result"
    }
   ],
   "source": [
    "data.describe()"
   ]
  },
  {
   "cell_type": "markdown",
   "metadata": {},
   "source": [
    ">Чтобы проверить, в хронологическом ли порядке расположены даты и время, посмотрим атрибут индекса таблицы is_monotonic (англ. «монотонный»). Если порядок соблюдён, атрибут вернёт True, если нет — False."
   ]
  },
  {
   "cell_type": "code",
   "execution_count": 7,
   "metadata": {},
   "outputs": [
    {
     "data": {
      "text/plain": [
       "True"
      ]
     },
     "execution_count": 7,
     "metadata": {},
     "output_type": "execute_result"
    }
   ],
   "source": [
    "data.index.is_monotonic"
   ]
  },
  {
   "cell_type": "code",
   "execution_count": 8,
   "metadata": {},
   "outputs": [
    {
     "data": {
      "text/plain": [
       "<AxesSubplot:xlabel='datetime'>"
      ]
     },
     "execution_count": 8,
     "metadata": {},
     "output_type": "execute_result"
    },
    {
     "data": {
      "image/png": "[encoded data removed]",
      "text/plain": [
       "<Figure size 432x288 with 1 Axes>"
      ]
     },
     "metadata": {
      "needs_background": "light"
     },
     "output_type": "display_data"
    }
   ],
   "source": [
    "# построим график временного ряда\n",
    "data.plot()"
   ]
  },
  {
   "cell_type": "markdown",
   "metadata": {},
   "source": [
    ">**Ресемплирование.** По графику ни чего не понятно, поменяем интервал временного ряда, и выполним ресемплирование по одному часу.\n",
    "Ресемплирование, или ресемплинг (англ. resample, «повторная выборка»), — это изменение интервала со значениями ряда."
   ]
  },
  {
   "cell_type": "code",
   "execution_count": 9,
   "metadata": {},
   "outputs": [
    {
     "data": {
      "text/plain": [
       "<AxesSubplot:xlabel='datetime'>"
      ]
     },
     "execution_count": 9,
     "metadata": {},
     "output_type": "execute_result"
    },
    {
     "data": {
      "image/png": "[encoded data removed]",
      "text/plain": [
       "<Figure size 432x288 with 1 Axes>"
      ]
     },
     "metadata": {
      "needs_background": "light"
     },
     "output_type": "display_data"
    }
   ],
   "source": [
    "# 1H англ. hour, 1 час\n",
    "data = data.resample('1H').sum()\n",
    "data.plot()"
   ]
  },
  {
   "cell_type": "markdown",
   "metadata": {},
   "source": [
    "<div style=\"border:solid green 2px; padding: 20px\">\n",
    "\n",
    "**Вывод**\n",
    "\n",
    "Перед нами исторические данные компании «Чётенькое такси» о заказах такси в аэропортах. Данные находятся в файле /datasets/taxi.csv.\n",
    "    \n",
    "Рассмотрим столбцы таблицы:\n",
    "    \n",
    "- 'datetime' (англ. «дата-время») — значение даты и времени на временной оси. Переменная называется так же, как и тип данных datetime. В этой таблице интервал равен 10 минутам.    \n",
    "- 'num_orders' (от англ. number of orders, «число заказов») - количество заказов такси.\n",
    "\n",
    "Представлены данные с марта 2018 по август 2018 год. Дата и время расположены в хронологическом порядке. \n",
    "    \n",
    "Выполнили ресемплирование данных по одному часу. Данные готовы к анализу.  \n",
    "    \n",
    "Отметим, что с июня наблюдается повышение количества заказов, пик приходится на август. Возможно, потому что август считается наиболее популярным месяцем для отпуска.\n",
    "    \n",
    "Продолжим анализ и обработку данных.    \n",
    "        \n",
    "</div>     "
   ]
  },
  {
   "cell_type": "markdown",
   "metadata": {},
   "source": [
    "## Анализ"
   ]
  },
  {
   "cell_type": "code",
   "execution_count": 10,
   "metadata": {},
   "outputs": [
    {
     "data": {
      "text/plain": [
       "4165"
      ]
     },
     "execution_count": 10,
     "metadata": {},
     "output_type": "execute_result"
    }
   ],
   "source": [
    "# проверим данные на наличие дубликатов\n",
    "data.duplicated().sum()"
   ]
  },
  {
   "cell_type": "markdown",
   "metadata": {},
   "source": [
    ">Обнаружены дубликаты, но удалять их не будем - это скорее всего повторяющиеся даты, т.к. интревал у нас составляет 1 час. Если удалим, то останется по одному значению за день и мы потеряем практически все данные для анализа."
   ]
  },
  {
   "cell_type": "markdown",
   "metadata": {},
   "source": [
    "Чтобы во временном ряду снизить колебания, применим **скользящее среднее** — метод сглаживания временных рядов. Его суть заключается в поиске значений, которые меньше всего подвержены колебаниям, то есть средних арифметических."
   ]
  },
  {
   "cell_type": "code",
   "execution_count": 11,
   "metadata": {},
   "outputs": [
    {
     "data": {
      "text/plain": [
       "<AxesSubplot:xlabel='datetime'>"
      ]
     },
     "execution_count": 11,
     "metadata": {},
     "output_type": "execute_result"
    },
    {
     "data": {
      "image/png": "[encoded data removed]",
      "text/plain": [
       "<Figure size 432x288 with 1 Axes>"
      ]
     },
     "metadata": {
      "needs_background": "light"
     },
     "output_type": "display_data"
    }
   ],
   "source": [
    "df = data.copy()\n",
    "df['rolling_mean'] = df['num_orders'].rolling(20).mean()\n",
    "df['rolling_std'] = df['num_orders'].rolling(20).std()\n",
    "df.plot()"
   ]
  },
  {
   "cell_type": "markdown",
   "metadata": {},
   "source": [
    ">Изначально выборка достаточно стационарна."
   ]
  },
  {
   "cell_type": "code",
   "execution_count": 12,
   "metadata": {},
   "outputs": [
    {
     "data": {
      "text/plain": [
       "num_orders       0\n",
       "rolling_mean    19\n",
       "rolling_std     19\n",
       "dtype: int64"
      ]
     },
     "execution_count": 12,
     "metadata": {},
     "output_type": "execute_result"
    }
   ],
   "source": [
    "# проверим данные на пропуски\n",
    "df.isna().sum()"
   ]
  },
  {
   "cell_type": "code",
   "execution_count": 13,
   "metadata": {},
   "outputs": [
    {
     "data": {
      "text/plain": [
       "num_orders    0\n",
       "dtype: int64"
      ]
     },
     "execution_count": 13,
     "metadata": {},
     "output_type": "execute_result"
    }
   ],
   "source": [
    "# удалим пропуски\n",
    "df['rolling_mean'] = df['rolling_mean'].fillna(0)\n",
    "\n",
    "# проверим удаление\n",
    "data.isna().sum()"
   ]
  },
  {
   "cell_type": "markdown",
   "metadata": {},
   "source": [
    "Чтобы лучше понимать временной ряд, посморим на **тренды и сезонность**. Функция seasonal_decompose() (англ. «разбить на части») раскладывает временной ряд на три составляющие: тренд, сезонность и остаток (англ. residuals). Это компонента, которая не объясняется трендом и сезонностью, это шум."
   ]
  },
  {
   "cell_type": "raw",
   "metadata": {},
   "source": [
    "Функция решает проблему с ошибкой импорта seasonal_decompose. Взято с https://stackoverflow.com/questions/71106940/cannot-import-name-centered-from-scipy-signal-signaltools\n",
    "\n",
    "import scipy.signal.signaltools\n",
    "def _centered(arr, newsize):\n",
    "    # Return the center newsize portion of the array.\n",
    "    newsize = np.asarray(newsize)\n",
    "    currsize = np.array(arr.shape)\n",
    "    startind = (currsize - newsize) // 2\n",
    "    endind = startind + newsize\n",
    "    myslice = [slice(startind[k], endind[k]) for k in range(len(endind))]\n",
    "    return arr[tuple(myslice)]\n",
    "\n",
    "scipy.signal.signaltools._centered = _centered"
   ]
  },
  {
   "cell_type": "code",
   "execution_count": 14,
   "metadata": {},
   "outputs": [],
   "source": [
    "# разложим временной ряд на тренд и сезонную компоненту\n",
    "decomposed = seasonal_decompose(data)"
   ]
  },
  {
   "cell_type": "code",
   "execution_count": 15,
   "metadata": {},
   "outputs": [
    {
     "data": {
      "image/png": "[encoded data removed]",
      "text/plain": [
       "<Figure size 432x576 with 3 Axes>"
      ]
     },
     "metadata": {
      "needs_background": "light"
     },
     "output_type": "display_data"
    }
   ],
   "source": [
    "plt.figure(figsize=(6, 8))\n",
    "plt.subplot(311)\n",
    "# Чтобы график корректно отобразился, указываем его\n",
    "# оси ax, равными plt.gca() (англ. get current axis,\n",
    "# получить текущие оси)\n",
    "decomposed.trend.plot(ax=plt.gca())\n",
    "plt.title('Trend')\n",
    "plt.subplot(312)\n",
    "decomposed.seasonal.tail(24*7).plot(ax=plt.gca()) \n",
    "plt.title('Seasonality')\n",
    "plt.subplot(313)\n",
    "decomposed.resid.plot(ax=plt.gca()) \n",
    "plt.title('Residuals')\n",
    "plt.tight_layout()"
   ]
  },
  {
   "cell_type": "markdown",
   "metadata": {},
   "source": [
    ">Тренд связан с временем года: летом количество вызовов такси, по сравнению с весной - выше, пик приходится на август. А сезонность с периодом в одни сутки. Исследуем август дальше."
   ]
  },
  {
   "cell_type": "code",
   "execution_count": 16,
   "metadata": {},
   "outputs": [
    {
     "data": {
      "image/png": "[encoded data removed]",
      "text/plain": [
       "<Figure size 432x288 with 1 Axes>"
      ]
     },
     "metadata": {
      "needs_background": "light"
     },
     "output_type": "display_data"
    }
   ],
   "source": [
    "# тренд август\n",
    "decomposed.trend['2018-07-30':'2018-08-31'].plot(ax=plt.gca()) \n",
    "plt.title('Trend')\n",
    "plt.tight_layout()"
   ]
  },
  {
   "cell_type": "code",
   "execution_count": 17,
   "metadata": {},
   "outputs": [
    {
     "data": {
      "image/png": "[encoded data removed]",
      "text/plain": [
       "<Figure size 432x288 with 1 Axes>"
      ]
     },
     "metadata": {
      "needs_background": "light"
     },
     "output_type": "display_data"
    }
   ],
   "source": [
    "# сезон сутки\n",
    "decomposed.seasonal['2018-08-29':'2018-08-30'].plot(ax=plt.gca()) \n",
    "plt.title('Seasonality')\n",
    "plt.tight_layout()"
   ]
  },
  {
   "cell_type": "markdown",
   "metadata": {},
   "source": [
    "<div style=\"border:solid green 2px; padding: 20px\">\n",
    "    \n",
    "**Вывод**\n",
    "\n",
    "Вообще, чтобы сделать корректные прогнозы - необходимо больше данных, лучше всего за несколько лет. Нельзя увидеть закономерности, повторяющиеся каждое лето, если представили данные меньше года. \n",
    "\n",
    "Поэтому исходя из анализа **имеющихся данных** можно отметить суточную сезонность, восходящий тренд в августе. \n",
    "    \n",
    "Наиболее пиковый месяц август, ночное время, точнее полночь.\n",
    "    \n",
    "</div>         "
   ]
  },
  {
   "cell_type": "markdown",
   "metadata": {},
   "source": [
    "## Обучение"
   ]
  },
  {
   "cell_type": "markdown",
   "metadata": {},
   "source": [
    "- Создадим признаки для горизонта прогнозирования\n",
    "- Разделим исходные данные на выборки.\n",
    "- Для обучения будем использовать 5 моделей: CatBoostRegressor, LGBMRegressor, LinearRegression, RandomForestRegressor, Lasso."
   ]
  },
  {
   "cell_type": "code",
   "execution_count": 18,
   "metadata": {},
   "outputs": [],
   "source": [
    "# cоздадим признаки для горизонта прогнозирования\n",
    "\n",
    "def make_features(data, max_lag, rolling_mean_size):\n",
    "    data['hour'] = data.index.hour\n",
    "    data['day'] = data.index.day\n",
    "    data['dayofweek'] = data.index.dayofweek\n",
    "    \n",
    "    for lag in range(1, max_lag + 1):\n",
    "        data['lag_{}'.format(lag)] = data['num_orders'].shift(lag)\n",
    "\n",
    "    data['rolling_mean'] = data['num_orders'].shift().rolling(rolling_mean_size).mean()"
   ]
  },
  {
   "cell_type": "code",
   "execution_count": 19,
   "metadata": {},
   "outputs": [
    {
     "data": {
      "text/html": [
       "<div>\n",
       "<style scoped>\n",
       "    .dataframe tbody tr th:only-of-type {\n",
       "        vertical-align: middle;\n",
       "    }\n",
       "\n",
       "    .dataframe tbody tr th {\n",
       "        vertical-align: top;\n",
       "    }\n",
       "\n",
       "    .dataframe thead th {\n",
       "        text-align: right;\n",
       "    }\n",
       "</style>\n",
       "<table border=\"1\" class=\"dataframe\">\n",
       "  <thead>\n",
       "    <tr style=\"text-align: right;\">\n",
       "      <th></th>\n",
       "      <th>num_orders</th>\n",
       "      <th>hour</th>\n",
       "      <th>day</th>\n",
       "      <th>dayofweek</th>\n",
       "      <th>lag_1</th>\n",
       "      <th>lag_2</th>\n",
       "      <th>lag_3</th>\n",
       "      <th>lag_4</th>\n",
       "      <th>rolling_mean</th>\n",
       "    </tr>\n",
       "    <tr>\n",
       "      <th>datetime</th>\n",
       "      <th></th>\n",
       "      <th></th>\n",
       "      <th></th>\n",
       "      <th></th>\n",
       "      <th></th>\n",
       "      <th></th>\n",
       "      <th></th>\n",
       "      <th></th>\n",
       "      <th></th>\n",
       "    </tr>\n",
       "  </thead>\n",
       "  <tbody>\n",
       "    <tr>\n",
       "      <th>2018-03-01 00:00:00</th>\n",
       "      <td>124</td>\n",
       "      <td>0</td>\n",
       "      <td>1</td>\n",
       "      <td>3</td>\n",
       "      <td>NaN</td>\n",
       "      <td>NaN</td>\n",
       "      <td>NaN</td>\n",
       "      <td>NaN</td>\n",
       "      <td>NaN</td>\n",
       "    </tr>\n",
       "    <tr>\n",
       "      <th>2018-03-01 01:00:00</th>\n",
       "      <td>85</td>\n",
       "      <td>1</td>\n",
       "      <td>1</td>\n",
       "      <td>3</td>\n",
       "      <td>124.0</td>\n",
       "      <td>NaN</td>\n",
       "      <td>NaN</td>\n",
       "      <td>NaN</td>\n",
       "      <td>NaN</td>\n",
       "    </tr>\n",
       "    <tr>\n",
       "      <th>2018-03-01 02:00:00</th>\n",
       "      <td>71</td>\n",
       "      <td>2</td>\n",
       "      <td>1</td>\n",
       "      <td>3</td>\n",
       "      <td>85.0</td>\n",
       "      <td>124.0</td>\n",
       "      <td>NaN</td>\n",
       "      <td>NaN</td>\n",
       "      <td>NaN</td>\n",
       "    </tr>\n",
       "    <tr>\n",
       "      <th>2018-03-01 03:00:00</th>\n",
       "      <td>66</td>\n",
       "      <td>3</td>\n",
       "      <td>1</td>\n",
       "      <td>3</td>\n",
       "      <td>71.0</td>\n",
       "      <td>85.0</td>\n",
       "      <td>124.0</td>\n",
       "      <td>NaN</td>\n",
       "      <td>NaN</td>\n",
       "    </tr>\n",
       "    <tr>\n",
       "      <th>2018-03-01 04:00:00</th>\n",
       "      <td>43</td>\n",
       "      <td>4</td>\n",
       "      <td>1</td>\n",
       "      <td>3</td>\n",
       "      <td>66.0</td>\n",
       "      <td>71.0</td>\n",
       "      <td>85.0</td>\n",
       "      <td>124.0</td>\n",
       "      <td>NaN</td>\n",
       "    </tr>\n",
       "  </tbody>\n",
       "</table>\n",
       "</div>"
      ],
      "text/plain": [
       "                     num_orders  hour  day  dayofweek  lag_1  lag_2  lag_3  \\\n",
       "datetime                                                                     \n",
       "2018-03-01 00:00:00         124     0    1          3    NaN    NaN    NaN   \n",
       "2018-03-01 01:00:00          85     1    1          3  124.0    NaN    NaN   \n",
       "2018-03-01 02:00:00          71     2    1          3   85.0  124.0    NaN   \n",
       "2018-03-01 03:00:00          66     3    1          3   71.0   85.0  124.0   \n",
       "2018-03-01 04:00:00          43     4    1          3   66.0   71.0   85.0   \n",
       "\n",
       "                     lag_4  rolling_mean  \n",
       "datetime                                  \n",
       "2018-03-01 00:00:00    NaN           NaN  \n",
       "2018-03-01 01:00:00    NaN           NaN  \n",
       "2018-03-01 02:00:00    NaN           NaN  \n",
       "2018-03-01 03:00:00    NaN           NaN  \n",
       "2018-03-01 04:00:00  124.0           NaN  "
      ]
     },
     "execution_count": 19,
     "metadata": {},
     "output_type": "execute_result"
    }
   ],
   "source": [
    "#make_features(data, 4, 4)\n",
    "make_features(data, 4, 24)\n",
    "data.head()"
   ]
  },
  {
   "cell_type": "code",
   "execution_count": 20,
   "metadata": {},
   "outputs": [
    {
     "data": {
      "image/png": "[encoded data removed]",
      "text/plain": [
       "<Figure size 1440x720 with 1 Axes>"
      ]
     },
     "metadata": {
      "needs_background": "light"
     },
     "output_type": "display_data"
    }
   ],
   "source": [
    "plt.figure(figsize=(20, 10))\n",
    "\n",
    "plt.plot(data['rolling_mean'], label='True')\n",
    "\n",
    "plt.title('Rolling')\n",
    "plt.legend()\n",
    "plt.show()"
   ]
  },
  {
   "cell_type": "code",
   "execution_count": 21,
   "metadata": {},
   "outputs": [
    {
     "name": "stdout",
     "output_type": "stream",
     "text": [
      "Размер выборок:\n",
      "Тренировочная: (3950, 9)\n",
      "Тестовая: (442, 9)\n"
     ]
    }
   ],
   "source": [
    "# разобъем данные на выборки\n",
    "#train,test = train_test_split(data, shuffle = False, random_state = 42, test_size = 0.2)\n",
    "#valid,test = train_test_split(test, shuffle = False, random_state = 42, test_size = 0.5)\n",
    "\n",
    "train,test = train_test_split(data, shuffle = False, random_state = 42, test_size = 0.1)\n",
    "\n",
    "# из обучающей выборки удалим строки с пропусками\n",
    "train = train.dropna()\n",
    "\n",
    "print('Размер выборок:')\n",
    "print('Тренировочная:', train.shape)\n",
    "#print('Валидационная:', valid.shape)\n",
    "print('Тестовая:', test.shape)"
   ]
  },
  {
   "cell_type": "code",
   "execution_count": 22,
   "metadata": {},
   "outputs": [],
   "source": [
    "# выделим признаки и целевой признак\n",
    "(features_train,\n",
    "#features_valid,\n",
    "features_test) = (train.drop('num_orders',axis = 1),\n",
    "                #  valid.drop('num_orders',axis = 1),\n",
    "                  test.drop('num_orders',axis = 1))\n",
    "(target_train,\n",
    "#target_valid,\n",
    "target_test) = (train['num_orders'],\n",
    "              #  valid['num_orders'],\n",
    "                test['num_orders'])"
   ]
  },
  {
   "cell_type": "code",
   "execution_count": 23,
   "metadata": {},
   "outputs": [
    {
     "name": "stdout",
     "output_type": "stream",
     "text": [
      "RMSE LinearRegression: 30.679290329842217\n"
     ]
    }
   ],
   "source": [
    "# LinearRegression\n",
    "\n",
    "model = LinearRegression()\n",
    "model.fit(features_train, target_train)\n",
    "predict_lr = pd.DataFrame(model.predict(features_train))\n",
    "rmse_lr = mean_squared_error(target_train, predict_lr) ** 0.5\n",
    "print('RMSE LinearRegression:', rmse_lr)"
   ]
  },
  {
   "cell_type": "code",
   "execution_count": 24,
   "metadata": {},
   "outputs": [
    {
     "name": "stdout",
     "output_type": "stream",
     "text": [
      "n_estimators= 1 : 19.398486173482322\n",
      "n_estimators= 2 : 14.832437511469433\n",
      "n_estimators= 3 : 13.133352609808295\n",
      "n_estimators= 4 : 12.069231331642825\n",
      "n_estimators= 5 : 11.35409366871591\n",
      "n_estimators= 6 : 10.902867724283405\n",
      "n_estimators= 7 : 10.63770388729636\n",
      "n_estimators= 8 : 10.463440345352932\n",
      "n_estimators= 9 : 10.223817676508204\n",
      "n_estimators= 10 : 10.100457565772686\n",
      "n_estimators= 11 : 9.996091923866661\n",
      "n_estimators= 12 : 9.826518145343217\n",
      "n_estimators= 13 : 9.728054356854708\n",
      "n_estimators= 14 : 9.67067189285261\n",
      "n_estimators= 15 : 9.602494518849195\n",
      "n_estimators= 16 : 9.579147728401084\n",
      "n_estimators= 17 : 9.56693919756556\n",
      "n_estimators= 18 : 9.5010079576476\n",
      "n_estimators= 19 : 9.498868110940318\n",
      "n_estimators= 20 : 9.453052952701698\n"
     ]
    }
   ],
   "source": [
    "# RandomForestRegressor\n",
    "\n",
    "for i in range(1, 21):\n",
    "    model_random = RandomForestRegressor(n_estimators=i, random_state=rnd_state)\n",
    "    model_random.fit(features_train, target_train)\n",
    "    \n",
    "    predict_random = pd.DataFrame(model_random.predict(features_train))\n",
    "    rmse_random = mean_squared_error(target_train, predict_random) ** 0.5\n",
    "    print('n_estimators=', i, ':', rmse_random) "
   ]
  },
  {
   "cell_type": "code",
   "execution_count": 25,
   "metadata": {},
   "outputs": [
    {
     "name": "stdout",
     "output_type": "stream",
     "text": [
      "RMSE LGBMRegressor: 25.686274575669746\n"
     ]
    }
   ],
   "source": [
    "# LGBMRegressor\n",
    "\n",
    "from collections import defaultdict\n",
    "d = defaultdict(list)\n",
    "\n",
    "lgbm_model = LGBMRegressor(num_leaves=31, learning_rate=0.05, n_estimators=20, random_state=rnd_state)\n",
    "lgbm_model.fit(features_train, target_train)\n",
    "predict_lgbm = pd.DataFrame(lgbm_model.predict(features_train))\n",
    "rmse_lgbm = mean_squared_error(target_train, predict_lgbm) ** 0.5\n",
    "\n",
    "print(\"RMSE LGBMRegressor:\", rmse_lgbm)"
   ]
  },
  {
   "cell_type": "code",
   "execution_count": 26,
   "metadata": {},
   "outputs": [
    {
     "name": "stdout",
     "output_type": "stream",
     "text": [
      "Learning rate set to 0.5\n",
      "0:\tlearn: 30.2456249\ttotal: 48.4ms\tremaining: 2.37s\n",
      "10:\tlearn: 22.6636085\ttotal: 62.9ms\tremaining: 223ms\n",
      "20:\tlearn: 20.7761399\ttotal: 77ms\tremaining: 106ms\n",
      "30:\tlearn: 19.5361381\ttotal: 91.7ms\tremaining: 56.2ms\n",
      "40:\tlearn: 18.4188137\ttotal: 108ms\tremaining: 23.7ms\n",
      "49:\tlearn: 17.5391708\ttotal: 121ms\tremaining: 0us\n",
      "RMSE CatBoostRegressor: 17.539170802634384\n"
     ]
    }
   ],
   "source": [
    "# CatBoostRegressor\n",
    "\n",
    "cat_model = CatBoostRegressor(loss_function=\"RMSE\", iterations=50, random_state=rnd_state)\n",
    "cat_model.fit(features_train, target_train, verbose=10)\n",
    "\n",
    "predict_cat = cat_model.predict(features_train)\n",
    "rmse_cat = mean_squared_error(target_train, predict_cat) ** 0.5\n",
    "\n",
    "print(\"RMSE CatBoostRegressor:\", rmse_cat)"
   ]
  },
  {
   "cell_type": "code",
   "execution_count": 27,
   "metadata": {},
   "outputs": [
    {
     "name": "stdout",
     "output_type": "stream",
     "text": [
      "RMSE Lasso: 30.67932071511903\n"
     ]
    }
   ],
   "source": [
    "# Lasso\n",
    "\n",
    "lasso_model = linear_model.Lasso(alpha=0.1)\n",
    "lasso_model.fit(features_train, target_train)\n",
    "\n",
    "predict_lasso = lasso_model.predict(features_train)\n",
    "rmse_lasso = mean_squared_error(target_train, predict_lasso) ** 0.5\n",
    "\n",
    "print(\"RMSE Lasso:\", rmse_lasso)"
   ]
  },
  {
   "cell_type": "code",
   "execution_count": 28,
   "metadata": {},
   "outputs": [
    {
     "data": {
      "text/plain": [
       "LinearRegression    30.679290\n",
       "LightGBM            25.686275\n",
       "RandomForest         9.453053\n",
       "Lasso               30.679321\n",
       "CatBoost            17.539171\n",
       "dtype: float64"
      ]
     },
     "execution_count": 28,
     "metadata": {},
     "output_type": "execute_result"
    }
   ],
   "source": [
    "# выведем результат на экран\n",
    "\n",
    "data_score = pd.Series({'LinearRegression': rmse_lr,\n",
    "                           'LightGBM': rmse_lgbm,\n",
    "                           'RandomForest': rmse_random,\n",
    "                           'Lasso': rmse_lasso,\n",
    "                           'CatBoost': rmse_cat}) \n",
    "\n",
    "data_score\n"
   ]
  },
  {
   "cell_type": "markdown",
   "metadata": {},
   "source": [
    ">\n",
    ">- Oбучены 5 моделей: CatBoostRegressor, LGBMRegressor, LinearRegression, RandomForestRegressor, Lasso.\n",
    ">- Подготовка к тестированию завершена.\n",
    ">- Mодель \"Случайного леса\" показала наименьший результат. Далее проведем тестирование."
   ]
  },
  {
   "cell_type": "markdown",
   "metadata": {},
   "source": [
    "## Тестирование"
   ]
  },
  {
   "cell_type": "code",
   "execution_count": 29,
   "metadata": {},
   "outputs": [
    {
     "name": "stdout",
     "output_type": "stream",
     "text": [
      "46.77740515980084\n"
     ]
    }
   ],
   "source": [
    "# RandomForestRegressor\n",
    "\n",
    "model_random = RandomForestRegressor(n_estimators=20, random_state=rnd_state)\n",
    "model_random.fit(features_train, target_train)\n",
    "    \n",
    "predict_random = pd.DataFrame(model_random.predict(features_test))\n",
    "rmse_random = mean_squared_error(target_test, predict_random) ** 0.5\n",
    "print(rmse_random) "
   ]
  },
  {
   "cell_type": "code",
   "execution_count": 30,
   "metadata": {},
   "outputs": [
    {
     "name": "stdout",
     "output_type": "stream",
     "text": [
      "Learning rate set to 0.5\n",
      "0:\tlearn: 30.2456249\ttotal: 1.71ms\tremaining: 84ms\n",
      "10:\tlearn: 22.6636085\ttotal: 16.4ms\tremaining: 58.3ms\n",
      "20:\tlearn: 20.7761399\ttotal: 30.5ms\tremaining: 42.1ms\n",
      "30:\tlearn: 19.5361381\ttotal: 45ms\tremaining: 27.6ms\n",
      "40:\tlearn: 18.4188137\ttotal: 59.9ms\tremaining: 13.2ms\n",
      "49:\tlearn: 17.5391708\ttotal: 72.9ms\tremaining: 0us\n",
      "RMSE CatBoostRegressor: 45.667149595829784\n"
     ]
    }
   ],
   "source": [
    "# CatBoost\n",
    "\n",
    "cat_model = CatBoostRegressor(loss_function=\"RMSE\", iterations=50, random_state=rnd_state)\n",
    "cat_model.fit(features_train, target_train, verbose=10)\n",
    "\n",
    "predict_cat = cat_model.predict(features_test)\n",
    "rmse_cat = mean_squared_error(target_test, predict_cat) ** 0.5\n",
    "\n",
    "print(\"RMSE CatBoostRegressor:\", rmse_cat)"
   ]
  },
  {
   "cell_type": "code",
   "execution_count": 31,
   "metadata": {},
   "outputs": [
    {
     "name": "stdout",
     "output_type": "stream",
     "text": [
      "RMSE Lasso: 50.328462106192895\n"
     ]
    }
   ],
   "source": [
    "# Lasso\n",
    "\n",
    "lasso_model = linear_model.Lasso(alpha=0.1)\n",
    "lasso_model.fit(features_train, target_train)\n",
    "\n",
    "predict_lasso = lasso_model.predict(features_test)\n",
    "rmse_lasso = mean_squared_error(target_test, predict_lasso) ** 0.5\n",
    "\n",
    "print(\"RMSE Lasso:\", rmse_lasso)"
   ]
  },
  {
   "cell_type": "code",
   "execution_count": 32,
   "metadata": {},
   "outputs": [
    {
     "name": "stdout",
     "output_type": "stream",
     "text": [
      "RMSE LGBMRegressor: 61.091677290477776\n"
     ]
    }
   ],
   "source": [
    "# LGBMRegressor\n",
    "\n",
    "from collections import defaultdict\n",
    "d = defaultdict(list)\n",
    "\n",
    "lgbm_model = LGBMRegressor(num_leaves=31, learning_rate=0.05, n_estimators=20, random_state=rnd_state)\n",
    "lgbm_model.fit(features_train, target_train)\n",
    "predict_lgbm = pd.DataFrame(lgbm_model.predict(features_test))\n",
    "rmse_lgbm = mean_squared_error(target_test, predict_lgbm) ** 0.5\n",
    "\n",
    "print(\"RMSE LGBMRegressor:\", rmse_lgbm)"
   ]
  },
  {
   "cell_type": "code",
   "execution_count": 33,
   "metadata": {},
   "outputs": [
    {
     "name": "stdout",
     "output_type": "stream",
     "text": [
      "RMSE LinearRegression: 50.32703808053819\n"
     ]
    }
   ],
   "source": [
    "# LinearRegression\n",
    "\n",
    "model = LinearRegression()\n",
    "model.fit(features_train, target_train)\n",
    "predict_lr = model.predict(features_test)\n",
    "rmse_lr = mean_squared_error(target_test, predict_lr) ** 0.5\n",
    "print('RMSE LinearRegression:', rmse_lr)"
   ]
  },
  {
   "cell_type": "markdown",
   "metadata": {},
   "source": [
    "<div style=\"border:solid green 2px; padding: 20px\">\n",
    "    \n",
    "**ВЫВОДЫ**\n",
    "\n",
    "- Данные ресемплированы по 1 часу\n",
    "- Проведена генерация признаков\n",
    "- Были исследованы 5 моделей регрессии\n",
    "- Наиболее подходящая модель - Модель \"Случайного леса\"\n",
    "- Достигнуто значение метрики RMSE на тестовой выборке - не более 48.    \n",
    "    \n",
    "</div>             "
   ]
  },
  {
   "attachments": {
    "image.png": {
     "image/png": "[encoded data removed]"
    }
   },
   "cell_type": "markdown",
   "metadata": {},
   "source": [
    "![image.png](attachment:image.png)"
   ]
  }
 ],
 "metadata": {
  "ExecuteTimeLog": [
   {
    "duration": 51,
    "start_time": "2022-05-10T07:42:13.806Z"
   },
   {
    "duration": 6,
    "start_time": "2022-05-10T07:42:17.098Z"
   },
   {
    "duration": 1097,
    "start_time": "2022-05-10T07:42:24.139Z"
   },
   {
    "duration": 36,
    "start_time": "2022-05-10T07:42:25.238Z"
   },
   {
    "duration": 12,
    "start_time": "2022-05-10T07:42:26.146Z"
   },
   {
    "duration": 3,
    "start_time": "2022-05-10T07:58:09.410Z"
   },
   {
    "duration": 12,
    "start_time": "2022-05-10T07:58:31.277Z"
   },
   {
    "duration": 30,
    "start_time": "2022-05-10T08:05:19.277Z"
   },
   {
    "duration": 12,
    "start_time": "2022-05-10T08:08:28.074Z"
   },
   {
    "duration": 5,
    "start_time": "2022-05-10T08:09:45.593Z"
   },
   {
    "duration": 4,
    "start_time": "2022-05-10T08:12:52.762Z"
   },
   {
    "duration": 1086,
    "start_time": "2022-05-10T08:13:18.234Z"
   },
   {
    "duration": 703,
    "start_time": "2022-05-10T08:28:05.087Z"
   },
   {
    "duration": 644,
    "start_time": "2022-05-10T08:28:19.595Z"
   },
   {
    "duration": 626,
    "start_time": "2022-05-10T08:29:39.011Z"
   },
   {
    "duration": 720,
    "start_time": "2022-05-10T08:30:22.076Z"
   },
   {
    "duration": 1139,
    "start_time": "2022-05-10T08:30:34.568Z"
   },
   {
    "duration": 35,
    "start_time": "2022-05-10T08:30:35.709Z"
   },
   {
    "duration": 15,
    "start_time": "2022-05-10T08:30:35.745Z"
   },
   {
    "duration": 9,
    "start_time": "2022-05-10T08:30:35.762Z"
   },
   {
    "duration": 14,
    "start_time": "2022-05-10T08:30:35.772Z"
   },
   {
    "duration": 4,
    "start_time": "2022-05-10T08:30:35.788Z"
   },
   {
    "duration": 955,
    "start_time": "2022-05-10T08:30:35.794Z"
   },
   {
    "duration": 716,
    "start_time": "2022-05-10T08:30:36.752Z"
   },
   {
    "duration": 620,
    "start_time": "2022-05-10T08:31:33.791Z"
   },
   {
    "duration": 621,
    "start_time": "2022-05-10T08:31:57.928Z"
   },
   {
    "duration": 722,
    "start_time": "2022-05-10T08:32:17.508Z"
   },
   {
    "duration": 618,
    "start_time": "2022-05-10T08:32:32.751Z"
   },
   {
    "duration": 696,
    "start_time": "2022-05-10T08:32:42.718Z"
   },
   {
    "duration": 239,
    "start_time": "2022-05-10T08:33:27.009Z"
   },
   {
    "duration": 202,
    "start_time": "2022-05-10T08:33:39.395Z"
   },
   {
    "duration": 210,
    "start_time": "2022-05-10T08:33:57.222Z"
   },
   {
    "duration": 217,
    "start_time": "2022-05-10T08:34:01.555Z"
   },
   {
    "duration": 217,
    "start_time": "2022-05-10T08:34:20.357Z"
   },
   {
    "duration": 216,
    "start_time": "2022-05-10T08:34:43.378Z"
   },
   {
    "duration": 232,
    "start_time": "2022-05-10T08:35:09.167Z"
   },
   {
    "duration": 235,
    "start_time": "2022-05-10T08:35:13.303Z"
   },
   {
    "duration": 216,
    "start_time": "2022-05-10T08:35:46.434Z"
   },
   {
    "duration": 340,
    "start_time": "2022-05-10T08:35:50.609Z"
   },
   {
    "duration": 1107,
    "start_time": "2022-05-10T08:36:19.252Z"
   },
   {
    "duration": 38,
    "start_time": "2022-05-10T08:36:20.361Z"
   },
   {
    "duration": 15,
    "start_time": "2022-05-10T08:36:20.401Z"
   },
   {
    "duration": 3,
    "start_time": "2022-05-10T08:36:20.418Z"
   },
   {
    "duration": 13,
    "start_time": "2022-05-10T08:36:20.423Z"
   },
   {
    "duration": 5,
    "start_time": "2022-05-10T08:36:20.437Z"
   },
   {
    "duration": 925,
    "start_time": "2022-05-10T08:36:20.444Z"
   },
   {
    "duration": 321,
    "start_time": "2022-05-10T08:36:21.371Z"
   },
   {
    "duration": 235,
    "start_time": "2022-05-10T08:36:51.178Z"
   },
   {
    "duration": 1116,
    "start_time": "2022-05-10T08:37:02.161Z"
   },
   {
    "duration": 34,
    "start_time": "2022-05-10T08:37:03.279Z"
   },
   {
    "duration": 15,
    "start_time": "2022-05-10T08:37:03.314Z"
   },
   {
    "duration": 4,
    "start_time": "2022-05-10T08:37:03.331Z"
   },
   {
    "duration": 16,
    "start_time": "2022-05-10T08:37:03.338Z"
   },
   {
    "duration": 5,
    "start_time": "2022-05-10T08:37:03.357Z"
   },
   {
    "duration": 1038,
    "start_time": "2022-05-10T08:37:03.363Z"
   },
   {
    "duration": 266,
    "start_time": "2022-05-10T08:37:04.407Z"
   },
   {
    "duration": 13,
    "start_time": "2022-05-10T08:38:37.851Z"
   },
   {
    "duration": 6,
    "start_time": "2022-05-10T08:40:09.208Z"
   },
   {
    "duration": 5,
    "start_time": "2022-05-10T08:46:20.695Z"
   },
   {
    "duration": 1154,
    "start_time": "2022-05-10T08:46:35.389Z"
   },
   {
    "duration": 38,
    "start_time": "2022-05-10T08:46:36.545Z"
   },
   {
    "duration": 13,
    "start_time": "2022-05-10T08:46:36.585Z"
   },
   {
    "duration": 3,
    "start_time": "2022-05-10T08:46:36.601Z"
   },
   {
    "duration": 11,
    "start_time": "2022-05-10T08:46:36.607Z"
   },
   {
    "duration": 13,
    "start_time": "2022-05-10T08:46:36.620Z"
   },
   {
    "duration": 5,
    "start_time": "2022-05-10T08:46:36.634Z"
   },
   {
    "duration": 889,
    "start_time": "2022-05-10T08:46:36.640Z"
   },
   {
    "duration": 307,
    "start_time": "2022-05-10T08:46:37.531Z"
   },
   {
    "duration": 5,
    "start_time": "2022-05-10T08:46:37.840Z"
   },
   {
    "duration": 7,
    "start_time": "2022-05-10T08:46:37.847Z"
   },
   {
    "duration": 7,
    "start_time": "2022-05-10T08:53:27.323Z"
   },
   {
    "duration": 161,
    "start_time": "2022-05-10T08:53:58.035Z"
   },
   {
    "duration": 52,
    "start_time": "2022-05-10T10:36:27.512Z"
   },
   {
    "duration": 1156,
    "start_time": "2022-05-10T10:36:40.997Z"
   },
   {
    "duration": 32,
    "start_time": "2022-05-10T10:36:42.155Z"
   },
   {
    "duration": 12,
    "start_time": "2022-05-10T10:36:42.188Z"
   },
   {
    "duration": 3,
    "start_time": "2022-05-10T10:36:42.207Z"
   },
   {
    "duration": 12,
    "start_time": "2022-05-10T10:36:42.211Z"
   },
   {
    "duration": 13,
    "start_time": "2022-05-10T10:36:42.224Z"
   },
   {
    "duration": 4,
    "start_time": "2022-05-10T10:36:42.239Z"
   },
   {
    "duration": 879,
    "start_time": "2022-05-10T10:36:42.245Z"
   },
   {
    "duration": 310,
    "start_time": "2022-05-10T10:36:43.125Z"
   },
   {
    "duration": 5,
    "start_time": "2022-05-10T10:36:43.438Z"
   },
   {
    "duration": 7,
    "start_time": "2022-05-10T10:36:43.445Z"
   },
   {
    "duration": 238,
    "start_time": "2022-05-10T10:36:43.453Z"
   },
   {
    "duration": 230,
    "start_time": "2022-05-10T10:37:20.463Z"
   },
   {
    "duration": 266,
    "start_time": "2022-05-10T10:39:20.889Z"
   },
   {
    "duration": 258,
    "start_time": "2022-05-10T10:39:29.085Z"
   },
   {
    "duration": 251,
    "start_time": "2022-05-10T10:39:37.124Z"
   },
   {
    "duration": 335,
    "start_time": "2022-05-10T10:39:43.785Z"
   },
   {
    "duration": 7,
    "start_time": "2022-05-10T10:54:26.434Z"
   },
   {
    "duration": 7,
    "start_time": "2022-05-10T10:55:18.568Z"
   },
   {
    "duration": 1155,
    "start_time": "2022-05-10T10:55:28.900Z"
   },
   {
    "duration": 37,
    "start_time": "2022-05-10T10:55:30.057Z"
   },
   {
    "duration": 14,
    "start_time": "2022-05-10T10:55:30.097Z"
   },
   {
    "duration": 3,
    "start_time": "2022-05-10T10:55:30.113Z"
   },
   {
    "duration": 15,
    "start_time": "2022-05-10T10:55:30.118Z"
   },
   {
    "duration": 13,
    "start_time": "2022-05-10T10:55:30.135Z"
   },
   {
    "duration": 3,
    "start_time": "2022-05-10T10:55:30.150Z"
   },
   {
    "duration": 925,
    "start_time": "2022-05-10T10:55:30.155Z"
   },
   {
    "duration": 312,
    "start_time": "2022-05-10T10:55:31.082Z"
   },
   {
    "duration": 14,
    "start_time": "2022-05-10T10:55:31.397Z"
   },
   {
    "duration": 8,
    "start_time": "2022-05-10T10:55:31.413Z"
   },
   {
    "duration": 298,
    "start_time": "2022-05-10T10:55:31.423Z"
   },
   {
    "duration": 6,
    "start_time": "2022-05-10T10:55:31.723Z"
   },
   {
    "duration": 6,
    "start_time": "2022-05-10T10:57:46.335Z"
   },
   {
    "duration": 4,
    "start_time": "2022-05-10T10:58:21.120Z"
   },
   {
    "duration": 9,
    "start_time": "2022-05-10T10:58:32.771Z"
   },
   {
    "duration": 279,
    "start_time": "2022-05-10T11:01:21.226Z"
   },
   {
    "duration": 1450,
    "start_time": "2022-05-10T11:01:58.587Z"
   },
   {
    "duration": 31,
    "start_time": "2022-05-10T11:02:00.039Z"
   },
   {
    "duration": 13,
    "start_time": "2022-05-10T11:02:00.072Z"
   },
   {
    "duration": 4,
    "start_time": "2022-05-10T11:02:00.087Z"
   },
   {
    "duration": 22,
    "start_time": "2022-05-10T11:02:00.092Z"
   },
   {
    "duration": 13,
    "start_time": "2022-05-10T11:02:00.115Z"
   },
   {
    "duration": 4,
    "start_time": "2022-05-10T11:02:00.130Z"
   },
   {
    "duration": 878,
    "start_time": "2022-05-10T11:02:00.136Z"
   },
   {
    "duration": 301,
    "start_time": "2022-05-10T11:02:01.016Z"
   },
   {
    "duration": 5,
    "start_time": "2022-05-10T11:02:01.320Z"
   },
   {
    "duration": 259,
    "start_time": "2022-05-10T11:02:01.327Z"
   },
   {
    "duration": 6,
    "start_time": "2022-05-10T11:02:01.588Z"
   },
   {
    "duration": 7,
    "start_time": "2022-05-10T11:02:01.608Z"
   },
   {
    "duration": 31,
    "start_time": "2022-05-10T11:04:08.614Z"
   },
   {
    "duration": 124,
    "start_time": "2022-05-10T11:06:51.818Z"
   },
   {
    "duration": 1463,
    "start_time": "2022-05-10T11:07:12.228Z"
   },
   {
    "duration": 38,
    "start_time": "2022-05-10T11:07:13.693Z"
   },
   {
    "duration": 12,
    "start_time": "2022-05-10T11:07:13.734Z"
   },
   {
    "duration": 5,
    "start_time": "2022-05-10T11:07:13.749Z"
   },
   {
    "duration": 14,
    "start_time": "2022-05-10T11:07:13.755Z"
   },
   {
    "duration": 38,
    "start_time": "2022-05-10T11:07:13.771Z"
   },
   {
    "duration": 5,
    "start_time": "2022-05-10T11:07:13.811Z"
   },
   {
    "duration": 690,
    "start_time": "2022-05-10T11:07:13.818Z"
   },
   {
    "duration": 319,
    "start_time": "2022-05-10T11:07:14.510Z"
   },
   {
    "duration": 6,
    "start_time": "2022-05-10T11:07:14.833Z"
   },
   {
    "duration": 279,
    "start_time": "2022-05-10T11:07:14.842Z"
   },
   {
    "duration": 7,
    "start_time": "2022-05-10T11:07:15.123Z"
   },
   {
    "duration": 12,
    "start_time": "2022-05-10T11:07:15.133Z"
   },
   {
    "duration": 154,
    "start_time": "2022-05-10T11:07:15.147Z"
   },
   {
    "duration": 1434,
    "start_time": "2022-05-10T11:08:13.252Z"
   },
   {
    "duration": 34,
    "start_time": "2022-05-10T11:08:14.689Z"
   },
   {
    "duration": 11,
    "start_time": "2022-05-10T11:08:14.724Z"
   },
   {
    "duration": 4,
    "start_time": "2022-05-10T11:08:14.738Z"
   },
   {
    "duration": 13,
    "start_time": "2022-05-10T11:08:14.744Z"
   },
   {
    "duration": 14,
    "start_time": "2022-05-10T11:08:14.759Z"
   },
   {
    "duration": 34,
    "start_time": "2022-05-10T11:08:14.774Z"
   },
   {
    "duration": 682,
    "start_time": "2022-05-10T11:08:14.810Z"
   },
   {
    "duration": 330,
    "start_time": "2022-05-10T11:08:15.494Z"
   },
   {
    "duration": 7,
    "start_time": "2022-05-10T11:08:15.828Z"
   },
   {
    "duration": 285,
    "start_time": "2022-05-10T11:08:15.837Z"
   },
   {
    "duration": 6,
    "start_time": "2022-05-10T11:08:16.124Z"
   },
   {
    "duration": 8,
    "start_time": "2022-05-10T11:08:16.132Z"
   },
   {
    "duration": 150,
    "start_time": "2022-05-10T11:08:16.142Z"
   },
   {
    "duration": 109,
    "start_time": "2022-05-10T11:12:46.965Z"
   },
   {
    "duration": 1534,
    "start_time": "2022-05-10T11:13:04.289Z"
   },
   {
    "duration": 34,
    "start_time": "2022-05-10T11:13:05.825Z"
   },
   {
    "duration": 12,
    "start_time": "2022-05-10T11:13:05.861Z"
   },
   {
    "duration": 4,
    "start_time": "2022-05-10T11:13:05.875Z"
   },
   {
    "duration": 32,
    "start_time": "2022-05-10T11:13:05.881Z"
   },
   {
    "duration": 14,
    "start_time": "2022-05-10T11:13:05.915Z"
   },
   {
    "duration": 4,
    "start_time": "2022-05-10T11:13:05.931Z"
   },
   {
    "duration": 707,
    "start_time": "2022-05-10T11:13:05.937Z"
   },
   {
    "duration": 330,
    "start_time": "2022-05-10T11:13:06.646Z"
   },
   {
    "duration": 6,
    "start_time": "2022-05-10T11:13:06.979Z"
   },
   {
    "duration": 290,
    "start_time": "2022-05-10T11:13:06.987Z"
   },
   {
    "duration": 7,
    "start_time": "2022-05-10T11:13:07.279Z"
   },
   {
    "duration": 25,
    "start_time": "2022-05-10T11:13:07.288Z"
   },
   {
    "duration": 150,
    "start_time": "2022-05-10T11:13:07.315Z"
   },
   {
    "duration": 0,
    "start_time": "2022-05-10T11:13:07.467Z"
   },
   {
    "duration": 20,
    "start_time": "2022-05-10T11:13:42.331Z"
   },
   {
    "duration": 1386,
    "start_time": "2022-05-10T11:13:49.448Z"
   },
   {
    "duration": 34,
    "start_time": "2022-05-10T11:13:50.836Z"
   },
   {
    "duration": 13,
    "start_time": "2022-05-10T11:13:50.872Z"
   },
   {
    "duration": 5,
    "start_time": "2022-05-10T11:13:50.888Z"
   },
   {
    "duration": 15,
    "start_time": "2022-05-10T11:13:50.908Z"
   },
   {
    "duration": 17,
    "start_time": "2022-05-10T11:13:50.924Z"
   },
   {
    "duration": 5,
    "start_time": "2022-05-10T11:13:50.943Z"
   },
   {
    "duration": 711,
    "start_time": "2022-05-10T11:13:50.951Z"
   },
   {
    "duration": 306,
    "start_time": "2022-05-10T11:13:51.663Z"
   },
   {
    "duration": 6,
    "start_time": "2022-05-10T11:13:51.972Z"
   },
   {
    "duration": 281,
    "start_time": "2022-05-10T11:13:51.980Z"
   },
   {
    "duration": 6,
    "start_time": "2022-05-10T11:13:52.264Z"
   },
   {
    "duration": 8,
    "start_time": "2022-05-10T11:13:52.272Z"
   },
   {
    "duration": 150,
    "start_time": "2022-05-10T11:13:52.282Z"
   },
   {
    "duration": 0,
    "start_time": "2022-05-10T11:13:52.434Z"
   },
   {
    "duration": 4,
    "start_time": "2022-05-10T11:15:01.612Z"
   },
   {
    "duration": 35,
    "start_time": "2022-05-10T11:15:02.875Z"
   },
   {
    "duration": 1402,
    "start_time": "2022-05-10T11:15:21.060Z"
   },
   {
    "duration": 34,
    "start_time": "2022-05-10T11:15:22.464Z"
   },
   {
    "duration": 22,
    "start_time": "2022-05-10T11:15:22.500Z"
   },
   {
    "duration": 3,
    "start_time": "2022-05-10T11:15:22.525Z"
   },
   {
    "duration": 13,
    "start_time": "2022-05-10T11:15:22.531Z"
   },
   {
    "duration": 14,
    "start_time": "2022-05-10T11:15:22.545Z"
   },
   {
    "duration": 4,
    "start_time": "2022-05-10T11:15:22.561Z"
   },
   {
    "duration": 739,
    "start_time": "2022-05-10T11:15:22.566Z"
   },
   {
    "duration": 326,
    "start_time": "2022-05-10T11:15:23.307Z"
   },
   {
    "duration": 5,
    "start_time": "2022-05-10T11:15:23.635Z"
   },
   {
    "duration": 284,
    "start_time": "2022-05-10T11:15:23.641Z"
   },
   {
    "duration": 6,
    "start_time": "2022-05-10T11:15:23.927Z"
   },
   {
    "duration": 9,
    "start_time": "2022-05-10T11:15:23.934Z"
   },
   {
    "duration": 152,
    "start_time": "2022-05-10T11:15:23.945Z"
   },
   {
    "duration": 0,
    "start_time": "2022-05-10T11:15:24.099Z"
   },
   {
    "duration": 5,
    "start_time": "2022-05-10T11:18:11.971Z"
   },
   {
    "duration": 1415,
    "start_time": "2022-05-10T11:18:20.055Z"
   },
   {
    "duration": 34,
    "start_time": "2022-05-10T11:18:21.472Z"
   },
   {
    "duration": 11,
    "start_time": "2022-05-10T11:18:21.508Z"
   },
   {
    "duration": 4,
    "start_time": "2022-05-10T11:18:21.522Z"
   },
   {
    "duration": 14,
    "start_time": "2022-05-10T11:18:21.528Z"
   },
   {
    "duration": 13,
    "start_time": "2022-05-10T11:18:21.544Z"
   },
   {
    "duration": 5,
    "start_time": "2022-05-10T11:18:21.559Z"
   },
   {
    "duration": 725,
    "start_time": "2022-05-10T11:18:21.565Z"
   },
   {
    "duration": 329,
    "start_time": "2022-05-10T11:18:22.291Z"
   },
   {
    "duration": 6,
    "start_time": "2022-05-10T11:18:22.623Z"
   },
   {
    "duration": 285,
    "start_time": "2022-05-10T11:18:22.630Z"
   },
   {
    "duration": 6,
    "start_time": "2022-05-10T11:18:22.917Z"
   },
   {
    "duration": 10,
    "start_time": "2022-05-10T11:18:22.925Z"
   },
   {
    "duration": 154,
    "start_time": "2022-05-10T11:18:22.937Z"
   },
   {
    "duration": 0,
    "start_time": "2022-05-10T11:18:23.093Z"
   },
   {
    "duration": 1520,
    "start_time": "2022-05-10T11:19:03.545Z"
   },
   {
    "duration": 53,
    "start_time": "2022-05-10T11:19:05.067Z"
   },
   {
    "duration": 13,
    "start_time": "2022-05-10T11:19:05.123Z"
   },
   {
    "duration": 4,
    "start_time": "2022-05-10T11:19:05.138Z"
   },
   {
    "duration": 13,
    "start_time": "2022-05-10T11:19:05.144Z"
   },
   {
    "duration": 14,
    "start_time": "2022-05-10T11:19:05.159Z"
   },
   {
    "duration": 4,
    "start_time": "2022-05-10T11:19:05.175Z"
   },
   {
    "duration": 722,
    "start_time": "2022-05-10T11:19:05.209Z"
   },
   {
    "duration": 326,
    "start_time": "2022-05-10T11:19:05.933Z"
   },
   {
    "duration": 6,
    "start_time": "2022-05-10T11:19:06.261Z"
   },
   {
    "duration": 290,
    "start_time": "2022-05-10T11:19:06.268Z"
   },
   {
    "duration": 6,
    "start_time": "2022-05-10T11:19:06.560Z"
   },
   {
    "duration": 10,
    "start_time": "2022-05-10T11:19:06.568Z"
   },
   {
    "duration": 162,
    "start_time": "2022-05-10T11:19:06.580Z"
   },
   {
    "duration": 0,
    "start_time": "2022-05-10T11:19:06.744Z"
   },
   {
    "duration": 118,
    "start_time": "2022-05-10T11:21:20.811Z"
   },
   {
    "duration": 111,
    "start_time": "2022-05-10T11:21:49.087Z"
   },
   {
    "duration": 19,
    "start_time": "2022-05-10T11:21:59.049Z"
   },
   {
    "duration": 110,
    "start_time": "2022-05-10T11:22:00.139Z"
   },
   {
    "duration": 1364,
    "start_time": "2022-05-10T11:23:50.454Z"
   },
   {
    "duration": 38,
    "start_time": "2022-05-10T11:23:51.820Z"
   },
   {
    "duration": 11,
    "start_time": "2022-05-10T11:23:51.860Z"
   },
   {
    "duration": 5,
    "start_time": "2022-05-10T11:23:51.872Z"
   },
   {
    "duration": 31,
    "start_time": "2022-05-10T11:23:51.880Z"
   },
   {
    "duration": 20,
    "start_time": "2022-05-10T11:23:51.913Z"
   },
   {
    "duration": 6,
    "start_time": "2022-05-10T11:23:51.935Z"
   },
   {
    "duration": 694,
    "start_time": "2022-05-10T11:23:51.943Z"
   },
   {
    "duration": 314,
    "start_time": "2022-05-10T11:23:52.640Z"
   },
   {
    "duration": 6,
    "start_time": "2022-05-10T11:23:52.955Z"
   },
   {
    "duration": 273,
    "start_time": "2022-05-10T11:23:52.963Z"
   },
   {
    "duration": 7,
    "start_time": "2022-05-10T11:23:53.238Z"
   },
   {
    "duration": 8,
    "start_time": "2022-05-10T11:23:53.247Z"
   },
   {
    "duration": 149,
    "start_time": "2022-05-10T11:23:53.258Z"
   },
   {
    "duration": 0,
    "start_time": "2022-05-10T11:23:53.409Z"
   },
   {
    "duration": 26,
    "start_time": "2022-05-10T11:24:03.208Z"
   },
   {
    "duration": 20,
    "start_time": "2022-05-10T11:24:19.972Z"
   },
   {
    "duration": 1474,
    "start_time": "2022-05-10T11:24:28.021Z"
   },
   {
    "duration": 37,
    "start_time": "2022-05-10T11:24:29.497Z"
   },
   {
    "duration": 11,
    "start_time": "2022-05-10T11:24:29.536Z"
   },
   {
    "duration": 4,
    "start_time": "2022-05-10T11:24:29.549Z"
   },
   {
    "duration": 12,
    "start_time": "2022-05-10T11:24:29.554Z"
   },
   {
    "duration": 13,
    "start_time": "2022-05-10T11:24:29.567Z"
   },
   {
    "duration": 30,
    "start_time": "2022-05-10T11:24:29.581Z"
   },
   {
    "duration": 670,
    "start_time": "2022-05-10T11:24:29.612Z"
   },
   {
    "duration": 305,
    "start_time": "2022-05-10T11:24:30.284Z"
   },
   {
    "duration": 15,
    "start_time": "2022-05-10T11:24:30.592Z"
   },
   {
    "duration": 268,
    "start_time": "2022-05-10T11:24:30.609Z"
   },
   {
    "duration": 7,
    "start_time": "2022-05-10T11:24:30.878Z"
   },
   {
    "duration": 23,
    "start_time": "2022-05-10T11:24:30.887Z"
   },
   {
    "duration": 136,
    "start_time": "2022-05-10T11:24:30.911Z"
   },
   {
    "duration": 0,
    "start_time": "2022-05-10T11:24:31.049Z"
   },
   {
    "duration": 20,
    "start_time": "2022-05-10T11:27:28.592Z"
   },
   {
    "duration": 1387,
    "start_time": "2022-05-10T11:27:47.369Z"
   },
   {
    "duration": 35,
    "start_time": "2022-05-10T11:27:48.758Z"
   },
   {
    "duration": 14,
    "start_time": "2022-05-10T11:27:48.794Z"
   },
   {
    "duration": 4,
    "start_time": "2022-05-10T11:27:48.809Z"
   },
   {
    "duration": 12,
    "start_time": "2022-05-10T11:27:48.815Z"
   },
   {
    "duration": 13,
    "start_time": "2022-05-10T11:27:48.828Z"
   },
   {
    "duration": 4,
    "start_time": "2022-05-10T11:27:48.843Z"
   },
   {
    "duration": 672,
    "start_time": "2022-05-10T11:27:48.849Z"
   },
   {
    "duration": 319,
    "start_time": "2022-05-10T11:27:49.524Z"
   },
   {
    "duration": 6,
    "start_time": "2022-05-10T11:27:49.845Z"
   },
   {
    "duration": 272,
    "start_time": "2022-05-10T11:27:49.853Z"
   },
   {
    "duration": 6,
    "start_time": "2022-05-10T11:27:50.127Z"
   },
   {
    "duration": 7,
    "start_time": "2022-05-10T11:27:50.135Z"
   },
   {
    "duration": 152,
    "start_time": "2022-05-10T11:27:50.146Z"
   },
   {
    "duration": 0,
    "start_time": "2022-05-10T11:27:50.300Z"
   },
   {
    "duration": 0,
    "start_time": "2022-05-10T11:27:50.307Z"
   },
   {
    "duration": 22,
    "start_time": "2022-05-10T11:28:03.777Z"
   },
   {
    "duration": 22,
    "start_time": "2022-05-10T11:30:36.669Z"
   },
   {
    "duration": 1362,
    "start_time": "2022-05-10T11:30:53.064Z"
   },
   {
    "duration": 32,
    "start_time": "2022-05-10T11:30:54.428Z"
   },
   {
    "duration": 11,
    "start_time": "2022-05-10T11:30:54.462Z"
   },
   {
    "duration": 6,
    "start_time": "2022-05-10T11:30:54.475Z"
   },
   {
    "duration": 28,
    "start_time": "2022-05-10T11:30:54.484Z"
   },
   {
    "duration": 13,
    "start_time": "2022-05-10T11:30:54.514Z"
   },
   {
    "duration": 5,
    "start_time": "2022-05-10T11:30:54.529Z"
   },
   {
    "duration": 649,
    "start_time": "2022-05-10T11:30:54.536Z"
   },
   {
    "duration": 286,
    "start_time": "2022-05-10T11:30:55.187Z"
   },
   {
    "duration": 5,
    "start_time": "2022-05-10T11:30:55.475Z"
   },
   {
    "duration": 263,
    "start_time": "2022-05-10T11:30:55.482Z"
   },
   {
    "duration": 7,
    "start_time": "2022-05-10T11:30:55.747Z"
   },
   {
    "duration": 21,
    "start_time": "2022-05-10T11:30:55.756Z"
   },
   {
    "duration": 141,
    "start_time": "2022-05-10T11:30:55.779Z"
   },
   {
    "duration": 0,
    "start_time": "2022-05-10T11:30:55.921Z"
   },
   {
    "duration": 7,
    "start_time": "2022-05-10T11:31:59.879Z"
   },
   {
    "duration": 1353,
    "start_time": "2022-05-10T11:36:35.251Z"
   },
   {
    "duration": 32,
    "start_time": "2022-05-10T11:36:36.606Z"
   },
   {
    "duration": 12,
    "start_time": "2022-05-10T11:36:36.640Z"
   },
   {
    "duration": 4,
    "start_time": "2022-05-10T11:36:36.654Z"
   },
   {
    "duration": 13,
    "start_time": "2022-05-10T11:36:36.660Z"
   },
   {
    "duration": 39,
    "start_time": "2022-05-10T11:36:36.674Z"
   },
   {
    "duration": 5,
    "start_time": "2022-05-10T11:36:36.714Z"
   },
   {
    "duration": 630,
    "start_time": "2022-05-10T11:36:36.721Z"
   },
   {
    "duration": 287,
    "start_time": "2022-05-10T11:36:37.354Z"
   },
   {
    "duration": 6,
    "start_time": "2022-05-10T11:36:37.644Z"
   },
   {
    "duration": 261,
    "start_time": "2022-05-10T11:36:37.652Z"
   },
   {
    "duration": 6,
    "start_time": "2022-05-10T11:36:37.915Z"
   },
   {
    "duration": 71,
    "start_time": "2022-05-10T11:36:37.923Z"
   },
   {
    "duration": 124,
    "start_time": "2022-05-10T11:36:37.996Z"
   },
   {
    "duration": 0,
    "start_time": "2022-05-10T11:36:38.122Z"
   },
   {
    "duration": 1430,
    "start_time": "2022-05-10T11:40:11.626Z"
   },
   {
    "duration": 49,
    "start_time": "2022-05-10T11:40:13.058Z"
   },
   {
    "duration": 13,
    "start_time": "2022-05-10T11:40:13.110Z"
   },
   {
    "duration": 4,
    "start_time": "2022-05-10T11:40:13.125Z"
   },
   {
    "duration": 13,
    "start_time": "2022-05-10T11:40:13.130Z"
   },
   {
    "duration": 14,
    "start_time": "2022-05-10T11:40:13.144Z"
   },
   {
    "duration": 3,
    "start_time": "2022-05-10T11:40:13.160Z"
   },
   {
    "duration": 716,
    "start_time": "2022-05-10T11:40:13.164Z"
   },
   {
    "duration": 321,
    "start_time": "2022-05-10T11:40:13.881Z"
   },
   {
    "duration": 6,
    "start_time": "2022-05-10T11:40:14.204Z"
   },
   {
    "duration": 276,
    "start_time": "2022-05-10T11:40:14.211Z"
   },
   {
    "duration": 6,
    "start_time": "2022-05-10T11:40:14.489Z"
   },
   {
    "duration": 16,
    "start_time": "2022-05-10T11:40:14.496Z"
   },
   {
    "duration": 147,
    "start_time": "2022-05-10T11:40:14.514Z"
   },
   {
    "duration": 0,
    "start_time": "2022-05-10T11:40:14.663Z"
   },
   {
    "duration": 4,
    "start_time": "2022-05-10T11:40:48.418Z"
   },
   {
    "duration": 1443,
    "start_time": "2022-05-10T11:40:55.691Z"
   },
   {
    "duration": 31,
    "start_time": "2022-05-10T11:40:57.137Z"
   },
   {
    "duration": 31,
    "start_time": "2022-05-10T11:40:57.170Z"
   },
   {
    "duration": 3,
    "start_time": "2022-05-10T11:40:57.204Z"
   },
   {
    "duration": 12,
    "start_time": "2022-05-10T11:40:57.209Z"
   },
   {
    "duration": 12,
    "start_time": "2022-05-10T11:40:57.222Z"
   },
   {
    "duration": 4,
    "start_time": "2022-05-10T11:40:57.236Z"
   },
   {
    "duration": 679,
    "start_time": "2022-05-10T11:40:57.241Z"
   },
   {
    "duration": 314,
    "start_time": "2022-05-10T11:40:57.921Z"
   },
   {
    "duration": 6,
    "start_time": "2022-05-10T11:40:58.237Z"
   },
   {
    "duration": 253,
    "start_time": "2022-05-10T11:40:58.244Z"
   },
   {
    "duration": 6,
    "start_time": "2022-05-10T11:40:58.507Z"
   },
   {
    "duration": 8,
    "start_time": "2022-05-10T11:40:58.515Z"
   },
   {
    "duration": 134,
    "start_time": "2022-05-10T11:40:58.525Z"
   },
   {
    "duration": 0,
    "start_time": "2022-05-10T11:40:58.661Z"
   },
   {
    "duration": 22,
    "start_time": "2022-05-10T11:42:02.695Z"
   },
   {
    "duration": 110,
    "start_time": "2022-05-10T11:42:18.729Z"
   },
   {
    "duration": 76,
    "start_time": "2022-05-10T11:43:19.648Z"
   },
   {
    "duration": 30,
    "start_time": "2022-05-10T11:43:26.095Z"
   },
   {
    "duration": 1402,
    "start_time": "2022-05-10T11:43:46.908Z"
   },
   {
    "duration": 35,
    "start_time": "2022-05-10T11:43:48.312Z"
   },
   {
    "duration": 11,
    "start_time": "2022-05-10T11:43:48.348Z"
   },
   {
    "duration": 4,
    "start_time": "2022-05-10T11:43:48.361Z"
   },
   {
    "duration": 18,
    "start_time": "2022-05-10T11:43:48.366Z"
   },
   {
    "duration": 32,
    "start_time": "2022-05-10T11:43:48.385Z"
   },
   {
    "duration": 7,
    "start_time": "2022-05-10T11:43:48.419Z"
   },
   {
    "duration": 681,
    "start_time": "2022-05-10T11:43:48.428Z"
   },
   {
    "duration": 299,
    "start_time": "2022-05-10T11:43:49.111Z"
   },
   {
    "duration": 5,
    "start_time": "2022-05-10T11:43:49.413Z"
   },
   {
    "duration": 261,
    "start_time": "2022-05-10T11:43:49.420Z"
   },
   {
    "duration": 5,
    "start_time": "2022-05-10T11:43:49.683Z"
   },
   {
    "duration": 23,
    "start_time": "2022-05-10T11:43:49.690Z"
   },
   {
    "duration": 135,
    "start_time": "2022-05-10T11:43:49.715Z"
   },
   {
    "duration": 0,
    "start_time": "2022-05-10T11:43:49.851Z"
   },
   {
    "duration": 20,
    "start_time": "2022-05-10T11:48:09.534Z"
   },
   {
    "duration": 20,
    "start_time": "2022-05-10T11:48:38.202Z"
   },
   {
    "duration": 1527,
    "start_time": "2022-05-10T11:48:48.270Z"
   },
   {
    "duration": 43,
    "start_time": "2022-05-10T11:48:49.799Z"
   },
   {
    "duration": 10,
    "start_time": "2022-05-10T11:48:49.844Z"
   },
   {
    "duration": 8,
    "start_time": "2022-05-10T11:48:49.856Z"
   },
   {
    "duration": 14,
    "start_time": "2022-05-10T11:48:49.865Z"
   },
   {
    "duration": 13,
    "start_time": "2022-05-10T11:48:49.881Z"
   },
   {
    "duration": 14,
    "start_time": "2022-05-10T11:48:49.895Z"
   },
   {
    "duration": 671,
    "start_time": "2022-05-10T11:48:49.911Z"
   },
   {
    "duration": 315,
    "start_time": "2022-05-10T11:48:50.583Z"
   },
   {
    "duration": 10,
    "start_time": "2022-05-10T11:48:50.901Z"
   },
   {
    "duration": 266,
    "start_time": "2022-05-10T11:48:50.913Z"
   },
   {
    "duration": 7,
    "start_time": "2022-05-10T11:48:51.181Z"
   },
   {
    "duration": 20,
    "start_time": "2022-05-10T11:48:51.189Z"
   },
   {
    "duration": 129,
    "start_time": "2022-05-10T11:48:51.211Z"
   },
   {
    "duration": 0,
    "start_time": "2022-05-10T11:48:51.341Z"
   },
   {
    "duration": 5,
    "start_time": "2022-05-10T11:57:47.150Z"
   },
   {
    "duration": 1433,
    "start_time": "2022-05-10T11:57:54.989Z"
   },
   {
    "duration": 39,
    "start_time": "2022-05-10T11:57:56.424Z"
   },
   {
    "duration": 12,
    "start_time": "2022-05-10T11:57:56.464Z"
   },
   {
    "duration": 4,
    "start_time": "2022-05-10T11:57:56.477Z"
   },
   {
    "duration": 14,
    "start_time": "2022-05-10T11:57:56.483Z"
   },
   {
    "duration": 14,
    "start_time": "2022-05-10T11:57:56.507Z"
   },
   {
    "duration": 4,
    "start_time": "2022-05-10T11:57:56.522Z"
   },
   {
    "duration": 670,
    "start_time": "2022-05-10T11:57:56.528Z"
   },
   {
    "duration": 303,
    "start_time": "2022-05-10T11:57:57.199Z"
   },
   {
    "duration": 5,
    "start_time": "2022-05-10T11:57:57.507Z"
   },
   {
    "duration": 265,
    "start_time": "2022-05-10T11:57:57.513Z"
   },
   {
    "duration": 6,
    "start_time": "2022-05-10T11:57:57.780Z"
   },
   {
    "duration": 24,
    "start_time": "2022-05-10T11:57:57.787Z"
   },
   {
    "duration": 127,
    "start_time": "2022-05-10T11:57:57.812Z"
   },
   {
    "duration": 0,
    "start_time": "2022-05-10T11:57:57.941Z"
   },
   {
    "duration": 33,
    "start_time": "2022-05-10T11:58:54.796Z"
   },
   {
    "duration": 8,
    "start_time": "2022-05-10T11:59:39.475Z"
   },
   {
    "duration": 1439,
    "start_time": "2022-05-10T11:59:57.999Z"
   },
   {
    "duration": 34,
    "start_time": "2022-05-10T11:59:59.440Z"
   },
   {
    "duration": 11,
    "start_time": "2022-05-10T11:59:59.476Z"
   },
   {
    "duration": 3,
    "start_time": "2022-05-10T11:59:59.489Z"
   },
   {
    "duration": 24,
    "start_time": "2022-05-10T11:59:59.494Z"
   },
   {
    "duration": 13,
    "start_time": "2022-05-10T11:59:59.520Z"
   },
   {
    "duration": 4,
    "start_time": "2022-05-10T11:59:59.535Z"
   },
   {
    "duration": 685,
    "start_time": "2022-05-10T11:59:59.540Z"
   },
   {
    "duration": 311,
    "start_time": "2022-05-10T12:00:00.227Z"
   },
   {
    "duration": 6,
    "start_time": "2022-05-10T12:00:00.540Z"
   },
   {
    "duration": 268,
    "start_time": "2022-05-10T12:00:00.548Z"
   },
   {
    "duration": 6,
    "start_time": "2022-05-10T12:00:00.818Z"
   },
   {
    "duration": 22,
    "start_time": "2022-05-10T12:00:00.826Z"
   },
   {
    "duration": 140,
    "start_time": "2022-05-10T12:00:00.850Z"
   },
   {
    "duration": 0,
    "start_time": "2022-05-10T12:00:00.992Z"
   },
   {
    "duration": 9,
    "start_time": "2022-05-10T12:01:56.884Z"
   },
   {
    "duration": 8,
    "start_time": "2022-05-10T12:09:14.780Z"
   },
   {
    "duration": 695,
    "start_time": "2022-05-10T12:09:34.502Z"
   },
   {
    "duration": 19,
    "start_time": "2022-05-10T12:16:52.175Z"
   },
   {
    "duration": 1395,
    "start_time": "2022-05-10T12:17:42.036Z"
   },
   {
    "duration": 32,
    "start_time": "2022-05-10T12:17:43.433Z"
   },
   {
    "duration": 11,
    "start_time": "2022-05-10T12:17:43.467Z"
   },
   {
    "duration": 3,
    "start_time": "2022-05-10T12:17:43.481Z"
   },
   {
    "duration": 28,
    "start_time": "2022-05-10T12:17:43.487Z"
   },
   {
    "duration": 14,
    "start_time": "2022-05-10T12:17:43.517Z"
   },
   {
    "duration": 4,
    "start_time": "2022-05-10T12:17:43.533Z"
   },
   {
    "duration": 681,
    "start_time": "2022-05-10T12:17:43.539Z"
   },
   {
    "duration": 312,
    "start_time": "2022-05-10T12:17:44.222Z"
   },
   {
    "duration": 6,
    "start_time": "2022-05-10T12:17:44.537Z"
   },
   {
    "duration": 276,
    "start_time": "2022-05-10T12:17:44.545Z"
   },
   {
    "duration": 7,
    "start_time": "2022-05-10T12:17:44.823Z"
   },
   {
    "duration": 8,
    "start_time": "2022-05-10T12:17:44.832Z"
   },
   {
    "duration": 11,
    "start_time": "2022-05-10T12:17:44.842Z"
   },
   {
    "duration": 148,
    "start_time": "2022-05-10T12:17:44.854Z"
   },
   {
    "duration": 0,
    "start_time": "2022-05-10T12:17:45.007Z"
   },
   {
    "duration": 6,
    "start_time": "2022-05-10T12:18:02.701Z"
   },
   {
    "duration": 716,
    "start_time": "2022-05-10T12:18:05.889Z"
   },
   {
    "duration": 11,
    "start_time": "2022-05-10T12:19:39.123Z"
   },
   {
    "duration": 1739,
    "start_time": "2022-05-10T12:19:55.279Z"
   },
   {
    "duration": 37,
    "start_time": "2022-05-10T12:19:57.020Z"
   },
   {
    "duration": 12,
    "start_time": "2022-05-10T12:19:57.059Z"
   },
   {
    "duration": 11,
    "start_time": "2022-05-10T12:19:57.074Z"
   },
   {
    "duration": 13,
    "start_time": "2022-05-10T12:19:57.087Z"
   },
   {
    "duration": 14,
    "start_time": "2022-05-10T12:19:57.103Z"
   },
   {
    "duration": 4,
    "start_time": "2022-05-10T12:19:57.119Z"
   },
   {
    "duration": 703,
    "start_time": "2022-05-10T12:19:57.125Z"
   },
   {
    "duration": 309,
    "start_time": "2022-05-10T12:19:57.830Z"
   },
   {
    "duration": 6,
    "start_time": "2022-05-10T12:19:58.141Z"
   },
   {
    "duration": 288,
    "start_time": "2022-05-10T12:19:58.149Z"
   },
   {
    "duration": 7,
    "start_time": "2022-05-10T12:19:58.438Z"
   },
   {
    "duration": 7,
    "start_time": "2022-05-10T12:19:58.446Z"
   },
   {
    "duration": 9,
    "start_time": "2022-05-10T12:19:58.455Z"
   },
   {
    "duration": 8,
    "start_time": "2022-05-10T12:19:58.465Z"
   },
   {
    "duration": 739,
    "start_time": "2022-05-10T12:19:58.474Z"
   },
   {
    "duration": 127,
    "start_time": "2022-05-10T12:21:32.735Z"
   },
   {
    "duration": 19,
    "start_time": "2022-05-10T12:21:46.113Z"
   },
   {
    "duration": 6,
    "start_time": "2022-05-10T12:21:48.239Z"
   },
   {
    "duration": 21,
    "start_time": "2022-05-10T12:21:49.682Z"
   },
   {
    "duration": 1374,
    "start_time": "2022-05-10T12:21:59.945Z"
   },
   {
    "duration": 32,
    "start_time": "2022-05-10T12:22:01.321Z"
   },
   {
    "duration": 12,
    "start_time": "2022-05-10T12:22:01.358Z"
   },
   {
    "duration": 13,
    "start_time": "2022-05-10T12:22:01.371Z"
   },
   {
    "duration": 21,
    "start_time": "2022-05-10T12:22:01.386Z"
   },
   {
    "duration": 12,
    "start_time": "2022-05-10T12:22:01.409Z"
   },
   {
    "duration": 3,
    "start_time": "2022-05-10T12:22:01.423Z"
   },
   {
    "duration": 651,
    "start_time": "2022-05-10T12:22:01.428Z"
   },
   {
    "duration": 302,
    "start_time": "2022-05-10T12:22:02.082Z"
   },
   {
    "duration": 5,
    "start_time": "2022-05-10T12:22:02.386Z"
   },
   {
    "duration": 266,
    "start_time": "2022-05-10T12:22:02.393Z"
   },
   {
    "duration": 7,
    "start_time": "2022-05-10T12:22:02.660Z"
   },
   {
    "duration": 8,
    "start_time": "2022-05-10T12:22:02.669Z"
   },
   {
    "duration": 31,
    "start_time": "2022-05-10T12:22:02.678Z"
   },
   {
    "duration": 6,
    "start_time": "2022-05-10T12:22:02.711Z"
   },
   {
    "duration": 140,
    "start_time": "2022-05-10T12:22:02.719Z"
   },
   {
    "duration": 21,
    "start_time": "2022-05-10T12:23:26.992Z"
   },
   {
    "duration": 1302,
    "start_time": "2022-05-10T12:23:34.167Z"
   },
   {
    "duration": 36,
    "start_time": "2022-05-10T12:23:35.471Z"
   },
   {
    "duration": 12,
    "start_time": "2022-05-10T12:23:35.509Z"
   },
   {
    "duration": 3,
    "start_time": "2022-05-10T12:23:35.524Z"
   },
   {
    "duration": 11,
    "start_time": "2022-05-10T12:23:35.530Z"
   },
   {
    "duration": 13,
    "start_time": "2022-05-10T12:23:35.543Z"
   },
   {
    "duration": 5,
    "start_time": "2022-05-10T12:23:35.558Z"
   },
   {
    "duration": 665,
    "start_time": "2022-05-10T12:23:35.565Z"
   },
   {
    "duration": 304,
    "start_time": "2022-05-10T12:23:36.233Z"
   },
   {
    "duration": 5,
    "start_time": "2022-05-10T12:23:36.539Z"
   },
   {
    "duration": 256,
    "start_time": "2022-05-10T12:23:36.546Z"
   },
   {
    "duration": 5,
    "start_time": "2022-05-10T12:23:36.807Z"
   },
   {
    "duration": 8,
    "start_time": "2022-05-10T12:23:36.814Z"
   },
   {
    "duration": 8,
    "start_time": "2022-05-10T12:23:36.823Z"
   },
   {
    "duration": 7,
    "start_time": "2022-05-10T12:23:36.833Z"
   },
   {
    "duration": 146,
    "start_time": "2022-05-10T12:23:36.841Z"
   },
   {
    "duration": 3,
    "start_time": "2022-05-10T12:35:11.190Z"
   },
   {
    "duration": 19,
    "start_time": "2022-05-10T12:35:15.131Z"
   },
   {
    "duration": 1395,
    "start_time": "2022-05-10T12:35:24.518Z"
   },
   {
    "duration": 36,
    "start_time": "2022-05-10T12:35:25.915Z"
   },
   {
    "duration": 12,
    "start_time": "2022-05-10T12:35:25.953Z"
   },
   {
    "duration": 3,
    "start_time": "2022-05-10T12:35:25.968Z"
   },
   {
    "duration": 12,
    "start_time": "2022-05-10T12:35:25.973Z"
   },
   {
    "duration": 30,
    "start_time": "2022-05-10T12:35:25.987Z"
   },
   {
    "duration": 4,
    "start_time": "2022-05-10T12:35:26.019Z"
   },
   {
    "duration": 670,
    "start_time": "2022-05-10T12:35:26.024Z"
   },
   {
    "duration": 313,
    "start_time": "2022-05-10T12:35:26.696Z"
   },
   {
    "duration": 6,
    "start_time": "2022-05-10T12:35:27.011Z"
   },
   {
    "duration": 8,
    "start_time": "2022-05-10T12:35:27.019Z"
   },
   {
    "duration": 276,
    "start_time": "2022-05-10T12:35:27.029Z"
   },
   {
    "duration": 7,
    "start_time": "2022-05-10T12:35:27.307Z"
   },
   {
    "duration": 10,
    "start_time": "2022-05-10T12:35:27.315Z"
   },
   {
    "duration": 9,
    "start_time": "2022-05-10T12:35:27.326Z"
   },
   {
    "duration": 149,
    "start_time": "2022-05-10T12:35:27.336Z"
   },
   {
    "duration": 22,
    "start_time": "2022-05-10T12:35:42.766Z"
   },
   {
    "duration": 18,
    "start_time": "2022-05-10T12:39:42.387Z"
   },
   {
    "duration": 250,
    "start_time": "2022-05-10T12:45:21.473Z"
   },
   {
    "duration": 6,
    "start_time": "2022-05-10T12:45:28.060Z"
   },
   {
    "duration": 7,
    "start_time": "2022-05-10T12:45:35.710Z"
   },
   {
    "duration": 8,
    "start_time": "2022-05-10T12:45:40.891Z"
   },
   {
    "duration": 1447,
    "start_time": "2022-05-10T12:45:50.689Z"
   },
   {
    "duration": 40,
    "start_time": "2022-05-10T12:45:52.137Z"
   },
   {
    "duration": 12,
    "start_time": "2022-05-10T12:45:52.179Z"
   },
   {
    "duration": 4,
    "start_time": "2022-05-10T12:45:52.194Z"
   },
   {
    "duration": 11,
    "start_time": "2022-05-10T12:45:52.207Z"
   },
   {
    "duration": 13,
    "start_time": "2022-05-10T12:45:52.220Z"
   },
   {
    "duration": 5,
    "start_time": "2022-05-10T12:45:52.234Z"
   },
   {
    "duration": 695,
    "start_time": "2022-05-10T12:45:52.241Z"
   },
   {
    "duration": 302,
    "start_time": "2022-05-10T12:45:52.938Z"
   },
   {
    "duration": 5,
    "start_time": "2022-05-10T12:45:53.243Z"
   },
   {
    "duration": 271,
    "start_time": "2022-05-10T12:45:53.250Z"
   },
   {
    "duration": 6,
    "start_time": "2022-05-10T12:45:53.522Z"
   },
   {
    "duration": 7,
    "start_time": "2022-05-10T12:45:53.530Z"
   },
   {
    "duration": 9,
    "start_time": "2022-05-10T12:45:53.539Z"
   },
   {
    "duration": 8,
    "start_time": "2022-05-10T12:45:53.550Z"
   },
   {
    "duration": 384,
    "start_time": "2022-05-10T12:45:53.560Z"
   },
   {
    "duration": 280,
    "start_time": "2022-05-10T12:46:37.651Z"
   },
   {
    "duration": 1465,
    "start_time": "2022-05-10T12:47:28.459Z"
   },
   {
    "duration": 35,
    "start_time": "2022-05-10T12:47:29.926Z"
   },
   {
    "duration": 12,
    "start_time": "2022-05-10T12:47:29.963Z"
   },
   {
    "duration": 4,
    "start_time": "2022-05-10T12:47:29.977Z"
   },
   {
    "duration": 33,
    "start_time": "2022-05-10T12:47:29.983Z"
   },
   {
    "duration": 14,
    "start_time": "2022-05-10T12:47:30.018Z"
   },
   {
    "duration": 8,
    "start_time": "2022-05-10T12:47:30.034Z"
   },
   {
    "duration": 669,
    "start_time": "2022-05-10T12:47:30.044Z"
   },
   {
    "duration": 310,
    "start_time": "2022-05-10T12:47:30.715Z"
   },
   {
    "duration": 8,
    "start_time": "2022-05-10T12:47:31.029Z"
   },
   {
    "duration": 293,
    "start_time": "2022-05-10T12:47:31.039Z"
   },
   {
    "duration": 8,
    "start_time": "2022-05-10T12:47:31.335Z"
   },
   {
    "duration": 14,
    "start_time": "2022-05-10T12:47:31.345Z"
   },
   {
    "duration": 7,
    "start_time": "2022-05-10T12:47:31.361Z"
   },
   {
    "duration": 14,
    "start_time": "2022-05-10T12:47:31.370Z"
   },
   {
    "duration": 284,
    "start_time": "2022-05-10T12:47:31.407Z"
   },
   {
    "duration": 279,
    "start_time": "2022-05-10T12:50:40.209Z"
   },
   {
    "duration": 273,
    "start_time": "2022-05-10T12:50:56.904Z"
   },
   {
    "duration": 787,
    "start_time": "2022-05-10T12:56:04.862Z"
   },
   {
    "duration": 648,
    "start_time": "2022-05-10T12:57:47.413Z"
   },
   {
    "duration": 704,
    "start_time": "2022-05-10T13:12:39.008Z"
   },
   {
    "duration": 750,
    "start_time": "2022-05-10T13:12:53.054Z"
   },
   {
    "duration": 258,
    "start_time": "2022-05-10T13:20:07.355Z"
   },
   {
    "duration": 114,
    "start_time": "2022-05-10T13:20:50.638Z"
   },
   {
    "duration": 12,
    "start_time": "2022-05-10T13:21:09.808Z"
   },
   {
    "duration": 1442,
    "start_time": "2022-05-10T13:21:16.312Z"
   },
   {
    "duration": 34,
    "start_time": "2022-05-10T13:21:17.757Z"
   },
   {
    "duration": 18,
    "start_time": "2022-05-10T13:21:17.793Z"
   },
   {
    "duration": 4,
    "start_time": "2022-05-10T13:21:17.813Z"
   },
   {
    "duration": 14,
    "start_time": "2022-05-10T13:21:17.819Z"
   },
   {
    "duration": 14,
    "start_time": "2022-05-10T13:21:17.834Z"
   },
   {
    "duration": 5,
    "start_time": "2022-05-10T13:21:17.849Z"
   },
   {
    "duration": 706,
    "start_time": "2022-05-10T13:21:17.856Z"
   },
   {
    "duration": 322,
    "start_time": "2022-05-10T13:21:18.564Z"
   },
   {
    "duration": 6,
    "start_time": "2022-05-10T13:21:18.888Z"
   },
   {
    "duration": 309,
    "start_time": "2022-05-10T13:21:18.908Z"
   },
   {
    "duration": 6,
    "start_time": "2022-05-10T13:21:19.219Z"
   },
   {
    "duration": 11,
    "start_time": "2022-05-10T13:21:19.227Z"
   },
   {
    "duration": 10,
    "start_time": "2022-05-10T13:21:19.239Z"
   },
   {
    "duration": 7,
    "start_time": "2022-05-10T13:21:19.251Z"
   },
   {
    "duration": 740,
    "start_time": "2022-05-10T13:21:19.260Z"
   },
   {
    "duration": 316,
    "start_time": "2022-05-10T13:21:20.006Z"
   },
   {
    "duration": 119,
    "start_time": "2022-05-10T13:21:31.978Z"
   },
   {
    "duration": 1461,
    "start_time": "2022-05-10T13:21:46.037Z"
   },
   {
    "duration": 31,
    "start_time": "2022-05-10T13:21:47.500Z"
   },
   {
    "duration": 13,
    "start_time": "2022-05-10T13:21:47.533Z"
   },
   {
    "duration": 3,
    "start_time": "2022-05-10T13:21:47.549Z"
   },
   {
    "duration": 11,
    "start_time": "2022-05-10T13:21:47.554Z"
   },
   {
    "duration": 13,
    "start_time": "2022-05-10T13:21:47.567Z"
   },
   {
    "duration": 30,
    "start_time": "2022-05-10T13:21:47.581Z"
   },
   {
    "duration": 679,
    "start_time": "2022-05-10T13:21:47.613Z"
   },
   {
    "duration": 315,
    "start_time": "2022-05-10T13:21:48.294Z"
   },
   {
    "duration": 6,
    "start_time": "2022-05-10T13:21:48.611Z"
   },
   {
    "duration": 269,
    "start_time": "2022-05-10T13:21:48.619Z"
   },
   {
    "duration": 7,
    "start_time": "2022-05-10T13:21:48.889Z"
   },
   {
    "duration": 7,
    "start_time": "2022-05-10T13:21:48.906Z"
   },
   {
    "duration": 7,
    "start_time": "2022-05-10T13:21:48.915Z"
   },
   {
    "duration": 7,
    "start_time": "2022-05-10T13:21:48.924Z"
   },
   {
    "duration": 645,
    "start_time": "2022-05-10T13:21:48.932Z"
   },
   {
    "duration": 245,
    "start_time": "2022-05-10T13:21:49.578Z"
   },
   {
    "duration": 123,
    "start_time": "2022-05-10T13:22:21.386Z"
   },
   {
    "duration": 1421,
    "start_time": "2022-05-10T13:22:29.124Z"
   },
   {
    "duration": 37,
    "start_time": "2022-05-10T13:22:30.547Z"
   },
   {
    "duration": 12,
    "start_time": "2022-05-10T13:22:30.586Z"
   },
   {
    "duration": 7,
    "start_time": "2022-05-10T13:22:30.601Z"
   },
   {
    "duration": 13,
    "start_time": "2022-05-10T13:22:30.609Z"
   },
   {
    "duration": 13,
    "start_time": "2022-05-10T13:22:30.624Z"
   },
   {
    "duration": 4,
    "start_time": "2022-05-10T13:22:30.639Z"
   },
   {
    "duration": 665,
    "start_time": "2022-05-10T13:22:30.645Z"
   },
   {
    "duration": 288,
    "start_time": "2022-05-10T13:22:31.312Z"
   },
   {
    "duration": 6,
    "start_time": "2022-05-10T13:22:31.607Z"
   },
   {
    "duration": 252,
    "start_time": "2022-05-10T13:22:31.615Z"
   },
   {
    "duration": 6,
    "start_time": "2022-05-10T13:22:31.869Z"
   },
   {
    "duration": 9,
    "start_time": "2022-05-10T13:22:31.877Z"
   },
   {
    "duration": 8,
    "start_time": "2022-05-10T13:22:31.907Z"
   },
   {
    "duration": 10,
    "start_time": "2022-05-10T13:22:31.916Z"
   },
   {
    "duration": 626,
    "start_time": "2022-05-10T13:22:31.927Z"
   },
   {
    "duration": 256,
    "start_time": "2022-05-10T13:22:32.555Z"
   },
   {
    "duration": 116,
    "start_time": "2022-05-10T13:23:46.122Z"
   },
   {
    "duration": 1434,
    "start_time": "2022-05-10T13:23:52.300Z"
   },
   {
    "duration": 33,
    "start_time": "2022-05-10T13:23:53.736Z"
   },
   {
    "duration": 14,
    "start_time": "2022-05-10T13:23:53.771Z"
   },
   {
    "duration": 4,
    "start_time": "2022-05-10T13:23:53.788Z"
   },
   {
    "duration": 11,
    "start_time": "2022-05-10T13:23:53.807Z"
   },
   {
    "duration": 13,
    "start_time": "2022-05-10T13:23:53.819Z"
   },
   {
    "duration": 4,
    "start_time": "2022-05-10T13:23:53.834Z"
   },
   {
    "duration": 694,
    "start_time": "2022-05-10T13:23:53.839Z"
   },
   {
    "duration": 327,
    "start_time": "2022-05-10T13:23:54.535Z"
   },
   {
    "duration": 5,
    "start_time": "2022-05-10T13:23:54.865Z"
   },
   {
    "duration": 280,
    "start_time": "2022-05-10T13:23:54.872Z"
   },
   {
    "duration": 6,
    "start_time": "2022-05-10T13:23:55.154Z"
   },
   {
    "duration": 8,
    "start_time": "2022-05-10T13:23:55.161Z"
   },
   {
    "duration": 9,
    "start_time": "2022-05-10T13:23:55.171Z"
   },
   {
    "duration": 31,
    "start_time": "2022-05-10T13:23:55.182Z"
   },
   {
    "duration": 663,
    "start_time": "2022-05-10T13:23:55.215Z"
   },
   {
    "duration": 279,
    "start_time": "2022-05-10T13:23:55.881Z"
   },
   {
    "duration": 118,
    "start_time": "2022-05-10T13:24:24.502Z"
   },
   {
    "duration": 1385,
    "start_time": "2022-05-10T13:24:31.443Z"
   },
   {
    "duration": 39,
    "start_time": "2022-05-10T13:24:32.831Z"
   },
   {
    "duration": 13,
    "start_time": "2022-05-10T13:24:32.872Z"
   },
   {
    "duration": 4,
    "start_time": "2022-05-10T13:24:32.888Z"
   },
   {
    "duration": 28,
    "start_time": "2022-05-10T13:24:32.894Z"
   },
   {
    "duration": 14,
    "start_time": "2022-05-10T13:24:32.924Z"
   },
   {
    "duration": 3,
    "start_time": "2022-05-10T13:24:32.940Z"
   },
   {
    "duration": 688,
    "start_time": "2022-05-10T13:24:32.945Z"
   },
   {
    "duration": 317,
    "start_time": "2022-05-10T13:24:33.635Z"
   },
   {
    "duration": 6,
    "start_time": "2022-05-10T13:24:33.956Z"
   },
   {
    "duration": 308,
    "start_time": "2022-05-10T13:24:33.964Z"
   },
   {
    "duration": 6,
    "start_time": "2022-05-10T13:24:34.273Z"
   },
   {
    "duration": 7,
    "start_time": "2022-05-10T13:24:34.281Z"
   },
   {
    "duration": 19,
    "start_time": "2022-05-10T13:24:34.290Z"
   },
   {
    "duration": 9,
    "start_time": "2022-05-10T13:24:34.310Z"
   },
   {
    "duration": 640,
    "start_time": "2022-05-10T13:24:34.320Z"
   },
   {
    "duration": 261,
    "start_time": "2022-05-10T13:24:34.961Z"
   },
   {
    "duration": 127,
    "start_time": "2022-05-10T13:36:40.783Z"
   },
   {
    "duration": 1373,
    "start_time": "2022-05-10T13:36:58.015Z"
   },
   {
    "duration": 38,
    "start_time": "2022-05-10T13:36:59.390Z"
   },
   {
    "duration": 13,
    "start_time": "2022-05-10T13:36:59.429Z"
   },
   {
    "duration": 4,
    "start_time": "2022-05-10T13:36:59.444Z"
   },
   {
    "duration": 15,
    "start_time": "2022-05-10T13:36:59.449Z"
   },
   {
    "duration": 13,
    "start_time": "2022-05-10T13:36:59.466Z"
   },
   {
    "duration": 27,
    "start_time": "2022-05-10T13:36:59.480Z"
   },
   {
    "duration": 694,
    "start_time": "2022-05-10T13:36:59.509Z"
   },
   {
    "duration": 298,
    "start_time": "2022-05-10T13:37:00.207Z"
   },
   {
    "duration": 5,
    "start_time": "2022-05-10T13:37:00.509Z"
   },
   {
    "duration": 276,
    "start_time": "2022-05-10T13:37:00.516Z"
   },
   {
    "duration": 6,
    "start_time": "2022-05-10T13:37:00.794Z"
   },
   {
    "duration": 7,
    "start_time": "2022-05-10T13:37:00.808Z"
   },
   {
    "duration": 18,
    "start_time": "2022-05-10T13:37:00.816Z"
   },
   {
    "duration": 14,
    "start_time": "2022-05-10T13:37:00.836Z"
   },
   {
    "duration": 659,
    "start_time": "2022-05-10T13:37:00.852Z"
   },
   {
    "duration": 226,
    "start_time": "2022-05-10T13:37:01.513Z"
   },
   {
    "duration": 125,
    "start_time": "2022-05-10T13:38:30.609Z"
   },
   {
    "duration": 1456,
    "start_time": "2022-05-10T13:39:10.386Z"
   },
   {
    "duration": 34,
    "start_time": "2022-05-10T13:39:11.844Z"
   },
   {
    "duration": 13,
    "start_time": "2022-05-10T13:39:11.880Z"
   },
   {
    "duration": 13,
    "start_time": "2022-05-10T13:39:11.895Z"
   },
   {
    "duration": 11,
    "start_time": "2022-05-10T13:39:11.910Z"
   },
   {
    "duration": 13,
    "start_time": "2022-05-10T13:39:11.923Z"
   },
   {
    "duration": 4,
    "start_time": "2022-05-10T13:39:11.938Z"
   },
   {
    "duration": 707,
    "start_time": "2022-05-10T13:39:11.944Z"
   },
   {
    "duration": 313,
    "start_time": "2022-05-10T13:39:12.653Z"
   },
   {
    "duration": 5,
    "start_time": "2022-05-10T13:39:12.969Z"
   },
   {
    "duration": 286,
    "start_time": "2022-05-10T13:39:12.975Z"
   },
   {
    "duration": 7,
    "start_time": "2022-05-10T13:39:13.263Z"
   },
   {
    "duration": 10,
    "start_time": "2022-05-10T13:39:13.272Z"
   },
   {
    "duration": 31,
    "start_time": "2022-05-10T13:39:13.284Z"
   },
   {
    "duration": 10,
    "start_time": "2022-05-10T13:39:13.317Z"
   },
   {
    "duration": 677,
    "start_time": "2022-05-10T13:39:13.329Z"
   },
   {
    "duration": 351,
    "start_time": "2022-05-10T13:39:14.008Z"
   },
   {
    "duration": 134,
    "start_time": "2022-05-10T13:39:14.361Z"
   },
   {
    "duration": 10,
    "start_time": "2022-05-10T13:39:34.573Z"
   },
   {
    "duration": 1418,
    "start_time": "2022-05-10T13:39:43.489Z"
   },
   {
    "duration": 32,
    "start_time": "2022-05-10T13:39:44.909Z"
   },
   {
    "duration": 12,
    "start_time": "2022-05-10T13:39:44.943Z"
   },
   {
    "duration": 9,
    "start_time": "2022-05-10T13:39:44.956Z"
   },
   {
    "duration": 20,
    "start_time": "2022-05-10T13:39:44.968Z"
   },
   {
    "duration": 23,
    "start_time": "2022-05-10T13:39:44.990Z"
   },
   {
    "duration": 6,
    "start_time": "2022-05-10T13:39:45.015Z"
   },
   {
    "duration": 646,
    "start_time": "2022-05-10T13:39:45.022Z"
   },
   {
    "duration": 304,
    "start_time": "2022-05-10T13:39:45.670Z"
   },
   {
    "duration": 5,
    "start_time": "2022-05-10T13:39:45.976Z"
   },
   {
    "duration": 267,
    "start_time": "2022-05-10T13:39:45.983Z"
   },
   {
    "duration": 6,
    "start_time": "2022-05-10T13:39:46.251Z"
   },
   {
    "duration": 7,
    "start_time": "2022-05-10T13:39:46.259Z"
   },
   {
    "duration": 7,
    "start_time": "2022-05-10T13:39:46.269Z"
   },
   {
    "duration": 8,
    "start_time": "2022-05-10T13:39:46.306Z"
   },
   {
    "duration": 759,
    "start_time": "2022-05-10T13:39:46.315Z"
   },
   {
    "duration": 499,
    "start_time": "2022-05-10T13:39:47.076Z"
   },
   {
    "duration": 137,
    "start_time": "2022-05-10T13:39:47.577Z"
   },
   {
    "duration": 11,
    "start_time": "2022-05-10T13:40:38.077Z"
   },
   {
    "duration": 1382,
    "start_time": "2022-05-10T13:40:50.943Z"
   },
   {
    "duration": 32,
    "start_time": "2022-05-10T13:40:52.327Z"
   },
   {
    "duration": 12,
    "start_time": "2022-05-10T13:40:52.361Z"
   },
   {
    "duration": 4,
    "start_time": "2022-05-10T13:40:52.374Z"
   },
   {
    "duration": 10,
    "start_time": "2022-05-10T13:40:52.381Z"
   },
   {
    "duration": 12,
    "start_time": "2022-05-10T13:40:52.408Z"
   },
   {
    "duration": 4,
    "start_time": "2022-05-10T13:40:52.422Z"
   },
   {
    "duration": 686,
    "start_time": "2022-05-10T13:40:52.427Z"
   },
   {
    "duration": 320,
    "start_time": "2022-05-10T13:40:53.115Z"
   },
   {
    "duration": 6,
    "start_time": "2022-05-10T13:40:53.437Z"
   },
   {
    "duration": 282,
    "start_time": "2022-05-10T13:40:53.444Z"
   },
   {
    "duration": 6,
    "start_time": "2022-05-10T13:40:53.727Z"
   },
   {
    "duration": 9,
    "start_time": "2022-05-10T13:40:53.735Z"
   },
   {
    "duration": 7,
    "start_time": "2022-05-10T13:40:53.747Z"
   },
   {
    "duration": 9,
    "start_time": "2022-05-10T13:40:53.755Z"
   },
   {
    "duration": 669,
    "start_time": "2022-05-10T13:40:53.766Z"
   },
   {
    "duration": 313,
    "start_time": "2022-05-10T13:40:54.437Z"
   },
   {
    "duration": 132,
    "start_time": "2022-05-10T13:40:54.751Z"
   },
   {
    "duration": 11,
    "start_time": "2022-05-10T13:41:04.891Z"
   },
   {
    "duration": 1476,
    "start_time": "2022-05-10T13:41:11.774Z"
   },
   {
    "duration": 34,
    "start_time": "2022-05-10T13:41:13.252Z"
   },
   {
    "duration": 13,
    "start_time": "2022-05-10T13:41:13.287Z"
   },
   {
    "duration": 3,
    "start_time": "2022-05-10T13:41:13.306Z"
   },
   {
    "duration": 12,
    "start_time": "2022-05-10T13:41:13.311Z"
   },
   {
    "duration": 13,
    "start_time": "2022-05-10T13:41:13.325Z"
   },
   {
    "duration": 5,
    "start_time": "2022-05-10T13:41:13.339Z"
   },
   {
    "duration": 718,
    "start_time": "2022-05-10T13:41:13.345Z"
   },
   {
    "duration": 326,
    "start_time": "2022-05-10T13:41:14.065Z"
   },
   {
    "duration": 15,
    "start_time": "2022-05-10T13:41:14.393Z"
   },
   {
    "duration": 265,
    "start_time": "2022-05-10T13:41:14.410Z"
   },
   {
    "duration": 6,
    "start_time": "2022-05-10T13:41:14.677Z"
   },
   {
    "duration": 9,
    "start_time": "2022-05-10T13:41:14.684Z"
   },
   {
    "duration": 8,
    "start_time": "2022-05-10T13:41:14.708Z"
   },
   {
    "duration": 9,
    "start_time": "2022-05-10T13:41:14.718Z"
   },
   {
    "duration": 673,
    "start_time": "2022-05-10T13:41:14.729Z"
   },
   {
    "duration": 139,
    "start_time": "2022-05-10T13:41:15.403Z"
   },
   {
    "duration": 0,
    "start_time": "2022-05-10T13:41:15.544Z"
   },
   {
    "duration": 1454,
    "start_time": "2022-05-10T13:41:43.978Z"
   },
   {
    "duration": 33,
    "start_time": "2022-05-10T13:41:45.434Z"
   },
   {
    "duration": 13,
    "start_time": "2022-05-10T13:41:45.468Z"
   },
   {
    "duration": 7,
    "start_time": "2022-05-10T13:41:45.483Z"
   },
   {
    "duration": 10,
    "start_time": "2022-05-10T13:41:45.507Z"
   },
   {
    "duration": 12,
    "start_time": "2022-05-10T13:41:45.519Z"
   },
   {
    "duration": 4,
    "start_time": "2022-05-10T13:41:45.532Z"
   },
   {
    "duration": 674,
    "start_time": "2022-05-10T13:41:45.538Z"
   },
   {
    "duration": 295,
    "start_time": "2022-05-10T13:41:46.213Z"
   },
   {
    "duration": 6,
    "start_time": "2022-05-10T13:41:46.511Z"
   },
   {
    "duration": 270,
    "start_time": "2022-05-10T13:41:46.519Z"
   },
   {
    "duration": 6,
    "start_time": "2022-05-10T13:41:46.791Z"
   },
   {
    "duration": 14,
    "start_time": "2022-05-10T13:41:46.799Z"
   },
   {
    "duration": 9,
    "start_time": "2022-05-10T13:41:46.815Z"
   },
   {
    "duration": 8,
    "start_time": "2022-05-10T13:41:46.826Z"
   },
   {
    "duration": 660,
    "start_time": "2022-05-10T13:41:46.836Z"
   },
   {
    "duration": 337,
    "start_time": "2022-05-10T13:41:47.498Z"
   },
   {
    "duration": 124,
    "start_time": "2022-05-10T13:41:47.837Z"
   },
   {
    "duration": 11,
    "start_time": "2022-05-10T13:43:24.206Z"
   },
   {
    "duration": 1692,
    "start_time": "2022-05-10T13:43:32.832Z"
   },
   {
    "duration": 33,
    "start_time": "2022-05-10T13:43:34.526Z"
   },
   {
    "duration": 17,
    "start_time": "2022-05-10T13:43:34.561Z"
   },
   {
    "duration": 5,
    "start_time": "2022-05-10T13:43:34.580Z"
   },
   {
    "duration": 28,
    "start_time": "2022-05-10T13:43:34.587Z"
   },
   {
    "duration": 13,
    "start_time": "2022-05-10T13:43:34.617Z"
   },
   {
    "duration": 4,
    "start_time": "2022-05-10T13:43:34.632Z"
   },
   {
    "duration": 689,
    "start_time": "2022-05-10T13:43:34.638Z"
   },
   {
    "duration": 304,
    "start_time": "2022-05-10T13:43:35.329Z"
   },
   {
    "duration": 5,
    "start_time": "2022-05-10T13:43:35.637Z"
   },
   {
    "duration": 294,
    "start_time": "2022-05-10T13:43:35.644Z"
   },
   {
    "duration": 6,
    "start_time": "2022-05-10T13:43:35.940Z"
   },
   {
    "duration": 20,
    "start_time": "2022-05-10T13:43:35.948Z"
   },
   {
    "duration": 12,
    "start_time": "2022-05-10T13:43:35.970Z"
   },
   {
    "duration": 20,
    "start_time": "2022-05-10T13:43:35.984Z"
   },
   {
    "duration": 670,
    "start_time": "2022-05-10T13:43:36.007Z"
   },
   {
    "duration": 334,
    "start_time": "2022-05-10T13:43:36.679Z"
   },
   {
    "duration": 128,
    "start_time": "2022-05-10T13:43:37.016Z"
   },
   {
    "duration": 1448,
    "start_time": "2022-05-10T13:43:57.888Z"
   },
   {
    "duration": 32,
    "start_time": "2022-05-10T13:43:59.338Z"
   },
   {
    "duration": 12,
    "start_time": "2022-05-10T13:43:59.372Z"
   },
   {
    "duration": 6,
    "start_time": "2022-05-10T13:43:59.386Z"
   },
   {
    "duration": 11,
    "start_time": "2022-05-10T13:43:59.407Z"
   },
   {
    "duration": 13,
    "start_time": "2022-05-10T13:43:59.420Z"
   },
   {
    "duration": 3,
    "start_time": "2022-05-10T13:43:59.435Z"
   },
   {
    "duration": 710,
    "start_time": "2022-05-10T13:43:59.440Z"
   },
   {
    "duration": 315,
    "start_time": "2022-05-10T13:44:00.152Z"
   },
   {
    "duration": 6,
    "start_time": "2022-05-10T13:44:00.469Z"
   },
   {
    "duration": 271,
    "start_time": "2022-05-10T13:44:00.476Z"
   },
   {
    "duration": 6,
    "start_time": "2022-05-10T13:44:00.749Z"
   },
   {
    "duration": 9,
    "start_time": "2022-05-10T13:44:00.756Z"
   },
   {
    "duration": 9,
    "start_time": "2022-05-10T13:44:00.766Z"
   },
   {
    "duration": 37,
    "start_time": "2022-05-10T13:44:00.776Z"
   },
   {
    "duration": 650,
    "start_time": "2022-05-10T13:44:00.815Z"
   },
   {
    "duration": 318,
    "start_time": "2022-05-10T13:44:01.467Z"
   },
   {
    "duration": 132,
    "start_time": "2022-05-10T13:44:01.787Z"
   },
   {
    "duration": 14,
    "start_time": "2022-05-10T13:46:30.954Z"
   },
   {
    "duration": 1405,
    "start_time": "2022-05-10T13:47:33.218Z"
   },
   {
    "duration": 33,
    "start_time": "2022-05-10T13:47:34.626Z"
   },
   {
    "duration": 13,
    "start_time": "2022-05-10T13:47:34.661Z"
   },
   {
    "duration": 4,
    "start_time": "2022-05-10T13:47:34.676Z"
   },
   {
    "duration": 33,
    "start_time": "2022-05-10T13:47:34.681Z"
   },
   {
    "duration": 13,
    "start_time": "2022-05-10T13:47:34.716Z"
   },
   {
    "duration": 3,
    "start_time": "2022-05-10T13:47:34.731Z"
   },
   {
    "duration": 676,
    "start_time": "2022-05-10T13:47:34.736Z"
   },
   {
    "duration": 307,
    "start_time": "2022-05-10T13:47:35.413Z"
   },
   {
    "duration": 7,
    "start_time": "2022-05-10T13:47:35.723Z"
   },
   {
    "duration": 288,
    "start_time": "2022-05-10T13:47:35.732Z"
   },
   {
    "duration": 8,
    "start_time": "2022-05-10T13:47:36.022Z"
   },
   {
    "duration": 9,
    "start_time": "2022-05-10T13:47:36.031Z"
   },
   {
    "duration": 7,
    "start_time": "2022-05-10T13:47:36.042Z"
   },
   {
    "duration": 8,
    "start_time": "2022-05-10T13:47:36.051Z"
   },
   {
    "duration": 690,
    "start_time": "2022-05-10T13:47:36.061Z"
   },
   {
    "duration": 358,
    "start_time": "2022-05-10T13:47:36.753Z"
   },
   {
    "duration": 127,
    "start_time": "2022-05-10T13:47:37.112Z"
   },
   {
    "duration": 14,
    "start_time": "2022-05-10T13:47:50.094Z"
   },
   {
    "duration": 1436,
    "start_time": "2022-05-10T13:47:56.165Z"
   },
   {
    "duration": 31,
    "start_time": "2022-05-10T13:47:57.604Z"
   },
   {
    "duration": 12,
    "start_time": "2022-05-10T13:47:57.636Z"
   },
   {
    "duration": 3,
    "start_time": "2022-05-10T13:47:57.650Z"
   },
   {
    "duration": 11,
    "start_time": "2022-05-10T13:47:57.655Z"
   },
   {
    "duration": 46,
    "start_time": "2022-05-10T13:47:57.668Z"
   },
   {
    "duration": 5,
    "start_time": "2022-05-10T13:47:57.716Z"
   },
   {
    "duration": 658,
    "start_time": "2022-05-10T13:47:57.722Z"
   },
   {
    "duration": 304,
    "start_time": "2022-05-10T13:47:58.382Z"
   },
   {
    "duration": 5,
    "start_time": "2022-05-10T13:47:58.689Z"
   },
   {
    "duration": 254,
    "start_time": "2022-05-10T13:47:58.708Z"
   },
   {
    "duration": 6,
    "start_time": "2022-05-10T13:47:58.964Z"
   },
   {
    "duration": 6,
    "start_time": "2022-05-10T13:47:58.972Z"
   },
   {
    "duration": 31,
    "start_time": "2022-05-10T13:47:58.980Z"
   },
   {
    "duration": 9,
    "start_time": "2022-05-10T13:47:59.012Z"
   },
   {
    "duration": 675,
    "start_time": "2022-05-10T13:47:59.023Z"
   },
   {
    "duration": 398,
    "start_time": "2022-05-10T13:47:59.700Z"
   },
   {
    "duration": 192,
    "start_time": "2022-05-10T13:48:00.100Z"
   },
   {
    "duration": 13,
    "start_time": "2022-05-10T13:49:39.136Z"
   },
   {
    "duration": 1465,
    "start_time": "2022-05-10T13:49:59.430Z"
   },
   {
    "duration": 41,
    "start_time": "2022-05-10T13:50:00.898Z"
   },
   {
    "duration": 17,
    "start_time": "2022-05-10T13:50:00.940Z"
   },
   {
    "duration": 4,
    "start_time": "2022-05-10T13:50:00.961Z"
   },
   {
    "duration": 17,
    "start_time": "2022-05-10T13:50:00.968Z"
   },
   {
    "duration": 36,
    "start_time": "2022-05-10T13:50:00.988Z"
   },
   {
    "duration": 5,
    "start_time": "2022-05-10T13:50:01.026Z"
   },
   {
    "duration": 723,
    "start_time": "2022-05-10T13:50:01.033Z"
   },
   {
    "duration": 344,
    "start_time": "2022-05-10T13:50:01.758Z"
   },
   {
    "duration": 7,
    "start_time": "2022-05-10T13:50:02.104Z"
   },
   {
    "duration": 279,
    "start_time": "2022-05-10T13:50:02.112Z"
   },
   {
    "duration": 15,
    "start_time": "2022-05-10T13:50:02.393Z"
   },
   {
    "duration": 13,
    "start_time": "2022-05-10T13:50:02.409Z"
   },
   {
    "duration": 8,
    "start_time": "2022-05-10T13:50:02.424Z"
   },
   {
    "duration": 28,
    "start_time": "2022-05-10T13:50:02.433Z"
   },
   {
    "duration": 646,
    "start_time": "2022-05-10T13:50:02.463Z"
   },
   {
    "duration": 387,
    "start_time": "2022-05-10T13:50:03.111Z"
   },
   {
    "duration": 136,
    "start_time": "2022-05-10T13:50:03.500Z"
   },
   {
    "duration": 0,
    "start_time": "2022-05-10T13:50:03.638Z"
   },
   {
    "duration": 11,
    "start_time": "2022-05-10T13:51:15.611Z"
   },
   {
    "duration": 11,
    "start_time": "2022-05-10T13:51:27.806Z"
   },
   {
    "duration": 11,
    "start_time": "2022-05-10T13:52:48.675Z"
   },
   {
    "duration": 1513,
    "start_time": "2022-05-10T13:52:55.554Z"
   },
   {
    "duration": 39,
    "start_time": "2022-05-10T13:52:57.070Z"
   },
   {
    "duration": 13,
    "start_time": "2022-05-10T13:52:57.111Z"
   },
   {
    "duration": 5,
    "start_time": "2022-05-10T13:52:57.126Z"
   },
   {
    "duration": 11,
    "start_time": "2022-05-10T13:52:57.135Z"
   },
   {
    "duration": 17,
    "start_time": "2022-05-10T13:52:57.148Z"
   },
   {
    "duration": 43,
    "start_time": "2022-05-10T13:52:57.167Z"
   },
   {
    "duration": 667,
    "start_time": "2022-05-10T13:52:57.212Z"
   },
   {
    "duration": 318,
    "start_time": "2022-05-10T13:52:57.881Z"
   },
   {
    "duration": 9,
    "start_time": "2022-05-10T13:52:58.201Z"
   },
   {
    "duration": 282,
    "start_time": "2022-05-10T13:52:58.212Z"
   },
   {
    "duration": 17,
    "start_time": "2022-05-10T13:52:58.496Z"
   },
   {
    "duration": 9,
    "start_time": "2022-05-10T13:52:58.516Z"
   },
   {
    "duration": 12,
    "start_time": "2022-05-10T13:52:58.528Z"
   },
   {
    "duration": 10,
    "start_time": "2022-05-10T13:52:58.543Z"
   },
   {
    "duration": 762,
    "start_time": "2022-05-10T13:52:58.555Z"
   },
   {
    "duration": 377,
    "start_time": "2022-05-10T13:52:59.320Z"
   },
   {
    "duration": 145,
    "start_time": "2022-05-10T13:52:59.707Z"
   },
   {
    "duration": 11,
    "start_time": "2022-05-10T13:53:27.615Z"
   },
   {
    "duration": 1617,
    "start_time": "2022-05-10T13:53:43.895Z"
   },
   {
    "duration": 34,
    "start_time": "2022-05-10T13:53:45.515Z"
   },
   {
    "duration": 14,
    "start_time": "2022-05-10T13:53:45.551Z"
   },
   {
    "duration": 4,
    "start_time": "2022-05-10T13:53:45.568Z"
   },
   {
    "duration": 40,
    "start_time": "2022-05-10T13:53:45.574Z"
   },
   {
    "duration": 17,
    "start_time": "2022-05-10T13:53:45.617Z"
   },
   {
    "duration": 5,
    "start_time": "2022-05-10T13:53:45.636Z"
   },
   {
    "duration": 744,
    "start_time": "2022-05-10T13:53:45.643Z"
   },
   {
    "duration": 427,
    "start_time": "2022-05-10T13:53:46.389Z"
   },
   {
    "duration": 8,
    "start_time": "2022-05-10T13:53:46.820Z"
   },
   {
    "duration": 375,
    "start_time": "2022-05-10T13:53:46.830Z"
   },
   {
    "duration": 8,
    "start_time": "2022-05-10T13:53:47.208Z"
   },
   {
    "duration": 9,
    "start_time": "2022-05-10T13:53:47.219Z"
   },
   {
    "duration": 9,
    "start_time": "2022-05-10T13:53:47.231Z"
   },
   {
    "duration": 9,
    "start_time": "2022-05-10T13:53:47.244Z"
   },
   {
    "duration": 1021,
    "start_time": "2022-05-10T13:53:47.255Z"
   },
   {
    "duration": 490,
    "start_time": "2022-05-10T13:53:48.279Z"
   },
   {
    "duration": 207,
    "start_time": "2022-05-10T13:53:48.771Z"
   },
   {
    "duration": 18,
    "start_time": "2022-05-10T13:53:53.917Z"
   },
   {
    "duration": 16,
    "start_time": "2022-05-10T13:53:57.231Z"
   },
   {
    "duration": 17,
    "start_time": "2022-05-10T13:53:59.749Z"
   },
   {
    "duration": 13,
    "start_time": "2022-05-10T13:54:57.936Z"
   },
   {
    "duration": 1453,
    "start_time": "2022-05-10T13:55:05.571Z"
   },
   {
    "duration": 33,
    "start_time": "2022-05-10T13:55:07.026Z"
   },
   {
    "duration": 13,
    "start_time": "2022-05-10T13:55:07.064Z"
   },
   {
    "duration": 4,
    "start_time": "2022-05-10T13:55:07.079Z"
   },
   {
    "duration": 11,
    "start_time": "2022-05-10T13:55:07.107Z"
   },
   {
    "duration": 18,
    "start_time": "2022-05-10T13:55:07.120Z"
   },
   {
    "duration": 5,
    "start_time": "2022-05-10T13:55:07.140Z"
   },
   {
    "duration": 720,
    "start_time": "2022-05-10T13:55:07.147Z"
   },
   {
    "duration": 352,
    "start_time": "2022-05-10T13:55:07.871Z"
   },
   {
    "duration": 6,
    "start_time": "2022-05-10T13:55:08.225Z"
   },
   {
    "duration": 281,
    "start_time": "2022-05-10T13:55:08.233Z"
   },
   {
    "duration": 7,
    "start_time": "2022-05-10T13:55:08.516Z"
   },
   {
    "duration": 9,
    "start_time": "2022-05-10T13:55:08.526Z"
   },
   {
    "duration": 9,
    "start_time": "2022-05-10T13:55:08.537Z"
   },
   {
    "duration": 10,
    "start_time": "2022-05-10T13:55:08.548Z"
   },
   {
    "duration": 719,
    "start_time": "2022-05-10T13:55:08.560Z"
   },
   {
    "duration": 392,
    "start_time": "2022-05-10T13:55:09.282Z"
   },
   {
    "duration": 260,
    "start_time": "2022-05-10T13:55:09.676Z"
   },
   {
    "duration": 194,
    "start_time": "2022-05-10T13:55:47.885Z"
   },
   {
    "duration": 1503,
    "start_time": "2022-05-10T13:55:57.063Z"
   },
   {
    "duration": 34,
    "start_time": "2022-05-10T13:55:58.568Z"
   },
   {
    "duration": 24,
    "start_time": "2022-05-10T13:55:58.604Z"
   },
   {
    "duration": 5,
    "start_time": "2022-05-10T13:55:58.631Z"
   },
   {
    "duration": 16,
    "start_time": "2022-05-10T13:55:58.638Z"
   },
   {
    "duration": 52,
    "start_time": "2022-05-10T13:55:58.656Z"
   },
   {
    "duration": 5,
    "start_time": "2022-05-10T13:55:58.710Z"
   },
   {
    "duration": 1044,
    "start_time": "2022-05-10T13:55:58.717Z"
   },
   {
    "duration": 346,
    "start_time": "2022-05-10T13:55:59.763Z"
   },
   {
    "duration": 8,
    "start_time": "2022-05-10T13:56:00.112Z"
   },
   {
    "duration": 303,
    "start_time": "2022-05-10T13:56:00.123Z"
   },
   {
    "duration": 7,
    "start_time": "2022-05-10T13:56:00.427Z"
   },
   {
    "duration": 8,
    "start_time": "2022-05-10T13:56:00.436Z"
   },
   {
    "duration": 8,
    "start_time": "2022-05-10T13:56:00.447Z"
   },
   {
    "duration": 12,
    "start_time": "2022-05-10T13:56:00.456Z"
   },
   {
    "duration": 716,
    "start_time": "2022-05-10T13:56:00.469Z"
   },
   {
    "duration": 381,
    "start_time": "2022-05-10T13:56:01.187Z"
   },
   {
    "duration": 134,
    "start_time": "2022-05-10T13:56:01.570Z"
   },
   {
    "duration": 337,
    "start_time": "2022-05-10T13:56:30.842Z"
   },
   {
    "duration": 281,
    "start_time": "2022-05-10T13:57:23.051Z"
   },
   {
    "duration": 78,
    "start_time": "2022-05-10T13:57:40.603Z"
   },
   {
    "duration": 302,
    "start_time": "2022-05-10T13:57:45.134Z"
   },
   {
    "duration": 266,
    "start_time": "2022-05-10T13:59:30.274Z"
   },
   {
    "duration": 445,
    "start_time": "2022-05-10T13:59:54.029Z"
   },
   {
    "duration": 283,
    "start_time": "2022-05-10T14:00:41.784Z"
   },
   {
    "duration": 337,
    "start_time": "2022-05-10T14:01:33.152Z"
   },
   {
    "duration": 2506,
    "start_time": "2022-05-10T18:59:20.376Z"
   },
   {
    "duration": 317,
    "start_time": "2022-05-10T18:59:22.884Z"
   },
   {
    "duration": 18,
    "start_time": "2022-05-10T18:59:23.203Z"
   },
   {
    "duration": 5,
    "start_time": "2022-05-10T18:59:23.224Z"
   },
   {
    "duration": 16,
    "start_time": "2022-05-10T18:59:23.232Z"
   },
   {
    "duration": 55,
    "start_time": "2022-05-10T18:59:23.251Z"
   },
   {
    "duration": 5,
    "start_time": "2022-05-10T18:59:23.309Z"
   },
   {
    "duration": 892,
    "start_time": "2022-05-10T18:59:23.316Z"
   },
   {
    "duration": 428,
    "start_time": "2022-05-10T18:59:24.210Z"
   },
   {
    "duration": 8,
    "start_time": "2022-05-10T18:59:24.641Z"
   },
   {
    "duration": 385,
    "start_time": "2022-05-10T18:59:24.651Z"
   },
   {
    "duration": 8,
    "start_time": "2022-05-10T18:59:25.038Z"
   },
   {
    "duration": 13,
    "start_time": "2022-05-10T18:59:25.049Z"
   },
   {
    "duration": 35,
    "start_time": "2022-05-10T18:59:25.064Z"
   },
   {
    "duration": 996,
    "start_time": "2022-05-10T18:59:25.102Z"
   },
   {
    "duration": 445,
    "start_time": "2022-05-10T18:59:26.100Z"
   },
   {
    "duration": 354,
    "start_time": "2022-05-10T18:59:26.548Z"
   },
   {
    "duration": 6,
    "start_time": "2022-05-10T18:59:26.904Z"
   },
   {
    "duration": 31,
    "start_time": "2022-05-10T18:59:26.912Z"
   },
   {
    "duration": 24,
    "start_time": "2022-05-10T19:01:53.678Z"
   },
   {
    "duration": 6,
    "start_time": "2022-05-10T19:01:59.261Z"
   },
   {
    "duration": 27,
    "start_time": "2022-05-10T19:02:00.407Z"
   },
   {
    "duration": 1945,
    "start_time": "2022-05-10T19:02:08.329Z"
   },
   {
    "duration": 49,
    "start_time": "2022-05-10T19:02:10.276Z"
   },
   {
    "duration": 18,
    "start_time": "2022-05-10T19:02:10.328Z"
   },
   {
    "duration": 5,
    "start_time": "2022-05-10T19:02:10.350Z"
   },
   {
    "duration": 49,
    "start_time": "2022-05-10T19:02:10.358Z"
   },
   {
    "duration": 17,
    "start_time": "2022-05-10T19:02:10.409Z"
   },
   {
    "duration": 6,
    "start_time": "2022-05-10T19:02:10.428Z"
   },
   {
    "duration": 879,
    "start_time": "2022-05-10T19:02:10.436Z"
   },
   {
    "duration": 402,
    "start_time": "2022-05-10T19:02:11.318Z"
   },
   {
    "duration": 8,
    "start_time": "2022-05-10T19:02:11.723Z"
   },
   {
    "duration": 393,
    "start_time": "2022-05-10T19:02:11.733Z"
   },
   {
    "duration": 11,
    "start_time": "2022-05-10T19:02:12.129Z"
   },
   {
    "duration": 16,
    "start_time": "2022-05-10T19:02:12.142Z"
   },
   {
    "duration": 33,
    "start_time": "2022-05-10T19:02:12.160Z"
   },
   {
    "duration": 946,
    "start_time": "2022-05-10T19:02:12.195Z"
   },
   {
    "duration": 484,
    "start_time": "2022-05-10T19:02:13.144Z"
   },
   {
    "duration": 353,
    "start_time": "2022-05-10T19:02:13.630Z"
   },
   {
    "duration": 14,
    "start_time": "2022-05-10T19:02:13.993Z"
   },
   {
    "duration": 28,
    "start_time": "2022-05-10T19:02:14.009Z"
   },
   {
    "duration": 5,
    "start_time": "2022-05-10T19:02:58.805Z"
   },
   {
    "duration": 22,
    "start_time": "2022-05-10T19:03:00.074Z"
   },
   {
    "duration": 5,
    "start_time": "2022-05-10T19:16:32.055Z"
   },
   {
    "duration": 189,
    "start_time": "2022-05-10T19:16:35.409Z"
   },
   {
    "duration": 5,
    "start_time": "2022-05-10T19:16:56.358Z"
   },
   {
    "duration": 23,
    "start_time": "2022-05-10T19:16:57.260Z"
   },
   {
    "duration": 1928,
    "start_time": "2022-05-10T19:18:26.007Z"
   },
   {
    "duration": 49,
    "start_time": "2022-05-10T19:18:27.938Z"
   },
   {
    "duration": 16,
    "start_time": "2022-05-10T19:18:27.989Z"
   },
   {
    "duration": 5,
    "start_time": "2022-05-10T19:18:28.008Z"
   },
   {
    "duration": 15,
    "start_time": "2022-05-10T19:18:28.015Z"
   },
   {
    "duration": 16,
    "start_time": "2022-05-10T19:18:28.032Z"
   },
   {
    "duration": 44,
    "start_time": "2022-05-10T19:18:28.050Z"
   },
   {
    "duration": 940,
    "start_time": "2022-05-10T19:18:28.097Z"
   },
   {
    "duration": 395,
    "start_time": "2022-05-10T19:18:29.039Z"
   },
   {
    "duration": 7,
    "start_time": "2022-05-10T19:18:29.438Z"
   },
   {
    "duration": 373,
    "start_time": "2022-05-10T19:18:29.448Z"
   },
   {
    "duration": 9,
    "start_time": "2022-05-10T19:18:29.824Z"
   },
   {
    "duration": 10,
    "start_time": "2022-05-10T19:18:29.835Z"
   },
   {
    "duration": 18,
    "start_time": "2022-05-10T19:18:29.847Z"
   },
   {
    "duration": 982,
    "start_time": "2022-05-10T19:18:29.868Z"
   },
   {
    "duration": 474,
    "start_time": "2022-05-10T19:18:30.854Z"
   },
   {
    "duration": 352,
    "start_time": "2022-05-10T19:18:31.331Z"
   },
   {
    "duration": 7,
    "start_time": "2022-05-10T19:18:31.693Z"
   },
   {
    "duration": 40,
    "start_time": "2022-05-10T19:18:31.702Z"
   },
   {
    "duration": 50,
    "start_time": "2022-05-11T07:26:34.173Z"
   },
   {
    "duration": 1766,
    "start_time": "2022-05-11T07:26:43.988Z"
   },
   {
    "duration": 45,
    "start_time": "2022-05-11T07:26:45.757Z"
   },
   {
    "duration": 15,
    "start_time": "2022-05-11T07:26:45.805Z"
   },
   {
    "duration": 8,
    "start_time": "2022-05-11T07:26:45.822Z"
   },
   {
    "duration": 25,
    "start_time": "2022-05-11T07:26:45.831Z"
   },
   {
    "duration": 12,
    "start_time": "2022-05-11T07:26:45.858Z"
   },
   {
    "duration": 4,
    "start_time": "2022-05-11T07:26:45.872Z"
   },
   {
    "duration": 641,
    "start_time": "2022-05-11T07:26:45.877Z"
   },
   {
    "duration": 306,
    "start_time": "2022-05-11T07:26:46.519Z"
   },
   {
    "duration": 5,
    "start_time": "2022-05-11T07:26:46.828Z"
   },
   {
    "duration": 254,
    "start_time": "2022-05-11T07:26:46.835Z"
   },
   {
    "duration": 7,
    "start_time": "2022-05-11T07:26:47.091Z"
   },
   {
    "duration": 37,
    "start_time": "2022-05-11T07:26:47.099Z"
   },
   {
    "duration": 24,
    "start_time": "2022-05-11T07:26:47.138Z"
   },
   {
    "duration": 987,
    "start_time": "2022-05-11T07:26:47.164Z"
   },
   {
    "duration": 450,
    "start_time": "2022-05-11T07:26:48.154Z"
   },
   {
    "duration": 342,
    "start_time": "2022-05-11T07:26:48.606Z"
   },
   {
    "duration": 6,
    "start_time": "2022-05-11T07:26:48.956Z"
   },
   {
    "duration": 41,
    "start_time": "2022-05-11T07:26:48.964Z"
   },
   {
    "duration": 939,
    "start_time": "2022-05-11T07:33:21.827Z"
   },
   {
    "duration": 2111,
    "start_time": "2022-05-11T07:33:39.350Z"
   },
   {
    "duration": 50,
    "start_time": "2022-05-11T07:33:41.464Z"
   },
   {
    "duration": 988,
    "start_time": "2022-05-11T07:33:41.516Z"
   },
   {
    "duration": 343,
    "start_time": "2022-05-11T07:33:42.507Z"
   },
   {
    "duration": 30,
    "start_time": "2022-05-11T07:33:42.852Z"
   },
   {
    "duration": 20,
    "start_time": "2022-05-11T07:33:42.884Z"
   },
   {
    "duration": 8,
    "start_time": "2022-05-11T07:33:42.907Z"
   },
   {
    "duration": 1085,
    "start_time": "2022-05-11T07:33:42.917Z"
   },
   {
    "duration": 433,
    "start_time": "2022-05-11T07:33:44.005Z"
   },
   {
    "duration": 5,
    "start_time": "2022-05-11T07:33:44.442Z"
   },
   {
    "duration": 477,
    "start_time": "2022-05-11T07:33:44.455Z"
   },
   {
    "duration": 7,
    "start_time": "2022-05-11T07:33:44.934Z"
   },
   {
    "duration": 20,
    "start_time": "2022-05-11T07:33:44.943Z"
   },
   {
    "duration": 32,
    "start_time": "2022-05-11T07:33:44.965Z"
   },
   {
    "duration": 712,
    "start_time": "2022-05-11T07:33:44.999Z"
   },
   {
    "duration": 327,
    "start_time": "2022-05-11T07:33:45.714Z"
   },
   {
    "duration": 280,
    "start_time": "2022-05-11T07:33:46.043Z"
   },
   {
    "duration": 5,
    "start_time": "2022-05-11T07:33:46.326Z"
   },
   {
    "duration": 75,
    "start_time": "2022-05-11T07:33:46.333Z"
   },
   {
    "duration": 625,
    "start_time": "2022-05-11T07:35:13.095Z"
   },
   {
    "duration": 1896,
    "start_time": "2022-05-11T07:36:40.027Z"
   },
   {
    "duration": 36,
    "start_time": "2022-05-11T07:36:41.925Z"
   },
   {
    "duration": 13,
    "start_time": "2022-05-11T07:36:41.962Z"
   },
   {
    "duration": 4,
    "start_time": "2022-05-11T07:36:41.977Z"
   },
   {
    "duration": 12,
    "start_time": "2022-05-11T07:36:41.983Z"
   },
   {
    "duration": 20,
    "start_time": "2022-05-11T07:36:41.997Z"
   },
   {
    "duration": 5,
    "start_time": "2022-05-11T07:36:42.019Z"
   },
   {
    "duration": 938,
    "start_time": "2022-05-11T07:36:42.026Z"
   },
   {
    "duration": 409,
    "start_time": "2022-05-11T07:36:42.966Z"
   },
   {
    "duration": 6,
    "start_time": "2022-05-11T07:36:43.377Z"
   },
   {
    "duration": 280,
    "start_time": "2022-05-11T07:36:43.384Z"
   },
   {
    "duration": 7,
    "start_time": "2022-05-11T07:36:43.666Z"
   },
   {
    "duration": 56,
    "start_time": "2022-05-11T07:36:43.674Z"
   },
   {
    "duration": 18,
    "start_time": "2022-05-11T07:36:43.732Z"
   },
   {
    "duration": 651,
    "start_time": "2022-05-11T07:36:43.752Z"
   },
   {
    "duration": 326,
    "start_time": "2022-05-11T07:36:44.405Z"
   },
   {
    "duration": 285,
    "start_time": "2022-05-11T07:36:44.733Z"
   },
   {
    "duration": 5,
    "start_time": "2022-05-11T07:36:45.020Z"
   },
   {
    "duration": 68,
    "start_time": "2022-05-11T07:36:45.027Z"
   },
   {
    "duration": 7,
    "start_time": "2022-05-11T08:04:59.456Z"
   },
   {
    "duration": 9,
    "start_time": "2022-05-11T08:06:29.448Z"
   },
   {
    "duration": 10,
    "start_time": "2022-05-11T08:11:02.035Z"
   },
   {
    "duration": 13,
    "start_time": "2022-05-11T08:11:36.159Z"
   },
   {
    "duration": 7,
    "start_time": "2022-05-11T08:12:44.784Z"
   },
   {
    "duration": 17,
    "start_time": "2022-05-11T08:13:56.852Z"
   },
   {
    "duration": 12,
    "start_time": "2022-05-11T08:14:10.990Z"
   },
   {
    "duration": 26,
    "start_time": "2022-05-11T08:15:02.695Z"
   },
   {
    "duration": 7,
    "start_time": "2022-05-11T08:23:00.812Z"
   },
   {
    "duration": 119,
    "start_time": "2022-05-11T08:24:45.246Z"
   },
   {
    "duration": 167,
    "start_time": "2022-05-11T08:28:36.836Z"
   },
   {
    "duration": 2331,
    "start_time": "2022-05-11T08:28:52.879Z"
   },
   {
    "duration": 50,
    "start_time": "2022-05-11T08:28:55.213Z"
   },
   {
    "duration": 16,
    "start_time": "2022-05-11T08:28:55.265Z"
   },
   {
    "duration": 23,
    "start_time": "2022-05-11T08:28:55.284Z"
   },
   {
    "duration": 35,
    "start_time": "2022-05-11T08:28:55.311Z"
   },
   {
    "duration": 52,
    "start_time": "2022-05-11T08:28:55.349Z"
   },
   {
    "duration": 7,
    "start_time": "2022-05-11T08:28:55.403Z"
   },
   {
    "duration": 1171,
    "start_time": "2022-05-11T08:28:55.412Z"
   },
   {
    "duration": 263,
    "start_time": "2022-05-11T08:28:56.586Z"
   },
   {
    "duration": 7,
    "start_time": "2022-05-11T08:28:56.854Z"
   },
   {
    "duration": 426,
    "start_time": "2022-05-11T08:28:56.864Z"
   },
   {
    "duration": 9,
    "start_time": "2022-05-11T08:28:57.292Z"
   },
   {
    "duration": 24,
    "start_time": "2022-05-11T08:28:57.303Z"
   },
   {
    "duration": 30,
    "start_time": "2022-05-11T08:28:57.331Z"
   },
   {
    "duration": 971,
    "start_time": "2022-05-11T08:28:57.365Z"
   },
   {
    "duration": 505,
    "start_time": "2022-05-11T08:28:58.341Z"
   },
   {
    "duration": 390,
    "start_time": "2022-05-11T08:28:58.857Z"
   },
   {
    "duration": 8,
    "start_time": "2022-05-11T08:28:59.250Z"
   },
   {
    "duration": 64,
    "start_time": "2022-05-11T08:28:59.261Z"
   },
   {
    "duration": 16,
    "start_time": "2022-05-11T08:28:59.328Z"
   },
   {
    "duration": 50,
    "start_time": "2022-05-11T08:28:59.347Z"
   },
   {
    "duration": 120352,
    "start_time": "2022-05-11T08:28:59.400Z"
   },
   {
    "duration": 2066303,
    "start_time": "2022-05-11T08:30:59.756Z"
   },
   {
    "duration": 385,
    "start_time": "2022-05-11T10:32:41.890Z"
   },
   {
    "duration": 146,
    "start_time": "2022-05-11T10:33:10.676Z"
   },
   {
    "duration": 2317,
    "start_time": "2022-05-11T10:33:19.167Z"
   },
   {
    "duration": 49,
    "start_time": "2022-05-11T10:33:21.487Z"
   },
   {
    "duration": 21,
    "start_time": "2022-05-11T10:33:21.539Z"
   },
   {
    "duration": 21,
    "start_time": "2022-05-11T10:33:21.563Z"
   },
   {
    "duration": 17,
    "start_time": "2022-05-11T10:33:21.587Z"
   },
   {
    "duration": 25,
    "start_time": "2022-05-11T10:33:21.607Z"
   },
   {
    "duration": 6,
    "start_time": "2022-05-11T10:33:21.634Z"
   },
   {
    "duration": 1006,
    "start_time": "2022-05-11T10:33:21.643Z"
   },
   {
    "duration": 357,
    "start_time": "2022-05-11T10:33:22.652Z"
   },
   {
    "duration": 8,
    "start_time": "2022-05-11T10:33:23.013Z"
   },
   {
    "duration": 451,
    "start_time": "2022-05-11T10:33:23.023Z"
   },
   {
    "duration": 11,
    "start_time": "2022-05-11T10:33:23.477Z"
   },
   {
    "duration": 10,
    "start_time": "2022-05-11T10:33:23.491Z"
   },
   {
    "duration": 14,
    "start_time": "2022-05-11T10:33:23.504Z"
   },
   {
    "duration": 1053,
    "start_time": "2022-05-11T10:33:23.521Z"
   },
   {
    "duration": 456,
    "start_time": "2022-05-11T10:33:24.577Z"
   },
   {
    "duration": 455,
    "start_time": "2022-05-11T10:33:25.036Z"
   },
   {
    "duration": 6,
    "start_time": "2022-05-11T10:33:25.493Z"
   },
   {
    "duration": 32,
    "start_time": "2022-05-11T10:33:25.501Z"
   },
   {
    "duration": 14,
    "start_time": "2022-05-11T10:33:25.536Z"
   },
   {
    "duration": 35,
    "start_time": "2022-05-11T10:33:25.552Z"
   },
   {
    "duration": 116440,
    "start_time": "2022-05-11T10:33:25.589Z"
   },
   {
    "duration": 11066,
    "start_time": "2022-05-11T10:35:22.031Z"
   },
   {
    "duration": 3248,
    "start_time": "2022-05-11T10:35:33.099Z"
   },
   {
    "duration": 746,
    "start_time": "2022-05-11T10:35:36.349Z"
   },
   {
    "duration": 11,
    "start_time": "2022-05-11T10:35:37.183Z"
   },
   {
    "duration": 192,
    "start_time": "2022-05-11T10:35:37.197Z"
   },
   {
    "duration": 9,
    "start_time": "2022-05-11T10:37:21.866Z"
   },
   {
    "duration": 8,
    "start_time": "2022-05-11T10:37:50.626Z"
   },
   {
    "duration": 822,
    "start_time": "2022-05-11T10:38:18.166Z"
   },
   {
    "duration": 12,
    "start_time": "2022-05-11T10:38:19.156Z"
   },
   {
    "duration": 10,
    "start_time": "2022-05-11T10:38:19.907Z"
   },
   {
    "duration": 11,
    "start_time": "2022-05-11T10:39:28.687Z"
   },
   {
    "duration": 2035,
    "start_time": "2022-05-11T10:40:56.276Z"
   },
   {
    "duration": 46,
    "start_time": "2022-05-11T10:40:58.314Z"
   },
   {
    "duration": 20,
    "start_time": "2022-05-11T10:40:58.362Z"
   },
   {
    "duration": 4,
    "start_time": "2022-05-11T10:40:58.386Z"
   },
   {
    "duration": 17,
    "start_time": "2022-05-11T10:40:58.392Z"
   },
   {
    "duration": 18,
    "start_time": "2022-05-11T10:40:58.411Z"
   },
   {
    "duration": 6,
    "start_time": "2022-05-11T10:40:58.431Z"
   },
   {
    "duration": 1010,
    "start_time": "2022-05-11T10:40:58.438Z"
   },
   {
    "duration": 359,
    "start_time": "2022-05-11T10:40:59.450Z"
   },
   {
    "duration": 7,
    "start_time": "2022-05-11T10:40:59.815Z"
   },
   {
    "duration": 535,
    "start_time": "2022-05-11T10:40:59.824Z"
   },
   {
    "duration": 9,
    "start_time": "2022-05-11T10:41:00.361Z"
   },
   {
    "duration": 9,
    "start_time": "2022-05-11T10:41:00.382Z"
   },
   {
    "duration": 24,
    "start_time": "2022-05-11T10:41:00.393Z"
   },
   {
    "duration": 976,
    "start_time": "2022-05-11T10:41:00.419Z"
   },
   {
    "duration": 474,
    "start_time": "2022-05-11T10:41:01.397Z"
   },
   {
    "duration": 385,
    "start_time": "2022-05-11T10:41:01.873Z"
   },
   {
    "duration": 6,
    "start_time": "2022-05-11T10:41:02.260Z"
   },
   {
    "duration": 35,
    "start_time": "2022-05-11T10:41:02.268Z"
   },
   {
    "duration": 13,
    "start_time": "2022-05-11T10:41:02.306Z"
   },
   {
    "duration": 8,
    "start_time": "2022-05-11T10:41:02.321Z"
   },
   {
    "duration": 123274,
    "start_time": "2022-05-11T10:41:02.330Z"
   },
   {
    "duration": 537701,
    "start_time": "2022-05-11T10:43:05.606Z"
   },
   {
    "duration": 3270,
    "start_time": "2022-05-11T10:52:03.309Z"
   },
   {
    "duration": 939,
    "start_time": "2022-05-11T10:52:06.582Z"
   },
   {
    "duration": 61,
    "start_time": "2022-05-11T10:52:07.523Z"
   },
   {
    "duration": 14,
    "start_time": "2022-05-11T10:52:07.586Z"
   },
   {
    "duration": 13,
    "start_time": "2022-05-11T10:52:07.605Z"
   },
   {
    "duration": 2064,
    "start_time": "2022-05-11T10:55:36.331Z"
   },
   {
    "duration": 42,
    "start_time": "2022-05-11T10:55:38.397Z"
   },
   {
    "duration": 17,
    "start_time": "2022-05-11T10:55:38.442Z"
   },
   {
    "duration": 5,
    "start_time": "2022-05-11T10:55:38.462Z"
   },
   {
    "duration": 15,
    "start_time": "2022-05-11T10:55:38.482Z"
   },
   {
    "duration": 19,
    "start_time": "2022-05-11T10:55:38.499Z"
   },
   {
    "duration": 6,
    "start_time": "2022-05-11T10:55:38.520Z"
   },
   {
    "duration": 1121,
    "start_time": "2022-05-11T10:55:38.529Z"
   },
   {
    "duration": 661,
    "start_time": "2022-05-11T10:55:39.653Z"
   },
   {
    "duration": 9,
    "start_time": "2022-05-11T10:55:40.320Z"
   },
   {
    "duration": 682,
    "start_time": "2022-05-11T10:55:40.332Z"
   },
   {
    "duration": 11,
    "start_time": "2022-05-11T10:55:41.017Z"
   },
   {
    "duration": 14,
    "start_time": "2022-05-11T10:55:41.030Z"
   },
   {
    "duration": 42,
    "start_time": "2022-05-11T10:55:41.047Z"
   },
   {
    "duration": 1430,
    "start_time": "2022-05-11T10:55:41.092Z"
   },
   {
    "duration": 682,
    "start_time": "2022-05-11T10:55:42.526Z"
   },
   {
    "duration": 379,
    "start_time": "2022-05-11T10:55:43.211Z"
   },
   {
    "duration": 5,
    "start_time": "2022-05-11T10:55:43.593Z"
   },
   {
    "duration": 38,
    "start_time": "2022-05-11T10:55:43.601Z"
   },
   {
    "duration": 13,
    "start_time": "2022-05-11T10:55:43.642Z"
   },
   {
    "duration": 25,
    "start_time": "2022-05-11T10:55:43.657Z"
   },
   {
    "duration": 127410,
    "start_time": "2022-05-11T10:55:43.685Z"
   },
   {
    "duration": 521899,
    "start_time": "2022-05-11T10:57:51.097Z"
   },
   {
    "duration": 3045,
    "start_time": "2022-05-11T11:06:32.998Z"
   },
   {
    "duration": 952,
    "start_time": "2022-05-11T11:06:36.046Z"
   },
   {
    "duration": 11,
    "start_time": "2022-05-11T11:06:37.001Z"
   },
   {
    "duration": 75,
    "start_time": "2022-05-11T11:06:37.014Z"
   },
   {
    "duration": 19,
    "start_time": "2022-05-11T11:06:37.093Z"
   },
   {
    "duration": 1075,
    "start_time": "2022-05-11T11:12:18.213Z"
   },
   {
    "duration": 3130,
    "start_time": "2022-05-11T11:12:30.981Z"
   },
   {
    "duration": 162,
    "start_time": "2022-05-11T11:12:44.623Z"
   },
   {
    "duration": 11,
    "start_time": "2022-05-11T11:12:45.966Z"
   },
   {
    "duration": 9,
    "start_time": "2022-05-11T11:12:46.886Z"
   },
   {
    "duration": 11,
    "start_time": "2022-05-11T11:12:47.832Z"
   },
   {
    "duration": 2139,
    "start_time": "2022-05-11T11:17:03.047Z"
   },
   {
    "duration": 3177,
    "start_time": "2022-05-11T11:17:18.359Z"
   },
   {
    "duration": 283,
    "start_time": "2022-05-11T11:24:23.901Z"
   },
   {
    "duration": 209,
    "start_time": "2022-05-11T11:27:22.727Z"
   },
   {
    "duration": 2229,
    "start_time": "2022-05-11T11:28:21.667Z"
   },
   {
    "duration": 86,
    "start_time": "2022-05-11T11:28:23.899Z"
   },
   {
    "duration": 21,
    "start_time": "2022-05-11T11:28:23.988Z"
   },
   {
    "duration": 13,
    "start_time": "2022-05-11T11:28:24.011Z"
   },
   {
    "duration": 23,
    "start_time": "2022-05-11T11:28:24.028Z"
   },
   {
    "duration": 32,
    "start_time": "2022-05-11T11:28:24.054Z"
   },
   {
    "duration": 7,
    "start_time": "2022-05-11T11:28:24.089Z"
   },
   {
    "duration": 1042,
    "start_time": "2022-05-11T11:28:24.098Z"
   },
   {
    "duration": 345,
    "start_time": "2022-05-11T11:28:25.142Z"
   },
   {
    "duration": 8,
    "start_time": "2022-05-11T11:28:25.489Z"
   },
   {
    "duration": 443,
    "start_time": "2022-05-11T11:28:25.499Z"
   },
   {
    "duration": 8,
    "start_time": "2022-05-11T11:28:25.945Z"
   },
   {
    "duration": 58,
    "start_time": "2022-05-11T11:28:25.956Z"
   },
   {
    "duration": 21,
    "start_time": "2022-05-11T11:28:26.018Z"
   },
   {
    "duration": 933,
    "start_time": "2022-05-11T11:28:26.041Z"
   },
   {
    "duration": 483,
    "start_time": "2022-05-11T11:28:26.977Z"
   },
   {
    "duration": 390,
    "start_time": "2022-05-11T11:28:27.463Z"
   },
   {
    "duration": 6,
    "start_time": "2022-05-11T11:28:27.856Z"
   },
   {
    "duration": 31,
    "start_time": "2022-05-11T11:28:27.881Z"
   },
   {
    "duration": 23,
    "start_time": "2022-05-11T11:28:27.914Z"
   },
   {
    "duration": 12,
    "start_time": "2022-05-11T11:28:27.939Z"
   },
   {
    "duration": 124050,
    "start_time": "2022-05-11T11:28:27.953Z"
   },
   {
    "duration": 268,
    "start_time": "2022-05-11T11:30:32.005Z"
   },
   {
    "duration": 3131,
    "start_time": "2022-05-11T11:30:32.276Z"
   },
   {
    "duration": 53,
    "start_time": "2022-05-11T11:30:35.409Z"
   },
   {
    "duration": 0,
    "start_time": "2022-05-11T11:30:35.465Z"
   },
   {
    "duration": 1,
    "start_time": "2022-05-11T11:30:35.466Z"
   },
   {
    "duration": 0,
    "start_time": "2022-05-11T11:30:35.468Z"
   },
   {
    "duration": 22,
    "start_time": "2022-05-11T11:50:42.839Z"
   },
   {
    "duration": 8,
    "start_time": "2022-05-11T11:53:46.185Z"
   },
   {
    "duration": 29,
    "start_time": "2022-05-11T11:54:28.632Z"
   },
   {
    "duration": 23,
    "start_time": "2022-05-11T11:54:49.150Z"
   },
   {
    "duration": 14,
    "start_time": "2022-05-11T11:54:58.225Z"
   },
   {
    "duration": 9,
    "start_time": "2022-05-11T11:55:01.874Z"
   },
   {
    "duration": 585,
    "start_time": "2022-05-11T11:56:28.809Z"
   },
   {
    "duration": 8,
    "start_time": "2022-05-11T11:57:49.097Z"
   },
   {
    "duration": 14,
    "start_time": "2022-05-11T11:58:48.875Z"
   },
   {
    "duration": 6,
    "start_time": "2022-05-11T11:59:27.629Z"
   },
   {
    "duration": 12,
    "start_time": "2022-05-11T11:59:41.150Z"
   },
   {
    "duration": 1985,
    "start_time": "2022-05-11T11:59:49.103Z"
   },
   {
    "duration": 47,
    "start_time": "2022-05-11T11:59:51.091Z"
   },
   {
    "duration": 18,
    "start_time": "2022-05-11T11:59:51.140Z"
   },
   {
    "duration": 22,
    "start_time": "2022-05-11T11:59:51.162Z"
   },
   {
    "duration": 23,
    "start_time": "2022-05-11T11:59:51.187Z"
   },
   {
    "duration": 28,
    "start_time": "2022-05-11T11:59:51.213Z"
   },
   {
    "duration": 38,
    "start_time": "2022-05-11T11:59:51.244Z"
   },
   {
    "duration": 1582,
    "start_time": "2022-05-11T11:59:51.285Z"
   },
   {
    "duration": 585,
    "start_time": "2022-05-11T11:59:52.870Z"
   },
   {
    "duration": 21,
    "start_time": "2022-05-11T11:59:53.461Z"
   },
   {
    "duration": 422,
    "start_time": "2022-05-11T11:59:53.485Z"
   },
   {
    "duration": 9,
    "start_time": "2022-05-11T11:59:53.910Z"
   },
   {
    "duration": 17,
    "start_time": "2022-05-11T11:59:53.921Z"
   },
   {
    "duration": 14,
    "start_time": "2022-05-11T11:59:53.940Z"
   },
   {
    "duration": 953,
    "start_time": "2022-05-11T11:59:53.957Z"
   },
   {
    "duration": 477,
    "start_time": "2022-05-11T11:59:54.913Z"
   },
   {
    "duration": 379,
    "start_time": "2022-05-11T11:59:55.392Z"
   },
   {
    "duration": 10,
    "start_time": "2022-05-11T11:59:55.773Z"
   },
   {
    "duration": 31,
    "start_time": "2022-05-11T11:59:55.786Z"
   },
   {
    "duration": 1009,
    "start_time": "2022-05-11T11:59:55.819Z"
   },
   {
    "duration": 19,
    "start_time": "2022-05-11T11:59:56.831Z"
   },
   {
    "duration": 29,
    "start_time": "2022-05-11T11:59:56.853Z"
   },
   {
    "duration": 330,
    "start_time": "2022-05-11T11:59:56.885Z"
   },
   {
    "duration": 10,
    "start_time": "2022-05-11T12:02:09.811Z"
   },
   {
    "duration": 22,
    "start_time": "2022-05-11T12:02:10.770Z"
   },
   {
    "duration": 15,
    "start_time": "2022-05-11T12:02:54.986Z"
   },
   {
    "duration": 14,
    "start_time": "2022-05-11T12:05:03.295Z"
   },
   {
    "duration": 2202,
    "start_time": "2022-05-11T12:05:10.881Z"
   },
   {
    "duration": 46,
    "start_time": "2022-05-11T12:05:13.086Z"
   },
   {
    "duration": 22,
    "start_time": "2022-05-11T12:05:13.134Z"
   },
   {
    "duration": 5,
    "start_time": "2022-05-11T12:05:13.159Z"
   },
   {
    "duration": 34,
    "start_time": "2022-05-11T12:05:13.168Z"
   },
   {
    "duration": 18,
    "start_time": "2022-05-11T12:05:13.205Z"
   },
   {
    "duration": 6,
    "start_time": "2022-05-11T12:05:13.225Z"
   },
   {
    "duration": 994,
    "start_time": "2022-05-11T12:05:13.233Z"
   },
   {
    "duration": 336,
    "start_time": "2022-05-11T12:05:14.229Z"
   },
   {
    "duration": 14,
    "start_time": "2022-05-11T12:05:14.569Z"
   },
   {
    "duration": 422,
    "start_time": "2022-05-11T12:05:14.585Z"
   },
   {
    "duration": 10,
    "start_time": "2022-05-11T12:05:15.010Z"
   },
   {
    "duration": 11,
    "start_time": "2022-05-11T12:05:15.023Z"
   },
   {
    "duration": 23,
    "start_time": "2022-05-11T12:05:15.036Z"
   },
   {
    "duration": 969,
    "start_time": "2022-05-11T12:05:15.082Z"
   },
   {
    "duration": 482,
    "start_time": "2022-05-11T12:05:16.053Z"
   },
   {
    "duration": 363,
    "start_time": "2022-05-11T12:05:16.537Z"
   },
   {
    "duration": 5,
    "start_time": "2022-05-11T12:05:16.903Z"
   },
   {
    "duration": 31,
    "start_time": "2022-05-11T12:05:16.910Z"
   },
   {
    "duration": 695,
    "start_time": "2022-05-11T12:05:16.944Z"
   },
   {
    "duration": 14,
    "start_time": "2022-05-11T12:05:17.641Z"
   },
   {
    "duration": 28,
    "start_time": "2022-05-11T12:05:17.657Z"
   },
   {
    "duration": 194,
    "start_time": "2022-05-11T12:05:17.688Z"
   },
   {
    "duration": 4426,
    "start_time": "2022-05-11T12:05:17.884Z"
   },
   {
    "duration": 174,
    "start_time": "2022-05-11T12:06:40.650Z"
   },
   {
    "duration": 7,
    "start_time": "2022-05-11T12:07:22.672Z"
   },
   {
    "duration": 2145,
    "start_time": "2022-05-11T12:07:30.264Z"
   },
   {
    "duration": 46,
    "start_time": "2022-05-11T12:07:32.412Z"
   },
   {
    "duration": 22,
    "start_time": "2022-05-11T12:07:32.461Z"
   },
   {
    "duration": 5,
    "start_time": "2022-05-11T12:07:32.486Z"
   },
   {
    "duration": 25,
    "start_time": "2022-05-11T12:07:32.493Z"
   },
   {
    "duration": 20,
    "start_time": "2022-05-11T12:07:32.521Z"
   },
   {
    "duration": 39,
    "start_time": "2022-05-11T12:07:32.544Z"
   },
   {
    "duration": 986,
    "start_time": "2022-05-11T12:07:32.586Z"
   },
   {
    "duration": 350,
    "start_time": "2022-05-11T12:07:33.575Z"
   },
   {
    "duration": 7,
    "start_time": "2022-05-11T12:07:33.931Z"
   },
   {
    "duration": 437,
    "start_time": "2022-05-11T12:07:33.941Z"
   },
   {
    "duration": 11,
    "start_time": "2022-05-11T12:07:34.383Z"
   },
   {
    "duration": 12,
    "start_time": "2022-05-11T12:07:34.398Z"
   },
   {
    "duration": 14,
    "start_time": "2022-05-11T12:07:34.413Z"
   },
   {
    "duration": 1463,
    "start_time": "2022-05-11T12:07:34.431Z"
   },
   {
    "duration": 429,
    "start_time": "2022-05-11T12:07:35.896Z"
   },
   {
    "duration": 342,
    "start_time": "2022-05-11T12:07:36.327Z"
   },
   {
    "duration": 14,
    "start_time": "2022-05-11T12:07:36.671Z"
   },
   {
    "duration": 32,
    "start_time": "2022-05-11T12:07:36.687Z"
   },
   {
    "duration": 692,
    "start_time": "2022-05-11T12:07:36.721Z"
   },
   {
    "duration": 14,
    "start_time": "2022-05-11T12:07:37.415Z"
   },
   {
    "duration": 9,
    "start_time": "2022-05-11T12:07:37.431Z"
   },
   {
    "duration": 53,
    "start_time": "2022-05-11T12:07:37.442Z"
   },
   {
    "duration": 4816,
    "start_time": "2022-05-11T12:07:37.584Z"
   },
   {
    "duration": 288,
    "start_time": "2022-05-11T12:07:42.402Z"
   },
   {
    "duration": 978,
    "start_time": "2022-05-11T12:08:19.374Z"
   },
   {
    "duration": 175,
    "start_time": "2022-05-11T12:09:02.272Z"
   },
   {
    "duration": 95,
    "start_time": "2022-05-11T12:10:15.051Z"
   },
   {
    "duration": 2031,
    "start_time": "2022-05-11T12:10:43.475Z"
   },
   {
    "duration": 42,
    "start_time": "2022-05-11T12:10:45.509Z"
   },
   {
    "duration": 31,
    "start_time": "2022-05-11T12:10:45.553Z"
   },
   {
    "duration": 5,
    "start_time": "2022-05-11T12:10:45.588Z"
   },
   {
    "duration": 17,
    "start_time": "2022-05-11T12:10:45.596Z"
   },
   {
    "duration": 20,
    "start_time": "2022-05-11T12:10:45.615Z"
   },
   {
    "duration": 46,
    "start_time": "2022-05-11T12:10:45.637Z"
   },
   {
    "duration": 1000,
    "start_time": "2022-05-11T12:10:45.686Z"
   },
   {
    "duration": 353,
    "start_time": "2022-05-11T12:10:46.689Z"
   },
   {
    "duration": 7,
    "start_time": "2022-05-11T12:10:47.046Z"
   },
   {
    "duration": 436,
    "start_time": "2022-05-11T12:10:47.056Z"
   },
   {
    "duration": 10,
    "start_time": "2022-05-11T12:10:47.494Z"
   },
   {
    "duration": 13,
    "start_time": "2022-05-11T12:10:47.506Z"
   },
   {
    "duration": 10,
    "start_time": "2022-05-11T12:10:47.521Z"
   },
   {
    "duration": 1430,
    "start_time": "2022-05-11T12:10:47.533Z"
   },
   {
    "duration": 482,
    "start_time": "2022-05-11T12:10:48.966Z"
   },
   {
    "duration": 383,
    "start_time": "2022-05-11T12:10:49.450Z"
   },
   {
    "duration": 6,
    "start_time": "2022-05-11T12:10:49.835Z"
   },
   {
    "duration": 46,
    "start_time": "2022-05-11T12:10:49.843Z"
   },
   {
    "duration": 699,
    "start_time": "2022-05-11T12:10:49.892Z"
   },
   {
    "duration": 14,
    "start_time": "2022-05-11T12:10:50.593Z"
   },
   {
    "duration": 9,
    "start_time": "2022-05-11T12:10:50.609Z"
   },
   {
    "duration": 165,
    "start_time": "2022-05-11T12:10:50.620Z"
   },
   {
    "duration": 4936,
    "start_time": "2022-05-11T12:10:50.787Z"
   },
   {
    "duration": 6269,
    "start_time": "2022-05-11T12:10:55.725Z"
   },
   {
    "duration": 1046,
    "start_time": "2022-05-11T12:11:01.997Z"
   },
   {
    "duration": 138,
    "start_time": "2022-05-11T12:11:03.045Z"
   },
   {
    "duration": 173,
    "start_time": "2022-05-11T12:13:48.705Z"
   },
   {
    "duration": 47,
    "start_time": "2022-05-11T12:14:56.734Z"
   },
   {
    "duration": 15,
    "start_time": "2022-05-11T12:15:04.025Z"
   },
   {
    "duration": 4764,
    "start_time": "2022-05-11T12:16:29.145Z"
   },
   {
    "duration": 8,
    "start_time": "2022-05-11T12:18:03.549Z"
   },
   {
    "duration": 7,
    "start_time": "2022-05-11T12:20:27.329Z"
   },
   {
    "duration": 8,
    "start_time": "2022-05-11T12:34:22.814Z"
   },
   {
    "duration": 17,
    "start_time": "2022-05-11T12:34:42.609Z"
   },
   {
    "duration": 10,
    "start_time": "2022-05-11T12:35:54.101Z"
   },
   {
    "duration": 59,
    "start_time": "2022-05-11T12:36:37.841Z"
   },
   {
    "duration": 9,
    "start_time": "2022-05-11T12:44:58.034Z"
   },
   {
    "duration": 1989,
    "start_time": "2022-05-11T12:47:00.706Z"
   },
   {
    "duration": 42,
    "start_time": "2022-05-11T12:47:02.698Z"
   },
   {
    "duration": 16,
    "start_time": "2022-05-11T12:47:02.742Z"
   },
   {
    "duration": 21,
    "start_time": "2022-05-11T12:47:02.761Z"
   },
   {
    "duration": 17,
    "start_time": "2022-05-11T12:47:02.784Z"
   },
   {
    "duration": 17,
    "start_time": "2022-05-11T12:47:02.803Z"
   },
   {
    "duration": 5,
    "start_time": "2022-05-11T12:47:02.822Z"
   },
   {
    "duration": 1004,
    "start_time": "2022-05-11T12:47:02.829Z"
   },
   {
    "duration": 349,
    "start_time": "2022-05-11T12:47:03.835Z"
   },
   {
    "duration": 7,
    "start_time": "2022-05-11T12:47:04.188Z"
   },
   {
    "duration": 432,
    "start_time": "2022-05-11T12:47:04.197Z"
   },
   {
    "duration": 9,
    "start_time": "2022-05-11T12:47:04.631Z"
   },
   {
    "duration": 9,
    "start_time": "2022-05-11T12:47:04.642Z"
   },
   {
    "duration": 33,
    "start_time": "2022-05-11T12:47:04.653Z"
   },
   {
    "duration": 942,
    "start_time": "2022-05-11T12:47:04.688Z"
   },
   {
    "duration": 479,
    "start_time": "2022-05-11T12:47:05.633Z"
   },
   {
    "duration": 357,
    "start_time": "2022-05-11T12:47:06.115Z"
   },
   {
    "duration": 7,
    "start_time": "2022-05-11T12:47:06.482Z"
   },
   {
    "duration": 32,
    "start_time": "2022-05-11T12:47:06.492Z"
   },
   {
    "duration": 704,
    "start_time": "2022-05-11T12:47:06.526Z"
   },
   {
    "duration": 14,
    "start_time": "2022-05-11T12:47:07.232Z"
   },
   {
    "duration": 9,
    "start_time": "2022-05-11T12:47:07.247Z"
   },
   {
    "duration": 24,
    "start_time": "2022-05-11T12:47:07.283Z"
   },
   {
    "duration": 4663,
    "start_time": "2022-05-11T12:47:07.385Z"
   },
   {
    "duration": 243,
    "start_time": "2022-05-11T12:47:12.050Z"
   },
   {
    "duration": 1091,
    "start_time": "2022-05-11T12:47:12.295Z"
   },
   {
    "duration": 194,
    "start_time": "2022-05-11T12:47:13.388Z"
   },
   {
    "duration": 95,
    "start_time": "2022-05-11T12:47:13.588Z"
   },
   {
    "duration": 64,
    "start_time": "2022-05-11T12:47:13.685Z"
   },
   {
    "duration": 6,
    "start_time": "2022-05-11T12:48:41.298Z"
   },
   {
    "duration": 2098,
    "start_time": "2022-05-11T12:48:49.850Z"
   },
   {
    "duration": 45,
    "start_time": "2022-05-11T12:48:51.951Z"
   },
   {
    "duration": 16,
    "start_time": "2022-05-11T12:48:51.998Z"
   },
   {
    "duration": 5,
    "start_time": "2022-05-11T12:48:52.017Z"
   },
   {
    "duration": 21,
    "start_time": "2022-05-11T12:48:52.024Z"
   },
   {
    "duration": 43,
    "start_time": "2022-05-11T12:48:52.047Z"
   },
   {
    "duration": 5,
    "start_time": "2022-05-11T12:48:52.092Z"
   },
   {
    "duration": 986,
    "start_time": "2022-05-11T12:48:52.099Z"
   },
   {
    "duration": 344,
    "start_time": "2022-05-11T12:48:53.087Z"
   },
   {
    "duration": 7,
    "start_time": "2022-05-11T12:48:53.435Z"
   },
   {
    "duration": 428,
    "start_time": "2022-05-11T12:48:53.443Z"
   },
   {
    "duration": 13,
    "start_time": "2022-05-11T12:48:53.873Z"
   },
   {
    "duration": 11,
    "start_time": "2022-05-11T12:48:53.887Z"
   },
   {
    "duration": 14,
    "start_time": "2022-05-11T12:48:53.900Z"
   },
   {
    "duration": 929,
    "start_time": "2022-05-11T12:48:53.917Z"
   },
   {
    "duration": 487,
    "start_time": "2022-05-11T12:48:54.849Z"
   },
   {
    "duration": 343,
    "start_time": "2022-05-11T12:48:55.339Z"
   },
   {
    "duration": 6,
    "start_time": "2022-05-11T12:48:55.684Z"
   },
   {
    "duration": 30,
    "start_time": "2022-05-11T12:48:55.693Z"
   },
   {
    "duration": 729,
    "start_time": "2022-05-11T12:48:55.725Z"
   },
   {
    "duration": 26,
    "start_time": "2022-05-11T12:48:56.456Z"
   },
   {
    "duration": 59,
    "start_time": "2022-05-11T12:48:56.489Z"
   },
   {
    "duration": 32,
    "start_time": "2022-05-11T12:48:56.550Z"
   },
   {
    "duration": 4659,
    "start_time": "2022-05-11T12:48:56.586Z"
   },
   {
    "duration": 339,
    "start_time": "2022-05-11T12:49:01.247Z"
   },
   {
    "duration": 1200,
    "start_time": "2022-05-11T12:49:01.588Z"
   },
   {
    "duration": 201,
    "start_time": "2022-05-11T12:49:02.790Z"
   },
   {
    "duration": 12,
    "start_time": "2022-05-11T12:49:03.083Z"
   },
   {
    "duration": 61,
    "start_time": "2022-05-11T12:49:03.182Z"
   },
   {
    "duration": 69930,
    "start_time": "2022-05-11T21:13:45.622Z"
   },
   {
    "duration": 40,
    "start_time": "2022-05-11T21:14:55.555Z"
   },
   {
    "duration": 16,
    "start_time": "2022-05-11T21:14:55.597Z"
   },
   {
    "duration": 27,
    "start_time": "2022-05-11T21:14:55.617Z"
   },
   {
    "duration": 21,
    "start_time": "2022-05-11T21:14:55.646Z"
   },
   {
    "duration": 27,
    "start_time": "2022-05-11T21:14:55.669Z"
   },
   {
    "duration": 14,
    "start_time": "2022-05-11T21:14:55.698Z"
   },
   {
    "duration": 960,
    "start_time": "2022-05-11T21:14:55.714Z"
   },
   {
    "duration": 342,
    "start_time": "2022-05-11T21:14:56.676Z"
   },
   {
    "duration": 60,
    "start_time": "2022-05-12T12:21:30.421Z"
   },
   {
    "duration": 2103,
    "start_time": "2022-05-12T12:21:43.314Z"
   },
   {
    "duration": 53,
    "start_time": "2022-05-12T12:21:45.420Z"
   },
   {
    "duration": 21,
    "start_time": "2022-05-12T12:21:45.476Z"
   },
   {
    "duration": 5,
    "start_time": "2022-05-12T12:21:45.500Z"
   },
   {
    "duration": 31,
    "start_time": "2022-05-12T12:21:45.508Z"
   },
   {
    "duration": 22,
    "start_time": "2022-05-12T12:21:45.545Z"
   },
   {
    "duration": 12,
    "start_time": "2022-05-12T12:21:45.570Z"
   },
   {
    "duration": 827,
    "start_time": "2022-05-12T12:21:45.585Z"
   },
   {
    "duration": 279,
    "start_time": "2022-05-12T12:21:46.414Z"
   },
   {
    "duration": 6,
    "start_time": "2022-05-12T12:21:46.697Z"
   },
   {
    "duration": 353,
    "start_time": "2022-05-12T12:21:46.705Z"
   },
   {
    "duration": 7,
    "start_time": "2022-05-12T12:21:47.060Z"
   },
   {
    "duration": 26,
    "start_time": "2022-05-12T12:21:47.068Z"
   },
   {
    "duration": 12,
    "start_time": "2022-05-12T12:21:47.096Z"
   },
   {
    "duration": 776,
    "start_time": "2022-05-12T12:21:47.110Z"
   },
   {
    "duration": 347,
    "start_time": "2022-05-12T12:21:47.888Z"
   },
   {
    "duration": 362,
    "start_time": "2022-05-12T12:21:48.237Z"
   },
   {
    "duration": 4,
    "start_time": "2022-05-12T12:21:48.602Z"
   },
   {
    "duration": 46,
    "start_time": "2022-05-12T12:21:48.608Z"
   },
   {
    "duration": 412,
    "start_time": "2022-05-12T12:21:48.656Z"
   },
   {
    "duration": 12,
    "start_time": "2022-05-12T12:21:49.070Z"
   },
   {
    "duration": 7,
    "start_time": "2022-05-12T12:21:49.084Z"
   },
   {
    "duration": 49,
    "start_time": "2022-05-12T12:21:49.092Z"
   },
   {
    "duration": 4248,
    "start_time": "2022-05-12T12:21:49.147Z"
   },
   {
    "duration": 80848,
    "start_time": "2022-05-12T12:21:53.397Z"
   },
   {
    "duration": 1550,
    "start_time": "2022-05-12T12:23:14.254Z"
   },
   {
    "duration": 146,
    "start_time": "2022-05-12T12:23:15.806Z"
   },
   {
    "duration": 182,
    "start_time": "2022-05-12T12:23:15.963Z"
   },
   {
    "duration": 372,
    "start_time": "2022-05-12T12:23:16.152Z"
   },
   {
    "duration": 364,
    "start_time": "2022-05-12T12:30:01.850Z"
   },
   {
    "duration": 401,
    "start_time": "2022-05-12T12:36:21.067Z"
   },
   {
    "duration": 1789,
    "start_time": "2022-05-12T12:36:43.900Z"
   },
   {
    "duration": 52,
    "start_time": "2022-05-12T12:36:45.692Z"
   },
   {
    "duration": 17,
    "start_time": "2022-05-12T12:36:45.746Z"
   },
   {
    "duration": 4,
    "start_time": "2022-05-12T12:36:45.765Z"
   },
   {
    "duration": 14,
    "start_time": "2022-05-12T12:36:45.771Z"
   },
   {
    "duration": 16,
    "start_time": "2022-05-12T12:36:45.787Z"
   },
   {
    "duration": 9,
    "start_time": "2022-05-12T12:36:45.836Z"
   },
   {
    "duration": 805,
    "start_time": "2022-05-12T12:36:45.847Z"
   },
   {
    "duration": 267,
    "start_time": "2022-05-12T12:36:46.655Z"
   },
   {
    "duration": 17,
    "start_time": "2022-05-12T12:36:46.925Z"
   },
   {
    "duration": 323,
    "start_time": "2022-05-12T12:36:46.945Z"
   },
   {
    "duration": 7,
    "start_time": "2022-05-12T12:36:47.269Z"
   },
   {
    "duration": 11,
    "start_time": "2022-05-12T12:36:47.278Z"
   },
   {
    "duration": 10,
    "start_time": "2022-05-12T12:36:47.292Z"
   },
   {
    "duration": 736,
    "start_time": "2022-05-12T12:36:47.304Z"
   },
   {
    "duration": 396,
    "start_time": "2022-05-12T12:36:48.045Z"
   },
   {
    "duration": 291,
    "start_time": "2022-05-12T12:36:48.443Z"
   },
   {
    "duration": 8,
    "start_time": "2022-05-12T12:36:48.737Z"
   },
   {
    "duration": 46,
    "start_time": "2022-05-12T12:36:48.748Z"
   },
   {
    "duration": 494,
    "start_time": "2022-05-12T12:36:48.797Z"
   },
   {
    "duration": 13,
    "start_time": "2022-05-12T12:36:49.293Z"
   },
   {
    "duration": 28,
    "start_time": "2022-05-12T12:36:49.309Z"
   },
   {
    "duration": 107,
    "start_time": "2022-05-12T12:36:49.339Z"
   },
   {
    "duration": 4100,
    "start_time": "2022-05-12T12:36:49.448Z"
   },
   {
    "duration": 67191,
    "start_time": "2022-05-12T12:36:53.550Z"
   },
   {
    "duration": 1661,
    "start_time": "2022-05-12T12:38:00.749Z"
   },
   {
    "duration": 48,
    "start_time": "2022-05-12T12:38:02.412Z"
   },
   {
    "duration": 111,
    "start_time": "2022-05-12T12:38:02.537Z"
   },
   {
    "duration": 426,
    "start_time": "2022-05-12T12:38:02.651Z"
   },
   {
    "duration": 427,
    "start_time": "2022-05-12T12:39:24.791Z"
   },
   {
    "duration": 684,
    "start_time": "2022-05-12T12:39:33.851Z"
   },
   {
    "duration": 1793,
    "start_time": "2022-05-12T12:39:44.387Z"
   },
   {
    "duration": 3608,
    "start_time": "2022-05-12T12:39:53.817Z"
   },
   {
    "duration": 369,
    "start_time": "2022-05-12T12:40:03.052Z"
   },
   {
    "duration": 62,
    "start_time": "2022-05-12T12:40:07.565Z"
   },
   {
    "duration": 3553,
    "start_time": "2022-05-12T12:40:12.298Z"
   },
   {
    "duration": 1717,
    "start_time": "2022-05-12T12:41:01.882Z"
   },
   {
    "duration": 44,
    "start_time": "2022-05-12T12:41:03.602Z"
   },
   {
    "duration": 15,
    "start_time": "2022-05-12T12:41:03.648Z"
   },
   {
    "duration": 4,
    "start_time": "2022-05-12T12:41:03.665Z"
   },
   {
    "duration": 17,
    "start_time": "2022-05-12T12:41:03.671Z"
   },
   {
    "duration": 17,
    "start_time": "2022-05-12T12:41:03.691Z"
   },
   {
    "duration": 37,
    "start_time": "2022-05-12T12:41:03.710Z"
   },
   {
    "duration": 811,
    "start_time": "2022-05-12T12:41:03.748Z"
   },
   {
    "duration": 255,
    "start_time": "2022-05-12T12:41:04.561Z"
   },
   {
    "duration": 6,
    "start_time": "2022-05-12T12:41:04.818Z"
   },
   {
    "duration": 329,
    "start_time": "2022-05-12T12:41:04.836Z"
   },
   {
    "duration": 7,
    "start_time": "2022-05-12T12:41:05.167Z"
   },
   {
    "duration": 15,
    "start_time": "2022-05-12T12:41:05.177Z"
   },
   {
    "duration": 11,
    "start_time": "2022-05-12T12:41:05.197Z"
   },
   {
    "duration": 721,
    "start_time": "2022-05-12T12:41:05.236Z"
   },
   {
    "duration": 365,
    "start_time": "2022-05-12T12:41:05.959Z"
   },
   {
    "duration": 274,
    "start_time": "2022-05-12T12:41:06.326Z"
   },
   {
    "duration": 5,
    "start_time": "2022-05-12T12:41:06.603Z"
   },
   {
    "duration": 23,
    "start_time": "2022-05-12T12:41:06.635Z"
   },
   {
    "duration": 496,
    "start_time": "2022-05-12T12:41:06.661Z"
   },
   {
    "duration": 11,
    "start_time": "2022-05-12T12:41:07.159Z"
   },
   {
    "duration": 7,
    "start_time": "2022-05-12T12:41:07.172Z"
   },
   {
    "duration": 155,
    "start_time": "2022-05-12T12:41:07.180Z"
   },
   {
    "duration": 3915,
    "start_time": "2022-05-12T12:41:07.337Z"
   },
   {
    "duration": 66192,
    "start_time": "2022-05-12T12:41:11.254Z"
   },
   {
    "duration": 1952,
    "start_time": "2022-05-12T12:42:17.449Z"
   },
   {
    "duration": 144,
    "start_time": "2022-05-12T12:42:19.403Z"
   },
   {
    "duration": 88,
    "start_time": "2022-05-12T12:42:19.551Z"
   },
   {
    "duration": 3677,
    "start_time": "2022-05-12T12:42:19.648Z"
   },
   {
    "duration": 454,
    "start_time": "2022-05-12T12:42:23.329Z"
   },
   {
    "duration": 388,
    "start_time": "2022-05-12T12:46:19.924Z"
   },
   {
    "duration": 272,
    "start_time": "2022-05-12T12:52:56.314Z"
   },
   {
    "duration": 247,
    "start_time": "2022-05-12T13:00:08.868Z"
   },
   {
    "duration": 1976,
    "start_time": "2022-05-12T13:00:24.760Z"
   },
   {
    "duration": 51,
    "start_time": "2022-05-12T13:00:26.738Z"
   },
   {
    "duration": 15,
    "start_time": "2022-05-12T13:00:26.791Z"
   },
   {
    "duration": 4,
    "start_time": "2022-05-12T13:00:26.809Z"
   },
   {
    "duration": 14,
    "start_time": "2022-05-12T13:00:26.815Z"
   },
   {
    "duration": 47,
    "start_time": "2022-05-12T13:00:26.832Z"
   },
   {
    "duration": 5,
    "start_time": "2022-05-12T13:00:26.880Z"
   },
   {
    "duration": 841,
    "start_time": "2022-05-12T13:00:26.886Z"
   },
   {
    "duration": 321,
    "start_time": "2022-05-12T13:00:27.733Z"
   },
   {
    "duration": 9,
    "start_time": "2022-05-12T13:00:28.057Z"
   },
   {
    "duration": 426,
    "start_time": "2022-05-12T13:00:28.070Z"
   },
   {
    "duration": 7,
    "start_time": "2022-05-12T13:00:28.498Z"
   },
   {
    "duration": 12,
    "start_time": "2022-05-12T13:00:28.508Z"
   },
   {
    "duration": 13,
    "start_time": "2022-05-12T13:00:28.538Z"
   },
   {
    "duration": 818,
    "start_time": "2022-05-12T13:00:28.553Z"
   },
   {
    "duration": 372,
    "start_time": "2022-05-12T13:00:29.373Z"
   },
   {
    "duration": 324,
    "start_time": "2022-05-12T13:00:29.747Z"
   },
   {
    "duration": 5,
    "start_time": "2022-05-12T13:00:30.074Z"
   },
   {
    "duration": 30,
    "start_time": "2022-05-12T13:00:30.081Z"
   },
   {
    "duration": 533,
    "start_time": "2022-05-12T13:00:30.113Z"
   },
   {
    "duration": 15,
    "start_time": "2022-05-12T13:00:30.649Z"
   },
   {
    "duration": 10,
    "start_time": "2022-05-12T13:00:30.666Z"
   },
   {
    "duration": 168,
    "start_time": "2022-05-12T13:00:30.678Z"
   },
   {
    "duration": 3993,
    "start_time": "2022-05-12T13:00:30.853Z"
   },
   {
    "duration": 69416,
    "start_time": "2022-05-12T13:00:34.849Z"
   },
   {
    "duration": 1651,
    "start_time": "2022-05-12T13:01:44.270Z"
   },
   {
    "duration": 242,
    "start_time": "2022-05-12T13:01:45.923Z"
   },
   {
    "duration": 66,
    "start_time": "2022-05-12T13:01:46.176Z"
   },
   {
    "duration": 443,
    "start_time": "2022-05-12T13:01:46.248Z"
   },
   {
    "duration": 436,
    "start_time": "2022-05-12T13:01:46.693Z"
   },
   {
    "duration": 2028,
    "start_time": "2022-05-12T13:02:18.918Z"
   },
   {
    "duration": 53,
    "start_time": "2022-05-12T13:02:20.949Z"
   },
   {
    "duration": 19,
    "start_time": "2022-05-12T13:02:21.004Z"
   },
   {
    "duration": 17,
    "start_time": "2022-05-12T13:02:21.026Z"
   },
   {
    "duration": 47,
    "start_time": "2022-05-12T13:02:21.046Z"
   },
   {
    "duration": 21,
    "start_time": "2022-05-12T13:02:21.095Z"
   },
   {
    "duration": 6,
    "start_time": "2022-05-12T13:02:21.119Z"
   },
   {
    "duration": 960,
    "start_time": "2022-05-12T13:02:21.127Z"
   },
   {
    "duration": 308,
    "start_time": "2022-05-12T13:02:22.089Z"
   },
   {
    "duration": 7,
    "start_time": "2022-05-12T13:02:22.400Z"
   },
   {
    "duration": 487,
    "start_time": "2022-05-12T13:02:22.409Z"
   },
   {
    "duration": 8,
    "start_time": "2022-05-12T13:02:22.899Z"
   },
   {
    "duration": 39,
    "start_time": "2022-05-12T13:02:22.910Z"
   },
   {
    "duration": 27,
    "start_time": "2022-05-12T13:02:22.952Z"
   },
   {
    "duration": 759,
    "start_time": "2022-05-12T13:02:22.981Z"
   },
   {
    "duration": 423,
    "start_time": "2022-05-12T13:02:23.742Z"
   },
   {
    "duration": 340,
    "start_time": "2022-05-12T13:02:24.168Z"
   },
   {
    "duration": 6,
    "start_time": "2022-05-12T13:02:24.511Z"
   },
   {
    "duration": 70,
    "start_time": "2022-05-12T13:02:24.520Z"
   },
   {
    "duration": 615,
    "start_time": "2022-05-12T13:02:24.592Z"
   },
   {
    "duration": 33,
    "start_time": "2022-05-12T13:02:25.209Z"
   },
   {
    "duration": 40,
    "start_time": "2022-05-12T13:02:25.245Z"
   },
   {
    "duration": 29,
    "start_time": "2022-05-12T13:02:25.287Z"
   },
   {
    "duration": 4798,
    "start_time": "2022-05-12T13:02:25.352Z"
   },
   {
    "duration": 76787,
    "start_time": "2022-05-12T13:02:30.152Z"
   },
   {
    "duration": 1738,
    "start_time": "2022-05-12T13:03:46.943Z"
   },
   {
    "duration": 265,
    "start_time": "2022-05-12T13:03:48.685Z"
   },
   {
    "duration": 69,
    "start_time": "2022-05-12T13:03:48.983Z"
   },
   {
    "duration": 521,
    "start_time": "2022-05-12T13:03:49.061Z"
   },
   {
    "duration": 482,
    "start_time": "2022-05-12T13:03:49.585Z"
   },
   {
    "duration": 19,
    "start_time": "2022-05-12T13:08:00.518Z"
   },
   {
    "duration": 1973,
    "start_time": "2022-05-12T13:08:12.921Z"
   },
   {
    "duration": 259,
    "start_time": "2022-05-12T13:08:14.897Z"
   },
   {
    "duration": 15,
    "start_time": "2022-05-12T13:08:15.158Z"
   },
   {
    "duration": 17,
    "start_time": "2022-05-12T13:08:15.177Z"
   },
   {
    "duration": 28,
    "start_time": "2022-05-12T13:08:15.196Z"
   },
   {
    "duration": 63,
    "start_time": "2022-05-12T13:08:15.226Z"
   },
   {
    "duration": 6,
    "start_time": "2022-05-12T13:08:15.291Z"
   },
   {
    "duration": 896,
    "start_time": "2022-05-12T13:08:15.298Z"
   },
   {
    "duration": 289,
    "start_time": "2022-05-12T13:08:16.196Z"
   },
   {
    "duration": 7,
    "start_time": "2022-05-12T13:08:16.488Z"
   },
   {
    "duration": 377,
    "start_time": "2022-05-12T13:08:16.497Z"
   },
   {
    "duration": 7,
    "start_time": "2022-05-12T13:08:16.877Z"
   },
   {
    "duration": 14,
    "start_time": "2022-05-12T13:08:16.885Z"
   },
   {
    "duration": 14,
    "start_time": "2022-05-12T13:08:16.900Z"
   },
   {
    "duration": 776,
    "start_time": "2022-05-12T13:08:16.917Z"
   },
   {
    "duration": 386,
    "start_time": "2022-05-12T13:08:17.695Z"
   },
   {
    "duration": 308,
    "start_time": "2022-05-12T13:08:18.083Z"
   },
   {
    "duration": 5,
    "start_time": "2022-05-12T13:08:18.393Z"
   },
   {
    "duration": 39,
    "start_time": "2022-05-12T13:08:18.401Z"
   },
   {
    "duration": 533,
    "start_time": "2022-05-12T13:08:18.442Z"
   },
   {
    "duration": 13,
    "start_time": "2022-05-12T13:08:18.977Z"
   },
   {
    "duration": 7,
    "start_time": "2022-05-12T13:08:18.993Z"
   },
   {
    "duration": 59,
    "start_time": "2022-05-12T13:08:19.002Z"
   },
   {
    "duration": 4399,
    "start_time": "2022-05-12T13:08:19.064Z"
   },
   {
    "duration": 71992,
    "start_time": "2022-05-12T13:08:23.467Z"
   },
   {
    "duration": 1604,
    "start_time": "2022-05-12T13:09:35.460Z"
   },
   {
    "duration": 188,
    "start_time": "2022-05-12T13:09:37.068Z"
   },
   {
    "duration": 15,
    "start_time": "2022-05-12T13:09:37.333Z"
   },
   {
    "duration": 457,
    "start_time": "2022-05-12T13:09:37.350Z"
   },
   {
    "duration": 447,
    "start_time": "2022-05-12T13:09:37.809Z"
   },
   {
    "duration": 1509,
    "start_time": "2022-05-12T13:11:44.751Z"
   },
   {
    "duration": 19,
    "start_time": "2022-05-12T13:14:17.894Z"
   },
   {
    "duration": 18,
    "start_time": "2022-05-12T13:14:42.606Z"
   },
   {
    "duration": 1850,
    "start_time": "2022-05-12T13:14:51.279Z"
   },
   {
    "duration": 65,
    "start_time": "2022-05-12T13:14:53.132Z"
   },
   {
    "duration": 14,
    "start_time": "2022-05-12T13:14:53.199Z"
   },
   {
    "duration": 7,
    "start_time": "2022-05-12T13:14:53.216Z"
   },
   {
    "duration": 22,
    "start_time": "2022-05-12T13:14:53.225Z"
   },
   {
    "duration": 30,
    "start_time": "2022-05-12T13:14:53.252Z"
   },
   {
    "duration": 5,
    "start_time": "2022-05-12T13:14:53.284Z"
   },
   {
    "duration": 840,
    "start_time": "2022-05-12T13:14:53.291Z"
   },
   {
    "duration": 278,
    "start_time": "2022-05-12T13:14:54.135Z"
   },
   {
    "duration": 6,
    "start_time": "2022-05-12T13:14:54.417Z"
   },
   {
    "duration": 365,
    "start_time": "2022-05-12T13:14:54.433Z"
   },
   {
    "duration": 9,
    "start_time": "2022-05-12T13:14:54.801Z"
   },
   {
    "duration": 27,
    "start_time": "2022-05-12T13:14:54.812Z"
   },
   {
    "duration": 32,
    "start_time": "2022-05-12T13:14:54.848Z"
   },
   {
    "duration": 700,
    "start_time": "2022-05-12T13:14:54.883Z"
   },
   {
    "duration": 370,
    "start_time": "2022-05-12T13:14:55.585Z"
   },
   {
    "duration": 322,
    "start_time": "2022-05-12T13:14:55.957Z"
   },
   {
    "duration": 4,
    "start_time": "2022-05-12T13:14:56.280Z"
   },
   {
    "duration": 29,
    "start_time": "2022-05-12T13:14:56.286Z"
   },
   {
    "duration": 529,
    "start_time": "2022-05-12T13:14:56.317Z"
   },
   {
    "duration": 17,
    "start_time": "2022-05-12T13:14:56.848Z"
   },
   {
    "duration": 18,
    "start_time": "2022-05-12T13:14:56.868Z"
   },
   {
    "duration": 62,
    "start_time": "2022-05-12T13:14:56.888Z"
   },
   {
    "duration": 4217,
    "start_time": "2022-05-12T13:14:56.951Z"
   },
   {
    "duration": 70772,
    "start_time": "2022-05-12T13:15:01.170Z"
   },
   {
    "duration": 2677,
    "start_time": "2022-05-12T13:16:11.945Z"
   },
   {
    "duration": 220,
    "start_time": "2022-05-12T13:16:14.624Z"
   },
   {
    "duration": 11,
    "start_time": "2022-05-12T13:16:14.869Z"
   },
   {
    "duration": 470,
    "start_time": "2022-05-12T13:16:14.881Z"
   },
   {
    "duration": 1404,
    "start_time": "2022-05-12T13:16:15.355Z"
   },
   {
    "duration": 144,
    "start_time": "2022-05-12T13:16:16.761Z"
   },
   {
    "duration": 0,
    "start_time": "2022-05-12T13:16:16.907Z"
   },
   {
    "duration": 409,
    "start_time": "2022-05-12T13:18:09.307Z"
   },
   {
    "duration": 380,
    "start_time": "2022-05-12T13:18:18.174Z"
   },
   {
    "duration": 150,
    "start_time": "2022-05-12T13:19:06.092Z"
   },
   {
    "duration": 72315,
    "start_time": "2022-05-12T13:19:55.162Z"
   },
   {
    "duration": 11,
    "start_time": "2022-05-12T13:24:14.428Z"
   },
   {
    "duration": 13,
    "start_time": "2022-05-12T13:24:49.456Z"
   },
   {
    "duration": 1783,
    "start_time": "2022-05-12T13:24:58.659Z"
   },
   {
    "duration": 60,
    "start_time": "2022-05-12T13:25:00.447Z"
   },
   {
    "duration": 19,
    "start_time": "2022-05-12T13:25:00.509Z"
   },
   {
    "duration": 51,
    "start_time": "2022-05-12T13:25:00.530Z"
   },
   {
    "duration": 16,
    "start_time": "2022-05-12T13:25:00.584Z"
   },
   {
    "duration": 17,
    "start_time": "2022-05-12T13:25:00.602Z"
   },
   {
    "duration": 6,
    "start_time": "2022-05-12T13:25:00.621Z"
   },
   {
    "duration": 1255,
    "start_time": "2022-05-12T13:25:00.629Z"
   },
   {
    "duration": 357,
    "start_time": "2022-05-12T13:25:01.886Z"
   },
   {
    "duration": 14,
    "start_time": "2022-05-12T13:25:02.248Z"
   },
   {
    "duration": 482,
    "start_time": "2022-05-12T13:25:02.264Z"
   },
   {
    "duration": 11,
    "start_time": "2022-05-12T13:25:02.748Z"
   },
   {
    "duration": 39,
    "start_time": "2022-05-12T13:25:02.764Z"
   },
   {
    "duration": 12,
    "start_time": "2022-05-12T13:25:02.809Z"
   },
   {
    "duration": 904,
    "start_time": "2022-05-12T13:25:02.824Z"
   },
   {
    "duration": 449,
    "start_time": "2022-05-12T13:25:03.731Z"
   },
   {
    "duration": 340,
    "start_time": "2022-05-12T13:25:04.187Z"
   },
   {
    "duration": 14,
    "start_time": "2022-05-12T13:25:04.534Z"
   },
   {
    "duration": 60,
    "start_time": "2022-05-12T13:25:04.550Z"
   },
   {
    "duration": 572,
    "start_time": "2022-05-12T13:25:04.613Z"
   },
   {
    "duration": 11,
    "start_time": "2022-05-12T13:25:05.186Z"
   },
   {
    "duration": 7,
    "start_time": "2022-05-12T13:25:05.199Z"
   },
   {
    "duration": 138,
    "start_time": "2022-05-12T13:25:05.208Z"
   },
   {
    "duration": 4440,
    "start_time": "2022-05-12T13:25:05.354Z"
   },
   {
    "duration": 72683,
    "start_time": "2022-05-12T13:25:09.796Z"
   },
   {
    "duration": 1927,
    "start_time": "2022-05-12T13:26:22.481Z"
   },
   {
    "duration": 238,
    "start_time": "2022-05-12T13:26:24.410Z"
   },
   {
    "duration": 14,
    "start_time": "2022-05-12T13:26:24.655Z"
   },
   {
    "duration": 413,
    "start_time": "2022-05-12T13:26:24.674Z"
   },
   {
    "duration": 1475,
    "start_time": "2022-05-12T13:26:25.089Z"
   },
   {
    "duration": 169,
    "start_time": "2022-05-12T13:26:26.568Z"
   },
   {
    "duration": 86934,
    "start_time": "2022-05-12T13:26:26.739Z"
   },
   {
    "duration": 82,
    "start_time": "2022-05-12T13:27:53.675Z"
   },
   {
    "duration": 492,
    "start_time": "2022-05-12T13:27:53.763Z"
   },
   {
    "duration": 1424,
    "start_time": "2022-05-12T13:30:10.185Z"
   },
   {
    "duration": 376,
    "start_time": "2022-05-12T13:30:57.530Z"
   },
   {
    "duration": 330,
    "start_time": "2022-05-12T13:47:39.973Z"
   },
   {
    "duration": 257,
    "start_time": "2022-05-12T13:48:11.233Z"
   },
   {
    "duration": 1748,
    "start_time": "2022-05-12T13:49:33.518Z"
   },
   {
    "duration": 39,
    "start_time": "2022-05-12T13:49:35.268Z"
   },
   {
    "duration": 13,
    "start_time": "2022-05-12T13:49:35.309Z"
   },
   {
    "duration": 14,
    "start_time": "2022-05-12T13:49:35.324Z"
   },
   {
    "duration": 24,
    "start_time": "2022-05-12T13:49:35.340Z"
   },
   {
    "duration": 28,
    "start_time": "2022-05-12T13:49:35.366Z"
   },
   {
    "duration": 6,
    "start_time": "2022-05-12T13:49:35.396Z"
   },
   {
    "duration": 775,
    "start_time": "2022-05-12T13:49:35.404Z"
   },
   {
    "duration": 261,
    "start_time": "2022-05-12T13:49:36.181Z"
   },
   {
    "duration": 6,
    "start_time": "2022-05-12T13:49:36.445Z"
   },
   {
    "duration": 319,
    "start_time": "2022-05-12T13:49:36.454Z"
   },
   {
    "duration": 8,
    "start_time": "2022-05-12T13:49:36.775Z"
   },
   {
    "duration": 9,
    "start_time": "2022-05-12T13:49:36.784Z"
   },
   {
    "duration": 11,
    "start_time": "2022-05-12T13:49:36.795Z"
   },
   {
    "duration": 719,
    "start_time": "2022-05-12T13:49:36.807Z"
   },
   {
    "duration": 390,
    "start_time": "2022-05-12T13:49:37.528Z"
   },
   {
    "duration": 275,
    "start_time": "2022-05-12T13:49:37.919Z"
   },
   {
    "duration": 5,
    "start_time": "2022-05-12T13:49:38.197Z"
   },
   {
    "duration": 46,
    "start_time": "2022-05-12T13:49:38.203Z"
   },
   {
    "duration": 469,
    "start_time": "2022-05-12T13:49:38.251Z"
   },
   {
    "duration": 27,
    "start_time": "2022-05-12T13:49:38.722Z"
   },
   {
    "duration": 11,
    "start_time": "2022-05-12T13:49:38.751Z"
   },
   {
    "duration": 86,
    "start_time": "2022-05-12T13:49:38.764Z"
   },
   {
    "duration": 3840,
    "start_time": "2022-05-12T13:49:38.854Z"
   },
   {
    "duration": 2248,
    "start_time": "2022-05-12T13:49:42.696Z"
   },
   {
    "duration": 1971,
    "start_time": "2022-05-12T13:49:44.949Z"
   },
   {
    "duration": 113,
    "start_time": "2022-05-12T13:49:46.922Z"
   },
   {
    "duration": 18,
    "start_time": "2022-05-12T13:49:47.133Z"
   },
   {
    "duration": 342,
    "start_time": "2022-05-12T13:49:47.153Z"
   },
   {
    "duration": 1253,
    "start_time": "2022-05-12T13:49:47.497Z"
   },
   {
    "duration": 82,
    "start_time": "2022-05-12T13:49:48.752Z"
   },
   {
    "duration": 2108,
    "start_time": "2022-05-12T13:49:48.836Z"
   },
   {
    "duration": 12,
    "start_time": "2022-05-12T13:49:50.946Z"
   },
   {
    "duration": 12,
    "start_time": "2022-05-12T13:49:50.959Z"
   },
   {
    "duration": 0,
    "start_time": "2022-05-12T13:49:50.973Z"
   },
   {
    "duration": 385,
    "start_time": "2022-05-12T13:55:12.675Z"
   },
   {
    "duration": 4,
    "start_time": "2022-05-12T13:58:57.868Z"
   },
   {
    "duration": 5,
    "start_time": "2022-05-12T13:59:30.752Z"
   },
   {
    "duration": 5,
    "start_time": "2022-05-12T14:00:28.527Z"
   },
   {
    "duration": 5,
    "start_time": "2022-05-12T14:00:41.595Z"
   },
   {
    "duration": 1609,
    "start_time": "2022-05-12T14:00:49.388Z"
   },
   {
    "duration": 50,
    "start_time": "2022-05-12T14:00:50.999Z"
   },
   {
    "duration": 12,
    "start_time": "2022-05-12T14:00:51.051Z"
   },
   {
    "duration": 8,
    "start_time": "2022-05-12T14:00:51.064Z"
   },
   {
    "duration": 11,
    "start_time": "2022-05-12T14:00:51.075Z"
   },
   {
    "duration": 15,
    "start_time": "2022-05-12T14:00:51.088Z"
   },
   {
    "duration": 5,
    "start_time": "2022-05-12T14:00:51.105Z"
   },
   {
    "duration": 792,
    "start_time": "2022-05-12T14:00:51.111Z"
   },
   {
    "duration": 251,
    "start_time": "2022-05-12T14:00:51.906Z"
   },
   {
    "duration": 5,
    "start_time": "2022-05-12T14:00:52.159Z"
   },
   {
    "duration": 310,
    "start_time": "2022-05-12T14:00:52.166Z"
   },
   {
    "duration": 8,
    "start_time": "2022-05-12T14:00:52.478Z"
   },
   {
    "duration": 21,
    "start_time": "2022-05-12T14:00:52.487Z"
   },
   {
    "duration": 13,
    "start_time": "2022-05-12T14:00:52.512Z"
   },
   {
    "duration": 689,
    "start_time": "2022-05-12T14:00:52.527Z"
   },
   {
    "duration": 371,
    "start_time": "2022-05-12T14:00:53.218Z"
   },
   {
    "duration": 288,
    "start_time": "2022-05-12T14:00:53.590Z"
   },
   {
    "duration": 4,
    "start_time": "2022-05-12T14:00:53.880Z"
   },
   {
    "duration": 30,
    "start_time": "2022-05-12T14:00:53.886Z"
   },
   {
    "duration": 486,
    "start_time": "2022-05-12T14:00:53.918Z"
   },
   {
    "duration": 10,
    "start_time": "2022-05-12T14:00:54.405Z"
   },
   {
    "duration": 52,
    "start_time": "2022-05-12T14:00:54.417Z"
   },
   {
    "duration": 64,
    "start_time": "2022-05-12T14:00:54.471Z"
   },
   {
    "duration": 3878,
    "start_time": "2022-05-12T14:00:54.536Z"
   },
   {
    "duration": 1236,
    "start_time": "2022-05-12T14:00:58.416Z"
   },
   {
    "duration": 1550,
    "start_time": "2022-05-12T14:00:59.654Z"
   },
   {
    "duration": 138,
    "start_time": "2022-05-12T14:01:01.206Z"
   },
   {
    "duration": 107,
    "start_time": "2022-05-12T14:01:01.348Z"
   },
   {
    "duration": 366,
    "start_time": "2022-05-12T14:01:01.457Z"
   },
   {
    "duration": 1290,
    "start_time": "2022-05-12T14:01:01.824Z"
   },
   {
    "duration": 26,
    "start_time": "2022-05-12T14:01:03.116Z"
   },
   {
    "duration": 1002,
    "start_time": "2022-05-12T14:01:03.152Z"
   },
   {
    "duration": 97,
    "start_time": "2022-05-12T14:01:04.156Z"
   },
   {
    "duration": 6,
    "start_time": "2022-05-12T14:01:04.255Z"
   },
   {
    "duration": 0,
    "start_time": "2022-05-12T14:01:04.263Z"
   },
   {
    "duration": 4,
    "start_time": "2022-05-12T14:01:40.250Z"
   },
   {
    "duration": 431,
    "start_time": "2022-05-12T14:07:11.604Z"
   },
   {
    "duration": 253,
    "start_time": "2022-05-12T14:08:07.063Z"
   },
   {
    "duration": 169,
    "start_time": "2022-05-12T14:13:57.677Z"
   },
   {
    "duration": 245,
    "start_time": "2022-05-12T14:14:40.910Z"
   },
   {
    "duration": 324,
    "start_time": "2022-05-12T14:15:41.654Z"
   },
   {
    "duration": 50,
    "start_time": "2022-05-13T12:46:35.992Z"
   },
   {
    "duration": 5,
    "start_time": "2022-05-13T12:52:59.733Z"
   },
   {
    "duration": 6,
    "start_time": "2022-05-13T12:54:00.548Z"
   },
   {
    "duration": 5,
    "start_time": "2022-05-13T12:54:11.821Z"
   },
   {
    "duration": 4,
    "start_time": "2022-05-13T12:54:43.084Z"
   },
   {
    "duration": 8,
    "start_time": "2022-05-13T12:55:04.191Z"
   },
   {
    "duration": 9,
    "start_time": "2022-05-13T12:55:51.128Z"
   },
   {
    "duration": 2122,
    "start_time": "2022-05-13T12:56:08.008Z"
   },
   {
    "duration": 178,
    "start_time": "2022-05-13T12:56:10.134Z"
   },
   {
    "duration": 12,
    "start_time": "2022-05-13T12:56:10.313Z"
   },
   {
    "duration": 5,
    "start_time": "2022-05-13T12:56:10.327Z"
   },
   {
    "duration": 16,
    "start_time": "2022-05-13T12:56:10.334Z"
   },
   {
    "duration": 17,
    "start_time": "2022-05-13T12:56:10.351Z"
   },
   {
    "duration": 20,
    "start_time": "2022-05-13T12:56:10.370Z"
   },
   {
    "duration": 703,
    "start_time": "2022-05-13T12:56:10.391Z"
   },
   {
    "duration": 326,
    "start_time": "2022-05-13T12:56:11.096Z"
   },
   {
    "duration": 6,
    "start_time": "2022-05-13T12:56:11.425Z"
   },
   {
    "duration": 386,
    "start_time": "2022-05-13T12:56:11.433Z"
   },
   {
    "duration": 5,
    "start_time": "2022-05-13T12:56:11.821Z"
   },
   {
    "duration": 8,
    "start_time": "2022-05-13T12:56:11.828Z"
   },
   {
    "duration": 11,
    "start_time": "2022-05-13T12:56:11.837Z"
   },
   {
    "duration": 650,
    "start_time": "2022-05-13T12:56:11.850Z"
   },
   {
    "duration": 342,
    "start_time": "2022-05-13T12:56:12.501Z"
   },
   {
    "duration": 368,
    "start_time": "2022-05-13T12:56:12.845Z"
   },
   {
    "duration": 4,
    "start_time": "2022-05-13T12:56:13.215Z"
   },
   {
    "duration": 21,
    "start_time": "2022-05-13T12:56:13.220Z"
   },
   {
    "duration": 339,
    "start_time": "2022-05-13T12:56:13.242Z"
   },
   {
    "duration": 11,
    "start_time": "2022-05-13T12:56:13.583Z"
   },
   {
    "duration": 11,
    "start_time": "2022-05-13T12:56:13.596Z"
   },
   {
    "duration": 72,
    "start_time": "2022-05-13T12:56:13.609Z"
   },
   {
    "duration": 3655,
    "start_time": "2022-05-13T12:56:13.683Z"
   },
   {
    "duration": 53843,
    "start_time": "2022-05-13T12:56:17.339Z"
   },
   {
    "duration": 1371,
    "start_time": "2022-05-13T12:57:11.187Z"
   },
   {
    "duration": 125,
    "start_time": "2022-05-13T12:57:12.560Z"
   },
   {
    "duration": 81,
    "start_time": "2022-05-13T12:57:12.696Z"
   },
   {
    "duration": 309,
    "start_time": "2022-05-13T12:57:12.779Z"
   },
   {
    "duration": 1171,
    "start_time": "2022-05-13T12:57:13.090Z"
   },
   {
    "duration": 26,
    "start_time": "2022-05-13T12:57:14.263Z"
   },
   {
    "duration": 54486,
    "start_time": "2022-05-13T12:57:14.293Z"
   },
   {
    "duration": 12,
    "start_time": "2022-05-13T12:58:08.782Z"
   },
   {
    "duration": 301,
    "start_time": "2022-05-13T12:58:08.796Z"
   },
   {
    "duration": 0,
    "start_time": "2022-05-13T12:58:09.099Z"
   },
   {
    "duration": 0,
    "start_time": "2022-05-13T12:58:09.101Z"
   },
   {
    "duration": 9,
    "start_time": "2022-05-13T13:05:08.589Z"
   },
   {
    "duration": 1628,
    "start_time": "2022-05-13T13:06:11.738Z"
   },
   {
    "duration": 45,
    "start_time": "2022-05-13T13:06:13.371Z"
   },
   {
    "duration": 16,
    "start_time": "2022-05-13T13:06:13.418Z"
   },
   {
    "duration": 4,
    "start_time": "2022-05-13T13:06:13.437Z"
   },
   {
    "duration": 15,
    "start_time": "2022-05-13T13:06:13.443Z"
   },
   {
    "duration": 23,
    "start_time": "2022-05-13T13:06:13.473Z"
   },
   {
    "duration": 5,
    "start_time": "2022-05-13T13:06:13.497Z"
   },
   {
    "duration": 724,
    "start_time": "2022-05-13T13:06:13.503Z"
   },
   {
    "duration": 220,
    "start_time": "2022-05-13T13:06:14.229Z"
   },
   {
    "duration": 6,
    "start_time": "2022-05-13T13:06:14.452Z"
   },
   {
    "duration": 270,
    "start_time": "2022-05-13T13:06:14.473Z"
   },
   {
    "duration": 6,
    "start_time": "2022-05-13T13:06:14.744Z"
   },
   {
    "duration": 24,
    "start_time": "2022-05-13T13:06:14.752Z"
   },
   {
    "duration": 8,
    "start_time": "2022-05-13T13:06:14.777Z"
   },
   {
    "duration": 613,
    "start_time": "2022-05-13T13:06:14.787Z"
   },
   {
    "duration": 347,
    "start_time": "2022-05-13T13:06:15.402Z"
   },
   {
    "duration": 258,
    "start_time": "2022-05-13T13:06:15.751Z"
   },
   {
    "duration": 4,
    "start_time": "2022-05-13T13:06:16.011Z"
   },
   {
    "duration": 19,
    "start_time": "2022-05-13T13:06:16.017Z"
   },
   {
    "duration": 446,
    "start_time": "2022-05-13T13:06:16.038Z"
   },
   {
    "duration": 10,
    "start_time": "2022-05-13T13:06:16.487Z"
   },
   {
    "duration": 9,
    "start_time": "2022-05-13T13:06:16.499Z"
   },
   {
    "duration": 73,
    "start_time": "2022-05-13T13:06:16.509Z"
   },
   {
    "duration": 3549,
    "start_time": "2022-05-13T13:06:16.583Z"
   },
   {
    "duration": 54252,
    "start_time": "2022-05-13T13:06:20.134Z"
   },
   {
    "duration": 1217,
    "start_time": "2022-05-13T13:07:14.388Z"
   },
   {
    "duration": 75,
    "start_time": "2022-05-13T13:07:15.607Z"
   },
   {
    "duration": 183,
    "start_time": "2022-05-13T13:07:15.690Z"
   },
   {
    "duration": 327,
    "start_time": "2022-05-13T13:07:15.876Z"
   },
   {
    "duration": 1056,
    "start_time": "2022-05-13T13:07:16.204Z"
   },
   {
    "duration": 126,
    "start_time": "2022-05-13T13:07:17.262Z"
   },
   {
    "duration": 54504,
    "start_time": "2022-05-13T13:07:17.393Z"
   },
   {
    "duration": 19,
    "start_time": "2022-05-13T13:08:11.972Z"
   },
   {
    "duration": 218,
    "start_time": "2022-05-13T13:08:11.993Z"
   },
   {
    "duration": 0,
    "start_time": "2022-05-13T13:08:12.213Z"
   },
   {
    "duration": 0,
    "start_time": "2022-05-13T13:08:12.214Z"
   },
   {
    "duration": 9,
    "start_time": "2022-05-13T13:13:52.242Z"
   },
   {
    "duration": 136,
    "start_time": "2022-05-13T13:15:48.928Z"
   },
   {
    "duration": 10,
    "start_time": "2022-05-13T13:16:09.908Z"
   },
   {
    "duration": 9,
    "start_time": "2022-05-13T13:16:52.551Z"
   },
   {
    "duration": 11,
    "start_time": "2022-05-13T13:18:15.697Z"
   },
   {
    "duration": 10,
    "start_time": "2022-05-13T13:18:54.321Z"
   },
   {
    "duration": 1533,
    "start_time": "2022-05-13T13:19:02.155Z"
   },
   {
    "duration": 31,
    "start_time": "2022-05-13T13:19:03.691Z"
   },
   {
    "duration": 12,
    "start_time": "2022-05-13T13:19:03.723Z"
   },
   {
    "duration": 3,
    "start_time": "2022-05-13T13:19:03.737Z"
   },
   {
    "duration": 11,
    "start_time": "2022-05-13T13:19:03.742Z"
   },
   {
    "duration": 28,
    "start_time": "2022-05-13T13:19:03.754Z"
   },
   {
    "duration": 4,
    "start_time": "2022-05-13T13:19:03.783Z"
   },
   {
    "duration": 647,
    "start_time": "2022-05-13T13:19:03.788Z"
   },
   {
    "duration": 201,
    "start_time": "2022-05-13T13:19:04.437Z"
   },
   {
    "duration": 5,
    "start_time": "2022-05-13T13:19:04.641Z"
   },
   {
    "duration": 250,
    "start_time": "2022-05-13T13:19:04.648Z"
   },
   {
    "duration": 7,
    "start_time": "2022-05-13T13:19:04.900Z"
   },
   {
    "duration": 11,
    "start_time": "2022-05-13T13:19:04.908Z"
   },
   {
    "duration": 7,
    "start_time": "2022-05-13T13:19:04.921Z"
   },
   {
    "duration": 582,
    "start_time": "2022-05-13T13:19:04.930Z"
   },
   {
    "duration": 307,
    "start_time": "2022-05-13T13:19:05.514Z"
   },
   {
    "duration": 265,
    "start_time": "2022-05-13T13:19:05.823Z"
   },
   {
    "duration": 3,
    "start_time": "2022-05-13T13:19:06.090Z"
   },
   {
    "duration": 20,
    "start_time": "2022-05-13T13:19:06.095Z"
   },
   {
    "duration": 400,
    "start_time": "2022-05-13T13:19:06.117Z"
   },
   {
    "duration": 10,
    "start_time": "2022-05-13T13:19:06.519Z"
   },
   {
    "duration": 6,
    "start_time": "2022-05-13T13:19:06.531Z"
   },
   {
    "duration": 41,
    "start_time": "2022-05-13T13:19:06.538Z"
   },
   {
    "duration": 2887,
    "start_time": "2022-05-13T13:19:06.672Z"
   },
   {
    "duration": 219,
    "start_time": "2022-05-13T13:19:09.561Z"
   },
   {
    "duration": 1111,
    "start_time": "2022-05-13T13:19:09.782Z"
   },
   {
    "duration": 83,
    "start_time": "2022-05-13T13:19:10.895Z"
   },
   {
    "duration": 8,
    "start_time": "2022-05-13T13:19:11.072Z"
   },
   {
    "duration": 305,
    "start_time": "2022-05-13T13:19:11.082Z"
   },
   {
    "duration": 983,
    "start_time": "2022-05-13T13:19:11.389Z"
   },
   {
    "duration": 15,
    "start_time": "2022-05-13T13:19:12.374Z"
   },
   {
    "duration": 297,
    "start_time": "2022-05-13T13:19:12.391Z"
   },
   {
    "duration": 9,
    "start_time": "2022-05-13T13:19:12.770Z"
   },
   {
    "duration": 205,
    "start_time": "2022-05-13T13:19:12.780Z"
   },
   {
    "duration": 0,
    "start_time": "2022-05-13T13:19:12.986Z"
   },
   {
    "duration": 1,
    "start_time": "2022-05-13T13:19:12.987Z"
   },
   {
    "duration": 1504,
    "start_time": "2022-05-13T13:19:55.930Z"
   },
   {
    "duration": 31,
    "start_time": "2022-05-13T13:19:57.435Z"
   },
   {
    "duration": 11,
    "start_time": "2022-05-13T13:19:57.470Z"
   },
   {
    "duration": 4,
    "start_time": "2022-05-13T13:19:57.483Z"
   },
   {
    "duration": 10,
    "start_time": "2022-05-13T13:19:57.489Z"
   },
   {
    "duration": 13,
    "start_time": "2022-05-13T13:19:57.500Z"
   },
   {
    "duration": 5,
    "start_time": "2022-05-13T13:19:57.514Z"
   },
   {
    "duration": 667,
    "start_time": "2022-05-13T13:19:57.520Z"
   },
   {
    "duration": 189,
    "start_time": "2022-05-13T13:19:58.189Z"
   },
   {
    "duration": 4,
    "start_time": "2022-05-13T13:19:58.381Z"
   },
   {
    "duration": 238,
    "start_time": "2022-05-13T13:19:58.387Z"
   },
   {
    "duration": 6,
    "start_time": "2022-05-13T13:19:58.626Z"
   },
   {
    "duration": 7,
    "start_time": "2022-05-13T13:19:58.634Z"
   },
   {
    "duration": 28,
    "start_time": "2022-05-13T13:19:58.643Z"
   },
   {
    "duration": 558,
    "start_time": "2022-05-13T13:19:58.673Z"
   },
   {
    "duration": 283,
    "start_time": "2022-05-13T13:19:59.233Z"
   },
   {
    "duration": 264,
    "start_time": "2022-05-13T13:19:59.517Z"
   },
   {
    "duration": 4,
    "start_time": "2022-05-13T13:19:59.782Z"
   },
   {
    "duration": 21,
    "start_time": "2022-05-13T13:19:59.787Z"
   },
   {
    "duration": 405,
    "start_time": "2022-05-13T13:19:59.810Z"
   },
   {
    "duration": 10,
    "start_time": "2022-05-13T13:20:00.216Z"
   },
   {
    "duration": 6,
    "start_time": "2022-05-13T13:20:00.228Z"
   },
   {
    "duration": 38,
    "start_time": "2022-05-13T13:20:00.236Z"
   },
   {
    "duration": 3019,
    "start_time": "2022-05-13T13:20:00.276Z"
   },
   {
    "duration": 185,
    "start_time": "2022-05-13T13:20:03.297Z"
   },
   {
    "duration": 1702,
    "start_time": "2022-05-13T13:20:03.484Z"
   },
   {
    "duration": 184,
    "start_time": "2022-05-13T13:20:05.188Z"
   },
   {
    "duration": 7,
    "start_time": "2022-05-13T13:20:05.377Z"
   },
   {
    "duration": 309,
    "start_time": "2022-05-13T13:20:05.386Z"
   },
   {
    "duration": 2602,
    "start_time": "2022-05-13T13:20:05.696Z"
   },
   {
    "duration": 16,
    "start_time": "2022-05-13T13:20:08.299Z"
   },
   {
    "duration": 305,
    "start_time": "2022-05-13T13:20:08.370Z"
   },
   {
    "duration": 8,
    "start_time": "2022-05-13T13:20:08.677Z"
   },
   {
    "duration": 213,
    "start_time": "2022-05-13T13:20:08.686Z"
   },
   {
    "duration": 0,
    "start_time": "2022-05-13T13:20:08.901Z"
   },
   {
    "duration": 0,
    "start_time": "2022-05-13T13:20:08.902Z"
   },
   {
    "duration": 199,
    "start_time": "2022-05-13T13:20:56.557Z"
   },
   {
    "duration": 197,
    "start_time": "2022-05-13T13:21:15.836Z"
   },
   {
    "duration": 135,
    "start_time": "2022-05-13T13:23:37.082Z"
   },
   {
    "duration": 1533,
    "start_time": "2022-05-13T13:26:59.838Z"
   },
   {
    "duration": 31,
    "start_time": "2022-05-13T13:27:01.373Z"
   },
   {
    "duration": 11,
    "start_time": "2022-05-13T13:27:01.406Z"
   },
   {
    "duration": 18,
    "start_time": "2022-05-13T13:27:01.419Z"
   },
   {
    "duration": 19,
    "start_time": "2022-05-13T13:27:01.438Z"
   },
   {
    "duration": 13,
    "start_time": "2022-05-13T13:27:01.458Z"
   },
   {
    "duration": 6,
    "start_time": "2022-05-13T13:27:01.473Z"
   },
   {
    "duration": 647,
    "start_time": "2022-05-13T13:27:01.480Z"
   },
   {
    "duration": 204,
    "start_time": "2022-05-13T13:27:02.128Z"
   },
   {
    "duration": 5,
    "start_time": "2022-05-13T13:27:02.335Z"
   },
   {
    "duration": 248,
    "start_time": "2022-05-13T13:27:02.341Z"
   },
   {
    "duration": 6,
    "start_time": "2022-05-13T13:27:02.590Z"
   },
   {
    "duration": 8,
    "start_time": "2022-05-13T13:27:02.597Z"
   },
   {
    "duration": 8,
    "start_time": "2022-05-13T13:27:02.606Z"
   },
   {
    "duration": 580,
    "start_time": "2022-05-13T13:27:02.616Z"
   },
   {
    "duration": 307,
    "start_time": "2022-05-13T13:27:03.197Z"
   },
   {
    "duration": 269,
    "start_time": "2022-05-13T13:27:03.506Z"
   },
   {
    "duration": 3,
    "start_time": "2022-05-13T13:27:03.777Z"
   },
   {
    "duration": 20,
    "start_time": "2022-05-13T13:27:03.782Z"
   },
   {
    "duration": 405,
    "start_time": "2022-05-13T13:27:03.804Z"
   },
   {
    "duration": 10,
    "start_time": "2022-05-13T13:27:04.210Z"
   },
   {
    "duration": 6,
    "start_time": "2022-05-13T13:27:04.221Z"
   },
   {
    "duration": 142,
    "start_time": "2022-05-13T13:27:04.229Z"
   },
   {
    "duration": 2842,
    "start_time": "2022-05-13T13:27:04.373Z"
   },
   {
    "duration": 265,
    "start_time": "2022-05-13T13:27:07.217Z"
   },
   {
    "duration": 1198,
    "start_time": "2022-05-13T13:27:07.483Z"
   },
   {
    "duration": 13,
    "start_time": "2022-05-13T13:27:08.682Z"
   },
   {
    "duration": 179,
    "start_time": "2022-05-13T13:27:08.699Z"
   },
   {
    "duration": 265,
    "start_time": "2022-05-13T13:27:08.879Z"
   },
   {
    "duration": 1294,
    "start_time": "2022-05-13T13:27:09.146Z"
   },
   {
    "duration": 15,
    "start_time": "2022-05-13T13:27:10.442Z"
   },
   {
    "duration": 310,
    "start_time": "2022-05-13T13:27:10.472Z"
   },
   {
    "duration": 89,
    "start_time": "2022-05-13T13:27:10.783Z"
   },
   {
    "duration": 352,
    "start_time": "2022-05-13T13:27:10.874Z"
   },
   {
    "duration": 91892,
    "start_time": "2022-05-13T15:46:02.124Z"
   },
   {
    "duration": 67,
    "start_time": "2022-05-13T15:47:34.019Z"
   },
   {
    "duration": 19,
    "start_time": "2022-05-13T15:47:34.088Z"
   },
   {
    "duration": 54,
    "start_time": "2022-05-13T15:47:34.110Z"
   },
   {
    "duration": 38,
    "start_time": "2022-05-13T15:47:34.167Z"
   },
   {
    "duration": 24,
    "start_time": "2022-05-13T15:47:34.209Z"
   },
   {
    "duration": 35,
    "start_time": "2022-05-13T15:47:34.235Z"
   },
   {
    "duration": 1189,
    "start_time": "2022-05-13T15:47:34.273Z"
   },
   {
    "duration": 426,
    "start_time": "2022-05-13T15:47:35.466Z"
   },
   {
    "duration": 7,
    "start_time": "2022-05-13T15:47:35.896Z"
   },
   {
    "duration": 542,
    "start_time": "2022-05-13T15:47:35.906Z"
   },
   {
    "duration": 13,
    "start_time": "2022-05-13T15:47:36.451Z"
   },
   {
    "duration": 13,
    "start_time": "2022-05-13T15:47:36.468Z"
   },
   {
    "duration": 20,
    "start_time": "2022-05-13T15:47:36.483Z"
   },
   {
    "duration": 1050,
    "start_time": "2022-05-13T15:47:36.527Z"
   },
   {
    "duration": 511,
    "start_time": "2022-05-13T15:47:37.581Z"
   },
   {
    "duration": 560,
    "start_time": "2022-05-13T15:47:38.096Z"
   },
   {
    "duration": 7,
    "start_time": "2022-05-13T15:47:38.659Z"
   },
   {
    "duration": 46,
    "start_time": "2022-05-13T15:47:38.669Z"
   },
   {
    "duration": 617,
    "start_time": "2022-05-13T15:47:38.717Z"
   },
   {
    "duration": 23,
    "start_time": "2022-05-13T15:47:39.336Z"
   },
   {
    "duration": 36,
    "start_time": "2022-05-13T15:47:39.362Z"
   },
   {
    "duration": 145,
    "start_time": "2022-05-13T15:47:39.401Z"
   },
   {
    "duration": 5182,
    "start_time": "2022-05-13T15:47:39.572Z"
   },
   {
    "duration": 95622,
    "start_time": "2022-05-13T15:47:44.757Z"
   },
   {
    "duration": 9926,
    "start_time": "2022-05-13T15:49:20.382Z"
   },
   {
    "duration": 214,
    "start_time": "2022-05-13T15:49:30.311Z"
   },
   {
    "duration": 34,
    "start_time": "2022-05-13T15:49:30.547Z"
   },
   {
    "duration": 468,
    "start_time": "2022-05-13T15:49:30.583Z"
   },
   {
    "duration": 1405,
    "start_time": "2022-05-13T15:49:31.055Z"
   },
   {
    "duration": 180,
    "start_time": "2022-05-13T15:49:32.465Z"
   },
   {
    "duration": 91911,
    "start_time": "2022-05-13T15:49:32.660Z"
   },
   {
    "duration": 18,
    "start_time": "2022-05-13T15:51:04.575Z"
   },
   {
    "duration": 20,
    "start_time": "2022-05-13T15:53:04.341Z"
   },
   {
    "duration": 20,
    "start_time": "2022-05-13T15:53:26.908Z"
   },
   {
    "duration": 18,
    "start_time": "2022-05-13T15:53:36.913Z"
   },
   {
    "duration": 9,
    "start_time": "2022-05-13T15:53:50.760Z"
   },
   {
    "duration": 14,
    "start_time": "2022-05-13T15:53:58.085Z"
   },
   {
    "duration": 20,
    "start_time": "2022-05-13T15:54:57.586Z"
   },
   {
    "duration": 14,
    "start_time": "2022-05-13T15:55:03.092Z"
   },
   {
    "duration": 9,
    "start_time": "2022-05-13T15:55:03.976Z"
   },
   {
    "duration": 106,
    "start_time": "2022-05-13T15:55:07.641Z"
   },
   {
    "duration": 20,
    "start_time": "2022-05-13T15:55:13.966Z"
   },
   {
    "duration": 1600,
    "start_time": "2022-05-13T15:55:51.861Z"
   },
   {
    "duration": 735,
    "start_time": "2022-05-13T15:55:58.992Z"
   },
   {
    "duration": 18,
    "start_time": "2022-05-13T15:57:55.866Z"
   },
   {
    "duration": 12,
    "start_time": "2022-05-13T15:58:38.771Z"
   },
   {
    "duration": 18,
    "start_time": "2022-05-13T15:58:43.162Z"
   },
   {
    "duration": 9,
    "start_time": "2022-05-13T15:58:45.701Z"
   },
   {
    "duration": 232,
    "start_time": "2022-05-13T15:58:50.350Z"
   },
   {
    "duration": 37,
    "start_time": "2022-05-13T15:58:56.750Z"
   },
   {
    "duration": 13,
    "start_time": "2022-05-13T15:59:42.782Z"
   },
   {
    "duration": 499,
    "start_time": "2022-05-13T15:59:45.499Z"
   },
   {
    "duration": 19,
    "start_time": "2022-05-13T15:59:47.988Z"
   },
   {
    "duration": 12,
    "start_time": "2022-05-13T15:59:48.696Z"
   },
   {
    "duration": 134,
    "start_time": "2022-05-13T15:59:53.528Z"
   },
   {
    "duration": 25,
    "start_time": "2022-05-13T16:00:01.915Z"
   },
   {
    "duration": 13,
    "start_time": "2022-05-13T16:02:12.502Z"
   },
   {
    "duration": 11,
    "start_time": "2022-05-13T16:02:21.462Z"
   },
   {
    "duration": 198,
    "start_time": "2022-05-13T16:02:22.845Z"
   },
   {
    "duration": 19,
    "start_time": "2022-05-13T16:02:32.384Z"
   },
   {
    "duration": 16,
    "start_time": "2022-05-13T16:02:58.922Z"
   },
   {
    "duration": 418,
    "start_time": "2022-05-13T16:03:03.638Z"
   },
   {
    "duration": 16,
    "start_time": "2022-05-13T16:03:04.866Z"
   },
   {
    "duration": 10,
    "start_time": "2022-05-13T16:03:05.703Z"
   },
   {
    "duration": 38,
    "start_time": "2022-05-13T16:03:07.194Z"
   },
   {
    "duration": 847,
    "start_time": "2022-05-13T16:03:23.219Z"
   },
   {
    "duration": 1312,
    "start_time": "2022-05-13T16:03:25.496Z"
   },
   {
    "duration": 39,
    "start_time": "2022-05-13T16:03:26.811Z"
   },
   {
    "duration": 86476,
    "start_time": "2022-05-13T16:03:27.450Z"
   },
   {
    "duration": 37,
    "start_time": "2022-05-13T16:04:53.931Z"
   },
   {
    "duration": 7,
    "start_time": "2022-05-13T16:05:12.859Z"
   },
   {
    "duration": 44,
    "start_time": "2022-05-13T16:05:14.102Z"
   },
   {
    "duration": 439,
    "start_time": "2022-05-13T16:05:16.455Z"
   },
   {
    "duration": 13,
    "start_time": "2022-05-13T16:05:17.561Z"
   },
   {
    "duration": 9,
    "start_time": "2022-05-13T16:05:18.198Z"
   },
   {
    "duration": 149,
    "start_time": "2022-05-13T16:05:18.876Z"
   },
   {
    "duration": 9268,
    "start_time": "2022-05-13T16:05:19.547Z"
   },
   {
    "duration": 771,
    "start_time": "2022-05-13T16:05:40.606Z"
   },
   {
    "duration": 16,
    "start_time": "2022-05-13T16:05:48.674Z"
   },
   {
    "duration": 2491,
    "start_time": "2022-05-14T08:36:24.170Z"
   },
   {
    "duration": 58,
    "start_time": "2022-05-14T08:36:26.663Z"
   },
   {
    "duration": 20,
    "start_time": "2022-05-14T08:36:26.723Z"
   },
   {
    "duration": 6,
    "start_time": "2022-05-14T08:36:26.745Z"
   },
   {
    "duration": 26,
    "start_time": "2022-05-14T08:36:26.756Z"
   },
   {
    "duration": 58,
    "start_time": "2022-05-14T08:36:26.784Z"
   },
   {
    "duration": 6,
    "start_time": "2022-05-14T08:36:26.844Z"
   },
   {
    "duration": 1062,
    "start_time": "2022-05-14T08:36:26.852Z"
   },
   {
    "duration": 379,
    "start_time": "2022-05-14T08:36:27.916Z"
   },
   {
    "duration": 7,
    "start_time": "2022-05-14T08:36:28.298Z"
   },
   {
    "duration": 467,
    "start_time": "2022-05-14T08:36:28.308Z"
   },
   {
    "duration": 10,
    "start_time": "2022-05-14T08:36:28.777Z"
   },
   {
    "duration": 16,
    "start_time": "2022-05-14T08:36:28.789Z"
   },
   {
    "duration": 19,
    "start_time": "2022-05-14T08:36:28.834Z"
   },
   {
    "duration": 1125,
    "start_time": "2022-05-14T08:36:28.856Z"
   },
   {
    "duration": 552,
    "start_time": "2022-05-14T08:36:29.983Z"
   },
   {
    "duration": 569,
    "start_time": "2022-05-14T08:36:30.539Z"
   },
   {
    "duration": 6,
    "start_time": "2022-05-14T08:36:31.110Z"
   },
   {
    "duration": 30,
    "start_time": "2022-05-14T08:36:31.124Z"
   },
   {
    "duration": 679,
    "start_time": "2022-05-14T08:36:31.158Z"
   },
   {
    "duration": 214,
    "start_time": "2022-05-14T08:36:31.841Z"
   },
   {
    "duration": 0,
    "start_time": "2022-05-14T08:36:32.058Z"
   },
   {
    "duration": 0,
    "start_time": "2022-05-14T08:36:32.059Z"
   },
   {
    "duration": 0,
    "start_time": "2022-05-14T08:36:32.061Z"
   },
   {
    "duration": 0,
    "start_time": "2022-05-14T08:36:32.063Z"
   },
   {
    "duration": 0,
    "start_time": "2022-05-14T08:36:32.065Z"
   },
   {
    "duration": 0,
    "start_time": "2022-05-14T08:36:32.066Z"
   },
   {
    "duration": 0,
    "start_time": "2022-05-14T08:36:32.068Z"
   },
   {
    "duration": 0,
    "start_time": "2022-05-14T08:36:32.069Z"
   },
   {
    "duration": 0,
    "start_time": "2022-05-14T08:36:32.070Z"
   },
   {
    "duration": 0,
    "start_time": "2022-05-14T08:36:32.071Z"
   },
   {
    "duration": 0,
    "start_time": "2022-05-14T08:36:32.073Z"
   },
   {
    "duration": 0,
    "start_time": "2022-05-14T08:36:32.075Z"
   },
   {
    "duration": 0,
    "start_time": "2022-05-14T08:36:32.077Z"
   },
   {
    "duration": 20,
    "start_time": "2022-05-14T08:36:54.611Z"
   },
   {
    "duration": 16,
    "start_time": "2022-05-14T08:37:01.354Z"
   },
   {
    "duration": 2268,
    "start_time": "2022-05-14T08:37:29.451Z"
   },
   {
    "duration": 53,
    "start_time": "2022-05-14T08:37:31.725Z"
   },
   {
    "duration": 17,
    "start_time": "2022-05-14T08:37:31.781Z"
   },
   {
    "duration": 15,
    "start_time": "2022-05-14T08:37:31.824Z"
   },
   {
    "duration": 25,
    "start_time": "2022-05-14T08:37:31.842Z"
   },
   {
    "duration": 21,
    "start_time": "2022-05-14T08:37:31.870Z"
   },
   {
    "duration": 5,
    "start_time": "2022-05-14T08:37:31.893Z"
   },
   {
    "duration": 1274,
    "start_time": "2022-05-14T08:37:31.924Z"
   },
   {
    "duration": 419,
    "start_time": "2022-05-14T08:37:33.201Z"
   },
   {
    "duration": 10,
    "start_time": "2022-05-14T08:37:33.633Z"
   },
   {
    "duration": 471,
    "start_time": "2022-05-14T08:37:33.645Z"
   },
   {
    "duration": 18,
    "start_time": "2022-05-14T08:37:34.118Z"
   },
   {
    "duration": 14,
    "start_time": "2022-05-14T08:37:34.139Z"
   },
   {
    "duration": 32,
    "start_time": "2022-05-14T08:37:34.156Z"
   },
   {
    "duration": 1070,
    "start_time": "2022-05-14T08:37:34.191Z"
   },
   {
    "duration": 514,
    "start_time": "2022-05-14T08:37:35.264Z"
   },
   {
    "duration": 454,
    "start_time": "2022-05-14T08:37:35.780Z"
   },
   {
    "duration": 8,
    "start_time": "2022-05-14T08:37:36.237Z"
   },
   {
    "duration": 51,
    "start_time": "2022-05-14T08:37:36.248Z"
   },
   {
    "duration": 708,
    "start_time": "2022-05-14T08:37:36.302Z"
   },
   {
    "duration": 265,
    "start_time": "2022-05-14T08:37:37.012Z"
   },
   {
    "duration": 0,
    "start_time": "2022-05-14T08:37:37.280Z"
   },
   {
    "duration": 0,
    "start_time": "2022-05-14T08:37:37.282Z"
   },
   {
    "duration": 0,
    "start_time": "2022-05-14T08:37:37.284Z"
   },
   {
    "duration": 0,
    "start_time": "2022-05-14T08:37:37.286Z"
   },
   {
    "duration": 0,
    "start_time": "2022-05-14T08:37:37.287Z"
   },
   {
    "duration": 0,
    "start_time": "2022-05-14T08:37:37.289Z"
   },
   {
    "duration": 0,
    "start_time": "2022-05-14T08:37:37.291Z"
   },
   {
    "duration": 0,
    "start_time": "2022-05-14T08:37:37.292Z"
   },
   {
    "duration": 0,
    "start_time": "2022-05-14T08:37:37.294Z"
   },
   {
    "duration": 0,
    "start_time": "2022-05-14T08:37:37.325Z"
   },
   {
    "duration": 0,
    "start_time": "2022-05-14T08:37:37.327Z"
   },
   {
    "duration": 0,
    "start_time": "2022-05-14T08:37:37.329Z"
   },
   {
    "duration": 0,
    "start_time": "2022-05-14T08:37:37.331Z"
   },
   {
    "duration": 23,
    "start_time": "2022-05-14T08:38:31.866Z"
   },
   {
    "duration": 14,
    "start_time": "2022-05-14T08:38:35.172Z"
   },
   {
    "duration": 14,
    "start_time": "2022-05-14T08:38:39.060Z"
   },
   {
    "duration": 22,
    "start_time": "2022-05-14T08:38:44.837Z"
   },
   {
    "duration": 18,
    "start_time": "2022-05-14T08:38:53.473Z"
   },
   {
    "duration": 16,
    "start_time": "2022-05-14T08:39:18.452Z"
   },
   {
    "duration": 35,
    "start_time": "2022-05-14T08:41:31.752Z"
   },
   {
    "duration": 86934,
    "start_time": "2022-05-14T11:33:55.180Z"
   },
   {
    "duration": 43,
    "start_time": "2022-05-14T11:35:22.117Z"
   },
   {
    "duration": 15,
    "start_time": "2022-05-14T11:35:22.163Z"
   },
   {
    "duration": 5,
    "start_time": "2022-05-14T11:35:22.181Z"
   },
   {
    "duration": 19,
    "start_time": "2022-05-14T11:35:22.188Z"
   },
   {
    "duration": 46,
    "start_time": "2022-05-14T11:35:22.209Z"
   },
   {
    "duration": 5,
    "start_time": "2022-05-14T11:35:22.257Z"
   },
   {
    "duration": 1072,
    "start_time": "2022-05-14T11:35:22.264Z"
   },
   {
    "duration": 361,
    "start_time": "2022-05-14T11:35:23.338Z"
   },
   {
    "duration": 7,
    "start_time": "2022-05-14T11:35:23.703Z"
   },
   {
    "duration": 442,
    "start_time": "2022-05-14T11:35:23.713Z"
   },
   {
    "duration": 9,
    "start_time": "2022-05-14T11:35:24.158Z"
   },
   {
    "duration": 28,
    "start_time": "2022-05-14T11:35:24.169Z"
   },
   {
    "duration": 30,
    "start_time": "2022-05-14T11:35:24.199Z"
   },
   {
    "duration": 993,
    "start_time": "2022-05-14T11:35:24.231Z"
   },
   {
    "duration": 566,
    "start_time": "2022-05-14T11:35:25.227Z"
   },
   {
    "duration": 395,
    "start_time": "2022-05-14T11:35:25.795Z"
   },
   {
    "duration": 6,
    "start_time": "2022-05-14T11:35:26.192Z"
   },
   {
    "duration": 38,
    "start_time": "2022-05-14T11:35:26.200Z"
   },
   {
    "duration": 681,
    "start_time": "2022-05-14T11:35:26.240Z"
   },
   {
    "duration": 31,
    "start_time": "2022-05-14T11:35:26.924Z"
   },
   {
    "duration": 7,
    "start_time": "2022-05-14T11:36:59.347Z"
   },
   {
    "duration": 128,
    "start_time": "2022-05-14T11:37:00.126Z"
   },
   {
    "duration": 4637,
    "start_time": "2022-05-14T11:37:01.374Z"
   },
   {
    "duration": 1331,
    "start_time": "2022-11-10T13:19:15.757Z"
   },
   {
    "duration": 114,
    "start_time": "2022-11-10T13:19:17.090Z"
   },
   {
    "duration": 10,
    "start_time": "2022-11-10T13:19:17.206Z"
   },
   {
    "duration": 11,
    "start_time": "2022-11-10T13:19:17.218Z"
   },
   {
    "duration": 29,
    "start_time": "2022-11-10T13:19:17.231Z"
   },
   {
    "duration": 10,
    "start_time": "2022-11-10T13:19:17.261Z"
   },
   {
    "duration": 5,
    "start_time": "2022-11-10T13:19:17.273Z"
   },
   {
    "duration": 634,
    "start_time": "2022-11-10T13:19:17.280Z"
   },
   {
    "duration": 215,
    "start_time": "2022-11-10T13:19:17.916Z"
   },
   {
    "duration": 6,
    "start_time": "2022-11-10T13:19:18.133Z"
   },
   {
    "duration": 272,
    "start_time": "2022-11-10T13:19:18.140Z"
   },
   {
    "duration": 6,
    "start_time": "2022-11-10T13:19:18.414Z"
   },
   {
    "duration": 26,
    "start_time": "2022-11-10T13:19:18.421Z"
   },
   {
    "duration": 7,
    "start_time": "2022-11-10T13:19:18.449Z"
   },
   {
    "duration": 553,
    "start_time": "2022-11-10T13:19:18.457Z"
   },
   {
    "duration": 286,
    "start_time": "2022-11-10T13:19:19.012Z"
   },
   {
    "duration": 341,
    "start_time": "2022-11-10T13:19:19.299Z"
   },
   {
    "duration": 3,
    "start_time": "2022-11-10T13:19:19.642Z"
   },
   {
    "duration": 22,
    "start_time": "2022-11-10T13:19:19.646Z"
   },
   {
    "duration": 284,
    "start_time": "2022-11-10T13:19:19.669Z"
   },
   {
    "duration": 7,
    "start_time": "2022-11-10T13:19:19.955Z"
   },
   {
    "duration": 4,
    "start_time": "2022-11-10T13:19:19.964Z"
   },
   {
    "duration": 63,
    "start_time": "2022-11-10T13:19:19.969Z"
   },
   {
    "duration": 3379,
    "start_time": "2022-11-10T13:19:20.034Z"
   },
   {
    "duration": 220,
    "start_time": "2022-11-10T13:19:23.415Z"
   },
   {
    "duration": 629,
    "start_time": "2022-11-10T13:19:23.636Z"
   },
   {
    "duration": 66,
    "start_time": "2022-11-10T13:19:24.267Z"
   },
   {
    "duration": 101,
    "start_time": "2022-11-10T13:19:24.336Z"
   },
   {
    "duration": 418,
    "start_time": "2022-11-10T13:19:24.439Z"
   },
   {
    "duration": 521,
    "start_time": "2022-11-10T13:19:24.859Z"
   },
   {
    "duration": 9,
    "start_time": "2022-11-10T13:19:25.382Z"
   },
   {
    "duration": 337,
    "start_time": "2022-11-10T13:19:25.393Z"
   },
   {
    "duration": 9,
    "start_time": "2022-11-10T13:19:25.732Z"
   },
   {
    "duration": 400,
    "start_time": "2022-11-10T13:19:25.742Z"
   }
  ],
  "kernelspec": {
   "display_name": "Python 3 (ipykernel)",
   "language": "python",
   "name": "python3"
  },
  "language_info": {
   "codemirror_mode": {
    "name": "ipython",
    "version": 3
   },
   "file_extension": ".py",
   "mimetype": "text/x-python",
   "name": "python",
   "nbconvert_exporter": "python",
   "pygments_lexer": "ipython3",
   "version": "3.9.5"
  },
  "toc": {
   "base_numbering": 1,
   "nav_menu": {},
   "number_sections": true,
   "sideBar": true,
   "skip_h1_title": true,
   "title_cell": "Содержание",
   "title_sidebar": "Contents",
   "toc_cell": true,
   "toc_position": {
    "height": "calc(100% - 180px)",
    "left": "10px",
    "top": "150px",
    "width": "331.449px"
   },
   "toc_section_display": true,
   "toc_window_display": true
  }
 },
 "nbformat": 4,
 "nbformat_minor": 2
}
