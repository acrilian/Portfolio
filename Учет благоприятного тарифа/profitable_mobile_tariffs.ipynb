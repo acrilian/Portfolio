{
 "cells": [
  {
   "cell_type": "markdown",
   "metadata": {},
   "source": [
    "<div style=\"border:solid green 2px; padding: 20px\">\n",
    "\n",
    "# Определение перспективного тарифа для телеком-компании\n",
    "\n",
    "**Описание проекта**\n",
    "\n",
    "    Вы аналитик компании «Мегалайн» — федерального оператора сотовой связи. Клиентам предлагают два тарифных плана: «Смарт» и «Ультра». Чтобы скорректировать рекламный бюджет, коммерческий департамент хочет понять, какой тариф приносит больше денег.\n",
    "    \n",
    "    Вам предстоит сделать предварительный анализ тарифов на небольшой выборке клиентов. В вашем распоряжении данные 500 пользователей «Мегалайна»: кто они, откуда, каким тарифом пользуются, сколько звонков и сообщений каждый отправил за 2018 год. Нужно проанализировать поведение клиентов и сделать вывод — какой тариф лучше.\n",
    "    \n",
    "**Цель исследования** - определить какой тариф лучше для корректировки рекламного бюджета.\n",
    "    \n",
    "**Описание данных**\n",
    "    \n",
    "    Путь к файлам:\n",
    "    /datasets/calls.csv.\n",
    "    /datasets/internet.csv.\n",
    "    /datasets/messages.csv.\n",
    "    /datasets/tariffs.csv.\n",
    "    /datasets/users.csv.   \n",
    "\n",
    "О качестве данных ничего не известно. Поэтому перед установкой параметров понадобится обзор данных. \n",
    "  \n",
    "Таблица `users` (информация о пользователях):\n",
    "- user_id — уникальный идентификатор пользователя\n",
    "- first_name — имя пользователя\n",
    "- last_name — фамилия пользователя\n",
    "- age — возраст пользователя (годы)\n",
    "- reg_date — дата подключения тарифа (день, месяц, год)\n",
    "- churn_date — дата прекращения пользования тарифом (если значение пропущено, то тариф ещё действовал на момент выгрузки данных)\n",
    "- city — город проживания пользователя\n",
    "- tarif — название тарифного плана\n",
    "\n",
    "Таблица `calls` (информация о звонках):\n",
    "- id — уникальный номер звонка\n",
    "- call_date — дата звонка\n",
    "- duration — длительность звонка в минутах\n",
    "- user_id — идентификатор пользователя, сделавшего звонок\n",
    "\n",
    "Таблица `messages` (информация о сообщениях):\n",
    "- id — уникальный номер сообщения\n",
    "- message_date — дата сообщения\n",
    "- user_id — идентификатор пользователя, отправившего сообщение\n",
    "\n",
    "Таблица `internet` (информация об интернет-сессиях):\n",
    "- id — уникальный номер сессии\n",
    "- mb_used — объём потраченного за сессию интернет-трафика (в мегабайтах)\n",
    "- session_date — дата интернет-сессии\n",
    "- user_id — идентификатор пользователя\n",
    "\n",
    "Таблица `tariffs` (информация о тарифах):\n",
    "- tariff_name — название тарифа\n",
    "- rub_monthly_fee — ежемесячная абонентская плата в рублях\n",
    "- minutes_included — количество минут разговора в месяц, включённых в абонентскую плату\n",
    "- messages_included — количество сообщений в месяц, включённых в абонентскую плату\n",
    "- mb_per_month_included — объём интернет-трафика, включённого в абонентскую плату (в мегабайтах)\n",
    "- rub_per_minute — стоимость минуты разговора сверх тарифного пакета (например, если в тарифе 100 минут разговора в месяц, то со 101 минуты будет взиматься плата)\n",
    "- rub_per_message — стоимость отправки сообщения сверх тарифного пакета\n",
    "- rub_per_gb — стоимость дополнительного гигабайта интернет-трафика сверх тарифного пакета (1 гигабайт = 1024 мегабайта)    \n",
    "\n",
    "**Описание тарифов:**\n",
    "\n",
    "Тариф `«Смарт»`\n",
    "1. Ежемесячная плата: 550 рублей\n",
    "2. Включено 500 минут разговора, 50 сообщений и 15 Гб интернет-трафика\n",
    "3. Стоимость услуг сверх тарифного пакета: 1. минута разговора: 3 рубля («Мегалайн» всегда округляет вверх значения минут и мегабайтов. Если пользователь проговорил всего 1 секунду, в тарифе засчитывается целая минута); 2. сообщение: 3 рубля; 3. 1 Гб интернет-трафика: 200 рублей.    \n",
    "    \n",
    "Тариф `«Ультра»`\n",
    "- Ежемесячная плата: 1950 рублей\n",
    "- Включено 3000 минут разговора, 1000 сообщений и 30 Гб интернет-трафика\n",
    "- Стоимость услуг сверх тарифного пакета: 1. минута разговора: 1 рубль; 2. сообщение: 1 рубль; 3. 1 Гб интернет-трафика: 150 рублей.    \n",
    "    \n",
    "`Примечание:`\n",
    "«Мегалайн» всегда округляет секунды до минут, а мегабайты — до гигабайт. Каждый звонок округляется отдельно: даже если он длился всего 1 секунду, будет засчитан как 1 минута.\n",
    "    \n",
    "Для веб-трафика отдельные сессии не считаются. Вместо этого общая сумма за месяц округляется в бо́льшую сторону. Если абонент использует 1025 мегабайт в этом месяце, с него возьмут плату за 2 гигабайта.    \n",
    "    \n",
    "**План работы:**\n",
    " 1. Обзор данных.\n",
    " 2. Предобработка данных.\n",
    " 3. Исследовательский анализ данных.\n",
    " 4. Общий вывод.\n",
    "    \n",
    "</div>   "
   ]
  },
  {
   "cell_type": "markdown",
   "metadata": {},
   "source": [
    "## Изучение данных из файла\n",
    "Откроем файлы с данными и изучим общую информацию."
   ]
  },
  {
   "cell_type": "code",
   "execution_count": 1,
   "metadata": {},
   "outputs": [],
   "source": [
    "# импорт необходимых библиотек \n",
    "\n",
    "import pandas as pd\n",
    "import matplotlib.pyplot as plt\n",
    "import numpy as np\n",
    "from scipy import stats as st"
   ]
  },
  {
   "cell_type": "code",
   "execution_count": 2,
   "metadata": {},
   "outputs": [],
   "source": [
    "# чтение файлов с данными и сохранение\n",
    "\n",
    "df_calls = pd.read_csv('/datasets/calls.csv')\n",
    "df_internet = pd.read_csv('/datasets/internet.csv', index_col = 0)\n",
    "df_messages = pd.read_csv('/datasets/messages.csv')\n",
    "df_tariffs = pd.read_csv('/datasets/tariffs.csv')\n",
    "df_users = pd.read_csv('/datasets/users.csv')\n"
   ]
  },
  {
   "cell_type": "markdown",
   "metadata": {},
   "source": [
    "\n",
    "### Таблица `calls` (информация о звонках):"
   ]
  },
  {
   "cell_type": "code",
   "execution_count": 3,
   "metadata": {},
   "outputs": [
    {
     "data": {
      "text/html": [
       "<div>\n",
       "<style scoped>\n",
       "    .dataframe tbody tr th:only-of-type {\n",
       "        vertical-align: middle;\n",
       "    }\n",
       "\n",
       "    .dataframe tbody tr th {\n",
       "        vertical-align: top;\n",
       "    }\n",
       "\n",
       "    .dataframe thead th {\n",
       "        text-align: right;\n",
       "    }\n",
       "</style>\n",
       "<table border=\"1\" class=\"dataframe\">\n",
       "  <thead>\n",
       "    <tr style=\"text-align: right;\">\n",
       "      <th></th>\n",
       "      <th>id</th>\n",
       "      <th>call_date</th>\n",
       "      <th>duration</th>\n",
       "      <th>user_id</th>\n",
       "    </tr>\n",
       "  </thead>\n",
       "  <tbody>\n",
       "    <tr>\n",
       "      <th>0</th>\n",
       "      <td>1000_0</td>\n",
       "      <td>2018-07-25</td>\n",
       "      <td>0.00</td>\n",
       "      <td>1000</td>\n",
       "    </tr>\n",
       "    <tr>\n",
       "      <th>1</th>\n",
       "      <td>1000_1</td>\n",
       "      <td>2018-08-17</td>\n",
       "      <td>0.00</td>\n",
       "      <td>1000</td>\n",
       "    </tr>\n",
       "    <tr>\n",
       "      <th>2</th>\n",
       "      <td>1000_2</td>\n",
       "      <td>2018-06-11</td>\n",
       "      <td>2.85</td>\n",
       "      <td>1000</td>\n",
       "    </tr>\n",
       "    <tr>\n",
       "      <th>3</th>\n",
       "      <td>1000_3</td>\n",
       "      <td>2018-09-21</td>\n",
       "      <td>13.80</td>\n",
       "      <td>1000</td>\n",
       "    </tr>\n",
       "    <tr>\n",
       "      <th>4</th>\n",
       "      <td>1000_4</td>\n",
       "      <td>2018-12-15</td>\n",
       "      <td>5.18</td>\n",
       "      <td>1000</td>\n",
       "    </tr>\n",
       "  </tbody>\n",
       "</table>\n",
       "</div>"
      ],
      "text/plain": [
       "       id   call_date  duration  user_id\n",
       "0  1000_0  2018-07-25      0.00     1000\n",
       "1  1000_1  2018-08-17      0.00     1000\n",
       "2  1000_2  2018-06-11      2.85     1000\n",
       "3  1000_3  2018-09-21     13.80     1000\n",
       "4  1000_4  2018-12-15      5.18     1000"
      ]
     },
     "execution_count": 3,
     "metadata": {},
     "output_type": "execute_result"
    }
   ],
   "source": [
    "# вывод на экран первых 5 строк датасета\n",
    "df_calls.head()"
   ]
  },
  {
   "cell_type": "code",
   "execution_count": 4,
   "metadata": {},
   "outputs": [
    {
     "name": "stdout",
     "output_type": "stream",
     "text": [
      "<class 'pandas.core.frame.DataFrame'>\n",
      "RangeIndex: 202607 entries, 0 to 202606\n",
      "Data columns (total 4 columns):\n",
      " #   Column     Non-Null Count   Dtype  \n",
      "---  ------     --------------   -----  \n",
      " 0   id         202607 non-null  object \n",
      " 1   call_date  202607 non-null  object \n",
      " 2   duration   202607 non-null  float64\n",
      " 3   user_id    202607 non-null  int64  \n",
      "dtypes: float64(1), int64(1), object(2)\n",
      "memory usage: 6.2+ MB\n"
     ]
    }
   ],
   "source": [
    "# изучение общей информации о наборе данных\n",
    "df_calls.info()"
   ]
  },
  {
   "cell_type": "code",
   "execution_count": 5,
   "metadata": {},
   "outputs": [
    {
     "data": {
      "text/plain": [
       "Index(['id', 'call_date', 'duration', 'user_id'], dtype='object')"
      ]
     },
     "execution_count": 5,
     "metadata": {},
     "output_type": "execute_result"
    }
   ],
   "source": [
    "# вывод на экран названия столбцов\n",
    "df_calls.columns"
   ]
  },
  {
   "cell_type": "code",
   "execution_count": 6,
   "metadata": {},
   "outputs": [
    {
     "data": {
      "text/plain": [
       "0"
      ]
     },
     "execution_count": 6,
     "metadata": {},
     "output_type": "execute_result"
    }
   ],
   "source": [
    "# подсчёт явных дубликатов\n",
    "df_calls.duplicated().sum()"
   ]
  },
  {
   "cell_type": "markdown",
   "metadata": {},
   "source": [
    "Чтобы увидеть, какие по длительности звонки абоненты совершают чаще всего, можно построить гистограмму.\n",
    "В pandas гистограмму строит специальный метод hist() (от англ. histogram — «гистограмма»). \n",
    "Применять его можно к списку или к столбцу датафрейма:  во втором случае название столбца передаётся в параметре.\n",
    "Метод hist() находит в наборе чисел минимальное и максимальное значения, а полученный диапазон делит на области, или корзины.\n",
    "Затем hist() считает, сколько значений попало в каждую корзину, и отображает это на графике."
   ]
  },
  {
   "cell_type": "code",
   "execution_count": 7,
   "metadata": {},
   "outputs": [
    {
     "data": {
      "image/png": "[encoded data removed]",
      "text/plain": [
       "<Figure size 432x288 with 1 Axes>"
      ]
     },
     "metadata": {
      "needs_background": "light"
     },
     "output_type": "display_data"
    }
   ],
   "source": [
    "# построим гистограмму длительности звонков\n",
    "df_calls.plot(kind='hist', y='duration', bins=20)\n",
    "plt.title('Гистограмма длительности звонков'+ \"\\n\")\n",
    "\n",
    "plt.show()\n"
   ]
  },
  {
   "cell_type": "code",
   "execution_count": 8,
   "metadata": {},
   "outputs": [
    {
     "data": {
      "text/plain": [
       "39613"
      ]
     },
     "execution_count": 8,
     "metadata": {},
     "output_type": "execute_result"
    }
   ],
   "source": [
    "# посчитаем звонки с нулевой длительностью \n",
    "df_calls['duration'].value_counts().sort_index()[0]\n"
   ]
  },
  {
   "cell_type": "markdown",
   "metadata": {},
   "source": [
    "Датасет `df_calls` содержит информацию о звонках. \n",
    "\n",
    "В таблице четыре столбца.\n",
    "- id — уникальный номер звонка\n",
    "- call_date — дата звонка\n",
    "- duration — длительность звонка в минутах\n",
    "- user_id — идентификатор пользователя, сделавшего звонок\n",
    "\n",
    "Пропусков и дубликатов в данных нет, 39613 - это звонки с нулевой продолжительностью. Нулями обозначены пропущенные звонки, поэтому не будем их удалять. Такие звонки необходимо округлить в для подсчета выручки.\n",
    "Необходимо изменить тип данных длительности звонков с float64 на целочисленный int и дату звонков на понятные даты с типом данных datetime64."
   ]
  },
  {
   "cell_type": "markdown",
   "metadata": {},
   "source": [
    "### Таблица `internet` (информация об интернет-сессиях):"
   ]
  },
  {
   "cell_type": "code",
   "execution_count": 9,
   "metadata": {},
   "outputs": [
    {
     "data": {
      "text/html": [
       "<div>\n",
       "<style scoped>\n",
       "    .dataframe tbody tr th:only-of-type {\n",
       "        vertical-align: middle;\n",
       "    }\n",
       "\n",
       "    .dataframe tbody tr th {\n",
       "        vertical-align: top;\n",
       "    }\n",
       "\n",
       "    .dataframe thead th {\n",
       "        text-align: right;\n",
       "    }\n",
       "</style>\n",
       "<table border=\"1\" class=\"dataframe\">\n",
       "  <thead>\n",
       "    <tr style=\"text-align: right;\">\n",
       "      <th></th>\n",
       "      <th>id</th>\n",
       "      <th>mb_used</th>\n",
       "      <th>session_date</th>\n",
       "      <th>user_id</th>\n",
       "    </tr>\n",
       "  </thead>\n",
       "  <tbody>\n",
       "    <tr>\n",
       "      <th>0</th>\n",
       "      <td>1000_0</td>\n",
       "      <td>112.95</td>\n",
       "      <td>2018-11-25</td>\n",
       "      <td>1000</td>\n",
       "    </tr>\n",
       "    <tr>\n",
       "      <th>1</th>\n",
       "      <td>1000_1</td>\n",
       "      <td>1052.81</td>\n",
       "      <td>2018-09-07</td>\n",
       "      <td>1000</td>\n",
       "    </tr>\n",
       "    <tr>\n",
       "      <th>2</th>\n",
       "      <td>1000_2</td>\n",
       "      <td>1197.26</td>\n",
       "      <td>2018-06-25</td>\n",
       "      <td>1000</td>\n",
       "    </tr>\n",
       "    <tr>\n",
       "      <th>3</th>\n",
       "      <td>1000_3</td>\n",
       "      <td>550.27</td>\n",
       "      <td>2018-08-22</td>\n",
       "      <td>1000</td>\n",
       "    </tr>\n",
       "    <tr>\n",
       "      <th>4</th>\n",
       "      <td>1000_4</td>\n",
       "      <td>302.56</td>\n",
       "      <td>2018-09-24</td>\n",
       "      <td>1000</td>\n",
       "    </tr>\n",
       "  </tbody>\n",
       "</table>\n",
       "</div>"
      ],
      "text/plain": [
       "       id  mb_used session_date  user_id\n",
       "0  1000_0   112.95   2018-11-25     1000\n",
       "1  1000_1  1052.81   2018-09-07     1000\n",
       "2  1000_2  1197.26   2018-06-25     1000\n",
       "3  1000_3   550.27   2018-08-22     1000\n",
       "4  1000_4   302.56   2018-09-24     1000"
      ]
     },
     "execution_count": 9,
     "metadata": {},
     "output_type": "execute_result"
    }
   ],
   "source": [
    "# вывод на экран первых 5 строк датасета\n",
    "df_internet.head()"
   ]
  },
  {
   "cell_type": "code",
   "execution_count": 10,
   "metadata": {},
   "outputs": [
    {
     "name": "stdout",
     "output_type": "stream",
     "text": [
      "<class 'pandas.core.frame.DataFrame'>\n",
      "Int64Index: 149396 entries, 0 to 149395\n",
      "Data columns (total 4 columns):\n",
      " #   Column        Non-Null Count   Dtype  \n",
      "---  ------        --------------   -----  \n",
      " 0   id            149396 non-null  object \n",
      " 1   mb_used       149396 non-null  float64\n",
      " 2   session_date  149396 non-null  object \n",
      " 3   user_id       149396 non-null  int64  \n",
      "dtypes: float64(1), int64(1), object(2)\n",
      "memory usage: 5.7+ MB\n"
     ]
    }
   ],
   "source": [
    "# изучение общей информации о наборе данных\n",
    "df_internet.info()"
   ]
  },
  {
   "cell_type": "code",
   "execution_count": 11,
   "metadata": {},
   "outputs": [
    {
     "data": {
      "text/plain": [
       "Index(['id', 'mb_used', 'session_date', 'user_id'], dtype='object')"
      ]
     },
     "execution_count": 11,
     "metadata": {},
     "output_type": "execute_result"
    }
   ],
   "source": [
    "# вывод на экран названия столбцов\n",
    "df_internet.columns"
   ]
  },
  {
   "cell_type": "code",
   "execution_count": 12,
   "metadata": {},
   "outputs": [
    {
     "data": {
      "text/plain": [
       "0"
      ]
     },
     "execution_count": 12,
     "metadata": {},
     "output_type": "execute_result"
    }
   ],
   "source": [
    "# подсчёт явных дубликатов\n",
    "df_internet.duplicated().sum()\n"
   ]
  },
  {
   "cell_type": "markdown",
   "metadata": {},
   "source": [
    "Датасет `df_internet` содержит информацию об интернет-сессиях.\n",
    "\n",
    "В таблице четыре столбца.\n",
    "- id — уникальный номер сессии,\n",
    "- mb_used — объём потраченного за сессию интернет-трафика (в мегабайтах),\n",
    "- session_date — дата интернет-сессии,\n",
    "- user_id — идентификатор пользователя.\n",
    "\n",
    "Пропусков и дубликатов в данных нет.\n",
    "Необходимо округлить объём интернет-трафика для правильного расчета выручки, т.к. тарификация происходит за полный мегабайт.\n",
    "Необходимо изменить тип данных объёма интернет-трафика с float64 на целочисленный int и дату интернет-соединения на понятные даты с типом данных datetime64."
   ]
  },
  {
   "cell_type": "markdown",
   "metadata": {},
   "source": [
    "### Таблица `messages` (информация о сообщениях):"
   ]
  },
  {
   "cell_type": "code",
   "execution_count": 13,
   "metadata": {},
   "outputs": [
    {
     "data": {
      "text/html": [
       "<div>\n",
       "<style scoped>\n",
       "    .dataframe tbody tr th:only-of-type {\n",
       "        vertical-align: middle;\n",
       "    }\n",
       "\n",
       "    .dataframe tbody tr th {\n",
       "        vertical-align: top;\n",
       "    }\n",
       "\n",
       "    .dataframe thead th {\n",
       "        text-align: right;\n",
       "    }\n",
       "</style>\n",
       "<table border=\"1\" class=\"dataframe\">\n",
       "  <thead>\n",
       "    <tr style=\"text-align: right;\">\n",
       "      <th></th>\n",
       "      <th>id</th>\n",
       "      <th>message_date</th>\n",
       "      <th>user_id</th>\n",
       "    </tr>\n",
       "  </thead>\n",
       "  <tbody>\n",
       "    <tr>\n",
       "      <th>0</th>\n",
       "      <td>1000_0</td>\n",
       "      <td>2018-06-27</td>\n",
       "      <td>1000</td>\n",
       "    </tr>\n",
       "    <tr>\n",
       "      <th>1</th>\n",
       "      <td>1000_1</td>\n",
       "      <td>2018-10-08</td>\n",
       "      <td>1000</td>\n",
       "    </tr>\n",
       "    <tr>\n",
       "      <th>2</th>\n",
       "      <td>1000_2</td>\n",
       "      <td>2018-08-04</td>\n",
       "      <td>1000</td>\n",
       "    </tr>\n",
       "    <tr>\n",
       "      <th>3</th>\n",
       "      <td>1000_3</td>\n",
       "      <td>2018-06-16</td>\n",
       "      <td>1000</td>\n",
       "    </tr>\n",
       "    <tr>\n",
       "      <th>4</th>\n",
       "      <td>1000_4</td>\n",
       "      <td>2018-12-05</td>\n",
       "      <td>1000</td>\n",
       "    </tr>\n",
       "  </tbody>\n",
       "</table>\n",
       "</div>"
      ],
      "text/plain": [
       "       id message_date  user_id\n",
       "0  1000_0   2018-06-27     1000\n",
       "1  1000_1   2018-10-08     1000\n",
       "2  1000_2   2018-08-04     1000\n",
       "3  1000_3   2018-06-16     1000\n",
       "4  1000_4   2018-12-05     1000"
      ]
     },
     "execution_count": 13,
     "metadata": {},
     "output_type": "execute_result"
    }
   ],
   "source": [
    "# вывод на экран первых 5 строк датасета\n",
    "df_messages.head()"
   ]
  },
  {
   "cell_type": "code",
   "execution_count": 14,
   "metadata": {},
   "outputs": [
    {
     "name": "stdout",
     "output_type": "stream",
     "text": [
      "<class 'pandas.core.frame.DataFrame'>\n",
      "RangeIndex: 123036 entries, 0 to 123035\n",
      "Data columns (total 3 columns):\n",
      " #   Column        Non-Null Count   Dtype \n",
      "---  ------        --------------   ----- \n",
      " 0   id            123036 non-null  object\n",
      " 1   message_date  123036 non-null  object\n",
      " 2   user_id       123036 non-null  int64 \n",
      "dtypes: int64(1), object(2)\n",
      "memory usage: 2.8+ MB\n"
     ]
    }
   ],
   "source": [
    "# изучение общей информации о наборе данных\n",
    "df_messages.info()"
   ]
  },
  {
   "cell_type": "code",
   "execution_count": 15,
   "metadata": {},
   "outputs": [
    {
     "data": {
      "text/plain": [
       "Index(['id', 'message_date', 'user_id'], dtype='object')"
      ]
     },
     "execution_count": 15,
     "metadata": {},
     "output_type": "execute_result"
    }
   ],
   "source": [
    "# вывод на экран названия столбцов\n",
    "df_messages.columns"
   ]
  },
  {
   "cell_type": "code",
   "execution_count": 16,
   "metadata": {},
   "outputs": [
    {
     "data": {
      "text/plain": [
       "0"
      ]
     },
     "execution_count": 16,
     "metadata": {},
     "output_type": "execute_result"
    }
   ],
   "source": [
    "# подсчёт явных дубликатов\n",
    "df_messages.duplicated().sum()"
   ]
  },
  {
   "cell_type": "markdown",
   "metadata": {},
   "source": [
    "Датасет `df_messages` содержит информацию о сообщениях.\n",
    "\n",
    "В таблице три столбца.\n",
    "\n",
    "- id — уникальный номер сообщения\n",
    "- message_date — дата сообщения\n",
    "- user_id — идентификатор пользователя, отправившего сообщение\n",
    "\n",
    "Пропусков и дубликатов в данных нет. Необходимо изменить тип данных даты отправки сообщения на понятные даты с типом данных datetime64."
   ]
  },
  {
   "cell_type": "markdown",
   "metadata": {},
   "source": [
    "### Таблица `users` (информация о пользователях):"
   ]
  },
  {
   "cell_type": "code",
   "execution_count": 17,
   "metadata": {},
   "outputs": [
    {
     "data": {
      "text/html": [
       "<div>\n",
       "<style scoped>\n",
       "    .dataframe tbody tr th:only-of-type {\n",
       "        vertical-align: middle;\n",
       "    }\n",
       "\n",
       "    .dataframe tbody tr th {\n",
       "        vertical-align: top;\n",
       "    }\n",
       "\n",
       "    .dataframe thead th {\n",
       "        text-align: right;\n",
       "    }\n",
       "</style>\n",
       "<table border=\"1\" class=\"dataframe\">\n",
       "  <thead>\n",
       "    <tr style=\"text-align: right;\">\n",
       "      <th></th>\n",
       "      <th>user_id</th>\n",
       "      <th>age</th>\n",
       "      <th>churn_date</th>\n",
       "      <th>city</th>\n",
       "      <th>first_name</th>\n",
       "      <th>last_name</th>\n",
       "      <th>reg_date</th>\n",
       "      <th>tariff</th>\n",
       "    </tr>\n",
       "  </thead>\n",
       "  <tbody>\n",
       "    <tr>\n",
       "      <th>0</th>\n",
       "      <td>1000</td>\n",
       "      <td>52</td>\n",
       "      <td>NaN</td>\n",
       "      <td>Краснодар</td>\n",
       "      <td>Рафаил</td>\n",
       "      <td>Верещагин</td>\n",
       "      <td>2018-05-25</td>\n",
       "      <td>ultra</td>\n",
       "    </tr>\n",
       "    <tr>\n",
       "      <th>1</th>\n",
       "      <td>1001</td>\n",
       "      <td>41</td>\n",
       "      <td>NaN</td>\n",
       "      <td>Москва</td>\n",
       "      <td>Иван</td>\n",
       "      <td>Ежов</td>\n",
       "      <td>2018-11-01</td>\n",
       "      <td>smart</td>\n",
       "    </tr>\n",
       "    <tr>\n",
       "      <th>2</th>\n",
       "      <td>1002</td>\n",
       "      <td>59</td>\n",
       "      <td>NaN</td>\n",
       "      <td>Стерлитамак</td>\n",
       "      <td>Евгений</td>\n",
       "      <td>Абрамович</td>\n",
       "      <td>2018-06-17</td>\n",
       "      <td>smart</td>\n",
       "    </tr>\n",
       "    <tr>\n",
       "      <th>3</th>\n",
       "      <td>1003</td>\n",
       "      <td>23</td>\n",
       "      <td>NaN</td>\n",
       "      <td>Москва</td>\n",
       "      <td>Белла</td>\n",
       "      <td>Белякова</td>\n",
       "      <td>2018-08-17</td>\n",
       "      <td>ultra</td>\n",
       "    </tr>\n",
       "    <tr>\n",
       "      <th>4</th>\n",
       "      <td>1004</td>\n",
       "      <td>68</td>\n",
       "      <td>NaN</td>\n",
       "      <td>Новокузнецк</td>\n",
       "      <td>Татьяна</td>\n",
       "      <td>Авдеенко</td>\n",
       "      <td>2018-05-14</td>\n",
       "      <td>ultra</td>\n",
       "    </tr>\n",
       "  </tbody>\n",
       "</table>\n",
       "</div>"
      ],
      "text/plain": [
       "   user_id  age churn_date         city first_name  last_name    reg_date  \\\n",
       "0     1000   52        NaN    Краснодар     Рафаил  Верещагин  2018-05-25   \n",
       "1     1001   41        NaN       Москва       Иван       Ежов  2018-11-01   \n",
       "2     1002   59        NaN  Стерлитамак    Евгений  Абрамович  2018-06-17   \n",
       "3     1003   23        NaN       Москва      Белла   Белякова  2018-08-17   \n",
       "4     1004   68        NaN  Новокузнецк    Татьяна   Авдеенко  2018-05-14   \n",
       "\n",
       "  tariff  \n",
       "0  ultra  \n",
       "1  smart  \n",
       "2  smart  \n",
       "3  ultra  \n",
       "4  ultra  "
      ]
     },
     "execution_count": 17,
     "metadata": {},
     "output_type": "execute_result"
    }
   ],
   "source": [
    "# вывод на экран первых 5 строк датасета\n",
    "df_users.head()"
   ]
  },
  {
   "cell_type": "code",
   "execution_count": 18,
   "metadata": {},
   "outputs": [
    {
     "name": "stdout",
     "output_type": "stream",
     "text": [
      "<class 'pandas.core.frame.DataFrame'>\n",
      "RangeIndex: 500 entries, 0 to 499\n",
      "Data columns (total 8 columns):\n",
      " #   Column      Non-Null Count  Dtype \n",
      "---  ------      --------------  ----- \n",
      " 0   user_id     500 non-null    int64 \n",
      " 1   age         500 non-null    int64 \n",
      " 2   churn_date  38 non-null     object\n",
      " 3   city        500 non-null    object\n",
      " 4   first_name  500 non-null    object\n",
      " 5   last_name   500 non-null    object\n",
      " 6   reg_date    500 non-null    object\n",
      " 7   tariff      500 non-null    object\n",
      "dtypes: int64(2), object(6)\n",
      "memory usage: 31.4+ KB\n"
     ]
    }
   ],
   "source": [
    "# изучение общей информации о наборе данных\n",
    "df_users.info()"
   ]
  },
  {
   "cell_type": "code",
   "execution_count": 19,
   "metadata": {},
   "outputs": [
    {
     "data": {
      "text/plain": [
       "Index(['user_id', 'age', 'churn_date', 'city', 'first_name', 'last_name',\n",
       "       'reg_date', 'tariff'],\n",
       "      dtype='object')"
      ]
     },
     "execution_count": 19,
     "metadata": {},
     "output_type": "execute_result"
    }
   ],
   "source": [
    "# вывод на экран названия столбцов\n",
    "df_users.columns"
   ]
  },
  {
   "cell_type": "code",
   "execution_count": 20,
   "metadata": {},
   "outputs": [
    {
     "data": {
      "text/plain": [
       "0"
      ]
     },
     "execution_count": 20,
     "metadata": {},
     "output_type": "execute_result"
    }
   ],
   "source": [
    "# подсчёт явных дубликатов\n",
    "df_users.duplicated().sum()"
   ]
  },
  {
   "cell_type": "markdown",
   "metadata": {},
   "source": [
    "Датасет `users` содержит информацию о пользователях.\n",
    "\n",
    "В таблице восемь столбцов.\n",
    "\n",
    "- user_id — уникальный идентификатор пользователя\n",
    "- first_name — имя пользователя\n",
    "- last_name — фамилия пользователя\n",
    "- age — возраст пользователя (годы)\n",
    "- reg_date — дата подключения тарифа (день, месяц, год)\n",
    "- churn_date — дата прекращения пользования тарифом (если значение пропущено, то тариф ещё действовал на момент выгрузки данных)\n",
    "- city — город проживания пользователя\n",
    "- tarif — название тарифного плана\n",
    "\n",
    "Пропусков и дубликатов в данных нет. 38 абонентов приекратили пользоваться тарифом.\n",
    "Необходимо изменить типы данных дат reg_date и churn_date для упрощения расчётов.\n",
    "Добавим новый столбец с информацией о длительности пользования тарифами."
   ]
  },
  {
   "cell_type": "markdown",
   "metadata": {},
   "source": [
    "## Предобработка данных"
   ]
  },
  {
   "cell_type": "markdown",
   "metadata": {},
   "source": [
    "### Таблица `calls` (информация о звонках):"
   ]
  },
  {
   "cell_type": "code",
   "execution_count": 21,
   "metadata": {
    "scrolled": true
   },
   "outputs": [
    {
     "name": "stdout",
     "output_type": "stream",
     "text": [
      "<class 'pandas.core.frame.DataFrame'>\n",
      "RangeIndex: 202607 entries, 0 to 202606\n",
      "Data columns (total 5 columns):\n",
      " #   Column     Non-Null Count   Dtype         \n",
      "---  ------     --------------   -----         \n",
      " 0   id         202607 non-null  object        \n",
      " 1   call_date  202607 non-null  datetime64[ns]\n",
      " 2   duration   202607 non-null  int64         \n",
      " 3   user_id    202607 non-null  int64         \n",
      " 4   month      202607 non-null  int64         \n",
      "dtypes: datetime64[ns](1), int64(3), object(1)\n",
      "memory usage: 7.7+ MB\n"
     ]
    }
   ],
   "source": [
    "# меняем значения в колонке duration с 0 на 1 минуту\n",
    "#df_calls.loc[df_calls['duration'] == 0, 'duration'] = 1\n",
    "\n",
    "# округляем длительность звонков и меняем тип данных на целочисленный\n",
    "df_calls['duration'] = np.ceil(df_calls['duration']).astype('int')\n",
    "\n",
    "# перевод даты из объектного типа в тип datetime64 в столбце call_date\n",
    "df_calls['call_date'] = pd.to_datetime(df_calls['call_date'], format='%Y-%m-%d')\n",
    "\n",
    "# добавляем столбец с категорией месяца\n",
    "df_calls['month'] = pd.DatetimeIndex(df_calls['call_date']).month\n",
    "\n",
    "# выведем информацию после внесения изменений\n",
    "df_calls.info()"
   ]
  },
  {
   "cell_type": "markdown",
   "metadata": {},
   "source": [
    "### Таблица `internet` (информация об интернет-сессиях):"
   ]
  },
  {
   "cell_type": "code",
   "execution_count": 22,
   "metadata": {},
   "outputs": [
    {
     "name": "stdout",
     "output_type": "stream",
     "text": [
      "<class 'pandas.core.frame.DataFrame'>\n",
      "Int64Index: 149396 entries, 0 to 149395\n",
      "Data columns (total 5 columns):\n",
      " #   Column        Non-Null Count   Dtype         \n",
      "---  ------        --------------   -----         \n",
      " 0   id            149396 non-null  object        \n",
      " 1   mb_used       149396 non-null  int64         \n",
      " 2   session_date  149396 non-null  datetime64[ns]\n",
      " 3   user_id       149396 non-null  int64         \n",
      " 4   month         149396 non-null  int64         \n",
      "dtypes: datetime64[ns](1), int64(3), object(1)\n",
      "memory usage: 6.8+ MB\n"
     ]
    }
   ],
   "source": [
    "# перевод даты в тип datetime64\n",
    "df_internet['session_date'] = pd.to_datetime(df_internet['session_date'], format='%Y-%m-%d')\n",
    "\n",
    "# меняем тип данных на int\n",
    "df_internet['mb_used'] = df_internet['mb_used'].astype('int')\n",
    "\n",
    "# добавляем столбец с категорией месяца\n",
    "df_internet['month'] = pd.DatetimeIndex(df_internet['session_date']).month\n",
    "\n",
    "# выведем информацию после внесения изменений\n",
    "df_internet.info()\n"
   ]
  },
  {
   "cell_type": "markdown",
   "metadata": {},
   "source": [
    "### Таблица `messages` (информация о сообщениях):"
   ]
  },
  {
   "cell_type": "code",
   "execution_count": 23,
   "metadata": {},
   "outputs": [
    {
     "name": "stdout",
     "output_type": "stream",
     "text": [
      "<class 'pandas.core.frame.DataFrame'>\n",
      "RangeIndex: 123036 entries, 0 to 123035\n",
      "Data columns (total 4 columns):\n",
      " #   Column        Non-Null Count   Dtype         \n",
      "---  ------        --------------   -----         \n",
      " 0   id            123036 non-null  object        \n",
      " 1   message_date  123036 non-null  datetime64[ns]\n",
      " 2   user_id       123036 non-null  int64         \n",
      " 3   month         123036 non-null  int64         \n",
      "dtypes: datetime64[ns](1), int64(2), object(1)\n",
      "memory usage: 3.8+ MB\n"
     ]
    }
   ],
   "source": [
    "# перевод даты в тип datetime64\n",
    "df_messages['message_date'] = pd.to_datetime(df_messages['message_date'], format='%Y-%m-%d')\n",
    "\n",
    "# добавляем столбец с категорией месяца\n",
    "df_messages['month'] = pd.DatetimeIndex(df_messages['message_date']).month\n",
    "\n",
    "# выведем информацию после внесения изменений\n",
    "df_messages.info()"
   ]
  },
  {
   "cell_type": "markdown",
   "metadata": {},
   "source": [
    "### Таблица `users` (информация о пользователях):"
   ]
  },
  {
   "cell_type": "code",
   "execution_count": 24,
   "metadata": {},
   "outputs": [],
   "source": [
    "# перевод даты в тип datetime64\n",
    "df_users['reg_date'] = pd.to_datetime(df_users['reg_date'], format='%Y-%m-%d')\n",
    "df_users['churn_date'] = pd.to_datetime(df_users['churn_date'], format='%Y-%m-%d')\n",
    "\n",
    "# добавляем столбец с категорией месяца\n",
    "df_users['month_stop'] = pd.DatetimeIndex(df_users['churn_date']).month\n",
    "df_users['month_start'] = pd.DatetimeIndex(df_users['reg_date']).month"
   ]
  },
  {
   "cell_type": "markdown",
   "metadata": {},
   "source": [
    "Узнаем сколько времени абоненты пользовались тарифами, для этого из столбца даты прекращения пользования тарифом вычтем столбец с датой подключения тарифа и добавим расчеты в новый столбец 'use_days'."
   ]
  },
  {
   "cell_type": "code",
   "execution_count": 25,
   "metadata": {},
   "outputs": [
    {
     "name": "stdout",
     "output_type": "stream",
     "text": [
      "<class 'pandas.core.frame.DataFrame'>\n",
      "RangeIndex: 500 entries, 0 to 499\n",
      "Data columns (total 11 columns):\n",
      " #   Column       Non-Null Count  Dtype          \n",
      "---  ------       --------------  -----          \n",
      " 0   user_id      500 non-null    int64          \n",
      " 1   age          500 non-null    int64          \n",
      " 2   churn_date   38 non-null     datetime64[ns] \n",
      " 3   city         500 non-null    object         \n",
      " 4   first_name   500 non-null    object         \n",
      " 5   last_name    500 non-null    object         \n",
      " 6   reg_date     500 non-null    datetime64[ns] \n",
      " 7   tariff       500 non-null    object         \n",
      " 8   month_stop   38 non-null     float64        \n",
      " 9   month_start  500 non-null    int64          \n",
      " 10  use_days     38 non-null     timedelta64[ns]\n",
      "dtypes: datetime64[ns](2), float64(1), int64(3), object(4), timedelta64[ns](1)\n",
      "memory usage: 43.1+ KB\n"
     ]
    }
   ],
   "source": [
    "# расчет длительности пользования тарифом\n",
    "df_users['use_days'] = df_users['churn_date'] - df_users['reg_date']\n",
    "\n",
    "# выведем информацию после внесения изменений\n",
    "df_users.info()"
   ]
  },
  {
   "cell_type": "markdown",
   "metadata": {},
   "source": [
    "### Таблица `tariffs` (информация о тарифах):\n",
    "\n",
    "- tariff_name — название тарифа\n",
    "- rub_monthly_fee — ежемесячная абонентская плата в рублях\n",
    "- minutes_included — количество минут разговора в месяц, включённых в абонентскую плату\n",
    "- messages_included — количество сообщений в месяц, включённых в абонентскую плату\n",
    "- mb_per_month_included — объём интернет-трафика, включённого в абонентскую плату (в мегабайтах)\n",
    "- rub_per_minute — стоимость минуты разговора сверх тарифного пакета (например, если в тарифе 100 минут разговора в месяц, то со 101 минуты будет взиматься плата)\n",
    "- rub_per_message — стоимость отправки сообщения сверх тарифного пакета\n",
    "- rub_per_gb — стоимость дополнительного гигабайта интернет-трафика сверх тарифного пакета (1 гигабайт = 1024 мегабайта)"
   ]
  },
  {
   "cell_type": "markdown",
   "metadata": {},
   "source": [
    "Расчитаем объём интернет-трафика, включённого в абонентскую плату (в гигабайтах) и добавим новый столбец с данными 'gb_per_month_included' в таблицу df_tariffs."
   ]
  },
  {
   "cell_type": "code",
   "execution_count": 26,
   "metadata": {},
   "outputs": [
    {
     "data": {
      "text/html": [
       "<div>\n",
       "<style scoped>\n",
       "    .dataframe tbody tr th:only-of-type {\n",
       "        vertical-align: middle;\n",
       "    }\n",
       "\n",
       "    .dataframe tbody tr th {\n",
       "        vertical-align: top;\n",
       "    }\n",
       "\n",
       "    .dataframe thead th {\n",
       "        text-align: right;\n",
       "    }\n",
       "</style>\n",
       "<table border=\"1\" class=\"dataframe\">\n",
       "  <thead>\n",
       "    <tr style=\"text-align: right;\">\n",
       "      <th></th>\n",
       "      <th>messages_included</th>\n",
       "      <th>mb_per_month_included</th>\n",
       "      <th>minutes_included</th>\n",
       "      <th>rub_monthly_fee</th>\n",
       "      <th>rub_per_gb</th>\n",
       "      <th>rub_per_message</th>\n",
       "      <th>rub_per_minute</th>\n",
       "      <th>tariff_name</th>\n",
       "      <th>gb_per_month_included</th>\n",
       "    </tr>\n",
       "  </thead>\n",
       "  <tbody>\n",
       "    <tr>\n",
       "      <th>0</th>\n",
       "      <td>50</td>\n",
       "      <td>15360</td>\n",
       "      <td>500</td>\n",
       "      <td>550</td>\n",
       "      <td>200</td>\n",
       "      <td>3</td>\n",
       "      <td>3</td>\n",
       "      <td>smart</td>\n",
       "      <td>15.0</td>\n",
       "    </tr>\n",
       "    <tr>\n",
       "      <th>1</th>\n",
       "      <td>1000</td>\n",
       "      <td>30720</td>\n",
       "      <td>3000</td>\n",
       "      <td>1950</td>\n",
       "      <td>150</td>\n",
       "      <td>1</td>\n",
       "      <td>1</td>\n",
       "      <td>ultra</td>\n",
       "      <td>30.0</td>\n",
       "    </tr>\n",
       "  </tbody>\n",
       "</table>\n",
       "</div>"
      ],
      "text/plain": [
       "   messages_included  mb_per_month_included  minutes_included  \\\n",
       "0                 50                  15360               500   \n",
       "1               1000                  30720              3000   \n",
       "\n",
       "   rub_monthly_fee  rub_per_gb  rub_per_message  rub_per_minute tariff_name  \\\n",
       "0              550         200                3               3       smart   \n",
       "1             1950         150                1               1       ultra   \n",
       "\n",
       "   gb_per_month_included  \n",
       "0                   15.0  \n",
       "1                   30.0  "
      ]
     },
     "execution_count": 26,
     "metadata": {},
     "output_type": "execute_result"
    }
   ],
   "source": [
    "# расчёт ежемясчного объема интернет-трафика в гигабайтах и добавление нового столбца\n",
    "df_tariffs['gb_per_month_included'] = df_tariffs['mb_per_month_included'] / 1024\n",
    "df_tariffs.head()\n"
   ]
  },
  {
   "cell_type": "markdown",
   "metadata": {},
   "source": [
    "**Посчитаем для каждого пользователя:**\n",
    "\n",
    "- количество сделанных звонков и израсходованных минут разговора по месяцам;\n",
    "- количество отправленных сообщений по месяцам;\n",
    "- объем израсходованного интернет-трафика по месяцам;\n",
    "- помесячную выручку с каждого пользователя"
   ]
  },
  {
   "cell_type": "code",
   "execution_count": 27,
   "metadata": {},
   "outputs": [
    {
     "data": {
      "text/html": [
       "<div>\n",
       "<style scoped>\n",
       "    .dataframe tbody tr th:only-of-type {\n",
       "        vertical-align: middle;\n",
       "    }\n",
       "\n",
       "    .dataframe tbody tr th {\n",
       "        vertical-align: top;\n",
       "    }\n",
       "\n",
       "    .dataframe thead th {\n",
       "        text-align: right;\n",
       "    }\n",
       "</style>\n",
       "<table border=\"1\" class=\"dataframe\">\n",
       "  <thead>\n",
       "    <tr style=\"text-align: right;\">\n",
       "      <th></th>\n",
       "      <th>user_id</th>\n",
       "      <th>month</th>\n",
       "      <th>calls_count</th>\n",
       "      <th>calls_sum</th>\n",
       "    </tr>\n",
       "  </thead>\n",
       "  <tbody>\n",
       "    <tr>\n",
       "      <th>0</th>\n",
       "      <td>1000</td>\n",
       "      <td>5</td>\n",
       "      <td>22</td>\n",
       "      <td>159</td>\n",
       "    </tr>\n",
       "    <tr>\n",
       "      <th>1</th>\n",
       "      <td>1000</td>\n",
       "      <td>6</td>\n",
       "      <td>43</td>\n",
       "      <td>172</td>\n",
       "    </tr>\n",
       "    <tr>\n",
       "      <th>2</th>\n",
       "      <td>1000</td>\n",
       "      <td>7</td>\n",
       "      <td>47</td>\n",
       "      <td>340</td>\n",
       "    </tr>\n",
       "    <tr>\n",
       "      <th>3</th>\n",
       "      <td>1000</td>\n",
       "      <td>8</td>\n",
       "      <td>52</td>\n",
       "      <td>408</td>\n",
       "    </tr>\n",
       "    <tr>\n",
       "      <th>4</th>\n",
       "      <td>1000</td>\n",
       "      <td>9</td>\n",
       "      <td>58</td>\n",
       "      <td>466</td>\n",
       "    </tr>\n",
       "  </tbody>\n",
       "</table>\n",
       "</div>"
      ],
      "text/plain": [
       "   user_id  month  calls_count  calls_sum\n",
       "0     1000      5           22        159\n",
       "1     1000      6           43        172\n",
       "2     1000      7           47        340\n",
       "3     1000      8           52        408\n",
       "4     1000      9           58        466"
      ]
     },
     "execution_count": 27,
     "metadata": {},
     "output_type": "execute_result"
    }
   ],
   "source": [
    "# количество сделанных звонков и израсходованных минут разговора по месяцам\n",
    "calls = df_calls.pivot_table(index=['user_id', 'month'], values='duration', aggfunc=['count', 'sum']).reset_index()\n",
    "calls.columns = ['user_id', 'month', 'calls_count', 'calls_sum']\n",
    "calls.head()"
   ]
  },
  {
   "cell_type": "code",
   "execution_count": 28,
   "metadata": {},
   "outputs": [
    {
     "data": {
      "text/html": [
       "<div>\n",
       "<style scoped>\n",
       "    .dataframe tbody tr th:only-of-type {\n",
       "        vertical-align: middle;\n",
       "    }\n",
       "\n",
       "    .dataframe tbody tr th {\n",
       "        vertical-align: top;\n",
       "    }\n",
       "\n",
       "    .dataframe thead th {\n",
       "        text-align: right;\n",
       "    }\n",
       "</style>\n",
       "<table border=\"1\" class=\"dataframe\">\n",
       "  <thead>\n",
       "    <tr style=\"text-align: right;\">\n",
       "      <th></th>\n",
       "      <th>user_id</th>\n",
       "      <th>month</th>\n",
       "      <th>messages_count</th>\n",
       "    </tr>\n",
       "  </thead>\n",
       "  <tbody>\n",
       "    <tr>\n",
       "      <th>0</th>\n",
       "      <td>1000</td>\n",
       "      <td>5</td>\n",
       "      <td>22</td>\n",
       "    </tr>\n",
       "    <tr>\n",
       "      <th>1</th>\n",
       "      <td>1000</td>\n",
       "      <td>6</td>\n",
       "      <td>60</td>\n",
       "    </tr>\n",
       "    <tr>\n",
       "      <th>2</th>\n",
       "      <td>1000</td>\n",
       "      <td>7</td>\n",
       "      <td>75</td>\n",
       "    </tr>\n",
       "    <tr>\n",
       "      <th>3</th>\n",
       "      <td>1000</td>\n",
       "      <td>8</td>\n",
       "      <td>81</td>\n",
       "    </tr>\n",
       "    <tr>\n",
       "      <th>4</th>\n",
       "      <td>1000</td>\n",
       "      <td>9</td>\n",
       "      <td>57</td>\n",
       "    </tr>\n",
       "  </tbody>\n",
       "</table>\n",
       "</div>"
      ],
      "text/plain": [
       "   user_id  month  messages_count\n",
       "0     1000      5              22\n",
       "1     1000      6              60\n",
       "2     1000      7              75\n",
       "3     1000      8              81\n",
       "4     1000      9              57"
      ]
     },
     "execution_count": 28,
     "metadata": {},
     "output_type": "execute_result"
    }
   ],
   "source": [
    "# количество отправленных сообщений по месяцам\n",
    "messages = df_messages.pivot_table(index=['user_id', 'month'], values='id', aggfunc='count').reset_index()\n",
    "messages.columns = ['user_id', 'month', 'messages_count']\n",
    "messages.head()"
   ]
  },
  {
   "cell_type": "code",
   "execution_count": 29,
   "metadata": {},
   "outputs": [
    {
     "data": {
      "text/html": [
       "<div>\n",
       "<style scoped>\n",
       "    .dataframe tbody tr th:only-of-type {\n",
       "        vertical-align: middle;\n",
       "    }\n",
       "\n",
       "    .dataframe tbody tr th {\n",
       "        vertical-align: top;\n",
       "    }\n",
       "\n",
       "    .dataframe thead th {\n",
       "        text-align: right;\n",
       "    }\n",
       "</style>\n",
       "<table border=\"1\" class=\"dataframe\">\n",
       "  <thead>\n",
       "    <tr style=\"text-align: right;\">\n",
       "      <th></th>\n",
       "      <th>user_id</th>\n",
       "      <th>month</th>\n",
       "      <th>mb_sum_internet</th>\n",
       "    </tr>\n",
       "  </thead>\n",
       "  <tbody>\n",
       "    <tr>\n",
       "      <th>0</th>\n",
       "      <td>1000</td>\n",
       "      <td>5</td>\n",
       "      <td>2252</td>\n",
       "    </tr>\n",
       "    <tr>\n",
       "      <th>1</th>\n",
       "      <td>1000</td>\n",
       "      <td>6</td>\n",
       "      <td>23213</td>\n",
       "    </tr>\n",
       "    <tr>\n",
       "      <th>2</th>\n",
       "      <td>1000</td>\n",
       "      <td>7</td>\n",
       "      <td>13988</td>\n",
       "    </tr>\n",
       "    <tr>\n",
       "      <th>3</th>\n",
       "      <td>1000</td>\n",
       "      <td>8</td>\n",
       "      <td>14043</td>\n",
       "    </tr>\n",
       "    <tr>\n",
       "      <th>4</th>\n",
       "      <td>1000</td>\n",
       "      <td>9</td>\n",
       "      <td>14556</td>\n",
       "    </tr>\n",
       "  </tbody>\n",
       "</table>\n",
       "</div>"
      ],
      "text/plain": [
       "   user_id  month  mb_sum_internet\n",
       "0     1000      5             2252\n",
       "1     1000      6            23213\n",
       "2     1000      7            13988\n",
       "3     1000      8            14043\n",
       "4     1000      9            14556"
      ]
     },
     "execution_count": 29,
     "metadata": {},
     "output_type": "execute_result"
    }
   ],
   "source": [
    "# объем израсходованного интернет-трафика по месяцам\n",
    "internet = df_internet.pivot_table(index=['user_id', 'month'], values='mb_used', aggfunc='sum').reset_index()\n",
    "internet.columns = ['user_id', 'month', 'mb_sum_internet']\n",
    "internet.head()"
   ]
  },
  {
   "cell_type": "code",
   "execution_count": 30,
   "metadata": {},
   "outputs": [],
   "source": [
    "# рассчитаем гигабайты и округлим их в большую сторону\n",
    "internet['gb_sum_internet'] = np.ceil(internet['mb_sum_internet'] / 1024)"
   ]
  },
  {
   "cell_type": "markdown",
   "metadata": {},
   "source": [
    "**Расчет помесячной вручки с каждого пользователя:** \n",
    "\n",
    "Необходимо объединить таблицы calls и messages для расчета выручки. Для этого необходимо проверить количество id клиентов в каждой таблице для выбора правильного метода соединения таблиц."
   ]
  },
  {
   "cell_type": "code",
   "execution_count": 31,
   "metadata": {},
   "outputs": [
    {
     "data": {
      "text/plain": [
       "500"
      ]
     },
     "execution_count": 31,
     "metadata": {},
     "output_type": "execute_result"
    }
   ],
   "source": [
    "# проверяем количество id в таблице о пользователях\n",
    "len(df_users['user_id'].unique())"
   ]
  },
  {
   "cell_type": "code",
   "execution_count": 32,
   "metadata": {},
   "outputs": [
    {
     "data": {
      "text/plain": [
       "426"
      ]
     },
     "execution_count": 32,
     "metadata": {},
     "output_type": "execute_result"
    }
   ],
   "source": [
    "# проверяем количество id в таблице о сообщениях\n",
    "len(df_messages['user_id'].unique())"
   ]
  },
  {
   "cell_type": "code",
   "execution_count": 33,
   "metadata": {},
   "outputs": [
    {
     "data": {
      "text/plain": [
       "492"
      ]
     },
     "execution_count": 33,
     "metadata": {},
     "output_type": "execute_result"
    }
   ],
   "source": [
    "# проверяем количество id в таблице о звонках\n",
    "len(df_calls['user_id'].unique())"
   ]
  },
  {
   "cell_type": "code",
   "execution_count": 34,
   "metadata": {},
   "outputs": [
    {
     "data": {
      "text/plain": [
       "497"
      ]
     },
     "execution_count": 34,
     "metadata": {},
     "output_type": "execute_result"
    }
   ],
   "source": [
    "# проверяем количество id в таблице об интернет-сессиях\n",
    "len(df_internet['user_id'].unique())"
   ]
  },
  {
   "cell_type": "markdown",
   "metadata": {},
   "source": [
    "- Всего информация представлена о 500 абонентах.\n",
    "- По сообщениям информация имеется у 426 абонентов.\n",
    "- По звонкам информация имеется у 492 абонентов.\n",
    "- По объему интернет-трафика информация имеется у 497 абонентов.\n",
    "\n",
    "Объединение информации методом merge(), тип слияния outer (от англ. «внешний»). Он объединяет данные из внешней общей области — такие, которые есть хотя бы в одном из датафреймов. Режим объединения задаётся параметром how (от англ. «как, каким образом»). Название столбца, по которому объединять, передают в параметре on, объединим таблицы по двум столбцам 'user_id' и 'month'."
   ]
  },
  {
   "cell_type": "code",
   "execution_count": 35,
   "metadata": {
    "scrolled": false
   },
   "outputs": [
    {
     "data": {
      "text/html": [
       "<div>\n",
       "<style scoped>\n",
       "    .dataframe tbody tr th:only-of-type {\n",
       "        vertical-align: middle;\n",
       "    }\n",
       "\n",
       "    .dataframe tbody tr th {\n",
       "        vertical-align: top;\n",
       "    }\n",
       "\n",
       "    .dataframe thead th {\n",
       "        text-align: right;\n",
       "    }\n",
       "</style>\n",
       "<table border=\"1\" class=\"dataframe\">\n",
       "  <thead>\n",
       "    <tr style=\"text-align: right;\">\n",
       "      <th></th>\n",
       "      <th>user_id</th>\n",
       "      <th>month</th>\n",
       "      <th>calls_count</th>\n",
       "      <th>calls_sum</th>\n",
       "      <th>messages_count</th>\n",
       "    </tr>\n",
       "  </thead>\n",
       "  <tbody>\n",
       "    <tr>\n",
       "      <th>0</th>\n",
       "      <td>1000</td>\n",
       "      <td>5</td>\n",
       "      <td>22.0</td>\n",
       "      <td>159.0</td>\n",
       "      <td>22.0</td>\n",
       "    </tr>\n",
       "    <tr>\n",
       "      <th>1</th>\n",
       "      <td>1000</td>\n",
       "      <td>6</td>\n",
       "      <td>43.0</td>\n",
       "      <td>172.0</td>\n",
       "      <td>60.0</td>\n",
       "    </tr>\n",
       "    <tr>\n",
       "      <th>2</th>\n",
       "      <td>1000</td>\n",
       "      <td>7</td>\n",
       "      <td>47.0</td>\n",
       "      <td>340.0</td>\n",
       "      <td>75.0</td>\n",
       "    </tr>\n",
       "    <tr>\n",
       "      <th>3</th>\n",
       "      <td>1000</td>\n",
       "      <td>8</td>\n",
       "      <td>52.0</td>\n",
       "      <td>408.0</td>\n",
       "      <td>81.0</td>\n",
       "    </tr>\n",
       "    <tr>\n",
       "      <th>4</th>\n",
       "      <td>1000</td>\n",
       "      <td>9</td>\n",
       "      <td>58.0</td>\n",
       "      <td>466.0</td>\n",
       "      <td>57.0</td>\n",
       "    </tr>\n",
       "  </tbody>\n",
       "</table>\n",
       "</div>"
      ],
      "text/plain": [
       "   user_id  month  calls_count  calls_sum  messages_count\n",
       "0     1000      5         22.0      159.0            22.0\n",
       "1     1000      6         43.0      172.0            60.0\n",
       "2     1000      7         47.0      340.0            75.0\n",
       "3     1000      8         52.0      408.0            81.0\n",
       "4     1000      9         58.0      466.0            57.0"
      ]
     },
     "execution_count": 35,
     "metadata": {},
     "output_type": "execute_result"
    }
   ],
   "source": [
    "# объединение информации по звонкам и сообщениям методом merge() с параметром параметром how с типом слияния outer  \n",
    "revenue = calls.merge(messages, on=['user_id', 'month'], how='outer')\n",
    "\n",
    "# выведем информацию после объединения\n",
    "revenue.head()"
   ]
  },
  {
   "cell_type": "code",
   "execution_count": 36,
   "metadata": {},
   "outputs": [
    {
     "data": {
      "text/plain": [
       "498"
      ]
     },
     "execution_count": 36,
     "metadata": {},
     "output_type": "execute_result"
    }
   ],
   "source": [
    "# узнаем количетво строк после объединения\n",
    "len(revenue['user_id'].unique())\n"
   ]
  },
  {
   "cell_type": "code",
   "execution_count": 37,
   "metadata": {},
   "outputs": [
    {
     "data": {
      "text/html": [
       "<div>\n",
       "<style scoped>\n",
       "    .dataframe tbody tr th:only-of-type {\n",
       "        vertical-align: middle;\n",
       "    }\n",
       "\n",
       "    .dataframe tbody tr th {\n",
       "        vertical-align: top;\n",
       "    }\n",
       "\n",
       "    .dataframe thead th {\n",
       "        text-align: right;\n",
       "    }\n",
       "</style>\n",
       "<table border=\"1\" class=\"dataframe\">\n",
       "  <thead>\n",
       "    <tr style=\"text-align: right;\">\n",
       "      <th></th>\n",
       "      <th>user_id</th>\n",
       "      <th>month</th>\n",
       "      <th>calls_count</th>\n",
       "      <th>calls_sum</th>\n",
       "      <th>messages_count</th>\n",
       "      <th>mb_sum_internet</th>\n",
       "      <th>gb_sum_internet</th>\n",
       "    </tr>\n",
       "  </thead>\n",
       "  <tbody>\n",
       "    <tr>\n",
       "      <th>0</th>\n",
       "      <td>1000</td>\n",
       "      <td>5</td>\n",
       "      <td>22.0</td>\n",
       "      <td>159.0</td>\n",
       "      <td>22.0</td>\n",
       "      <td>2252.0</td>\n",
       "      <td>3.0</td>\n",
       "    </tr>\n",
       "    <tr>\n",
       "      <th>1</th>\n",
       "      <td>1000</td>\n",
       "      <td>6</td>\n",
       "      <td>43.0</td>\n",
       "      <td>172.0</td>\n",
       "      <td>60.0</td>\n",
       "      <td>23213.0</td>\n",
       "      <td>23.0</td>\n",
       "    </tr>\n",
       "    <tr>\n",
       "      <th>2</th>\n",
       "      <td>1000</td>\n",
       "      <td>7</td>\n",
       "      <td>47.0</td>\n",
       "      <td>340.0</td>\n",
       "      <td>75.0</td>\n",
       "      <td>13988.0</td>\n",
       "      <td>14.0</td>\n",
       "    </tr>\n",
       "    <tr>\n",
       "      <th>3</th>\n",
       "      <td>1000</td>\n",
       "      <td>8</td>\n",
       "      <td>52.0</td>\n",
       "      <td>408.0</td>\n",
       "      <td>81.0</td>\n",
       "      <td>14043.0</td>\n",
       "      <td>14.0</td>\n",
       "    </tr>\n",
       "    <tr>\n",
       "      <th>4</th>\n",
       "      <td>1000</td>\n",
       "      <td>9</td>\n",
       "      <td>58.0</td>\n",
       "      <td>466.0</td>\n",
       "      <td>57.0</td>\n",
       "      <td>14556.0</td>\n",
       "      <td>15.0</td>\n",
       "    </tr>\n",
       "  </tbody>\n",
       "</table>\n",
       "</div>"
      ],
      "text/plain": [
       "   user_id  month  calls_count  calls_sum  messages_count  mb_sum_internet  \\\n",
       "0     1000      5         22.0      159.0            22.0           2252.0   \n",
       "1     1000      6         43.0      172.0            60.0          23213.0   \n",
       "2     1000      7         47.0      340.0            75.0          13988.0   \n",
       "3     1000      8         52.0      408.0            81.0          14043.0   \n",
       "4     1000      9         58.0      466.0            57.0          14556.0   \n",
       "\n",
       "   gb_sum_internet  \n",
       "0              3.0  \n",
       "1             23.0  \n",
       "2             14.0  \n",
       "3             14.0  \n",
       "4             15.0  "
      ]
     },
     "execution_count": 37,
     "metadata": {},
     "output_type": "execute_result"
    }
   ],
   "source": [
    "# присоединим данные об объеме интернет-трафика\n",
    "revenue = revenue.merge(internet, on=['user_id', 'month'], how='outer')\n",
    "\n",
    "# выведем информацию после объединения\n",
    "revenue.head()"
   ]
  },
  {
   "cell_type": "code",
   "execution_count": 38,
   "metadata": {},
   "outputs": [
    {
     "data": {
      "text/plain": [
       "498"
      ]
     },
     "execution_count": 38,
     "metadata": {},
     "output_type": "execute_result"
    }
   ],
   "source": [
    "# узнаем количетво строк после объединения\n",
    "len(revenue['user_id'].unique())"
   ]
  },
  {
   "cell_type": "markdown",
   "metadata": {},
   "source": [
    "Информация представлена не по всем 500 пользователям."
   ]
  },
  {
   "cell_type": "markdown",
   "metadata": {},
   "source": [
    "Для расчета выручки добавим в таблицу revenue столбец tariff из таблицы df_users. \n",
    "Режим объединения 'left' указывает, что в результат слияния обязательно должны войти все строки из левого датафрейма:"
   ]
  },
  {
   "cell_type": "code",
   "execution_count": 39,
   "metadata": {},
   "outputs": [
    {
     "data": {
      "text/html": [
       "<div>\n",
       "<style scoped>\n",
       "    .dataframe tbody tr th:only-of-type {\n",
       "        vertical-align: middle;\n",
       "    }\n",
       "\n",
       "    .dataframe tbody tr th {\n",
       "        vertical-align: top;\n",
       "    }\n",
       "\n",
       "    .dataframe thead th {\n",
       "        text-align: right;\n",
       "    }\n",
       "</style>\n",
       "<table border=\"1\" class=\"dataframe\">\n",
       "  <thead>\n",
       "    <tr style=\"text-align: right;\">\n",
       "      <th></th>\n",
       "      <th>user_id</th>\n",
       "      <th>month</th>\n",
       "      <th>calls_count</th>\n",
       "      <th>calls_sum</th>\n",
       "      <th>messages_count</th>\n",
       "      <th>mb_sum_internet</th>\n",
       "      <th>gb_sum_internet</th>\n",
       "      <th>tariff</th>\n",
       "    </tr>\n",
       "  </thead>\n",
       "  <tbody>\n",
       "    <tr>\n",
       "      <th>0</th>\n",
       "      <td>1000</td>\n",
       "      <td>5</td>\n",
       "      <td>22.0</td>\n",
       "      <td>159.0</td>\n",
       "      <td>22.0</td>\n",
       "      <td>2252.0</td>\n",
       "      <td>3.0</td>\n",
       "      <td>ultra</td>\n",
       "    </tr>\n",
       "    <tr>\n",
       "      <th>1</th>\n",
       "      <td>1000</td>\n",
       "      <td>6</td>\n",
       "      <td>43.0</td>\n",
       "      <td>172.0</td>\n",
       "      <td>60.0</td>\n",
       "      <td>23213.0</td>\n",
       "      <td>23.0</td>\n",
       "      <td>ultra</td>\n",
       "    </tr>\n",
       "    <tr>\n",
       "      <th>2</th>\n",
       "      <td>1000</td>\n",
       "      <td>7</td>\n",
       "      <td>47.0</td>\n",
       "      <td>340.0</td>\n",
       "      <td>75.0</td>\n",
       "      <td>13988.0</td>\n",
       "      <td>14.0</td>\n",
       "      <td>ultra</td>\n",
       "    </tr>\n",
       "    <tr>\n",
       "      <th>3</th>\n",
       "      <td>1000</td>\n",
       "      <td>8</td>\n",
       "      <td>52.0</td>\n",
       "      <td>408.0</td>\n",
       "      <td>81.0</td>\n",
       "      <td>14043.0</td>\n",
       "      <td>14.0</td>\n",
       "      <td>ultra</td>\n",
       "    </tr>\n",
       "    <tr>\n",
       "      <th>4</th>\n",
       "      <td>1000</td>\n",
       "      <td>9</td>\n",
       "      <td>58.0</td>\n",
       "      <td>466.0</td>\n",
       "      <td>57.0</td>\n",
       "      <td>14556.0</td>\n",
       "      <td>15.0</td>\n",
       "      <td>ultra</td>\n",
       "    </tr>\n",
       "  </tbody>\n",
       "</table>\n",
       "</div>"
      ],
      "text/plain": [
       "   user_id  month  calls_count  calls_sum  messages_count  mb_sum_internet  \\\n",
       "0     1000      5         22.0      159.0            22.0           2252.0   \n",
       "1     1000      6         43.0      172.0            60.0          23213.0   \n",
       "2     1000      7         47.0      340.0            75.0          13988.0   \n",
       "3     1000      8         52.0      408.0            81.0          14043.0   \n",
       "4     1000      9         58.0      466.0            57.0          14556.0   \n",
       "\n",
       "   gb_sum_internet tariff  \n",
       "0              3.0  ultra  \n",
       "1             23.0  ultra  \n",
       "2             14.0  ultra  \n",
       "3             14.0  ultra  \n",
       "4             15.0  ultra  "
      ]
     },
     "execution_count": 39,
     "metadata": {},
     "output_type": "execute_result"
    }
   ],
   "source": [
    "# добавим столбец tariff из таблицы df_users для расчета выручки\n",
    "revenue = revenue.merge(df_users[['user_id', 'tariff']], on='user_id', how='left')\n",
    "revenue.head()"
   ]
  },
  {
   "cell_type": "code",
   "execution_count": 40,
   "metadata": {},
   "outputs": [
    {
     "data": {
      "text/html": [
       "<div>\n",
       "<style scoped>\n",
       "    .dataframe tbody tr th:only-of-type {\n",
       "        vertical-align: middle;\n",
       "    }\n",
       "\n",
       "    .dataframe tbody tr th {\n",
       "        vertical-align: top;\n",
       "    }\n",
       "\n",
       "    .dataframe thead th {\n",
       "        text-align: right;\n",
       "    }\n",
       "</style>\n",
       "<table border=\"1\" class=\"dataframe\">\n",
       "  <thead>\n",
       "    <tr style=\"text-align: right;\">\n",
       "      <th></th>\n",
       "      <th>user_id</th>\n",
       "      <th>month</th>\n",
       "      <th>calls_count</th>\n",
       "      <th>calls_sum</th>\n",
       "      <th>messages_count</th>\n",
       "      <th>mb_sum_internet</th>\n",
       "      <th>gb_sum_internet</th>\n",
       "      <th>tariff</th>\n",
       "      <th>monthly_revenue</th>\n",
       "    </tr>\n",
       "  </thead>\n",
       "  <tbody>\n",
       "    <tr>\n",
       "      <th>0</th>\n",
       "      <td>1000</td>\n",
       "      <td>5</td>\n",
       "      <td>22.0</td>\n",
       "      <td>159.0</td>\n",
       "      <td>22.0</td>\n",
       "      <td>2252.0</td>\n",
       "      <td>3.0</td>\n",
       "      <td>ultra</td>\n",
       "      <td>1950</td>\n",
       "    </tr>\n",
       "    <tr>\n",
       "      <th>1</th>\n",
       "      <td>1000</td>\n",
       "      <td>6</td>\n",
       "      <td>43.0</td>\n",
       "      <td>172.0</td>\n",
       "      <td>60.0</td>\n",
       "      <td>23213.0</td>\n",
       "      <td>23.0</td>\n",
       "      <td>ultra</td>\n",
       "      <td>1950</td>\n",
       "    </tr>\n",
       "    <tr>\n",
       "      <th>2</th>\n",
       "      <td>1000</td>\n",
       "      <td>7</td>\n",
       "      <td>47.0</td>\n",
       "      <td>340.0</td>\n",
       "      <td>75.0</td>\n",
       "      <td>13988.0</td>\n",
       "      <td>14.0</td>\n",
       "      <td>ultra</td>\n",
       "      <td>1950</td>\n",
       "    </tr>\n",
       "    <tr>\n",
       "      <th>3</th>\n",
       "      <td>1000</td>\n",
       "      <td>8</td>\n",
       "      <td>52.0</td>\n",
       "      <td>408.0</td>\n",
       "      <td>81.0</td>\n",
       "      <td>14043.0</td>\n",
       "      <td>14.0</td>\n",
       "      <td>ultra</td>\n",
       "      <td>1950</td>\n",
       "    </tr>\n",
       "    <tr>\n",
       "      <th>4</th>\n",
       "      <td>1000</td>\n",
       "      <td>9</td>\n",
       "      <td>58.0</td>\n",
       "      <td>466.0</td>\n",
       "      <td>57.0</td>\n",
       "      <td>14556.0</td>\n",
       "      <td>15.0</td>\n",
       "      <td>ultra</td>\n",
       "      <td>1950</td>\n",
       "    </tr>\n",
       "  </tbody>\n",
       "</table>\n",
       "</div>"
      ],
      "text/plain": [
       "   user_id  month  calls_count  calls_sum  messages_count  mb_sum_internet  \\\n",
       "0     1000      5         22.0      159.0            22.0           2252.0   \n",
       "1     1000      6         43.0      172.0            60.0          23213.0   \n",
       "2     1000      7         47.0      340.0            75.0          13988.0   \n",
       "3     1000      8         52.0      408.0            81.0          14043.0   \n",
       "4     1000      9         58.0      466.0            57.0          14556.0   \n",
       "\n",
       "   gb_sum_internet tariff  monthly_revenue  \n",
       "0              3.0  ultra             1950  \n",
       "1             23.0  ultra             1950  \n",
       "2             14.0  ultra             1950  \n",
       "3             14.0  ultra             1950  \n",
       "4             15.0  ultra             1950  "
      ]
     },
     "execution_count": 40,
     "metadata": {},
     "output_type": "execute_result"
    }
   ],
   "source": [
    "# функция по расчету помесячной вручки с каждого пользователя\n",
    "\n",
    "def monthly_revenue(row):\n",
    "    \n",
    "    money = 0\n",
    "    \n",
    "    tariff = row['tariff']\n",
    "    calls_sum = row['calls_sum']\n",
    "    messages_count = row['messages_count']\n",
    "    gb_sum_internet = row['gb_sum_internet']\n",
    "\n",
    "# считаем разницу между потраченными минутами и объемом услуг включенных в абонентскую плату\n",
    "    difference_calls = calls_sum - int(df_tariffs[df_tariffs['tariff_name'] == tariff]['minutes_included'])\n",
    "    \n",
    "# считаем разницу между потраченными смс и объемом услуг включенных в абонентскую плату   \n",
    "    difference_messages = messages_count - int(df_tariffs[df_tariffs['tariff_name'] == tariff]['messages_included'])\n",
    "    \n",
    "# считаем разницу между потраченным трафиком и объемом услуг включенным в абонентскую плату\n",
    "    difference_internet = gb_sum_internet - int(df_tariffs[df_tariffs['tariff_name'] == tariff]['gb_per_month_included'])\n",
    "    \n",
    "# дополнительная оплата сверхтарифного пакета\n",
    "    if (difference_calls > 0):\n",
    "        money += difference_calls * int(df_tariffs[df_tariffs['tariff_name'] == tariff]['rub_per_minute'])\n",
    "    if difference_messages > 0:\n",
    "        money += difference_messages * int(df_tariffs[df_tariffs['tariff_name'] == tariff]['rub_per_message'])\n",
    "    if difference_internet > 0:\n",
    "        money += difference_internet * int(df_tariffs[df_tariffs['tariff_name'] == tariff]['rub_per_gb'])\n",
    "\n",
    "# добавление ежемесячной абонентской платы\n",
    "    money += int(df_tariffs[df_tariffs['tariff_name'] == tariff]['rub_monthly_fee'])    \n",
    "    \n",
    "    return money\n",
    "\n",
    "# создаем в таблице revenue новый столбец 'monthly_revenue' и добавим в него данные функции \n",
    "revenue['monthly_revenue'] = revenue.apply(monthly_revenue, axis=1)\n",
    "revenue['monthly_revenue'] = revenue['monthly_revenue'].astype('int')\n",
    "\n",
    "# выведем информацию после вычислений\n",
    "revenue.head()    "
   ]
  },
  {
   "cell_type": "code",
   "execution_count": 41,
   "metadata": {
    "scrolled": true
   },
   "outputs": [
    {
     "data": {
      "text/html": [
       "<div>\n",
       "<style scoped>\n",
       "    .dataframe tbody tr th:only-of-type {\n",
       "        vertical-align: middle;\n",
       "    }\n",
       "\n",
       "    .dataframe tbody tr th {\n",
       "        vertical-align: top;\n",
       "    }\n",
       "\n",
       "    .dataframe thead th {\n",
       "        text-align: right;\n",
       "    }\n",
       "</style>\n",
       "<table border=\"1\" class=\"dataframe\">\n",
       "  <thead>\n",
       "    <tr style=\"text-align: right;\">\n",
       "      <th></th>\n",
       "      <th>user_id</th>\n",
       "      <th>month</th>\n",
       "      <th>calls_count</th>\n",
       "      <th>calls_sum</th>\n",
       "      <th>messages_count</th>\n",
       "      <th>mb_sum_internet</th>\n",
       "      <th>gb_sum_internet</th>\n",
       "      <th>tariff</th>\n",
       "      <th>monthly_revenue</th>\n",
       "    </tr>\n",
       "  </thead>\n",
       "  <tbody>\n",
       "    <tr>\n",
       "      <th>626</th>\n",
       "      <td>1100</td>\n",
       "      <td>7</td>\n",
       "      <td>90.0</td>\n",
       "      <td>529.0</td>\n",
       "      <td>53.0</td>\n",
       "      <td>17710.0</td>\n",
       "      <td>18.0</td>\n",
       "      <td>smart</td>\n",
       "      <td>1246</td>\n",
       "    </tr>\n",
       "    <tr>\n",
       "      <th>1666</th>\n",
       "      <td>1267</td>\n",
       "      <td>12</td>\n",
       "      <td>89.0</td>\n",
       "      <td>636.0</td>\n",
       "      <td>12.0</td>\n",
       "      <td>15952.0</td>\n",
       "      <td>16.0</td>\n",
       "      <td>smart</td>\n",
       "      <td>1158</td>\n",
       "    </tr>\n",
       "    <tr>\n",
       "      <th>339</th>\n",
       "      <td>1054</td>\n",
       "      <td>11</td>\n",
       "      <td>88.0</td>\n",
       "      <td>654.0</td>\n",
       "      <td>62.0</td>\n",
       "      <td>15591.0</td>\n",
       "      <td>16.0</td>\n",
       "      <td>smart</td>\n",
       "      <td>1248</td>\n",
       "    </tr>\n",
       "    <tr>\n",
       "      <th>1492</th>\n",
       "      <td>1239</td>\n",
       "      <td>12</td>\n",
       "      <td>56.0</td>\n",
       "      <td>471.0</td>\n",
       "      <td>33.0</td>\n",
       "      <td>18993.0</td>\n",
       "      <td>19.0</td>\n",
       "      <td>smart</td>\n",
       "      <td>1350</td>\n",
       "    </tr>\n",
       "    <tr>\n",
       "      <th>2878</th>\n",
       "      <td>1454</td>\n",
       "      <td>6</td>\n",
       "      <td>67.0</td>\n",
       "      <td>519.0</td>\n",
       "      <td>23.0</td>\n",
       "      <td>8790.0</td>\n",
       "      <td>9.0</td>\n",
       "      <td>smart</td>\n",
       "      <td>607</td>\n",
       "    </tr>\n",
       "    <tr>\n",
       "      <th>1049</th>\n",
       "      <td>1168</td>\n",
       "      <td>12</td>\n",
       "      <td>153.0</td>\n",
       "      <td>1199.0</td>\n",
       "      <td>45.0</td>\n",
       "      <td>29290.0</td>\n",
       "      <td>29.0</td>\n",
       "      <td>ultra</td>\n",
       "      <td>1950</td>\n",
       "    </tr>\n",
       "    <tr>\n",
       "      <th>199</th>\n",
       "      <td>1031</td>\n",
       "      <td>12</td>\n",
       "      <td>76.0</td>\n",
       "      <td>562.0</td>\n",
       "      <td>27.0</td>\n",
       "      <td>9779.0</td>\n",
       "      <td>10.0</td>\n",
       "      <td>smart</td>\n",
       "      <td>736</td>\n",
       "    </tr>\n",
       "    <tr>\n",
       "      <th>2548</th>\n",
       "      <td>1402</td>\n",
       "      <td>4</td>\n",
       "      <td>105.0</td>\n",
       "      <td>733.0</td>\n",
       "      <td>21.0</td>\n",
       "      <td>24597.0</td>\n",
       "      <td>25.0</td>\n",
       "      <td>ultra</td>\n",
       "      <td>1950</td>\n",
       "    </tr>\n",
       "    <tr>\n",
       "      <th>100</th>\n",
       "      <td>1014</td>\n",
       "      <td>5</td>\n",
       "      <td>18.0</td>\n",
       "      <td>102.0</td>\n",
       "      <td>34.0</td>\n",
       "      <td>13031.0</td>\n",
       "      <td>13.0</td>\n",
       "      <td>smart</td>\n",
       "      <td>550</td>\n",
       "    </tr>\n",
       "    <tr>\n",
       "      <th>2753</th>\n",
       "      <td>1431</td>\n",
       "      <td>9</td>\n",
       "      <td>33.0</td>\n",
       "      <td>214.0</td>\n",
       "      <td>86.0</td>\n",
       "      <td>15705.0</td>\n",
       "      <td>16.0</td>\n",
       "      <td>smart</td>\n",
       "      <td>858</td>\n",
       "    </tr>\n",
       "    <tr>\n",
       "      <th>2476</th>\n",
       "      <td>1392</td>\n",
       "      <td>7</td>\n",
       "      <td>68.0</td>\n",
       "      <td>452.0</td>\n",
       "      <td>37.0</td>\n",
       "      <td>22202.0</td>\n",
       "      <td>22.0</td>\n",
       "      <td>ultra</td>\n",
       "      <td>1950</td>\n",
       "    </tr>\n",
       "    <tr>\n",
       "      <th>209</th>\n",
       "      <td>1032</td>\n",
       "      <td>10</td>\n",
       "      <td>60.0</td>\n",
       "      <td>385.0</td>\n",
       "      <td>35.0</td>\n",
       "      <td>14870.0</td>\n",
       "      <td>15.0</td>\n",
       "      <td>smart</td>\n",
       "      <td>550</td>\n",
       "    </tr>\n",
       "    <tr>\n",
       "      <th>1835</th>\n",
       "      <td>1292</td>\n",
       "      <td>12</td>\n",
       "      <td>32.0</td>\n",
       "      <td>226.0</td>\n",
       "      <td>NaN</td>\n",
       "      <td>36149.0</td>\n",
       "      <td>36.0</td>\n",
       "      <td>ultra</td>\n",
       "      <td>2850</td>\n",
       "    </tr>\n",
       "    <tr>\n",
       "      <th>2074</th>\n",
       "      <td>1331</td>\n",
       "      <td>7</td>\n",
       "      <td>81.0</td>\n",
       "      <td>537.0</td>\n",
       "      <td>71.0</td>\n",
       "      <td>32390.0</td>\n",
       "      <td>32.0</td>\n",
       "      <td>ultra</td>\n",
       "      <td>2250</td>\n",
       "    </tr>\n",
       "    <tr>\n",
       "      <th>2479</th>\n",
       "      <td>1393</td>\n",
       "      <td>2</td>\n",
       "      <td>26.0</td>\n",
       "      <td>171.0</td>\n",
       "      <td>16.0</td>\n",
       "      <td>6423.0</td>\n",
       "      <td>7.0</td>\n",
       "      <td>smart</td>\n",
       "      <td>550</td>\n",
       "    </tr>\n",
       "    <tr>\n",
       "      <th>1921</th>\n",
       "      <td>1307</td>\n",
       "      <td>11</td>\n",
       "      <td>83.0</td>\n",
       "      <td>663.0</td>\n",
       "      <td>25.0</td>\n",
       "      <td>16652.0</td>\n",
       "      <td>17.0</td>\n",
       "      <td>smart</td>\n",
       "      <td>1439</td>\n",
       "    </tr>\n",
       "    <tr>\n",
       "      <th>97</th>\n",
       "      <td>1012</td>\n",
       "      <td>12</td>\n",
       "      <td>43.0</td>\n",
       "      <td>356.0</td>\n",
       "      <td>15.0</td>\n",
       "      <td>13989.0</td>\n",
       "      <td>14.0</td>\n",
       "      <td>smart</td>\n",
       "      <td>550</td>\n",
       "    </tr>\n",
       "    <tr>\n",
       "      <th>2880</th>\n",
       "      <td>1454</td>\n",
       "      <td>8</td>\n",
       "      <td>59.0</td>\n",
       "      <td>450.0</td>\n",
       "      <td>23.0</td>\n",
       "      <td>6025.0</td>\n",
       "      <td>6.0</td>\n",
       "      <td>smart</td>\n",
       "      <td>550</td>\n",
       "    </tr>\n",
       "    <tr>\n",
       "      <th>1417</th>\n",
       "      <td>1225</td>\n",
       "      <td>8</td>\n",
       "      <td>83.0</td>\n",
       "      <td>665.0</td>\n",
       "      <td>NaN</td>\n",
       "      <td>17482.0</td>\n",
       "      <td>18.0</td>\n",
       "      <td>ultra</td>\n",
       "      <td>1950</td>\n",
       "    </tr>\n",
       "    <tr>\n",
       "      <th>3053</th>\n",
       "      <td>1479</td>\n",
       "      <td>7</td>\n",
       "      <td>86.0</td>\n",
       "      <td>666.0</td>\n",
       "      <td>NaN</td>\n",
       "      <td>25842.0</td>\n",
       "      <td>26.0</td>\n",
       "      <td>smart</td>\n",
       "      <td>3248</td>\n",
       "    </tr>\n",
       "  </tbody>\n",
       "</table>\n",
       "</div>"
      ],
      "text/plain": [
       "      user_id  month  calls_count  calls_sum  messages_count  mb_sum_internet  \\\n",
       "626      1100      7         90.0      529.0            53.0          17710.0   \n",
       "1666     1267     12         89.0      636.0            12.0          15952.0   \n",
       "339      1054     11         88.0      654.0            62.0          15591.0   \n",
       "1492     1239     12         56.0      471.0            33.0          18993.0   \n",
       "2878     1454      6         67.0      519.0            23.0           8790.0   \n",
       "1049     1168     12        153.0     1199.0            45.0          29290.0   \n",
       "199      1031     12         76.0      562.0            27.0           9779.0   \n",
       "2548     1402      4        105.0      733.0            21.0          24597.0   \n",
       "100      1014      5         18.0      102.0            34.0          13031.0   \n",
       "2753     1431      9         33.0      214.0            86.0          15705.0   \n",
       "2476     1392      7         68.0      452.0            37.0          22202.0   \n",
       "209      1032     10         60.0      385.0            35.0          14870.0   \n",
       "1835     1292     12         32.0      226.0             NaN          36149.0   \n",
       "2074     1331      7         81.0      537.0            71.0          32390.0   \n",
       "2479     1393      2         26.0      171.0            16.0           6423.0   \n",
       "1921     1307     11         83.0      663.0            25.0          16652.0   \n",
       "97       1012     12         43.0      356.0            15.0          13989.0   \n",
       "2880     1454      8         59.0      450.0            23.0           6025.0   \n",
       "1417     1225      8         83.0      665.0             NaN          17482.0   \n",
       "3053     1479      7         86.0      666.0             NaN          25842.0   \n",
       "\n",
       "      gb_sum_internet tariff  monthly_revenue  \n",
       "626              18.0  smart             1246  \n",
       "1666             16.0  smart             1158  \n",
       "339              16.0  smart             1248  \n",
       "1492             19.0  smart             1350  \n",
       "2878              9.0  smart              607  \n",
       "1049             29.0  ultra             1950  \n",
       "199              10.0  smart              736  \n",
       "2548             25.0  ultra             1950  \n",
       "100              13.0  smart              550  \n",
       "2753             16.0  smart              858  \n",
       "2476             22.0  ultra             1950  \n",
       "209              15.0  smart              550  \n",
       "1835             36.0  ultra             2850  \n",
       "2074             32.0  ultra             2250  \n",
       "2479              7.0  smart              550  \n",
       "1921             17.0  smart             1439  \n",
       "97               14.0  smart              550  \n",
       "2880              6.0  smart              550  \n",
       "1417             18.0  ultra             1950  \n",
       "3053             26.0  smart             3248  "
      ]
     },
     "execution_count": 41,
     "metadata": {},
     "output_type": "execute_result"
    }
   ],
   "source": [
    "revenue.sample(20)   "
   ]
  },
  {
   "cell_type": "markdown",
   "metadata": {},
   "source": [
    "## Исследовательский анализ данных\n",
    "\n",
    "Опишем поведение клиентов оператора, исходя из выборки:\n",
    "- сколько минут разговора\n",
    "- сколько сообщений\n",
    "- какой объём интернет-трафика требуется пользователям каждого тарифа в месяц\n",
    "\n",
    "Посчитаем среднее количество, дисперсию и стандартное отклонение.\n",
    "Построим гистограммы.\n",
    "Опишем распределения."
   ]
  },
  {
   "cell_type": "markdown",
   "metadata": {},
   "source": [
    "### Анализ длительности разговоров"
   ]
  },
  {
   "cell_type": "markdown",
   "metadata": {},
   "source": [
    "**Среднее значение длительности разговоров:**\n",
    "\n",
    "Среднее значение находят методом mean(). Метод pivot_table() группирует данные, а что с ними делать, указывает значение параметра aggfunc. Если параметр aggfunc не указывать, то по умолчанию метод pivot_table()\n",
    "рассчитает среднее арифметическое значений, указанных в параметре values."
   ]
  },
  {
   "cell_type": "code",
   "execution_count": 42,
   "metadata": {},
   "outputs": [
    {
     "data": {
      "text/html": [
       "<div>\n",
       "<style scoped>\n",
       "    .dataframe tbody tr th:only-of-type {\n",
       "        vertical-align: middle;\n",
       "    }\n",
       "\n",
       "    .dataframe tbody tr th {\n",
       "        vertical-align: top;\n",
       "    }\n",
       "\n",
       "    .dataframe thead th {\n",
       "        text-align: right;\n",
       "    }\n",
       "</style>\n",
       "<table border=\"1\" class=\"dataframe\">\n",
       "  <thead>\n",
       "    <tr style=\"text-align: right;\">\n",
       "      <th>tariff</th>\n",
       "      <th>smart</th>\n",
       "      <th>ultra</th>\n",
       "    </tr>\n",
       "  </thead>\n",
       "  <tbody>\n",
       "    <tr>\n",
       "      <th>count</th>\n",
       "      <td>12.000000</td>\n",
       "      <td>12.000000</td>\n",
       "    </tr>\n",
       "    <tr>\n",
       "      <th>mean</th>\n",
       "      <td>387.605810</td>\n",
       "      <td>511.234714</td>\n",
       "    </tr>\n",
       "    <tr>\n",
       "      <th>std</th>\n",
       "      <td>72.779777</td>\n",
       "      <td>84.765105</td>\n",
       "    </tr>\n",
       "    <tr>\n",
       "      <th>min</th>\n",
       "      <td>203.852941</td>\n",
       "      <td>297.125000</td>\n",
       "    </tr>\n",
       "    <tr>\n",
       "      <th>25%</th>\n",
       "      <td>382.304759</td>\n",
       "      <td>486.061958</td>\n",
       "    </tr>\n",
       "    <tr>\n",
       "      <th>50%</th>\n",
       "      <td>403.210359</td>\n",
       "      <td>532.430825</td>\n",
       "    </tr>\n",
       "    <tr>\n",
       "      <th>75%</th>\n",
       "      <td>428.259435</td>\n",
       "      <td>562.872688</td>\n",
       "    </tr>\n",
       "    <tr>\n",
       "      <th>max</th>\n",
       "      <td>479.985119</td>\n",
       "      <td>614.925373</td>\n",
       "    </tr>\n",
       "  </tbody>\n",
       "</table>\n",
       "</div>"
      ],
      "text/plain": [
       "tariff       smart       ultra\n",
       "count    12.000000   12.000000\n",
       "mean    387.605810  511.234714\n",
       "std      72.779777   84.765105\n",
       "min     203.852941  297.125000\n",
       "25%     382.304759  486.061958\n",
       "50%     403.210359  532.430825\n",
       "75%     428.259435  562.872688\n",
       "max     479.985119  614.925373"
      ]
     },
     "execution_count": 42,
     "metadata": {},
     "output_type": "execute_result"
    }
   ],
   "source": [
    "# cредняя длительность телефонных разговоров\n",
    "revenue.pivot_table(index='tariff', columns='month', values='calls_sum').transpose().describe()"
   ]
  },
  {
   "cell_type": "code",
   "execution_count": 43,
   "metadata": {},
   "outputs": [
    {
     "data": {
      "image/png": "[encoded data removed]",
      "text/plain": [
       "<Figure size 432x288 with 1 Axes>"
      ]
     },
     "metadata": {
      "needs_background": "light"
     },
     "output_type": "display_data"
    }
   ],
   "source": [
    "# построим гисторгамму распределения средней длительности звонков в месяц \n",
    "(revenue\n",
    " .pivot_table(index='tariff', columns='month', values='calls_sum')\n",
    " .transpose()\n",
    " .plot(kind='hist', alpha=0.5, bins=15)\n",
    ")\n",
    "plt.title('Гистограмма распределения средней длительности звонков в месяц'+ \"\\n\")\n",
    "plt.xlabel('Минуты')\n",
    "plt.ylabel('Частотность')\n",
    "\n",
    "plt.show()\n"
   ]
  },
  {
   "cell_type": "markdown",
   "metadata": {},
   "source": [
    "Средняя длительность разговоров у абонентов тарифа Ultra - 525 больше, чем у абонентов тарифа Smart - 398. Распределение средней длительности разговоров абонентов обоих тарифов с отрицательной скошенностью."
   ]
  },
  {
   "cell_type": "code",
   "execution_count": 44,
   "metadata": {},
   "outputs": [
    {
     "data": {
      "image/png": "[encoded data removed]",
      "text/plain": [
       "<Figure size 432x288 with 1 Axes>"
      ]
     },
     "metadata": {
      "needs_background": "light"
     },
     "output_type": "display_data"
    }
   ],
   "source": [
    "# построим столбчатую диаграмма распределения средней длительности звонков в месяц по двум тарифам\n",
    "(revenue\n",
    " .pivot_table(index='tariff', columns='month', values='calls_sum')\n",
    " .transpose()\n",
    " .plot(kind='bar', alpha=0.5)\n",
    ")\n",
    "plt.title('Распределение средней длительности звонков в месяц'+ \"\\n\")\n",
    "plt.xlabel('Месяцы')\n",
    "plt.ylabel('Минуты')\n",
    "\n",
    "plt.show()\n"
   ]
  },
  {
   "cell_type": "markdown",
   "metadata": {},
   "source": [
    "В течение года показатели обоих тарифов увеличивались. Рост средней длительности разговоров у абонентов тарифа Smart более равномерный в течение года. Показатели тарифа Ultra менее стабильны. В феврале у абонентов обоих тарифных планов самые низкие показатели."
   ]
  },
  {
   "cell_type": "markdown",
   "metadata": {},
   "source": [
    "**Стандартное отклонение длительности разговоров:**\n",
    "\n",
    "Стандартное отклонение находят методом std() (от англ. standard deviation, «стандартное отклонение») из библиотеки NumPy:"
   ]
  },
  {
   "cell_type": "code",
   "execution_count": 45,
   "metadata": {},
   "outputs": [
    {
     "data": {
      "text/html": [
       "<div>\n",
       "<style scoped>\n",
       "    .dataframe tbody tr th:only-of-type {\n",
       "        vertical-align: middle;\n",
       "    }\n",
       "\n",
       "    .dataframe tbody tr th {\n",
       "        vertical-align: top;\n",
       "    }\n",
       "\n",
       "    .dataframe thead th {\n",
       "        text-align: right;\n",
       "    }\n",
       "</style>\n",
       "<table border=\"1\" class=\"dataframe\">\n",
       "  <thead>\n",
       "    <tr style=\"text-align: right;\">\n",
       "      <th>tariff</th>\n",
       "      <th>smart</th>\n",
       "      <th>ultra</th>\n",
       "    </tr>\n",
       "  </thead>\n",
       "  <tbody>\n",
       "    <tr>\n",
       "      <th>count</th>\n",
       "      <td>12.000000</td>\n",
       "      <td>12.000000</td>\n",
       "    </tr>\n",
       "    <tr>\n",
       "      <th>mean</th>\n",
       "      <td>182.505149</td>\n",
       "      <td>297.702649</td>\n",
       "    </tr>\n",
       "    <tr>\n",
       "      <th>std</th>\n",
       "      <td>11.215565</td>\n",
       "      <td>22.922939</td>\n",
       "    </tr>\n",
       "    <tr>\n",
       "      <th>min</th>\n",
       "      <td>154.231454</td>\n",
       "      <td>256.976322</td>\n",
       "    </tr>\n",
       "    <tr>\n",
       "      <th>25%</th>\n",
       "      <td>178.776114</td>\n",
       "      <td>288.379293</td>\n",
       "    </tr>\n",
       "    <tr>\n",
       "      <th>50%</th>\n",
       "      <td>185.680059</td>\n",
       "      <td>296.958672</td>\n",
       "    </tr>\n",
       "    <tr>\n",
       "      <th>75%</th>\n",
       "      <td>187.795555</td>\n",
       "      <td>312.255842</td>\n",
       "    </tr>\n",
       "    <tr>\n",
       "      <th>max</th>\n",
       "      <td>197.816702</td>\n",
       "      <td>333.743765</td>\n",
       "    </tr>\n",
       "  </tbody>\n",
       "</table>\n",
       "</div>"
      ],
      "text/plain": [
       "tariff       smart       ultra\n",
       "count    12.000000   12.000000\n",
       "mean    182.505149  297.702649\n",
       "std      11.215565   22.922939\n",
       "min     154.231454  256.976322\n",
       "25%     178.776114  288.379293\n",
       "50%     185.680059  296.958672\n",
       "75%     187.795555  312.255842\n",
       "max     197.816702  333.743765"
      ]
     },
     "execution_count": 45,
     "metadata": {},
     "output_type": "execute_result"
    }
   ],
   "source": [
    "# стандартное отклонение длительности телефонных разговоров\n",
    "revenue.pivot_table(index='tariff', columns='month', values='calls_sum', aggfunc='std').transpose().describe()\n"
   ]
  },
  {
   "cell_type": "markdown",
   "metadata": {},
   "source": [
    "Стандартное отклонение длительности разговоров абонентов тарифа Ultra в два раза выше, чем у абонентов Smart."
   ]
  },
  {
   "cell_type": "code",
   "execution_count": 46,
   "metadata": {},
   "outputs": [
    {
     "data": {
      "image/png": "[encoded data removed]",
      "text/plain": [
       "<Figure size 432x288 with 1 Axes>"
      ]
     },
     "metadata": {
      "needs_background": "light"
     },
     "output_type": "display_data"
    }
   ],
   "source": [
    "# построим гисторгамму распределения стандартного отклонения длительности разговоров в месяц по двум тарифам\n",
    "(revenue\n",
    " .pivot_table(index='tariff', columns='month', values='calls_sum', aggfunc='std')\n",
    " .transpose()\n",
    " .plot(kind='hist', alpha=0.5, bins=30)\n",
    ")\n",
    "plt.title('Гистограмма распределения стандартного отклонения длительности звонков в месяц'+ \"\\n\")\n",
    "plt.xlabel('Минуты')\n",
    "plt.ylabel('Частотность')\n",
    "\n",
    "plt.show()\n"
   ]
  },
  {
   "cell_type": "markdown",
   "metadata": {},
   "source": [
    "Распределение стандартного отклонения длительности разговоров абонентов тарифа Smart приближено к нормальному распределению.  "
   ]
  },
  {
   "cell_type": "markdown",
   "metadata": {},
   "source": [
    "**Дисперсия длительности разговоров.**\n",
    "\n",
    "Улучшенная метрика разброса — не просто среднее расстояние между значениями датасета и средним, а средний квадрат этого расстояния. Эта величина называется дисперсия (лат. dispersio, «рассеяние»). Квадратный корень из дисперсии — это стандартное отклонение. Дисперсию совокупности рассчитывают методом var() (от англ. variance — «дисперсия»):"
   ]
  },
  {
   "cell_type": "code",
   "execution_count": 47,
   "metadata": {},
   "outputs": [
    {
     "data": {
      "text/html": [
       "<div>\n",
       "<style scoped>\n",
       "    .dataframe tbody tr th:only-of-type {\n",
       "        vertical-align: middle;\n",
       "    }\n",
       "\n",
       "    .dataframe tbody tr th {\n",
       "        vertical-align: top;\n",
       "    }\n",
       "\n",
       "    .dataframe thead th {\n",
       "        text-align: right;\n",
       "    }\n",
       "</style>\n",
       "<table border=\"1\" class=\"dataframe\">\n",
       "  <thead>\n",
       "    <tr style=\"text-align: right;\">\n",
       "      <th>tariff</th>\n",
       "      <th>smart</th>\n",
       "      <th>ultra</th>\n",
       "    </tr>\n",
       "  </thead>\n",
       "  <tbody>\n",
       "    <tr>\n",
       "      <th>count</th>\n",
       "      <td>12.000000</td>\n",
       "      <td>12.000000</td>\n",
       "    </tr>\n",
       "    <tr>\n",
       "      <th>mean</th>\n",
       "      <td>33423.435954</td>\n",
       "      <td>89108.539728</td>\n",
       "    </tr>\n",
       "    <tr>\n",
       "      <th>std</th>\n",
       "      <td>3947.588097</td>\n",
       "      <td>13581.219297</td>\n",
       "    </tr>\n",
       "    <tr>\n",
       "      <th>min</th>\n",
       "      <td>23787.341355</td>\n",
       "      <td>66036.830189</td>\n",
       "    </tr>\n",
       "    <tr>\n",
       "      <th>25%</th>\n",
       "      <td>31962.854977</td>\n",
       "      <td>83234.993089</td>\n",
       "    </tr>\n",
       "    <tr>\n",
       "      <th>50%</th>\n",
       "      <td>34477.738839</td>\n",
       "      <td>88184.651689</td>\n",
       "    </tr>\n",
       "    <tr>\n",
       "      <th>75%</th>\n",
       "      <td>35270.219730</td>\n",
       "      <td>97504.728149</td>\n",
       "    </tr>\n",
       "    <tr>\n",
       "      <th>max</th>\n",
       "      <td>39131.447539</td>\n",
       "      <td>111384.900901</td>\n",
       "    </tr>\n",
       "  </tbody>\n",
       "</table>\n",
       "</div>"
      ],
      "text/plain": [
       "tariff         smart          ultra\n",
       "count      12.000000      12.000000\n",
       "mean    33423.435954   89108.539728\n",
       "std      3947.588097   13581.219297\n",
       "min     23787.341355   66036.830189\n",
       "25%     31962.854977   83234.993089\n",
       "50%     34477.738839   88184.651689\n",
       "75%     35270.219730   97504.728149\n",
       "max     39131.447539  111384.900901"
      ]
     },
     "execution_count": 47,
     "metadata": {},
     "output_type": "execute_result"
    }
   ],
   "source": [
    "# расчитаем дисперсию длительности звонков\n",
    "revenue.pivot_table(index='tariff', columns='month', values='calls_sum', aggfunc='var').transpose().describe()\n"
   ]
  },
  {
   "cell_type": "code",
   "execution_count": 48,
   "metadata": {},
   "outputs": [
    {
     "data": {
      "image/png": "[encoded data removed]",
      "text/plain": [
       "<Figure size 432x288 with 1 Axes>"
      ]
     },
     "metadata": {
      "needs_background": "light"
     },
     "output_type": "display_data"
    }
   ],
   "source": [
    "# построим гистограмму распределения дисперсии длительности разговоров в месяц по двум тарифам\n",
    "(revenue\n",
    " .pivot_table(index='tariff', columns='month', values='calls_sum', aggfunc='var')\n",
    " .transpose()\n",
    " .plot(kind='hist', alpha=0.5, bins=30)\n",
    ")\n",
    "plt.title('Гистограмма распределения дисперсии длительности звонков в месяц'+ \"\\n\")\n",
    "plt.xlabel('Минуты')\n",
    "plt.ylabel('Частотность')\n",
    "\n",
    "plt.show()"
   ]
  },
  {
   "cell_type": "markdown",
   "metadata": {},
   "source": [
    "Распределение дисперсии длительности звонков приближено к нормальному распределению. Дисперсия длительности звонков абонентов тарифа Ultra намного больше, чем дисперсия длительности разговоров у абонентов Smart."
   ]
  },
  {
   "cell_type": "markdown",
   "metadata": {},
   "source": [
    "### Анализ количества сообщений"
   ]
  },
  {
   "cell_type": "markdown",
   "metadata": {},
   "source": [
    "**Среднее количество сообщений:**"
   ]
  },
  {
   "cell_type": "code",
   "execution_count": 49,
   "metadata": {},
   "outputs": [
    {
     "data": {
      "text/html": [
       "<div>\n",
       "<style scoped>\n",
       "    .dataframe tbody tr th:only-of-type {\n",
       "        vertical-align: middle;\n",
       "    }\n",
       "\n",
       "    .dataframe tbody tr th {\n",
       "        vertical-align: top;\n",
       "    }\n",
       "\n",
       "    .dataframe thead th {\n",
       "        text-align: right;\n",
       "    }\n",
       "</style>\n",
       "<table border=\"1\" class=\"dataframe\">\n",
       "  <thead>\n",
       "    <tr style=\"text-align: right;\">\n",
       "      <th>tariff</th>\n",
       "      <th>smart</th>\n",
       "      <th>ultra</th>\n",
       "    </tr>\n",
       "  </thead>\n",
       "  <tbody>\n",
       "    <tr>\n",
       "      <th>count</th>\n",
       "      <td>12.000000</td>\n",
       "      <td>12.000000</td>\n",
       "    </tr>\n",
       "    <tr>\n",
       "      <th>mean</th>\n",
       "      <td>36.262730</td>\n",
       "      <td>55.169629</td>\n",
       "    </tr>\n",
       "    <tr>\n",
       "      <th>std</th>\n",
       "      <td>6.229501</td>\n",
       "      <td>12.042615</td>\n",
       "    </tr>\n",
       "    <tr>\n",
       "      <th>min</th>\n",
       "      <td>20.000000</td>\n",
       "      <td>32.937500</td>\n",
       "    </tr>\n",
       "    <tr>\n",
       "      <th>25%</th>\n",
       "      <td>35.786119</td>\n",
       "      <td>46.978205</td>\n",
       "    </tr>\n",
       "    <tr>\n",
       "      <th>50%</th>\n",
       "      <td>38.869253</td>\n",
       "      <td>55.605580</td>\n",
       "    </tr>\n",
       "    <tr>\n",
       "      <th>75%</th>\n",
       "      <td>39.116941</td>\n",
       "      <td>64.010876</td>\n",
       "    </tr>\n",
       "    <tr>\n",
       "      <th>max</th>\n",
       "      <td>42.264808</td>\n",
       "      <td>72.008547</td>\n",
       "    </tr>\n",
       "  </tbody>\n",
       "</table>\n",
       "</div>"
      ],
      "text/plain": [
       "tariff      smart      ultra\n",
       "count   12.000000  12.000000\n",
       "mean    36.262730  55.169629\n",
       "std      6.229501  12.042615\n",
       "min     20.000000  32.937500\n",
       "25%     35.786119  46.978205\n",
       "50%     38.869253  55.605580\n",
       "75%     39.116941  64.010876\n",
       "max     42.264808  72.008547"
      ]
     },
     "execution_count": 49,
     "metadata": {},
     "output_type": "execute_result"
    }
   ],
   "source": [
    "# расчет среднего количества сообщений\n",
    "revenue.pivot_table(index='tariff', columns='month', values='messages_count').transpose().describe()"
   ]
  },
  {
   "cell_type": "code",
   "execution_count": 50,
   "metadata": {},
   "outputs": [
    {
     "data": {
      "image/png": "[encoded data removed]",
      "text/plain": [
       "<Figure size 432x288 with 1 Axes>"
      ]
     },
     "metadata": {
      "needs_background": "light"
     },
     "output_type": "display_data"
    },
    {
     "data": {
      "image/png": "[encoded data removed]",
      "text/plain": [
       "<Figure size 432x288 with 1 Axes>"
      ]
     },
     "metadata": {
      "needs_background": "light"
     },
     "output_type": "display_data"
    }
   ],
   "source": [
    "# построим гистограмму распределения среднего количества сообщений в месяц по двум тарифам\n",
    "(revenue\n",
    " .pivot_table(index='tariff', columns='month', values='messages_count')\n",
    " .transpose()\n",
    " .plot(kind='hist', alpha=0.5, bins=30)\n",
    ")\n",
    "plt.title('Гистограмма распределения среднего количества сообщени в месяц'+ \"\\n\")\n",
    "plt.xlabel('Количество сообщений')\n",
    "plt.ylabel('Частотность')\n",
    "\n",
    "plt.show()\n",
    "\n",
    "# построим столбчатую диаграмма распределения среднего количества сообщений в месяц по двум тарифам\n",
    "(revenue\n",
    " .pivot_table(index='tariff', columns='month', values='messages_count')\n",
    " .transpose()\n",
    " .plot(kind='bar', alpha=0.5)\n",
    ")\n",
    "plt.title('Распределение среднего количества сообщени в месяц'+ \"\\n\")\n",
    "plt.xlabel('Месяц')\n",
    "plt.ylabel('Количество сообщений')\n",
    "\n",
    "plt.show()\n"
   ]
  },
  {
   "cell_type": "markdown",
   "metadata": {},
   "source": [
    "В среднем пользователи тарифа Ultra отправляют почти на 20 сообщений больше, чем пользователи тарифа Smart. Количество сообщений в течение года растёт на обоих тарифах. Динамика отправки сообщений схожа по длительности разговоров: в феврале наименьшее количество сообщений за год, и пользователи тарифа Ultra также проявляют нелинейную положительную динамику.\n"
   ]
  },
  {
   "cell_type": "markdown",
   "metadata": {},
   "source": [
    "**Стандартное отклонение количества сообщений:**\n"
   ]
  },
  {
   "cell_type": "code",
   "execution_count": 51,
   "metadata": {},
   "outputs": [
    {
     "data": {
      "text/html": [
       "<div>\n",
       "<style scoped>\n",
       "    .dataframe tbody tr th:only-of-type {\n",
       "        vertical-align: middle;\n",
       "    }\n",
       "\n",
       "    .dataframe tbody tr th {\n",
       "        vertical-align: top;\n",
       "    }\n",
       "\n",
       "    .dataframe thead th {\n",
       "        text-align: right;\n",
       "    }\n",
       "</style>\n",
       "<table border=\"1\" class=\"dataframe\">\n",
       "  <thead>\n",
       "    <tr style=\"text-align: right;\">\n",
       "      <th>tariff</th>\n",
       "      <th>smart</th>\n",
       "      <th>ultra</th>\n",
       "    </tr>\n",
       "  </thead>\n",
       "  <tbody>\n",
       "    <tr>\n",
       "      <th>count</th>\n",
       "      <td>12.000000</td>\n",
       "      <td>12.000000</td>\n",
       "    </tr>\n",
       "    <tr>\n",
       "      <th>mean</th>\n",
       "      <td>25.125986</td>\n",
       "      <td>41.572738</td>\n",
       "    </tr>\n",
       "    <tr>\n",
       "      <th>std</th>\n",
       "      <td>3.621369</td>\n",
       "      <td>7.559188</td>\n",
       "    </tr>\n",
       "    <tr>\n",
       "      <th>min</th>\n",
       "      <td>15.878707</td>\n",
       "      <td>26.709471</td>\n",
       "    </tr>\n",
       "    <tr>\n",
       "      <th>25%</th>\n",
       "      <td>24.644676</td>\n",
       "      <td>39.000073</td>\n",
       "    </tr>\n",
       "    <tr>\n",
       "      <th>50%</th>\n",
       "      <td>26.588090</td>\n",
       "      <td>43.831392</td>\n",
       "    </tr>\n",
       "    <tr>\n",
       "      <th>75%</th>\n",
       "      <td>27.071223</td>\n",
       "      <td>46.960619</td>\n",
       "    </tr>\n",
       "    <tr>\n",
       "      <th>max</th>\n",
       "      <td>28.852160</td>\n",
       "      <td>49.260598</td>\n",
       "    </tr>\n",
       "  </tbody>\n",
       "</table>\n",
       "</div>"
      ],
      "text/plain": [
       "tariff      smart      ultra\n",
       "count   12.000000  12.000000\n",
       "mean    25.125986  41.572738\n",
       "std      3.621369   7.559188\n",
       "min     15.878707  26.709471\n",
       "25%     24.644676  39.000073\n",
       "50%     26.588090  43.831392\n",
       "75%     27.071223  46.960619\n",
       "max     28.852160  49.260598"
      ]
     },
     "execution_count": 51,
     "metadata": {},
     "output_type": "execute_result"
    }
   ],
   "source": [
    "# расчет стандартного отклонения количества сообщений\n",
    "revenue.pivot_table(index='tariff', columns='month', values='messages_count', aggfunc='std').transpose().describe()\n"
   ]
  },
  {
   "cell_type": "markdown",
   "metadata": {},
   "source": [
    "Стандартное отклонение количества сообщений больше у пользователей тарифного плана Ultra — возможно пользователи этого тарифного плана проявляют разную активность."
   ]
  },
  {
   "cell_type": "code",
   "execution_count": 52,
   "metadata": {},
   "outputs": [
    {
     "data": {
      "image/png": "[encoded data removed]",
      "text/plain": [
       "<Figure size 432x288 with 1 Axes>"
      ]
     },
     "metadata": {
      "needs_background": "light"
     },
     "output_type": "display_data"
    },
    {
     "data": {
      "image/png": "[encoded data removed]",
      "text/plain": [
       "<Figure size 432x288 with 1 Axes>"
      ]
     },
     "metadata": {
      "needs_background": "light"
     },
     "output_type": "display_data"
    }
   ],
   "source": [
    "# построим гистограмму распределения стандартного отклонения количества сообщений в месяц по двум тарифам\n",
    "(revenue\n",
    " .pivot_table(index='tariff', columns='month', values='messages_count', aggfunc='std')\n",
    " .transpose()\n",
    " .plot(kind='hist', alpha=0.5, bins=30)\n",
    ")\n",
    "plt.title('Гистограмма распределения стандартного отклонения количества сообщени в месяц'+ \"\\n\")\n",
    "plt.xlabel('Количество сообщений')\n",
    "plt.ylabel('Частотность')\n",
    "\n",
    "plt.show()\n",
    "\n",
    "# построим столбчатую диаграмму распределения стандартного отклонения количества сообщений в месяц по двум тарифам\n",
    "(revenue\n",
    " .pivot_table(index='tariff', columns='month', values='messages_count', aggfunc='std')\n",
    " .transpose()\n",
    " .plot(kind='bar', alpha=0.5)\n",
    ")\n",
    "plt.title('Распределение стандартного отклонения количества сообщени в месяц'+ \"\\n\")\n",
    "plt.xlabel('Месяц')\n",
    "plt.ylabel('Частотность')\n",
    "\n",
    "plt.show()"
   ]
  },
  {
   "cell_type": "markdown",
   "metadata": {},
   "source": [
    "Распределение стандартного отклонения количества сообщений далеко от нормального. Видно разделение на несколько групп по типу тарифа.\n"
   ]
  },
  {
   "cell_type": "markdown",
   "metadata": {},
   "source": [
    "**Дисперсия количества сообщений:**"
   ]
  },
  {
   "cell_type": "code",
   "execution_count": 53,
   "metadata": {},
   "outputs": [
    {
     "data": {
      "text/html": [
       "<div>\n",
       "<style scoped>\n",
       "    .dataframe tbody tr th:only-of-type {\n",
       "        vertical-align: middle;\n",
       "    }\n",
       "\n",
       "    .dataframe tbody tr th {\n",
       "        vertical-align: top;\n",
       "    }\n",
       "\n",
       "    .dataframe thead th {\n",
       "        text-align: right;\n",
       "    }\n",
       "</style>\n",
       "<table border=\"1\" class=\"dataframe\">\n",
       "  <thead>\n",
       "    <tr style=\"text-align: right;\">\n",
       "      <th>tariff</th>\n",
       "      <th>smart</th>\n",
       "      <th>ultra</th>\n",
       "    </tr>\n",
       "  </thead>\n",
       "  <tbody>\n",
       "    <tr>\n",
       "      <th>count</th>\n",
       "      <td>12.000000</td>\n",
       "      <td>12.000000</td>\n",
       "    </tr>\n",
       "    <tr>\n",
       "      <th>mean</th>\n",
       "      <td>643.336613</td>\n",
       "      <td>1780.672066</td>\n",
       "    </tr>\n",
       "    <tr>\n",
       "      <th>std</th>\n",
       "      <td>162.969953</td>\n",
       "      <td>572.265368</td>\n",
       "    </tr>\n",
       "    <tr>\n",
       "      <th>min</th>\n",
       "      <td>252.133333</td>\n",
       "      <td>713.395833</td>\n",
       "    </tr>\n",
       "    <tr>\n",
       "      <th>25%</th>\n",
       "      <td>608.548252</td>\n",
       "      <td>1521.729261</td>\n",
       "    </tr>\n",
       "    <tr>\n",
       "      <th>50%</th>\n",
       "      <td>706.933460</td>\n",
       "      <td>1921.218134</td>\n",
       "    </tr>\n",
       "    <tr>\n",
       "      <th>75%</th>\n",
       "      <td>732.852605</td>\n",
       "      <td>2205.372188</td>\n",
       "    </tr>\n",
       "    <tr>\n",
       "      <th>max</th>\n",
       "      <td>832.447114</td>\n",
       "      <td>2426.606511</td>\n",
       "    </tr>\n",
       "  </tbody>\n",
       "</table>\n",
       "</div>"
      ],
      "text/plain": [
       "tariff       smart        ultra\n",
       "count    12.000000    12.000000\n",
       "mean    643.336613  1780.672066\n",
       "std     162.969953   572.265368\n",
       "min     252.133333   713.395833\n",
       "25%     608.548252  1521.729261\n",
       "50%     706.933460  1921.218134\n",
       "75%     732.852605  2205.372188\n",
       "max     832.447114  2426.606511"
      ]
     },
     "execution_count": 53,
     "metadata": {},
     "output_type": "execute_result"
    }
   ],
   "source": [
    "# расчитаем дисперсию количества сообщений\n",
    "revenue.pivot_table(index='tariff', columns='month', values='messages_count', aggfunc='var').transpose().describe()\n"
   ]
  },
  {
   "cell_type": "code",
   "execution_count": 54,
   "metadata": {},
   "outputs": [
    {
     "data": {
      "image/png": "[encoded data removed]",
      "text/plain": [
       "<Figure size 432x288 with 1 Axes>"
      ]
     },
     "metadata": {
      "needs_background": "light"
     },
     "output_type": "display_data"
    }
   ],
   "source": [
    "# построим гистограмму распределения дисперсии количества сообщени в месяц по двум тарифам\n",
    "(revenue\n",
    " .pivot_table(index='tariff', columns='month', values='messages_count', aggfunc='var')\n",
    " .transpose()\n",
    " .plot(kind='hist', alpha=0.5, bins=30)\n",
    ")\n",
    "plt.title('Гистограмма распределения дисперсии количества сообщени в месяц'+ \"\\n\")\n",
    "plt.xlabel('Дисперсия')\n",
    "plt.ylabel('Частотность')\n",
    "\n",
    "plt.show()\n"
   ]
  },
  {
   "cell_type": "markdown",
   "metadata": {},
   "source": [
    "Дисперсия количества отправленных сообщений в обоих тарифных планах не типична для нормального распределения."
   ]
  },
  {
   "cell_type": "markdown",
   "metadata": {},
   "source": [
    "### Анализ объема интернет-сессий"
   ]
  },
  {
   "cell_type": "markdown",
   "metadata": {},
   "source": [
    "**Средний объем интернет-трафика:**"
   ]
  },
  {
   "cell_type": "code",
   "execution_count": 55,
   "metadata": {},
   "outputs": [
    {
     "data": {
      "text/html": [
       "<div>\n",
       "<style scoped>\n",
       "    .dataframe tbody tr th:only-of-type {\n",
       "        vertical-align: middle;\n",
       "    }\n",
       "\n",
       "    .dataframe tbody tr th {\n",
       "        vertical-align: top;\n",
       "    }\n",
       "\n",
       "    .dataframe thead th {\n",
       "        text-align: right;\n",
       "    }\n",
       "</style>\n",
       "<table border=\"1\" class=\"dataframe\">\n",
       "  <thead>\n",
       "    <tr style=\"text-align: right;\">\n",
       "      <th>tariff</th>\n",
       "      <th>smart</th>\n",
       "      <th>ultra</th>\n",
       "    </tr>\n",
       "  </thead>\n",
       "  <tbody>\n",
       "    <tr>\n",
       "      <th>count</th>\n",
       "      <td>12.000000</td>\n",
       "      <td>12.000000</td>\n",
       "    </tr>\n",
       "    <tr>\n",
       "      <th>mean</th>\n",
       "      <td>15.187890</td>\n",
       "      <td>18.462806</td>\n",
       "    </tr>\n",
       "    <tr>\n",
       "      <th>std</th>\n",
       "      <td>2.623288</td>\n",
       "      <td>2.803642</td>\n",
       "    </tr>\n",
       "    <tr>\n",
       "      <th>min</th>\n",
       "      <td>8.735294</td>\n",
       "      <td>13.045455</td>\n",
       "    </tr>\n",
       "    <tr>\n",
       "      <th>25%</th>\n",
       "      <td>14.817370</td>\n",
       "      <td>17.427764</td>\n",
       "    </tr>\n",
       "    <tr>\n",
       "      <th>50%</th>\n",
       "      <td>15.916321</td>\n",
       "      <td>19.530702</td>\n",
       "    </tr>\n",
       "    <tr>\n",
       "      <th>75%</th>\n",
       "      <td>16.793564</td>\n",
       "      <td>20.015854</td>\n",
       "    </tr>\n",
       "    <tr>\n",
       "      <th>max</th>\n",
       "      <td>18.181009</td>\n",
       "      <td>21.869565</td>\n",
       "    </tr>\n",
       "  </tbody>\n",
       "</table>\n",
       "</div>"
      ],
      "text/plain": [
       "tariff      smart      ultra\n",
       "count   12.000000  12.000000\n",
       "mean    15.187890  18.462806\n",
       "std      2.623288   2.803642\n",
       "min      8.735294  13.045455\n",
       "25%     14.817370  17.427764\n",
       "50%     15.916321  19.530702\n",
       "75%     16.793564  20.015854\n",
       "max     18.181009  21.869565"
      ]
     },
     "execution_count": 55,
     "metadata": {},
     "output_type": "execute_result"
    }
   ],
   "source": [
    "# расчет среднего объема интернет-сессий\n",
    "revenue.pivot_table(index='tariff', columns='month', values='gb_sum_internet').transpose().describe()"
   ]
  },
  {
   "cell_type": "code",
   "execution_count": 56,
   "metadata": {},
   "outputs": [
    {
     "data": {
      "image/png": "[encoded data removed]",
      "text/plain": [
       "<Figure size 432x288 with 1 Axes>"
      ]
     },
     "metadata": {
      "needs_background": "light"
     },
     "output_type": "display_data"
    },
    {
     "data": {
      "image/png": "[encoded data removed]",
      "text/plain": [
       "<Figure size 432x288 with 1 Axes>"
      ]
     },
     "metadata": {
      "needs_background": "light"
     },
     "output_type": "display_data"
    }
   ],
   "source": [
    "# построим гистограмму распределения среднего объема интернет-сессий в месяц по двум тарифам\n",
    "(revenue\n",
    " .pivot_table(index='tariff', columns='month', values='gb_sum_internet')\n",
    " .T\n",
    " .plot(kind='hist', alpha=0.5, bins=30)\n",
    ")\n",
    "plt.title('Гистограмма распределения среднего объема интернет-трафика в месяц'+ \"\\n\")\n",
    "plt.xlabel('Гигабайты')\n",
    "plt.ylabel('Частотность')\n",
    "\n",
    "plt.show()\n",
    "\n",
    "# построим столбчатую диаграмму распределения среднего объема интернет-сессий в месяц по двум тарифам\n",
    "(revenue\n",
    " .pivot_table(index='tariff', columns='month', values='gb_sum_internet')\n",
    " .T\n",
    " .plot(kind='bar', alpha=0.5)\n",
    ")\n",
    "plt.title('Распределение среднего объема интернет-трафика в месяц'+ \"\\n\")\n",
    "plt.xlabel('Месяц')\n",
    "plt.ylabel('Частотность')\n",
    "\n",
    "plt.show()"
   ]
  },
  {
   "cell_type": "markdown",
   "metadata": {},
   "source": [
    "Диаграмма размаха тоже хорошо иллюстрирует скошенность данных."
   ]
  },
  {
   "cell_type": "code",
   "execution_count": 57,
   "metadata": {},
   "outputs": [
    {
     "data": {
      "image/png": "[encoded data removed]",
      "text/plain": [
       "<Figure size 432x288 with 1 Axes>"
      ]
     },
     "metadata": {
      "needs_background": "light"
     },
     "output_type": "display_data"
    }
   ],
   "source": [
    "# построим диаграмму размаха распределения среднего объема интернет-сессий в месяц по двум тарифам\n",
    "(revenue\n",
    " .pivot_table(index='tariff', columns='month', values='gb_sum_internet')\n",
    " .T\n",
    " .plot(kind='box')\n",
    ")\n",
    "plt.title('Диаграмма размаха среднего объема интернет-трафика по 2-м тарифам'+ \"\\n\")\n",
    "plt.xlabel('Тариф')\n",
    "plt.ylabel('Объем трафика')\n",
    "\n",
    "plt.show()"
   ]
  },
  {
   "cell_type": "markdown",
   "metadata": {},
   "source": [
    "В среднем абоненты тарифного плана Ultra больше пользуются интернетом, чем  абоненты тарифа Smart. Чаще всего абоненты тарифа Smart тратят 15-17 Гб, а абоненты тарифного плана Ultra — 19-20 ГБ. Меньше всего пользователи использовали интернет в январе, феврале и апреле. Также распределение среднего значения объёма трафика тарифных планов Ultra и Smart ассиметрично, не типично для нормального распределения. Средний объем интернет-трафика тарифа Smart с отрицательной скошенностью частоты значений, а тарифа Ultra с положительной скошенностью."
   ]
  },
  {
   "cell_type": "markdown",
   "metadata": {},
   "source": [
    "**Стандартное отклонение объема интернет-трафика:**"
   ]
  },
  {
   "cell_type": "code",
   "execution_count": 58,
   "metadata": {},
   "outputs": [
    {
     "data": {
      "text/html": [
       "<div>\n",
       "<style scoped>\n",
       "    .dataframe tbody tr th:only-of-type {\n",
       "        vertical-align: middle;\n",
       "    }\n",
       "\n",
       "    .dataframe tbody tr th {\n",
       "        vertical-align: top;\n",
       "    }\n",
       "\n",
       "    .dataframe thead th {\n",
       "        text-align: right;\n",
       "    }\n",
       "</style>\n",
       "<table border=\"1\" class=\"dataframe\">\n",
       "  <thead>\n",
       "    <tr style=\"text-align: right;\">\n",
       "      <th>tariff</th>\n",
       "      <th>smart</th>\n",
       "      <th>ultra</th>\n",
       "    </tr>\n",
       "  </thead>\n",
       "  <tbody>\n",
       "    <tr>\n",
       "      <th>count</th>\n",
       "      <td>12.000000</td>\n",
       "      <td>12.000000</td>\n",
       "    </tr>\n",
       "    <tr>\n",
       "      <th>mean</th>\n",
       "      <td>5.646321</td>\n",
       "      <td>9.441390</td>\n",
       "    </tr>\n",
       "    <tr>\n",
       "      <th>std</th>\n",
       "      <td>0.343146</td>\n",
       "      <td>1.002047</td>\n",
       "    </tr>\n",
       "    <tr>\n",
       "      <th>min</th>\n",
       "      <td>5.079029</td>\n",
       "      <td>6.666667</td>\n",
       "    </tr>\n",
       "    <tr>\n",
       "      <th>25%</th>\n",
       "      <td>5.440123</td>\n",
       "      <td>9.346215</td>\n",
       "    </tr>\n",
       "    <tr>\n",
       "      <th>50%</th>\n",
       "      <td>5.672631</td>\n",
       "      <td>9.551782</td>\n",
       "    </tr>\n",
       "    <tr>\n",
       "      <th>75%</th>\n",
       "      <td>5.786283</td>\n",
       "      <td>10.052890</td>\n",
       "    </tr>\n",
       "    <tr>\n",
       "      <th>max</th>\n",
       "      <td>6.277950</td>\n",
       "      <td>10.675672</td>\n",
       "    </tr>\n",
       "  </tbody>\n",
       "</table>\n",
       "</div>"
      ],
      "text/plain": [
       "tariff      smart      ultra\n",
       "count   12.000000  12.000000\n",
       "mean     5.646321   9.441390\n",
       "std      0.343146   1.002047\n",
       "min      5.079029   6.666667\n",
       "25%      5.440123   9.346215\n",
       "50%      5.672631   9.551782\n",
       "75%      5.786283  10.052890\n",
       "max      6.277950  10.675672"
      ]
     },
     "execution_count": 58,
     "metadata": {},
     "output_type": "execute_result"
    }
   ],
   "source": [
    "# анализ стандартного отклонения объема интернет-трафика\n",
    "revenue.pivot_table(index='tariff', columns='month', values='gb_sum_internet', aggfunc='std').transpose().describe()"
   ]
  },
  {
   "cell_type": "code",
   "execution_count": 59,
   "metadata": {},
   "outputs": [
    {
     "data": {
      "image/png": "[encoded data removed]",
      "text/plain": [
       "<Figure size 432x288 with 1 Axes>"
      ]
     },
     "metadata": {
      "needs_background": "light"
     },
     "output_type": "display_data"
    },
    {
     "data": {
      "image/png": "[encoded data removed]",
      "text/plain": [
       "<Figure size 432x288 with 1 Axes>"
      ]
     },
     "metadata": {
      "needs_background": "light"
     },
     "output_type": "display_data"
    }
   ],
   "source": [
    "# анализ стандартного отклонения объема интернет-трафика\n",
    "(revenue\n",
    " .pivot_table(index='tariff', columns='month', values='gb_sum_internet', aggfunc='std')\n",
    " .T\n",
    " .plot(kind='hist', alpha=0.5, bins=30)\n",
    ")\n",
    "plt.title('Гистограмма распределения стандартного отклонения объема интернет-трафика в месяц'+ \"\\n\")\n",
    "plt.xlabel('Гигабайты')\n",
    "plt.ylabel('Частотность')\n",
    "\n",
    "plt.show()\n",
    "\n",
    "# построим столбчатую диаграмму распределения стандартного отклонения объема интернет-трафика\n",
    "(revenue\n",
    " .pivot_table(index='tariff', columns='month', values='gb_sum_internet', aggfunc='std')\n",
    " .T\n",
    " .plot(kind='bar', alpha=0.5)\n",
    ")\n",
    "plt.title('Распределение стандартного отклонения объема интернет-трафика в месяц'+ \"\\n\")\n",
    "plt.xlabel('Месяц')\n",
    "plt.ylabel('Частотность')\n",
    "\n",
    "plt.show()\n"
   ]
  },
  {
   "cell_type": "markdown",
   "metadata": {},
   "source": [
    "Показатели объема трафика тарифа Smart менее рассеяны вокруг среднего значения, к тому же среднее отклонение интернет-трафика постепенно уменьшается в течение года, что нельзя сказать о пользователях тарифного плана Ultra.\n"
   ]
  },
  {
   "cell_type": "markdown",
   "metadata": {},
   "source": [
    "**Дисперсия объема интернет-трафика:**\n"
   ]
  },
  {
   "cell_type": "code",
   "execution_count": 60,
   "metadata": {},
   "outputs": [
    {
     "data": {
      "image/png": "[encoded data removed]",
      "text/plain": [
       "<Figure size 432x288 with 1 Axes>"
      ]
     },
     "metadata": {
      "needs_background": "light"
     },
     "output_type": "display_data"
    }
   ],
   "source": [
    "# анализ дисперсии объема интернет-трафика\n",
    "(revenue\n",
    " .pivot_table(index='tariff', columns='month', values='gb_sum_internet', aggfunc='var')\n",
    " .T\n",
    " .plot(kind='hist', alpha=0.5, bins=30)\n",
    ")\n",
    "plt.title('Гистограмма распределения дисперсии объема интернет-трафика в месяц по 2-м тарифам'+ \"\\n\")\n",
    "plt.xlabel('Гигабайты')\n",
    "plt.ylabel('Частотность')\n",
    "\n",
    "plt.show()"
   ]
  },
  {
   "cell_type": "markdown",
   "metadata": {},
   "source": [
    "Дисперсия интернет-трафика тарифа Smart более приближена к нормальному распределению, чем дисперсия тарифа Ultra."
   ]
  },
  {
   "cell_type": "markdown",
   "metadata": {},
   "source": [
    "<div style=\"border:solid green 2px; padding: 20px\">\n",
    "    \n",
    "**Вывод к анализу данных**\n",
    "\n",
    "Абоненты тарифного плана Ultra в среднем тратят больше времени на разговоры. В течение года показатели обоих тарифов увеличивались. Рост средней длительности разговоров у абонентов тарифа Smart более равномерный в течение года, а показатели тарифа Ultra менее стабильны, что подтверждает стандартное отклонение длительности разговоров. У абонентов тарифа Ultra оно в два раза выше, чем у абонентов Smart, значит в выборке присутствуют выбивающиеся значения, абоненты тарифа Ultra ведут себя менее предсказуемо. Чтобы оценить разброс значений определили дисперсию. Распределение дисперсии длительности звонков приближено к нормальному распределению. Однако дисперсия длительности звонков абонентов тарифа Ultra намного больше, чем дисперсия длительности разговоров у абонентов Smart.\n",
    "\n",
    "В среднем пользователи тарифа Ultra отправляют почти на 20 сообщений больше, чем пользователи тарифа Smart. Количество сообщений в течение года растёт на обоих тарифах. Динамика отправки сообщений схожа по длительности разговоров: в феврале наименьшее количество сообщений за год, и пользователи тарифа Ultra также проявляют нелинейную положительную динамику.\n",
    "Стандартное отклонение количества сообщений больше у пользователей тарифного плана Ultra — возможно пользователи этого тарифного плана проявляют разную активность. Дисперсия количества отправленных сообщений в обоих тарифных планах не типична для нормального распределения, значения сильно отличаются от среднего с большим разбросом.\n",
    "\n",
    "В среднем абоненты тарифного плана Ultra больше пользуются интернетом, чем абоненты тарифа Smart. Чаще всего абоненты тарифа Smart тратят 15-17 Гб, а абоненты тарифного плана Ultra — 19-20 ГБ. Меньше всего пользователи использовали интернет в январе, феврале и апреле. Также распределение среднего значения объёма трафика тарифных планов Ultra и Smart ассиметрично, не типично для нормального распределения. Средний объем интернет-трафика тарифа Smart с отрицательной скошенностью частоты значений, а тарифа Ultra с положительной. Показатели объема трафика тарифа Smart менее рассеяны вокруг среднего значения, к тому же среднее отклонение интернет-трафика постепенно уменьшается в течение года, что нельзя сказать о пользователях тарифного плана Ultra.\n",
    "Дисперсия интернет-трафика тарифа Smart более приближена к нормальному распределению, чем дисперсия тарифа Ultra, значения тарифа Ultra сильно отличаются от среднего, разброс значений выше среднего.\n",
    "</div> "
   ]
  },
  {
   "cell_type": "markdown",
   "metadata": {},
   "source": [
    "## Проверка гипотез\n",
    "\n",
    "- средняя выручка пользователей тарифов «Ультра» и «Смарт» различаются;\n",
    "- средняя выручка пользователей из Москвы отличается от выручки пользователей из других регионов."
   ]
  },
  {
   "cell_type": "code",
   "execution_count": 61,
   "metadata": {},
   "outputs": [
    {
     "data": {
      "text/html": [
       "<div>\n",
       "<style scoped>\n",
       "    .dataframe tbody tr th:only-of-type {\n",
       "        vertical-align: middle;\n",
       "    }\n",
       "\n",
       "    .dataframe tbody tr th {\n",
       "        vertical-align: top;\n",
       "    }\n",
       "\n",
       "    .dataframe thead th {\n",
       "        text-align: right;\n",
       "    }\n",
       "</style>\n",
       "<table border=\"1\" class=\"dataframe\">\n",
       "  <thead>\n",
       "    <tr style=\"text-align: right;\">\n",
       "      <th></th>\n",
       "      <th>user_id</th>\n",
       "      <th>monthly_revenue_user</th>\n",
       "    </tr>\n",
       "  </thead>\n",
       "  <tbody>\n",
       "    <tr>\n",
       "      <th>0</th>\n",
       "      <td>1000</td>\n",
       "      <td>1950.000000</td>\n",
       "    </tr>\n",
       "    <tr>\n",
       "      <th>1</th>\n",
       "      <td>1001</td>\n",
       "      <td>850.000000</td>\n",
       "    </tr>\n",
       "    <tr>\n",
       "      <th>2</th>\n",
       "      <td>1002</td>\n",
       "      <td>1035.714286</td>\n",
       "    </tr>\n",
       "    <tr>\n",
       "      <th>3</th>\n",
       "      <td>1003</td>\n",
       "      <td>1950.000000</td>\n",
       "    </tr>\n",
       "    <tr>\n",
       "      <th>4</th>\n",
       "      <td>1004</td>\n",
       "      <td>1950.000000</td>\n",
       "    </tr>\n",
       "  </tbody>\n",
       "</table>\n",
       "</div>"
      ],
      "text/plain": [
       "   user_id  monthly_revenue_user\n",
       "0     1000           1950.000000\n",
       "1     1001            850.000000\n",
       "2     1002           1035.714286\n",
       "3     1003           1950.000000\n",
       "4     1004           1950.000000"
      ]
     },
     "execution_count": 61,
     "metadata": {},
     "output_type": "execute_result"
    }
   ],
   "source": [
    "# произведм расчет средней выручки на каждого пользователя\n",
    "mean_revenue_user = revenue.pivot_table(index='user_id', values='monthly_revenue').reset_index()\n",
    "mean_revenue_user.columns = ['user_id', 'monthly_revenue_user']\n",
    "mean_revenue_user.head()\n"
   ]
  },
  {
   "cell_type": "code",
   "execution_count": 62,
   "metadata": {},
   "outputs": [
    {
     "data": {
      "text/html": [
       "<div>\n",
       "<style scoped>\n",
       "    .dataframe tbody tr th:only-of-type {\n",
       "        vertical-align: middle;\n",
       "    }\n",
       "\n",
       "    .dataframe tbody tr th {\n",
       "        vertical-align: top;\n",
       "    }\n",
       "\n",
       "    .dataframe thead th {\n",
       "        text-align: right;\n",
       "    }\n",
       "</style>\n",
       "<table border=\"1\" class=\"dataframe\">\n",
       "  <thead>\n",
       "    <tr style=\"text-align: right;\">\n",
       "      <th></th>\n",
       "      <th>user_id</th>\n",
       "      <th>age</th>\n",
       "      <th>churn_date</th>\n",
       "      <th>city</th>\n",
       "      <th>first_name</th>\n",
       "      <th>last_name</th>\n",
       "      <th>reg_date</th>\n",
       "      <th>tariff</th>\n",
       "      <th>month_stop</th>\n",
       "      <th>month_start</th>\n",
       "      <th>use_days</th>\n",
       "      <th>monthly_revenue_user</th>\n",
       "    </tr>\n",
       "  </thead>\n",
       "  <tbody>\n",
       "    <tr>\n",
       "      <th>0</th>\n",
       "      <td>1000</td>\n",
       "      <td>52</td>\n",
       "      <td>NaT</td>\n",
       "      <td>Краснодар</td>\n",
       "      <td>Рафаил</td>\n",
       "      <td>Верещагин</td>\n",
       "      <td>2018-05-25</td>\n",
       "      <td>ultra</td>\n",
       "      <td>NaN</td>\n",
       "      <td>5</td>\n",
       "      <td>NaT</td>\n",
       "      <td>1950.000000</td>\n",
       "    </tr>\n",
       "    <tr>\n",
       "      <th>1</th>\n",
       "      <td>1001</td>\n",
       "      <td>41</td>\n",
       "      <td>NaT</td>\n",
       "      <td>Москва</td>\n",
       "      <td>Иван</td>\n",
       "      <td>Ежов</td>\n",
       "      <td>2018-11-01</td>\n",
       "      <td>smart</td>\n",
       "      <td>NaN</td>\n",
       "      <td>11</td>\n",
       "      <td>NaT</td>\n",
       "      <td>850.000000</td>\n",
       "    </tr>\n",
       "    <tr>\n",
       "      <th>2</th>\n",
       "      <td>1002</td>\n",
       "      <td>59</td>\n",
       "      <td>NaT</td>\n",
       "      <td>Стерлитамак</td>\n",
       "      <td>Евгений</td>\n",
       "      <td>Абрамович</td>\n",
       "      <td>2018-06-17</td>\n",
       "      <td>smart</td>\n",
       "      <td>NaN</td>\n",
       "      <td>6</td>\n",
       "      <td>NaT</td>\n",
       "      <td>1035.714286</td>\n",
       "    </tr>\n",
       "    <tr>\n",
       "      <th>3</th>\n",
       "      <td>1003</td>\n",
       "      <td>23</td>\n",
       "      <td>NaT</td>\n",
       "      <td>Москва</td>\n",
       "      <td>Белла</td>\n",
       "      <td>Белякова</td>\n",
       "      <td>2018-08-17</td>\n",
       "      <td>ultra</td>\n",
       "      <td>NaN</td>\n",
       "      <td>8</td>\n",
       "      <td>NaT</td>\n",
       "      <td>1950.000000</td>\n",
       "    </tr>\n",
       "    <tr>\n",
       "      <th>4</th>\n",
       "      <td>1004</td>\n",
       "      <td>68</td>\n",
       "      <td>NaT</td>\n",
       "      <td>Новокузнецк</td>\n",
       "      <td>Татьяна</td>\n",
       "      <td>Авдеенко</td>\n",
       "      <td>2018-05-14</td>\n",
       "      <td>ultra</td>\n",
       "      <td>NaN</td>\n",
       "      <td>5</td>\n",
       "      <td>NaT</td>\n",
       "      <td>1950.000000</td>\n",
       "    </tr>\n",
       "  </tbody>\n",
       "</table>\n",
       "</div>"
      ],
      "text/plain": [
       "   user_id  age churn_date         city first_name  last_name   reg_date  \\\n",
       "0     1000   52        NaT    Краснодар     Рафаил  Верещагин 2018-05-25   \n",
       "1     1001   41        NaT       Москва       Иван       Ежов 2018-11-01   \n",
       "2     1002   59        NaT  Стерлитамак    Евгений  Абрамович 2018-06-17   \n",
       "3     1003   23        NaT       Москва      Белла   Белякова 2018-08-17   \n",
       "4     1004   68        NaT  Новокузнецк    Татьяна   Авдеенко 2018-05-14   \n",
       "\n",
       "  tariff  month_stop  month_start use_days  monthly_revenue_user  \n",
       "0  ultra         NaN            5      NaT           1950.000000  \n",
       "1  smart         NaN           11      NaT            850.000000  \n",
       "2  smart         NaN            6      NaT           1035.714286  \n",
       "3  ultra         NaN            8      NaT           1950.000000  \n",
       "4  ultra         NaN            5      NaT           1950.000000  "
      ]
     },
     "execution_count": 62,
     "metadata": {},
     "output_type": "execute_result"
    }
   ],
   "source": [
    "# добавление в  таблицу df_users столбца mean_revenue_user со средней выручкой на каждого пользователя\n",
    "revenue = revenue.merge(df_users[['user_id', 'city']], on='user_id', how='left')\n",
    "df_users = df_users.merge(mean_revenue_user, on='user_id', how='left')\n",
    "df_users.head()"
   ]
  },
  {
   "cell_type": "code",
   "execution_count": 63,
   "metadata": {},
   "outputs": [
    {
     "data": {
      "image/png": "[encoded data removed]",
      "text/plain": [
       "<Figure size 432x288 with 1 Axes>"
      ]
     },
     "metadata": {
      "needs_background": "light"
     },
     "output_type": "display_data"
    },
    {
     "data": {
      "image/png": "[encoded data removed]",
      "text/plain": [
       "<Figure size 432x288 with 1 Axes>"
      ]
     },
     "metadata": {
      "needs_background": "light"
     },
     "output_type": "display_data"
    },
    {
     "data": {
      "image/png": "[encoded data removed]",
      "text/plain": [
       "<Figure size 432x288 with 1 Axes>"
      ]
     },
     "metadata": {
      "needs_background": "light"
     },
     "output_type": "display_data"
    }
   ],
   "source": [
    "# построим гистограммы распределения выручки по двум тарифам\n",
    "ax = df_users[df_users['tariff'] == 'ultra'].plot(kind='hist', y='monthly_revenue_user', label='Выручка Ultra', alpha=0.5, bins=20)\n",
    "df_users[df_users['tariff'] == 'smart'].plot(kind='hist', y='monthly_revenue_user', label='Выручка Smart', ax=ax, alpha=0.5, bins=20)\n",
    "plt.title('Гистограмма распределения выручки по 2-м тарифам'+ \"\\n\")\n",
    "plt.xlabel('Рубли')\n",
    "plt.ylabel('Частотность')\n",
    "\n",
    "# построим гистограмму распределения выручки тарифа Ultra\n",
    "df_users[df_users['tariff'] == 'ultra'].plot(kind='hist', y='monthly_revenue_user', label='Выручка Ultra', alpha=0.5, bins=20)\n",
    "\n",
    "# построим гистограмму распределения выручки тарифа Smart\n",
    "df_users[df_users['tariff'] == 'smart'].plot(kind='hist', y='monthly_revenue_user', label='Выручка Smart', alpha=0.5, bins=20)\n",
    "\n",
    "plt.show()\n"
   ]
  },
  {
   "cell_type": "code",
   "execution_count": 64,
   "metadata": {},
   "outputs": [
    {
     "data": {
      "text/plain": [
       "count     148.000000\n",
       "mean     2085.932893\n",
       "std       298.269870\n",
       "min      1950.000000\n",
       "25%      1950.000000\n",
       "50%      1950.000000\n",
       "75%      1990.625000\n",
       "max      3225.000000\n",
       "Name: monthly_revenue_user, dtype: float64"
      ]
     },
     "execution_count": 64,
     "metadata": {},
     "output_type": "execute_result"
    }
   ],
   "source": [
    "# посмотрим на числовые характеристики выручки по тарифу Ultra \n",
    "df_users[df_users['tariff'] == 'ultra']['monthly_revenue_user'].describe()"
   ]
  },
  {
   "cell_type": "markdown",
   "metadata": {},
   "source": [
    "Средняя выручка по тарифу Ultra составляет 2087, однако в основном пользователи не выходят за пределы тарифного плана."
   ]
  },
  {
   "cell_type": "code",
   "execution_count": 65,
   "metadata": {},
   "outputs": [
    {
     "data": {
      "text/plain": [
       "308718.0681818182"
      ]
     },
     "execution_count": 65,
     "metadata": {},
     "output_type": "execute_result"
    }
   ],
   "source": [
    "# посчитаем сумарную выручку по тарифу Ultra\n",
    "df_users[df_users['tariff'] == 'ultra']['monthly_revenue_user'].sum()"
   ]
  },
  {
   "cell_type": "code",
   "execution_count": 66,
   "metadata": {},
   "outputs": [
    {
     "data": {
      "text/plain": [
       "462509.9310606061"
      ]
     },
     "execution_count": 66,
     "metadata": {},
     "output_type": "execute_result"
    }
   ],
   "source": [
    "# посчитаем сумарную выручку по тарифу Smart \n",
    "df_users[df_users['tariff'] == 'smart']['monthly_revenue_user'].sum()"
   ]
  },
  {
   "cell_type": "code",
   "execution_count": 67,
   "metadata": {},
   "outputs": [
    {
     "data": {
      "text/plain": [
       "count     350.000000\n",
       "mean     1321.456946\n",
       "std       605.245248\n",
       "min       550.000000\n",
       "25%       864.880952\n",
       "50%      1177.116667\n",
       "75%      1659.875000\n",
       "max      4333.333333\n",
       "Name: monthly_revenue_user, dtype: float64"
      ]
     },
     "execution_count": 67,
     "metadata": {},
     "output_type": "execute_result"
    }
   ],
   "source": [
    "# посмотрим на числовые характеристики выручки по тарифу Smart\n",
    "df_users[df_users['tariff'] == 'smart']['monthly_revenue_user'].describe()\n"
   ]
  },
  {
   "cell_type": "markdown",
   "metadata": {},
   "source": [
    "В среднем пользователи тарифа Ultra чаще всего не выходят за рамки абонентской платы в 1950 рублей. Абоненты Smart наоборот превышают лимиты, установленные в рамках абонентской платы в 550 рублей. Именно у пользователей тарифа Smart отмечена максимальная среднемесячная выручка — 4375 рублей.\n"
   ]
  },
  {
   "cell_type": "markdown",
   "metadata": {},
   "source": [
    "**Прверка гипотезы: средняя выручка пользователей тарифов «Ультра» и «Смарт» различаются.**\n",
    "\n",
    "Проверка гипотез начинается с формулировки нулевой гипотезы H₀ (от англ. hypothesis — «гипотеза»). Исходя из H₀ формулируется альтернативная гипотеза H₁. Это утверждение, которое принимается верным, если отбрасывается H₀. \n",
    "\n",
    "\n",
    "Н0 — средняя выручка пользователей тарифов «Ультра» и «Смарт» равны, т.е. средние значения равны.\n",
    "\n",
    "Н1 — средняя выручка пользователей тарифов «Ультра» и «Смарт» не равны, т.е. средние значения не равны.\n",
    "\n",
    "Такая альтернативная гипотеза называется двусторонней, потому что есть возможное отклонение и в большую, и в меньшую стороны.\n",
    "\n",
    "Для проверки гипотезы будет использоваться критерий p-value.\n",
    "Метод scipy.stats.ttest_1samp() возвращает два числа: статистику разности и уровень значимости для этой статистики — p-value (от англ. p, probability — «вероятность», value — «значение»).\n"
   ]
  },
  {
   "cell_type": "code",
   "execution_count": 68,
   "metadata": {},
   "outputs": [
    {
     "name": "stdout",
     "output_type": "stream",
     "text": [
      "p-значение:  2.717446581911462e-162\n",
      "Принимаем альтернативную гипотезу\n"
     ]
    }
   ],
   "source": [
    "# проверка гипотезы\n",
    "sample_1 = revenue[revenue['tariff'] == 'ultra']['monthly_revenue'] \n",
    "sample_2 = revenue[revenue['tariff'] == 'smart']['monthly_revenue']\n",
    "\n",
    "results = st.ttest_ind( sample_1, sample_2)\n",
    "alpha = .05\n",
    "\n",
    "print('p-значение: ', results.pvalue)\n",
    "if results.pvalue < alpha:\n",
    "    print('Принимаем альтернативную гипотезу')\n",
    "else:\n",
    "    print('Не получилось отвергнуть нулевую гипотезу')\n"
   ]
  },
  {
   "cell_type": "markdown",
   "metadata": {},
   "source": [
    "P-значение достаточно мало, что даёт основание отвергнуть предположение об отсутствии различий между выручками у разных тарифных планов, т.е. маловероятна случайность результатов теста гипотезы.\n"
   ]
  },
  {
   "cell_type": "markdown",
   "metadata": {},
   "source": [
    "**Прверка гипотезы: средняя выручка пользователей из Москвы отличается от выручки пользователей из других регионов.**\n",
    "\n",
    "Н0 — средняя выручка пользователей из Москвы не отличается от выручки пользователей из других регионов, т.е. средние значения равны.\n",
    "\n",
    "Н1 — средняя выручка пользователей из Москвы отличается от выручки пользователей из других регионов, т.е. средние значения не равны.\n",
    "\n",
    "Для проверки гипотезы будет использоваться критерий p-value.\n"
   ]
  },
  {
   "cell_type": "code",
   "execution_count": 69,
   "metadata": {},
   "outputs": [
    {
     "name": "stdout",
     "output_type": "stream",
     "text": [
      "p-значение:  0.5357407978453328\n",
      "Не получилось отвергнуть нулевую гипотезу\n"
     ]
    }
   ],
   "source": [
    "# проверка гипотезы \n",
    "sample_1 = revenue[revenue['city'] == 'Москва']['monthly_revenue'] \n",
    "sample_2 = revenue[revenue['city'] != 'Москва']['monthly_revenue']\n",
    "\n",
    "results = st.ttest_ind( sample_2, sample_1)\n",
    "alpha = .05\n",
    "\n",
    "print('p-значение: ', results.pvalue)\n",
    "if results.pvalue < alpha:\n",
    "    print('Принимаем альтернативную гипотезу')\n",
    "else:\n",
    "    print('Не получилось отвергнуть нулевую гипотезу')"
   ]
  },
  {
   "cell_type": "markdown",
   "metadata": {},
   "source": [
    "Полученное значение p-value говорит о том, что средняя выручка пользователей из Москвы и из других регионов отличается, но с вероятностью в 58% такое различие можно получить случайно. Это слишком высокая вероятность для того, чтобы делать выводы о значимом различии между средними значениями выручки."
   ]
  },
  {
   "cell_type": "markdown",
   "metadata": {},
   "source": [
    "## Общий вывод"
   ]
  },
  {
   "cell_type": "markdown",
   "metadata": {},
   "source": [
    "<div style=\"border:solid green 2px; padding: 20px\">\n",
    "    \n",
    "Активность пользователей тарифных планов отличается друг от друга, как показал анализ распределений средних значений и вариативности предоставляемых услуг.\n",
    "\n",
    "Пользователи тарифа Ultra ведут траты не стабильно, неn четкой тенденции по месяцам. При этом, в среднем пользователи тарифа Ultra чаще всего не выходят за рамки абонентской платы в 1950 рублей — менее четверти клиентов доплачивают за превышение лимитов.\n",
    "\n",
    "По тарифу Smart чаще всего пользователи превышали лимиты по интернет-трафику, в результате выручка по тарифу Smart была больше, чем по тарифу Ultra. И у абонента этого тарифного плана отмечена максимальная выручка в выборке.\n",
    "\n",
    "Таким образом, для оператора будет выгоднее тариф Smart с сохранением текущих лимитов по абонентской плате.\n",
    "\n",
    "       \n",
    "</div>    "
   ]
  }
 ],
 "metadata": {
  "ExecuteTimeLog": [
   {
    "duration": 286,
    "start_time": "2022-01-19T19:30:47.115Z"
   },
   {
    "duration": 1091,
    "start_time": "2022-01-19T19:31:35.882Z"
   },
   {
    "duration": 440,
    "start_time": "2022-01-19T19:31:36.975Z"
   },
   {
    "duration": 488,
    "start_time": "2022-01-19T19:31:40.728Z"
   },
   {
    "duration": 11,
    "start_time": "2022-01-19T19:41:29.899Z"
   },
   {
    "duration": 367,
    "start_time": "2022-01-19T19:42:14.126Z"
   },
   {
    "duration": 23,
    "start_time": "2022-01-19T19:42:22.638Z"
   },
   {
    "duration": 8,
    "start_time": "2022-01-19T19:42:35.409Z"
   },
   {
    "duration": 21,
    "start_time": "2022-01-19T19:42:40.274Z"
   },
   {
    "duration": 130,
    "start_time": "2022-01-19T19:55:19.729Z"
   },
   {
    "duration": 4,
    "start_time": "2022-01-19T19:55:57.677Z"
   },
   {
    "duration": 258,
    "start_time": "2022-01-19T19:56:35.909Z"
   },
   {
    "duration": 282,
    "start_time": "2022-01-19T20:00:14.325Z"
   },
   {
    "duration": 13,
    "start_time": "2022-01-19T20:01:46.632Z"
   },
   {
    "duration": 8,
    "start_time": "2022-01-19T20:11:19.192Z"
   },
   {
    "duration": 7,
    "start_time": "2022-01-19T20:27:00.940Z"
   },
   {
    "duration": 8,
    "start_time": "2022-01-19T20:28:39.810Z"
   },
   {
    "duration": 46,
    "start_time": "2022-01-19T20:36:58.982Z"
   },
   {
    "duration": 47,
    "start_time": "2022-01-19T20:38:51.585Z"
   },
   {
    "duration": 9,
    "start_time": "2022-01-19T20:41:08.603Z"
   },
   {
    "duration": 17,
    "start_time": "2022-01-19T20:41:57.057Z"
   },
   {
    "duration": 3,
    "start_time": "2022-01-19T20:42:40.256Z"
   },
   {
    "duration": 53,
    "start_time": "2022-01-19T20:43:47.699Z"
   },
   {
    "duration": 219,
    "start_time": "2022-01-20T12:44:35.744Z"
   },
   {
    "duration": 1092,
    "start_time": "2022-01-20T12:44:53.890Z"
   },
   {
    "duration": 392,
    "start_time": "2022-01-20T12:44:54.984Z"
   },
   {
    "duration": 11,
    "start_time": "2022-01-20T12:44:55.378Z"
   },
   {
    "duration": 33,
    "start_time": "2022-01-20T12:44:55.391Z"
   },
   {
    "duration": 3,
    "start_time": "2022-01-20T12:44:55.426Z"
   },
   {
    "duration": 112,
    "start_time": "2022-01-20T12:44:55.431Z"
   },
   {
    "duration": 269,
    "start_time": "2022-01-20T12:44:55.545Z"
   },
   {
    "duration": 14,
    "start_time": "2022-01-20T12:44:55.816Z"
   },
   {
    "duration": 9,
    "start_time": "2022-01-20T12:44:55.831Z"
   },
   {
    "duration": 20,
    "start_time": "2022-01-20T12:44:55.842Z"
   },
   {
    "duration": 4,
    "start_time": "2022-01-20T12:44:55.863Z"
   },
   {
    "duration": 88,
    "start_time": "2022-01-20T12:44:55.868Z"
   },
   {
    "duration": 10,
    "start_time": "2022-01-20T12:44:55.958Z"
   },
   {
    "duration": 81,
    "start_time": "2022-01-20T12:44:55.969Z"
   },
   {
    "duration": 56,
    "start_time": "2022-01-20T12:44:56.052Z"
   },
   {
    "duration": 7,
    "start_time": "2022-01-20T12:50:08.616Z"
   },
   {
    "duration": 4,
    "start_time": "2022-01-20T12:50:42.463Z"
   },
   {
    "duration": 13,
    "start_time": "2022-01-20T12:51:24.385Z"
   },
   {
    "duration": 14,
    "start_time": "2022-01-20T12:51:41.762Z"
   },
   {
    "duration": 5,
    "start_time": "2022-01-20T12:51:56.693Z"
   },
   {
    "duration": 41,
    "start_time": "2022-01-20T12:52:18.800Z"
   },
   {
    "duration": 34,
    "start_time": "2022-01-20T13:01:11.618Z"
   },
   {
    "duration": 37,
    "start_time": "2022-01-20T13:02:22.416Z"
   },
   {
    "duration": 11,
    "start_time": "2022-01-20T13:03:48.785Z"
   },
   {
    "duration": 7,
    "start_time": "2022-01-20T13:04:16.838Z"
   },
   {
    "duration": 5,
    "start_time": "2022-01-20T13:04:39.976Z"
   },
   {
    "duration": 7,
    "start_time": "2022-01-20T13:05:09.457Z"
   },
   {
    "duration": 5,
    "start_time": "2022-01-20T13:08:01.958Z"
   },
   {
    "duration": 10,
    "start_time": "2022-01-20T13:08:17.697Z"
   },
   {
    "duration": 8,
    "start_time": "2022-01-20T13:08:55.490Z"
   },
   {
    "duration": 58,
    "start_time": "2022-01-20T13:28:21.528Z"
   },
   {
    "duration": 16,
    "start_time": "2022-01-20T13:33:05.432Z"
   },
   {
    "duration": 33,
    "start_time": "2022-01-20T13:34:36.759Z"
   },
   {
    "duration": 29,
    "start_time": "2022-01-20T13:35:23.357Z"
   },
   {
    "duration": 28,
    "start_time": "2022-01-20T13:36:36.271Z"
   },
   {
    "duration": 4,
    "start_time": "2022-01-20T13:47:09.770Z"
   },
   {
    "duration": 5,
    "start_time": "2022-01-20T13:47:31.437Z"
   },
   {
    "duration": 5,
    "start_time": "2022-01-20T13:49:36.576Z"
   },
   {
    "duration": 5,
    "start_time": "2022-01-20T13:50:30.239Z"
   },
   {
    "duration": 5,
    "start_time": "2022-01-20T13:51:35.921Z"
   },
   {
    "duration": 4,
    "start_time": "2022-01-20T13:52:32.851Z"
   },
   {
    "duration": 62,
    "start_time": "2022-01-20T14:04:13.061Z"
   },
   {
    "duration": 13,
    "start_time": "2022-01-20T14:20:10.288Z"
   },
   {
    "duration": 14,
    "start_time": "2022-01-20T14:30:46.694Z"
   },
   {
    "duration": 4,
    "start_time": "2022-01-20T14:32:05.206Z"
   },
   {
    "duration": 15,
    "start_time": "2022-01-20T14:34:57.601Z"
   },
   {
    "duration": 4,
    "start_time": "2022-01-20T14:37:54.768Z"
   },
   {
    "duration": 15,
    "start_time": "2022-01-20T14:42:41.635Z"
   },
   {
    "duration": 17,
    "start_time": "2022-01-20T14:48:16.847Z"
   },
   {
    "duration": 16,
    "start_time": "2022-01-20T14:48:29.432Z"
   },
   {
    "duration": 5,
    "start_time": "2022-01-20T14:49:09.699Z"
   },
   {
    "duration": 16,
    "start_time": "2022-01-20T14:49:11.223Z"
   },
   {
    "duration": 18,
    "start_time": "2022-01-20T14:49:33.149Z"
   },
   {
    "duration": 18,
    "start_time": "2022-01-20T14:49:50.086Z"
   },
   {
    "duration": 17,
    "start_time": "2022-01-20T14:49:55.683Z"
   },
   {
    "duration": 20,
    "start_time": "2022-01-20T14:50:28.528Z"
   },
   {
    "duration": 1040,
    "start_time": "2022-01-20T14:50:37.385Z"
   },
   {
    "duration": 441,
    "start_time": "2022-01-20T14:50:38.427Z"
   },
   {
    "duration": 12,
    "start_time": "2022-01-20T14:50:38.870Z"
   },
   {
    "duration": 40,
    "start_time": "2022-01-20T14:50:38.884Z"
   },
   {
    "duration": 10,
    "start_time": "2022-01-20T14:50:38.926Z"
   },
   {
    "duration": 149,
    "start_time": "2022-01-20T14:50:38.938Z"
   },
   {
    "duration": 269,
    "start_time": "2022-01-20T14:50:39.088Z"
   },
   {
    "duration": 13,
    "start_time": "2022-01-20T14:50:39.360Z"
   },
   {
    "duration": 24,
    "start_time": "2022-01-20T14:50:39.375Z"
   },
   {
    "duration": 46,
    "start_time": "2022-01-20T14:50:39.400Z"
   },
   {
    "duration": 25,
    "start_time": "2022-01-20T14:50:39.448Z"
   },
   {
    "duration": 90,
    "start_time": "2022-01-20T14:50:39.475Z"
   },
   {
    "duration": 7,
    "start_time": "2022-01-20T14:50:39.567Z"
   },
   {
    "duration": 42,
    "start_time": "2022-01-20T14:50:39.575Z"
   },
   {
    "duration": 27,
    "start_time": "2022-01-20T14:50:39.619Z"
   },
   {
    "duration": 77,
    "start_time": "2022-01-20T14:50:39.648Z"
   },
   {
    "duration": 10,
    "start_time": "2022-01-20T14:50:39.727Z"
   },
   {
    "duration": 38,
    "start_time": "2022-01-20T14:50:39.739Z"
   },
   {
    "duration": 31,
    "start_time": "2022-01-20T14:50:39.779Z"
   },
   {
    "duration": 38,
    "start_time": "2022-01-20T14:50:39.812Z"
   },
   {
    "duration": 22,
    "start_time": "2022-01-20T14:50:39.851Z"
   },
   {
    "duration": 82,
    "start_time": "2022-01-20T14:50:39.875Z"
   },
   {
    "duration": 61,
    "start_time": "2022-01-20T14:50:39.960Z"
   },
   {
    "duration": 46,
    "start_time": "2022-01-20T14:50:40.023Z"
   },
   {
    "duration": 33,
    "start_time": "2022-01-20T14:50:40.070Z"
   },
   {
    "duration": 97,
    "start_time": "2022-01-20T14:50:40.105Z"
   },
   {
    "duration": 30,
    "start_time": "2022-01-20T14:50:40.203Z"
   },
   {
    "duration": 27,
    "start_time": "2022-01-20T14:50:40.235Z"
   },
   {
    "duration": 13,
    "start_time": "2022-01-20T14:50:40.264Z"
   },
   {
    "duration": 43,
    "start_time": "2022-01-20T14:50:40.279Z"
   },
   {
    "duration": 46,
    "start_time": "2022-01-20T14:50:40.324Z"
   },
   {
    "duration": 37,
    "start_time": "2022-01-20T14:50:40.372Z"
   },
   {
    "duration": 26,
    "start_time": "2022-01-20T14:50:40.411Z"
   },
   {
    "duration": 43,
    "start_time": "2022-01-20T14:50:40.439Z"
   },
   {
    "duration": 23,
    "start_time": "2022-01-20T14:50:40.483Z"
   },
   {
    "duration": 35,
    "start_time": "2022-01-20T14:50:40.508Z"
   },
   {
    "duration": 29,
    "start_time": "2022-01-20T14:50:40.545Z"
   },
   {
    "duration": 65,
    "start_time": "2022-01-20T14:50:40.575Z"
   },
   {
    "duration": 4555,
    "start_time": "2022-01-20T14:50:40.641Z"
   },
   {
    "duration": 5451,
    "start_time": "2022-01-20T14:51:56.249Z"
   },
   {
    "duration": 11,
    "start_time": "2022-01-20T15:01:02.902Z"
   },
   {
    "duration": 10,
    "start_time": "2022-01-20T15:03:01.074Z"
   },
   {
    "duration": 1067,
    "start_time": "2022-01-20T18:52:42.137Z"
   },
   {
    "duration": 440,
    "start_time": "2022-01-20T18:52:43.205Z"
   },
   {
    "duration": 13,
    "start_time": "2022-01-20T18:52:43.647Z"
   },
   {
    "duration": 43,
    "start_time": "2022-01-20T18:52:43.663Z"
   },
   {
    "duration": 7,
    "start_time": "2022-01-20T18:52:43.709Z"
   },
   {
    "duration": 148,
    "start_time": "2022-01-20T18:52:43.718Z"
   },
   {
    "duration": 307,
    "start_time": "2022-01-20T18:52:43.869Z"
   },
   {
    "duration": 28,
    "start_time": "2022-01-20T18:52:44.179Z"
   },
   {
    "duration": 44,
    "start_time": "2022-01-20T18:52:44.210Z"
   },
   {
    "duration": 61,
    "start_time": "2022-01-20T18:52:44.256Z"
   },
   {
    "duration": 4,
    "start_time": "2022-01-20T18:52:44.319Z"
   },
   {
    "duration": 113,
    "start_time": "2022-01-20T18:52:44.325Z"
   },
   {
    "duration": 9,
    "start_time": "2022-01-20T18:52:44.440Z"
   },
   {
    "duration": 46,
    "start_time": "2022-01-20T18:52:44.451Z"
   },
   {
    "duration": 21,
    "start_time": "2022-01-20T18:52:44.500Z"
   },
   {
    "duration": 74,
    "start_time": "2022-01-20T18:52:44.523Z"
   },
   {
    "duration": 10,
    "start_time": "2022-01-20T18:52:44.599Z"
   },
   {
    "duration": 51,
    "start_time": "2022-01-20T18:52:44.611Z"
   },
   {
    "duration": 47,
    "start_time": "2022-01-20T18:52:44.664Z"
   },
   {
    "duration": 35,
    "start_time": "2022-01-20T18:52:44.713Z"
   },
   {
    "duration": 44,
    "start_time": "2022-01-20T18:52:44.750Z"
   },
   {
    "duration": 95,
    "start_time": "2022-01-20T18:52:44.795Z"
   },
   {
    "duration": 63,
    "start_time": "2022-01-20T18:52:44.894Z"
   },
   {
    "duration": 52,
    "start_time": "2022-01-20T18:52:44.959Z"
   },
   {
    "duration": 30,
    "start_time": "2022-01-20T18:52:45.013Z"
   },
   {
    "duration": 85,
    "start_time": "2022-01-20T18:52:45.045Z"
   },
   {
    "duration": 36,
    "start_time": "2022-01-20T18:52:45.133Z"
   },
   {
    "duration": 47,
    "start_time": "2022-01-20T18:52:45.171Z"
   },
   {
    "duration": 6,
    "start_time": "2022-01-20T18:52:45.219Z"
   },
   {
    "duration": 52,
    "start_time": "2022-01-20T18:52:45.227Z"
   },
   {
    "duration": 77,
    "start_time": "2022-01-20T18:52:45.281Z"
   },
   {
    "duration": 53,
    "start_time": "2022-01-20T18:52:45.360Z"
   },
   {
    "duration": 40,
    "start_time": "2022-01-20T18:52:45.416Z"
   },
   {
    "duration": 50,
    "start_time": "2022-01-20T18:52:45.458Z"
   },
   {
    "duration": 33,
    "start_time": "2022-01-20T18:52:45.510Z"
   },
   {
    "duration": 25,
    "start_time": "2022-01-20T18:52:45.544Z"
   },
   {
    "duration": 46,
    "start_time": "2022-01-20T18:52:45.570Z"
   },
   {
    "duration": 36,
    "start_time": "2022-01-20T18:52:45.617Z"
   },
   {
    "duration": 36,
    "start_time": "2022-01-20T18:52:45.655Z"
   },
   {
    "duration": 47,
    "start_time": "2022-01-20T18:52:45.693Z"
   },
   {
    "duration": 5,
    "start_time": "2022-01-20T18:52:57.546Z"
   },
   {
    "duration": 9512,
    "start_time": "2022-01-20T18:54:06.562Z"
   },
   {
    "duration": 9425,
    "start_time": "2022-01-20T18:55:12.628Z"
   },
   {
    "duration": 25,
    "start_time": "2022-01-20T19:05:41.986Z"
   },
   {
    "duration": 23,
    "start_time": "2022-01-20T19:06:25.343Z"
   },
   {
    "duration": 54,
    "start_time": "2022-01-20T19:09:12.584Z"
   },
   {
    "duration": 25,
    "start_time": "2022-01-20T19:09:36.277Z"
   },
   {
    "duration": 24,
    "start_time": "2022-01-20T19:15:28.952Z"
   },
   {
    "duration": 23,
    "start_time": "2022-01-20T19:15:37.940Z"
   },
   {
    "duration": 278,
    "start_time": "2022-01-20T19:25:33.334Z"
   },
   {
    "duration": 251,
    "start_time": "2022-01-20T19:29:58.531Z"
   },
   {
    "duration": 171,
    "start_time": "2022-01-20T19:31:04.031Z"
   },
   {
    "duration": 24,
    "start_time": "2022-01-20T19:40:45.549Z"
   },
   {
    "duration": 25,
    "start_time": "2022-01-20T19:41:21.816Z"
   },
   {
    "duration": 530,
    "start_time": "2022-01-20T19:42:44.335Z"
   },
   {
    "duration": 24,
    "start_time": "2022-01-20T20:05:09.472Z"
   },
   {
    "duration": 577,
    "start_time": "2022-01-20T20:15:06.572Z"
   },
   {
    "duration": 23,
    "start_time": "2022-01-20T20:22:37.742Z"
   },
   {
    "duration": 789,
    "start_time": "2022-01-20T20:27:53.114Z"
   },
   {
    "duration": 777,
    "start_time": "2022-01-20T20:28:59.446Z"
   },
   {
    "duration": 1386,
    "start_time": "2022-01-21T09:18:58.613Z"
   },
   {
    "duration": 514,
    "start_time": "2022-01-21T09:19:00.002Z"
   },
   {
    "duration": 19,
    "start_time": "2022-01-21T09:19:00.520Z"
   },
   {
    "duration": 48,
    "start_time": "2022-01-21T09:19:00.543Z"
   },
   {
    "duration": 6,
    "start_time": "2022-01-21T09:19:00.595Z"
   },
   {
    "duration": 177,
    "start_time": "2022-01-21T09:19:00.603Z"
   },
   {
    "duration": 561,
    "start_time": "2022-01-21T09:19:00.782Z"
   },
   {
    "duration": 20,
    "start_time": "2022-01-21T09:19:01.348Z"
   },
   {
    "duration": 29,
    "start_time": "2022-01-21T09:19:01.372Z"
   },
   {
    "duration": 41,
    "start_time": "2022-01-21T09:19:01.404Z"
   },
   {
    "duration": 5,
    "start_time": "2022-01-21T09:19:01.448Z"
   },
   {
    "duration": 106,
    "start_time": "2022-01-21T09:19:01.456Z"
   },
   {
    "duration": 9,
    "start_time": "2022-01-21T09:19:01.564Z"
   },
   {
    "duration": 32,
    "start_time": "2022-01-21T09:19:01.576Z"
   },
   {
    "duration": 5,
    "start_time": "2022-01-21T09:19:01.622Z"
   },
   {
    "duration": 105,
    "start_time": "2022-01-21T09:19:01.629Z"
   },
   {
    "duration": 14,
    "start_time": "2022-01-21T09:19:01.736Z"
   },
   {
    "duration": 13,
    "start_time": "2022-01-21T09:19:01.754Z"
   },
   {
    "duration": 6,
    "start_time": "2022-01-21T09:19:01.770Z"
   },
   {
    "duration": 47,
    "start_time": "2022-01-21T09:19:01.778Z"
   },
   {
    "duration": 13,
    "start_time": "2022-01-21T09:19:01.827Z"
   },
   {
    "duration": 110,
    "start_time": "2022-01-21T09:19:01.842Z"
   },
   {
    "duration": 85,
    "start_time": "2022-01-21T09:19:01.960Z"
   },
   {
    "duration": 54,
    "start_time": "2022-01-21T09:19:02.049Z"
   },
   {
    "duration": 20,
    "start_time": "2022-01-21T09:19:02.123Z"
   },
   {
    "duration": 93,
    "start_time": "2022-01-21T09:19:02.145Z"
   },
   {
    "duration": 40,
    "start_time": "2022-01-21T09:19:02.241Z"
   },
   {
    "duration": 58,
    "start_time": "2022-01-21T09:19:02.284Z"
   },
   {
    "duration": 11,
    "start_time": "2022-01-21T09:19:02.344Z"
   },
   {
    "duration": 10,
    "start_time": "2022-01-21T09:19:02.357Z"
   },
   {
    "duration": 13,
    "start_time": "2022-01-21T09:19:02.369Z"
   },
   {
    "duration": 9,
    "start_time": "2022-01-21T09:19:02.384Z"
   },
   {
    "duration": 31,
    "start_time": "2022-01-21T09:19:02.396Z"
   },
   {
    "duration": 22,
    "start_time": "2022-01-21T09:19:02.429Z"
   },
   {
    "duration": 5,
    "start_time": "2022-01-21T09:19:02.454Z"
   },
   {
    "duration": 25,
    "start_time": "2022-01-21T09:19:02.462Z"
   },
   {
    "duration": 38,
    "start_time": "2022-01-21T09:19:02.489Z"
   },
   {
    "duration": 31,
    "start_time": "2022-01-21T09:19:02.530Z"
   },
   {
    "duration": 17,
    "start_time": "2022-01-21T09:19:02.564Z"
   },
   {
    "duration": 16332,
    "start_time": "2022-01-21T09:19:02.584Z"
   },
   {
    "duration": 34,
    "start_time": "2022-01-21T09:19:18.922Z"
   },
   {
    "duration": 436,
    "start_time": "2022-01-21T09:19:18.958Z"
   },
   {
    "duration": 377,
    "start_time": "2022-01-21T09:19:19.397Z"
   },
   {
    "duration": 268,
    "start_time": "2022-01-21T09:19:19.776Z"
   },
   {
    "duration": 37,
    "start_time": "2022-01-21T09:19:20.048Z"
   },
   {
    "duration": 814,
    "start_time": "2022-01-21T09:19:20.087Z"
   },
   {
    "duration": 46,
    "start_time": "2022-01-21T09:19:20.904Z"
   },
   {
    "duration": 1208,
    "start_time": "2022-01-21T09:19:20.953Z"
   },
   {
    "duration": 61,
    "start_time": "2022-01-21T09:19:22.164Z"
   },
   {
    "duration": 1140,
    "start_time": "2022-01-21T09:19:22.228Z"
   },
   {
    "duration": 37,
    "start_time": "2022-01-21T09:19:32.686Z"
   },
   {
    "duration": 36,
    "start_time": "2022-01-21T09:20:25.740Z"
   },
   {
    "duration": 1153,
    "start_time": "2022-01-21T09:24:57.018Z"
   },
   {
    "duration": 470,
    "start_time": "2022-01-21T09:56:08.828Z"
   },
   {
    "duration": 603,
    "start_time": "2022-01-21T09:57:06.676Z"
   },
   {
    "duration": 102,
    "start_time": "2022-01-21T09:58:31.284Z"
   },
   {
    "duration": 33,
    "start_time": "2022-01-21T10:01:27.870Z"
   },
   {
    "duration": 1074,
    "start_time": "2022-01-21T10:02:38.664Z"
   },
   {
    "duration": 1095,
    "start_time": "2022-01-21T10:02:55.487Z"
   },
   {
    "duration": 1156,
    "start_time": "2022-01-21T10:08:43.751Z"
   },
   {
    "duration": 500,
    "start_time": "2022-01-21T10:10:50.082Z"
   },
   {
    "duration": 874,
    "start_time": "2022-01-21T10:11:24.606Z"
   },
   {
    "duration": 37,
    "start_time": "2022-01-21T10:15:06.131Z"
   },
   {
    "duration": 468,
    "start_time": "2022-01-21T10:17:33.575Z"
   },
   {
    "duration": 128,
    "start_time": "2022-01-21T10:18:26.227Z"
   },
   {
    "duration": 22,
    "start_time": "2022-01-21T10:22:26.345Z"
   },
   {
    "duration": 23816,
    "start_time": "2022-01-21T10:38:12.282Z"
   },
   {
    "duration": 18542,
    "start_time": "2022-01-21T10:41:01.543Z"
   },
   {
    "duration": 22,
    "start_time": "2022-01-21T10:45:13.697Z"
   },
   {
    "duration": 34,
    "start_time": "2022-01-21T10:46:17.551Z"
   },
   {
    "duration": 618,
    "start_time": "2022-01-21T10:47:09.350Z"
   },
   {
    "duration": 476,
    "start_time": "2022-01-21T10:48:08.420Z"
   },
   {
    "duration": 1198,
    "start_time": "2022-01-21T10:48:33.919Z"
   },
   {
    "duration": 14,
    "start_time": "2022-01-21T10:48:55.971Z"
   },
   {
    "duration": 8,
    "start_time": "2022-01-21T10:49:31.158Z"
   },
   {
    "duration": 10,
    "start_time": "2022-01-21T10:49:49.943Z"
   },
   {
    "duration": 18,
    "start_time": "2022-01-21T10:50:30.889Z"
   },
   {
    "duration": 26,
    "start_time": "2022-01-21T10:51:26.439Z"
   },
   {
    "duration": 13,
    "start_time": "2022-01-21T10:57:22.937Z"
   },
   {
    "duration": 11,
    "start_time": "2022-01-21T10:57:56.401Z"
   },
   {
    "duration": 1417,
    "start_time": "2022-01-21T12:32:48.440Z"
   },
   {
    "duration": 458,
    "start_time": "2022-01-21T12:32:49.860Z"
   },
   {
    "duration": 15,
    "start_time": "2022-01-21T12:32:50.321Z"
   },
   {
    "duration": 28,
    "start_time": "2022-01-21T12:32:50.338Z"
   },
   {
    "duration": 5,
    "start_time": "2022-01-21T12:32:50.369Z"
   },
   {
    "duration": 148,
    "start_time": "2022-01-21T12:32:50.376Z"
   },
   {
    "duration": 381,
    "start_time": "2022-01-21T12:32:50.527Z"
   },
   {
    "duration": 24,
    "start_time": "2022-01-21T12:32:50.912Z"
   },
   {
    "duration": 11,
    "start_time": "2022-01-21T12:32:50.939Z"
   },
   {
    "duration": 22,
    "start_time": "2022-01-21T12:32:50.953Z"
   },
   {
    "duration": 5,
    "start_time": "2022-01-21T12:32:50.977Z"
   },
   {
    "duration": 87,
    "start_time": "2022-01-21T12:32:51.024Z"
   },
   {
    "duration": 18,
    "start_time": "2022-01-21T12:32:51.114Z"
   },
   {
    "duration": 19,
    "start_time": "2022-01-21T12:32:51.134Z"
   },
   {
    "duration": 7,
    "start_time": "2022-01-21T12:32:51.156Z"
   },
   {
    "duration": 91,
    "start_time": "2022-01-21T12:32:51.165Z"
   },
   {
    "duration": 13,
    "start_time": "2022-01-21T12:32:51.258Z"
   },
   {
    "duration": 11,
    "start_time": "2022-01-21T12:32:51.273Z"
   },
   {
    "duration": 5,
    "start_time": "2022-01-21T12:32:51.286Z"
   },
   {
    "duration": 37,
    "start_time": "2022-01-21T12:32:51.293Z"
   },
   {
    "duration": 11,
    "start_time": "2022-01-21T12:32:51.332Z"
   },
   {
    "duration": 103,
    "start_time": "2022-01-21T12:32:51.345Z"
   },
   {
    "duration": 75,
    "start_time": "2022-01-21T12:32:51.454Z"
   },
   {
    "duration": 52,
    "start_time": "2022-01-21T12:32:51.533Z"
   },
   {
    "duration": 41,
    "start_time": "2022-01-21T12:32:51.588Z"
   },
   {
    "duration": 117,
    "start_time": "2022-01-21T12:32:51.631Z"
   },
   {
    "duration": 42,
    "start_time": "2022-01-21T12:32:51.751Z"
   },
   {
    "duration": 61,
    "start_time": "2022-01-21T12:32:51.796Z"
   },
   {
    "duration": 11,
    "start_time": "2022-01-21T12:32:51.860Z"
   },
   {
    "duration": 6,
    "start_time": "2022-01-21T12:32:51.874Z"
   },
   {
    "duration": 10,
    "start_time": "2022-01-21T12:32:51.882Z"
   },
   {
    "duration": 35,
    "start_time": "2022-01-21T12:32:51.893Z"
   },
   {
    "duration": 14,
    "start_time": "2022-01-21T12:32:51.930Z"
   },
   {
    "duration": 29,
    "start_time": "2022-01-21T12:32:51.946Z"
   },
   {
    "duration": 8,
    "start_time": "2022-01-21T12:32:51.978Z"
   },
   {
    "duration": 30,
    "start_time": "2022-01-21T12:32:52.025Z"
   },
   {
    "duration": 7,
    "start_time": "2022-01-21T12:32:52.058Z"
   },
   {
    "duration": 65,
    "start_time": "2022-01-21T12:32:52.068Z"
   },
   {
    "duration": 14,
    "start_time": "2022-01-21T12:32:52.135Z"
   },
   {
    "duration": 16312,
    "start_time": "2022-01-21T12:32:52.152Z"
   },
   {
    "duration": 33,
    "start_time": "2022-01-21T12:33:08.466Z"
   },
   {
    "duration": 524,
    "start_time": "2022-01-21T12:33:08.502Z"
   },
   {
    "duration": 381,
    "start_time": "2022-01-21T12:33:09.029Z"
   },
   {
    "duration": 269,
    "start_time": "2022-01-21T12:33:09.412Z"
   },
   {
    "duration": 52,
    "start_time": "2022-01-21T12:33:09.683Z"
   },
   {
    "duration": 819,
    "start_time": "2022-01-21T12:33:09.737Z"
   },
   {
    "duration": 38,
    "start_time": "2022-01-21T12:33:10.559Z"
   },
   {
    "duration": 829,
    "start_time": "2022-01-21T12:33:10.599Z"
   },
   {
    "duration": 36,
    "start_time": "2022-01-21T12:33:11.431Z"
   },
   {
    "duration": 1134,
    "start_time": "2022-01-21T12:33:11.469Z"
   },
   {
    "duration": 48,
    "start_time": "2022-01-21T12:33:12.605Z"
   },
   {
    "duration": 1177,
    "start_time": "2022-01-21T12:33:12.656Z"
   },
   {
    "duration": 521,
    "start_time": "2022-01-21T12:33:13.836Z"
   },
   {
    "duration": 39,
    "start_time": "2022-01-21T12:33:14.360Z"
   },
   {
    "duration": 1213,
    "start_time": "2022-01-21T12:33:14.401Z"
   },
   {
    "duration": 36,
    "start_time": "2022-01-21T12:33:15.624Z"
   },
   {
    "duration": 899,
    "start_time": "2022-01-21T12:33:15.662Z"
   },
   {
    "duration": 484,
    "start_time": "2022-01-21T12:33:16.563Z"
   },
   {
    "duration": 23,
    "start_time": "2022-01-21T12:33:17.049Z"
   },
   {
    "duration": 61,
    "start_time": "2022-01-21T12:33:17.075Z"
   },
   {
    "duration": 1184,
    "start_time": "2022-01-21T12:33:17.139Z"
   },
   {
    "duration": 14,
    "start_time": "2022-01-21T12:33:18.325Z"
   },
   {
    "duration": 9,
    "start_time": "2022-01-21T12:33:18.341Z"
   },
   {
    "duration": 7,
    "start_time": "2022-01-21T12:33:18.353Z"
   },
   {
    "duration": 11,
    "start_time": "2022-01-21T12:33:18.363Z"
   },
   {
    "duration": 59,
    "start_time": "2022-01-21T12:33:18.377Z"
   },
   {
    "duration": 11,
    "start_time": "2022-01-21T12:33:18.438Z"
   },
   {
    "duration": 12,
    "start_time": "2022-01-21T12:36:14.097Z"
   },
   {
    "duration": 81,
    "start_time": "2022-01-21T16:41:25.377Z"
   },
   {
    "duration": 1317,
    "start_time": "2022-01-21T17:42:43.179Z"
   },
   {
    "duration": 491,
    "start_time": "2022-01-21T17:42:44.499Z"
   },
   {
    "duration": 15,
    "start_time": "2022-01-21T17:42:44.993Z"
   },
   {
    "duration": 41,
    "start_time": "2022-01-21T17:42:45.010Z"
   },
   {
    "duration": 5,
    "start_time": "2022-01-21T17:42:45.053Z"
   },
   {
    "duration": 149,
    "start_time": "2022-01-21T17:42:45.060Z"
   },
   {
    "duration": 406,
    "start_time": "2022-01-21T17:42:45.211Z"
   },
   {
    "duration": 24,
    "start_time": "2022-01-21T17:42:45.623Z"
   },
   {
    "duration": 26,
    "start_time": "2022-01-21T17:42:45.650Z"
   },
   {
    "duration": 25,
    "start_time": "2022-01-21T17:42:45.678Z"
   },
   {
    "duration": 26,
    "start_time": "2022-01-21T17:42:45.706Z"
   },
   {
    "duration": 107,
    "start_time": "2022-01-21T17:42:45.735Z"
   },
   {
    "duration": 10,
    "start_time": "2022-01-21T17:42:45.844Z"
   },
   {
    "duration": 23,
    "start_time": "2022-01-21T17:42:45.856Z"
   },
   {
    "duration": 6,
    "start_time": "2022-01-21T17:42:45.881Z"
   },
   {
    "duration": 96,
    "start_time": "2022-01-21T17:42:45.890Z"
   },
   {
    "duration": 14,
    "start_time": "2022-01-21T17:42:45.989Z"
   },
   {
    "duration": 28,
    "start_time": "2022-01-21T17:42:46.006Z"
   },
   {
    "duration": 7,
    "start_time": "2022-01-21T17:42:46.037Z"
   },
   {
    "duration": 10,
    "start_time": "2022-01-21T17:42:46.047Z"
   },
   {
    "duration": 11,
    "start_time": "2022-01-21T17:42:46.060Z"
   },
   {
    "duration": 121,
    "start_time": "2022-01-21T17:42:46.073Z"
   },
   {
    "duration": 82,
    "start_time": "2022-01-21T17:42:46.200Z"
   },
   {
    "duration": 64,
    "start_time": "2022-01-21T17:42:46.286Z"
   },
   {
    "duration": 20,
    "start_time": "2022-01-21T17:42:46.352Z"
   },
   {
    "duration": 97,
    "start_time": "2022-01-21T17:42:46.374Z"
   },
   {
    "duration": 42,
    "start_time": "2022-01-21T17:42:46.473Z"
   },
   {
    "duration": 36,
    "start_time": "2022-01-21T17:42:46.533Z"
   },
   {
    "duration": 9,
    "start_time": "2022-01-21T17:42:46.571Z"
   },
   {
    "duration": 5,
    "start_time": "2022-01-21T17:42:46.582Z"
   },
   {
    "duration": 8,
    "start_time": "2022-01-21T17:42:46.589Z"
   },
   {
    "duration": 7,
    "start_time": "2022-01-21T17:42:46.631Z"
   },
   {
    "duration": 6,
    "start_time": "2022-01-21T17:42:46.640Z"
   },
   {
    "duration": 21,
    "start_time": "2022-01-21T17:42:46.648Z"
   },
   {
    "duration": 6,
    "start_time": "2022-01-21T17:42:46.672Z"
   },
   {
    "duration": 63,
    "start_time": "2022-01-21T17:42:46.680Z"
   },
   {
    "duration": 5,
    "start_time": "2022-01-21T17:42:46.746Z"
   },
   {
    "duration": 26,
    "start_time": "2022-01-21T17:42:46.753Z"
   },
   {
    "duration": 16,
    "start_time": "2022-01-21T17:42:46.781Z"
   },
   {
    "duration": 16520,
    "start_time": "2022-01-21T17:42:46.800Z"
   },
   {
    "duration": 43,
    "start_time": "2022-01-21T17:43:03.322Z"
   },
   {
    "duration": 444,
    "start_time": "2022-01-21T17:43:03.368Z"
   },
   {
    "duration": 400,
    "start_time": "2022-01-21T17:43:03.816Z"
   },
   {
    "duration": 271,
    "start_time": "2022-01-21T17:43:04.219Z"
   },
   {
    "duration": 57,
    "start_time": "2022-01-21T17:43:04.493Z"
   },
   {
    "duration": 843,
    "start_time": "2022-01-21T17:43:04.554Z"
   },
   {
    "duration": 49,
    "start_time": "2022-01-21T17:43:05.399Z"
   },
   {
    "duration": 840,
    "start_time": "2022-01-21T17:43:05.450Z"
   },
   {
    "duration": 50,
    "start_time": "2022-01-21T17:43:06.292Z"
   },
   {
    "duration": 1180,
    "start_time": "2022-01-21T17:43:06.344Z"
   },
   {
    "duration": 40,
    "start_time": "2022-01-21T17:43:07.527Z"
   },
   {
    "duration": 1335,
    "start_time": "2022-01-21T17:43:07.569Z"
   },
   {
    "duration": 517,
    "start_time": "2022-01-21T17:43:08.907Z"
   },
   {
    "duration": 37,
    "start_time": "2022-01-21T17:43:09.432Z"
   },
   {
    "duration": 1369,
    "start_time": "2022-01-21T17:43:09.472Z"
   },
   {
    "duration": 38,
    "start_time": "2022-01-21T17:43:10.844Z"
   },
   {
    "duration": 944,
    "start_time": "2022-01-21T17:43:10.884Z"
   },
   {
    "duration": 510,
    "start_time": "2022-01-21T17:43:11.830Z"
   },
   {
    "duration": 26,
    "start_time": "2022-01-21T17:43:12.343Z"
   },
   {
    "duration": 67,
    "start_time": "2022-01-21T17:43:12.372Z"
   },
   {
    "duration": 1211,
    "start_time": "2022-01-21T17:43:12.442Z"
   },
   {
    "duration": 12,
    "start_time": "2022-01-21T17:43:13.656Z"
   },
   {
    "duration": 11,
    "start_time": "2022-01-21T17:43:13.670Z"
   },
   {
    "duration": 12,
    "start_time": "2022-01-21T17:43:13.683Z"
   },
   {
    "duration": 42,
    "start_time": "2022-01-21T17:43:13.697Z"
   },
   {
    "duration": 18,
    "start_time": "2022-01-21T17:43:13.742Z"
   },
   {
    "duration": 16,
    "start_time": "2022-01-21T17:43:13.763Z"
   },
   {
    "duration": 47,
    "start_time": "2022-01-21T17:43:13.786Z"
   },
   {
    "duration": 12,
    "start_time": "2022-01-21T17:52:30.940Z"
   },
   {
    "duration": 1351,
    "start_time": "2022-01-21T17:52:42.824Z"
   },
   {
    "duration": 502,
    "start_time": "2022-01-21T17:52:44.177Z"
   },
   {
    "duration": 14,
    "start_time": "2022-01-21T17:52:44.682Z"
   },
   {
    "duration": 28,
    "start_time": "2022-01-21T17:52:44.699Z"
   },
   {
    "duration": 5,
    "start_time": "2022-01-21T17:52:44.730Z"
   },
   {
    "duration": 130,
    "start_time": "2022-01-21T17:52:44.737Z"
   },
   {
    "duration": 407,
    "start_time": "2022-01-21T17:52:44.870Z"
   },
   {
    "duration": 18,
    "start_time": "2022-01-21T17:52:45.281Z"
   },
   {
    "duration": 30,
    "start_time": "2022-01-21T17:52:45.302Z"
   },
   {
    "duration": 23,
    "start_time": "2022-01-21T17:52:45.335Z"
   },
   {
    "duration": 5,
    "start_time": "2022-01-21T17:52:45.361Z"
   },
   {
    "duration": 133,
    "start_time": "2022-01-21T17:52:45.368Z"
   },
   {
    "duration": 10,
    "start_time": "2022-01-21T17:52:45.504Z"
   },
   {
    "duration": 19,
    "start_time": "2022-01-21T17:52:45.533Z"
   },
   {
    "duration": 5,
    "start_time": "2022-01-21T17:52:45.555Z"
   },
   {
    "duration": 85,
    "start_time": "2022-01-21T17:52:45.562Z"
   },
   {
    "duration": 14,
    "start_time": "2022-01-21T17:52:45.649Z"
   },
   {
    "duration": 12,
    "start_time": "2022-01-21T17:52:45.666Z"
   },
   {
    "duration": 8,
    "start_time": "2022-01-21T17:52:45.681Z"
   },
   {
    "duration": 43,
    "start_time": "2022-01-21T17:52:45.692Z"
   },
   {
    "duration": 13,
    "start_time": "2022-01-21T17:52:45.738Z"
   },
   {
    "duration": 118,
    "start_time": "2022-01-21T17:52:45.753Z"
   },
   {
    "duration": 86,
    "start_time": "2022-01-21T17:52:45.879Z"
   },
   {
    "duration": 69,
    "start_time": "2022-01-21T17:52:45.970Z"
   },
   {
    "duration": 20,
    "start_time": "2022-01-21T17:52:46.041Z"
   },
   {
    "duration": 100,
    "start_time": "2022-01-21T17:52:46.064Z"
   },
   {
    "duration": 43,
    "start_time": "2022-01-21T17:52:46.166Z"
   },
   {
    "duration": 53,
    "start_time": "2022-01-21T17:52:46.211Z"
   },
   {
    "duration": 9,
    "start_time": "2022-01-21T17:52:46.266Z"
   },
   {
    "duration": 7,
    "start_time": "2022-01-21T17:52:46.277Z"
   },
   {
    "duration": 9,
    "start_time": "2022-01-21T17:52:46.287Z"
   },
   {
    "duration": 38,
    "start_time": "2022-01-21T17:52:46.298Z"
   },
   {
    "duration": 7,
    "start_time": "2022-01-21T17:52:46.339Z"
   },
   {
    "duration": 23,
    "start_time": "2022-01-21T17:52:46.348Z"
   },
   {
    "duration": 5,
    "start_time": "2022-01-21T17:52:46.373Z"
   },
   {
    "duration": 57,
    "start_time": "2022-01-21T17:52:46.380Z"
   },
   {
    "duration": 5,
    "start_time": "2022-01-21T17:52:46.439Z"
   },
   {
    "duration": 24,
    "start_time": "2022-01-21T17:52:46.446Z"
   },
   {
    "duration": 13,
    "start_time": "2022-01-21T17:52:46.472Z"
   },
   {
    "duration": 17581,
    "start_time": "2022-01-21T17:52:46.487Z"
   },
   {
    "duration": 36,
    "start_time": "2022-01-21T17:53:04.070Z"
   },
   {
    "duration": 469,
    "start_time": "2022-01-21T17:53:04.109Z"
   },
   {
    "duration": 408,
    "start_time": "2022-01-21T17:53:04.580Z"
   },
   {
    "duration": 286,
    "start_time": "2022-01-21T17:53:04.991Z"
   },
   {
    "duration": 54,
    "start_time": "2022-01-21T17:53:05.280Z"
   },
   {
    "duration": 871,
    "start_time": "2022-01-21T17:53:05.337Z"
   },
   {
    "duration": 44,
    "start_time": "2022-01-21T17:53:06.211Z"
   },
   {
    "duration": 885,
    "start_time": "2022-01-21T17:53:06.257Z"
   },
   {
    "duration": 37,
    "start_time": "2022-01-21T17:53:07.144Z"
   },
   {
    "duration": 1279,
    "start_time": "2022-01-21T17:53:07.184Z"
   },
   {
    "duration": 40,
    "start_time": "2022-01-21T17:53:08.466Z"
   },
   {
    "duration": 1264,
    "start_time": "2022-01-21T17:53:08.509Z"
   },
   {
    "duration": 531,
    "start_time": "2022-01-21T17:53:09.776Z"
   },
   {
    "duration": 51,
    "start_time": "2022-01-21T17:53:10.310Z"
   },
   {
    "duration": 1329,
    "start_time": "2022-01-21T17:53:10.363Z"
   },
   {
    "duration": 49,
    "start_time": "2022-01-21T17:53:11.694Z"
   },
   {
    "duration": 967,
    "start_time": "2022-01-21T17:53:11.745Z"
   },
   {
    "duration": 528,
    "start_time": "2022-01-21T17:53:12.714Z"
   },
   {
    "duration": 23,
    "start_time": "2022-01-21T17:53:13.244Z"
   },
   {
    "duration": 31,
    "start_time": "2022-01-21T17:53:13.269Z"
   },
   {
    "duration": 1308,
    "start_time": "2022-01-21T17:53:13.302Z"
   },
   {
    "duration": 21,
    "start_time": "2022-01-21T17:53:14.613Z"
   },
   {
    "duration": 10,
    "start_time": "2022-01-21T17:53:14.636Z"
   },
   {
    "duration": 7,
    "start_time": "2022-01-21T17:53:14.649Z"
   },
   {
    "duration": 13,
    "start_time": "2022-01-21T17:53:14.659Z"
   },
   {
    "duration": 18,
    "start_time": "2022-01-21T17:53:14.674Z"
   },
   {
    "duration": 12,
    "start_time": "2022-01-21T17:53:14.733Z"
   },
   {
    "duration": 10,
    "start_time": "2022-01-21T17:53:14.752Z"
   },
   {
    "duration": 19,
    "start_time": "2022-01-21T18:04:15.997Z"
   },
   {
    "duration": 67,
    "start_time": "2022-01-21T18:04:55.336Z"
   },
   {
    "duration": 13,
    "start_time": "2022-01-21T18:06:03.189Z"
   },
   {
    "duration": 11,
    "start_time": "2022-01-21T18:06:06.393Z"
   },
   {
    "duration": 12,
    "start_time": "2022-01-21T18:06:11.050Z"
   },
   {
    "duration": 13,
    "start_time": "2022-01-21T18:11:46.713Z"
   },
   {
    "duration": 82,
    "start_time": "2022-01-21T18:23:41.831Z"
   },
   {
    "duration": 93,
    "start_time": "2022-01-21T18:24:07.360Z"
   },
   {
    "duration": 44,
    "start_time": "2022-01-21T18:31:00.751Z"
   },
   {
    "duration": 42,
    "start_time": "2022-01-21T18:32:37.492Z"
   },
   {
    "duration": 6,
    "start_time": "2022-01-21T18:39:02.087Z"
   },
   {
    "duration": 14,
    "start_time": "2022-01-21T19:14:22.447Z"
   },
   {
    "duration": 16937,
    "start_time": "2022-01-21T19:35:15.026Z"
   },
   {
    "duration": 1350,
    "start_time": "2022-01-21T19:36:34.031Z"
   },
   {
    "duration": 498,
    "start_time": "2022-01-21T19:36:35.384Z"
   },
   {
    "duration": 17,
    "start_time": "2022-01-21T19:36:35.890Z"
   },
   {
    "duration": 29,
    "start_time": "2022-01-21T19:36:35.910Z"
   },
   {
    "duration": 6,
    "start_time": "2022-01-21T19:36:35.942Z"
   },
   {
    "duration": 147,
    "start_time": "2022-01-21T19:36:35.951Z"
   },
   {
    "duration": 410,
    "start_time": "2022-01-21T19:36:36.103Z"
   },
   {
    "duration": 24,
    "start_time": "2022-01-21T19:36:36.517Z"
   },
   {
    "duration": 13,
    "start_time": "2022-01-21T19:36:36.544Z"
   },
   {
    "duration": 26,
    "start_time": "2022-01-21T19:36:36.560Z"
   },
   {
    "duration": 45,
    "start_time": "2022-01-21T19:36:36.589Z"
   },
   {
    "duration": 115,
    "start_time": "2022-01-21T19:36:36.638Z"
   },
   {
    "duration": 10,
    "start_time": "2022-01-21T19:36:36.756Z"
   },
   {
    "duration": 22,
    "start_time": "2022-01-21T19:36:36.769Z"
   },
   {
    "duration": 38,
    "start_time": "2022-01-21T19:36:36.794Z"
   },
   {
    "duration": 54,
    "start_time": "2022-01-21T19:36:36.835Z"
   },
   {
    "duration": 14,
    "start_time": "2022-01-21T19:36:36.892Z"
   },
   {
    "duration": 32,
    "start_time": "2022-01-21T19:36:36.908Z"
   },
   {
    "duration": 8,
    "start_time": "2022-01-21T19:36:36.942Z"
   },
   {
    "duration": 8,
    "start_time": "2022-01-21T19:36:36.952Z"
   },
   {
    "duration": 126,
    "start_time": "2022-01-21T19:36:36.963Z"
   },
   {
    "duration": 80,
    "start_time": "2022-01-21T19:36:37.095Z"
   },
   {
    "duration": 71,
    "start_time": "2022-01-21T19:36:37.180Z"
   },
   {
    "duration": 12,
    "start_time": "2022-01-21T19:36:37.254Z"
   },
   {
    "duration": 15,
    "start_time": "2022-01-21T19:36:37.269Z"
   },
   {
    "duration": 51,
    "start_time": "2022-01-21T19:36:37.287Z"
   },
   {
    "duration": 93,
    "start_time": "2022-01-21T19:36:37.341Z"
   },
   {
    "duration": 44,
    "start_time": "2022-01-21T19:36:37.437Z"
   },
   {
    "duration": 65,
    "start_time": "2022-01-21T19:36:37.484Z"
   },
   {
    "duration": 6,
    "start_time": "2022-01-21T19:36:37.552Z"
   },
   {
    "duration": 8,
    "start_time": "2022-01-21T19:36:37.561Z"
   },
   {
    "duration": 5,
    "start_time": "2022-01-21T19:36:37.572Z"
   },
   {
    "duration": 5,
    "start_time": "2022-01-21T19:36:37.580Z"
   },
   {
    "duration": 5,
    "start_time": "2022-01-21T19:36:37.633Z"
   },
   {
    "duration": 24,
    "start_time": "2022-01-21T19:36:37.641Z"
   },
   {
    "duration": 6,
    "start_time": "2022-01-21T19:36:37.668Z"
   },
   {
    "duration": 71,
    "start_time": "2022-01-21T19:36:37.677Z"
   },
   {
    "duration": 7,
    "start_time": "2022-01-21T19:36:37.751Z"
   },
   {
    "duration": 25,
    "start_time": "2022-01-21T19:36:37.761Z"
   },
   {
    "duration": 16997,
    "start_time": "2022-01-21T19:36:37.789Z"
   },
   {
    "duration": 47,
    "start_time": "2022-01-21T19:36:54.788Z"
   },
   {
    "duration": 456,
    "start_time": "2022-01-21T19:36:54.838Z"
   },
   {
    "duration": 414,
    "start_time": "2022-01-21T19:36:55.296Z"
   },
   {
    "duration": 277,
    "start_time": "2022-01-21T19:36:55.713Z"
   },
   {
    "duration": 53,
    "start_time": "2022-01-21T19:36:55.992Z"
   },
   {
    "duration": 855,
    "start_time": "2022-01-21T19:36:56.048Z"
   },
   {
    "duration": 49,
    "start_time": "2022-01-21T19:36:56.905Z"
   },
   {
    "duration": 876,
    "start_time": "2022-01-21T19:36:56.956Z"
   },
   {
    "duration": 37,
    "start_time": "2022-01-21T19:36:57.834Z"
   },
   {
    "duration": 1275,
    "start_time": "2022-01-21T19:36:57.873Z"
   },
   {
    "duration": 35,
    "start_time": "2022-01-21T19:36:59.150Z"
   },
   {
    "duration": 1335,
    "start_time": "2022-01-21T19:36:59.188Z"
   },
   {
    "duration": 633,
    "start_time": "2022-01-21T19:37:00.533Z"
   },
   {
    "duration": 36,
    "start_time": "2022-01-21T19:37:01.169Z"
   },
   {
    "duration": 1310,
    "start_time": "2022-01-21T19:37:01.208Z"
   },
   {
    "duration": 44,
    "start_time": "2022-01-21T19:37:02.521Z"
   },
   {
    "duration": 980,
    "start_time": "2022-01-21T19:37:02.567Z"
   },
   {
    "duration": 535,
    "start_time": "2022-01-21T19:37:03.550Z"
   },
   {
    "duration": 23,
    "start_time": "2022-01-21T19:37:04.087Z"
   },
   {
    "duration": 34,
    "start_time": "2022-01-21T19:37:04.133Z"
   },
   {
    "duration": 1316,
    "start_time": "2022-01-21T19:37:04.169Z"
   },
   {
    "duration": 13,
    "start_time": "2022-01-21T19:37:05.487Z"
   },
   {
    "duration": 31,
    "start_time": "2022-01-21T19:37:05.502Z"
   },
   {
    "duration": 7,
    "start_time": "2022-01-21T19:37:05.536Z"
   },
   {
    "duration": 11,
    "start_time": "2022-01-21T19:37:05.546Z"
   },
   {
    "duration": 21,
    "start_time": "2022-01-21T19:37:05.559Z"
   },
   {
    "duration": 48,
    "start_time": "2022-01-21T19:37:05.587Z"
   },
   {
    "duration": 11,
    "start_time": "2022-01-21T19:37:05.638Z"
   },
   {
    "duration": 426,
    "start_time": "2022-01-21T19:52:27.517Z"
   },
   {
    "duration": 401,
    "start_time": "2022-01-21T19:55:28.231Z"
   },
   {
    "duration": 379,
    "start_time": "2022-01-21T19:57:40.805Z"
   },
   {
    "duration": 593,
    "start_time": "2022-01-21T20:03:28.005Z"
   },
   {
    "duration": 530,
    "start_time": "2022-01-21T20:10:12.654Z"
   },
   {
    "duration": 36,
    "start_time": "2022-01-21T20:17:26.299Z"
   },
   {
    "duration": 959,
    "start_time": "2022-01-21T20:19:10.627Z"
   },
   {
    "duration": 1033,
    "start_time": "2022-01-21T20:28:01.359Z"
   },
   {
    "duration": 370,
    "start_time": "2022-01-22T04:02:11.900Z"
   },
   {
    "duration": 1034,
    "start_time": "2022-01-22T04:02:48.159Z"
   },
   {
    "duration": 373,
    "start_time": "2022-01-22T04:02:49.195Z"
   },
   {
    "duration": 10,
    "start_time": "2022-01-22T04:02:49.570Z"
   },
   {
    "duration": 20,
    "start_time": "2022-01-22T04:02:49.582Z"
   },
   {
    "duration": 3,
    "start_time": "2022-01-22T04:02:49.603Z"
   },
   {
    "duration": 86,
    "start_time": "2022-01-22T04:02:49.608Z"
   },
   {
    "duration": 223,
    "start_time": "2022-01-22T04:02:49.696Z"
   },
   {
    "duration": 16,
    "start_time": "2022-01-22T04:02:49.921Z"
   },
   {
    "duration": 9,
    "start_time": "2022-01-22T04:02:49.939Z"
   },
   {
    "duration": 19,
    "start_time": "2022-01-22T04:02:49.949Z"
   },
   {
    "duration": 3,
    "start_time": "2022-01-22T04:02:49.970Z"
   },
   {
    "duration": 70,
    "start_time": "2022-01-22T04:02:49.975Z"
   },
   {
    "duration": 6,
    "start_time": "2022-01-22T04:02:50.047Z"
   },
   {
    "duration": 18,
    "start_time": "2022-01-22T04:02:50.055Z"
   },
   {
    "duration": 3,
    "start_time": "2022-01-22T04:02:50.074Z"
   },
   {
    "duration": 53,
    "start_time": "2022-01-22T04:02:50.079Z"
   },
   {
    "duration": 9,
    "start_time": "2022-01-22T04:02:50.133Z"
   },
   {
    "duration": 6,
    "start_time": "2022-01-22T04:02:50.144Z"
   },
   {
    "duration": 5,
    "start_time": "2022-01-22T04:02:50.151Z"
   },
   {
    "duration": 6,
    "start_time": "2022-01-22T04:02:50.157Z"
   },
   {
    "duration": 88,
    "start_time": "2022-01-22T04:02:50.165Z"
   },
   {
    "duration": 45,
    "start_time": "2022-01-22T04:02:50.255Z"
   },
   {
    "duration": 50,
    "start_time": "2022-01-22T04:02:50.303Z"
   },
   {
    "duration": 7,
    "start_time": "2022-01-22T04:02:50.355Z"
   },
   {
    "duration": 13,
    "start_time": "2022-01-22T04:02:50.364Z"
   },
   {
    "duration": 15,
    "start_time": "2022-01-22T04:02:50.378Z"
   },
   {
    "duration": 58,
    "start_time": "2022-01-22T04:02:50.395Z"
   },
   {
    "duration": 27,
    "start_time": "2022-01-22T04:02:50.455Z"
   },
   {
    "duration": 24,
    "start_time": "2022-01-22T04:02:50.484Z"
   },
   {
    "duration": 19,
    "start_time": "2022-01-22T04:02:50.510Z"
   },
   {
    "duration": 10,
    "start_time": "2022-01-22T04:02:50.530Z"
   },
   {
    "duration": 6,
    "start_time": "2022-01-22T04:02:50.541Z"
   },
   {
    "duration": 6,
    "start_time": "2022-01-22T04:02:50.548Z"
   },
   {
    "duration": 4,
    "start_time": "2022-01-22T04:02:50.555Z"
   },
   {
    "duration": 13,
    "start_time": "2022-01-22T04:02:50.560Z"
   },
   {
    "duration": 3,
    "start_time": "2022-01-22T04:02:50.575Z"
   },
   {
    "duration": 24,
    "start_time": "2022-01-22T04:02:50.580Z"
   },
   {
    "duration": 25,
    "start_time": "2022-01-22T04:02:50.605Z"
   },
   {
    "duration": 15,
    "start_time": "2022-01-22T04:02:50.631Z"
   },
   {
    "duration": 8809,
    "start_time": "2022-01-22T04:02:50.648Z"
   },
   {
    "duration": 20,
    "start_time": "2022-01-22T04:02:59.459Z"
   },
   {
    "duration": 233,
    "start_time": "2022-01-22T04:02:59.481Z"
   },
   {
    "duration": 211,
    "start_time": "2022-01-22T04:02:59.716Z"
   },
   {
    "duration": 21,
    "start_time": "2022-01-22T04:02:59.928Z"
   },
   {
    "duration": 310,
    "start_time": "2022-01-22T04:02:59.950Z"
   },
   {
    "duration": 21,
    "start_time": "2022-01-22T04:03:00.261Z"
   },
   {
    "duration": 287,
    "start_time": "2022-01-22T04:03:00.284Z"
   },
   {
    "duration": 21,
    "start_time": "2022-01-22T04:03:00.573Z"
   },
   {
    "duration": 564,
    "start_time": "2022-01-22T04:03:00.596Z"
   },
   {
    "duration": 21,
    "start_time": "2022-01-22T04:03:01.162Z"
   },
   {
    "duration": 518,
    "start_time": "2022-01-22T04:03:01.185Z"
   },
   {
    "duration": 282,
    "start_time": "2022-01-22T04:03:01.705Z"
   },
   {
    "duration": 21,
    "start_time": "2022-01-22T04:03:01.988Z"
   },
   {
    "duration": 749,
    "start_time": "2022-01-22T04:03:02.011Z"
   },
   {
    "duration": 21,
    "start_time": "2022-01-22T04:03:02.761Z"
   },
   {
    "duration": 585,
    "start_time": "2022-01-22T04:03:02.783Z"
   },
   {
    "duration": 271,
    "start_time": "2022-01-22T04:03:03.369Z"
   },
   {
    "duration": 14,
    "start_time": "2022-01-22T04:03:03.642Z"
   },
   {
    "duration": 20,
    "start_time": "2022-01-22T04:03:03.657Z"
   },
   {
    "duration": 628,
    "start_time": "2022-01-22T04:03:03.678Z"
   },
   {
    "duration": 19,
    "start_time": "2022-01-22T04:03:04.307Z"
   },
   {
    "duration": 8,
    "start_time": "2022-01-22T04:03:04.328Z"
   },
   {
    "duration": 15,
    "start_time": "2022-01-22T04:03:04.337Z"
   },
   {
    "duration": 14,
    "start_time": "2022-01-22T04:03:04.353Z"
   },
   {
    "duration": 20,
    "start_time": "2022-01-22T04:03:04.368Z"
   },
   {
    "duration": 25,
    "start_time": "2022-01-22T04:03:04.390Z"
   },
   {
    "duration": 17,
    "start_time": "2022-01-22T04:03:04.417Z"
   },
   {
    "duration": 262,
    "start_time": "2022-01-22T04:06:52.842Z"
   },
   {
    "duration": 22,
    "start_time": "2022-01-22T04:08:12.488Z"
   },
   {
    "duration": 16,
    "start_time": "2022-01-22T04:30:26.855Z"
   },
   {
    "duration": 22,
    "start_time": "2022-01-22T04:31:23.739Z"
   },
   {
    "duration": 20,
    "start_time": "2022-01-22T04:39:08.198Z"
   },
   {
    "duration": 539,
    "start_time": "2022-01-22T04:44:07.010Z"
   },
   {
    "duration": 148,
    "start_time": "2022-01-22T04:44:16.565Z"
   },
   {
    "duration": 503,
    "start_time": "2022-01-22T05:10:01.202Z"
   },
   {
    "duration": 265,
    "start_time": "2022-01-22T05:12:27.564Z"
   },
   {
    "duration": 267,
    "start_time": "2022-01-22T05:12:39.145Z"
   },
   {
    "duration": 13,
    "start_time": "2022-01-22T05:19:36.755Z"
   },
   {
    "duration": 21,
    "start_time": "2022-01-22T05:22:08.137Z"
   },
   {
    "duration": 1087,
    "start_time": "2022-01-22T05:23:13.902Z"
   },
   {
    "duration": 371,
    "start_time": "2022-01-22T05:23:14.991Z"
   },
   {
    "duration": 11,
    "start_time": "2022-01-22T05:23:15.364Z"
   },
   {
    "duration": 19,
    "start_time": "2022-01-22T05:23:15.377Z"
   },
   {
    "duration": 4,
    "start_time": "2022-01-22T05:23:15.398Z"
   },
   {
    "duration": 85,
    "start_time": "2022-01-22T05:23:15.404Z"
   },
   {
    "duration": 236,
    "start_time": "2022-01-22T05:23:15.491Z"
   },
   {
    "duration": 12,
    "start_time": "2022-01-22T05:23:15.730Z"
   },
   {
    "duration": 8,
    "start_time": "2022-01-22T05:23:15.744Z"
   },
   {
    "duration": 17,
    "start_time": "2022-01-22T05:23:15.753Z"
   },
   {
    "duration": 4,
    "start_time": "2022-01-22T05:23:15.771Z"
   },
   {
    "duration": 89,
    "start_time": "2022-01-22T05:23:15.777Z"
   },
   {
    "duration": 7,
    "start_time": "2022-01-22T05:23:15.867Z"
   },
   {
    "duration": 15,
    "start_time": "2022-01-22T05:23:15.876Z"
   },
   {
    "duration": 4,
    "start_time": "2022-01-22T05:23:15.892Z"
   },
   {
    "duration": 62,
    "start_time": "2022-01-22T05:23:15.898Z"
   },
   {
    "duration": 9,
    "start_time": "2022-01-22T05:23:15.961Z"
   },
   {
    "duration": 7,
    "start_time": "2022-01-22T05:23:15.972Z"
   },
   {
    "duration": 4,
    "start_time": "2022-01-22T05:23:15.981Z"
   },
   {
    "duration": 6,
    "start_time": "2022-01-22T05:23:15.987Z"
   },
   {
    "duration": 94,
    "start_time": "2022-01-22T05:23:15.995Z"
   },
   {
    "duration": 61,
    "start_time": "2022-01-22T05:23:16.091Z"
   },
   {
    "duration": 37,
    "start_time": "2022-01-22T05:23:16.156Z"
   },
   {
    "duration": 7,
    "start_time": "2022-01-22T05:23:16.195Z"
   },
   {
    "duration": 26,
    "start_time": "2022-01-22T05:23:16.203Z"
   },
   {
    "duration": 12,
    "start_time": "2022-01-22T05:23:16.231Z"
   },
   {
    "duration": 51,
    "start_time": "2022-01-22T05:23:16.245Z"
   },
   {
    "duration": 49,
    "start_time": "2022-01-22T05:23:16.298Z"
   },
   {
    "duration": 24,
    "start_time": "2022-01-22T05:23:16.348Z"
   },
   {
    "duration": 3,
    "start_time": "2022-01-22T05:23:16.373Z"
   },
   {
    "duration": 9,
    "start_time": "2022-01-22T05:23:16.377Z"
   },
   {
    "duration": 5,
    "start_time": "2022-01-22T05:23:16.387Z"
   },
   {
    "duration": 4,
    "start_time": "2022-01-22T05:23:16.393Z"
   },
   {
    "duration": 4,
    "start_time": "2022-01-22T05:23:16.398Z"
   },
   {
    "duration": 12,
    "start_time": "2022-01-22T05:23:16.427Z"
   },
   {
    "duration": 3,
    "start_time": "2022-01-22T05:23:16.441Z"
   },
   {
    "duration": 16,
    "start_time": "2022-01-22T05:23:16.445Z"
   },
   {
    "duration": 3,
    "start_time": "2022-01-22T05:23:16.462Z"
   },
   {
    "duration": 14,
    "start_time": "2022-01-22T05:23:16.467Z"
   },
   {
    "duration": 8761,
    "start_time": "2022-01-22T05:23:16.482Z"
   },
   {
    "duration": 20,
    "start_time": "2022-01-22T05:23:25.244Z"
   },
   {
    "duration": 232,
    "start_time": "2022-01-22T05:23:25.266Z"
   },
   {
    "duration": 217,
    "start_time": "2022-01-22T05:23:25.499Z"
   },
   {
    "duration": 26,
    "start_time": "2022-01-22T05:23:25.717Z"
   },
   {
    "duration": 298,
    "start_time": "2022-01-22T05:23:25.744Z"
   },
   {
    "duration": 20,
    "start_time": "2022-01-22T05:23:26.044Z"
   },
   {
    "duration": 294,
    "start_time": "2022-01-22T05:23:26.066Z"
   },
   {
    "duration": 21,
    "start_time": "2022-01-22T05:23:26.362Z"
   },
   {
    "duration": 557,
    "start_time": "2022-01-22T05:23:26.385Z"
   },
   {
    "duration": 22,
    "start_time": "2022-01-22T05:23:26.944Z"
   },
   {
    "duration": 513,
    "start_time": "2022-01-22T05:23:26.968Z"
   },
   {
    "duration": 22,
    "start_time": "2022-01-22T05:23:27.483Z"
   },
   {
    "duration": 280,
    "start_time": "2022-01-22T05:23:27.507Z"
   },
   {
    "duration": 22,
    "start_time": "2022-01-22T05:23:27.789Z"
   },
   {
    "duration": 504,
    "start_time": "2022-01-22T05:23:27.812Z"
   },
   {
    "duration": 157,
    "start_time": "2022-01-22T05:23:28.318Z"
   },
   {
    "duration": 22,
    "start_time": "2022-01-22T05:23:28.477Z"
   },
   {
    "duration": 583,
    "start_time": "2022-01-22T05:23:28.501Z"
   },
   {
    "duration": 282,
    "start_time": "2022-01-22T05:23:29.086Z"
   },
   {
    "duration": 14,
    "start_time": "2022-01-22T05:23:29.370Z"
   },
   {
    "duration": 455,
    "start_time": "2022-01-22T05:23:29.386Z"
   },
   {
    "duration": -2726,
    "start_time": "2022-01-22T05:23:32.569Z"
   },
   {
    "duration": -2730,
    "start_time": "2022-01-22T05:23:32.574Z"
   },
   {
    "duration": -2736,
    "start_time": "2022-01-22T05:23:32.581Z"
   },
   {
    "duration": -2741,
    "start_time": "2022-01-22T05:23:32.587Z"
   },
   {
    "duration": -2745,
    "start_time": "2022-01-22T05:23:32.592Z"
   },
   {
    "duration": -2752,
    "start_time": "2022-01-22T05:23:32.600Z"
   },
   {
    "duration": -2758,
    "start_time": "2022-01-22T05:23:32.607Z"
   },
   {
    "duration": -2762,
    "start_time": "2022-01-22T05:23:32.611Z"
   },
   {
    "duration": 21,
    "start_time": "2022-01-22T05:23:52.477Z"
   },
   {
    "duration": 8894,
    "start_time": "2022-01-22T05:34:36.730Z"
   },
   {
    "duration": 614,
    "start_time": "2022-01-22T05:35:19.329Z"
   },
   {
    "duration": 8,
    "start_time": "2022-01-22T05:35:53.062Z"
   },
   {
    "duration": 9,
    "start_time": "2022-01-22T05:36:00.433Z"
   },
   {
    "duration": 6,
    "start_time": "2022-01-22T05:36:02.945Z"
   },
   {
    "duration": 6,
    "start_time": "2022-01-22T05:36:04.854Z"
   },
   {
    "duration": 571,
    "start_time": "2022-01-22T05:36:18.138Z"
   },
   {
    "duration": 650,
    "start_time": "2022-01-22T05:39:21.600Z"
   },
   {
    "duration": 611,
    "start_time": "2022-01-22T05:40:12.823Z"
   },
   {
    "duration": 724,
    "start_time": "2022-01-22T05:41:51.055Z"
   },
   {
    "duration": 615,
    "start_time": "2022-01-22T05:42:16.693Z"
   },
   {
    "duration": 12,
    "start_time": "2022-01-22T06:04:07.315Z"
   },
   {
    "duration": 9,
    "start_time": "2022-01-22T06:20:59.487Z"
   },
   {
    "duration": 10,
    "start_time": "2022-01-22T06:31:31.654Z"
   },
   {
    "duration": 8526,
    "start_time": "2022-01-22T06:43:22.361Z"
   },
   {
    "duration": 1048,
    "start_time": "2022-01-22T06:43:44.739Z"
   },
   {
    "duration": 367,
    "start_time": "2022-01-22T06:43:45.789Z"
   },
   {
    "duration": 10,
    "start_time": "2022-01-22T06:43:46.157Z"
   },
   {
    "duration": 20,
    "start_time": "2022-01-22T06:43:46.168Z"
   },
   {
    "duration": 3,
    "start_time": "2022-01-22T06:43:46.190Z"
   },
   {
    "duration": 84,
    "start_time": "2022-01-22T06:43:46.194Z"
   },
   {
    "duration": 224,
    "start_time": "2022-01-22T06:43:46.279Z"
   },
   {
    "duration": 12,
    "start_time": "2022-01-22T06:43:46.505Z"
   },
   {
    "duration": 7,
    "start_time": "2022-01-22T06:43:46.527Z"
   },
   {
    "duration": 16,
    "start_time": "2022-01-22T06:43:46.535Z"
   },
   {
    "duration": 3,
    "start_time": "2022-01-22T06:43:46.553Z"
   },
   {
    "duration": 56,
    "start_time": "2022-01-22T06:43:46.557Z"
   },
   {
    "duration": 7,
    "start_time": "2022-01-22T06:43:46.627Z"
   },
   {
    "duration": 14,
    "start_time": "2022-01-22T06:43:46.635Z"
   },
   {
    "duration": 3,
    "start_time": "2022-01-22T06:43:46.651Z"
   },
   {
    "duration": 38,
    "start_time": "2022-01-22T06:43:46.655Z"
   },
   {
    "duration": 34,
    "start_time": "2022-01-22T06:43:46.694Z"
   },
   {
    "duration": 6,
    "start_time": "2022-01-22T06:43:46.730Z"
   },
   {
    "duration": 6,
    "start_time": "2022-01-22T06:43:46.737Z"
   },
   {
    "duration": 7,
    "start_time": "2022-01-22T06:43:46.744Z"
   },
   {
    "duration": 79,
    "start_time": "2022-01-22T06:43:46.753Z"
   },
   {
    "duration": 45,
    "start_time": "2022-01-22T06:43:46.834Z"
   },
   {
    "duration": 49,
    "start_time": "2022-01-22T06:43:46.882Z"
   },
   {
    "duration": 8,
    "start_time": "2022-01-22T06:43:46.933Z"
   },
   {
    "duration": 9,
    "start_time": "2022-01-22T06:43:46.942Z"
   },
   {
    "duration": 11,
    "start_time": "2022-01-22T06:43:46.953Z"
   },
   {
    "duration": 74,
    "start_time": "2022-01-22T06:43:46.966Z"
   },
   {
    "duration": 29,
    "start_time": "2022-01-22T06:43:47.041Z"
   },
   {
    "duration": 24,
    "start_time": "2022-01-22T06:43:47.071Z"
   },
   {
    "duration": 3,
    "start_time": "2022-01-22T06:43:47.097Z"
   },
   {
    "duration": 28,
    "start_time": "2022-01-22T06:43:47.101Z"
   },
   {
    "duration": 5,
    "start_time": "2022-01-22T06:43:47.131Z"
   },
   {
    "duration": 4,
    "start_time": "2022-01-22T06:43:47.137Z"
   },
   {
    "duration": 4,
    "start_time": "2022-01-22T06:43:47.143Z"
   },
   {
    "duration": 18,
    "start_time": "2022-01-22T06:43:47.148Z"
   },
   {
    "duration": 3,
    "start_time": "2022-01-22T06:43:47.168Z"
   },
   {
    "duration": 16,
    "start_time": "2022-01-22T06:43:47.173Z"
   },
   {
    "duration": 3,
    "start_time": "2022-01-22T06:43:47.191Z"
   },
   {
    "duration": 41,
    "start_time": "2022-01-22T06:43:47.195Z"
   },
   {
    "duration": 8913,
    "start_time": "2022-01-22T06:43:47.238Z"
   },
   {
    "duration": 20,
    "start_time": "2022-01-22T06:43:56.152Z"
   },
   {
    "duration": 236,
    "start_time": "2022-01-22T06:43:56.173Z"
   },
   {
    "duration": 224,
    "start_time": "2022-01-22T06:43:56.410Z"
   },
   {
    "duration": 21,
    "start_time": "2022-01-22T06:43:56.636Z"
   },
   {
    "duration": 300,
    "start_time": "2022-01-22T06:43:56.659Z"
   },
   {
    "duration": 23,
    "start_time": "2022-01-22T06:43:56.961Z"
   },
   {
    "duration": 287,
    "start_time": "2022-01-22T06:43:56.986Z"
   },
   {
    "duration": 23,
    "start_time": "2022-01-22T06:43:57.274Z"
   },
   {
    "duration": 560,
    "start_time": "2022-01-22T06:43:57.298Z"
   },
   {
    "duration": 21,
    "start_time": "2022-01-22T06:43:57.860Z"
   },
   {
    "duration": 503,
    "start_time": "2022-01-22T06:43:57.882Z"
   },
   {
    "duration": 20,
    "start_time": "2022-01-22T06:43:58.386Z"
   },
   {
    "duration": 280,
    "start_time": "2022-01-22T06:43:58.407Z"
   },
   {
    "duration": 21,
    "start_time": "2022-01-22T06:43:58.688Z"
   },
   {
    "duration": 501,
    "start_time": "2022-01-22T06:43:58.711Z"
   },
   {
    "duration": 164,
    "start_time": "2022-01-22T06:43:59.214Z"
   },
   {
    "duration": 21,
    "start_time": "2022-01-22T06:43:59.379Z"
   },
   {
    "duration": 573,
    "start_time": "2022-01-22T06:43:59.401Z"
   },
   {
    "duration": 286,
    "start_time": "2022-01-22T06:43:59.975Z"
   },
   {
    "duration": 14,
    "start_time": "2022-01-22T06:44:00.262Z"
   },
   {
    "duration": 34,
    "start_time": "2022-01-22T06:44:00.278Z"
   },
   {
    "duration": 622,
    "start_time": "2022-01-22T06:44:00.313Z"
   },
   {
    "duration": 7,
    "start_time": "2022-01-22T06:44:00.937Z"
   },
   {
    "duration": 27,
    "start_time": "2022-01-22T06:44:00.946Z"
   },
   {
    "duration": 25,
    "start_time": "2022-01-22T06:44:00.974Z"
   },
   {
    "duration": 26,
    "start_time": "2022-01-22T06:44:01.000Z"
   },
   {
    "duration": 38,
    "start_time": "2022-01-22T06:44:01.028Z"
   },
   {
    "duration": 18,
    "start_time": "2022-01-22T06:44:01.070Z"
   },
   {
    "duration": 1095,
    "start_time": "2022-01-22T06:47:14.994Z"
   },
   {
    "duration": 366,
    "start_time": "2022-01-22T06:47:16.091Z"
   },
   {
    "duration": 11,
    "start_time": "2022-01-22T06:47:16.458Z"
   },
   {
    "duration": 20,
    "start_time": "2022-01-22T06:47:16.471Z"
   },
   {
    "duration": 4,
    "start_time": "2022-01-22T06:47:16.492Z"
   },
   {
    "duration": 96,
    "start_time": "2022-01-22T06:47:16.497Z"
   },
   {
    "duration": 227,
    "start_time": "2022-01-22T06:47:16.595Z"
   },
   {
    "duration": 11,
    "start_time": "2022-01-22T06:47:16.825Z"
   },
   {
    "duration": 7,
    "start_time": "2022-01-22T06:47:16.838Z"
   },
   {
    "duration": 16,
    "start_time": "2022-01-22T06:47:16.847Z"
   },
   {
    "duration": 3,
    "start_time": "2022-01-22T06:47:16.865Z"
   },
   {
    "duration": 84,
    "start_time": "2022-01-22T06:47:16.870Z"
   },
   {
    "duration": 6,
    "start_time": "2022-01-22T06:47:16.955Z"
   },
   {
    "duration": 18,
    "start_time": "2022-01-22T06:47:16.963Z"
   },
   {
    "duration": 4,
    "start_time": "2022-01-22T06:47:16.982Z"
   },
   {
    "duration": 57,
    "start_time": "2022-01-22T06:47:16.987Z"
   },
   {
    "duration": 9,
    "start_time": "2022-01-22T06:47:17.045Z"
   },
   {
    "duration": 8,
    "start_time": "2022-01-22T06:47:17.056Z"
   },
   {
    "duration": 7,
    "start_time": "2022-01-22T06:47:17.065Z"
   },
   {
    "duration": 7,
    "start_time": "2022-01-22T06:47:17.073Z"
   },
   {
    "duration": 86,
    "start_time": "2022-01-22T06:47:17.082Z"
   },
   {
    "duration": 59,
    "start_time": "2022-01-22T06:47:17.170Z"
   },
   {
    "duration": 37,
    "start_time": "2022-01-22T06:47:17.234Z"
   },
   {
    "duration": 7,
    "start_time": "2022-01-22T06:47:17.274Z"
   },
   {
    "duration": 16,
    "start_time": "2022-01-22T06:47:17.283Z"
   },
   {
    "duration": 22,
    "start_time": "2022-01-22T06:47:17.301Z"
   },
   {
    "duration": 54,
    "start_time": "2022-01-22T06:47:17.327Z"
   },
   {
    "duration": 28,
    "start_time": "2022-01-22T06:47:17.382Z"
   },
   {
    "duration": 36,
    "start_time": "2022-01-22T06:47:17.412Z"
   },
   {
    "duration": 4,
    "start_time": "2022-01-22T06:47:17.450Z"
   },
   {
    "duration": 5,
    "start_time": "2022-01-22T06:47:17.455Z"
   },
   {
    "duration": 6,
    "start_time": "2022-01-22T06:47:17.462Z"
   },
   {
    "duration": 6,
    "start_time": "2022-01-22T06:47:17.469Z"
   },
   {
    "duration": 4,
    "start_time": "2022-01-22T06:47:17.476Z"
   },
   {
    "duration": 50,
    "start_time": "2022-01-22T06:47:17.482Z"
   },
   {
    "duration": 4,
    "start_time": "2022-01-22T06:47:17.533Z"
   },
   {
    "duration": 29,
    "start_time": "2022-01-22T06:47:17.538Z"
   },
   {
    "duration": 4,
    "start_time": "2022-01-22T06:47:17.568Z"
   },
   {
    "duration": 24,
    "start_time": "2022-01-22T06:47:17.573Z"
   },
   {
    "duration": 9023,
    "start_time": "2022-01-22T06:47:17.598Z"
   },
   {
    "duration": 24,
    "start_time": "2022-01-22T06:47:26.623Z"
   },
   {
    "duration": 245,
    "start_time": "2022-01-22T06:47:26.648Z"
   },
   {
    "duration": 321,
    "start_time": "2022-01-22T06:47:26.894Z"
   },
   {
    "duration": 26,
    "start_time": "2022-01-22T06:47:27.216Z"
   },
   {
    "duration": 296,
    "start_time": "2022-01-22T06:47:27.244Z"
   },
   {
    "duration": 21,
    "start_time": "2022-01-22T06:47:27.541Z"
   },
   {
    "duration": 277,
    "start_time": "2022-01-22T06:47:27.564Z"
   },
   {
    "duration": 21,
    "start_time": "2022-01-22T06:47:27.842Z"
   },
   {
    "duration": 560,
    "start_time": "2022-01-22T06:47:27.864Z"
   },
   {
    "duration": 21,
    "start_time": "2022-01-22T06:47:28.427Z"
   },
   {
    "duration": 502,
    "start_time": "2022-01-22T06:47:28.449Z"
   },
   {
    "duration": 20,
    "start_time": "2022-01-22T06:47:28.952Z"
   },
   {
    "duration": 283,
    "start_time": "2022-01-22T06:47:28.974Z"
   },
   {
    "duration": 20,
    "start_time": "2022-01-22T06:47:29.259Z"
   },
   {
    "duration": 487,
    "start_time": "2022-01-22T06:47:29.281Z"
   },
   {
    "duration": 157,
    "start_time": "2022-01-22T06:47:29.770Z"
   },
   {
    "duration": 21,
    "start_time": "2022-01-22T06:47:29.929Z"
   },
   {
    "duration": 589,
    "start_time": "2022-01-22T06:47:29.951Z"
   },
   {
    "duration": 285,
    "start_time": "2022-01-22T06:47:30.542Z"
   },
   {
    "duration": 13,
    "start_time": "2022-01-22T06:47:30.828Z"
   },
   {
    "duration": 25,
    "start_time": "2022-01-22T06:47:30.843Z"
   },
   {
    "duration": 631,
    "start_time": "2022-01-22T06:47:30.870Z"
   },
   {
    "duration": 9,
    "start_time": "2022-01-22T06:47:31.502Z"
   },
   {
    "duration": 16,
    "start_time": "2022-01-22T06:47:31.512Z"
   },
   {
    "duration": 7,
    "start_time": "2022-01-22T06:47:31.529Z"
   },
   {
    "duration": 11,
    "start_time": "2022-01-22T06:47:31.538Z"
   },
   {
    "duration": 10,
    "start_time": "2022-01-22T06:47:31.550Z"
   },
   {
    "duration": 9,
    "start_time": "2022-01-22T06:47:31.564Z"
   },
   {
    "duration": 1163,
    "start_time": "2022-01-22T06:50:42.031Z"
   },
   {
    "duration": 378,
    "start_time": "2022-01-22T06:50:43.195Z"
   },
   {
    "duration": 9,
    "start_time": "2022-01-22T06:50:43.575Z"
   },
   {
    "duration": 18,
    "start_time": "2022-01-22T06:50:43.586Z"
   },
   {
    "duration": 3,
    "start_time": "2022-01-22T06:50:43.606Z"
   },
   {
    "duration": 95,
    "start_time": "2022-01-22T06:50:43.610Z"
   },
   {
    "duration": 239,
    "start_time": "2022-01-22T06:50:43.707Z"
   },
   {
    "duration": 11,
    "start_time": "2022-01-22T06:50:43.949Z"
   },
   {
    "duration": 7,
    "start_time": "2022-01-22T06:50:43.962Z"
   },
   {
    "duration": 17,
    "start_time": "2022-01-22T06:50:43.970Z"
   },
   {
    "duration": 3,
    "start_time": "2022-01-22T06:50:43.988Z"
   },
   {
    "duration": 88,
    "start_time": "2022-01-22T06:50:43.993Z"
   },
   {
    "duration": 6,
    "start_time": "2022-01-22T06:50:44.082Z"
   },
   {
    "duration": 14,
    "start_time": "2022-01-22T06:50:44.090Z"
   },
   {
    "duration": 4,
    "start_time": "2022-01-22T06:50:44.105Z"
   },
   {
    "duration": 52,
    "start_time": "2022-01-22T06:50:44.110Z"
   },
   {
    "duration": 8,
    "start_time": "2022-01-22T06:50:44.164Z"
   },
   {
    "duration": 6,
    "start_time": "2022-01-22T06:50:44.174Z"
   },
   {
    "duration": 5,
    "start_time": "2022-01-22T06:50:44.181Z"
   },
   {
    "duration": 6,
    "start_time": "2022-01-22T06:50:44.187Z"
   },
   {
    "duration": 96,
    "start_time": "2022-01-22T06:50:44.194Z"
   },
   {
    "duration": 54,
    "start_time": "2022-01-22T06:50:44.291Z"
   },
   {
    "duration": 36,
    "start_time": "2022-01-22T06:50:44.349Z"
   },
   {
    "duration": 7,
    "start_time": "2022-01-22T06:50:44.388Z"
   },
   {
    "duration": 11,
    "start_time": "2022-01-22T06:50:44.396Z"
   },
   {
    "duration": 28,
    "start_time": "2022-01-22T06:50:44.409Z"
   },
   {
    "duration": 54,
    "start_time": "2022-01-22T06:50:44.439Z"
   },
   {
    "duration": 41,
    "start_time": "2022-01-22T06:50:44.495Z"
   },
   {
    "duration": 24,
    "start_time": "2022-01-22T06:50:44.537Z"
   },
   {
    "duration": 3,
    "start_time": "2022-01-22T06:50:44.563Z"
   },
   {
    "duration": 6,
    "start_time": "2022-01-22T06:50:44.567Z"
   },
   {
    "duration": 8,
    "start_time": "2022-01-22T06:50:44.574Z"
   },
   {
    "duration": 6,
    "start_time": "2022-01-22T06:50:44.583Z"
   },
   {
    "duration": 37,
    "start_time": "2022-01-22T06:50:44.591Z"
   },
   {
    "duration": 14,
    "start_time": "2022-01-22T06:50:44.630Z"
   },
   {
    "duration": 4,
    "start_time": "2022-01-22T06:50:44.646Z"
   },
   {
    "duration": 14,
    "start_time": "2022-01-22T06:50:44.652Z"
   },
   {
    "duration": 4,
    "start_time": "2022-01-22T06:50:44.668Z"
   },
   {
    "duration": 15,
    "start_time": "2022-01-22T06:50:44.674Z"
   },
   {
    "duration": 9167,
    "start_time": "2022-01-22T06:50:44.728Z"
   },
   {
    "duration": 20,
    "start_time": "2022-01-22T06:50:53.896Z"
   },
   {
    "duration": 234,
    "start_time": "2022-01-22T06:50:53.927Z"
   },
   {
    "duration": 222,
    "start_time": "2022-01-22T06:50:54.163Z"
   },
   {
    "duration": 24,
    "start_time": "2022-01-22T06:50:54.387Z"
   },
   {
    "duration": 326,
    "start_time": "2022-01-22T06:50:54.413Z"
   },
   {
    "duration": 22,
    "start_time": "2022-01-22T06:50:54.741Z"
   },
   {
    "duration": 283,
    "start_time": "2022-01-22T06:50:54.765Z"
   },
   {
    "duration": 21,
    "start_time": "2022-01-22T06:50:55.050Z"
   },
   {
    "duration": 573,
    "start_time": "2022-01-22T06:50:55.073Z"
   },
   {
    "duration": 22,
    "start_time": "2022-01-22T06:50:55.648Z"
   },
   {
    "duration": 517,
    "start_time": "2022-01-22T06:50:55.672Z"
   },
   {
    "duration": 36,
    "start_time": "2022-01-22T06:50:56.191Z"
   },
   {
    "duration": 274,
    "start_time": "2022-01-22T06:50:56.229Z"
   },
   {
    "duration": 30,
    "start_time": "2022-01-22T06:50:56.505Z"
   },
   {
    "duration": 494,
    "start_time": "2022-01-22T06:50:56.537Z"
   },
   {
    "duration": 165,
    "start_time": "2022-01-22T06:50:57.033Z"
   },
   {
    "duration": 31,
    "start_time": "2022-01-22T06:50:57.200Z"
   },
   {
    "duration": 572,
    "start_time": "2022-01-22T06:50:57.233Z"
   },
   {
    "duration": 279,
    "start_time": "2022-01-22T06:50:57.807Z"
   },
   {
    "duration": 13,
    "start_time": "2022-01-22T06:50:58.088Z"
   },
   {
    "duration": 30,
    "start_time": "2022-01-22T06:50:58.102Z"
   },
   {
    "duration": 616,
    "start_time": "2022-01-22T06:50:58.134Z"
   },
   {
    "duration": 9,
    "start_time": "2022-01-22T06:50:58.752Z"
   },
   {
    "duration": 5,
    "start_time": "2022-01-22T06:50:58.763Z"
   },
   {
    "duration": 6,
    "start_time": "2022-01-22T06:50:58.770Z"
   },
   {
    "duration": 8,
    "start_time": "2022-01-22T06:50:58.777Z"
   },
   {
    "duration": 41,
    "start_time": "2022-01-22T06:50:58.787Z"
   },
   {
    "duration": 7,
    "start_time": "2022-01-22T06:50:58.833Z"
   },
   {
    "duration": 8,
    "start_time": "2022-01-22T06:51:03.692Z"
   },
   {
    "duration": 9,
    "start_time": "2022-01-22T06:51:11.113Z"
   },
   {
    "duration": 1168,
    "start_time": "2022-01-22T06:51:19.152Z"
   },
   {
    "duration": 372,
    "start_time": "2022-01-22T06:51:20.322Z"
   },
   {
    "duration": 12,
    "start_time": "2022-01-22T06:51:20.696Z"
   },
   {
    "duration": 28,
    "start_time": "2022-01-22T06:51:20.711Z"
   },
   {
    "duration": 4,
    "start_time": "2022-01-22T06:51:20.741Z"
   },
   {
    "duration": 99,
    "start_time": "2022-01-22T06:51:20.747Z"
   },
   {
    "duration": 262,
    "start_time": "2022-01-22T06:51:20.848Z"
   },
   {
    "duration": 24,
    "start_time": "2022-01-22T06:51:21.112Z"
   },
   {
    "duration": 8,
    "start_time": "2022-01-22T06:51:21.138Z"
   },
   {
    "duration": 17,
    "start_time": "2022-01-22T06:51:21.148Z"
   },
   {
    "duration": 4,
    "start_time": "2022-01-22T06:51:21.167Z"
   },
   {
    "duration": 99,
    "start_time": "2022-01-22T06:51:21.172Z"
   },
   {
    "duration": 7,
    "start_time": "2022-01-22T06:51:21.272Z"
   },
   {
    "duration": 16,
    "start_time": "2022-01-22T06:51:21.280Z"
   },
   {
    "duration": 5,
    "start_time": "2022-01-22T06:51:21.298Z"
   },
   {
    "duration": 60,
    "start_time": "2022-01-22T06:51:21.305Z"
   },
   {
    "duration": 10,
    "start_time": "2022-01-22T06:51:21.367Z"
   },
   {
    "duration": 7,
    "start_time": "2022-01-22T06:51:21.379Z"
   },
   {
    "duration": 4,
    "start_time": "2022-01-22T06:51:21.388Z"
   },
   {
    "duration": 7,
    "start_time": "2022-01-22T06:51:21.394Z"
   },
   {
    "duration": 86,
    "start_time": "2022-01-22T06:51:21.403Z"
   },
   {
    "duration": 63,
    "start_time": "2022-01-22T06:51:21.491Z"
   },
   {
    "duration": 37,
    "start_time": "2022-01-22T06:51:21.556Z"
   },
   {
    "duration": 7,
    "start_time": "2022-01-22T06:51:21.595Z"
   },
   {
    "duration": 27,
    "start_time": "2022-01-22T06:51:21.604Z"
   },
   {
    "duration": 83,
    "start_time": "2022-01-22T06:51:21.633Z"
   },
   {
    "duration": 51,
    "start_time": "2022-01-22T06:51:21.720Z"
   },
   {
    "duration": 30,
    "start_time": "2022-01-22T06:51:21.774Z"
   },
   {
    "duration": 36,
    "start_time": "2022-01-22T06:51:21.805Z"
   },
   {
    "duration": 3,
    "start_time": "2022-01-22T06:51:21.842Z"
   },
   {
    "duration": 10,
    "start_time": "2022-01-22T06:51:21.847Z"
   },
   {
    "duration": 9,
    "start_time": "2022-01-22T06:51:21.858Z"
   },
   {
    "duration": 13,
    "start_time": "2022-01-22T06:51:21.869Z"
   },
   {
    "duration": 6,
    "start_time": "2022-01-22T06:51:21.884Z"
   },
   {
    "duration": 15,
    "start_time": "2022-01-22T06:51:21.892Z"
   },
   {
    "duration": 3,
    "start_time": "2022-01-22T06:51:21.909Z"
   },
   {
    "duration": 28,
    "start_time": "2022-01-22T06:51:21.914Z"
   },
   {
    "duration": 5,
    "start_time": "2022-01-22T06:51:21.943Z"
   },
   {
    "duration": 14,
    "start_time": "2022-01-22T06:51:21.949Z"
   },
   {
    "duration": 9437,
    "start_time": "2022-01-22T06:51:21.965Z"
   },
   {
    "duration": 31,
    "start_time": "2022-01-22T06:51:31.403Z"
   },
   {
    "duration": 277,
    "start_time": "2022-01-22T06:51:31.435Z"
   },
   {
    "duration": 231,
    "start_time": "2022-01-22T06:51:31.714Z"
   },
   {
    "duration": 22,
    "start_time": "2022-01-22T06:51:31.947Z"
   },
   {
    "duration": 319,
    "start_time": "2022-01-22T06:51:31.971Z"
   },
   {
    "duration": 20,
    "start_time": "2022-01-22T06:51:32.292Z"
   },
   {
    "duration": 286,
    "start_time": "2022-01-22T06:51:32.313Z"
   },
   {
    "duration": 34,
    "start_time": "2022-01-22T06:51:32.602Z"
   },
   {
    "duration": 612,
    "start_time": "2022-01-22T06:51:32.638Z"
   },
   {
    "duration": 22,
    "start_time": "2022-01-22T06:51:33.252Z"
   },
   {
    "duration": 539,
    "start_time": "2022-01-22T06:51:33.275Z"
   },
   {
    "duration": 25,
    "start_time": "2022-01-22T06:51:33.816Z"
   },
   {
    "duration": 286,
    "start_time": "2022-01-22T06:51:33.843Z"
   },
   {
    "duration": 21,
    "start_time": "2022-01-22T06:51:34.130Z"
   },
   {
    "duration": 509,
    "start_time": "2022-01-22T06:51:34.153Z"
   },
   {
    "duration": 165,
    "start_time": "2022-01-22T06:51:34.664Z"
   },
   {
    "duration": 21,
    "start_time": "2022-01-22T06:51:34.830Z"
   },
   {
    "duration": 589,
    "start_time": "2022-01-22T06:51:34.852Z"
   },
   {
    "duration": 285,
    "start_time": "2022-01-22T06:51:35.444Z"
   },
   {
    "duration": 14,
    "start_time": "2022-01-22T06:51:35.731Z"
   },
   {
    "duration": 20,
    "start_time": "2022-01-22T06:51:35.747Z"
   },
   {
    "duration": 695,
    "start_time": "2022-01-22T06:51:35.769Z"
   },
   {
    "duration": 8,
    "start_time": "2022-01-22T06:51:36.467Z"
   },
   {
    "duration": 6,
    "start_time": "2022-01-22T06:51:36.476Z"
   },
   {
    "duration": 6,
    "start_time": "2022-01-22T06:51:36.484Z"
   },
   {
    "duration": 7,
    "start_time": "2022-01-22T06:51:36.492Z"
   },
   {
    "duration": 31,
    "start_time": "2022-01-22T06:51:36.500Z"
   },
   {
    "duration": 6,
    "start_time": "2022-01-22T06:51:36.532Z"
   },
   {
    "duration": 1041,
    "start_time": "2022-01-27T11:25:09.251Z"
   },
   {
    "duration": 388,
    "start_time": "2022-01-27T11:25:10.294Z"
   },
   {
    "duration": 10,
    "start_time": "2022-01-27T11:25:10.684Z"
   },
   {
    "duration": 21,
    "start_time": "2022-01-27T11:25:10.696Z"
   },
   {
    "duration": 4,
    "start_time": "2022-01-27T11:25:10.718Z"
   },
   {
    "duration": 102,
    "start_time": "2022-01-27T11:25:10.723Z"
   },
   {
    "duration": 296,
    "start_time": "2022-01-27T11:25:10.826Z"
   },
   {
    "duration": 14,
    "start_time": "2022-01-27T11:25:11.124Z"
   },
   {
    "duration": 9,
    "start_time": "2022-01-27T11:25:11.140Z"
   },
   {
    "duration": 21,
    "start_time": "2022-01-27T11:25:11.151Z"
   },
   {
    "duration": 4,
    "start_time": "2022-01-27T11:25:11.173Z"
   },
   {
    "duration": 100,
    "start_time": "2022-01-27T11:25:11.178Z"
   },
   {
    "duration": 6,
    "start_time": "2022-01-27T11:25:11.280Z"
   },
   {
    "duration": 24,
    "start_time": "2022-01-27T11:25:11.288Z"
   },
   {
    "duration": 3,
    "start_time": "2022-01-27T11:25:11.314Z"
   },
   {
    "duration": 45,
    "start_time": "2022-01-27T11:25:11.319Z"
   },
   {
    "duration": 17,
    "start_time": "2022-01-27T11:25:11.366Z"
   },
   {
    "duration": 28,
    "start_time": "2022-01-27T11:25:11.385Z"
   },
   {
    "duration": 6,
    "start_time": "2022-01-27T11:25:11.415Z"
   },
   {
    "duration": 9,
    "start_time": "2022-01-27T11:25:11.423Z"
   },
   {
    "duration": 93,
    "start_time": "2022-01-27T11:25:11.434Z"
   },
   {
    "duration": 55,
    "start_time": "2022-01-27T11:25:11.529Z"
   },
   {
    "duration": 57,
    "start_time": "2022-01-27T11:25:11.585Z"
   },
   {
    "duration": 8,
    "start_time": "2022-01-27T11:25:11.643Z"
   },
   {
    "duration": 12,
    "start_time": "2022-01-27T11:25:11.653Z"
   },
   {
    "duration": 14,
    "start_time": "2022-01-27T11:25:11.667Z"
   },
   {
    "duration": 72,
    "start_time": "2022-01-27T11:25:11.685Z"
   },
   {
    "duration": 30,
    "start_time": "2022-01-27T11:25:11.760Z"
   },
   {
    "duration": 39,
    "start_time": "2022-01-27T11:25:11.792Z"
   },
   {
    "duration": 3,
    "start_time": "2022-01-27T11:25:11.833Z"
   },
   {
    "duration": 7,
    "start_time": "2022-01-27T11:25:11.837Z"
   },
   {
    "duration": 10,
    "start_time": "2022-01-27T11:25:11.846Z"
   },
   {
    "duration": 5,
    "start_time": "2022-01-27T11:25:11.858Z"
   },
   {
    "duration": 4,
    "start_time": "2022-01-27T11:25:11.865Z"
   },
   {
    "duration": 43,
    "start_time": "2022-01-27T11:25:11.870Z"
   },
   {
    "duration": 4,
    "start_time": "2022-01-27T11:25:11.914Z"
   },
   {
    "duration": 19,
    "start_time": "2022-01-27T11:25:11.920Z"
   },
   {
    "duration": 4,
    "start_time": "2022-01-27T11:25:11.940Z"
   },
   {
    "duration": 18,
    "start_time": "2022-01-27T11:25:11.945Z"
   },
   {
    "duration": 10144,
    "start_time": "2022-01-27T11:25:11.964Z"
   },
   {
    "duration": 26,
    "start_time": "2022-01-27T11:25:22.109Z"
   },
   {
    "duration": 302,
    "start_time": "2022-01-27T11:25:22.136Z"
   },
   {
    "duration": 271,
    "start_time": "2022-01-27T11:25:22.439Z"
   },
   {
    "duration": 26,
    "start_time": "2022-01-27T11:25:22.711Z"
   },
   {
    "duration": 378,
    "start_time": "2022-01-27T11:25:22.739Z"
   },
   {
    "duration": 25,
    "start_time": "2022-01-27T11:25:23.119Z"
   },
   {
    "duration": 356,
    "start_time": "2022-01-27T11:25:23.146Z"
   },
   {
    "duration": 30,
    "start_time": "2022-01-27T11:25:23.503Z"
   },
   {
    "duration": 669,
    "start_time": "2022-01-27T11:25:23.535Z"
   },
   {
    "duration": 28,
    "start_time": "2022-01-27T11:25:24.206Z"
   },
   {
    "duration": 620,
    "start_time": "2022-01-27T11:25:24.236Z"
   },
   {
    "duration": 23,
    "start_time": "2022-01-27T11:25:24.858Z"
   },
   {
    "duration": 347,
    "start_time": "2022-01-27T11:25:24.883Z"
   },
   {
    "duration": 22,
    "start_time": "2022-01-27T11:25:25.232Z"
   },
   {
    "duration": 612,
    "start_time": "2022-01-27T11:25:25.256Z"
   },
   {
    "duration": 195,
    "start_time": "2022-01-27T11:25:25.870Z"
   },
   {
    "duration": 24,
    "start_time": "2022-01-27T11:25:26.067Z"
   },
   {
    "duration": 735,
    "start_time": "2022-01-27T11:25:26.093Z"
   },
   {
    "duration": 339,
    "start_time": "2022-01-27T11:25:26.830Z"
   },
   {
    "duration": 15,
    "start_time": "2022-01-27T11:25:27.171Z"
   },
   {
    "duration": 38,
    "start_time": "2022-01-27T11:25:27.188Z"
   },
   {
    "duration": 755,
    "start_time": "2022-01-27T11:25:27.228Z"
   },
   {
    "duration": 9,
    "start_time": "2022-01-27T11:25:27.985Z"
   },
   {
    "duration": 18,
    "start_time": "2022-01-27T11:25:27.996Z"
   },
   {
    "duration": 6,
    "start_time": "2022-01-27T11:25:28.015Z"
   },
   {
    "duration": 8,
    "start_time": "2022-01-27T11:25:28.022Z"
   },
   {
    "duration": 8,
    "start_time": "2022-01-27T11:25:28.031Z"
   },
   {
    "duration": 7,
    "start_time": "2022-01-27T11:25:28.041Z"
   },
   {
    "duration": 9687,
    "start_time": "2022-01-27T11:58:21.167Z"
   },
   {
    "duration": 1152,
    "start_time": "2022-01-27T11:58:50.916Z"
   },
   {
    "duration": 397,
    "start_time": "2022-01-27T11:58:52.070Z"
   },
   {
    "duration": 12,
    "start_time": "2022-01-27T11:58:52.469Z"
   },
   {
    "duration": 20,
    "start_time": "2022-01-27T11:58:52.483Z"
   },
   {
    "duration": 4,
    "start_time": "2022-01-27T11:58:52.504Z"
   },
   {
    "duration": 86,
    "start_time": "2022-01-27T11:58:52.510Z"
   },
   {
    "duration": 264,
    "start_time": "2022-01-27T11:58:52.598Z"
   },
   {
    "duration": 14,
    "start_time": "2022-01-27T11:58:52.864Z"
   },
   {
    "duration": 8,
    "start_time": "2022-01-27T11:58:52.881Z"
   },
   {
    "duration": 37,
    "start_time": "2022-01-27T11:58:52.891Z"
   },
   {
    "duration": 4,
    "start_time": "2022-01-27T11:58:52.929Z"
   },
   {
    "duration": 80,
    "start_time": "2022-01-27T11:58:52.934Z"
   },
   {
    "duration": 7,
    "start_time": "2022-01-27T11:58:53.015Z"
   },
   {
    "duration": 16,
    "start_time": "2022-01-27T11:58:53.024Z"
   },
   {
    "duration": 4,
    "start_time": "2022-01-27T11:58:53.041Z"
   },
   {
    "duration": 40,
    "start_time": "2022-01-27T11:58:53.046Z"
   },
   {
    "duration": 32,
    "start_time": "2022-01-27T11:58:53.087Z"
   },
   {
    "duration": 8,
    "start_time": "2022-01-27T11:58:53.121Z"
   },
   {
    "duration": 5,
    "start_time": "2022-01-27T11:58:53.130Z"
   },
   {
    "duration": 6,
    "start_time": "2022-01-27T11:58:53.137Z"
   },
   {
    "duration": 94,
    "start_time": "2022-01-27T11:58:53.145Z"
   },
   {
    "duration": 51,
    "start_time": "2022-01-27T11:58:53.241Z"
   },
   {
    "duration": 51,
    "start_time": "2022-01-27T11:58:53.294Z"
   },
   {
    "duration": 10,
    "start_time": "2022-01-27T11:58:53.346Z"
   },
   {
    "duration": 21,
    "start_time": "2022-01-27T11:58:53.357Z"
   },
   {
    "duration": 11,
    "start_time": "2022-01-27T11:58:53.380Z"
   },
   {
    "duration": 63,
    "start_time": "2022-01-27T11:58:53.394Z"
   },
   {
    "duration": 28,
    "start_time": "2022-01-27T11:58:53.459Z"
   },
   {
    "duration": 40,
    "start_time": "2022-01-27T11:58:53.489Z"
   },
   {
    "duration": 4,
    "start_time": "2022-01-27T11:58:53.530Z"
   },
   {
    "duration": 7,
    "start_time": "2022-01-27T11:58:53.535Z"
   },
   {
    "duration": 7,
    "start_time": "2022-01-27T11:58:53.543Z"
   },
   {
    "duration": 4,
    "start_time": "2022-01-27T11:58:53.551Z"
   },
   {
    "duration": 4,
    "start_time": "2022-01-27T11:58:53.557Z"
   },
   {
    "duration": 13,
    "start_time": "2022-01-27T11:58:53.562Z"
   },
   {
    "duration": 37,
    "start_time": "2022-01-27T11:58:53.577Z"
   },
   {
    "duration": 16,
    "start_time": "2022-01-27T11:58:53.615Z"
   },
   {
    "duration": 4,
    "start_time": "2022-01-27T11:58:53.632Z"
   },
   {
    "duration": 14,
    "start_time": "2022-01-27T11:58:53.637Z"
   },
   {
    "duration": 9949,
    "start_time": "2022-01-27T11:58:53.652Z"
   },
   {
    "duration": 17,
    "start_time": "2022-01-27T11:59:03.603Z"
   },
   {
    "duration": 23,
    "start_time": "2022-01-27T11:59:03.622Z"
   },
   {
    "duration": 307,
    "start_time": "2022-01-27T11:59:03.648Z"
   },
   {
    "duration": 268,
    "start_time": "2022-01-27T11:59:03.957Z"
   },
   {
    "duration": 23,
    "start_time": "2022-01-27T11:59:04.227Z"
   },
   {
    "duration": 370,
    "start_time": "2022-01-27T11:59:04.252Z"
   },
   {
    "duration": 25,
    "start_time": "2022-01-27T11:59:04.623Z"
   },
   {
    "duration": 337,
    "start_time": "2022-01-27T11:59:04.650Z"
   },
   {
    "duration": 32,
    "start_time": "2022-01-27T11:59:04.989Z"
   },
   {
    "duration": 669,
    "start_time": "2022-01-27T11:59:05.022Z"
   },
   {
    "duration": 27,
    "start_time": "2022-01-27T11:59:05.693Z"
   },
   {
    "duration": 608,
    "start_time": "2022-01-27T11:59:05.721Z"
   },
   {
    "duration": 24,
    "start_time": "2022-01-27T11:59:06.331Z"
   },
   {
    "duration": 333,
    "start_time": "2022-01-27T11:59:06.356Z"
   },
   {
    "duration": 31,
    "start_time": "2022-01-27T11:59:06.691Z"
   },
   {
    "duration": 614,
    "start_time": "2022-01-27T11:59:06.724Z"
   },
   {
    "duration": 183,
    "start_time": "2022-01-27T11:59:07.340Z"
   },
   {
    "duration": 24,
    "start_time": "2022-01-27T11:59:07.525Z"
   },
   {
    "duration": 669,
    "start_time": "2022-01-27T11:59:07.551Z"
   },
   {
    "duration": 330,
    "start_time": "2022-01-27T11:59:08.222Z"
   },
   {
    "duration": 13,
    "start_time": "2022-01-27T11:59:08.554Z"
   },
   {
    "duration": 20,
    "start_time": "2022-01-27T11:59:08.569Z"
   },
   {
    "duration": 741,
    "start_time": "2022-01-27T11:59:08.590Z"
   },
   {
    "duration": 9,
    "start_time": "2022-01-27T11:59:09.333Z"
   },
   {
    "duration": 6,
    "start_time": "2022-01-27T11:59:09.343Z"
   },
   {
    "duration": 5,
    "start_time": "2022-01-27T11:59:09.350Z"
   },
   {
    "duration": 8,
    "start_time": "2022-01-27T11:59:09.357Z"
   },
   {
    "duration": 9,
    "start_time": "2022-01-27T11:59:09.366Z"
   },
   {
    "duration": 41,
    "start_time": "2022-01-27T11:59:09.376Z"
   },
   {
    "duration": 19,
    "start_time": "2022-01-27T11:59:16.640Z"
   },
   {
    "duration": 1076,
    "start_time": "2022-01-27T12:07:49.311Z"
   },
   {
    "duration": 400,
    "start_time": "2022-01-27T12:07:50.389Z"
   },
   {
    "duration": 11,
    "start_time": "2022-01-27T12:07:50.792Z"
   },
   {
    "duration": 21,
    "start_time": "2022-01-27T12:07:50.805Z"
   },
   {
    "duration": 4,
    "start_time": "2022-01-27T12:07:50.827Z"
   },
   {
    "duration": 104,
    "start_time": "2022-01-27T12:07:50.833Z"
   },
   {
    "duration": 283,
    "start_time": "2022-01-27T12:07:50.939Z"
   },
   {
    "duration": 14,
    "start_time": "2022-01-27T12:07:51.225Z"
   },
   {
    "duration": 8,
    "start_time": "2022-01-27T12:07:51.241Z"
   },
   {
    "duration": 18,
    "start_time": "2022-01-27T12:07:51.250Z"
   },
   {
    "duration": 4,
    "start_time": "2022-01-27T12:07:51.269Z"
   },
   {
    "duration": 91,
    "start_time": "2022-01-27T12:07:51.275Z"
   },
   {
    "duration": 7,
    "start_time": "2022-01-27T12:07:51.368Z"
   },
   {
    "duration": 15,
    "start_time": "2022-01-27T12:07:51.376Z"
   },
   {
    "duration": 20,
    "start_time": "2022-01-27T12:07:51.393Z"
   },
   {
    "duration": 40,
    "start_time": "2022-01-27T12:07:51.414Z"
   },
   {
    "duration": 10,
    "start_time": "2022-01-27T12:07:51.455Z"
   },
   {
    "duration": 16,
    "start_time": "2022-01-27T12:07:51.466Z"
   },
   {
    "duration": 7,
    "start_time": "2022-01-27T12:07:51.484Z"
   },
   {
    "duration": 20,
    "start_time": "2022-01-27T12:07:51.493Z"
   },
   {
    "duration": 68,
    "start_time": "2022-01-27T12:07:51.514Z"
   },
   {
    "duration": 67,
    "start_time": "2022-01-27T12:07:51.584Z"
   },
   {
    "duration": 38,
    "start_time": "2022-01-27T12:07:51.655Z"
   },
   {
    "duration": 20,
    "start_time": "2022-01-27T12:07:51.696Z"
   },
   {
    "duration": 13,
    "start_time": "2022-01-27T12:07:51.717Z"
   },
   {
    "duration": 10,
    "start_time": "2022-01-27T12:07:51.731Z"
   },
   {
    "duration": 74,
    "start_time": "2022-01-27T12:07:51.742Z"
   },
   {
    "duration": 29,
    "start_time": "2022-01-27T12:07:51.818Z"
   },
   {
    "duration": 24,
    "start_time": "2022-01-27T12:07:51.848Z"
   },
   {
    "duration": 3,
    "start_time": "2022-01-27T12:07:51.874Z"
   },
   {
    "duration": 5,
    "start_time": "2022-01-27T12:07:51.879Z"
   },
   {
    "duration": 31,
    "start_time": "2022-01-27T12:07:51.886Z"
   },
   {
    "duration": 5,
    "start_time": "2022-01-27T12:07:51.919Z"
   },
   {
    "duration": 4,
    "start_time": "2022-01-27T12:07:51.925Z"
   },
   {
    "duration": 14,
    "start_time": "2022-01-27T12:07:51.931Z"
   },
   {
    "duration": 4,
    "start_time": "2022-01-27T12:07:51.947Z"
   },
   {
    "duration": 17,
    "start_time": "2022-01-27T12:07:51.952Z"
   },
   {
    "duration": 4,
    "start_time": "2022-01-27T12:07:51.971Z"
   },
   {
    "duration": 15,
    "start_time": "2022-01-27T12:07:52.013Z"
   },
   {
    "duration": 9494,
    "start_time": "2022-01-27T12:07:52.029Z"
   },
   {
    "duration": 13,
    "start_time": "2022-01-27T12:08:01.525Z"
   },
   {
    "duration": 24,
    "start_time": "2022-01-27T12:08:01.539Z"
   },
   {
    "duration": 284,
    "start_time": "2022-01-27T12:08:01.564Z"
   },
   {
    "duration": 252,
    "start_time": "2022-01-27T12:08:01.850Z"
   },
   {
    "duration": 28,
    "start_time": "2022-01-27T12:08:02.104Z"
   },
   {
    "duration": 351,
    "start_time": "2022-01-27T12:08:02.133Z"
   },
   {
    "duration": 30,
    "start_time": "2022-01-27T12:08:02.486Z"
   },
   {
    "duration": 326,
    "start_time": "2022-01-27T12:08:02.517Z"
   },
   {
    "duration": 26,
    "start_time": "2022-01-27T12:08:02.845Z"
   },
   {
    "duration": 656,
    "start_time": "2022-01-27T12:08:02.872Z"
   },
   {
    "duration": 24,
    "start_time": "2022-01-27T12:08:03.529Z"
   },
   {
    "duration": 598,
    "start_time": "2022-01-27T12:08:03.555Z"
   },
   {
    "duration": 23,
    "start_time": "2022-01-27T12:08:04.155Z"
   },
   {
    "duration": 334,
    "start_time": "2022-01-27T12:08:04.180Z"
   },
   {
    "duration": 23,
    "start_time": "2022-01-27T12:08:04.515Z"
   },
   {
    "duration": 591,
    "start_time": "2022-01-27T12:08:04.540Z"
   },
   {
    "duration": 183,
    "start_time": "2022-01-27T12:08:05.132Z"
   },
   {
    "duration": 24,
    "start_time": "2022-01-27T12:08:05.317Z"
   },
   {
    "duration": 689,
    "start_time": "2022-01-27T12:08:05.342Z"
   },
   {
    "duration": 337,
    "start_time": "2022-01-27T12:08:06.032Z"
   },
   {
    "duration": 14,
    "start_time": "2022-01-27T12:08:06.370Z"
   },
   {
    "duration": 37,
    "start_time": "2022-01-27T12:08:06.385Z"
   },
   {
    "duration": 764,
    "start_time": "2022-01-27T12:08:06.424Z"
   },
   {
    "duration": 9,
    "start_time": "2022-01-27T12:08:07.190Z"
   },
   {
    "duration": 33,
    "start_time": "2022-01-27T12:08:07.200Z"
   },
   {
    "duration": 7,
    "start_time": "2022-01-27T12:08:07.235Z"
   },
   {
    "duration": 9,
    "start_time": "2022-01-27T12:08:07.243Z"
   },
   {
    "duration": 8,
    "start_time": "2022-01-27T12:08:07.256Z"
   },
   {
    "duration": 7,
    "start_time": "2022-01-27T12:08:07.265Z"
   },
   {
    "duration": 1406,
    "start_time": "2022-02-03T09:32:22.036Z"
   },
   {
    "duration": 522,
    "start_time": "2022-02-03T09:32:23.445Z"
   },
   {
    "duration": 16,
    "start_time": "2022-02-03T09:32:23.974Z"
   },
   {
    "duration": 29,
    "start_time": "2022-02-03T09:32:23.992Z"
   },
   {
    "duration": 5,
    "start_time": "2022-02-03T09:32:24.023Z"
   },
   {
    "duration": 138,
    "start_time": "2022-02-03T09:32:24.030Z"
   },
   {
    "duration": 389,
    "start_time": "2022-02-03T09:32:24.172Z"
   },
   {
    "duration": 17,
    "start_time": "2022-02-03T09:32:24.564Z"
   },
   {
    "duration": 13,
    "start_time": "2022-02-03T09:32:24.583Z"
   },
   {
    "duration": 49,
    "start_time": "2022-02-03T09:32:24.599Z"
   },
   {
    "duration": 7,
    "start_time": "2022-02-03T09:32:24.651Z"
   },
   {
    "duration": 146,
    "start_time": "2022-02-03T09:32:24.661Z"
   },
   {
    "duration": 16,
    "start_time": "2022-02-03T09:32:24.810Z"
   },
   {
    "duration": 21,
    "start_time": "2022-02-03T09:32:24.830Z"
   },
   {
    "duration": 7,
    "start_time": "2022-02-03T09:32:24.854Z"
   },
   {
    "duration": 103,
    "start_time": "2022-02-03T09:32:24.864Z"
   },
   {
    "duration": 17,
    "start_time": "2022-02-03T09:32:24.970Z"
   },
   {
    "duration": 35,
    "start_time": "2022-02-03T09:32:24.990Z"
   },
   {
    "duration": 8,
    "start_time": "2022-02-03T09:32:25.028Z"
   },
   {
    "duration": 10,
    "start_time": "2022-02-03T09:32:25.038Z"
   },
   {
    "duration": 123,
    "start_time": "2022-02-03T09:32:25.051Z"
   },
   {
    "duration": 83,
    "start_time": "2022-02-03T09:32:25.179Z"
   },
   {
    "duration": 67,
    "start_time": "2022-02-03T09:32:25.266Z"
   },
   {
    "duration": 13,
    "start_time": "2022-02-03T09:32:25.336Z"
   },
   {
    "duration": 21,
    "start_time": "2022-02-03T09:32:25.352Z"
   },
   {
    "duration": 21,
    "start_time": "2022-02-03T09:32:25.375Z"
   },
   {
    "duration": 93,
    "start_time": "2022-02-03T09:32:25.398Z"
   },
   {
    "duration": 64,
    "start_time": "2022-02-03T09:32:25.494Z"
   },
   {
    "duration": 35,
    "start_time": "2022-02-03T09:32:25.561Z"
   },
   {
    "duration": 26,
    "start_time": "2022-02-03T09:32:25.599Z"
   },
   {
    "duration": 11,
    "start_time": "2022-02-03T09:32:25.627Z"
   },
   {
    "duration": 13,
    "start_time": "2022-02-03T09:32:25.641Z"
   },
   {
    "duration": 7,
    "start_time": "2022-02-03T09:32:25.656Z"
   },
   {
    "duration": 6,
    "start_time": "2022-02-03T09:32:25.666Z"
   },
   {
    "duration": 57,
    "start_time": "2022-02-03T09:32:25.675Z"
   },
   {
    "duration": 5,
    "start_time": "2022-02-03T09:32:25.734Z"
   },
   {
    "duration": 25,
    "start_time": "2022-02-03T09:32:25.742Z"
   },
   {
    "duration": 7,
    "start_time": "2022-02-03T09:32:25.770Z"
   },
   {
    "duration": 73,
    "start_time": "2022-02-03T09:32:25.780Z"
   },
   {
    "duration": 16955,
    "start_time": "2022-02-03T09:32:25.856Z"
   },
   {
    "duration": 29,
    "start_time": "2022-02-03T09:32:42.813Z"
   },
   {
    "duration": 35,
    "start_time": "2022-02-03T09:32:42.844Z"
   },
   {
    "duration": 444,
    "start_time": "2022-02-03T09:32:42.882Z"
   },
   {
    "duration": 387,
    "start_time": "2022-02-03T09:32:43.328Z"
   },
   {
    "duration": 37,
    "start_time": "2022-02-03T09:32:43.718Z"
   },
   {
    "duration": 549,
    "start_time": "2022-02-03T09:32:43.758Z"
   },
   {
    "duration": 44,
    "start_time": "2022-02-03T09:32:44.310Z"
   },
   {
    "duration": 499,
    "start_time": "2022-02-03T09:32:44.356Z"
   },
   {
    "duration": 35,
    "start_time": "2022-02-03T09:32:44.858Z"
   },
   {
    "duration": 989,
    "start_time": "2022-02-03T09:32:44.895Z"
   },
   {
    "duration": 53,
    "start_time": "2022-02-03T09:32:45.887Z"
   },
   {
    "duration": 908,
    "start_time": "2022-02-03T09:32:45.942Z"
   },
   {
    "duration": 38,
    "start_time": "2022-02-03T09:32:46.852Z"
   },
   {
    "duration": 511,
    "start_time": "2022-02-03T09:32:46.892Z"
   },
   {
    "duration": 44,
    "start_time": "2022-02-03T09:32:47.406Z"
   },
   {
    "duration": 923,
    "start_time": "2022-02-03T09:32:47.452Z"
   },
   {
    "duration": 293,
    "start_time": "2022-02-03T09:32:48.378Z"
   },
   {
    "duration": 56,
    "start_time": "2022-02-03T09:32:48.673Z"
   },
   {
    "duration": 982,
    "start_time": "2022-02-03T09:32:48.732Z"
   },
   {
    "duration": 495,
    "start_time": "2022-02-03T09:32:49.723Z"
   },
   {
    "duration": 23,
    "start_time": "2022-02-03T09:32:50.224Z"
   },
   {
    "duration": 31,
    "start_time": "2022-02-03T09:32:50.250Z"
   },
   {
    "duration": 1145,
    "start_time": "2022-02-03T09:32:50.283Z"
   },
   {
    "duration": 12,
    "start_time": "2022-02-03T09:32:51.431Z"
   },
   {
    "duration": 9,
    "start_time": "2022-02-03T09:32:51.445Z"
   },
   {
    "duration": 8,
    "start_time": "2022-02-03T09:32:51.456Z"
   },
   {
    "duration": 53,
    "start_time": "2022-02-03T09:32:51.471Z"
   },
   {
    "duration": 12,
    "start_time": "2022-02-03T09:32:51.527Z"
   },
   {
    "duration": 14,
    "start_time": "2022-02-03T09:32:51.542Z"
   },
   {
    "duration": 500,
    "start_time": "2022-02-03T09:49:08.864Z"
   },
   {
    "duration": 1419,
    "start_time": "2022-02-03T09:49:21.660Z"
   },
   {
    "duration": 551,
    "start_time": "2022-02-03T09:49:23.082Z"
   },
   {
    "duration": 15,
    "start_time": "2022-02-03T09:49:23.635Z"
   },
   {
    "duration": 32,
    "start_time": "2022-02-03T09:49:23.653Z"
   },
   {
    "duration": 5,
    "start_time": "2022-02-03T09:49:23.688Z"
   },
   {
    "duration": 145,
    "start_time": "2022-02-03T09:49:23.695Z"
   },
   {
    "duration": 389,
    "start_time": "2022-02-03T09:49:23.842Z"
   },
   {
    "duration": 16,
    "start_time": "2022-02-03T09:49:24.235Z"
   },
   {
    "duration": 11,
    "start_time": "2022-02-03T09:49:24.254Z"
   },
   {
    "duration": 21,
    "start_time": "2022-02-03T09:49:24.267Z"
   },
   {
    "duration": 34,
    "start_time": "2022-02-03T09:49:24.291Z"
   },
   {
    "duration": 65,
    "start_time": "2022-02-03T09:49:24.327Z"
   },
   {
    "duration": 34,
    "start_time": "2022-02-03T09:49:24.394Z"
   },
   {
    "duration": 19,
    "start_time": "2022-02-03T09:49:24.431Z"
   },
   {
    "duration": 6,
    "start_time": "2022-02-03T09:49:24.453Z"
   },
   {
    "duration": 97,
    "start_time": "2022-02-03T09:49:24.462Z"
   },
   {
    "duration": 16,
    "start_time": "2022-02-03T09:49:24.562Z"
   },
   {
    "duration": 10,
    "start_time": "2022-02-03T09:49:24.581Z"
   },
   {
    "duration": 31,
    "start_time": "2022-02-03T09:49:24.594Z"
   },
   {
    "duration": 10,
    "start_time": "2022-02-03T09:49:24.627Z"
   },
   {
    "duration": 122,
    "start_time": "2022-02-03T09:49:24.640Z"
   },
   {
    "duration": 80,
    "start_time": "2022-02-03T09:49:24.764Z"
   },
   {
    "duration": 55,
    "start_time": "2022-02-03T09:49:24.850Z"
   },
   {
    "duration": 13,
    "start_time": "2022-02-03T09:49:24.923Z"
   },
   {
    "duration": 27,
    "start_time": "2022-02-03T09:49:24.939Z"
   },
   {
    "duration": 19,
    "start_time": "2022-02-03T09:49:24.969Z"
   },
   {
    "duration": 94,
    "start_time": "2022-02-03T09:49:24.991Z"
   },
   {
    "duration": 55,
    "start_time": "2022-02-03T09:49:25.088Z"
   },
   {
    "duration": 35,
    "start_time": "2022-02-03T09:49:25.145Z"
   },
   {
    "duration": 5,
    "start_time": "2022-02-03T09:49:25.182Z"
   },
   {
    "duration": 39,
    "start_time": "2022-02-03T09:49:25.189Z"
   },
   {
    "duration": 11,
    "start_time": "2022-02-03T09:49:25.230Z"
   },
   {
    "duration": 9,
    "start_time": "2022-02-03T09:49:25.243Z"
   },
   {
    "duration": 11,
    "start_time": "2022-02-03T09:49:25.254Z"
   },
   {
    "duration": 20,
    "start_time": "2022-02-03T09:49:25.267Z"
   },
   {
    "duration": 35,
    "start_time": "2022-02-03T09:49:25.290Z"
   },
   {
    "duration": 27,
    "start_time": "2022-02-03T09:49:25.328Z"
   },
   {
    "duration": 6,
    "start_time": "2022-02-03T09:49:25.358Z"
   },
   {
    "duration": 64,
    "start_time": "2022-02-03T09:49:25.366Z"
   },
   {
    "duration": 16838,
    "start_time": "2022-02-03T09:49:25.433Z"
   },
   {
    "duration": 22,
    "start_time": "2022-02-03T09:49:42.274Z"
   },
   {
    "duration": 54,
    "start_time": "2022-02-03T09:49:42.299Z"
   },
   {
    "duration": 417,
    "start_time": "2022-02-03T09:49:42.356Z"
   },
   {
    "duration": 393,
    "start_time": "2022-02-03T09:49:42.776Z"
   },
   {
    "duration": 54,
    "start_time": "2022-02-03T09:49:43.172Z"
   },
   {
    "duration": 558,
    "start_time": "2022-02-03T09:49:43.229Z"
   },
   {
    "duration": 48,
    "start_time": "2022-02-03T09:49:43.790Z"
   },
   {
    "duration": 490,
    "start_time": "2022-02-03T09:49:43.840Z"
   },
   {
    "duration": 36,
    "start_time": "2022-02-03T09:49:44.333Z"
   },
   {
    "duration": 964,
    "start_time": "2022-02-03T09:49:44.372Z"
   },
   {
    "duration": 39,
    "start_time": "2022-02-03T09:49:45.340Z"
   },
   {
    "duration": 944,
    "start_time": "2022-02-03T09:49:45.382Z"
   },
   {
    "duration": 38,
    "start_time": "2022-02-03T09:49:46.329Z"
   },
   {
    "duration": 520,
    "start_time": "2022-02-03T09:49:46.369Z"
   },
   {
    "duration": 49,
    "start_time": "2022-02-03T09:49:46.892Z"
   },
   {
    "duration": 896,
    "start_time": "2022-02-03T09:49:46.944Z"
   },
   {
    "duration": 280,
    "start_time": "2022-02-03T09:49:47.843Z"
   },
   {
    "duration": 39,
    "start_time": "2022-02-03T09:49:48.125Z"
   },
   {
    "duration": 1078,
    "start_time": "2022-02-03T09:49:48.166Z"
   },
   {
    "duration": 526,
    "start_time": "2022-02-03T09:49:49.246Z"
   },
   {
    "duration": 24,
    "start_time": "2022-02-03T09:49:49.775Z"
   },
   {
    "duration": 49,
    "start_time": "2022-02-03T09:49:49.802Z"
   },
   {
    "duration": 1175,
    "start_time": "2022-02-03T09:49:49.853Z"
   },
   {
    "duration": 12,
    "start_time": "2022-02-03T09:49:51.031Z"
   },
   {
    "duration": 21,
    "start_time": "2022-02-03T09:49:51.045Z"
   },
   {
    "duration": 9,
    "start_time": "2022-02-03T09:49:51.068Z"
   },
   {
    "duration": 13,
    "start_time": "2022-02-03T09:49:51.080Z"
   },
   {
    "duration": 11,
    "start_time": "2022-02-03T09:49:51.129Z"
   },
   {
    "duration": 11,
    "start_time": "2022-02-03T09:49:51.143Z"
   },
   {
    "duration": 58,
    "start_time": "2022-02-03T09:50:52.117Z"
   },
   {
    "duration": 1430,
    "start_time": "2022-02-03T14:38:27.737Z"
   },
   {
    "duration": 2263,
    "start_time": "2022-02-03T14:38:29.170Z"
   },
   {
    "duration": 16,
    "start_time": "2022-02-03T14:38:31.436Z"
   },
   {
    "duration": 34,
    "start_time": "2022-02-03T14:38:31.455Z"
   },
   {
    "duration": 5,
    "start_time": "2022-02-03T14:38:31.491Z"
   },
   {
    "duration": 165,
    "start_time": "2022-02-03T14:38:31.499Z"
   },
   {
    "duration": 404,
    "start_time": "2022-02-03T14:38:31.666Z"
   },
   {
    "duration": 16,
    "start_time": "2022-02-03T14:38:32.074Z"
   },
   {
    "duration": 32,
    "start_time": "2022-02-03T14:38:32.093Z"
   },
   {
    "duration": 22,
    "start_time": "2022-02-03T14:38:32.128Z"
   },
   {
    "duration": 5,
    "start_time": "2022-02-03T14:38:32.153Z"
   },
   {
    "duration": 99,
    "start_time": "2022-02-03T14:38:32.160Z"
   },
   {
    "duration": 10,
    "start_time": "2022-02-03T14:38:32.262Z"
   },
   {
    "duration": 26,
    "start_time": "2022-02-03T14:38:32.274Z"
   },
   {
    "duration": 22,
    "start_time": "2022-02-03T14:38:32.303Z"
   },
   {
    "duration": 60,
    "start_time": "2022-02-03T14:38:32.328Z"
   },
   {
    "duration": 41,
    "start_time": "2022-02-03T14:38:32.390Z"
   },
   {
    "duration": 18,
    "start_time": "2022-02-03T14:38:32.434Z"
   },
   {
    "duration": 7,
    "start_time": "2022-02-03T14:38:32.455Z"
   },
   {
    "duration": 11,
    "start_time": "2022-02-03T14:38:32.464Z"
   },
   {
    "duration": 119,
    "start_time": "2022-02-03T14:38:32.478Z"
   },
   {
    "duration": 565,
    "start_time": "2022-02-03T14:38:32.599Z"
   },
   {
    "duration": -9888,
    "start_time": "2022-02-03T14:38:43.058Z"
   },
   {
    "duration": -9906,
    "start_time": "2022-02-03T14:38:43.078Z"
   },
   {
    "duration": -9953,
    "start_time": "2022-02-03T14:38:43.127Z"
   },
   {
    "duration": -9969,
    "start_time": "2022-02-03T14:38:43.145Z"
   },
   {
    "duration": -10003,
    "start_time": "2022-02-03T14:38:43.182Z"
   },
   {
    "duration": -10034,
    "start_time": "2022-02-03T14:38:43.215Z"
   },
   {
    "duration": -10041,
    "start_time": "2022-02-03T14:38:43.224Z"
   },
   {
    "duration": -10044,
    "start_time": "2022-02-03T14:38:43.229Z"
   },
   {
    "duration": -10048,
    "start_time": "2022-02-03T14:38:43.235Z"
   },
   {
    "duration": -10053,
    "start_time": "2022-02-03T14:38:43.242Z"
   },
   {
    "duration": -10057,
    "start_time": "2022-02-03T14:38:43.248Z"
   },
   {
    "duration": -10061,
    "start_time": "2022-02-03T14:38:43.255Z"
   },
   {
    "duration": -10067,
    "start_time": "2022-02-03T14:38:43.262Z"
   },
   {
    "duration": -10071,
    "start_time": "2022-02-03T14:38:43.269Z"
   },
   {
    "duration": -10077,
    "start_time": "2022-02-03T14:38:43.277Z"
   },
   {
    "duration": -10080,
    "start_time": "2022-02-03T14:38:43.283Z"
   },
   {
    "duration": -10085,
    "start_time": "2022-02-03T14:38:43.290Z"
   },
   {
    "duration": -10089,
    "start_time": "2022-02-03T14:38:43.296Z"
   },
   {
    "duration": -10093,
    "start_time": "2022-02-03T14:38:43.301Z"
   },
   {
    "duration": -10085,
    "start_time": "2022-02-03T14:38:43.308Z"
   },
   {
    "duration": -10101,
    "start_time": "2022-02-03T14:38:43.327Z"
   },
   {
    "duration": -10106,
    "start_time": "2022-02-03T14:38:43.334Z"
   },
   {
    "duration": -10110,
    "start_time": "2022-02-03T14:38:43.340Z"
   },
   {
    "duration": -10113,
    "start_time": "2022-02-03T14:38:43.345Z"
   },
   {
    "duration": -10117,
    "start_time": "2022-02-03T14:38:43.351Z"
   },
   {
    "duration": -10120,
    "start_time": "2022-02-03T14:38:43.357Z"
   },
   {
    "duration": -10127,
    "start_time": "2022-02-03T14:38:43.366Z"
   },
   {
    "duration": -10132,
    "start_time": "2022-02-03T14:38:43.373Z"
   },
   {
    "duration": -10135,
    "start_time": "2022-02-03T14:38:43.379Z"
   },
   {
    "duration": -10139,
    "start_time": "2022-02-03T14:38:43.385Z"
   },
   {
    "duration": -10165,
    "start_time": "2022-02-03T14:38:43.413Z"
   },
   {
    "duration": -10193,
    "start_time": "2022-02-03T14:38:43.443Z"
   },
   {
    "duration": -10216,
    "start_time": "2022-02-03T14:38:43.468Z"
   },
   {
    "duration": -10222,
    "start_time": "2022-02-03T14:38:43.476Z"
   },
   {
    "duration": -10250,
    "start_time": "2022-02-03T14:38:43.506Z"
   },
   {
    "duration": -10264,
    "start_time": "2022-02-03T14:38:43.523Z"
   },
   {
    "duration": -10282,
    "start_time": "2022-02-03T14:38:43.543Z"
   },
   {
    "duration": -10300,
    "start_time": "2022-02-03T14:38:43.563Z"
   },
   {
    "duration": -10245,
    "start_time": "2022-02-03T14:38:43.569Z"
   },
   {
    "duration": -10250,
    "start_time": "2022-02-03T14:38:43.576Z"
   },
   {
    "duration": -10254,
    "start_time": "2022-02-03T14:38:43.582Z"
   },
   {
    "duration": -10257,
    "start_time": "2022-02-03T14:38:43.588Z"
   },
   {
    "duration": -10263,
    "start_time": "2022-02-03T14:38:43.596Z"
   },
   {
    "duration": -10267,
    "start_time": "2022-02-03T14:38:43.601Z"
   },
   {
    "duration": -10273,
    "start_time": "2022-02-03T14:38:43.609Z"
   },
   {
    "duration": -10276,
    "start_time": "2022-02-03T14:38:43.614Z"
   },
   {
    "duration": -10281,
    "start_time": "2022-02-03T14:38:43.620Z"
   },
   {
    "duration": 43,
    "start_time": "2022-02-03T14:39:19.350Z"
   },
   {
    "duration": 1361,
    "start_time": "2022-02-03T14:44:29.124Z"
   },
   {
    "duration": 573,
    "start_time": "2022-02-03T14:44:30.487Z"
   },
   {
    "duration": 16,
    "start_time": "2022-02-03T14:44:31.063Z"
   },
   {
    "duration": 29,
    "start_time": "2022-02-03T14:44:31.081Z"
   },
   {
    "duration": 5,
    "start_time": "2022-02-03T14:44:31.112Z"
   },
   {
    "duration": 144,
    "start_time": "2022-02-03T14:44:31.119Z"
   },
   {
    "duration": 407,
    "start_time": "2022-02-03T14:44:31.265Z"
   },
   {
    "duration": 15,
    "start_time": "2022-02-03T14:44:31.676Z"
   },
   {
    "duration": 30,
    "start_time": "2022-02-03T14:44:31.694Z"
   },
   {
    "duration": 22,
    "start_time": "2022-02-03T14:44:31.727Z"
   },
   {
    "duration": 6,
    "start_time": "2022-02-03T14:44:31.752Z"
   },
   {
    "duration": 97,
    "start_time": "2022-02-03T14:44:31.760Z"
   },
   {
    "duration": 10,
    "start_time": "2022-02-03T14:44:31.860Z"
   },
   {
    "duration": 21,
    "start_time": "2022-02-03T14:44:31.872Z"
   },
   {
    "duration": 30,
    "start_time": "2022-02-03T14:44:31.896Z"
   },
   {
    "duration": 61,
    "start_time": "2022-02-03T14:44:31.929Z"
   },
   {
    "duration": 35,
    "start_time": "2022-02-03T14:44:31.993Z"
   },
   {
    "duration": 9,
    "start_time": "2022-02-03T14:44:32.030Z"
   },
   {
    "duration": 7,
    "start_time": "2022-02-03T14:44:32.041Z"
   },
   {
    "duration": 9,
    "start_time": "2022-02-03T14:44:32.050Z"
   },
   {
    "duration": 139,
    "start_time": "2022-02-03T14:44:32.061Z"
   },
   {
    "duration": 81,
    "start_time": "2022-02-03T14:44:32.202Z"
   },
   {
    "duration": 75,
    "start_time": "2022-02-03T14:44:32.291Z"
   },
   {
    "duration": 13,
    "start_time": "2022-02-03T14:44:32.371Z"
   },
   {
    "duration": 23,
    "start_time": "2022-02-03T14:44:32.386Z"
   },
   {
    "duration": 19,
    "start_time": "2022-02-03T14:44:32.424Z"
   },
   {
    "duration": 101,
    "start_time": "2022-02-03T14:44:32.446Z"
   },
   {
    "duration": 46,
    "start_time": "2022-02-03T14:44:32.550Z"
   },
   {
    "duration": 62,
    "start_time": "2022-02-03T14:44:32.599Z"
   },
   {
    "duration": 5,
    "start_time": "2022-02-03T14:44:32.664Z"
   },
   {
    "duration": 9,
    "start_time": "2022-02-03T14:44:32.672Z"
   },
   {
    "duration": 42,
    "start_time": "2022-02-03T14:44:32.683Z"
   },
   {
    "duration": 7,
    "start_time": "2022-02-03T14:44:32.727Z"
   },
   {
    "duration": 9,
    "start_time": "2022-02-03T14:44:32.736Z"
   },
   {
    "duration": 23,
    "start_time": "2022-02-03T14:44:32.748Z"
   },
   {
    "duration": 5,
    "start_time": "2022-02-03T14:44:32.774Z"
   },
   {
    "duration": 69,
    "start_time": "2022-02-03T14:44:32.782Z"
   },
   {
    "duration": 6,
    "start_time": "2022-02-03T14:44:32.853Z"
   },
   {
    "duration": 26,
    "start_time": "2022-02-03T14:44:32.861Z"
   },
   {
    "duration": 16539,
    "start_time": "2022-02-03T14:44:32.889Z"
   },
   {
    "duration": 21,
    "start_time": "2022-02-03T14:44:49.431Z"
   },
   {
    "duration": 35,
    "start_time": "2022-02-03T14:44:49.454Z"
   },
   {
    "duration": 417,
    "start_time": "2022-02-03T14:44:49.492Z"
   },
   {
    "duration": 389,
    "start_time": "2022-02-03T14:44:49.912Z"
   },
   {
    "duration": 48,
    "start_time": "2022-02-03T14:44:50.303Z"
   },
   {
    "duration": 533,
    "start_time": "2022-02-03T14:44:50.353Z"
   },
   {
    "duration": 56,
    "start_time": "2022-02-03T14:44:50.889Z"
   },
   {
    "duration": 493,
    "start_time": "2022-02-03T14:44:50.948Z"
   },
   {
    "duration": 39,
    "start_time": "2022-02-03T14:44:51.444Z"
   },
   {
    "duration": 1024,
    "start_time": "2022-02-03T14:44:51.486Z"
   },
   {
    "duration": 44,
    "start_time": "2022-02-03T14:44:52.513Z"
   },
   {
    "duration": 926,
    "start_time": "2022-02-03T14:44:52.560Z"
   },
   {
    "duration": 51,
    "start_time": "2022-02-03T14:44:53.489Z"
   },
   {
    "duration": 485,
    "start_time": "2022-02-03T14:44:53.542Z"
   },
   {
    "duration": 36,
    "start_time": "2022-02-03T14:44:54.030Z"
   },
   {
    "duration": 893,
    "start_time": "2022-02-03T14:44:54.068Z"
   },
   {
    "duration": 269,
    "start_time": "2022-02-03T14:44:54.963Z"
   },
   {
    "duration": 42,
    "start_time": "2022-02-03T14:44:55.235Z"
   },
   {
    "duration": 1016,
    "start_time": "2022-02-03T14:44:55.280Z"
   },
   {
    "duration": 520,
    "start_time": "2022-02-03T14:44:56.298Z"
   },
   {
    "duration": 22,
    "start_time": "2022-02-03T14:44:56.824Z"
   },
   {
    "duration": 33,
    "start_time": "2022-02-03T14:44:56.848Z"
   },
   {
    "duration": 1158,
    "start_time": "2022-02-03T14:44:56.884Z"
   },
   {
    "duration": 15,
    "start_time": "2022-02-03T14:44:58.045Z"
   },
   {
    "duration": 10,
    "start_time": "2022-02-03T14:44:58.063Z"
   },
   {
    "duration": 52,
    "start_time": "2022-02-03T14:44:58.075Z"
   },
   {
    "duration": 16,
    "start_time": "2022-02-03T14:44:58.130Z"
   },
   {
    "duration": 14,
    "start_time": "2022-02-03T14:44:58.154Z"
   },
   {
    "duration": 54,
    "start_time": "2022-02-03T14:44:58.171Z"
   },
   {
    "duration": 1092,
    "start_time": "2022-02-04T06:55:28.207Z"
   },
   {
    "duration": 483,
    "start_time": "2022-02-04T06:55:29.301Z"
   },
   {
    "duration": 13,
    "start_time": "2022-02-04T06:55:29.787Z"
   },
   {
    "duration": 25,
    "start_time": "2022-02-04T06:55:29.803Z"
   },
   {
    "duration": 5,
    "start_time": "2022-02-04T06:55:29.830Z"
   },
   {
    "duration": 129,
    "start_time": "2022-02-04T06:55:29.837Z"
   },
   {
    "duration": 312,
    "start_time": "2022-02-04T06:55:29.969Z"
   },
   {
    "duration": 24,
    "start_time": "2022-02-04T06:55:30.283Z"
   },
   {
    "duration": 9,
    "start_time": "2022-02-04T06:55:30.311Z"
   },
   {
    "duration": 25,
    "start_time": "2022-02-04T06:55:30.322Z"
   },
   {
    "duration": 7,
    "start_time": "2022-02-04T06:55:30.349Z"
   },
   {
    "duration": 67,
    "start_time": "2022-02-04T06:55:30.357Z"
   },
   {
    "duration": 7,
    "start_time": "2022-02-04T06:55:30.426Z"
   },
   {
    "duration": 22,
    "start_time": "2022-02-04T06:55:30.435Z"
   },
   {
    "duration": 9,
    "start_time": "2022-02-04T06:55:30.459Z"
   },
   {
    "duration": 76,
    "start_time": "2022-02-04T06:55:30.470Z"
   },
   {
    "duration": 12,
    "start_time": "2022-02-04T06:55:30.549Z"
   },
   {
    "duration": 17,
    "start_time": "2022-02-04T06:55:30.563Z"
   },
   {
    "duration": 5,
    "start_time": "2022-02-04T06:55:30.599Z"
   },
   {
    "duration": 18,
    "start_time": "2022-02-04T06:55:30.607Z"
   },
   {
    "duration": 89,
    "start_time": "2022-02-04T06:55:30.628Z"
   },
   {
    "duration": 56,
    "start_time": "2022-02-04T06:55:30.720Z"
   },
   {
    "duration": 62,
    "start_time": "2022-02-04T06:55:30.778Z"
   },
   {
    "duration": 10,
    "start_time": "2022-02-04T06:55:30.842Z"
   },
   {
    "duration": 17,
    "start_time": "2022-02-04T06:55:30.854Z"
   },
   {
    "duration": 34,
    "start_time": "2022-02-04T06:55:30.873Z"
   },
   {
    "duration": 65,
    "start_time": "2022-02-04T06:55:30.913Z"
   },
   {
    "duration": 37,
    "start_time": "2022-02-04T06:55:30.999Z"
   },
   {
    "duration": 31,
    "start_time": "2022-02-04T06:55:31.038Z"
   },
   {
    "duration": 30,
    "start_time": "2022-02-04T06:55:31.071Z"
   },
   {
    "duration": 20,
    "start_time": "2022-02-04T06:55:31.103Z"
   },
   {
    "duration": 16,
    "start_time": "2022-02-04T06:55:31.125Z"
   },
   {
    "duration": 8,
    "start_time": "2022-02-04T06:55:31.143Z"
   },
   {
    "duration": 7,
    "start_time": "2022-02-04T06:55:31.153Z"
   },
   {
    "duration": 19,
    "start_time": "2022-02-04T06:55:31.162Z"
   },
   {
    "duration": 18,
    "start_time": "2022-02-04T06:55:31.183Z"
   },
   {
    "duration": 24,
    "start_time": "2022-02-04T06:55:31.204Z"
   },
   {
    "duration": 5,
    "start_time": "2022-02-04T06:55:31.231Z"
   },
   {
    "duration": 18,
    "start_time": "2022-02-04T06:55:31.238Z"
   },
   {
    "duration": 10387,
    "start_time": "2022-02-04T06:55:31.258Z"
   },
   {
    "duration": 15,
    "start_time": "2022-02-04T06:55:41.648Z"
   },
   {
    "duration": 41,
    "start_time": "2022-02-04T06:55:41.665Z"
   },
   {
    "duration": 316,
    "start_time": "2022-02-04T06:55:41.708Z"
   },
   {
    "duration": 296,
    "start_time": "2022-02-04T06:55:42.026Z"
   },
   {
    "duration": 25,
    "start_time": "2022-02-04T06:55:42.324Z"
   },
   {
    "duration": 423,
    "start_time": "2022-02-04T06:55:42.351Z"
   },
   {
    "duration": 32,
    "start_time": "2022-02-04T06:55:42.775Z"
   },
   {
    "duration": 377,
    "start_time": "2022-02-04T06:55:42.809Z"
   },
   {
    "duration": 27,
    "start_time": "2022-02-04T06:55:43.188Z"
   },
   {
    "duration": 762,
    "start_time": "2022-02-04T06:55:43.217Z"
   },
   {
    "duration": 35,
    "start_time": "2022-02-04T06:55:43.981Z"
   },
   {
    "duration": 683,
    "start_time": "2022-02-04T06:55:44.018Z"
   },
   {
    "duration": 27,
    "start_time": "2022-02-04T06:55:44.703Z"
   },
   {
    "duration": 388,
    "start_time": "2022-02-04T06:55:44.733Z"
   },
   {
    "duration": 27,
    "start_time": "2022-02-04T06:55:45.123Z"
   },
   {
    "duration": 677,
    "start_time": "2022-02-04T06:55:45.153Z"
   },
   {
    "duration": 209,
    "start_time": "2022-02-04T06:55:45.832Z"
   },
   {
    "duration": 29,
    "start_time": "2022-02-04T06:55:46.043Z"
   },
   {
    "duration": 775,
    "start_time": "2022-02-04T06:55:46.074Z"
   },
   {
    "duration": 379,
    "start_time": "2022-02-04T06:55:46.850Z"
   },
   {
    "duration": 16,
    "start_time": "2022-02-04T06:55:47.231Z"
   },
   {
    "duration": 25,
    "start_time": "2022-02-04T06:55:47.249Z"
   },
   {
    "duration": 860,
    "start_time": "2022-02-04T06:55:47.276Z"
   },
   {
    "duration": 10,
    "start_time": "2022-02-04T06:55:48.138Z"
   },
   {
    "duration": 12,
    "start_time": "2022-02-04T06:55:48.150Z"
   },
   {
    "duration": 8,
    "start_time": "2022-02-04T06:55:48.164Z"
   },
   {
    "duration": 31,
    "start_time": "2022-02-04T06:55:48.174Z"
   },
   {
    "duration": 11,
    "start_time": "2022-02-04T06:55:48.207Z"
   },
   {
    "duration": 10,
    "start_time": "2022-02-04T06:55:48.220Z"
   },
   {
    "duration": 332,
    "start_time": "2022-02-07T17:39:13.353Z"
   },
   {
    "duration": 1165,
    "start_time": "2022-02-07T17:39:32.754Z"
   },
   {
    "duration": 454,
    "start_time": "2022-02-07T17:39:33.921Z"
   },
   {
    "duration": 11,
    "start_time": "2022-02-07T17:39:34.377Z"
   },
   {
    "duration": 26,
    "start_time": "2022-02-07T17:39:34.390Z"
   },
   {
    "duration": 4,
    "start_time": "2022-02-07T17:39:34.418Z"
   },
   {
    "duration": 120,
    "start_time": "2022-02-07T17:39:34.424Z"
   },
   {
    "duration": 284,
    "start_time": "2022-02-07T17:39:34.546Z"
   },
   {
    "duration": 15,
    "start_time": "2022-02-07T17:39:34.834Z"
   },
   {
    "duration": 9,
    "start_time": "2022-02-07T17:39:34.852Z"
   },
   {
    "duration": 44,
    "start_time": "2022-02-07T17:39:34.863Z"
   },
   {
    "duration": 5,
    "start_time": "2022-02-07T17:39:34.909Z"
   },
   {
    "duration": 52,
    "start_time": "2022-02-07T17:39:34.916Z"
   },
   {
    "duration": 8,
    "start_time": "2022-02-07T17:39:34.970Z"
   },
   {
    "duration": 39,
    "start_time": "2022-02-07T17:39:34.980Z"
   },
   {
    "duration": 9,
    "start_time": "2022-02-07T17:39:35.021Z"
   },
   {
    "duration": 53,
    "start_time": "2022-02-07T17:39:35.032Z"
   },
   {
    "duration": 24,
    "start_time": "2022-02-07T17:39:35.087Z"
   },
   {
    "duration": 9,
    "start_time": "2022-02-07T17:39:35.113Z"
   },
   {
    "duration": 10,
    "start_time": "2022-02-07T17:39:35.124Z"
   },
   {
    "duration": 13,
    "start_time": "2022-02-07T17:39:35.136Z"
   },
   {
    "duration": 94,
    "start_time": "2022-02-07T17:39:35.151Z"
   },
   {
    "duration": 66,
    "start_time": "2022-02-07T17:39:35.247Z"
   },
   {
    "duration": 45,
    "start_time": "2022-02-07T17:39:35.318Z"
   },
   {
    "duration": 9,
    "start_time": "2022-02-07T17:39:35.366Z"
   },
   {
    "duration": 34,
    "start_time": "2022-02-07T17:39:35.377Z"
   },
   {
    "duration": 17,
    "start_time": "2022-02-07T17:39:35.413Z"
   },
   {
    "duration": 78,
    "start_time": "2022-02-07T17:39:35.432Z"
   },
   {
    "duration": 35,
    "start_time": "2022-02-07T17:39:35.512Z"
   },
   {
    "duration": 28,
    "start_time": "2022-02-07T17:39:35.548Z"
   },
   {
    "duration": 5,
    "start_time": "2022-02-07T17:39:35.578Z"
   },
   {
    "duration": 11,
    "start_time": "2022-02-07T17:39:35.609Z"
   },
   {
    "duration": 7,
    "start_time": "2022-02-07T17:39:35.622Z"
   },
   {
    "duration": 10,
    "start_time": "2022-02-07T17:39:35.631Z"
   },
   {
    "duration": 9,
    "start_time": "2022-02-07T17:39:35.644Z"
   },
   {
    "duration": 18,
    "start_time": "2022-02-07T17:39:35.655Z"
   },
   {
    "duration": 5,
    "start_time": "2022-02-07T17:39:35.674Z"
   },
   {
    "duration": 19,
    "start_time": "2022-02-07T17:39:35.708Z"
   },
   {
    "duration": 5,
    "start_time": "2022-02-07T17:39:35.728Z"
   },
   {
    "duration": 21,
    "start_time": "2022-02-07T17:39:35.735Z"
   },
   {
    "duration": 11089,
    "start_time": "2022-02-07T17:39:35.758Z"
   },
   {
    "duration": 25,
    "start_time": "2022-02-07T17:39:46.850Z"
   },
   {
    "duration": 54,
    "start_time": "2022-02-07T17:39:46.878Z"
   },
   {
    "duration": 388,
    "start_time": "2022-02-07T17:39:46.935Z"
   },
   {
    "duration": 296,
    "start_time": "2022-02-07T17:39:47.326Z"
   },
   {
    "duration": 26,
    "start_time": "2022-02-07T17:39:47.624Z"
   },
   {
    "duration": 397,
    "start_time": "2022-02-07T17:39:47.652Z"
   },
   {
    "duration": 27,
    "start_time": "2022-02-07T17:39:48.051Z"
   },
   {
    "duration": 352,
    "start_time": "2022-02-07T17:39:48.080Z"
   },
   {
    "duration": 27,
    "start_time": "2022-02-07T17:39:48.435Z"
   },
   {
    "duration": 696,
    "start_time": "2022-02-07T17:39:48.464Z"
   },
   {
    "duration": 26,
    "start_time": "2022-02-07T17:39:49.162Z"
   },
   {
    "duration": 637,
    "start_time": "2022-02-07T17:39:49.189Z"
   },
   {
    "duration": 27,
    "start_time": "2022-02-07T17:39:49.829Z"
   },
   {
    "duration": 368,
    "start_time": "2022-02-07T17:39:49.858Z"
   },
   {
    "duration": 27,
    "start_time": "2022-02-07T17:39:50.228Z"
   },
   {
    "duration": 652,
    "start_time": "2022-02-07T17:39:50.257Z"
   },
   {
    "duration": 211,
    "start_time": "2022-02-07T17:39:50.911Z"
   },
   {
    "duration": 28,
    "start_time": "2022-02-07T17:39:51.124Z"
   },
   {
    "duration": 798,
    "start_time": "2022-02-07T17:39:51.154Z"
   },
   {
    "duration": 376,
    "start_time": "2022-02-07T17:39:51.954Z"
   },
   {
    "duration": 17,
    "start_time": "2022-02-07T17:39:52.332Z"
   },
   {
    "duration": 79,
    "start_time": "2022-02-07T17:39:52.351Z"
   },
   {
    "duration": 910,
    "start_time": "2022-02-07T17:39:52.432Z"
   },
   {
    "duration": 10,
    "start_time": "2022-02-07T17:39:53.344Z"
   },
   {
    "duration": 20,
    "start_time": "2022-02-07T17:39:53.357Z"
   },
   {
    "duration": 16,
    "start_time": "2022-02-07T17:39:53.379Z"
   },
   {
    "duration": 26,
    "start_time": "2022-02-07T17:39:53.397Z"
   },
   {
    "duration": 27,
    "start_time": "2022-02-07T17:39:53.430Z"
   },
   {
    "duration": 16,
    "start_time": "2022-02-07T17:39:53.460Z"
   },
   {
    "duration": 38,
    "start_time": "2022-02-07T17:40:44.120Z"
   },
   {
    "duration": 34,
    "start_time": "2022-02-07T17:42:34.398Z"
   },
   {
    "duration": 1164,
    "start_time": "2022-02-07T17:43:27.439Z"
   },
   {
    "duration": 467,
    "start_time": "2022-02-07T17:43:28.607Z"
   },
   {
    "duration": 12,
    "start_time": "2022-02-07T17:43:29.076Z"
   },
   {
    "duration": 25,
    "start_time": "2022-02-07T17:43:29.090Z"
   },
   {
    "duration": 4,
    "start_time": "2022-02-07T17:43:29.117Z"
   },
   {
    "duration": 114,
    "start_time": "2022-02-07T17:43:29.123Z"
   },
   {
    "duration": 282,
    "start_time": "2022-02-07T17:43:29.239Z"
   },
   {
    "duration": 13,
    "start_time": "2022-02-07T17:43:29.524Z"
   },
   {
    "duration": 8,
    "start_time": "2022-02-07T17:43:29.540Z"
   },
   {
    "duration": 24,
    "start_time": "2022-02-07T17:43:29.550Z"
   },
   {
    "duration": 5,
    "start_time": "2022-02-07T17:43:29.575Z"
   },
   {
    "duration": 45,
    "start_time": "2022-02-07T17:43:29.607Z"
   },
   {
    "duration": 8,
    "start_time": "2022-02-07T17:43:29.654Z"
   },
   {
    "duration": 18,
    "start_time": "2022-02-07T17:43:29.664Z"
   },
   {
    "duration": 5,
    "start_time": "2022-02-07T17:43:29.707Z"
   },
   {
    "duration": 58,
    "start_time": "2022-02-07T17:43:29.713Z"
   },
   {
    "duration": 12,
    "start_time": "2022-02-07T17:43:29.773Z"
   },
   {
    "duration": 26,
    "start_time": "2022-02-07T17:43:29.786Z"
   },
   {
    "duration": 7,
    "start_time": "2022-02-07T17:43:29.814Z"
   },
   {
    "duration": 8,
    "start_time": "2022-02-07T17:43:29.823Z"
   },
   {
    "duration": 94,
    "start_time": "2022-02-07T17:43:29.833Z"
   },
   {
    "duration": 56,
    "start_time": "2022-02-07T17:43:29.929Z"
   },
   {
    "duration": 62,
    "start_time": "2022-02-07T17:43:29.989Z"
   },
   {
    "duration": 10,
    "start_time": "2022-02-07T17:43:30.054Z"
   },
   {
    "duration": 26,
    "start_time": "2022-02-07T17:43:30.066Z"
   },
   {
    "duration": 27,
    "start_time": "2022-02-07T17:43:30.094Z"
   },
   {
    "duration": 61,
    "start_time": "2022-02-07T17:43:30.123Z"
   },
   {
    "duration": 47,
    "start_time": "2022-02-07T17:43:30.186Z"
   },
   {
    "duration": 29,
    "start_time": "2022-02-07T17:43:30.235Z"
   },
   {
    "duration": 5,
    "start_time": "2022-02-07T17:43:30.266Z"
   },
   {
    "duration": 23,
    "start_time": "2022-02-07T17:43:30.273Z"
   },
   {
    "duration": 21,
    "start_time": "2022-02-07T17:43:30.299Z"
   },
   {
    "duration": 25,
    "start_time": "2022-02-07T17:43:30.322Z"
   },
   {
    "duration": 21,
    "start_time": "2022-02-07T17:43:30.349Z"
   },
   {
    "duration": 37,
    "start_time": "2022-02-07T17:43:30.372Z"
   },
   {
    "duration": 19,
    "start_time": "2022-02-07T17:43:30.411Z"
   },
   {
    "duration": 47,
    "start_time": "2022-02-07T17:43:30.432Z"
   },
   {
    "duration": 10,
    "start_time": "2022-02-07T17:43:30.481Z"
   },
   {
    "duration": 57,
    "start_time": "2022-02-07T17:43:30.492Z"
   },
   {
    "duration": 10791,
    "start_time": "2022-02-07T17:43:30.551Z"
   },
   {
    "duration": 20,
    "start_time": "2022-02-07T17:43:41.343Z"
   },
   {
    "duration": 43,
    "start_time": "2022-02-07T17:43:41.366Z"
   },
   {
    "duration": 299,
    "start_time": "2022-02-07T17:43:41.412Z"
   },
   {
    "duration": 265,
    "start_time": "2022-02-07T17:43:41.714Z"
   },
   {
    "duration": 40,
    "start_time": "2022-02-07T17:43:41.981Z"
   },
   {
    "duration": 369,
    "start_time": "2022-02-07T17:43:42.024Z"
   },
   {
    "duration": 36,
    "start_time": "2022-02-07T17:43:42.395Z"
   },
   {
    "duration": 336,
    "start_time": "2022-02-07T17:43:42.433Z"
   },
   {
    "duration": 38,
    "start_time": "2022-02-07T17:43:42.771Z"
   },
   {
    "duration": 680,
    "start_time": "2022-02-07T17:43:42.811Z"
   },
   {
    "duration": 40,
    "start_time": "2022-02-07T17:43:43.493Z"
   },
   {
    "duration": 663,
    "start_time": "2022-02-07T17:43:43.536Z"
   },
   {
    "duration": 27,
    "start_time": "2022-02-07T17:43:44.201Z"
   },
   {
    "duration": 375,
    "start_time": "2022-02-07T17:43:44.230Z"
   },
   {
    "duration": 28,
    "start_time": "2022-02-07T17:43:44.607Z"
   },
   {
    "duration": 630,
    "start_time": "2022-02-07T17:43:44.638Z"
   },
   {
    "duration": 202,
    "start_time": "2022-02-07T17:43:45.271Z"
   },
   {
    "duration": 41,
    "start_time": "2022-02-07T17:43:45.475Z"
   },
   {
    "duration": 774,
    "start_time": "2022-02-07T17:43:45.519Z"
   },
   {
    "duration": 337,
    "start_time": "2022-02-07T17:43:46.295Z"
   },
   {
    "duration": 17,
    "start_time": "2022-02-07T17:43:46.633Z"
   },
   {
    "duration": 24,
    "start_time": "2022-02-07T17:43:46.652Z"
   },
   {
    "duration": 814,
    "start_time": "2022-02-07T17:43:46.678Z"
   },
   {
    "duration": 17,
    "start_time": "2022-02-07T17:43:47.494Z"
   },
   {
    "duration": 8,
    "start_time": "2022-02-07T17:43:47.513Z"
   },
   {
    "duration": 9,
    "start_time": "2022-02-07T17:43:47.523Z"
   },
   {
    "duration": 13,
    "start_time": "2022-02-07T17:43:47.534Z"
   },
   {
    "duration": 12,
    "start_time": "2022-02-07T17:43:47.553Z"
   },
   {
    "duration": 42,
    "start_time": "2022-02-07T17:43:47.567Z"
   },
   {
    "duration": 1156,
    "start_time": "2022-02-08T11:03:01.986Z"
   },
   {
    "duration": 405,
    "start_time": "2022-02-08T11:03:03.144Z"
   },
   {
    "duration": 13,
    "start_time": "2022-02-08T11:03:03.551Z"
   },
   {
    "duration": 26,
    "start_time": "2022-02-08T11:03:03.566Z"
   },
   {
    "duration": 3,
    "start_time": "2022-02-08T11:03:03.594Z"
   },
   {
    "duration": 128,
    "start_time": "2022-02-08T11:03:03.599Z"
   },
   {
    "duration": 277,
    "start_time": "2022-02-08T11:03:03.729Z"
   },
   {
    "duration": 11,
    "start_time": "2022-02-08T11:03:04.009Z"
   },
   {
    "duration": 7,
    "start_time": "2022-02-08T11:03:04.022Z"
   },
   {
    "duration": 40,
    "start_time": "2022-02-08T11:03:04.030Z"
   },
   {
    "duration": 4,
    "start_time": "2022-02-08T11:03:04.072Z"
   },
   {
    "duration": 50,
    "start_time": "2022-02-08T11:03:04.078Z"
   },
   {
    "duration": 7,
    "start_time": "2022-02-08T11:03:04.129Z"
   },
   {
    "duration": 46,
    "start_time": "2022-02-08T11:03:04.138Z"
   },
   {
    "duration": 4,
    "start_time": "2022-02-08T11:03:04.186Z"
   },
   {
    "duration": 52,
    "start_time": "2022-02-08T11:03:04.192Z"
   },
   {
    "duration": 28,
    "start_time": "2022-02-08T11:03:04.246Z"
   },
   {
    "duration": 17,
    "start_time": "2022-02-08T11:03:04.276Z"
   },
   {
    "duration": 6,
    "start_time": "2022-02-08T11:03:04.295Z"
   },
   {
    "duration": 7,
    "start_time": "2022-02-08T11:03:04.302Z"
   },
   {
    "duration": 104,
    "start_time": "2022-02-08T11:03:04.311Z"
   },
   {
    "duration": 70,
    "start_time": "2022-02-08T11:03:04.416Z"
   },
   {
    "duration": 38,
    "start_time": "2022-02-08T11:03:04.491Z"
   },
   {
    "duration": 8,
    "start_time": "2022-02-08T11:03:04.532Z"
   },
   {
    "duration": 35,
    "start_time": "2022-02-08T11:03:04.542Z"
   },
   {
    "duration": 14,
    "start_time": "2022-02-08T11:03:04.581Z"
   },
   {
    "duration": 102,
    "start_time": "2022-02-08T11:03:04.596Z"
   },
   {
    "duration": 34,
    "start_time": "2022-02-08T11:03:04.700Z"
   },
   {
    "duration": 55,
    "start_time": "2022-02-08T11:03:04.736Z"
   },
   {
    "duration": 4,
    "start_time": "2022-02-08T11:03:04.792Z"
   },
   {
    "duration": 9,
    "start_time": "2022-02-08T11:03:04.798Z"
   },
   {
    "duration": 7,
    "start_time": "2022-02-08T11:03:04.809Z"
   },
   {
    "duration": 9,
    "start_time": "2022-02-08T11:03:04.817Z"
   },
   {
    "duration": 15,
    "start_time": "2022-02-08T11:03:04.827Z"
   },
   {
    "duration": 39,
    "start_time": "2022-02-08T11:03:04.844Z"
   },
   {
    "duration": 4,
    "start_time": "2022-02-08T11:03:04.885Z"
   },
   {
    "duration": 18,
    "start_time": "2022-02-08T11:03:04.891Z"
   },
   {
    "duration": 4,
    "start_time": "2022-02-08T11:03:04.911Z"
   },
   {
    "duration": 44,
    "start_time": "2022-02-08T11:03:04.916Z"
   },
   {
    "duration": 10109,
    "start_time": "2022-02-08T11:03:04.962Z"
   },
   {
    "duration": 19,
    "start_time": "2022-02-08T11:03:15.074Z"
   },
   {
    "duration": 34,
    "start_time": "2022-02-08T11:03:15.095Z"
   },
   {
    "duration": 314,
    "start_time": "2022-02-08T11:03:15.130Z"
   },
   {
    "duration": 258,
    "start_time": "2022-02-08T11:03:15.445Z"
   },
   {
    "duration": 23,
    "start_time": "2022-02-08T11:03:15.705Z"
   },
   {
    "duration": 347,
    "start_time": "2022-02-08T11:03:15.730Z"
   },
   {
    "duration": 29,
    "start_time": "2022-02-08T11:03:16.079Z"
   },
   {
    "duration": 335,
    "start_time": "2022-02-08T11:03:16.110Z"
   },
   {
    "duration": 32,
    "start_time": "2022-02-08T11:03:16.446Z"
   },
   {
    "duration": 675,
    "start_time": "2022-02-08T11:03:16.481Z"
   },
   {
    "duration": 25,
    "start_time": "2022-02-08T11:03:17.159Z"
   },
   {
    "duration": 633,
    "start_time": "2022-02-08T11:03:17.186Z"
   },
   {
    "duration": 22,
    "start_time": "2022-02-08T11:03:17.821Z"
   },
   {
    "duration": 345,
    "start_time": "2022-02-08T11:03:17.845Z"
   },
   {
    "duration": 24,
    "start_time": "2022-02-08T11:03:18.191Z"
   },
   {
    "duration": 576,
    "start_time": "2022-02-08T11:03:18.216Z"
   },
   {
    "duration": 186,
    "start_time": "2022-02-08T11:03:18.794Z"
   },
   {
    "duration": 26,
    "start_time": "2022-02-08T11:03:18.983Z"
   },
   {
    "duration": 690,
    "start_time": "2022-02-08T11:03:19.011Z"
   },
   {
    "duration": 352,
    "start_time": "2022-02-08T11:03:19.703Z"
   },
   {
    "duration": 23,
    "start_time": "2022-02-08T11:03:20.057Z"
   },
   {
    "duration": 34,
    "start_time": "2022-02-08T11:03:20.082Z"
   },
   {
    "duration": 854,
    "start_time": "2022-02-08T11:03:20.118Z"
   },
   {
    "duration": 10,
    "start_time": "2022-02-08T11:03:20.974Z"
   },
   {
    "duration": 14,
    "start_time": "2022-02-08T11:03:20.985Z"
   },
   {
    "duration": 13,
    "start_time": "2022-02-08T11:03:21.001Z"
   },
   {
    "duration": 12,
    "start_time": "2022-02-08T11:03:21.015Z"
   },
   {
    "duration": 8,
    "start_time": "2022-02-08T11:03:21.032Z"
   },
   {
    "duration": 23,
    "start_time": "2022-02-08T11:03:21.042Z"
   },
   {
    "duration": 1380,
    "start_time": "2022-02-17T11:48:06.094Z"
   },
   {
    "duration": 613,
    "start_time": "2022-02-17T11:48:07.477Z"
   },
   {
    "duration": 22,
    "start_time": "2022-02-17T11:48:08.094Z"
   },
   {
    "duration": 41,
    "start_time": "2022-02-17T11:48:08.119Z"
   },
   {
    "duration": 5,
    "start_time": "2022-02-17T11:48:08.163Z"
   },
   {
    "duration": 167,
    "start_time": "2022-02-17T11:48:08.170Z"
   },
   {
    "duration": 422,
    "start_time": "2022-02-17T11:48:08.339Z"
   },
   {
    "duration": 20,
    "start_time": "2022-02-17T11:48:08.766Z"
   },
   {
    "duration": 32,
    "start_time": "2022-02-17T11:48:08.789Z"
   },
   {
    "duration": 25,
    "start_time": "2022-02-17T11:48:08.824Z"
   },
   {
    "duration": 6,
    "start_time": "2022-02-17T11:48:08.851Z"
   },
   {
    "duration": 101,
    "start_time": "2022-02-17T11:48:08.859Z"
   },
   {
    "duration": 10,
    "start_time": "2022-02-17T11:48:08.963Z"
   },
   {
    "duration": 37,
    "start_time": "2022-02-17T11:48:08.975Z"
   },
   {
    "duration": 6,
    "start_time": "2022-02-17T11:48:09.014Z"
   },
   {
    "duration": 60,
    "start_time": "2022-02-17T11:48:09.022Z"
   },
   {
    "duration": 35,
    "start_time": "2022-02-17T11:48:09.085Z"
   },
   {
    "duration": 14,
    "start_time": "2022-02-17T11:48:09.122Z"
   },
   {
    "duration": 7,
    "start_time": "2022-02-17T11:48:09.139Z"
   },
   {
    "duration": 11,
    "start_time": "2022-02-17T11:48:09.148Z"
   },
   {
    "duration": 135,
    "start_time": "2022-02-17T11:48:09.162Z"
   },
   {
    "duration": 79,
    "start_time": "2022-02-17T11:48:09.300Z"
   },
   {
    "duration": 65,
    "start_time": "2022-02-17T11:48:09.385Z"
   },
   {
    "duration": 14,
    "start_time": "2022-02-17T11:48:09.454Z"
   },
   {
    "duration": 16,
    "start_time": "2022-02-17T11:48:09.470Z"
   },
   {
    "duration": 53,
    "start_time": "2022-02-17T11:48:09.488Z"
   },
   {
    "duration": 83,
    "start_time": "2022-02-17T11:48:09.544Z"
   },
   {
    "duration": 42,
    "start_time": "2022-02-17T11:48:09.629Z"
   },
   {
    "duration": 56,
    "start_time": "2022-02-17T11:48:09.673Z"
   },
   {
    "duration": 5,
    "start_time": "2022-02-17T11:48:09.731Z"
   },
   {
    "duration": 7,
    "start_time": "2022-02-17T11:48:09.738Z"
   },
   {
    "duration": 9,
    "start_time": "2022-02-17T11:48:09.747Z"
   },
   {
    "duration": 7,
    "start_time": "2022-02-17T11:48:09.758Z"
   },
   {
    "duration": 44,
    "start_time": "2022-02-17T11:48:09.768Z"
   },
   {
    "duration": 21,
    "start_time": "2022-02-17T11:48:09.814Z"
   },
   {
    "duration": 5,
    "start_time": "2022-02-17T11:48:09.837Z"
   },
   {
    "duration": 23,
    "start_time": "2022-02-17T11:48:09.844Z"
   },
   {
    "duration": 41,
    "start_time": "2022-02-17T11:48:09.870Z"
   },
   {
    "duration": 24,
    "start_time": "2022-02-17T11:48:09.914Z"
   },
   {
    "duration": 19048,
    "start_time": "2022-02-17T11:48:09.941Z"
   },
   {
    "duration": 32,
    "start_time": "2022-02-17T11:48:28.991Z"
   },
   {
    "duration": 39,
    "start_time": "2022-02-17T11:48:29.025Z"
   },
   {
    "duration": 495,
    "start_time": "2022-02-17T11:48:29.066Z"
   },
   {
    "duration": 440,
    "start_time": "2022-02-17T11:48:29.565Z"
   },
   {
    "duration": 57,
    "start_time": "2022-02-17T11:48:30.012Z"
   },
   {
    "duration": 980,
    "start_time": "2022-02-17T11:48:30.072Z"
   },
   {
    "duration": 69,
    "start_time": "2022-02-17T11:48:31.055Z"
   },
   {
    "duration": 588,
    "start_time": "2022-02-17T11:48:31.127Z"
   },
   {
    "duration": 52,
    "start_time": "2022-02-17T11:48:31.718Z"
   },
   {
    "duration": 1432,
    "start_time": "2022-02-17T11:48:31.773Z"
   },
   {
    "duration": 40,
    "start_time": "2022-02-17T11:48:33.212Z"
   },
   {
    "duration": 1393,
    "start_time": "2022-02-17T11:48:33.255Z"
   },
   {
    "duration": 41,
    "start_time": "2022-02-17T11:48:34.652Z"
   },
   {
    "duration": 576,
    "start_time": "2022-02-17T11:48:34.711Z"
   },
   {
    "duration": 53,
    "start_time": "2022-02-17T11:48:35.289Z"
   },
   {
    "duration": 1012,
    "start_time": "2022-02-17T11:48:35.345Z"
   },
   {
    "duration": 314,
    "start_time": "2022-02-17T11:48:36.360Z"
   },
   {
    "duration": 49,
    "start_time": "2022-02-17T11:48:36.677Z"
   },
   {
    "duration": 1240,
    "start_time": "2022-02-17T11:48:36.728Z"
   },
   {
    "duration": 644,
    "start_time": "2022-02-17T11:48:37.971Z"
   },
   {
    "duration": 26,
    "start_time": "2022-02-17T11:48:38.618Z"
   },
   {
    "duration": 65,
    "start_time": "2022-02-17T11:48:38.647Z"
   },
   {
    "duration": 1432,
    "start_time": "2022-02-17T11:48:38.719Z"
   },
   {
    "duration": 17,
    "start_time": "2022-02-17T11:48:40.154Z"
   },
   {
    "duration": 16,
    "start_time": "2022-02-17T11:48:40.174Z"
   },
   {
    "duration": 21,
    "start_time": "2022-02-17T11:48:40.193Z"
   },
   {
    "duration": 16,
    "start_time": "2022-02-17T11:48:40.217Z"
   },
   {
    "duration": 14,
    "start_time": "2022-02-17T11:48:40.242Z"
   },
   {
    "duration": 53,
    "start_time": "2022-02-17T11:48:40.260Z"
   },
   {
    "duration": 1248,
    "start_time": "2022-11-09T13:22:57.135Z"
   },
   {
    "duration": 932,
    "start_time": "2022-11-09T13:22:58.385Z"
   },
   {
    "duration": 13,
    "start_time": "2022-11-09T13:22:59.320Z"
   },
   {
    "duration": 31,
    "start_time": "2022-11-09T13:22:59.336Z"
   },
   {
    "duration": 5,
    "start_time": "2022-11-09T13:22:59.369Z"
   },
   {
    "duration": 136,
    "start_time": "2022-11-09T13:22:59.376Z"
   },
   {
    "duration": 284,
    "start_time": "2022-11-09T13:22:59.514Z"
   },
   {
    "duration": 555,
    "start_time": "2022-11-09T13:22:59.800Z"
   },
   {
    "duration": 595,
    "start_time": "2022-11-09T13:23:00.357Z"
   },
   {
    "duration": 41,
    "start_time": "2022-11-09T13:23:00.956Z"
   },
   {
    "duration": 10,
    "start_time": "2022-11-09T13:23:00.999Z"
   },
   {
    "duration": 85,
    "start_time": "2022-11-09T13:23:01.011Z"
   },
   {
    "duration": 9,
    "start_time": "2022-11-09T13:23:01.099Z"
   },
   {
    "duration": 83,
    "start_time": "2022-11-09T13:23:01.110Z"
   },
   {
    "duration": 67,
    "start_time": "2022-11-09T13:23:01.195Z"
   },
   {
    "duration": 114,
    "start_time": "2022-11-09T13:23:01.264Z"
   },
   {
    "duration": 14,
    "start_time": "2022-11-09T13:23:01.380Z"
   },
   {
    "duration": 48,
    "start_time": "2022-11-09T13:23:01.396Z"
   },
   {
    "duration": 97,
    "start_time": "2022-11-09T13:23:01.446Z"
   },
   {
    "duration": 60,
    "start_time": "2022-11-09T13:23:01.546Z"
   },
   {
    "duration": 129,
    "start_time": "2022-11-09T13:23:01.608Z"
   },
   {
    "duration": 74,
    "start_time": "2022-11-09T13:23:01.739Z"
   },
   {
    "duration": 60,
    "start_time": "2022-11-09T13:23:01.815Z"
   },
   {
    "duration": 9,
    "start_time": "2022-11-09T13:23:01.877Z"
   },
   {
    "duration": 39,
    "start_time": "2022-11-09T13:23:01.888Z"
   },
   {
    "duration": 43,
    "start_time": "2022-11-09T13:23:01.930Z"
   },
   {
    "duration": 101,
    "start_time": "2022-11-09T13:23:01.975Z"
   },
   {
    "duration": 48,
    "start_time": "2022-11-09T13:23:02.081Z"
   },
   {
    "duration": 54,
    "start_time": "2022-11-09T13:23:02.132Z"
   },
   {
    "duration": 4,
    "start_time": "2022-11-09T13:23:02.188Z"
   },
   {
    "duration": 27,
    "start_time": "2022-11-09T13:23:02.195Z"
   },
   {
    "duration": 25,
    "start_time": "2022-11-09T13:23:02.224Z"
   },
   {
    "duration": 38,
    "start_time": "2022-11-09T13:23:02.251Z"
   },
   {
    "duration": 15,
    "start_time": "2022-11-09T13:23:02.291Z"
   },
   {
    "duration": 24,
    "start_time": "2022-11-09T13:23:02.308Z"
   },
   {
    "duration": 5,
    "start_time": "2022-11-09T13:23:02.334Z"
   },
   {
    "duration": 30,
    "start_time": "2022-11-09T13:23:02.341Z"
   },
   {
    "duration": 6,
    "start_time": "2022-11-09T13:23:02.373Z"
   },
   {
    "duration": 34,
    "start_time": "2022-11-09T13:23:02.381Z"
   },
   {
    "duration": 8027,
    "start_time": "2022-11-09T13:23:02.417Z"
   },
   {
    "duration": 28,
    "start_time": "2022-11-09T13:23:10.446Z"
   },
   {
    "duration": 25,
    "start_time": "2022-11-09T13:23:10.476Z"
   },
   {
    "duration": 290,
    "start_time": "2022-11-09T13:23:10.503Z"
   },
   {
    "duration": 267,
    "start_time": "2022-11-09T13:23:10.796Z"
   },
   {
    "duration": 28,
    "start_time": "2022-11-09T13:23:11.071Z"
   },
   {
    "duration": 357,
    "start_time": "2022-11-09T13:23:11.101Z"
   },
   {
    "duration": 31,
    "start_time": "2022-11-09T13:23:11.460Z"
   },
   {
    "duration": 352,
    "start_time": "2022-11-09T13:23:11.493Z"
   },
   {
    "duration": 34,
    "start_time": "2022-11-09T13:23:11.847Z"
   },
   {
    "duration": 640,
    "start_time": "2022-11-09T13:23:11.883Z"
   },
   {
    "duration": 40,
    "start_time": "2022-11-09T13:23:12.525Z"
   },
   {
    "duration": 570,
    "start_time": "2022-11-09T13:23:12.573Z"
   },
   {
    "duration": 40,
    "start_time": "2022-11-09T13:23:13.145Z"
   },
   {
    "duration": 278,
    "start_time": "2022-11-09T13:23:13.187Z"
   },
   {
    "duration": 30,
    "start_time": "2022-11-09T13:23:13.467Z"
   },
   {
    "duration": 567,
    "start_time": "2022-11-09T13:23:13.500Z"
   },
   {
    "duration": 166,
    "start_time": "2022-11-09T13:23:14.071Z"
   },
   {
    "duration": 38,
    "start_time": "2022-11-09T13:23:14.239Z"
   },
   {
    "duration": 645,
    "start_time": "2022-11-09T13:23:14.279Z"
   },
   {
    "duration": 313,
    "start_time": "2022-11-09T13:23:14.926Z"
   },
   {
    "duration": 18,
    "start_time": "2022-11-09T13:23:15.242Z"
   },
   {
    "duration": 24,
    "start_time": "2022-11-09T13:23:15.273Z"
   },
   {
    "duration": 681,
    "start_time": "2022-11-09T13:23:15.299Z"
   },
   {
    "duration": 14,
    "start_time": "2022-11-09T13:23:15.983Z"
   },
   {
    "duration": 28,
    "start_time": "2022-11-09T13:23:15.999Z"
   },
   {
    "duration": 24,
    "start_time": "2022-11-09T13:23:16.029Z"
   },
   {
    "duration": 20,
    "start_time": "2022-11-09T13:23:16.055Z"
   },
   {
    "duration": 21,
    "start_time": "2022-11-09T13:23:16.078Z"
   },
   {
    "duration": 12,
    "start_time": "2022-11-09T13:23:16.100Z"
   }
  ],
  "kernelspec": {
   "display_name": "Python 3 (ipykernel)",
   "language": "python",
   "name": "python3"
  },
  "language_info": {
   "codemirror_mode": {
    "name": "ipython",
    "version": 3
   },
   "file_extension": ".py",
   "mimetype": "text/x-python",
   "name": "python",
   "nbconvert_exporter": "python",
   "pygments_lexer": "ipython3",
   "version": "3.9.5"
  },
  "toc": {
   "base_numbering": 1,
   "nav_menu": {},
   "number_sections": true,
   "sideBar": true,
   "skip_h1_title": true,
   "title_cell": "Table of Contents",
   "title_sidebar": "Contents",
   "toc_cell": false,
   "toc_position": {},
   "toc_section_display": true,
   "toc_window_display": true
  }
 },
 "nbformat": 4,
 "nbformat_minor": 2
}
